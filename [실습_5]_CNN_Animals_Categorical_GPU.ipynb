{
  "nbformat": 4,
  "nbformat_minor": 0,
  "metadata": {
    "colab": {
      "provenance": []
    },
    "kernelspec": {
      "name": "python3",
      "display_name": "Python 3"
    },
    "gpuClass": "standard",
    "accelerator": "GPU"
  },
  "cells": [
    {
      "cell_type": "markdown",
      "metadata": {
        "id": "q2Pr7oBdYLdf"
      },
      "source": [
        "# 이미지 데이터 셋을 이용한 CNN Modeling\n",
        "## Animals Dataset Categorical Classification\n",
        "* Train_Data : 5000\n",
        "* Valid_Data : 3000\n",
        "* Test_Data : 3000"
      ]
    },
    {
      "cell_type": "code",
      "metadata": {
        "id": "RbPgODpVzdHI"
      },
      "source": [
        "import warnings\n",
        "warnings.filterwarnings('ignore')"
      ],
      "execution_count": 1,
      "outputs": []
    },
    {
      "cell_type": "markdown",
      "source": [
        "* Import TensorFlow"
      ],
      "metadata": {
        "id": "kGLxnpmRyMwH"
      }
    },
    {
      "cell_type": "code",
      "source": [
        "import tensorflow as tf\n",
        "\n",
        "tf.__version__"
      ],
      "metadata": {
        "colab": {
          "base_uri": "https://localhost:8080/",
          "height": 35
        },
        "id": "axDX2DfUyPlO",
        "outputId": "506edd25-5c8a-400b-8f9b-c9c71c7036a7"
      },
      "execution_count": 2,
      "outputs": [
        {
          "output_type": "execute_result",
          "data": {
            "text/plain": [
              "'2.12.0'"
            ],
            "application/vnd.google.colaboratory.intrinsic+json": {
              "type": "string"
            }
          },
          "metadata": {},
          "execution_count": 2
        }
      ]
    },
    {
      "cell_type": "markdown",
      "metadata": {
        "id": "6d1FeKK1CgqG"
      },
      "source": [
        "# I. wget From Github"
      ]
    },
    {
      "cell_type": "markdown",
      "source": [
        "> ## 1) 'animals_part.zip' 파일 다운로드"
      ],
      "metadata": {
        "id": "aQ-o8xUHpG7-"
      }
    },
    {
      "cell_type": "code",
      "source": [
        "!wget https://raw.githubusercontent.com/rusita-ai/pyData/master/animals_part.z{ip,01,02}"
      ],
      "metadata": {
        "colab": {
          "base_uri": "https://localhost:8080/"
        },
        "id": "f32hYtuOh4F4",
        "outputId": "c90f4141-b360-4c18-d1ab-59bec5453e5e"
      },
      "execution_count": 3,
      "outputs": [
        {
          "output_type": "stream",
          "name": "stdout",
          "text": [
            "--2023-04-04 06:39:18--  https://raw.githubusercontent.com/rusita-ai/pyData/master/animals_part.zip\n",
            "Resolving raw.githubusercontent.com (raw.githubusercontent.com)... 185.199.108.133, 185.199.109.133, 185.199.110.133, ...\n",
            "Connecting to raw.githubusercontent.com (raw.githubusercontent.com)|185.199.108.133|:443... connected.\n",
            "HTTP request sent, awaiting response... 200 OK\n",
            "Length: 88551715 (84M) [application/zip]\n",
            "Saving to: ‘animals_part.zip’\n",
            "\n",
            "animals_part.zip    100%[===================>]  84.45M   193MB/s    in 0.4s    \n",
            "\n",
            "2023-04-04 06:39:19 (193 MB/s) - ‘animals_part.zip’ saved [88551715/88551715]\n",
            "\n",
            "--2023-04-04 06:39:19--  https://raw.githubusercontent.com/rusita-ai/pyData/master/animals_part.z01\n",
            "Reusing existing connection to raw.githubusercontent.com:443.\n",
            "HTTP request sent, awaiting response... 200 OK\n",
            "Length: 94371840 (90M) [application/octet-stream]\n",
            "Saving to: ‘animals_part.z01’\n",
            "\n",
            "animals_part.z01    100%[===================>]  90.00M   149MB/s    in 0.6s    \n",
            "\n",
            "2023-04-04 06:39:20 (149 MB/s) - ‘animals_part.z01’ saved [94371840/94371840]\n",
            "\n",
            "--2023-04-04 06:39:20--  https://raw.githubusercontent.com/rusita-ai/pyData/master/animals_part.z02\n",
            "Reusing existing connection to raw.githubusercontent.com:443.\n",
            "HTTP request sent, awaiting response... 200 OK\n",
            "Length: 94371840 (90M) [application/octet-stream]\n",
            "Saving to: ‘animals_part.z02’\n",
            "\n",
            "animals_part.z02    100%[===================>]  90.00M   172MB/s    in 0.5s    \n",
            "\n",
            "2023-04-04 06:39:21 (172 MB/s) - ‘animals_part.z02’ saved [94371840/94371840]\n",
            "\n",
            "FINISHED --2023-04-04 06:39:21--\n",
            "Total wall clock time: 3.5s\n",
            "Downloaded: 3 files, 264M in 1.6s (169 MB/s)\n"
          ]
        }
      ]
    },
    {
      "cell_type": "markdown",
      "metadata": {
        "id": "rBrMKlsgEvV7"
      },
      "source": [
        "* 다운로드 결과 확인"
      ]
    },
    {
      "cell_type": "code",
      "metadata": {
        "id": "ZAA_YjrVExu7",
        "colab": {
          "base_uri": "https://localhost:8080/"
        },
        "outputId": "e4fc35a6-18b8-467a-f561-a78f7f0eeac0"
      },
      "source": [
        "!ls -l"
      ],
      "execution_count": 4,
      "outputs": [
        {
          "output_type": "stream",
          "name": "stdout",
          "text": [
            "total 270804\n",
            "-rw-r--r-- 1 root root 94371840 Apr  4 06:39 animals_part.z01\n",
            "-rw-r--r-- 1 root root 94371840 Apr  4 06:39 animals_part.z02\n",
            "-rw-r--r-- 1 root root 88551715 Apr  4 06:39 animals_part.zip\n",
            "drwxr-xr-x 1 root root     4096 Mar 31 13:36 sample_data\n"
          ]
        }
      ]
    },
    {
      "cell_type": "markdown",
      "source": [
        "> ## 2) 분할된 파일 합치기"
      ],
      "metadata": {
        "id": "LpDYRNy9pS72"
      }
    },
    {
      "cell_type": "code",
      "source": [
        "!zip -Fq animals_part.zip --out animals.zip"
      ],
      "metadata": {
        "id": "oObuOlWgc8X7"
      },
      "execution_count": 5,
      "outputs": []
    },
    {
      "cell_type": "markdown",
      "source": [
        "* 'animals.zip' 생성 확인"
      ],
      "metadata": {
        "id": "2RJG0f3npnju"
      }
    },
    {
      "cell_type": "code",
      "source": [
        "!ls -l"
      ],
      "metadata": {
        "colab": {
          "base_uri": "https://localhost:8080/"
        },
        "id": "0QoV9boXpsL1",
        "outputId": "646ffe91-936c-4112-8f9e-2453af2dfe47"
      },
      "execution_count": 6,
      "outputs": [
        {
          "output_type": "stream",
          "name": "stdout",
          "text": [
            "total 541604\n",
            "-rw-r--r-- 1 root root  94371840 Apr  4 06:39 animals_part.z01\n",
            "-rw-r--r-- 1 root root  94371840 Apr  4 06:39 animals_part.z02\n",
            "-rw-r--r-- 1 root root  88551715 Apr  4 06:39 animals_part.zip\n",
            "-rw-r--r-- 1 root root 277295391 Apr  4 06:39 animals.zip\n",
            "drwxr-xr-x 1 root root      4096 Mar 31 13:36 sample_data\n"
          ]
        }
      ]
    },
    {
      "cell_type": "markdown",
      "metadata": {
        "id": "1DyFdyVxFyHK"
      },
      "source": [
        "# II. Data Preprocessing"
      ]
    },
    {
      "cell_type": "markdown",
      "metadata": {
        "id": "D9zdBsGKnLUo"
      },
      "source": [
        "> ## 1) Unzip 'animals.zip'"
      ]
    },
    {
      "cell_type": "code",
      "metadata": {
        "id": "WkuHaDXcnUtY"
      },
      "source": [
        "!unzip -q /content/animals.zip"
      ],
      "execution_count": 7,
      "outputs": []
    },
    {
      "cell_type": "markdown",
      "source": [
        "* 학습 데이터 확인"
      ],
      "metadata": {
        "id": "nYRGJ9bpp4pF"
      }
    },
    {
      "cell_type": "code",
      "source": [
        "!ls -l animals/"
      ],
      "metadata": {
        "colab": {
          "base_uri": "https://localhost:8080/"
        },
        "id": "FdQBGRJTp0MV",
        "outputId": "c41fe07f-7aa4-4aad-b986-c13ac154af65"
      },
      "execution_count": 8,
      "outputs": [
        {
          "output_type": "stream",
          "name": "stdout",
          "text": [
            "total 12\n",
            "drwxr-xr-x 12 root root 4096 Oct 25 13:50 test\n",
            "drwxr-xr-x 12 root root 4096 Oct 25 13:50 train\n",
            "drwxr-xr-x 12 root root 4096 Oct 25 13:50 validation\n"
          ]
        }
      ]
    },
    {
      "cell_type": "markdown",
      "metadata": {
        "id": "H49A769LYp-a"
      },
      "source": [
        "> ## 2) Image_File Directory Setting"
      ]
    },
    {
      "cell_type": "markdown",
      "metadata": {
        "id": "fwUMpMCYGB7Z"
      },
      "source": [
        "* train_dir\n",
        "* valid_dir\n",
        "* test_dir"
      ]
    },
    {
      "cell_type": "code",
      "metadata": {
        "id": "DxstjE8b_6Te"
      },
      "source": [
        "train_dir = 'animals/train'\n",
        "valid_dir = 'animals/validation'\n",
        "test_dir  = 'animals/test'"
      ],
      "execution_count": 9,
      "outputs": []
    },
    {
      "cell_type": "markdown",
      "metadata": {
        "id": "Mk9XL5vGHor6"
      },
      "source": [
        "> ## 3) ImageDataGenerator( ) & flow_from_directory( )"
      ]
    },
    {
      "cell_type": "code",
      "source": [
        "from tensorflow.keras.preprocessing.image import ImageDataGenerator\n",
        "\n",
        "train_datagen = ImageDataGenerator(rescale = 1. / 255 )\n",
        "valid_datagen = ImageDataGenerator(rescale = 1. / 255 )\n",
        "\n",
        "train_generator = train_datagen.flow_from_directory(\n",
        "                  train_dir,\n",
        "                  target_size = (150, 150),\n",
        "                  batch_size = 50,\n",
        "                  class_mode = 'categorical')\n",
        "\n",
        "valid_generator = valid_datagen.flow_from_directory(\n",
        "                  valid_dir,\n",
        "                  target_size = (150, 150),\n",
        "                  batch_size = 50,\n",
        "                  class_mode = 'categorical'\n",
        ")"
      ],
      "metadata": {
        "colab": {
          "base_uri": "https://localhost:8080/"
        },
        "id": "vsitVjaf_nei",
        "outputId": "e5ccc6a1-9f1d-43f1-dd02-fb82dbc78030"
      },
      "execution_count": 11,
      "outputs": [
        {
          "output_type": "stream",
          "name": "stdout",
          "text": [
            "Found 5000 images belonging to 10 classes.\n",
            "Found 3000 images belonging to 10 classes.\n"
          ]
        }
      ]
    },
    {
      "cell_type": "markdown",
      "metadata": {
        "id": "vCpCB_giJbZr"
      },
      "source": [
        "> ## 4) Test train_generator"
      ]
    },
    {
      "cell_type": "code",
      "source": [
        "for data_batch, labels_batch in train_generator:\n",
        "    print('배치 데이터 크기 : ',data_batch.shape)\n",
        "    print('배치 레이블 크기 : ',labels_batch.shape)\n",
        "    break"
      ],
      "metadata": {
        "colab": {
          "base_uri": "https://localhost:8080/"
        },
        "id": "jlAJ_HA6AcMj",
        "outputId": "4ff4935f-716d-46a2-a2a5-e4060bac4338"
      },
      "execution_count": 12,
      "outputs": [
        {
          "output_type": "stream",
          "name": "stdout",
          "text": [
            "배치 데이터 크기 :  (50, 150, 150, 3)\n",
            "배치 레이블 크기 :  (50, 10)\n"
          ]
        }
      ]
    },
    {
      "cell_type": "code",
      "source": [
        "labels_batch"
      ],
      "metadata": {
        "colab": {
          "base_uri": "https://localhost:8080/"
        },
        "id": "SGIH7MbsAuA6",
        "outputId": "20abb824-af3c-4530-8fa0-44f415ab66bf"
      },
      "execution_count": 13,
      "outputs": [
        {
          "output_type": "execute_result",
          "data": {
            "text/plain": [
              "array([[1., 0., 0., 0., 0., 0., 0., 0., 0., 0.],\n",
              "       [0., 0., 0., 0., 1., 0., 0., 0., 0., 0.],\n",
              "       [0., 0., 0., 0., 0., 0., 0., 1., 0., 0.],\n",
              "       [0., 0., 0., 1., 0., 0., 0., 0., 0., 0.],\n",
              "       [0., 1., 0., 0., 0., 0., 0., 0., 0., 0.],\n",
              "       [0., 0., 0., 0., 0., 0., 1., 0., 0., 0.],\n",
              "       [1., 0., 0., 0., 0., 0., 0., 0., 0., 0.],\n",
              "       [0., 0., 0., 0., 0., 0., 0., 1., 0., 0.],\n",
              "       [0., 0., 0., 1., 0., 0., 0., 0., 0., 0.],\n",
              "       [0., 1., 0., 0., 0., 0., 0., 0., 0., 0.],\n",
              "       [0., 0., 1., 0., 0., 0., 0., 0., 0., 0.],\n",
              "       [0., 0., 0., 0., 0., 0., 0., 0., 1., 0.],\n",
              "       [0., 0., 0., 0., 0., 0., 0., 0., 1., 0.],\n",
              "       [0., 0., 0., 1., 0., 0., 0., 0., 0., 0.],\n",
              "       [0., 0., 0., 0., 0., 0., 0., 0., 0., 1.],\n",
              "       [0., 0., 0., 0., 0., 0., 1., 0., 0., 0.],\n",
              "       [0., 0., 0., 0., 0., 0., 1., 0., 0., 0.],\n",
              "       [0., 1., 0., 0., 0., 0., 0., 0., 0., 0.],\n",
              "       [1., 0., 0., 0., 0., 0., 0., 0., 0., 0.],\n",
              "       [0., 0., 0., 0., 0., 1., 0., 0., 0., 0.],\n",
              "       [0., 0., 0., 0., 0., 0., 0., 0., 0., 1.],\n",
              "       [0., 0., 0., 0., 0., 1., 0., 0., 0., 0.],\n",
              "       [1., 0., 0., 0., 0., 0., 0., 0., 0., 0.],\n",
              "       [0., 0., 0., 0., 0., 1., 0., 0., 0., 0.],\n",
              "       [0., 0., 0., 0., 0., 0., 0., 0., 0., 1.],\n",
              "       [0., 0., 0., 0., 0., 0., 0., 0., 1., 0.],\n",
              "       [0., 0., 0., 0., 0., 0., 0., 1., 0., 0.],\n",
              "       [0., 0., 0., 0., 0., 1., 0., 0., 0., 0.],\n",
              "       [0., 0., 0., 0., 0., 0., 0., 1., 0., 0.],\n",
              "       [0., 0., 0., 0., 0., 1., 0., 0., 0., 0.],\n",
              "       [0., 0., 0., 0., 0., 0., 1., 0., 0., 0.],\n",
              "       [0., 0., 0., 0., 0., 1., 0., 0., 0., 0.],\n",
              "       [0., 0., 0., 0., 1., 0., 0., 0., 0., 0.],\n",
              "       [0., 0., 0., 1., 0., 0., 0., 0., 0., 0.],\n",
              "       [0., 0., 0., 0., 0., 0., 1., 0., 0., 0.],\n",
              "       [0., 0., 0., 0., 0., 0., 0., 1., 0., 0.],\n",
              "       [1., 0., 0., 0., 0., 0., 0., 0., 0., 0.],\n",
              "       [0., 0., 0., 0., 1., 0., 0., 0., 0., 0.],\n",
              "       [1., 0., 0., 0., 0., 0., 0., 0., 0., 0.],\n",
              "       [0., 0., 0., 0., 0., 0., 1., 0., 0., 0.],\n",
              "       [0., 0., 0., 0., 0., 0., 0., 1., 0., 0.],\n",
              "       [0., 0., 0., 0., 0., 1., 0., 0., 0., 0.],\n",
              "       [0., 0., 1., 0., 0., 0., 0., 0., 0., 0.],\n",
              "       [0., 0., 1., 0., 0., 0., 0., 0., 0., 0.],\n",
              "       [0., 0., 0., 0., 0., 1., 0., 0., 0., 0.],\n",
              "       [0., 0., 0., 0., 0., 0., 0., 0., 1., 0.],\n",
              "       [0., 0., 1., 0., 0., 0., 0., 0., 0., 0.],\n",
              "       [0., 0., 0., 1., 0., 0., 0., 0., 0., 0.],\n",
              "       [1., 0., 0., 0., 0., 0., 0., 0., 0., 0.],\n",
              "       [1., 0., 0., 0., 0., 0., 0., 0., 0., 0.]], dtype=float32)"
            ]
          },
          "metadata": {},
          "execution_count": 13
        }
      ]
    },
    {
      "cell_type": "markdown",
      "metadata": {
        "id": "NTwZiSjiop3v"
      },
      "source": [
        "# III. CNN Keras Modeling"
      ]
    },
    {
      "cell_type": "markdown",
      "metadata": {
        "id": "j5CT0TurJCkc"
      },
      "source": [
        "> ## 1) Model Define"
      ]
    },
    {
      "cell_type": "code",
      "source": [
        "from tensorflow.keras import models, layers\n",
        "\n",
        "model = models.Sequential()\n",
        "model.add(layers.Conv2D(64, (3, 3), activation = 'relu', input_shape = (150, 150, 3)))\n",
        "model.add(layers.MaxPooling2D((2, 2)))\n",
        "model.add(layers.Conv2D(128, (3, 3), activation = 'relu'))\n",
        "model.add(layers.MaxPooling2D((2, 2)))\n",
        "model.add(layers.Conv2D(256, (3, 3), activation = 'relu'))\n",
        "model.add(layers.MaxPooling2D((2, 2)))\n",
        "model.add(layers.Conv2D(256,(3, 3), activation = 'relu'))\n",
        "model.add(layers.MaxPooling2D((2, 2)))\n",
        "\n",
        "model.add(layers.Flatten())\n",
        "model.add(layers.Dense(512, activation = 'relu'))\n",
        "model.add(layers.Dense(512, activation = 'relu'))\n",
        "model.add(layers.Dense(10, activation = 'softmax'))"
      ],
      "metadata": {
        "id": "_pGu-buGA1R5"
      },
      "execution_count": 23,
      "outputs": []
    },
    {
      "cell_type": "code",
      "source": [
        "model.summary()"
      ],
      "metadata": {
        "colab": {
          "base_uri": "https://localhost:8080/"
        },
        "id": "lHOjmswqBwip",
        "outputId": "3d9f20e6-c1d2-4bef-e9de-77a9bd656a06"
      },
      "execution_count": 24,
      "outputs": [
        {
          "output_type": "stream",
          "name": "stdout",
          "text": [
            "Model: \"sequential_2\"\n",
            "_________________________________________________________________\n",
            " Layer (type)                Output Shape              Param #   \n",
            "=================================================================\n",
            " conv2d_8 (Conv2D)           (None, 148, 148, 64)      1792      \n",
            "                                                                 \n",
            " max_pooling2d_8 (MaxPooling  (None, 74, 74, 64)       0         \n",
            " 2D)                                                             \n",
            "                                                                 \n",
            " conv2d_9 (Conv2D)           (None, 72, 72, 128)       73856     \n",
            "                                                                 \n",
            " max_pooling2d_9 (MaxPooling  (None, 36, 36, 128)      0         \n",
            " 2D)                                                             \n",
            "                                                                 \n",
            " conv2d_10 (Conv2D)          (None, 34, 34, 256)       295168    \n",
            "                                                                 \n",
            " max_pooling2d_10 (MaxPoolin  (None, 17, 17, 256)      0         \n",
            " g2D)                                                            \n",
            "                                                                 \n",
            " conv2d_11 (Conv2D)          (None, 15, 15, 256)       590080    \n",
            "                                                                 \n",
            " max_pooling2d_11 (MaxPoolin  (None, 7, 7, 256)        0         \n",
            " g2D)                                                            \n",
            "                                                                 \n",
            " flatten_2 (Flatten)         (None, 12544)             0         \n",
            "                                                                 \n",
            " dense_6 (Dense)             (None, 512)               6423040   \n",
            "                                                                 \n",
            " dense_7 (Dense)             (None, 512)               262656    \n",
            "                                                                 \n",
            " dense_8 (Dense)             (None, 10)                5130      \n",
            "                                                                 \n",
            "=================================================================\n",
            "Total params: 7,651,722\n",
            "Trainable params: 7,651,722\n",
            "Non-trainable params: 0\n",
            "_________________________________________________________________\n"
          ]
        }
      ]
    },
    {
      "cell_type": "markdown",
      "metadata": {
        "id": "tpjBDBeYoyuj"
      },
      "source": [
        "> ## 2) Model Compile"
      ]
    },
    {
      "cell_type": "code",
      "source": [
        "model.compile(loss = 'categorical_crossentropy',\n",
        "              optimizer = 'adam',\n",
        "              metrics = ['accuracy'])"
      ],
      "metadata": {
        "id": "6uPDUt57B5nX"
      },
      "execution_count": 25,
      "outputs": []
    },
    {
      "cell_type": "markdown",
      "metadata": {
        "id": "umiq4B-Xo3OB"
      },
      "source": [
        "> ## 3) Model Fit"
      ]
    },
    {
      "cell_type": "code",
      "source": [
        "%%time\n",
        "\n",
        "Hist_Animal = model.fit(train_generator,\n",
        "                        steps_per_epoch = 100,\n",
        "                        epochs = 60,\n",
        "                        validation_data = valid_generator,\n",
        "                        validation_steps = 50)"
      ],
      "metadata": {
        "colab": {
          "base_uri": "https://localhost:8080/"
        },
        "id": "FvOd78BJCDdS",
        "outputId": "c26afdfc-e72e-4c23-9135-7b7893b70217"
      },
      "execution_count": 29,
      "outputs": [
        {
          "output_type": "stream",
          "name": "stdout",
          "text": [
            "Epoch 1/60\n",
            "100/100 [==============================] - 22s 216ms/step - loss: 2.0675 - accuracy: 0.2398 - val_loss: 2.0227 - val_accuracy: 0.2380\n",
            "Epoch 2/60\n",
            "100/100 [==============================] - 38s 385ms/step - loss: 1.9170 - accuracy: 0.2932 - val_loss: 2.0487 - val_accuracy: 0.2576\n",
            "Epoch 3/60\n",
            "100/100 [==============================] - 33s 330ms/step - loss: 1.7670 - accuracy: 0.3508 - val_loss: 1.8856 - val_accuracy: 0.3416\n",
            "Epoch 4/60\n",
            "100/100 [==============================] - 32s 316ms/step - loss: 1.5089 - accuracy: 0.4544 - val_loss: 1.6774 - val_accuracy: 0.4020\n",
            "Epoch 5/60\n",
            "100/100 [==============================] - 27s 272ms/step - loss: 1.2977 - accuracy: 0.5376 - val_loss: 1.5812 - val_accuracy: 0.4636\n",
            "Epoch 6/60\n",
            "100/100 [==============================] - 27s 270ms/step - loss: 1.0958 - accuracy: 0.6100 - val_loss: 1.5305 - val_accuracy: 0.4864\n",
            "Epoch 7/60\n",
            "100/100 [==============================] - 23s 226ms/step - loss: 0.9119 - accuracy: 0.6730 - val_loss: 1.7175 - val_accuracy: 0.4824\n",
            "Epoch 8/60\n",
            "100/100 [==============================] - 27s 273ms/step - loss: 0.7098 - accuracy: 0.7510 - val_loss: 1.9728 - val_accuracy: 0.4784\n",
            "Epoch 9/60\n",
            "100/100 [==============================] - 23s 226ms/step - loss: 0.5506 - accuracy: 0.8102 - val_loss: 2.2544 - val_accuracy: 0.4568\n",
            "Epoch 10/60\n",
            "100/100 [==============================] - 27s 271ms/step - loss: 0.3687 - accuracy: 0.8760 - val_loss: 2.3366 - val_accuracy: 0.4844\n",
            "Epoch 11/60\n",
            "100/100 [==============================] - 22s 219ms/step - loss: 0.2438 - accuracy: 0.9182 - val_loss: 2.8424 - val_accuracy: 0.4848\n",
            "Epoch 12/60\n",
            "100/100 [==============================] - 27s 267ms/step - loss: 0.1263 - accuracy: 0.9584 - val_loss: 3.3519 - val_accuracy: 0.4736\n",
            "Epoch 13/60\n",
            "100/100 [==============================] - 27s 271ms/step - loss: 0.1512 - accuracy: 0.9562 - val_loss: 3.5103 - val_accuracy: 0.4668\n",
            "Epoch 14/60\n",
            "100/100 [==============================] - 22s 221ms/step - loss: 0.1075 - accuracy: 0.9636 - val_loss: 3.7849 - val_accuracy: 0.4732\n",
            "Epoch 15/60\n",
            "100/100 [==============================] - 22s 220ms/step - loss: 0.0999 - accuracy: 0.9688 - val_loss: 3.7884 - val_accuracy: 0.4836\n",
            "Epoch 16/60\n",
            "100/100 [==============================] - 26s 264ms/step - loss: 0.0718 - accuracy: 0.9754 - val_loss: 3.9252 - val_accuracy: 0.4728\n",
            "Epoch 17/60\n",
            "100/100 [==============================] - 26s 265ms/step - loss: 0.0563 - accuracy: 0.9842 - val_loss: 4.2427 - val_accuracy: 0.4924\n",
            "Epoch 18/60\n",
            "100/100 [==============================] - 27s 265ms/step - loss: 0.0753 - accuracy: 0.9780 - val_loss: 3.7403 - val_accuracy: 0.4908\n",
            "Epoch 19/60\n",
            "100/100 [==============================] - 22s 219ms/step - loss: 0.0291 - accuracy: 0.9922 - val_loss: 4.8582 - val_accuracy: 0.4888\n",
            "Epoch 20/60\n",
            "100/100 [==============================] - 26s 265ms/step - loss: 0.0789 - accuracy: 0.9756 - val_loss: 4.5135 - val_accuracy: 0.4616\n",
            "Epoch 21/60\n",
            "100/100 [==============================] - 27s 271ms/step - loss: 0.1116 - accuracy: 0.9668 - val_loss: 4.2530 - val_accuracy: 0.4868\n",
            "Epoch 22/60\n",
            "100/100 [==============================] - 22s 219ms/step - loss: 0.0871 - accuracy: 0.9724 - val_loss: 4.3337 - val_accuracy: 0.4520\n",
            "Epoch 23/60\n",
            "100/100 [==============================] - 27s 267ms/step - loss: 0.0442 - accuracy: 0.9872 - val_loss: 5.0216 - val_accuracy: 0.4608\n",
            "Epoch 24/60\n",
            "100/100 [==============================] - 27s 269ms/step - loss: 0.0193 - accuracy: 0.9944 - val_loss: 5.1332 - val_accuracy: 0.4656\n",
            "Epoch 25/60\n",
            "100/100 [==============================] - 22s 223ms/step - loss: 0.0096 - accuracy: 0.9976 - val_loss: 5.0458 - val_accuracy: 0.4800\n",
            "Epoch 26/60\n",
            "100/100 [==============================] - 22s 219ms/step - loss: 0.0161 - accuracy: 0.9958 - val_loss: 4.7909 - val_accuracy: 0.4784\n",
            "Epoch 27/60\n",
            "100/100 [==============================] - 26s 263ms/step - loss: 0.1268 - accuracy: 0.9632 - val_loss: 4.1095 - val_accuracy: 0.4412\n",
            "Epoch 28/60\n",
            "100/100 [==============================] - 22s 216ms/step - loss: 0.1023 - accuracy: 0.9704 - val_loss: 4.0739 - val_accuracy: 0.4732\n",
            "Epoch 29/60\n",
            "100/100 [==============================] - 21s 213ms/step - loss: 0.0581 - accuracy: 0.9844 - val_loss: 4.0682 - val_accuracy: 0.4856\n",
            "Epoch 30/60\n",
            "100/100 [==============================] - 23s 228ms/step - loss: 0.0118 - accuracy: 0.9960 - val_loss: 5.0106 - val_accuracy: 0.4580\n",
            "Epoch 31/60\n",
            "100/100 [==============================] - 22s 221ms/step - loss: 0.0383 - accuracy: 0.9882 - val_loss: 4.7624 - val_accuracy: 0.4780\n",
            "Epoch 32/60\n",
            "100/100 [==============================] - 26s 264ms/step - loss: 0.0180 - accuracy: 0.9946 - val_loss: 5.1625 - val_accuracy: 0.4748\n",
            "Epoch 33/60\n",
            "100/100 [==============================] - 22s 223ms/step - loss: 0.0172 - accuracy: 0.9944 - val_loss: 5.2250 - val_accuracy: 0.4788\n",
            "Epoch 34/60\n",
            "100/100 [==============================] - 22s 221ms/step - loss: 0.0172 - accuracy: 0.9960 - val_loss: 5.5969 - val_accuracy: 0.4432\n",
            "Epoch 35/60\n",
            "100/100 [==============================] - 21s 210ms/step - loss: 0.0312 - accuracy: 0.9912 - val_loss: 5.6073 - val_accuracy: 0.4680\n",
            "Epoch 36/60\n",
            "100/100 [==============================] - 22s 218ms/step - loss: 0.0524 - accuracy: 0.9842 - val_loss: 5.3238 - val_accuracy: 0.4472\n",
            "Epoch 37/60\n",
            "100/100 [==============================] - 27s 265ms/step - loss: 0.0462 - accuracy: 0.9854 - val_loss: 5.1549 - val_accuracy: 0.4668\n",
            "Epoch 38/60\n",
            "100/100 [==============================] - 26s 265ms/step - loss: 0.1230 - accuracy: 0.9676 - val_loss: 4.9361 - val_accuracy: 0.4608\n",
            "Epoch 39/60\n",
            "100/100 [==============================] - 22s 219ms/step - loss: 0.0313 - accuracy: 0.9918 - val_loss: 4.8092 - val_accuracy: 0.4776\n",
            "Epoch 40/60\n",
            "100/100 [==============================] - 22s 222ms/step - loss: 0.0042 - accuracy: 0.9992 - val_loss: 5.1574 - val_accuracy: 0.4712\n",
            "Epoch 41/60\n",
            "100/100 [==============================] - 22s 218ms/step - loss: 6.8009e-04 - accuracy: 1.0000 - val_loss: 5.2807 - val_accuracy: 0.4824\n",
            "Epoch 42/60\n",
            "100/100 [==============================] - 27s 266ms/step - loss: 1.5343e-04 - accuracy: 1.0000 - val_loss: 5.3165 - val_accuracy: 0.4808\n",
            "Epoch 43/60\n",
            "100/100 [==============================] - 26s 264ms/step - loss: 1.0537e-04 - accuracy: 1.0000 - val_loss: 5.3520 - val_accuracy: 0.4820\n",
            "Epoch 44/60\n",
            "100/100 [==============================] - 22s 222ms/step - loss: 8.5198e-05 - accuracy: 1.0000 - val_loss: 5.5027 - val_accuracy: 0.4836\n",
            "Epoch 45/60\n",
            "100/100 [==============================] - 26s 264ms/step - loss: 7.1981e-05 - accuracy: 1.0000 - val_loss: 5.4229 - val_accuracy: 0.4792\n",
            "Epoch 46/60\n",
            "100/100 [==============================] - 26s 265ms/step - loss: 6.2060e-05 - accuracy: 1.0000 - val_loss: 5.4930 - val_accuracy: 0.4820\n",
            "Epoch 47/60\n",
            "100/100 [==============================] - 26s 263ms/step - loss: 5.4322e-05 - accuracy: 1.0000 - val_loss: 5.5209 - val_accuracy: 0.4848\n",
            "Epoch 48/60\n",
            "100/100 [==============================] - 22s 216ms/step - loss: 4.7914e-05 - accuracy: 1.0000 - val_loss: 5.5183 - val_accuracy: 0.4824\n",
            "Epoch 49/60\n",
            "100/100 [==============================] - 21s 212ms/step - loss: 4.2405e-05 - accuracy: 1.0000 - val_loss: 5.5598 - val_accuracy: 0.4852\n",
            "Epoch 50/60\n",
            "100/100 [==============================] - 22s 217ms/step - loss: 3.7722e-05 - accuracy: 1.0000 - val_loss: 5.6514 - val_accuracy: 0.4780\n",
            "Epoch 51/60\n",
            "100/100 [==============================] - 21s 213ms/step - loss: 3.3762e-05 - accuracy: 1.0000 - val_loss: 5.6829 - val_accuracy: 0.4756\n",
            "Epoch 52/60\n",
            "100/100 [==============================] - 22s 217ms/step - loss: 3.0279e-05 - accuracy: 1.0000 - val_loss: 5.7995 - val_accuracy: 0.4764\n",
            "Epoch 53/60\n",
            "100/100 [==============================] - 22s 222ms/step - loss: 2.7163e-05 - accuracy: 1.0000 - val_loss: 5.8729 - val_accuracy: 0.4760\n",
            "Epoch 54/60\n",
            "100/100 [==============================] - 21s 210ms/step - loss: 2.4383e-05 - accuracy: 1.0000 - val_loss: 5.7831 - val_accuracy: 0.4808\n",
            "Epoch 55/60\n",
            "100/100 [==============================] - 22s 217ms/step - loss: 2.1865e-05 - accuracy: 1.0000 - val_loss: 5.8902 - val_accuracy: 0.4804\n",
            "Epoch 56/60\n",
            "100/100 [==============================] - 22s 216ms/step - loss: 1.9378e-05 - accuracy: 1.0000 - val_loss: 5.8688 - val_accuracy: 0.4828\n",
            "Epoch 57/60\n",
            "100/100 [==============================] - 22s 219ms/step - loss: 1.7246e-05 - accuracy: 1.0000 - val_loss: 5.8924 - val_accuracy: 0.4820\n",
            "Epoch 58/60\n",
            "100/100 [==============================] - 26s 265ms/step - loss: 1.5263e-05 - accuracy: 1.0000 - val_loss: 6.0614 - val_accuracy: 0.4792\n",
            "Epoch 59/60\n",
            "100/100 [==============================] - 27s 266ms/step - loss: 1.3409e-05 - accuracy: 1.0000 - val_loss: 6.2612 - val_accuracy: 0.4708\n",
            "Epoch 60/60\n",
            "100/100 [==============================] - 22s 221ms/step - loss: 1.1223e-05 - accuracy: 1.0000 - val_loss: 6.2853 - val_accuracy: 0.4792\n",
            "CPU times: user 25min 56s, sys: 40.4 s, total: 26min 37s\n",
            "Wall time: 27min 40s\n"
          ]
        }
      ]
    },
    {
      "cell_type": "markdown",
      "metadata": {
        "id": "FnnIyFtNKhbD"
      },
      "source": [
        "> ## 4) 학습 결과 시각화"
      ]
    },
    {
      "cell_type": "code",
      "source": [
        "import matplotlib.pyplot as plt\n",
        "\n",
        "epochs = range(1, len(Hist_Animal.history['loss']) + 1)\n",
        "\n",
        "plt.figure(figsize = (15, 5))\n",
        "\n",
        "plt.subplot(1, 2, 1)\n",
        "plt.plot(epochs, Hist_Animal.history['loss'], 'b-')\n",
        "plt.plot(epochs, Hist_Animal.history['val_loss'], 'r--')\n",
        "plt.title('Training & Validation Loss')\n",
        "plt.xlabel('Epochs')\n",
        "plt.ylabel('Loss')\n",
        "plt.legend(['Training Loss', 'Validation Loss'])\n",
        "plt.grid()\n",
        "\n",
        "plt.subplot(1, 2, 2)\n",
        "plt.plot(epochs, Hist_Animal.history['accuracy'], 'b-')\n",
        "plt.plot(epochs, Hist_Animal.history['val_accuracy'], 'r--')\n",
        "plt.title('Training & Validation Accuracy')\n",
        "plt.xlabel('Epochs')\n",
        "plt.ylabel('Accuracy')\n",
        "plt.legend(['Training Accuracy', 'Validation Accuracy'])\n",
        "plt.grid()\n",
        "\n",
        "plt.show()"
      ],
      "metadata": {
        "colab": {
          "base_uri": "https://localhost:8080/",
          "height": 487
        },
        "id": "lhy0YgCZDaFe",
        "outputId": "f96d2c0d-d7fe-4bec-9017-c216d5cc61c3"
      },
      "execution_count": 30,
      "outputs": [
        {
          "output_type": "display_data",
          "data": {
            "text/plain": [
              "<Figure size 1500x500 with 2 Axes>"
            ],
            "image/png": "[encoded data removed]"
          },
          "metadata": {}
        }
      ]
    },
    {
      "cell_type": "markdown",
      "metadata": {
        "id": "_uJSOLBko7lh"
      },
      "source": [
        "> ## 5) Model Evaluate"
      ]
    },
    {
      "cell_type": "code",
      "source": [
        "test_datagen = ImageDataGenerator(rescale = 1. / 255)\n",
        "\n",
        "test_generator = test_datagen.flow_from_directory(\n",
        "                 test_dir,\n",
        "                 target_size = (150, 150),\n",
        "                 batch_size = 50,\n",
        "                 class_mode = 'categorical')"
      ],
      "metadata": {
        "colab": {
          "base_uri": "https://localhost:8080/"
        },
        "id": "th7l1HseDf8A",
        "outputId": "8edc7257-b515-4bc2-8b94-c1bc87d091d8"
      },
      "execution_count": 34,
      "outputs": [
        {
          "output_type": "stream",
          "name": "stdout",
          "text": [
            "Found 3000 images belonging to 10 classes.\n"
          ]
        }
      ]
    },
    {
      "cell_type": "code",
      "source": [
        "loss, accuracy = model.evaluate(test_generator,\n",
        "                                steps = 50, \n",
        "                                verbose = 0)\n",
        "\n",
        "print('Loss = {:.5f}'.format(loss))\n",
        "print('Accuracy = {:.5f}'.format(accuracy))"
      ],
      "metadata": {
        "colab": {
          "base_uri": "https://localhost:8080/"
        },
        "id": "w6IJtjU0DyzM",
        "outputId": "d787dc20-1029-494a-9817-b13806040999"
      },
      "execution_count": 35,
      "outputs": [
        {
          "output_type": "stream",
          "name": "stdout",
          "text": [
            "Loss = 6.11661\n",
            "Accuracy = 0.47920\n"
          ]
        }
      ]
    },
    {
      "cell_type": "markdown",
      "metadata": {
        "id": "sN48I9GrLxOX"
      },
      "source": [
        "# \n",
        "# \n",
        "# \n",
        "# The End\n",
        "# \n",
        "# \n",
        "# "
      ]
    }
  ]
}