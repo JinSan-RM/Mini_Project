{
  "nbformat": 4,
  "nbformat_minor": 0,
  "metadata": {
    "colab": {
      "provenance": []
    },
    "kernelspec": {
      "name": "python3",
      "display_name": "Python 3"
    },
    "language_info": {
      "name": "python"
    },
    "accelerator": "GPU",
    "gpuClass": "standard"
  },
  "cells": [
    {
      "cell_type": "markdown",
      "source": [
        "# MNIST - Categorical Classification\n",
        "\n",
        "> # Convolutional Neural Network"
      ],
      "metadata": {
        "id": "4t3_bkTP9421"
      }
    },
    {
      "cell_type": "code",
      "source": [
        "import warnings\n",
        "warnings.filterwarnings('ignore')"
      ],
      "metadata": {
        "id": "mkiBMPCI94gS"
      },
      "execution_count": 1,
      "outputs": []
    },
    {
      "cell_type": "markdown",
      "source": [
        "- import Tensorflow"
      ],
      "metadata": {
        "id": "tGWMLwNR-AVC"
      }
    },
    {
      "cell_type": "code",
      "execution_count": 2,
      "metadata": {
        "colab": {
          "base_uri": "https://localhost:8080/",
          "height": 35
        },
        "id": "HL_vZJCE9Yzu",
        "outputId": "f8d87820-49a1-4f45-c844-651be02aca78"
      },
      "outputs": [
        {
          "output_type": "execute_result",
          "data": {
            "text/plain": [
              "'2.12.0'"
            ],
            "application/vnd.google.colaboratory.intrinsic+json": {
              "type": "string"
            }
          },
          "metadata": {},
          "execution_count": 2
        }
      ],
      "source": [
        "import tensorflow\n",
        "\n",
        "tensorflow.__version__"
      ]
    },
    {
      "cell_type": "markdown",
      "source": [
        "# I. MNIST Data_Set Load"
      ],
      "metadata": {
        "id": "XGl24lxi-EdJ"
      }
    },
    {
      "cell_type": "code",
      "source": [
        "from tensorflow.keras.datasets import mnist\n",
        "\n",
        "(X_train, y_train), (X_test, y_test) = mnist.load_data()\n",
        "\n",
        "X_train.shape, X_test.shape, y_train.shape, y_train.shape"
      ],
      "metadata": {
        "colab": {
          "base_uri": "https://localhost:8080/"
        },
        "id": "_BjhOIn2-Do8",
        "outputId": "47fc38ca-a5a7-4397-e5fc-d6ff5906d458"
      },
      "execution_count": 3,
      "outputs": [
        {
          "output_type": "stream",
          "name": "stdout",
          "text": [
            "Downloading data from https://storage.googleapis.com/tensorflow/tf-keras-datasets/mnist.npz\n",
            "11490434/11490434 [==============================] - 2s 0us/step\n"
          ]
        },
        {
          "output_type": "execute_result",
          "data": {
            "text/plain": [
              "((60000, 28, 28), (10000, 28, 28), (60000,), (60000,))"
            ]
          },
          "metadata": {},
          "execution_count": 3
        }
      ]
    },
    {
      "cell_type": "markdown",
      "source": [
        "# II. Data Preprocessing\n",
        "\n",
        "> ## 1) Normalization\n",
        "\n",
        "- 범위: 0 ~ 1"
      ],
      "metadata": {
        "id": "ZaCVVzvw-RoR"
      }
    },
    {
      "cell_type": "code",
      "source": [
        "X_train = X_train.astype(float) / 255\n",
        "X_test = X_test.astype(float) / 255"
      ],
      "metadata": {
        "id": "0eSjWsdm-QLz"
      },
      "execution_count": 4,
      "outputs": []
    },
    {
      "cell_type": "markdown",
      "source": [
        "> ## 2) Reshape\n",
        "\n",
        " - (60000, 28, 28) to (60000, 28, 28, 1)"
      ],
      "metadata": {
        "id": "wH65YWm0-Z6v"
      }
    },
    {
      "cell_type": "code",
      "source": [
        "X_train = X_train.reshape((60000, 28, 28, 1))\n",
        "X_test = X_test.reshape((10000, 28, 28, 1))"
      ],
      "metadata": {
        "id": "OcFh2BT5-Yin"
      },
      "execution_count": 5,
      "outputs": []
    },
    {
      "cell_type": "markdown",
      "source": [
        "> ## 3) One Hot Encoding"
      ],
      "metadata": {
        "id": "GC4HfZWl-jOV"
      }
    },
    {
      "cell_type": "code",
      "source": [
        "from tensorflow.keras.utils import to_categorical\n",
        "\n",
        "y_train = to_categorical(y_train)\n",
        "y_test = to_categorical(y_test)"
      ],
      "metadata": {
        "id": "XP0W1mht-h8J"
      },
      "execution_count": 6,
      "outputs": []
    },
    {
      "cell_type": "markdown",
      "source": [
        "> ## 4) train_test_split()\n",
        "\n",
        "- Train(48,000) vs. Validation(12,000)"
      ],
      "metadata": {
        "id": "uGQqhMP--sXL"
      }
    },
    {
      "cell_type": "code",
      "source": [
        "from sklearn.model_selection import train_test_split\n",
        "\n",
        "X_train, X_valid, y_train, y_valid = train_test_split(X_train, y_train,\n",
        "                                                      test_size = 0.2,\n",
        "                                                      random_state = 2045)\n",
        "\n",
        "X_train.shape, X_valid.shape, y_train.shape, y_valid.shape"
      ],
      "metadata": {
        "colab": {
          "base_uri": "https://localhost:8080/"
        },
        "id": "GnZf94Aw-rGc",
        "outputId": "ba1e1bb6-eef1-4261-ee9e-e2f47fe5d20d"
      },
      "execution_count": 8,
      "outputs": [
        {
          "output_type": "execute_result",
          "data": {
            "text/plain": [
              "((48000, 28, 28, 1), (12000, 28, 28, 1), (48000, 10), (12000, 10))"
            ]
          },
          "metadata": {},
          "execution_count": 8
        }
      ]
    },
    {
      "cell_type": "markdown",
      "source": [
        "# III. MNIST Keras Modeling\n",
        "\n",
        "> ## 1) Model Define\n",
        "\n",
        "- Feature Extraction Layer"
      ],
      "metadata": {
        "id": "H1vGKawU_ENY"
      }
    },
    {
      "cell_type": "code",
      "source": [
        "from tensorflow.keras import models, layers\n",
        "\n",
        "model = models.Sequential()\n",
        "model.add(layers.Conv2D(filters = 32, kernel_size = (3, 3),\n",
        "                        strides = (1, 1), padding = 'valid',\n",
        "                        activation = 'relu', input_shape = (28, 28, 1)))\n",
        "model.add(layers.MaxPool2D(pool_size = (2, 2)))\n",
        "model.add(layers.Conv2D(filters = 32, kernel_size = (3, 3),\n",
        "                        strides = (1, 1), padding = 'valid',\n",
        "                        activation = 'relu'))\n",
        "model.add(layers.MaxPool2D(pool_size = (2, 2)))\n",
        "model.add(layers.Conv2D(filters = 32, kernel_size = (3, 3),\n",
        "                        strides = (1, 1), padding = 'valid',\n",
        "                        activation = 'relu'))"
      ],
      "metadata": {
        "id": "E1RVxsV8-_C4"
      },
      "execution_count": 12,
      "outputs": []
    },
    {
      "cell_type": "code",
      "source": [
        "model.summary()"
      ],
      "metadata": {
        "colab": {
          "base_uri": "https://localhost:8080/"
        },
        "id": "7zuu4Sr-_0ve",
        "outputId": "60675351-7007-42ab-9532-fe2e63336704"
      },
      "execution_count": 13,
      "outputs": [
        {
          "output_type": "stream",
          "name": "stdout",
          "text": [
            "Model: \"sequential_2\"\n",
            "_________________________________________________________________\n",
            " Layer (type)                Output Shape              Param #   \n",
            "=================================================================\n",
            " conv2d_1 (Conv2D)           (None, 26, 26, 32)        320       \n",
            "                                                                 \n",
            " max_pooling2d (MaxPooling2D  (None, 13, 13, 32)       0         \n",
            " )                                                               \n",
            "                                                                 \n",
            " conv2d_2 (Conv2D)           (None, 11, 11, 32)        9248      \n",
            "                                                                 \n",
            " max_pooling2d_1 (MaxPooling  (None, 5, 5, 32)         0         \n",
            " 2D)                                                             \n",
            "                                                                 \n",
            " conv2d_3 (Conv2D)           (None, 3, 3, 32)          9248      \n",
            "                                                                 \n",
            "=================================================================\n",
            "Total params: 18,816\n",
            "Trainable params: 18,816\n",
            "Non-trainable params: 0\n",
            "_________________________________________________________________\n"
          ]
        }
      ]
    },
    {
      "cell_type": "markdown",
      "source": [
        "- Classification Layer"
      ],
      "metadata": {
        "id": "5tIzlUWSAB8D"
      }
    },
    {
      "cell_type": "code",
      "source": [
        "model.add(layers.Flatten())\n",
        "model.add(layers.Dropout(0.5))\n",
        "model.add(layers.Dense(units=64, activation = 'relu'))\n",
        "model.add(layers.Dense(units=10, activation = 'softmax'))"
      ],
      "metadata": {
        "id": "4H1LYChY_1k6"
      },
      "execution_count": 14,
      "outputs": []
    },
    {
      "cell_type": "code",
      "source": [
        "model.summary()"
      ],
      "metadata": {
        "colab": {
          "base_uri": "https://localhost:8080/"
        },
        "id": "XVfdue7IAO87",
        "outputId": "413946bb-1c45-4ccb-f158-52e61981f06b"
      },
      "execution_count": 15,
      "outputs": [
        {
          "output_type": "stream",
          "name": "stdout",
          "text": [
            "Model: \"sequential_2\"\n",
            "_________________________________________________________________\n",
            " Layer (type)                Output Shape              Param #   \n",
            "=================================================================\n",
            " conv2d_1 (Conv2D)           (None, 26, 26, 32)        320       \n",
            "                                                                 \n",
            " max_pooling2d (MaxPooling2D  (None, 13, 13, 32)       0         \n",
            " )                                                               \n",
            "                                                                 \n",
            " conv2d_2 (Conv2D)           (None, 11, 11, 32)        9248      \n",
            "                                                                 \n",
            " max_pooling2d_1 (MaxPooling  (None, 5, 5, 32)         0         \n",
            " 2D)                                                             \n",
            "                                                                 \n",
            " conv2d_3 (Conv2D)           (None, 3, 3, 32)          9248      \n",
            "                                                                 \n",
            " flatten (Flatten)           (None, 288)               0         \n",
            "                                                                 \n",
            " dropout (Dropout)           (None, 288)               0         \n",
            "                                                                 \n",
            " dense (Dense)               (None, 64)                18496     \n",
            "                                                                 \n",
            " dense_1 (Dense)             (None, 10)                650       \n",
            "                                                                 \n",
            "=================================================================\n",
            "Total params: 37,962\n",
            "Trainable params: 37,962\n",
            "Non-trainable params: 0\n",
            "_________________________________________________________________\n"
          ]
        }
      ]
    },
    {
      "cell_type": "markdown",
      "source": [
        "> ## 2) Model Compile\n",
        "\n",
        "- 모델 학습방법 설정"
      ],
      "metadata": {
        "id": "iplxZW_zAShD"
      }
    },
    {
      "cell_type": "code",
      "source": [
        "model.compile(loss = 'categorical_crossentropy',\n",
        "              optimizer = 'rmsprop',\n",
        "              metrics = ['accuracy'])"
      ],
      "metadata": {
        "id": "2Blw_a04AQwU"
      },
      "execution_count": 16,
      "outputs": []
    },
    {
      "cell_type": "markdown",
      "source": [
        "> ## 3) Model Fit\n",
        "\n",
        "- 약 5분"
      ],
      "metadata": {
        "id": "iD_iWkkNAa7P"
      }
    },
    {
      "cell_type": "code",
      "source": [
        "%%time\n",
        "\n",
        "Hist_mnist = model.fit(X_train, y_train,\n",
        "                       epochs = 100,\n",
        "                       batch_size = 128,\n",
        "                       validation_data = (X_valid, y_valid))"
      ],
      "metadata": {
        "colab": {
          "base_uri": "https://localhost:8080/"
        },
        "id": "ntdGyOmtAZx1",
        "outputId": "4deb9975-218a-4c15-d394-56f619fe90e1"
      },
      "execution_count": 17,
      "outputs": [
        {
          "output_type": "stream",
          "name": "stdout",
          "text": [
            "Epoch 1/100\n",
            "375/375 [==============================] - 14s 6ms/step - loss: 0.4638 - accuracy: 0.8522 - val_loss: 0.1230 - val_accuracy: 0.9645\n",
            "Epoch 2/100\n",
            "375/375 [==============================] - 3s 8ms/step - loss: 0.1412 - accuracy: 0.9554 - val_loss: 0.0781 - val_accuracy: 0.9766\n",
            "Epoch 3/100\n",
            "375/375 [==============================] - 2s 6ms/step - loss: 0.0976 - accuracy: 0.9694 - val_loss: 0.0604 - val_accuracy: 0.9825\n",
            "Epoch 4/100\n",
            "375/375 [==============================] - 2s 6ms/step - loss: 0.0837 - accuracy: 0.9739 - val_loss: 0.0565 - val_accuracy: 0.9834\n",
            "Epoch 5/100\n",
            "375/375 [==============================] - 3s 8ms/step - loss: 0.0701 - accuracy: 0.9784 - val_loss: 0.0549 - val_accuracy: 0.9845\n",
            "Epoch 6/100\n",
            "375/375 [==============================] - 3s 7ms/step - loss: 0.0652 - accuracy: 0.9795 - val_loss: 0.0458 - val_accuracy: 0.9867\n",
            "Epoch 7/100\n",
            "375/375 [==============================] - 3s 8ms/step - loss: 0.0601 - accuracy: 0.9814 - val_loss: 0.0438 - val_accuracy: 0.9868\n",
            "Epoch 8/100\n",
            "375/375 [==============================] - 3s 9ms/step - loss: 0.0533 - accuracy: 0.9833 - val_loss: 0.0399 - val_accuracy: 0.9887\n",
            "Epoch 9/100\n",
            "375/375 [==============================] - 3s 9ms/step - loss: 0.0476 - accuracy: 0.9846 - val_loss: 0.0401 - val_accuracy: 0.9879\n",
            "Epoch 10/100\n",
            "375/375 [==============================] - 2s 7ms/step - loss: 0.0473 - accuracy: 0.9852 - val_loss: 0.0431 - val_accuracy: 0.9883\n",
            "Epoch 11/100\n",
            "375/375 [==============================] - 2s 6ms/step - loss: 0.0444 - accuracy: 0.9859 - val_loss: 0.0441 - val_accuracy: 0.9887\n",
            "Epoch 12/100\n",
            "375/375 [==============================] - 3s 8ms/step - loss: 0.0414 - accuracy: 0.9872 - val_loss: 0.0399 - val_accuracy: 0.9893\n",
            "Epoch 13/100\n",
            "375/375 [==============================] - 4s 10ms/step - loss: 0.0379 - accuracy: 0.9881 - val_loss: 0.0382 - val_accuracy: 0.9901\n",
            "Epoch 14/100\n",
            "375/375 [==============================] - 4s 10ms/step - loss: 0.0357 - accuracy: 0.9881 - val_loss: 0.0391 - val_accuracy: 0.9903\n",
            "Epoch 15/100\n",
            "375/375 [==============================] - 3s 9ms/step - loss: 0.0341 - accuracy: 0.9886 - val_loss: 0.0374 - val_accuracy: 0.9898\n",
            "Epoch 16/100\n",
            "375/375 [==============================] - 3s 9ms/step - loss: 0.0350 - accuracy: 0.9890 - val_loss: 0.0447 - val_accuracy: 0.9885\n",
            "Epoch 17/100\n",
            "375/375 [==============================] - 4s 12ms/step - loss: 0.0340 - accuracy: 0.9890 - val_loss: 0.0402 - val_accuracy: 0.9895\n",
            "Epoch 18/100\n",
            "375/375 [==============================] - 4s 10ms/step - loss: 0.0324 - accuracy: 0.9894 - val_loss: 0.0422 - val_accuracy: 0.9898\n",
            "Epoch 19/100\n",
            "375/375 [==============================] - 3s 9ms/step - loss: 0.0288 - accuracy: 0.9903 - val_loss: 0.0411 - val_accuracy: 0.9901\n",
            "Epoch 20/100\n",
            "375/375 [==============================] - 4s 10ms/step - loss: 0.0297 - accuracy: 0.9903 - val_loss: 0.0483 - val_accuracy: 0.9875\n",
            "Epoch 21/100\n",
            "375/375 [==============================] - 3s 9ms/step - loss: 0.0295 - accuracy: 0.9900 - val_loss: 0.0416 - val_accuracy: 0.9903\n",
            "Epoch 22/100\n",
            "375/375 [==============================] - 3s 8ms/step - loss: 0.0295 - accuracy: 0.9911 - val_loss: 0.0355 - val_accuracy: 0.9901\n",
            "Epoch 23/100\n",
            "375/375 [==============================] - 4s 10ms/step - loss: 0.0264 - accuracy: 0.9919 - val_loss: 0.0382 - val_accuracy: 0.9904\n",
            "Epoch 24/100\n",
            "375/375 [==============================] - 4s 10ms/step - loss: 0.0263 - accuracy: 0.9917 - val_loss: 0.0369 - val_accuracy: 0.9908\n",
            "Epoch 25/100\n",
            "375/375 [==============================] - 3s 8ms/step - loss: 0.0257 - accuracy: 0.9920 - val_loss: 0.0351 - val_accuracy: 0.9907\n",
            "Epoch 26/100\n",
            "375/375 [==============================] - 3s 9ms/step - loss: 0.0243 - accuracy: 0.9925 - val_loss: 0.0429 - val_accuracy: 0.9898\n",
            "Epoch 27/100\n",
            "375/375 [==============================] - 3s 8ms/step - loss: 0.0241 - accuracy: 0.9923 - val_loss: 0.0348 - val_accuracy: 0.9910\n",
            "Epoch 28/100\n",
            "375/375 [==============================] - 4s 9ms/step - loss: 0.0226 - accuracy: 0.9925 - val_loss: 0.0404 - val_accuracy: 0.9902\n",
            "Epoch 29/100\n",
            "375/375 [==============================] - 3s 8ms/step - loss: 0.0241 - accuracy: 0.9924 - val_loss: 0.0365 - val_accuracy: 0.9911\n",
            "Epoch 30/100\n",
            "375/375 [==============================] - 3s 8ms/step - loss: 0.0240 - accuracy: 0.9918 - val_loss: 0.0377 - val_accuracy: 0.9906\n",
            "Epoch 31/100\n",
            "375/375 [==============================] - 3s 7ms/step - loss: 0.0209 - accuracy: 0.9929 - val_loss: 0.0379 - val_accuracy: 0.9908\n",
            "Epoch 32/100\n",
            "375/375 [==============================] - 3s 9ms/step - loss: 0.0221 - accuracy: 0.9930 - val_loss: 0.0427 - val_accuracy: 0.9901\n",
            "Epoch 33/100\n",
            "375/375 [==============================] - 3s 7ms/step - loss: 0.0226 - accuracy: 0.9926 - val_loss: 0.0503 - val_accuracy: 0.9887\n",
            "Epoch 34/100\n",
            "375/375 [==============================] - 3s 7ms/step - loss: 0.0204 - accuracy: 0.9933 - val_loss: 0.0386 - val_accuracy: 0.9910\n",
            "Epoch 35/100\n",
            "375/375 [==============================] - 3s 7ms/step - loss: 0.0211 - accuracy: 0.9930 - val_loss: 0.0411 - val_accuracy: 0.9911\n",
            "Epoch 36/100\n",
            "375/375 [==============================] - 3s 7ms/step - loss: 0.0202 - accuracy: 0.9933 - val_loss: 0.0433 - val_accuracy: 0.9908\n",
            "Epoch 37/100\n",
            "375/375 [==============================] - 3s 8ms/step - loss: 0.0211 - accuracy: 0.9931 - val_loss: 0.0438 - val_accuracy: 0.9902\n",
            "Epoch 38/100\n",
            "375/375 [==============================] - 2s 7ms/step - loss: 0.0185 - accuracy: 0.9937 - val_loss: 0.0388 - val_accuracy: 0.9910\n",
            "Epoch 39/100\n",
            "375/375 [==============================] - 2s 7ms/step - loss: 0.0184 - accuracy: 0.9937 - val_loss: 0.0437 - val_accuracy: 0.9907\n",
            "Epoch 40/100\n",
            "375/375 [==============================] - 3s 7ms/step - loss: 0.0202 - accuracy: 0.9933 - val_loss: 0.0360 - val_accuracy: 0.9907\n",
            "Epoch 41/100\n",
            "375/375 [==============================] - 3s 9ms/step - loss: 0.0190 - accuracy: 0.9939 - val_loss: 0.0417 - val_accuracy: 0.9906\n",
            "Epoch 42/100\n",
            "375/375 [==============================] - 3s 8ms/step - loss: 0.0193 - accuracy: 0.9936 - val_loss: 0.0381 - val_accuracy: 0.9910\n",
            "Epoch 43/100\n",
            "375/375 [==============================] - 3s 7ms/step - loss: 0.0190 - accuracy: 0.9940 - val_loss: 0.0436 - val_accuracy: 0.9908\n",
            "Epoch 44/100\n",
            "375/375 [==============================] - 3s 7ms/step - loss: 0.0195 - accuracy: 0.9937 - val_loss: 0.0362 - val_accuracy: 0.9916\n",
            "Epoch 45/100\n",
            "375/375 [==============================] - 2s 6ms/step - loss: 0.0171 - accuracy: 0.9950 - val_loss: 0.0444 - val_accuracy: 0.9900\n",
            "Epoch 46/100\n",
            "375/375 [==============================] - 5s 12ms/step - loss: 0.0177 - accuracy: 0.9938 - val_loss: 0.0385 - val_accuracy: 0.9910\n",
            "Epoch 47/100\n",
            "375/375 [==============================] - 4s 10ms/step - loss: 0.0168 - accuracy: 0.9942 - val_loss: 0.0451 - val_accuracy: 0.9902\n",
            "Epoch 48/100\n",
            "375/375 [==============================] - 3s 9ms/step - loss: 0.0158 - accuracy: 0.9948 - val_loss: 0.0460 - val_accuracy: 0.9908\n",
            "Epoch 49/100\n",
            "375/375 [==============================] - 3s 8ms/step - loss: 0.0171 - accuracy: 0.9946 - val_loss: 0.0521 - val_accuracy: 0.9896\n",
            "Epoch 50/100\n",
            "375/375 [==============================] - 3s 8ms/step - loss: 0.0177 - accuracy: 0.9938 - val_loss: 0.0443 - val_accuracy: 0.9907\n",
            "Epoch 51/100\n",
            "375/375 [==============================] - 2s 6ms/step - loss: 0.0179 - accuracy: 0.9946 - val_loss: 0.0475 - val_accuracy: 0.9909\n",
            "Epoch 52/100\n",
            "375/375 [==============================] - 2s 6ms/step - loss: 0.0156 - accuracy: 0.9950 - val_loss: 0.0388 - val_accuracy: 0.9908\n",
            "Epoch 53/100\n",
            "375/375 [==============================] - 3s 7ms/step - loss: 0.0163 - accuracy: 0.9946 - val_loss: 0.0470 - val_accuracy: 0.9910\n",
            "Epoch 54/100\n",
            "375/375 [==============================] - 3s 9ms/step - loss: 0.0169 - accuracy: 0.9949 - val_loss: 0.0402 - val_accuracy: 0.9914\n",
            "Epoch 55/100\n",
            "375/375 [==============================] - 4s 10ms/step - loss: 0.0148 - accuracy: 0.9950 - val_loss: 0.0438 - val_accuracy: 0.9912\n",
            "Epoch 56/100\n",
            "375/375 [==============================] - 3s 8ms/step - loss: 0.0173 - accuracy: 0.9943 - val_loss: 0.0419 - val_accuracy: 0.9921\n",
            "Epoch 57/100\n",
            "375/375 [==============================] - 3s 7ms/step - loss: 0.0165 - accuracy: 0.9946 - val_loss: 0.0436 - val_accuracy: 0.9907\n",
            "Epoch 58/100\n",
            "375/375 [==============================] - 3s 8ms/step - loss: 0.0167 - accuracy: 0.9944 - val_loss: 0.0463 - val_accuracy: 0.9888\n",
            "Epoch 59/100\n",
            "375/375 [==============================] - 3s 7ms/step - loss: 0.0162 - accuracy: 0.9948 - val_loss: 0.0491 - val_accuracy: 0.9907\n",
            "Epoch 60/100\n",
            "375/375 [==============================] - 2s 7ms/step - loss: 0.0150 - accuracy: 0.9950 - val_loss: 0.0454 - val_accuracy: 0.9913\n",
            "Epoch 61/100\n",
            "375/375 [==============================] - 3s 7ms/step - loss: 0.0145 - accuracy: 0.9952 - val_loss: 0.0393 - val_accuracy: 0.9915\n",
            "Epoch 62/100\n",
            "375/375 [==============================] - 3s 7ms/step - loss: 0.0146 - accuracy: 0.9952 - val_loss: 0.0410 - val_accuracy: 0.9919\n",
            "Epoch 63/100\n",
            "375/375 [==============================] - 3s 8ms/step - loss: 0.0153 - accuracy: 0.9949 - val_loss: 0.0438 - val_accuracy: 0.9912\n",
            "Epoch 64/100\n",
            "375/375 [==============================] - 2s 7ms/step - loss: 0.0152 - accuracy: 0.9950 - val_loss: 0.0460 - val_accuracy: 0.9912\n",
            "Epoch 65/100\n",
            "375/375 [==============================] - 2s 6ms/step - loss: 0.0150 - accuracy: 0.9949 - val_loss: 0.0458 - val_accuracy: 0.9910\n",
            "Epoch 66/100\n",
            "375/375 [==============================] - 2s 6ms/step - loss: 0.0153 - accuracy: 0.9948 - val_loss: 0.0474 - val_accuracy: 0.9914\n",
            "Epoch 67/100\n",
            "375/375 [==============================] - 2s 6ms/step - loss: 0.0149 - accuracy: 0.9954 - val_loss: 0.0428 - val_accuracy: 0.9907\n",
            "Epoch 68/100\n",
            "375/375 [==============================] - 3s 8ms/step - loss: 0.0155 - accuracy: 0.9948 - val_loss: 0.0508 - val_accuracy: 0.9905\n",
            "Epoch 69/100\n",
            "375/375 [==============================] - 2s 6ms/step - loss: 0.0149 - accuracy: 0.9954 - val_loss: 0.0450 - val_accuracy: 0.9915\n",
            "Epoch 70/100\n",
            "375/375 [==============================] - 2s 6ms/step - loss: 0.0143 - accuracy: 0.9951 - val_loss: 0.0515 - val_accuracy: 0.9914\n",
            "Epoch 71/100\n",
            "375/375 [==============================] - 2s 6ms/step - loss: 0.0166 - accuracy: 0.9948 - val_loss: 0.0369 - val_accuracy: 0.9915\n",
            "Epoch 72/100\n",
            "375/375 [==============================] - 2s 6ms/step - loss: 0.0148 - accuracy: 0.9950 - val_loss: 0.0530 - val_accuracy: 0.9902\n",
            "Epoch 73/100\n",
            "375/375 [==============================] - 4s 9ms/step - loss: 0.0146 - accuracy: 0.9957 - val_loss: 0.0420 - val_accuracy: 0.9908\n",
            "Epoch 74/100\n",
            "375/375 [==============================] - 3s 7ms/step - loss: 0.0153 - accuracy: 0.9950 - val_loss: 0.0457 - val_accuracy: 0.9904\n",
            "Epoch 75/100\n",
            "375/375 [==============================] - 2s 6ms/step - loss: 0.0155 - accuracy: 0.9952 - val_loss: 0.0418 - val_accuracy: 0.9914\n",
            "Epoch 76/100\n",
            "375/375 [==============================] - 3s 7ms/step - loss: 0.0141 - accuracy: 0.9952 - val_loss: 0.0532 - val_accuracy: 0.9911\n",
            "Epoch 77/100\n",
            "375/375 [==============================] - 2s 6ms/step - loss: 0.0142 - accuracy: 0.9955 - val_loss: 0.0432 - val_accuracy: 0.9921\n",
            "Epoch 78/100\n",
            "375/375 [==============================] - 3s 9ms/step - loss: 0.0154 - accuracy: 0.9950 - val_loss: 0.0478 - val_accuracy: 0.9912\n",
            "Epoch 79/100\n",
            "375/375 [==============================] - 3s 7ms/step - loss: 0.0151 - accuracy: 0.9952 - val_loss: 0.0412 - val_accuracy: 0.9902\n",
            "Epoch 80/100\n",
            "375/375 [==============================] - 3s 9ms/step - loss: 0.0125 - accuracy: 0.9960 - val_loss: 0.0530 - val_accuracy: 0.9911\n",
            "Epoch 81/100\n",
            "375/375 [==============================] - 3s 9ms/step - loss: 0.0146 - accuracy: 0.9953 - val_loss: 0.0514 - val_accuracy: 0.9907\n",
            "Epoch 82/100\n",
            "375/375 [==============================] - 3s 7ms/step - loss: 0.0142 - accuracy: 0.9954 - val_loss: 0.0476 - val_accuracy: 0.9913\n",
            "Epoch 83/100\n",
            "375/375 [==============================] - 3s 8ms/step - loss: 0.0146 - accuracy: 0.9955 - val_loss: 0.0602 - val_accuracy: 0.9902\n",
            "Epoch 84/100\n",
            "375/375 [==============================] - 3s 7ms/step - loss: 0.0141 - accuracy: 0.9956 - val_loss: 0.0617 - val_accuracy: 0.9912\n",
            "Epoch 85/100\n",
            "375/375 [==============================] - 3s 9ms/step - loss: 0.0154 - accuracy: 0.9957 - val_loss: 0.0528 - val_accuracy: 0.9909\n",
            "Epoch 86/100\n",
            "375/375 [==============================] - 4s 10ms/step - loss: 0.0139 - accuracy: 0.9954 - val_loss: 0.0499 - val_accuracy: 0.9905\n",
            "Epoch 87/100\n",
            "375/375 [==============================] - 4s 10ms/step - loss: 0.0158 - accuracy: 0.9954 - val_loss: 0.0477 - val_accuracy: 0.9909\n",
            "Epoch 88/100\n",
            "375/375 [==============================] - 3s 9ms/step - loss: 0.0147 - accuracy: 0.9951 - val_loss: 0.0609 - val_accuracy: 0.9904\n",
            "Epoch 89/100\n",
            "375/375 [==============================] - 3s 8ms/step - loss: 0.0150 - accuracy: 0.9952 - val_loss: 0.0611 - val_accuracy: 0.9910\n",
            "Epoch 90/100\n",
            "375/375 [==============================] - 3s 9ms/step - loss: 0.0137 - accuracy: 0.9958 - val_loss: 0.0510 - val_accuracy: 0.9907\n",
            "Epoch 91/100\n",
            "375/375 [==============================] - 3s 7ms/step - loss: 0.0140 - accuracy: 0.9956 - val_loss: 0.0481 - val_accuracy: 0.9912\n",
            "Epoch 92/100\n",
            "375/375 [==============================] - 3s 9ms/step - loss: 0.0156 - accuracy: 0.9951 - val_loss: 0.0443 - val_accuracy: 0.9916\n",
            "Epoch 93/100\n",
            "375/375 [==============================] - 3s 8ms/step - loss: 0.0137 - accuracy: 0.9957 - val_loss: 0.0569 - val_accuracy: 0.9916\n",
            "Epoch 94/100\n",
            "375/375 [==============================] - 3s 8ms/step - loss: 0.0152 - accuracy: 0.9954 - val_loss: 0.0532 - val_accuracy: 0.9911\n",
            "Epoch 95/100\n",
            "375/375 [==============================] - 3s 7ms/step - loss: 0.0126 - accuracy: 0.9960 - val_loss: 0.0518 - val_accuracy: 0.9908\n",
            "Epoch 96/100\n",
            "375/375 [==============================] - 3s 9ms/step - loss: 0.0128 - accuracy: 0.9962 - val_loss: 0.0497 - val_accuracy: 0.9910\n",
            "Epoch 97/100\n",
            "375/375 [==============================] - 2s 6ms/step - loss: 0.0138 - accuracy: 0.9955 - val_loss: 0.0483 - val_accuracy: 0.9912\n",
            "Epoch 98/100\n",
            "375/375 [==============================] - 2s 6ms/step - loss: 0.0136 - accuracy: 0.9957 - val_loss: 0.0523 - val_accuracy: 0.9908\n",
            "Epoch 99/100\n",
            "375/375 [==============================] - 2s 6ms/step - loss: 0.0130 - accuracy: 0.9959 - val_loss: 0.0593 - val_accuracy: 0.9904\n",
            "Epoch 100/100\n",
            "375/375 [==============================] - 2s 6ms/step - loss: 0.0138 - accuracy: 0.9959 - val_loss: 0.0583 - val_accuracy: 0.9916\n",
            "CPU times: user 4min 3s, sys: 18.1 s, total: 4min 21s\n",
            "Wall time: 5min 4s\n"
          ]
        }
      ]
    },
    {
      "cell_type": "markdown",
      "source": [
        "> ## 4) 학습 결과 시각화"
      ],
      "metadata": {
        "id": "glMT6SKDAl0G"
      }
    },
    {
      "cell_type": "code",
      "source": [
        "import matplotlib.pyplot as plt\n",
        "\n",
        "epochs = range(1, len(Hist_mnist.history['loss']) + 1)\n",
        "\n",
        "plt.figure(figsize = (15, 5))\n",
        "\n",
        "plt.subplot(1, 2, 1)\n",
        "plt.plot(epochs, Hist_mnist.history['loss'], 'b-')\n",
        "plt.plot(epochs, Hist_mnist.history['val_loss'], 'r--')\n",
        "plt.title('Training & validation Loss')\n",
        "plt.xlabel('Epochs')\n",
        "plt.ylabel('Loss')\n",
        "plt.legend(['Traning Loss', 'Validation Loss'])\n",
        "plt.grid()\n",
        "\n",
        "plt.subplot(1, 2, 2)\n",
        "plt.plot(epochs, Hist_mnist.history['accuracy'] , 'b-')\n",
        "plt.plot(epochs, Hist_mnist.history['val_accuracy'], 'r--')\n",
        "plt.title('Training & Validation Accuracy')\n",
        "plt.xlabel('Epochs')\n",
        "plt.ylabel('Accuracy')\n",
        "plt.legend(['Training Accuracy', 'Validation Accuracy'])\n",
        "plt.grid()\n",
        "\n",
        "plt.show()"
      ],
      "metadata": {
        "colab": {
          "base_uri": "https://localhost:8080/",
          "height": 487
        },
        "id": "gEdDWUuOAj9O",
        "outputId": "d3ad557a-47a7-4fec-a031-b54d16fe3b70"
      },
      "execution_count": 18,
      "outputs": [
        {
          "output_type": "display_data",
          "data": {
            "text/plain": [
              "<Figure size 1500x500 with 2 Axes>"
            ],
            "image/png": "[encoded data removed]"
          },
          "metadata": {}
        }
      ]
    },
    {
      "cell_type": "markdown",
      "source": [
        "> ## 5) Model Evaluate\n",
        "\n",
        "- Loss & Accuracy"
      ],
      "metadata": {
        "id": "nmDQjnoOBhkO"
      }
    },
    {
      "cell_type": "code",
      "source": [
        "loss, accuracy = model.evaluate(X_test, y_test, verbose = 0)\n",
        "\n",
        "print('Loss = {:.5f}'.format(loss))\n",
        "print('Accuracy = {:.5f}'.format(accuracy))"
      ],
      "metadata": {
        "colab": {
          "base_uri": "https://localhost:8080/"
        },
        "id": "Ga0gLuKdBge0",
        "outputId": "452a001c-4083-42d8-e71c-07f072279094"
      },
      "execution_count": 19,
      "outputs": [
        {
          "output_type": "stream",
          "name": "stdout",
          "text": [
            "Loss = 0.04185\n",
            "Accuracy = 0.99270\n"
          ]
        }
      ]
    },
    {
      "cell_type": "code",
      "source": [],
      "metadata": {
        "id": "Zmn5GR91BsJX"
      },
      "execution_count": null,
      "outputs": []
    }
  ]
}