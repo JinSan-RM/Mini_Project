{
  "cells": [
    {
      "cell_type": "markdown",
      "metadata": {
        "id": "godXSACdlQfX"
      },
      "source": [
        "# <font color = 'red'>Deep Learning Algorithm - TEST</font>\n",
        "<br>\n",
        "\n",
        "# 학습자명 : 김진산\n",
        "# 소    속 : 대한민국"
      ]
    },
    {
      "cell_type": "markdown",
      "metadata": {
        "id": "q2Pr7oBdYLdf"
      },
      "source": [
        "# CIFAR100 - Categorical Classification\n",
        "> # VGG16"
      ]
    },
    {
      "cell_type": "code",
      "execution_count": 1,
      "metadata": {
        "id": "RbPgODpVzdHI"
      },
      "outputs": [],
      "source": [
        "import warnings\n",
        "warnings.filterwarnings('ignore')"
      ]
    },
    {
      "cell_type": "markdown",
      "metadata": {
        "id": "tUvJIk2aRFtw"
      },
      "source": [
        "* import Tensorflow"
      ]
    },
    {
      "cell_type": "code",
      "execution_count": 2,
      "metadata": {
        "id": "GR4j3p6N_rDV",
        "colab": {
          "base_uri": "https://localhost:8080/",
          "height": 35
        },
        "outputId": "86790b9d-a6f1-446f-dfc6-814e4a6f00bc"
      },
      "outputs": [
        {
          "output_type": "execute_result",
          "data": {
            "text/plain": [
              "'2.12.0'"
            ],
            "application/vnd.google.colaboratory.intrinsic+json": {
              "type": "string"
            }
          },
          "metadata": {},
          "execution_count": 2
        }
      ],
      "source": [
        "import tensorflow\n",
        "\n",
        "tensorflow.__version__"
      ]
    },
    {
      "cell_type": "markdown",
      "metadata": {
        "id": "H49A769LYp-a"
      },
      "source": [
        "# I. CIFAR100 Data_Set Load"
      ]
    },
    {
      "cell_type": "code",
      "execution_count": 3,
      "metadata": {
        "id": "DxstjE8b_6Te",
        "colab": {
          "base_uri": "https://localhost:8080/"
        },
        "outputId": "37ae4b11-3c10-4451-d190-e2b06e4a61e4"
      },
      "outputs": [
        {
          "output_type": "stream",
          "name": "stdout",
          "text": [
            "Downloading data from https://www.cs.toronto.edu/~kriz/cifar-100-python.tar.gz\n",
            "169001437/169001437 [==============================] - 6s 0us/step\n"
          ]
        }
      ],
      "source": [
        "from tensorflow.keras.datasets import cifar100\n",
        "\n",
        "(X_train, y_train), (X_test, y_test) = cifar100.load_data(label_mode = 'fine')"
      ]
    },
    {
      "cell_type": "markdown",
      "metadata": {
        "id": "Mk9XL5vGHor6"
      },
      "source": [
        "# II. Data Preprocessing"
      ]
    },
    {
      "cell_type": "markdown",
      "metadata": {
        "id": "ec8zU4XCZRUF"
      },
      "source": [
        "> ## 1) Reshape and Normalization"
      ]
    },
    {
      "cell_type": "markdown",
      "metadata": {
        "id": "olI6ZPtEIb8H"
      },
      "source": [
        "* reshape"
      ]
    },
    {
      "cell_type": "code",
      "execution_count": 4,
      "metadata": {
        "id": "8-toPn1ZAmFd"
      },
      "outputs": [],
      "source": [
        "X_train = X_train.reshape((50000,  32, 32, 3))\n",
        "X_test = X_test.reshape((10000,  32, 32, 3))"
      ]
    },
    {
      "cell_type": "markdown",
      "metadata": {
        "id": "HpIHC0cE-Gi_"
      },
      "source": [
        "# <font color = 'red'>1번 - 10점</font>\n",
        "## <font color = 'blue'>X_train과 X_test에 대해서 Normalization을 수행하세요.</font>"
      ]
    },
    {
      "cell_type": "markdown",
      "metadata": {
        "id": "UN-xPWjYIeWL"
      },
      "source": [
        "* Normalization"
      ]
    },
    {
      "cell_type": "code",
      "execution_count": 5,
      "metadata": {
        "id": "SoGHuYeFIGBj"
      },
      "outputs": [],
      "source": [
        "# 1번 답안 작성\n",
        "\n",
        "X_train = X_train.astype(float) / 255\n",
        "X_test = X_test.astype(float) / 255\n",
        "\n"
      ]
    },
    {
      "cell_type": "markdown",
      "metadata": {
        "id": "BtSROU80aF12"
      },
      "source": [
        "> ## 2) One Hot Encoding"
      ]
    },
    {
      "cell_type": "markdown",
      "metadata": {
        "id": "f2u5iQ_AmLPH"
      },
      "source": [
        "# <font color = 'red'>2번 - 10점</font>\n",
        "## <font color = 'blue'>y_train과 y_test에 대해서 One-Hot Encoding을 수행하세요.</font>"
      ]
    },
    {
      "cell_type": "code",
      "execution_count": 6,
      "metadata": {
        "id": "eC48Oym3Ao8E",
        "colab": {
          "base_uri": "https://localhost:8080/"
        },
        "outputId": "6175c951-13ab-497c-94bb-54a9ca611622"
      },
      "outputs": [
        {
          "output_type": "execute_result",
          "data": {
            "text/plain": [
              "((50000, 100), (10000, 100))"
            ]
          },
          "metadata": {},
          "execution_count": 6
        }
      ],
      "source": [
        "# 2번 답안 작성\n",
        "from tensorflow.keras.utils import to_categorical\n",
        "\n",
        "y_train = to_categorical(y_train)\n",
        "y_test = to_categorical(y_test)\n",
        "\n",
        "y_train.shape, y_test.shape"
      ]
    },
    {
      "cell_type": "markdown",
      "metadata": {
        "id": "5Y0xaGNzYkI2"
      },
      "source": [
        "> ## 3) train_test_split( )\n",
        "\n",
        "* Train(40,000) vs. Validation(10,000)"
      ]
    },
    {
      "cell_type": "code",
      "execution_count": 7,
      "metadata": {
        "id": "zdpfzw3TXRHG",
        "colab": {
          "base_uri": "https://localhost:8080/"
        },
        "outputId": "aa031beb-68ed-4e39-d604-845111d5cedc"
      },
      "outputs": [
        {
          "output_type": "execute_result",
          "data": {
            "text/plain": [
              "((40000, 32, 32, 3), (40000, 100), (10000, 32, 32, 3), (10000, 100))"
            ]
          },
          "metadata": {},
          "execution_count": 7
        }
      ],
      "source": [
        "from sklearn.model_selection import train_test_split \n",
        "\n",
        "X_train, X_valid, y_train, y_valid = train_test_split(X_train, y_train,\n",
        "                                                      test_size = 0.2,\n",
        "                                                      random_state = 2045)\n",
        "\n",
        "X_train.shape, y_train.shape, X_valid.shape, y_valid.shape"
      ]
    },
    {
      "cell_type": "markdown",
      "metadata": {
        "id": "wBAWLCWdGNde"
      },
      "source": [
        "# III. Import VGG16 Model"
      ]
    },
    {
      "cell_type": "markdown",
      "metadata": {
        "id": "WFPDlwZWmeRw"
      },
      "source": [
        "# <font color = 'red'>3번 - 20점</font>\n",
        "## <font color = 'blue'>전이학습에 사용할 사전학습모델을 정의하세요.</font>"
      ]
    },
    {
      "cell_type": "markdown",
      "metadata": {
        "id": "tpdqyBb2Gsdj"
      },
      "source": [
        "> ## 1) conv_base"
      ]
    },
    {
      "cell_type": "code",
      "execution_count": 8,
      "metadata": {
        "id": "Zgv7VdbFGTGK",
        "colab": {
          "base_uri": "https://localhost:8080/"
        },
        "outputId": "fe1c4e58-24c8-45fc-9e65-f4532056295c"
      },
      "outputs": [
        {
          "output_type": "stream",
          "name": "stdout",
          "text": [
            "Downloading data from https://storage.googleapis.com/tensorflow/keras-applications/vgg16/vgg16_weights_tf_dim_ordering_tf_kernels_notop.h5\n",
            "58889256/58889256 [==============================] - 2s 0us/step\n"
          ]
        }
      ],
      "source": [
        "# 3번 답안 작성\n",
        "from tensorflow.keras.applications import VGG16\n",
        "\n",
        "conv_base = VGG16(weights = 'imagenet',\n",
        "                  include_top = False,\n",
        "                  input_shape = (32, 32, 3))\n"
      ]
    },
    {
      "cell_type": "markdown",
      "metadata": {
        "id": "NTwZiSjiop3v"
      },
      "source": [
        "# IV. Keras Modeling"
      ]
    },
    {
      "cell_type": "markdown",
      "metadata": {
        "id": "AZFQNdULGYOa"
      },
      "source": [
        "# <font color = 'red'>4번 - 20점</font>\n",
        "## <font color = 'blue'>이미지 다중분류 CNN+DNN 신경망 구조를 정의하세요.</font>"
      ]
    },
    {
      "cell_type": "markdown",
      "metadata": {
        "id": "j5CT0TurJCkc"
      },
      "source": [
        "> ## 1) Model Define"
      ]
    },
    {
      "cell_type": "code",
      "execution_count": 16,
      "metadata": {
        "id": "II0DskRdAcHS"
      },
      "outputs": [],
      "source": [
        "# 4번 답안 작성\n",
        "\n",
        "from tensorflow.keras import models, layers\n",
        "from tensorflow.keras import regularizers\n",
        "\n",
        "model = models.Sequential()\n",
        "model.add(conv_base)\n",
        "\n",
        "model.add(layers.Flatten())\n",
        "\n",
        "model.add(layers.Dense(2048, activation = 'relu'))\n",
        "model.add(layers.Dense(1024, activation = 'relu',\n",
        "                       kernel_regularizer = regularizers.l2(0.001)))\n",
        "model.add(layers.Dropout(0.15))\n",
        "model.add(layers.Dense(512, activation = 'relu'))\n",
        "model.add(layers.Dropout(0.1))\n",
        "model.add(layers.Dense(256, activation = 'relu',\n",
        "                       kernel_regularizer = regularizers.l2(0.001)))\n",
        "model.add(layers.Dropout(0.05))\n",
        "model.add(layers.Dense(128, activation = 'relu'))\n",
        "model.add(layers.Dense(100, activation ='softmax'))\n"
      ]
    },
    {
      "cell_type": "code",
      "execution_count": 17,
      "metadata": {
        "id": "kQ02_BOz8-ek",
        "colab": {
          "base_uri": "https://localhost:8080/"
        },
        "outputId": "89da9d3f-f866-4561-887c-6538eb79e001"
      },
      "outputs": [
        {
          "output_type": "stream",
          "name": "stdout",
          "text": [
            "Model: \"sequential_2\"\n",
            "_________________________________________________________________\n",
            " Layer (type)                Output Shape              Param #   \n",
            "=================================================================\n",
            " vgg16 (Functional)          (None, 1, 1, 512)         14714688  \n",
            "                                                                 \n",
            " flatten_2 (Flatten)         (None, 512)               0         \n",
            "                                                                 \n",
            " dense_8 (Dense)             (None, 2048)              1050624   \n",
            "                                                                 \n",
            " dense_9 (Dense)             (None, 1024)              2098176   \n",
            "                                                                 \n",
            " dropout_5 (Dropout)         (None, 1024)              0         \n",
            "                                                                 \n",
            " dense_10 (Dense)            (None, 512)               524800    \n",
            "                                                                 \n",
            " dropout_6 (Dropout)         (None, 512)               0         \n",
            "                                                                 \n",
            " dense_11 (Dense)            (None, 256)               131328    \n",
            "                                                                 \n",
            " dropout_7 (Dropout)         (None, 256)               0         \n",
            "                                                                 \n",
            " dense_12 (Dense)            (None, 128)               32896     \n",
            "                                                                 \n",
            " dense_13 (Dense)            (None, 100)               12900     \n",
            "                                                                 \n",
            "=================================================================\n",
            "Total params: 18,565,412\n",
            "Trainable params: 18,565,412\n",
            "Non-trainable params: 0\n",
            "_________________________________________________________________\n"
          ]
        }
      ],
      "source": [
        "model.summary()"
      ]
    },
    {
      "cell_type": "markdown",
      "metadata": {
        "id": "tpjBDBeYoyuj"
      },
      "source": [
        "> ## 2) Model Compile"
      ]
    },
    {
      "cell_type": "markdown",
      "metadata": {
        "id": "f3sxkQa0JoUr"
      },
      "source": [
        "* 모델 학습방법 설정"
      ]
    },
    {
      "cell_type": "markdown",
      "metadata": {
        "id": "zGEo1rZenkiY"
      },
      "source": [
        "# <font color = 'red'>5번 - 20점</font>\n",
        "## <font color = 'blue'>model.compile( )을 완성하세요.</font>"
      ]
    },
    {
      "cell_type": "code",
      "execution_count": 18,
      "metadata": {
        "id": "AyK_t1qwAi6M"
      },
      "outputs": [],
      "source": [
        "# 5번 답안 작성\n",
        "from tensorflow.keras import optimizers\n",
        "\n",
        "model.compile(loss = 'categorical_crossentropy',\n",
        "              optimizer = optimizers.Adam(learning_rate = 0.000005),\n",
        "              metrics = ['accuracy'])\n"
      ]
    },
    {
      "cell_type": "markdown",
      "metadata": {
        "id": "umiq4B-Xo3OB"
      },
      "source": [
        "> ## 3) Model Fit"
      ]
    },
    {
      "cell_type": "markdown",
      "metadata": {
        "id": "1KuXREziKMD1"
      },
      "source": [
        "* 약 ?분"
      ]
    },
    {
      "cell_type": "markdown",
      "metadata": {
        "id": "MpjUFDxkoAgm"
      },
      "source": [
        "# <font color = 'red'>6번 - 20점</font>\n",
        "## <font color = 'blue'>model.fit( )을 완성하세요.</font>"
      ]
    },
    {
      "cell_type": "code",
      "execution_count": 19,
      "metadata": {
        "id": "zxwqwAqRAqRP",
        "colab": {
          "base_uri": "https://localhost:8080/"
        },
        "outputId": "aee9a9f7-6c16-4070-c3a3-be1274e02588"
      },
      "outputs": [
        {
          "output_type": "stream",
          "name": "stdout",
          "text": [
            "Epoch 1/30\n",
            "313/313 [==============================] - 28s 66ms/step - loss: 6.0253 - accuracy: 0.0629 - val_loss: 5.3450 - val_accuracy: 0.2139\n",
            "Epoch 2/30\n",
            "313/313 [==============================] - 21s 66ms/step - loss: 5.1126 - accuracy: 0.2304 - val_loss: 4.5795 - val_accuracy: 0.3559\n",
            "Epoch 3/30\n",
            "313/313 [==============================] - 20s 64ms/step - loss: 4.5553 - accuracy: 0.3374 - val_loss: 4.3149 - val_accuracy: 0.3972\n",
            "Epoch 4/30\n",
            "313/313 [==============================] - 21s 67ms/step - loss: 4.2275 - accuracy: 0.3947 - val_loss: 4.1028 - val_accuracy: 0.4285\n",
            "Epoch 5/30\n",
            "313/313 [==============================] - 20s 65ms/step - loss: 3.9940 - accuracy: 0.4398 - val_loss: 3.9813 - val_accuracy: 0.4511\n",
            "Epoch 6/30\n",
            "313/313 [==============================] - 21s 68ms/step - loss: 3.8268 - accuracy: 0.4695 - val_loss: 3.8750 - val_accuracy: 0.4696\n",
            "Epoch 7/30\n",
            "313/313 [==============================] - 20s 64ms/step - loss: 3.6822 - accuracy: 0.4958 - val_loss: 3.8060 - val_accuracy: 0.4798\n",
            "Epoch 8/30\n",
            "313/313 [==============================] - 20s 64ms/step - loss: 3.5657 - accuracy: 0.5173 - val_loss: 3.7319 - val_accuracy: 0.4914\n",
            "Epoch 9/30\n",
            "313/313 [==============================] - 21s 68ms/step - loss: 3.4748 - accuracy: 0.5334 - val_loss: 3.7121 - val_accuracy: 0.4930\n",
            "Epoch 10/30\n",
            "313/313 [==============================] - 21s 67ms/step - loss: 3.3821 - accuracy: 0.5529 - val_loss: 3.6730 - val_accuracy: 0.5025\n",
            "Epoch 11/30\n",
            "313/313 [==============================] - 21s 68ms/step - loss: 3.3037 - accuracy: 0.5648 - val_loss: 3.6583 - val_accuracy: 0.5012\n",
            "Epoch 12/30\n",
            "313/313 [==============================] - 20s 64ms/step - loss: 3.2297 - accuracy: 0.5785 - val_loss: 3.6165 - val_accuracy: 0.5109\n",
            "Epoch 13/30\n",
            "313/313 [==============================] - 20s 65ms/step - loss: 3.1637 - accuracy: 0.5921 - val_loss: 3.5889 - val_accuracy: 0.5146\n",
            "Epoch 14/30\n",
            "313/313 [==============================] - 20s 64ms/step - loss: 3.1121 - accuracy: 0.6010 - val_loss: 3.5876 - val_accuracy: 0.5162\n",
            "Epoch 15/30\n",
            "313/313 [==============================] - 20s 64ms/step - loss: 3.0411 - accuracy: 0.6151 - val_loss: 3.5378 - val_accuracy: 0.5209\n",
            "Epoch 16/30\n",
            "313/313 [==============================] - 21s 67ms/step - loss: 2.9993 - accuracy: 0.6240 - val_loss: 3.5256 - val_accuracy: 0.5245\n",
            "Epoch 17/30\n",
            "313/313 [==============================] - 20s 63ms/step - loss: 2.9436 - accuracy: 0.6345 - val_loss: 3.5386 - val_accuracy: 0.5231\n",
            "Epoch 18/30\n",
            "313/313 [==============================] - 21s 67ms/step - loss: 2.8972 - accuracy: 0.6437 - val_loss: 3.5129 - val_accuracy: 0.5285\n",
            "Epoch 19/30\n",
            "313/313 [==============================] - 20s 64ms/step - loss: 2.8515 - accuracy: 0.6523 - val_loss: 3.5195 - val_accuracy: 0.5245\n",
            "Epoch 20/30\n",
            "313/313 [==============================] - 20s 63ms/step - loss: 2.8082 - accuracy: 0.6603 - val_loss: 3.5022 - val_accuracy: 0.5304\n",
            "Epoch 21/30\n",
            "313/313 [==============================] - 20s 64ms/step - loss: 2.7698 - accuracy: 0.6702 - val_loss: 3.4821 - val_accuracy: 0.5374\n",
            "Epoch 22/30\n",
            "313/313 [==============================] - 21s 68ms/step - loss: 2.7273 - accuracy: 0.6768 - val_loss: 3.4842 - val_accuracy: 0.5340\n",
            "Epoch 23/30\n",
            "313/313 [==============================] - 20s 63ms/step - loss: 2.6860 - accuracy: 0.6877 - val_loss: 3.4992 - val_accuracy: 0.5306\n",
            "Epoch 24/30\n",
            "313/313 [==============================] - 20s 64ms/step - loss: 2.6514 - accuracy: 0.6947 - val_loss: 3.4834 - val_accuracy: 0.5405\n",
            "Epoch 25/30\n",
            "313/313 [==============================] - 20s 63ms/step - loss: 2.6129 - accuracy: 0.7006 - val_loss: 3.5071 - val_accuracy: 0.5359\n",
            "Epoch 26/30\n",
            "313/313 [==============================] - 20s 63ms/step - loss: 2.5802 - accuracy: 0.7083 - val_loss: 3.4789 - val_accuracy: 0.5407\n",
            "Epoch 27/30\n",
            "313/313 [==============================] - 20s 63ms/step - loss: 2.5393 - accuracy: 0.7171 - val_loss: 3.4909 - val_accuracy: 0.5374\n",
            "Epoch 28/30\n",
            "313/313 [==============================] - 20s 63ms/step - loss: 2.5108 - accuracy: 0.7230 - val_loss: 3.5024 - val_accuracy: 0.5412\n",
            "Epoch 29/30\n",
            "313/313 [==============================] - 21s 67ms/step - loss: 2.4771 - accuracy: 0.7287 - val_loss: 3.4835 - val_accuracy: 0.5441\n",
            "Epoch 30/30\n",
            "313/313 [==============================] - 20s 63ms/step - loss: 2.4472 - accuracy: 0.7358 - val_loss: 3.4840 - val_accuracy: 0.5458\n",
            "CPU times: user 7min 17s, sys: 15.5 s, total: 7min 33s\n",
            "Wall time: 10min 25s\n"
          ]
        }
      ],
      "source": [
        "# 6번 답안 작성\n",
        "\n",
        "%%time\n",
        "\n",
        "Hist_model = model.fit(X_train, y_train,\n",
        "                       epochs = 30,\n",
        "                       batch_size = 128,\n",
        "                       validation_data = (X_valid, y_valid))"
      ]
    },
    {
      "cell_type": "markdown",
      "metadata": {
        "id": "FnnIyFtNKhbD"
      },
      "source": [
        "> ## 4) 학습 결과 시각화"
      ]
    },
    {
      "cell_type": "code",
      "execution_count": 20,
      "metadata": {
        "id": "OQ4ke8BbKi50",
        "colab": {
          "base_uri": "https://localhost:8080/",
          "height": 487
        },
        "outputId": "9da50a19-db29-402d-fb85-ef01abc9823f"
      },
      "outputs": [
        {
          "output_type": "display_data",
          "data": {
            "text/plain": [
              "<Figure size 1500x500 with 2 Axes>"
            ],
            "image/png": "[encoded data removed]"
          },
          "metadata": {}
        }
      ],
      "source": [
        "import matplotlib.pyplot as plt\n",
        "\n",
        "epochs = range(1, len(Hist_model.history['loss']) + 1)\n",
        "\n",
        "plt.figure(figsize = (15, 5))\n",
        "\n",
        "plt.subplot(1, 2, 1)\n",
        "plt.plot(epochs, Hist_model.history['loss'], 'b-')\n",
        "plt.plot(epochs, Hist_model.history['val_loss'], 'r--')\n",
        "plt.title('Training & Validation Loss')\n",
        "plt.xlabel('Epochs')\n",
        "plt.ylabel('Loss')\n",
        "plt.legend(['Training Loss', 'Validation Loss'])\n",
        "plt.grid()\n",
        "\n",
        "plt.subplot(1, 2, 2)\n",
        "plt.plot(epochs, Hist_model.history['accuracy'], 'b-')\n",
        "plt.plot(epochs, Hist_model.history['val_accuracy'], 'r--')\n",
        "plt.title('Training & Validation Accuracy')\n",
        "plt.xlabel('Epochs')\n",
        "plt.ylabel('Accuracy')\n",
        "plt.legend(['Training Accuracy', 'Validation Accuracy'])\n",
        "plt.grid()\n",
        "\n",
        "plt.show()"
      ]
    },
    {
      "cell_type": "markdown",
      "metadata": {
        "id": "_uJSOLBko7lh"
      },
      "source": [
        "> ## 5) Model Evaluate"
      ]
    },
    {
      "cell_type": "markdown",
      "metadata": {
        "id": "i-TqAB2ALGzZ"
      },
      "source": [
        "* Loss & Accuracy"
      ]
    },
    {
      "cell_type": "markdown",
      "metadata": {
        "id": "T8KwX7cIqsqw"
      },
      "source": [
        "# <font color = 'red'>완료 조건</font>\n",
        "## <font color = 'blue'>Accuracy : 0.55 이상</font>"
      ]
    },
    {
      "cell_type": "code",
      "execution_count": 21,
      "metadata": {
        "id": "OF30PuZsAxQJ",
        "colab": {
          "base_uri": "https://localhost:8080/"
        },
        "outputId": "112bbb2b-e5c6-43c5-dd71-90fbf01240f5"
      },
      "outputs": [
        {
          "output_type": "stream",
          "name": "stdout",
          "text": [
            "313/313 [==============================] - 3s 9ms/step - loss: 3.5069 - accuracy: 0.5403\n",
            "Loss = 3.50688\n",
            "Accuracy = 0.54030\n"
          ]
        }
      ],
      "source": [
        "loss, accuracy = model.evaluate(X_test, y_test)\n",
        "\n",
        "print('Loss = {:.5f}'.format(loss))\n",
        "print('Accuracy = {:.5f}'.format(accuracy))"
      ]
    },
    {
      "cell_type": "markdown",
      "metadata": {
        "id": "sN48I9GrLxOX"
      },
      "source": [
        "# \n",
        "# \n",
        "# \n",
        "# The End\n",
        "# \n",
        "# \n",
        "# "
      ]
    }
  ],
  "metadata": {
    "accelerator": "GPU",
    "colab": {
      "provenance": []
    },
    "kernelspec": {
      "display_name": "Python 3 (ipykernel)",
      "language": "python",
      "name": "python3"
    },
    "language_info": {
      "codemirror_mode": {
        "name": "ipython",
        "version": 3
      },
      "file_extension": ".py",
      "mimetype": "text/x-python",
      "name": "python",
      "nbconvert_exporter": "python",
      "pygments_lexer": "ipython3",
      "version": "3.10.9"
    },
    "gpuClass": "standard"
  },
  "nbformat": 4,
  "nbformat_minor": 0
}