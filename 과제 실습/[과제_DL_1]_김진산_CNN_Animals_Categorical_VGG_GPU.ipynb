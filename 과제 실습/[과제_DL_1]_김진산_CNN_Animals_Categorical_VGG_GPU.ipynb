{
  "nbformat": 4,
  "nbformat_minor": 0,
  "metadata": {
    "colab": {
      "provenance": []
    },
    "kernelspec": {
      "name": "python3",
      "display_name": "Python 3"
    },
    "gpuClass": "standard",
    "accelerator": "GPU"
  },
  "cells": [
    {
      "cell_type": "markdown",
      "metadata": {
        "id": "q2Pr7oBdYLdf"
      },
      "source": [
        "# 이미지 데이터 셋을 이용한 CNN Modeling\n",
        "## Animals Dataset Categorical Classification\n",
        "* Train_Data : 5000\n",
        "* Valid_Data : 3000\n",
        "* Test_Data : 3000"
      ]
    },
    {
      "cell_type": "code",
      "metadata": {
        "id": "RbPgODpVzdHI"
      },
      "source": [
        "import warnings\n",
        "warnings.filterwarnings('ignore')"
      ],
      "execution_count": 14,
      "outputs": []
    },
    {
      "cell_type": "markdown",
      "source": [
        "* Import TensorFlow"
      ],
      "metadata": {
        "id": "kGLxnpmRyMwH"
      }
    },
    {
      "cell_type": "code",
      "source": [
        "import tensorflow as tf\n",
        "\n",
        "tf.__version__"
      ],
      "metadata": {
        "id": "axDX2DfUyPlO",
        "colab": {
          "base_uri": "https://localhost:8080/",
          "height": 35
        },
        "outputId": "3814f742-f677-4a95-9959-c0ddf39f60c2"
      },
      "execution_count": 15,
      "outputs": [
        {
          "output_type": "execute_result",
          "data": {
            "text/plain": [
              "'2.12.0'"
            ],
            "application/vnd.google.colaboratory.intrinsic+json": {
              "type": "string"
            }
          },
          "metadata": {},
          "execution_count": 15
        }
      ]
    },
    {
      "cell_type": "markdown",
      "metadata": {
        "id": "6d1FeKK1CgqG"
      },
      "source": [
        "# I. wget From Github"
      ]
    },
    {
      "cell_type": "markdown",
      "source": [
        "> ## 1) 'animals_part.zip' 파일 다운로드"
      ],
      "metadata": {
        "id": "aQ-o8xUHpG7-"
      }
    },
    {
      "cell_type": "code",
      "source": [
        "!wget https://raw.githubusercontent.com/rusita-ai/pyData/master/animals_part.z{ip,01,02}"
      ],
      "metadata": {
        "colab": {
          "base_uri": "https://localhost:8080/"
        },
        "outputId": "12cf475d-ac14-4ea9-8148-0539b867efad",
        "id": "GELUxgE5C-So"
      },
      "execution_count": null,
      "outputs": [
        {
          "output_type": "stream",
          "name": "stdout",
          "text": [
            "--2023-04-05 06:54:18--  https://raw.githubusercontent.com/rusita-ai/pyData/master/animals_part.zip\n",
            "Resolving raw.githubusercontent.com (raw.githubusercontent.com)... 185.199.108.133, 185.199.109.133, 185.199.110.133, ...\n",
            "Connecting to raw.githubusercontent.com (raw.githubusercontent.com)|185.199.108.133|:443... connected.\n",
            "HTTP request sent, awaiting response... 200 OK\n",
            "Length: 88551715 (84M) [application/zip]\n",
            "Saving to: ‘animals_part.zip.1’\n",
            "\n",
            "animals_part.zip.1  100%[===================>]  84.45M   394MB/s    in 0.2s    \n",
            "\n",
            "2023-04-05 06:54:19 (394 MB/s) - ‘animals_part.zip.1’ saved [88551715/88551715]\n",
            "\n",
            "--2023-04-05 06:54:19--  https://raw.githubusercontent.com/rusita-ai/pyData/master/animals_part.z01\n",
            "Reusing existing connection to raw.githubusercontent.com:443.\n",
            "HTTP request sent, awaiting response... 200 OK\n",
            "Length: 94371840 (90M) [application/octet-stream]\n",
            "Saving to: ‘animals_part.z01.1’\n",
            "\n",
            "animals_part.z01.1  100%[===================>]  90.00M   351MB/s    in 0.3s    \n",
            "\n",
            "2023-04-05 06:54:20 (351 MB/s) - ‘animals_part.z01.1’ saved [94371840/94371840]\n",
            "\n",
            "--2023-04-05 06:54:20--  https://raw.githubusercontent.com/rusita-ai/pyData/master/animals_part.z02\n",
            "Reusing existing connection to raw.githubusercontent.com:443.\n",
            "HTTP request sent, awaiting response... 200 OK\n",
            "Length: 94371840 (90M) [application/octet-stream]\n",
            "Saving to: ‘animals_part.z02.1’\n",
            "\n",
            "animals_part.z02.1  100%[===================>]  90.00M   312MB/s    in 0.3s    \n",
            "\n",
            "2023-04-05 06:54:21 (312 MB/s) - ‘animals_part.z02.1’ saved [94371840/94371840]\n",
            "\n",
            "FINISHED --2023-04-05 06:54:21--\n",
            "Total wall clock time: 2.7s\n",
            "Downloaded: 3 files, 264M in 0.8s (349 MB/s)\n"
          ]
        }
      ]
    },
    {
      "cell_type": "markdown",
      "metadata": {
        "id": "rBrMKlsgEvV7"
      },
      "source": [
        "* 다운로드 결과 확인"
      ]
    },
    {
      "cell_type": "code",
      "metadata": {
        "id": "ZAA_YjrVExu7",
        "colab": {
          "base_uri": "https://localhost:8080/"
        },
        "outputId": "957d84f3-25a7-4488-db9b-57ce24da478a"
      },
      "source": [
        "!ls -l"
      ],
      "execution_count": null,
      "outputs": [
        {
          "output_type": "stream",
          "name": "stdout",
          "text": [
            "total 812408\n",
            "drwxr-xr-x 6 root root      4096 Nov  7 23:56 animals\n",
            "-rw-r--r-- 1 root root  94371840 Apr  5 06:14 animals_part.z01\n",
            "-rw-r--r-- 1 root root  94371840 Apr  5 06:54 animals_part.z01.1\n",
            "-rw-r--r-- 1 root root  94371840 Apr  5 06:14 animals_part.z02\n",
            "-rw-r--r-- 1 root root  94371840 Apr  5 06:54 animals_part.z02.1\n",
            "-rw-r--r-- 1 root root  88551715 Apr  5 06:14 animals_part.zip\n",
            "-rw-r--r-- 1 root root  88551715 Apr  5 06:54 animals_part.zip.1\n",
            "-rw-r--r-- 1 root root 277295391 Apr  5 06:14 animals.zip\n",
            "drwxr-xr-x 1 root root      4096 Apr  3 13:38 sample_data\n"
          ]
        }
      ]
    },
    {
      "cell_type": "markdown",
      "source": [
        "> ## 2) 분할된 파일 합치기"
      ],
      "metadata": {
        "id": "LpDYRNy9pS72"
      }
    },
    {
      "cell_type": "code",
      "source": [
        "!zip -Fq animals_part.zip --out animals.zip"
      ],
      "metadata": {
        "id": "oObuOlWgc8X7"
      },
      "execution_count": null,
      "outputs": []
    },
    {
      "cell_type": "markdown",
      "source": [
        "* 'animals.zip' 생성 확인"
      ],
      "metadata": {
        "id": "2RJG0f3npnju"
      }
    },
    {
      "cell_type": "code",
      "source": [
        "!ls -l"
      ],
      "metadata": {
        "colab": {
          "base_uri": "https://localhost:8080/"
        },
        "id": "0QoV9boXpsL1",
        "outputId": "25bbcc60-fa8c-49e5-cc96-9a83406e1eb8"
      },
      "execution_count": null,
      "outputs": [
        {
          "output_type": "stream",
          "name": "stdout",
          "text": [
            "total 812408\n",
            "drwxr-xr-x 6 root root      4096 Nov  7 23:56 animals\n",
            "-rw-r--r-- 1 root root  94371840 Apr  5 06:14 animals_part.z01\n",
            "-rw-r--r-- 1 root root  94371840 Apr  5 06:54 animals_part.z01.1\n",
            "-rw-r--r-- 1 root root  94371840 Apr  5 06:14 animals_part.z02\n",
            "-rw-r--r-- 1 root root  94371840 Apr  5 06:54 animals_part.z02.1\n",
            "-rw-r--r-- 1 root root  88551715 Apr  5 06:14 animals_part.zip\n",
            "-rw-r--r-- 1 root root  88551715 Apr  5 06:54 animals_part.zip.1\n",
            "-rw-r--r-- 1 root root 277295391 Apr  5 06:54 animals.zip\n",
            "drwxr-xr-x 1 root root      4096 Apr  3 13:38 sample_data\n"
          ]
        }
      ]
    },
    {
      "cell_type": "markdown",
      "metadata": {
        "id": "1DyFdyVxFyHK"
      },
      "source": [
        "# II. Data Preprocessing"
      ]
    },
    {
      "cell_type": "markdown",
      "metadata": {
        "id": "D9zdBsGKnLUo"
      },
      "source": [
        "> ## 1) Unzip 'animals.zip'"
      ]
    },
    {
      "cell_type": "code",
      "metadata": {
        "id": "WkuHaDXcnUtY"
      },
      "source": [
        "!unzip -q /content/animals.zip"
      ],
      "execution_count": null,
      "outputs": []
    },
    {
      "cell_type": "markdown",
      "source": [
        "* 학습 데이터 확인"
      ],
      "metadata": {
        "id": "nYRGJ9bpp4pF"
      }
    },
    {
      "cell_type": "code",
      "source": [
        "!ls -l animals/"
      ],
      "metadata": {
        "colab": {
          "base_uri": "https://localhost:8080/"
        },
        "id": "FdQBGRJTp0MV",
        "outputId": "48bcc441-51e8-4cff-c401-b7c657b4bc69"
      },
      "execution_count": null,
      "outputs": [
        {
          "output_type": "stream",
          "name": "stdout",
          "text": [
            "total 12\n",
            "drwxr-xr-x 12 root root 4096 Oct 25 13:50 test\n",
            "drwxr-xr-x 12 root root 4096 Oct 25 13:50 train\n",
            "drwxr-xr-x 12 root root 4096 Oct 25 13:50 validation\n"
          ]
        }
      ]
    },
    {
      "cell_type": "markdown",
      "metadata": {
        "id": "H49A769LYp-a"
      },
      "source": [
        "> ## 2) Image_File Directory Setting"
      ]
    },
    {
      "cell_type": "markdown",
      "metadata": {
        "id": "fwUMpMCYGB7Z"
      },
      "source": [
        "* train_dir\n",
        "* valid_dir\n",
        "* test_dir"
      ]
    },
    {
      "cell_type": "code",
      "metadata": {
        "id": "DxstjE8b_6Te"
      },
      "source": [
        "train_dir = 'animals/train'\n",
        "valid_dir = 'animals/validation'\n",
        "test_dir  = 'animals/test'"
      ],
      "execution_count": 16,
      "outputs": []
    },
    {
      "cell_type": "markdown",
      "metadata": {
        "id": "Mk9XL5vGHor6"
      },
      "source": [
        "> ## 3) ImageDataGenerator( ) & flow_from_directory( )"
      ]
    },
    {
      "cell_type": "markdown",
      "metadata": {
        "id": "_UbiVo2EGlOt"
      },
      "source": [
        "* Normalization\n",
        " * ImageDataGenerator( )\n",
        "* Resizing & Generator\n",
        " * flow_from_directory( )"
      ]
    },
    {
      "cell_type": "code",
      "metadata": {
        "id": "eC48Oym3Ao8E",
        "colab": {
          "base_uri": "https://localhost:8080/"
        },
        "outputId": "79ff340d-9ce4-4596-cf6e-af52d49d8736"
      },
      "source": [
        "from tensorflow.keras.preprocessing.image import ImageDataGenerator\n",
        "\n",
        "train_datagen = ImageDataGenerator(rescale = 1./255,\n",
        "                                   rotation_range = 40,\n",
        "                                   width_shift_range = 0.2,\n",
        "                                   height_shift_range = 0.2,\n",
        "                                   shear_range = 0.2,\n",
        "                                   zoom_range = 0.2,\n",
        "                                   horizontal_flip = True,\n",
        "                                   vertical_flip = True,\n",
        "                                   fill_mode = 'nearest')\n",
        "\n",
        "valid_datagen = ImageDataGenerator(rescale = 1./255)\n",
        "\n",
        "\n",
        "train_generator = train_datagen.flow_from_directory(\n",
        "                  train_dir,\n",
        "                  target_size = (150, 150),\n",
        "                  batch_size = 20,\n",
        "                  class_mode = 'categorical')\n",
        "\n",
        "valid_generator = valid_datagen.flow_from_directory(\n",
        "                  valid_dir,\n",
        "                  target_size = (150, 150),\n",
        "                  batch_size = 20,\n",
        "                  class_mode = 'categorical')"
      ],
      "execution_count": 17,
      "outputs": [
        {
          "output_type": "stream",
          "name": "stdout",
          "text": [
            "Found 5000 images belonging to 10 classes.\n",
            "Found 3000 images belonging to 10 classes.\n"
          ]
        }
      ]
    },
    {
      "cell_type": "markdown",
      "metadata": {
        "id": "vCpCB_giJbZr"
      },
      "source": [
        "> ## 4) Test train_generator"
      ]
    },
    {
      "cell_type": "code",
      "metadata": {
        "id": "NW5rHWtcJnTq",
        "colab": {
          "base_uri": "https://localhost:8080/"
        },
        "outputId": "b364903c-db32-477c-f348-a90487315e6c"
      },
      "source": [
        "for data_batch, labels_batch in train_generator:\n",
        "    print('배치 데이터 크기:', data_batch.shape)\n",
        "    print('배치 레이블 크기:', labels_batch.shape)\n",
        "    break"
      ],
      "execution_count": 18,
      "outputs": [
        {
          "output_type": "stream",
          "name": "stdout",
          "text": [
            "배치 데이터 크기: (20, 150, 150, 3)\n",
            "배치 레이블 크기: (20, 10)\n"
          ]
        }
      ]
    },
    {
      "cell_type": "code",
      "metadata": {
        "id": "VnTocUr6YgKa",
        "colab": {
          "base_uri": "https://localhost:8080/"
        },
        "outputId": "9b4f89de-41c6-496c-dde9-664ab9eaaa41"
      },
      "source": [
        "labels_batch"
      ],
      "execution_count": 19,
      "outputs": [
        {
          "output_type": "execute_result",
          "data": {
            "text/plain": [
              "array([[0., 0., 0., 0., 0., 0., 0., 0., 0., 1.],\n",
              "       [0., 0., 0., 1., 0., 0., 0., 0., 0., 0.],\n",
              "       [1., 0., 0., 0., 0., 0., 0., 0., 0., 0.],\n",
              "       [0., 0., 1., 0., 0., 0., 0., 0., 0., 0.],\n",
              "       [0., 0., 1., 0., 0., 0., 0., 0., 0., 0.],\n",
              "       [0., 0., 0., 0., 0., 0., 0., 0., 1., 0.],\n",
              "       [0., 0., 0., 0., 0., 0., 0., 0., 1., 0.],\n",
              "       [1., 0., 0., 0., 0., 0., 0., 0., 0., 0.],\n",
              "       [0., 0., 0., 0., 0., 0., 1., 0., 0., 0.],\n",
              "       [0., 0., 0., 0., 0., 0., 0., 0., 1., 0.],\n",
              "       [0., 0., 0., 0., 0., 0., 0., 1., 0., 0.],\n",
              "       [0., 0., 0., 0., 0., 0., 0., 0., 1., 0.],\n",
              "       [1., 0., 0., 0., 0., 0., 0., 0., 0., 0.],\n",
              "       [0., 0., 1., 0., 0., 0., 0., 0., 0., 0.],\n",
              "       [0., 0., 0., 0., 0., 1., 0., 0., 0., 0.],\n",
              "       [0., 0., 0., 0., 0., 0., 0., 0., 1., 0.],\n",
              "       [0., 0., 0., 0., 0., 1., 0., 0., 0., 0.],\n",
              "       [0., 0., 0., 0., 0., 1., 0., 0., 0., 0.],\n",
              "       [0., 0., 0., 0., 0., 0., 0., 0., 0., 1.],\n",
              "       [0., 0., 0., 0., 0., 1., 0., 0., 0., 0.]], dtype=float32)"
            ]
          },
          "metadata": {},
          "execution_count": 19
        }
      ]
    },
    {
      "cell_type": "markdown",
      "source": [
        "# Model Tuning Work"
      ],
      "metadata": {
        "id": "en_d9ebdEygE"
      }
    },
    {
      "cell_type": "code",
      "source": [
        "from tensorflow.keras.applications import VGG16\n",
        "\n",
        "conv_base = VGG16(weights = 'imagenet',\n",
        "                  include_top = False,\n",
        "                  input_shape = (150, 150, 3))"
      ],
      "metadata": {
        "id": "h9Fku742Dywh"
      },
      "execution_count": 20,
      "outputs": []
    },
    {
      "cell_type": "code",
      "source": [
        "conv_base.summary()"
      ],
      "metadata": {
        "id": "TPuZ2IVLEP1u",
        "colab": {
          "base_uri": "https://localhost:8080/"
        },
        "outputId": "aec9944d-eca6-47e6-c2fe-220aafd8c116"
      },
      "execution_count": 21,
      "outputs": [
        {
          "output_type": "stream",
          "name": "stdout",
          "text": [
            "Model: \"vgg16\"\n",
            "_________________________________________________________________\n",
            " Layer (type)                Output Shape              Param #   \n",
            "=================================================================\n",
            " input_2 (InputLayer)        [(None, 150, 150, 3)]     0         \n",
            "                                                                 \n",
            " block1_conv1 (Conv2D)       (None, 150, 150, 64)      1792      \n",
            "                                                                 \n",
            " block1_conv2 (Conv2D)       (None, 150, 150, 64)      36928     \n",
            "                                                                 \n",
            " block1_pool (MaxPooling2D)  (None, 75, 75, 64)        0         \n",
            "                                                                 \n",
            " block2_conv1 (Conv2D)       (None, 75, 75, 128)       73856     \n",
            "                                                                 \n",
            " block2_conv2 (Conv2D)       (None, 75, 75, 128)       147584    \n",
            "                                                                 \n",
            " block2_pool (MaxPooling2D)  (None, 37, 37, 128)       0         \n",
            "                                                                 \n",
            " block3_conv1 (Conv2D)       (None, 37, 37, 256)       295168    \n",
            "                                                                 \n",
            " block3_conv2 (Conv2D)       (None, 37, 37, 256)       590080    \n",
            "                                                                 \n",
            " block3_conv3 (Conv2D)       (None, 37, 37, 256)       590080    \n",
            "                                                                 \n",
            " block3_pool (MaxPooling2D)  (None, 18, 18, 256)       0         \n",
            "                                                                 \n",
            " block4_conv1 (Conv2D)       (None, 18, 18, 512)       1180160   \n",
            "                                                                 \n",
            " block4_conv2 (Conv2D)       (None, 18, 18, 512)       2359808   \n",
            "                                                                 \n",
            " block4_conv3 (Conv2D)       (None, 18, 18, 512)       2359808   \n",
            "                                                                 \n",
            " block4_pool (MaxPooling2D)  (None, 9, 9, 512)         0         \n",
            "                                                                 \n",
            " block5_conv1 (Conv2D)       (None, 9, 9, 512)         2359808   \n",
            "                                                                 \n",
            " block5_conv2 (Conv2D)       (None, 9, 9, 512)         2359808   \n",
            "                                                                 \n",
            " block5_conv3 (Conv2D)       (None, 9, 9, 512)         2359808   \n",
            "                                                                 \n",
            " block5_pool (MaxPooling2D)  (None, 4, 4, 512)         0         \n",
            "                                                                 \n",
            "=================================================================\n",
            "Total params: 14,714,688\n",
            "Trainable params: 14,714,688\n",
            "Non-trainable params: 0\n",
            "_________________________________________________________________\n"
          ]
        }
      ]
    },
    {
      "cell_type": "markdown",
      "metadata": {
        "id": "NTwZiSjiop3v"
      },
      "source": [
        "# III. CNN Keras Modeling"
      ]
    },
    {
      "cell_type": "markdown",
      "metadata": {
        "id": "j5CT0TurJCkc"
      },
      "source": [
        "> ## 1) Model Define"
      ]
    },
    {
      "cell_type": "markdown",
      "metadata": {
        "id": "ydDCl0jTJD58"
      },
      "source": [
        "* Feature Extraction & Classification"
      ]
    },
    {
      "cell_type": "code",
      "metadata": {
        "id": "II0DskRdAcHS"
      },
      "source": [
        "from tensorflow.keras import layers\n",
        "from tensorflow.keras import models\n",
        "\n",
        "model = models.Sequential(name = 'CNN_VGG16')\n",
        "model.add(conv_base)\n",
        "\n",
        "model.add(layers.Flatten())\n",
        "model.add(layers.Dropout(0.5))\n",
        "model.add(layers.Dense(512, activation = 'relu'))\n",
        "model.add(layers.Dense(10, activation = 'softmax'))"
      ],
      "execution_count": 22,
      "outputs": []
    },
    {
      "cell_type": "code",
      "metadata": {
        "id": "wbtjOA4XMTUd",
        "colab": {
          "base_uri": "https://localhost:8080/"
        },
        "outputId": "170e1a74-8997-4586-b7ef-003aba018ed8"
      },
      "source": [
        "model.summary()"
      ],
      "execution_count": 23,
      "outputs": [
        {
          "output_type": "stream",
          "name": "stdout",
          "text": [
            "Model: \"CNN_VGG16\"\n",
            "_________________________________________________________________\n",
            " Layer (type)                Output Shape              Param #   \n",
            "=================================================================\n",
            " vgg16 (Functional)          (None, 4, 4, 512)         14714688  \n",
            "                                                                 \n",
            " flatten_1 (Flatten)         (None, 8192)              0         \n",
            "                                                                 \n",
            " dropout_1 (Dropout)         (None, 8192)              0         \n",
            "                                                                 \n",
            " dense_2 (Dense)             (None, 512)               4194816   \n",
            "                                                                 \n",
            " dense_3 (Dense)             (None, 10)                5130      \n",
            "                                                                 \n",
            "=================================================================\n",
            "Total params: 18,914,634\n",
            "Trainable params: 18,914,634\n",
            "Non-trainable params: 0\n",
            "_________________________________________________________________\n"
          ]
        }
      ]
    },
    {
      "cell_type": "markdown",
      "metadata": {
        "id": "tpjBDBeYoyuj"
      },
      "source": [
        "> ## 2) Model Compile"
      ]
    },
    {
      "cell_type": "markdown",
      "metadata": {
        "id": "f3sxkQa0JoUr"
      },
      "source": [
        "* 모델 학습방법 설정"
      ]
    },
    {
      "cell_type": "code",
      "metadata": {
        "id": "AyK_t1qwAi6M"
      },
      "source": [
        "from tensorflow.keras import optimizers\n",
        "\n",
        "model.compile(loss = 'categorical_crossentropy',\n",
        "              optimizer = optimizers.Adam(learning_rate = 0.000005),\n",
        "              metrics = ['accuracy'])"
      ],
      "execution_count": 24,
      "outputs": []
    },
    {
      "cell_type": "markdown",
      "metadata": {
        "id": "umiq4B-Xo3OB"
      },
      "source": [
        "> ## 3) Model Fit"
      ]
    },
    {
      "cell_type": "markdown",
      "metadata": {
        "id": "1KuXREziKMD1"
      },
      "source": [
        "* 약 25분"
      ]
    },
    {
      "cell_type": "code",
      "metadata": {
        "id": "zxwqwAqRAqRP",
        "colab": {
          "base_uri": "https://localhost:8080/"
        },
        "outputId": "d0607434-38cf-4083-8d80-a1ec5c754891"
      },
      "source": [
        "%%time\n",
        "\n",
        "Hist_animal = model.fit(train_generator,\n",
        "                        steps_per_epoch = 250,\n",
        "                        epochs = 30,\n",
        "                        validation_data = valid_generator,\n",
        "                        validation_steps = 150)"
      ],
      "execution_count": 25,
      "outputs": [
        {
          "output_type": "stream",
          "name": "stdout",
          "text": [
            "Epoch 1/30\n",
            "250/250 [==============================] - 64s 237ms/step - loss: 2.3880 - accuracy: 0.1380 - val_loss: 1.9347 - val_accuracy: 0.2947\n",
            "Epoch 2/30\n",
            "250/250 [==============================] - 58s 232ms/step - loss: 1.8263 - accuracy: 0.3444 - val_loss: 1.4054 - val_accuracy: 0.5020\n",
            "Epoch 3/30\n",
            "250/250 [==============================] - 60s 238ms/step - loss: 1.4666 - accuracy: 0.4750 - val_loss: 1.2406 - val_accuracy: 0.5620\n",
            "Epoch 4/30\n",
            "250/250 [==============================] - 58s 230ms/step - loss: 1.2329 - accuracy: 0.5666 - val_loss: 1.1144 - val_accuracy: 0.6137\n",
            "Epoch 5/30\n",
            "250/250 [==============================] - 58s 230ms/step - loss: 1.1015 - accuracy: 0.6102 - val_loss: 0.9704 - val_accuracy: 0.6737\n",
            "Epoch 6/30\n",
            "250/250 [==============================] - 58s 230ms/step - loss: 0.9900 - accuracy: 0.6550 - val_loss: 0.9377 - val_accuracy: 0.6917\n",
            "Epoch 7/30\n",
            "250/250 [==============================] - 58s 230ms/step - loss: 0.8971 - accuracy: 0.6932 - val_loss: 0.8648 - val_accuracy: 0.7170\n",
            "Epoch 8/30\n",
            "250/250 [==============================] - 58s 229ms/step - loss: 0.8482 - accuracy: 0.7048 - val_loss: 0.7992 - val_accuracy: 0.7500\n",
            "Epoch 9/30\n",
            "250/250 [==============================] - 58s 231ms/step - loss: 0.8235 - accuracy: 0.7086 - val_loss: 0.8425 - val_accuracy: 0.7397\n",
            "Epoch 10/30\n",
            "250/250 [==============================] - 60s 238ms/step - loss: 0.7393 - accuracy: 0.7364 - val_loss: 0.7720 - val_accuracy: 0.7637\n",
            "Epoch 11/30\n",
            "250/250 [==============================] - 58s 230ms/step - loss: 0.7052 - accuracy: 0.7570 - val_loss: 0.6858 - val_accuracy: 0.7820\n",
            "Epoch 12/30\n",
            "250/250 [==============================] - 61s 244ms/step - loss: 0.6718 - accuracy: 0.7716 - val_loss: 0.7690 - val_accuracy: 0.7710\n",
            "Epoch 13/30\n",
            "250/250 [==============================] - 58s 233ms/step - loss: 0.6364 - accuracy: 0.7766 - val_loss: 0.6575 - val_accuracy: 0.7943\n",
            "Epoch 14/30\n",
            "250/250 [==============================] - 58s 231ms/step - loss: 0.6014 - accuracy: 0.7992 - val_loss: 0.6122 - val_accuracy: 0.8097\n",
            "Epoch 15/30\n",
            "250/250 [==============================] - 58s 231ms/step - loss: 0.5620 - accuracy: 0.8108 - val_loss: 0.6524 - val_accuracy: 0.8033\n",
            "Epoch 16/30\n",
            "250/250 [==============================] - 58s 231ms/step - loss: 0.5418 - accuracy: 0.8144 - val_loss: 0.6610 - val_accuracy: 0.8027\n",
            "Epoch 17/30\n",
            "250/250 [==============================] - 59s 237ms/step - loss: 0.5166 - accuracy: 0.8204 - val_loss: 0.6944 - val_accuracy: 0.8033\n",
            "Epoch 18/30\n",
            "250/250 [==============================] - 58s 230ms/step - loss: 0.5189 - accuracy: 0.8216 - val_loss: 0.6227 - val_accuracy: 0.8157\n",
            "Epoch 19/30\n",
            "250/250 [==============================] - 58s 232ms/step - loss: 0.4774 - accuracy: 0.8384 - val_loss: 0.6444 - val_accuracy: 0.8170\n",
            "Epoch 20/30\n",
            "250/250 [==============================] - 60s 238ms/step - loss: 0.4685 - accuracy: 0.8378 - val_loss: 0.6531 - val_accuracy: 0.8127\n",
            "Epoch 21/30\n",
            "250/250 [==============================] - 57s 229ms/step - loss: 0.4426 - accuracy: 0.8446 - val_loss: 0.5809 - val_accuracy: 0.8300\n",
            "Epoch 22/30\n",
            "250/250 [==============================] - 58s 230ms/step - loss: 0.4170 - accuracy: 0.8588 - val_loss: 0.6035 - val_accuracy: 0.8273\n",
            "Epoch 23/30\n",
            "250/250 [==============================] - 58s 231ms/step - loss: 0.4167 - accuracy: 0.8536 - val_loss: 0.6534 - val_accuracy: 0.8173\n",
            "Epoch 24/30\n",
            "250/250 [==============================] - 58s 231ms/step - loss: 0.3886 - accuracy: 0.8670 - val_loss: 0.6184 - val_accuracy: 0.8283\n",
            "Epoch 25/30\n",
            "250/250 [==============================] - 58s 231ms/step - loss: 0.3847 - accuracy: 0.8672 - val_loss: 0.5907 - val_accuracy: 0.8347\n",
            "Epoch 26/30\n",
            "250/250 [==============================] - 58s 231ms/step - loss: 0.3696 - accuracy: 0.8764 - val_loss: 0.5852 - val_accuracy: 0.8417\n",
            "Epoch 27/30\n",
            "250/250 [==============================] - 58s 231ms/step - loss: 0.3481 - accuracy: 0.8762 - val_loss: 0.5795 - val_accuracy: 0.8343\n",
            "Epoch 28/30\n",
            "250/250 [==============================] - 57s 229ms/step - loss: 0.3240 - accuracy: 0.8922 - val_loss: 0.6241 - val_accuracy: 0.8397\n",
            "Epoch 29/30\n",
            "250/250 [==============================] - 58s 230ms/step - loss: 0.3320 - accuracy: 0.8882 - val_loss: 0.5431 - val_accuracy: 0.8473\n",
            "Epoch 30/30\n",
            "250/250 [==============================] - 58s 231ms/step - loss: 0.3125 - accuracy: 0.8952 - val_loss: 0.6423 - val_accuracy: 0.8327\n",
            "CPU times: user 39min 57s, sys: 40.4 s, total: 40min 37s\n",
            "Wall time: 33min 6s\n"
          ]
        }
      ]
    },
    {
      "cell_type": "markdown",
      "metadata": {
        "id": "FnnIyFtNKhbD"
      },
      "source": [
        "> ## 4) 학습 결과 시각화"
      ]
    },
    {
      "cell_type": "code",
      "metadata": {
        "id": "BRIqZjTOWaN2",
        "colab": {
          "base_uri": "https://localhost:8080/",
          "height": 333
        },
        "outputId": "98f8cabf-33be-4385-fdee-e2f1437664e0"
      },
      "source": [
        "import matplotlib.pyplot as plt\n",
        "\n",
        "epochs = range(1, len(Hist_animal.history['loss']) + 1)\n",
        "\n",
        "plt.figure(figsize = (15, 5))\n",
        "\n",
        "plt.subplot(1, 2, 1)\n",
        "plt.plot(epochs, Hist_animal.history['loss'], 'b-')\n",
        "plt.plot(epochs, Hist_animal.history['val_loss'], 'r--')\n",
        "plt.title('Training & Validation Loss')\n",
        "plt.xlabel('Epochs')\n",
        "plt.ylabel('Loss')\n",
        "plt.legend(['Training Loss', 'Validation Loss'])\n",
        "plt.grid()\n",
        "\n",
        "plt.subplot(1, 2, 2)\n",
        "plt.plot(epochs, Hist_animal.history['accuracy'], 'b-')\n",
        "plt.plot(epochs, Hist_animal.history['val_accuracy'], 'r--')\n",
        "plt.title('Training & Validation Accuracy')\n",
        "plt.xlabel('Epochs')\n",
        "plt.ylabel('Accuracy')\n",
        "plt.legend(['Training Accuracy', 'Validation Accuracy'])\n",
        "plt.grid()\n",
        "\n",
        "plt.show()"
      ],
      "execution_count": 26,
      "outputs": [
        {
          "output_type": "display_data",
          "data": {
            "text/plain": [
              "<Figure size 1500x500 with 2 Axes>"
            ],
            "image/png": "[encoded data removed]"
          },
          "metadata": {}
        }
      ]
    },
    {
      "cell_type": "markdown",
      "metadata": {
        "id": "_uJSOLBko7lh"
      },
      "source": [
        "> ## 5) Model Evaluate"
      ]
    },
    {
      "cell_type": "markdown",
      "metadata": {
        "id": "vqd33SF_RG3q"
      },
      "source": [
        "* test_generator"
      ]
    },
    {
      "cell_type": "code",
      "metadata": {
        "id": "2SZddYK7RLov",
        "colab": {
          "base_uri": "https://localhost:8080/"
        },
        "outputId": "5b430c51-de59-4238-a470-c22c751d8e51"
      },
      "source": [
        "test_datagen = ImageDataGenerator(rescale = 1./255)\n",
        "\n",
        "test_generator = test_datagen.flow_from_directory(\n",
        "                 test_dir,\n",
        "                 target_size = (150, 150),\n",
        "                 batch_size = 20,\n",
        "                 class_mode = 'categorical')"
      ],
      "execution_count": 27,
      "outputs": [
        {
          "output_type": "stream",
          "name": "stdout",
          "text": [
            "Found 3000 images belonging to 10 classes.\n"
          ]
        }
      ]
    },
    {
      "cell_type": "markdown",
      "metadata": {
        "id": "i-TqAB2ALGzZ"
      },
      "source": [
        "* Loss & Accuracy"
      ]
    },
    {
      "cell_type": "code",
      "metadata": {
        "id": "OF30PuZsAxQJ",
        "colab": {
          "base_uri": "https://localhost:8080/"
        },
        "outputId": "c393ef6f-1a93-4ab6-b50e-867d487e730e"
      },
      "source": [
        "loss, accuracy = model.evaluate(test_generator,\n",
        "                                steps = 150, \n",
        "                                verbose = 0)\n",
        "\n",
        "print('Loss = {:.5f}'.format(loss))\n",
        "print('Accuracy = {:.5f}'.format(accuracy))"
      ],
      "execution_count": 28,
      "outputs": [
        {
          "output_type": "stream",
          "name": "stdout",
          "text": [
            "Loss = 0.65974\n",
            "Accuracy = 0.83033\n"
          ]
        }
      ]
    },
    {
      "cell_type": "markdown",
      "metadata": {
        "id": "sN48I9GrLxOX"
      },
      "source": [
        "# \n",
        "# \n",
        "# \n",
        "# The End\n",
        "# \n",
        "# \n",
        "# "
      ]
    },
    {
      "cell_type": "code",
      "source": [],
      "metadata": {
        "id": "UZiJsHnrMdQ6"
      },
      "execution_count": null,
      "outputs": []
    }
  ]
}