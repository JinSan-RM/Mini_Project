{
  "nbformat": 4,
  "nbformat_minor": 0,
  "metadata": {
    "colab": {
      "provenance": []
    },
    "kernelspec": {
      "name": "python3",
      "display_name": "Python 3"
    },
    "language_info": {
      "name": "python"
    }
  },
  "cells": [
    {
      "cell_type": "markdown",
      "source": [
        "# Filters"
      ],
      "metadata": {
        "id": "_lzPBZzX43N-"
      }
    },
    {
      "cell_type": "code",
      "execution_count": 4,
      "metadata": {
        "id": "JAqUp5HQ4xg8"
      },
      "outputs": [],
      "source": [
        "import warnings\n",
        "warnings.filterwarnings('ignore')"
      ]
    },
    {
      "cell_type": "markdown",
      "source": [
        "# I. Fashion-MNIST Data_Set Load"
      ],
      "metadata": {
        "id": "DC5SVi2X5Jwz"
      }
    },
    {
      "cell_type": "code",
      "source": [
        "from tensorflow.keras.datasets import fashion_mnist\n",
        "\n",
        "(X_train, y_train), (X_test, y_test) = fashion_mnist.load_data()"
      ],
      "metadata": {
        "colab": {
          "base_uri": "https://localhost:8080/"
        },
        "id": "75XuN4VF4759",
        "outputId": "37b835bf-771e-487c-f92a-f9028745ef76"
      },
      "execution_count": 5,
      "outputs": [
        {
          "output_type": "stream",
          "name": "stdout",
          "text": [
            "Downloading data from https://storage.googleapis.com/tensorflow/tf-keras-datasets/train-labels-idx1-ubyte.gz\n",
            "29515/29515 [==============================] - 0s 0us/step\n",
            "Downloading data from https://storage.googleapis.com/tensorflow/tf-keras-datasets/train-images-idx3-ubyte.gz\n",
            "26421880/26421880 [==============================] - 0s 0us/step\n",
            "Downloading data from https://storage.googleapis.com/tensorflow/tf-keras-datasets/t10k-labels-idx1-ubyte.gz\n",
            "5148/5148 [==============================] - 0s 0us/step\n",
            "Downloading data from https://storage.googleapis.com/tensorflow/tf-keras-datasets/t10k-images-idx3-ubyte.gz\n",
            "4422102/4422102 [==============================] - 0s 0us/step\n"
          ]
        }
      ]
    },
    {
      "cell_type": "markdown",
      "source": [
        "# II. Image 확인"
      ],
      "metadata": {
        "id": "YpXQpoRR5gz9"
      }
    },
    {
      "cell_type": "code",
      "source": [
        "import matplotlib.pyplot as plt\n",
        "\n",
        "plt.figure(figsize = (7, 7))\n",
        "plt.imshow(X_train[99], cmap = 'gray')\n",
        "plt.title('Image')\n",
        "plt.show()"
      ],
      "metadata": {
        "colab": {
          "base_uri": "https://localhost:8080/",
          "height": 622
        },
        "id": "s4iun3JU5WMh",
        "outputId": "765143a3-476f-4648-be5a-488551f90bb3"
      },
      "execution_count": 6,
      "outputs": [
        {
          "output_type": "display_data",
          "data": {
            "text/plain": [
              "<Figure size 700x700 with 1 Axes>"
            ],
            "image/png": "[encoded data removed]"
          },
          "metadata": {}
        }
      ]
    },
    {
      "cell_type": "markdown",
      "source": [
        "# III. Filter 생성 및 Image 수정\n",
        "\n",
        "> ## 1) 가로선 추출 필터"
      ],
      "metadata": {
        "id": "D6LpEOXf5y4z"
      }
    },
    {
      "cell_type": "code",
      "source": [
        "import numpy as np\n",
        "\n",
        "H_Filter = np.array([[-1., -2., -1.],\n",
        "                     [0., 0., 0.],\n",
        "                     [1., 2., 1.]])\n",
        "print(H_Filter)"
      ],
      "metadata": {
        "colab": {
          "base_uri": "https://localhost:8080/"
        },
        "id": "I5-h_yi65rMj",
        "outputId": "bc3fa5b0-1b5f-4be3-b303-d167da78f22f"
      },
      "execution_count": 7,
      "outputs": [
        {
          "output_type": "stream",
          "name": "stdout",
          "text": [
            "[[-1. -2. -1.]\n",
            " [ 0.  0.  0.]\n",
            " [ 1.  2.  1.]]\n"
          ]
        }
      ]
    },
    {
      "cell_type": "markdown",
      "source": [
        "> ## 2) 세로선 추출 필터"
      ],
      "metadata": {
        "id": "GnYkrTfY6ScN"
      }
    },
    {
      "cell_type": "code",
      "source": [
        "V_Filter = np.array([[-1., 0., 1.],\n",
        "                     [-2., 0., 2.],\n",
        "                     [-1., 0., 1.]])\n",
        "print(V_Filter)"
      ],
      "metadata": {
        "colab": {
          "base_uri": "https://localhost:8080/"
        },
        "id": "SNOL8NA56RQY",
        "outputId": "f06761d1-7824-446a-cabf-c9da64ee98a9"
      },
      "execution_count": 8,
      "outputs": [
        {
          "output_type": "stream",
          "name": "stdout",
          "text": [
            "[[-1.  0.  1.]\n",
            " [-2.  0.  2.]\n",
            " [-1.  0.  1.]]\n"
          ]
        }
      ]
    },
    {
      "cell_type": "markdown",
      "source": [
        "> ## 3) 이미지 크기 변경\n",
        "\n",
        "- (28 x 28) -> (27 x 27)"
      ],
      "metadata": {
        "id": "6Hgm1wGC6tIT"
      }
    },
    {
      "cell_type": "code",
      "source": [
        "import cv2\n",
        "\n",
        "test_image = cv2.resize(X_train[99], (27, 27))\n",
        "\n",
        "print(X_train[99].shape, test_image.shape)"
      ],
      "metadata": {
        "colab": {
          "base_uri": "https://localhost:8080/"
        },
        "id": "vnVBd8kt6aM1",
        "outputId": "8c665e5a-9a42-4358-c24a-dcf79cca1b9c"
      },
      "execution_count": 9,
      "outputs": [
        {
          "output_type": "stream",
          "name": "stdout",
          "text": [
            "(28, 28) (27, 27)\n"
          ]
        }
      ]
    },
    {
      "cell_type": "markdown",
      "source": [
        "# IV. Convolutional with Filters\n",
        "\n",
        "> ## 1) conv_image( ) 정의"
      ],
      "metadata": {
        "id": "6f6KYLKr7HBI"
      }
    },
    {
      "cell_type": "code",
      "source": [
        "filter_size = 3\n",
        "output_size = 25\n",
        "\n",
        "def conv_image(filter):\n",
        "    filtered_image = np.zeros((output_size, output_size))\n",
        "    for i in range(output_size):\n",
        "        for j in range(output_size):\n",
        "            indice_image = test_image[i:(i + filter_size), j:(j + filter_size)] * filter\n",
        "            indice_sum = np.sum(indice_image)\n",
        "\n",
        "            if(indice_sum > 255):\n",
        "                indice_sum = 255\n",
        "            filtered_image[i, j] = indice_sum\n",
        "    return filtered_image"
      ],
      "metadata": {
        "id": "C6pACxmT68zC"
      },
      "execution_count": 15,
      "outputs": []
    },
    {
      "cell_type": "markdown",
      "source": [
        "> ## 2) H_Filter 적용"
      ],
      "metadata": {
        "id": "l0rHHY048ILJ"
      }
    },
    {
      "cell_type": "code",
      "source": [
        "H_conv_image = conv_image(H_Filter)\n",
        "plt.figure(figsize = (7, 7))\n",
        "plt.xticks([])\n",
        "plt.yticks([])\n",
        "plt.title('Horizontal Output')\n",
        "plt.imshow(H_conv_image, cmap = 'gray')\n",
        "plt.show()"
      ],
      "metadata": {
        "colab": {
          "base_uri": "https://localhost:8080/",
          "height": 598
        },
        "id": "yGgATCif8IkD",
        "outputId": "1a0b3150-6233-4030-ae15-de8929c751d4"
      },
      "execution_count": 16,
      "outputs": [
        {
          "output_type": "display_data",
          "data": {
            "text/plain": [
              "<Figure size 700x700 with 1 Axes>"
            ],
            "image/png": "[encoded data removed]"
          },
          "metadata": {}
        }
      ]
    },
    {
      "cell_type": "markdown",
      "source": [
        "> ## 3) V_Filter 적용"
      ],
      "metadata": {
        "id": "a3nJnBWf8wKY"
      }
    },
    {
      "cell_type": "code",
      "source": [
        "V_conv_image = conv_image(V_Filter)\n",
        "\n",
        "plt.figure(figsize = (7, 7))\n",
        "plt.xticks([])\n",
        "plt.yticks([])\n",
        "plt.title('Vertical Output')\n",
        "plt.imshow(V_conv_image, cmap = 'gray')\n",
        "plt.show()"
      ],
      "metadata": {
        "colab": {
          "base_uri": "https://localhost:8080/",
          "height": 598
        },
        "id": "SJsK7DJD8Y4I",
        "outputId": "793843c3-9f48-469c-d321-5ae6b92539b0"
      },
      "execution_count": 17,
      "outputs": [
        {
          "output_type": "display_data",
          "data": {
            "text/plain": [
              "<Figure size 700x700 with 1 Axes>"
            ],
            "image/png": "[encoded data removed]"
          },
          "metadata": {}
        }
      ]
    },
    {
      "cell_type": "markdown",
      "source": [
        "# V. 최종 결과\n",
        "\n",
        "- V_Filter and H_Filter"
      ],
      "metadata": {
        "id": "AYksmGgT9PpM"
      }
    },
    {
      "cell_type": "code",
      "source": [
        "sobel_image = np.sqrt(np.square(H_conv_image) + np.square(V_conv_image))\n",
        "\n",
        "plt.figure(figsize = (7, 7))\n",
        "plt.xticks([])\n",
        "plt.yticks([])\n",
        "plt.title('Vertical & Horizontal Output')\n",
        "plt.imshow(sobel_image, cmap = 'gray')\n",
        "\n",
        "plt.show()"
      ],
      "metadata": {
        "colab": {
          "base_uri": "https://localhost:8080/",
          "height": 598
        },
        "id": "R4iof97S9NsW",
        "outputId": "e2e532ee-71fc-4b5d-854f-a97094eeddb5"
      },
      "execution_count": 18,
      "outputs": [
        {
          "output_type": "display_data",
          "data": {
            "text/plain": [
              "<Figure size 700x700 with 1 Axes>"
            ],
            "image/png": "[encoded data removed]"
          },
          "metadata": {}
        }
      ]
    },
    {
      "cell_type": "code",
      "source": [],
      "metadata": {
        "id": "JA8FTKMN9lXl"
      },
      "execution_count": null,
      "outputs": []
    }
  ]
}