{
 "cells": [
  {
   "cell_type": "markdown",
   "metadata": {},
   "source": [
    "## 설명\n",
    "\n",
    "데이터셋을 train, test, validation 을 각각 7:1.5:1.5 비율로 분배하는 코드"
   ]
  },
  {
   "cell_type": "markdown",
   "metadata": {},
   "source": [
    "## 라이브러리 로드"
   ]
  },
  {
   "cell_type": "code",
   "execution_count": 4,
   "metadata": {},
   "outputs": [],
   "source": [
    "import os\n",
    "import random\n",
    "import shutil"
   ]
  },
  {
   "cell_type": "markdown",
   "metadata": {},
   "source": [
    "## 이미지 경로 지정"
   ]
  },
  {
   "cell_type": "code",
   "execution_count": 7,
   "metadata": {},
   "outputs": [],
   "source": [
    "target = 'header'; # block | header | footer\n",
    "\n",
    "# 원본 이미지 디렉토리 경로\n",
    "source_dir = '/tf/datasets/step2_new/data/'+target+'/'\n",
    "# 나눈 이미지를 저장할 디렉토리 경로\n",
    "destination_dir = '/tf/datasets/step2_new/'+target+'/'\n",
    "\n",
    "\n",
    "# 각 세트의 비율 (train: 70%, test: 15%, validation: 15%)\n",
    "train_ratio = 0.7\n",
    "test_ratio = 0.15\n",
    "validation_ratio = 0.15\n",
    "\n",
    "# 각 세트에 해당하는 디렉토리 생성\n",
    "train_dir = os.path.join(destination_dir, 'train')\n",
    "test_dir = os.path.join(destination_dir, 'test')\n",
    "validation_dir = os.path.join(destination_dir, 'validation')\n",
    "\n",
    "os.makedirs(train_dir, exist_ok=True)\n",
    "os.makedirs(test_dir, exist_ok=True)\n",
    "os.makedirs(validation_dir, exist_ok=True)"
   ]
  },
  {
   "cell_type": "markdown",
   "metadata": {},
   "source": [
    "## 실행"
   ]
  },
  {
   "cell_type": "code",
   "execution_count": 8,
   "metadata": {},
   "outputs": [
    {
     "name": "stdout",
     "output_type": "stream",
     "text": [
      "Images split into train, test, and validation sets.\n"
     ]
    }
   ],
   "source": [
    "# 폴더와 파일을 순회하며 이미지 파일을 각 세트 디렉토리로 복사\n",
    "for root, dirs, files in os.walk(source_dir):\n",
    "    # 폴더 경로 생성\n",
    "    relative_path = os.path.relpath(root, source_dir)\n",
    "    train_path = os.path.join(train_dir, relative_path)\n",
    "    test_path = os.path.join(test_dir, relative_path)\n",
    "    validation_path = os.path.join(validation_dir, relative_path)\n",
    "    os.makedirs(train_path, exist_ok=True)\n",
    "    os.makedirs(test_path, exist_ok=True)\n",
    "    os.makedirs(validation_path, exist_ok=True)\n",
    "\n",
    "    # 파일 복사\n",
    "    for file in files:\n",
    "        source_path = os.path.join(root, file)\n",
    "        if random.random() < train_ratio:\n",
    "            destination_path = os.path.join(train_path, file)\n",
    "        elif random.random() < test_ratio:\n",
    "            destination_path = os.path.join(test_path, file)\n",
    "        else:\n",
    "            destination_path = os.path.join(validation_path, file)\n",
    "        shutil.copyfile(source_path, destination_path)\n",
    "\n",
    "print(\"Images split into train, test, and validation sets.\")"
   ]
  },
  {
   "cell_type": "code",
   "execution_count": null,
   "metadata": {},
   "outputs": [],
   "source": []
  }
 ],
 "metadata": {
  "kernelspec": {
   "display_name": "Python 3 (ipykernel)",
   "language": "python",
   "name": "python3"
  },
  "language_info": {
   "codemirror_mode": {
    "name": "ipython",
    "version": 3
   },
   "file_extension": ".py",
   "mimetype": "text/x-python",
   "name": "python",
   "nbconvert_exporter": "python",
   "pygments_lexer": "ipython3",
   "version": "3.8.10"
  }
 },
 "nbformat": 4,
 "nbformat_minor": 2
}
