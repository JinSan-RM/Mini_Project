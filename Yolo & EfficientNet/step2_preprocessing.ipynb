{
 "cells": [
  {
   "cell_type": "markdown",
   "id": "e1fb6a8a",
   "metadata": {},
   "source": [
    "# Ultralytics YOLO format\n",
    "\n",
    "## 1. Directory\n",
    "\n",
    "```powershell\n",
    "<Custom Dataset Directory>\n",
    "****├── 0.jpg\n",
    "├── 0.txt\n",
    "└── ...\n",
    "```\n",
    "\n",
    "### Split Dataset Directory\n",
    "\n",
    "```powershell\n",
    "rico_yolo\n",
    "├── test\n",
    "│   ├── 0.jpg\n",
    "│   ├── 0.txt\n",
    "│   └── ...\n",
    "├── train\n",
    "│   ├── 2.jpg\n",
    "│   ├── 2.txt\n",
    "│   └── ...\n",
    "└── val\n",
    "    ├── 36.jpg\n",
    "    ├── 36.txt\n",
    "    └── ...\n",
    "```\n",
    "\n",
    "## 2. Annotation\n",
    "\n",
    "```\n",
    "<object-class> <x> <y> <width> <height>\n",
    "```\n",
    "\n",
    "### 예시) 2.txt\n",
    "\n",
    "13 0.5 0.4833984375 0.7944444444444444 0.626171875\n",
    "3 0.5 0.758203125 0.7944444444444444 0.0765625\n",
    "21 0.7875 0.758203125 0.16111111111111112 0.065625\n",
    "6 0.5 0.4451171875 0.7944444444444444 0.549609375\n",
    "21 0.5 0.198046875 0.6777777777777778 0.05546875\n",
    "21 0.35381944444444446 0.2568359375 0.3854166666666667 0.062109375\n",
    "8 0.2013888888888889 0.358984375 0.11666666666666667 0.065625\n",
    "8 0.7986111111111112 0.358984375 0.11666666666666667 0.065625\n",
    "\n",
    "## Dataset File Format"
   ]
  },
  {
   "cell_type": "code",
   "execution_count": null,
   "id": "30baae13",
   "metadata": {},
   "outputs": [],
   "source": [
    "yaml_text = \"\"\"\n",
    "train: /tf/notebook/step1/train\n",
    "val: /tf/notebook/step1/val\n",
    "test: /tf/notebook/step1/test\n",
    "\n",
    "nc:13 \n",
    "names:\n",
    "      0: banner\n",
    "      1: 2block\n",
    "      2: 3block\n",
    "      3: 4block\n",
    "      4: 5block\n",
    "      5: 6block\n",
    "      6: 7block\n",
    "      7: 8block\n",
    "      8: nblock\n",
    "      9: typo \n",
    "      10: gallery\n",
    "      11: header\n",
    "      12: footer\n",
    "\"\"\"\n",
    "with open('/tf/notebook/step1/data.yaml', 'w') as file:\n",
    "    file.write(yaml_text)"
   ]
  },
  {
   "cell_type": "code",
   "execution_count": null,
   "id": "e8095c94",
   "metadata": {},
   "outputs": [],
   "source": [
    "### 작업 디렉토리\n",
    "\n",
    "'''powershell\n",
    "weven\n",
    "├── datasets\n",
    "│   └── Obejectblock\n",
    "└── notebooks\n",
    "    └── read_rico_dataset.ipynb\n",
    "\n",
    "'''\n",
    "# Import Libraries"
   ]
  },
  {
   "cell_type": "code",
   "execution_count": null,
   "id": "dae18f61",
   "metadata": {},
   "outputs": [],
   "source": [
    "# Step 3 Training - Preparing  Dataset for YOLO\n",
    "\n",
    "\n",
    "\n",
    "\n",
    "from pathlib import Path\n",
    "import json\n",
    "import functools\n",
    "import itertools\n",
    "import shutil\n",
    "import numpy as np\n",
    "import pandas as pd\n",
    "from PIL import Image\n",
    "\n",
    "\n"
   ]
  },
  {
   "cell_type": "markdown",
   "id": "8c2a94a1",
   "metadata": {},
   "source": [
    "## For parallel computing\n"
   ]
  },
  {
   "cell_type": "code",
   "execution_count": null,
   "id": "6863873b",
   "metadata": {},
   "outputs": [],
   "source": [
    "import concurrent.futures\n",
    "num_workers = 32  # The number of threads or processes"
   ]
  },
  {
   "cell_type": "markdown",
   "id": "01f6f8b7",
   "metadata": {},
   "source": [
    "# mt_executor = concurrent.futures.ThreadPoolExecutor(num_workers)  \n",
    "# Use ThreadPoolExecutor for CPU-bound tasks.\n",
    "# mp_executor = concurrent.futures.ProcessPoolExecutor(num_workers)  \n",
    "# Use ProcessPoolExecutor for I/O-bound tasks."
   ]
  },
  {
   "cell_type": "markdown",
   "id": "cab3547d",
   "metadata": {},
   "source": [
    "#  dataset path settings"
   ]
  },
  {
   "cell_type": "code",
   "execution_count": null,
   "id": "38b5d7f1",
   "metadata": {},
   "outputs": [],
   "source": [
    "screenshots_path = Path('../datasets/Object/~')  # 66261 '.jpg' and '.json'\n",
    "annotations_path = Path('../datasets/Object/~/')  # 66261 '.png' and 'json'\n",
    "\n",
    "image_ids = pd.Series([int(p.stem) for p in screenshots_path.iterdir() if p.suffix == '.json'], name='image_id')\n",
    "image_ids = image_ids.sort_values().reset_index(drop='index')\n",
    "\n",
    "screenshot_paths = [screenshots_path / f'{image_id}.jpg' for image_id in image_ids]\n",
    "annotation_paths = [annotations_path / f'{image_id}.png' for image_id in image_ids]\n",
    "view_hierarchy_json_paths = [screenshots_path / f'{image_id}.json' for image_id in image_ids]\n",
    "annotation_hierarchy_json_paths = [annotations_path / f'{image_id}.json' for image_id in image_ids]\n",
    "\n",
    "\n",
    "\n"
   ]
  },
  {
   "cell_type": "markdown",
   "id": "6965b090",
   "metadata": {},
   "source": [
    "## Read hierarchy json files\n"
   ]
  },
  {
   "cell_type": "code",
   "execution_count": null,
   "id": "92986973",
   "metadata": {},
   "outputs": [],
   "source": [
    "def get_hierarchy_from_json(json_path):\n",
    "    with open(json_path) as fp:\n",
    "        hierarchy = json.load(fp)\n",
    "        return hierarchy\n",
    "\n",
    "with concurrent.futures.ProcessPoolExecutor(num_workers) as mp_executor:\n",
    "    annotation_hierarchies = mp_executor.map(get_hierarchy_from_json, annotation_hierarchy_json_paths)\n",
    "    annotation_hierarchies = list(annotation_hierarchies)\n",
    "\n",
    "with concurrent.futures.ProcessPoolExecutor(num_workers) as mp_executor:\n",
    "    view_hierarchies = mp_executor.map(get_hierarchy_from_json, view_hierarchy_json_paths)\n",
    "    view_hierarchies = list(view_hierarchies)"
   ]
  },
  {
   "cell_type": "markdown",
   "id": "4b4c9f0e",
   "metadata": {},
   "source": [
    "# Get Image sizes (가로, 세로)\n"
   ]
  },
  {
   "cell_type": "code",
   "execution_count": null,
   "id": "0933297d",
   "metadata": {},
   "outputs": [],
   "source": [
    "def get_imsize(path):\n",
    "    im = Image.open(path)\n",
    "    return im.size\n",
    "\n",
    "with concurrent.futures.ProcessPoolExecutor(num_workers) as mp_executor:\n",
    "    screenshot_sizes = mp_executor.map(get_imsize, screenshot_paths)\n",
    "    screenshot_sizes = list(screenshot_sizes)\n",
    "\n",
    "with concurrent.futures.ProcessPoolExecutor(num_workers) as mp_executor:\n",
    "    annotation_sizes = mp_executor.map(get_imsize, annotation_paths)\n",
    "    annotation_sizes = list(annotation_sizes)\n",
    "\n",
    "screenshot_sizes_df = pd.DataFrame(screenshot_sizes, columns=['width', 'height'])\n",
    "annotation_sizes_df = pd.DataFrame(annotation_sizes, columns=['width', 'height'])\n",
    "\n",
    "screenshot_sizes_df.insert(0, 'image_id', image_ids)\n",
    "annotation_sizes_df.insert(0, 'image_id', image_ids)\n",
    "screenshot_sizes_df['ratio'] = screenshot_sizes_df['width'] / screenshot_sizes_df['height']\n",
    "\n"
   ]
  },
  {
   "cell_type": "markdown",
   "id": "83ba561a",
   "metadata": {},
   "source": [
    "# Get useful information from hierarchies\n",
    "\n",
    "## A. From view_hierarchies\n",
    "\n",
    "### 1. root size\n"
   ]
  },
  {
   "cell_type": "code",
   "execution_count": null,
   "id": "aa6b843c",
   "metadata": {},
   "outputs": [],
   "source": [
    "def get_root_size(hierarchy):\n",
    "    return hierarchy['activity']['root']['rel-bounds']\n",
    "\n",
    "root_sizes = map(get_root_size, view_hierarchies)\n",
    "\n",
    "root_sizes_df = pd.DataFrame(root_sizes, columns=['x1', 'y1', 'x2', 'y2'])\n",
    "root_sizes_df.insert(0, 'image_id', image_ids)\n",
    "root_sizes_df['ratio'] = root_sizes_df['x2'] / root_sizes_df['y2']\n",
    "\n",
    "\n",
    "\n",
    "\n"
   ]
  },
  {
   "cell_type": "markdown",
   "id": "359cb7ef",
   "metadata": {},
   "source": [
    "### 2. root classes\n"
   ]
  },
  {
   "cell_type": "code",
   "execution_count": null,
   "id": "2660a632",
   "metadata": {},
   "outputs": [],
   "source": [
    "def get_root_classes(hierarchy):\n",
    "    root_class_name = hierarchy['activity']['root']['class']\n",
    "    return root_class_name\n",
    "\n",
    "root_class_names = list(map(get_root_classes, view_hierarchies))\n",
    "pd.Series(root_class_names).value_counts()\n",
    "\n"
   ]
  },
  {
   "cell_type": "markdown",
   "id": "983a546a",
   "metadata": {},
   "source": [
    "\n",
    "\n",
    "## B. From annotaion_hierarchies\n",
    "\n"
   ]
  },
  {
   "cell_type": "code",
   "execution_count": null,
   "id": "3681b30b",
   "metadata": {},
   "outputs": [],
   "source": [
    "def get_unique_attributes(hierarchy, attribute_name):\n",
    "    uniques = set()\n",
    "\n",
    "    recursive_function = functools.partial(get_unique_attributes, attribute_name=attribute_name)\n",
    "    if type(hierarchy) is list:\n",
    "        uniques_list = map(recursive_function, hierarchy)\n",
    "        uniques |= functools.reduce(lambda x,y: x | y, uniques_list, set())\n",
    "    \n",
    "    if type(hierarchy) is dict:\n",
    "        if attribute_name in hierarchy:\n",
    "            uniques.add(hierarchy[attribute_name])\n",
    "    \n",
    "        if 'children' in hierarchy:\n",
    "            uniques |= recursive_function(hierarchy['children'])\n",
    "    \n",
    "    return uniques\n",
    "\n"
   ]
  },
  {
   "cell_type": "markdown",
   "id": "260c9f07",
   "metadata": {},
   "source": [
    "### 1. componentLabel, 2. iconClass, 3.textButtonClass"
   ]
  },
  {
   "cell_type": "code",
   "execution_count": null,
   "id": "58cd79d6",
   "metadata": {},
   "outputs": [],
   "source": [
    "all_component_labels = get_unique_attributes(annotation_hierarchies, 'componentLabel')\n",
    "icon_classes = get_unique_attributes(annotation_hierarchies, 'iconClass')\n",
    "text_button_classes = get_unique_attributes(annotation_hierarchies, 'textButtonClass')\n",
    "\n",
    "all_component_labels = sorted(list(all_component_labels))\n",
    "icon_classes = sorted(list(icon_classes))\n",
    "text_button_classes = sorted(list(text_button_classes))\n"
   ]
  },
  {
   "cell_type": "markdown",
   "id": "526fd2a3",
   "metadata": {},
   "source": [
    "# Get bounding boxes\n"
   ]
  },
  {
   "cell_type": "code",
   "execution_count": null,
   "id": "9c4dad71",
   "metadata": {},
   "outputs": [],
   "source": [
    "def get_component_and_bounds(hierarchy):\n",
    "    bboxes = []\n",
    "\n",
    "    if 'componentLabel' in hierarchy:\n",
    "        label = hierarchy['componentLabel']\n",
    "        x1, y1, x2, y2 = hierarchy['bounds']\n",
    "        bboxes.append(dict(label=label, x1=x1, y1=y1, x2=x2, y2=y2))\n",
    "\n",
    "    if 'children' in hierarchy:\n",
    "        bboxes += list(itertools.chain.from_iterable(map(get_component_and_bounds, hierarchy['children'])))\n",
    "    \n",
    "    return bboxes\n",
    "\n",
    "all_bboxes = list(map(get_component_and_bounds, annotation_hierarchies))\n"
   ]
  },
  {
   "cell_type": "markdown",
   "id": "45b42ff4",
   "metadata": {},
   "source": [
    "# Preprocess dataset\n",
    "\n",
    "### Drop duplicated boxes\n",
    "\n"
   ]
  },
  {
   "cell_type": "code",
   "execution_count": null,
   "id": "8cf55a54",
   "metadata": {},
   "outputs": [],
   "source": [
    "\n",
    "all_bbox_dfs = list(map(lambda x: pd.DataFrame(x).drop_duplicates().reset_index(drop=True), all_bboxes))\n",
    "\n",
    "\n",
    "\n",
    "all_bbox_df = pd.concat(all_bbox_dfs, keys=image_ids, names=['image_id', 'bbox_id'])\n",
    "all_bbox_df = all_bbox_df.convert_dtypes()"
   ]
  },
  {
   "cell_type": "markdown",
   "id": "f4fd7605",
   "metadata": {},
   "source": [
    "### **Find landscape view (wrong matches)**\n"
   ]
  },
  {
   "cell_type": "code",
   "execution_count": null,
   "id": "54f19889",
   "metadata": {},
   "outputs": [],
   "source": [
    "landscape_screenshot_df = screenshot_sizes_df[screenshot_sizes_df['ratio'] > 1]\n",
    "landscaped = all_bbox_df.index.isin(landscape_screenshot_df['image_id'], level='image_id')\n",
    "\n"
   ]
  },
  {
   "cell_type": "markdown",
   "id": "7c7e5b34",
   "metadata": {},
   "source": [
    "### **Find overflowed boxes**\n"
   ]
  },
  {
   "cell_type": "code",
   "execution_count": null,
   "id": "4c2fe435",
   "metadata": {},
   "outputs": [],
   "source": [
    "\n",
    "annotation_sizes = {'width': 1440, 'height': 2560}\n",
    "overflowed = all_bbox_df['x1'] < 0\n",
    "overflowed |= all_bbox_df['y1'] < 0\n",
    "overflowed |= all_bbox_df['x2'] > annotation_sizes['width']\n",
    "overflowed |= all_bbox_df['y2'] > annotation_sizes['height']"
   ]
  },
  {
   "cell_type": "markdown",
   "id": "e7ac387a",
   "metadata": {},
   "source": [
    "### **Find boxes with 0 or negative values**"
   ]
  },
  {
   "cell_type": "code",
   "execution_count": null,
   "id": "1c381804",
   "metadata": {},
   "outputs": [],
   "source": [
    "\n",
    "negated = all_bbox_df['x1'] >= all_bbox_df['x2']\n",
    "negated |= all_bbox_df['y1'] >= all_bbox_df['y2']\n"
   ]
  },
  {
   "cell_type": "markdown",
   "id": "8a672cdf",
   "metadata": {},
   "source": [
    "### **Filter out all corrupted boxes**"
   ]
  },
  {
   "cell_type": "code",
   "execution_count": null,
   "id": "27b22690",
   "metadata": {},
   "outputs": [],
   "source": [
    "bbox_df = all_bbox_df[~(landscaped | overflowed | negated)]"
   ]
  },
  {
   "cell_type": "markdown",
   "id": "5aa41488",
   "metadata": {},
   "source": [
    "# **Convert to YOLO format**"
   ]
  },
  {
   "cell_type": "code",
   "execution_count": null,
   "id": "435d3591",
   "metadata": {},
   "outputs": [],
   "source": [
    "class_index = pd.Series(list(all_component_labels))\n",
    "class_index = pd.Series(class_index.index.values, index=class_index)\n",
    "\n",
    "\n",
    "\n",
    "yolo_bbox_df = pd.DataFrame({\n",
    "    'label': pd.Series(class_index[bbox_df['label']].values, index=bbox_df.index),\n",
    "    'x': (bbox_df['x1'] + bbox_df['x2']) / 2 / annotation_sizes['width'],\n",
    "    'y': (bbox_df['y1'] + bbox_df['y2']) / 2 / annotation_sizes['height'],\n",
    "    'width': (bbox_df['x2'] - bbox_df['x1']) / annotation_sizes['width'],\n",
    "    'height': (bbox_df['y2'] - bbox_df['y1']) / annotation_sizes['height'],\n",
    "})\n"
   ]
  },
  {
   "cell_type": "markdown",
   "id": "52fc7c2d",
   "metadata": {},
   "source": [
    "# Create YOLO dataset"
   ]
  },
  {
   "cell_type": "code",
   "execution_count": null,
   "id": "22130d15",
   "metadata": {},
   "outputs": [],
   "source": [
    "object_yolo_path = Path('tf/datasets/datasets')\n",
    "object_yolo_path.mkdir(parents=True, exist_ok=True)"
   ]
  },
  {
   "cell_type": "markdown",
   "id": "0a858eb2",
   "metadata": {},
   "source": [
    "### Create txt file for each image\n"
   ]
  },
  {
   "cell_type": "code",
   "execution_count": null,
   "id": "d80ab300",
   "metadata": {},
   "outputs": [],
   "source": [
    "for image_id, image_bboxes_df in yolo_bbox_df.groupby('image_id'):\n",
    "    image_bboxes_df.to_csv(object_yolo_path / f'{image_id}.txt', sep=' ', header=False, index=False)"
   ]
  },
  {
   "cell_type": "markdown",
   "id": "de56a725",
   "metadata": {},
   "source": [
    "### Create dataset yaml file"
   ]
  },
  {
   "cell_type": "code",
   "execution_count": null,
   "id": "711abeb7",
   "metadata": {},
   "outputs": [],
   "source": [
    "!"
   ]
  },
  {
   "cell_type": "code",
   "execution_count": null,
   "id": "886fa794",
   "metadata": {},
   "outputs": [],
   "source": [
    "import os\n",
    "import shutil\n",
    "import random\n",
    "\n",
    "# 데이터셋 폴더 경로\n",
    "dataset_path = '/tf/notebook/Object_Detect/datasets'\n",
    "train_path = 'train'\n",
    "test_path = 'test'\n",
    "valid_path = 'valid'\n",
    "\n",
    "# train, test, valid 폴더 생성\n",
    "os.makedirs(train_path, exist_ok=True)\n",
    "os.makedirs(test_path, exist_ok=True)\n",
    "os.makedirs(valid_path, exist_ok=True)\n",
    "\n",
    "# 데이터셋 파일 리스트 생성\n",
    "file_list = os.listdir(dataset_path)\n",
    "\n",
    "# 파일 리스트를 무작위로 섞음\n",
    "random.shuffle(file_list)\n",
    "\n",
    "# 데이터셋을 train:test:valid = 70:15:15로 나눔\n",
    "train_size = int(0.7 * len(file_list))\n",
    "test_size = int(0.15 * len(file_list))\n",
    "\n"
   ]
  },
  {
   "cell_type": "code",
   "execution_count": 7,
   "id": "6c362a62-0ce1-40e3-a21e-e483b2f007ab",
   "metadata": {},
   "outputs": [
    {
     "name": "stdout",
     "output_type": "stream",
     "text": [
      "완료되었습니다.\n"
     ]
    }
   ],
   "source": [
    "import os\n",
    "\n",
    "# 폴더 경로 설정\n",
    "folder_path = '/tf/notebook/step2_1_imagedata' # 여기에 실제 폴더 경로를 입력하세요.\n",
    "start_numbers = ['0', '1', '2', '3','4','5','6','7','8','9','10','11','12','13','14','15','16','17','18','19','20','21','22']  # 여기에 원하는 숫자들을 리스트 형태로 입력하세요.\n",
    "\n",
    "# 지정된 폴더 내의 모든 .txt 파일을 찾아서 처리\n",
    "for filename in os.listdir(folder_path):\n",
    "    if filename.endswith('.txt'):\n",
    "        file_path = os.path.join(folder_path, filename)\n",
    "        with open(file_path, 'r') as file:\n",
    "            lines = file.readlines()\n",
    "\n",
    "        # 첫 번째 문자가 리스트 안의 숫자 중 하나인 줄만 남김\n",
    "        with open(file_path, 'w') as file:\n",
    "            for line in lines:\n",
    "                if line[0] in start_numbers:  # 첫 번째 문자 확인\n",
    "                    file.write(line)\n",
    "\n",
    "print(\"완료되었습니다.\")"
   ]
  },
  {
   "cell_type": "code",
   "execution_count": 2,
   "id": "1a11c521-82d2-4b82-bc0c-10116a5e898c",
   "metadata": {},
   "outputs": [
    {
     "name": "stdout",
     "output_type": "stream",
     "text": [
      "처리 완료되었습니다.\n"
     ]
    }
   ],
   "source": [
    "import os\n",
    "\n",
    "folder_path = '/tf/notebook/step2_1_imagedata' # 폴더 경로를 여기에 입력하세요\n",
    "start_numbers = [str(i) for i in range(23)]  # 0부터 22까지의 숫자를 문자열 리스트로 변환\n",
    "\n",
    "for filename in os.listdir(folder_path):\n",
    "    if filename.endswith('.txt'):\n",
    "        file_path = os.path.join(folder_path, filename)\n",
    "        \n",
    "        with open(file_path, 'r') as file:\n",
    "            lines = []\n",
    "            for line in file:\n",
    "                if line.strip() and line[0] in start_numbers:\n",
    "                    lines.append(line)\n",
    "\n",
    "        with open(file_path, 'w') as file:\n",
    "            file.writelines(lines)\n",
    "\n",
    "print(\"처리 완료되었습니다.\")\n"
   ]
  },
  {
   "cell_type": "code",
   "execution_count": 3,
   "id": "201466c8-837a-4992-bf36-75777365e501",
   "metadata": {},
   "outputs": [
    {
     "name": "stdout",
     "output_type": "stream",
     "text": [
      "지정된 줄을 삭제하는 작업이 완료되었습니다.\n"
     ]
    }
   ],
   "source": [
    "import os\n",
    "\n",
    "folder_path = '/tf/notebook/step2_1_imagedata'   # 실제 폴더 경로로 변경하세요.\n",
    "numbers_to_remove = ['99', '98', '97', '96']\n",
    "\n",
    "for filename in os.listdir(folder_path):\n",
    "    if filename.endswith('.txt'):\n",
    "        file_path = os.path.join(folder_path, filename)\n",
    "        \n",
    "        with open(file_path, 'r') as file:\n",
    "            lines = file.readlines()\n",
    "\n",
    "        with open(file_path, 'w') as file:\n",
    "            for line in lines:\n",
    "                if not any(line.startswith(num) for num in numbers_to_remove):\n",
    "                    file.write(line)\n",
    "\n",
    "print(\"지정된 줄을 삭제하는 작업이 완료되었습니다.\")\n"
   ]
  },
  {
   "cell_type": "code",
   "execution_count": null,
   "id": "86d55d84-a86f-469e-8aba-0d842811484c",
   "metadata": {},
   "outputs": [],
   "source": [
    "import os\n",
    "\n",
    "# 폴더 경로 설정\n",
    "folder_path = '/tf/notebook/step2_1_imagedata'  # 여기에 실제 폴더 경로를 입력하세요.\n",
    "\n",
    "# 숫자와 그에 대응하는 대체 문자열 설정\n",
    "number_replacements = {'4': '0', '5': '1', '6': '2', '7': '3'}\n",
    "\n",
    "# 지정된 폴더 내의 모든 .txt 파일을 찾아서 처리\n",
    "for filename in os.listdir(folder_path):\n",
    "    if filename.endswith('.txt'):\n",
    "        file_path = os.path.join(folder_path, filename)\n",
    "        with open(file_path, 'r') as file:\n",
    "            lines = file.readlines()\n",
    "\n",
    "        # 지정된 숫자로 시작하는 줄을 대체 문자열로 바꿈\n",
    "        with open(file_path, 'w') as file:\n",
    "            for line in lines:\n",
    "                if line[0] in number_replacements:  # 첫 문자가 대체 대상 숫자인지 확인\n",
    "                    line = number_replacements[line[0]] + line[1:]  # 첫 문자를 대체하고 나머지 줄을 그대로 유지\n",
    "                file.write(line)\n",
    "\n",
    "print(\"완료되었습니다.\")"
   ]
  },
  {
   "cell_type": "code",
   "execution_count": null,
   "id": "ef09ae43",
   "metadata": {},
   "outputs": [],
   "source": [
    "import os\n",
    "import shutil\n",
    "import random\n",
    "\n",
    "# 데이터셋 폴더 경로\n",
    "dataset_path = '/tf/notebook/split'\n",
    "train_path = '/tf/notebook/split/train'\n",
    "test_path = '/tf/notebook/split/test'\n",
    "valid_path = '/tf/notebook/split/val'\n",
    "\n",
    "# train, test, valid 폴더 생성\n",
    "os.makedirs(train_path + '/images', exist_ok=True)\n",
    "os.makedirs(train_path + '/labels', exist_ok=True)\n",
    "os.makedirs(test_path + '/images', exist_ok=True)\n",
    "os.makedirs(test_path + '/labels', exist_ok=True)\n",
    "os.makedirs(valid_path + '/images', exist_ok=True)\n",
    "os.makedirs(valid_path + '/labels', exist_ok=True)\n",
    "\n",
    "# 데이터셋 파일 리스트 생성\n",
    "file_list = os.listdir(dataset_path)\n",
    "random.shuffle(file_list)\n",
    "\n",
    "# 데이터셋을 train:test:valid = 70:15:15로 나눔\n",
    "train_size = int(0.7 * len(file_list))\n",
    "test_size = int(0.15 * len(file_list))\n",
    "valid_size = int(0.15 * len(file_list))\n",
    "# train 데이터 복사\n",
    "for filename in file_list[:train_size]:\n",
    "    if filename.endswith('.jpeg'):\n",
    "        image_path = os.path.join(dataset_path, filename)\n",
    "        txt_path = os.path.join(dataset_path, filename.replace('.jpeg', '.txt'))\n",
    "        shutil.copy(image_path, os.path.join(train_path + '/images', filename))\n",
    "        shutil.copy(txt_path, os.path.join(train_path + '/labels', filename.replace('.jpg', '.txt')))\n",
    "\n",
    "# test 데이터 복사\n",
    "for filename in file_list[train_size:train_size+test_size]:\n",
    "    if filename.endswith('.jpg'):\n",
    "        image_path = os.path.join(dataset_path, filename)\n",
    "        txt_path = os.path.join(dataset_path, filename.replace('.jpeg', '.txt'))\n",
    "        shutil.copy(image_path, os.path.join(test_path + '/images', filename))\n",
    "        shutil.copy(txt_path, os.path.join(test_path + '/labels', filename.replace('.jpg', '.txt')))\n",
    "\n",
    "# validation 데이터 복사\n",
    "for filename in file_list[train_size+test_size:]:\n",
    "    if filename.endswith('.jpg'):\n",
    "        image_path = os.path.join(dataset_path, filename)\n",
    "        txt_path = os.path.join(dataset_path, filename.replace('.jpeg', '.txt'))\n",
    "        shutil.copy(image_path, os.path.join(valid_path + '/images', filename))\n",
    "        shutil.copy(txt_path, os.path.join(valid_path + '/labels', filename.replace('.jpg', '.txt')))"
   ]
  },
  {
   "cell_type": "code",
   "execution_count": 4,
   "id": "76e59ee7",
   "metadata": {},
   "outputs": [],
   "source": [
    "import os\n",
    "import shutil\n",
    "import random\n",
    "\n",
    "# 데이터셋 폴더 경로\n",
    "dataset_path = '/tf/notebook/step2_1_imagedata'\n",
    "train_path = '/tf/notebook/step2_1_imagedata/train'\n",
    "test_path = '/tf/notebook/step2_1_imagedata/test'\n",
    "valid_path = '/tf/notebook/step2_1_imagedata/val'\n",
    "\n",
    "# train, test, valid 폴더 생성\n",
    "os.makedirs(train_path + '/images', exist_ok=True)\n",
    "os.makedirs(train_path + '/labels', exist_ok=True)\n",
    "os.makedirs(test_path + '/images', exist_ok=True)\n",
    "os.makedirs(test_path + '/labels', exist_ok=True)\n",
    "os.makedirs(valid_path + '/images', exist_ok=True)\n",
    "os.makedirs(valid_path + '/labels', exist_ok=True)\n",
    "\n",
    "# 데이터셋 파일 리스트 생성\n",
    "file_list = os.listdir(dataset_path)\n",
    "file_list.sort()  # 파일 리스트를 정렬\n",
    "\n",
    "random.shuffle(file_list)  # 파일 리스트를 셔플\n",
    "\n",
    "# 데이터셋을 train:test:valid = 70:15:15로 나눔\n",
    "train_size = int(0.8 * len(file_list))\n",
    "test_size = int(0.1 * len(file_list))\n",
    "valid_size = int(0.1 * len(file_list))\n",
    "# train 데이터 복사\n",
    "for filename in file_list[:train_size]:\n",
    "    if filename.endswith('.jpeg'):\n",
    "        image_path = os.path.join(dataset_path, filename)\n",
    "        txt_path = os.path.join(dataset_path, filename.replace('.jpeg', '.txt'))\n",
    "        shutil.copy(image_path, os.path.join(train_path + '/images', filename))\n",
    "        shutil.copy(txt_path, os.path.join(train_path + '/labels', filename.replace('.jpeg', '.txt')))\n",
    "\n",
    "# test 데이터 복사\n",
    "for filename in file_list[train_size:train_size+test_size]:\n",
    "    if filename.endswith('.jpeg'):\n",
    "        image_path = os.path.join(dataset_path, filename)\n",
    "        txt_path = os.path.join(dataset_path, filename.replace('.jpeg', '.txt'))\n",
    "        shutil.copy(image_path, os.path.join(test_path + '/images', filename))\n",
    "        shutil.copy(txt_path, os.path.join(test_path + '/labels', filename.replace('.jpeg', '.txt')))\n",
    "\n",
    "# validation 데이터 복사\n",
    "for filename in file_list[train_size+test_size:]:\n",
    "    if filename.endswith('.jpeg'):\n",
    "        image_path = os.path.join(dataset_path, filename)\n",
    "        txt_path = os.path.join(dataset_path, filename.replace('.jpeg', '.txt'))\n",
    "        shutil.copy(image_path, os.path.join(valid_path + '/images', filename))\n",
    "        shutil.copy(txt_path, os.path.join(valid_path + '/labels', filename.replace('.jpeg', '.txt')))\n"
   ]
  },
  {
   "cell_type": "code",
   "execution_count": null,
   "id": "75001253",
   "metadata": {},
   "outputs": [],
   "source": [
    "splits = ['train', 'val', 'test']\n",
    "with open('data.yaml', 'w') as f:\n",
    "    for split in splits:\n",
    "        split_path = (object_yolo_path.parent / split).resolve()\n",
    "        f.write(f'{split}: {split_path}\\n')\n",
    "    \n",
    "    num_labels = len(all_component_labels)\n",
    "\n",
    "    f.write('names:\\n')\n",
    "    for index, label in enumerate(all_component_labels):\n",
    "        f.write(f'  {index}: {label}\\n')"
   ]
  },
  {
   "cell_type": "markdown",
   "id": "6ce4cc7a",
   "metadata": {},
   "source": [
    "# Copy screenshot files to object_yolopath"
   ]
  },
  {
   "cell_type": "code",
   "execution_count": null,
   "id": "80cce262",
   "metadata": {},
   "outputs": [],
   "source": [
    "image_ids_to_copy = yolo_bbox_df.index.get_level_values('image_id').unique()\n",
    "\n",
    "def copy_image(image_id):\n",
    "    shutil.copy(screenshots_path / f'{image_id}.jpg', rico_yolo_path / f'{image_id}.jpg')\n",
    "    return True\n",
    "\n",
    "with concurrent.futures.ProcessPoolExecutor(num_workers) as mp_executor:\n",
    "    results = list(mp_executor.map(copy_image, image_ids_to_copy))"
   ]
  },
  {
   "cell_type": "markdown",
   "id": "501a642f",
   "metadata": {},
   "source": [
    "# Data Split yolo"
   ]
  },
  {
   "cell_type": "markdown",
   "id": "9bdaec0d",
   "metadata": {},
   "source": [
    "### 데이터셋 path 설정"
   ]
  },
  {
   "cell_type": "code",
   "execution_count": null,
   "id": "c4f50f11",
   "metadata": {},
   "outputs": [],
   "source": [
    "object_yolo_path = Path('../datasets/object_yolo/all')"
   ]
  },
  {
   "cell_type": "markdown",
   "id": "795f4e78",
   "metadata": {},
   "source": [
    "# Image Id get"
   ]
  },
  {
   "cell_type": "code",
   "execution_count": null,
   "id": "7f97ff09",
   "metadata": {},
   "outputs": [],
   "source": [
    "all_image_ids = map(lambda p :int(p.stem), object_yolo_path.iterdir())\n",
    "all_image_ids = pd.Series(all_image_ids).unique()"
   ]
  },
  {
   "cell_type": "markdown",
   "id": "50aa43fe",
   "metadata": {},
   "source": [
    "# Random array create"
   ]
  },
  {
   "cell_type": "code",
   "execution_count": null,
   "id": "40bb3d82",
   "metadata": {},
   "outputs": [],
   "source": [
    "num_samples = len(all_image_ids)\n",
    "seed_id = 0\n",
    "np.ramdom.sedd(seed_id)\n",
    "random_indices = np.random.choice(num_samples, num_samples, replace=False)"
   ]
  },
  {
   "cell_type": "markdown",
   "id": "ff347e5a",
   "metadata": {},
   "source": [
    "# Data Split"
   ]
  },
  {
   "cell_type": "code",
   "execution_count": null,
   "id": "ee91bad3",
   "metadata": {},
   "outputs": [],
   "source": [
    "splits = ['train', 'val', 'test']\n",
    "split_ratio = [0.8, 0.1, 0.1]"
   ]
  },
  {
   "cell_type": "markdown",
   "id": "a935acd7",
   "metadata": {},
   "source": [
    "## 랜덤 배열을 비율에 맞추어 나누기"
   ]
  },
  {
   "cell_type": "code",
   "execution_count": null,
   "id": "b8adbd11",
   "metadata": {},
   "outputs": [],
   "source": [
    "ind = np.array(split_ratio).cumsum() * num_samples\n",
    "ind = np.floor(ind).astype(int) - 1"
   ]
  },
  {
   "cell_type": "markdown",
   "id": "6f92211b",
   "metadata": {},
   "source": [
    "## split별 id값 얻어내기"
   ]
  },
  {
   "cell_type": "code",
   "execution_count": null,
   "id": "4c917883",
   "metadata": {},
   "outputs": [],
   "source": [
    "image_ids = {\n",
    "    'train': all_image_ids[:ind[0]],\n",
    "    'val': all_image_ids[ind[0]:ind[1]],\n",
    "    'test': all_image_ids[ind[1]:],\n",
    "}"
   ]
  },
  {
   "cell_type": "markdown",
   "id": "d1085716",
   "metadata": {},
   "source": [
    "## 각 split 폴더로 복사하기"
   ]
  },
  {
   "cell_type": "code",
   "execution_count": null,
   "id": "4d285bb9",
   "metadata": {},
   "outputs": [],
   "source": [
    "for split in splits:\n",
    "    object_yolo_split_path = object_yolo_path.parent / split\n",
    "    object_yolo_split_path.mkdir(exist_ok=True)\n",
    "    for image_id in image_ids[split]:\n",
    "        shutil.copy(object_yolo_path / f'{image_id}.jpg', object_yolo_split_path / f'{image_id}.jpg')\n",
    "        shutil.copy(object_yolo_path / f'{image_id}.txt', object_yolo_split_path / f'{image_id}.txt')"
   ]
  },
  {
   "cell_type": "markdown",
   "id": "72083189",
   "metadata": {},
   "source": [
    "# Docker 환경\n",
    "\n",
    "```powershell\n",
    "docker run -dit --name training_yolo --gpus all --ipc=host --mount type=volume,source=rico,destination=/weven/datasets --mount type=volume,source=runs,destination=/weven/runs ultralytics/ultralytics\n",
    "```\n",
    "\n",
    "- `-d` 컨테이너 백그라운드로 실행\n",
    "- `-it` 터미널 연결\n",
    "- `--gpus all` NVIDIA GPU 연결\n",
    "- `--ipc=host` YOLO Docker 환경 추천 세팅\n",
    "    \n",
    "    > IPC mode에서 Shared memory 관련 세팅인데, 자세히 알 필요는 없어 보인다.\n",
    "    > \n",
    "- `--mount type=volume,source=rico,destination=/weven/datasets` 데이터 관련 볼륨 마운트\n",
    "- `--mount type=volume,source=runs,destination=/weven/runs` 학습 관련 볼륨 마운트\n",
    "    - `runs`라는 이름의 볼륨이 없으면 자동으로 생성된다.\n",
    "- `--name training_yolo` 컨테이너 이름\n",
    "- `ultralytics/ultralytics` YOLOv8 이미지\n",
    "\n",
    "# 작업 디렉토리\n",
    "\n",
    "- `/weven/datasets` 는 `rico` 라는 이름의 Docker volume\n",
    "    - RICO 데이터셋과 전처리 결과가 남아 있다.\n",
    "- `/weven/runs` 는 `runs` 라는 이름의 Docker volume\n",
    "    - 학습 세팅과 결과가 저장될 볼륨\n",
    "\n",
    "```powershell\n",
    "weven\n",
    "├── datasets\n",
    "│   ├── RICO\n",
    "│   └── rico_yolo\n",
    "│       ├── all\n",
    "│       ├── test\n",
    "│       ├── train\n",
    "│       └── val\n",
    "└── runs\n",
    "    ├── configs\n",
    "    │   └── ym_sgd_lr_5e-3_epochs_200.yaml\n",
    "    └── train\n",
    "        └── rico_yolo.yaml\n",
    "```\n",
    "\n",
    "## 학습 데이터셋 연결\n",
    "\n",
    "- `/weven/runs/train` 디렉토리에 `rico_yolo.yaml` 파일을 미리 준비해 놓는다.\n",
    "\n",
    "### rico_yolo.yaml\n",
    "\n",
    "```yaml\n",
    "train: /weven/datasets/rico_yolo/train\n",
    "val: /weven/datasets/rico_yolo/val\n",
    "test: /weven/datasets/rico_yolo/test\n",
    "names:\n",
    "  0: Advertisement\n",
    "  1: Background Image\n",
    "  2: Bottom Navigation\n",
    "  3: Button Bar\n",
    "  4: Card\n",
    "  5: Checkbox\n",
    "  6: Date Picker\n",
    "  7: Drawer\n",
    "  8: Icon\n",
    "  9: Image\n",
    "  10: Input\n",
    "  11: List Item\n",
    "  12: Map View\n",
    "  13: Modal\n",
    "  14: Multi-Tab\n",
    "  15: Number Stepper\n",
    "  16: On/Off Switch\n",
    "  17: Pager Indicator\n",
    "  18: Radio Button\n",
    "  19: Slider\n",
    "  20: Text\n",
    "  21: Text Button\n",
    "  22: Toolbar\n",
    "  23: Video\n",
    "  24: Web View\n",
    "```\n",
    "\n",
    "# YOLOv8 Training Configs\n",
    "\n",
    "- 학습 세팅을 설정 파일 하나로 조절할 수 있어 매우 편하다.\n",
    "- `/weven/runs/configs` 에 학습 세팅을 저장해둔다.\n",
    "\n",
    "### ym_sgd_lr_5e-3_epochs_200.yaml\n",
    "\n",
    "```yaml\n",
    "task: detect\n",
    "mode: train\n",
    "model: yolov8m.pt\n",
    "data: rico_yolo.yaml\n",
    "epochs: 200\n",
    "patience: 3\n",
    "batch: 16\n",
    "workers: 16\n",
    "project: yolov8m\n",
    "name: sgd_lr_5e-3_epochs_200\n",
    "optimizer: SGD\n",
    "lr0: 0.005\n",
    "```\n",
    "\n",
    "- 학습 결과 저장: `/weven/runs/train/{project}/{name}`\n",
    "\n",
    "# Training\n",
    "\n",
    "- 실행 위치: `/weven/runs/train`"
   ]
  },
  {
   "cell_type": "code",
   "execution_count": null,
   "id": "925665e0",
   "metadata": {},
   "outputs": [],
   "source": [
    "yolo task=detect mode=train model=yolov8m.pt data=/tf/notebook/datasets/data.yaml epochs=100 imgsz=640 batch=16"
   ]
  },
  {
   "cell_type": "code",
   "execution_count": null,
   "id": "412302a4",
   "metadata": {},
   "outputs": [],
   "source": [
    "from ultralytics import YOLO"
   ]
  },
  {
   "cell_type": "code",
   "execution_count": null,
   "id": "146e9f53",
   "metadata": {},
   "outputs": [],
   "source": [
    "from ultralytics import YOLO\n",
    "\n",
    "model = YOLO('yolov8s.pt')\n",
    "\n",
    "results = model.train(data='data.yaml', \n",
    "                      epoch=100,\n",
    "                     imgsz=640,\n",
    "                     batch=16,\n",
    "                     name='yolov8m_test')\n",
    "\n"
   ]
  },
  {
   "cell_type": "code",
   "execution_count": null,
   "id": "fbd2d2e2",
   "metadata": {},
   "outputs": [],
   "source": [
    "!pwd"
   ]
  },
  {
   "cell_type": "code",
   "execution_count": null,
   "id": "f7b8cde2",
   "metadata": {},
   "outputs": [],
   "source": [
    "!ls"
   ]
  },
  {
   "cell_type": "markdown",
   "id": "909c241b",
   "metadata": {},
   "source": [
    "# 7/27 연장 학습. 기존 학습 가중치에 추가 학습. 상황에 따라 따로... 해야할 수 도 있겠다는.... 기존데이터를 지우고 새로운 데이터들로,..."
   ]
  },
  {
   "cell_type": "code",
   "execution_count": null,
   "id": "9cf6b3e9",
   "metadata": {},
   "outputs": [],
   "source": [
    "TORCH_USE_CUDA_DSA"
   ]
  },
  {
   "cell_type": "code",
   "execution_count": null,
   "id": "04f62522",
   "metadata": {},
   "outputs": [],
   "source": [
    "CUDA_LAUNCH_BLOCKING=1"
   ]
  },
  {
   "cell_type": "code",
   "execution_count": null,
   "id": "229d0837",
   "metadata": {},
   "outputs": [],
   "source": [
    "torch.cuda.empty_cache()"
   ]
  },
  {
   "cell_type": "code",
   "execution_count": null,
   "id": "4d7a932c",
   "metadata": {},
   "outputs": [],
   "source": [
    "import torch, gc\n",
    "gc.collect()\n",
    "torch.cuda.empty_cache()"
   ]
  },
  {
   "cell_type": "code",
   "execution_count": null,
   "id": "38de01aa",
   "metadata": {},
   "outputs": [
    {
     "name": "stderr",
     "output_type": "stream",
     "text": [
      "     24/100       1.3G      0.449     0.3276     0.8347        157        320: 100%|██████████| 391/391 [00:27<00:00, 14.01it/s]\n",
      "                 Class     Images  Instances      Box(P          R      mAP50  mAP50-95): 100%|██████████| 25/25 [00:05<00:00,  4.33it/s]\n",
      "                   all        770       7255      0.715      0.681      0.615      0.436\n",
      "\n",
      "      Epoch    GPU_mem   box_loss   cls_loss   dfl_loss  Instances       Size\n",
      "     25/100      1.28G      0.444     0.3264     0.8353        103        320: 100%|██████████| 391/391 [00:27<00:00, 14.24it/s]\n",
      "                 Class     Images  Instances      Box(P          R      mAP50  mAP50-95): 100%|██████████| 25/25 [00:06<00:00,  4.02it/s]\n",
      "                   all        770       7255      0.812      0.621      0.655      0.466\n",
      "\n",
      "      Epoch    GPU_mem   box_loss   cls_loss   dfl_loss  Instances       Size\n",
      "     26/100      1.28G     0.4434     0.3234     0.8334        107        320: 100%|██████████| 391/391 [00:28<00:00, 13.52it/s]\n",
      "                 Class     Images  Instances      Box(P          R      mAP50  mAP50-95): 100%|██████████| 25/25 [00:06<00:00,  3.99it/s]\n",
      "                   all        770       7255      0.821      0.592      0.657      0.478\n",
      "\n",
      "      Epoch    GPU_mem   box_loss   cls_loss   dfl_loss  Instances       Size\n",
      "     27/100      1.27G     0.4406     0.3211     0.8339        107        320: 100%|██████████| 391/391 [00:29<00:00, 13.30it/s]\n",
      "                 Class     Images  Instances      Box(P          R      mAP50  mAP50-95): 100%|██████████| 25/25 [00:05<00:00,  4.28it/s]\n",
      "                   all        770       7255      0.798      0.652      0.652      0.467\n",
      "\n",
      "      Epoch    GPU_mem   box_loss   cls_loss   dfl_loss  Instances       Size\n",
      "     28/100       1.3G     0.4365     0.3175     0.8308         94        320: 100%|██████████| 391/391 [00:28<00:00, 13.85it/s]\n",
      "                 Class     Images  Instances      Box(P          R      mAP50  mAP50-95): 100%|██████████| 25/25 [00:05<00:00,  4.34it/s]\n",
      "                   all        770       7255      0.758      0.661      0.634      0.468\n",
      "\n",
      "      Epoch    GPU_mem   box_loss   cls_loss   dfl_loss  Instances       Size\n",
      "     29/100      1.29G     0.4314     0.3169     0.8315        154        320: 100%|██████████| 391/391 [00:27<00:00, 14.19it/s]\n",
      "                 Class     Images  Instances      Box(P          R      mAP50  mAP50-95): 100%|██████████| 25/25 [00:06<00:00,  4.03it/s]\n",
      "                   all        770       7255      0.783      0.626      0.658      0.476\n",
      "\n",
      "      Epoch    GPU_mem   box_loss   cls_loss   dfl_loss  Instances       Size\n",
      "     30/100      1.34G     0.4312     0.3155     0.8317         76        320: 100%|██████████| 391/391 [00:28<00:00, 13.89it/s]\n",
      "                 Class     Images  Instances      Box(P          R      mAP50  mAP50-95): 100%|██████████| 25/25 [00:05<00:00,  4.19it/s]\n",
      "                   all        770       7255      0.758      0.679      0.664      0.485\n",
      "\n",
      "      Epoch    GPU_mem   box_loss   cls_loss   dfl_loss  Instances       Size\n",
      "     31/100      1.26G     0.4249     0.3058     0.8303        166        320: 100%|██████████| 391/391 [00:27<00:00, 14.00it/s]\n",
      "                 Class     Images  Instances      Box(P          R      mAP50  mAP50-95): 100%|██████████| 25/25 [00:05<00:00,  4.26it/s]\n",
      "                   all        770       7255      0.798      0.641      0.648      0.482\n",
      "\n",
      "      Epoch    GPU_mem   box_loss   cls_loss   dfl_loss  Instances       Size\n",
      "     32/100       1.3G     0.4209      0.308     0.8286        155        320: 100%|██████████| 391/391 [00:28<00:00, 13.86it/s]\n",
      "                 Class     Images  Instances      Box(P          R      mAP50  mAP50-95): 100%|██████████| 25/25 [00:05<00:00,  4.26it/s]\n",
      "                   all        770       7255      0.803      0.649      0.669       0.48\n",
      "\n",
      "      Epoch    GPU_mem   box_loss   cls_loss   dfl_loss  Instances       Size\n",
      "     33/100      1.31G     0.4203     0.3058     0.8286         77        320: 100%|██████████| 391/391 [00:27<00:00, 14.08it/s]\n",
      "                 Class     Images  Instances      Box(P          R      mAP50  mAP50-95): 100%|██████████| 25/25 [00:05<00:00,  4.37it/s]\n",
      "                   all        770       7255      0.768      0.636      0.663      0.489\n",
      "\n",
      "      Epoch    GPU_mem   box_loss   cls_loss   dfl_loss  Instances       Size\n",
      "     34/100      1.34G     0.4181      0.305     0.8296        157        320: 100%|██████████| 391/391 [00:28<00:00, 13.94it/s]\n",
      "                 Class     Images  Instances      Box(P          R      mAP50  mAP50-95): 100%|██████████| 25/25 [00:05<00:00,  4.23it/s]\n",
      "                   all        770       7255      0.718      0.691      0.657      0.476\n",
      "\n",
      "      Epoch    GPU_mem   box_loss   cls_loss   dfl_loss  Instances       Size\n",
      "     35/100      1.28G     0.4124     0.3017     0.8279        132        320: 100%|██████████| 391/391 [00:27<00:00, 14.02it/s]\n",
      "                 Class     Images  Instances      Box(P          R      mAP50  mAP50-95): 100%|██████████| 25/25 [00:06<00:00,  4.16it/s]\n",
      "                   all        770       7255        0.8      0.639      0.697      0.485\n",
      "\n",
      "      Epoch    GPU_mem   box_loss   cls_loss   dfl_loss  Instances       Size\n",
      "     36/100      1.29G     0.4111     0.3012      0.829        115        320: 100%|██████████| 391/391 [00:27<00:00, 14.04it/s]\n",
      "                 Class     Images  Instances      Box(P          R      mAP50  mAP50-95): 100%|██████████| 25/25 [00:05<00:00,  4.43it/s]\n",
      "                   all        770       7255      0.758       0.69      0.679      0.506\n",
      "\n",
      "      Epoch    GPU_mem   box_loss   cls_loss   dfl_loss  Instances       Size\n",
      "     37/100      1.31G      0.407     0.2977     0.8275        115        320: 100%|██████████| 391/391 [00:27<00:00, 13.99it/s]\n",
      "                 Class     Images  Instances      Box(P          R      mAP50  mAP50-95): 100%|██████████| 25/25 [00:06<00:00,  4.12it/s]\n",
      "                   all        770       7255      0.692      0.718      0.683      0.487\n",
      "\n",
      "      Epoch    GPU_mem   box_loss   cls_loss   dfl_loss  Instances       Size\n",
      "     38/100      1.32G     0.4106     0.2987      0.827        122        320: 100%|██████████| 391/391 [00:27<00:00, 14.04it/s]\n",
      "                 Class     Images  Instances      Box(P          R      mAP50  mAP50-95): 100%|██████████| 25/25 [00:06<00:00,  4.13it/s]\n",
      "                   all        770       7255      0.783      0.687      0.689       0.51\n",
      "\n",
      "      Epoch    GPU_mem   box_loss   cls_loss   dfl_loss  Instances       Size\n",
      "     39/100      1.27G     0.4067     0.2942     0.8248         59        320: 100%|██████████| 391/391 [00:27<00:00, 14.02it/s]\n",
      "                 Class     Images  Instances      Box(P          R      mAP50  mAP50-95): 100%|██████████| 25/25 [00:05<00:00,  4.28it/s]\n",
      "                   all        770       7255       0.79      0.676      0.658      0.484\n",
      "\n",
      "      Epoch    GPU_mem   box_loss   cls_loss   dfl_loss  Instances       Size\n",
      "     40/100       1.3G     0.4024     0.2937     0.8254        189        320: 100%|██████████| 391/391 [00:27<00:00, 14.05it/s]\n",
      "                 Class     Images  Instances      Box(P          R      mAP50  mAP50-95): 100%|██████████| 25/25 [00:05<00:00,  4.29it/s]\n",
      "                   all        770       7255      0.783       0.66      0.714      0.526\n",
      "\n",
      "      Epoch    GPU_mem   box_loss   cls_loss   dfl_loss  Instances       Size\n",
      "     41/100      1.31G     0.4006     0.2906     0.8264        135        320: 100%|██████████| 391/391 [00:28<00:00, 13.81it/s]\n",
      "                 Class     Images  Instances      Box(P          R      mAP50  mAP50-95): 100%|██████████| 25/25 [00:06<00:00,  4.07it/s]\n",
      "                   all        770       7255      0.825      0.691      0.697      0.518\n",
      "\n",
      "      Epoch    GPU_mem   box_loss   cls_loss   dfl_loss  Instances       Size\n",
      "     42/100      1.34G     0.4004      0.291     0.8258        116        320: 100%|██████████| 391/391 [00:27<00:00, 14.00it/s]\n",
      "                 Class     Images  Instances      Box(P          R      mAP50  mAP50-95): 100%|██████████| 25/25 [00:05<00:00,  4.20it/s]\n",
      "                   all        770       7255      0.856      0.667       0.71      0.523\n",
      "\n",
      "      Epoch    GPU_mem   box_loss   cls_loss   dfl_loss  Instances       Size\n"
     ]
    },
    {
     "name": "stderr",
     "output_type": "stream",
     "text": [
      "     43/100      1.28G     0.3969     0.2893     0.8254        126        320: 100%|██████████| 391/391 [00:27<00:00, 14.05it/s]\n",
      "                 Class     Images  Instances      Box(P          R      mAP50  mAP50-95): 100%|██████████| 25/25 [00:05<00:00,  4.30it/s]\n",
      "                   all        770       7255      0.814      0.689      0.686      0.522\n",
      "\n",
      "      Epoch    GPU_mem   box_loss   cls_loss   dfl_loss  Instances       Size\n",
      "     44/100      1.29G     0.3983     0.2882     0.8256        110        320: 100%|██████████| 391/391 [00:27<00:00, 14.15it/s]\n",
      "                 Class     Images  Instances      Box(P          R      mAP50  mAP50-95): 100%|██████████| 25/25 [00:06<00:00,  4.15it/s]\n",
      "                   all        770       7255      0.868      0.679      0.726      0.534\n",
      "\n",
      "      Epoch    GPU_mem   box_loss   cls_loss   dfl_loss  Instances       Size\n",
      "     45/100      1.29G     0.3914      0.283     0.8221        130        320: 100%|██████████| 391/391 [00:28<00:00, 13.81it/s]\n",
      "                 Class     Images  Instances      Box(P          R      mAP50  mAP50-95): 100%|██████████| 25/25 [00:05<00:00,  4.35it/s]\n",
      "                   all        770       7255      0.809      0.706      0.696      0.511\n",
      "\n",
      "      Epoch    GPU_mem   box_loss   cls_loss   dfl_loss  Instances       Size\n",
      "     46/100      1.33G     0.3928     0.2841     0.8227        189        320: 100%|██████████| 391/391 [00:27<00:00, 14.13it/s]\n",
      "                 Class     Images  Instances      Box(P          R      mAP50  mAP50-95): 100%|██████████| 25/25 [00:06<00:00,  4.01it/s]\n",
      "                   all        770       7255      0.883      0.663      0.721      0.537\n",
      "\n",
      "      Epoch    GPU_mem   box_loss   cls_loss   dfl_loss  Instances       Size\n",
      "     47/100      1.28G     0.3889     0.2825      0.823        181        320: 100%|██████████| 391/391 [00:28<00:00, 13.85it/s]\n",
      "                 Class     Images  Instances      Box(P          R      mAP50  mAP50-95): 100%|██████████| 25/25 [00:05<00:00,  4.22it/s]\n",
      "                   all        770       7255      0.843      0.671      0.708      0.531\n",
      "\n",
      "      Epoch    GPU_mem   box_loss   cls_loss   dfl_loss  Instances       Size\n",
      "     48/100      1.29G     0.3896     0.2822     0.8244        180        320: 100%|██████████| 391/391 [00:27<00:00, 14.02it/s]\n",
      "                 Class     Images  Instances      Box(P          R      mAP50  mAP50-95): 100%|██████████| 25/25 [00:05<00:00,  4.25it/s]\n",
      "                   all        770       7255       0.81      0.703      0.701       0.53\n",
      "\n",
      "      Epoch    GPU_mem   box_loss   cls_loss   dfl_loss  Instances       Size\n",
      "     49/100       1.3G     0.3824     0.2795     0.8225         89        320: 100%|██████████| 391/391 [00:27<00:00, 14.04it/s]\n",
      "                 Class     Images  Instances      Box(P          R      mAP50  mAP50-95): 100%|██████████| 25/25 [00:06<00:00,  4.16it/s]\n",
      "                   all        770       7255      0.805      0.721      0.722      0.521\n",
      "\n",
      "      Epoch    GPU_mem   box_loss   cls_loss   dfl_loss  Instances       Size\n",
      "     50/100      1.33G     0.3859     0.2786     0.8237        173        320: 100%|██████████| 391/391 [00:27<00:00, 13.99it/s]\n",
      "                 Class     Images  Instances      Box(P          R      mAP50  mAP50-95): 100%|██████████| 25/25 [00:05<00:00,  4.33it/s]\n",
      "                   all        770       7255      0.902      0.688      0.744      0.549\n",
      "\n",
      "      Epoch    GPU_mem   box_loss   cls_loss   dfl_loss  Instances       Size\n",
      "     51/100       1.3G     0.3802     0.2775      0.823         92        320: 100%|██████████| 391/391 [00:27<00:00, 14.06it/s]\n",
      "                 Class     Images  Instances      Box(P          R      mAP50  mAP50-95): 100%|██████████| 25/25 [00:05<00:00,  4.26it/s]\n",
      "                   all        770       7255      0.742      0.708      0.736      0.514\n",
      "\n",
      "      Epoch    GPU_mem   box_loss   cls_loss   dfl_loss  Instances       Size\n",
      "     52/100      1.31G     0.3807     0.2747     0.8214        134        320: 100%|██████████| 391/391 [00:27<00:00, 14.02it/s]\n",
      "                 Class     Images  Instances      Box(P          R      mAP50  mAP50-95): 100%|██████████| 25/25 [00:05<00:00,  4.26it/s]\n",
      "                   all        770       7255      0.762      0.666      0.712      0.537\n",
      "\n",
      "      Epoch    GPU_mem   box_loss   cls_loss   dfl_loss  Instances       Size\n",
      "     53/100      1.29G     0.3741     0.2724     0.8202        150        320: 100%|██████████| 391/391 [00:27<00:00, 14.01it/s]\n",
      "                 Class     Images  Instances      Box(P          R      mAP50  mAP50-95): 100%|██████████| 25/25 [00:05<00:00,  4.34it/s]\n",
      "                   all        770       7255      0.885      0.685      0.751      0.555\n",
      "\n",
      "      Epoch    GPU_mem   box_loss   cls_loss   dfl_loss  Instances       Size\n",
      "     54/100      1.32G     0.3721     0.2716      0.822        133        320: 100%|██████████| 391/391 [00:28<00:00, 13.94it/s]\n",
      "                 Class     Images  Instances      Box(P          R      mAP50  mAP50-95): 100%|██████████| 25/25 [00:05<00:00,  4.25it/s]\n",
      "                   all        770       7255      0.816      0.704      0.752      0.539\n",
      "\n",
      "      Epoch    GPU_mem   box_loss   cls_loss   dfl_loss  Instances       Size\n",
      "     55/100      1.26G     0.3723     0.2702     0.8215         88        320: 100%|██████████| 391/391 [00:27<00:00, 14.01it/s]\n",
      "                 Class     Images  Instances      Box(P          R      mAP50  mAP50-95): 100%|██████████| 25/25 [00:06<00:00,  4.14it/s]\n",
      "                   all        770       7255      0.898       0.69      0.743      0.557\n",
      "\n",
      "      Epoch    GPU_mem   box_loss   cls_loss   dfl_loss  Instances       Size\n",
      "     56/100      1.31G     0.3714     0.2686      0.819        104        320: 100%|██████████| 391/391 [00:28<00:00, 13.87it/s]\n",
      "                 Class     Images  Instances      Box(P          R      mAP50  mAP50-95): 100%|██████████| 25/25 [00:05<00:00,  4.20it/s]\n",
      "                   all        770       7255      0.901      0.678      0.746      0.558\n",
      "\n",
      "      Epoch    GPU_mem   box_loss   cls_loss   dfl_loss  Instances       Size\n",
      "     57/100      1.31G      0.369     0.2671     0.8192        121        320: 100%|██████████| 391/391 [00:28<00:00, 13.78it/s]\n",
      "                 Class     Images  Instances      Box(P          R      mAP50  mAP50-95): 100%|██████████| 25/25 [00:05<00:00,  4.20it/s]\n",
      "                   all        770       7255      0.881      0.686      0.735      0.556\n",
      "\n",
      "      Epoch    GPU_mem   box_loss   cls_loss   dfl_loss  Instances       Size\n",
      "     58/100      1.32G     0.3676     0.2659     0.8189        167        320: 100%|██████████| 391/391 [00:27<00:00, 14.01it/s]\n",
      "                 Class     Images  Instances      Box(P          R      mAP50  mAP50-95): 100%|██████████| 25/25 [00:05<00:00,  4.29it/s]\n",
      "                   all        770       7255      0.895      0.696      0.745      0.559\n",
      "\n",
      "      Epoch    GPU_mem   box_loss   cls_loss   dfl_loss  Instances       Size\n",
      "     59/100      1.26G      0.366     0.2657       0.82        143        320: 100%|██████████| 391/391 [00:27<00:00, 13.98it/s]\n",
      "                 Class     Images  Instances      Box(P          R      mAP50  mAP50-95): 100%|██████████| 25/25 [00:06<00:00,  4.15it/s]\n",
      "                   all        770       7255      0.918      0.694      0.751       0.57\n",
      "\n",
      "      Epoch    GPU_mem   box_loss   cls_loss   dfl_loss  Instances       Size\n",
      "     60/100      1.28G     0.3642      0.265     0.8184        181        320: 100%|██████████| 391/391 [00:27<00:00, 14.04it/s]\n",
      "                 Class     Images  Instances      Box(P          R      mAP50  mAP50-95): 100%|██████████| 25/25 [00:06<00:00,  4.05it/s]\n",
      "                   all        770       7255      0.908      0.698       0.75      0.569\n",
      "\n",
      "      Epoch    GPU_mem   box_loss   cls_loss   dfl_loss  Instances       Size\n",
      "     61/100      1.29G     0.3602     0.2606     0.8172        116        320: 100%|██████████| 391/391 [00:27<00:00, 13.98it/s]\n",
      "                 Class     Images  Instances      Box(P          R      mAP50  mAP50-95): 100%|██████████| 25/25 [00:05<00:00,  4.28it/s]\n",
      "                   all        770       7255      0.898      0.709      0.765       0.58\n",
      "\n",
      "      Epoch    GPU_mem   box_loss   cls_loss   dfl_loss  Instances       Size\n"
     ]
    },
    {
     "name": "stderr",
     "output_type": "stream",
     "text": [
      "     62/100      1.34G     0.3608     0.2611     0.8192        132        320: 100%|██████████| 391/391 [00:27<00:00, 14.08it/s]\n",
      "                 Class     Images  Instances      Box(P          R      mAP50  mAP50-95): 100%|██████████| 25/25 [00:05<00:00,  4.26it/s]\n",
      "                   all        770       7255       0.89      0.713      0.768      0.566\n",
      "\n",
      "      Epoch    GPU_mem   box_loss   cls_loss   dfl_loss  Instances       Size\n",
      "     63/100      1.28G     0.3615     0.2612     0.8179        156        320: 100%|██████████| 391/391 [00:28<00:00, 13.94it/s]\n",
      "                 Class     Images  Instances      Box(P          R      mAP50  mAP50-95): 100%|██████████| 25/25 [00:06<00:00,  4.11it/s]\n",
      "                   all        770       7255       0.91      0.701      0.765      0.575\n",
      "\n",
      "      Epoch    GPU_mem   box_loss   cls_loss   dfl_loss  Instances       Size\n",
      "     64/100      1.29G     0.3587     0.2605     0.8184         89        320: 100%|██████████| 391/391 [00:27<00:00, 14.06it/s]\n",
      "                 Class     Images  Instances      Box(P          R      mAP50  mAP50-95): 100%|██████████| 25/25 [00:05<00:00,  4.33it/s]\n",
      "                   all        770       7255      0.913      0.692      0.758      0.571\n",
      "\n",
      "      Epoch    GPU_mem   box_loss   cls_loss   dfl_loss  Instances       Size\n",
      "     65/100      1.29G     0.3563     0.2573     0.8165         99        320: 100%|██████████| 391/391 [00:27<00:00, 14.05it/s]\n",
      "                 Class     Images  Instances      Box(P          R      mAP50  mAP50-95): 100%|██████████| 25/25 [00:05<00:00,  4.29it/s]\n",
      "                   all        770       7255      0.913      0.714      0.774      0.572\n",
      "\n",
      "      Epoch    GPU_mem   box_loss   cls_loss   dfl_loss  Instances       Size\n",
      "     66/100      1.28G     0.3572     0.2579     0.8177        116        320: 100%|██████████| 391/391 [00:27<00:00, 14.00it/s]\n",
      "                 Class     Images  Instances      Box(P          R      mAP50  mAP50-95): 100%|██████████| 25/25 [00:05<00:00,  4.25it/s]\n",
      "                   all        770       7255      0.906       0.71      0.765      0.573\n",
      "\n",
      "      Epoch    GPU_mem   box_loss   cls_loss   dfl_loss  Instances       Size\n",
      "     67/100      1.26G     0.3528     0.2558     0.8171        104        320: 100%|██████████| 391/391 [00:27<00:00, 14.07it/s]\n",
      "                 Class     Images  Instances      Box(P          R      mAP50  mAP50-95): 100%|██████████| 25/25 [00:05<00:00,  4.24it/s]\n",
      "                   all        770       7255      0.946      0.703       0.78      0.579\n",
      "\n",
      "      Epoch    GPU_mem   box_loss   cls_loss   dfl_loss  Instances       Size\n",
      "     68/100       1.3G     0.3504     0.2521     0.8174        135        320: 100%|██████████| 391/391 [00:27<00:00, 14.14it/s]\n",
      "                 Class     Images  Instances      Box(P          R      mAP50  mAP50-95): 100%|██████████| 25/25 [00:06<00:00,  4.16it/s]\n",
      "                   all        770       7255      0.926      0.691      0.757      0.577\n",
      "\n",
      "      Epoch    GPU_mem   box_loss   cls_loss   dfl_loss  Instances       Size\n",
      "     69/100      1.31G     0.3474     0.2496     0.8153        121        320: 100%|██████████| 391/391 [00:28<00:00, 13.84it/s]\n",
      "                 Class     Images  Instances      Box(P          R      mAP50  mAP50-95): 100%|██████████| 25/25 [00:05<00:00,  4.26it/s]\n",
      "                   all        770       7255      0.893        0.7      0.755      0.573\n",
      "\n",
      "      Epoch    GPU_mem   box_loss   cls_loss   dfl_loss  Instances       Size\n",
      "     70/100      1.34G     0.3493     0.2516     0.8161        140        320: 100%|██████████| 391/391 [00:27<00:00, 14.04it/s]\n",
      "                 Class     Images  Instances      Box(P          R      mAP50  mAP50-95): 100%|██████████| 25/25 [00:05<00:00,  4.34it/s]\n",
      "                   all        770       7255      0.911      0.733      0.762      0.577\n",
      "\n",
      "      Epoch    GPU_mem   box_loss   cls_loss   dfl_loss  Instances       Size\n",
      "     71/100       1.3G      0.349     0.2519     0.8174        133        320: 100%|██████████| 391/391 [00:28<00:00, 13.92it/s]\n",
      "                 Class     Images  Instances      Box(P          R      mAP50  mAP50-95): 100%|██████████| 25/25 [00:05<00:00,  4.17it/s]\n",
      "                   all        770       7255      0.846      0.731      0.758       0.59\n",
      "\n",
      "      Epoch    GPU_mem   box_loss   cls_loss   dfl_loss  Instances       Size\n",
      "     72/100      1.29G     0.3467     0.2496     0.8167         84        320: 100%|██████████| 391/391 [00:27<00:00, 14.01it/s]\n",
      "                 Class     Images  Instances      Box(P          R      mAP50  mAP50-95): 100%|██████████| 25/25 [00:05<00:00,  4.29it/s]\n",
      "                   all        770       7255      0.914      0.718      0.766      0.583\n",
      "\n",
      "      Epoch    GPU_mem   box_loss   cls_loss   dfl_loss  Instances       Size\n",
      "     73/100      1.31G     0.3455     0.2492     0.8156        132        320: 100%|██████████| 391/391 [00:27<00:00, 14.06it/s]\n",
      "                 Class     Images  Instances      Box(P          R      mAP50  mAP50-95): 100%|██████████| 25/25 [00:06<00:00,  4.03it/s]\n",
      "                   all        770       7255      0.904       0.71      0.763      0.585\n",
      "\n",
      "      Epoch    GPU_mem   box_loss   cls_loss   dfl_loss  Instances       Size\n",
      "     74/100      1.36G     0.3424     0.2462      0.814         79        320: 100%|██████████| 391/391 [00:27<00:00, 13.99it/s]\n",
      "                 Class     Images  Instances      Box(P          R      mAP50  mAP50-95): 100%|██████████| 25/25 [00:05<00:00,  4.28it/s]\n",
      "                   all        770       7255      0.899      0.702      0.755      0.587\n",
      "\n",
      "      Epoch    GPU_mem   box_loss   cls_loss   dfl_loss  Instances       Size\n",
      "     75/100      1.28G     0.3406     0.2455      0.815        108        320: 100%|██████████| 391/391 [00:27<00:00, 14.04it/s]\n",
      "                 Class     Images  Instances      Box(P          R      mAP50  mAP50-95): 100%|██████████| 25/25 [00:05<00:00,  4.17it/s]\n",
      "                   all        770       7255      0.948      0.661       0.75      0.586\n",
      "\n",
      "      Epoch    GPU_mem   box_loss   cls_loss   dfl_loss  Instances       Size\n",
      "     76/100      1.29G     0.3415     0.2447     0.8148         76        320: 100%|██████████| 391/391 [00:27<00:00, 14.00it/s]\n",
      "                 Class     Images  Instances      Box(P          R      mAP50  mAP50-95): 100%|██████████| 25/25 [00:05<00:00,  4.26it/s]\n",
      "                   all        770       7255      0.704      0.819      0.818      0.585\n",
      "\n",
      "      Epoch    GPU_mem   box_loss   cls_loss   dfl_loss  Instances       Size\n",
      "     77/100       1.3G     0.3396     0.2436     0.8156        117        320: 100%|██████████| 391/391 [00:27<00:00, 14.00it/s]\n",
      "                 Class     Images  Instances      Box(P          R      mAP50  mAP50-95): 100%|██████████| 25/25 [00:05<00:00,  4.26it/s]\n",
      "                   all        770       7255      0.955      0.672      0.746       0.58\n",
      "\n",
      "      Epoch    GPU_mem   box_loss   cls_loss   dfl_loss  Instances       Size\n",
      "     78/100      1.34G     0.3373     0.2426     0.8132        107        320: 100%|██████████| 391/391 [00:28<00:00, 13.68it/s]\n",
      "                 Class     Images  Instances      Box(P          R      mAP50  mAP50-95): 100%|██████████| 25/25 [00:06<00:00,  4.06it/s]\n",
      "                   all        770       7255      0.953      0.678      0.745      0.583\n",
      "\n",
      "      Epoch    GPU_mem   box_loss   cls_loss   dfl_loss  Instances       Size\n",
      "     79/100      1.26G     0.3371     0.2428     0.8138        141        320: 100%|██████████| 391/391 [00:27<00:00, 13.98it/s]\n",
      "                 Class     Images  Instances      Box(P          R      mAP50  mAP50-95): 100%|██████████| 25/25 [00:06<00:00,  4.11it/s]\n",
      "                   all        770       7255      0.968      0.671      0.757      0.591\n",
      "\n",
      "      Epoch    GPU_mem   box_loss   cls_loss   dfl_loss  Instances       Size\n",
      "     80/100       1.3G     0.3363     0.2419     0.8138        153        320: 100%|██████████| 391/391 [00:28<00:00, 13.86it/s]\n",
      "                 Class     Images  Instances      Box(P          R      mAP50  mAP50-95): 100%|██████████| 25/25 [00:05<00:00,  4.21it/s]\n",
      "                   all        770       7255      0.956      0.689      0.763      0.598\n",
      "\n",
      "      Epoch    GPU_mem   box_loss   cls_loss   dfl_loss  Instances       Size\n"
     ]
    },
    {
     "name": "stderr",
     "output_type": "stream",
     "text": [
      "     81/100       1.3G     0.3369     0.2408     0.8153        147        320: 100%|██████████| 391/391 [00:28<00:00, 13.87it/s]\n",
      "                 Class     Images  Instances      Box(P          R      mAP50  mAP50-95): 100%|██████████| 25/25 [00:05<00:00,  4.29it/s]\n",
      "                   all        770       7255      0.956      0.712      0.786      0.599\n",
      "\n",
      "      Epoch    GPU_mem   box_loss   cls_loss   dfl_loss  Instances       Size\n",
      "     82/100       1.3G     0.3322     0.2383     0.8124        138        320: 100%|██████████| 391/391 [00:28<00:00, 13.66it/s]\n",
      "                 Class     Images  Instances      Box(P          R      mAP50  mAP50-95): 100%|██████████| 25/25 [00:06<00:00,  4.15it/s]\n",
      "                   all        770       7255      0.946      0.695      0.766      0.596\n",
      "\n",
      "      Epoch    GPU_mem   box_loss   cls_loss   dfl_loss  Instances       Size\n",
      "     83/100      1.29G     0.3326     0.2394     0.8131        148        320: 100%|██████████| 391/391 [00:27<00:00, 13.96it/s]\n",
      "                 Class     Images  Instances      Box(P          R      mAP50  mAP50-95): 100%|██████████| 25/25 [00:05<00:00,  4.24it/s]\n",
      "                   all        770       7255      0.951      0.673      0.767      0.592\n",
      "\n",
      "      Epoch    GPU_mem   box_loss   cls_loss   dfl_loss  Instances       Size\n",
      "     84/100       1.3G     0.3289      0.234     0.8131         92        320: 100%|██████████| 391/391 [00:27<00:00, 13.98it/s]\n",
      "                 Class     Images  Instances      Box(P          R      mAP50  mAP50-95): 100%|██████████| 25/25 [00:05<00:00,  4.17it/s]\n",
      "                   all        770       7255      0.928      0.689      0.761      0.596\n",
      "\n",
      "      Epoch    GPU_mem   box_loss   cls_loss   dfl_loss  Instances       Size\n",
      "     85/100      1.29G     0.3288     0.2366     0.8124         95        320: 100%|██████████| 391/391 [00:28<00:00, 13.89it/s]\n",
      "                 Class     Images  Instances      Box(P          R      mAP50  mAP50-95): 100%|██████████| 25/25 [00:05<00:00,  4.26it/s]\n",
      "                   all        770       7255      0.943      0.673      0.758      0.589\n",
      "\n",
      "      Epoch    GPU_mem   box_loss   cls_loss   dfl_loss  Instances       Size\n",
      "     86/100      1.33G      0.327     0.2352      0.813        163        320: 100%|██████████| 391/391 [00:28<00:00, 13.89it/s]\n",
      "                 Class     Images  Instances      Box(P          R      mAP50  mAP50-95): 100%|██████████| 25/25 [00:05<00:00,  4.26it/s]\n",
      "                   all        770       7255      0.943      0.695      0.762      0.589\n",
      "\n",
      "      Epoch    GPU_mem   box_loss   cls_loss   dfl_loss  Instances       Size\n",
      "     87/100       1.3G     0.3265     0.2338     0.8117        177        320: 100%|██████████| 391/391 [00:28<00:00, 13.94it/s]\n",
      "                 Class     Images  Instances      Box(P          R      mAP50  mAP50-95): 100%|██████████| 25/25 [00:05<00:00,  4.23it/s]\n",
      "                   all        770       7255      0.862      0.698      0.764      0.598\n",
      "\n",
      "      Epoch    GPU_mem   box_loss   cls_loss   dfl_loss  Instances       Size\n",
      "     88/100      1.27G     0.3275     0.2351     0.8138        372        320:  34%|███▎      | 131/391 [00:09<00:18, 14.23it/s]"
     ]
    }
   ],
   "source": [
    "model = YOLO('yolov8s.pt')\n",
    "\n",
    "model.train(data='/tf/notebook/datasets/data.yaml',\n",
    "            epochs=100,  \n",
    "            lr0=0.0001, \n",
    "            imgsz=320, \n",
    "            batch=16,\n",
    "            name='OBElements')"
   ]
  },
  {
   "cell_type": "code",
   "execution_count": null,
   "id": "c582756e",
   "metadata": {},
   "outputs": [],
   "source": [
    "import cv2\n",
    "import numpy as np\n",
    "\n",
    "def find_most_common_color(image_path):\n",
    "    # 이미지 불러오기\n",
    "    image = cv2.imread(image_path)\n",
    "\n",
    "    # 이미지를 1차원 배열로 변환 (픽셀별 RGB 값)\n",
    "    pixels = image.reshape(-1, 3)\n",
    "\n",
    "    # RGB 값들의 빈도를 계산\n",
    "    unique_colors, counts = np.unique(pixels, axis=0, return_counts=True)\n",
    "\n",
    "    # 가장 빈도가 높은 RGB 값과 빈도 수 계산\n",
    "    most_common_index = np.argmax(counts)\n",
    "    most_common_color = unique_colors[most_common_index]\n",
    "    most_common_count = counts[most_common_index]\n",
    "\n",
    "    return most_common_color, most_common_count\n",
    "\n",
    "if __name__ == \"__main__\":\n",
    "    image_path = \"/tf/notebook/test_004.png\"\n",
    "    most_common_color, most_common_count = find_most_common_color(image_path)\n",
    "    print(f\"The most common color in the image is: {most_common_color}, count: {most_common_count}\")"
   ]
  },
  {
   "cell_type": "code",
   "execution_count": null,
   "id": "bf9c9c80",
   "metadata": {},
   "outputs": [],
   "source": [
    "model.train(resume=True)"
   ]
  },
  {
   "cell_type": "code",
   "execution_count": null,
   "id": "088822b0",
   "metadata": {},
   "outputs": [],
   "source": [
    "model = YOLO('/tf/notebook/runs/detect/train13/weights/last.pt')\n",
    "\n",
    "model.train(data='/tf/notebook/datasetstest/data.yaml',\n",
    "            epochs=50,\n",
    "            batch=32,\n",
    "            imgsz=320,\n",
    "            lr0=0.001 \n",
    "           )"
   ]
  },
  {
   "cell_type": "code",
   "execution_count": null,
   "id": "98312dc9",
   "metadata": {},
   "outputs": [],
   "source": [
    "model = YOLO('/tf/notebook/runs/detect/train13/weights/last.pt')\n",
    "model.train(resume=True)"
   ]
  },
  {
   "cell_type": "code",
   "execution_count": null,
   "id": "a5a7e89a",
   "metadata": {},
   "outputs": [],
   "source": [
    "source='/tf/notebook/test_001.png'"
   ]
  },
  {
   "cell_type": "code",
   "execution_count": null,
   "id": "e9ef6824",
   "metadata": {},
   "outputs": [],
   "source": [
    "!yolo predict model=/tf/notebook/runs/detect/train13/weights/last.pt source=/tf/notebook/test_011.png "
   ]
  },
  {
   "cell_type": "code",
   "execution_count": null,
   "id": "b7a32964",
   "metadata": {},
   "outputs": [
    {
     "name": "stderr",
     "output_type": "stream",
     "text": [
      "     26/200       8.2G     0.7202     0.3429      0.785        612        480: 100%|██████████| 35/35 [00:07<00:00,  4.75it/s]\n",
      "                 Class     Images  Instances      Box(P          R      mAP50  mAP50-95): 100%|██████████| 3/3 [00:01<00:00,  2.84it/s]\n",
      "                   all        141       1729      0.978      0.929      0.972      0.798\n",
      "\n",
      "      Epoch    GPU_mem   box_loss   cls_loss   dfl_loss  Instances       Size\n",
      "     27/200      8.21G     0.6724     0.3316     0.7867        652        480: 100%|██████████| 35/35 [00:07<00:00,  4.76it/s]\n",
      "                 Class     Images  Instances      Box(P          R      mAP50  mAP50-95): 100%|██████████| 3/3 [00:01<00:00,  2.91it/s]\n",
      "                   all        141       1729      0.988      0.931       0.97      0.793\n",
      "\n",
      "      Epoch    GPU_mem   box_loss   cls_loss   dfl_loss  Instances       Size\n",
      "     28/200      8.28G     0.6493     0.3176     0.7839        565        480: 100%|██████████| 35/35 [00:07<00:00,  4.67it/s]\n",
      "                 Class     Images  Instances      Box(P          R      mAP50  mAP50-95): 100%|██████████| 3/3 [00:01<00:00,  2.98it/s]\n",
      "                   all        141       1729      0.989      0.922      0.967       0.77\n",
      "\n",
      "      Epoch    GPU_mem   box_loss   cls_loss   dfl_loss  Instances       Size\n",
      "     29/200      8.21G     0.6724     0.3251     0.7855        574        480: 100%|██████████| 35/35 [00:07<00:00,  4.63it/s]\n",
      "                 Class     Images  Instances      Box(P          R      mAP50  mAP50-95): 100%|██████████| 3/3 [00:00<00:00,  3.03it/s]\n",
      "                   all        141       1729      0.984      0.927      0.965      0.785\n",
      "\n",
      "      Epoch    GPU_mem   box_loss   cls_loss   dfl_loss  Instances       Size\n",
      "     30/200      8.29G     0.6757     0.3258     0.7811        609        480: 100%|██████████| 35/35 [00:07<00:00,  4.70it/s]\n",
      "                 Class     Images  Instances      Box(P          R      mAP50  mAP50-95): 100%|██████████| 3/3 [00:01<00:00,  2.88it/s]\n",
      "                   all        141       1729      0.992      0.918      0.964      0.801\n",
      "\n",
      "      Epoch    GPU_mem   box_loss   cls_loss   dfl_loss  Instances       Size\n",
      "     31/200      8.23G      0.656     0.3185     0.7824        591        480: 100%|██████████| 35/35 [00:07<00:00,  4.54it/s]\n",
      "                 Class     Images  Instances      Box(P          R      mAP50  mAP50-95): 100%|██████████| 3/3 [00:01<00:00,  2.85it/s]\n",
      "                   all        141       1729      0.982      0.935      0.971      0.767\n",
      "\n",
      "      Epoch    GPU_mem   box_loss   cls_loss   dfl_loss  Instances       Size\n",
      "     32/200      8.21G     0.6329     0.3113     0.7815        530        480: 100%|██████████| 35/35 [00:07<00:00,  4.58it/s]\n",
      "                 Class     Images  Instances      Box(P          R      mAP50  mAP50-95): 100%|██████████| 3/3 [00:01<00:00,  2.91it/s]\n",
      "                   all        141       1729      0.976      0.939      0.972      0.762\n",
      "\n",
      "      Epoch    GPU_mem   box_loss   cls_loss   dfl_loss  Instances       Size\n",
      "     33/200      8.21G     0.6465     0.3128     0.7846        608        480: 100%|██████████| 35/35 [00:07<00:00,  4.62it/s]\n",
      "                 Class     Images  Instances      Box(P          R      mAP50  mAP50-95): 100%|██████████| 3/3 [00:01<00:00,  2.99it/s]\n",
      "                   all        141       1729      0.987      0.931      0.969      0.799\n",
      "\n",
      "      Epoch    GPU_mem   box_loss   cls_loss   dfl_loss  Instances       Size\n",
      "     34/200      8.19G      0.652     0.3129     0.7836        645        480: 100%|██████████| 35/35 [00:07<00:00,  4.73it/s]\n",
      "                 Class     Images  Instances      Box(P          R      mAP50  mAP50-95): 100%|██████████| 3/3 [00:01<00:00,  2.96it/s]\n",
      "                   all        141       1729      0.993      0.932      0.969      0.816\n",
      "\n",
      "      Epoch    GPU_mem   box_loss   cls_loss   dfl_loss  Instances       Size\n",
      "     35/200      8.32G     0.6049     0.2996     0.7803        612        480: 100%|██████████| 35/35 [00:07<00:00,  4.64it/s]\n",
      "                 Class     Images  Instances      Box(P          R      mAP50  mAP50-95): 100%|██████████| 3/3 [00:01<00:00,  2.99it/s]\n",
      "                   all        141       1729      0.994      0.921      0.968      0.779\n",
      "\n",
      "      Epoch    GPU_mem   box_loss   cls_loss   dfl_loss  Instances       Size\n",
      "     36/200      8.17G      0.619      0.308     0.7825        596        480: 100%|██████████| 35/35 [00:07<00:00,  4.69it/s]\n",
      "                 Class     Images  Instances      Box(P          R      mAP50  mAP50-95): 100%|██████████| 3/3 [00:01<00:00,  2.98it/s]\n",
      "                   all        141       1729      0.986      0.929      0.971      0.798\n",
      "\n",
      "      Epoch    GPU_mem   box_loss   cls_loss   dfl_loss  Instances       Size\n",
      "     37/200      8.23G     0.6213     0.3071     0.7822        547        480: 100%|██████████| 35/35 [00:07<00:00,  4.59it/s]\n",
      "                 Class     Images  Instances      Box(P          R      mAP50  mAP50-95): 100%|██████████| 3/3 [00:01<00:00,  2.93it/s]\n",
      "                   all        141       1729      0.976      0.934      0.972      0.758\n",
      "\n",
      "      Epoch    GPU_mem   box_loss   cls_loss   dfl_loss  Instances       Size\n",
      "     38/200      8.17G     0.6142     0.2977     0.7794        639        480: 100%|██████████| 35/35 [00:07<00:00,  4.62it/s]\n",
      "                 Class     Images  Instances      Box(P          R      mAP50  mAP50-95): 100%|██████████| 3/3 [00:01<00:00,  2.91it/s]\n",
      "                   all        141       1729      0.981      0.935      0.972      0.802\n",
      "\n",
      "      Epoch    GPU_mem   box_loss   cls_loss   dfl_loss  Instances       Size\n",
      "     39/200      8.23G     0.6368     0.3065     0.7796        554        480: 100%|██████████| 35/35 [00:07<00:00,  4.52it/s]\n",
      "                 Class     Images  Instances      Box(P          R      mAP50  mAP50-95): 100%|██████████| 3/3 [00:01<00:00,  2.38it/s]\n",
      "                   all        141       1729      0.991      0.921      0.966      0.772\n",
      "\n",
      "      Epoch    GPU_mem   box_loss   cls_loss   dfl_loss  Instances       Size\n",
      "     40/200      8.28G     0.6154     0.3083     0.7827        532        480: 100%|██████████| 35/35 [00:07<00:00,  4.47it/s]\n",
      "                 Class     Images  Instances      Box(P          R      mAP50  mAP50-95): 100%|██████████| 3/3 [00:01<00:00,  2.78it/s]\n",
      "                   all        141       1729       0.99      0.923      0.963      0.791\n",
      "\n",
      "      Epoch    GPU_mem   box_loss   cls_loss   dfl_loss  Instances       Size\n",
      "     41/200      8.23G      0.616     0.3021     0.7821        634        480: 100%|██████████| 35/35 [00:07<00:00,  4.60it/s]\n",
      "                 Class     Images  Instances      Box(P          R      mAP50  mAP50-95): 100%|██████████| 3/3 [00:01<00:00,  2.82it/s]\n",
      "                   all        141       1729      0.988      0.931      0.973      0.767\n",
      "\n",
      "      Epoch    GPU_mem   box_loss   cls_loss   dfl_loss  Instances       Size\n",
      "     42/200      8.21G     0.6028     0.2912     0.7834        662        480: 100%|██████████| 35/35 [00:07<00:00,  4.39it/s]\n",
      "                 Class     Images  Instances      Box(P          R      mAP50  mAP50-95): 100%|██████████| 3/3 [00:01<00:00,  2.68it/s]\n",
      "                   all        141       1729      0.982      0.931      0.969      0.764\n",
      "\n",
      "      Epoch    GPU_mem   box_loss   cls_loss   dfl_loss  Instances       Size\n",
      "     43/200       8.2G     0.5739     0.2902     0.7807        781        480: 100%|██████████| 35/35 [00:07<00:00,  4.50it/s]\n",
      "                 Class     Images  Instances      Box(P          R      mAP50  mAP50-95): 100%|██████████| 3/3 [00:01<00:00,  2.58it/s]\n",
      "                   all        141       1729      0.987      0.922      0.971        0.8\n",
      "\n",
      "      Epoch    GPU_mem   box_loss   cls_loss   dfl_loss  Instances       Size\n",
      "     44/200      8.18G     0.6025     0.2938     0.7802        526        480: 100%|██████████| 35/35 [00:07<00:00,  4.50it/s]\n",
      "                 Class     Images  Instances      Box(P          R      mAP50  mAP50-95): 100%|██████████| 3/3 [00:01<00:00,  2.63it/s]\n",
      "                   all        141       1729      0.992      0.921      0.967      0.794\n",
      "\n",
      "      Epoch    GPU_mem   box_loss   cls_loss   dfl_loss  Instances       Size\n",
      "     45/200      8.22G      0.608     0.2952     0.7789        595        480: 100%|██████████| 35/35 [00:08<00:00,  4.34it/s]\n",
      "                 Class     Images  Instances      Box(P          R      mAP50  mAP50-95): 100%|██████████| 3/3 [00:01<00:00,  2.29it/s]\n",
      "                   all        141       1729      0.987      0.928      0.972      0.777\n",
      "\n",
      "      Epoch    GPU_mem   box_loss   cls_loss   dfl_loss  Instances       Size\n",
      "     46/200       8.2G     0.5808      0.286     0.7786        625        480: 100%|██████████| 35/35 [00:07<00:00,  4.40it/s]\n",
      "                 Class     Images  Instances      Box(P          R      mAP50  mAP50-95): 100%|██████████| 3/3 [00:01<00:00,  2.45it/s]\n",
      "                   all        141       1729       0.99      0.928      0.969        0.8\n",
      "\n",
      "      Epoch    GPU_mem   box_loss   cls_loss   dfl_loss  Instances       Size\n",
      "     47/200      8.24G     0.5419     0.2744     0.7741        700        480: 100%|██████████| 35/35 [00:07<00:00,  4.45it/s]\n",
      "                 Class     Images  Instances      Box(P          R      mAP50  mAP50-95): 100%|██████████| 3/3 [00:01<00:00,  2.85it/s]\n",
      "                   all        141       1729      0.986      0.927      0.972      0.777\n",
      "\n",
      "      Epoch    GPU_mem   box_loss   cls_loss   dfl_loss  Instances       Size\n",
      "     48/200      8.28G     0.5847      0.287     0.7817        628        480: 100%|██████████| 35/35 [00:07<00:00,  4.68it/s]\n",
      "                 Class     Images  Instances      Box(P          R      mAP50  mAP50-95): 100%|██████████| 3/3 [00:00<00:00,  3.06it/s]\n",
      "                   all        141       1729       0.99      0.929      0.972      0.766\n",
      "\n",
      "      Epoch    GPU_mem   box_loss   cls_loss   dfl_loss  Instances       Size\n",
      "     49/200       8.3G     0.5837     0.2879     0.7801        604        480: 100%|██████████| 35/35 [00:07<00:00,  4.69it/s]\n",
      "                 Class     Images  Instances      Box(P          R      mAP50  mAP50-95): 100%|██████████| 3/3 [00:01<00:00,  2.75it/s]\n",
      "                   all        141       1729      0.988      0.935      0.972      0.783\n",
      "\n",
      "      Epoch    GPU_mem   box_loss   cls_loss   dfl_loss  Instances       Size\n",
      "     50/200      8.29G     0.5901     0.2918     0.7773        582        480: 100%|██████████| 35/35 [00:07<00:00,  4.71it/s]\n",
      "                 Class     Images  Instances      Box(P          R      mAP50  mAP50-95): 100%|██████████| 3/3 [00:01<00:00,  2.99it/s]\n",
      "                   all        141       1729      0.986      0.929      0.968      0.808\n",
      "\n",
      "      Epoch    GPU_mem   box_loss   cls_loss   dfl_loss  Instances       Size\n",
      "     51/200      8.19G     0.5792     0.2885     0.7761        616        480: 100%|██████████| 35/35 [00:07<00:00,  4.62it/s]\n",
      "                 Class     Images  Instances      Box(P          R      mAP50  mAP50-95): 100%|██████████| 3/3 [00:01<00:00,  2.78it/s]\n",
      "                   all        141       1729      0.991      0.921      0.963      0.779\n",
      "\n",
      "      Epoch    GPU_mem   box_loss   cls_loss   dfl_loss  Instances       Size\n",
      "     52/200      8.21G     0.5738     0.2847     0.7786        582        480: 100%|██████████| 35/35 [00:07<00:00,  4.74it/s]\n",
      "                 Class     Images  Instances      Box(P          R      mAP50  mAP50-95): 100%|██████████| 3/3 [00:00<00:00,  3.06it/s]\n",
      "                   all        141       1729      0.992      0.923      0.964      0.781\n",
      "\n",
      "      Epoch    GPU_mem   box_loss   cls_loss   dfl_loss  Instances       Size\n",
      "     53/200      8.23G      0.587     0.2885     0.7797        694        480: 100%|██████████| 35/35 [00:07<00:00,  4.81it/s]\n",
      "                 Class     Images  Instances      Box(P          R      mAP50  mAP50-95): 100%|██████████| 3/3 [00:00<00:00,  3.06it/s]\n",
      "                   all        141       1729      0.992      0.922      0.967      0.793\n",
      "\n",
      "      Epoch    GPU_mem   box_loss   cls_loss   dfl_loss  Instances       Size\n",
      "     54/200      8.29G     0.5774     0.2831     0.7794        789        480: 100%|██████████| 35/35 [00:07<00:00,  4.79it/s]\n",
      "                 Class     Images  Instances      Box(P          R      mAP50  mAP50-95): 100%|██████████| 3/3 [00:00<00:00,  3.02it/s]\n",
      "                   all        141       1729       0.99      0.929      0.975      0.794\n",
      "\n",
      "      Epoch    GPU_mem   box_loss   cls_loss   dfl_loss  Instances       Size\n",
      "     55/200      8.32G     0.5709     0.2785     0.7793        526        480: 100%|██████████| 35/35 [00:07<00:00,  4.82it/s]\n",
      "                 Class     Images  Instances      Box(P          R      mAP50  mAP50-95): 100%|██████████| 3/3 [00:00<00:00,  3.05it/s]\n",
      "                   all        141       1729      0.994      0.926      0.969      0.768\n",
      "\n",
      "      Epoch    GPU_mem   box_loss   cls_loss   dfl_loss  Instances       Size\n",
      "     56/200       8.2G     0.5594     0.2721     0.7787        527        480: 100%|██████████| 35/35 [00:07<00:00,  4.77it/s]\n",
      "                 Class     Images  Instances      Box(P          R      mAP50  mAP50-95): 100%|██████████| 3/3 [00:01<00:00,  2.92it/s]\n",
      "                   all        141       1729      0.995      0.917      0.963      0.783\n",
      "\n",
      "      Epoch    GPU_mem   box_loss   cls_loss   dfl_loss  Instances       Size\n",
      "     57/200      8.24G     0.5553     0.2736     0.7764        555        480: 100%|██████████| 35/35 [00:07<00:00,  4.77it/s]\n",
      "                 Class     Images  Instances      Box(P          R      mAP50  mAP50-95): 100%|██████████| 3/3 [00:00<00:00,  3.01it/s]\n",
      "                   all        141       1729       0.99      0.927      0.973      0.785\n",
      "\n",
      "      Epoch    GPU_mem   box_loss   cls_loss   dfl_loss  Instances       Size\n",
      "     58/200      8.17G     0.5509     0.2727     0.7754        545        480: 100%|██████████| 35/35 [00:07<00:00,  4.74it/s]\n",
      "                 Class     Images  Instances      Box(P          R      mAP50  mAP50-95): 100%|██████████| 3/3 [00:00<00:00,  3.06it/s]\n",
      "                   all        141       1729      0.984      0.928      0.968      0.781\n",
      "\n",
      "      Epoch    GPU_mem   box_loss   cls_loss   dfl_loss  Instances       Size\n",
      "     59/200      8.25G     0.5606     0.2791     0.7771        570        480: 100%|██████████| 35/35 [00:07<00:00,  4.74it/s]\n",
      "                 Class     Images  Instances      Box(P          R      mAP50  mAP50-95): 100%|██████████| 3/3 [00:01<00:00,  2.98it/s]\n",
      "                   all        141       1729      0.995      0.926      0.971      0.777\n",
      "\n",
      "      Epoch    GPU_mem   box_loss   cls_loss   dfl_loss  Instances       Size\n",
      "     60/200      8.29G     0.5433     0.2712     0.7773        685        480: 100%|██████████| 35/35 [00:07<00:00,  4.75it/s]\n",
      "                 Class     Images  Instances      Box(P          R      mAP50  mAP50-95): 100%|██████████| 3/3 [00:00<00:00,  3.08it/s]\n",
      "                   all        141       1729      0.994      0.926      0.963      0.775\n",
      "\n",
      "      Epoch    GPU_mem   box_loss   cls_loss   dfl_loss  Instances       Size\n",
      "     61/200      8.22G     0.5522     0.2737     0.7775        686        480: 100%|██████████| 35/35 [00:07<00:00,  4.74it/s]\n",
      "                 Class     Images  Instances      Box(P          R      mAP50  mAP50-95): 100%|██████████| 3/3 [00:01<00:00,  2.94it/s]\n",
      "                   all        141       1729       0.99      0.929      0.971      0.805\n",
      "\n",
      "      Epoch    GPU_mem   box_loss   cls_loss   dfl_loss  Instances       Size\n",
      "     62/200      8.17G     0.5617     0.2733     0.7771        598        480: 100%|██████████| 35/35 [00:07<00:00,  4.52it/s]\n",
      "                 Class     Images  Instances      Box(P          R      mAP50  mAP50-95): 100%|██████████| 3/3 [00:01<00:00,  2.76it/s]\n",
      "                   all        141       1729      0.984      0.931       0.97      0.808\n",
      "\n",
      "      Epoch    GPU_mem   box_loss   cls_loss   dfl_loss  Instances       Size\n",
      "     63/200      8.24G     0.5286     0.2629     0.7743        542        480: 100%|██████████| 35/35 [00:07<00:00,  4.69it/s]\n",
      "                 Class     Images  Instances      Box(P          R      mAP50  mAP50-95): 100%|██████████| 3/3 [00:01<00:00,  2.94it/s]\n",
      "                   all        141       1729      0.987      0.931       0.97      0.813\n",
      "\n",
      "      Epoch    GPU_mem   box_loss   cls_loss   dfl_loss  Instances       Size\n"
     ]
    },
    {
     "name": "stderr",
     "output_type": "stream",
     "text": [
      "     64/200      8.29G     0.5392     0.2631     0.7746        639        480: 100%|██████████| 35/35 [00:08<00:00,  4.29it/s]\n",
      "                 Class     Images  Instances      Box(P          R      mAP50  mAP50-95): 100%|██████████| 3/3 [00:01<00:00,  2.68it/s]\n",
      "                   all        141       1729       0.99      0.928      0.969        0.8\n",
      "\n",
      "      Epoch    GPU_mem   box_loss   cls_loss   dfl_loss  Instances       Size\n",
      "     65/200      8.24G     0.5303      0.263     0.7762        609        480: 100%|██████████| 35/35 [00:07<00:00,  4.71it/s]\n",
      "                 Class     Images  Instances      Box(P          R      mAP50  mAP50-95): 100%|██████████| 3/3 [00:01<00:00,  2.57it/s]\n",
      "                   all        141       1729      0.991      0.923      0.966      0.789\n",
      "\n",
      "      Epoch    GPU_mem   box_loss   cls_loss   dfl_loss  Instances       Size\n",
      "     66/200       8.2G     0.5306     0.2672     0.7762        581        480: 100%|██████████| 35/35 [00:07<00:00,  4.68it/s]\n",
      "                 Class     Images  Instances      Box(P          R      mAP50  mAP50-95): 100%|██████████| 3/3 [00:01<00:00,  2.98it/s]\n",
      "                   all        141       1729      0.984       0.93       0.97      0.801\n",
      "\n",
      "      Epoch    GPU_mem   box_loss   cls_loss   dfl_loss  Instances       Size\n",
      "     67/200      8.18G     0.5681     0.2818      0.778        667        480: 100%|██████████| 35/35 [00:07<00:00,  4.69it/s]\n",
      "                 Class     Images  Instances      Box(P          R      mAP50  mAP50-95): 100%|██████████| 3/3 [00:01<00:00,  2.94it/s]\n",
      "                   all        141       1729      0.991      0.924       0.97      0.797\n",
      "\n",
      "      Epoch    GPU_mem   box_loss   cls_loss   dfl_loss  Instances       Size\n",
      "     68/200       8.2G     0.5533     0.2745     0.7753        582        480: 100%|██████████| 35/35 [00:07<00:00,  4.72it/s]\n",
      "                 Class     Images  Instances      Box(P          R      mAP50  mAP50-95): 100%|██████████| 3/3 [00:00<00:00,  3.01it/s]\n",
      "                   all        141       1729      0.992      0.924      0.965      0.795\n",
      "\n",
      "      Epoch    GPU_mem   box_loss   cls_loss   dfl_loss  Instances       Size\n",
      "     69/200      8.24G     0.5142     0.2617     0.7753        568        480: 100%|██████████| 35/35 [00:07<00:00,  4.76it/s]\n",
      "                 Class     Images  Instances      Box(P          R      mAP50  mAP50-95): 100%|██████████| 3/3 [00:00<00:00,  3.01it/s]\n",
      "                   all        141       1729      0.989      0.924      0.969      0.809\n",
      "\n",
      "      Epoch    GPU_mem   box_loss   cls_loss   dfl_loss  Instances       Size\n",
      "     70/200       8.2G     0.5247     0.2619     0.7769        626        480: 100%|██████████| 35/35 [00:07<00:00,  4.72it/s]\n",
      "                 Class     Images  Instances      Box(P          R      mAP50  mAP50-95): 100%|██████████| 3/3 [00:00<00:00,  3.03it/s]\n",
      "                   all        141       1729      0.991      0.935      0.975      0.789\n",
      "\n",
      "      Epoch    GPU_mem   box_loss   cls_loss   dfl_loss  Instances       Size\n",
      "     71/200      8.24G     0.5153     0.2561     0.7741        528        480: 100%|██████████| 35/35 [00:07<00:00,  4.75it/s]\n",
      "                 Class     Images  Instances      Box(P          R      mAP50  mAP50-95): 100%|██████████| 3/3 [00:01<00:00,  2.86it/s]\n",
      "                   all        141       1729      0.987       0.93      0.967      0.797\n",
      "\n",
      "      Epoch    GPU_mem   box_loss   cls_loss   dfl_loss  Instances       Size\n",
      "     72/200      8.16G     0.5288     0.2631     0.7736        671        480: 100%|██████████| 35/35 [00:07<00:00,  4.73it/s]\n",
      "                 Class     Images  Instances      Box(P          R      mAP50  mAP50-95): 100%|██████████| 3/3 [00:01<00:00,  2.99it/s]\n",
      "                   all        141       1729      0.992      0.922      0.963      0.787\n",
      "\n",
      "      Epoch    GPU_mem   box_loss   cls_loss   dfl_loss  Instances       Size\n",
      "     73/200      8.19G     0.5255     0.2611     0.7738        519        480: 100%|██████████| 35/35 [00:07<00:00,  4.52it/s]\n",
      "                 Class     Images  Instances      Box(P          R      mAP50  mAP50-95): 100%|██████████| 3/3 [00:01<00:00,  2.45it/s]\n",
      "                   all        141       1729       0.99       0.93      0.973      0.827\n",
      "\n",
      "      Epoch    GPU_mem   box_loss   cls_loss   dfl_loss  Instances       Size\n",
      "     74/200      8.18G     0.5051     0.2527     0.7766        616        480: 100%|██████████| 35/35 [00:07<00:00,  4.72it/s]\n",
      "                 Class     Images  Instances      Box(P          R      mAP50  mAP50-95): 100%|██████████| 3/3 [00:01<00:00,  2.80it/s]\n",
      "                   all        141       1729      0.996      0.928      0.968      0.798\n",
      "\n",
      "      Epoch    GPU_mem   box_loss   cls_loss   dfl_loss  Instances       Size\n",
      "     75/200      8.24G     0.5237     0.2614     0.7751        588        480: 100%|██████████| 35/35 [00:08<00:00,  4.19it/s]\n",
      "                 Class     Images  Instances      Box(P          R      mAP50  mAP50-95): 100%|██████████| 3/3 [00:01<00:00,  2.65it/s]\n",
      "                   all        141       1729      0.966      0.949       0.97      0.801\n",
      "\n",
      "      Epoch    GPU_mem   box_loss   cls_loss   dfl_loss  Instances       Size\n",
      "     76/200      8.21G     0.5302     0.2661     0.7741        613        480: 100%|██████████| 35/35 [00:08<00:00,  4.32it/s]\n",
      "                 Class     Images  Instances      Box(P          R      mAP50  mAP50-95): 100%|██████████| 3/3 [00:01<00:00,  2.63it/s]\n",
      "                   all        141       1729      0.988      0.934      0.976      0.813\n",
      "\n",
      "      Epoch    GPU_mem   box_loss   cls_loss   dfl_loss  Instances       Size\n",
      "     77/200       8.2G     0.5006     0.2477     0.7752        623        480: 100%|██████████| 35/35 [00:08<00:00,  4.22it/s]\n",
      "                 Class     Images  Instances      Box(P          R      mAP50  mAP50-95): 100%|██████████| 3/3 [00:01<00:00,  2.62it/s]\n",
      "                   all        141       1729      0.998      0.937      0.976       0.78\n",
      "\n",
      "      Epoch    GPU_mem   box_loss   cls_loss   dfl_loss  Instances       Size\n",
      "     78/200      8.21G     0.5009     0.2495     0.7705        702        480: 100%|██████████| 35/35 [00:07<00:00,  4.72it/s]\n",
      "                 Class     Images  Instances      Box(P          R      mAP50  mAP50-95): 100%|██████████| 3/3 [00:01<00:00,  2.62it/s]\n",
      "                   all        141       1729      0.995       0.92      0.968       0.81\n",
      "\n",
      "      Epoch    GPU_mem   box_loss   cls_loss   dfl_loss  Instances       Size\n",
      "     79/200       8.2G     0.5013     0.2509     0.7724        624        480: 100%|██████████| 35/35 [00:07<00:00,  4.46it/s]\n",
      "                 Class     Images  Instances      Box(P          R      mAP50  mAP50-95): 100%|██████████| 3/3 [00:01<00:00,  3.00it/s]\n",
      "                   all        141       1729      0.992      0.927      0.972      0.807\n",
      "\n",
      "      Epoch    GPU_mem   box_loss   cls_loss   dfl_loss  Instances       Size\n",
      "     80/200      8.29G     0.4891     0.2446     0.7748        647        480: 100%|██████████| 35/35 [00:07<00:00,  4.39it/s]\n",
      "                 Class     Images  Instances      Box(P          R      mAP50  mAP50-95): 100%|██████████| 3/3 [00:01<00:00,  2.97it/s]\n",
      "                   all        141       1729       0.99      0.927      0.972      0.798\n",
      "\n",
      "      Epoch    GPU_mem   box_loss   cls_loss   dfl_loss  Instances       Size\n",
      "     81/200      8.32G     0.5034      0.256     0.7761        632        480: 100%|██████████| 35/35 [00:07<00:00,  4.76it/s]\n",
      "                 Class     Images  Instances      Box(P          R      mAP50  mAP50-95): 100%|██████████| 3/3 [00:00<00:00,  3.02it/s]\n",
      "                   all        141       1729      0.992      0.935      0.973      0.781\n",
      "\n",
      "      Epoch    GPU_mem   box_loss   cls_loss   dfl_loss  Instances       Size\n",
      "     82/200      8.19G     0.5075     0.2557     0.7784        634        480: 100%|██████████| 35/35 [00:07<00:00,  4.75it/s]\n",
      "                 Class     Images  Instances      Box(P          R      mAP50  mAP50-95): 100%|██████████| 3/3 [00:00<00:00,  3.02it/s]\n",
      "                   all        141       1729      0.992      0.925      0.967        0.8\n",
      "\n",
      "      Epoch    GPU_mem   box_loss   cls_loss   dfl_loss  Instances       Size\n",
      "     83/200      8.23G     0.5283     0.2602     0.7748        718        480: 100%|██████████| 35/35 [00:07<00:00,  4.72it/s]\n",
      "                 Class     Images  Instances      Box(P          R      mAP50  mAP50-95): 100%|██████████| 3/3 [00:01<00:00,  3.00it/s]\n",
      "                   all        141       1729      0.992      0.921      0.964       0.81\n",
      "\n",
      "      Epoch    GPU_mem   box_loss   cls_loss   dfl_loss  Instances       Size\n",
      "     84/200      8.19G      0.496     0.2472     0.7716        710        480: 100%|██████████| 35/35 [00:07<00:00,  4.49it/s]\n",
      "                 Class     Images  Instances      Box(P          R      mAP50  mAP50-95): 100%|██████████| 3/3 [00:01<00:00,  3.00it/s]\n",
      "                   all        141       1729      0.973      0.946      0.968       0.81\n",
      "\n",
      "      Epoch    GPU_mem   box_loss   cls_loss   dfl_loss  Instances       Size\n",
      "     85/200      8.21G     0.4915     0.2451     0.7789        555        480: 100%|██████████| 35/35 [00:07<00:00,  4.73it/s]\n",
      "                 Class     Images  Instances      Box(P          R      mAP50  mAP50-95): 100%|██████████| 3/3 [00:01<00:00,  2.96it/s]\n",
      "                   all        141       1729      0.992      0.923      0.967      0.802\n",
      "\n",
      "      Epoch    GPU_mem   box_loss   cls_loss   dfl_loss  Instances       Size\n",
      "     86/200      8.29G       0.49     0.2454     0.7714        521        480: 100%|██████████| 35/35 [00:07<00:00,  4.73it/s]\n",
      "                 Class     Images  Instances      Box(P          R      mAP50  mAP50-95): 100%|██████████| 3/3 [00:00<00:00,  3.02it/s]\n",
      "                   all        141       1729      0.992      0.925      0.966      0.788\n",
      "\n",
      "      Epoch    GPU_mem   box_loss   cls_loss   dfl_loss  Instances       Size\n",
      "     87/200      8.19G     0.4862     0.2438     0.7737        580        480: 100%|██████████| 35/35 [00:07<00:00,  4.73it/s]\n",
      "                 Class     Images  Instances      Box(P          R      mAP50  mAP50-95): 100%|██████████| 3/3 [00:01<00:00,  2.64it/s]\n",
      "                   all        141       1729      0.989      0.928      0.967      0.796\n",
      "\n",
      "      Epoch    GPU_mem   box_loss   cls_loss   dfl_loss  Instances       Size\n",
      "     88/200       8.2G      0.503      0.248     0.7746        583        480: 100%|██████████| 35/35 [00:07<00:00,  4.71it/s]\n",
      "                 Class     Images  Instances      Box(P          R      mAP50  mAP50-95): 100%|██████████| 3/3 [00:01<00:00,  2.75it/s]\n",
      "                   all        141       1729      0.989      0.929      0.969      0.805\n",
      "\n",
      "      Epoch    GPU_mem   box_loss   cls_loss   dfl_loss  Instances       Size\n",
      "     89/200      8.22G     0.4995     0.2514     0.7724        620        480: 100%|██████████| 35/35 [00:07<00:00,  4.73it/s]\n",
      "                 Class     Images  Instances      Box(P          R      mAP50  mAP50-95): 100%|██████████| 3/3 [00:01<00:00,  3.00it/s]\n",
      "                   all        141       1729      0.993      0.933      0.971      0.799\n",
      "\n",
      "      Epoch    GPU_mem   box_loss   cls_loss   dfl_loss  Instances       Size\n",
      "     90/200      8.21G     0.4902      0.243      0.772        699        480: 100%|██████████| 35/35 [00:07<00:00,  4.73it/s]\n",
      "                 Class     Images  Instances      Box(P          R      mAP50  mAP50-95): 100%|██████████| 3/3 [00:01<00:00,  2.98it/s]\n",
      "                   all        141       1729      0.998      0.929       0.97        0.8\n",
      "\n",
      "      Epoch    GPU_mem   box_loss   cls_loss   dfl_loss  Instances       Size\n",
      "     91/200      8.22G     0.4778     0.2366     0.7708        686        480: 100%|██████████| 35/35 [00:07<00:00,  4.76it/s]\n",
      "                 Class     Images  Instances      Box(P          R      mAP50  mAP50-95): 100%|██████████| 3/3 [00:00<00:00,  3.03it/s]\n",
      "                   all        141       1729      0.991      0.933      0.971      0.783\n",
      "\n",
      "      Epoch    GPU_mem   box_loss   cls_loss   dfl_loss  Instances       Size\n",
      "     92/200      8.21G     0.4802     0.2363      0.772        693        480: 100%|██████████| 35/35 [00:07<00:00,  4.73it/s]\n",
      "                 Class     Images  Instances      Box(P          R      mAP50  mAP50-95): 100%|██████████| 3/3 [00:00<00:00,  3.01it/s]\n",
      "                   all        141       1729       0.99      0.933      0.971      0.809\n",
      "\n",
      "      Epoch    GPU_mem   box_loss   cls_loss   dfl_loss  Instances       Size\n",
      "     93/200      8.23G       0.47     0.2357     0.7747        597        480: 100%|██████████| 35/35 [00:07<00:00,  4.74it/s]\n",
      "                 Class     Images  Instances      Box(P          R      mAP50  mAP50-95): 100%|██████████| 3/3 [00:01<00:00,  3.00it/s]\n",
      "                   all        141       1729      0.974      0.948       0.97      0.814\n",
      "\n",
      "      Epoch    GPU_mem   box_loss   cls_loss   dfl_loss  Instances       Size\n",
      "     94/200       8.2G       0.47     0.2346     0.7722        639        480: 100%|██████████| 35/35 [00:07<00:00,  4.75it/s]\n",
      "                 Class     Images  Instances      Box(P          R      mAP50  mAP50-95): 100%|██████████| 3/3 [00:00<00:00,  3.01it/s]\n",
      "                   all        141       1729      0.992      0.926      0.967      0.803\n",
      "\n",
      "      Epoch    GPU_mem   box_loss   cls_loss   dfl_loss  Instances       Size\n",
      "     95/200      8.22G     0.4824     0.2429     0.7716        765        480: 100%|██████████| 35/35 [00:07<00:00,  4.72it/s]\n",
      "                 Class     Images  Instances      Box(P          R      mAP50  mAP50-95): 100%|██████████| 3/3 [00:01<00:00,  2.99it/s]\n",
      "                   all        141       1729       0.98      0.939      0.965      0.796\n",
      "\n",
      "      Epoch    GPU_mem   box_loss   cls_loss   dfl_loss  Instances       Size\n",
      "     96/200      8.28G     0.4772     0.2416     0.7737        779        480: 100%|██████████| 35/35 [00:07<00:00,  4.74it/s]\n",
      "                 Class     Images  Instances      Box(P          R      mAP50  mAP50-95): 100%|██████████| 3/3 [00:01<00:00,  2.97it/s]\n",
      "                   all        141       1729      0.993      0.924      0.967       0.81\n",
      "\n",
      "      Epoch    GPU_mem   box_loss   cls_loss   dfl_loss  Instances       Size\n",
      "     97/200      8.22G     0.4899      0.243     0.7709        679        480: 100%|██████████| 35/35 [00:07<00:00,  4.73it/s]\n",
      "                 Class     Images  Instances      Box(P          R      mAP50  mAP50-95): 100%|██████████| 3/3 [00:00<00:00,  3.03it/s]\n",
      "                   all        141       1729      0.993      0.921      0.967      0.808\n",
      "\n",
      "      Epoch    GPU_mem   box_loss   cls_loss   dfl_loss  Instances       Size\n",
      "     98/200      8.19G     0.4584     0.2336     0.7751        572        480: 100%|██████████| 35/35 [00:07<00:00,  4.63it/s]\n",
      "                 Class     Images  Instances      Box(P          R      mAP50  mAP50-95): 100%|██████████| 3/3 [00:00<00:00,  3.02it/s]\n",
      "                   all        141       1729      0.994      0.918      0.962      0.808\n",
      "\n",
      "      Epoch    GPU_mem   box_loss   cls_loss   dfl_loss  Instances       Size\n",
      "     99/200      8.25G     0.4659     0.2376     0.7745        715        480: 100%|██████████| 35/35 [00:07<00:00,  4.71it/s]\n",
      "                 Class     Images  Instances      Box(P          R      mAP50  mAP50-95): 100%|██████████| 3/3 [00:00<00:00,  3.00it/s]\n",
      "                   all        141       1729      0.994      0.926      0.972      0.796\n",
      "\n",
      "      Epoch    GPU_mem   box_loss   cls_loss   dfl_loss  Instances       Size\n",
      "    100/200      8.21G     0.4757     0.2391     0.7713        660        480: 100%|██████████| 35/35 [00:07<00:00,  4.72it/s]\n",
      "                 Class     Images  Instances      Box(P          R      mAP50  mAP50-95): 100%|██████████| 3/3 [00:01<00:00,  2.99it/s]\n",
      "                   all        141       1729      0.995      0.928      0.969      0.808\n",
      "\n",
      "      Epoch    GPU_mem   box_loss   cls_loss   dfl_loss  Instances       Size\n",
      "    101/200       8.3G     0.4784     0.2441      0.772        546        480: 100%|██████████| 35/35 [00:07<00:00,  4.75it/s]\n",
      "                 Class     Images  Instances      Box(P          R      mAP50  mAP50-95): 100%|██████████| 3/3 [00:01<00:00,  2.98it/s]\n",
      "                   all        141       1729      0.978      0.949      0.971      0.804\n",
      "\n",
      "      Epoch    GPU_mem   box_loss   cls_loss   dfl_loss  Instances       Size\n"
     ]
    },
    {
     "name": "stderr",
     "output_type": "stream",
     "text": [
      "    102/200      8.29G     0.4698     0.2398     0.7711        650        480: 100%|██████████| 35/35 [00:07<00:00,  4.71it/s]\n",
      "                 Class     Images  Instances      Box(P          R      mAP50  mAP50-95): 100%|██████████| 3/3 [00:00<00:00,  3.00it/s]\n",
      "                   all        141       1729      0.994      0.912      0.963      0.796\n",
      "\n",
      "      Epoch    GPU_mem   box_loss   cls_loss   dfl_loss  Instances       Size\n",
      "    103/200      8.24G     0.4841      0.242     0.7721        551        480: 100%|██████████| 35/35 [00:07<00:00,  4.61it/s]\n",
      "                 Class     Images  Instances      Box(P          R      mAP50  mAP50-95): 100%|██████████| 3/3 [00:00<00:00,  3.02it/s]\n",
      "                   all        141       1729      0.992      0.921      0.964      0.795\n",
      "\n",
      "      Epoch    GPU_mem   box_loss   cls_loss   dfl_loss  Instances       Size\n",
      "    104/200       8.2G     0.4799     0.2393     0.7734        553        480: 100%|██████████| 35/35 [00:07<00:00,  4.70it/s]\n",
      "                 Class     Images  Instances      Box(P          R      mAP50  mAP50-95): 100%|██████████| 3/3 [00:01<00:00,  2.99it/s]\n",
      "                   all        141       1729      0.992      0.928      0.971      0.803\n",
      "\n",
      "      Epoch    GPU_mem   box_loss   cls_loss   dfl_loss  Instances       Size\n",
      "    105/200      8.23G     0.4733     0.2384     0.7708        584        480: 100%|██████████| 35/35 [00:07<00:00,  4.73it/s]\n",
      "                 Class     Images  Instances      Box(P          R      mAP50  mAP50-95): 100%|██████████| 3/3 [00:00<00:00,  3.00it/s]\n",
      "                   all        141       1729      0.978      0.942      0.967      0.792\n",
      "\n",
      "      Epoch    GPU_mem   box_loss   cls_loss   dfl_loss  Instances       Size\n",
      "    106/200      8.16G     0.4693     0.2369     0.7695        763        480: 100%|██████████| 35/35 [00:07<00:00,  4.74it/s]\n",
      "                 Class     Images  Instances      Box(P          R      mAP50  mAP50-95): 100%|██████████| 3/3 [00:00<00:00,  3.01it/s]\n",
      "                   all        141       1729      0.993       0.93      0.968      0.802\n",
      "\n",
      "      Epoch    GPU_mem   box_loss   cls_loss   dfl_loss  Instances       Size\n",
      "    107/200      8.23G     0.4706     0.2313     0.7735        613        480: 100%|██████████| 35/35 [00:07<00:00,  4.71it/s]\n",
      "                 Class     Images  Instances      Box(P          R      mAP50  mAP50-95): 100%|██████████| 3/3 [00:00<00:00,  3.03it/s]\n",
      "                   all        141       1729      0.991      0.928       0.97      0.811\n",
      "\n",
      "      Epoch    GPU_mem   box_loss   cls_loss   dfl_loss  Instances       Size\n",
      "    108/200       8.2G     0.4725     0.2339     0.7722        607        480: 100%|██████████| 35/35 [00:07<00:00,  4.72it/s]\n",
      "                 Class     Images  Instances      Box(P          R      mAP50  mAP50-95): 100%|██████████| 3/3 [00:00<00:00,  3.00it/s]\n",
      "                   all        141       1729      0.994      0.921      0.966      0.805\n",
      "\n",
      "      Epoch    GPU_mem   box_loss   cls_loss   dfl_loss  Instances       Size\n",
      "    109/200      8.19G      0.476     0.2361     0.7706        623        480: 100%|██████████| 35/35 [00:07<00:00,  4.73it/s]\n",
      "                 Class     Images  Instances      Box(P          R      mAP50  mAP50-95): 100%|██████████| 3/3 [00:01<00:00,  2.97it/s]\n",
      "                   all        141       1729      0.992      0.931      0.972      0.816\n",
      "\n",
      "      Epoch    GPU_mem   box_loss   cls_loss   dfl_loss  Instances       Size\n",
      "    110/200      8.16G     0.4559     0.2278     0.7699        539        480: 100%|██████████| 35/35 [00:07<00:00,  4.75it/s]\n",
      "                 Class     Images  Instances      Box(P          R      mAP50  mAP50-95): 100%|██████████| 3/3 [00:01<00:00,  3.00it/s]\n",
      "                   all        141       1729      0.998      0.931      0.971      0.809\n",
      "\n",
      "      Epoch    GPU_mem   box_loss   cls_loss   dfl_loss  Instances       Size\n",
      "    111/200      8.24G     0.4641     0.2316     0.7731        527        480: 100%|██████████| 35/35 [00:07<00:00,  4.72it/s]\n",
      "                 Class     Images  Instances      Box(P          R      mAP50  mAP50-95): 100%|██████████| 3/3 [00:00<00:00,  3.03it/s]\n",
      "                   all        141       1729      0.993      0.928      0.966      0.804\n",
      "\n",
      "      Epoch    GPU_mem   box_loss   cls_loss   dfl_loss  Instances       Size\n",
      "    112/200      8.15G     0.4601     0.2305     0.7721        642        480: 100%|██████████| 35/35 [00:07<00:00,  4.74it/s]\n",
      "                 Class     Images  Instances      Box(P          R      mAP50  mAP50-95): 100%|██████████| 3/3 [00:00<00:00,  3.01it/s]\n",
      "                   all        141       1729      0.999       0.92       0.96      0.813\n",
      "\n",
      "      Epoch    GPU_mem   box_loss   cls_loss   dfl_loss  Instances       Size\n",
      "    113/200      8.22G      0.464     0.2292     0.7717        642        480: 100%|██████████| 35/35 [00:07<00:00,  4.69it/s]\n",
      "                 Class     Images  Instances      Box(P          R      mAP50  mAP50-95): 100%|██████████| 3/3 [00:01<00:00,  2.98it/s]\n",
      "                   all        141       1729      0.987       0.93      0.962      0.814\n",
      "\n",
      "      Epoch    GPU_mem   box_loss   cls_loss   dfl_loss  Instances       Size\n",
      "    114/200       8.2G     0.4559     0.2276     0.7693        612        480: 100%|██████████| 35/35 [00:07<00:00,  4.73it/s]\n",
      "                 Class     Images  Instances      Box(P          R      mAP50  mAP50-95): 100%|██████████| 3/3 [00:01<00:00,  2.96it/s]\n",
      "                   all        141       1729      0.982      0.948       0.97       0.79\n",
      "\n",
      "      Epoch    GPU_mem   box_loss   cls_loss   dfl_loss  Instances       Size\n",
      "    115/200      8.31G     0.4451     0.2238     0.7713        663        480: 100%|██████████| 35/35 [00:07<00:00,  4.73it/s]\n",
      "                 Class     Images  Instances      Box(P          R      mAP50  mAP50-95): 100%|██████████| 3/3 [00:01<00:00,  2.99it/s]\n",
      "                   all        141       1729      0.981      0.938      0.965        0.8\n",
      "\n",
      "      Epoch    GPU_mem   box_loss   cls_loss   dfl_loss  Instances       Size\n",
      "    116/200      8.19G     0.4475     0.2254     0.7705        558        480: 100%|██████████| 35/35 [00:07<00:00,  4.71it/s]\n",
      "                 Class     Images  Instances      Box(P          R      mAP50  mAP50-95): 100%|██████████| 3/3 [00:00<00:00,  3.02it/s]\n",
      "                   all        141       1729          1      0.919      0.961      0.817\n",
      "\n",
      "      Epoch    GPU_mem   box_loss   cls_loss   dfl_loss  Instances       Size\n",
      "    117/200      8.21G      0.453     0.2272     0.7689        672        480: 100%|██████████| 35/35 [00:07<00:00,  4.72it/s]\n",
      "                 Class     Images  Instances      Box(P          R      mAP50  mAP50-95): 100%|██████████| 3/3 [00:01<00:00,  2.97it/s]\n",
      "                   all        141       1729      0.979      0.943      0.967      0.809\n",
      "\n",
      "      Epoch    GPU_mem   box_loss   cls_loss   dfl_loss  Instances       Size\n",
      "    118/200      8.21G     0.4462     0.2248     0.7726        569        480: 100%|██████████| 35/35 [00:07<00:00,  4.53it/s]\n",
      "                 Class     Images  Instances      Box(P          R      mAP50  mAP50-95): 100%|██████████| 3/3 [00:01<00:00,  2.89it/s]\n",
      "                   all        141       1729      0.977      0.949       0.97      0.819\n",
      "\n",
      "      Epoch    GPU_mem   box_loss   cls_loss   dfl_loss  Instances       Size\n",
      "    119/200      8.19G     0.4562     0.2256     0.7714        604        480: 100%|██████████| 35/35 [00:07<00:00,  4.60it/s]\n",
      "                 Class     Images  Instances      Box(P          R      mAP50  mAP50-95): 100%|██████████| 3/3 [00:01<00:00,  2.96it/s]\n",
      "                   all        141       1729      0.993      0.922       0.97      0.819\n",
      "\n",
      "      Epoch    GPU_mem   box_loss   cls_loss   dfl_loss  Instances       Size\n",
      "    120/200      8.21G     0.4561     0.2289     0.7686        587        480: 100%|██████████| 35/35 [00:07<00:00,  4.41it/s]\n",
      "                 Class     Images  Instances      Box(P          R      mAP50  mAP50-95): 100%|██████████| 3/3 [00:01<00:00,  2.63it/s]\n",
      "                   all        141       1729      0.992      0.928      0.964      0.821\n",
      "\n",
      "      Epoch    GPU_mem   box_loss   cls_loss   dfl_loss  Instances       Size\n",
      "    121/200      8.23G      0.448      0.227     0.7744        580        480: 100%|██████████| 35/35 [00:07<00:00,  4.56it/s]\n",
      "                 Class     Images  Instances      Box(P          R      mAP50  mAP50-95): 100%|██████████| 3/3 [00:01<00:00,  2.45it/s]\n",
      "                   all        141       1729      0.997      0.929      0.968      0.812\n",
      "\n",
      "      Epoch    GPU_mem   box_loss   cls_loss   dfl_loss  Instances       Size\n",
      "    122/200      8.19G     0.4476     0.2236     0.7703        659        480: 100%|██████████| 35/35 [00:07<00:00,  4.68it/s]\n",
      "                 Class     Images  Instances      Box(P          R      mAP50  mAP50-95): 100%|██████████| 3/3 [00:01<00:00,  2.99it/s]\n",
      "                   all        141       1729      0.985      0.945      0.969       0.83\n",
      "\n",
      "      Epoch    GPU_mem   box_loss   cls_loss   dfl_loss  Instances       Size\n",
      "    123/200       8.2G     0.4449     0.2192     0.7683        528        480: 100%|██████████| 35/35 [00:07<00:00,  4.72it/s]\n",
      "                 Class     Images  Instances      Box(P          R      mAP50  mAP50-95): 100%|██████████| 3/3 [00:01<00:00,  3.00it/s]\n",
      "                   all        141       1729      0.983      0.944      0.968      0.817\n",
      "\n",
      "      Epoch    GPU_mem   box_loss   cls_loss   dfl_loss  Instances       Size\n",
      "    124/200       8.2G     0.4473     0.2202     0.7691        576        480: 100%|██████████| 35/35 [00:07<00:00,  4.72it/s]\n",
      "                 Class     Images  Instances      Box(P          R      mAP50  mAP50-95): 100%|██████████| 3/3 [00:01<00:00,  2.96it/s]\n",
      "                   all        141       1729      0.999      0.923      0.967      0.805\n",
      "\n",
      "      Epoch    GPU_mem   box_loss   cls_loss   dfl_loss  Instances       Size\n",
      "    125/200      8.21G     0.4388     0.2168     0.7689        759        480: 100%|██████████| 35/35 [00:07<00:00,  4.60it/s]\n",
      "                 Class     Images  Instances      Box(P          R      mAP50  mAP50-95): 100%|██████████| 3/3 [00:00<00:00,  3.06it/s]\n",
      "                   all        141       1729      0.984      0.936      0.964      0.805\n",
      "\n",
      "      Epoch    GPU_mem   box_loss   cls_loss   dfl_loss  Instances       Size\n",
      "    126/200       8.2G     0.4215     0.2117     0.7717        748        480: 100%|██████████| 35/35 [00:07<00:00,  4.66it/s]\n",
      "                 Class     Images  Instances      Box(P          R      mAP50  mAP50-95): 100%|██████████| 3/3 [00:01<00:00,  2.95it/s]\n",
      "                   all        141       1729      0.984      0.933      0.963      0.825\n",
      "\n",
      "      Epoch    GPU_mem   box_loss   cls_loss   dfl_loss  Instances       Size\n",
      "    127/200      8.23G     0.4277     0.2161     0.7674        622        480: 100%|██████████| 35/35 [00:07<00:00,  4.72it/s]\n",
      "                 Class     Images  Instances      Box(P          R      mAP50  mAP50-95): 100%|██████████| 3/3 [00:01<00:00,  2.99it/s]\n",
      "                   all        141       1729      0.998      0.925      0.965      0.798\n",
      "\n",
      "      Epoch    GPU_mem   box_loss   cls_loss   dfl_loss  Instances       Size\n",
      "    128/200      8.21G     0.4521     0.2239     0.7683        649        480: 100%|██████████| 35/35 [00:07<00:00,  4.75it/s]\n",
      "                 Class     Images  Instances      Box(P          R      mAP50  mAP50-95): 100%|██████████| 3/3 [00:00<00:00,  3.00it/s]\n",
      "                   all        141       1729          1      0.924      0.965      0.808\n",
      "\n",
      "      Epoch    GPU_mem   box_loss   cls_loss   dfl_loss  Instances       Size\n",
      "    129/200       8.3G     0.4388     0.2207     0.7676        729        480: 100%|██████████| 35/35 [00:07<00:00,  4.74it/s]\n",
      "                 Class     Images  Instances      Box(P          R      mAP50  mAP50-95): 100%|██████████| 3/3 [00:01<00:00,  2.79it/s]\n",
      "                   all        141       1729      0.989      0.935      0.964      0.813\n",
      "\n",
      "      Epoch    GPU_mem   box_loss   cls_loss   dfl_loss  Instances       Size\n",
      "    130/200      8.29G     0.4345     0.2205     0.7692        740        480: 100%|██████████| 35/35 [00:07<00:00,  4.43it/s]\n",
      "                 Class     Images  Instances      Box(P          R      mAP50  mAP50-95): 100%|██████████| 3/3 [00:01<00:00,  2.97it/s]\n",
      "                   all        141       1729      0.985      0.947       0.97      0.812\n",
      "\n",
      "      Epoch    GPU_mem   box_loss   cls_loss   dfl_loss  Instances       Size\n",
      "    131/200      8.24G     0.4249     0.2151     0.7723        638        480: 100%|██████████| 35/35 [00:07<00:00,  4.62it/s]\n",
      "                 Class     Images  Instances      Box(P          R      mAP50  mAP50-95): 100%|██████████| 3/3 [00:01<00:00,  2.99it/s]\n",
      "                   all        141       1729      0.999      0.926      0.966      0.825\n",
      "\n",
      "      Epoch    GPU_mem   box_loss   cls_loss   dfl_loss  Instances       Size\n",
      "    132/200       8.2G     0.4336     0.2194     0.7707        670        480: 100%|██████████| 35/35 [00:07<00:00,  4.72it/s]\n",
      "                 Class     Images  Instances      Box(P          R      mAP50  mAP50-95): 100%|██████████| 3/3 [00:01<00:00,  2.77it/s]\n",
      "                   all        141       1729      0.979      0.947      0.969      0.819\n",
      "\n",
      "      Epoch    GPU_mem   box_loss   cls_loss   dfl_loss  Instances       Size\n",
      "    133/200      8.22G     0.4182     0.2112     0.7681        551        480: 100%|██████████| 35/35 [00:07<00:00,  4.70it/s]\n",
      "                 Class     Images  Instances      Box(P          R      mAP50  mAP50-95): 100%|██████████| 3/3 [00:01<00:00,  2.85it/s]\n",
      "                   all        141       1729      0.994      0.923      0.969      0.808\n",
      "\n",
      "      Epoch    GPU_mem   box_loss   cls_loss   dfl_loss  Instances       Size\n",
      "    134/200      8.21G     0.4393     0.2185     0.7708        603        480: 100%|██████████| 35/35 [00:07<00:00,  4.69it/s]\n",
      "                 Class     Images  Instances      Box(P          R      mAP50  mAP50-95): 100%|██████████| 3/3 [00:00<00:00,  3.01it/s]\n",
      "                   all        141       1729      0.976      0.955      0.973      0.815\n",
      "\n",
      "      Epoch    GPU_mem   box_loss   cls_loss   dfl_loss  Instances       Size\n",
      "    135/200       8.2G     0.4276     0.2152     0.7722        627        480: 100%|██████████| 35/35 [00:07<00:00,  4.51it/s]\n",
      "                 Class     Images  Instances      Box(P          R      mAP50  mAP50-95): 100%|██████████| 3/3 [00:01<00:00,  2.78it/s]\n",
      "                   all        141       1729      0.991      0.933      0.968      0.807\n",
      "\n",
      "      Epoch    GPU_mem   box_loss   cls_loss   dfl_loss  Instances       Size\n",
      "    136/200      8.17G     0.4303     0.2159     0.7703        716        480: 100%|██████████| 35/35 [00:07<00:00,  4.60it/s]\n",
      "                 Class     Images  Instances      Box(P          R      mAP50  mAP50-95): 100%|██████████| 3/3 [00:01<00:00,  2.63it/s]\n",
      "                   all        141       1729      0.975      0.938      0.965       0.82\n",
      "\n",
      "      Epoch    GPU_mem   box_loss   cls_loss   dfl_loss  Instances       Size\n",
      "    137/200      8.21G     0.4245     0.2165     0.7695        681        480: 100%|██████████| 35/35 [00:08<00:00,  4.21it/s]\n",
      "                 Class     Images  Instances      Box(P          R      mAP50  mAP50-95): 100%|██████████| 3/3 [00:01<00:00,  2.65it/s]\n",
      "                   all        141       1729      0.982      0.939      0.966      0.807\n",
      "\n",
      "      Epoch    GPU_mem   box_loss   cls_loss   dfl_loss  Instances       Size\n",
      "    138/200      8.29G     0.4354     0.2167     0.7672        715        480: 100%|██████████| 35/35 [00:08<00:00,  4.22it/s]\n",
      "                 Class     Images  Instances      Box(P          R      mAP50  mAP50-95): 100%|██████████| 3/3 [00:01<00:00,  2.64it/s]\n",
      "                   all        141       1729      0.988      0.942      0.968       0.81\n",
      "\n",
      "      Epoch    GPU_mem   box_loss   cls_loss   dfl_loss  Instances       Size\n",
      "    139/200      8.23G     0.4286     0.2154     0.7697        478        480: 100%|██████████| 35/35 [00:08<00:00,  4.23it/s]\n",
      "                 Class     Images  Instances      Box(P          R      mAP50  mAP50-95): 100%|██████████| 3/3 [00:01<00:00,  2.64it/s]\n",
      "                   all        141       1729      0.989      0.938      0.965      0.819\n",
      "\n",
      "      Epoch    GPU_mem   box_loss   cls_loss   dfl_loss  Instances       Size\n"
     ]
    },
    {
     "name": "stderr",
     "output_type": "stream",
     "text": [
      "    140/200      8.29G     0.4173     0.2125     0.7693        656        480: 100%|██████████| 35/35 [00:07<00:00,  4.48it/s]\n",
      "                 Class     Images  Instances      Box(P          R      mAP50  mAP50-95): 100%|██████████| 3/3 [00:01<00:00,  2.85it/s]\n",
      "                   all        141       1729      0.992      0.932      0.963      0.813\n",
      "\n",
      "      Epoch    GPU_mem   box_loss   cls_loss   dfl_loss  Instances       Size\n",
      "    141/200      8.24G     0.4271     0.2125     0.7664        614        480: 100%|██████████| 35/35 [00:07<00:00,  4.73it/s]\n",
      "                 Class     Images  Instances      Box(P          R      mAP50  mAP50-95): 100%|██████████| 3/3 [00:00<00:00,  3.01it/s]\n",
      "                   all        141       1729      0.985      0.941      0.967      0.822\n",
      "\n",
      "      Epoch    GPU_mem   box_loss   cls_loss   dfl_loss  Instances       Size\n",
      "    142/200      8.21G     0.4225     0.2141     0.7655        633        480: 100%|██████████| 35/35 [00:07<00:00,  4.71it/s]\n",
      "                 Class     Images  Instances      Box(P          R      mAP50  mAP50-95): 100%|██████████| 3/3 [00:00<00:00,  3.00it/s]\n",
      "                   all        141       1729      0.983      0.943      0.968      0.814\n",
      "\n",
      "      Epoch    GPU_mem   box_loss   cls_loss   dfl_loss  Instances       Size\n",
      "    143/200      8.21G     0.4114     0.2072     0.7669        508        480: 100%|██████████| 35/35 [00:07<00:00,  4.73it/s]\n",
      "                 Class     Images  Instances      Box(P          R      mAP50  mAP50-95): 100%|██████████| 3/3 [00:01<00:00,  3.00it/s]\n",
      "                   all        141       1729      0.986      0.945      0.969      0.818\n",
      "\n",
      "      Epoch    GPU_mem   box_loss   cls_loss   dfl_loss  Instances       Size\n",
      "    144/200      8.28G     0.4216     0.2125     0.7669        648        480: 100%|██████████| 35/35 [00:07<00:00,  4.71it/s]\n",
      "                 Class     Images  Instances      Box(P          R      mAP50  mAP50-95): 100%|██████████| 3/3 [00:01<00:00,  2.98it/s]\n",
      "                   all        141       1729      0.998      0.933      0.968      0.812\n",
      "\n",
      "      Epoch    GPU_mem   box_loss   cls_loss   dfl_loss  Instances       Size\n",
      "    145/200      8.23G     0.4264     0.2145     0.7681        593        480: 100%|██████████| 35/35 [00:07<00:00,  4.70it/s]\n",
      "                 Class     Images  Instances      Box(P          R      mAP50  mAP50-95): 100%|██████████| 3/3 [00:01<00:00,  2.94it/s]\n",
      "                   all        141       1729      0.991      0.936      0.965      0.826\n",
      "\n",
      "      Epoch    GPU_mem   box_loss   cls_loss   dfl_loss  Instances       Size\n",
      "    146/200      8.22G     0.4212     0.2118     0.7707        649        480: 100%|██████████| 35/35 [00:07<00:00,  4.72it/s]\n",
      "                 Class     Images  Instances      Box(P          R      mAP50  mAP50-95): 100%|██████████| 3/3 [00:01<00:00,  2.98it/s]\n",
      "                   all        141       1729       0.98      0.944      0.968      0.831\n",
      "\n",
      "      Epoch    GPU_mem   box_loss   cls_loss   dfl_loss  Instances       Size\n",
      "    147/200       8.2G     0.4194     0.2106     0.7708        596        480: 100%|██████████| 35/35 [00:07<00:00,  4.71it/s]\n",
      "                 Class     Images  Instances      Box(P          R      mAP50  mAP50-95): 100%|██████████| 3/3 [00:01<00:00,  2.57it/s]\n",
      "                   all        141       1729       0.99      0.945      0.969      0.828\n",
      "\n",
      "      Epoch    GPU_mem   box_loss   cls_loss   dfl_loss  Instances       Size\n",
      "    148/200      8.19G     0.4118     0.2065     0.7709        629        480: 100%|██████████| 35/35 [00:07<00:00,  4.64it/s]\n",
      "                 Class     Images  Instances      Box(P          R      mAP50  mAP50-95): 100%|██████████| 3/3 [00:01<00:00,  2.50it/s]\n",
      "                   all        141       1729      0.985      0.947       0.97      0.833\n",
      "\n",
      "      Epoch    GPU_mem   box_loss   cls_loss   dfl_loss  Instances       Size\n",
      "    149/200      8.32G     0.4016     0.1999     0.7691        687        480: 100%|██████████| 35/35 [00:08<00:00,  4.27it/s]\n",
      "                 Class     Images  Instances      Box(P          R      mAP50  mAP50-95): 100%|██████████| 3/3 [00:01<00:00,  2.57it/s]\n",
      "                   all        141       1729      0.999       0.93      0.966      0.824\n",
      "\n",
      "      Epoch    GPU_mem   box_loss   cls_loss   dfl_loss  Instances       Size\n",
      "    150/200      8.16G     0.4176     0.2081     0.7718        715        480: 100%|██████████| 35/35 [00:08<00:00,  4.27it/s]\n",
      "                 Class     Images  Instances      Box(P          R      mAP50  mAP50-95): 100%|██████████| 3/3 [00:01<00:00,  2.65it/s]\n",
      "                   all        141       1729      0.982      0.946      0.969      0.807\n",
      "\n",
      "      Epoch    GPU_mem   box_loss   cls_loss   dfl_loss  Instances       Size\n",
      "    151/200      8.23G     0.4068      0.204     0.7686        442        480: 100%|██████████| 35/35 [00:08<00:00,  4.24it/s]\n",
      "                 Class     Images  Instances      Box(P          R      mAP50  mAP50-95): 100%|██████████| 3/3 [00:01<00:00,  2.95it/s]\n",
      "                   all        141       1729      0.989      0.948      0.971      0.807\n",
      "\n",
      "      Epoch    GPU_mem   box_loss   cls_loss   dfl_loss  Instances       Size\n",
      "    152/200       8.2G      0.411     0.2057     0.7701        650        480: 100%|██████████| 35/35 [00:07<00:00,  4.72it/s]\n",
      "                 Class     Images  Instances      Box(P          R      mAP50  mAP50-95): 100%|██████████| 3/3 [00:01<00:00,  2.94it/s]\n",
      "                   all        141       1729      0.988      0.939      0.966      0.824\n",
      "\n",
      "      Epoch    GPU_mem   box_loss   cls_loss   dfl_loss  Instances       Size\n",
      "    153/200      8.33G     0.4081     0.2062     0.7635        607        480: 100%|██████████| 35/35 [00:07<00:00,  4.72it/s]\n",
      "                 Class     Images  Instances      Box(P          R      mAP50  mAP50-95): 100%|██████████| 3/3 [00:00<00:00,  3.04it/s]\n",
      "                   all        141       1729      0.999      0.924      0.963       0.81\n",
      "\n",
      "      Epoch    GPU_mem   box_loss   cls_loss   dfl_loss  Instances       Size\n",
      "    154/200      8.19G     0.4095      0.205     0.7653        544        480: 100%|██████████| 35/35 [00:07<00:00,  4.74it/s]\n",
      "                 Class     Images  Instances      Box(P          R      mAP50  mAP50-95): 100%|██████████| 3/3 [00:00<00:00,  3.07it/s]\n",
      "                   all        141       1729      0.986      0.945      0.969      0.827\n",
      "\n",
      "      Epoch    GPU_mem   box_loss   cls_loss   dfl_loss  Instances       Size\n",
      "    155/200      8.22G     0.4106     0.2066     0.7677        710        480: 100%|██████████| 35/35 [00:07<00:00,  4.73it/s]\n",
      "                 Class     Images  Instances      Box(P          R      mAP50  mAP50-95): 100%|██████████| 3/3 [00:01<00:00,  2.98it/s]\n",
      "                   all        141       1729      0.991      0.938      0.966      0.824\n",
      "\n",
      "      Epoch    GPU_mem   box_loss   cls_loss   dfl_loss  Instances       Size\n",
      "    156/200      8.18G     0.4041     0.2026     0.7654        608        480: 100%|██████████| 35/35 [00:07<00:00,  4.74it/s]\n",
      "                 Class     Images  Instances      Box(P          R      mAP50  mAP50-95): 100%|██████████| 3/3 [00:01<00:00,  2.94it/s]\n",
      "                   all        141       1729       0.99      0.933      0.963      0.808\n",
      "\n",
      "      Epoch    GPU_mem   box_loss   cls_loss   dfl_loss  Instances       Size\n",
      "    157/200      8.22G     0.4105     0.2059      0.768        747        480: 100%|██████████| 35/35 [00:07<00:00,  4.66it/s]\n",
      "                 Class     Images  Instances      Box(P          R      mAP50  mAP50-95): 100%|██████████| 3/3 [00:01<00:00,  3.00it/s]\n",
      "                   all        141       1729      0.994      0.921      0.962      0.823\n",
      "\n",
      "      Epoch    GPU_mem   box_loss   cls_loss   dfl_loss  Instances       Size\n",
      "    158/200      8.21G     0.3994     0.2011     0.7708        590        480: 100%|██████████| 35/35 [00:07<00:00,  4.56it/s]\n",
      "                 Class     Images  Instances      Box(P          R      mAP50  mAP50-95): 100%|██████████| 3/3 [00:00<00:00,  3.04it/s]\n",
      "                   all        141       1729      0.989      0.943      0.968      0.828\n",
      "\n",
      "      Epoch    GPU_mem   box_loss   cls_loss   dfl_loss  Instances       Size\n",
      "    159/200      8.22G     0.4044     0.2028     0.7682        546        480: 100%|██████████| 35/35 [00:07<00:00,  4.70it/s]\n",
      "                 Class     Images  Instances      Box(P          R      mAP50  mAP50-95): 100%|██████████| 3/3 [00:00<00:00,  3.05it/s]\n",
      "                   all        141       1729      0.987       0.94      0.967      0.826\n",
      "\n",
      "      Epoch    GPU_mem   box_loss   cls_loss   dfl_loss  Instances       Size\n",
      "    160/200       8.2G     0.4054     0.1994      0.768        615        480: 100%|██████████| 35/35 [00:07<00:00,  4.78it/s]\n",
      "                 Class     Images  Instances      Box(P          R      mAP50  mAP50-95): 100%|██████████| 3/3 [00:00<00:00,  3.06it/s]\n",
      "                   all        141       1729      0.993       0.92      0.964      0.821\n",
      "\n",
      "      Epoch    GPU_mem   box_loss   cls_loss   dfl_loss  Instances       Size\n",
      "    161/200       8.3G     0.4062     0.2044     0.7701        573        480: 100%|██████████| 35/35 [00:07<00:00,  4.75it/s]\n",
      "                 Class     Images  Instances      Box(P          R      mAP50  mAP50-95): 100%|██████████| 3/3 [00:01<00:00,  2.92it/s]\n",
      "                   all        141       1729      0.986      0.942      0.968       0.82\n",
      "\n",
      "      Epoch    GPU_mem   box_loss   cls_loss   dfl_loss  Instances       Size\n",
      "    162/200      8.18G     0.3948     0.2006     0.7677        553        480: 100%|██████████| 35/35 [00:07<00:00,  4.71it/s]\n",
      "                 Class     Images  Instances      Box(P          R      mAP50  mAP50-95): 100%|██████████| 3/3 [00:00<00:00,  3.02it/s]\n",
      "                   all        141       1729      0.986      0.945      0.969      0.819\n",
      "\n",
      "      Epoch    GPU_mem   box_loss   cls_loss   dfl_loss  Instances       Size\n",
      "    163/200      8.24G     0.4019     0.1989     0.7678        568        480: 100%|██████████| 35/35 [00:07<00:00,  4.71it/s]\n",
      "                 Class     Images  Instances      Box(P          R      mAP50  mAP50-95): 100%|██████████| 3/3 [00:00<00:00,  3.07it/s]\n",
      "                   all        141       1729      0.993      0.923      0.966      0.801\n",
      "\n",
      "      Epoch    GPU_mem   box_loss   cls_loss   dfl_loss  Instances       Size\n",
      "    164/200       8.2G     0.3988     0.1974     0.7649        711        480: 100%|██████████| 35/35 [00:07<00:00,  4.73it/s]\n",
      "                 Class     Images  Instances      Box(P          R      mAP50  mAP50-95): 100%|██████████| 3/3 [00:01<00:00,  2.98it/s]\n",
      "                   all        141       1729      0.992      0.933      0.963       0.82\n",
      "\n",
      "      Epoch    GPU_mem   box_loss   cls_loss   dfl_loss  Instances       Size\n",
      "    165/200      8.23G     0.3914     0.1982     0.7671        723        480: 100%|██████████| 35/35 [00:07<00:00,  4.70it/s]\n",
      "                 Class     Images  Instances      Box(P          R      mAP50  mAP50-95): 100%|██████████| 3/3 [00:01<00:00,  2.90it/s]\n",
      "                   all        141       1729      0.997      0.929      0.962      0.824\n",
      "\n",
      "      Epoch    GPU_mem   box_loss   cls_loss   dfl_loss  Instances       Size\n",
      "    166/200      8.21G     0.3885     0.1965     0.7677        511        480: 100%|██████████| 35/35 [00:07<00:00,  4.54it/s]\n",
      "                 Class     Images  Instances      Box(P          R      mAP50  mAP50-95): 100%|██████████| 3/3 [00:01<00:00,  2.75it/s]\n",
      "                   all        141       1729      0.993      0.937      0.965      0.821\n",
      "\n",
      "      Epoch    GPU_mem   box_loss   cls_loss   dfl_loss  Instances       Size\n",
      "    167/200      8.23G     0.3945     0.1968     0.7665        568        480: 100%|██████████| 35/35 [00:07<00:00,  4.72it/s]\n",
      "                 Class     Images  Instances      Box(P          R      mAP50  mAP50-95): 100%|██████████| 3/3 [00:01<00:00,  2.83it/s]\n",
      "                   all        141       1729      0.991      0.931      0.962      0.818\n",
      "\n",
      "      Epoch    GPU_mem   box_loss   cls_loss   dfl_loss  Instances       Size\n",
      "    168/200       8.3G     0.3934     0.1959     0.7632        586        480: 100%|██████████| 35/35 [00:07<00:00,  4.73it/s]\n",
      "                 Class     Images  Instances      Box(P          R      mAP50  mAP50-95): 100%|██████████| 3/3 [00:00<00:00,  3.03it/s]\n",
      "                   all        141       1729      0.989       0.93      0.962      0.801\n",
      "\n",
      "      Epoch    GPU_mem   box_loss   cls_loss   dfl_loss  Instances       Size\n",
      "    169/200      8.23G     0.3901     0.1948     0.7624        656        480: 100%|██████████| 35/35 [00:07<00:00,  4.71it/s]\n",
      "                 Class     Images  Instances      Box(P          R      mAP50  mAP50-95): 100%|██████████| 3/3 [00:00<00:00,  3.05it/s]\n",
      "                   all        141       1729      0.995      0.932      0.963      0.825\n",
      "\n",
      "      Epoch    GPU_mem   box_loss   cls_loss   dfl_loss  Instances       Size\n",
      "    170/200      8.16G     0.3914      0.196     0.7678        537        480: 100%|██████████| 35/35 [00:07<00:00,  4.72it/s]\n",
      "                 Class     Images  Instances      Box(P          R      mAP50  mAP50-95): 100%|██████████| 3/3 [00:00<00:00,  3.04it/s]\n",
      "                   all        141       1729      0.996      0.931      0.962      0.819\n",
      "\n",
      "      Epoch    GPU_mem   box_loss   cls_loss   dfl_loss  Instances       Size\n",
      "    171/200      8.22G     0.3832     0.1943      0.768        612        480: 100%|██████████| 35/35 [00:07<00:00,  4.72it/s]\n",
      "                 Class     Images  Instances      Box(P          R      mAP50  mAP50-95): 100%|██████████| 3/3 [00:00<00:00,  3.00it/s]\n",
      "                   all        141       1729      0.996      0.934      0.964      0.822\n",
      "\n",
      "      Epoch    GPU_mem   box_loss   cls_loss   dfl_loss  Instances       Size\n",
      "    172/200      8.29G     0.3822     0.1941     0.7674        763        480: 100%|██████████| 35/35 [00:07<00:00,  4.71it/s]\n",
      "                 Class     Images  Instances      Box(P          R      mAP50  mAP50-95): 100%|██████████| 3/3 [00:00<00:00,  3.02it/s]\n",
      "                   all        141       1729      0.991      0.936      0.965      0.819\n",
      "\n",
      "      Epoch    GPU_mem   box_loss   cls_loss   dfl_loss  Instances       Size\n",
      "    173/200      8.23G      0.397     0.1951     0.7611        696        480: 100%|██████████| 35/35 [00:07<00:00,  4.63it/s]\n",
      "                 Class     Images  Instances      Box(P          R      mAP50  mAP50-95): 100%|██████████| 3/3 [00:01<00:00,  2.76it/s]\n",
      "                   all        141       1729      0.986      0.936      0.964      0.814\n",
      "\n",
      "      Epoch    GPU_mem   box_loss   cls_loss   dfl_loss  Instances       Size\n",
      "    174/200      8.22G     0.3811     0.1908     0.7663        560        480: 100%|██████████| 35/35 [00:07<00:00,  4.76it/s]\n",
      "                 Class     Images  Instances      Box(P          R      mAP50  mAP50-95): 100%|██████████| 3/3 [00:00<00:00,  3.05it/s]\n",
      "                   all        141       1729      0.986      0.935      0.964      0.828\n",
      "\n",
      "      Epoch    GPU_mem   box_loss   cls_loss   dfl_loss  Instances       Size\n",
      "    175/200      8.23G     0.3825     0.1926     0.7645        626        480: 100%|██████████| 35/35 [00:07<00:00,  4.66it/s]\n",
      "                 Class     Images  Instances      Box(P          R      mAP50  mAP50-95): 100%|██████████| 3/3 [00:01<00:00,  2.73it/s]\n",
      "                   all        141       1729       0.99      0.938      0.966      0.825\n",
      "\n",
      "      Epoch    GPU_mem   box_loss   cls_loss   dfl_loss  Instances       Size\n",
      "    176/200       8.2G     0.3803     0.1905     0.7654        529        480: 100%|██████████| 35/35 [00:07<00:00,  4.58it/s]\n",
      "                 Class     Images  Instances      Box(P          R      mAP50  mAP50-95): 100%|██████████| 3/3 [00:01<00:00,  2.95it/s]\n",
      "                   all        141       1729       0.99      0.931      0.962      0.826\n",
      "\n",
      "      Epoch    GPU_mem   box_loss   cls_loss   dfl_loss  Instances       Size\n",
      "    177/200      8.23G     0.3818     0.1915     0.7634        624        480: 100%|██████████| 35/35 [00:07<00:00,  4.59it/s]\n",
      "                 Class     Images  Instances      Box(P          R      mAP50  mAP50-95): 100%|██████████| 3/3 [00:01<00:00,  2.91it/s]\n",
      "                   all        141       1729      0.989      0.936      0.965      0.824\n",
      "\n",
      "      Epoch    GPU_mem   box_loss   cls_loss   dfl_loss  Instances       Size\n"
     ]
    },
    {
     "name": "stderr",
     "output_type": "stream",
     "text": [
      "    178/200      8.21G     0.3916     0.1923     0.7655        608        480: 100%|██████████| 35/35 [00:07<00:00,  4.63it/s]\n",
      "                 Class     Images  Instances      Box(P          R      mAP50  mAP50-95): 100%|██████████| 3/3 [00:00<00:00,  3.05it/s]\n",
      "                   all        141       1729      0.989      0.938      0.966       0.82\n",
      "\n",
      "      Epoch    GPU_mem   box_loss   cls_loss   dfl_loss  Instances       Size\n",
      "    179/200      8.23G     0.3793     0.1876     0.7659        640        480: 100%|██████████| 35/35 [00:07<00:00,  4.69it/s]\n",
      "                 Class     Images  Instances      Box(P          R      mAP50  mAP50-95): 100%|██████████| 3/3 [00:01<00:00,  2.77it/s]\n",
      "                   all        141       1729      0.991      0.938      0.966      0.826\n",
      "\n",
      "      Epoch    GPU_mem   box_loss   cls_loss   dfl_loss  Instances       Size\n",
      "    180/200      8.19G     0.3729     0.1889      0.762        643        480: 100%|██████████| 35/35 [00:07<00:00,  4.75it/s]\n",
      "                 Class     Images  Instances      Box(P          R      mAP50  mAP50-95): 100%|██████████| 3/3 [00:00<00:00,  3.06it/s]\n",
      "                   all        141       1729      0.993      0.934      0.964      0.824\n",
      "\n",
      "      Epoch    GPU_mem   box_loss   cls_loss   dfl_loss  Instances       Size\n",
      "    181/200      8.24G     0.3801     0.1901     0.7673        656        480: 100%|██████████| 35/35 [00:07<00:00,  4.69it/s]\n",
      "                 Class     Images  Instances      Box(P          R      mAP50  mAP50-95): 100%|██████████| 3/3 [00:01<00:00,  2.96it/s]\n",
      "                   all        141       1729      0.991      0.938      0.966      0.824\n",
      "\n",
      "      Epoch    GPU_mem   box_loss   cls_loss   dfl_loss  Instances       Size\n",
      "    182/200       8.2G     0.3759     0.1863     0.7687        573        480: 100%|██████████| 35/35 [00:07<00:00,  4.70it/s]\n",
      "                 Class     Images  Instances      Box(P          R      mAP50  mAP50-95): 100%|██████████| 3/3 [00:00<00:00,  3.05it/s]\n",
      "                   all        141       1729      0.992      0.937      0.965       0.82\n",
      "\n",
      "      Epoch    GPU_mem   box_loss   cls_loss   dfl_loss  Instances       Size\n",
      "    183/200      8.23G     0.3718     0.1847     0.7674        554        480: 100%|██████████| 35/35 [00:07<00:00,  4.70it/s]\n",
      "                 Class     Images  Instances      Box(P          R      mAP50  mAP50-95): 100%|██████████| 3/3 [00:00<00:00,  3.05it/s]\n",
      "                   all        141       1729      0.992      0.938      0.966      0.821\n",
      "\n",
      "      Epoch    GPU_mem   box_loss   cls_loss   dfl_loss  Instances       Size\n",
      "    184/200       8.2G     0.3725     0.1853      0.764        589        480: 100%|██████████| 35/35 [00:07<00:00,  4.72it/s]\n",
      "                 Class     Images  Instances      Box(P          R      mAP50  mAP50-95): 100%|██████████| 3/3 [00:00<00:00,  3.05it/s]\n",
      "                   all        141       1729      0.991       0.94      0.967      0.824\n",
      "\n",
      "      Epoch    GPU_mem   box_loss   cls_loss   dfl_loss  Instances       Size\n",
      "    185/200      8.24G     0.3764     0.1852     0.7622        553        480: 100%|██████████| 35/35 [00:07<00:00,  4.72it/s]\n",
      "                 Class     Images  Instances      Box(P          R      mAP50  mAP50-95): 100%|██████████| 3/3 [00:01<00:00,  2.95it/s]\n",
      "                   all        141       1729       0.99      0.935      0.964      0.823\n",
      "\n",
      "      Epoch    GPU_mem   box_loss   cls_loss   dfl_loss  Instances       Size\n",
      "    186/200      8.29G     0.3681     0.1837     0.7648        480        480: 100%|██████████| 35/35 [00:07<00:00,  4.72it/s]\n",
      "                 Class     Images  Instances      Box(P          R      mAP50  mAP50-95): 100%|██████████| 3/3 [00:01<00:00,  2.87it/s]\n",
      "                   all        141       1729      0.991      0.935      0.964      0.819\n",
      "\n",
      "      Epoch    GPU_mem   box_loss   cls_loss   dfl_loss  Instances       Size\n",
      "    187/200      8.24G     0.3692      0.183     0.7691        552        480: 100%|██████████| 35/35 [00:07<00:00,  4.74it/s]\n",
      "                 Class     Images  Instances      Box(P          R      mAP50  mAP50-95): 100%|██████████| 3/3 [00:00<00:00,  3.06it/s]\n",
      "                   all        141       1729      0.992       0.93      0.962      0.807\n",
      "\n",
      "      Epoch    GPU_mem   box_loss   cls_loss   dfl_loss  Instances       Size\n",
      "    188/200      8.21G     0.3694     0.1833     0.7686        652        480: 100%|██████████| 35/35 [00:07<00:00,  4.75it/s]\n",
      "                 Class     Images  Instances      Box(P          R      mAP50  mAP50-95): 100%|██████████| 3/3 [00:01<00:00,  2.94it/s]\n",
      "                   all        141       1729      0.992      0.929      0.962      0.821\n",
      "\n",
      "      Epoch    GPU_mem   box_loss   cls_loss   dfl_loss  Instances       Size\n",
      "    189/200      8.31G     0.3676     0.1834      0.767        666        480: 100%|██████████| 35/35 [00:07<00:00,  4.72it/s]\n",
      "                 Class     Images  Instances      Box(P          R      mAP50  mAP50-95): 100%|██████████| 3/3 [00:00<00:00,  3.05it/s]\n",
      "                   all        141       1729      0.986      0.937      0.965      0.821\n",
      "\n",
      "      Epoch    GPU_mem   box_loss   cls_loss   dfl_loss  Instances       Size\n",
      "    190/200      8.29G     0.3626     0.1805      0.768        612        480: 100%|██████████| 35/35 [00:07<00:00,  4.76it/s]\n",
      "                 Class     Images  Instances      Box(P          R      mAP50  mAP50-95): 100%|██████████| 3/3 [00:00<00:00,  3.03it/s]\n",
      "                   all        141       1729      0.985       0.94      0.966      0.831\n",
      "Closing dataloader mosaic\n",
      "\n",
      "      Epoch    GPU_mem   box_loss   cls_loss   dfl_loss  Instances       Size\n",
      "    191/200       8.1G     0.6478     0.2858      0.768        310        480: 100%|██████████| 35/35 [00:08<00:00,  4.25it/s]\n",
      "                 Class     Images  Instances      Box(P          R      mAP50  mAP50-95): 100%|██████████| 3/3 [00:01<00:00,  2.98it/s]\n",
      "                   all        141       1729      0.994      0.923       0.96      0.886\n",
      "\n",
      "      Epoch    GPU_mem   box_loss   cls_loss   dfl_loss  Instances       Size\n",
      "    192/200      8.08G     0.5358      0.241     0.7677        313        480: 100%|██████████| 35/35 [00:07<00:00,  4.78it/s]\n",
      "                 Class     Images  Instances      Box(P          R      mAP50  mAP50-95): 100%|██████████| 3/3 [00:01<00:00,  2.98it/s]\n",
      "                   all        141       1729      0.991       0.93      0.962      0.892\n",
      "\n",
      "      Epoch    GPU_mem   box_loss   cls_loss   dfl_loss  Instances       Size\n",
      "    193/200      8.12G      0.477     0.2237     0.7654        343        480: 100%|██████████| 35/35 [00:07<00:00,  4.81it/s]\n",
      "                 Class     Images  Instances      Box(P          R      mAP50  mAP50-95): 100%|██████████| 3/3 [00:01<00:00,  2.92it/s]\n",
      "                   all        141       1729       0.99      0.931      0.962      0.895\n",
      "\n",
      "      Epoch    GPU_mem   box_loss   cls_loss   dfl_loss  Instances       Size\n",
      "    194/200      8.08G     0.4506     0.2178     0.7629        330        480: 100%|██████████| 35/35 [00:07<00:00,  4.75it/s]\n",
      "                 Class     Images  Instances      Box(P          R      mAP50  mAP50-95): 100%|██████████| 3/3 [00:01<00:00,  3.00it/s]\n",
      "                   all        141       1729       0.99      0.931      0.962      0.903\n",
      "\n",
      "      Epoch    GPU_mem   box_loss   cls_loss   dfl_loss  Instances       Size\n",
      "    195/200      8.11G     0.4199     0.2042     0.7647        313        480: 100%|██████████| 35/35 [00:07<00:00,  4.78it/s]\n",
      "                 Class     Images  Instances      Box(P          R      mAP50  mAP50-95): 100%|██████████| 3/3 [00:01<00:00,  2.97it/s]\n",
      "                   all        141       1729      0.994      0.913      0.962      0.909\n",
      "\n",
      "      Epoch    GPU_mem   box_loss   cls_loss   dfl_loss  Instances       Size\n",
      "    196/200      8.08G     0.4002     0.1997     0.7642        305        480: 100%|██████████| 35/35 [00:07<00:00,  4.78it/s]\n",
      "                 Class     Images  Instances      Box(P          R      mAP50  mAP50-95): 100%|██████████| 3/3 [00:01<00:00,  2.97it/s]\n",
      "                   all        141       1729      0.994      0.919      0.962      0.915\n",
      "\n",
      "      Epoch    GPU_mem   box_loss   cls_loss   dfl_loss  Instances       Size\n"
     ]
    },
    {
     "name": "stderr",
     "output_type": "stream",
     "text": [
      "    197/200       8.1G     0.3879     0.1951     0.7636        312        480: 100%|██████████| 35/35 [00:07<00:00,  4.78it/s]\n",
      "                 Class     Images  Instances      Box(P          R      mAP50  mAP50-95): 100%|██████████| 3/3 [00:01<00:00,  2.98it/s]\n",
      "                   all        141       1729      0.993      0.924      0.962      0.917\n",
      "\n",
      "      Epoch    GPU_mem   box_loss   cls_loss   dfl_loss  Instances       Size\n",
      "    198/200      8.08G     0.3836     0.1911     0.7605        311        480: 100%|██████████| 35/35 [00:07<00:00,  4.77it/s]\n",
      "                 Class     Images  Instances      Box(P          R      mAP50  mAP50-95): 100%|██████████| 3/3 [00:01<00:00,  2.96it/s]\n",
      "                   all        141       1729      0.993      0.923      0.962      0.921\n",
      "\n",
      "      Epoch    GPU_mem   box_loss   cls_loss   dfl_loss  Instances       Size\n",
      "    199/200       8.1G     0.3771     0.1847     0.7664        360        480: 100%|██████████| 35/35 [00:07<00:00,  4.81it/s]\n",
      "                 Class     Images  Instances      Box(P          R      mAP50  mAP50-95): 100%|██████████| 3/3 [00:01<00:00,  2.99it/s]\n",
      "                   all        141       1729      0.993      0.924      0.964      0.922\n",
      "\n",
      "      Epoch    GPU_mem   box_loss   cls_loss   dfl_loss  Instances       Size\n",
      "    200/200      8.08G      0.378     0.1879     0.7591        325        480: 100%|██████████| 35/35 [00:07<00:00,  4.78it/s]\n",
      "                 Class     Images  Instances      Box(P          R      mAP50  mAP50-95): 100%|██████████| 3/3 [00:02<00:00,  1.21it/s]\n",
      "                   all        141       1729      0.993      0.922      0.963      0.922\n",
      "\n",
      "200 epochs completed in 0.572 hours.\n",
      "Optimizer stripped from runs/detect/train19/weights/last.pt, 52.0MB\n",
      "Optimizer stripped from runs/detect/train19/weights/best.pt, 52.0MB\n",
      "\n",
      "Validating runs/detect/train19/weights/best.pt...\n",
      "Ultralytics YOLOv8.0.132 🚀 Python-3.8.10 torch-2.0.1+cu117 CUDA:0 (NVIDIA GeForce RTX 3090, 24575MiB)\n",
      "Model summary (fused): 218 layers, 25851340 parameters, 0 gradients\n",
      "                 Class     Images  Instances      Box(P          R      mAP50  mAP50-95): 100%|██████████| 3/3 [00:02<00:00,  1.16it/s]\n",
      "                   all        141       1729      0.993      0.922      0.963      0.922\n",
      "        typo_price_num        141       1649      0.999      0.844      0.931      0.849\n",
      "         image_colorBG        141         80      0.988          1      0.995      0.995\n",
      "Speed: 0.3ms preprocess, 2.1ms inference, 0.0ms loss, 3.4ms postprocess per image\n",
      "Results saved to \u001b[1mruns/detect/train19\u001b[0m\n"
     ]
    }
   ],
   "source": [
    "model = YOLO('yolov8m.pt')\n",
    "\n",
    "model.train(data='/tf/notebook/datasetsprice/data.yaml',\n",
    "            epochs=200,\n",
    "            batch=32,\n",
    "            imgsz=480,\n",
    "            lr0=0.001 \n",
    "           )"
   ]
  },
  {
   "cell_type": "code",
   "execution_count": null,
   "id": "0f74fddf",
   "metadata": {},
   "outputs": [],
   "source": [
    "!yolo predict model=/tf/notebook/runs/detect/train19/weights/last.pt source=/tf/notebook/test_008.png "
   ]
  },
  {
   "cell_type": "code",
   "execution_count": null,
   "id": "22f4a812",
   "metadata": {},
   "outputs": [
    {
     "name": "stderr",
     "output_type": "stream",
     "text": [
      "       6/75      4.04G     0.4896     0.3826     0.8655         18        480: 100%|██████████| 461/461 [00:55<00:00,  8.37it/s]\n",
      "                 Class     Images  Instances      Box(P          R      mAP50  mAP50-95): 100%|██████████| 29/29 [00:07<00:00,  3.69it/s]\n",
      "                   all        911       8984      0.791      0.703      0.668       0.53\n",
      "\n",
      "      Epoch    GPU_mem   box_loss   cls_loss   dfl_loss  Instances       Size\n",
      "       7/75      4.06G     0.4747      0.368     0.8605          8        480: 100%|██████████| 461/461 [00:55<00:00,  8.30it/s]\n",
      "                 Class     Images  Instances      Box(P          R      mAP50  mAP50-95): 100%|██████████| 29/29 [00:07<00:00,  3.74it/s]\n",
      "                   all        911       8984       0.74      0.629      0.659      0.549\n",
      "\n",
      "      Epoch    GPU_mem   box_loss   cls_loss   dfl_loss  Instances       Size\n",
      "       8/75      4.05G     0.4588     0.3533     0.8566          7        480: 100%|██████████| 461/461 [00:55<00:00,  8.29it/s]\n",
      "                 Class     Images  Instances      Box(P          R      mAP50  mAP50-95): 100%|██████████| 29/29 [00:07<00:00,  3.73it/s]\n",
      "                   all        911       8984      0.738      0.669      0.653      0.531\n",
      "\n",
      "      Epoch    GPU_mem   box_loss   cls_loss   dfl_loss  Instances       Size\n",
      "       9/75         4G     0.4556     0.3494     0.8563          5        480: 100%|██████████| 461/461 [00:56<00:00,  8.14it/s]\n",
      "                 Class     Images  Instances      Box(P          R      mAP50  mAP50-95): 100%|██████████| 29/29 [00:07<00:00,  3.72it/s]\n",
      "                   all        911       8984       0.81      0.728      0.702      0.578\n",
      "\n",
      "      Epoch    GPU_mem   box_loss   cls_loss   dfl_loss  Instances       Size\n",
      "      10/75      4.11G     0.4427     0.3377     0.8512         17        480: 100%|██████████| 461/461 [00:55<00:00,  8.29it/s]\n",
      "                 Class     Images  Instances      Box(P          R      mAP50  mAP50-95): 100%|██████████| 29/29 [00:07<00:00,  3.68it/s]\n",
      "                   all        911       8984       0.81       0.73       0.74      0.603\n",
      "\n",
      "      Epoch    GPU_mem   box_loss   cls_loss   dfl_loss  Instances       Size\n",
      "      11/75      4.07G     0.4383     0.3356     0.8497         49        480: 100%|██████████| 461/461 [00:55<00:00,  8.31it/s]\n",
      "                 Class     Images  Instances      Box(P          R      mAP50  mAP50-95): 100%|██████████| 29/29 [00:07<00:00,  3.75it/s]\n",
      "                   all        911       8984      0.743      0.812      0.724      0.586\n",
      "\n",
      "      Epoch    GPU_mem   box_loss   cls_loss   dfl_loss  Instances       Size\n",
      "      12/75      4.06G     0.4351     0.3269      0.846         12        480: 100%|██████████| 461/461 [00:55<00:00,  8.27it/s]\n",
      "                 Class     Images  Instances      Box(P          R      mAP50  mAP50-95): 100%|██████████| 29/29 [00:07<00:00,  3.71it/s]\n",
      "                   all        911       8984      0.859      0.744      0.794      0.619\n",
      "\n",
      "      Epoch    GPU_mem   box_loss   cls_loss   dfl_loss  Instances       Size\n",
      "      13/75      4.04G     0.4199     0.3152      0.842          8        480: 100%|██████████| 461/461 [00:57<00:00,  8.07it/s]\n",
      "                 Class     Images  Instances      Box(P          R      mAP50  mAP50-95): 100%|██████████| 29/29 [00:08<00:00,  3.48it/s]\n",
      "                   all        911       8984      0.823      0.752      0.782      0.585\n",
      "\n",
      "      Epoch    GPU_mem   box_loss   cls_loss   dfl_loss  Instances       Size\n",
      "      14/75      4.05G     0.4155     0.3128     0.8412         24        480: 100%|██████████| 461/461 [00:58<00:00,  7.87it/s]\n",
      "                 Class     Images  Instances      Box(P          R      mAP50  mAP50-95): 100%|██████████| 29/29 [00:08<00:00,  3.42it/s]\n",
      "                   all        911       8984      0.776      0.752      0.776      0.644\n",
      "\n",
      "      Epoch    GPU_mem   box_loss   cls_loss   dfl_loss  Instances       Size\n",
      "      15/75      4.06G     0.4051     0.3037     0.8373          9        480: 100%|██████████| 461/461 [00:56<00:00,  8.14it/s]\n",
      "                 Class     Images  Instances      Box(P          R      mAP50  mAP50-95): 100%|██████████| 29/29 [00:08<00:00,  3.62it/s]\n",
      "                   all        911       8984      0.748      0.872      0.837      0.672\n",
      "\n",
      "      Epoch    GPU_mem   box_loss   cls_loss   dfl_loss  Instances       Size\n",
      "      16/75      4.05G     0.4029     0.3001     0.8369         10        480: 100%|██████████| 461/461 [00:56<00:00,  8.09it/s]\n",
      "                 Class     Images  Instances      Box(P          R      mAP50  mAP50-95): 100%|██████████| 29/29 [00:07<00:00,  3.76it/s]\n",
      "                   all        911       8984      0.925      0.666      0.758      0.643\n",
      "\n",
      "      Epoch    GPU_mem   box_loss   cls_loss   dfl_loss  Instances       Size\n",
      "      17/75      4.05G     0.3981     0.2957     0.8363         39        480: 100%|██████████| 461/461 [00:56<00:00,  8.23it/s]\n",
      "                 Class     Images  Instances      Box(P          R      mAP50  mAP50-95): 100%|██████████| 29/29 [00:07<00:00,  3.72it/s]\n",
      "                   all        911       8984      0.885      0.752      0.794      0.687\n",
      "\n",
      "      Epoch    GPU_mem   box_loss   cls_loss   dfl_loss  Instances       Size\n",
      "      18/75      4.05G     0.3891     0.2885     0.8326          7        480: 100%|██████████| 461/461 [00:55<00:00,  8.35it/s]\n",
      "                 Class     Images  Instances      Box(P          R      mAP50  mAP50-95): 100%|██████████| 29/29 [00:07<00:00,  3.75it/s]\n",
      "                   all        911       8984      0.857      0.788      0.805      0.675\n",
      "\n",
      "      Epoch    GPU_mem   box_loss   cls_loss   dfl_loss  Instances       Size\n",
      "      19/75      4.18G     0.3871     0.2877     0.8327         27        480: 100%|██████████| 461/461 [00:55<00:00,  8.31it/s]\n",
      "                 Class     Images  Instances      Box(P          R      mAP50  mAP50-95): 100%|██████████| 29/29 [00:07<00:00,  3.74it/s]\n",
      "                   all        911       8984      0.695      0.861      0.863      0.732\n",
      "\n",
      "      Epoch    GPU_mem   box_loss   cls_loss   dfl_loss  Instances       Size\n",
      "      20/75      4.05G      0.379     0.2794     0.8305         32        480: 100%|██████████| 461/461 [00:55<00:00,  8.30it/s]\n",
      "                 Class     Images  Instances      Box(P          R      mAP50  mAP50-95): 100%|██████████| 29/29 [00:07<00:00,  3.75it/s]\n",
      "                   all        911       8984      0.907      0.751      0.821      0.684\n",
      "\n",
      "      Epoch    GPU_mem   box_loss   cls_loss   dfl_loss  Instances       Size\n",
      "      21/75      4.06G     0.3755     0.2766     0.8299         11        480: 100%|██████████| 461/461 [00:55<00:00,  8.26it/s]\n",
      "                 Class     Images  Instances      Box(P          R      mAP50  mAP50-95): 100%|██████████| 29/29 [00:07<00:00,  3.76it/s]\n",
      "                   all        911       8984      0.899       0.76      0.828      0.706\n",
      "\n",
      "      Epoch    GPU_mem   box_loss   cls_loss   dfl_loss  Instances       Size\n",
      "      22/75      4.08G     0.3757     0.2762     0.8293         33        480: 100%|██████████| 461/461 [00:58<00:00,  7.84it/s]\n",
      "                 Class     Images  Instances      Box(P          R      mAP50  mAP50-95): 100%|██████████| 29/29 [00:08<00:00,  3.48it/s]\n",
      "                   all        911       8984      0.776       0.83      0.852      0.689\n",
      "\n",
      "      Epoch    GPU_mem   box_loss   cls_loss   dfl_loss  Instances       Size\n",
      "      23/75      4.06G     0.3709     0.2733     0.8292         17        480: 100%|██████████| 461/461 [00:57<00:00,  7.96it/s]\n",
      "                 Class     Images  Instances      Box(P          R      mAP50  mAP50-95): 100%|██████████| 29/29 [00:08<00:00,  3.45it/s]\n",
      "                   all        911       8984      0.883      0.783       0.84      0.702\n",
      "\n",
      "      Epoch    GPU_mem   box_loss   cls_loss   dfl_loss  Instances       Size\n",
      "      24/75      4.06G     0.3651     0.2697     0.8269         20        480: 100%|██████████| 461/461 [00:56<00:00,  8.17it/s]\n",
      "                 Class     Images  Instances      Box(P          R      mAP50  mAP50-95): 100%|██████████| 29/29 [00:07<00:00,  3.74it/s]\n",
      "                   all        911       8984      0.902      0.824      0.871      0.697\n",
      "\n",
      "      Epoch    GPU_mem   box_loss   cls_loss   dfl_loss  Instances       Size\n"
     ]
    },
    {
     "name": "stderr",
     "output_type": "stream",
     "text": [
      "      25/75      4.05G     0.3656     0.2718     0.8269          2        480: 100%|██████████| 461/461 [00:55<00:00,  8.33it/s]\n",
      "                 Class     Images  Instances      Box(P          R      mAP50  mAP50-95): 100%|██████████| 29/29 [00:07<00:00,  3.76it/s]\n",
      "                   all        911       8984      0.863      0.886      0.888      0.714\n",
      "\n",
      "      Epoch    GPU_mem   box_loss   cls_loss   dfl_loss  Instances       Size\n",
      "      26/75      4.07G     0.3639     0.2663     0.8262         22        480: 100%|██████████| 461/461 [00:56<00:00,  8.22it/s]\n",
      "                 Class     Images  Instances      Box(P          R      mAP50  mAP50-95): 100%|██████████| 29/29 [00:07<00:00,  3.75it/s]\n",
      "                   all        911       8984       0.91      0.773      0.817      0.682\n",
      "\n",
      "      Epoch    GPU_mem   box_loss   cls_loss   dfl_loss  Instances       Size\n",
      "      27/75      4.06G     0.3553     0.2599     0.8243         18        480: 100%|██████████| 461/461 [00:55<00:00,  8.29it/s]\n",
      "                 Class     Images  Instances      Box(P          R      mAP50  mAP50-95): 100%|██████████| 29/29 [00:07<00:00,  3.73it/s]\n",
      "                   all        911       8984      0.946      0.778      0.888      0.758\n",
      "\n",
      "      Epoch    GPU_mem   box_loss   cls_loss   dfl_loss  Instances       Size\n",
      "      28/75      4.05G     0.3556     0.2594     0.8217         28        480: 100%|██████████| 461/461 [00:55<00:00,  8.27it/s]\n",
      "                 Class     Images  Instances      Box(P          R      mAP50  mAP50-95): 100%|██████████| 29/29 [00:08<00:00,  3.52it/s]\n",
      "                   all        911       8984      0.855      0.794      0.827      0.704\n",
      "\n",
      "      Epoch    GPU_mem   box_loss   cls_loss   dfl_loss  Instances       Size\n",
      "      29/75      4.05G     0.3547     0.2594     0.8247          4        480: 100%|██████████| 461/461 [00:55<00:00,  8.24it/s]\n",
      "                 Class     Images  Instances      Box(P          R      mAP50  mAP50-95): 100%|██████████| 29/29 [00:07<00:00,  3.70it/s]\n",
      "                   all        911       8984       0.96      0.749      0.825      0.692\n",
      "\n",
      "      Epoch    GPU_mem   box_loss   cls_loss   dfl_loss  Instances       Size\n",
      "      30/75      4.05G     0.3511     0.2568     0.8239         15        480: 100%|██████████| 461/461 [00:55<00:00,  8.24it/s]\n",
      "                 Class     Images  Instances      Box(P          R      mAP50  mAP50-95): 100%|██████████| 29/29 [00:08<00:00,  3.39it/s]\n",
      "                   all        911       8984      0.939      0.792       0.84      0.716\n",
      "\n",
      "      Epoch    GPU_mem   box_loss   cls_loss   dfl_loss  Instances       Size\n",
      "      31/75      4.06G     0.3475     0.2529     0.8216          6        480: 100%|██████████| 461/461 [00:58<00:00,  7.81it/s]\n",
      "                 Class     Images  Instances      Box(P          R      mAP50  mAP50-95): 100%|██████████| 29/29 [00:08<00:00,  3.49it/s]\n",
      "                   all        911       8984      0.836      0.894      0.899      0.751\n",
      "\n",
      "      Epoch    GPU_mem   box_loss   cls_loss   dfl_loss  Instances       Size\n",
      "      32/75      4.18G     0.3423     0.2501     0.8207         25        480: 100%|██████████| 461/461 [00:59<00:00,  7.76it/s]\n",
      "                 Class     Images  Instances      Box(P          R      mAP50  mAP50-95): 100%|██████████| 29/29 [00:08<00:00,  3.40it/s]\n",
      "                   all        911       8984      0.952      0.771      0.839      0.695\n",
      "\n",
      "      Epoch    GPU_mem   box_loss   cls_loss   dfl_loss  Instances       Size\n",
      "      33/75      4.06G     0.3409     0.2471      0.819         10        480: 100%|██████████| 461/461 [00:57<00:00,  8.03it/s]\n",
      "                 Class     Images  Instances      Box(P          R      mAP50  mAP50-95): 100%|██████████| 29/29 [00:08<00:00,  3.50it/s]\n",
      "                   all        911       8984      0.975      0.784      0.843      0.709\n",
      "\n",
      "      Epoch    GPU_mem   box_loss   cls_loss   dfl_loss  Instances       Size\n",
      "      34/75      4.05G     0.3405     0.2486     0.8198         17        480: 100%|██████████| 461/461 [00:57<00:00,  8.07it/s]\n",
      "                 Class     Images  Instances      Box(P          R      mAP50  mAP50-95): 100%|██████████| 29/29 [00:07<00:00,  3.76it/s]\n",
      "                   all        911       8984      0.746      0.874      0.851      0.729\n",
      "\n",
      "      Epoch    GPU_mem   box_loss   cls_loss   dfl_loss  Instances       Size\n",
      "      35/75      4.06G     0.3366     0.2438     0.8195          7        480: 100%|██████████| 461/461 [00:55<00:00,  8.32it/s]\n",
      "                 Class     Images  Instances      Box(P          R      mAP50  mAP50-95): 100%|██████████| 29/29 [00:07<00:00,  3.76it/s]\n",
      "                   all        911       8984      0.958      0.793      0.834      0.705\n",
      "\n",
      "      Epoch    GPU_mem   box_loss   cls_loss   dfl_loss  Instances       Size\n",
      "      36/75      4.05G     0.3335     0.2427     0.8185          7        480: 100%|██████████| 461/461 [00:55<00:00,  8.36it/s]\n",
      "                 Class     Images  Instances      Box(P          R      mAP50  mAP50-95): 100%|██████████| 29/29 [00:07<00:00,  3.78it/s]\n",
      "                   all        911       8984      0.953      0.789      0.899       0.75\n",
      "\n",
      "      Epoch    GPU_mem   box_loss   cls_loss   dfl_loss  Instances       Size\n",
      "      37/75      4.06G     0.3307     0.2405     0.8178         19        480: 100%|██████████| 461/461 [00:55<00:00,  8.32it/s]\n",
      "                 Class     Images  Instances      Box(P          R      mAP50  mAP50-95): 100%|██████████| 29/29 [00:07<00:00,  3.68it/s]\n",
      "                   all        911       8984      0.872      0.884      0.897      0.768\n",
      "\n",
      "      Epoch    GPU_mem   box_loss   cls_loss   dfl_loss  Instances       Size\n",
      "      38/75      4.05G     0.3305     0.2393     0.8203          5        480: 100%|██████████| 461/461 [00:55<00:00,  8.33it/s]\n",
      "                 Class     Images  Instances      Box(P          R      mAP50  mAP50-95): 100%|██████████| 29/29 [00:07<00:00,  3.77it/s]\n",
      "                   all        911       8984      0.964      0.794      0.834      0.711\n",
      "\n",
      "      Epoch    GPU_mem   box_loss   cls_loss   dfl_loss  Instances       Size\n",
      "      39/75      4.06G     0.3246     0.2355     0.8155         10        480: 100%|██████████| 461/461 [00:55<00:00,  8.33it/s]\n",
      "                 Class     Images  Instances      Box(P          R      mAP50  mAP50-95): 100%|██████████| 29/29 [00:08<00:00,  3.59it/s]\n",
      "                   all        911       8984      0.979      0.792      0.901      0.747\n",
      "\n",
      "      Epoch    GPU_mem   box_loss   cls_loss   dfl_loss  Instances       Size\n",
      "      40/75      4.04G     0.3237     0.2355      0.814         12        480: 100%|██████████| 461/461 [00:57<00:00,  8.02it/s]\n",
      "                 Class     Images  Instances      Box(P          R      mAP50  mAP50-95): 100%|██████████| 29/29 [00:08<00:00,  3.42it/s]\n",
      "                   all        911       8984      0.911      0.883      0.904       0.74\n",
      "\n",
      "      Epoch    GPU_mem   box_loss   cls_loss   dfl_loss  Instances       Size\n",
      "      41/75      4.05G     0.3208     0.2317     0.8154          9        480: 100%|██████████| 461/461 [00:55<00:00,  8.24it/s]\n",
      "                 Class     Images  Instances      Box(P          R      mAP50  mAP50-95): 100%|██████████| 29/29 [00:07<00:00,  3.68it/s]\n",
      "                   all        911       8984      0.779      0.872      0.865      0.726\n",
      "\n",
      "      Epoch    GPU_mem   box_loss   cls_loss   dfl_loss  Instances       Size\n",
      "      42/75      4.05G     0.3172      0.228     0.8144         13        480: 100%|██████████| 461/461 [00:57<00:00,  8.03it/s]\n",
      "                 Class     Images  Instances      Box(P          R      mAP50  mAP50-95): 100%|██████████| 29/29 [00:08<00:00,  3.58it/s]\n",
      "                   all        911       8984      0.967      0.806      0.868      0.739\n",
      "\n",
      "      Epoch    GPU_mem   box_loss   cls_loss   dfl_loss  Instances       Size\n",
      "      43/75      4.06G     0.3154     0.2276     0.8154         29        480: 100%|██████████| 461/461 [00:56<00:00,  8.20it/s]\n",
      "                 Class     Images  Instances      Box(P          R      mAP50  mAP50-95): 100%|██████████| 29/29 [00:07<00:00,  3.76it/s]\n",
      "                   all        911       8984      0.852      0.801      0.834       0.71\n",
      "\n",
      "      Epoch    GPU_mem   box_loss   cls_loss   dfl_loss  Instances       Size\n"
     ]
    },
    {
     "name": "stderr",
     "output_type": "stream",
     "text": [
      "      44/75      4.06G     0.3166     0.2277     0.8136         27        480: 100%|██████████| 461/461 [00:55<00:00,  8.35it/s]\n",
      "                 Class     Images  Instances      Box(P          R      mAP50  mAP50-95): 100%|██████████| 29/29 [00:07<00:00,  3.77it/s]\n",
      "                   all        911       8984      0.978      0.803      0.841      0.724\n",
      "\n",
      "      Epoch    GPU_mem   box_loss   cls_loss   dfl_loss  Instances       Size\n",
      "      45/75      3.98G     0.3106     0.2253     0.8142          6        480: 100%|██████████| 461/461 [00:55<00:00,  8.36it/s]\n",
      "                 Class     Images  Instances      Box(P          R      mAP50  mAP50-95): 100%|██████████| 29/29 [00:07<00:00,  3.78it/s]\n",
      "                   all        911       8984      0.766      0.879      0.868      0.741\n",
      "\n",
      "      Epoch    GPU_mem   box_loss   cls_loss   dfl_loss  Instances       Size\n",
      "      46/75      4.05G     0.3078     0.2205     0.8132          7        480: 100%|██████████| 461/461 [00:55<00:00,  8.23it/s]\n",
      "                 Class     Images  Instances      Box(P          R      mAP50  mAP50-95): 100%|██████████| 29/29 [00:08<00:00,  3.60it/s]\n",
      "                   all        911       8984      0.981      0.803      0.856      0.736\n",
      "\n",
      "      Epoch    GPU_mem   box_loss   cls_loss   dfl_loss  Instances       Size\n",
      "      47/75      4.06G     0.3063     0.2208     0.8125         17        480: 100%|██████████| 461/461 [00:55<00:00,  8.31it/s]\n",
      "                 Class     Images  Instances      Box(P          R      mAP50  mAP50-95): 100%|██████████| 29/29 [00:07<00:00,  3.74it/s]\n",
      "                   all        911       8984      0.985        0.8      0.849      0.736\n",
      "\n",
      "      Epoch    GPU_mem   box_loss   cls_loss   dfl_loss  Instances       Size\n",
      "      48/75      4.06G     0.3069      0.221     0.8111         20        480: 100%|██████████| 461/461 [00:55<00:00,  8.25it/s]\n",
      "                 Class     Images  Instances      Box(P          R      mAP50  mAP50-95): 100%|██████████| 29/29 [00:07<00:00,  3.76it/s]\n",
      "                   all        911       8984      0.981      0.803      0.857      0.737\n",
      "\n",
      "      Epoch    GPU_mem   box_loss   cls_loss   dfl_loss  Instances       Size\n",
      "      49/75      4.04G     0.3053     0.2206     0.8119         16        480: 100%|██████████| 461/461 [00:55<00:00,  8.25it/s]\n",
      "                 Class     Images  Instances      Box(P          R      mAP50  mAP50-95): 100%|██████████| 29/29 [00:07<00:00,  3.70it/s]\n",
      "                   all        911       8984      0.984      0.809      0.857      0.735\n",
      "\n",
      "      Epoch    GPU_mem   box_loss   cls_loss   dfl_loss  Instances       Size\n",
      "      50/75      4.05G     0.3028     0.2168      0.811         45        480: 100%|██████████| 461/461 [00:56<00:00,  8.15it/s]\n",
      "                 Class     Images  Instances      Box(P          R      mAP50  mAP50-95): 100%|██████████| 29/29 [00:08<00:00,  3.62it/s]\n",
      "                   all        911       8984      0.895        0.9      0.906       0.75\n",
      "\n",
      "      Epoch    GPU_mem   box_loss   cls_loss   dfl_loss  Instances       Size\n",
      "      51/75      4.06G     0.2966     0.2149     0.8091          8        480: 100%|██████████| 461/461 [00:57<00:00,  8.08it/s]\n",
      "                 Class     Images  Instances      Box(P          R      mAP50  mAP50-95): 100%|██████████| 29/29 [00:08<00:00,  3.53it/s]\n",
      "                   all        911       8984       0.88      0.895      0.869      0.761\n",
      "\n",
      "      Epoch    GPU_mem   box_loss   cls_loss   dfl_loss  Instances       Size\n",
      "      52/75      4.06G      0.298     0.2132     0.8102         24        480: 100%|██████████| 461/461 [00:59<00:00,  7.81it/s]\n",
      "                 Class     Images  Instances      Box(P          R      mAP50  mAP50-95): 100%|██████████| 29/29 [00:08<00:00,  3.42it/s]\n",
      "                   all        911       8984      0.932      0.897      0.908      0.769\n",
      "\n",
      "      Epoch    GPU_mem   box_loss   cls_loss   dfl_loss  Instances       Size\n",
      "      53/75      4.05G     0.2943     0.2091      0.809          9        480: 100%|██████████| 461/461 [00:58<00:00,  7.92it/s]\n",
      "                 Class     Images  Instances      Box(P          R      mAP50  mAP50-95): 100%|██████████| 29/29 [00:08<00:00,  3.55it/s]\n",
      "                   all        911       8984      0.777      0.898      0.904      0.772\n",
      "\n",
      "      Epoch    GPU_mem   box_loss   cls_loss   dfl_loss  Instances       Size\n",
      "      54/75      4.05G     0.2934     0.2103     0.8084         35        480: 100%|██████████| 461/461 [00:56<00:00,  8.09it/s]\n",
      "                 Class     Images  Instances      Box(P          R      mAP50  mAP50-95): 100%|██████████| 29/29 [00:08<00:00,  3.48it/s]\n",
      "                   all        911       8984      0.772      0.885      0.869      0.757\n",
      "\n",
      "      Epoch    GPU_mem   box_loss   cls_loss   dfl_loss  Instances       Size\n",
      "      55/75      4.06G     0.2906     0.2079     0.8076         25        480: 100%|██████████| 461/461 [00:57<00:00,  7.99it/s]\n",
      "                 Class     Images  Instances      Box(P          R      mAP50  mAP50-95): 100%|██████████| 29/29 [00:09<00:00,  3.05it/s]\n",
      "                   all        911       8984      0.981      0.794      0.855      0.738\n",
      "\n",
      "      Epoch    GPU_mem   box_loss   cls_loss   dfl_loss  Instances       Size\n",
      "      56/75      4.05G     0.2903     0.2097     0.8077          3        480: 100%|██████████| 461/461 [00:57<00:00,  8.04it/s]\n",
      "                 Class     Images  Instances      Box(P          R      mAP50  mAP50-95): 100%|██████████| 29/29 [00:08<00:00,  3.57it/s]\n",
      "                   all        911       8984      0.968       0.81      0.868      0.743\n",
      "\n",
      "      Epoch    GPU_mem   box_loss   cls_loss   dfl_loss  Instances       Size\n",
      "      57/75      4.05G     0.2869     0.2061     0.8088          9        480: 100%|██████████| 461/461 [00:57<00:00,  8.06it/s]\n",
      "                 Class     Images  Instances      Box(P          R      mAP50  mAP50-95): 100%|██████████| 29/29 [00:07<00:00,  3.75it/s]\n",
      "                   all        911       8984      0.982      0.804      0.868      0.749\n",
      "\n",
      "      Epoch    GPU_mem   box_loss   cls_loss   dfl_loss  Instances       Size\n",
      "      58/75      4.09G     0.2854     0.2044      0.807         23        480: 100%|██████████| 461/461 [00:55<00:00,  8.34it/s]\n",
      "                 Class     Images  Instances      Box(P          R      mAP50  mAP50-95): 100%|██████████| 29/29 [00:07<00:00,  3.73it/s]\n",
      "                   all        911       8984       0.98      0.807      0.869       0.75\n",
      "\n",
      "      Epoch    GPU_mem   box_loss   cls_loss   dfl_loss  Instances       Size\n",
      "      59/75      4.06G     0.2811     0.2007     0.8063         16        480: 100%|██████████| 461/461 [00:55<00:00,  8.25it/s]\n",
      "                 Class     Images  Instances      Box(P          R      mAP50  mAP50-95): 100%|██████████| 29/29 [00:07<00:00,  3.73it/s]\n",
      "                   all        911       8984      0.862      0.899      0.858      0.752\n",
      "\n",
      "      Epoch    GPU_mem   box_loss   cls_loss   dfl_loss  Instances       Size\n",
      "      60/75      4.06G     0.2837      0.202     0.8068         15        480: 100%|██████████| 461/461 [00:56<00:00,  8.21it/s]\n",
      "                 Class     Images  Instances      Box(P          R      mAP50  mAP50-95): 100%|██████████| 29/29 [00:07<00:00,  3.74it/s]\n",
      "                   all        911       8984       0.98      0.804      0.849      0.749\n",
      "\n",
      "      Epoch    GPU_mem   box_loss   cls_loss   dfl_loss  Instances       Size\n",
      "      61/75      4.05G     0.2812     0.2005     0.8057         34        480: 100%|██████████| 461/461 [00:55<00:00,  8.27it/s]\n",
      "                 Class     Images  Instances      Box(P          R      mAP50  mAP50-95): 100%|██████████| 29/29 [00:08<00:00,  3.61it/s]\n",
      "                   all        911       8984      0.776      0.901      0.869       0.76\n",
      "\n",
      "      Epoch    GPU_mem   box_loss   cls_loss   dfl_loss  Instances       Size\n",
      "      62/75      4.09G     0.2773     0.1979     0.8067         27        480: 100%|██████████| 461/461 [00:56<00:00,  8.12it/s]\n",
      "                 Class     Images  Instances      Box(P          R      mAP50  mAP50-95): 100%|██████████| 29/29 [00:07<00:00,  3.75it/s]\n",
      "                   all        911       8984      0.763      0.901      0.868      0.762\n",
      "\n",
      "      Epoch    GPU_mem   box_loss   cls_loss   dfl_loss  Instances       Size\n"
     ]
    },
    {
     "name": "stderr",
     "output_type": "stream",
     "text": [
      "      63/75      4.06G     0.2757     0.1996     0.8048          9        480: 100%|██████████| 461/461 [00:56<00:00,  8.22it/s]\n",
      "                 Class     Images  Instances      Box(P          R      mAP50  mAP50-95): 100%|██████████| 29/29 [00:07<00:00,  3.74it/s]\n",
      "                   all        911       8984       0.77        0.9      0.871      0.754\n",
      "\n",
      "      Epoch    GPU_mem   box_loss   cls_loss   dfl_loss  Instances       Size\n",
      "      64/75      4.16G     0.2735     0.1942      0.805          8        480: 100%|██████████| 461/461 [00:56<00:00,  8.15it/s]\n",
      "                 Class     Images  Instances      Box(P          R      mAP50  mAP50-95): 100%|██████████| 29/29 [00:08<00:00,  3.59it/s]\n",
      "                   all        911       8984      0.977      0.803       0.91      0.787\n",
      "\n",
      "      Epoch    GPU_mem   box_loss   cls_loss   dfl_loss  Instances       Size\n",
      "      65/75      4.05G     0.2714     0.1924      0.804          7        480: 100%|██████████| 461/461 [00:57<00:00,  8.06it/s]\n",
      "                 Class     Images  Instances      Box(P          R      mAP50  mAP50-95): 100%|██████████| 29/29 [00:08<00:00,  3.56it/s]\n",
      "                   all        911       8984       0.78      0.901      0.911      0.782\n",
      "Closing dataloader mosaic\n",
      "\n",
      "      Epoch    GPU_mem   box_loss   cls_loss   dfl_loss  Instances       Size\n",
      "      66/75      4.05G     0.3461     0.1998      0.784         20        480: 100%|██████████| 461/461 [00:57<00:00,  7.95it/s]\n",
      "                 Class     Images  Instances      Box(P          R      mAP50  mAP50-95): 100%|██████████| 29/29 [00:08<00:00,  3.53it/s]\n",
      "                   all        911       8984      0.984      0.802       0.91      0.796\n",
      "\n",
      "      Epoch    GPU_mem   box_loss   cls_loss   dfl_loss  Instances       Size\n",
      "      67/75      4.06G     0.3334     0.1945     0.7828         12        480: 100%|██████████| 461/461 [00:55<00:00,  8.24it/s]\n",
      "                 Class     Images  Instances      Box(P          R      mAP50  mAP50-95): 100%|██████████| 29/29 [00:08<00:00,  3.60it/s]\n",
      "                   all        911       8984      0.965      0.812      0.871      0.783\n",
      "\n",
      "      Epoch    GPU_mem   box_loss   cls_loss   dfl_loss  Instances       Size\n",
      "      68/75      4.07G     0.3244     0.1903     0.7794          4        480: 100%|██████████| 461/461 [00:55<00:00,  8.26it/s]\n",
      "                 Class     Images  Instances      Box(P          R      mAP50  mAP50-95): 100%|██████████| 29/29 [00:08<00:00,  3.55it/s]\n",
      "                   all        911       8984      0.983      0.798      0.869      0.778\n",
      "\n",
      "      Epoch    GPU_mem   box_loss   cls_loss   dfl_loss  Instances       Size\n",
      "      69/75      4.05G     0.3179     0.1881     0.7813          5        480: 100%|██████████| 461/461 [00:55<00:00,  8.25it/s]\n",
      "                 Class     Images  Instances      Box(P          R      mAP50  mAP50-95): 100%|██████████| 29/29 [00:07<00:00,  3.70it/s]\n",
      "                   all        911       8984      0.979      0.812       0.91      0.797\n",
      "\n",
      "      Epoch    GPU_mem   box_loss   cls_loss   dfl_loss  Instances       Size\n",
      "      70/75      4.05G     0.3134     0.1856      0.781          9        480: 100%|██████████| 461/461 [00:57<00:00,  8.04it/s]\n",
      "                 Class     Images  Instances      Box(P          R      mAP50  mAP50-95): 100%|██████████| 29/29 [00:07<00:00,  3.69it/s]\n",
      "                   all        911       8984      0.796      0.902      0.909      0.802\n",
      "\n",
      "      Epoch    GPU_mem   box_loss   cls_loss   dfl_loss  Instances       Size\n",
      "      71/75      4.06G     0.3115     0.1835     0.7795          9        480: 100%|██████████| 461/461 [00:55<00:00,  8.33it/s]\n",
      "                 Class     Images  Instances      Box(P          R      mAP50  mAP50-95): 100%|██████████| 29/29 [00:07<00:00,  3.72it/s]\n",
      "                   all        911       8984      0.813      0.902      0.909        0.8\n",
      "\n",
      "      Epoch    GPU_mem   box_loss   cls_loss   dfl_loss  Instances       Size\n",
      "      72/75      4.05G     0.3088     0.1825     0.7794         30        480: 100%|██████████| 461/461 [00:55<00:00,  8.28it/s]\n",
      "                 Class     Images  Instances      Box(P          R      mAP50  mAP50-95): 100%|██████████| 29/29 [00:07<00:00,  3.70it/s]\n",
      "                   all        911       8984      0.803      0.901      0.909      0.801\n",
      "\n",
      "      Epoch    GPU_mem   box_loss   cls_loss   dfl_loss  Instances       Size\n",
      "      73/75      4.05G     0.3062     0.1803     0.7784         18        480: 100%|██████████| 461/461 [00:55<00:00,  8.29it/s]\n",
      "                 Class     Images  Instances      Box(P          R      mAP50  mAP50-95): 100%|██████████| 29/29 [00:07<00:00,  3.76it/s]\n",
      "                   all        911       8984      0.804      0.902      0.908      0.802\n",
      "\n",
      "      Epoch    GPU_mem   box_loss   cls_loss   dfl_loss  Instances       Size\n",
      "      74/75      4.05G     0.3038      0.179     0.7779         24        480: 100%|██████████| 461/461 [00:55<00:00,  8.24it/s]\n",
      "                 Class     Images  Instances      Box(P          R      mAP50  mAP50-95): 100%|██████████| 29/29 [00:07<00:00,  3.68it/s]\n",
      "                   all        911       8984      0.803      0.901      0.909      0.806\n",
      "\n",
      "      Epoch    GPU_mem   box_loss   cls_loss   dfl_loss  Instances       Size\n",
      "      75/75      4.06G     0.3008     0.1768     0.7778          9        480: 100%|██████████| 461/461 [00:55<00:00,  8.30it/s]\n",
      "                 Class     Images  Instances      Box(P          R      mAP50  mAP50-95): 100%|██████████| 29/29 [00:12<00:00,  2.39it/s]\n",
      "                   all        911       8984      0.818      0.901      0.909      0.799\n",
      "\n",
      "75 epochs completed in 1.385 hours.\n",
      "Optimizer stripped from runs/detect/train22/weights/last.pt, 52.0MB\n",
      "Optimizer stripped from runs/detect/train22/weights/best.pt, 52.0MB\n",
      "\n",
      "Validating runs/detect/train22/weights/best.pt...\n",
      "Ultralytics YOLOv8.0.132 🚀 Python-3.8.10 torch-2.0.1+cu117 CUDA:0 (NVIDIA GeForce RTX 3090, 24575MiB)\n",
      "Model summary (fused): 218 layers, 25851340 parameters, 0 gradients\n",
      "                 Class     Images  Instances      Box(P          R      mAP50  mAP50-95): 100%|██████████| 29/29 [00:11<00:00,  2.61it/s]\n",
      "                   all        911       8984      0.805      0.901      0.909      0.808\n",
      "        typo_price_num        911       2835      0.995      0.812      0.912      0.799\n",
      "           image_photo        911       1502      0.987          1      0.992      0.992\n",
      "         image_colorBG        911        225      0.979      0.991      0.995      0.995\n",
      "        image_removeBG        911        749      0.995      0.996      0.995      0.991\n",
      "       icon_arrow_left        911          1          0          0     0.0158    0.00877\n",
      "      icon_arrow_right        911          1      0.652          1      0.995      0.478\n",
      "       icon_video_play        911          7      0.884          1      0.995       0.96\n",
      "        icon_SNS_insta        911          4      0.812          1      0.995      0.995\n",
      "      icon_SNS_youtube        911          6      0.863          1      0.995      0.973\n",
      "            btn_radius        911         49       0.89       0.98      0.983      0.855\n",
      "           btn_ellipse        911          7      0.555          1      0.978      0.636\n",
      "            btn_square        911         44      0.881          1      0.994      0.962\n",
      "             typo_text        911       3554      0.975       0.94      0.969      0.858\n",
      "Speed: 0.1ms preprocess, 2.3ms inference, 0.0ms loss, 0.7ms postprocess per image\n",
      "Results saved to \u001b[1mruns/detect/train22\u001b[0m\n"
     ]
    }
   ],
   "source": [
    "model = YOLO('/tf/notebook/runs/detect/train19/weights/last.pt')\n",
    "\n",
    "model.train(data='/tf/notebook/datasets_1/data.yaml',\n",
    "           epochs=75,\n",
    "           batch=16,\n",
    "           imgsz=480,\n",
    "           lr0=0.01)"
   ]
  },
  {
   "cell_type": "code",
   "execution_count": null,
   "id": "eaffc395",
   "metadata": {},
   "outputs": [],
   "source": [
    "!yolo detect train model=/tf/notebook/runs/detect/train22/weights/best.pt data=/tf/notebook/datasets_1/data.yaml epochs=75 batch=32 imgsz=480 lr0=0.01"
   ]
  },
  {
   "cell_type": "code",
   "execution_count": null,
   "id": "b858d1b4",
   "metadata": {},
   "outputs": [],
   "source": [
    "!yolo detect train model=/tf/notebook/runs/detect/OBElements5/weights/last.pt data=/tf/notebook/datasetsprice/data.yaml epochs=100 batch=16 imgsz=640 lr0=0.005"
   ]
  },
  {
   "cell_type": "code",
   "execution_count": null,
   "id": "12c195f1",
   "metadata": {},
   "outputs": [
    {
     "name": "stdout",
     "output_type": "stream",
     "text": [
      "\n",
      "      Epoch    GPU_mem   box_loss   cls_loss   dfl_loss  Instances       Size\n",
      "      8/100      3.95G     0.5899     0.4236     0.8706          7        480: 1\n",
      "                 Class     Images  Instances      Box(P          R      mAP50  m\n",
      "                   all        911       8984      0.656      0.715      0.629      0.481\n",
      "\n",
      "      Epoch    GPU_mem   box_loss   cls_loss   dfl_loss  Instances       Size\n",
      "      9/100      3.94G     0.5704      0.414     0.8667          5        480: 1\n",
      "                 Class     Images  Instances      Box(P          R      mAP50  m\n",
      "                   all        911       8984      0.898      0.625       0.72      0.536\n",
      "\n",
      "      Epoch    GPU_mem   box_loss   cls_loss   dfl_loss  Instances       Size\n",
      "     10/100      4.06G     0.5551      0.397     0.8608         17        480: 1\n",
      "                 Class     Images  Instances      Box(P          R      mAP50  m\n",
      "                   all        911       8984      0.688      0.722      0.692      0.545\n",
      "\n",
      "      Epoch    GPU_mem   box_loss   cls_loss   dfl_loss  Instances       Size\n",
      "     11/100      3.97G     0.5351     0.3835     0.8561         49        480: 1\n",
      "                 Class     Images  Instances      Box(P          R      mAP50  m\n",
      "                   all        911       8984      0.696      0.689      0.689      0.551\n",
      "\n",
      "      Epoch    GPU_mem   box_loss   cls_loss   dfl_loss  Instances       Size\n",
      "     12/100      3.95G     0.5241     0.3728     0.8544         12        480: 1\n",
      "                 Class     Images  Instances      Box(P          R      mAP50  m\n",
      "                   all        911       8984      0.808      0.718       0.75      0.578\n",
      "\n",
      "      Epoch    GPU_mem   box_loss   cls_loss   dfl_loss  Instances       Size\n",
      "     13/100      3.95G     0.5088     0.3638     0.8502          8        480: 1\n",
      "                 Class     Images  Instances      Box(P          R      mAP50  m\n",
      "                   all        911       8984      0.745      0.724      0.736      0.577\n",
      "\n",
      "      Epoch    GPU_mem   box_loss   cls_loss   dfl_loss  Instances       Size\n",
      "     14/100      3.94G     0.4962     0.3545     0.8474         24        480: 1\n",
      "                 Class     Images  Instances      Box(P          R      mAP50  m\n",
      "                   all        911       8984      0.882      0.686      0.736      0.603\n",
      "\n",
      "      Epoch    GPU_mem   box_loss   cls_loss   dfl_loss  Instances       Size\n",
      "     15/100      3.96G     0.4825     0.3449     0.8444          9        480: 1\n",
      "                 Class     Images  Instances      Box(P          R      mAP50  m\n",
      "                   all        911       8984      0.796      0.752      0.775      0.627\n",
      "\n",
      "      Epoch    GPU_mem   box_loss   cls_loss   dfl_loss  Instances       Size\n",
      "     16/100      3.94G     0.4754     0.3391     0.8435         10        480: 1\n",
      "                 Class     Images  Instances      Box(P          R      mAP50  m\n",
      "                   all        911       8984      0.918      0.676      0.767      0.616\n",
      "\n",
      "      Epoch    GPU_mem   box_loss   cls_loss   dfl_loss  Instances       Size\n",
      "     17/100      3.94G     0.4695     0.3349     0.8425         39        480: 1\n",
      "                 Class     Images  Instances      Box(P          R      mAP50  m\n",
      "                   all        911       8984      0.936      0.706      0.774      0.621\n",
      "\n",
      "      Epoch    GPU_mem   box_loss   cls_loss   dfl_loss  Instances       Size\n",
      "     18/100      3.94G     0.4593     0.3281     0.8389          7        480: 1\n",
      "                 Class     Images  Instances      Box(P          R      mAP50  m\n",
      "                   all        911       8984       0.93      0.715      0.779      0.623\n",
      "\n",
      "      Epoch    GPU_mem   box_loss   cls_loss   dfl_loss  Instances       Size\n",
      "     19/100      3.97G     0.4561     0.3255     0.8392         27        480: 1\n",
      "                 Class     Images  Instances      Box(P          R      mAP50  m\n",
      "                   all        911       8984      0.907      0.721      0.787      0.641\n",
      "\n",
      "      Epoch    GPU_mem   box_loss   cls_loss   dfl_loss  Instances       Size\n",
      "     20/100      3.95G     0.4472     0.3182     0.8376         32        480: 1\n",
      "                 Class     Images  Instances      Box(P          R      mAP50  m\n",
      "                   all        911       8984      0.937      0.721      0.798      0.633\n",
      "\n",
      "      Epoch    GPU_mem   box_loss   cls_loss   dfl_loss  Instances       Size\n",
      "     21/100      3.95G      0.438     0.3118     0.8368         11        480: 1\n",
      "                 Class     Images  Instances      Box(P          R      mAP50  m\n",
      "                   all        911       8984      0.871      0.731      0.775      0.645\n",
      "\n",
      "      Epoch    GPU_mem   box_loss   cls_loss   dfl_loss  Instances       Size\n",
      "     22/100      3.94G     0.4387       0.31     0.8347         33        480: 1\n",
      "                 Class     Images  Instances      Box(P          R      mAP50  m\n",
      "                   all        911       8984      0.879      0.772      0.797      0.637\n",
      "\n",
      "      Epoch    GPU_mem   box_loss   cls_loss   dfl_loss  Instances       Size\n",
      "     23/100      3.96G      0.427     0.3067     0.8337         17        480: 1\n",
      "                 Class     Images  Instances      Box(P          R      mAP50  m\n",
      "                   all        911       8984      0.897       0.79      0.807      0.679\n",
      "\n",
      "      Epoch    GPU_mem   box_loss   cls_loss   dfl_loss  Instances       Size\n",
      "     24/100      3.94G     0.4219     0.3008     0.8318         20        480: 1\n",
      "                 Class     Images  Instances      Box(P          R      mAP50  m\n",
      "                   all        911       8984       0.95       0.72      0.805      0.654\n",
      "\n",
      "      Epoch    GPU_mem   box_loss   cls_loss   dfl_loss  Instances       Size\n",
      "     25/100      3.94G     0.4185     0.3016     0.8319          2        480: 1\n",
      "                 Class     Images  Instances      Box(P          R      mAP50  m\n",
      "                   all        911       8984      0.957       0.78       0.83      0.689\n",
      "\n",
      "      Epoch    GPU_mem   box_loss   cls_loss   dfl_loss  Instances       Size\n",
      "     26/100      3.95G     0.4145     0.2939     0.8293         22        480: 1\n",
      "                 Class     Images  Instances      Box(P          R      mAP50  m\n",
      "                   all        911       8984      0.833      0.789      0.822      0.667\n",
      "\n",
      "      Epoch    GPU_mem   box_loss   cls_loss   dfl_loss  Instances       Size\n",
      "     27/100      3.97G     0.4084      0.291     0.8291         18        480: 1\n",
      "                 Class     Images  Instances      Box(P          R      mAP50  m\n",
      "                   all        911       8984      0.969      0.758      0.831      0.685\n",
      "\n",
      "      Epoch    GPU_mem   box_loss   cls_loss   dfl_loss  Instances       Size\n",
      "     28/100      3.96G     0.4048     0.2864     0.8268         28        480: 1\n",
      "                 Class     Images  Instances      Box(P          R      mAP50  m\n",
      "                   all        911       8984       0.85      0.745      0.796      0.653\n",
      "\n",
      "      Epoch    GPU_mem   box_loss   cls_loss   dfl_loss  Instances       Size\n",
      "     29/100      3.99G     0.4037      0.288     0.8289          4        480: 1\n",
      "                 Class     Images  Instances      Box(P          R      mAP50  m\n",
      "                   all        911       8984      0.925      0.763      0.818      0.693\n",
      "\n",
      "      Epoch    GPU_mem   box_loss   cls_loss   dfl_loss  Instances       Size\n",
      "     30/100      3.94G     0.3995     0.2876     0.8282         15        480: 1\n",
      "                 Class     Images  Instances      Box(P          R      mAP50  m\n",
      "                   all        911       8984      0.968      0.778      0.834        0.7\n",
      "\n",
      "      Epoch    GPU_mem   box_loss   cls_loss   dfl_loss  Instances       Size\n",
      "     31/100      3.97G     0.3955     0.2821     0.8271          6        480: 1\n",
      "                 Class     Images  Instances      Box(P          R      mAP50  m\n",
      "                   all        911       8984      0.918      0.809      0.824      0.692\n",
      "\n",
      "      Epoch    GPU_mem   box_loss   cls_loss   dfl_loss  Instances       Size\n",
      "     32/100      4.08G     0.3886      0.276     0.8246         25        480: 1\n",
      "                 Class     Images  Instances      Box(P          R      mAP50  m\n",
      "                   all        911       8984      0.941      0.778      0.826      0.678\n"
     ]
    },
    {
     "name": "stdout",
     "output_type": "stream",
     "text": [
      "\n",
      "      Epoch    GPU_mem   box_loss   cls_loss   dfl_loss  Instances       Size\n",
      "     33/100      3.99G     0.3867     0.2744     0.8231         10        480: 1\n",
      "                 Class     Images  Instances      Box(P          R      mAP50  m\n",
      "                   all        911       8984      0.954      0.777      0.821      0.691\n",
      "\n",
      "      Epoch    GPU_mem   box_loss   cls_loss   dfl_loss  Instances       Size\n",
      "     34/100      3.95G     0.3873     0.2753     0.8243         17        480: 1\n",
      "                 Class     Images  Instances      Box(P          R      mAP50  m\n",
      "                   all        911       8984      0.933      0.749      0.817      0.703\n",
      "\n",
      "      Epoch    GPU_mem   box_loss   cls_loss   dfl_loss  Instances       Size\n",
      "     35/100      3.97G     0.3805     0.2684     0.8231          7        480: 1\n",
      "                 Class     Images  Instances      Box(P          R      mAP50  m\n",
      "                   all        911       8984      0.922       0.79      0.813      0.703\n",
      "\n",
      "      Epoch    GPU_mem   box_loss   cls_loss   dfl_loss  Instances       Size\n",
      "     36/100      3.95G     0.3759     0.2672     0.8227          7        480: 1\n",
      "                 Class     Images  Instances      Box(P          R      mAP50  m\n",
      "                   all        911       8984      0.819      0.828      0.908       0.73\n",
      "\n",
      "      Epoch    GPU_mem   box_loss   cls_loss   dfl_loss  Instances       Size\n",
      "     37/100      3.95G     0.3747     0.2661     0.8225         19        480: 1\n",
      "                 Class     Images  Instances      Box(P          R      mAP50  m\n",
      "                   all        911       8984      0.912      0.789      0.804      0.682\n",
      "\n",
      "      Epoch    GPU_mem   box_loss   cls_loss   dfl_loss  Instances       Size\n",
      "     38/100      3.94G      0.371      0.266     0.8212          5        480: 1\n",
      "                 Class     Images  Instances      Box(P          R      mAP50  m\n",
      "                   all        911       8984      0.956      0.769      0.821      0.702\n",
      "\n",
      "      Epoch    GPU_mem   box_loss   cls_loss   dfl_loss  Instances       Size\n",
      "     39/100      3.96G     0.3688     0.2607     0.8201         10        480: 1\n",
      "                 Class     Images  Instances      Box(P          R      mAP50  m\n",
      "                   all        911       8984      0.964      0.803      0.829      0.711\n",
      "\n",
      "      Epoch    GPU_mem   box_loss   cls_loss   dfl_loss  Instances       Size\n",
      "     40/100      3.94G     0.3639     0.2592      0.817         12        480: 1\n",
      "                 Class     Images  Instances      Box(P          R      mAP50  m\n",
      "                   all        911       8984      0.937      0.799      0.835      0.705\n",
      "\n",
      "      Epoch    GPU_mem   box_loss   cls_loss   dfl_loss  Instances       Size\n",
      "     41/100      3.97G     0.3621     0.2556     0.8193          9        480: 1\n",
      "                 Class     Images  Instances      Box(P          R      mAP50  m\n",
      "                   all        911       8984      0.962      0.793      0.851      0.711\n",
      "\n",
      "      Epoch    GPU_mem   box_loss   cls_loss   dfl_loss  Instances       Size\n",
      "     42/100      3.94G     0.3589     0.2541     0.8186         13        480: 1\n",
      "                 Class     Images  Instances      Box(P          R      mAP50  m\n",
      "                   all        911       8984      0.972      0.803      0.851       0.72\n",
      "\n",
      "      Epoch    GPU_mem   box_loss   cls_loss   dfl_loss  Instances       Size\n",
      "     43/100      3.97G     0.3563     0.2523     0.8186         29        480: 1\n",
      "                 Class     Images  Instances      Box(P          R      mAP50  m\n",
      "                   all        911       8984      0.955      0.783      0.844      0.715\n",
      "\n",
      "      Epoch    GPU_mem   box_loss   cls_loss   dfl_loss  Instances       Size\n",
      "     44/100      3.95G     0.3554     0.2515     0.8166         27        480: 1\n",
      "                 Class     Images  Instances      Box(P          R      mAP50  m\n",
      "                   all        911       8984      0.972      0.804      0.845      0.707\n",
      "\n",
      "      Epoch    GPU_mem   box_loss   cls_loss   dfl_loss  Instances       Size\n",
      "     45/100      3.95G     0.3512     0.2499     0.8176          6        480: 1\n",
      "                 Class     Images  Instances      Box(P          R      mAP50  m\n",
      "                   all        911       8984      0.979      0.793      0.837      0.715\n",
      "\n",
      "      Epoch    GPU_mem   box_loss   cls_loss   dfl_loss  Instances       Size\n",
      "     46/100      3.94G     0.3464     0.2458     0.8176          7        480: 1\n",
      "                 Class     Images  Instances      Box(P          R      mAP50  m\n",
      "                   all        911       8984      0.947      0.802      0.822      0.713\n",
      "\n",
      "      Epoch    GPU_mem   box_loss   cls_loss   dfl_loss  Instances       Size\n",
      "     47/100       3.9G     0.3444     0.2443     0.8172         17        480: 1\n",
      "                 Class     Images  Instances      Box(P          R      mAP50  m\n",
      "                   all        911       8984      0.978      0.799      0.847      0.728\n",
      "\n",
      "      Epoch    GPU_mem   box_loss   cls_loss   dfl_loss  Instances       Size\n",
      "     48/100      4.06G     0.3455     0.2453     0.8154         20        480: 1\n",
      "                 Class     Images  Instances      Box(P          R      mAP50  m\n",
      "                   all        911       8984      0.978      0.783      0.848      0.731\n",
      "\n",
      "      Epoch    GPU_mem   box_loss   cls_loss   dfl_loss  Instances       Size\n",
      "     49/100      3.95G     0.3415     0.2436     0.8155         16        480: 1\n",
      "                 Class     Images  Instances      Box(P          R      mAP50  m\n",
      "                   all        911       8984      0.956      0.807       0.87      0.717\n",
      "\n",
      "      Epoch    GPU_mem   box_loss   cls_loss   dfl_loss  Instances       Size\n",
      "     50/100      3.95G     0.3396     0.2397     0.8139         45        480: 1\n",
      "                 Class     Images  Instances      Box(P          R      mAP50  m\n",
      "                   all        911       8984      0.984      0.782      0.906      0.746\n",
      "\n",
      "      Epoch    GPU_mem   box_loss   cls_loss   dfl_loss  Instances       Size\n",
      "     51/100      3.96G     0.3342     0.2382     0.8126          8        480: 1\n",
      "                 Class     Images  Instances      Box(P          R      mAP50  m\n",
      "                   all        911       8984      0.776      0.901      0.907      0.772\n",
      "\n",
      "      Epoch    GPU_mem   box_loss   cls_loss   dfl_loss  Instances       Size\n",
      "     52/100      3.95G     0.3335     0.2359     0.8135         24        480: 1\n",
      "                 Class     Images  Instances      Box(P          R      mAP50  m\n",
      "                   all        911       8984      0.975      0.801      0.906      0.773\n",
      "\n",
      "      Epoch    GPU_mem   box_loss   cls_loss   dfl_loss  Instances       Size\n",
      "     53/100      3.95G     0.3308     0.2327      0.813          9        480: 1\n",
      "                 Class     Images  Instances      Box(P          R      mAP50  m\n",
      "                   all        911       8984      0.963      0.794      0.864      0.739\n",
      "\n",
      "      Epoch    GPU_mem   box_loss   cls_loss   dfl_loss  Instances       Size\n",
      "     54/100      3.95G     0.3284     0.2322      0.812         35        480: 1\n",
      "                 Class     Images  Instances      Box(P          R      mAP50  m\n",
      "                   all        911       8984      0.794        0.9      0.901      0.763\n",
      "\n",
      "      Epoch    GPU_mem   box_loss   cls_loss   dfl_loss  Instances       Size\n",
      "     55/100      3.97G     0.3266     0.2302     0.8105         25        480: 1\n",
      "                 Class     Images  Instances      Box(P          R      mAP50  m\n",
      "                   all        911       8984      0.976      0.806       0.87      0.745\n",
      "\n",
      "      Epoch    GPU_mem   box_loss   cls_loss   dfl_loss  Instances       Size\n",
      "     56/100      3.95G     0.3277     0.2346     0.8127          3        480: 1\n",
      "                 Class     Images  Instances      Box(P          R      mAP50  m\n",
      "                   all        911       8984      0.979      0.801      0.855      0.743\n",
      "\n",
      "      Epoch    GPU_mem   box_loss   cls_loss   dfl_loss  Instances       Size\n",
      "     57/100      3.94G     0.3239     0.2291     0.8126          9        480: 1\n",
      "                 Class     Images  Instances      Box(P          R      mAP50  m\n",
      "                   all        911       8984      0.983      0.804      0.907      0.747\n"
     ]
    },
    {
     "name": "stdout",
     "output_type": "stream",
     "text": [
      "\n",
      "      Epoch    GPU_mem   box_loss   cls_loss   dfl_loss  Instances       Size\n",
      "     58/100      3.94G     0.3188     0.2256     0.8096         23        480: 1\n",
      "                 Class     Images  Instances      Box(P          R      mAP50  m\n",
      "                   all        911       8984      0.784      0.883      0.856      0.735\n",
      "\n",
      "      Epoch    GPU_mem   box_loss   cls_loss   dfl_loss  Instances       Size\n",
      "     59/100      3.96G      0.316     0.2238     0.8098         16        480: 1\n",
      "                 Class     Images  Instances      Box(P          R      mAP50  m\n",
      "                   all        911       8984      0.963      0.805      0.903      0.757\n",
      "\n",
      "      Epoch    GPU_mem   box_loss   cls_loss   dfl_loss  Instances       Size\n",
      "     60/100      3.94G     0.3192     0.2255     0.8102         15        480: 1\n",
      "                 Class     Images  Instances      Box(P          R      mAP50  m\n",
      "                   all        911       8984      0.805      0.898      0.906      0.763\n",
      "\n",
      "      Epoch    GPU_mem   box_loss   cls_loss   dfl_loss  Instances       Size\n",
      "     61/100      3.95G     0.3167     0.2231      0.809         34        480: 1\n",
      "                 Class     Images  Instances      Box(P          R      mAP50  m\n",
      "                   all        911       8984      0.974      0.808      0.907      0.766\n",
      "\n",
      "      Epoch    GPU_mem   box_loss   cls_loss   dfl_loss  Instances       Size\n",
      "     62/100      3.94G     0.3122     0.2208     0.8094         27        480: 1\n",
      "                 Class     Images  Instances      Box(P          R      mAP50  m\n",
      "                   all        911       8984      0.976      0.802      0.907      0.782\n",
      "\n",
      "      Epoch    GPU_mem   box_loss   cls_loss   dfl_loss  Instances       Size\n",
      "     63/100      3.97G     0.3102     0.2192     0.8083          9        480: 1\n",
      "                 Class     Images  Instances      Box(P          R      mAP50  m\n",
      "                   all        911       8984       0.97      0.799      0.906       0.78\n",
      "\n",
      "      Epoch    GPU_mem   box_loss   cls_loss   dfl_loss  Instances       Size\n",
      "     64/100      3.99G     0.3074     0.2195     0.8083          8        480: 1\n",
      "                 Class     Images  Instances      Box(P          R      mAP50  m\n",
      "                   all        911       8984      0.975       0.81      0.907      0.774\n",
      "\n",
      "      Epoch    GPU_mem   box_loss   cls_loss   dfl_loss  Instances       Size\n",
      "     65/100      3.95G     0.3055     0.2171      0.809          7        480: 1\n",
      "                 Class     Images  Instances      Box(P          R      mAP50  m\n",
      "                   all        911       8984      0.819        0.9      0.908      0.794\n",
      "\n",
      "      Epoch    GPU_mem   box_loss   cls_loss   dfl_loss  Instances       Size\n",
      "     66/100      3.94G      0.304     0.2147     0.8085         11        480: 1\n",
      "                 Class     Images  Instances      Box(P          R      mAP50  m\n",
      "                   all        911       8984      0.818      0.898      0.907      0.772\n",
      "\n",
      "      Epoch    GPU_mem   box_loss   cls_loss   dfl_loss  Instances       Size\n",
      "     67/100         4G     0.3039     0.2143     0.8069         47        480: 1\n",
      "                 Class     Images  Instances      Box(P          R      mAP50  m\n",
      "                   all        911       8984      0.843      0.896      0.907      0.786\n",
      "\n",
      "      Epoch    GPU_mem   box_loss   cls_loss   dfl_loss  Instances       Size\n",
      "     68/100      3.95G     0.3016     0.2133     0.8076         20        480: 1\n",
      "                 Class     Images  Instances      Box(P          R      mAP50  m\n",
      "                   all        911       8984      0.803      0.898      0.869      0.755\n",
      "\n",
      "      Epoch    GPU_mem   box_loss   cls_loss   dfl_loss  Instances       Size\n",
      "     69/100      3.95G     0.2982     0.2128     0.8076         28        480: 1\n",
      "                 Class     Images  Instances      Box(P          R      mAP50  m\n",
      "                   all        911       8984      0.813      0.898       0.87      0.754\n",
      "\n",
      "      Epoch    GPU_mem   box_loss   cls_loss   dfl_loss  Instances       Size\n",
      "     70/100      3.94G     0.2967     0.2107     0.8072         10        480: 1\n",
      "                 Class     Images  Instances      Box(P          R      mAP50  m\n",
      "                   all        911       8984      0.821      0.897       0.87      0.759\n",
      "\n",
      "      Epoch    GPU_mem   box_loss   cls_loss   dfl_loss  Instances       Size\n",
      "     71/100      3.96G     0.2955     0.2102     0.8061         54        480: 1\n",
      "                 Class     Images  Instances      Box(P          R      mAP50  m\n",
      "                   all        911       8984      0.801        0.9      0.869      0.761\n",
      "\n",
      "      Epoch    GPU_mem   box_loss   cls_loss   dfl_loss  Instances       Size\n",
      "     72/100      3.95G     0.2956     0.2086     0.8057          5        480: 1\n",
      "                 Class     Images  Instances      Box(P          R      mAP50  m\n",
      "                   all        911       8984      0.785      0.889      0.904      0.779\n",
      "\n",
      "      Epoch    GPU_mem   box_loss   cls_loss   dfl_loss  Instances       Size\n",
      "     73/100      3.98G     0.2885     0.2055     0.8046         17        480: 1\n",
      "                 Class     Images  Instances      Box(P          R      mAP50  m\n",
      "                   all        911       8984       0.98      0.814      0.909      0.791\n",
      "\n",
      "      Epoch    GPU_mem   box_loss   cls_loss   dfl_loss  Instances       Size\n",
      "     74/100      3.95G     0.2898     0.2054     0.8033         45        480: 1\n",
      "                 Class     Images  Instances      Box(P          R      mAP50  m\n",
      "                   all        911       8984      0.808      0.903       0.91      0.779\n",
      "\n",
      "      Epoch    GPU_mem   box_loss   cls_loss   dfl_loss  Instances       Size\n",
      "     75/100         4G     0.2871     0.2033     0.8069         38        480: 1\n",
      "                 Class     Images  Instances      Box(P          R      mAP50  m\n",
      "                   all        911       8984      0.826      0.901      0.909      0.784\n",
      "\n",
      "      Epoch    GPU_mem   box_loss   cls_loss   dfl_loss  Instances       Size\n",
      "     76/100      3.95G     0.2854     0.2024     0.8043         19        480: 1\n",
      "                 Class     Images  Instances      Box(P          R      mAP50  m\n",
      "                   all        911       8984      0.836      0.901      0.909      0.785\n",
      "\n",
      "      Epoch    GPU_mem   box_loss   cls_loss   dfl_loss  Instances       Size\n",
      "     77/100      3.95G     0.2844     0.1999     0.8029         11        480: 1\n",
      "                 Class     Images  Instances      Box(P          R      mAP50  m\n",
      "                   all        911       8984      0.851      0.898       0.91      0.793\n",
      "\n",
      "      Epoch    GPU_mem   box_loss   cls_loss   dfl_loss  Instances       Size\n",
      "     78/100      3.95G     0.2819     0.1977     0.8048         25        480: 1\n",
      "                 Class     Images  Instances      Box(P          R      mAP50  m\n",
      "                   all        911       8984      0.842      0.897      0.909      0.783\n",
      "\n",
      "      Epoch    GPU_mem   box_loss   cls_loss   dfl_loss  Instances       Size\n",
      "     79/100      3.97G     0.2814     0.1991     0.8038         20        480: 1\n",
      "                 Class     Images  Instances      Box(P          R      mAP50  m\n",
      "                   all        911       8984      0.832      0.896      0.908      0.787\n",
      "\n",
      "      Epoch    GPU_mem   box_loss   cls_loss   dfl_loss  Instances       Size\n",
      "     80/100      3.95G     0.2767     0.1947     0.8041          7        480: 1\n",
      "                 Class     Images  Instances      Box(P          R      mAP50  m\n",
      "                   all        911       8984      0.856      0.894      0.907      0.784\n",
      "\n",
      "      Epoch    GPU_mem   box_loss   cls_loss   dfl_loss  Instances       Size\n",
      "     81/100      3.98G     0.2768     0.1947     0.8036          9        480: 1\n",
      "                 Class     Images  Instances      Box(P          R      mAP50  m\n",
      "                   all        911       8984      0.852      0.898      0.908      0.784\n",
      "\n",
      "      Epoch    GPU_mem   box_loss   cls_loss   dfl_loss  Instances       Size\n",
      "     82/100      3.94G     0.2732     0.1931     0.8018          9        480: 1\n",
      "                 Class     Images  Instances      Box(P          R      mAP50  m\n",
      "                   all        911       8984      0.849      0.899      0.908      0.773\n"
     ]
    },
    {
     "name": "stdout",
     "output_type": "stream",
     "text": [
      "\n",
      "      Epoch    GPU_mem   box_loss   cls_loss   dfl_loss  Instances       Size\n",
      "     83/100      3.97G     0.2705     0.1901     0.8021         22        480: 1\n",
      "                 Class     Images  Instances      Box(P          R      mAP50  m\n",
      "                   all        911       8984      0.831      0.887      0.905      0.777\n",
      "\n",
      "      Epoch    GPU_mem   box_loss   cls_loss   dfl_loss  Instances       Size\n",
      "     84/100      3.97G     0.2718     0.1889     0.8017         31        480: 1\n",
      "                 Class     Images  Instances      Box(P          R      mAP50  m\n",
      "                   all        911       8984      0.814      0.899      0.869      0.765\n",
      "\n",
      "      Epoch    GPU_mem   box_loss   cls_loss   dfl_loss  Instances       Size\n",
      "     85/100      3.95G     0.2674     0.1892     0.8021          5        480: 1\n",
      "                 Class     Images  Instances      Box(P          R      mAP50  m\n",
      "                   all        911       8984       0.82      0.898       0.87      0.766\n",
      "\n",
      "      Epoch    GPU_mem   box_loss   cls_loss   dfl_loss  Instances       Size\n",
      "     86/100      3.94G     0.2673     0.1881     0.8017         12        480: 1\n",
      "                 Class     Images  Instances      Box(P          R      mAP50  m\n",
      "                   all        911       8984      0.819      0.899       0.87       0.77\n",
      "\n",
      "      Epoch    GPU_mem   box_loss   cls_loss   dfl_loss  Instances       Size\n",
      "     87/100      3.96G      0.264      0.186     0.8011          6        480: 1\n",
      "                 Class     Images  Instances      Box(P          R      mAP50  m\n",
      "                   all        911       8984      0.813      0.899      0.871      0.766\n",
      "\n",
      "      Epoch    GPU_mem   box_loss   cls_loss   dfl_loss  Instances       Size\n",
      "     88/100      4.01G     0.2637     0.1851     0.8011         13        480: 1\n",
      "                 Class     Images  Instances      Box(P          R      mAP50  m\n",
      "                   all        911       8984      0.818      0.899      0.909       0.79\n",
      "\n",
      "      Epoch    GPU_mem   box_loss   cls_loss   dfl_loss  Instances       Size\n",
      "     89/100      3.95G     0.2601     0.1822     0.8008         41        480: 1\n",
      "                 Class     Images  Instances      Box(P          R      mAP50  m\n",
      "                   all        911       8984      0.844      0.898       0.91      0.798\n",
      "\n",
      "      Epoch    GPU_mem   box_loss   cls_loss   dfl_loss  Instances       Size\n",
      "     90/100      4.07G     0.2589     0.1839     0.8002         15        480: 1\n",
      "                 Class     Images  Instances      Box(P          R      mAP50  m\n",
      "                   all        911       8984      0.848      0.898       0.91      0.799\n",
      "Closing dataloader mosaic\n",
      "\n",
      "      Epoch    GPU_mem   box_loss   cls_loss   dfl_loss  Instances       Size\n",
      "     91/100      3.97G     0.3368     0.1925     0.7822          5        480: 1\n",
      "                 Class     Images  Instances      Box(P          R      mAP50  m\n",
      "                   all        911       8984      0.831      0.901       0.91      0.796\n",
      "\n",
      "      Epoch    GPU_mem   box_loss   cls_loss   dfl_loss  Instances       Size\n",
      "     92/100      3.96G     0.3227     0.1892     0.7784         12        480: 1\n",
      "                 Class     Images  Instances      Box(P          R      mAP50  m\n",
      "                   all        911       8984      0.825      0.901       0.91      0.791\n",
      "\n",
      "      Epoch    GPU_mem   box_loss   cls_loss   dfl_loss  Instances       Size\n",
      "     93/100      3.95G     0.3148     0.1843     0.7794         18        480: 1\n",
      "                 Class     Images  Instances      Box(P          R      mAP50  m\n",
      "                   all        911       8984      0.827      0.901      0.909      0.793\n",
      "\n",
      "      Epoch    GPU_mem   box_loss   cls_loss   dfl_loss  Instances       Size\n",
      "     94/100      3.95G     0.3093     0.1829     0.7803         20        480: 1\n",
      "                 Class     Images  Instances      Box(P          R      mAP50  m\n",
      "                   all        911       8984      0.983      0.812      0.909      0.788\n",
      "\n",
      "      Epoch    GPU_mem   box_loss   cls_loss   dfl_loss  Instances       Size\n",
      "     95/100      3.97G     0.3027     0.1797      0.777          8        480: 1\n",
      "                 Class     Images  Instances      Box(P          R      mAP50  m\n",
      "                   all        911       8984       0.81      0.902      0.909      0.788\n",
      "\n",
      "      Epoch    GPU_mem   box_loss   cls_loss   dfl_loss  Instances       Size\n",
      "     96/100      3.95G        0.3     0.1766      0.779          8        480: 1\n",
      "                 Class     Images  Instances      Box(P          R      mAP50  m\n",
      "                   all        911       8984      0.804      0.902      0.871      0.777\n",
      "\n",
      "      Epoch    GPU_mem   box_loss   cls_loss   dfl_loss  Instances       Size\n",
      "     97/100      3.95G     0.3034     0.1811      0.781          4        480: 1\n",
      "                 Class     Images  Instances      Box(P          R      mAP50  m\n",
      "                   all        911       8984      0.803      0.902      0.871       0.78\n",
      "\n",
      "      Epoch    GPU_mem   box_loss   cls_loss   dfl_loss  Instances       Size\n",
      "     98/100      3.94G     0.2964     0.1732     0.7772          4        480: 1\n",
      "                 Class     Images  Instances      Box(P          R      mAP50  m\n",
      "                   all        911       8984      0.804      0.902      0.871       0.78\n",
      "\n",
      "      Epoch    GPU_mem   box_loss   cls_loss   dfl_loss  Instances       Size\n",
      "     99/100      3.96G     0.2927     0.1717     0.7789          6        480: 1\n",
      "                 Class     Images  Instances      Box(P          R      mAP50  m\n",
      "                   all        911       8984      0.809      0.902      0.871      0.782\n",
      "\n",
      "      Epoch    GPU_mem   box_loss   cls_loss   dfl_loss  Instances       Size\n",
      "    100/100      3.95G     0.2895     0.1686     0.7781          9        480: 1\n",
      "                 Class     Images  Instances      Box(P          R      mAP50  m\n",
      "                   all        911       8984      0.817      0.902      0.871       0.78\n",
      "\n",
      "100 epochs completed in 1.711 hours.\n",
      "Optimizer stripped from runs/detect/train32/weights/last.pt, 52.0MB\n",
      "Optimizer stripped from runs/detect/train32/weights/best.pt, 52.0MB\n",
      "\n",
      "Validating runs/detect/train32/weights/best.pt...\n",
      "Ultralytics YOLOv8.0.132 🚀 Python-3.8.10 torch-2.0.1+cu117 CUDA:0 (NVIDIA GeForce RTX 3090, 24575MiB)\n",
      "Model summary (fused): 218 layers, 25851340 parameters, 0 gradients\n",
      "                 Class     Images  Instances      Box(P          R      mAP50  m\n",
      "                   all        911       8984      0.848      0.898       0.91      0.799\n",
      "        typo_price_num        911       2835      0.995      0.798      0.918      0.699\n",
      "           image_photo        911       1502      0.991          1      0.994      0.994\n",
      "         image_colorBG        911        225      0.954          1      0.995      0.975\n",
      "        image_removeBG        911        749      0.996      0.995      0.995      0.991\n",
      "       icon_arrow_left        911          1          0          0          0          0\n",
      "      icon_arrow_right        911          1      0.777          1      0.995      0.597\n",
      "       icon_video_play        911          7      0.901          1      0.995      0.922\n",
      "        icon_SNS_insta        911          4      0.837          1      0.995      0.925\n",
      "      icon_SNS_youtube        911          6      0.885          1      0.995      0.956\n",
      "            btn_radius        911         49      0.939      0.959      0.988      0.855\n",
      "           btn_ellipse        911          7        0.9          1      0.995      0.695\n",
      "            btn_square        911         44      0.862          1      0.992      0.934\n",
      "             typo_text        911       3554      0.987      0.926      0.969      0.843\n",
      "Speed: 0.1ms preprocess, 2.1ms inference, 0.0ms loss, 0.7ms postprocess per image\n",
      "Results saved to \u001b[1mruns/detect/train32\u001b[0m\n"
     ]
    }
   ],
   "source": [
    "!yolo detect train model=yolov8m.pt data=/tf/notebook/datasetsprice/data.yaml epochs=100 batch=16 imgsz=480 lr0=0.005"
   ]
  },
  {
   "cell_type": "code",
   "execution_count": null,
   "id": "e612ba2f",
   "metadata": {},
   "outputs": [],
   "source": [
    "!yolo predict model=/tf/notebook/runs/detect/train61/weights/last.pt source=/tf/notebook/test_024.png conf=0.1 iou=0.1"
   ]
  },
  {
   "cell_type": "code",
   "execution_count": null,
   "id": "ad9b9789",
   "metadata": {},
   "outputs": [
    {
     "name": "stdout",
     "output_type": "stream",
     "text": [
      "Aborted\r\n"
     ]
    }
   ],
   "source": [
    "!yolo detect train model=yolov8l.pt data=/tf/notebook/datasets/data.yaml epochs=100 batch=128 imgsz=640 lr0=0.005"
   ]
  },
  {
   "cell_type": "code",
   "execution_count": null,
   "id": "72e2f387",
   "metadata": {},
   "outputs": [
    {
     "name": "stderr",
     "output_type": "stream",
     "text": [
      "     26/100      5.85G     0.3548     0.2675      0.831         91        480: 100%|██████████| 568/568 [01:36<00:00,  5.87it/s]\n",
      "                 Class     Images  Instances      Box(P          R      mAP50  mAP50-95): 100%|██████████| 36/36 [00:09<00:00,  3.91it/s]\n",
      "                   all       1130       9998      0.819      0.899      0.883       0.72\n",
      "\n",
      "      Epoch    GPU_mem   box_loss   cls_loss   dfl_loss  Instances       Size\n",
      "     27/100      5.79G      0.354     0.2633     0.8298         91        480: 100%|██████████| 568/568 [01:37<00:00,  5.83it/s]\n",
      "                 Class     Images  Instances      Box(P          R      mAP50  mAP50-95): 100%|██████████| 36/36 [00:09<00:00,  3.87it/s]\n",
      "                   all       1130       9998      0.882      0.891      0.908      0.756\n",
      "\n",
      "      Epoch    GPU_mem   box_loss   cls_loss   dfl_loss  Instances       Size\n",
      "     28/100      5.83G     0.3506     0.2627     0.8275         88        480: 100%|██████████| 568/568 [01:37<00:00,  5.84it/s]\n",
      "                 Class     Images  Instances      Box(P          R      mAP50  mAP50-95): 100%|██████████| 36/36 [00:09<00:00,  3.91it/s]\n",
      "                   all       1130       9998      0.816      0.916      0.917      0.774\n",
      "\n",
      "      Epoch    GPU_mem   box_loss   cls_loss   dfl_loss  Instances       Size\n",
      "     29/100      5.79G     0.3463     0.2586     0.8277         83        480: 100%|██████████| 568/568 [01:37<00:00,  5.83it/s]\n",
      "                 Class     Images  Instances      Box(P          R      mAP50  mAP50-95): 100%|██████████| 36/36 [00:09<00:00,  3.89it/s]\n",
      "                   all       1130       9998      0.919      0.894      0.943       0.79\n",
      "\n",
      "      Epoch    GPU_mem   box_loss   cls_loss   dfl_loss  Instances       Size\n",
      "     30/100      5.91G     0.3423     0.2578     0.8278        138        480: 100%|██████████| 568/568 [01:39<00:00,  5.73it/s]\n",
      "                 Class     Images  Instances      Box(P          R      mAP50  mAP50-95): 100%|██████████| 36/36 [00:09<00:00,  3.61it/s]\n",
      "                   all       1130       9998      0.933      0.896       0.94      0.796\n",
      "\n",
      "      Epoch    GPU_mem   box_loss   cls_loss   dfl_loss  Instances       Size\n",
      "     31/100      5.86G     0.3371     0.2519     0.8258         86        480: 100%|██████████| 568/568 [01:37<00:00,  5.81it/s]\n",
      "                 Class     Images  Instances      Box(P          R      mAP50  mAP50-95): 100%|██████████| 36/36 [00:09<00:00,  3.92it/s]\n",
      "                   all       1130       9998      0.877      0.928      0.928      0.773\n",
      "\n",
      "      Epoch    GPU_mem   box_loss   cls_loss   dfl_loss  Instances       Size\n",
      "     32/100      5.89G     0.3379     0.2526     0.8252         63        480: 100%|██████████| 568/568 [01:37<00:00,  5.82it/s]\n",
      "                 Class     Images  Instances      Box(P          R      mAP50  mAP50-95): 100%|██████████| 36/36 [00:09<00:00,  3.88it/s]\n",
      "                   all       1130       9998      0.899      0.912      0.926      0.771\n",
      "\n",
      "      Epoch    GPU_mem   box_loss   cls_loss   dfl_loss  Instances       Size\n",
      "     33/100       5.8G     0.3322      0.248     0.8242         79        480: 100%|██████████| 568/568 [01:36<00:00,  5.86it/s]\n",
      "                 Class     Images  Instances      Box(P          R      mAP50  mAP50-95): 100%|██████████| 36/36 [00:09<00:00,  3.95it/s]\n",
      "                   all       1130       9998      0.891      0.921      0.941      0.795\n",
      "\n",
      "      Epoch    GPU_mem   box_loss   cls_loss   dfl_loss  Instances       Size\n",
      "     34/100      5.94G     0.3283     0.2452     0.8232         81        480: 100%|██████████| 568/568 [01:36<00:00,  5.86it/s]\n",
      "                 Class     Images  Instances      Box(P          R      mAP50  mAP50-95): 100%|██████████| 36/36 [00:09<00:00,  3.89it/s]\n",
      "                   all       1130       9998       0.92      0.933      0.948      0.805\n",
      "\n",
      "      Epoch    GPU_mem   box_loss   cls_loss   dfl_loss  Instances       Size\n",
      "     35/100      5.82G     0.3293     0.2445     0.8214         90        480: 100%|██████████| 568/568 [01:36<00:00,  5.90it/s]\n",
      "                 Class     Images  Instances      Box(P          R      mAP50  mAP50-95): 100%|██████████| 36/36 [00:09<00:00,  3.68it/s]\n",
      "                   all       1130       9998       0.94      0.889      0.945      0.811\n",
      "\n",
      "      Epoch    GPU_mem   box_loss   cls_loss   dfl_loss  Instances       Size\n",
      "     36/100       5.8G     0.3276     0.2433      0.823         78        480: 100%|██████████| 568/568 [01:36<00:00,  5.88it/s]\n",
      "                 Class     Images  Instances      Box(P          R      mAP50  mAP50-95): 100%|██████████| 36/36 [00:09<00:00,  3.87it/s]\n",
      "                   all       1130       9998      0.931      0.878      0.948      0.813\n",
      "\n",
      "      Epoch    GPU_mem   box_loss   cls_loss   dfl_loss  Instances       Size\n",
      "     37/100      5.89G     0.3207     0.2394     0.8207        114        480: 100%|██████████| 568/568 [01:36<00:00,  5.86it/s]\n",
      "                 Class     Images  Instances      Box(P          R      mAP50  mAP50-95): 100%|██████████| 36/36 [00:09<00:00,  3.85it/s]\n",
      "                   all       1130       9998      0.917       0.89      0.948      0.804\n",
      "\n",
      "      Epoch    GPU_mem   box_loss   cls_loss   dfl_loss  Instances       Size\n",
      "     38/100      5.79G     0.3201      0.237     0.8205        108        480: 100%|██████████| 568/568 [01:36<00:00,  5.89it/s]\n",
      "                 Class     Images  Instances      Box(P          R      mAP50  mAP50-95): 100%|██████████| 36/36 [00:09<00:00,  3.94it/s]\n",
      "                   all       1130       9998      0.932      0.905      0.949      0.811\n",
      "\n",
      "      Epoch    GPU_mem   box_loss   cls_loss   dfl_loss  Instances       Size\n",
      "     39/100      5.86G     0.3162     0.2356     0.8192        127        480: 100%|██████████| 568/568 [01:37<00:00,  5.83it/s]\n",
      "                 Class     Images  Instances      Box(P          R      mAP50  mAP50-95): 100%|██████████| 36/36 [00:09<00:00,  3.88it/s]\n",
      "                   all       1130       9998      0.934       0.93      0.951      0.819\n",
      "\n",
      "      Epoch    GPU_mem   box_loss   cls_loss   dfl_loss  Instances       Size\n",
      "     40/100      5.78G     0.3138     0.2339       0.82         87        480: 100%|██████████| 568/568 [01:37<00:00,  5.81it/s]\n",
      "                 Class     Images  Instances      Box(P          R      mAP50  mAP50-95): 100%|██████████| 36/36 [00:09<00:00,  3.83it/s]\n",
      "                   all       1130       9998      0.916      0.907      0.951      0.826\n",
      "\n",
      "      Epoch    GPU_mem   box_loss   cls_loss   dfl_loss  Instances       Size\n",
      "     41/100      5.85G     0.3117      0.232     0.8191         58        480: 100%|██████████| 568/568 [01:37<00:00,  5.80it/s]\n",
      "                 Class     Images  Instances      Box(P          R      mAP50  mAP50-95): 100%|██████████| 36/36 [00:09<00:00,  3.88it/s]\n",
      "                   all       1130       9998      0.929      0.918      0.949       0.81\n",
      "\n",
      "      Epoch    GPU_mem   box_loss   cls_loss   dfl_loss  Instances       Size\n",
      "     42/100      5.93G     0.3109     0.2316     0.8179        137        480: 100%|██████████| 568/568 [01:38<00:00,  5.75it/s]\n",
      "                 Class     Images  Instances      Box(P          R      mAP50  mAP50-95): 100%|██████████| 36/36 [00:09<00:00,  3.76it/s]\n",
      "                   all       1130       9998      0.896      0.907      0.951      0.825\n",
      "\n",
      "      Epoch    GPU_mem   box_loss   cls_loss   dfl_loss  Instances       Size\n",
      "     43/100      5.79G     0.3085     0.2284     0.8184        122        480: 100%|██████████| 568/568 [01:38<00:00,  5.79it/s]\n",
      "                 Class     Images  Instances      Box(P          R      mAP50  mAP50-95): 100%|██████████| 36/36 [00:09<00:00,  3.95it/s]\n",
      "                   all       1130       9998      0.902      0.889      0.947      0.828\n",
      "\n",
      "      Epoch    GPU_mem   box_loss   cls_loss   dfl_loss  Instances       Size\n",
      "     44/100      5.84G     0.3044     0.2255     0.8151         88        480: 100%|██████████| 568/568 [01:36<00:00,  5.90it/s]\n",
      "                 Class     Images  Instances      Box(P          R      mAP50  mAP50-95): 100%|██████████| 36/36 [00:09<00:00,  3.96it/s]\n",
      "                   all       1130       9998      0.905      0.928      0.952      0.824\n",
      "\n",
      "      Epoch    GPU_mem   box_loss   cls_loss   dfl_loss  Instances       Size\n"
     ]
    },
    {
     "name": "stderr",
     "output_type": "stream",
     "text": [
      "     45/100      5.84G     0.3016     0.2243     0.8173        104        480: 100%|██████████| 568/568 [01:35<00:00,  5.97it/s]\n",
      "                 Class     Images  Instances      Box(P          R      mAP50  mAP50-95): 100%|██████████| 36/36 [00:09<00:00,  3.97it/s]\n",
      "                   all       1130       9998       0.89       0.93      0.942      0.817\n",
      "\n",
      "      Epoch    GPU_mem   box_loss   cls_loss   dfl_loss  Instances       Size\n",
      "     46/100      5.79G     0.3014     0.2244     0.8177         98        480: 100%|██████████| 568/568 [01:34<00:00,  6.00it/s]\n",
      "                 Class     Images  Instances      Box(P          R      mAP50  mAP50-95): 100%|██████████| 36/36 [00:08<00:00,  4.01it/s]\n",
      "                   all       1130       9998      0.923      0.924      0.959      0.837\n",
      "\n",
      "      Epoch    GPU_mem   box_loss   cls_loss   dfl_loss  Instances       Size\n",
      "     47/100      5.84G     0.3006     0.2237     0.8171         61        480: 100%|██████████| 568/568 [01:35<00:00,  5.97it/s]\n",
      "                 Class     Images  Instances      Box(P          R      mAP50  mAP50-95): 100%|██████████| 36/36 [00:09<00:00,  3.97it/s]\n",
      "                   all       1130       9998      0.924      0.923      0.953      0.828\n",
      "\n",
      "      Epoch    GPU_mem   box_loss   cls_loss   dfl_loss  Instances       Size\n",
      "     48/100      5.84G     0.2954      0.221     0.8177        109        480: 100%|██████████| 568/568 [01:34<00:00,  5.99it/s]\n",
      "                 Class     Images  Instances      Box(P          R      mAP50  mAP50-95): 100%|██████████| 36/36 [00:09<00:00,  3.97it/s]\n",
      "                   all       1130       9998      0.945      0.934      0.953      0.838\n",
      "\n",
      "      Epoch    GPU_mem   box_loss   cls_loss   dfl_loss  Instances       Size\n",
      "     49/100      5.82G     0.2962     0.2194     0.8168         76        480: 100%|██████████| 568/568 [01:36<00:00,  5.88it/s]\n",
      "                 Class     Images  Instances      Box(P          R      mAP50  mAP50-95): 100%|██████████| 36/36 [00:09<00:00,  3.89it/s]\n",
      "                   all       1130       9998      0.939      0.926      0.945      0.834\n",
      "\n",
      "      Epoch    GPU_mem   box_loss   cls_loss   dfl_loss  Instances       Size\n",
      "     50/100      5.88G     0.2923     0.2168     0.8136        133        480: 100%|██████████| 568/568 [01:38<00:00,  5.75it/s]\n",
      "                 Class     Images  Instances      Box(P          R      mAP50  mAP50-95): 100%|██████████| 36/36 [00:09<00:00,  3.91it/s]\n",
      "                   all       1130       9998      0.936       0.92      0.953      0.842\n",
      "\n",
      "      Epoch    GPU_mem   box_loss   cls_loss   dfl_loss  Instances       Size\n",
      "     51/100      5.87G     0.2901     0.2146     0.8146         63        480: 100%|██████████| 568/568 [01:38<00:00,  5.76it/s]\n",
      "                 Class     Images  Instances      Box(P          R      mAP50  mAP50-95): 100%|██████████| 36/36 [00:11<00:00,  3.16it/s]\n",
      "                   all       1130       9998      0.951      0.926       0.96      0.849\n",
      "\n",
      "      Epoch    GPU_mem   box_loss   cls_loss   dfl_loss  Instances       Size\n",
      "     52/100      5.85G     0.2894     0.2152     0.8164        120        480: 100%|██████████| 568/568 [01:39<00:00,  5.73it/s]\n",
      "                 Class     Images  Instances      Box(P          R      mAP50  mAP50-95): 100%|██████████| 36/36 [00:09<00:00,  3.88it/s]\n",
      "                   all       1130       9998      0.956      0.922      0.956      0.847\n",
      "\n",
      "      Epoch    GPU_mem   box_loss   cls_loss   dfl_loss  Instances       Size\n",
      "     53/100       5.8G     0.2879     0.2145     0.8143         55        480: 100%|██████████| 568/568 [01:37<00:00,  5.83it/s]\n",
      "                 Class     Images  Instances      Box(P          R      mAP50  mAP50-95): 100%|██████████| 36/36 [00:09<00:00,  3.91it/s]\n",
      "                   all       1130       9998      0.965      0.908      0.958      0.856\n",
      "\n",
      "      Epoch    GPU_mem   box_loss   cls_loss   dfl_loss  Instances       Size\n",
      "     54/100      5.83G     0.2901     0.2143     0.8149        117        480: 100%|██████████| 568/568 [01:38<00:00,  5.79it/s]\n",
      "                 Class     Images  Instances      Box(P          R      mAP50  mAP50-95): 100%|██████████| 36/36 [00:09<00:00,  3.90it/s]\n",
      "                   all       1130       9998      0.952      0.926      0.959      0.848\n",
      "\n",
      "      Epoch    GPU_mem   box_loss   cls_loss   dfl_loss  Instances       Size\n",
      "     55/100      5.82G     0.2862     0.2141     0.8136         66        480: 100%|██████████| 568/568 [01:38<00:00,  5.77it/s]\n",
      "                 Class     Images  Instances      Box(P          R      mAP50  mAP50-95): 100%|██████████| 36/36 [00:09<00:00,  3.86it/s]\n",
      "                   all       1130       9998       0.96      0.923      0.962      0.842\n",
      "\n",
      "      Epoch    GPU_mem   box_loss   cls_loss   dfl_loss  Instances       Size\n",
      "     56/100      5.78G      0.282     0.2109     0.8116         77        480: 100%|██████████| 568/568 [01:37<00:00,  5.80it/s]\n",
      "                 Class     Images  Instances      Box(P          R      mAP50  mAP50-95): 100%|██████████| 36/36 [00:09<00:00,  3.89it/s]\n",
      "                   all       1130       9998      0.956      0.929      0.953      0.847\n",
      "\n",
      "      Epoch    GPU_mem   box_loss   cls_loss   dfl_loss  Instances       Size\n",
      "     57/100      5.83G     0.2797     0.2078     0.8122        110        480: 100%|██████████| 568/568 [01:37<00:00,  5.80it/s]\n",
      "                 Class     Images  Instances      Box(P          R      mAP50  mAP50-95): 100%|██████████| 36/36 [00:09<00:00,  3.90it/s]\n",
      "                   all       1130       9998      0.955      0.932      0.961      0.842\n",
      "\n",
      "      Epoch    GPU_mem   box_loss   cls_loss   dfl_loss  Instances       Size\n",
      "     58/100      5.88G     0.2796     0.2076      0.812         96        480: 100%|██████████| 568/568 [01:37<00:00,  5.80it/s]\n",
      "                 Class     Images  Instances      Box(P          R      mAP50  mAP50-95): 100%|██████████| 36/36 [00:09<00:00,  3.89it/s]\n",
      "                   all       1130       9998      0.972      0.925      0.965      0.844\n",
      "\n",
      "      Epoch    GPU_mem   box_loss   cls_loss   dfl_loss  Instances       Size\n",
      "     59/100      5.88G     0.2789     0.2052     0.8095        102        480: 100%|██████████| 568/568 [01:37<00:00,  5.85it/s]\n",
      "                 Class     Images  Instances      Box(P          R      mAP50  mAP50-95): 100%|██████████| 36/36 [00:09<00:00,  3.92it/s]\n",
      "                   all       1130       9998      0.964      0.927      0.965      0.847\n",
      "\n",
      "      Epoch    GPU_mem   box_loss   cls_loss   dfl_loss  Instances       Size\n",
      "     60/100      5.83G     0.2758     0.2048     0.8094         72        480: 100%|██████████| 568/568 [01:37<00:00,  5.83it/s]\n",
      "                 Class     Images  Instances      Box(P          R      mAP50  mAP50-95): 100%|██████████| 36/36 [00:09<00:00,  3.91it/s]\n",
      "                   all       1130       9998      0.973      0.931      0.961      0.852\n",
      "\n",
      "      Epoch    GPU_mem   box_loss   cls_loss   dfl_loss  Instances       Size\n",
      "     61/100       5.8G     0.2737     0.2031     0.8108         59        480: 100%|██████████| 568/568 [01:37<00:00,  5.80it/s]\n",
      "                 Class     Images  Instances      Box(P          R      mAP50  mAP50-95): 100%|██████████| 36/36 [00:09<00:00,  3.89it/s]\n",
      "                   all       1130       9998      0.957      0.937      0.961      0.857\n",
      "\n",
      "      Epoch    GPU_mem   box_loss   cls_loss   dfl_loss  Instances       Size\n",
      "     62/100      5.79G     0.2728      0.202     0.8107         98        480: 100%|██████████| 568/568 [01:38<00:00,  5.76it/s]\n",
      "                 Class     Images  Instances      Box(P          R      mAP50  mAP50-95): 100%|██████████| 36/36 [00:09<00:00,  3.90it/s]\n",
      "                   all       1130       9998       0.95      0.933       0.96       0.86\n",
      "\n",
      "      Epoch    GPU_mem   box_loss   cls_loss   dfl_loss  Instances       Size\n",
      "     63/100      5.89G     0.2695     0.1991      0.809         79        480: 100%|██████████| 568/568 [01:38<00:00,  5.78it/s]\n",
      "                 Class     Images  Instances      Box(P          R      mAP50  mAP50-95): 100%|██████████| 36/36 [00:09<00:00,  3.89it/s]\n",
      "                   all       1130       9998      0.952      0.932      0.958      0.856\n",
      "\n",
      "      Epoch    GPU_mem   box_loss   cls_loss   dfl_loss  Instances       Size\n"
     ]
    },
    {
     "name": "stderr",
     "output_type": "stream",
     "text": [
      "     64/100      5.83G        inf     0.1972     0.8093         58        480: 100%|██████████| 568/568 [01:37<00:00,  5.80it/s]\n",
      "                 Class     Images  Instances      Box(P          R      mAP50  mAP50-95): 100%|██████████| 36/36 [00:09<00:00,  3.88it/s]\n",
      "                   all       1130       9998      0.954      0.929      0.958      0.858\n",
      "\n",
      "      Epoch    GPU_mem   box_loss   cls_loss   dfl_loss  Instances       Size\n",
      "     65/100      5.85G     0.2662     0.1974     0.8107        112        480: 100%|██████████| 568/568 [01:37<00:00,  5.80it/s]\n",
      "                 Class     Images  Instances      Box(P          R      mAP50  mAP50-95): 100%|██████████| 36/36 [00:09<00:00,  3.89it/s]\n",
      "                   all       1130       9998      0.967      0.927      0.964      0.863\n",
      "\n",
      "      Epoch    GPU_mem   box_loss   cls_loss   dfl_loss  Instances       Size\n",
      "     66/100      5.87G     0.2664     0.1975     0.8102         60        480: 100%|██████████| 568/568 [01:37<00:00,  5.82it/s]\n",
      "                 Class     Images  Instances      Box(P          R      mAP50  mAP50-95): 100%|██████████| 36/36 [00:09<00:00,  3.96it/s]\n",
      "                   all       1130       9998       0.96      0.934      0.965      0.856\n",
      "\n",
      "      Epoch    GPU_mem   box_loss   cls_loss   dfl_loss  Instances       Size\n",
      "     67/100       5.8G     0.2627     0.1951     0.8082         74        480: 100%|██████████| 568/568 [01:38<00:00,  5.79it/s]\n",
      "                 Class     Images  Instances      Box(P          R      mAP50  mAP50-95): 100%|██████████| 36/36 [00:09<00:00,  3.91it/s]\n",
      "                   all       1130       9998      0.956      0.937      0.968      0.862\n",
      "\n",
      "      Epoch    GPU_mem   box_loss   cls_loss   dfl_loss  Instances       Size\n",
      "     68/100      5.88G     0.2611     0.1935     0.8081        115        480: 100%|██████████| 568/568 [01:37<00:00,  5.81it/s]\n",
      "                 Class     Images  Instances      Box(P          R      mAP50  mAP50-95): 100%|██████████| 36/36 [00:09<00:00,  3.93it/s]\n",
      "                   all       1130       9998      0.955      0.939      0.963      0.861\n",
      "\n",
      "      Epoch    GPU_mem   box_loss   cls_loss   dfl_loss  Instances       Size\n",
      "     69/100       5.8G     0.2588     0.1912     0.8076         63        480: 100%|██████████| 568/568 [01:37<00:00,  5.82it/s]\n",
      "                 Class     Images  Instances      Box(P          R      mAP50  mAP50-95): 100%|██████████| 36/36 [00:09<00:00,  3.90it/s]\n",
      "                   all       1130       9998      0.957      0.935       0.96      0.869\n",
      "\n",
      "      Epoch    GPU_mem   box_loss   cls_loss   dfl_loss  Instances       Size\n",
      "     70/100      5.79G     0.2584     0.1898     0.8078        118        480: 100%|██████████| 568/568 [01:38<00:00,  5.76it/s]\n",
      "                 Class     Images  Instances      Box(P          R      mAP50  mAP50-95): 100%|██████████| 36/36 [00:09<00:00,  3.94it/s]\n",
      "                   all       1130       9998      0.957      0.939      0.971      0.865\n",
      "\n",
      "      Epoch    GPU_mem   box_loss   cls_loss   dfl_loss  Instances       Size\n",
      "     71/100      5.79G     0.2584     0.1898     0.8078        104        480: 100%|██████████| 568/568 [01:37<00:00,  5.82it/s]\n",
      "                 Class     Images  Instances      Box(P          R      mAP50  mAP50-95): 100%|██████████| 36/36 [00:09<00:00,  3.94it/s]\n",
      "                   all       1130       9998       0.96      0.942      0.976      0.869\n",
      "\n",
      "      Epoch    GPU_mem   box_loss   cls_loss   dfl_loss  Instances       Size\n",
      "     72/100      5.83G     0.2536     0.1868     0.8074         71        480: 100%|██████████| 568/568 [01:37<00:00,  5.82it/s]\n",
      "                 Class     Images  Instances      Box(P          R      mAP50  mAP50-95): 100%|██████████| 36/36 [00:09<00:00,  3.92it/s]\n",
      "                   all       1130       9998      0.961      0.938      0.967      0.867\n",
      "\n",
      "      Epoch    GPU_mem   box_loss   cls_loss   dfl_loss  Instances       Size\n",
      "     73/100      5.79G     0.2527     0.1857     0.8077         77        480: 100%|██████████| 568/568 [01:36<00:00,  5.89it/s]\n",
      "                 Class     Images  Instances      Box(P          R      mAP50  mAP50-95): 100%|██████████| 36/36 [00:10<00:00,  3.49it/s]\n",
      "                   all       1130       9998      0.967      0.933      0.967      0.864\n",
      "\n",
      "      Epoch    GPU_mem   box_loss   cls_loss   dfl_loss  Instances       Size\n",
      "     74/100      5.85G     0.2493     0.1846     0.8063         91        480: 100%|██████████| 568/568 [01:37<00:00,  5.80it/s]\n",
      "                 Class     Images  Instances      Box(P          R      mAP50  mAP50-95): 100%|██████████| 36/36 [00:09<00:00,  3.88it/s]\n",
      "                   all       1130       9998      0.962      0.935      0.966       0.87\n",
      "\n",
      "      Epoch    GPU_mem   box_loss   cls_loss   dfl_loss  Instances       Size\n",
      "     75/100      5.83G     0.2501      0.185      0.807        149        480: 100%|██████████| 568/568 [01:37<00:00,  5.80it/s]\n",
      "                 Class     Images  Instances      Box(P          R      mAP50  mAP50-95): 100%|██████████| 36/36 [00:09<00:00,  3.79it/s]\n",
      "                   all       1130       9998      0.969      0.931      0.965      0.872\n",
      "\n",
      "      Epoch    GPU_mem   box_loss   cls_loss   dfl_loss  Instances       Size\n",
      "     76/100      5.79G     0.2479     0.1829     0.8067         71        480: 100%|██████████| 568/568 [01:37<00:00,  5.81it/s]\n",
      "                 Class     Images  Instances      Box(P          R      mAP50  mAP50-95): 100%|██████████| 36/36 [00:09<00:00,  3.92it/s]\n",
      "                   all       1130       9998      0.965      0.934      0.965      0.875\n",
      "\n",
      "      Epoch    GPU_mem   box_loss   cls_loss   dfl_loss  Instances       Size\n",
      "     77/100       5.8G     0.2454     0.1799     0.8054         98        480: 100%|██████████| 568/568 [01:36<00:00,  5.90it/s]\n",
      "                 Class     Images  Instances      Box(P          R      mAP50  mAP50-95): 100%|██████████| 36/36 [00:09<00:00,  3.94it/s]\n",
      "                   all       1130       9998       0.97      0.934      0.964      0.873\n",
      "\n",
      "      Epoch    GPU_mem   box_loss   cls_loss   dfl_loss  Instances       Size\n",
      "     78/100      5.89G     0.2445     0.1805     0.8056         81        480: 100%|██████████| 568/568 [01:34<00:00,  6.04it/s]\n",
      "                 Class     Images  Instances      Box(P          R      mAP50  mAP50-95): 100%|██████████| 36/36 [00:09<00:00,  3.68it/s]\n",
      "                   all       1130       9998      0.973      0.935      0.966      0.874\n",
      "\n",
      "      Epoch    GPU_mem   box_loss   cls_loss   dfl_loss  Instances       Size\n",
      "     79/100      5.82G     0.2436     0.1799     0.8055         90        480: 100%|██████████| 568/568 [01:34<00:00,  6.03it/s]\n",
      "                 Class     Images  Instances      Box(P          R      mAP50  mAP50-95): 100%|██████████| 36/36 [00:08<00:00,  4.00it/s]\n",
      "                   all       1130       9998      0.975      0.934      0.966      0.878\n",
      "\n",
      "      Epoch    GPU_mem   box_loss   cls_loss   dfl_loss  Instances       Size\n",
      "     80/100       5.8G     0.2404     0.1765     0.8043         77        480: 100%|██████████| 568/568 [01:34<00:00,  6.00it/s]\n",
      "                 Class     Images  Instances      Box(P          R      mAP50  mAP50-95): 100%|██████████| 36/36 [00:09<00:00,  3.99it/s]\n",
      "                   all       1130       9998      0.974      0.933      0.966      0.879\n",
      "\n",
      "      Epoch    GPU_mem   box_loss   cls_loss   dfl_loss  Instances       Size\n",
      "     81/100      5.84G     0.2389     0.1753      0.804        115        480: 100%|██████████| 568/568 [01:34<00:00,  6.04it/s]\n",
      "                 Class     Images  Instances      Box(P          R      mAP50  mAP50-95): 100%|██████████| 36/36 [00:08<00:00,  4.03it/s]\n",
      "                   all       1130       9998      0.974      0.935      0.973       0.88\n",
      "\n",
      "      Epoch    GPU_mem   box_loss   cls_loss   dfl_loss  Instances       Size\n",
      "     82/100      5.84G     0.2383     0.1742     0.8041        110        480: 100%|██████████| 568/568 [01:35<00:00,  5.96it/s]\n",
      "                 Class     Images  Instances      Box(P          R      mAP50  mAP50-95): 100%|██████████| 36/36 [00:08<00:00,  4.01it/s]\n",
      "                   all       1130       9998      0.974      0.933      0.973      0.878\n",
      "\n",
      "      Epoch    GPU_mem   box_loss   cls_loss   dfl_loss  Instances       Size\n"
     ]
    },
    {
     "name": "stderr",
     "output_type": "stream",
     "text": [
      "     83/100      5.78G     0.2353     0.1741     0.8028        132        480: 100%|██████████| 568/568 [01:34<00:00,  6.00it/s]\n",
      "                 Class     Images  Instances      Box(P          R      mAP50  mAP50-95): 100%|██████████| 36/36 [00:09<00:00,  4.00it/s]\n",
      "                   all       1130       9998      0.975      0.934      0.966      0.877\n",
      "\n",
      "      Epoch    GPU_mem   box_loss   cls_loss   dfl_loss  Instances       Size\n",
      "     84/100      5.84G     0.2347     0.1727     0.8032         84        480: 100%|██████████| 568/568 [01:34<00:00,  6.00it/s]\n",
      "                 Class     Images  Instances      Box(P          R      mAP50  mAP50-95): 100%|██████████| 36/36 [00:09<00:00,  3.95it/s]\n",
      "                   all       1130       9998      0.969      0.933      0.967      0.878\n",
      "\n",
      "      Epoch    GPU_mem   box_loss   cls_loss   dfl_loss  Instances       Size\n",
      "     85/100      5.79G     0.2328     0.1703     0.8031         34        480: 100%|██████████| 568/568 [01:35<00:00,  5.96it/s]\n",
      "                 Class     Images  Instances      Box(P          R      mAP50  mAP50-95): 100%|██████████| 36/36 [00:09<00:00,  3.90it/s]\n",
      "                   all       1130       9998      0.973      0.932      0.967      0.876\n",
      "\n",
      "      Epoch    GPU_mem   box_loss   cls_loss   dfl_loss  Instances       Size\n",
      "     86/100      5.83G     0.2316     0.1693     0.8022        106        480: 100%|██████████| 568/568 [01:33<00:00,  6.05it/s]\n",
      "                 Class     Images  Instances      Box(P          R      mAP50  mAP50-95): 100%|██████████| 36/36 [00:09<00:00,  3.84it/s]\n",
      "                   all       1130       9998       0.98      0.934      0.967      0.877\n",
      "\n",
      "      Epoch    GPU_mem   box_loss   cls_loss   dfl_loss  Instances       Size\n",
      "     87/100      5.83G     0.2302     0.1677     0.8023         91        480: 100%|██████████| 568/568 [01:35<00:00,  5.92it/s]\n",
      "                 Class     Images  Instances      Box(P          R      mAP50  mAP50-95): 100%|██████████| 36/36 [00:09<00:00,  3.97it/s]\n",
      "                   all       1130       9998      0.979      0.935      0.967       0.88\n",
      "\n",
      "      Epoch    GPU_mem   box_loss   cls_loss   dfl_loss  Instances       Size\n",
      "     88/100      5.83G     0.2278     0.1669     0.8018         63        480: 100%|██████████| 568/568 [01:34<00:00,  6.00it/s]\n",
      "                 Class     Images  Instances      Box(P          R      mAP50  mAP50-95): 100%|██████████| 36/36 [00:09<00:00,  3.99it/s]\n",
      "                   all       1130       9998       0.98      0.936      0.967       0.88\n",
      "\n",
      "      Epoch    GPU_mem   box_loss   cls_loss   dfl_loss  Instances       Size\n",
      "     89/100      5.89G     0.2268     0.1651     0.8022         65        480: 100%|██████████| 568/568 [01:34<00:00,  5.99it/s]\n",
      "                 Class     Images  Instances      Box(P          R      mAP50  mAP50-95): 100%|██████████| 36/36 [00:09<00:00,  3.99it/s]\n",
      "                   all       1130       9998       0.98      0.936      0.965      0.881\n",
      "\n",
      "      Epoch    GPU_mem   box_loss   cls_loss   dfl_loss  Instances       Size\n",
      "     90/100      5.78G     0.2252     0.1641     0.8013        104        480: 100%|██████████| 568/568 [01:36<00:00,  5.91it/s]\n",
      "                 Class     Images  Instances      Box(P          R      mAP50  mAP50-95): 100%|██████████| 36/36 [00:09<00:00,  3.90it/s]\n",
      "                   all       1130       9998      0.979      0.937      0.973      0.884\n",
      "Closing dataloader mosaic\n",
      "\n",
      "      Epoch    GPU_mem   box_loss   cls_loss   dfl_loss  Instances       Size\n",
      "     91/100      5.72G     0.3011     0.1743      0.783         59        480: 100%|██████████| 568/568 [01:34<00:00,  6.04it/s]\n",
      "                 Class     Images  Instances      Box(P          R      mAP50  mAP50-95): 100%|██████████| 36/36 [00:08<00:00,  4.03it/s]\n",
      "                   all       1130       9998      0.978      0.938      0.973      0.889\n",
      "\n",
      "      Epoch    GPU_mem   box_loss   cls_loss   dfl_loss  Instances       Size\n",
      "     92/100      5.83G     0.2955     0.1721     0.7814         63        480: 100%|██████████| 568/568 [01:35<00:00,  5.92it/s]\n",
      "                 Class     Images  Instances      Box(P          R      mAP50  mAP50-95): 100%|██████████| 36/36 [00:09<00:00,  3.95it/s]\n",
      "                   all       1130       9998      0.981      0.936      0.973      0.888\n",
      "\n",
      "      Epoch    GPU_mem   box_loss   cls_loss   dfl_loss  Instances       Size\n",
      "     93/100      5.73G     0.2921     0.1706     0.7814         21        480: 100%|██████████| 568/568 [01:34<00:00,  6.03it/s]\n",
      "                 Class     Images  Instances      Box(P          R      mAP50  mAP50-95): 100%|██████████| 36/36 [00:08<00:00,  4.03it/s]\n",
      "                   all       1130       9998      0.981      0.937      0.973      0.893\n",
      "\n",
      "      Epoch    GPU_mem   box_loss   cls_loss   dfl_loss  Instances       Size\n",
      "     94/100      5.83G     0.2898     0.1689     0.7799         44        480: 100%|██████████| 568/568 [01:34<00:00,  6.01it/s]\n",
      "                 Class     Images  Instances      Box(P          R      mAP50  mAP50-95): 100%|██████████| 36/36 [00:09<00:00,  4.00it/s]\n",
      "                   all       1130       9998      0.981      0.938      0.975      0.889\n",
      "\n",
      "      Epoch    GPU_mem   box_loss   cls_loss   dfl_loss  Instances       Size\n",
      "     95/100      5.71G     0.2881      0.167     0.7811         35        480: 100%|██████████| 568/568 [01:34<00:00,  6.02it/s]\n",
      "                 Class     Images  Instances      Box(P          R      mAP50  mAP50-95): 100%|██████████| 36/36 [00:08<00:00,  4.02it/s]\n",
      "                   all       1130       9998      0.981      0.937      0.966      0.894\n",
      "\n",
      "      Epoch    GPU_mem   box_loss   cls_loss   dfl_loss  Instances       Size\n",
      "     96/100      5.72G     0.2843     0.1655      0.779         45        480: 100%|██████████| 568/568 [01:34<00:00,  6.00it/s]\n",
      "                 Class     Images  Instances      Box(P          R      mAP50  mAP50-95): 100%|██████████| 36/36 [00:09<00:00,  3.82it/s]\n",
      "                   all       1130       9998      0.981      0.936      0.966      0.893\n",
      "\n",
      "      Epoch    GPU_mem   box_loss   cls_loss   dfl_loss  Instances       Size\n",
      "     97/100      5.73G     0.2811     0.1628     0.7773         27        480: 100%|██████████| 568/568 [01:34<00:00,  5.98it/s]\n",
      "                 Class     Images  Instances      Box(P          R      mAP50  mAP50-95): 100%|██████████| 36/36 [00:09<00:00,  3.90it/s]\n",
      "                   all       1130       9998      0.981      0.936      0.967      0.896\n",
      "\n",
      "      Epoch    GPU_mem   box_loss   cls_loss   dfl_loss  Instances       Size\n",
      "     98/100      5.86G     0.2782     0.1609     0.7784         34        480: 100%|██████████| 568/568 [01:37<00:00,  5.82it/s]\n",
      "                 Class     Images  Instances      Box(P          R      mAP50  mAP50-95): 100%|██████████| 36/36 [00:09<00:00,  3.91it/s]\n",
      "                   all       1130       9998      0.982      0.936      0.967      0.893\n",
      "\n",
      "      Epoch    GPU_mem   box_loss   cls_loss   dfl_loss  Instances       Size\n",
      "     99/100      5.84G     0.2781     0.1604     0.7795         55        480: 100%|██████████| 568/568 [01:37<00:00,  5.84it/s]\n",
      "                 Class     Images  Instances      Box(P          R      mAP50  mAP50-95): 100%|██████████| 36/36 [00:09<00:00,  3.87it/s]\n",
      "                   all       1130       9998      0.983      0.935      0.967      0.898\n",
      "\n",
      "      Epoch    GPU_mem   box_loss   cls_loss   dfl_loss  Instances       Size\n",
      "    100/100      5.84G     0.2751     0.1579     0.7781         55        480: 100%|██████████| 568/568 [01:37<00:00,  5.80it/s]\n",
      "                 Class     Images  Instances      Box(P          R      mAP50  mAP50-95): 100%|██████████| 36/36 [00:14<00:00,  2.46it/s]\n",
      "                   all       1130       9998      0.983      0.934      0.967        0.9\n",
      "\n",
      "100 epochs completed in 3.027 hours.\n",
      "Optimizer stripped from runs/detect/train58/weights/last.pt, 87.6MB\n",
      "Optimizer stripped from runs/detect/train58/weights/best.pt, 87.6MB\n",
      "\n",
      "Validating runs/detect/train58/weights/best.pt...\n",
      "Ultralytics YOLOv8.0.149 🚀 Python-3.8.10 torch-2.0.1+cu117 CUDA:0 (NVIDIA GeForce RTX 3090, 24575MiB)\n",
      "Model summary (fused): 268 layers, 43615089 parameters, 0 gradients\n",
      "                 Class     Images  Instances      Box(P          R      mAP50  mAP50-95): 100%|██████████| 36/36 [00:13<00:00,  2.70it/s]\n",
      "                   all       1130       9998      0.983      0.934      0.967      0.899\n",
      "       typo_text_price       1130       6407      0.996      0.804      0.946      0.812\n",
      "           image_photo       1130       2812      0.994      0.996      0.994      0.994\n",
      "         image_colorBG       1130        101          1      0.961      0.995      0.943\n",
      "        image_removeBG       1130        590          1          1      0.995      0.988\n",
      "            icon_arrow       1130          6      0.931      0.667      0.765      0.619\n",
      "        icon_SNS_insta       1130          7      0.977          1      0.995      0.967\n",
      "      icon_SNS_youtube       1130          5          1          1      0.995      0.983\n",
      "            btn_radius       1130          6      0.979          1      0.995      0.903\n",
      "           btn_ellipse       1130          4      0.956          1      0.995      0.895\n",
      "            btn_square       1130         60          1      0.917      0.995      0.883\n",
      "Speed: 0.0ms preprocess, 2.6ms inference, 0.0ms loss, 0.7ms postprocess per image\n",
      "Results saved to \u001b[1mruns/detect/train58\u001b[0m\n"
     ]
    }
   ],
   "source": [
    "from ultralytics import YOLO\n",
    "import torch, gc\n",
    "gc.collect()\n",
    "torch.cuda.empty_cache()\n",
    "model = YOLO('yolov8l.pt')\n",
    "\n",
    "model.train(data='/tf/notebook/datasets/data.yaml', \n",
    "                    epochs=100,\n",
    "                    imgsz=480,\n",
    "                    batch=16,\n",
    "                    lr0=0.005)\n",
    "\n"
   ]
  },
  {
   "cell_type": "code",
   "execution_count": null,
   "id": "29e3d2ae",
   "metadata": {},
   "outputs": [],
   "source": [
    "!yolo predict model=/tf/notebook/runs/detect/train58/weights/last.pt source=/tf/notebook/test_021.png"
   ]
  },
  {
   "cell_type": "code",
   "execution_count": null,
   "id": "48087666",
   "metadata": {},
   "outputs": [],
   "source": [
    "import tensorflow as tf\n",
    "\n",
    "print(\"TensorFlow version:\", tf.__version__)\n",
    "\n",
    "physical_devices = tf.config.list_physical_devices('GPU')\n",
    "if physical_devices:\n",
    "    print(\"GPU is available\")\n",
    "    for device in physical_devices:\n",
    "        print(device)\n",
    "else:\n",
    "    print(\"GPU is not available\")\n"
   ]
  },
  {
   "cell_type": "code",
   "execution_count": null,
   "id": "66e482c8",
   "metadata": {
    "scrolled": true
   },
   "outputs": [],
   "source": [
    "!nvidia-smi"
   ]
  },
  {
   "cell_type": "code",
   "execution_count": null,
   "id": "6b482356",
   "metadata": {},
   "outputs": [],
   "source": [
    "tf.config.list_physical_devices('GPU')"
   ]
  },
  {
   "cell_type": "code",
   "execution_count": null,
   "id": "4566c3dc",
   "metadata": {},
   "outputs": [],
   "source": [
    "from ultralytics import YOLO\n",
    "import torch, gc\n",
    "gc.collect()\n",
    "torch.cuda.empty_cache()\n",
    "model = YOLO('/tf/notebook/runs/detect/train61/weights/last.pt')\n",
    "\n",
    "model.train(data='/tf/notebook/datasets/data.yaml', \n",
    "                    epochs=75,\n",
    "                    imgsz=480,\n",
    "                    batch=8,\n",
    "                    lr0=0.001)\n",
    "\n"
   ]
  },
  {
   "cell_type": "code",
   "execution_count": null,
   "id": "2599b8f1",
   "metadata": {},
   "outputs": [
    {
     "name": "stdout",
     "output_type": "stream",
     "text": [
      "image 50/2605 /tf/notebook/testimage/screencapture-aloshop-7uptheme-net-home-14-2022-09-27-13_44_52.jpg: 640x320 1 2block, 1 3block, 5 5blocks, 1 header, 1 footer, 72.1ms\n",
      "image 51/2605 /tf/notebook/testimage/screencapture-aloshop-7uptheme-net-home-15-2022-09-27-13_44_59.jpg: 640x256 1 banner, 2 2blocks, 7 4blocks, 1 typo, 6 gallerys, 1 header, 1 footer, 40.4ms\n",
      "image 52/2605 /tf/notebook/testimage/screencapture-aloshop-7uptheme-net-home-17-2022-09-27-13_45_12.jpg: 640x224 3 banners, 3 2blocks, 1 4block, 6 5blocks, 2 7blocks, 1 header, 1 footer, 36.1ms\n",
      "image 53/2605 /tf/notebook/testimage/screencapture-aloshop-7uptheme-net-home-19-2022-09-27-13_45_21.jpg: 640x288 1 banner, 3 2blocks, 5 3blocks, 3 7blocks, 1 typo, 1 gallery, 1 header, 1 footer, 48.9ms\n",
      "image 54/2605 /tf/notebook/testimage/screencapture-aloshop-7uptheme-net-home-21-2022-09-27-13_45_28.jpg: 640x256 2 banners, 2 3blocks, 3 5blocks, 1 gallery, 1 header, 1 footer, 43.2ms\n",
      "image 55/2605 /tf/notebook/testimage/screencapture-aloshop-7uptheme-net-home-3-2022-09-27-13_41_22.jpg: 640x224 1 banner, 1 2block, 1 3block, 3 5blocks, 1 6block, 4 gallerys, 1 header, 1 footer, 67.7ms\n",
      "image 56/2605 /tf/notebook/testimage/screencapture-aloshop-7uptheme-net-home-6-2022-09-27-13_41_40.jpg: 640x352 1 2block, 1 4block, 1 5block, 1 typo, 3 gallerys, 1 header, 1 footer, 54.3ms\n",
      "image 57/2605 /tf/notebook/testimage/screencapture-aloshop-7uptheme-net-home-8-2022-09-27-13_41_51.jpg: 640x320 1 2block, 1 3block, 1 4block, 1 typo, 2 gallerys, 1 header, 1 footer, 49.2ms\n",
      "image 58/2605 /tf/notebook/testimage/screencapture-amaali-7uptheme-net-home-4-2022-09-27-16_19_5314.jpg: 640x224 1 banner, 1 2block, 2 3blocks, 3 4blocks, 1 5block, 1 typo, 6 gallerys, 1 header, 1 footer, 37.6ms\n",
      "image 59/2605 /tf/notebook/testimage/screencapture-amaali-7uptheme-net-home-5-2022-09-27-16_20_0415.jpg: 640x192 1 2block, 3 3blocks, 3 4blocks, 3 5blocks, 1 nblock, 1 typo, 3 gallerys, 1 header, 50.4ms\n",
      "image 60/2605 /tf/notebook/testimage/screencapture-amaali-7uptheme-net-home-6-2022-09-27-16_20_1216.jpg: 640x256 2 2blocks, 3 4blocks, 2 5blocks, 6 7blocks, 1 typo, 1 header, 40.5ms\n",
      "image 61/2605 /tf/notebook/testimage/screencapture-amaali-7uptheme-net-home-7-2022-09-27-16_20_2117.jpg: 640x288 2 banners, 4 3blocks, 1 4block, 1 gallery, 1 header, 1 footer, 54.6ms\n",
      "image 62/2605 /tf/notebook/testimage/screencapture-amaali-7uptheme-net-home-8-2022-09-27-16_20_2918.jpg: 640x224 2 banners, 1 2block, 4 3blocks, 1 4block, 1 6block, 1 gallery, 1 header, 1 footer, 271.9ms\n",
      "image 63/2605 /tf/notebook/testimage/screencapture-amaali-7uptheme-net-home-9-2022-09-27-16_20_3719.jpg: 640x256 1 banner, 1 2block, 1 4block, 1 5block, 5 6blocks, 1 nblock, 1 typo, 1 gallery, 2 headers, 10.8ms\n",
      "image 64/2605 /tf/notebook/testimage/screencapture-amino-mallthemes-2022-09-26-10_24_50.jpg: 640x256 2 banners, 1 2block, 2 3blocks, 2 4blocks, 1 5block, 1 6block, 1 header, 1 footer, 7.2ms\n",
      "image 65/2605 /tf/notebook/testimage/screencapture-amino-mallthemes-home-page-04-2022-09-26-10_26_11.jpg: 640x256 1 banner, 1 2block, 1 3block, 2 4blocks, 1 5block, 1 6block, 2 gallerys, 1 header, 1 footer, 6.2ms\n",
      "image 66/2605 /tf/notebook/testimage/screencapture-anam-7uptheme-net-home-2-2022-09-28-09_30_1736.jpg: 640x320 3 banners, 1 2block, 3 3blocks, 1 4block, 1 5block, 1 header, 1 footer, 6.8ms\n",
      "image 67/2605 /tf/notebook/testimage/screencapture-anam-7uptheme-net-home-3-2022-09-28-09_30_2437.jpg: 640x192 3 banners, 2 3blocks, 1 4block, 1 5block, 2 gallerys, 1 header, 18.5ms\n",
      "image 68/2605 /tf/notebook/testimage/screencapture-anam-7uptheme-net-home-4-2022-09-28-09_30_3238.jpg: 640x256 4 banners, 2 4blocks, 1 5block, 1 typo, 1 gallery, 1 header, 1 footer, 23.2ms\n",
      "image 69/2605 /tf/notebook/testimage/screencapture-andar-co-kr-2022-09-29-11_17_54.jpg: 640x192 4 banners, 2 2blocks, 1 3block, 1 4block, 2 6blocks, 2 7blocks, 1 8block, 1 typo, 1 header, 1 footer, 22.4ms\n",
      "image 70/2605 /tf/notebook/testimage/screencapture-angro-modeltheme-2022-09-28-13_48_4553.jpg: 640x256 3 banners, 1 2block, 1 3block, 1 4block, 2 5blocks, 1 6block, 1 header, 1 footer, 36.2ms\n",
      "image 71/2605 /tf/notebook/testimage/screencapture-angro-modeltheme-b2b-wholesale-2022-09-28-13_48_5754.jpg: 640x288 3 banners, 2 2blocks, 1 3block, 3 5blocks, 1 gallery, 1 header, 1 footer, 159.5ms\n",
      "image 72/2605 /tf/notebook/testimage/screencapture-apar-mbkip3ms9u-e92498n216kr-p-temp-site-link-2022-09-27-17_12_03.jpg: 640x320 2 banners, 1 3block, 3 4blocks, 1 5block, 2 gallerys, 1 header, 1 footer, 6.8ms\n",
      "image 73/2605 /tf/notebook/testimage/screencapture-apar-mbkip3ms9u-e92498n216kr-p-temp-site-link-home-2-2022-09-27-17_12_08.jpg: 640x384 2 banners, 1 2block, 1 3block, 1 4block, 1 6block, 1 typo, 1 header, 1 footer, 8.3ms\n",
      "image 74/2605 /tf/notebook/testimage/screencapture-apar-mbkip3ms9u-e92498n216kr-p-temp-site-link-home-3-2022-09-27-17_12_13.jpg: 640x416 1 banner, 1 2block, 3 4blocks, 1 5block, 1 gallery, 1 header, 1 footer, 8.6ms\n",
      "image 75/2605 /tf/notebook/testimage/screencapture-apar-mbkip3ms9u-e92498n216kr-p-temp-site-link-home-5-2022-09-27-17_12_29.jpg: 640x384 1 banner, 2 2blocks, 2 4blocks, 1 6block, 1 header, 1 footer, 25.6ms\n",
      "image 76/2605 /tf/notebook/testimage/screencapture-apar-mbkip3ms9u-e92498n216kr-p-temp-site-link-home-7-2022-09-27-17_12_40.jpg: 640x416 2 banners, 1 3block, 3 4blocks, 1 6block, 1 header, 1 footer, 57.3ms\n",
      "image 77/2605 /tf/notebook/testimage/screencapture-apar-mbkip3ms9u-e92498n216kr-p-temp-site-link-home-8-2022-09-27-17_12_45.jpg: 640x416 1 banner, 1 2block, 2 3blocks, 1 4block, 1 5block, 1 header, 1 footer, 35.3ms\n",
      "image 78/2605 /tf/notebook/testimage/screencapture-apar-mbkip3ms9u-e92498n216kr-p-temp-site-link-home-9-2022-09-27-17_12_50.jpg: 640x320 1 banner, 2 2blocks, 1 3block, 4 4blocks, 1 6block, 1 header, 1 footer, 26.7ms\n",
      "image 79/2605 /tf/notebook/testimage/screencapture-apieceofcakestore-index2-html-2022-09-29-16_25_45.jpg: 640x384 1 banner, 1 3block, 1 5block, 2 typos, 1 header, 1 footer, 29.1ms\n",
      "image 80/2605 /tf/notebook/testimage/screencapture-argo-sports-2022-09-30-09_48_26.jpg: 640x128 1 2block, 4 4blocks, 1 gallery, 1 header, 1 footer, 30.0ms\n",
      "image 81/2605 /tf/notebook/testimage/screencapture-armania-kutethemes-net-home-08-3-2022-09-23-17_33_30.jpg: 640x352 1 banner, 1 2block, 1 3block, 1 4block, 2 6blocks, 1 gallery, 1 header, 1 footer, 57.1ms\n",
      "image 82/2605 /tf/notebook/testimage/screencapture-armania-kutethemes-net-home-20-2022-09-23-17_39_17.jpg: 640x320 2 banners, 3 3blocks, 1 gallery, 1 header, 1 footer, 60.1ms\n",
      "image 83/2605 /tf/notebook/testimage/screencapture-artfurniture-mallthemes-home-page-2-2022-09-28-10_29_37.jpg: 640x512 1 banner, 2 3blocks, 4 4blocks, 1 typo, 1 header, 1 footer, 96.2ms\n",
      "image 84/2605 /tf/notebook/testimage/screencapture-artfurniture-mallthemes-home-page-4-2022-09-28-10_29_51.jpg: 640x416 1 banner, 1 2block, 2 3blocks, 3 4blocks, 2 5blocks, 1 header, 1 footer, 7.7ms\n",
      "image 85/2605 /tf/notebook/testimage/screencapture-arum-la-studioweb-demo-fashion-02-2022-09-23-14_05_47.jpg: 640x288 2 banners, 2 3blocks, 3 5blocks, 1 typo, 1 gallery, 1 header, 1 footer, 7.2ms\n",
      "image 86/2605 /tf/notebook/testimage/screencapture-arum-la-studioweb-demo-fashion-03-2022-09-23-14_06_44.jpg: 640x224 1 2block, 2 3blocks, 3 4blocks, 1 gallery, 1 header, 1 footer, 6.6ms\n",
      "image 87/2605 /tf/notebook/testimage/screencapture-arum-la-studioweb-demo-fashion-05-2022-09-23-14_07_40.jpg: 640x224 3 banners, 1 2block, 2 3blocks, 1 4block, 1 5block, 1 header, 1 footer, 6.1ms\n",
      "image 88/2605 /tf/notebook/testimage/screencapture-arum-la-studioweb-demo-fashion-08-2022-09-23-14_08_51.jpg: 640x224 1 banner, 1 2block, 6 3blocks, 1 4block, 2 typos, 1 header, 1 footer, 6.2ms\n",
      "image 89/2605 /tf/notebook/testimage/screencapture-arum-la-studioweb-demo-fashion-09-2022-09-23-14_11_34.jpg: 640x224 3 banners, 1 2block, 1 3block, 3 4blocks, 1 header, 1 footer, 6.3ms\n",
      "image 90/2605 /tf/notebook/testimage/screencapture-arum-la-studioweb-demo-furniture-01-2022-09-23-14_10_09.jpg: 640x224 3 2blocks, 4 3blocks, 1 5block, 1 header, 1 footer, 6.3ms\n",
      "image 91/2605 /tf/notebook/testimage/screencapture-arum-la-studioweb-demo-furniture-02-2022-09-23-14_10_42.jpg: 640x192 5 banners, 1 header, 1 footer, 18.4ms\n",
      "image 92/2605 /tf/notebook/testimage/screencapture-asclo-2022-09-28-17_43_17.jpg: 640x128 1 banner, 2 4blocks, 1 header, 17.1ms\n"
     ]
    },
    {
     "name": "stdout",
     "output_type": "stream",
     "text": [
      "image 93/2605 /tf/notebook/testimage/screencapture-ash-us-en-2022-09-29-16_40_42.jpg: 640x320 1 banner, 1 2block, 1 4block, 1 typo, 1 gallery, 1 header, 1 footer, 26.5ms\n",
      "image 94/2605 /tf/notebook/testimage/screencapture-asics-co-kr-2022-09-28-17_03_56.jpg: 640x352 2 banners, 2 2blocks, 1 3block, 1 4block, 1 header, 1 footer, 31.6ms\n",
      "image 95/2605 /tf/notebook/testimage/screencapture-athletekorea-2022-09-29-11_45_59.jpg: 640x160 2 banners, 1 2block, 4 4blocks, 1 gallery, 1 header, 1 footer, 26.5ms\n",
      "image 96/2605 /tf/notebook/testimage/screencapture-attrangs-co-kr-2022-09-29-11_21_28.jpg: 640x224 2 banners, 2 2blocks, 3 3blocks, 1 4block, 3 5blocks, 1 typo, 1 gallery, 29.7ms\n",
      "image 97/2605 /tf/notebook/testimage/screencapture-aty022-aty-kr-1511492415854-main-2022-09-21-18_17_08.jpg: 640x320 3 banners, 1 2block, 1 3block, 5 4blocks, 1 typo, 1 gallery, 1 header, 1 footer, 57.1ms\n",
      "image 98/2605 /tf/notebook/testimage/screencapture-aty043-aty-kr-1512370004336-main-2022-09-21-18_16_24.jpg: 640x288 2 banners, 2 2blocks, 2 3blocks, 1 5block, 1 typo, 1 header, 52.6ms\n",
      "image 99/2605 /tf/notebook/testimage/screencapture-aty044-aty-kr-1512437475072-main-2022-09-21-18_17_22.jpg: 640x352 2 banners, 1 2block, 2 3blocks, 1 typo, 1 gallery, 1 header, 64.2ms\n",
      "image 100/2605 /tf/notebook/testimage/screencapture-aty045-aty-kr-1512439888638-main-2022-09-21-18_16_02.jpg: 640x384 4 banners, 1 3block, 1 4block, 1 typo, 1 header, 106.8ms\n",
      "image 101/2605 /tf/notebook/testimage/screencapture-auction-co-kr-2022-09-29-09_45_24.jpg: 640x416 3 banners, 2 3blocks, 1 5block, 3 6blocks, 1 typo, 1 gallery, 1 header, 1 footer, 33.0ms\n",
      "image 102/2605 /tf/notebook/testimage/screencapture-august-harmony-2022-09-29-15_59_08.jpg: 576x640 1 banner, 1 3block, 1 header, 1 footer, 53.4ms\n",
      "image 103/2605 /tf/notebook/testimage/screencapture-augustplan-2022-09-30-09_46_56.jpg: 640x192 1 banner, 1 5block, 1 6block, 1 typo, 1 header, 1 footer, 18.4ms\n",
      "image 104/2605 /tf/notebook/testimage/screencapture-auriane-jwsuperthemes-home-2022-09-23-14_36_31.jpg: 640x192 2 banners, 2 2blocks, 2 3blocks, 2 4blocks, 1 5block, 2 typos, 1 gallery, 1 header, 1 footer, 42.1ms\n",
      "image 105/2605 /tf/notebook/testimage/screencapture-auriane-jwsuperthemes-home-3-2022-09-23-14_37_18.jpg: 640x160 3 banners, 5 2blocks, 2 3blocks, 3 4blocks, 1 6block, 1 typo, 1 header, 1 footer, 49.6ms\n",
      "image 106/2605 /tf/notebook/testimage/screencapture-auriane-jwsuperthemes-home-4-2022-09-23-14_37_48.jpg: 640x192 3 banners, 2 2blocks, 1 3block, 3 4blocks, 2 5blocks, 1 6block, 1 header, 2 footers, 276.8ms\n",
      "image 107/2605 /tf/notebook/testimage/screencapture-auriane-jwsuperthemes-home-5-2022-09-23-14_41_14.jpg: 640x224 2 banners, 2 2blocks, 3 3blocks, 2 4blocks, 1 6block, 1 gallery, 1 header, 1 footer, 7.4ms\n",
      "image 108/2605 /tf/notebook/testimage/screencapture-auriane-jwsuperthemes-home-7-2022-09-23-14_42_03.jpg: 640x288 1 banner, 1 2block, 1 4block, 1 6block, 1 gallery, 1 header, 1 footer, 6.6ms\n",
      "image 109/2605 /tf/notebook/testimage/screencapture-autovio-themetechmount-net-autovio-layout2-2022-09-27-14_56_1163.jpg: 640x256 2 banners, 2 2blocks, 1 3block, 2 5blocks, 1 6block, 1 7block, 1 header, 1 footer, 6.7ms\n",
      "image 110/2605 /tf/notebook/testimage/screencapture-autovio-themetechmount-net-layout5-2022-09-27-14_56_5266.jpg: 640x256 1 banner, 1 2block, 1 3block, 2 4blocks, 1 5block, 1 6block, 1 gallery, 1 header, 1 footer, 7.1ms\n",
      "image 111/2605 /tf/notebook/testimage/screencapture-auxo-g5plus-net-home-01-2022-09-27-10_09_50.jpg: 640x480 2 banners, 1 2block, 1 3block, 1 4block, 1 typo, 1 header, 23.2ms\n",
      "image 112/2605 /tf/notebook/testimage/screencapture-auxo-g5plus-net-home-02-2022-09-27-10_09_59.jpg: 640x352 1 banner, 2 3blocks, 2 typos, 1 header, 1 footer, 21.5ms\n",
      "image 113/2605 /tf/notebook/testimage/screencapture-auxo-g5plus-net-home-03-2022-09-27-10_10_19.jpg: 640x288 1 banner, 1 3block, 1 4block, 3 typos, 1 gallery, 1 header, 1 footer, 23.2ms\n",
      "image 114/2605 /tf/notebook/testimage/screencapture-auxo-g5plus-net-home-04-2022-09-27-10_10_36.jpg: 640x384 2 banners, 1 3block, 1 4block, 2 typos, 1 gallery, 1 header, 35.8ms\n",
      "image 115/2605 /tf/notebook/testimage/screencapture-auxo-g5plus-net-home-05-2022-09-27-10_10_54.jpg: 640x352 1 banner, 1 2block, 2 4blocks, 1 5block, 1 6block, 1 7block, 1 typo, 1 gallery, 1 header, 40.4ms\n",
      "image 116/2605 /tf/notebook/testimage/screencapture-auxo-g5plus-net-home-06-2022-09-27-10_11_04.jpg: 640x352 2 banners, 2 4blocks, 1 7block, 1 typo, 1 gallery, 1 header, 33.3ms\n",
      "image 117/2605 /tf/notebook/testimage/screencapture-auxo-g5plus-net-home-07-2022-09-27-10_11_18.jpg: 640x352 1 banner, 1 3block, 2 4blocks, 1 5block, 1 7block, 1 gallery, 1 header, 2 footers, 32.1ms\n",
      "image 118/2605 /tf/notebook/testimage/screencapture-azo-boostifythemes-home-2-2022-09-28-10_42_10.jpg: 640x352 2 banners, 2 2blocks, 2 3blocks, 2 4blocks, 1 typo, 1 header, 1 footer, 45.3ms\n",
      "image 119/2605 /tf/notebook/testimage/screencapture-azo-boostifythemes-home-3-2022-09-28-10_42_17.jpg: 640x352 2 banners, 1 2block, 1 3block, 4 4blocks, 2 gallerys, 1 header, 1 footer, 58.4ms\n",
      "image 120/2605 /tf/notebook/testimage/screencapture-azo-boostifythemes-home-4-2022-09-28-10_42_23.jpg: 640x320 1 banner, 2 2blocks, 5 4blocks, 2 5blocks, 1 6block, 1 typo, 1 header, 1 footer, 119.8ms\n",
      "image 121/2605 /tf/notebook/testimage/screencapture-azo-boostifythemes-home-5-2022-09-28-10_42_30.jpg: 640x320 1 2block, 2 3blocks, 4 4blocks, 1 6block, 1 typo, 1 header, 1 footer, 7.2ms\n",
      "image 122/2605 /tf/notebook/testimage/screencapture-b2b-bestket-index-html-2022-09-29-14_51_20.jpg: 640x480 2 3blocks, 1 5block, 1 6block, 2 typos, 1 gallery, 1 header, 1 footer, 7.8ms\n",
      "image 123/2605 /tf/notebook/testimage/screencapture-b2b114-net-2022-09-29-15_07_58.jpg: 640x480 2 banners, 1 3block, 1 4block, 3 5blocks, 1 8block, 2 typos, 1 header, 7.6ms\n",
      "image 124/2605 /tf/notebook/testimage/screencapture-b2bmecca-co-kr-2022-09-29-14_38_24.jpg: 640x256 3 banners, 1 3block, 2 4blocks, 1 6block, 1 gallery, 1 header, 1 footer, 7.6ms\n",
      "image 125/2605 /tf/notebook/testimage/screencapture-babience-index-jsp-2022-09-29-14_14_19.jpg: 512x640 2 banners, 1 gallery, 1 header, 1 footer, 7.4ms\n",
      "image 126/2605 /tf/notebook/testimage/screencapture-babo-wpjavo-home-10-clean-apparel-2022-09-27-17_56_50.jpg: 640x256 2 banners, 2 2blocks, 4 4blocks, 1 header, 1 footer, 7.6ms\n",
      "image 127/2605 /tf/notebook/testimage/screencapture-babo-wpjavo-home-11-sports-wear-2022-09-27-17_57_00.jpg: 640x320 3 banners, 1 2block, 4 4blocks, 1 header, 1 footer, 15.6ms\n",
      "image 128/2605 /tf/notebook/testimage/screencapture-babo-wpjavo-home-12-interior-2022-09-27-17_57_07.jpg: 640x256 2 banners, 3 4blocks, 1 7block, 2 gallerys, 1 header, 1 footer, 29.1ms\n",
      "image 129/2605 /tf/notebook/testimage/screencapture-babo-wpjavo-home-13-kids-2022-09-27-17_57_31.jpg: 640x416 2 banners, 4 4blocks, 1 typo, 1 gallery, 1 header, 1 footer, 40.5ms\n",
      "image 130/2605 /tf/notebook/testimage/screencapture-babo-wpjavo-home-14-dress-2022-09-27-17_57_39.jpg: 640x288 3 banners, 4 4blocks, 1 header, 1 footer, 35.2ms\n",
      "image 131/2605 /tf/notebook/testimage/screencapture-babo-wpjavo-home-16-casual-cloth-2022-09-27-17_57_59.jpg: 640x384 1 banner, 2 4blocks, 2 typos, 2 gallerys, 1 header, 1 footer, 44.4ms\n",
      "image 132/2605 /tf/notebook/testimage/screencapture-babo-wpjavo-home-17-living-2022-09-27-17_58_07.jpg: 640x320 1 2block, 1 3block, 2 4blocks, 2 gallerys, 1 header, 1 footer, 48.7ms\n",
      "image 133/2605 /tf/notebook/testimage/screencapture-babo-wpjavo-home-18-furniture-2022-09-27-17_58_14.jpg: 640x320 3 banners, 1 3block, 1 4block, 2 gallerys, 1 header, 1 footer, 55.2ms\n",
      "image 134/2605 /tf/notebook/testimage/screencapture-babo-wpjavo-home-19-jewellery-2022-09-27-17_58_38.jpg: 640x320 3 banners, 1 3block, 3 4blocks, 1 gallery, 1 header, 1 footer, 51.8ms\n",
      "image 135/2605 /tf/notebook/testimage/screencapture-babo-wpjavo-home-23-mens-style-2022-09-27-17_59_09.jpg: 640x192 2 banners, 1 2block, 4 3blocks, 1 4block, 1 header, 1 footer, 69.5ms\n",
      "image 136/2605 /tf/notebook/testimage/screencapture-babo-wpjavo-home-26-dark-magazine-2022-09-27-18_00_02.jpg: 640x192 2 banners, 5 4blocks, 4 gallerys, 1 header, 1 footer, 20.5ms\n",
      "image 137/2605 /tf/notebook/testimage/screencapture-babo-wpjavo-home-7-womens-coat-2022-09-27-17_56_17.jpg: 640x288 1 banner, 3 3blocks, 2 4blocks, 1 typo, 1 header, 1 footer, 21.8ms\n"
     ]
    },
    {
     "name": "stdout",
     "output_type": "stream",
     "text": [
      "image 138/2605 /tf/notebook/testimage/screencapture-babo-wpjavo-home-8-ladys-clothe-2022-09-27-17_56_27.jpg: 640x192 2 banners, 2 2blocks, 1 3block, 4 4blocks, 1 typo, 1 header, 1 footer, 17.9ms\n",
      "image 139/2605 /tf/notebook/testimage/screencapture-babo-wpjavo-home-9-accessories-2022-09-27-17_56_37.jpg: 640x256 3 banners, 1 3block, 2 4blocks, 1 7block, 1 header, 1 footer, 20.3ms\n",
      "image 140/2605 /tf/notebook/testimage/screencapture-babo-wpjavo-home-portal-1-2022-09-27-18_00_14.jpg: 640x320 1 banner, 1 2block, 2 3blocks, 1 4block, 3 5blocks, 1 typo, 2 gallerys, 1 header, 1 footer, 55.2ms\n",
      "image 141/2605 /tf/notebook/testimage/screencapture-babo-wpjavo-home-portal-3-2022-09-27-18_00_31.jpg: 640x288 1 banner, 1 2block, 3 3blocks, 1 4block, 4 5blocks, 1 typo, 2 gallerys, 1 header, 1 footer, 77.1ms\n",
      "image 142/2605 /tf/notebook/testimage/screencapture-babo-wpjavo-home-portal-4-2022-09-27-18_00_39.jpg: 640x320 1 banner, 1 2block, 2 3blocks, 1 4block, 3 5blocks, 1 typo, 1 gallery, 1 header, 1 footer, 70.3ms\n",
      "image 143/2605 /tf/notebook/testimage/screencapture-babosarang-co-kr-2022-09-29-10_23_22.jpg: 640x256 1 banner, 3 3blocks, 1 4block, 1 5block, 1 8block, 4 gallerys, 1 header, 1 footer, 6.6ms\n",
      "image 144/2605 /tf/notebook/testimage/screencapture-bagstay-co-kr-2022-09-29-10_18_13.jpg: 640x128 4 banners, 1 2block, 4 5blocks, 2 6blocks, 1 typo, 1 header, 1 footer, 6.6ms\n",
      "image 145/2605 /tf/notebook/testimage/screencapture-baker-la-studioweb-2022-09-26-17_35_0070.jpg: 640x224 3 banners, 1 2block, 1 3block, 2 4blocks, 1 5block, 2 typos, 1 header, 1 footer, 7.2ms\n",
      "image 146/2605 /tf/notebook/testimage/screencapture-balenciaga-ko-kr-2022-09-28-17_04_47.jpg: 640x288 1 banner, 2 2blocks, 1 4block, 1 typo, 1 header, 1 footer, 8.2ms\n",
      "image 147/2605 /tf/notebook/testimage/screencapture-balhae-kutethemes-net-2022-09-27-14_57_05.jpg: 640x256 2 banners, 1 5block, 2 gallerys, 2 headers, 1 footer, 7.5ms\n",
      "image 148/2605 /tf/notebook/testimage/screencapture-balhae-kutethemes-net-home-02-2022-09-27-14_58_57.jpg: 640x256 3 banners, 1 2block, 1 4block, 1 typo, 1 header, 1 footer, 6.0ms\n",
      "image 149/2605 /tf/notebook/testimage/screencapture-balhae-kutethemes-net-home-03-2022-09-27-14_59_06.jpg: 640x256 2 banners, 1 2block, 1 3block, 1 4block, 1 typo, 1 gallery, 2 headers, 1 footer, 7.1ms\n",
      "image 150/2605 /tf/notebook/testimage/screencapture-balhae-kutethemes-net-home-05-2022-09-27-14_57_53.jpg: 640x256 1 banner, 1 2block, 2 4blocks, 1 typo, 1 gallery, 1 header, 1 footer, 18.0ms\n",
      "image 151/2605 /tf/notebook/testimage/screencapture-balhae-kutethemes-net-home-06-2022-09-27-14_58_07.jpg: 640x256 1 banner, 2 2blocks, 1 3block, 2 4blocks, 1 typo, 1 header, 1 footer, 21.9ms\n",
      "image 152/2605 /tf/notebook/testimage/screencapture-balhae-kutethemes-net-home-08-2022-09-27-14_58_24.jpg: 640x256 3 banners, 1 2block, 2 3blocks, 1 header, 1 footer, 26.3ms\n",
      "image 153/2605 /tf/notebook/testimage/screencapture-balhae-kutethemes-net-home-10-2022-09-27-14_58_43.jpg: 640x320 3 banners, 1 2block, 1 4block, 1 5block, 1 header, 1 footer, 25.9ms\n",
      "image 154/2605 /tf/notebook/testimage/screencapture-balibiki-net-2022-09-30-09_55_41.jpg: 640x64 1 banner, 1 2block, 1 3block, 8 4blocks, 1 5block, 1 7block, 1 gallery, 1 footer, 23.8ms\n",
      "image 155/2605 /tf/notebook/testimage/screencapture-barberry-temashdesign-me-demo-furniture-2022-09-22-15_22_13.jpg: 640x416 1 banner, 1 2block, 2 4blocks, 1 typo, 1 header, 1 footer, 63.5ms\n",
      "image 156/2605 /tf/notebook/testimage/screencapture-bazar-peacefulqode-2022-09-27-18_22_26.jpg: 640x256 1 banner, 3 2blocks, 1 3block, 3 4blocks, 1 gallery, 1 header, 1 footer, 54.5ms\n",
      "image 157/2605 /tf/notebook/testimage/screencapture-bazar-peacefulqode-home-fashion-2022-09-27-18_25_52.jpg: 640x256 1 banner, 1 3block, 3 4blocks, 1 6block, 1 gallery, 1 header, 1 footer, 44.5ms\n",
      "image 158/2605 /tf/notebook/testimage/screencapture-bazar-peacefulqode-home-furniture-2022-09-27-18_25_43.jpg: 640x256 2 banners, 1 2block, 1 3block, 2 4blocks, 1 5block, 1 gallery, 1 header, 1 footer, 46.4ms\n",
      "image 159/2605 /tf/notebook/testimage/screencapture-bazar-peacefulqode-home-minimal-2022-09-27-18_26_10.jpg: 640x256 3 banners, 2 2blocks, 1 3block, 2 4blocks, 1 typo, 1 gallery, 1 header, 1 footer, 202.4ms\n",
      "image 160/2605 /tf/notebook/testimage/screencapture-bazar-peacefulqode-home-stylish-2022-09-27-18_26_20.jpg: 640x288 2 banners, 1 3block, 3 4blocks, 1 gallery, 1 header, 1 footer, 6.8ms\n",
      "image 161/2605 /tf/notebook/testimage/screencapture-bazz-qodeinteractive-2022-09-27-17_20_13.jpg: 640x224 4 banners, 1 2block, 2 3blocks, 1 4block, 1 6block, 2 typos, 1 header, 1 footer, 6.9ms\n",
      "image 162/2605 /tf/notebook/testimage/screencapture-bazz-qodeinteractive-streetwear-2022-09-27-17_20_29.jpg: 640x256 3 banners, 1 3block, 2 5blocks, 2 typos, 1 header, 1 footer, 6.7ms\n",
      "image 163/2605 /tf/notebook/testimage/screencapture-bazz-qodeinteractive-tech-store-2022-09-27-17_20_46.jpg: 640x288 1 banner, 3 2blocks, 1 3block, 2 4blocks, 1 typo, 1 header, 1 footer, 7.0ms\n",
      "image 164/2605 /tf/notebook/testimage/screencapture-bbibbongunni-2022-09-29-16_55_30.jpg: 640x128 1 banner, 9 4blocks, 1 5block, 1 gallery, 1 header, 1 footer, 6.8ms\n",
      "image 165/2605 /tf/notebook/testimage/screencapture-bbongbra-co-kr-2022-09-29-13_28_54.jpg: 640x128 3 banners, 2 2blocks, 1 3block, 2 4blocks, 3 5blocks, 1 6block, 1 header, 1 footer, 9.0ms\n",
      "image 166/2605 /tf/notebook/testimage/screencapture-bdevs-net-wp-medilove-home-02-2022-09-27-13_59_37.jpg: 640x384 1 banner, 1 2block, 1 3block, 2 4blocks, 2 6blocks, 1 header, 1 footer, 7.2ms\n",
      "image 167/2605 /tf/notebook/testimage/screencapture-bechic-co-kr-2022-09-29-10_36_33.jpg: 640x128 1 5block, 3 gallerys, 3 headers, 2 footers, 10.9ms\n",
      "image 168/2605 /tf/notebook/testimage/screencapture-beeta-mallthemes-cosmetic-2022-09-28-10_41_01.jpg: 640x320 2 banners, 1 2block, 4 3blocks, 1 4block, 1 5block, 1 header, 1 footer, 15.3ms\n",
      "image 169/2605 /tf/notebook/testimage/screencapture-beeta-mallthemes-cosmetic-cosmetic-home-2-2022-09-28-10_41_08.jpg: 640x288 3 banners, 1 2block, 2 3blocks, 4 5blocks, 1 header, 1 footer, 16.2ms\n",
      "image 170/2605 /tf/notebook/testimage/screencapture-beeta-mallthemes-cosmetic-cosmetic-home-3-2022-09-28-10_41_16.jpg: 640x384 1 banner, 1 2block, 3 3blocks, 1 4block, 1 5block, 1 header, 1 footer, 31.3ms\n",
      "image 171/2605 /tf/notebook/testimage/screencapture-beeta-mallthemes-cosmetic-cosmetic-home-4-2022-09-28-10_41_25.jpg: 640x320 1 banner, 3 3blocks, 1 4block, 1 5block, 1 typo, 1 gallery, 1 header, 1 footer, 34.8ms\n",
      "image 172/2605 /tf/notebook/testimage/screencapture-beeta-mallthemes-fashion-home-2-2022-09-28-10_40_48.jpg: 640x320 2 banners, 1 2block, 2 3blocks, 2 6blocks, 1 header, 1 footer, 31.1ms\n",
      "image 173/2605 /tf/notebook/testimage/screencapture-beeta-mallthemes-fashion-home-3-2022-09-28-10_40_54.jpg: 640x384 2 banners, 1 3block, 1 4block, 1 typo, 1 gallery, 1 header, 1 footer, 50.5ms\n",
      "image 174/2605 /tf/notebook/testimage/screencapture-belabef-2022-09-29-10_30_29.jpg: 640x352 2 banners, 1 3block, 2 4blocks, 1 5block, 1 typo, 1 header, 40.5ms\n",
      "image 175/2605 /tf/notebook/testimage/screencapture-bencher-jwsuperthemes-homepage-01-2022-09-27-10_02_2586.jpg: 640x416 1 banner, 1 4block, 1 5block, 1 gallery, 1 header, 1 footer, 73.0ms\n",
      "image 176/2605 /tf/notebook/testimage/screencapture-bencher-jwsuperthemes-homepage-03-2022-09-27-10_02_4988.jpg: 640x352 2 banners, 1 2block, 3 3blocks, 1 4block, 1 header, 1 footer, 56.6ms\n",
      "image 177/2605 /tf/notebook/testimage/screencapture-bencher-jwsuperthemes-homepage-05-2022-09-27-10_04_0490.jpg: 640x384 2 banners, 2 3blocks, 2 4blocks, 1 5block, 2 typos, 1 gallery, 1 header, 64.7ms\n",
      "image 178/2605 /tf/notebook/testimage/screencapture-bencher-jwsuperthemes-homepage-07-2022-09-27-10_04_2192.jpg: 640x352 2 banners, 2 3blocks, 1 4block, 2 typos, 1 header, 1 footer, 66.9ms\n",
      "image 179/2605 /tf/notebook/testimage/screencapture-bencher-jwsuperthemes-homepage-08-2022-09-27-10_04_2993.jpg: 640x352 2 banners, 2 3blocks, 1 4block, 1 5block, 1 typo, 1 header, 1 footer, 77.7ms\n",
      "image 180/2605 /tf/notebook/testimage/screencapture-bens-co-kr-2022-09-29-10_00_07.jpg: 640x96 6 banners, 6 3blocks, 1 5block, 4 6blocks, 1 nblock, 3 gallerys, 2 footers, 88.2ms\n",
      "image 181/2605 /tf/notebook/testimage/screencapture-bestcareerbd-themes-minoan-home-four-2022-09-26-10_23_57.jpg: 640x448 1 banner, 1 2block, 1 3block, 2 4blocks, 1 5block, 1 header, 1 footer, 119.8ms\n"
     ]
    },
    {
     "name": "stdout",
     "output_type": "stream",
     "text": [
      "image 182/2605 /tf/notebook/testimage/screencapture-bestcareerbd-themes-minoan-home-six-2022-09-26-10_24_13.jpg: 640x448 1 banner, 1 5block, 1 header, 1 footer, 6.7ms\n",
      "image 183/2605 /tf/notebook/testimage/screencapture-bestcareerbd-themes-minoan-home-two-2022-09-26-10_19_22.jpg: 640x320 2 banners, 1 2block, 2 3blocks, 2 4blocks, 1 5block, 1 gallery, 1 header, 1 footer, 6.7ms\n",
      "image 184/2605 /tf/notebook/testimage/screencapture-bidpro-webdevia-2022-09-23-15_42_00.jpg: 640x320 1 banner, 3 3blocks, 2 4blocks, 1 6block, 1 gallery, 1 header, 1 footer, 6.2ms\n",
      "image 185/2605 /tf/notebook/testimage/screencapture-bidpro-webdevia-construction-equipment-marketplace-2022-09-23-15_43_21.jpg: 640x352 1 banner, 2 3blocks, 2 4blocks, 1 6block, 1 gallery, 1 header, 1 footer, 6.6ms\n",
      "image 186/2605 /tf/notebook/testimage/screencapture-bidpro-webdevia-real-estate-auction-marketplace-2022-09-23-15_42_36.jpg: 640x448 1 banner, 1 3block, 3 4blocks, 1 typo, 1 header, 1 footer, 7.4ms\n",
      "image 187/2605 /tf/notebook/testimage/screencapture-biggirlshoes-co-kr-2022-09-28-17_12_11.jpg: 640x96 1 2block, 3 4blocks, 1 footer, 7.1ms\n",
      "image 188/2605 /tf/notebook/testimage/screencapture-bigshop-7uptheme-net-home-3-2022-09-28-13_50_40108.jpg: 640x416 1 banner, 2 3blocks, 1 4block, 1 typo, 1 header, 1 footer, 41.8ms\n",
      "image 189/2605 /tf/notebook/testimage/screencapture-bigshop-7uptheme-net-home-4-2022-09-28-13_50_46109.jpg: 640x288 2 banners, 1 2block, 2 3blocks, 1 4block, 1 6block, 2 gallerys, 1 header, 1 footer, 25.3ms\n",
      "image 190/2605 /tf/notebook/testimage/screencapture-bigshop-7uptheme-net-home-5-2022-09-28-13_50_51110.jpg: 640x512 1 4block, 2 6blocks, 1 typo, 1 gallery, 1 header, 1 footer, 35.3ms\n",
      "image 191/2605 /tf/notebook/testimage/screencapture-bigshop-7uptheme-net-home-6-2022-09-28-13_50_55111.jpg: 640x288 4 banners, 2 gallerys, 1 header, 1 footer, 35.0ms\n",
      "image 192/2605 /tf/notebook/testimage/screencapture-bigshop-7uptheme-net-home-7-2022-09-28-13_51_01112.jpg: 640x640 1 banner, 1 4block, 1 typo, 1 header, 1 footer, 92.0ms\n",
      "image 193/2605 /tf/notebook/testimage/screencapture-bigshop-7uptheme-net-home-8-2022-09-28-13_51_05113.jpg: 640x320 1 banner, 1 2block, 1 4block, 1 5block, 1 6block, 1 gallery, 1 header, 1 footer, 47.5ms\n",
      "image 194/2605 /tf/notebook/testimage/screencapture-bikibiki-co-kr-2022-09-30-09_06_27.jpg: 640x160 1 banner, 3 4blocks, 8 5blocks, 1 gallery, 1 footer, 46.7ms\n",
      "image 195/2605 /tf/notebook/testimage/screencapture-binary01-co-kr-2022-09-30-09_44_53.jpg: 640x96 2 banners, 1 2block, 1 3block, 5 4blocks, 2 5blocks, 1 typo, 1 footer, 103.5ms\n",
      "image 196/2605 /tf/notebook/testimage/screencapture-bipum-net-main-index-php-2022-09-29-15_08_24.jpg: 640x224 1 banner, 1 2block, 3 3blocks, 4 4blocks, 1 header, 1 footer, 22.7ms\n",
      "image 197/2605 /tf/notebook/testimage/screencapture-biscuitbutton-2022-09-29-14_09_39.jpg: 640x480 1 2block, 1 4block, 1 5block, 1 gallery, 1 header, 1 footer, 36.2ms\n",
      "image 198/2605 /tf/notebook/testimage/screencapture-bit-da-2022-09-29-16_43_54.jpg: 640x160 1 2block, 2 3blocks, 3 4blocks, 1 gallery, 1 footer, 24.7ms\n",
      "image 199/2605 /tf/notebook/testimage/screencapture-black-up-kr-2022-09-29-11_00_58.jpg: 640x192 2 banners, 1 2block, 3 5blocks, 1 header, 48.7ms\n",
      "image 200/2605 /tf/notebook/testimage/screencapture-blackbrown-co-kr-2022-09-29-11_38_55.jpg: 640x192 1 banner, 5 4blocks, 2 5blocks, 1 gallery, 1 header, 1 footer, 36.8ms\n",
      "image 201/2605 /tf/notebook/testimage/screencapture-blackhole-j-2022-09-28-17_16_37.jpg: 640x128 2 3blocks, 2 4blocks, 2 5blocks, 2 headers, 1 footer, 32.2ms\n",
      "image 202/2605 /tf/notebook/testimage/screencapture-blackpeach-co-kr-2022-09-29-16_41_12.jpg: 512x640 1 gallery, 1 header, 78.9ms\n",
      "image 203/2605 /tf/notebook/testimage/screencapture-blancto-kr-index-html-2022-09-29-09_56_12.jpg: 640x192 1 banner, 1 4block, 1 5block, 1 header, 1 footer, 190.6ms\n",
      "image 204/2605 /tf/notebook/testimage/screencapture-blaszok-mpcthemes-net-default-2022-09-22-14_14_16.jpg: 640x448 4 banners, 1 2block, 1 3block, 3 4blocks, 1 footer, 7.6ms\n",
      "image 205/2605 /tf/notebook/testimage/screencapture-blaszok-mpcthemes-net-fashion-portfolio-2022-09-22-14_14_34.jpg: 416x640 1 gallery, 3 headers, 52.7ms\n",
      "image 206/2605 /tf/notebook/testimage/screencapture-blessshop-co-kr-2022-09-30-09_49_21.jpg: 640x96 2 banners, 1 2block, 1 3block, 2 4blocks, 1 header, 1 footer, 8.2ms\n",
      "image 207/2605 /tf/notebook/testimage/screencapture-bling-market-html-2022-09-29-09_27_57.jpg: 640x224 2 banners, 1 2block, 1 3block, 2 4blocks, 3 5blocks, 1 gallery, 1 header, 1 footer, 12.5ms\n",
      "image 208/2605 /tf/notebook/testimage/screencapture-bluepops-co-kr-2022-09-29-15_02_28.jpg: 640x96 1 banner, 2 3blocks, 1 4block, 1 5block, 1 footer, 14.4ms\n",
      "image 209/2605 /tf/notebook/testimage/screencapture-blueskytechco-cogito-2022-09-27-11_37_32123.jpg: 640x320 4 banners, 1 4block, 1 typo, 1 header, 1 footer, 17.4ms\n",
      "image 210/2605 /tf/notebook/testimage/screencapture-blueskytechco-cogito-home-2-2022-09-27-11_38_35124.jpg: 640x320 2 banners, 1 2block, 1 3block, 3 4blocks, 1 5block, 2 typos, 1 header, 19.7ms\n",
      "image 211/2605 /tf/notebook/testimage/screencapture-blueskytechco-cogito-home-4-2022-09-27-11_38_54126.jpg: 640x320 2 banners, 1 2block, 3 4blocks, 1 5block, 1 typo, 1 header, 1 footer, 39.2ms\n",
      "image 212/2605 /tf/notebook/testimage/screencapture-blueskytechco-cogito-home-5-2022-09-27-11_39_06127.jpg: 640x256 2 banners, 2 2blocks, 2 3blocks, 4 4blocks, 1 5block, 1 header, 1 footer, 36.8ms\n",
      "image 213/2605 /tf/notebook/testimage/screencapture-blueskytechco-cogito-home-page-8-2022-09-27-11_39_35130.jpg: 640x320 4 banners, 1 3block, 2 4blocks, 1 typo, 1 header, 1 footer, 43.7ms\n",
      "image 214/2605 /tf/notebook/testimage/screencapture-blueskytechco-cogito-rtl-2022-09-27-11_39_58134.jpg: 640x320 2 banners, 4 4blocks, 1 6block, 1 typo, 1 header, 71.2ms\n",
      "image 215/2605 /tf/notebook/testimage/screencapture-blueskytechco-eurotas-2022-09-26-17_37_19.jpg: 640x320 2 banners, 1 3block, 1 4block, 1 5block, 1 gallery, 1 header, 1 footer, 51.9ms\n",
      "image 216/2605 /tf/notebook/testimage/screencapture-blueskytechco-gosto-home-page-14-2022-09-23-17_45_05.jpg: 640x352 2 banners, 1 2block, 2 3blocks, 2 5blocks, 1 6block, 1 header, 2 footers, 61.5ms\n",
      "image 217/2605 /tf/notebook/testimage/screencapture-blueskytechco-gosto-home-page-15-2022-09-23-17_45_38.jpg: 640x320 1 banner, 2 3blocks, 2 5blocks, 1 6block, 1 gallery, 1 header, 1 footer, 49.3ms\n",
      "image 218/2605 /tf/notebook/testimage/screencapture-blueskytechco-gosto-home-page-3-2022-09-23-17_41_32.jpg: 640x288 2 banners, 2 3blocks, 2 4blocks, 1 6block, 1 gallery, 1 header, 1 footer, 58.2ms\n",
      "image 219/2605 /tf/notebook/testimage/screencapture-blueskytechco-gosto-home-page-4-2022-09-23-17_41_53.jpg: 640x224 2 banners, 4 3blocks, 1 4block, 2 5blocks, 1 typo, 1 header, 1 footer, 73.4ms\n",
      "image 220/2605 /tf/notebook/testimage/screencapture-blueskytechco-gosto-home-page-7-2022-09-23-17_42_51.jpg: 640x384 1 banner, 3 3blocks, 2 5blocks, 1 7block, 1 typo, 1 header, 1 footer, 24.1ms\n",
      "image 221/2605 /tf/notebook/testimage/screencapture-blueskytechco-gosto-home-page-8-2022-09-23-17_44_34.jpg: 640x288 2 banners, 4 4blocks, 1 7block, 1 gallery, 1 header, 1 footer, 23.5ms\n",
      "image 222/2605 /tf/notebook/testimage/screencapture-blueskytechco-homess-home-page-10-2022-09-27-17_10_15149.jpg: 640x352 1 banner, 1 2block, 1 5block, 1 typo, 1 header, 1 footer, 22.9ms\n",
      "image 223/2605 /tf/notebook/testimage/screencapture-blueskytechco-homess-home-page-11-2022-09-27-17_10_26150.jpg: 640x288 1 banner, 1 2block, 3 3blocks, 1 4block, 1 typo, 1 header, 1 footer, 79.7ms\n",
      "image 224/2605 /tf/notebook/testimage/screencapture-blueskytechco-homess-home-page-12-2022-09-27-17_10_36151.jpg: 640x352 3 banners, 2 3blocks, 1 typo, 1 header, 1 footer, 25.5ms\n",
      "image 225/2605 /tf/notebook/testimage/screencapture-blueskytechco-homess-home-page-2-2022-09-27-17_08_54141.jpg: 640x352 1 banner, 1 3block, 1 4block, 2 typos, 1 gallery, 1 header, 1 footer, 25.8ms\n",
      "image 226/2605 /tf/notebook/testimage/screencapture-blueskytechco-homess-home-page-3-2022-09-27-17_09_04142.jpg: 640x320 3 banners, 3 4blocks, 1 typo, 1 header, 1 footer, 30.7ms\n",
      "image 227/2605 /tf/notebook/testimage/screencapture-blueskytechco-homess-home-page-5-2022-09-27-17_09_23144.jpg: 640x384 1 banner, 1 3block, 1 typo, 1 header, 1 footer, 63.3ms\n"
     ]
    },
    {
     "name": "stdout",
     "output_type": "stream",
     "text": [
      "image 228/2605 /tf/notebook/testimage/screencapture-blueskytechco-homess-home-page-6-2022-09-27-17_09_32145.jpg: 640x352 1 banner, 1 3block, 1 typo, 1 gallery, 1 header, 1 footer, 111.7ms\n",
      "image 229/2605 /tf/notebook/testimage/screencapture-blueskytechco-homess-home-page-7-2022-09-27-17_09_42146.jpg: 640x288 1 banner, 3 3blocks, 2 4blocks, 1 typo, 1 header, 1 footer, 27.3ms\n",
      "image 230/2605 /tf/notebook/testimage/screencapture-blueskytechco-homess-home-page-8-2022-09-27-17_09_53147.jpg: 640x384 1 banner, 2 3blocks, 1 4block, 1 typo, 1 header, 1 footer, 29.6ms\n",
      "image 231/2605 /tf/notebook/testimage/screencapture-blueskytechco-rubix-2022-09-27-14_01_47159.jpg: 640x224 3 banners, 2 3blocks, 2 4blocks, 2 6blocks, 1 gallery, 1 header, 1 footer, 28.3ms\n",
      "image 232/2605 /tf/notebook/testimage/screencapture-blueskytechco-rubix-fashion-01-2022-09-27-14_03_54161.jpg: 640x192 1 banner, 1 2block, 2 3blocks, 2 4blocks, 2 6blocks, 1 typo, 1 gallery, 1 header, 1 footer, 22.1ms\n",
      "image 233/2605 /tf/notebook/testimage/screencapture-blueskytechco-rubix-fashion-02-2022-09-27-14_04_06162.jpg: 640x224 2 banners, 3 3blocks, 2 4blocks, 2 6blocks, 1 typo, 1 header, 1 footer, 46.3ms\n",
      "image 234/2605 /tf/notebook/testimage/screencapture-blueskytechco-rubix-furniture-3-2022-09-27-14_03_14165.jpg: 640x224 1 banner, 1 2block, 3 3blocks, 1 4block, 3 6blocks, 1 typo, 1 header, 1 footer, 54.6ms\n",
      "image 235/2605 /tf/notebook/testimage/screencapture-blueskytechco-rubix-furniture-5-2022-09-27-14_03_33166.jpg: 640x224 1 banner, 4 3blocks, 1 4block, 2 6blocks, 1 typo, 1 gallery, 1 header, 1 footer, 124.1ms\n",
      "image 236/2605 /tf/notebook/testimage/screencapture-blueskytechco-rubix-furniture-6-2022-09-27-14_03_44167.jpg: 640x256 1 2block, 3 3blocks, 1 4block, 2 6blocks, 1 typo, 1 gallery, 2 headers, 1 footer, 7.0ms\n",
      "image 237/2605 /tf/notebook/testimage/screencapture-blueskytechco-rubix-jewelry-01-2022-09-27-14_04_56168.jpg: 640x224 2 banners, 1 2block, 2 3blocks, 2 4blocks, 1 6block, 1 gallery, 1 header, 1 footer, 6.7ms\n",
      "image 238/2605 /tf/notebook/testimage/screencapture-blueskytechco-rubix-organic-2022-09-27-14_06_28169.jpg: 640x192 4 banners, 1 2block, 2 3blocks, 1 4block, 1 5block, 2 6blocks, 1 typo, 1 header, 1 footer, 8.5ms\n",
      "image 239/2605 /tf/notebook/testimage/screencapture-blueskytechco-rubix-plant-1-2022-09-27-14_05_19170.jpg: 640x192 2 banners, 2 3blocks, 1 4block, 1 5block, 1 6block, 2 typos, 1 gallery, 1 header, 1 footer, 8.0ms\n",
      "image 240/2605 /tf/notebook/testimage/screencapture-blueskytechco-rubix-plant-1-2022-09-27-14_06_15171.jpg: 640x192 2 banners, 2 3blocks, 1 4block, 1 5block, 1 6block, 2 typos, 1 gallery, 1 header, 1 footer, 7.2ms\n",
      "image 241/2605 /tf/notebook/testimage/screencapture-blueskytechmage-minimog-2022-09-23-10_12_19.jpg: 640x544 1 banner, 2 4blocks, 1 5block, 1 header, 1 footer, 71.0ms\n",
      "image 242/2605 /tf/notebook/testimage/screencapture-blueskytechmage-minimog-demo-activewear-1-2022-09-23-10_21_36.jpg: 640x352 1 banner, 2 2blocks, 2 3blocks, 2 5blocks, 1 typo, 1 header, 1 footer, 9.5ms\n",
      "image 243/2605 /tf/notebook/testimage/screencapture-blueskytechmage-minimog-demo-bra-1-2022-09-23-10_21_55.jpg: 640x416 2 banners, 1 2block, 2 3blocks, 2 4blocks, 1 5block, 1 header, 1 footer, 35.0ms\n",
      "image 244/2605 /tf/notebook/testimage/screencapture-blueskytechmage-minimog-demo-fashion-10-2022-09-23-10_19_49.jpg: 640x448 3 banners, 3 4blocks, 1 gallery, 1 header, 1 footer, 36.9ms\n",
      "image 245/2605 /tf/notebook/testimage/screencapture-blueskytechmage-minimog-demo-fashion-11-2022-09-23-10_20_04.jpg: 640x480 1 banner, 1 2block, 1 3block, 3 4blocks, 1 gallery, 2 headers, 1 footer, 38.6ms\n",
      "image 246/2605 /tf/notebook/testimage/screencapture-blueskytechmage-minimog-demo-fashion-13-2022-09-23-10_20_57.jpg: 576x640 1 banner, 1 5block, 1 gallery, 2 headers, 2 footers, 62.1ms\n",
      "image 247/2605 /tf/notebook/testimage/screencapture-blueskytechmage-minimog-demo-fashion-2-2022-09-23-10_12_52.jpg: 640x448 1 banner, 1 2block, 1 3block, 4 4blocks, 1 header, 1 footer, 71.4ms\n",
      "image 248/2605 /tf/notebook/testimage/screencapture-blueskytechmage-minimog-demo-fashion-7-2022-09-23-10_18_11.jpg: 640x512 1 banner, 1 2block, 1 3block, 3 4blocks, 1 header, 1 footer, 67.8ms\n",
      "image 249/2605 /tf/notebook/testimage/screencapture-blueskytechmage-minimog-demo-fashion-8-2022-09-23-10_18_25.jpg: 640x576 3 banners, 1 2block, 1 4block, 1 5block, 1 header, 1 footer, 52.4ms\n",
      "image 250/2605 /tf/notebook/testimage/screencapture-blueskytechmage-minimog-demo-megamog-1-2022-09-23-10_11_37.jpg: 640x416 1 2block, 2 3blocks, 1 4block, 4 5blocks, 1 6block, 1 7block, 1 typo, 1 gallery, 1 header, 2 footers, 32.5ms\n",
      "image 251/2605 /tf/notebook/testimage/screencapture-blueskytechmage-minimog-demo-megastore-1-2022-09-23-10_11_20.jpg: 640x640 2 banners, 1 2block, 2 3blocks, 1 4block, 1 5block, 1 6block, 1 7block, 1 gallery, 1 header, 1 footer, 302.0ms\n",
      "image 252/2605 /tf/notebook/testimage/screencapture-blueskytechmage-minimog-demo-supergear-1-2022-09-23-10_11_56.jpg: 640x448 2 banners, 1 2block, 2 3blocks, 1 5block, 3 6blocks, 2 gallerys, 1 header, 1 footer, 7.4ms\n",
      "image 253/2605 /tf/notebook/testimage/screencapture-blueskytechmage-next-minimog-demo-backpack-1-2022-09-23-10_23_21.jpg: 640x384 2 banners, 2 2blocks, 3 3blocks, 1 4block, 1 5block, 1 header, 1 footer, 7.1ms\n",
      "image 254/2605 /tf/notebook/testimage/screencapture-blueskytechmage-next-minimog-demo-bag-1-2022-09-23-10_35_51.jpg: 640x416 1 banner, 2 2blocks, 1 3block, 3 4blocks, 1 5block, 1 header, 1 footer, 20.8ms\n",
      "image 255/2605 /tf/notebook/testimage/screencapture-blueskytechmage-next-minimog-demo-bedding-1-2022-09-23-10_27_00.jpg: 640x480 1 banner, 3 2blocks, 1 3block, 2 5blocks, 1 typo, 1 header, 3 footers, 23.3ms\n",
      "image 256/2605 /tf/notebook/testimage/screencapture-blueskytechmage-next-minimog-demo-case-phone-1-2022-09-23-10_26_05.jpg: 640x512 1 banner, 1 2block, 1 3block, 1 4block, 2 5blocks, 1 typo, 1 header, 1 footer, 30.7ms\n",
      "image 257/2605 /tf/notebook/testimage/screencapture-blueskytechmage-next-minimog-demo-furniture-1-2022-09-23-10_25_03.jpg: 640x576 1 banner, 2 2blocks, 1 3block, 1 4block, 1 typo, 1 header, 1 footer, 47.4ms\n",
      "image 258/2605 /tf/notebook/testimage/screencapture-blueskytechmage-next-minimog-demo-glasses-1-2022-09-23-10_36_49.jpg: 640x416 2 banners, 4 3blocks, 1 header, 1 footer, 64.5ms\n",
      "image 259/2605 /tf/notebook/testimage/screencapture-blueskytechmage-next-minimog-demo-hat-1-2022-09-23-10_36_12.jpg: 640x416 1 banner, 1 2block, 1 3block, 3 5blocks, 1 gallery, 1 header, 1 footer, 50.3ms\n",
      "image 260/2605 /tf/notebook/testimage/screencapture-blueskytechmage-next-minimog-demo-sneaker-1-2022-09-23-10_27_18.jpg: 640x512 1 banner, 1 2block, 1 3block, 2 5blocks, 1 typo, 1 header, 1 footer, 50.6ms\n",
      "image 261/2605 /tf/notebook/testimage/screencapture-blueskytechmage-next-minimog-demo-socks-1-2022-09-23-10_26_39.jpg: 640x512 2 banners, 2 2blocks, 2 5blocks, 1 6block, 1 typo, 1 header, 1 footer, 80.8ms\n",
      "image 262/2605 /tf/notebook/testimage/screencapture-blueskytechmage-next-minimog-demo-watch-1-2022-09-23-10_35_31.jpg: 640x512 3 banners, 1 2block, 2 3blocks, 1 5block, 1 header, 1 footer, 78.3ms\n",
      "image 263/2605 /tf/notebook/testimage/screencapture-bnrmall-2022-09-29-10_55_10.jpg: 640x320 3 banners, 2 3blocks, 2 4blocks, 1 typo, 1 gallery, 1 header, 2 footers, 51.3ms\n",
      "image 264/2605 /tf/notebook/testimage/screencapture-bodymore-co-kr-2022-09-29-16_06_45.jpg: 640x96 1 3block, 3 4blocks, 2 5blocks, 3 footers, 34.1ms\n",
      "image 265/2605 /tf/notebook/testimage/screencapture-bold-colibri-interactive-catalogue-mode-2022-09-28-11_42_46.jpg: 640x544 2 2blocks, 1 3block, 2 4blocks, 2 typos, 1 footer, 82.6ms\n",
      "image 266/2605 /tf/notebook/testimage/screencapture-bonajour-2022-09-29-13_48_52.jpg: 640x256 1 banner, 3 3blocks, 1 5block, 1 7block, 1 header, 1 footer, 37.3ms\n",
      "image 267/2605 /tf/notebook/testimage/screencapture-book-interpark-bookPark-html-book-html-2022-09-29-14_04_11.jpg: 640x448 2 banners, 1 2block, 2 3blocks, 1 4block, 1 5block, 1 6block, 2 gallerys, 1 header, 1 footer, 100.9ms\n",
      "image 268/2605 /tf/notebook/testimage/screencapture-boom-style-2022-09-29-09_37_20.jpg: 640x96 1 banner, 4 4blocks, 1 5block, 2 headers, 1 footer, 191.5ms\n",
      "image 269/2605 /tf/notebook/testimage/screencapture-boria-mallthemes-2022-09-27-11_42_21181.jpg: 640x256 2 banners, 2 3blocks, 2 4blocks, 1 5block, 1 gallery, 1 header, 1 footer, 6.9ms\n"
     ]
    },
    {
     "name": "stdout",
     "output_type": "stream",
     "text": [
      "image 270/2605 /tf/notebook/testimage/screencapture-boria-mallthemes-shoes-2022-09-27-11_42_51185.jpg: 640x288 2 banners, 1 3block, 4 4blocks, 1 header, 1 footer, 6.8ms\n",
      "image 271/2605 /tf/notebook/testimage/screencapture-borobazar-redq-io-2022-09-23-16_54_06.jpg: 640x384 1 banner, 1 2block, 1 3block, 3 4blocks, 1 5block, 5 7blocks, 1 header, 7.0ms\n",
      "image 272/2605 /tf/notebook/testimage/screencapture-borobazar-redq-io-modern-2022-09-23-16_54_50.jpg: 640x352 2 banners, 1 3block, 2 4blocks, 1 6block, 2 7blocks, 1 header, 1 footer, 7.4ms\n",
      "image 273/2605 /tf/notebook/testimage/screencapture-borobazar-redq-io-standard-2022-09-23-16_55_22.jpg: 640x288 3 banners, 2 4blocks, 2 7blocks, 1 nblock, 1 gallery, 1 header, 1 footer, 7.7ms\n",
      "image 274/2605 /tf/notebook/testimage/screencapture-borobazar-redq-io-trendy-2022-09-23-16_55_31.jpg: 640x288 2 banners, 1 2block, 1 4block, 2 6blocks, 1 8block, 1 gallery, 1 header, 1 footer, 6.8ms\n",
      "image 275/2605 /tf/notebook/testimage/screencapture-botanity-2022-09-28-16_48_22.jpg: 640x352 3 banners, 1 3block, 3 typos, 1 header, 1 footer, 14.8ms\n",
      "image 276/2605 /tf/notebook/testimage/screencapture-boxsensei-2022-09-29-09_43_50.jpg: 640x192 1 3block, 3 4blocks, 3 typos, 12.4ms\n",
      "image 277/2605 /tf/notebook/testimage/screencapture-bpop1-2022-09-29-11_14_37.jpg: 640x192 2 4blocks, 1 5block, 2 gallerys, 1 header, 1 footer, 12.7ms\n",
      "image 278/2605 /tf/notebook/testimage/screencapture-brand-naver-egojin-2022-09-29-14_52_55.jpg: 640x96 4 banners, 1 3block, 8 4blocks, 2 5blocks, 1 typo, 1 gallery, 1 header, 1 footer, 13.4ms\n",
      "image 279/2605 /tf/notebook/testimage/screencapture-brand-naver-linefriends-2022-09-29-14_37_25.jpg: 640x96 4 banners, 2 3blocks, 5 4blocks, 1 typo, 1 gallery, 1 footer, 17.6ms\n",
      "image 280/2605 /tf/notebook/testimage/screencapture-brand-naver-retrohouse-2022-09-29-14_53_29.jpg: 640x256 4 banners, 1 2block, 1 3block, 1 4block, 1 5block, 1 typo, 36.5ms\n",
      "image 281/2605 /tf/notebook/testimage/screencapture-brandi-co-kr-categories-1110-trend-2022-09-29-14_40_56.jpg: 640x192 1 banner, 1 4block, 1 footer, 25.4ms\n",
      "image 282/2605 /tf/notebook/testimage/screencapture-brandstore-baemin-2022-09-28-17_06_45.jpg: 640x256 3 banners, 2 3blocks, 3 4blocks, 2 headers, 1 footer, 59.7ms\n",
      "image 283/2605 /tf/notebook/testimage/screencapture-brator-smartdemowp-2022-09-28-11_37_44.jpg: 640x256 1 banner, 1 2block, 1 3block, 1 4block, 1 5block, 2 6blocks, 1 gallery, 1 header, 1 footer, 28.2ms\n",
      "image 284/2605 /tf/notebook/testimage/screencapture-bravissimo-co-kr-2022-09-29-16_40_12.jpg: 416x640 1 banner, 2 headers, 1 footer, 47.1ms\n",
      "image 285/2605 /tf/notebook/testimage/screencapture-browncode-co-kr-2022-09-30-09_33_08.jpg: 640x128 2 banners, 2 3blocks, 1 4block, 1 header, 1 footer, 197.8ms\n",
      "image 286/2605 /tf/notebook/testimage/screencapture-bulgari-ko-kr-2022-09-28-17_21_26.jpg: 640x320 1 banner, 2 3blocks, 2 4blocks, 1 6block, 1 typo, 1 header, 1 footer, 25.0ms\n",
      "image 287/2605 /tf/notebook/testimage/screencapture-bulgari-ko-kr-2022-09-29-11_01_57.jpg: 640x416 1 banner, 3 3blocks, 2 4blocks, 1 6block, 1 typo, 1 header, 1 footer, 28.3ms\n",
      "image 288/2605 /tf/notebook/testimage/screencapture-bullsonemall-2022-09-28-17_21_24.jpg: 640x224 5 banners, 1 2block, 1 3block, 4 4blocks, 2 5blocks, 1 nblock, 1 gallery, 1 header, 1 footer, 20.9ms\n",
      "image 289/2605 /tf/notebook/testimage/screencapture-buythebag-co-kr-2022-09-29-14_20_55.jpg: 640x160 1 banner, 1 2block, 1 3block, 8 4blocks, 1 gallery, 1 header, 1 footer, 22.2ms\n",
      "image 290/2605 /tf/notebook/testimage/screencapture-bxgs-co-kr-2022-09-28-17_14_38.jpg: 640x256 3 banners, 2 3blocks, 1 4block, 1 header, 1 footer, 184.5ms\n",
      "image 291/2605 /tf/notebook/testimage/screencapture-bymono-2022-09-28-17_16_10.jpg: 640x96 3 banners, 6 4blocks, 1 footer, 6.5ms\n",
      "image 292/2605 /tf/notebook/testimage/screencapture-byn-kr-blackyak-2022-09-28-17_30_53.jpg: 640x224 3 banners, 1 2block, 1 4block, 1 5block, 1 6block, 1 8block, 2 headers, 1 footer, 6.6ms\n",
      "image 293/2605 /tf/notebook/testimage/screencapture-byslim-2022-09-28-17_49_49.jpg: 640x64 2 banners, 1 3block, 6 4blocks, 1 footer, 6.6ms\n",
      "image 294/2605 /tf/notebook/testimage/screencapture-byther-kr-2022-09-28-17_47_37.jpg: 640x96 2 banners, 1 2block, 2 4blocks, 1 5block, 1 nblock, 1 gallery, 1 footer, 6.9ms\n",
      "image 295/2605 /tf/notebook/testimage/screencapture-c-by-b-2022-09-29-11_09_56.jpg: 544x640 1 banner, 1 header, 1 footer, 60.0ms\n",
      "image 296/2605 /tf/notebook/testimage/screencapture-c-chouette-co-kr-2022-09-29-15_34_12.jpg: 640x128 1 4block, 1 5block, 1 gallery, 1 header, 1 footer, 12.6ms\n",
      "image 297/2605 /tf/notebook/testimage/screencapture-calla-qodeinteractive-2022-09-27-10_10_59.jpg: 640x224 2 banners, 2 3blocks, 2 4blocks, 1 5block, 1 typo, 1 gallery, 1 header, 1 footer, 21.1ms\n",
      "image 298/2605 /tf/notebook/testimage/screencapture-calla-qodeinteractive-decor-home-2022-09-27-10_11_21.jpg: 640x224 2 banners, 1 2block, 3 3blocks, 2 4blocks, 1 5block, 1 typo, 1 header, 1 footer, 18.6ms\n",
      "image 299/2605 /tf/notebook/testimage/screencapture-calmomentree-2022-09-28-17_11_39.jpg: 320x640 1 banner, 3 headers, 55.0ms\n",
      "image 300/2605 /tf/notebook/testimage/screencapture-calobye-2022-09-29-10_51_07.jpg: 640x256 2 banners, 4 3blocks, 3 4blocks, 2 5blocks, 1 gallery, 1 header, 1 footer, 34.2ms\n",
      "image 301/2605 /tf/notebook/testimage/screencapture-calvinklein-kr-ko-homepage-2022-09-28-17_33_22.jpg: 640x160 3 banners, 3 2blocks, 1 4block, 1 typo, 1 header, 1 footer, 20.1ms\n",
      "image 302/2605 /tf/notebook/testimage/screencapture-camelbrown-2022-09-30-09_41_59.jpg: 640x128 4 banners, 1 2block, 1 3block, 1 4block, 9 5blocks, 1 6block, 1 8block, 1 typo, 1 header, 1 footer, 39.3ms\n",
      "image 303/2605 /tf/notebook/testimage/screencapture-camper-ko-KR-2022-09-29-11_38_06.jpg: 640x192 3 banners, 3 2blocks, 1 header, 1 footer, 38.9ms\n",
      "image 304/2605 /tf/notebook/testimage/screencapture-canifa-7uptheme-net-home-6-2022-09-28-11_35_42192.jpg: 640x320 2 banners, 3 2blocks, 1 3block, 2 4blocks, 1 header, 1 footer, 42.2ms\n",
      "image 305/2605 /tf/notebook/testimage/screencapture-canifa-7uptheme-net-home-7-2022-09-28-11_35_46193.jpg: 640x288 2 banners, 1 2block, 3 3blocks, 2 4blocks, 1 6block, 1 header, 1 footer, 48.5ms\n",
      "image 306/2605 /tf/notebook/testimage/screencapture-canmart-co-kr-2022-09-29-10_45_56.jpg: 640x96 2 banners, 2 2blocks, 4 3blocks, 8 4blocks, 1 6block, 1 typo, 1 gallery, 2 footers, 20.5ms\n",
      "image 307/2605 /tf/notebook/testimage/screencapture-canmart-co-kr-2022-09-29-11_41_43.jpg: 640x96 1 banner, 2 2blocks, 3 3blocks, 9 4blocks, 1 6block, 1 typo, 2 gallerys, 2 footers, 23.1ms\n",
      "image 308/2605 /tf/notebook/testimage/screencapture-carica-7uptheme-net-home-boxed-2022-09-27-10_42_55.jpg: 640x384 2 banners, 1 3block, 1 4block, 1 typo, 1 header, 1 footer, 89.6ms\n",
      "image 309/2605 /tf/notebook/testimage/screencapture-carica-7uptheme-net-home-carousel-2022-09-27-10_42_48.jpg: 640x352 1 3block, 1 4block, 4 5blocks, 1 header, 1 footer, 7.4ms\n",
      "image 310/2605 /tf/notebook/testimage/screencapture-carica-7uptheme-net-home-categories-2022-09-27-10_42_42.jpg: 640x320 1 banner, 1 2block, 1 3block, 1 5block, 4 gallerys, 1 header, 1 footer, 6.7ms\n",
      "image 311/2605 /tf/notebook/testimage/screencapture-caringlasses-2022-09-30-10_16_22.jpg: 640x288 3 banners, 1 2block, 2 4blocks, 1 header, 7.2ms\n",
      "image 312/2605 /tf/notebook/testimage/screencapture-carven-co-kr-BESTCOLLECTION-2022-09-29-15_48_54.jpg: 640x384 1 banner, 1 4block, 1 header, 6.9ms\n",
      "image 313/2605 /tf/notebook/testimage/screencapture-carven-co-kr-EYEWEAR-2022-09-29-15_48_43.jpg: 640x384 1 banner, 1 4block, 1 header, 22.5ms\n",
      "image 314/2605 /tf/notebook/testimage/screencapture-casemario-2022-09-29-10_36_27.jpg: 640x128 1 banner, 11 4blocks, 1 header, 1 footer, 14.1ms\n",
      "image 315/2605 /tf/notebook/testimage/screencapture-casetify-2022-09-29-11_02_48.jpg: 640x160 2 banners, 2 2blocks, 3 3blocks, 3 4blocks, 2 typos, 1 header, 1 footer, 18.0ms\n",
      "image 316/2605 /tf/notebook/testimage/screencapture-cashop-themetags-home-parts-2022-09-27-15_43_04.jpg: 640x288 3 banners, 2 2blocks, 1 3block, 4 4blocks, 1 header, 1 footer, 22.5ms\n",
      "image 317/2605 /tf/notebook/testimage/screencapture-cashop-themetags-home-technology-2022-09-27-15_42_59.jpg: 640x384 2 banners, 2 2blocks, 1 3block, 2 4blocks, 1 6block, 1 header, 1 footer, 36.9ms\n"
     ]
    },
    {
     "name": "stdout",
     "output_type": "stream",
     "text": [
      "image 318/2605 /tf/notebook/testimage/screencapture-casona-familab-net-2022-09-27-14_09_40.jpg: 640x288 2 banners, 1 2block, 1 3block, 1 4block, 1 typo, 1 gallery, 1 header, 1 footer, 128.0ms\n",
      "image 319/2605 /tf/notebook/testimage/screencapture-casona-familab-net-home-2-2022-09-27-14_09_46.jpg: 640x288 2 banners, 1 2block, 1 3block, 2 4blocks, 1 typo, 1 gallery, 1 header, 1 footer, 33.4ms\n",
      "image 320/2605 /tf/notebook/testimage/screencapture-casona-familab-net-home-3-2022-09-27-14_09_52.jpg: 640x384 2 banners, 2 4blocks, 1 5block, 3 gallerys, 1 header, 1 footer, 36.3ms\n",
      "image 321/2605 /tf/notebook/testimage/screencapture-casona-familab-net-home-4-2022-09-27-14_09_57.jpg: 640x480 2 banners, 1 2block, 1 3block, 1 4block, 1 typo, 1 header, 1 footer, 71.7ms\n",
      "image 322/2605 /tf/notebook/testimage/screencapture-caston-familab-net-home-2-2022-09-26-14_57_23.jpg: 640x320 2 banners, 1 3block, 1 4block, 1 gallery, 1 header, 1 footer, 342.2ms\n",
      "image 323/2605 /tf/notebook/testimage/screencapture-caston-familab-net-home-3-2022-09-26-14_57_30.jpg: 640x288 2 banners, 2 3blocks, 2 4blocks, 1 5block, 1 header, 1 footer, 6.8ms\n",
      "image 324/2605 /tf/notebook/testimage/screencapture-caston-familab-net-home-4-2022-09-26-14_57_38.jpg: 640x352 2 banners, 1 3block, 3 4blocks, 1 5block, 1 header, 1 footer, 7.1ms\n",
      "image 325/2605 /tf/notebook/testimage/screencapture-caston-familab-net-home-5-2022-09-26-14_57_45.jpg: 640x416 1 banner, 1 4block, 1 6block, 1 gallery, 1 header, 1 footer, 8.1ms\n",
      "image 326/2605 /tf/notebook/testimage/screencapture-caston-familab-net-home-8-2022-09-26-14_59_07.jpg: 640x320 1 banner, 2 2blocks, 1 3block, 1 4block, 1 header, 1 footer, 14.8ms\n",
      "image 327/2605 /tf/notebook/testimage/screencapture-catchfashion-women-2022-09-29-11_05_00.jpg: 640x416 1 2block, 1 3block, 2 4blocks, 1 6block, 1 header, 23.8ms\n",
      "image 328/2605 /tf/notebook/testimage/screencapture-cathkidstonkorea-co-kr-main-index-asp-2022-09-29-14_02_55.jpg: 640x288 1 banner, 2 2blocks, 1 5block, 1 typo, 1 gallery, 1 header, 1 footer, 25.8ms\n",
      "image 329/2605 /tf/notebook/testimage/screencapture-ccshop-co-kr-2022-09-29-15_47_55.jpg: 640x480 1 banner, 2 5blocks, 1 header, 1 footer, 25.3ms\n",
      "image 330/2605 /tf/notebook/testimage/screencapture-cecile-arrowtheme-home-categories-2022-09-26-11_22_22.jpg: 640x224 3 banners, 2 3blocks, 1 4block, 1 typo, 1 gallery, 1 header, 26.7ms\n",
      "image 331/2605 /tf/notebook/testimage/screencapture-cecile-arrowtheme-home-christmas-2022-09-26-11_20_48.jpg: 640x224 3 banners, 1 4block, 2 gallerys, 1 header, 1 footer, 35.8ms\n",
      "image 332/2605 /tf/notebook/testimage/screencapture-cecile-arrowtheme-home-metro-2022-09-26-11_23_06.jpg: 640x256 2 banners, 1 2block, 1 4block, 1 gallery, 1 header, 1 footer, 48.4ms\n",
      "image 333/2605 /tf/notebook/testimage/screencapture-cecile-arrowtheme-home-minimalist-2022-09-26-11_23_25.jpg: 640x352 2 banners, 2 2blocks, 1 3block, 1 4block, 1 typo, 1 header, 127.1ms\n",
      "image 334/2605 /tf/notebook/testimage/screencapture-cecile-arrowtheme-home-trendy-2022-09-26-11_21_49.jpg: 640x224 4 banners, 2 3blocks, 1 4block, 1 5block, 1 header, 1 footer, 29.0ms\n",
      "image 335/2605 /tf/notebook/testimage/screencapture-celecon-2022-09-29-11_18_33.jpg: 640x288 3 banners, 1 3block, 2 4blocks, 1 7block, 1 typo, 1 header, 1 footer, 32.9ms\n",
      "image 336/2605 /tf/notebook/testimage/screencapture-celik-familab-net-2022-09-27-18_33_32.jpg: 640x224 2 banners, 3 2blocks, 1 3block, 2 4blocks, 1 gallery, 1 header, 1 footer, 24.2ms\n",
      "image 337/2605 /tf/notebook/testimage/screencapture-celik-familab-net-home-02-2022-09-27-18_36_30.jpg: 640x288 3 banners, 1 3block, 3 4blocks, 1 typo, 1 header, 1 footer, 54.0ms\n",
      "image 338/2605 /tf/notebook/testimage/screencapture-celik-familab-net-home-03-2022-09-27-18_36_50.jpg: 640x352 3 banners, 2 3blocks, 1 5block, 3 gallerys, 1 header, 1 footer, 189.1ms\n",
      "image 339/2605 /tf/notebook/testimage/screencapture-celik-familab-net-home-04-2022-09-27-18_36_58.jpg: 640x320 3 banners, 1 2block, 1 3block, 2 4blocks, 1 typo, 1 header, 2 footers, 6.8ms\n",
      "image 340/2605 /tf/notebook/testimage/screencapture-celik-familab-net-home-05-2022-09-27-18_37_05.jpg: 640x448 2 banners, 1 2block, 1 3block, 2 4blocks, 1 5block, 1 header, 1 footer, 7.3ms\n",
      "image 341/2605 /tf/notebook/testimage/screencapture-celik-familab-net-home-06-2022-09-27-18_37_13.jpg: 640x480 1 2block, 2 4blocks, 2 gallerys, 1 header, 1 footer, 12.4ms\n",
      "image 342/2605 /tf/notebook/testimage/screencapture-celik-familab-net-home-07-2022-09-27-18_37_20.jpg: 320x640 1 banner, 1 header, 6.8ms\n",
      "image 343/2605 /tf/notebook/testimage/screencapture-celik-familab-net-home-08-2022-09-27-18_37_28.jpg: 640x320 1 2block, 2 3blocks, 3 4blocks, 1 5block, 1 typo, 1 header, 1 footer, 9.0ms\n",
      "image 344/2605 /tf/notebook/testimage/screencapture-cenos-familab-net-home-04-2022-09-28-13_58_43202.jpg: 640x256 2 banners, 2 2blocks, 1 3block, 2 5blocks, 1 6block, 2 gallerys, 1 header, 1 footer, 7.4ms\n",
      "image 345/2605 /tf/notebook/testimage/screencapture-cenos-familab-net-home-05-2022-09-28-13_58_55203.jpg: 640x416 1 2block, 2 4blocks, 1 typo, 1 gallery, 1 header, 1 footer, 7.5ms\n",
      "image 346/2605 /tf/notebook/testimage/screencapture-cenos-familab-net-home-12-2022-09-28-14_00_30205.jpg: 640x256 2 banners, 2 2blocks, 3 3blocks, 1 4block, 1 5block, 1 header, 1 footer, 13.3ms\n",
      "image 347/2605 /tf/notebook/testimage/screencapture-cenos-familab-net-square-home-06-2022-09-28-13_59_03213.jpg: 640x288 2 banners, 1 2block, 2 3blocks, 1 4block, 1 8block, 1 gallery, 1 header, 1 footer, 13.7ms\n",
      "image 348/2605 /tf/notebook/testimage/screencapture-cenos-familab-net-square-home-11-2022-09-28-14_00_22216.jpg: 640x288 1 banner, 5 2blocks, 1 4block, 1 5block, 1 header, 1 footer, 28.8ms\n",
      "image 349/2605 /tf/notebook/testimage/screencapture-chaance-main-main-2022-09-28-17_01_49.jpg: 640x96 4 banners, 5 2blocks, 5 3blocks, 3 4blocks, 1 5block, 14.3ms\n",
      "image 350/2605 /tf/notebook/testimage/screencapture-chaefit-2022-09-29-15_24_51.jpg: 640x64 1 2block, 7 4blocks, 1 gallery, 1 footer, 20.6ms\n",
      "image 351/2605 /tf/notebook/testimage/screencapture-chamar-co-kr-2022-09-29-16_22_25.jpg: 640x128 1 banner, 1 2block, 1 3block, 2 4blocks, 1 gallery, 1 footer, 23.0ms\n",
      "image 352/2605 /tf/notebook/testimage/screencapture-chaumet-kr-kr-2022-09-29-11_17_53.jpg: 640x224 2 banners, 2 2blocks, 1 4block, 1 6block, 1 header, 1 footer, 45.8ms\n",
      "image 353/2605 /tf/notebook/testimage/screencapture-chawkbazarwp-redq-io-2022-09-26-10_56_00.jpg: 640x224 5 banners, 1 3block, 2 4blocks, 2 6blocks, 2 8blocks, 1 header, 1 footer, 29.0ms\n",
      "image 354/2605 /tf/notebook/testimage/screencapture-chawkbazarwp-redq-io-classic-2022-09-26-10_56_11.jpg: 640x160 3 banners, 1 2block, 1 3block, 1 4block, 3 6blocks, 1 8block, 5 gallerys, 1 header, 3 footers, 45.8ms\n",
      "image 355/2605 /tf/notebook/testimage/screencapture-chawkbazarwp-redq-io-minimal-2022-09-26-10_54_58.jpg: 640x192 5 banners, 1 2block, 2 3blocks, 1 4block, 2 6blocks, 1 7block, 2 8blocks, 1 header, 2 footers, 29.9ms\n",
      "image 356/2605 /tf/notebook/testimage/screencapture-chawkbazarwp-redq-io-modern-2022-09-26-10_45_13.jpg: 640x160 4 banners, 1 2block, 2 4blocks, 3 6blocks, 1 8block, 3 gallerys, 1 header, 1 footer, 7.6ms\n",
      "image 357/2605 /tf/notebook/testimage/screencapture-chaye-kr-2022-09-29-10_56_27.jpg: 640x256 4 banners, 1 3block, 5 4blocks, 1 gallery, 1 header, 1 footer, 6.9ms\n",
      "image 358/2605 /tf/notebook/testimage/screencapture-chic-up-co-kr-2022-09-29-11_39_28.jpg: 640x128 1 2block, 2 4blocks, 1 5block, 1 typo, 1 gallery, 1 header, 1 footer, 7.0ms\n",
      "image 359/2605 /tf/notebook/testimage/screencapture-chicfox-co-kr-2022-09-29-11_39_09.jpg: 640x64 1 3block, 8 4blocks, 3 5blocks, 1 footer, 6.7ms\n",
      "image 360/2605 /tf/notebook/testimage/screencapture-chichera-co-kr-2022-09-29-10_56_04.jpg: 640x96 2 banners, 2 3blocks, 3 4blocks, 4 5blocks, 3 6blocks, 2 gallerys, 1 footer, 13.9ms\n",
      "image 361/2605 /tf/notebook/testimage/screencapture-chit-club-ancorathemes-2022-09-26-17_20_48218.jpg: 640x192 1 banner, 3 2blocks, 3 3blocks, 2 gallerys, 1 header, 1 footer, 25.7ms\n",
      "image 362/2605 /tf/notebook/testimage/screencapture-chit-club-ancorathemes-home-2-2022-09-26-17_21_03219.jpg: 640x192 3 banners, 3 2blocks, 4 3blocks, 1 footer, 20.2ms\n",
      "image 363/2605 /tf/notebook/testimage/screencapture-chloe-kr-2022-09-29-10_22_53.jpg: 640x224 3 banners, 1 2block, 1 4block, 3 typos, 1 header, 1 footer, 28.1ms\n"
     ]
    },
    {
     "name": "stdout",
     "output_type": "stream",
     "text": [
      "image 364/2605 /tf/notebook/testimage/screencapture-chocomom-2022-09-29-15_36_32.jpg: 640x288 2 banners, 3 4blocks, 1 header, 63.1ms\n",
      "image 365/2605 /tf/notebook/testimage/screencapture-choitemb2b-2022-09-29-14_56_08.jpg: 640x160 1 banner, 1 3block, 2 4blocks, 4 5blocks, 1 6block, 3 gallerys, 1 header, 1 footer, 21.4ms\n",
      "image 366/2605 /tf/notebook/testimage/screencapture-choper-kr-2022-09-29-16_58_36.jpg: 640x96 5 4blocks, 1 7block, 1 header, 1 footer, 23.4ms\n",
      "image 367/2605 /tf/notebook/testimage/screencapture-chuu-co-kr-2022-09-29-10_50_01.jpg: 640x160 5 3blocks, 4 4blocks, 1 5block, 2 gallerys, 1 header, 1 footer, 71.5ms\n",
      "image 368/2605 /tf/notebook/testimage/screencapture-ciao-wp1-zootemplate-home-10-2022-09-28-09_51_41.jpg: 640x416 1 3block, 1 4block, 1 typo, 1 gallery, 1 header, 1 footer, 40.3ms\n",
      "image 369/2605 /tf/notebook/testimage/screencapture-ciao-wp1-zootemplate-home-11-2022-09-28-09_54_58.jpg: 608x640 2 typos, 1 gallery, 3 headers, 3 footers, 54.9ms\n",
      "image 370/2605 /tf/notebook/testimage/screencapture-ciao-wp1-zootemplate-home-2-2022-09-28-09_48_49.jpg: 640x320 2 banners, 1 3block, 1 4block, 1 typo, 1 gallery, 1 header, 1 footer, 7.3ms\n",
      "image 371/2605 /tf/notebook/testimage/screencapture-ciao-wp1-zootemplate-home-3-2022-09-28-09_49_02.jpg: 640x320 1 banner, 2 3blocks, 1 4block, 1 typo, 1 gallery, 1 header, 2 footers, 8.5ms\n",
      "image 372/2605 /tf/notebook/testimage/screencapture-ciao-wp1-zootemplate-home-4-2022-09-28-09_49_12.jpg: 640x416 1 banner, 1 typo, 1 gallery, 1 header, 1 footer, 8.0ms\n",
      "image 373/2605 /tf/notebook/testimage/screencapture-ciao-wp1-zootemplate-home-5-2022-09-28-09_49_21.jpg: 640x576 1 banner, 1 4block, 1 gallery, 3 headers, 9.1ms\n",
      "image 374/2605 /tf/notebook/testimage/screencapture-ciao-wp1-zootemplate-home-6-2022-09-28-09_51_14.jpg: 640x352 1 banner, 1 2block, 1 4block, 1 typo, 1 gallery, 1 header, 1 footer, 11.4ms\n",
      "image 375/2605 /tf/notebook/testimage/screencapture-ciao-wp1-zootemplate-home-7-2022-09-28-09_51_23.jpg: 640x608 1 banner, 1 4block, 1 typo, 1 gallery, 1 header, 53.8ms\n",
      "image 376/2605 /tf/notebook/testimage/screencapture-ciao-wp1-zootemplate-home-8-2022-09-28-09_51_29.jpg: 608x640 1 4block, 1 gallery, 1 header, 1 footer, 20.3ms\n",
      "image 377/2605 /tf/notebook/testimage/screencapture-ciao-wp1-zootemplate-home-9-2022-09-28-09_51_35.jpg: 640x384 4 banners, 1 4block, 1 typo, 1 header, 1 footer, 26.0ms\n",
      "image 378/2605 /tf/notebook/testimage/screencapture-cide-familab-net-2022-09-27-11_18_31.jpg: 640x256 1 banner, 2 3blocks, 1 4block, 1 5block, 1 6block, 2 gallerys, 1 header, 1 footer, 35.4ms\n",
      "image 379/2605 /tf/notebook/testimage/screencapture-cide-familab-net-home-metro-2022-09-27-11_18_49.jpg: 640x416 1 banner, 1 2block, 1 5block, 1 gallery, 1 header, 1 footer, 46.1ms\n",
      "image 380/2605 /tf/notebook/testimage/screencapture-cide-familab-net-home-stylish-2022-09-27-11_18_41.jpg: 640x288 1 banner, 3 3blocks, 2 4blocks, 1 6block, 1 7block, 1 gallery, 2 headers, 1 footer, 26.5ms\n",
      "image 381/2605 /tf/notebook/testimage/screencapture-ciena-familab-net-home-classic-2022-09-28-10_38_21223.jpg: 640x288 2 banners, 2 3blocks, 2 4blocks, 2 5blocks, 1 header, 1 footer, 33.3ms\n",
      "image 382/2605 /tf/notebook/testimage/screencapture-ciena-familab-net-home-clean-2022-09-28-10_38_32224.jpg: 640x320 2 banners, 2 3blocks, 1 4block, 1 5block, 1 header, 1 footer, 277.1ms\n",
      "image 383/2605 /tf/notebook/testimage/screencapture-ciena-familab-net-home-collection-2022-09-28-10_39_38225.jpg: 640x320 1 banner, 1 4block, 1 5block, 1 gallery, 1 header, 1 footer, 6.1ms\n",
      "image 384/2605 /tf/notebook/testimage/screencapture-ciena-familab-net-home-minimal-2022-09-28-10_38_42226.jpg: 640x256 2 banners, 1 2block, 1 3block, 1 4block, 2 5blocks, 1 header, 1 footer, 8.4ms\n",
      "image 385/2605 /tf/notebook/testimage/screencapture-ciri-la-studioweb-ciri-furniture-02-2022-09-27-15_16_22.jpg: 640x192 2 banners, 1 2block, 3 3blocks, 3 4blocks, 1 5block, 1 header, 1 footer, 6.9ms\n",
      "image 386/2605 /tf/notebook/testimage/screencapture-ciri-la-studioweb-ciri-furniture-03-2022-09-27-15_16_37.jpg: 640x160 4 banners, 1 2block, 2 3blocks, 4 4blocks, 1 typo, 1 gallery, 1 header, 1 footer, 7.1ms\n",
      "image 387/2605 /tf/notebook/testimage/screencapture-ciri-la-studioweb-ciri-furniture-04-2022-09-27-15_16_52.jpg: 640x192 3 banners, 1 2block, 2 3blocks, 2 4blocks, 1 5block, 1 gallery, 1 header, 1 footer, 6.9ms\n",
      "image 388/2605 /tf/notebook/testimage/screencapture-ciri-la-studioweb-ciri-furniture-05-2022-09-27-15_17_17.jpg: 640x224 3 banners, 1 2block, 1 3block, 4 4blocks, 1 header, 1 footer, 8.2ms\n",
      "image 389/2605 /tf/notebook/testimage/screencapture-ciri-la-studioweb-ciri-furniture-06-2022-09-27-15_18_22.jpg: 640x224 4 banners, 1 2block, 2 3blocks, 1 typo, 1 header, 1 footer, 7.3ms\n",
      "image 390/2605 /tf/notebook/testimage/screencapture-ciri-la-studioweb-ciri-furniture-07-2022-09-27-15_18_10.jpg: 640x352 1 banner, 4 2blocks, 1 typo, 2 headers, 1 footer, 7.9ms\n",
      "image 391/2605 /tf/notebook/testimage/screencapture-citizenwatch-us-en-2022-09-29-14_46_56.jpg: 640x128 2 banners, 3 2blocks, 2 3blocks, 1 4block, 2 typos, 1 header, 1 footer, 16.3ms\n",
      "image 392/2605 /tf/notebook/testimage/screencapture-citizenwatch-us-en-collection-mens-sport-2022-09-29-14_47_37.jpg: 640x160 2 banners, 2 3blocks, 1 typo, 1 header, 1 footer, 20.4ms\n",
      "image 393/2605 /tf/notebook/testimage/screencapture-citynwoman-2022-09-29-13_38_30.jpg: 640x96 1 banner, 1 2block, 4 4blocks, 1 footer, 14.8ms\n",
      "image 394/2605 /tf/notebook/testimage/screencapture-cjwellcare-2022-09-28-16_39_38.jpg: 640x256 3 banners, 2 2blocks, 1 3block, 2 4blocks, 1 8block, 1 header, 1 footer, 35.9ms\n",
      "image 395/2605 /tf/notebook/testimage/screencapture-classic-hwan-2022-09-29-14_06_53.jpg: 640x96 1 banner, 1 3block, 3 4blocks, 1 gallery, 25.2ms\n",
      "image 396/2605 /tf/notebook/testimage/screencapture-classsup-2022-09-29-11_18_05.jpg: 640x160 1 banner, 1 3block, 1 4block, 1 header, 1 footer, 26.0ms\n",
      "image 397/2605 /tf/notebook/testimage/screencapture-classynco-2022-09-28-16_38_33.jpg: 640x288 1 banner, 1 2block, 1 5block, 1 typo, 1 header, 1 footer, 39.7ms\n",
      "image 398/2605 /tf/notebook/testimage/screencapture-cleanier-7uptheme-net-home-2-2022-09-27-13_50_18.jpg: 640x256 1 banner, 3 3blocks, 2 4blocks, 1 5block, 1 typo, 1 header, 1 footer, 66.7ms\n",
      "image 399/2605 /tf/notebook/testimage/screencapture-cleanier-7uptheme-net-home-4-2022-09-27-13_51_15.jpg: 640x192 3 banners, 1 2block, 2 3blocks, 1 4block, 1 5block, 3 nblocks, 1 typo, 1 header, 1 footer, 24.3ms\n",
      "image 400/2605 /tf/notebook/testimage/screencapture-cleanier-7uptheme-net-home-5-2022-09-27-13_51_28.jpg: 640x320 1 3block, 1 5block, 3 nblocks, 1 typo, 2 headers, 1 footer, 29.4ms\n",
      "image 401/2605 /tf/notebook/testimage/screencapture-cleanier-7uptheme-net-home-6-2022-09-27-13_51_36.jpg: 640x320 1 banner, 3 3blocks, 1 5block, 1 gallery, 1 header, 1 footer, 24.0ms\n",
      "image 402/2605 /tf/notebook/testimage/screencapture-cleanier-7uptheme-net-home-8-2022-09-27-13_51_53.jpg: 640x288 1 banner, 3 3blocks, 2 4blocks, 1 gallery, 1 header, 1 footer, 270.2ms\n",
      "image 403/2605 /tf/notebook/testimage/screencapture-clicknfunny-2022-09-29-10_30_06.jpg: 640x96 2 banners, 1 2block, 1 3block, 4 4blocks, 3 5blocks, 1 6block, 4 gallerys, 9.2ms\n",
      "image 404/2605 /tf/notebook/testimage/screencapture-close-clip-2022-09-29-16_45_37.jpg: 640x96 2 banners, 2 2blocks, 9 4blocks, 2 5blocks, 1 6block, 6.1ms\n",
      "image 405/2605 /tf/notebook/testimage/screencapture-clothing69-axiomthemes-home-3-2022-09-28-11_48_39.jpg: 640x256 2 banners, 2 4blocks, 1 gallery, 1 header, 7.7ms\n",
      "image 406/2605 /tf/notebook/testimage/screencapture-clothing69-axiomthemes-home-boxed-2022-09-28-11_48_18.jpg: 640x192 4 banners, 1 2block, 1 3block, 2 4blocks, 1 typo, 1 header, 7.4ms\n",
      "image 407/2605 /tf/notebook/testimage/screencapture-clriden-2022-09-29-17_06_56.jpg: 640x128 3 banners, 3 3blocks, 1 4block, 1 5block, 1 8block, 2 typos, 2 gallerys, 1 header, 1 footer, 9.5ms\n",
      "image 408/2605 /tf/notebook/testimage/screencapture-clriden-2022-09-30-09_37_17.jpg: 640x160 5 banners, 1 2block, 4 3blocks, 2 4blocks, 1 5block, 1 7block, 1 typo, 1 header, 1 footer, 16.5ms\n",
      "image 409/2605 /tf/notebook/testimage/screencapture-cobaltvin-co-kr-2022-09-29-16_46_14.jpg: 640x128 2 banners, 2 4blocks, 1 typo, 1 header, 1 footer, 11.9ms\n"
     ]
    },
    {
     "name": "stdout",
     "output_type": "stream",
     "text": [
      "image 410/2605 /tf/notebook/testimage/screencapture-coco-jwsuperthemes-2022-09-28-14_17_42.jpg: 640x384 2 banners, 1 2block, 1 3block, 1 4block, 1 6block, 1 gallery, 1 header, 1 footer, 27.3ms\n",
      "image 411/2605 /tf/notebook/testimage/screencapture-coco-jwsuperthemes-homepage-04-2022-09-28-14_17_56.jpg: 640x352 2 banners, 2 2blocks, 2 3blocks, 1 4block, 1 6block, 1 header, 1 footer, 32.6ms\n",
      "image 412/2605 /tf/notebook/testimage/screencapture-cocoblack-kr-2022-09-29-10_24_39.jpg: 640x96 3 banners, 2 2blocks, 1 3block, 5 4blocks, 1 5block, 1 8block, 1 nblock, 4 gallerys, 1 header, 1 footer, 31.3ms\n",
      "image 413/2605 /tf/notebook/testimage/screencapture-cocojane-net-2022-09-29-13_22_38.jpg: 640x128 2 banners, 1 2block, 4 3blocks, 1 header, 1 footer, 26.6ms\n",
      "image 414/2605 /tf/notebook/testimage/screencapture-cocond-2022-09-30-09_47_26.jpg: 640x96 3 banners, 3 2blocks, 1 3block, 5 4blocks, 1 5block, 1 header, 25.0ms\n",
      "image 415/2605 /tf/notebook/testimage/screencapture-cocoon-gnodesign-home-4-2022-09-27-17_06_46.jpg: 640x288 2 banners, 3 3blocks, 1 4block, 1 5block, 1 header, 1 footer, 145.5ms\n",
      "image 416/2605 /tf/notebook/testimage/screencapture-codescombineinnerwear-2022-09-29-09_55_56.jpg: 640x160 2 banners, 2 2blocks, 3 4blocks, 1 header, 1 footer, 7.4ms\n",
      "image 417/2605 /tf/notebook/testimage/screencapture-codo-zootemplate-home-02-2022-09-27-13_43_13.jpg: 640x288 1 banner, 2 2blocks, 1 3block, 1 4block, 1 6block, 1 header, 1 footer, 7.7ms\n",
      "image 418/2605 /tf/notebook/testimage/screencapture-codo-zootemplate-home-03-2022-09-27-13_43_19.jpg: 640x256 2 banners, 1 2block, 2 3blocks, 2 4blocks, 2 headers, 1 footer, 7.4ms\n",
      "image 419/2605 /tf/notebook/testimage/screencapture-codo-zootemplate-home-04-2022-09-27-13_43_28.jpg: 640x288 1 banner, 1 2block, 1 3block, 1 4block, 2 5blocks, 1 6block, 1 gallery, 1 header, 1 footer, 9.5ms\n",
      "image 420/2605 /tf/notebook/testimage/screencapture-codo-zootemplate-home-05-2022-09-27-13_42_57.jpg: 640x256 2 banners, 1 2block, 2 3blocks, 2 4blocks, 1 5block, 1 typo, 1 header, 1 footer, 13.9ms\n",
      "image 421/2605 /tf/notebook/testimage/screencapture-codo-zootemplate-home-06-2022-09-27-13_43_05.jpg: 640x288 2 banners, 3 3blocks, 2 4blocks, 1 5block, 1 header, 1 footer, 14.9ms\n",
      "image 422/2605 /tf/notebook/testimage/screencapture-codo-zootemplate-home-2022-09-27-13_42_50.jpg: 640x288 2 banners, 1 2block, 1 3block, 2 4blocks, 1 gallery, 1 header, 1 footer, 22.0ms\n",
      "image 423/2605 /tf/notebook/testimage/screencapture-columbiakorea-co-kr-main-main-asp-2022-09-29-10_54_13.jpg: 640x160 4 banners, 1 2block, 4 3blocks, 1 5block, 1 nblock, 1 header, 1 footer, 17.7ms\n",
      "image 424/2605 /tf/notebook/testimage/screencapture-comesta-co-2022-09-29-15_41_25.jpg: 640x160 3 4blocks, 1 5block, 1 typo, 1 gallery, 2 footers, 21.3ms\n",
      "image 425/2605 /tf/notebook/testimage/screencapture-concave-me-shayotheme-2022-09-27-14_13_28.jpg: 640x288 1 banner, 2 2blocks, 2 3blocks, 1 4block, 1 6block, 2 typos, 1 header, 1 footer, 47.9ms\n",
      "image 426/2605 /tf/notebook/testimage/screencapture-concave-me-shayotheme-home-2-2022-09-27-14_13_35.jpg: 640x320 1 banner, 1 2block, 1 3block, 2 4blocks, 1 5block, 2 6blocks, 2 typos, 1 header, 2 footers, 32.6ms\n",
      "image 427/2605 /tf/notebook/testimage/screencapture-concave-me-shayotheme-home-3-2022-09-27-14_13_42.jpg: 640x352 3 banners, 1 2block, 1 5block, 3 typos, 1 gallery, 1 header, 1 footer, 42.3ms\n",
      "image 428/2605 /tf/notebook/testimage/screencapture-concave-me-shayotheme-home-4-2022-09-27-14_13_48.jpg: 640x352 1 banner, 3 3blocks, 2 4blocks, 1 6block, 1 typo, 1 header, 1 footer, 35.5ms\n",
      "image 429/2605 /tf/notebook/testimage/screencapture-conella-co-kr-2022-09-29-15_23_51.jpg: 640x160 3 banners, 1 3block, 3 4blocks, 1 gallery, 1 header, 1 footer, 56.1ms\n",
      "image 430/2605 /tf/notebook/testimage/screencapture-cookiemaru-kr-2022-09-30-10_07_00.jpg: 640x128 1 banner, 1 3block, 4 4blocks, 1 5block, 1 gallery, 1 header, 1 footer, 178.9ms\n",
      "image 431/2605 /tf/notebook/testimage/screencapture-coro-droitlab-cafe-2022-09-26-16_09_46.jpg: 640x320 2 banners, 2 3blocks, 1 4block, 1 5block, 2 typos, 1 header, 1 footer, 8.6ms\n",
      "image 432/2605 /tf/notebook/testimage/screencapture-coro-droitlab-fashion-4-2022-09-26-16_06_16.jpg: 640x448 1 banner, 1 2block, 2 3blocks, 1 4block, 1 gallery, 1 header, 1 footer, 7.8ms\n",
      "image 433/2605 /tf/notebook/testimage/screencapture-coro-droitlab-furniture-2022-09-26-16_01_39.jpg: 640x416 2 2blocks, 2 4blocks, 1 6block, 4 typos, 2 gallerys, 1 header, 1 footer, 7.2ms\n",
      "image 434/2605 /tf/notebook/testimage/screencapture-coro-droitlab-watch-2022-09-26-16_06_23.jpg: 640x320 2 banners, 2 3blocks, 2 4blocks, 1 typo, 1 header, 1 footer, 19.0ms\n",
      "image 435/2605 /tf/notebook/testimage/screencapture-corona-themeftc-2022-09-28-14_04_04240.jpg: 640x160 5 banners, 3 3blocks, 2 4blocks, 1 5block, 1 header, 1 footer, 23.7ms\n",
      "image 436/2605 /tf/notebook/testimage/screencapture-corona-themeftc-home22-2022-09-28-14_09_24246.jpg: 640x224 5 banners, 2 4blocks, 1 5block, 1 6block, 1 header, 1 footer, 31.2ms\n",
      "image 437/2605 /tf/notebook/testimage/screencapture-corona-themeftc-home8-2022-09-28-14_05_53241.jpg: 640x224 2 banners, 4 3blocks, 2 4blocks, 1 5block, 2 typos, 1 header, 1 footer, 23.8ms\n",
      "image 438/2605 /tf/notebook/testimage/screencapture-corona-themeftc-home9-2022-09-28-14_06_03242.jpg: 640x320 2 banners, 1 2block, 2 4blocks, 3 typos, 1 header, 1 footer, 35.7ms\n",
      "image 439/2605 /tf/notebook/testimage/screencapture-cos-ko-kr-2022-09-28-16_38_57.jpg: 640x352 1 banner, 1 3block, 2 typos, 1 header, 1 footer, 64.5ms\n",
      "image 440/2605 /tf/notebook/testimage/screencapture-cos-ko-kr-2022-09-28-17_15_43.jpg: 640x480 2 banners, 1 2block, 1 3block, 2 typos, 2 headers, 1 footer, 7.4ms\n",
      "image 441/2605 /tf/notebook/testimage/screencapture-cos-ko-kr-women-new-arrivals-html-2022-09-29-11_28_27.jpg: 640x128 2 4blocks, 1 6block, 1 typo, 1 footer, 7.3ms\n",
      "image 442/2605 /tf/notebook/testimage/screencapture-cosmicray-co-kr-2022-09-30-09_42_35.jpg: 640x128 1 2block, 1 3block, 3 4blocks, 1 header, 1 footer, 6.4ms\n",
      "image 443/2605 /tf/notebook/testimage/screencapture-cosmocrats-co-kr-2022-09-28-17_02_28.jpg: 640x64 1 banner, 2 4blocks, 1 5block, 9.2ms\n",
      "image 444/2605 /tf/notebook/testimage/screencapture-cosy-la-studioweb-main-bike-2022-09-27-14_44_56261.jpg: 640x256 3 banners, 1 2block, 2 3blocks, 2 4blocks, 1 typo, 3 headers, 1 footer, 7.8ms\n",
      "image 445/2605 /tf/notebook/testimage/screencapture-cosy-la-studioweb-main-fashion-03-2022-09-27-14_44_42264.jpg: 640x320 1 banner, 1 2block, 3 3blocks, 2 4blocks, 1 6block, 1 header, 1 footer, 9.7ms\n",
      "image 446/2605 /tf/notebook/testimage/screencapture-cosy-la-studioweb-main-flower-2022-09-27-14_46_08265.jpg: 640x480 1 banner, 2 4blocks, 1 gallery, 1 header, 1 footer, 8.5ms\n",
      "image 447/2605 /tf/notebook/testimage/screencapture-cosy-la-studioweb-main-organic-2022-09-27-14_45_58266.jpg: 640x224 3 banners, 2 3blocks, 2 4blocks, 1 6block, 3 typos, 1 header, 1 footer, 8.8ms\n",
      "image 448/2605 /tf/notebook/testimage/screencapture-cosy-la-studioweb-main-sport-2022-09-27-14_45_44267.jpg: 640x224 3 banners, 2 2blocks, 1 3block, 1 4block, 2 5blocks, 1 6block, 1 typo, 1 gallery, 1 header, 1 footer, 6.2ms\n",
      "image 449/2605 /tf/notebook/testimage/screencapture-coupang-2022-09-29-09_38_33.jpg: 640x128 9 banners, 1 4block, 22 5blocks, 1 header, 1 footer, 27.0ms\n",
      "image 450/2605 /tf/notebook/testimage/screencapture-covernat-net-2022-09-29-09_28_59.jpg: 640x224 2 banners, 3 3blocks, 2 5blocks, 1 nblock, 1 header, 3 footers, 52.5ms\n",
      "image 451/2605 /tf/notebook/testimage/screencapture-creasmall-2022-09-29-10_26_13.jpg: 640x224 6 2blocks, 1 5block, 1 7block, 1 nblock, 1 typo, 1 gallery, 1 header, 1 footer, 81.7ms\n",
      "image 452/2605 /tf/notebook/testimage/screencapture-creasmall-2022-09-29-11_24_23.jpg: 640x256 6 2blocks, 1 5block, 1 7block, 1 nblock, 1 typo, 1 gallery, 1 header, 1 footer, 21.4ms\n",
      "image 453/2605 /tf/notebook/testimage/screencapture-creasmall-2022-09-29-13_20_25.jpg: 640x192 1 banner, 4 2blocks, 1 5block, 1 7block, 1 nblock, 1 gallery, 1 header, 1 footer, 25.2ms\n",
      "image 454/2605 /tf/notebook/testimage/screencapture-creasmall-2022-09-29-13_39_53.jpg: 640x192 1 banner, 4 2blocks, 1 5block, 1 7block, 1 nblock, 1 gallery, 1 header, 1 footer, 20.6ms\n",
      "image 455/2605 /tf/notebook/testimage/screencapture-crona-themeftc-2022-09-26-10_15_27276.jpg: 640x256 3 banners, 1 2block, 2 3blocks, 1 4block, 1 header, 1 footer, 19.3ms\n"
     ]
    },
    {
     "name": "stdout",
     "output_type": "stream",
     "text": [
      "image 456/2605 /tf/notebook/testimage/screencapture-crona-themeftc-home11-2022-09-26-10_19_35288.jpg: 640x288 2 banners, 3 3blocks, 1 4block, 2 typos, 1 gallery, 1 header, 1 footer, 54.0ms\n",
      "image 457/2605 /tf/notebook/testimage/screencapture-crona-themeftc-home12-2022-09-26-10_19_45289.jpg: 640x288 2 banners, 4 3blocks, 1 5block, 1 typo, 1 header, 1 footer, 45.1ms\n",
      "image 458/2605 /tf/notebook/testimage/screencapture-crona-themeftc-home14-2022-09-26-10_20_38291.jpg: 640x256 2 banners, 1 2block, 1 3block, 1 4block, 1 5block, 3 6blocks, 1 header, 1 footer, 42.4ms\n",
      "image 459/2605 /tf/notebook/testimage/screencapture-crona-themeftc-home16-2022-09-26-10_23_13293.jpg: 640x320 1 banner, 1 4block, 1 gallery, 1 header, 1 footer, 73.2ms\n",
      "image 460/2605 /tf/notebook/testimage/screencapture-crona-themeftc-home2-2022-09-26-10_16_32279.jpg: 640x384 2 banners, 2 4blocks, 1 gallery, 1 header, 1 footer, 37.5ms\n",
      "image 461/2605 /tf/notebook/testimage/screencapture-crona-themeftc-home3-2022-09-26-10_16_47280.jpg: 640x320 3 banners, 1 3block, 2 4blocks, 1 header, 1 footer, 27.2ms\n",
      "image 462/2605 /tf/notebook/testimage/screencapture-crona-themeftc-home4-2022-09-26-10_17_01281.jpg: 640x384 1 3block, 1 4block, 1 6block, 1 typo, 2 gallerys, 1 header, 1 footer, 33.9ms\n",
      "image 463/2605 /tf/notebook/testimage/screencapture-crona-themeftc-home6-2022-09-26-10_17_33283.jpg: 640x288 2 banners, 2 2blocks, 2 3blocks, 1 4block, 1 5block, 1 gallery, 1 header, 1 footer, 54.0ms\n",
      "image 464/2605 /tf/notebook/testimage/screencapture-crona-themeftc-home8-2022-09-26-10_18_08285.jpg: 640x320 1 banner, 3 3blocks, 2 4blocks, 1 5block, 1 header, 1 footer, 121.7ms\n",
      "image 465/2605 /tf/notebook/testimage/screencapture-crona-themeftc-home9-2022-09-26-10_18_48286.jpg: 640x288 2 banners, 1 2block, 1 3block, 1 4block, 1 typo, 1 gallery, 1 header, 1 footer, 27.0ms\n",
      "image 466/2605 /tf/notebook/testimage/screencapture-crosby-fluid-demo-squarespace-2022-09-21-17_56_21.jpg: 640x256 4 banners, 2 2blocks, 1 3block, 1 typo, 1 header, 1 footer, 21.9ms\n",
      "image 467/2605 /tf/notebook/testimage/screencapture-cslfit-2022-09-29-09_38_44.jpg: 640x160 1 banner, 1 3block, 4 4blocks, 1 5block, 1 gallery, 1 header, 1 footer, 14.8ms\n",
      "image 468/2605 /tf/notebook/testimage/screencapture-cyberstore-qodeinteractive-2022-09-28-10_37_43.jpg: 640x224 3 banners, 4 3blocks, 4 4blocks, 1 8block, 2 gallerys, 1 header, 1 footer, 17.8ms\n",
      "image 469/2605 /tf/notebook/testimage/screencapture-cyberstore-qodeinteractive-home-2-2022-09-28-10_37_54.jpg: 640x320 3 3blocks, 1 4block, 1 5block, 2 6blocks, 1 typo, 2 gallerys, 1 header, 1 footer, 46.4ms\n",
      "image 470/2605 /tf/notebook/testimage/screencapture-cyberstore-qodeinteractive-home-3-2022-09-23-14_19_20307.jpg: 640x256 4 banners, 1 2block, 3 3blocks, 1 4block, 1 6block, 1 8block, 1 typo, 2 gallerys, 1 header, 1 footer, 37.4ms\n",
      "image 471/2605 /tf/notebook/testimage/screencapture-cyberstore-qodeinteractive-home-3-2022-09-28-10_38_02.jpg: 640x256 4 banners, 1 2block, 3 3blocks, 1 4block, 1 6block, 1 8block, 1 typo, 1 gallery, 1 header, 1 footer, 47.5ms\n",
      "image 472/2605 /tf/notebook/testimage/screencapture-cyberstore-qodeinteractive-home-4-2022-09-28-10_38_09.jpg: 640x224 2 banners, 1 2block, 3 3blocks, 2 4blocks, 1 6block, 2 typos, 1 header, 1 footer, 135.1ms\n",
      "image 473/2605 /tf/notebook/testimage/screencapture-cyberstore-qodeinteractive-home-6-2022-09-23-14_19_43310.jpg: 640x320 2 banners, 3 3blocks, 1 4block, 1 6block, 1 typo, 1 gallery, 1 header, 1 footer, 25.5ms\n",
      "image 474/2605 /tf/notebook/testimage/screencapture-cyberstore-qodeinteractive-home-6-2022-09-28-10_38_23.jpg: 640x352 2 banners, 3 3blocks, 1 4block, 1 6block, 1 typo, 1 gallery, 1 header, 1 footer, 28.6ms\n",
      "image 475/2605 /tf/notebook/testimage/screencapture-d-themes-wordpress-riode-demo-1-2022-09-22-15_12_39.jpg: 640x480 2 banners, 3 3blocks, 3 4blocks, 1 5block, 3 6blocks, 1 typo, 1 header, 1 footer, 36.8ms\n",
      "image 476/2605 /tf/notebook/testimage/screencapture-d-themes-wordpress-riode-demo-2-2022-09-22-15_12_54.jpg: 640x544 2 banners, 1 2block, 3 4blocks, 1 5block, 1 gallery, 1 header, 1 footer, 136.5ms\n",
      "image 477/2605 /tf/notebook/testimage/screencapture-d-themes-wordpress-riode-demo-4-2022-09-22-15_13_08.jpg: 640x512 2 banners, 2 3blocks, 3 4blocks, 1 gallery, 1 header, 1 footer, 55.5ms\n",
      "image 478/2605 /tf/notebook/testimage/screencapture-d-themes-wordpress-riode-demo-5-2022-09-22-15_13_23.jpg: 640x512 1 banner, 2 3blocks, 2 4blocks, 1 6block, 2 gallerys, 1 header, 1 footer, 55.1ms\n",
      "image 479/2605 /tf/notebook/testimage/screencapture-d-themes-wordpress-riode-demo-7-2022-09-22-15_13_44.jpg: 640x352 3 banners, 1 2block, 1 3block, 4 4blocks, 1 6block, 1 header, 1 footer, 62.5ms\n",
      "image 480/2605 /tf/notebook/testimage/screencapture-daehyuninside-zooc-2022-09-29-13_56_05.jpg: 640x224 1 banner, 2 3blocks, 2 4blocks, 2 5blocks, 1 header, 2 footers, 53.6ms\n",
      "image 481/2605 /tf/notebook/testimage/screencapture-dahz-themes-upscale-kicksback-home-lookbook-v1-2022-09-27-17_26_10.jpg: 640x224 1 banner, 2 2blocks, 1 4block, 1 gallery, 1 header, 1 footer, 214.6ms\n",
      "image 482/2605 /tf/notebook/testimage/screencapture-dahz-themes-upscale-mono-2022-09-27-17_26_01.jpg: 640x160 4 banners, 1 2block, 1 5block, 1 header, 7.2ms\n",
      "image 483/2605 /tf/notebook/testimage/screencapture-dailyjou-2022-09-29-15_16_11.jpg: 640x96 1 3block, 6 4blocks, 1 5block, 1 6block, 1 gallery, 1 footer, 6.5ms\n",
      "image 484/2605 /tf/notebook/testimage/screencapture-dailylook-kr-2022-09-29-13_20_15.jpg: 640x96 1 banner, 2 2blocks, 3 3blocks, 1 footer, 6.1ms\n",
      "image 485/2605 /tf/notebook/testimage/screencapture-daisomall-co-kr-2022-09-29-10_39_59.jpg: 640x288 4 banners, 2 2blocks, 1 3block, 1 4block, 1 typo, 2 gallerys, 1 header, 7.0ms\n",
      "image 486/2605 /tf/notebook/testimage/screencapture-daisomall-co-kr-cate-log-collect019-php-2022-09-29-14_46_02.jpg: 640x448 3 3blocks, 3 4blocks, 1 typo, 1 gallery, 1 header, 7.3ms\n",
      "image 487/2605 /tf/notebook/testimage/screencapture-daltt-co-kr-2022-09-30-09_09_26.jpg: 640x160 2 banners, 3 4blocks, 1 5block, 2 headers, 1 footer, 15.8ms\n",
      "image 488/2605 /tf/notebook/testimage/screencapture-dancegirl-co-kr-2022-09-30-10_06_33.jpg: 640x96 1 banner, 1 2block, 3 3blocks, 3 4blocks, 1 5block, 1 6block, 1 gallery, 1 header, 13.8ms\n",
      "image 489/2605 /tf/notebook/testimage/screencapture-danggunmall-2022-09-29-10_44_50.jpg: 640x288 3 banners, 2 3blocks, 1 4block, 1 5block, 1 8block, 1 typo, 2 gallerys, 1 header, 1 footer, 24.9ms\n",
      "image 490/2605 /tf/notebook/testimage/screencapture-dangolunni-2022-09-29-16_44_21.jpg: 640x160 3 banners, 2 3blocks, 1 gallery, 1 header, 1 footer, 26.2ms\n",
      "image 491/2605 /tf/notebook/testimage/screencapture-dangoon-2022-09-29-09_25_15.jpg: 640x192 1 banner, 1 2block, 1 3block, 3 4blocks, 1 5block, 1 header, 1 footer, 129.3ms\n",
      "image 492/2605 /tf/notebook/testimage/screencapture-danielwellington-kr-2022-09-29-11_16_00.jpg: 640x256 2 banners, 2 4blocks, 1 typo, 1 gallery, 1 header, 2 footers, 19.6ms\n",
      "image 493/2605 /tf/notebook/testimage/screencapture-danilove-co-kr-2022-09-29-11_43_02.jpg: 640x64 5 3blocks, 4 4blocks, 1 6block, 2 gallerys, 11.6ms\n",
      "image 494/2605 /tf/notebook/testimage/screencapture-daphne-qodeinteractive-bridal-collection-2022-09-27-13_48_22323.jpg: 640x192 3 banners, 1 2block, 2 3blocks, 2 4blocks, 1 5block, 1 header, 1 footer, 20.6ms\n",
      "image 495/2605 /tf/notebook/testimage/screencapture-daphne-qodeinteractive-lingerie-brand-2022-09-27-13_48_51326.jpg: 640x320 2 banners, 1 3block, 1 4block, 1 gallery, 1 header, 1 footer, 23.2ms\n",
      "image 496/2605 /tf/notebook/testimage/screencapture-daphne-qodeinteractive-mens-underwear-2022-09-27-13_49_10327.jpg: 640x480 4 banners, 1 header, 164.3ms\n",
      "image 497/2605 /tf/notebook/testimage/screencapture-dario-fluid-demo-squarespace-2022-09-21-17_59_25.jpg: 640x352 4 banners, 2 2blocks, 1 3block, 2 typos, 1 header, 1 footer, 6.9ms\n",
      "image 498/2605 /tf/notebook/testimage/screencapture-darllyshop-co-kr-2022-09-30-09_55_04.jpg: 640x64 2 banners, 1 2block, 5 4blocks, 1 5block, 1 gallery, 1 header, 1 footer, 7.1ms\n",
      "image 499/2605 /tf/notebook/testimage/screencapture-debecmall-co-kr-2022-09-29-14_25_20.jpg: 640x416 3 banners, 1 3block, 1 4block, 1 5block, 1 6block, 1 7block, 2 typos, 1 header, 7.6ms\n",
      "image 500/2605 /tf/notebook/testimage/screencapture-decoview-co-kr-2022-09-29-10_17_19.jpg: 640x160 1 banner, 2 2blocks, 4 5blocks, 1 6block, 1 7block, 1 header, 1 footer, 9.2ms\n"
     ]
    },
    {
     "name": "stdout",
     "output_type": "stream",
     "text": [
      "image 501/2605 /tf/notebook/testimage/screencapture-dedra-co-kr-2022-09-29-11_33_37.jpg: 640x64 4 banners, 3 2blocks, 2 3blocks, 7 4blocks, 2 5blocks, 4 gallerys, 6.4ms\n",
      "image 502/2605 /tf/notebook/testimage/screencapture-deermarket-jwsuperthemes-2022-09-26-17_32_21.jpg: 640x416 3 banners, 1 3block, 2 4blocks, 2 5blocks, 1 6block, 1 typo, 1 gallery, 1 header, 1 footer, 9.1ms\n",
      "image 503/2605 /tf/notebook/testimage/screencapture-deermarket-jwsuperthemes-home-03-2022-09-26-17_32_06.jpg: 640x288 2 banners, 3 2blocks, 2 4blocks, 1 6block, 3 gallerys, 1 header, 1 footer, 21.8ms\n",
      "image 504/2605 /tf/notebook/testimage/screencapture-deermarket-jwsuperthemes-home-04-2022-09-26-17_32_14.jpg: 640x512 1 banner, 1 3block, 1 5block, 1 6block, 1 typo, 1 gallery, 1 header, 1 footer, 45.0ms\n",
      "image 505/2605 /tf/notebook/testimage/screencapture-deermarket-jwsuperthemes-home-2022-09-26-17_31_49.jpg: 640x288 2 banners, 3 2blocks, 3 4blocks, 1 6block, 1 typo, 4 gallerys, 1 header, 1 footer, 31.2ms\n",
      "image 506/2605 /tf/notebook/testimage/screencapture-dellastella-co-kr-2022-09-29-17_22_07.jpg: 320x640 1 banner, 2 headers, 1 footer, 38.0ms\n",
      "image 507/2605 /tf/notebook/testimage/screencapture-dello-radiantthemes-home-version-eight-2022-09-28-10_10_31.jpg: 640x352 2 banners, 2 4blocks, 3 5blocks, 1 gallery, 1 header, 1 footer, 51.5ms\n",
      "image 508/2605 /tf/notebook/testimage/screencapture-dello-radiantthemes-home-version-eleven-2022-09-28-10_10_56.jpg: 640x352 2 banners, 1 2block, 2 3blocks, 2 4blocks, 1 5block, 1 header, 1 footer, 74.7ms\n",
      "image 509/2605 /tf/notebook/testimage/screencapture-dello-radiantthemes-home-version-fifteen-2022-09-28-10_11_33.jpg: 640x448 2 banners, 1 5block, 1 6block, 1 gallery, 1 header, 1 footer, 82.2ms\n",
      "image 510/2605 /tf/notebook/testimage/screencapture-dello-radiantthemes-home-version-five-2022-09-28-10_10_02.jpg: 640x320 2 banners, 1 2block, 1 3block, 1 4block, 3 5blocks, 2 headers, 1 footer, 52.9ms\n",
      "image 511/2605 /tf/notebook/testimage/screencapture-dello-radiantthemes-home-version-four-2022-09-28-10_09_52.jpg: 640x288 2 banners, 1 2block, 1 3block, 2 4blocks, 1 header, 1 footer, 111.1ms\n",
      "image 512/2605 /tf/notebook/testimage/screencapture-dello-radiantthemes-home-version-fourteen-2022-09-28-10_11_24.jpg: 640x320 1 banner, 3 2blocks, 1 3block, 2 4blocks, 1 header, 1 footer, 9.3ms\n",
      "image 513/2605 /tf/notebook/testimage/screencapture-dello-radiantthemes-home-version-nine-2022-09-28-10_10_40.jpg: 640x384 2 banners, 1 2block, 1 3block, 1 4block, 1 header, 1 footer, 6.9ms\n",
      "image 514/2605 /tf/notebook/testimage/screencapture-dello-radiantthemes-home-version-seven-2022-09-28-10_10_22.jpg: 640x320 2 banners, 2 4blocks, 2 5blocks, 1 gallery, 1 header, 1 footer, 6.7ms\n",
      "image 515/2605 /tf/notebook/testimage/screencapture-dello-radiantthemes-home-version-six-2022-09-28-10_05_23.jpg: 640x288 1 banner, 2 4blocks, 1 5block, 2 gallerys, 1 header, 1 footer, 10.1ms\n",
      "image 516/2605 /tf/notebook/testimage/screencapture-dello-radiantthemes-home-version-ten-2022-09-28-10_10_47.jpg: 640x320 2 banners, 1 2block, 2 4blocks, 1 5block, 2 gallerys, 1 header, 1 footer, 13.3ms\n",
      "image 517/2605 /tf/notebook/testimage/screencapture-dello-radiantthemes-home-version-thirteen-2022-09-28-10_11_13.jpg: 640x320 2 banners, 1 2block, 2 4blocks, 1 gallery, 1 header, 1 footer, 6.2ms\n",
      "image 518/2605 /tf/notebook/testimage/screencapture-dello-radiantthemes-home-version-three-2022-09-28-10_09_40.jpg: 640x352 1 banner, 1 2block, 1 3block, 2 4blocks, 2 5blocks, 1 gallery, 2 headers, 1 footer, 6.7ms\n",
      "image 519/2605 /tf/notebook/testimage/screencapture-dello-radiantthemes-home-version-twelve-2022-09-28-10_11_05.jpg: 640x320 3 banners, 1 2block, 1 3block, 2 4blocks, 1 6block, 3 headers, 1 footer, 24.2ms\n",
      "image 520/2605 /tf/notebook/testimage/screencapture-dello-radiantthemes-home-version-two-2022-09-28-10_09_30.jpg: 640x288 1 banner, 1 2block, 3 4blocks, 2 5blocks, 1 6block, 1 gallery, 2 headers, 1 footer, 27.4ms\n",
      "image 521/2605 /tf/notebook/testimage/screencapture-demo-agnidesigns-merino-home-2-2022-09-28-14_04_01.jpg: 640x192 4 2blocks, 1 3block, 1 4block, 1 header, 1 footer, 28.3ms\n",
      "image 522/2605 /tf/notebook/testimage/screencapture-demo-agnidesigns-merino-home-3-2022-09-28-14_04_13.jpg: 640x256 2 banners, 2 2blocks, 2 3blocks, 1 4block, 1 typo, 1 header, 1 footer, 30.0ms\n",
      "image 523/2605 /tf/notebook/testimage/screencapture-demo-agnidesigns-merino-home-4-2022-09-28-14_04_22.jpg: 640x256 2 banners, 4 3blocks, 1 typo, 1 header, 1 footer, 151.4ms\n",
      "image 524/2605 /tf/notebook/testimage/screencapture-demo-alura-studio-cesa-home-2-2-2022-09-27-18_04_34.jpg: 640x352 2 banners, 1 3block, 2 4blocks, 1 6block, 1 header, 1 footer, 38.1ms\n",
      "image 525/2605 /tf/notebook/testimage/screencapture-demo-alura-studio-cesa-home-3-2022-09-27-18_04_44.jpg: 640x256 2 banners, 2 2blocks, 2 3blocks, 1 4block, 1 header, 1 footer, 34.0ms\n",
      "image 526/2605 /tf/notebook/testimage/screencapture-demo-alura-studio-cesa-home-5-2022-09-27-18_05_05.jpg: 320x640 1 banner, 1 typo, 2 headers, 1 footer, 30.2ms\n",
      "image 527/2605 /tf/notebook/testimage/screencapture-demo-alura-studio-orgafresh-home-2022-09-28-10_22_20.jpg: 640x224 2 banners, 1 2block, 2 3blocks, 3 4blocks, 1 typo, 1 header, 1 footer, 29.7ms\n",
      "image 528/2605 /tf/notebook/testimage/screencapture-demo-alura-studio-orgafresh-home-22-2022-09-28-10_21_41.jpg: 640x224 3 banners, 1 2block, 1 3block, 1 4block, 2 gallerys, 1 header, 1 footer, 178.2ms\n",
      "image 529/2605 /tf/notebook/testimage/screencapture-demo-alura-studio-orgafresh-home-33-2022-09-28-10_21_49.jpg: 640x256 3 banners, 2 3blocks, 2 4blocks, 1 typo, 1 header, 1 footer, 21.2ms\n",
      "image 530/2605 /tf/notebook/testimage/screencapture-demo-alura-studio-orgafresh-home-44-2022-09-28-10_22_06.jpg: 640x192 3 banners, 1 2block, 1 3block, 2 4blocks, 1 6block, 1 typo, 1 gallery, 1 header, 1 footer, 20.9ms\n",
      "image 531/2605 /tf/notebook/testimage/screencapture-demo-alura-studio-orgafresh-home-6-2022-09-28-10_22_29.jpg: 640x256 5 banners, 1 3block, 1 4block, 1 header, 1 footer, 21.7ms\n",
      "image 532/2605 /tf/notebook/testimage/screencapture-demo-alura-studio-orgafresh-home-7-food-2022-09-28-10_22_50.jpg: 640x128 3 banners, 1 2block, 6 3blocks, 1 4block, 2 typos, 1 footer, 17.6ms\n",
      "image 533/2605 /tf/notebook/testimage/screencapture-demo-alura-studio-orgafresh-home8-2022-09-28-10_23_01.jpg: 640x128 5 banners, 3 2blocks, 2 3blocks, 2 4blocks, 1 typo, 1 gallery, 1 header, 1 footer, 43.7ms\n",
      "image 534/2605 /tf/notebook/testimage/screencapture-demo-alura-studio-orgafresh-home9-2022-09-28-10_23_11.jpg: 640x224 1 banner, 1 3block, 3 4blocks, 1 5block, 1 6block, 2 typos, 1 header, 2 footers, 24.3ms\n",
      "image 535/2605 /tf/notebook/testimage/screencapture-demo-alura-studio-umbala-home-10-lookbook-2022-09-27-15_17_39.jpg: 640x224 3 banners, 3 3blocks, 1 4block, 1 5block, 1 typo, 1 header, 1 footer, 29.9ms\n",
      "image 536/2605 /tf/notebook/testimage/screencapture-demo-alura-studio-umbala-home-11-singe-2022-09-27-15_17_49.jpg: 640x288 3 banners, 1 2block, 2 3blocks, 1 header, 1 footer, 32.0ms\n",
      "image 537/2605 /tf/notebook/testimage/screencapture-demo-alura-studio-umbala-home-13-furnitures-2022-09-27-15_18_10.jpg: 640x224 2 banners, 1 2block, 2 3blocks, 1 4block, 1 gallery, 3 headers, 1 footer, 36.4ms\n",
      "image 538/2605 /tf/notebook/testimage/screencapture-demo-alura-studio-umbala-home-2-2022-09-27-15_16_10.jpg: 640x416 1 banner, 1 3block, 1 4block, 1 5block, 1 gallery, 1 header, 1 footer, 80.2ms\n",
      "image 539/2605 /tf/notebook/testimage/screencapture-demo-alura-studio-umbala-home-3-2022-09-27-15_15_46.jpg: 640x416 1 banner, 2 3blocks, 1 4block, 1 typo, 1 header, 1 footer, 282.0ms\n",
      "image 540/2605 /tf/notebook/testimage/screencapture-demo-alura-studio-umbala-home-4-2022-09-27-15_16_25.jpg: 640x352 2 banners, 1 3block, 3 4blocks, 1 header, 1 footer, 7.8ms\n",
      "image 541/2605 /tf/notebook/testimage/screencapture-demo-alura-studio-umbala-home-5-2022-09-27-15_16_30.jpg: 640x288 3 banners, 2 4blocks, 2 5blocks, 1 header, 1 footer, 7.0ms\n",
      "image 542/2605 /tf/notebook/testimage/screencapture-demo-alura-studio-umbala-home-7-2022-09-27-15_17_08.jpg: 640x288 1 banner, 2 2blocks, 1 4block, 1 6block, 1 typo, 1 header, 1 footer, 6.1ms\n",
      "image 543/2605 /tf/notebook/testimage/screencapture-demo-alura-studio-umbala-home6-2022-09-27-15_16_58.jpg: 640x288 3 2blocks, 1 4block, 1 header, 1 footer, 9.4ms\n"
     ]
    },
    {
     "name": "stdout",
     "output_type": "stream",
     "text": [
      "image 544/2605 /tf/notebook/testimage/screencapture-demo-amytheme-handmade-demo-1-2022-09-26-11_02_59.jpg: 640x320 2 banners, 2 3blocks, 2 4blocks, 1 6block, 1 7block, 1 gallery, 1 header, 1 footer, 22.6ms\n",
      "image 545/2605 /tf/notebook/testimage/screencapture-demo-amytheme-handmade-demo-3-2022-09-26-11_04_30.jpg: 640x320 1 banner, 2 2blocks, 2 3blocks, 1 4block, 1 typo, 1 gallery, 1 header, 1 footer, 33.4ms\n",
      "image 546/2605 /tf/notebook/testimage/screencapture-demo-amytheme-handmade-demo-4-2022-09-26-11_04_41.jpg: 640x320 1 banner, 2 2blocks, 1 3block, 1 4block, 1 typo, 1 gallery, 1 header, 1 footer, 28.8ms\n",
      "image 547/2605 /tf/notebook/testimage/screencapture-demo-amytheme-organic-home-1-2022-09-27-10_38_52.jpg: 640x288 3 banners, 3 2blocks, 1 3block, 1 4block, 1 6block, 1 header, 1 footer, 29.5ms\n",
      "image 548/2605 /tf/notebook/testimage/screencapture-demo-amytheme-organic-home-2-2022-09-27-10_39_42.jpg: 640x256 5 banners, 1 2block, 1 3block, 1 5block, 1 6block, 1 typo, 1 header, 1 footer, 26.4ms\n",
      "image 549/2605 /tf/notebook/testimage/screencapture-demo-amytheme-organic-home-3-2022-09-27-10_40_00.jpg: 640x256 3 banners, 2 2blocks, 2 3blocks, 1 4block, 1 5block, 1 6block, 1 typo, 1 header, 1 footer, 97.6ms\n",
      "image 550/2605 /tf/notebook/testimage/screencapture-demo-amytheme-organic-home-4-2022-09-27-10_40_09.jpg: 640x224 2 banners, 2 2blocks, 2 3blocks, 1 4block, 1 5block, 2 6blocks, 1 header, 1 footer, 25.0ms\n",
      "image 551/2605 /tf/notebook/testimage/screencapture-demo-arrowtheme-arangi-2022-09-26-14_50_08626.jpg: 640x352 3 banners, 2 4blocks, 1 gallery, 1 footer, 57.9ms\n",
      "image 552/2605 /tf/notebook/testimage/screencapture-demo-arrowtheme-arangi-food-farm-2022-09-26-14_52_40627.jpg: 640x320 2 banners, 2 3blocks, 2 4blocks, 2 footers, 27.4ms\n",
      "image 553/2605 /tf/notebook/testimage/screencapture-demo-arrowtheme-arangi-home-3-2022-09-26-14_51_12629.jpg: 640x288 3 banners, 1 2block, 2 3blocks, 1 typo, 1 gallery, 1 footer, 31.5ms\n",
      "image 554/2605 /tf/notebook/testimage/screencapture-demo-arrowtheme-arangi-home-garden-safe-2022-09-26-14_52_07630.jpg: 640x384 3 banners, 1 3block, 2 4blocks, 1 5block, 31.8ms\n",
      "image 555/2605 /tf/notebook/testimage/screencapture-demo-arrowtheme-arangi-home-tea-2022-09-26-14_51_51632.jpg: 640x256 3 banners, 1 3block, 1 4block, 1 typo, 1 footer, 275.0ms\n",
      "image 556/2605 /tf/notebook/testimage/screencapture-demo-artureanec-themes-cosmecos-new-2022-09-27-16_17_37.jpg: 640x160 6 banners, 4 3blocks, 3 4blocks, 1 typo, 1 gallery, 1 header, 1 footer, 6.9ms\n",
      "image 557/2605 /tf/notebook/testimage/screencapture-demo-awethemes-brilliant-collection-2-2-2022-09-28-10_58_11.jpg: 640x608 1 banner, 1 gallery, 1 header, 1 footer, 9.6ms\n",
      "image 558/2605 /tf/notebook/testimage/screencapture-demo-awethemes-brilliant-home-2-2022-09-28-10_59_04.jpg: 640x352 1 banner, 3 3blocks, 2 4blocks, 1 gallery, 1 header, 1 footer, 6.6ms\n",
      "image 559/2605 /tf/notebook/testimage/screencapture-demo-awethemes-brilliant-home-3-2022-09-28-10_59_13.jpg: 320x640 1 banner, 2 headers, 1 footer, 8.1ms\n",
      "image 560/2605 /tf/notebook/testimage/screencapture-demo-awethemes-brilliant-home-4-2022-09-28-10_59_20.jpg: 640x416 2 3blocks, 1 4block, 1 6block, 1 gallery, 1 header, 1 footer, 21.8ms\n",
      "image 561/2605 /tf/notebook/testimage/screencapture-demo-awethemes-brilliant-home-5-2022-09-28-10_59_25.jpg: 416x640 1 3block, 1 gallery, 2 headers, 1 footer, 21.6ms\n",
      "image 562/2605 /tf/notebook/testimage/screencapture-demo-awethemes-maxus-home-10-2022-09-27-10_39_33.jpg: 640x192 7 banners, 1 3block, 1 4block, 3 typos, 1 header, 14.6ms\n",
      "image 563/2605 /tf/notebook/testimage/screencapture-demo-awethemes-maxus-home-2-2022-09-27-10_38_46.jpg: 640x256 4 banners, 1 2block, 2 4blocks, 1 6block, 1 typo, 1 header, 19.9ms\n",
      "image 564/2605 /tf/notebook/testimage/screencapture-demo-awethemes-maxus-home-5-2022-09-27-10_39_09.jpg: 640x320 1 banner, 3 2blocks, 1 3block, 1 4block, 1 typo, 1 gallery, 2 headers, 1 footer, 27.3ms\n",
      "image 565/2605 /tf/notebook/testimage/screencapture-demo-cmssuperheroes-themeforest-orgus-home-2-2022-09-27-14_34_01.jpg: 640x160 6 banners, 1 2block, 3 3blocks, 2 4blocks, 1 5block, 1 gallery, 1 header, 1 footer, 32.6ms\n",
      "image 566/2605 /tf/notebook/testimage/screencapture-demo-cmssuperheroes-themeforest-orgus-home-3-2022-09-27-14_34_20.jpg: 640x160 4 banners, 1 2block, 3 3blocks, 3 4blocks, 1 5block, 1 gallery, 1 header, 1 footer, 35.9ms\n",
      "image 567/2605 /tf/notebook/testimage/screencapture-demo-cmssuperheroes-themeforest-raworganic-home-2022-09-27-15_00_11.jpg: 640x224 3 banners, 1 2block, 2 3blocks, 1 4block, 2 5blocks, 1 typo, 1 header, 1 footer, 41.1ms\n",
      "image 568/2605 /tf/notebook/testimage/screencapture-demo-cmssuperheroes-themeforest-raworganic-homepage-2-2022-09-27-15_00_19.jpg: 640x224 3 banners, 1 3block, 1 5block, 1 typo, 1 gallery, 1 header, 1 footer, 35.1ms\n",
      "image 569/2605 /tf/notebook/testimage/screencapture-demo-cmssuperheroes-themeforest-raworganic-homepage-3-2022-09-27-15_00_25.jpg: 640x224 3 banners, 1 2block, 1 3block, 1 5block, 1 typo, 1 gallery, 1 header, 1 footer, 113.5ms\n",
      "image 570/2605 /tf/notebook/testimage/screencapture-demo-cmssuperheroes-themeforest-raworganic-homepage-5-2022-09-27-15_00_32.jpg: 640x288 2 3blocks, 1 4block, 1 5block, 2 gallerys, 1 header, 1 footer, 27.5ms\n",
      "image 571/2605 /tf/notebook/testimage/screencapture-demo-cmssuperheroes-themeforest-raworganic-homepage-8-2022-09-27-15_00_52.jpg: 640x320 1 2block, 1 3block, 1 typo, 1 gallery, 1 header, 1 footer, 63.9ms\n",
      "image 572/2605 /tf/notebook/testimage/screencapture-demo-cmssuperheroes-themeforest-raworganic-homepage-9-2022-09-27-15_01_04.jpg: 640x320 1 banner, 3 3blocks, 1 4block, 1 typo, 1 header, 1 footer, 74.4ms\n",
      "image 573/2605 /tf/notebook/testimage/screencapture-demo-codestag-atik-home-2-2022-09-28-10_04_40.jpg: 640x512 1 banner, 2 2blocks, 1 3block, 1 header, 1 footer, 52.4ms\n",
      "image 574/2605 /tf/notebook/testimage/screencapture-demo-codestag-atik-home-3-2022-09-28-10_04_48.jpg: 640x416 2 banners, 2 3blocks, 1 4block, 1 header, 1 footer, 40.2ms\n",
      "image 575/2605 /tf/notebook/testimage/screencapture-demo-exptheme-bixbang-2022-09-27-14_15_36.jpg: 640x256 2 banners, 1 3block, 1 4block, 1 5block, 2 6blocks, 1 typo, 1 header, 1 footer, 23.1ms\n",
      "image 576/2605 /tf/notebook/testimage/screencapture-demo-exptheme-bixbang-2022-09-27-14_15_41.jpg: 640x288 1 2block, 1 4block, 1 6block, 1 8block, 1 gallery, 1 header, 1 footer, 324.1ms\n",
      "image 577/2605 /tf/notebook/testimage/screencapture-demo-exptheme-bixbang-2022-09-27-14_15_48.jpg: 640x224 3 banners, 3 3blocks, 1 6block, 1 typo, 1 header, 1 footer, 8.1ms\n",
      "image 578/2605 /tf/notebook/testimage/screencapture-demo-exptheme-bixbang-2022-09-27-14_15_56.jpg: 640x640 1 banner, 4 headers, 8.4ms\n",
      "image 579/2605 /tf/notebook/testimage/screencapture-demo-exptheme-bixbang-2022-09-27-14_16_08.jpg: 640x256 1 banner, 1 3block, 1 4block, 1 5block, 1 6block, 3 typos, 1 gallery, 1 header, 1 footer, 7.3ms\n",
      "image 580/2605 /tf/notebook/testimage/screencapture-demo-exptheme-cetara-2022-09-28-10_14_30.jpg: 640x224 1 banner, 2 2blocks, 3 4blocks, 4 5blocks, 1 header, 1 footer, 8.2ms\n",
      "image 581/2605 /tf/notebook/testimage/screencapture-demo-exptheme-cetara-2022-09-28-10_14_40.jpg: 640x256 4 banners, 3 3blocks, 1 4block, 3 5blocks, 1 typo, 2 headers, 1 footer, 16.3ms\n",
      "image 582/2605 /tf/notebook/testimage/screencapture-demo-exptheme-cetara-2022-09-28-10_14_58.jpg: 640x256 2 banners, 2 2blocks, 3 4blocks, 3 5blocks, 1 header, 1 footer, 20.1ms\n",
      "image 583/2605 /tf/notebook/testimage/screencapture-demo-harutheme-clarivo-2022-09-27-10_15_30.jpg: 640x352 1 banner, 1 2block, 2 3blocks, 2 4blocks, 1 header, 1 footer, 27.6ms\n",
      "image 584/2605 /tf/notebook/testimage/screencapture-demo-harutheme-clarivo-home-2-2022-09-27-10_15_54.jpg: 640x384 1 2block, 1 3block, 2 4blocks, 1 5block, 1 gallery, 1 header, 1 footer, 52.9ms\n",
      "image 585/2605 /tf/notebook/testimage/screencapture-demo-harutheme-clarivo-home-4-2022-09-27-10_16_18.jpg: 640x320 1 banner, 1 2block, 2 3blocks, 2 4blocks, 1 header, 1 footer, 32.4ms\n",
      "image 586/2605 /tf/notebook/testimage/screencapture-demo-harutheme-pricom-2022-09-28-11_02_58.jpg: 640x192 3 banners, 2 2blocks, 1 3block, 3 4blocks, 1 header, 1 footer, 27.3ms\n",
      "image 587/2605 /tf/notebook/testimage/screencapture-demo-harutheme-pricom-home-2-2022-09-28-11_03_08.jpg: 640x160 2 banners, 1 2block, 1 3block, 2 4blocks, 1 6block, 3 gallerys, 1 header, 1 footer, 171.4ms\n"
     ]
    },
    {
     "name": "stdout",
     "output_type": "stream",
     "text": [
      "image 588/2605 /tf/notebook/testimage/screencapture-demo-harutheme-pricom-home-3-2022-09-28-11_03_14.jpg: 640x192 4 banners, 1 3block, 1 5block, 1 6block, 2 typos, 1 gallery, 2 headers, 1 footer, 6.8ms\n",
      "image 589/2605 /tf/notebook/testimage/screencapture-demo-harutheme-pricom-home-4-2022-09-28-11_03_25.jpg: 640x160 3 banners, 1 2block, 3 3blocks, 2 4blocks, 1 5block, 1 header, 1 footer, 7.6ms\n",
      "image 590/2605 /tf/notebook/testimage/screencapture-demo-harutheme-pricom-home-6-2022-09-28-11_03_39.jpg: 640x160 3 banners, 1 2block, 2 3blocks, 2 4blocks, 1 5block, 1 typo, 1 gallery, 1 header, 1 footer, 6.3ms\n",
      "image 591/2605 /tf/notebook/testimage/screencapture-demo-harutheme-pricom-home-8-2022-09-28-11_03_48.jpg: 640x224 1 2block, 1 3block, 3 4blocks, 2 typos, 1 header, 1 footer, 8.7ms\n",
      "image 592/2605 /tf/notebook/testimage/screencapture-demo-harutheme-stber-home-3-2022-09-28-10_48_29.jpg: 640x288 2 banners, 4 3blocks, 1 4block, 1 5block, 1 gallery, 1 header, 1 footer, 16.6ms\n",
      "image 593/2605 /tf/notebook/testimage/screencapture-demo-harutheme-stber-home-5-2022-09-28-10_48_43.jpg: 640x384 1 banner, 1 gallery, 2 headers, 1 footer, 19.3ms\n",
      "image 594/2605 /tf/notebook/testimage/screencapture-demo-harutheme-stber-home-7-2022-09-28-10_49_00.jpg: 640x256 5 banners, 1 typo, 1 gallery, 2 headers, 19.2ms\n",
      "image 595/2605 /tf/notebook/testimage/screencapture-demo-krasotaiskusstva-minishop-coffee-2022-09-28-15_24_33.jpg: 640x608 1 2block, 1 typo, 1 footer, 34.7ms\n",
      "image 596/2605 /tf/notebook/testimage/screencapture-demo-krasotaiskusstva-minishop-food-2022-09-28-15_24_38.jpg: 480x640 1 3block, 1 header, 1 footer, 59.1ms\n",
      "image 597/2605 /tf/notebook/testimage/screencapture-demo-krasotaiskusstva-minishop-themes-2022-09-28-15_24_44.jpg: 352x640 1 4block, 1 typo, 1 header, 1 footer, 58.1ms\n",
      "image 598/2605 /tf/notebook/testimage/screencapture-demo-krasotaiskusstva-minishop-wine-2022-09-28-15_24_20.jpg: 512x640 1 banner, 1 4block, 1 header, 1 footer, 66.0ms\n",
      "image 599/2605 /tf/notebook/testimage/screencapture-demo-leebrosus-axtronic-2022-09-26-11_30_58.jpg: 640x224 2 banners, 1 2block, 2 3blocks, 2 4blocks, 2 5blocks, 1 6block, 1 7block, 1 8block, 1 typo, 2 gallerys, 1 header, 1 footer, 32.8ms\n",
      "image 600/2605 /tf/notebook/testimage/screencapture-demo-leebrosus-axtronic-home-3-2022-09-26-11_32_09.jpg: 640x288 2 banners, 3 3blocks, 4 4blocks, 1 5block, 1 6block, 1 header, 1 footer, 40.2ms\n",
      "image 601/2605 /tf/notebook/testimage/screencapture-demo-leebrosus-axtronic-home-4-2022-09-26-11_32_23.jpg: 640x288 2 banners, 4 3blocks, 1 4block, 1 6block, 1 typo, 1 header, 1 footer, 54.5ms\n",
      "image 602/2605 /tf/notebook/testimage/screencapture-demo-leebrosus-axtronic-home-5-2022-09-26-11_32_42.jpg: 640x256 4 banners, 2 3blocks, 3 4blocks, 1 5block, 1 6block, 1 header, 1 footer, 34.2ms\n",
      "image 603/2605 /tf/notebook/testimage/screencapture-demo-leebrosus-axtronic-home-6-2022-09-26-11_33_11.jpg: 640x256 1 banner, 2 4blocks, 1 6block, 1 7block, 2 typos, 2 headers, 1 footer, 51.9ms\n",
      "image 604/2605 /tf/notebook/testimage/screencapture-demo-leebrosus-axtronic-home-7-2022-09-26-11_33_30.jpg: 640x288 1 banner, 1 3block, 1 4block, 2 6blocks, 2 gallerys, 1 header, 1 footer, 63.3ms\n",
      "image 605/2605 /tf/notebook/testimage/screencapture-demo-leebrosus-demus-home-3-2022-09-27-14_28_24.jpg: 640x320 2 banners, 1 4block, 1 gallery, 1 header, 1 footer, 65.3ms\n",
      "image 606/2605 /tf/notebook/testimage/screencapture-demo-leebrosus-demus-home-5-2022-09-27-14_28_43.jpg: 640x320 1 banner, 2 3blocks, 1 5block, 2 gallerys, 1 header, 1 footer, 32.1ms\n",
      "image 607/2605 /tf/notebook/testimage/screencapture-demo-leebrosus-demus-home-6-2022-09-27-14_28_50.jpg: 640x320 1 banner, 1 3block, 1 4block, 1 6block, 1 typo, 1 header, 1 footer, 26.6ms\n",
      "image 608/2605 /tf/notebook/testimage/screencapture-demo-leebrosus-demus-home-7-2022-09-27-14_28_56.jpg: 640x416 1 banner, 1 3block, 2 4blocks, 1 gallery, 1 header, 1 footer, 36.5ms\n",
      "image 609/2605 /tf/notebook/testimage/screencapture-demo-leebrosus-demus-home-8-2022-09-27-14_29_04.jpg: 640x384 2 banners, 1 2block, 2 4blocks, 1 5block, 1 header, 1 footer, 33.0ms\n",
      "image 610/2605 /tf/notebook/testimage/screencapture-demo-leebrosus-demus-home-9-2022-09-27-14_29_14.jpg: 640x352 2 banners, 2 3blocks, 1 4block, 1 5block, 1 typo, 1 header, 1 footer, 165.8ms\n",
      "image 611/2605 /tf/notebook/testimage/screencapture-demo-leebrosus-kosi-2022-09-23-16_02_52647.jpg: 640x288 3 banners, 1 2block, 1 3block, 1 4block, 1 header, 1 footer, 8.9ms\n",
      "image 612/2605 /tf/notebook/testimage/screencapture-demo-leebrosus-kosi-home-10-2022-09-23-16_03_45656.jpg: 640x352 2 banners, 1 4block, 1 typo, 1 gallery, 1 header, 1 footer, 7.2ms\n",
      "image 613/2605 /tf/notebook/testimage/screencapture-demo-leebrosus-kosi-home-11-2022-09-23-16_03_49657.jpg: 640x352 2 banners, 1 2block, 1 3block, 1 5block, 1 header, 1 footer, 6.3ms\n",
      "image 614/2605 /tf/notebook/testimage/screencapture-demo-leebrosus-kosi-home-12-2022-09-23-16_03_55658.jpg: 640x416 1 banner, 1 4block, 1 typo, 1 header, 1 footer, 22.9ms\n",
      "image 615/2605 /tf/notebook/testimage/screencapture-demo-leebrosus-kosi-home-13-2022-09-23-16_04_00659.jpg: 640x320 2 banners, 1 3block, 2 4blocks, 1 header, 1 footer, 16.6ms\n",
      "image 616/2605 /tf/notebook/testimage/screencapture-demo-leebrosus-kosi-home-14-2022-09-23-16_04_21660.jpg: 640x352 2 banners, 1 3block, 2 4blocks, 1 header, 1 footer, 19.3ms\n",
      "image 617/2605 /tf/notebook/testimage/screencapture-demo-leebrosus-kosi-home-2-2022-09-23-16_03_01648.jpg: 640x352 1 banner, 3 3blocks, 1 4block, 1 5block, 1 typo, 1 header, 1 footer, 23.5ms\n",
      "image 618/2605 /tf/notebook/testimage/screencapture-demo-leebrosus-kosi-home-3-2022-09-23-16_03_06649.jpg: 640x384 2 2blocks, 2 4blocks, 1 5block, 1 6block, 1 header, 1 footer, 36.2ms\n",
      "image 619/2605 /tf/notebook/testimage/screencapture-demo-leebrosus-kosi-home-4-2022-09-23-16_03_11650.jpg: 640x352 1 banner, 1 4block, 2 typos, 1 gallery, 1 header, 1 footer, 48.3ms\n",
      "image 620/2605 /tf/notebook/testimage/screencapture-demo-leebrosus-kosi-home-5-2022-09-23-16_03_15651.jpg: 640x352 2 banners, 1 2block, 1 3block, 1 4block, 1 5block, 1 header, 1 footer, 49.1ms\n",
      "image 621/2605 /tf/notebook/testimage/screencapture-demo-leebrosus-kosi-home-7-2022-09-23-16_03_28653.jpg: 640x352 1 banner, 1 2block, 1 3block, 1 4block, 1 header, 1 footer, 62.2ms\n",
      "image 622/2605 /tf/notebook/testimage/screencapture-demo-leebrosus-kosi-home-8-2022-09-23-16_03_34654.jpg: 640x448 1 2block, 1 4block, 1 header, 1 footer, 73.9ms\n",
      "image 623/2605 /tf/notebook/testimage/screencapture-demo-leebrosus-kosi-home-9-2022-09-23-16_03_40655.jpg: 640x320 1 banner, 1 3block, 2 4blocks, 1 gallery, 1 header, 1 footer, 285.4ms\n",
      "image 624/2605 /tf/notebook/testimage/screencapture-demo-leebrosus-maximin-2022-09-27-15_08_50.jpg: 640x224 4 banners, 4 3blocks, 2 4blocks, 2 5blocks, 2 6blocks, 1 typo, 1 header, 1 footer, 7.3ms\n",
      "image 625/2605 /tf/notebook/testimage/screencapture-demo-leebrosus-maximin-home-2-2022-09-27-15_09_13.jpg: 640x192 1 banner, 4 3blocks, 1 4block, 2 5blocks, 2 6blocks, 1 header, 1 footer, 11.3ms\n",
      "image 626/2605 /tf/notebook/testimage/screencapture-demo-leebrosus-maximin-home-3-2022-09-27-15_09_28.jpg: 640x224 2 banners, 2 2blocks, 7 3blocks, 2 5blocks, 1 6block, 1 typo, 1 header, 1 footer, 7.8ms\n",
      "image 627/2605 /tf/notebook/testimage/screencapture-demo-leebrosus-maximin-home-4-2022-09-27-15_09_47.jpg: 640x224 2 2blocks, 1 3block, 2 4blocks, 5 5blocks, 2 6blocks, 1 8block, 1 gallery, 1 header, 1 footer, 17.7ms\n",
      "image 628/2605 /tf/notebook/testimage/screencapture-demo-leebrosus-maximin-home-5-2022-09-27-15_10_04.jpg: 640x320 2 banners, 2 3blocks, 4 6blocks, 1 8block, 2 gallerys, 1 header, 1 footer, 22.5ms\n",
      "image 629/2605 /tf/notebook/testimage/screencapture-demo-leebrosus-maximin-home-7-2022-09-27-15_10_35.jpg: 640x288 1 banner, 2 2blocks, 1 3block, 1 4block, 4 5blocks, 1 7block, 2 headers, 1 footer, 31.0ms\n",
      "image 630/2605 /tf/notebook/testimage/screencapture-demo-leebrosus-melawell-2022-09-27-10_52_28.jpg: 640x224 4 banners, 2 2blocks, 3 3blocks, 4 4blocks, 1 6block, 3 gallerys, 1 header, 1 footer, 44.6ms\n",
      "image 631/2605 /tf/notebook/testimage/screencapture-demo-leebrosus-melawell-home-3-2022-09-27-10_52_51.jpg: 640x320 3 banners, 1 2block, 1 3block, 3 4blocks, 1 5block, 1 6block, 1 gallery, 1 header, 1 footer, 135.1ms\n"
     ]
    },
    {
     "name": "stdout",
     "output_type": "stream",
     "text": [
      "image 632/2605 /tf/notebook/testimage/screencapture-demo-leebrosus-organey-home-10-2022-09-27-16_29_17.jpg: 640x352 1 banner, 1 2block, 1 3block, 3 5blocks, 1 gallery, 1 header, 1 footer, 78.7ms\n",
      "image 633/2605 /tf/notebook/testimage/screencapture-demo-leebrosus-organey-home-2-2022-09-27-16_27_44.jpg: 640x288 3 banners, 1 2block, 2 3blocks, 3 5blocks, 1 header, 1 footer, 29.3ms\n",
      "image 634/2605 /tf/notebook/testimage/screencapture-demo-leebrosus-organey-home-3-2022-09-27-16_27_58.jpg: 640x352 1 banner, 1 2block, 1 3block, 2 4blocks, 4 5blocks, 1 6block, 1 gallery, 1 header, 1 footer, 66.2ms\n",
      "image 635/2605 /tf/notebook/testimage/screencapture-demo-leebrosus-organey-home-4-2022-09-27-16_28_09.jpg: 640x352 1 banner, 1 2block, 2 4blocks, 3 5blocks, 1 6block, 1 gallery, 1 header, 1 footer, 29.2ms\n",
      "image 636/2605 /tf/notebook/testimage/screencapture-demo-leebrosus-organey-home-5-2022-09-27-16_28_17.jpg: 640x352 1 2block, 1 3block, 2 5blocks, 2 gallerys, 1 header, 1 footer, 52.2ms\n",
      "image 637/2605 /tf/notebook/testimage/screencapture-demo-leebrosus-organey-home-7-2022-09-27-16_28_43.jpg: 640x352 2 2blocks, 1 3block, 3 4blocks, 2 5blocks, 1 header, 1 footer, 28.6ms\n",
      "image 638/2605 /tf/notebook/testimage/screencapture-demo-leebrosus-organey-home-9-2022-09-27-16_29_06.jpg: 640x352 1 banner, 1 2block, 2 3blocks, 2 5blocks, 1 gallery, 1 header, 1 footer, 59.4ms\n",
      "image 639/2605 /tf/notebook/testimage/screencapture-demo-leebrosus-piizalian-home-2-2022-09-23-17_44_01669.jpg: 640x224 4 banners, 3 3blocks, 2 4blocks, 2 typos, 1 header, 1 footer, 42.5ms\n",
      "image 640/2605 /tf/notebook/testimage/screencapture-demo-leebrosus-piizalian-home-4-2022-09-23-17_44_25671.jpg: 640x256 3 banners, 2 2blocks, 3 3blocks, 1 4block, 1 header, 286.7ms\n",
      "image 641/2605 /tf/notebook/testimage/screencapture-demo-leebrosus-rbpazt-home-2-2022-09-27-11_46_19676.jpg: 640x256 3 banners, 1 2block, 2 3blocks, 1 4block, 1 5block, 1 8block, 1 gallery, 1 header, 1 footer, 6.1ms\n",
      "image 642/2605 /tf/notebook/testimage/screencapture-demo-leebrosus-rbpazt-home-3-2022-09-27-11_46_30677.jpg: 640x256 3 banners, 1 2block, 2 3blocks, 1 5block, 1 typo, 4 gallerys, 1 header, 1 footer, 6.2ms\n",
      "image 643/2605 /tf/notebook/testimage/screencapture-demo-leebrosus-rbpazt-home-5-2022-09-27-11_46_52679.jpg: 640x224 5 banners, 2 2blocks, 2 3blocks, 1 4block, 1 5block, 1 8block, 1 typo, 1 gallery, 1 header, 1 footer, 6.8ms\n",
      "image 644/2605 /tf/notebook/testimage/screencapture-demo-leebrosus-reviens-home-1-2022-09-28-11_19_45.jpg: 640x320 4 banners, 1 header, 18.4ms\n",
      "image 645/2605 /tf/notebook/testimage/screencapture-demo-leebrosus-reviens-home-10-2022-09-28-11_22_21.jpg: 640x320 4 banners, 1 header, 1 footer, 23.4ms\n",
      "image 646/2605 /tf/notebook/testimage/screencapture-demo-leebrosus-reviens-home-15-2022-09-28-11_22_06.jpg: 640x608 1 typo, 1 gallery, 1 header, 1 footer, 69.9ms\n",
      "image 647/2605 /tf/notebook/testimage/screencapture-demo-leebrosus-reviens-home-3-2022-09-28-11_23_47.jpg: 640x352 2 banners, 1 2block, 1 3block, 1 5block, 1 header, 1 footer, 28.4ms\n",
      "image 648/2605 /tf/notebook/testimage/screencapture-demo-leebrosus-reviens-home-4-2022-09-28-11_23_39.jpg: 640x416 1 banner, 1 3block, 2 4blocks, 2 gallerys, 1 header, 1 footer, 38.1ms\n",
      "image 649/2605 /tf/notebook/testimage/screencapture-demo-leebrosus-reviens-home-5-2022-09-28-11_23_27.jpg: 640x320 1 banner, 1 2block, 1 3block, 1 gallery, 1 header, 1 footer, 25.9ms\n",
      "image 650/2605 /tf/notebook/testimage/screencapture-demo-leebrosus-reviens-home-7-2022-09-28-11_23_00.jpg: 640x288 3 banners, 3 2blocks, 1 header, 1 footer, 66.0ms\n",
      "image 651/2605 /tf/notebook/testimage/screencapture-demo-leebrosus-tritmix-home-4-2022-09-27-11_42_20.jpg: 640x256 4 banners, 2 3blocks, 3 4blocks, 1 6block, 1 header, 1 footer, 25.6ms\n",
      "image 652/2605 /tf/notebook/testimage/screencapture-demo-leebrosus-tritmix-home-5-2022-09-27-11_42_31.jpg: 640x384 3 banners, 1 2block, 1 3block, 1 gallery, 1 header, 1 footer, 29.9ms\n",
      "image 653/2605 /tf/notebook/testimage/screencapture-demo-leebrosus-tritmix-home-6-2022-09-27-11_42_42.jpg: 640x352 1 banner, 1 2block, 4 4blocks, 1 header, 1 footer, 27.9ms\n",
      "image 654/2605 /tf/notebook/testimage/screencapture-demo-leebrosus-tritmix-home-8-2022-09-27-11_42_53.jpg: 640x224 1 banner, 2 2blocks, 2 3blocks, 2 4blocks, 1 typo, 1 gallery, 1 header, 1 footer, 44.9ms\n",
      "image 655/2605 /tf/notebook/testimage/screencapture-demo-leebrosus-tritmix-home-9-2022-09-27-11_43_02.jpg: 640x288 2 banners, 1 2block, 2 3blocks, 2 4blocks, 1 header, 1 footer, 64.0ms\n",
      "image 656/2605 /tf/notebook/testimage/screencapture-demo-lion-themes-net-agota-2022-09-28-10_14_07684.jpg: 640x224 1 banner, 1 2block, 3 3blocks, 1 4block, 2 5blocks, 1 6block, 1 header, 1 footer, 72.5ms\n",
      "image 657/2605 /tf/notebook/testimage/screencapture-demo-lion-themes-net-ayo-2022-09-27-10_21_52.jpg: 640x416 2 banners, 1 3block, 1 4block, 3 5blocks, 1 header, 1 footer, 68.1ms\n",
      "image 658/2605 /tf/notebook/testimage/screencapture-demo-lion-themes-net-organix-2022-09-28-10_00_06698.jpg: 640x224 3 banners, 3 3blocks, 1 4block, 2 5blocks, 1 typo, 1 gallery, 1 header, 1 footer, 27.0ms\n",
      "image 659/2605 /tf/notebook/testimage/screencapture-demo-lion-themes-net-puik-2022-09-26-16_51_07.jpg: 640x256 1 banner, 2 2blocks, 1 3block, 2 4blocks, 1 5block, 4 typos, 2 headers, 1 footer, 32.6ms\n",
      "image 660/2605 /tf/notebook/testimage/screencapture-demo-mekshq-toucan-2022-09-28-13_49_33.jpg: 640x512 1 2block, 1 nblock, 1 header, 2 footers, 47.9ms\n",
      "image 661/2605 /tf/notebook/testimage/screencapture-demo-mekshq-toucan-2022-09-28-13_50_10.jpg: 576x640 1 4block, 1 nblock, 1 header, 2 footers, 112.0ms\n",
      "image 662/2605 /tf/notebook/testimage/screencapture-demo-mekshq-toucan-2022-09-28-13_50_35.jpg: 640x544 2 banners, 2 3blocks, 1 header, 2 footers, 52.0ms\n",
      "image 663/2605 /tf/notebook/testimage/screencapture-demo-mekshq-toucan-2022-09-28-13_50_47.jpg: 640x576 1 banner, 1 4block, 1 gallery, 1 header, 2 footers, 64.6ms\n",
      "image 664/2605 /tf/notebook/testimage/screencapture-demo-mekshq-toucan-2022-09-28-13_51_02.jpg: 640x512 1 nblock, 1 gallery, 1 header, 2 footers, 39.3ms\n",
      "image 665/2605 /tf/notebook/testimage/screencapture-demo-mekshq-toucan-2022-09-28-13_51_21.jpg: 640x544 2 2blocks, 2 4blocks, 1 header, 2 footers, 101.5ms\n",
      "image 666/2605 /tf/notebook/testimage/screencapture-demo-mekshq-toucan-2022-09-28-13_51_33.jpg: 640x608 1 3block, 2 4blocks, 1 header, 1 footer, 203.9ms\n",
      "image 667/2605 /tf/notebook/testimage/screencapture-demo-mekshq-toucan-2022-09-28-13_51_47.jpg: 640x512 3 banners, 1 2block, 1 3block, 1 nblock, 1 typo, 1 header, 2 footers, 13.6ms\n",
      "image 668/2605 /tf/notebook/testimage/screencapture-demo-mekshq-toucan-2022-09-28-13_52_41.jpg: 640x480 2 3blocks, 1 nblock, 1 gallery, 1 header, 2 footers, 12.6ms\n",
      "image 669/2605 /tf/notebook/testimage/screencapture-demo-mekshq-toucan-2022-09-28-13_52_54.jpg: 640x384 1 banner, 1 2block, 1 nblock, 1 gallery, 1 header, 2 footers, 10.4ms\n",
      "image 670/2605 /tf/notebook/testimage/screencapture-demo-mekshq-toucan-2022-09-28-13_53_10.jpg: 640x416 2 banners, 1 3block, 1 4block, 1 header, 38.1ms\n",
      "image 671/2605 /tf/notebook/testimage/screencapture-demo-mekshq-toucan-2022-09-28-13_53_22.jpg: 384x640 1 3block, 2 headers, 1 footer, 207.0ms\n",
      "image 672/2605 /tf/notebook/testimage/screencapture-demo-mekshq-toucan-2022-09-28-13_53_29.jpg: 640x640 1 banner, 1 3block, 1 nblock, 1 header, 2 footers, 10.1ms\n",
      "image 673/2605 /tf/notebook/testimage/screencapture-demo-milotheme-bibo-home-2-2022-09-27-13_55_50.jpg: 640x256 3 banners, 1 2block, 1 4block, 1 typo, 1 gallery, 1 header, 8.2ms\n",
      "image 674/2605 /tf/notebook/testimage/screencapture-demo-milotheme-bibo-home-3-2022-09-27-13_56_03.jpg: 640x224 3 banners, 3 3blocks, 1 5block, 2 gallerys, 1 header, 1 footer, 6.7ms\n",
      "image 675/2605 /tf/notebook/testimage/screencapture-demo-minotheme-azi-wp-2022-09-23-15_32_31706.jpg: 640x256 2 banners, 1 2block, 1 3block, 1 4block, 1 5block, 1 6block, 3 typos, 1 header, 1 footer, 7.5ms\n",
      "image 676/2605 /tf/notebook/testimage/screencapture-demo-minotheme-azi-wp-home-2-2022-09-23-15_32_45707.jpg: 640x288 2 banners, 1 3block, 2 4blocks, 1 5block, 1 6block, 1 header, 1 footer, 11.4ms\n",
      "image 677/2605 /tf/notebook/testimage/screencapture-demo-minotheme-azi-wp-home-3-2022-09-23-15_32_51708.jpg: 640x352 2 banners, 1 2block, 2 4blocks, 1 6block, 1 gallery, 1 header, 1 footer, 6.8ms\n"
     ]
    },
    {
     "name": "stdout",
     "output_type": "stream",
     "text": [
      "image 678/2605 /tf/notebook/testimage/screencapture-demo-minotheme-azi-wp-home-5-2022-09-23-15_33_04710.jpg: 640x288 2 banners, 1 3block, 2 4blocks, 1 6block, 1 8block, 3 typos, 1 header, 1 footer, 7.9ms\n",
      "image 679/2605 /tf/notebook/testimage/screencapture-demo-minotheme-azi-wp-home-6-2022-09-23-15_32_57711.jpg: 640x256 2 banners, 1 3block, 2 4blocks, 1 6block, 1 gallery, 1 header, 1 footer, 22.1ms\n",
      "image 680/2605 /tf/notebook/testimage/screencapture-demo-nasatheme-flozen-2022-09-23-17_04_19.jpg: 640x384 1 banner, 4 3blocks, 1 5block, 1 6block, 1 nblock, 1 typo, 1 header, 1 footer, 49.0ms\n",
      "image 681/2605 /tf/notebook/testimage/screencapture-demo-nasatheme-flozen-home-accessories-v2-2022-09-23-17_04_27.jpg: 640x480 1 banner, 1 3block, 1 5block, 1 6block, 3 gallerys, 1 header, 1 footer, 46.8ms\n",
      "image 682/2605 /tf/notebook/testimage/screencapture-demo-nasatheme-flozen2-home-auto-parts-v2-2022-09-23-17_03_54.jpg: 640x480 3 banners, 1 2block, 1 4block, 2 5blocks, 1 6block, 3 typos, 1 header, 1 footer, 43.3ms\n",
      "image 683/2605 /tf/notebook/testimage/screencapture-demo-ovatheme-touxt-2022-09-27-09_43_29.jpg: 640x256 1 banner, 2 2blocks, 1 4block, 1 6block, 1 typo, 2 gallerys, 1 header, 56.2ms\n",
      "image 684/2605 /tf/notebook/testimage/screencapture-demo-ovatheme-touxt-home-2-2022-09-27-09_43_38.jpg: 640x288 1 banner, 1 2block, 1 3block, 2 4blocks, 1 5block, 1 6block, 1 typo, 1 header, 1 footer, 46.7ms\n",
      "image 685/2605 /tf/notebook/testimage/screencapture-demo-ovatheme-touxt-home-4-2022-09-27-09_43_56.jpg: 640x288 1 banner, 2 2blocks, 2 4blocks, 1 5block, 2 6blocks, 1 gallery, 1 header, 1 footer, 63.2ms\n",
      "image 686/2605 /tf/notebook/testimage/screencapture-demo-ovatheme-touxt-home-5-2022-09-27-09_44_08.jpg: 640x320 1 banner, 1 gallery, 1 header, 1 footer, 64.8ms\n",
      "image 687/2605 /tf/notebook/testimage/screencapture-demo-physcode-2022-09-27-17_04_15.jpg: 640x256 3 banners, 1 2block, 1 4block, 1 typo, 1 header, 1 footer, 46.7ms\n",
      "image 688/2605 /tf/notebook/testimage/screencapture-demo-presslayouts-bigbazaar-demo5-2022-09-27-09_40_35.jpg: 640x448 1 banner, 1 2block, 3 5blocks, 1 header, 1 footer, 74.2ms\n",
      "image 689/2605 /tf/notebook/testimage/screencapture-demo-presslayouts-bigbazaar-demo8-2022-09-27-09_40_53.jpg: 640x352 1 2block, 1 3block, 3 4blocks, 1 5block, 1 gallery, 1 header, 1 footer, 62.5ms\n",
      "image 690/2605 /tf/notebook/testimage/screencapture-demo-roadthemes-caden-2022-09-28-15_21_47.jpg: 640x288 2 banners, 1 2block, 4 3blocks, 2 5blocks, 1 6block, 1 gallery, 1 header, 1 footer, 49.2ms\n",
      "image 691/2605 /tf/notebook/testimage/screencapture-demo-roadthemes-elise-2022-09-26-11_14_50.jpg: 640x320 2 banners, 1 2block, 1 3block, 2 4blocks, 1 typo, 1 gallery, 1 header, 1 footer, 60.3ms\n",
      "image 692/2605 /tf/notebook/testimage/screencapture-demo-roadthemes-happystore-2022-09-26-16_32_44.jpg: 640x352 1 banner, 1 3block, 5 4blocks, 1 header, 1 footer, 68.4ms\n",
      "image 693/2605 /tf/notebook/testimage/screencapture-demo-roadthemes-happystore-home-page-2-2022-09-26-16_33_35.jpg: 640x352 1 banner, 1 3block, 5 4blocks, 1 6block, 1 header, 1 footer, 64.7ms\n",
      "image 694/2605 /tf/notebook/testimage/screencapture-demo-roadthemes-happystore-home-page-3-2022-09-26-16_33_45.jpg: 640x416 2 banners, 4 4blocks, 1 6block, 1 header, 1 footer, 92.0ms\n",
      "image 695/2605 /tf/notebook/testimage/screencapture-demo-roadthemes-james-2022-09-23-16_12_14.jpg: 640x288 2 banners, 2 2blocks, 3 4blocks, 1 typo, 1 gallery, 1 header, 1 footer, 29.9ms\n",
      "image 696/2605 /tf/notebook/testimage/screencapture-demo-roadthemes-jobaria-2022-09-28-15_35_12.jpg: 640x192 5 banners, 2 2blocks, 1 3block, 4 4blocks, 1 5block, 1 gallery, 1 header, 1 footer, 22.9ms\n",
      "image 697/2605 /tf/notebook/testimage/screencapture-demo-roadthemes-junno-2022-09-23-17_11_27.jpg: 640x320 1 banner, 2 3blocks, 1 4block, 2 5blocks, 2 gallerys, 1 header, 1 footer, 31.3ms\n",
      "image 698/2605 /tf/notebook/testimage/screencapture-demo-roadthemes-junno-cosmetic-2022-09-23-17_13_09.jpg: 640x352 1 banner, 1 2block, 2 4blocks, 4 5blocks, 1 gallery, 1 header, 1 footer, 146.9ms\n",
      "image 699/2605 /tf/notebook/testimage/screencapture-demo-roadthemes-junno-organicfood-2022-09-23-17_12_28.jpg: 640x352 1 banner, 1 4block, 3 5blocks, 2 gallerys, 1 header, 1 footer, 69.7ms\n",
      "image 700/2605 /tf/notebook/testimage/screencapture-demo-roadthemes-mooboo-2022-09-26-10_03_51.jpg: 640x256 2 banners, 2 3blocks, 1 typo, 1 gallery, 1 header, 1 footer, 40.1ms\n",
      "image 701/2605 /tf/notebook/testimage/screencapture-demo-roadthemes-rubbez-2022-09-28-10_37_17.jpg: 640x288 2 banners, 4 4blocks, 1 6block, 1 gallery, 1 header, 1 footer, 49.9ms\n",
      "image 702/2605 /tf/notebook/testimage/screencapture-demo-roadthemes-rubbez-home-page-2-2022-09-28-10_36_14.jpg: 640x256 1 banner, 1 3block, 4 4blocks, 1 6block, 1 gallery, 1 header, 1 footer, 54.0ms\n",
      "image 703/2605 /tf/notebook/testimage/screencapture-demo-roadthemes-rubbez-home-page-3-2022-09-28-10_36_24.jpg: 640x256 1 banner, 1 3block, 3 4blocks, 1 6block, 1 typo, 1 gallery, 1 header, 1 footer, 82.5ms\n",
      "image 704/2605 /tf/notebook/testimage/screencapture-demo-roadthemes-rubbez-home-page-4-2022-09-28-10_36_48.jpg: 640x352 1 banner, 3 4blocks, 1 6block, 1 typo, 2 gallerys, 1 header, 1 footer, 35.1ms\n",
      "image 705/2605 /tf/notebook/testimage/screencapture-demo-roadthemes-vanesawp-2022-09-28-13_53_28.jpg: 640x320 2 banners, 2 3blocks, 2 4blocks, 1 5block, 1 gallery, 1 header, 1 footer, 32.2ms\n",
      "image 706/2605 /tf/notebook/testimage/screencapture-demo-snstheme-wp-anton-2022-09-28-10_31_59.jpg: 640x416 1 banner, 2 3blocks, 2 4blocks, 1 6block, 1 header, 1 footer, 35.8ms\n",
      "image 707/2605 /tf/notebook/testimage/screencapture-demo-snstheme-wp-anton-home-2-2022-09-28-10_32_12.jpg: 640x448 1 banner, 1 3block, 1 4block, 1 6block, 1 typo, 1 header, 1 footer, 96.2ms\n",
      "image 708/2605 /tf/notebook/testimage/screencapture-demo-snstheme-wp-anton-home-3-2022-09-28-10_32_16.jpg: 640x416 3 banners, 1 2block, 1 3block, 2 4blocks, 1 6block, 1 header, 105.1ms\n",
      "image 709/2605 /tf/notebook/testimage/screencapture-demo-snstheme-wp-anton-home-4-2022-09-28-10_32_23.jpg: 640x352 2 banners, 1 3block, 2 4blocks, 2 typos, 1 header, 1 footer, 24.0ms\n",
      "image 710/2605 /tf/notebook/testimage/screencapture-demo-snstheme-wp-anton-home-5-2022-09-28-10_32_38.jpg: 640x352 1 banner, 1 3block, 1 6block, 1 typo, 1 gallery, 1 header, 1 footer, 26.8ms\n",
      "image 711/2605 /tf/notebook/testimage/screencapture-demo-snstheme-wp-avaz-2022-09-23-16_01_12.jpg: 640x352 2 banners, 1 2block, 1 3block, 2 4blocks, 1 5block, 1 gallery, 1 header, 1 footer, 22.2ms\n",
      "image 712/2605 /tf/notebook/testimage/screencapture-demo-snstheme-wp-avaz-2022-09-23-16_01_51.jpg: 640x416 2 banners, 1 2block, 1 3block, 1 4block, 1 5block, 1 gallery, 1 header, 1 footer, 235.2ms\n",
      "image 713/2605 /tf/notebook/testimage/screencapture-demo-snstheme-wp-avaz-2022-09-23-16_01_59.jpg: 640x320 2 banners, 3 3blocks, 2 4blocks, 1 5block, 1 gallery, 1 header, 1 footer, 7.2ms\n",
      "image 714/2605 /tf/notebook/testimage/screencapture-demo-snstheme-wp-avaz-2022-09-23-16_09_09.jpg: 640x384 2 banners, 1 2block, 2 3blocks, 1 4block, 1 5block, 1 typo, 1 gallery, 1 header, 1 footer, 6.7ms\n",
      "image 715/2605 /tf/notebook/testimage/screencapture-demo-snstheme-wp-evon-2022-09-26-11_24_30792.jpg: 640x448 1 banner, 1 4block, 1 6block, 1 gallery, 1 header, 1 footer, 8.3ms\n",
      "image 716/2605 /tf/notebook/testimage/screencapture-demo-snstheme-wp-evon-home-10-2022-09-26-11_37_24801.jpg: 640x320 1 banner, 1 4block, 1 6block, 2 typos, 1 gallery, 1 header, 1 footer, 8.8ms\n",
      "image 717/2605 /tf/notebook/testimage/screencapture-demo-snstheme-wp-evon-home-13-2022-09-26-11_38_27803.jpg: 640x320 1 banner, 2 2blocks, 3 3blocks, 1 4block, 1 typo, 1 header, 1 footer, 7.5ms\n",
      "image 718/2605 /tf/notebook/testimage/screencapture-demo-snstheme-wp-evon-home-16-2022-09-26-11_38_45804.jpg: 640x416 2 banners, 2 3blocks, 1 5block, 1 typo, 1 header, 7.2ms\n",
      "image 719/2605 /tf/notebook/testimage/screencapture-demo-snstheme-wp-evon-home-17-2022-09-26-11_39_02805.jpg: 640x288 1 banner, 1 2block, 1 4block, 1 5block, 3 6blocks, 1 typo, 1 gallery, 1 header, 1 footer, 21.9ms\n",
      "image 720/2605 /tf/notebook/testimage/screencapture-demo-snstheme-wp-evon-home-19-2022-09-26-11_39_46807.jpg: 640x288 1 banner, 1 2block, 1 3block, 1 4block, 1 5block, 1 6block, 1 typo, 2 gallerys, 1 header, 1 footer, 23.5ms\n"
     ]
    },
    {
     "name": "stdout",
     "output_type": "stream",
     "text": [
      "image 721/2605 /tf/notebook/testimage/screencapture-demo-snstheme-wp-evon-home-2-2022-09-26-11_24_44793.jpg: 640x352 2 banners, 1 2block, 1 4block, 2 6blocks, 1 typo, 1 header, 1 footer, 30.0ms\n",
      "image 722/2605 /tf/notebook/testimage/screencapture-demo-snstheme-wp-evon-home-3-2022-09-26-11_24_54794.jpg: 640x416 1 banner, 1 3block, 1 4block, 1 6block, 1 gallery, 1 header, 1 footer, 52.0ms\n",
      "image 723/2605 /tf/notebook/testimage/screencapture-demo-snstheme-wp-evon-home-4-2022-09-26-11_25_06795.jpg: 640x320 3 banners, 1 2block, 1 5block, 2 6blocks, 1 gallery, 1 header, 1 footer, 141.1ms\n",
      "image 724/2605 /tf/notebook/testimage/screencapture-demo-snstheme-wp-evon-home-5-2022-09-26-11_25_22796.jpg: 640x320 1 banner, 1 4block, 1 5block, 3 6blocks, 1 gallery, 1 header, 1 footer, 24.6ms\n",
      "image 725/2605 /tf/notebook/testimage/screencapture-demo-snstheme-wp-evon-home-7-2022-09-26-11_36_09798.jpg: 640x288 1 banner, 1 4block, 3 6blocks, 1 7block, 1 gallery, 1 header, 1 footer, 28.0ms\n",
      "image 726/2605 /tf/notebook/testimage/screencapture-demo-snstheme-wp-evon-home-8-2022-09-26-11_36_37799.jpg: 640x256 2 banners, 2 2blocks, 3 3blocks, 1 4block, 1 6block, 1 typo, 2 headers, 30.0ms\n",
      "image 727/2605 /tf/notebook/testimage/screencapture-demo-snstheme-wp-hadona-2022-09-27-16_44_29.jpg: 640x288 2 banners, 1 2block, 2 3blocks, 1 4block, 1 6block, 1 gallery, 2 headers, 1 footer, 204.1ms\n",
      "image 728/2605 /tf/notebook/testimage/screencapture-demo-snstheme-wp-hadona-home-page-4-2022-09-27-16_44_48.jpg: 640x256 3 banners, 1 2block, 4 3blocks, 1 4block, 1 typo, 1 header, 1 footer, 6.6ms\n",
      "image 729/2605 /tf/notebook/testimage/screencapture-demo-snstheme-wp-hadona-home-page-6-2022-09-27-16_45_00.jpg: 640x320 5 banners, 1 header, 1 footer, 8.5ms\n",
      "image 730/2605 /tf/notebook/testimage/screencapture-demo-snstheme-wp-kalolia-fashion-2022-09-27-10_54_05.jpg: 640x352 2 banners, 1 3block, 3 4blocks, 1 5block, 1 header, 1 footer, 7.3ms\n",
      "image 731/2605 /tf/notebook/testimage/screencapture-demo-snstheme-wp-kalolia-home3-2022-09-27-10_53_24.jpg: 640x320 2 banners, 1 2block, 2 3blocks, 2 4blocks, 1 5block, 1 gallery, 1 header, 1 footer, 7.0ms\n",
      "image 732/2605 /tf/notebook/testimage/screencapture-demo-snstheme-wp-kanta-2022-09-26-16_15_30.jpg: 640x384 1 banner, 1 2block, 1 3block, 1 4block, 2 5blocks, 1 6block, 1 gallery, 1 header, 1 footer, 6.5ms\n",
      "image 733/2605 /tf/notebook/testimage/screencapture-demo-snstheme-wp-kanta-2022-09-26-16_15_39.jpg: 640x416 2 banners, 1 3block, 2 4blocks, 1 5block, 1 6block, 1 header, 1 footer, 7.5ms\n",
      "image 734/2605 /tf/notebook/testimage/screencapture-demo-snstheme-wp-manh-2022-09-27-13_53_31.jpg: 640x352 2 banners, 2 3blocks, 2 4blocks, 1 5block, 1 header, 1 footer, 19.2ms\n",
      "image 735/2605 /tf/notebook/testimage/screencapture-demo-snstheme-wp-manh-home-1-2022-09-27-13_53_23.jpg: 640x288 2 banners, 4 3blocks, 1 4block, 1 5block, 1 header, 1 footer, 20.5ms\n",
      "image 736/2605 /tf/notebook/testimage/screencapture-demo-snstheme-wp-manh-home-3-2022-09-27-13_53_43.jpg: 640x416 3 banners, 1 3block, 3 5blocks, 1 header, 1 footer, 41.8ms\n",
      "image 737/2605 /tf/notebook/testimage/screencapture-demo-snstheme-wp-manh-home-4-2022-09-27-13_53_54.jpg: 640x352 1 banner, 1 3block, 1 5block, 1 6block, 1 7block, 1 typo, 1 gallery, 1 header, 1 footer, 39.1ms\n",
      "image 738/2605 /tf/notebook/testimage/screencapture-demo-snstheme-wp-manh-home-5-2022-09-27-13_54_00.jpg: 640x352 2 banners, 2 3blocks, 3 5blocks, 1 gallery, 1 header, 1 footer, 40.0ms\n",
      "image 739/2605 /tf/notebook/testimage/screencapture-demo-snstheme-wp-mbstore-home-3-2022-09-27-10_31_06822.jpg: 640x352 1 banner, 3 3blocks, 2 5blocks, 1 nblock, 1 typo, 1 gallery, 1 header, 1 footer, 42.2ms\n",
      "image 740/2605 /tf/notebook/testimage/screencapture-demo-snstheme-wp-nitan-2022-09-27-10_08_14.jpg: 640x384 2 banners, 1 2block, 1 5block, 1 gallery, 1 header, 1 footer, 52.0ms\n",
      "image 741/2605 /tf/notebook/testimage/screencapture-demo-snstheme-wp-nitan-2022-09-27-10_09_04.jpg: 640x384 2 banners, 1 3block, 2 4blocks, 1 6block, 1 gallery, 1 header, 1 footer, 94.1ms\n",
      "image 742/2605 /tf/notebook/testimage/screencapture-demo-snstheme-wp-nitan-2022-09-27-10_09_12.jpg: 640x448 2 banners, 1 3block, 2 4blocks, 1 6block, 1 header, 1 footer, 97.5ms\n",
      "image 743/2605 /tf/notebook/testimage/screencapture-demo-snstheme-wp-nova-2022-09-28-15_19_50.jpg: 640x384 2 banners, 2 2blocks, 1 3block, 3 4blocks, 1 6block, 1 typo, 1 header, 1 footer, 37.7ms\n",
      "image 744/2605 /tf/notebook/testimage/screencapture-demo-snstheme-wp-nova-2022-09-28-15_19_56.jpg: 640x416 1 banner, 1 2block, 1 3block, 4 4blocks, 1 5block, 1 typo, 1 gallery, 1 header, 1 footer, 36.2ms\n",
      "image 745/2605 /tf/notebook/testimage/screencapture-demo-snstheme-wp-nova-2022-09-28-15_20_05.jpg: 640x352 1 banner, 1 3block, 3 4blocks, 1 5block, 1 typo, 1 gallery, 1 header, 1 footer, 30.3ms\n",
      "image 746/2605 /tf/notebook/testimage/screencapture-demo-snstheme-wp-samex-home-11-2022-09-26-15_42_42.jpg: 640x416 1 banner, 1 3block, 1 5block, 1 typo, 1 gallery, 1 header, 166.0ms\n",
      "image 747/2605 /tf/notebook/testimage/screencapture-demo-snstheme-wp-samex-home-12-2022-09-26-15_42_51.jpg: 640x448 1 banner, 1 4block, 1 5block, 1 6block, 1 gallery, 1 header, 1 footer, 7.4ms\n",
      "image 748/2605 /tf/notebook/testimage/screencapture-demo-snstheme-wp-samex-home-13-2022-09-26-15_43_00.jpg: 640x320 2 banners, 1 3block, 3 4blocks, 1 6block, 1 gallery, 1 header, 1 footer, 6.9ms\n",
      "image 749/2605 /tf/notebook/testimage/screencapture-demo-snstheme-wp-samex-home-3-2022-09-26-15_41_44.jpg: 640x288 3 banners, 3 4blocks, 2 6blocks, 1 typo, 1 header, 1 footer, 8.8ms\n",
      "image 750/2605 /tf/notebook/testimage/screencapture-demo-snstheme-wp-samex-home-4-2022-09-26-15_41_58.jpg: 640x288 3 banners, 1 4block, 2 typos, 1 header, 1 footer, 6.2ms\n",
      "image 751/2605 /tf/notebook/testimage/screencapture-demo-snstheme-wp-samex-home-6-2022-09-26-15_42_10.jpg: 640x288 3 banners, 1 3block, 3 4blocks, 1 typo, 1 header, 1 footer, 6.4ms\n",
      "image 752/2605 /tf/notebook/testimage/screencapture-demo-snstheme-wp-sara-2022-09-23-18_08_55.jpg: 640x256 1 banner, 2 3blocks, 5 5blocks, 1 6block, 1 typo, 1 gallery, 1 header, 1 footer, 6.9ms\n",
      "image 753/2605 /tf/notebook/testimage/screencapture-demo-snstheme-wp-sara-2022-09-23-18_09_26.jpg: 640x320 1 banner, 1 3block, 2 4blocks, 1 5block, 2 typos, 1 gallery, 1 header, 2 footers, 9.3ms\n",
      "image 754/2605 /tf/notebook/testimage/screencapture-demo-snstheme-wp-sara-2022-09-23-18_09_35.jpg: 640x256 2 banners, 1 3block, 1 4block, 5 5blocks, 2 6blocks, 1 7block, 1 header, 1 footer, 14.9ms\n",
      "image 755/2605 /tf/notebook/testimage/screencapture-demo-snstheme-wp-sara-2022-09-23-18_09_52.jpg: 640x480 1 banner, 1 4block, 1 6block, 2 gallerys, 1 header, 1 footer, 25.2ms\n",
      "image 756/2605 /tf/notebook/testimage/screencapture-demo-snstheme-wp-sara-2022-09-23-18_10_01.jpg: 640x384 1 banner, 1 2block, 1 3block, 2 4blocks, 3 5blocks, 1 header, 1 footer, 36.0ms\n",
      "image 757/2605 /tf/notebook/testimage/screencapture-demo-snstheme-wp-simen-2022-09-27-11_26_38.jpg: 640x384 1 banner, 2 3blocks, 1 4block, 2 5blocks, 1 6block, 2 gallerys, 1 header, 1 footer, 41.5ms\n",
      "image 758/2605 /tf/notebook/testimage/screencapture-demo-snstheme-wp-simen-2022-09-27-11_27_30.jpg: 640x352 2 banners, 1 3block, 2 5blocks, 1 6block, 1 typo, 1 gallery, 1 header, 1 footer, 42.0ms\n",
      "image 759/2605 /tf/notebook/testimage/screencapture-demo-snstheme-wp-simen-2022-09-27-11_27_45.jpg: 640x320 2 banners, 1 3block, 2 4blocks, 1 5block, 1 6block, 1 typo, 2 gallerys, 1 header, 1 footer, 40.6ms\n",
      "image 760/2605 /tf/notebook/testimage/screencapture-demo-snstheme-wp-simen-2022-09-27-11_27_58.jpg: 640x352 1 banner, 1 3block, 1 4block, 3 5blocks, 2 6blocks, 1 typo, 1 gallery, 1 header, 1 footer, 202.2ms\n",
      "image 761/2605 /tf/notebook/testimage/screencapture-demo-snstheme-wp-smarket-home-2-2022-09-26-11_06_32.jpg: 640x320 1 banner, 1 2block, 1 3block, 3 4blocks, 3 typos, 2 gallerys, 1 header, 6.5ms\n",
      "image 762/2605 /tf/notebook/testimage/screencapture-demo-snstheme-wp-smarket-home-3-2022-09-26-11_06_40.jpg: 640x288 1 banner, 1 2block, 1 3block, 2 4blocks, 4 6blocks, 1 typo, 2 gallerys, 1 header, 1 footer, 7.0ms\n",
      "image 763/2605 /tf/notebook/testimage/screencapture-demo-snstheme-wp-vicky-home-2-2022-09-26-11_50_31831.jpg: 640x352 2 banners, 1 2block, 2 3blocks, 2 6blocks, 1 typo, 1 header, 2 footers, 7.4ms\n"
     ]
    },
    {
     "name": "stdout",
     "output_type": "stream",
     "text": [
      "image 764/2605 /tf/notebook/testimage/screencapture-demo-snstheme-wp-vicky-home-3-2022-09-26-11_50_43832.jpg: 640x352 3 banners, 1 2block, 1 3block, 3 4blocks, 1 header, 2 footers, 6.2ms\n",
      "image 765/2605 /tf/notebook/testimage/screencapture-demo-snstheme-wp-vicky-home-6-2022-09-26-11_49_52835.jpg: 640x352 2 banners, 1 3block, 1 4block, 1 gallery, 1 header, 1 footer, 6.2ms\n",
      "image 766/2605 /tf/notebook/testimage/screencapture-demo-snstheme-wp-vicky-home-7-2022-09-26-11_50_01836.jpg: 640x320 2 banners, 2 4blocks, 2 typos, 1 gallery, 1 header, 1 footer, 6.9ms\n",
      "image 767/2605 /tf/notebook/testimage/screencapture-demo-theme-sky-agrofood-2022-09-27-14_21_24.jpg: 640x224 1 2block, 3 3blocks, 1 6block, 1 7block, 1 8block, 4 nblocks, 1 typo, 1 header, 1 footer, 15.4ms\n",
      "image 768/2605 /tf/notebook/testimage/screencapture-demo-theme-sky-agrofood-home-2-2022-09-27-14_21_33.jpg: 640x224 2 banners, 2 3blocks, 1 4block, 1 7block, 1 8block, 1 nblock, 1 typo, 1 header, 1 footer, 26.7ms\n",
      "image 769/2605 /tf/notebook/testimage/screencapture-demo-theme-sky-agrofood-home-3-2022-09-27-14_21_41.jpg: 640x192 2 banners, 3 3blocks, 1 6block, 3 7blocks, 1 8block, 1 nblock, 1 typo, 1 header, 1 footer, 21.4ms\n",
      "image 770/2605 /tf/notebook/testimage/screencapture-demo-theme-sky-agrofood-home-6-2022-09-27-14_21_55.jpg: 640x224 3 banners, 1 3block, 1 4block, 1 5block, 2 6blocks, 1 8block, 1 header, 1 footer, 37.2ms\n",
      "image 771/2605 /tf/notebook/testimage/screencapture-demo-theme-sky-agrofood-home-7-2022-09-27-14_22_00.jpg: 640x256 3 banners, 1 2block, 1 4block, 1 6block, 1 7block, 1 nblock, 2 typos, 1 header, 1 footer, 32.3ms\n",
      "image 772/2605 /tf/notebook/testimage/screencapture-demo-theme-sky-babycare-2022-09-28-13_35_16.jpg: 640x256 4 banners, 2 3blocks, 2 5blocks, 4 6blocks, 1 8block, 1 nblock, 1 header, 1 footer, 35.1ms\n",
      "image 773/2605 /tf/notebook/testimage/screencapture-demo-theme-sky-babycare-home-2-2022-09-28-13_35_23.jpg: 640x288 1 2block, 1 3block, 5 6blocks, 1 nblock, 1 gallery, 1 header, 1 footer, 71.3ms\n",
      "image 774/2605 /tf/notebook/testimage/screencapture-demo-theme-sky-babycare-home-4-2022-09-28-13_35_37.jpg: 640x320 2 banners, 2 3blocks, 2 5blocks, 1 6block, 1 header, 1 footer, 172.2ms\n",
      "image 775/2605 /tf/notebook/testimage/screencapture-demo-theme-sky-babycare-home-5-2022-09-28-13_35_45.jpg: 640x256 2 banners, 2 2blocks, 1 3block, 3 6blocks, 1 8block, 2 nblocks, 1 typo, 1 header, 2 footers, 7.2ms\n",
      "image 776/2605 /tf/notebook/testimage/screencapture-demo-theme-sky-babycare-home-6-2022-09-28-13_35_53.jpg: 640x256 2 banners, 1 2block, 1 3block, 1 5block, 2 6blocks, 1 typo, 1 gallery, 1 header, 1 footer, 6.0ms\n",
      "image 777/2605 /tf/notebook/testimage/screencapture-demo-theme-sky-babycare-home-7-2022-09-28-13_36_01.jpg: 640x224 1 banner, 4 2blocks, 1 5block, 4 6blocks, 1 8block, 1 nblock, 1 typo, 1 header, 1 footer, 10.4ms\n",
      "image 778/2605 /tf/notebook/testimage/screencapture-demo-theme-sky-babycare-kit-2022-09-28-13_36_10.jpg: 640x288 4 banners, 1 3block, 1 4block, 1 5block, 1 6block, 1 nblock, 1 header, 1 footer, 13.5ms\n",
      "image 779/2605 /tf/notebook/testimage/screencapture-demo-theme-sky-boxshop-furniture-2022-09-22-15_44_09.jpg: 640x448 1 banner, 3 3blocks, 2 4blocks, 1 6block, 1 gallery, 1 header, 1 footer, 21.3ms\n",
      "image 780/2605 /tf/notebook/testimage/screencapture-demo-theme-sky-boxshop-glasses-2022-09-22-15_44_46.jpg: 640x480 3 banners, 1 2block, 1 5block, 1 typo, 2 gallerys, 1 header, 1 footer, 24.3ms\n",
      "image 781/2605 /tf/notebook/testimage/screencapture-demo-theme-sky-boxshop-houseware-2022-09-22-15_45_38.jpg: 640x448 2 banners, 3 3blocks, 1 4block, 1 5block, 1 gallery, 1 header, 1 footer, 44.3ms\n",
      "image 782/2605 /tf/notebook/testimage/screencapture-demo-theme-sky-boxshop-organic-2022-09-22-15_45_11.jpg: 640x352 4 banners, 1 2block, 3 3blocks, 2 4blocks, 2 5blocks, 1 6block, 1 header, 1 footer, 39.3ms\n",
      "image 783/2605 /tf/notebook/testimage/screencapture-demo-theme-sky-catana-2022-09-28-13_33_18.jpg: 640x192 3 banners, 1 2block, 1 3block, 1 4block, 2 5blocks, 1 header, 1 footer, 32.1ms\n",
      "image 784/2605 /tf/notebook/testimage/screencapture-demo-theme-sky-catana-cosmetic-2022-09-28-13_34_34.jpg: 640x192 2 banners, 3 3blocks, 1 4block, 1 5block, 1 6block, 1 gallery, 1 header, 32.9ms\n",
      "image 785/2605 /tf/notebook/testimage/screencapture-demo-theme-sky-catana-fashion-2-2022-09-28-13_33_38.jpg: 640x224 4 banners, 1 3block, 2 4blocks, 1 typo, 1 gallery, 1 header, 1 footer, 52.8ms\n",
      "image 786/2605 /tf/notebook/testimage/screencapture-demo-theme-sky-catana-shoes-2022-09-28-13_34_04.jpg: 640x192 3 banners, 2 2blocks, 4 gallerys, 1 footer, 174.0ms\n",
      "image 787/2605 /tf/notebook/testimage/screencapture-demo-theme-sky-enzy-2022-09-27-10_27_01.jpg: 640x192 2 banners, 1 2block, 1 3block, 2 4blocks, 2 5blocks, 1 header, 1 footer, 7.0ms\n",
      "image 788/2605 /tf/notebook/testimage/screencapture-demo-theme-sky-enzy-fashion-2-2022-09-27-10_28_55.jpg: 640x256 3 banners, 1 4block, 1 typo, 1 gallery, 1 header, 2 footers, 7.1ms\n",
      "image 789/2605 /tf/notebook/testimage/screencapture-demo-theme-sky-enzy-fashion-2022-09-27-10_28_42.jpg: 640x224 2 banners, 3 3blocks, 1 5block, 1 typo, 1 header, 1 footer, 7.7ms\n",
      "image 790/2605 /tf/notebook/testimage/screencapture-demo-theme-sky-enzy-fashion-3-2022-09-27-10_29_08.jpg: 640x256 2 banners, 1 3block, 3 4blocks, 1 5block, 1 typo, 1 header, 1 footer, 7.8ms\n",
      "image 791/2605 /tf/notebook/testimage/screencapture-demo-theme-sky-enzy-glasses-2022-09-27-10_28_10.jpg: 640x192 2 banners, 1 2block, 2 3blocks, 1 4block, 1 5block, 1 typo, 1 gallery, 1 header, 1 footer, 7.6ms\n",
      "image 792/2605 /tf/notebook/testimage/screencapture-demo-theme-sky-enzy-sneaker-2022-09-27-10_28_27.jpg: 640x224 3 banners, 1 2block, 1 3block, 3 4blocks, 1 5block, 2 typos, 1 header, 1 footer, 6.9ms\n",
      "image 793/2605 /tf/notebook/testimage/screencapture-demo-theme-sky-miti-2022-09-28-10_11_02.jpg: 640x288 2 banners, 1 2block, 1 3block, 1 5block, 1 6block, 1 typo, 1 header, 1 footer, 6.8ms\n",
      "image 794/2605 /tf/notebook/testimage/screencapture-demo-theme-sky-miti-home-2-2022-09-28-10_11_40.jpg: 640x224 2 banners, 2 2blocks, 1 3block, 4 6blocks, 1 header, 1 footer, 6.9ms\n",
      "image 795/2605 /tf/notebook/testimage/screencapture-demo-theme-sky-miti-home-3-2022-09-28-10_11_47.jpg: 640x256 1 2block, 1 3block, 2 6blocks, 1 typo, 1 gallery, 1 header, 1 footer, 12.4ms\n",
      "image 796/2605 /tf/notebook/testimage/screencapture-demo-theme-sky-miti-home-4-2022-09-28-10_11_55.jpg: 640x288 2 banners, 1 2block, 2 6blocks, 1 header, 1 footer, 24.8ms\n",
      "image 797/2605 /tf/notebook/testimage/screencapture-demo-theme-sky-miti-home-5-2022-09-28-10_12_02.jpg: 640x256 1 banner, 2 2blocks, 1 3block, 2 6blocks, 1 header, 1 footer, 25.5ms\n",
      "image 798/2605 /tf/notebook/testimage/screencapture-demo-theme-sky-miti-home-8-2022-09-28-10_12_34.jpg: 640x128 5 banners, 3 6blocks, 2 headers, 1 footer, 39.4ms\n",
      "image 799/2605 /tf/notebook/testimage/screencapture-demo-theme-sky-miti-shoes-2022-09-28-10_11_18.jpg: 640x256 2 banners, 1 2block, 1 3block, 3 6blocks, 1 typo, 1 header, 1 footer, 26.8ms\n",
      "image 800/2605 /tf/notebook/testimage/screencapture-demo-theme-sky-miti-women-2022-09-28-10_11_11.jpg: 640x288 2 banners, 1 2block, 1 3block, 1 4block, 1 6block, 1 typo, 1 gallery, 1 header, 1 footer, 28.7ms\n",
      "image 801/2605 /tf/notebook/testimage/screencapture-demo-theme-sky-mydecor-home-02-2022-09-23-14_17_23.jpg: 640x224 3 banners, 1 2block, 2 3blocks, 2 4blocks, 2 6blocks, 1 typo, 1 header, 31.1ms\n",
      "image 802/2605 /tf/notebook/testimage/screencapture-demo-theme-sky-mydecor-home-03-2022-09-23-14_17_47.jpg: 640x256 3 banners, 3 3blocks, 3 4blocks, 1 6block, 1 gallery, 1 header, 1 footer, 172.4ms\n",
      "image 803/2605 /tf/notebook/testimage/screencapture-demo-theme-sky-mydecor-home-04-2022-09-23-14_18_05.jpg: 640x256 3 banners, 3 3blocks, 1 4block, 2 6blocks, 1 header, 1 footer, 6.6ms\n",
      "image 804/2605 /tf/notebook/testimage/screencapture-demo-theme-sky-mydecor-home-05-2022-09-23-14_19_48.jpg: 640x256 2 banners, 2 2blocks, 4 3blocks, 1 4block, 2 6blocks, 1 header, 1 footer, 6.8ms\n",
      "image 805/2605 /tf/notebook/testimage/screencapture-demo-theme-sky-mydecor-home-06-2022-09-23-14_20_04.jpg: 640x288 3 banners, 5 3blocks, 2 4blocks, 2 6blocks, 1 header, 1 footer, 7.6ms\n",
      "image 806/2605 /tf/notebook/testimage/screencapture-demo-theme-sky-reebox-2022-09-28-11_30_51.jpg: 640x288 2 banners, 1 2block, 2 3blocks, 2 4blocks, 1 5block, 1 6block, 1 typo, 1 gallery, 1 header, 1 footer, 30.2ms\n"
     ]
    },
    {
     "name": "stdout",
     "output_type": "stream",
     "text": [
      "image 807/2605 /tf/notebook/testimage/screencapture-demo-theme-sky-reebox-home-02-2022-09-28-11_30_59.jpg: 640x288 2 banners, 2 3blocks, 2 4blocks, 4 5blocks, 1 typo, 1 header, 1 footer, 24.1ms\n",
      "image 808/2605 /tf/notebook/testimage/screencapture-demo-theme-sky-reebox-home-03-2022-09-28-11_31_07.jpg: 640x288 3 banners, 1 2block, 1 3block, 2 4blocks, 1 5block, 1 6block, 1 gallery, 1 header, 1 footer, 36.3ms\n",
      "image 809/2605 /tf/notebook/testimage/screencapture-demo-theme-sky-reebox-home-06-2022-09-28-11_31_32.jpg: 640x256 1 banner, 2 3blocks, 1 4block, 3 5blocks, 1 6block, 1 gallery, 1 header, 1 footer, 32.1ms\n",
      "image 810/2605 /tf/notebook/testimage/screencapture-demo-theme-sky-reebox-home-07-2022-09-28-11_31_39.jpg: 640x288 2 banners, 1 3block, 4 4blocks, 1 6block, 1 gallery, 1 header, 1 footer, 60.6ms\n",
      "image 811/2605 /tf/notebook/testimage/screencapture-demo-theme-sky-reebox-home-08-2022-09-28-11_31_48.jpg: 640x288 2 banners, 1 2block, 2 3blocks, 2 4blocks, 3 5blocks, 1 header, 1 footer, 65.3ms\n",
      "image 812/2605 /tf/notebook/testimage/screencapture-demo-theme-sky-sanzo-2022-09-28-11_09_14.jpg: 640x256 1 banner, 3 2blocks, 3 3blocks, 1 4block, 1 6block, 1 8block, 1 typo, 1 header, 1 footer, 162.4ms\n",
      "image 813/2605 /tf/notebook/testimage/screencapture-demo-theme-sky-sanzo-catalog-2022-09-28-11_10_08.jpg: 640x256 1 banner, 2 3blocks, 2 4blocks, 1 6block, 1 typo, 1 header, 1 footer, 20.8ms\n",
      "image 814/2605 /tf/notebook/testimage/screencapture-demo-theme-sky-sanzo-home-home-supermarket-3-2022-09-28-11_09_36.jpg: 640x288 2 banners, 1 2block, 2 3blocks, 2 4blocks, 1 5block, 1 6block, 1 header, 1 footer, 25.4ms\n",
      "image 815/2605 /tf/notebook/testimage/screencapture-demo-theme-sky-yoome-2022-09-23-17_19_30.jpg: 640x320 2 banners, 2 3blocks, 2 5blocks, 1 typo, 1 gallery, 1 header, 1 footer, 27.8ms\n",
      "image 816/2605 /tf/notebook/testimage/screencapture-demo-theme-sky-yoome-cosmetic-2022-09-23-17_20_22.jpg: 640x256 3 banners, 3 4blocks, 1 5block, 1 6block, 2 gallerys, 2 headers, 1 footer, 113.6ms\n",
      "image 817/2605 /tf/notebook/testimage/screencapture-demo-theme-sky-yoome-electronic-2022-09-23-17_20_34.jpg: 640x288 4 banners, 1 2block, 2 3blocks, 1 4block, 1 5block, 1 header, 1 footer, 28.4ms\n",
      "image 818/2605 /tf/notebook/testimage/screencapture-demo-theme-sky-yoome-furniture-2022-09-23-17_21_10.jpg: 640x288 1 banner, 1 2block, 1 3block, 1 4block, 1 typo, 2 gallerys, 1 header, 1 footer, 26.0ms\n",
      "image 819/2605 /tf/notebook/testimage/screencapture-demo-theme-sky-yoome-stationery-2022-09-23-17_20_58.jpg: 640x256 2 banners, 3 2blocks, 1 3block, 2 4blocks, 1 gallery, 1 header, 1 footer, 24.2ms\n",
      "image 820/2605 /tf/notebook/testimage/screencapture-demo-theme-sky-yoome-supermarket-2022-09-23-17_21_53.jpg: 640x320 1 banner, 2 2blocks, 3 3blocks, 3 4blocks, 1 5block, 1 typo, 1 header, 1 footer, 28.0ms\n",
      "image 821/2605 /tf/notebook/testimage/screencapture-demo-theme-sky-zamona-2022-09-27-15_25_52922.jpg: 640x288 3 2blocks, 3 3blocks, 3 4blocks, 1 typo, 1 header, 1 footer, 45.8ms\n",
      "image 822/2605 /tf/notebook/testimage/screencapture-demo-theme-sky-zamona-electronic-2022-09-27-15_28_19923.jpg: 640x288 1 banner, 3 2blocks, 3 3blocks, 1 4block, 1 typo, 2 gallerys, 1 header, 1 footer, 229.2ms\n",
      "image 823/2605 /tf/notebook/testimage/screencapture-demo-theme-sky-zamona-electronic-electronic-02-2022-09-27-15_28_30924.jpg: 640x320 3 banners, 1 2block, 2 3blocks, 2 4blocks, 1 header, 1 footer, 6.7ms\n",
      "image 824/2605 /tf/notebook/testimage/screencapture-demo-theme-sky-zamona-fashion-2022-09-27-15_27_04925.jpg: 640x256 1 banner, 1 2block, 3 3blocks, 2 4blocks, 1 typo, 1 header, 1 footer, 7.1ms\n",
      "image 825/2605 /tf/notebook/testimage/screencapture-demo-theme-sky-zamona-fashion-fashion-02-2022-09-27-15_27_20926.jpg: 640x288 2 banners, 1 2block, 2 3blocks, 1 4block, 1 5block, 1 header, 1 footer, 11.1ms\n",
      "image 826/2605 /tf/notebook/testimage/screencapture-demo-theme-sky-zamona-fashion-fashion-03-2022-09-27-15_27_33927.jpg: 640x320 5 3blocks, 2 5blocks, 1 header, 1 footer, 14.4ms\n",
      "image 827/2605 /tf/notebook/testimage/screencapture-demo-theme-sky-zamona-sport-2022-09-27-15_28_07929.jpg: 640x256 1 banner, 1 2block, 4 3blocks, 1 4block, 1 6block, 1 header, 1 footer, 14.2ms\n",
      "image 828/2605 /tf/notebook/testimage/screencapture-demo-theme-sky-zamona-wine-2022-09-27-15_29_06930.jpg: 640x256 3 banners, 1 2block, 3 3blocks, 1 4block, 1 5block, 1 header, 1 footer, 28.3ms\n",
      "image 829/2605 /tf/notebook/testimage/screencapture-demo-themeftc-appa-2022-09-23-16_16_32.jpg: 640x320 1 banner, 1 2block, 4 3blocks, 2 4blocks, 2 5blocks, 1 header, 1 footer, 27.6ms\n",
      "image 830/2605 /tf/notebook/testimage/screencapture-demo-themeftc-appa-home2-2022-09-23-16_17_38.jpg: 640x320 2 banners, 1 2block, 4 3blocks, 2 4blocks, 3 5blocks, 1 header, 1 footer, 40.4ms\n",
      "image 831/2605 /tf/notebook/testimage/screencapture-demo-themeftc-appa-home3-2022-09-23-16_17_46.jpg: 640x352 1 banner, 1 2block, 3 3blocks, 2 4blocks, 2 5blocks, 1 gallery, 1 header, 1 footer, 37.3ms\n",
      "image 832/2605 /tf/notebook/testimage/screencapture-demo-themeftc-appa-home4-2022-09-23-16_20_56.jpg: 640x352 2 banners, 2 2blocks, 5 3blocks, 3 5blocks, 1 header, 1 footer, 64.1ms\n",
      "image 833/2605 /tf/notebook/testimage/screencapture-demo-themeftc-appa-home5-2022-09-23-16_21_04.jpg: 640x288 3 banners, 1 2block, 1 3block, 2 4blocks, 1 5block, 3 gallerys, 1 header, 1 footer, 56.5ms\n",
      "image 834/2605 /tf/notebook/testimage/screencapture-demo-themeftc-appa-home8-2022-09-23-16_21_29.jpg: 640x448 2 2blocks, 2 3blocks, 1 4block, 1 5block, 1 gallery, 1 header, 1 footer, 99.4ms\n",
      "image 835/2605 /tf/notebook/testimage/screencapture-demo-themeftc-carna-2022-09-23-17_16_24.jpg: 640x256 1 banner, 3 2blocks, 1 3block, 2 6blocks, 1 gallery, 1 header, 1 footer, 23.9ms\n",
      "image 836/2605 /tf/notebook/testimage/screencapture-demo-themeftc-carna-home2-2022-09-23-17_17_16.jpg: 640x320 2 banners, 1 2block, 1 4block, 3 6blocks, 1 typo, 1 header, 1 footer, 29.7ms\n",
      "image 837/2605 /tf/notebook/testimage/screencapture-demo-themeftc-carna-home3-2022-09-23-17_17_26.jpg: 640x320 3 banners, 1 2block, 1 3block, 1 6block, 1 gallery, 1 header, 1 footer, 47.1ms\n",
      "image 838/2605 /tf/notebook/testimage/screencapture-demo-themeftc-carna-home8-2022-09-23-17_18_49.jpg: 640x320 2 banners, 1 2block, 1 3block, 2 4blocks, 1 5block, 1 6block, 1 gallery, 1 header, 1 footer, 62.8ms\n",
      "image 839/2605 /tf/notebook/testimage/screencapture-demo-themeftc-credo-home10-2022-09-27-17_28_13871.jpg: 640x288 3 banners, 1 2block, 2 3blocks, 2 4blocks, 1 5block, 1 6block, 1 gallery, 1 header, 1 footer, 54.5ms\n",
      "image 840/2605 /tf/notebook/testimage/screencapture-demo-themeftc-credo-home12-2022-09-27-17_28_38873.jpg: 640x320 1 banner, 2 3blocks, 1 4block, 2 6blocks, 1 gallery, 1 header, 1 footer, 26.1ms\n",
      "image 841/2605 /tf/notebook/testimage/screencapture-demo-themeftc-credo-home5-2022-09-27-17_26_58867.jpg: 640x288 2 banners, 3 3blocks, 1 4block, 1 typo, 1 gallery, 1 header, 1 footer, 28.8ms\n",
      "image 842/2605 /tf/notebook/testimage/screencapture-demo-themeftc-credo-home6-2022-09-27-17_27_08868.jpg: 640x384 1 banner, 2 2blocks, 1 4block, 1 5block, 1 typo, 1 header, 1 footer, 47.2ms\n",
      "image 843/2605 /tf/notebook/testimage/screencapture-demo-themeftc-credo-home7-2022-09-27-17_27_24869.jpg: 640x288 1 banner, 1 2block, 1 3block, 2 4blocks, 1 5block, 2 typos, 1 gallery, 2 headers, 1 footer, 90.0ms\n",
      "image 844/2605 /tf/notebook/testimage/screencapture-demo-themeftc-credo-home8-2022-09-27-17_27_35870.jpg: 640x224 2 banners, 1 2block, 2 3blocks, 3 4blocks, 1 5block, 2 typos, 1 header, 1 footer, 24.5ms\n",
      "image 845/2605 /tf/notebook/testimage/screencapture-demo-themeftc-ordo-2022-09-23-15_15_46.jpg: 640x352 2 banners, 3 2blocks, 1 4block, 1 header, 1 footer, 31.6ms\n",
      "image 846/2605 /tf/notebook/testimage/screencapture-demo-themeftc-ordo-home13-2022-09-23-15_19_49.jpg: 640x384 1 banner, 1 3block, 1 6block, 1 header, 1 footer, 38.9ms\n",
      "image 847/2605 /tf/notebook/testimage/screencapture-demo-themeftc-ordo-home14-2022-09-23-15_20_02.jpg: 640x416 2 3blocks, 1 6block, 1 typo, 1 header, 1 footer, 78.5ms\n",
      "image 848/2605 /tf/notebook/testimage/screencapture-demo-themeftc-ordo-home18e-2022-09-23-15_21_12.jpg: 640x288 5 banners, 2 4blocks, 1 header, 1 footer, 30.4ms\n",
      "image 849/2605 /tf/notebook/testimage/screencapture-demo-themeftc-ordo-home19-2022-09-23-15_21_35.jpg: 640x256 1 banner, 2 2blocks, 1 3block, 1 4block, 1 typo, 1 header, 1 footer, 23.4ms\n"
     ]
    },
    {
     "name": "stdout",
     "output_type": "stream",
     "text": [
      "image 850/2605 /tf/notebook/testimage/screencapture-demo-themeftc-ordo-home22-2022-09-23-15_22_10.jpg: 640x288 2 banners, 2 3blocks, 2 4blocks, 2 5blocks, 1 header, 1 footer, 32.1ms\n",
      "image 851/2605 /tf/notebook/testimage/screencapture-demo-themeftc-ordo-home2e-2022-09-23-15_16_06.jpg: 640x288 4 banners, 1 2block, 2 3blocks, 2 4blocks, 1 6block, 1 header, 1 footer, 28.5ms\n",
      "image 852/2605 /tf/notebook/testimage/screencapture-demo-themeftc-ordo-home3e-2022-09-23-15_16_23.jpg: 640x256 2 banners, 1 2block, 1 3block, 3 4blocks, 1 6block, 1 gallery, 1 header, 1 footer, 56.0ms\n",
      "image 853/2605 /tf/notebook/testimage/screencapture-demo-themeftc-ordo-home4e-2022-09-23-15_16_58.jpg: 640x256 3 banners, 1 2block, 1 3block, 1 4block, 1 gallery, 1 header, 1 footer, 51.6ms\n",
      "image 854/2605 /tf/notebook/testimage/screencapture-demo-themeftc-ordo-home5e-2022-09-23-15_17_27.jpg: 640x256 3 banners, 1 2block, 3 3blocks, 1 header, 1 footer, 58.0ms\n",
      "image 855/2605 /tf/notebook/testimage/screencapture-demo-themeftc-ordo-home7-2022-09-23-15_18_11.jpg: 640x224 4 banners, 1 2block, 2 3blocks, 2 4blocks, 1 6block, 1 header, 1 footer, 71.0ms\n",
      "image 856/2605 /tf/notebook/testimage/screencapture-demo-themeftc-ordo-home9-2022-09-23-15_18_40.jpg: 640x224 3 banners, 1 2block, 2 4blocks, 1 5block, 1 6block, 2 gallerys, 1 header, 1 footer, 42.5ms\n",
      "image 857/2605 /tf/notebook/testimage/screencapture-demo-themeftc-wibar-2022-09-28-11_04_56.jpg: 640x224 3 banners, 3 2blocks, 3 3blocks, 2 4blocks, 1 5block, 1 6block, 1 header, 1 footer, 50.0ms\n",
      "image 858/2605 /tf/notebook/testimage/screencapture-demo-themeftc-wibar-home10-2022-09-28-11_06_31.jpg: 640x288 1 banner, 1 6block, 1 gallery, 1 header, 1 footer, 45.2ms\n",
      "image 859/2605 /tf/notebook/testimage/screencapture-demo-themeftc-wibar-home11-2022-09-28-11_06_41.jpg: 640x320 1 banner, 1 3block, 1 6block, 1 typo, 1 gallery, 1 header, 1 footer, 162.4ms\n",
      "image 860/2605 /tf/notebook/testimage/screencapture-demo-themeftc-wibar-home14-2022-09-28-11_07_06.jpg: 640x256 3 banners, 1 3block, 2 4blocks, 1 header, 1 footer, 6.6ms\n",
      "image 861/2605 /tf/notebook/testimage/screencapture-demo-themeftc-wibar-home15-2022-09-28-11_07_15.jpg: 640x192 2 banners, 2 2blocks, 2 3blocks, 1 4block, 1 6block, 1 typo, 1 header, 1 footer, 6.7ms\n",
      "image 862/2605 /tf/notebook/testimage/screencapture-demo-themeftc-wibar-home16-2022-09-28-11_07_26.jpg: 640x192 2 banners, 1 2block, 2 3blocks, 2 4blocks, 1 typo, 1 header, 1 footer, 6.3ms\n",
      "image 863/2605 /tf/notebook/testimage/screencapture-demo-themeftc-wibar-home17-2022-09-28-11_07_36.jpg: 640x160 3 banners, 2 2blocks, 2 3blocks, 1 4block, 3 typos, 1 header, 1 footer, 11.2ms\n",
      "image 864/2605 /tf/notebook/testimage/screencapture-demo-themeftc-wibar-home19-2022-09-28-11_07_59.jpg: 640x256 3 banners, 1 2block, 1 3block, 1 4block, 1 typo, 2 headers, 6.8ms\n",
      "image 865/2605 /tf/notebook/testimage/screencapture-demo-themeftc-wibar-home2-2022-09-28-11_05_09.jpg: 640x256 2 banners, 4 3blocks, 1 4block, 1 5block, 1 6block, 1 header, 1 footer, 6.6ms\n",
      "image 866/2605 /tf/notebook/testimage/screencapture-demo-themeftc-wibar-home4-2022-09-28-11_05_30.jpg: 640x288 2 banners, 1 2block, 1 3block, 1 4block, 1 5block, 1 6block, 2 gallerys, 1 header, 1 footer, 7.9ms\n",
      "image 867/2605 /tf/notebook/testimage/screencapture-demo-themeftc-wibar-home5e-2022-09-28-11_05_39.jpg: 640x224 2 banners, 1 2block, 2 3blocks, 2 4blocks, 1 5block, 1 gallery, 1 header, 1 footer, 6.8ms\n",
      "image 868/2605 /tf/notebook/testimage/screencapture-demo-themeftc-wibar-home6-2022-09-28-11_05_48.jpg: 640x224 2 banners, 2 3blocks, 2 4blocks, 1 5block, 3 gallerys, 1 header, 1 footer, 14.8ms\n",
      "image 869/2605 /tf/notebook/testimage/screencapture-demo-themeftc-wibar-home7-2022-09-28-11_05_59.jpg: 640x256 2 2blocks, 1 3block, 3 4blocks, 1 5block, 2 gallerys, 1 header, 1 footer, 34.8ms\n",
      "image 870/2605 /tf/notebook/testimage/screencapture-demo-themeftc-wibar-home8-2022-09-28-11_06_08.jpg: 640x256 2 banners, 2 3blocks, 2 4blocks, 1 5block, 1 gallery, 1 header, 1 footer, 21.4ms\n",
      "image 871/2605 /tf/notebook/testimage/screencapture-demo-themeftc-wibar-home9-2022-09-28-11_06_16.jpg: 640x224 1 banner, 1 2block, 1 4block, 1 header, 1 footer, 27.4ms\n",
      "image 872/2605 /tf/notebook/testimage/screencapture-demo-themeftc-woochi-2022-09-27-15_00_12880.jpg: 640x256 3 banners, 4 2blocks, 1 3block, 1 4block, 1 6block, 1 gallery, 1 header, 1 footer, 51.0ms\n",
      "image 873/2605 /tf/notebook/testimage/screencapture-demo-themeftc-woochi-home2-2022-09-27-15_01_41881.jpg: 640x224 3 banners, 4 2blocks, 1 3block, 1 4block, 1 5block, 1 6block, 1 typo, 1 header, 1 footer, 23.6ms\n",
      "image 874/2605 /tf/notebook/testimage/screencapture-demo-themeftc-woochi-home4-2022-09-27-15_01_59883.jpg: 640x256 2 banners, 2 2blocks, 2 3blocks, 1 4block, 1 gallery, 1 header, 1 footer, 51.5ms\n",
      "image 875/2605 /tf/notebook/testimage/screencapture-demo-themeftc-woochi-home6-2022-09-27-15_02_15885.jpg: 640x320 1 banner, 1 2block, 2 3blocks, 3 4blocks, 1 gallery, 1 header, 1 footer, 109.3ms\n",
      "image 876/2605 /tf/notebook/testimage/screencapture-demo-themepiko-wodex-2022-09-26-14_52_58.jpg: 640x320 4 banners, 1 3block, 1 4block, 1 6block, 3 gallerys, 1 header, 1 footer, 65.0ms\n",
      "image 877/2605 /tf/notebook/testimage/screencapture-demo-themepiko-wodex-cosmetics-2022-09-26-14_53_10.jpg: 640x416 1 banner, 1 3block, 3 4blocks, 1 typo, 1 header, 1 footer, 106.4ms\n",
      "image 878/2605 /tf/notebook/testimage/screencapture-demo-themepiko-wodex-elementor-2022-09-26-14_52_53.jpg: 640x320 3 banners, 1 3block, 2 4blocks, 1 6block, 1 gallery, 1 header, 1 footer, 102.2ms\n",
      "image 879/2605 /tf/notebook/testimage/screencapture-demo-themepiko-wodex-fashion-2022-09-26-14_53_04.jpg: 640x384 1 banner, 1 2block, 1 3block, 2 4blocks, 1 typo, 1 header, 1 footer, 63.6ms\n",
      "image 880/2605 /tf/notebook/testimage/screencapture-demo-themewinter-wp-bascart-2022-09-28-13_57_35.jpg: 640x192 1 banner, 1 2block, 3 4blocks, 1 typo, 2 gallerys, 1 header, 1 footer, 51.1ms\n",
      "image 881/2605 /tf/notebook/testimage/screencapture-demo-themewinter-wp-bascart-fashion-home-three-2022-09-28-13_58_23.jpg: 640x224 2 banners, 2 2blocks, 3 3blocks, 2 4blocks, 1 typo, 1 header, 1 footer, 40.2ms\n",
      "image 882/2605 /tf/notebook/testimage/screencapture-demo-themewinter-wp-bascart-fashion-home-two-2022-09-28-13_58_12.jpg: 640x192 5 banners, 2 3blocks, 3 4blocks, 1 header, 1 footer, 37.5ms\n",
      "image 883/2605 /tf/notebook/testimage/screencapture-demo-themewinter-wp-bascart-furniture-2022-09-28-13_59_08.jpg: 640x224 1 2block, 3 4blocks, 1 5block, 1 typo, 2 gallerys, 1 header, 1 footer, 43.7ms\n",
      "image 884/2605 /tf/notebook/testimage/screencapture-demo-themewinter-wp-bascart-gadget-2022-09-28-13_58_01.jpg: 640x224 1 banner, 2 2blocks, 4 4blocks, 1 5block, 1 6block, 1 header, 1 footer, 152.0ms\n",
      "image 885/2605 /tf/notebook/testimage/screencapture-demo-themewinter-wp-bascart-grocery-2022-09-28-13_58_58.jpg: 640x256 1 banner, 3 4blocks, 2 5blocks, 2 gallerys, 1 header, 1 footer, 6.8ms\n",
      "image 886/2605 /tf/notebook/testimage/screencapture-demo-themewinter-wp-bascart-rtl-2022-09-28-13_59_32.jpg: 640x224 2 banners, 1 2block, 2 3blocks, 2 4blocks, 1 typo, 1 header, 2 footers, 6.7ms\n",
      "image 887/2605 /tf/notebook/testimage/screencapture-demo-themewinter-wp-cuinare-menu-2022-09-27-15_44_40.jpg: 640x256 1 banner, 1 2block, 4 3blocks, 1 typo, 1 header, 7.4ms\n",
      "image 888/2605 /tf/notebook/testimage/screencapture-demo-themewinter-wp-cuinare-menu-two-2022-09-27-15_44_46.jpg: 640x288 1 banner, 4 2blocks, 2 typos, 1 header, 1 footer, 6.9ms\n",
      "image 889/2605 /tf/notebook/testimage/screencapture-demo-themewinter-wp-cuinare-multi-vendor-2022-09-27-15_44_35.jpg: 640x352 1 banner, 2 2blocks, 1 3block, 3 4blocks, 1 5block, 1 header, 1 footer, 7.6ms\n",
      "image 890/2605 /tf/notebook/testimage/screencapture-demo-tokopress-espoira-homepage-02-2022-09-27-15_30_34.jpg: 640x384 2 banners, 4 3blocks, 1 4block, 1 6block, 1 header, 7.3ms\n",
      "image 891/2605 /tf/notebook/testimage/screencapture-demo-tokopress-espoira-homepage-04-2022-09-27-15_30_46.jpg: 640x320 2 banners, 2 3blocks, 1 4block, 1 6block, 1 typo, 1 header, 1 footer, 6.5ms\n",
      "image 892/2605 /tf/notebook/testimage/screencapture-demo-tokopress-espoira-homepage-05-2022-09-27-15_30_52.jpg: 640x320 1 banner, 3 3blocks, 1 4block, 1 6block, 1 header, 1 footer, 6.3ms\n"
     ]
    },
    {
     "name": "stdout",
     "output_type": "stream",
     "text": [
      "image 893/2605 /tf/notebook/testimage/screencapture-demo-tokopress-soffa2-home-business-2022-09-27-17_24_38.jpg: 640x192 1 banner, 1 2block, 3 3blocks, 1 4block, 2 5blocks, 1 typo, 1 gallery, 1 header, 1 footer, 19.3ms\n",
      "image 894/2605 /tf/notebook/testimage/screencapture-demo-uix-store-sober-2022-09-22-13_51_40.jpg: 640x448 1 banner, 1 5block, 1 header, 1 footer, 46.0ms\n",
      "image 895/2605 /tf/notebook/testimage/screencapture-demo-uix-store-sober-elementor-home-v3-2022-09-22-13_52_20.jpg: 640x352 1 banner, 1 2block, 1 5block, 1 gallery, 1 header, 1 footer, 31.5ms\n",
      "image 896/2605 /tf/notebook/testimage/screencapture-demo-uix-store-sober-elementor-home-v4-2022-09-22-13_52_42.jpg: 640x416 1 banner, 1 2block, 2 3blocks, 1 4block, 1 header, 1 footer, 116.8ms\n",
      "image 897/2605 /tf/notebook/testimage/screencapture-demo-uix-store-sober-furniture-home-v16-2022-09-22-13_54_19.jpg: 640x288 2 banners, 1 2block, 1 5block, 2 typos, 1 header, 1 footer, 24.6ms\n",
      "image 898/2605 /tf/notebook/testimage/screencapture-demo-wphash-5-vongi-2022-09-27-09_37_26.jpg: 640x256 3 banners, 2 3blocks, 3 4blocks, 1 6block, 1 header, 1 footer, 30.2ms\n",
      "image 899/2605 /tf/notebook/testimage/screencapture-demo-wphash-5-vongi-home-version-2-2022-09-27-09_37_37.jpg: 640x256 2 banners, 2 3blocks, 3 4blocks, 1 6block, 1 typo, 1 header, 1 footer, 22.8ms\n",
      "image 900/2605 /tf/notebook/testimage/screencapture-demo-wphash-eme-home-version-02-2022-09-26-15_53_50.jpg: 640x352 2 banners, 1 2block, 2 3blocks, 1 4block, 1 6block, 1 typo, 2 headers, 64.5ms\n",
      "image 901/2605 /tf/notebook/testimage/screencapture-demo-wphash-eme-home-version-03-2022-09-26-15_54_00.jpg: 640x256 1 banner, 2 2blocks, 4 3blocks, 1 6block, 1 header, 50.6ms\n",
      "image 902/2605 /tf/notebook/testimage/screencapture-demo-wphash-eme-home-version-04-2022-09-26-15_54_07.jpg: 640x288 3 2blocks, 3 3blocks, 1 4block, 1 6block, 1 header, 53.0ms\n",
      "image 903/2605 /tf/notebook/testimage/screencapture-demo-wphash-eme-home-version-05-2022-09-26-15_54_16.jpg: 640x256 1 banner, 2 2blocks, 3 3blocks, 2 4blocks, 1 6block, 1 header, 1 footer, 79.4ms\n",
      "image 904/2605 /tf/notebook/testimage/screencapture-demo-wphash-gonjjo-home-version-3-2022-09-28-10_56_54.jpg: 640x320 1 banner, 1 3block, 2 4blocks, 1 header, 1 footer, 75.8ms\n",
      "image 905/2605 /tf/notebook/testimage/screencapture-demo-wphash-haat-2022-09-27-16_30_18936.jpg: 640x288 1 banner, 1 3block, 1 typo, 1 gallery, 1 header, 1 footer, 185.5ms\n",
      "image 906/2605 /tf/notebook/testimage/screencapture-demo-wphash-haat-home-two-2022-09-27-16_30_31938.jpg: 640x448 2 banners, 2 4blocks, 1 typo, 1 header, 1 footer, 7.8ms\n",
      "image 907/2605 /tf/notebook/testimage/screencapture-demo-wphash-mimart-2022-09-26-14_51_05.jpg: 640x320 2 banners, 1 2block, 1 3block, 3 4blocks, 1 5block, 1 gallery, 1 header, 1 footer, 6.8ms\n",
      "image 908/2605 /tf/notebook/testimage/screencapture-demo-wphash-mimart-homepage-four-2022-09-26-14_51_24.jpg: 640x384 1 banner, 2 2blocks, 2 3blocks, 3 4blocks, 1 5block, 1 header, 1 footer, 7.9ms\n",
      "image 909/2605 /tf/notebook/testimage/screencapture-demo-wphash-mimart-homepage-three-2022-09-26-14_51_17.jpg: 640x352 2 banners, 1 3block, 3 4blocks, 1 5block, 1 header, 1 footer, 8.8ms\n",
      "image 910/2605 /tf/notebook/testimage/screencapture-demo-wphash-mimart-homepage-two-2022-09-26-14_51_10.jpg: 640x352 2 banners, 1 3block, 3 4blocks, 2 5blocks, 1 typo, 1 gallery, 1 header, 1 footer, 25.1ms\n",
      "image 911/2605 /tf/notebook/testimage/screencapture-demo-wphash-sophie-home-2-2022-09-27-15_13_53941.jpg: 640x288 3 banners, 1 2block, 1 3block, 3 5blocks, 1 typo, 25.0ms\n",
      "image 912/2605 /tf/notebook/testimage/screencapture-demo-wphash-sophie-home-3-2022-09-27-15_14_01942.jpg: 640x352 3 banners, 1 2block, 2 3blocks, 1 4block, 1 5block, 1 typo, 1 header, 1 footer, 30.6ms\n",
      "image 913/2605 /tf/notebook/testimage/screencapture-demo-wphash-sophie-home-4-2022-09-27-15_14_08943.jpg: 640x320 2 banners, 1 4block, 2 5blocks, 1 typo, 1 header, 55.8ms\n",
      "image 914/2605 /tf/notebook/testimage/screencapture-demo-wphash-upohar-2022-09-26-14_39_26.jpg: 640x320 1 banner, 1 2block, 2 3blocks, 2 typos, 1 header, 1 footer, 128.9ms\n",
      "image 915/2605 /tf/notebook/testimage/screencapture-demo-wpthemego-themes-sw-atom-2022-09-26-11_54_30948.jpg: 640x448 1 banner, 1 2block, 4 3blocks, 2 4blocks, 1 5block, 1 6block, 1 header, 1 footer, 7.4ms\n",
      "image 916/2605 /tf/notebook/testimage/screencapture-demo-wpthemego-themes-sw-avesa-2022-09-28-13_26_41.jpg: 640x256 1 banner, 2 2blocks, 1 3block, 5 5blocks, 1 header, 1 footer, 7.2ms\n",
      "image 917/2605 /tf/notebook/testimage/screencapture-demo-wpthemego-themes-sw-avesa-home-page-2-2022-09-28-13_26_52.jpg: 640x320 1 banner, 3 2blocks, 2 4blocks, 2 5blocks, 1 6block, 1 header, 1 footer, 6.9ms\n",
      "image 918/2605 /tf/notebook/testimage/screencapture-demo-wpthemego-themes-sw-avesa-home-page-4-2022-09-28-13_27_04.jpg: 640x352 1 banner, 1 2block, 2 3blocks, 1 5block, 2 6blocks, 1 header, 1 footer, 6.6ms\n",
      "image 919/2605 /tf/notebook/testimage/screencapture-demo-wpthemego-themes-sw-avesa-home-page-5-2022-09-28-13_27_09.jpg: 640x320 4 banners, 1 2block, 1 4block, 4 5blocks, 1 6block, 1 8block, 1 header, 1 footer, 6.8ms\n",
      "image 920/2605 /tf/notebook/testimage/screencapture-demo-wpthemego-themes-sw-avesa-home-page-6-2022-09-28-13_27_15.jpg: 640x384 1 banner, 1 3block, 2 6blocks, 2 gallerys, 1 header, 1 footer, 6.7ms\n",
      "image 921/2605 /tf/notebook/testimage/screencapture-demo-wpthemego-themes-sw-avesa-home-page-7-2022-09-28-13_26_25.jpg: 640x320 3 banners, 2 3blocks, 1 4block, 2 6blocks, 1 7block, 1 gallery, 1 header, 1 footer, 6.8ms\n",
      "image 922/2605 /tf/notebook/testimage/screencapture-demo-wpthemego-themes-sw-bakan-2022-09-27-11_37_25.jpg: 640x224 2 banners, 1 2block, 2 3blocks, 1 4block, 6 5blocks, 1 6block, 1 gallery, 1 header, 1 footer, 12.2ms\n",
      "image 923/2605 /tf/notebook/testimage/screencapture-demo-wpthemego-themes-sw-bakan-2022-09-27-11_38_59.jpg: 640x224 2 banners, 1 2block, 2 3blocks, 1 4block, 6 5blocks, 1 6block, 1 gallery, 1 header, 1 footer, 14.2ms\n",
      "image 924/2605 /tf/notebook/testimage/screencapture-demo-wpthemego-themes-sw-bakan-demo2-2022-09-27-11_37_38.jpg: 640x288 1 banner, 2 2blocks, 2 4blocks, 2 5blocks, 2 7blocks, 1 typo, 2 headers, 1 footer, 25.7ms\n",
      "image 925/2605 /tf/notebook/testimage/screencapture-demo-wpthemego-themes-sw-bakan-demo3-2022-09-27-11_37_58.jpg: 640x256 1 banner, 1 2block, 1 4block, 3 5blocks, 1 6block, 3 gallerys, 1 header, 1 footer, 37.6ms\n",
      "image 926/2605 /tf/notebook/testimage/screencapture-demo-wpthemego-themes-sw-bakan-demo4-2022-09-27-11_38_12.jpg: 640x256 2 banners, 1 2block, 1 3block, 6 5blocks, 1 7block, 1 nblock, 1 header, 1 footer, 52.3ms\n",
      "image 927/2605 /tf/notebook/testimage/screencapture-demo-wpthemego-themes-sw-bakan-demo5-2022-09-27-11_38_27.jpg: 640x256 1 banner, 2 2blocks, 4 3blocks, 2 4blocks, 1 5block, 1 6block, 1 header, 1 footer, 33.9ms\n",
      "image 928/2605 /tf/notebook/testimage/screencapture-demo-wpthemego-themes-sw-binace-2022-09-26-15_07_50.jpg: 640x256 2 2blocks, 3 3blocks, 2 4blocks, 1 5block, 1 typo, 1 gallery, 1 header, 1 footer, 83.9ms\n",
      "image 929/2605 /tf/notebook/testimage/screencapture-demo-wpthemego-themes-sw-binace-home-2022-09-26-15_05_57.jpg: 640x448 2 banners, 1 2block, 2 4blocks, 1 typo, 1 header, 1 footer, 79.0ms\n",
      "image 930/2605 /tf/notebook/testimage/screencapture-demo-wpthemego-themes-sw-binace-home-page-11-2022-09-26-15_07_28.jpg: 640x544 1 banner, 1 4block, 1 6block, 2 headers, 1 footer, 255.5ms\n",
      "image 931/2605 /tf/notebook/testimage/screencapture-demo-wpthemego-themes-sw-binace-home-page-12-2022-09-26-15_07_39.jpg: 640x256 3 banners, 1 2block, 1 3block, 3 4blocks, 1 5block, 1 6block, 1 typo, 1 header, 1 footer, 6.9ms\n",
      "image 932/2605 /tf/notebook/testimage/screencapture-demo-wpthemego-themes-sw-binace-home-page-2-2022-09-26-15_06_10.jpg: 640x384 2 banners, 1 3block, 3 4blocks, 2 headers, 1 footer, 6.7ms\n",
      "image 933/2605 /tf/notebook/testimage/screencapture-demo-wpthemego-themes-sw-binace-home-page-3-2022-09-26-15_06_20.jpg: 640x384 2 3blocks, 1 4block, 1 6block, 1 typo, 1 gallery, 1 header, 1 footer, 8.2ms\n",
      "image 934/2605 /tf/notebook/testimage/screencapture-demo-wpthemego-themes-sw-binace-home-page-8-2022-09-26-15_07_00.jpg: 640x416 1 2block, 1 3block, 4 4blocks, 1 6block, 1 gallery, 1 header, 1 footer, 26.8ms\n"
     ]
    },
    {
     "name": "stdout",
     "output_type": "stream",
     "text": [
      "image 935/2605 /tf/notebook/testimage/screencapture-demo-wpthemego-themes-sw-binace-home-page-9-2022-09-26-15_07_09.jpg: 640x416 2 banners, 1 2block, 2 4blocks, 1 typo, 1 header, 1 footer, 41.4ms\n",
      "image 936/2605 /tf/notebook/testimage/screencapture-demo-wpthemego-themes-sw-bosmarket-home-page-2-elementor-2022-09-23-15_48_16.jpg: 640x224 3 banners, 2 2blocks, 1 3block, 2 4blocks, 2 5blocks, 2 6blocks, 1 7block, 1 8block, 1 gallery, 1 header, 1 footer, 25.3ms\n",
      "image 937/2605 /tf/notebook/testimage/screencapture-demo-wpthemego-themes-sw-bosmarket-home-page-3-elementor-2022-09-23-15_48_32.jpg: 640x256 2 banners, 1 2block, 1 4block, 2 5blocks, 2 6blocks, 3 gallerys, 2 headers, 2 footers, 31.6ms\n",
      "image 938/2605 /tf/notebook/testimage/screencapture-demo-wpthemego-themes-sw-bosmarket-home-page-4-elementor-2022-09-23-15_49_07.jpg: 640x224 3 banners, 4 3blocks, 2 4blocks, 1 5block, 2 6blocks, 1 header, 51.5ms\n",
      "image 939/2605 /tf/notebook/testimage/screencapture-demo-wpthemego-themes-sw-bosmarket-home-page-5-elementor-2022-09-23-15_49_24.jpg: 640x256 4 banners, 1 3block, 2 4blocks, 2 5blocks, 1 7block, 1 typo, 2 gallerys, 1 header, 1 footer, 37.3ms\n",
      "image 940/2605 /tf/notebook/testimage/screencapture-demo-wpthemego-themes-sw-clickboom-2022-09-27-16_57_23.jpg: 640x288 1 banner, 2 3blocks, 3 4blocks, 1 6block, 1 gallery, 1 header, 1 footer, 109.7ms\n",
      "image 941/2605 /tf/notebook/testimage/screencapture-demo-wpthemego-themes-sw-clickboom-2022-09-27-16_57_32.jpg: 640x288 1 3block, 3 4blocks, 1 6block, 1 typo, 3 gallerys, 1 header, 1 footer, 170.9ms\n",
      "image 942/2605 /tf/notebook/testimage/screencapture-demo-wpthemego-themes-sw-clickboom-2022-09-27-16_57_49.jpg: 640x352 2 banners, 3 3blocks, 3 4blocks, 1 5block, 1 header, 6.7ms\n",
      "image 943/2605 /tf/notebook/testimage/screencapture-demo-wpthemego-themes-sw-clickboom-2022-09-27-16_57_55.jpg: 640x416 2 banners, 2 2blocks, 1 4block, 1 6block, 1 typo, 1 header, 1 footer, 7.4ms\n",
      "image 944/2605 /tf/notebook/testimage/screencapture-demo-wpthemego-themes-sw-clickboom-2022-09-27-16_58_00.jpg: 640x224 6 banners, 2 3blocks, 1 typo, 1 header, 2 footers, 7.4ms\n",
      "image 945/2605 /tf/notebook/testimage/screencapture-demo-wpthemego-themes-sw-destino-home-page-2-2022-09-27-10_20_52968.jpg: 640x448 1 banner, 2 3blocks, 2 5blocks, 1 gallery, 1 header, 1 footer, 8.0ms\n",
      "image 946/2605 /tf/notebook/testimage/screencapture-demo-wpthemego-themes-sw-destino-home-page-3-2022-09-27-10_21_01969.jpg: 640x256 1 banner, 3 3blocks, 1 4block, 1 5block, 1 6block, 1 gallery, 1 header, 1 footer, 6.7ms\n",
      "image 947/2605 /tf/notebook/testimage/screencapture-demo-wpthemego-themes-sw-destino-home-page-4-2022-09-27-10_21_12970.jpg: 640x288 1 banner, 2 2blocks, 1 4block, 2 5blocks, 1 typo, 2 headers, 1 footer, 7.3ms\n",
      "image 948/2605 /tf/notebook/testimage/screencapture-demo-wpthemego-themes-sw-destino-home-page-6-2022-09-27-10_21_35972.jpg: 640x288 1 banner, 1 2block, 1 3block, 2 4blocks, 2 5blocks, 1 7block, 2 headers, 1 footer, 20.6ms\n",
      "image 949/2605 /tf/notebook/testimage/screencapture-demo-wpthemego-themes-sw-emarket-layout11-2022-09-22-15_33_29.jpg: 640x384 2 banners, 2 3blocks, 2 4blocks, 2 5blocks, 3 6blocks, 1 8block, 1 nblock, 2 typos, 2 gallerys, 1 header, 1 footer, 27.6ms\n",
      "image 950/2605 /tf/notebook/testimage/screencapture-demo-wpthemego-themes-sw-emarket-layout2-2022-09-22-15_32_20.jpg: 640x480 3 banners, 1 3block, 1 4block, 3 5blocks, 1 6block, 1 8block, 1 gallery, 1 header, 1 footer, 44.0ms\n",
      "image 951/2605 /tf/notebook/testimage/screencapture-demo-wpthemego-themes-sw-emarket-layout43-2022-09-22-15_40_36.jpg: 640x416 3 banners, 1 3block, 2 4blocks, 1 5block, 2 6blocks, 1 typo, 1 header, 1 footer, 81.5ms\n",
      "image 952/2605 /tf/notebook/testimage/screencapture-demo-wpthemego-themes-sw-emarket-layout9-2022-09-22-15_32_54.jpg: 640x512 1 banner, 1 2block, 1 3block, 2 5blocks, 2 6blocks, 1 gallery, 2 headers, 1 footer, 97.7ms\n",
      "image 953/2605 /tf/notebook/testimage/screencapture-demo-wpthemego-themes-sw-fcstore-2022-09-28-10_22_16.jpg: 640x288 3 banners, 1 2block, 1 3block, 2 4blocks, 1 typo, 1 header, 1 footer, 24.0ms\n",
      "image 954/2605 /tf/notebook/testimage/screencapture-demo-wpthemego-themes-sw-fcstore-2022-09-28-10_22_54.jpg: 640x608 1 banner, 1 4block, 1 header, 1 footer, 58.7ms\n",
      "image 955/2605 /tf/notebook/testimage/screencapture-demo-wpthemego-themes-sw-fcstore-2022-09-28-10_23_10.jpg: 640x608 1 banner, 1 4block, 1 header, 1 footer, 59.5ms\n",
      "image 956/2605 /tf/notebook/testimage/screencapture-demo-wpthemego-themes-sw-fcstore-2022-09-28-10_24_25.jpg: 640x320 3 banners, 3 3blocks, 1 4block, 1 6block, 1 typo, 1 header, 1 footer, 105.7ms\n",
      "image 957/2605 /tf/notebook/testimage/screencapture-demo-wpthemego-themes-sw-fcstore-2022-09-28-10_24_33.jpg: 640x288 3 banners, 1 2block, 1 3block, 2 4blocks, 1 typo, 1 header, 1 footer, 25.0ms\n",
      "image 958/2605 /tf/notebook/testimage/screencapture-demo-wpthemego-themes-sw-fcstore-2022-09-28-10_24_40.jpg: 640x288 3 banners, 1 2block, 1 3block, 2 4blocks, 1 typo, 1 header, 1 footer, 23.4ms\n",
      "image 959/2605 /tf/notebook/testimage/screencapture-demo-wpthemego-themes-sw-furnicom-2022-09-23-15_31_19.jpg: 640x256 2 banners, 1 2block, 4 3blocks, 3 4blocks, 1 typo, 1 gallery, 1 header, 1 footer, 28.5ms\n",
      "image 960/2605 /tf/notebook/testimage/screencapture-demo-wpthemego-themes-sw-furnicom-home-10-2022-09-23-15_36_07.jpg: 640x320 3 banners, 1 3block, 1 4block, 2 gallerys, 1 header, 1 footer, 36.1ms\n",
      "image 961/2605 /tf/notebook/testimage/screencapture-demo-wpthemego-themes-sw-furnicom-home-5-2022-09-23-15_34_35.jpg: 640x256 3 banners, 1 2block, 2 3blocks, 2 4blocks, 3 5blocks, 3 gallerys, 1 header, 1 footer, 51.0ms\n",
      "image 962/2605 /tf/notebook/testimage/screencapture-demo-wpthemego-themes-sw-furnicom-home-7-2022-09-23-15_35_11.jpg: 640x544 1 banner, 1 3block, 1 4block, 1 gallery, 1 header, 1 footer, 142.9ms\n",
      "image 963/2605 /tf/notebook/testimage/screencapture-demo-wpthemego-themes-sw-furnicom-home-8-2022-09-23-15_35_30.jpg: 640x352 2 banners, 1 2block, 3 3blocks, 2 4blocks, 1 5block, 1 typo, 1 header, 1 footer, 29.8ms\n",
      "image 964/2605 /tf/notebook/testimage/screencapture-demo-wpthemego-themes-sw-furnicom-home-9-2022-09-23-15_35_47.jpg: 640x256 2 banners, 1 3block, 2 4blocks, 1 7block, 1 typo, 2 headers, 1 footer, 21.9ms\n",
      "image 965/2605 /tf/notebook/testimage/screencapture-demo-wpthemego-themes-sw-furniki-2022-09-27-09_48_59.jpg: 640x288 3 banners, 2 2blocks, 2 4blocks, 1 gallery, 1 header, 1 footer, 42.1ms\n",
      "image 966/2605 /tf/notebook/testimage/screencapture-demo-wpthemego-themes-sw-furniki-home-page-2-2022-09-27-09_49_10.jpg: 640x480 1 banner, 1 4block, 1 5block, 1 gallery, 1 header, 1 footer, 180.9ms\n",
      "image 967/2605 /tf/notebook/testimage/screencapture-demo-wpthemego-themes-sw-furniki-home-page-3-2022-09-27-09_49_18.jpg: 640x384 1 banner, 2 2blocks, 1 4block, 1 5block, 1 typo, 1 header, 1 footer, 7.1ms\n",
      "image 968/2605 /tf/notebook/testimage/screencapture-demo-wpthemego-themes-sw-furniki-home-page-4-2022-09-27-09_49_27.jpg: 640x448 1 banner, 1 3block, 2 4blocks, 1 gallery, 1 header, 1 footer, 8.2ms\n",
      "image 969/2605 /tf/notebook/testimage/screencapture-demo-wpthemego-themes-sw-gaion-home-page-3-2022-09-28-15_18_38.jpg: 640x320 1 banner, 1 2block, 2 3blocks, 1 4block, 2 5blocks, 1 gallery, 1 header, 1 footer, 6.9ms\n",
      "image 970/2605 /tf/notebook/testimage/screencapture-demo-wpthemego-themes-sw-himarket-2022-09-27-14_43_19.jpg: 640x256 2 banners, 1 2block, 1 3block, 1 4block, 1 5block, 2 6blocks, 2 gallerys, 2 headers, 1 footer, 7.2ms\n",
      "image 971/2605 /tf/notebook/testimage/screencapture-demo-wpthemego-themes-sw-houskit-home-page-4-2022-09-26-14_54_54.jpg: 640x288 2 banners, 1 2block, 2 3blocks, 1 4block, 1 5block, 1 6block, 1 8block, 1 typo, 1 header, 1 footer, 7.0ms\n",
      "image 972/2605 /tf/notebook/testimage/screencapture-demo-wpthemego-themes-sw-hurama-2022-09-27-10_18_11.jpg: 640x416 1 2block, 2 3blocks, 4 5blocks, 1 gallery, 1 header, 1 footer, 8.0ms\n",
      "image 973/2605 /tf/notebook/testimage/screencapture-demo-wpthemego-themes-sw-hurama-2022-09-27-10_19_04.jpg: 640x288 2 banners, 2 3blocks, 1 4block, 1 7block, 1 gallery, 2 headers, 1 footer, 7.0ms\n",
      "image 974/2605 /tf/notebook/testimage/screencapture-demo-wpthemego-themes-sw-hurama-2022-09-27-10_19_14.jpg: 640x384 1 banner, 1 3block, 1 4block, 1 typo, 2 gallerys, 1 header, 1 footer, 26.5ms\n"
     ]
    },
    {
     "name": "stdout",
     "output_type": "stream",
     "text": [
      "image 975/2605 /tf/notebook/testimage/screencapture-demo-wpthemego-themes-sw-jiordano-2022-09-27-18_10_59.jpg: 640x320 1 banner, 2 2blocks, 2 4blocks, 1 5block, 1 gallery, 1 header, 1 footer, 24.6ms\n",
      "image 976/2605 /tf/notebook/testimage/screencapture-demo-wpthemego-themes-sw-jiordano-2022-09-27-18_11_20.jpg: 640x480 1 banner, 1 5block, 1 header, 1 footer, 45.7ms\n",
      "image 977/2605 /tf/notebook/testimage/screencapture-demo-wpthemego-themes-sw-jiordano-2022-09-27-18_11_33.jpg: 640x544 2 banners, 1 4block, 1 header, 1 footer, 54.1ms\n",
      "image 978/2605 /tf/notebook/testimage/screencapture-demo-wpthemego-themes-sw-jiordano-2022-09-27-18_11_52.jpg: 640x544 2 banners, 1 4block, 1 header, 1 footer, 71.5ms\n",
      "image 979/2605 /tf/notebook/testimage/screencapture-demo-wpthemego-themes-sw-jiordano-2022-09-27-18_13_35.jpg: 640x640 2 banners, 1 gallery, 1 header, 1 footer, 113.6ms\n",
      "image 980/2605 /tf/notebook/testimage/screencapture-demo-wpthemego-themes-sw-jiordano-2022-09-27-18_14_26.jpg: 640x352 2 banners, 1 2block, 1 4block, 2 5blocks, 2 gallerys, 1 header, 1 footer, 29.3ms\n",
      "image 981/2605 /tf/notebook/testimage/screencapture-demo-wpthemego-themes-sw-mallon-2022-09-23-15_27_29.jpg: 640x288 2 banners, 1 2block, 1 3block, 4 4blocks, 2 5blocks, 2 6blocks, 1 header, 1 footer, 25.4ms\n",
      "image 982/2605 /tf/notebook/testimage/screencapture-demo-wpthemego-themes-sw-mallon-layout4-2022-09-23-15_27_20.jpg: 640x288 2 banners, 1 3block, 3 4blocks, 2 5blocks, 1 6block, 2 gallerys, 1 header, 1 footer, 29.3ms\n",
      "image 983/2605 /tf/notebook/testimage/screencapture-demo-wpthemego-themes-sw-market-2022-09-28-10_14_21.jpg: 640x384 3 4blocks, 1 6block, 2 gallerys, 1 header, 1 footer, 224.2ms\n",
      "image 984/2605 /tf/notebook/testimage/screencapture-demo-wpthemego-themes-sw-market-2022-09-28-10_14_31.jpg: 640x384 4 4blocks, 1 6block, 2 gallerys, 1 header, 1 footer, 6.8ms\n",
      "image 985/2605 /tf/notebook/testimage/screencapture-demo-wpthemego-themes-sw-market-2022-09-28-10_14_37.jpg: 640x320 3 banners, 1 2block, 1 3block, 1 4block, 2 5blocks, 1 8block, 1 header, 1 footer, 7.3ms\n",
      "image 986/2605 /tf/notebook/testimage/screencapture-demo-wpthemego-themes-sw-market-2022-09-28-10_14_52.jpg: 640x384 3 4blocks, 1 6block, 2 gallerys, 1 header, 1 footer, 11.0ms\n",
      "image 987/2605 /tf/notebook/testimage/screencapture-demo-wpthemego-themes-sw-onemall-2022-09-27-11_32_36.jpg: 640x288 3 banners, 1 2block, 2 3blocks, 1 4block, 1 7block, 1 typo, 2 gallerys, 3 headers, 1 footer, 16.2ms\n",
      "image 988/2605 /tf/notebook/testimage/screencapture-demo-wpthemego-themes-sw-onemall-layout2-2022-09-27-11_34_07.jpg: 640x288 2 banners, 1 2block, 3 3blocks, 3 4blocks, 2 6blocks, 1 7block, 2 typos, 1 header, 1 footer, 15.1ms\n",
      "image 989/2605 /tf/notebook/testimage/screencapture-demo-wpthemego-themes-sw-onemall-layout3-2022-09-27-11_34_14.jpg: 640x352 1 banner, 1 2block, 1 3block, 1 4block, 5 5blocks, 2 6blocks, 1 8block, 1 typo, 1 header, 1 footer, 20.6ms\n",
      "image 990/2605 /tf/notebook/testimage/screencapture-demo-wpthemego-themes-sw-paco-2022-09-23-14_32_38.jpg: 640x256 3 banners, 2 2blocks, 1 3block, 3 4blocks, 1 6block, 1 7block, 1 header, 26.9ms\n",
      "image 991/2605 /tf/notebook/testimage/screencapture-demo-wpthemego-themes-sw-paco-2022-09-23-14_33_13.jpg: 640x352 2 banners, 2 3blocks, 2 4blocks, 2 6blocks, 2 gallerys, 1 header, 42.3ms\n",
      "image 992/2605 /tf/notebook/testimage/screencapture-demo-wpthemego-themes-sw-paco-2022-09-23-14_33_31.jpg: 640x256 2 banners, 1 2block, 3 3blocks, 2 4blocks, 2 6blocks, 1 gallery, 1 header, 34.4ms\n",
      "image 993/2605 /tf/notebook/testimage/screencapture-demo-wpthemego-themes-sw-paradise-home-page-4-elementor-2022-09-27-15_11_09.jpg: 640x256 2 banners, 1 2block, 1 3block, 1 4block, 1 gallery, 1 header, 1 footer, 37.4ms\n",
      "image 994/2605 /tf/notebook/testimage/screencapture-demo-wpthemego-themes-sw-paradise-home-page-6-elementor-2022-09-27-15_11_33.jpg: 640x288 2 banners, 3 3blocks, 1 5block, 2 gallerys, 1 header, 1 footer, 69.5ms\n",
      "image 995/2605 /tf/notebook/testimage/screencapture-demo-wpthemego-themes-sw-revo-demo11-2022-09-22-15_21_14.jpg: 640x384 1 banner, 1 2block, 1 3block, 3 4blocks, 2 gallerys, 1 header, 1 footer, 78.2ms\n",
      "image 996/2605 /tf/notebook/testimage/screencapture-demo-wpthemego-themes-sw-soaz-home-page-3-2022-09-27-10_16_26.jpg: 640x448 2 banners, 1 3block, 2 4blocks, 1 typo, 1 header, 1 footer, 146.3ms\n",
      "image 997/2605 /tf/notebook/testimage/screencapture-demo-wpthemego-themes-sw-soaz-home-page-4-2022-09-27-10_16_38.jpg: 640x544 2 typos, 1 gallery, 8.1ms\n",
      "image 998/2605 /tf/notebook/testimage/screencapture-demo-wpthemego-themes-sw-sportbike-2022-09-27-16_58_56.jpg: 640x224 1 2block, 2 3blocks, 1 4block, 2 6blocks, 2 gallerys, 2 headers, 1 footer, 8.3ms\n",
      "image 999/2605 /tf/notebook/testimage/screencapture-demo-wpthemego-themes-sw-sportbike-2022-09-27-16_59_08.jpg: 640x256 1 banner, 2 3blocks, 2 4blocks, 1 5block, 1 6block, 1 header, 1 footer, 6.7ms\n",
      "image 1000/2605 /tf/notebook/testimage/screencapture-demo-wpthemego-themes-sw-styleshop-2022-09-28-10_27_47.jpg: 640x320 2 banners, 2 2blocks, 1 5block, 1 6block, 1 typo, 2 gallerys, 1 header, 1 footer, 11.0ms\n",
      "image 1001/2605 /tf/notebook/testimage/screencapture-demo-wpthemego-themes-sw-styleshop-home-page-2-2022-09-28-10_27_53.jpg: 640x288 3 banners, 1 2block, 1 3block, 2 4blocks, 3 5blocks, 1 header, 1 footer, 7.6ms\n",
      "image 1002/2605 /tf/notebook/testimage/screencapture-demo-wpthemego-themes-sw-styleshop-home-page-4-2022-09-28-10_28_03.jpg: 640x384 2 banners, 3 3blocks, 1 4block, 1 5block, 1 typo, 1 header, 1 footer, 6.8ms\n",
      "image 1003/2605 /tf/notebook/testimage/screencapture-demo-wpthemego-themes-sw-supershop-2022-09-28-10_28_36.jpg: 640x192 2 banners, 3 2blocks, 1 3block, 5 5blocks, 1 8block, 1 typo, 1 header, 1 footer, 19.6ms\n",
      "image 1004/2605 /tf/notebook/testimage/screencapture-demo-wpthemego-themes-sw-supershop-2022-09-28-10_28_49.jpg: 640x224 1 5block, 1 8block, 1 typo, 5 gallerys, 1 header, 1 footer, 24.0ms\n",
      "image 1005/2605 /tf/notebook/testimage/screencapture-demo-wpthemego-themes-sw-supershop-2022-09-28-10_28_56.jpg: 640x256 2 banners, 1 2block, 1 3block, 3 4blocks, 1 6block, 1 gallery, 1 header, 1 footer, 23.9ms\n",
      "image 1006/2605 /tf/notebook/testimage/screencapture-demo-wpthemego-themes-sw-topz-food-2022-09-27-09_54_56991.jpg: 640x320 1 banner, 2 2blocks, 1 3block, 1 4block, 1 5block, 1 6block, 2 typos, 1 header, 38.0ms\n",
      "image 1007/2605 /tf/notebook/testimage/screencapture-demo-wpthemego-themes-sw-topz-sport-2022-09-27-09_54_34992.jpg: 640x288 2 banners, 1 2block, 2 3blocks, 3 5blocks, 1 header, 1 footer, 34.6ms\n",
      "image 1008/2605 /tf/notebook/testimage/screencapture-demo-wpthemego-themes-sw-zenwares-2022-09-23-17_09_50.jpg: 640x256 2 banners, 1 2block, 2 3blocks, 2 4blocks, 1 5block, 2 gallerys, 2 headers, 1 footer, 48.2ms\n",
      "image 1009/2605 /tf/notebook/testimage/screencapture-demo-xpeedstudio-bajaar-2022-09-28-13_16_44.jpg: 640x224 3 banners, 2 3blocks, 4 4blocks, 1 6block, 1 typo, 1 gallery, 1 header, 1 footer, 48.0ms\n",
      "image 1010/2605 /tf/notebook/testimage/screencapture-demo-xpeedstudio-bajaar-bakery-2022-09-28-13_16_31.jpg: 640x192 2 banners, 4 2blocks, 2 3blocks, 1 4block, 1 6block, 1 header, 1 footer, 217.4ms\n",
      "image 1011/2605 /tf/notebook/testimage/screencapture-demo-xpeedstudio-bajaar-decor-2022-09-28-13_16_17.jpg: 640x192 4 banners, 2 2blocks, 2 3blocks, 4 4blocks, 1 typo, 1 header, 1 footer, 6.1ms\n",
      "image 1012/2605 /tf/notebook/testimage/screencapture-demo-xpeedstudio-bajaar-electronics2-2022-09-28-13_17_32.jpg: 640x192 2 banners, 1 2block, 3 4blocks, 4 5blocks, 1 6block, 1 header, 1 footer, 7.5ms\n",
      "image 1013/2605 /tf/notebook/testimage/screencapture-demo-xpeedstudio-bajaar-marketplace-2022-09-28-13_15_44.jpg: 640x192 3 banners, 2 4blocks, 1 6block, 1 7block, 3 gallerys, 1 header, 1 footer, 10.4ms\n",
      "image 1014/2605 /tf/notebook/testimage/screencapture-demo-xpeedstudio-bajaar-medical-2022-09-28-13_16_37.jpg: 640x192 3 banners, 1 2block, 1 3block, 1 4block, 2 5blocks, 3 gallerys, 1 header, 1 footer, 6.9ms\n",
      "image 1015/2605 /tf/notebook/testimage/screencapture-demo-xpeedstudio-bajaar-sunglasses-2022-09-28-13_16_10.jpg: 640x224 2 banners, 1 3block, 5 4blocks, 2 gallerys, 1 header, 1 footer, 15.9ms\n",
      "image 1016/2605 /tf/notebook/testimage/screencapture-demo-xpeedstudio-bajaar-watch-2022-09-28-13_16_02.jpg: 640x192 3 banners, 1 2block, 2 3blocks, 4 4blocks, 2 5blocks, 1 header, 1 footer, 15.5ms\n"
     ]
    },
    {
     "name": "stdout",
     "output_type": "stream",
     "text": [
      "image 1017/2605 /tf/notebook/testimage/screencapture-demo-xstheme-babystore-home-box-layout-2022-09-27-16_29_40.jpg: 640x224 2 banners, 4 3blocks, 2 4blocks, 1 7block, 2 typos, 2 gallerys, 1 header, 1 footer, 21.3ms\n",
      "image 1018/2605 /tf/notebook/testimage/screencapture-demo-xstheme-luxury-2022-09-28-10_51_20993.jpg: 640x352 3 banners, 1 2block, 1 3block, 2 4blocks, 1 typo, 1 header, 1 footer, 34.2ms\n",
      "image 1019/2605 /tf/notebook/testimage/screencapture-demo-xstheme-luxury-gadget-2022-09-28-10_51_37994.jpg: 640x320 3 banners, 1 3block, 3 4blocks, 1 typo, 1 gallery, 1 header, 1 footer, 47.4ms\n",
      "image 1020/2605 /tf/notebook/testimage/screencapture-demo-xstheme-luxury-jewellery-2022-09-28-10_51_30995.jpg: 640x352 3 banners, 2 3blocks, 3 4blocks, 1 gallery, 1 header, 41.9ms\n",
      "image 1021/2605 /tf/notebook/testimage/screencapture-demo-xstheme-luxury-watch-2022-09-28-10_51_33999.jpg: 640x352 3 banners, 2 3blocks, 2 4blocks, 1 header, 1 footer, 83.3ms\n",
      "image 1022/2605 /tf/notebook/testimage/screencapture-demo-yolotheme-begreen-2022-09-27-10_33_34.jpg: 640x224 1 banner, 1 2block, 2 3blocks, 1 6block, 1 typo, 2 gallerys, 2 headers, 1 footer, 42.6ms\n",
      "image 1023/2605 /tf/notebook/testimage/screencapture-demo-yolotheme-begreen-business-home-2022-09-27-10_30_26.jpg: 640x192 5 banners, 1 2block, 3 4blocks, 1 5block, 1 gallery, 1 header, 1 footer, 69.8ms\n",
      "image 1024/2605 /tf/notebook/testimage/screencapture-demo-yolotheme-begreen-service-home-2022-09-27-10_32_49.jpg: 640x224 2 banners, 1 2block, 1 3block, 4 4blocks, 1 5block, 1 typo, 1 header, 1 footer, 37.6ms\n",
      "image 1025/2605 /tf/notebook/testimage/screencapture-demo-yolotheme-begreen-split-screen-home-2022-09-27-10_32_17.jpg: 640x192 2 banners, 5 2blocks, 1 5block, 1 typo, 1 header, 1 footer, 42.2ms\n",
      "image 1026/2605 /tf/notebook/testimage/screencapture-demo-yolotheme-canifa-2022-09-23-17_32_20.jpg: 640x192 3 banners, 2 3blocks, 2 gallerys, 2 headers, 1 footer, 37.6ms\n",
      "image 1027/2605 /tf/notebook/testimage/screencapture-demo-yolotheme-canifa-home-home-classic-2022-09-23-17_33_06.jpg: 640x256 2 banners, 1 2block, 3 3blocks, 3 4blocks, 1 header, 1 footer, 206.7ms\n",
      "image 1028/2605 /tf/notebook/testimage/screencapture-demo-yolotheme-canifa-home-home-lookbooks-2022-09-23-17_33_19.jpg: 640x352 2 banners, 1 3block, 1 gallery, 1 header, 1 footer, 7.4ms\n",
      "image 1029/2605 /tf/notebook/testimage/screencapture-demo-yolotheme-canifa-home-home-v6-2022-09-23-17_33_58.jpg: 640x480 1 banner, 2 3blocks, 2 4blocks, 1 5block, 1 gallery, 1 header, 1 footer, 7.4ms\n",
      "image 1030/2605 /tf/notebook/testimage/screencapture-demo-yolotheme-canifa-home-home-v7-2022-09-23-17_34_05.jpg: 640x480 1 banner, 1 4block, 1 5block, 1 gallery, 1 header, 1 footer, 6.8ms\n",
      "image 1031/2605 /tf/notebook/testimage/screencapture-demo-yolotheme-canifa-home-home-v8-2022-09-23-17_34_14.jpg: 640x608 1 banner, 1 2block, 1 5block, 1 gallery, 1 header, 1 footer, 25.8ms\n",
      "image 1032/2605 /tf/notebook/testimage/screencapture-demo-yolotheme-naveda-home-v2-2022-09-27-11_36_47.jpg: 640x192 1 banner, 2 3blocks, 4 4blocks, 1 5block, 2 gallerys, 1 header, 12.8ms\n",
      "image 1033/2605 /tf/notebook/testimage/screencapture-demo-yolotheme-naveda-home-v3-2022-09-27-11_37_05.jpg: 640x192 4 banners, 1 2block, 2 3blocks, 1 4block, 1 5block, 1 6block, 2 typos, 1 footer, 15.7ms\n",
      "image 1034/2605 /tf/notebook/testimage/screencapture-demo-yolotheme-naveda-home-v4-2022-09-27-11_42_12.jpg: 640x224 4 banners, 1 2block, 2 3blocks, 1 4block, 1 gallery, 1 footer, 21.1ms\n",
      "image 1035/2605 /tf/notebook/testimage/screencapture-demo-yolotheme-naveda-home-v5-2022-09-27-11_42_24.jpg: 640x224 1 banner, 1 3block, 1 4block, 3 gallerys, 1 header, 1 footer, 23.5ms\n",
      "image 1036/2605 /tf/notebook/testimage/screencapture-demo-yolotheme-naveda-home-v6-2022-09-27-11_42_34.jpg: 640x224 2 banners, 3 3blocks, 2 4blocks, 1 5block, 1 header, 1 footer, 35.8ms\n",
      "image 1037/2605 /tf/notebook/testimage/screencapture-demo-yolotheme-organisk-organisk-categories-2022-09-28-10_50_221001.jpg: 640x224 5 5blocks, 7 gallerys, 1 header, 1 footer, 42.1ms\n",
      "image 1038/2605 /tf/notebook/testimage/screencapture-demo-yolotheme-organisk-super-market-2022-09-28-10_50_321009.jpg: 640x288 2 banners, 1 4block, 3 5blocks, 6 gallerys, 1 header, 1 footer, 35.8ms\n",
      "image 1039/2605 /tf/notebook/testimage/screencapture-demo-yolotheme-rubino-2022-09-23-14_35_14.jpg: 640x288 2 banners, 1 2block, 2 3blocks, 1 4block, 1 footer, 36.2ms\n",
      "image 1040/2605 /tf/notebook/testimage/screencapture-demo-yolotheme-rubino-categories-home-2022-09-23-14_36_53.jpg: 640x320 2 banners, 1 2block, 2 4blocks, 1 6block, 1 typo, 1 header, 1 footer, 37.7ms\n",
      "image 1041/2605 /tf/notebook/testimage/screencapture-demo-yolotheme-rubino-classic-home-2022-09-23-14_35_57.jpg: 640x320 2 banners, 1 4block, 1 6block, 1 typo, 2 gallerys, 1 header, 71.5ms\n",
      "image 1042/2605 /tf/notebook/testimage/screencapture-demo-yolotheme-rubino-collection-home-2022-09-23-14_35_46.jpg: 640x384 2 banners, 1 gallery, 1 header, 67.2ms\n",
      "image 1043/2605 /tf/notebook/testimage/screencapture-demo-yolotheme-rubino-lookbook-home-2022-09-23-14_36_10.jpg: 640x256 2 banners, 1 2block, 1 4block, 1 gallery, 50.7ms\n",
      "image 1044/2605 /tf/notebook/testimage/screencapture-demo-yolotheme-rubino-portfolio-home-2022-09-23-14_37_06.jpg: 640x288 2 banners, 1 2block, 1 3block, 1 gallery, 63.9ms\n",
      "image 1045/2605 /tf/notebook/testimage/screencapture-demo1-cloodo-wordpress-byhands-home1-2022-09-26-11_50_30.jpg: 640x352 1 banner, 1 4block, 1 6block, 1 typo, 1 gallery, 1 header, 1 footer, 96.8ms\n",
      "image 1046/2605 /tf/notebook/testimage/screencapture-demo1-cloodo-wordpress-scara-01-wine-2022-09-23-15_32_54.jpg: 640x224 4 banners, 2 3blocks, 2 4blocks, 1 5block, 1 7block, 23.9ms\n",
      "image 1047/2605 /tf/notebook/testimage/screencapture-demo1-cloodo-wordpress-scara-03-shoes-2022-09-23-15_33_35.jpg: 640x352 2 banners, 1 2block, 1 3block, 1 5block, 2 typos, 1 header, 1 footer, 25.8ms\n",
      "image 1048/2605 /tf/notebook/testimage/screencapture-demo1-cloodo-wordpress-scara-05-interior-2022-09-23-15_34_12.jpg: 640x608 1 3block, 1 4block, 3 typos, 1 header, 2 footers, 49.3ms\n",
      "image 1049/2605 /tf/notebook/testimage/screencapture-demo1-cloodo-wordpress-scara-06-color-fashion-2022-09-23-15_34_37.jpg: 640x384 2 banners, 1 2block, 1 6block, 1 gallery, 1 header, 1 footer, 68.0ms\n",
      "image 1050/2605 /tf/notebook/testimage/screencapture-demo2-chethemes-bewear-2022-09-28-13_20_37.jpg: 640x320 1 banner, 2 3blocks, 2 4blocks, 2 5blocks, 1 gallery, 1 header, 59.9ms\n",
      "image 1051/2605 /tf/notebook/testimage/screencapture-demo2-chethemes-bewear-home-v2-2022-09-28-13_21_49.jpg: 640x352 1 banner, 2 3blocks, 1 typo, 1 gallery, 1 header, 1 footer, 29.2ms\n",
      "image 1052/2605 /tf/notebook/testimage/screencapture-demo2-chethemes-mybag-2022-09-27-14_23_59.jpg: 640x192 3 banners, 1 2block, 1 3block, 1 6block, 2 typos, 1 gallery, 1 header, 1 footer, 19.5ms\n",
      "image 1053/2605 /tf/notebook/testimage/screencapture-demo2-chethemes-mybag-home-v2-2022-09-27-14_24_06.jpg: 640x256 2 banners, 1 3block, 1 4block, 1 gallery, 1 header, 1 footer, 26.8ms\n",
      "image 1054/2605 /tf/notebook/testimage/screencapture-demo2-drfuri-martfury19-2022-09-22-13_37_56.jpg: 640x352 3 banners, 1 2block, 2 4blocks, 1 6block, 2 7blocks, 1 typo, 1 gallery, 1 header, 1 footer, 31.4ms\n",
      "image 1055/2605 /tf/notebook/testimage/screencapture-demo2-madrasthemes-theloke-demos-automobiles-2022-09-27-10_34_13.jpg: 640x224 3 banners, 1 2block, 2 3blocks, 3 4blocks, 1 5block, 1 6block, 1 typo, 2 gallerys, 1 header, 1 footer, 47.8ms\n",
      "image 1056/2605 /tf/notebook/testimage/screencapture-demo2-madrasthemes-theloke-demos-bakery-2022-09-27-10_35_00.jpg: 640x256 2 banners, 1 2block, 2 3blocks, 2 4blocks, 2 typos, 2 headers, 1 footer, 44.3ms\n",
      "image 1057/2605 /tf/notebook/testimage/screencapture-demo2-madrasthemes-theloke-demos-book-2022-09-27-10_35_19.jpg: 640x224 3 banners, 1 3block, 2 4blocks, 2 5blocks, 2 typos, 1 header, 1 footer, 47.4ms\n",
      "image 1058/2605 /tf/notebook/testimage/screencapture-demo2-madrasthemes-theloke-demos-cosmetics-2022-09-27-10_34_01.jpg: 640x288 1 banner, 4 3blocks, 3 5blocks, 1 6block, 1 gallery, 1 header, 1 footer, 46.5ms\n",
      "image 1059/2605 /tf/notebook/testimage/screencapture-demo2-madrasthemes-theloke-demos-electronics-2022-09-27-10_33_50.jpg: 640x256 2 banners, 1 2block, 3 3blocks, 1 4block, 4 5blocks, 2 6blocks, 1 header, 2 footers, 43.2ms\n"
     ]
    },
    {
     "name": "stdout",
     "output_type": "stream",
     "text": [
      "image 1060/2605 /tf/notebook/testimage/screencapture-demo2-madrasthemes-theloke-demos-flower-2022-09-27-10_34_25.jpg: 640x288 1 banner, 1 3block, 4 4blocks, 1 6block, 2 typos, 1 header, 1 footer, 56.3ms\n",
      "image 1061/2605 /tf/notebook/testimage/screencapture-demo2-madrasthemes-theloke-demos-furniture-2022-09-27-10_33_44.jpg: 640x352 1 banner, 3 3blocks, 1 4block, 1 5block, 1 gallery, 1 header, 1 footer, 87.8ms\n",
      "image 1062/2605 /tf/notebook/testimage/screencapture-demo2-madrasthemes-theloke-demos-handmade-2022-09-27-10_34_31.jpg: 640x224 3 banners, 1 2block, 3 3blocks, 2 4blocks, 1 typo, 1 header, 1 footer, 58.5ms\n",
      "image 1063/2605 /tf/notebook/testimage/screencapture-demo2-madrasthemes-theloke-demos-main-2022-09-27-10_32_44.jpg: 640x384 1 banner, 1 4block, 1 6block, 1 gallery, 1 header, 1 footer, 68.6ms\n",
      "image 1064/2605 /tf/notebook/testimage/screencapture-demo2-madrasthemes-theloke-demos-organic-2022-09-27-10_34_19.jpg: 640x256 4 banners, 1 2block, 1 3block, 2 4blocks, 3 5blocks, 2 6blocks, 1 header, 1 footer, 80.8ms\n",
      "image 1065/2605 /tf/notebook/testimage/screencapture-demo2-madrasthemes-theloke-demos-watches-2022-09-27-10_34_07.jpg: 640x256 2 banners, 1 3block, 5 4blocks, 1 6block, 1 header, 1 footer, 98.0ms\n",
      "image 1066/2605 /tf/notebook/testimage/screencapture-demo2-pavothemes-matico-home-12-2022-09-27-10_51_02.jpg: 640x288 1 banner, 1 2block, 3 3blocks, 1 4block, 2 5blocks, 2 6blocks, 1 7block, 1 header, 1 footer, 21.5ms\n",
      "image 1067/2605 /tf/notebook/testimage/screencapture-demo2-pavothemes-matico-home-14-2022-09-27-10_51_30.jpg: 640x320 1 banner, 2 3blocks, 2 4blocks, 1 5block, 2 6blocks, 1 8block, 2 typos, 1 gallery, 1 header, 1 footer, 24.5ms\n",
      "image 1068/2605 /tf/notebook/testimage/screencapture-demo2-pavothemes-matico-home-5-2022-09-27-10_49_01.jpg: 640x288 2 banners, 1 2block, 3 4blocks, 5 5blocks, 1 6block, 2 gallerys, 1 header, 1 footer, 23.1ms\n",
      "image 1069/2605 /tf/notebook/testimage/screencapture-demo2-pavothemes-matico-home-6-2022-09-27-10_49_10.jpg: 640x288 2 banners, 1 2block, 1 3block, 1 4block, 2 5blocks, 2 6blocks, 1 7block, 1 8block, 2 gallerys, 1 header, 1 footer, 62.5ms\n",
      "image 1070/2605 /tf/notebook/testimage/screencapture-demo2-pavothemes-matico-home-7-2022-09-27-10_49_35.jpg: 640x224 2 banners, 2 2blocks, 1 4block, 3 5blocks, 1 8block, 2 gallerys, 1 header, 1 footer, 40.3ms\n",
      "image 1071/2605 /tf/notebook/testimage/screencapture-demo2-pavothemes-matico-home-8-2022-09-27-10_49_47.jpg: 640x288 1 banner, 2 3blocks, 1 4block, 2 5blocks, 1 7block, 1 8block, 1 header, 1 footer, 92.0ms\n",
      "image 1072/2605 /tf/notebook/testimage/screencapture-demo2-pavothemes-smarthaus-home-2-2022-09-28-09_48_33.jpg: 640x320 2 banners, 2 3blocks, 1 5block, 1 6block, 1 8block, 2 gallerys, 2 headers, 1 footer, 59.9ms\n",
      "image 1073/2605 /tf/notebook/testimage/screencapture-demo2-pavothemes-smarthaus-home-3-2022-09-28-09_48_40.jpg: 640x320 1 banner, 2 2blocks, 3 3blocks, 1 5block, 1 6block, 1 header, 2 footers, 69.2ms\n",
      "image 1074/2605 /tf/notebook/testimage/screencapture-demo2-pavothemes-smarthaus-home-4-2022-09-28-09_48_47.jpg: 640x288 1 banner, 1 2block, 1 3block, 4 4blocks, 1 6block, 1 header, 2 footers, 58.8ms\n",
      "image 1075/2605 /tf/notebook/testimage/screencapture-demo2-pavothemes-smarthaus-home-5-2022-09-28-09_48_57.jpg: 640x320 2 banners, 2 3blocks, 1 4block, 1 6block, 2 gallerys, 1 header, 1 footer, 24.6ms\n",
      "image 1076/2605 /tf/notebook/testimage/screencapture-demo2-pavothemes-smarthaus-home-7-2022-09-28-09_49_12.jpg: 640x288 2 banners, 2 3blocks, 3 4blocks, 1 gallery, 1 header, 1 footer, 24.9ms\n",
      "image 1077/2605 /tf/notebook/testimage/screencapture-demo2-pavothemes-technocy-home-1-2022-09-23-17_20_06354.jpg: 640x320 1 banner, 1 2block, 2 3blocks, 1 4block, 1 5block, 1 6block, 1 8block, 1 gallery, 1 header, 1 footer, 25.0ms\n",
      "image 1078/2605 /tf/notebook/testimage/screencapture-demo2-pavothemes-technocy-home-3-2022-09-23-17_20_24356.jpg: 640x320 2 3blocks, 1 8block, 2 gallerys, 1 header, 1 footer, 23.0ms\n",
      "image 1079/2605 /tf/notebook/testimage/screencapture-demo2-pavothemes-technocy-home-4-2022-09-23-17_21_21357.jpg: 640x256 3 banners, 1 2block, 1 3block, 2 4blocks, 4 5blocks, 2 gallerys, 1 header, 2 footers, 129.1ms\n",
      "image 1080/2605 /tf/notebook/testimage/screencapture-demo2-pavothemes-technocy-home-6-2022-09-23-17_21_49359.jpg: 640x288 1 banner, 1 2block, 3 3blocks, 1 4block, 3 5blocks, 1 7block, 1 8block, 1 gallery, 1 header, 1 footer, 67.3ms\n",
      "image 1081/2605 /tf/notebook/testimage/screencapture-demo2-pavothemes-umimo-home-10-2022-09-26-10_42_44376.jpg: 640x288 1 banner, 2 2blocks, 2 3blocks, 1 typo, 1 header, 1 footer, 77.2ms\n",
      "image 1082/2605 /tf/notebook/testimage/screencapture-demo2-pavothemes-umimo-home-2-2022-09-26-10_34_43367.jpg: 640x256 4 banners, 1 3block, 2 5blocks, 1 6block, 1 header, 1 footer, 25.9ms\n",
      "image 1083/2605 /tf/notebook/testimage/screencapture-demo2-pavothemes-umimo-home-3-2022-09-26-10_35_00368.jpg: 640x224 2 banners, 3 2blocks, 2 3blocks, 1 4block, 2 5blocks, 1 typo, 1 header, 1 footer, 21.9ms\n",
      "image 1084/2605 /tf/notebook/testimage/screencapture-demo2-pavothemes-umimo-home-4-2022-09-26-10_38_56370.jpg: 640x256 4 banners, 2 3blocks, 1 4block, 1 5block, 1 6block, 1 typo, 2 headers, 1 footer, 26.3ms\n",
      "image 1085/2605 /tf/notebook/testimage/screencapture-demo2-pavothemes-umimo-home-5-2022-09-26-10_39_26371.jpg: 640x256 2 banners, 1 3block, 2 4blocks, 1 6block, 3 typos, 1 header, 1 footer, 21.6ms\n",
      "image 1086/2605 /tf/notebook/testimage/screencapture-demo2-pavothemes-umimo-home-6-2022-09-26-10_41_05372.jpg: 640x288 1 banner, 1 6block, 2 typos, 2 gallerys, 1 header, 1 footer, 56.6ms\n",
      "image 1087/2605 /tf/notebook/testimage/screencapture-demo2-pavothemes-umimo-home-7-2022-09-26-10_41_20373.jpg: 640x288 1 banner, 1 2block, 3 3blocks, 1 4block, 1 typo, 2 headers, 1 footer, 53.2ms\n",
      "image 1088/2605 /tf/notebook/testimage/screencapture-demo2-prestabrain-mixxcazt-2022-09-27-16_19_12.jpg: 640x288 1 banner, 1 2block, 2 3blocks, 2 4blocks, 4 6blocks, 1 header, 1 footer, 62.5ms\n",
      "image 1089/2605 /tf/notebook/testimage/screencapture-demo2-prestabrain-mixxcazt-home-12-2022-09-27-16_20_35.jpg: 640x256 3 banners, 2 2blocks, 2 3blocks, 1 4block, 1 5block, 1 6block, 1 typo, 1 header, 1 footer, 171.4ms\n",
      "image 1090/2605 /tf/notebook/testimage/screencapture-demo2-prestabrain-mixxcazt-home-13-2022-09-27-16_20_43.jpg: 640x352 2 banners, 1 2block, 3 3blocks, 2 4blocks, 1 5block, 1 header, 1 footer, 6.8ms\n",
      "image 1091/2605 /tf/notebook/testimage/screencapture-demo2-prestabrain-mixxcazt-home-14-2022-09-27-16_20_51.jpg: 640x256 4 banners, 2 3blocks, 1 4block, 2 gallerys, 1 header, 1 footer, 7.2ms\n",
      "image 1092/2605 /tf/notebook/testimage/screencapture-demo2-prestabrain-mixxcazt-home-15-2022-09-27-16_20_59.jpg: 640x352 1 banner, 1 2block, 2 3blocks, 2 4blocks, 1 6block, 1 typo, 2 headers, 1 footer, 7.9ms\n",
      "image 1093/2605 /tf/notebook/testimage/screencapture-demo2-prestabrain-mixxcazt-home-16-2022-09-27-16_21_06.jpg: 640x320 1 banner, 1 2block, 1 3block, 3 4blocks, 2 5blocks, 1 gallery, 1 header, 1 footer, 7.2ms\n",
      "image 1094/2605 /tf/notebook/testimage/screencapture-demo2-prestabrain-mixxcazt-home-18-2022-09-27-16_21_18.jpg: 640x320 1 banner, 1 2block, 1 3block, 2 4blocks, 1 header, 1 footer, 6.3ms\n",
      "image 1095/2605 /tf/notebook/testimage/screencapture-demo2-prestabrain-mixxcazt-home-19-2022-09-27-16_21_28.jpg: 640x320 4 banners, 2 2blocks, 1 3block, 1 4block, 1 header, 1 footer, 6.4ms\n",
      "image 1096/2605 /tf/notebook/testimage/screencapture-demo2-prestabrain-mixxcazt-home-2-2022-09-27-16_19_20.jpg: 640x288 2 banners, 2 2blocks, 2 3blocks, 2 4blocks, 4 5blocks, 1 8block, 1 header, 1 footer, 6.6ms\n",
      "image 1097/2605 /tf/notebook/testimage/screencapture-demo2-prestabrain-mixxcazt-home-21-2022-09-27-16_21_44.jpg: 640x448 1 banner, 1 2block, 2 3blocks, 4 4blocks, 1 5block, 1 8block, 2 gallerys, 2 headers, 26.2ms\n",
      "image 1098/2605 /tf/notebook/testimage/screencapture-demo2-prestabrain-mixxcazt-home-22-2022-09-27-16_21_50.jpg: 640x320 2 banners, 1 2block, 2 4blocks, 1 5block, 1 gallery, 1 header, 1 footer, 28.8ms\n",
      "image 1099/2605 /tf/notebook/testimage/screencapture-demo2-prestabrain-mixxcazt-home-24-2022-09-27-16_22_12.jpg: 640x288 3 banners, 1 2block, 1 3block, 1 4block, 1 5block, 1 6block, 1 gallery, 1 header, 1 footer, 29.4ms\n"
     ]
    },
    {
     "name": "stdout",
     "output_type": "stream",
     "text": [
      "image 1100/2605 /tf/notebook/testimage/screencapture-demo2-prestabrain-mixxcazt-home-25-2022-09-27-16_22_31.jpg: 640x320 2 banners, 1 2block, 1 3block, 2 4blocks, 3 6blocks, 1 typo, 1 gallery, 1 header, 1 footer, 42.3ms\n",
      "image 1101/2605 /tf/notebook/testimage/screencapture-demo2-prestabrain-mixxcazt-home-26-2022-09-27-16_22_39.jpg: 640x352 5 banners, 2 2blocks, 1 4block, 3 5blocks, 1 6block, 1 typo, 1 header, 41.3ms\n",
      "image 1102/2605 /tf/notebook/testimage/screencapture-demo2-prestabrain-mixxcazt-home-28-2022-09-27-16_22_55.jpg: 640x256 2 banners, 3 2blocks, 3 3blocks, 1 4block, 1 5block, 1 header, 1 footer, 47.2ms\n",
      "image 1103/2605 /tf/notebook/testimage/screencapture-demo2-prestabrain-mixxcazt-home-29-2022-09-27-16_23_04.jpg: 640x320 2 banners, 1 2block, 1 3block, 3 4blocks, 2 typos, 1 header, 1 footer, 69.6ms\n",
      "image 1104/2605 /tf/notebook/testimage/screencapture-demo2-prestabrain-mixxcazt-home-3-2022-09-27-16_19_28.jpg: 640x288 2 banners, 2 2blocks, 3 3blocks, 1 5block, 2 typos, 1 header, 1 footer, 81.6ms\n",
      "image 1105/2605 /tf/notebook/testimage/screencapture-demo2-prestabrain-mixxcazt-home-4-2022-09-27-16_19_37.jpg: 640x256 2 banners, 2 2blocks, 2 3blocks, 2 4blocks, 1 6block, 1 typo, 1 header, 1 footer, 63.6ms\n",
      "image 1106/2605 /tf/notebook/testimage/screencapture-demo2-prestabrain-mixxcazt-home-5-2022-09-27-16_19_46.jpg: 640x288 1 banner, 2 2blocks, 1 3block, 1 4block, 1 5block, 3 6blocks, 1 gallery, 1 header, 1 footer, 27.0ms\n",
      "image 1107/2605 /tf/notebook/testimage/screencapture-demo2-prestabrain-mixxcazt-home-6-2022-09-27-16_19_53.jpg: 640x320 2 2blocks, 3 3blocks, 1 4block, 1 6block, 1 typo, 1 header, 1 footer, 26.5ms\n",
      "image 1108/2605 /tf/notebook/testimage/screencapture-demo2-prestabrain-mixxcazt-home-7-2022-09-27-16_20_01.jpg: 640x288 1 banner, 1 2block, 2 4blocks, 4 5blocks, 1 gallery, 1 header, 1 footer, 26.9ms\n",
      "image 1109/2605 /tf/notebook/testimage/screencapture-demo2-prestabrain-mixxcazt-home-9-2022-09-27-16_20_16.jpg: 640x256 2 banners, 3 2blocks, 1 3block, 2 4blocks, 4 5blocks, 1 header, 1 footer, 64.1ms\n",
      "image 1110/2605 /tf/notebook/testimage/screencapture-demo2-prestabrain-radist-2022-09-26-17_34_56.jpg: 640x288 3 banners, 2 2blocks, 3 3blocks, 2 5blocks, 1 header, 1 footer, 73.9ms\n",
      "image 1111/2605 /tf/notebook/testimage/screencapture-demo2-prestabrain-radist-home-3-2022-09-26-17_35_15.jpg: 640x224 3 2blocks, 3 3blocks, 3 4blocks, 1 gallery, 1 header, 1 footer, 22.8ms\n",
      "image 1112/2605 /tf/notebook/testimage/screencapture-demo2-prestabrain-radist-home-4-2022-09-26-17_35_29.jpg: 640x256 1 banner, 1 2block, 2 3blocks, 4 5blocks, 1 gallery, 1 header, 1 footer, 26.4ms\n",
      "image 1113/2605 /tf/notebook/testimage/screencapture-demo2-prestabrain-stationero-2022-09-28-10_27_37.jpg: 640x288 3 banners, 3 3blocks, 1 4block, 1 5block, 1 6block, 1 gallery, 1 header, 1 footer, 26.6ms\n",
      "image 1114/2605 /tf/notebook/testimage/screencapture-demo2-prestabrain-stationero-home-2-2022-09-28-10_29_58.jpg: 640x320 3 banners, 1 2block, 2 4blocks, 3 5blocks, 1 gallery, 1 header, 1 footer, 56.8ms\n",
      "image 1115/2605 /tf/notebook/testimage/screencapture-demo2-prestabrain-stationero-home-3-2022-09-28-10_30_05.jpg: 640x288 4 banners, 1 3block, 2 4blocks, 2 5blocks, 1 typo, 1 gallery, 1 header, 1 footer, 51.7ms\n",
      "image 1116/2605 /tf/notebook/testimage/screencapture-demo2-prestabrain-stationero-home-5-2022-09-28-10_30_21.jpg: 640x320 1 4block, 3 5blocks, 1 typo, 3 gallerys, 1 header, 1 footer, 70.5ms\n",
      "image 1117/2605 /tf/notebook/testimage/screencapture-demo2-prestabrain-stationero-home-6-2022-09-28-10_30_28.jpg: 640x352 2 banners, 4 3blocks, 1 5block, 1 6block, 1 typo, 1 gallery, 1 header, 1 footer, 62.1ms\n",
      "image 1118/2605 /tf/notebook/testimage/screencapture-demo2-prestabrain-stationero-home-7-2022-09-28-10_30_35.jpg: 640x480 2 banners, 1 4block, 2 5blocks, 1 6block, 1 gallery, 1 header, 1 footer, 90.8ms\n",
      "image 1119/2605 /tf/notebook/testimage/screencapture-demo2-themelexus-allegro2-2022-09-28-13_50_26.jpg: 640x256 2 banners, 1 2block, 2 3blocks, 1 4block, 1 gallery, 1 header, 1 footer, 46.9ms\n",
      "image 1120/2605 /tf/notebook/testimage/screencapture-demo2-themelexus-allegro2-home-3-2022-09-28-13_50_45.jpg: 640x256 1 banner, 2 3blocks, 1 4block, 1 6block, 1 typo, 2 gallerys, 1 header, 1 footer, 22.8ms\n",
      "image 1121/2605 /tf/notebook/testimage/screencapture-demo2-themelexus-allegro2-home-4-2022-09-28-13_50_58.jpg: 640x352 2 banners, 1 2block, 1 4block, 2 gallerys, 1 header, 2 footers, 30.1ms\n",
      "image 1122/2605 /tf/notebook/testimage/screencapture-demo2-themelexus-allegro2-home-5-2022-09-28-13_51_19.jpg: 640x352 2 2blocks, 2 4blocks, 1 6block, 1 gallery, 1 header, 1 footer, 27.0ms\n",
      "image 1123/2605 /tf/notebook/testimage/screencapture-demo2-themelexus-arden-home-2-2022-09-27-16_36_50391.jpg: 640x288 1 banner, 4 2blocks, 2 3blocks, 1 4block, 1 5block, 1 header, 1 footer, 71.2ms\n",
      "image 1124/2605 /tf/notebook/testimage/screencapture-demo2-themelexus-arden-home-3-2022-09-27-16_37_25392.jpg: 640x288 2 banners, 1 2block, 3 3blocks, 1 4block, 1 typo, 1 header, 1 footer, 120.2ms\n",
      "image 1125/2605 /tf/notebook/testimage/screencapture-demo2-themelexus-arden-home-5-2022-09-27-16_37_46394.jpg: 640x288 2 banners, 2 2blocks, 3 3blocks, 1 4block, 1 typo, 1 gallery, 1 header, 64.8ms\n",
      "image 1126/2605 /tf/notebook/testimage/screencapture-demo2-themelexus-beautifo-2022-09-27-13_18_34402.jpg: 640x224 2 banners, 1 2block, 3 3blocks, 1 4block, 1 6block, 1 gallery, 1 header, 1 footer, 21.1ms\n",
      "image 1127/2605 /tf/notebook/testimage/screencapture-demo2-themelexus-beautifo-home-2-2022-09-27-13_27_03403.jpg: 640x224 3 banners, 1 2block, 2 3blocks, 1 4block, 1 6block, 2 typos, 1 header, 1 footer, 28.6ms\n",
      "image 1128/2605 /tf/notebook/testimage/screencapture-demo2-themelexus-beautifo-home-3-2022-09-27-13_28_13404.jpg: 640x256 2 banners, 1 2block, 2 3blocks, 1 4block, 1 6block, 1 typo, 1 gallery, 1 header, 1 footer, 22.8ms\n",
      "image 1129/2605 /tf/notebook/testimage/screencapture-demo2-themelexus-beautifo-home-4-2022-09-27-13_28_22405.jpg: 640x224 3 banners, 4 3blocks, 1 4block, 4 typos, 1 header, 1 footer, 27.2ms\n",
      "image 1130/2605 /tf/notebook/testimage/screencapture-demo2-themelexus-beautifo-home-5-2022-09-27-13_28_34406.jpg: 640x224 2 banners, 1 2block, 1 3block, 2 4blocks, 1 6block, 1 typo, 1 gallery, 1 header, 1 footer, 221.7ms\n",
      "image 1131/2605 /tf/notebook/testimage/screencapture-demo2-themelexus-beautifo-home-6-2022-09-27-13_28_43407.jpg: 640x256 1 banner, 2 2blocks, 1 3block, 2 4blocks, 2 typos, 1 header, 8.3ms\n",
      "image 1132/2605 /tf/notebook/testimage/screencapture-demo2-themelexus-beautifo-home-8-2022-09-27-13_29_01409.jpg: 640x224 3 banners, 3 3blocks, 1 5block, 1 header, 1 footer, 6.9ms\n",
      "image 1133/2605 /tf/notebook/testimage/screencapture-demo2-themelexus-berrykid2-2022-09-27-15_26_27.jpg: 640x192 3 banners, 1 2block, 1 3block, 4 4blocks, 1 6block, 1 gallery, 1 header, 1 footer, 7.4ms\n",
      "image 1134/2605 /tf/notebook/testimage/screencapture-demo2-themelexus-berrykid2-home-2-2022-09-27-15_26_46.jpg: 640x224 2 banners, 4 3blocks, 1 4block, 3 6blocks, 1 typo, 1 gallery, 1 header, 1 footer, 11.6ms\n",
      "image 1135/2605 /tf/notebook/testimage/screencapture-demo2-themelexus-berrykid2-home-3-2022-09-27-15_26_55.jpg: 640x256 3 banners, 4 3blocks, 1 4block, 1 6block, 1 header, 1 footer, 7.7ms\n",
      "image 1136/2605 /tf/notebook/testimage/screencapture-demo2-themelexus-berrykid2-home-4-2022-09-27-15_27_08.jpg: 640x224 4 banners, 2 4blocks, 3 5blocks, 1 6block, 1 gallery, 1 header, 1 footer, 6.8ms\n",
      "image 1137/2605 /tf/notebook/testimage/screencapture-demo2-themelexus-bikersclub-2022-09-23-17_19_15.jpg: 640x160 2 banners, 1 2block, 3 3blocks, 2 4blocks, 3 typos, 1 header, 1 footer, 6.8ms\n",
      "image 1138/2605 /tf/notebook/testimage/screencapture-demo2-themelexus-bikersclub-home-2-2022-09-23-17_19_35.jpg: 640x192 6 banners, 1 3block, 2 typos, 1 gallery, 1 header, 2 footers, 7.3ms\n",
      "image 1139/2605 /tf/notebook/testimage/screencapture-demo2-themelexus-bikersclub-home-3-2022-09-23-17_19_51.jpg: 640x224 3 banners, 1 2block, 1 3block, 2 4blocks, 2 typos, 1 gallery, 1 header, 1 footer, 6.7ms\n",
      "image 1140/2605 /tf/notebook/testimage/screencapture-demo2-themelexus-camptree-home-2-2022-09-28-10_21_02.jpg: 640x192 4 banners, 2 2blocks, 1 3block, 1 4block, 2 5blocks, 1 6block, 1 header, 1 footer, 20.0ms\n"
     ]
    },
    {
     "name": "stdout",
     "output_type": "stream",
     "text": [
      "image 1141/2605 /tf/notebook/testimage/screencapture-demo2-themelexus-camptree-home-3-2022-09-28-10_21_21.jpg: 640x224 3 banners, 1 2block, 2 3blocks, 1 4block, 3 5blocks, 2 6blocks, 1 typo, 2 gallerys, 1 header, 1 footer, 21.0ms\n",
      "image 1142/2605 /tf/notebook/testimage/screencapture-demo2-themelexus-camptree-home-4-2022-09-28-10_21_34.jpg: 640x224 2 banners, 4 2blocks, 1 3block, 2 4blocks, 1 7block, 1 typo, 1 header, 1 footer, 28.8ms\n",
      "image 1143/2605 /tf/notebook/testimage/screencapture-demo2-themelexus-efway-2022-09-28-09_46_45.jpg: 640x256 3 banners, 1 2block, 4 4blocks, 1 5block, 1 header, 1 footer, 34.6ms\n",
      "image 1144/2605 /tf/notebook/testimage/screencapture-demo2-themelexus-efway-home-2-2022-09-28-09_46_51.jpg: 640x288 2 banners, 1 3block, 3 4blocks, 1 gallery, 1 header, 1 footer, 59.3ms\n",
      "image 1145/2605 /tf/notebook/testimage/screencapture-demo2-themelexus-efway-home-4-2022-09-28-09_47_03.jpg: 640x320 2 banners, 1 2block, 3 4blocks, 1 gallery, 1 header, 1 footer, 69.5ms\n",
      "image 1146/2605 /tf/notebook/testimage/screencapture-demo2-themelexus-efway-home-5-2022-09-28-09_47_11.jpg: 640x352 1 3block, 2 4blocks, 2 gallerys, 1 header, 1 footer, 188.4ms\n",
      "image 1147/2605 /tf/notebook/testimage/screencapture-demo2-themelexus-foodo-2022-09-23-14_57_22.jpg: 640x192 2 banners, 2 2blocks, 3 3blocks, 2 4blocks, 1 header, 1 footer, 10.4ms\n",
      "image 1148/2605 /tf/notebook/testimage/screencapture-demo2-themelexus-funisox-2022-09-27-16_32_55.jpg: 640x192 3 banners, 3 2blocks, 1 3block, 4 4blocks, 1 5block, 1 header, 1 footer, 6.4ms\n",
      "image 1149/2605 /tf/notebook/testimage/screencapture-demo2-themelexus-funisox-home-2-2022-09-27-16_32_20.jpg: 640x256 2 banners, 2 2blocks, 1 3block, 1 5block, 1 7block, 1 header, 1 footer, 7.4ms\n",
      "image 1150/2605 /tf/notebook/testimage/screencapture-demo2-themelexus-funisox-home-5-2022-09-27-16_33_09.jpg: 640x288 1 banner, 3 2blocks, 1 3block, 1 4block, 1 typo, 1 gallery, 1 header, 1 footer, 7.3ms\n",
      "image 1151/2605 /tf/notebook/testimage/screencapture-demo2-themelexus-funisox-home-6-2022-09-27-16_33_21.jpg: 640x352 4 banners, 2 gallerys, 1 header, 1 footer, 20.7ms\n",
      "image 1152/2605 /tf/notebook/testimage/screencapture-demo2-themelexus-funisox-home-7-2022-09-27-16_33_32.jpg: 640x320 1 banner, 1 2block, 2 3blocks, 1 6block, 1 typo, 2 gallerys, 1 header, 1 footer, 22.6ms\n",
      "image 1153/2605 /tf/notebook/testimage/screencapture-demo2-themelexus-huntor-2022-09-27-17_02_38.jpg: 640x192 4 banners, 1 2block, 2 3blocks, 1 4block, 1 5block, 1 6block, 1 gallery, 1 header, 21.8ms\n",
      "image 1154/2605 /tf/notebook/testimage/screencapture-demo2-themelexus-huntor-home-2-2022-09-27-17_02_49.jpg: 640x192 1 banner, 4 2blocks, 2 3blocks, 1 4block, 1 5block, 1 header, 1 footer, 24.4ms\n",
      "image 1155/2605 /tf/notebook/testimage/screencapture-demo2-themelexus-huntor-home-4-2022-09-27-17_03_01.jpg: 640x192 2 banners, 1 2block, 1 3block, 5 4blocks, 1 5block, 1 6block, 1 typo, 1 header, 1 footer, 23.4ms\n",
      "image 1156/2605 /tf/notebook/testimage/screencapture-demo2-themelexus-kiddo-2022-09-28-13_23_26.jpg: 640x128 2 banners, 2 2blocks, 2 3blocks, 3 4blocks, 1 6block, 1 typo, 2 gallerys, 1 header, 1 footer, 42.4ms\n",
      "image 1157/2605 /tf/notebook/testimage/screencapture-demo2-themelexus-kiddo-home-2-2022-09-28-13_23_36.jpg: 640x160 3 banners, 2 2blocks, 1 3block, 3 4blocks, 1 6block, 1 typo, 1 gallery, 1 header, 1 footer, 37.4ms\n",
      "image 1158/2605 /tf/notebook/testimage/screencapture-demo2-themelexus-kiddo-home-3-2022-09-28-13_23_53.jpg: 640x224 2 banners, 1 3block, 2 4blocks, 1 6block, 1 typo, 1 gallery, 1 header, 1 footer, 129.2ms\n",
      "image 1159/2605 /tf/notebook/testimage/screencapture-demo2-themelexus-liftsupply-home-2-2022-09-27-16_23_32.jpg: 640x256 4 banners, 2 3blocks, 2 4blocks, 1 typo, 1 header, 1 footer, 132.6ms\n",
      "image 1160/2605 /tf/notebook/testimage/screencapture-demo2-themelexus-liftsupply-home-3-2022-09-27-16_23_51.jpg: 640x288 3 banners, 2 3blocks, 1 4block, 3 5blocks, 1 6block, 1 header, 1 footer, 6.7ms\n",
      "image 1161/2605 /tf/notebook/testimage/screencapture-demo2-themelexus-liquory-2022-09-26-14_40_25.jpg: 640x224 2 banners, 2 2blocks, 1 3block, 3 4blocks, 5 6blocks, 1 8block, 2 headers, 1 footer, 7.0ms\n",
      "image 1162/2605 /tf/notebook/testimage/screencapture-demo2-themelexus-liquory-home-2-2022-09-26-14_40_43.jpg: 640x256 2 banners, 4 3blocks, 5 4blocks, 1 6block, 1 typo, 2 headers, 1 footer, 6.7ms\n",
      "image 1163/2605 /tf/notebook/testimage/screencapture-demo2-themelexus-liquory-home-3-2022-09-26-14_41_05.jpg: 640x256 2 banners, 3 5blocks, 2 6blocks, 1 8block, 2 gallerys, 1 header, 1 footer, 6.5ms\n",
      "image 1164/2605 /tf/notebook/testimage/screencapture-demo2-themelexus-liquory-home-4-2022-09-26-14_41_22.jpg: 640x256 1 banner, 1 2block, 3 3blocks, 3 5blocks, 3 typos, 2 gallerys, 1 header, 1 footer, 6.5ms\n",
      "image 1165/2605 /tf/notebook/testimage/screencapture-demo2-themelexus-liquory-home-5-2022-09-26-14_41_38.jpg: 640x256 2 banners, 1 3block, 2 4blocks, 1 5block, 3 6blocks, 1 8block, 1 header, 1 footer, 6.6ms\n",
      "image 1166/2605 /tf/notebook/testimage/screencapture-demo2-themelexus-olars-home-2-2022-09-27-14_09_25422.jpg: 640x192 2 banners, 1 2block, 2 3blocks, 1 4block, 1 5block, 1 typo, 1 gallery, 1 header, 1 footer, 11.4ms\n",
      "image 1167/2605 /tf/notebook/testimage/screencapture-demo2-themelexus-olars-home-3-2022-09-27-14_09_48423.jpg: 640x192 2 banners, 1 2block, 4 3blocks, 2 4blocks, 1 6block, 1 typo, 1 header, 2 footers, 12.6ms\n",
      "image 1168/2605 /tf/notebook/testimage/screencapture-demo2-themelexus-olars-home-5-2022-09-27-14_10_29425.jpg: 640x224 2 banners, 1 2block, 2 3blocks, 3 4blocks, 1 6block, 1 gallery, 1 header, 30.2ms\n",
      "image 1169/2605 /tf/notebook/testimage/screencapture-demo2-themelexus-ridez-2022-09-28-11_08_28439.jpg: 640x192 3 banners, 2 2blocks, 3 3blocks, 1 4block, 1 5block, 2 typos, 1 header, 1 footer, 29.4ms\n",
      "image 1170/2605 /tf/notebook/testimage/screencapture-demo2-themelexus-ridez-home-2-2022-09-28-11_08_43440.jpg: 640x224 3 banners, 1 2block, 2 3blocks, 2 4blocks, 1 5block, 1 gallery, 1 header, 1 footer, 24.6ms\n",
      "image 1171/2605 /tf/notebook/testimage/screencapture-demo2-themelexus-ridez-home-3-2022-09-28-11_08_47441.jpg: 640x224 3 banners, 1 2block, 3 3blocks, 1 4block, 1 typo, 1 header, 1 footer, 31.5ms\n",
      "image 1172/2605 /tf/notebook/testimage/screencapture-demo2-themelexus-ridez-home-4-2022-09-28-11_08_53442.jpg: 640x224 3 banners, 2 3blocks, 2 gallerys, 1 header, 1 footer, 47.9ms\n",
      "image 1173/2605 /tf/notebook/testimage/screencapture-demo2-themelexus-ridez-home-6-2022-09-28-11_09_03444.jpg: 640x224 3 banners, 3 2blocks, 1 3block, 1 4block, 3 5blocks, 1 typo, 1 header, 1 footer, 68.6ms\n",
      "image 1174/2605 /tf/notebook/testimage/screencapture-demo2-themelexus-ziggy-home-2-2022-09-23-17_13_33.jpg: 640x256 3 banners, 1 2block, 3 4blocks, 1 5block, 1 7block, 1 header, 1 footer, 51.5ms\n",
      "image 1175/2605 /tf/notebook/testimage/screencapture-demo2-themelexus-ziggy-home-3-2022-09-23-17_13_44.jpg: 640x288 2 banners, 2 2blocks, 2 3blocks, 3 4blocks, 1 5block, 1 header, 1 footer, 57.1ms\n",
      "image 1176/2605 /tf/notebook/testimage/screencapture-demo2-themelexus-ziggy-home-4-2022-09-23-17_14_27.jpg: 640x256 2 banners, 1 2block, 1 4block, 1 5block, 5 6blocks, 1 8block, 1 header, 1 footer, 47.7ms\n",
      "image 1177/2605 /tf/notebook/testimage/screencapture-demo2-themelexus-ziggy-home-5-2022-09-23-17_14_38.jpg: 640x256 1 banner, 2 2blocks, 1 3block, 1 5block, 3 6blocks, 2 gallerys, 1 header, 1 footer, 50.7ms\n",
      "image 1178/2605 /tf/notebook/testimage/screencapture-demo2-themelexus-ziggy-home-6-2022-09-23-17_14_49.jpg: 640x256 1 banner, 2 2blocks, 1 3block, 2 4blocks, 1 5block, 1 6block, 1 7block, 1 gallery, 1 header, 1 footer, 119.0ms\n",
      "image 1179/2605 /tf/notebook/testimage/screencapture-demo2-themelexus-ziggy-home-7-2022-09-23-17_15_00.jpg: 640x256 2 banners, 2 2blocks, 1 3block, 3 4blocks, 2 5blocks, 1 header, 1 footer, 23.6ms\n",
      "image 1180/2605 /tf/notebook/testimage/screencapture-demo2-themelexus-zoli-home-2-2022-09-28-11_31_25.jpg: 640x224 2 banners, 2 3blocks, 1 4block, 1 typo, 1 header, 1 footer, 27.0ms\n",
      "image 1181/2605 /tf/notebook/testimage/screencapture-demo2-themelexus-zoli-home-3-2022-09-28-11_31_32.jpg: 640x224 1 banner, 1 2block, 1 3block, 1 4block, 2 typos, 1 header, 1 footer, 23.4ms\n",
      "image 1182/2605 /tf/notebook/testimage/screencapture-demo2-themelexus-zoli-home-4-2022-09-28-11_31_39.jpg: 640x256 1 banner, 1 2block, 1 3block, 1 4block, 2 typos, 1 header, 2 footers, 23.8ms\n"
     ]
    },
    {
     "name": "stdout",
     "output_type": "stream",
     "text": [
      "image 1183/2605 /tf/notebook/testimage/screencapture-demo2-themelexus-zoli-home-5-2022-09-28-11_31_48.jpg: 640x192 1 banner, 2 4blocks, 2 nblocks, 2 typos, 1 gallery, 1 header, 1 footer, 51.2ms\n",
      "image 1184/2605 /tf/notebook/testimage/screencapture-demo2-themelexus-zoli-home-7-2022-09-28-11_32_26.jpg: 640x224 2 2blocks, 1 3block, 1 gallery, 1 header, 2 footers, 93.4ms\n",
      "image 1185/2605 /tf/notebook/testimage/screencapture-demo2-wpopal-bridey-2022-09-28-14_05_43.jpg: 640x128 2 banners, 2 3blocks, 2 4blocks, 1 5block, 2 gallerys, 1 header, 1 footer, 53.8ms\n",
      "image 1186/2605 /tf/notebook/testimage/screencapture-demo2-wpopal-bridey-home-2-2022-09-28-14_05_59.jpg: 640x128 2 banners, 2 2blocks, 2 3blocks, 1 4block, 1 5block, 1 typo, 1 header, 1 footer, 32.0ms\n",
      "image 1187/2605 /tf/notebook/testimage/screencapture-demo2-wpopal-bridey-home-4-2022-09-28-14_07_02.jpg: 640x160 3 banners, 2 3blocks, 1 4block, 1 5block, 1 8block, 1 nblock, 1 typo, 1 header, 1 footer, 180.5ms\n",
      "image 1188/2605 /tf/notebook/testimage/screencapture-demo2-wpopal-bridey-home-5-2022-09-28-14_07_38.jpg: 640x160 2 banners, 2 3blocks, 1 5block, 2 typos, 2 gallerys, 1 header, 1 footer, 7.0ms\n",
      "image 1189/2605 /tf/notebook/testimage/screencapture-demo2-wpopal-bridey-home-6-2022-09-28-14_07_57.jpg: 640x192 1 3block, 1 4block, 1 6block, 1 typo, 1 gallery, 1 header, 1 footer, 8.5ms\n",
      "image 1190/2605 /tf/notebook/testimage/screencapture-demo2-wpopal-bridey-home-7-2022-09-28-14_08_08.jpg: 640x128 3 banners, 2 2blocks, 1 3block, 2 4blocks, 1 5block, 2 typos, 1 header, 1 footer, 7.1ms\n",
      "image 1191/2605 /tf/notebook/testimage/screencapture-demo2-wpopal-digitaz-home-2-2022-09-26-10_06_05.jpg: 640x320 1 banner, 1 3block, 2 6blocks, 1 typo, 2 gallerys, 1 header, 1 footer, 6.8ms\n",
      "image 1192/2605 /tf/notebook/testimage/screencapture-demo2-wpopal-digitaz-home-4-2022-09-26-10_06_50.jpg: 640x288 2 banners, 2 2blocks, 3 3blocks, 1 4block, 3 5blocks, 1 typo, 1 header, 2 footers, 6.7ms\n",
      "image 1193/2605 /tf/notebook/testimage/screencapture-demo2-wpopal-digitaz-home-6-2022-09-26-10_07_09.jpg: 640x256 1 banner, 1 2block, 2 3blocks, 1 4block, 4 5blocks, 1 6block, 1 typo, 2 gallerys, 1 header, 1 footer, 6.7ms\n",
      "image 1194/2605 /tf/notebook/testimage/screencapture-demo2-wpopal-digitaz-home-7-2022-09-26-10_07_26.jpg: 640x288 1 banner, 1 2block, 2 3blocks, 1 4block, 3 5blocks, 1 typo, 3 gallerys, 1 header, 1 footer, 7.6ms\n",
      "image 1195/2605 /tf/notebook/testimage/screencapture-demo2-wpopal-digitaz-home-8-2022-09-26-10_07_37.jpg: 640x320 1 banner, 1 3block, 1 5block, 2 6blocks, 2 8blocks, 3 gallerys, 1 header, 1 footer, 6.9ms\n",
      "image 1196/2605 /tf/notebook/testimage/screencapture-demo2-wpopal-digitaz-home-9-2022-09-26-10_07_48.jpg: 640x288 2 banners, 1 2block, 5 3blocks, 1 4block, 2 5blocks, 1 6block, 1 typo, 1 header, 1 footer, 23.3ms\n",
      "image 1197/2605 /tf/notebook/testimage/screencapture-demo2-wpopal-ecolive-home-1-2022-09-26-10_00_26455.jpg: 640x224 3 banners, 2 2blocks, 1 3block, 2 4blocks, 2 5blocks, 3 6blocks, 1 header, 1 footer, 27.0ms\n",
      "image 1198/2605 /tf/notebook/testimage/screencapture-demo2-wpopal-ecolive-home-2-2022-09-26-10_00_15456.jpg: 640x256 2 banners, 2 2blocks, 1 3block, 2 4blocks, 1 6block, 1 8block, 1 typo, 1 header, 1 footer, 27.3ms\n",
      "image 1199/2605 /tf/notebook/testimage/screencapture-demo2-wpopal-ecolive-home-5-2022-09-26-09_59_20459.jpg: 640x256 1 banner, 1 2block, 4 3blocks, 1 4block, 1 typo, 1 header, 1 footer, 25.7ms\n",
      "image 1200/2605 /tf/notebook/testimage/screencapture-demo2-wpopal-ecolive-home-6-2022-09-26-09_59_09460.jpg: 640x224 3 2blocks, 1 3block, 2 5blocks, 2 6blocks, 1 typo, 1 gallery, 1 header, 1 footer, 51.0ms\n",
      "image 1201/2605 /tf/notebook/testimage/screencapture-demo2-wpopal-ecolive-home-7-2022-09-26-09_58_58461.jpg: 640x288 1 banner, 2 3blocks, 2 4blocks, 1 6block, 3 gallerys, 1 header, 1 footer, 53.9ms\n",
      "image 1202/2605 /tf/notebook/testimage/screencapture-demo2-wpopal-frido-home-1-2022-09-27-17_28_08.jpg: 640x256 2 banners, 1 2block, 1 3block, 1 5block, 1 typo, 1 header, 1 footer, 66.3ms\n",
      "image 1203/2605 /tf/notebook/testimage/screencapture-demo2-wpopal-frido-home-2-2022-09-27-17_28_19.jpg: 640x224 1 banner, 1 2block, 2 3blocks, 2 4blocks, 1 typo, 1 header, 106.9ms\n",
      "image 1204/2605 /tf/notebook/testimage/screencapture-demo2-wpopal-frido-home-4-2022-09-27-17_29_12.jpg: 640x192 1 banner, 1 3block, 3 4blocks, 1 typo, 1 header, 1 footer, 6.9ms\n",
      "image 1205/2605 /tf/notebook/testimage/screencapture-demo2-wpopal-frido-home-6-2022-09-27-17_29_41.jpg: 640x256 1 banner, 1 3block, 1 4block, 1 gallery, 1 header, 6.7ms\n",
      "image 1206/2605 /tf/notebook/testimage/screencapture-demo2-wpopal-medicor-home-2-2022-09-23-15_00_46.jpg: 640x320 2 banners, 1 2block, 3 4blocks, 1 typo, 1 gallery, 1 header, 1 footer, 7.3ms\n",
      "image 1207/2605 /tf/notebook/testimage/screencapture-demo2-wpopal-medicor-home-3-2022-09-23-15_01_00.jpg: 640x288 2 banners, 1 2block, 2 3blocks, 2 4blocks, 1 gallery, 1 header, 1 footer, 7.3ms\n",
      "image 1208/2605 /tf/notebook/testimage/screencapture-demo2-wpopal-medicor-home-4-2022-09-23-15_01_34.jpg: 640x320 2 banners, 1 2block, 2 4blocks, 1 6block, 1 gallery, 1 header, 1 footer, 7.9ms\n",
      "image 1209/2605 /tf/notebook/testimage/screencapture-demo2-wpopal-medicor-home-5-2022-09-23-15_01_49.jpg: 640x320 2 banners, 1 2block, 1 3block, 2 4blocks, 1 typo, 1 gallery, 1 header, 6.3ms\n",
      "image 1210/2605 /tf/notebook/testimage/screencapture-demo2-wpopal-medicor-home-6-2022-09-23-15_02_06.jpg: 640x256 2 banners, 1 2block, 2 3blocks, 2 4blocks, 1 6block, 1 header, 2 footers, 10.5ms\n",
      "image 1211/2605 /tf/notebook/testimage/screencapture-demo2-wpopal-medicor-home-7-2022-09-23-15_02_22.jpg: 640x320 1 banner, 1 3block, 1 6block, 1 typo, 1 gallery, 1 header, 1 footer, 7.1ms\n",
      "image 1212/2605 /tf/notebook/testimage/screencapture-demo2-wpopal-medicor-home-8-2022-09-23-15_02_34.jpg: 640x288 3 banners, 2 3blocks, 3 4blocks, 1 6block, 1 typo, 1 header, 1 footer, 32.5ms\n",
      "image 1213/2605 /tf/notebook/testimage/screencapture-demo2-wpopal-medicor-home-9-2022-09-23-15_02_47.jpg: 640x288 1 banner, 1 3block, 3 4blocks, 1 5block, 1 gallery, 1 header, 1 footer, 33.9ms\n",
      "image 1214/2605 /tf/notebook/testimage/screencapture-demo2-wpopal-mixmart-home-3-2022-09-27-17_45_51475.jpg: 640x352 1 banner, 2 2blocks, 2 typos, 1 gallery, 1 header, 1 footer, 90.2ms\n",
      "image 1215/2605 /tf/notebook/testimage/screencapture-demo2-wpopal-mixmart-home-5-2022-09-27-17_45_58476.jpg: 640x192 2 banners, 3 2blocks, 3 3blocks, 3 4blocks, 2 5blocks, 1 header, 1 footer, 20.5ms\n",
      "image 1216/2605 /tf/notebook/testimage/screencapture-demo2-wpopal-mixmart-home-6-2022-09-27-17_46_08477.jpg: 640x192 3 banners, 1 2block, 1 3block, 1 5block, 1 6block, 2 typos, 1 header, 1 footer, 18.9ms\n",
      "image 1217/2605 /tf/notebook/testimage/screencapture-demo2-wpopal-mixmart-home-7-2022-09-27-17_46_19478.jpg: 640x192 4 banners, 2 3blocks, 1 5block, 1 6block, 1 typo, 1 gallery, 1 header, 1 footer, 18.5ms\n",
      "image 1218/2605 /tf/notebook/testimage/screencapture-demo2-wpopal-naturis-home-3-2022-09-26-14_55_08.jpg: 640x192 2 banners, 2 2blocks, 2 3blocks, 3 4blocks, 1 5block, 1 header, 1 footer, 18.3ms\n",
      "image 1219/2605 /tf/notebook/testimage/screencapture-demo2-wpopal-naturis-home-5-2022-09-26-14_55_37.jpg: 640x256 2 banners, 2 2blocks, 1 3block, 2 4blocks, 1 6block, 1 typo, 1 header, 1 footer, 23.9ms\n",
      "image 1220/2605 /tf/notebook/testimage/screencapture-demo2-wpopal-naturis-home-6-2022-09-26-14_55_49.jpg: 640x224 5 banners, 1 2block, 1 5block, 1 typo, 2 headers, 1 footer, 20.8ms\n",
      "image 1221/2605 /tf/notebook/testimage/screencapture-demo2-wpopal-naturis-home-8-2022-09-26-14_56_35.jpg: 640x224 2 banners, 3 2blocks, 2 3blocks, 3 4blocks, 1 typo, 1 header, 26.2ms\n",
      "image 1222/2605 /tf/notebook/testimage/screencapture-demo2-wpopal-naturis-home-9-2022-09-26-14_56_48.jpg: 640x192 3 banners, 2 2blocks, 1 3block, 2 4blocks, 3 5blocks, 1 header, 1 footer, 33.9ms\n",
      "image 1223/2605 /tf/notebook/testimage/screencapture-demo2-wpopal-nutritix-home-2-2022-09-27-11_20_12.jpg: 640x256 2 banners, 1 2block, 2 3blocks, 3 4blocks, 1 5block, 1 6block, 1 gallery, 1 header, 1 footer, 45.9ms\n",
      "image 1224/2605 /tf/notebook/testimage/screencapture-demo2-wpopal-nutritix-home-3-2022-09-27-11_20_22.jpg: 640x288 1 banner, 2 2blocks, 4 3blocks, 1 4block, 1 header, 1 footer, 148.1ms\n"
     ]
    },
    {
     "name": "stdout",
     "output_type": "stream",
     "text": [
      "image 1225/2605 /tf/notebook/testimage/screencapture-demo2-wpopal-nutritix-home-6-2022-09-27-11_21_01.jpg: 640x320 3 banners, 1 3block, 2 4blocks, 3 6blocks, 1 8block, 1 header, 1 footer, 31.4ms\n",
      "image 1226/2605 /tf/notebook/testimage/screencapture-demo2-wpopal-passo-bosco-2022-09-27-14_22_44484.jpg: 640x160 4 banners, 2 2blocks, 2 3blocks, 2 4blocks, 2 typos, 1 header, 1 footer, 20.2ms\n",
      "image 1227/2605 /tf/notebook/testimage/screencapture-demo2-wpopal-passo-bosco-home-2-2022-09-27-14_23_32485.jpg: 640x160 4 banners, 4 3blocks, 1 4block, 1 typo, 1 header, 1 footer, 20.2ms\n",
      "image 1228/2605 /tf/notebook/testimage/screencapture-demo2-wpopal-passo-bosco-home-4-2022-09-27-14_23_58487.jpg: 640x128 5 banners, 1 2block, 3 3blocks, 2 4blocks, 1 header, 33.9ms\n",
      "image 1229/2605 /tf/notebook/testimage/screencapture-demo2-wpopal-poeme-home-1-2022-09-28-11_32_57492.jpg: 640x384 1 banner, 1 2block, 2 3blocks, 1 4block, 1 5block, 1 header, 1 footer, 79.4ms\n",
      "image 1230/2605 /tf/notebook/testimage/screencapture-demo2-wpopal-poeme-home-5-2022-09-28-11_33_38495.jpg: 640x384 2 banners, 1 2block, 1 3block, 1 5block, 1 typo, 1 header, 1 footer, 60.2ms\n",
      "image 1231/2605 /tf/notebook/testimage/screencapture-demo2-wpopal-poeme-home-6-2022-09-28-11_33_47496.jpg: 640x320 2 banners, 2 2blocks, 1 3block, 1 4block, 1 5block, 1 typo, 1 header, 28.7ms\n",
      "image 1232/2605 /tf/notebook/testimage/screencapture-demo2-wpopal-quapa-2022-09-28-11_21_57.jpg: 640x320 2 banners, 2 4blocks, 1 5block, 2 typos, 1 gallery, 1 header, 1 footer, 43.3ms\n",
      "image 1233/2605 /tf/notebook/testimage/screencapture-demo2-wpopal-supplero-2022-09-27-14_47_02.jpg: 640x256 2 banners, 2 3blocks, 1 4block, 2 6blocks, 1 gallery, 1 header, 1 footer, 26.7ms\n",
      "image 1234/2605 /tf/notebook/testimage/screencapture-demo2-wpopal-supplero-home-2-2022-09-27-14_47_16.jpg: 640x256 1 banner, 1 2block, 1 3block, 1 4block, 2 6blocks, 2 gallerys, 1 header, 1 footer, 32.1ms\n",
      "image 1235/2605 /tf/notebook/testimage/screencapture-demo2-wpopal-supplero-home-3-2022-09-27-14_47_21.jpg: 640x224 2 banners, 1 2block, 3 3blocks, 1 4block, 1 header, 1 footer, 22.7ms\n",
      "image 1236/2605 /tf/notebook/testimage/screencapture-demo2-wpopal-supplero-home-5-2022-09-27-14_47_27.jpg: 640x224 1 2block, 2 3blocks, 2 4blocks, 1 6block, 5 gallerys, 1 header, 1 footer, 26.0ms\n",
      "image 1237/2605 /tf/notebook/testimage/screencapture-demo2-wpopal-supplero-home-7-2022-09-27-14_47_39.jpg: 640x256 1 banner, 2 2blocks, 2 3blocks, 1 5block, 1 6block, 1 gallery, 1 header, 1 footer, 54.4ms\n",
      "image 1238/2605 /tf/notebook/testimage/screencapture-demo2-wpopal-thegreen-2022-09-28-14_01_57.jpg: 640x96 5 banners, 2 3blocks, 2 4blocks, 2 typos, 1 header, 1 footer, 35.5ms\n",
      "image 1239/2605 /tf/notebook/testimage/screencapture-demo2-wpopal-thegreen-home-2-2022-09-28-14_02_12.jpg: 640x96 3 banners, 2 3blocks, 2 4blocks, 1 6block, 5 typos, 1 header, 1 footer, 198.6ms\n",
      "image 1240/2605 /tf/notebook/testimage/screencapture-demo2-wpopal-thegreen-home-3-2022-09-28-14_02_27.jpg: 640x128 3 banners, 2 3blocks, 3 4blocks, 2 typos, 1 gallery, 1 header, 6.9ms\n",
      "image 1241/2605 /tf/notebook/testimage/screencapture-demo2-wpopal-thegreen-home-4-2022-09-28-14_02_37.jpg: 640x128 2 banners, 4 3blocks, 1 5block, 1 typo, 1 header, 7.2ms\n",
      "image 1242/2605 /tf/notebook/testimage/screencapture-demo2-wpopal-thegreen-home-5-2022-09-28-14_02_49.jpg: 640x96 5 banners, 3 4blocks, 3 typos, 1 header, 1 footer, 7.4ms\n",
      "image 1243/2605 /tf/notebook/testimage/screencapture-demo2-wpopal-trekky-home-3-2022-09-27-10_13_23.jpg: 640x256 2 2blocks, 3 3blocks, 4 4blocks, 2 5blocks, 1 6block, 1 gallery, 1 header, 6.7ms\n",
      "image 1244/2605 /tf/notebook/testimage/screencapture-demo2-wpopal-trekky-home-4-2022-09-27-10_13_32.jpg: 640x224 2 banners, 2 2blocks, 1 3block, 4 4blocks, 1 8block, 1 gallery, 1 header, 1 footer, 6.8ms\n",
      "image 1245/2605 /tf/notebook/testimage/screencapture-demo2-wpopal-trekky-home-5-2022-09-27-10_13_43.jpg: 640x256 4 banners, 1 2block, 2 3blocks, 2 4blocks, 1 5block, 1 header, 1 footer, 7.3ms\n",
      "image 1246/2605 /tf/notebook/testimage/screencapture-demo2-wpopal-trekky-home-7-2022-09-27-10_14_06.jpg: 640x256 2 banners, 2 2blocks, 2 3blocks, 1 4block, 2 5blocks, 1 6block, 1 gallery, 1 header, 1 footer, 6.2ms\n",
      "image 1247/2605 /tf/notebook/testimage/screencapture-demo2-wpopal-trekky-home-8-2022-09-27-10_14_16.jpg: 640x256 3 banners, 1 2block, 1 3block, 1 4block, 2 5blocks, 3 6blocks, 1 gallery, 1 header, 1 footer, 15.6ms\n",
      "image 1248/2605 /tf/notebook/testimage/screencapture-demo2-wpopal-xocora-home-5-2022-09-23-15_23_50.jpg: 640x224 2 banners, 3 2blocks, 2 3blocks, 1 8block, 1 typo, 1 header, 16.3ms\n",
      "image 1249/2605 /tf/notebook/testimage/screencapture-demo4-drfuri-durotan-home-best-selling-2022-09-27-11_51_16.jpg: 320x640 1 banner, 1 header, 30.6ms\n",
      "image 1250/2605 /tf/notebook/testimage/screencapture-demo4-drfuri-durotan-home-dark-skin-2022-09-27-11_50_38.jpg: 640x256 2 banners, 3 2blocks, 1 4block, 1 5block, 1 typo, 1 header, 1 footer, 30.8ms\n",
      "image 1251/2605 /tf/notebook/testimage/screencapture-demo4-drfuri-durotan-home-fullwidth-2022-09-27-11_49_51.jpg: 640x352 1 banner, 1 2block, 1 3block, 1 5block, 1 header, 1 footer, 74.8ms\n",
      "image 1252/2605 /tf/notebook/testimage/screencapture-demo4-drfuri-durotan2-2022-09-27-11_50_00.jpg: 640x256 1 banner, 1 2block, 2 3blocks, 1 4block, 2 typos, 1 header, 1 footer, 28.2ms\n",
      "image 1253/2605 /tf/notebook/testimage/screencapture-demo4-drfuri-durotan2-home-classic-2022-09-27-11_50_55.jpg: 640x256 2 banners, 1 2block, 2 3blocks, 1 4block, 1 5block, 1 typo, 1 header, 1 footer, 109.2ms\n",
      "image 1254/2605 /tf/notebook/testimage/screencapture-demo4-drfuri-durotan2-home-collections-2022-09-27-11_50_09.jpg: 640x256 2 banners, 1 2block, 1 3block, 1 4block, 1 header, 1 footer, 31.6ms\n",
      "image 1255/2605 /tf/notebook/testimage/screencapture-demo4-drfuri-durotan2-home-minimal-2022-09-27-11_51_42.jpg: 640x256 1 banner, 1 2block, 1 3block, 1 4block, 1 5block, 1 typo, 1 header, 1 footer, 24.4ms\n",
      "image 1256/2605 /tf/notebook/testimage/screencapture-demo4-drfuri-farmart-home-supermarket-full-width-2022-09-27-10_54_48508.jpg: 640x256 1 banner, 1 2block, 2 3blocks, 2 4blocks, 1 6block, 3 7blocks, 1 8block, 3 typos, 1 gallery, 1 header, 1 footer, 27.5ms\n",
      "image 1257/2605 /tf/notebook/testimage/screencapture-demo4-drfuri-farmart2-2022-09-27-10_54_25503.jpg: 640x256 1 2block, 2 3blocks, 1 4block, 2 5blocks, 3 6blocks, 1 8block, 1 header, 1 footer, 26.8ms\n",
      "image 1258/2605 /tf/notebook/testimage/screencapture-demo9-cmsmart-net-aidoo-tf-home2-2022-09-23-16_00_30.jpg: 640x256 2 banners, 1 2block, 1 3block, 2 4blocks, 2 6blocks, 1 gallery, 1 header, 1 footer, 55.9ms\n",
      "image 1259/2605 /tf/notebook/testimage/screencapture-demo9-cmsmart-net-flower-2022-09-27-16_25_50.jpg: 640x192 4 banners, 1 2block, 1 3block, 1 4block, 2 gallerys, 1 header, 1 footer, 52.6ms\n",
      "image 1260/2605 /tf/notebook/testimage/screencapture-demo9-cmsmart-net-flower-flower-home-05-2022-09-27-16_26_25.jpg: 640x224 4 banners, 1 2block, 2 3blocks, 4 4blocks, 1 6block, 1 header, 1 footer, 81.4ms\n",
      "image 1261/2605 /tf/notebook/testimage/screencapture-demo9-cmsmart-net-flower-flower-home-4-2022-09-27-16_26_12.jpg: 640x224 4 banners, 1 2block, 1 4block, 1 typo, 2 gallerys, 1 header, 1 footer, 44.5ms\n",
      "image 1262/2605 /tf/notebook/testimage/screencapture-demo9-cmsmart-net-flower-flower-home1-2022-09-27-16_25_43.jpg: 640x288 3 banners, 3 2blocks, 2 4blocks, 1 typo, 1 gallery, 1 header, 1 footer, 77.7ms\n",
      "image 1263/2605 /tf/notebook/testimage/screencapture-demo9-cmsmart-net-flower-flower-home3-2022-09-27-16_25_59.jpg: 640x192 4 banners, 1 2block, 1 3block, 1 4block, 1 6block, 2 typos, 3 gallerys, 1 header, 1 footer, 45.7ms\n",
      "image 1264/2605 /tf/notebook/testimage/screencapture-demoapus-wp-drone-home1-2022-09-23-14_26_21.jpg: 640x160 6 banners, 1 3block, 2 4blocks, 3 typos, 1 gallery, 1 footer, 169.8ms\n",
      "image 1265/2605 /tf/notebook/testimage/screencapture-demoapus-wp-drone-home1-home-2-2022-09-23-14_26_53.jpg: 640x160 5 banners, 1 2block, 2 3blocks, 2 4blocks, 4 typos, 1 header, 6.4ms\n",
      "image 1266/2605 /tf/notebook/testimage/screencapture-demoapus-wp-drone-home1-home-3-2022-09-23-14_27_11.jpg: 640x192 3 banners, 1 2block, 1 3block, 1 4block, 2 5blocks, 1 6block, 1 typo, 1 footer, 6.9ms\n",
      "image 1267/2605 /tf/notebook/testimage/screencapture-demoapus-wp-famita-famita-fashion-home-2-2022-09-28-13_39_59.jpg: 640x352 2 banners, 1 2block, 2 4blocks, 1 header, 1 footer, 6.9ms\n"
     ]
    },
    {
     "name": "stdout",
     "output_type": "stream",
     "text": [
      "image 1268/2605 /tf/notebook/testimage/screencapture-demoapus-wp-famita-famita-fashion-home-3-2022-09-28-13_40_14.jpg: 640x384 1 banner, 1 4block, 1 5block, 1 typo, 1 header, 1 footer, 7.6ms\n",
      "image 1269/2605 /tf/notebook/testimage/screencapture-demoapus-wp-famita-famita-fashion-home-5-2022-09-28-13_40_27.jpg: 640x384 1 4block, 1 typo, 1 gallery, 1 header, 1 footer, 6.2ms\n",
      "image 1270/2605 /tf/notebook/testimage/screencapture-demoapus-wp-famita-famita-fashion-home-6-2022-09-28-13_40_34.jpg: 640x352 2 banners, 1 2block, 1 3block, 3 4blocks, 1 typo, 1 header, 1 footer, 7.3ms\n",
      "image 1271/2605 /tf/notebook/testimage/screencapture-demoapus-wp-famita-famita-fashion-home-7-2022-09-28-13_40_42.jpg: 640x448 3 banners, 1 gallery, 1 header, 1 footer, 7.4ms\n",
      "image 1272/2605 /tf/notebook/testimage/screencapture-demoapus-wp-famita-famita-fashion-home-creative-2022-09-28-13_41_49.jpg: 640x352 1 banner, 1 2block, 1 header, 2 footers, 7.3ms\n",
      "image 1273/2605 /tf/notebook/testimage/screencapture-demoapus-wp-famita-famita-furniture-2022-09-28-13_41_13.jpg: 640x416 2 banners, 2 4blocks, 2 typos, 1 header, 1 footer, 7.2ms\n",
      "image 1274/2605 /tf/notebook/testimage/screencapture-demoapus-wp-greenorganic-2022-09-28-10_06_41.jpg: 640x256 2 banners, 3 2blocks, 3 3blocks, 1 4block, 1 header, 1 footer, 12.5ms\n",
      "image 1275/2605 /tf/notebook/testimage/screencapture-demoapus-wp-greenorganic-home-2-2022-09-28-10_06_47.jpg: 640x256 3 banners, 3 2blocks, 1 4block, 1 gallery, 1 header, 1 footer, 14.3ms\n",
      "image 1276/2605 /tf/notebook/testimage/screencapture-demoapus-wp-greenorganic-home-3-2022-09-28-10_06_55.jpg: 640x288 3 banners, 2 2blocks, 1 3block, 2 4blocks, 1 header, 1 footer, 28.2ms\n",
      "image 1277/2605 /tf/notebook/testimage/screencapture-demoapus-wp-greenorganic-home-5-2022-09-28-10_07_08.jpg: 640x352 1 banner, 3 3blocks, 3 4blocks, 1 5block, 1 6block, 1 header, 1 footer, 32.4ms\n",
      "image 1278/2605 /tf/notebook/testimage/screencapture-demoapus-wp-kossy-kossy12345-home-10-2022-09-26-17_16_44.jpg: 640x608 1 2block, 1 3block, 3 typos, 1 gallery, 1 header, 1 footer, 64.0ms\n",
      "image 1279/2605 /tf/notebook/testimage/screencapture-demoapus-wp-kossy-kossy12345-home-3-2022-09-26-17_15_25.jpg: 640x512 2 banners, 1 gallery, 1 header, 1 footer, 64.1ms\n",
      "image 1280/2605 /tf/notebook/testimage/screencapture-demoapus-wp-kossy-kossy12345-home-4-2022-09-26-17_15_46.jpg: 640x352 5 banners, 1 header, 1 footer, 38.2ms\n",
      "image 1281/2605 /tf/notebook/testimage/screencapture-demoapus-wp-kossy-kossy12345-home-5-2022-09-26-17_15_55.jpg: 640x480 2 banners, 1 3block, 2 4blocks, 1 typo, 1 gallery, 1 header, 1 footer, 123.0ms\n",
      "image 1282/2605 /tf/notebook/testimage/screencapture-demoapus-wp-kossy-kossy6-2022-09-26-17_16_04.jpg: 640x608 2 3blocks, 3 typos, 1 gallery, 1 header, 1 footer, 9.6ms\n",
      "image 1283/2605 /tf/notebook/testimage/screencapture-demoapus-wp-maison-home-metro-2022-09-27-17_50_50590.jpg: 640x416 1 3block, 1 typo, 1 gallery, 1 header, 1 footer, 7.4ms\n",
      "image 1284/2605 /tf/notebook/testimage/screencapture-demoapus-wp-mella-fashion-home-17-2022-09-27-09_48_56597.jpg: 640x352 2 banners, 1 3block, 2 4blocks, 1 header, 1 footer, 6.9ms\n",
      "image 1285/2605 /tf/notebook/testimage/screencapture-demoapus-wp-mella-fashion-home-2-2022-09-27-09_46_14592.jpg: 640x416 1 banner, 1 2block, 2 3blocks, 1 4block, 1 header, 1 footer, 8.1ms\n",
      "image 1286/2605 /tf/notebook/testimage/screencapture-demoapus-wp-mella-fashion-home-4-2022-09-27-09_46_34594.jpg: 640x480 1 banner, 1 2block, 1 4block, 1 gallery, 8.2ms\n",
      "image 1287/2605 /tf/notebook/testimage/screencapture-demoapus-wp-mella-furniture-home-11-2022-09-27-09_47_43617.jpg: 640x512 1 banner, 2 3blocks, 1 4block, 2 typos, 1 footer, 7.3ms\n",
      "image 1288/2605 /tf/notebook/testimage/screencapture-demoapus-wp-mella-furniture-home-5-2022-09-27-09_46_47613.jpg: 640x512 1 banner, 2 4blocks, 1 gallery, 1 header, 1 footer, 7.2ms\n",
      "image 1289/2605 /tf/notebook/testimage/screencapture-demoapus-wp-mella-furniture-home-6-2022-09-27-09_46_57614.jpg: 640x512 2 banners, 1 typo, 1 gallery, 1 header, 34.6ms\n",
      "image 1290/2605 /tf/notebook/testimage/screencapture-demoapus-wp-mella-furniture-home-7-2022-09-27-09_47_07615.jpg: 640x480 1 banner, 1 2block, 1 4block, 3 typos, 1 header, 1 footer, 22.2ms\n",
      "image 1291/2605 /tf/notebook/testimage/screencapture-demoapus-wp-mella-furniture-home-8-2022-09-27-09_47_17616.jpg: 640x480 1 banner, 1 2block, 1 typo, 1 header, 1 footer, 36.2ms\n",
      "image 1292/2605 /tf/notebook/testimage/screencapture-demoapus2-august-home-2-2022-09-28-13_57_23.jpg: 640x192 2 banners, 2 2blocks, 1 3block, 1 4block, 1 5block, 3 6blocks, 1 7block, 1 typo, 1 header, 1 footer, 34.9ms\n",
      "image 1293/2605 /tf/notebook/testimage/screencapture-demoapus2-august-home-4-2022-09-28-13_57_55.jpg: 640x224 4 banners, 1 2block, 3 3blocks, 2 4blocks, 1 header, 1 footer, 31.7ms\n",
      "image 1294/2605 /tf/notebook/testimage/screencapture-demoapus2-august-home-5-2022-09-28-13_58_14.jpg: 640x192 2 banners, 2 2blocks, 4 3blocks, 2 4blocks, 1 typo, 1 header, 1 footer, 38.9ms\n",
      "image 1295/2605 /tf/notebook/testimage/screencapture-demoapus2-capie-2022-09-26-17_41_44.jpg: 640x416 1 banner, 2 3blocks, 3 4blocks, 1 header, 1 footer, 59.5ms\n",
      "image 1296/2605 /tf/notebook/testimage/screencapture-demoapus2-capie-home-categories-2022-09-26-17_41_52.jpg: 640x640 2 6blocks, 3 typos, 1 header, 177.4ms\n",
      "image 1297/2605 /tf/notebook/testimage/screencapture-demoapus2-capie-home-classic-2022-09-26-17_42_14.jpg: 640x416 1 banner, 1 3block, 2 4blocks, 2 typos, 1 gallery, 1 header, 1 footer, 33.3ms\n",
      "image 1298/2605 /tf/notebook/testimage/screencapture-demoapus2-capie-home-creative-2022-09-26-17_50_27.jpg: 640x512 2 banners, 1 2block, 1 typo, 1 header, 1 footer, 60.3ms\n",
      "image 1299/2605 /tf/notebook/testimage/screencapture-demoapus2-capie-home-funiture-2022-09-26-17_52_00.jpg: 640x640 1 6block, 1 typo, 1 gallery, 2 headers, 46.6ms\n",
      "image 1300/2605 /tf/notebook/testimage/screencapture-demoapus2-capie-home-funiture-market-2022-09-26-17_56_05.jpg: 640x416 2 3blocks, 2 4blocks, 1 gallery, 1 header, 1 footer, 270.3ms\n",
      "image 1301/2605 /tf/notebook/testimage/screencapture-demoapus2-capie-home-gallery-2022-09-26-17_42_07.jpg: 608x640 1 3block, 2 4blocks, 1 header, 2 footers, 13.5ms\n",
      "image 1302/2605 /tf/notebook/testimage/screencapture-demoapus2-capie-home-instagram-2022-09-26-17_50_20.jpg: 320x640 2 typos, 1 header, 1 footer, 7.7ms\n",
      "image 1303/2605 /tf/notebook/testimage/screencapture-demoapus2-capie-home-lookbook-2022-09-26-17_50_35.jpg: 640x448 1 banner, 2 2blocks, 2 4blocks, 1 typo, 1 header, 1 footer, 8.3ms\n",
      "image 1304/2605 /tf/notebook/testimage/screencapture-demoapus2-capie-home-lookbook-funiture-2022-09-26-17_56_12.jpg: 640x544 1 banner, 4 2blocks, 1 gallery, 1 header, 1 footer, 22.1ms\n",
      "image 1305/2605 /tf/notebook/testimage/screencapture-demoapus2-capie-home-metro-2022-09-26-17_51_51.jpg: 640x448 1 2block, 1 3block, 1 4block, 1 typo, 1 gallery, 1 header, 1 footer, 21.0ms\n",
      "image 1306/2605 /tf/notebook/testimage/screencapture-demoapus2-capie-home-minimal-2022-09-26-17_31_00.jpg: 640x480 2 banners, 1 2block, 2 4blocks, 1 typo, 1 header, 1 footer, 25.4ms\n",
      "image 1307/2605 /tf/notebook/testimage/screencapture-demoapus2-capie-home-simple-2022-09-26-17_42_00.jpg: 640x544 2 banners, 1 3block, 2 4blocks, 1 typo, 1 header, 2 footers, 40.1ms\n",
      "image 1308/2605 /tf/notebook/testimage/screencapture-demoapus2-freshen-2022-09-26-16_17_28.jpg: 640x256 3 banners, 3 3blocks, 2 4blocks, 2 5blocks, 1 8block, 1 nblock, 1 header, 1 footer, 34.2ms\n",
      "image 1309/2605 /tf/notebook/testimage/screencapture-demoapus2-freshen-home-10-2022-09-26-16_20_41.jpg: 640x352 2 banners, 1 2block, 1 3block, 2 4blocks, 1 5block, 1 6block, 1 8block, 1 gallery, 1 header, 1 footer, 170.8ms\n",
      "image 1310/2605 /tf/notebook/testimage/screencapture-demoapus2-freshen-home-3-2022-09-26-16_18_40.jpg: 640x352 1 banner, 1 2block, 1 3block, 2 4blocks, 1 5block, 1 typo, 1 header, 1 footer, 6.3ms\n",
      "image 1311/2605 /tf/notebook/testimage/screencapture-demoapus2-freshen-home-4-2022-09-26-16_18_53.jpg: 640x352 1 banner, 5 4blocks, 1 5block, 1 typo, 1 gallery, 1 header, 1 footer, 8.7ms\n",
      "image 1312/2605 /tf/notebook/testimage/screencapture-demoapus2-freshen-home-5-2022-09-26-16_19_06.jpg: 640x288 1 banner, 1 2block, 1 3block, 1 4block, 4 5blocks, 1 6block, 1 header, 1 footer, 8.9ms\n"
     ]
    },
    {
     "name": "stdout",
     "output_type": "stream",
     "text": [
      "image 1313/2605 /tf/notebook/testimage/screencapture-demoapus2-freshen-home-6-2022-09-26-16_19_18.jpg: 640x288 1 banner, 1 2block, 3 3blocks, 3 4blocks, 3 5blocks, 1 typo, 1 gallery, 1 header, 1 footer, 13.6ms\n",
      "image 1314/2605 /tf/notebook/testimage/screencapture-demoapus2-freshen-home-7-2022-09-26-16_19_49.jpg: 640x256 2 banners, 1 2block, 1 3block, 1 4block, 4 6blocks, 1 7block, 1 header, 1 footer, 25.8ms\n",
      "image 1315/2605 /tf/notebook/testimage/screencapture-demoapus2-freshen-home-8-2022-09-26-16_20_02.jpg: 640x288 2 banners, 2 2blocks, 2 3blocks, 3 4blocks, 1 8block, 1 header, 1 footer, 42.2ms\n",
      "image 1316/2605 /tf/notebook/testimage/screencapture-demoapus2-freshen-home-9-2022-09-26-16_20_24.jpg: 640x320 1 banner, 1 2block, 2 4blocks, 2 5blocks, 1 6block, 1 8block, 1 gallery, 1 header, 1 footer, 36.0ms\n",
      "image 1317/2605 /tf/notebook/testimage/screencapture-demoapus2-ogami-home-2-2022-09-28-11_42_39.jpg: 640x256 2 banners, 1 2block, 1 3block, 1 4block, 1 5block, 3 6blocks, 1 nblock, 1 header, 1 footer, 54.6ms\n",
      "image 1318/2605 /tf/notebook/testimage/screencapture-demoapus2-ogami-home-4-2022-09-28-11_43_20.jpg: 640x256 4 banners, 2 3blocks, 2 4blocks, 1 6block, 2 headers, 2 footers, 31.5ms\n",
      "image 1319/2605 /tf/notebook/testimage/screencapture-demoapus2-ogami-home-5-2022-09-28-11_43_04.jpg: 640x288 2 banners, 1 2block, 3 3blocks, 1 4block, 1 6block, 1 header, 1 footer, 355.3ms\n",
      "image 1320/2605 /tf/notebook/testimage/screencapture-demoapus2-oworganic-2022-09-27-10_01_23.jpg: 640x256 1 banner, 2 2blocks, 2 3blocks, 1 4block, 1 6block, 1 typo, 1 header, 1 footer, 8.8ms\n",
      "image 1321/2605 /tf/notebook/testimage/screencapture-demoapus2-oworganic-home-2-2022-09-27-10_01_34.jpg: 640x224 2 banners, 1 2block, 2 3blocks, 1 4block, 1 gallery, 1 header, 1 footer, 7.8ms\n",
      "image 1322/2605 /tf/notebook/testimage/screencapture-demoapus2-oworganic-home-3-2022-09-27-10_01_55.jpg: 640x256 2 2blocks, 2 3blocks, 1 4block, 1 5block, 1 6block, 3 typos, 1 header, 1 footer, 7.5ms\n",
      "image 1323/2605 /tf/notebook/testimage/screencapture-demoapus2-oworganic-home-4-2022-09-27-10_02_08.jpg: 640x256 2 banners, 1 2block, 2 3blocks, 2 4blocks, 1 5block, 1 6block, 1 header, 1 footer, 9.3ms\n",
      "image 1324/2605 /tf/notebook/testimage/screencapture-demoapus2-oworganic-home-5-2022-09-27-10_02_23.jpg: 640x320 3 banners, 1 3block, 1 4block, 1 6block, 1 header, 1 footer, 18.2ms\n",
      "image 1325/2605 /tf/notebook/testimage/screencapture-demoapus2-oworganic-home-7-2022-09-27-10_02_50.jpg: 640x288 2 banners, 2 2blocks, 3 3blocks, 1 header, 1 footer, 20.2ms\n",
      "image 1326/2605 /tf/notebook/testimage/screencapture-demoapus2-oworganic-home-8-2022-09-27-10_03_02.jpg: 640x256 4 banners, 3 3blocks, 1 typo, 1 header, 1 footer, 40.4ms\n",
      "image 1327/2605 /tf/notebook/testimage/screencapture-demoapus2-uomo-home-10-2022-09-26-13_30_43537.jpg: 640x192 2 banners, 1 2block, 3 3blocks, 2 4blocks, 1 header, 1 footer, 25.8ms\n",
      "image 1328/2605 /tf/notebook/testimage/screencapture-demoapus2-uomo-home-11-2022-09-26-13_31_05538.jpg: 640x224 1 2block, 2 3blocks, 2 4blocks, 2 5blocks, 1 8block, 1 typo, 1 header, 1 footer, 26.9ms\n",
      "image 1329/2605 /tf/notebook/testimage/screencapture-demoapus2-uomo-home-12-2022-09-26-13_31_24539.jpg: 640x256 1 banner, 2 4blocks, 4 5blocks, 1 typo, 1 header, 1 footer, 38.0ms\n",
      "image 1330/2605 /tf/notebook/testimage/screencapture-demoapus2-uomo-home-13-2022-09-26-13_31_39540.jpg: 640x288 2 banners, 1 2block, 2 4blocks, 1 6block, 1 7block, 1 nblock, 1 header, 1 footer, 37.2ms\n",
      "image 1331/2605 /tf/notebook/testimage/screencapture-demoapus2-uomo-home-14-2022-09-26-13_32_02541.jpg: 640x256 1 banner, 2 3blocks, 4 5blocks, 1 6block, 1 header, 1 footer, 38.3ms\n",
      "image 1332/2605 /tf/notebook/testimage/screencapture-demoapus2-uomo-home-15-2022-09-26-13_32_17542.jpg: 640x224 1 banner, 1 2block, 1 3block, 4 4blocks, 2 7blocks, 1 8block, 1 header, 1 footer, 108.2ms\n",
      "image 1333/2605 /tf/notebook/testimage/screencapture-demoapus2-uomo-home-16-2022-09-26-13_32_35543.jpg: 640x224 2 banners, 1 2block, 3 3blocks, 2 4blocks, 1 typo, 1 header, 1 footer, 78.4ms\n",
      "image 1334/2605 /tf/notebook/testimage/screencapture-demoapus2-uomo-home-18-2022-09-26-13_33_11545.jpg: 640x256 2 3blocks, 2 4blocks, 3 6blocks, 1 7block, 1 8block, 1 gallery, 1 header, 1 footer, 303.4ms\n",
      "image 1335/2605 /tf/notebook/testimage/screencapture-demoapus2-uomo-home-2-2022-09-26-13_39_38529.jpg: 640x224 2 banners, 2 3blocks, 2 4blocks, 1 5block, 1 7block, 2 headers, 1 footer, 10.8ms\n",
      "image 1336/2605 /tf/notebook/testimage/screencapture-demoapus2-uomo-home-20-2022-09-26-13_33_50547.jpg: 640x224 2 banners, 3 3blocks, 2 4blocks, 1 6block, 1 typo, 1 header, 1 footer, 7.2ms\n",
      "image 1337/2605 /tf/notebook/testimage/screencapture-demoapus2-uomo-home-22-2022-09-26-13_35_00549.jpg: 640x192 2 2blocks, 1 3block, 4 4blocks, 1 5block, 1 typo, 1 header, 1 footer, 6.9ms\n",
      "image 1338/2605 /tf/notebook/testimage/screencapture-demoapus2-uomo-home-3-2022-09-26-13_28_39530.jpg: 640x256 1 banner, 1 2block, 1 4block, 1 5block, 1 8block, 1 nblock, 1 typo, 1 header, 1 footer, 8.2ms\n",
      "image 1339/2605 /tf/notebook/testimage/screencapture-demoapus2-uomo-home-4-2022-09-26-13_28_58531.jpg: 640x192 1 banner, 1 2block, 4 4blocks, 1 typo, 2 headers, 1 footer, 17.8ms\n",
      "image 1340/2605 /tf/notebook/testimage/screencapture-demoapus2-uomo-home-5-2022-09-26-13_29_12532.jpg: 640x224 1 banner, 1 2block, 2 3blocks, 2 4blocks, 2 5blocks, 1 8block, 1 header, 1 footer, 17.7ms\n",
      "image 1341/2605 /tf/notebook/testimage/screencapture-demoapus2-uomo-home-7-2022-09-26-13_29_46534.jpg: 640x224 2 banners, 1 3block, 1 4block, 1 typo, 2 gallerys, 1 header, 1 footer, 17.8ms\n",
      "image 1342/2605 /tf/notebook/testimage/screencapture-demoapus2-uomo-home-9-2022-09-26-13_30_23536.jpg: 640x224 2 banners, 2 3blocks, 1 4block, 1 7block, 2 8blocks, 1 typo, 1 gallery, 1 header, 1 footer, 20.1ms\n",
      "image 1343/2605 /tf/notebook/testimage/screencapture-demoapus2-vegan-home-2-2022-09-27-14_30_05.jpg: 640x256 5 banners, 1 2block, 3 4blocks, 1 header, 1 footer, 27.9ms\n",
      "image 1344/2605 /tf/notebook/testimage/screencapture-demoapus2-vegan-home-3-2022-09-27-14_30_14.jpg: 640x256 1 banner, 1 2block, 1 3block, 1 4block, 1 typo, 4 gallerys, 2 headers, 3 footers, 43.1ms\n",
      "image 1345/2605 /tf/notebook/testimage/screencapture-demoapus2-vegan-home-4-2022-09-27-14_30_31.jpg: 640x384 1 banner, 1 3block, 2 6blocks, 1 gallery, 1 header, 1 footer, 61.4ms\n",
      "image 1346/2605 /tf/notebook/testimage/screencapture-demoapus2-vegan-home-5-2022-09-27-14_30_39.jpg: 640x416 1 banner, 2 2blocks, 1 4block, 1 6block, 1 gallery, 1 header, 1 footer, 7.2ms\n",
      "image 1347/2605 /tf/notebook/testimage/screencapture-demos-reytheme-amsterdam-2022-09-22-14_28_45.jpg: 640x256 3 banners, 2 2blocks, 2 3blocks, 1 4block, 2 6blocks, 1 7block, 1 nblock, 2 headers, 1 footer, 7.5ms\n",
      "image 1348/2605 /tf/notebook/testimage/screencapture-demos-reytheme-athens-2022-09-22-14_33_22.jpg: 640x448 1 banner, 2 3blocks, 2 4blocks, 2 6blocks, 1 nblock, 1 gallery, 1 header, 1 footer, 7.3ms\n",
      "image 1349/2605 /tf/notebook/testimage/screencapture-demos-reytheme-beijing-2022-09-22-14_29_18.jpg: 640x256 2 banners, 2 2blocks, 1 3block, 2 4blocks, 1 5block, 1 6block, 1 typo, 1 header, 1 footer, 7.9ms\n",
      "image 1350/2605 /tf/notebook/testimage/screencapture-demos-reytheme-frankfurt-2022-09-22-14_33_41.jpg: 640x448 1 banner, 1 2block, 1 3block, 2 4blocks, 1 5block, 1 7block, 1 nblock, 1 header, 1 footer, 7.2ms\n",
      "image 1351/2605 /tf/notebook/testimage/screencapture-demos-reytheme-london-2022-09-22-14_27_28.jpg: 640x320 2 banners, 1 2block, 3 3blocks, 2 4blocks, 1 6block, 1 gallery, 1 header, 1 footer, 6.6ms\n",
      "image 1352/2605 /tf/notebook/testimage/screencapture-demos-reytheme-london-collections-2022-09-22-14_46_41.jpg: 640x416 1 3block, 1 header, 1 footer, 32.1ms\n",
      "image 1353/2605 /tf/notebook/testimage/screencapture-demos-reytheme-london-journal-2022-09-22-14_46_21.jpg: 640x448 1 2block, 1 header, 1 footer, 66.4ms\n",
      "image 1354/2605 /tf/notebook/testimage/screencapture-demos-reytheme-london-sale-2022-09-22-14_46_05.jpg: 576x640 1 2block, 1 typo, 4 headers, 2 footers, 53.7ms\n",
      "image 1355/2605 /tf/notebook/testimage/screencapture-demos-reytheme-melbourne-discover-us-2022-09-22-14_47_47.jpg: 640x576 2 banners, 1 2block, 1 3block, 3 typos, 1 header, 1 footer, 67.3ms\n"
     ]
    },
    {
     "name": "stdout",
     "output_type": "stream",
     "text": [
      "image 1356/2605 /tf/notebook/testimage/screencapture-demos-reytheme-milano-2022-09-22-14_30_13.jpg: 640x288 2 banners, 2 2blocks, 3 4blocks, 1 6block, 1 typo, 2 headers, 1 footer, 86.2ms\n",
      "image 1357/2605 /tf/notebook/testimage/screencapture-demos-reytheme-newyork-2022-09-22-14_30_50.jpg: 640x352 3 banners, 1 2block, 2 3blocks, 1 4block, 1 header, 1 footer, 30.4ms\n",
      "image 1358/2605 /tf/notebook/testimage/screencapture-demos-reytheme-valencia-2022-09-22-14_27_52.jpg: 640x160 2 banners, 2 2blocks, 1 3block, 1 typo, 2 gallerys, 1 header, 1 footer, 21.1ms\n",
      "image 1359/2605 /tf/notebook/testimage/screencapture-demowp-codeopus-id-cake-homepage2-2022-09-28-13_53_13931.jpg: 640x448 3 banners, 1 4block, 1 typo, 1 header, 1 footer, 39.6ms\n",
      "image 1360/2605 /tf/notebook/testimage/screencapture-demowp-codeopus-id-cake-homepage4-2022-09-28-13_53_36933.jpg: 640x576 3 banners, 1 3block, 1 header, 1 footer, 122.6ms\n",
      "image 1361/2605 /tf/notebook/testimage/screencapture-department-ssg-specialStore-longchamp-main-ssg-2022-09-29-11_41_28.jpg: 640x160 2 banners, 1 2block, 5 4blocks, 1 header, 17.2ms\n",
      "image 1362/2605 /tf/notebook/testimage/screencapture-desart-co-kr-2022-09-29-09_57_57.jpg: 640x128 7 banners, 4 3blocks, 1 4block, 1 6block, 1 8block, 1 typo, 1 header, 1 footer, 12.9ms\n",
      "image 1363/2605 /tf/notebook/testimage/screencapture-descentegolf-co-kr-2022-09-29-14_02_10.jpg: 640x224 5 banners, 3 5blocks, 1 header, 1 footer, 16.8ms\n",
      "image 1364/2605 /tf/notebook/testimage/screencapture-design-lab-co-kr-2022-09-29-16_57_15.jpg: 640x512 2 banners, 2 4blocks, 1 header, 1 footer, 40.9ms\n",
      "image 1365/2605 /tf/notebook/testimage/screencapture-devicer-cmsmasters-net-2022-09-28-10_45_15.jpg: 640x256 1 banner, 2 2blocks, 3 3blocks, 4 4blocks, 1 5block, 1 typo, 1 header, 1 footer, 23.5ms\n",
      "image 1366/2605 /tf/notebook/testimage/screencapture-devicer-cmsmasters-net-style-2-2022-09-28-10_45_32.jpg: 640x288 1 banner, 3 2blocks, 2 3blocks, 2 4blocks, 1 typo, 1 header, 1 footer, 222.5ms\n",
      "image 1367/2605 /tf/notebook/testimage/screencapture-devicer-cmsmasters-net-style-3-2022-09-28-10_45_47.jpg: 640x320 2 banners, 1 2block, 1 3block, 3 4blocks, 1 gallery, 1 header, 1 footer, 6.6ms\n",
      "image 1368/2605 /tf/notebook/testimage/screencapture-devicer-cmsmasters-net-style-4-2022-09-28-10_47_03.jpg: 640x288 3 banners, 1 2block, 1 3block, 3 4blocks, 2 gallerys, 1 header, 1 footer, 8.4ms\n",
      "image 1369/2605 /tf/notebook/testimage/screencapture-devicer-cmsmasters-net-style-5-2022-09-28-10_47_10.jpg: 640x320 2 banners, 3 2blocks, 2 3blocks, 2 4blocks, 1 header, 1 footer, 6.8ms\n",
      "image 1370/2605 /tf/notebook/testimage/screencapture-devsnews-wp-gocart-home-2-2022-09-27-15_32_12.jpg: 640x256 2 banners, 1 2block, 1 3block, 1 4block, 1 5block, 1 gallery, 1 header, 1 footer, 22.1ms\n",
      "image 1371/2605 /tf/notebook/testimage/screencapture-devsnews-wp-gocart-home-3-2022-09-27-15_32_19.jpg: 640x224 1 banner, 1 2block, 1 3block, 6 4blocks, 1 typo, 1 gallery, 1 header, 1 footer, 20.9ms\n",
      "image 1372/2605 /tf/notebook/testimage/screencapture-devsnews-wp-retbo-2022-09-27-11_20_26.jpg: 640x288 3 banners, 1 3block, 2 4blocks, 1 5block, 2 gallerys, 2 headers, 36.9ms\n",
      "image 1373/2605 /tf/notebook/testimage/screencapture-devsnews-wp-retbo-home-3-2022-09-27-11_20_41.jpg: 640x320 2 banners, 2 4blocks, 2 5blocks, 1 gallery, 1 header, 1 footer, 28.7ms\n",
      "image 1374/2605 /tf/notebook/testimage/screencapture-devsnews-wp-retbo-home-4-2022-09-27-11_20_47.jpg: 640x320 1 banner, 1 2block, 1 3block, 4 4blocks, 1 5block, 1 8block, 1 gallery, 1 header, 1 footer, 38.8ms\n",
      "image 1375/2605 /tf/notebook/testimage/screencapture-devsnews-wp-retbo-home-5-2022-09-27-11_20_53.jpg: 640x288 2 banners, 1 2block, 3 3blocks, 2 4blocks, 1 5block, 1 header, 1 footer, 58.2ms\n",
      "image 1376/2605 /tf/notebook/testimage/screencapture-dfdplus-co-kr-2022-09-29-13_42_06.jpg: 640x128 3 banners, 3 2blocks, 2 3blocks, 1 4block, 3 5blocks, 1 6block, 1 header, 1 footer, 28.9ms\n",
      "image 1377/2605 /tf/notebook/testimage/screencapture-di-blanc-co-kr-2022-09-29-15_51_09.jpg: 640x128 1 banner, 1 2block, 1 3block, 1 typo, 1 gallery, 1 header, 1 footer, 59.3ms\n",
      "image 1378/2605 /tf/notebook/testimage/screencapture-diamind-lpdthemesdemo-home-iii-2022-09-27-11_22_53.jpg: 640x192 2 banners, 2 2blocks, 1 3block, 1 4block, 1 6block, 1 typo, 1 gallery, 1 header, 1 footer, 48.0ms\n",
      "image 1379/2605 /tf/notebook/testimage/screencapture-diamind-lpdthemesdemo-home-ix-2022-09-27-11_24_39.jpg: 640x416 2 banners, 1 2block, 1 4block, 1 header, 1 footer, 124.6ms\n",
      "image 1380/2605 /tf/notebook/testimage/screencapture-diamind-lpdthemesdemo-home-v-2022-09-27-11_23_45.jpg: 640x224 3 banners, 1 2block, 2 3blocks, 2 4blocks, 2 5blocks, 1 header, 1 footer, 133.3ms\n",
      "image 1381/2605 /tf/notebook/testimage/screencapture-diamind-lpdthemesdemo-home-vii-2022-09-27-11_24_19.jpg: 640x288 2 banners, 2 2blocks, 2 4blocks, 1 6block, 1 header, 1 footer, 28.6ms\n",
      "image 1382/2605 /tf/notebook/testimage/screencapture-diamind-lpdthemesdemo-home-viii-2022-09-27-11_24_30.jpg: 640x320 3 2blocks, 2 3blocks, 1 4block, 1 header, 2 footers, 21.0ms\n",
      "image 1383/2605 /tf/notebook/testimage/screencapture-diamind-lpdthemesdemo-home-x-2022-09-27-11_32_47.jpg: 640x320 1 banner, 2 2blocks, 1 3block, 3 4blocks, 1 header, 1 footer, 23.5ms\n",
      "image 1384/2605 /tf/notebook/testimage/screencapture-diamind-lpdthemesdemo-home-xii-2022-09-27-11_33_07.jpg: 640x320 1 banner, 3 3blocks, 2 4blocks, 1 5block, 1 header, 1 footer, 28.3ms\n",
      "image 1385/2605 /tf/notebook/testimage/screencapture-diassy2021-familab-net-2022-09-27-17_47_381010.jpg: 640x384 2 banners, 1 2block, 1 3block, 1 4block, 2 typos, 1 header, 1 footer, 77.4ms\n",
      "image 1386/2605 /tf/notebook/testimage/screencapture-diassy2021-familab-net-home-02-2022-09-27-17_48_491011.jpg: 640x384 1 banner, 1 2block, 2 3blocks, 1 4block, 1 typo, 1 header, 1 footer, 221.7ms\n",
      "image 1387/2605 /tf/notebook/testimage/screencapture-didierdubot-co-kr-2022-09-29-10_46_39.jpg: 640x128 2 banners, 3 3blocks, 3 4blocks, 1 5block, 1 gallery, 1 header, 1 footer, 7.7ms\n",
      "image 1388/2605 /tf/notebook/testimage/screencapture-digi-nasatheme-2022-09-27-10_34_10.jpg: 640x256 2 banners, 1 2block, 1 3block, 2 4blocks, 1 5block, 1 6block, 1 8block, 1 gallery, 1 header, 1 footer, 7.8ms\n",
      "image 1389/2605 /tf/notebook/testimage/screencapture-digi-nasatheme-homepage-3-2022-09-27-10_35_18.jpg: 640x384 2 2blocks, 1 3block, 1 5block, 1 6block, 2 gallerys, 1 header, 1 footer, 6.6ms\n",
      "image 1390/2605 /tf/notebook/testimage/screencapture-digue-2022-09-29-13_40_53.jpg: 640x224 2 2blocks, 1 4block, 1 header, 1 footer, 7.0ms\n",
      "image 1391/2605 /tf/notebook/testimage/screencapture-dior-ko-kr-2022-09-28-16_35_31.jpg: 640x544 1 2block, 1 typo, 1 header, 21.3ms\n",
      "image 1392/2605 /tf/notebook/testimage/screencapture-disbunnystar-co-kr-2022-09-30-09_59_18.jpg: 640x160 6 banners, 2 2blocks, 7 4blocks, 2 headers, 1 footer, 14.6ms\n",
      "image 1393/2605 /tf/notebook/testimage/screencapture-disco-j-co-kr-2022-09-29-10_13_51.jpg: 640x192 1 3block, 2 4blocks, 1 header, 1 footer, 19.7ms\n",
      "image 1394/2605 /tf/notebook/testimage/screencapture-discosalon-co-kr-2022-09-29-13_24_10.jpg: 640x128 1 3block, 5 4blocks, 2 5blocks, 1 header, 18.3ms\n",
      "image 1395/2605 /tf/notebook/testimage/screencapture-discovery-expedition-main-mall-view-2022-09-28-16_58_23.jpg: 640x160 2 banners, 3 2blocks, 5 4blocks, 1 typo, 1 header, 1 footer, 24.4ms\n",
      "image 1396/2605 /tf/notebook/testimage/screencapture-disho-yahoothemes-net-2022-09-27-11_34_17.jpg: 640x288 2 banners, 1 2block, 3 3blocks, 1 4block, 1 6block, 1 typo, 1 gallery, 1 header, 1 footer, 47.7ms\n",
      "image 1397/2605 /tf/notebook/testimage/screencapture-disho-yahoothemes-net-disho-home-02-2022-09-27-11_34_28.jpg: 640x320 1 banner, 1 2block, 4 3blocks, 1 4block, 1 6block, 1 gallery, 1 header, 1 footer, 37.9ms\n",
      "image 1398/2605 /tf/notebook/testimage/screencapture-disho-yahoothemes-net-disho-home-03-2022-09-27-11_34_37.jpg: 640x352 1 banner, 2 2blocks, 2 3blocks, 2 4blocks, 1 header, 1 footer, 270.7ms\n",
      "image 1399/2605 /tf/notebook/testimage/screencapture-display-cjonstyle-p-homeTab-main-2022-09-29-14_51_00.jpg: 640x96 1 banner, 3 2blocks, 1 4block, 1 6block, 1 gallery, 1 header, 7.1ms\n",
      "image 1400/2605 /tf/notebook/testimage/screencapture-dj2-co-kr-2022-09-29-13_18_37.jpg: 640x96 1 banner, 2 3blocks, 1 4block, 1 typo, 1 footer, 6.3ms\n"
     ]
    },
    {
     "name": "stdout",
     "output_type": "stream",
     "text": [
      "image 1401/2605 /tf/notebook/testimage/screencapture-dmotion-kr-main-index-php-2022-09-29-15_06_24.jpg: 640x480 1 banner, 1 3block, 3 5blocks, 2 typos, 1 header, 1 footer, 7.6ms\n",
      "image 1402/2605 /tf/notebook/testimage/screencapture-dodostyle-2022-09-29-16_14_46.jpg: 640x160 2 banners, 1 3block, 1 4block, 1 nblock, 1 gallery, 1 header, 1 footer, 7.5ms\n",
      "image 1403/2605 /tf/notebook/testimage/screencapture-dokbonam-2022-09-29-09_22_16.jpg: 640x96 1 banner, 1 3block, 2 4blocks, 1 gallery, 1 footer, 7.1ms\n",
      "image 1404/2605 /tf/notebook/testimage/screencapture-doma-wp1-zootemplate-home-10-2022-09-28-10_40_01.jpg: 640x256 2 banners, 1 2block, 3 3blocks, 1 header, 1 footer, 7.8ms\n",
      "image 1405/2605 /tf/notebook/testimage/screencapture-doma-wp1-zootemplate-home-3-2022-09-28-10_39_21.jpg: 640x320 1 banner, 1 4block, 1 gallery, 1 header, 1 footer, 10.3ms\n",
      "image 1406/2605 /tf/notebook/testimage/screencapture-doma-wp1-zootemplate-home-4-2022-09-28-10_39_26.jpg: 640x416 1 banner, 2 5blocks, 1 gallery, 1 header, 1 footer, 7.2ms\n",
      "image 1407/2605 /tf/notebook/testimage/screencapture-doma-wp1-zootemplate-home-5-2022-09-28-10_39_31.jpg: 640x384 1 banner, 1 4block, 1 gallery, 1 header, 1 footer, 6.7ms\n",
      "image 1408/2605 /tf/notebook/testimage/screencapture-doma-wp1-zootemplate-home-6-2022-09-28-10_39_36.jpg: 640x320 2 banners, 3 3blocks, 1 header, 1 footer, 25.6ms\n",
      "image 1409/2605 /tf/notebook/testimage/screencapture-doma-wp1-zootemplate-home-7-2022-09-28-10_39_42.jpg: 640x320 1 banner, 1 2block, 2 3blocks, 1 header, 1 footer, 26.4ms\n",
      "image 1410/2605 /tf/notebook/testimage/screencapture-doma-wp1-zootemplate-home-8-2022-09-28-10_39_49.jpg: 640x288 1 banner, 1 typo, 2 gallerys, 1 header, 1 footer, 27.9ms\n",
      "image 1411/2605 /tf/notebook/testimage/screencapture-doma-wp1-zootemplate-home-9-2022-09-28-10_39_55.jpg: 640x320 2 banners, 3 3blocks, 1 header, 1 footer, 38.1ms\n",
      "image 1412/2605 /tf/notebook/testimage/screencapture-domelink-co-kr-2022-09-29-15_16_54.jpg: 640x320 2 banners, 4 4blocks, 2 typos, 1 header, 1 footer, 35.6ms\n",
      "image 1413/2605 /tf/notebook/testimage/screencapture-domemedb-domeggook-index-2022-09-29-15_17_27.jpg: 640x192 4 banners, 3 2blocks, 1 3block, 1 4block, 7 5blocks, 2 6blocks, 1 7block, 1 typo, 2 gallerys, 1 header, 1 footer, 151.2ms\n",
      "image 1414/2605 /tf/notebook/testimage/screencapture-dongwonmall-display-best100-do-2022-09-29-14_31_34.jpg: 640x128 1 banner, 1 4block, 1 5block, 1 nblock, 1 header, 10.9ms\n",
      "image 1415/2605 /tf/notebook/testimage/screencapture-dove-themeftc-2022-09-26-14_36_501034.jpg: 640x224 4 banners, 1 3block, 1 4block, 2 gallerys, 1 header, 1 footer, 7.6ms\n",
      "image 1416/2605 /tf/notebook/testimage/screencapture-dparks-co-kr-2022-09-30-09_34_50.jpg: 640x128 3 banners, 3 2blocks, 5 3blocks, 3 4blocks, 1 header, 2 footers, 7.3ms\n",
      "image 1417/2605 /tf/notebook/testimage/screencapture-drjstory-2022-09-29-13_53_40.jpg: 640x96 2 2blocks, 2 4blocks, 1 6block, 1 footer, 6.6ms\n",
      "image 1418/2605 /tf/notebook/testimage/screencapture-drmodoo-2022-09-28-16_37_42.jpg: 640x256 2 banners, 1 2block, 1 4block, 2 gallerys, 1 header, 1 footer, 14.2ms\n",
      "image 1419/2605 /tf/notebook/testimage/screencapture-dropshop-co-kr-2022-09-29-13_40_58.jpg: 640x224 1 banner, 4 4blocks, 1 5block, 1 header, 1 footer, 15.4ms\n",
      "image 1420/2605 /tf/notebook/testimage/screencapture-druck-7uptheme-net-home-3-2022-09-28-13_35_571038.jpg: 640x192 1 banner, 2 2blocks, 3 3blocks, 3 typos, 2 gallerys, 1 header, 1 footer, 15.4ms\n",
      "image 1421/2605 /tf/notebook/testimage/screencapture-druck-7uptheme-net-home-4-2022-09-28-13_36_051039.jpg: 640x288 3 banners, 1 2block, 4 3blocks, 1 gallery, 1 header, 1 footer, 21.5ms\n",
      "image 1422/2605 /tf/notebook/testimage/screencapture-druck-7uptheme-net-home-5-2022-09-28-13_36_101040.jpg: 640x224 2 banners, 5 2blocks, 1 3block, 1 4block, 3 typos, 1 header, 1 footer, 22.6ms\n",
      "image 1423/2605 /tf/notebook/testimage/screencapture-dtiva-wpengine-home-ii-2022-09-27-13_32_20.jpg: 640x192 4 banners, 2 2blocks, 1 3block, 2 4blocks, 1 6block, 1 header, 1 footer, 31.8ms\n",
      "image 1424/2605 /tf/notebook/testimage/screencapture-dtiva-wpengine-home-iii-2022-09-27-13_32_30.jpg: 640x192 3 banners, 1 2block, 2 3blocks, 2 4blocks, 1 6block, 1 gallery, 1 header, 1 footer, 30.7ms\n",
      "image 1425/2605 /tf/notebook/testimage/screencapture-dtiva-wpengine-home-iv-2022-09-27-13_32_39.jpg: 640x160 3 banners, 1 2block, 3 3blocks, 2 4blocks, 2 6blocks, 1 header, 1 footer, 95.3ms\n",
      "image 1426/2605 /tf/notebook/testimage/screencapture-duckdive-co-kr-2022-09-29-16_49_04.jpg: 640x384 1 2block, 2 4blocks, 1 header, 1 footer, 57.5ms\n",
      "image 1427/2605 /tf/notebook/testimage/screencapture-duem-co-kr-2022-09-28-16_41_55.jpg: 640x224 3 banners, 1 2block, 1 3block, 1 4block, 1 6block, 1 7block, 1 gallery, 1 header, 1 footer, 26.4ms\n",
      "image 1428/2605 /tf/notebook/testimage/screencapture-dukaken-g5plus-net-baby-2022-09-28-14_10_15.jpg: 640x448 2 banners, 1 6block, 1 gallery, 1 header, 44.7ms\n",
      "image 1429/2605 /tf/notebook/testimage/screencapture-dukaken-g5plus-net-bags-2022-09-28-14_10_54.jpg: 640x352 2 banners, 1 3block, 1 4block, 1 6block, 1 gallery, 1 header, 1 footer, 62.7ms\n",
      "image 1430/2605 /tf/notebook/testimage/screencapture-dukaken-g5plus-net-barber-2022-09-28-14_11_05.jpg: 640x224 7 banners, 1 4block, 1 typo, 1 header, 23.6ms\n",
      "image 1431/2605 /tf/notebook/testimage/screencapture-dukaken-g5plus-net-bike-2022-09-28-14_11_17.jpg: 640x384 4 banners, 1 4block, 1 header, 35.2ms\n",
      "image 1432/2605 /tf/notebook/testimage/screencapture-dukaken-g5plus-net-fashion-2022-09-28-14_12_20.jpg: 640x352 2 banners, 1 gallery, 1 header, 1 footer, 27.9ms\n",
      "image 1433/2605 /tf/notebook/testimage/screencapture-dukaken-g5plus-net-jewellery-2022-09-28-14_11_39.jpg: 640x288 1 banner, 2 3blocks, 2 4blocks, 1 typo, 1 gallery, 1 header, 1 footer, 25.0ms\n",
      "image 1434/2605 /tf/notebook/testimage/screencapture-dukaken-g5plus-net-watches-2022-09-28-14_10_46.jpg: 640x384 2 banners, 1 3block, 1 4block, 1 6block, 1 header, 1 footer, 155.2ms\n",
      "image 1435/2605 /tf/notebook/testimage/screencapture-dukamarket-kutethemes-net-2022-09-27-17_23_35.jpg: 640x352 1 banner, 1 2block, 2 3blocks, 1 4block, 4 6blocks, 1 typo, 2 gallerys, 1 header, 1 footer, 6.7ms\n",
      "image 1436/2605 /tf/notebook/testimage/screencapture-dukamarket-kutethemes-net-2022-09-27-17_23_42.jpg: 640x352 1 banner, 1 2block, 1 3block, 1 4block, 4 6blocks, 1 typo, 2 gallerys, 1 header, 1 footer, 6.2ms\n",
      "image 1437/2605 /tf/notebook/testimage/screencapture-dukamarket-kutethemes-net-home-02-2022-09-27-17_23_48.jpg: 640x352 1 2block, 1 3block, 1 4block, 1 5block, 2 6blocks, 1 7block, 2 8blocks, 1 typo, 2 gallerys, 1 header, 1 footer, 6.6ms\n",
      "image 1438/2605 /tf/notebook/testimage/screencapture-dukamarket-kutethemes-net-home-03-2022-09-27-17_23_54.jpg: 640x384 2 3blocks, 1 4block, 3 6blocks, 1 typo, 2 gallerys, 1 header, 1 footer, 17.8ms\n",
      "image 1439/2605 /tf/notebook/testimage/screencapture-dukamarket-kutethemes-net-home-04-2022-09-27-17_23_59.jpg: 640x352 1 3block, 2 5blocks, 2 7blocks, 2 8blocks, 1 typo, 3 gallerys, 1 header, 1 footer, 51.6ms\n",
      "image 1440/2605 /tf/notebook/testimage/screencapture-dukamarket-kutethemes-net-home-05-2022-09-27-17_24_04.jpg: 640x384 1 2block, 2 3blocks, 1 4block, 1 5block, 3 6blocks, 1 typo, 2 gallerys, 1 header, 1 footer, 40.4ms\n",
      "image 1441/2605 /tf/notebook/testimage/screencapture-dukamarket-kutethemes-net-home-08-2022-09-27-17_24_18.jpg: 640x416 1 2block, 1 3block, 1 5block, 2 6blocks, 1 8block, 2 gallerys, 1 header, 1 footer, 54.2ms\n",
      "image 1442/2605 /tf/notebook/testimage/screencapture-dukamarket-kutethemes-net-home-09-2022-09-27-17_24_24.jpg: 640x256 2 banners, 1 2block, 1 3block, 2 5blocks, 1 6block, 1 8block, 1 nblock, 1 typo, 1 gallery, 1 header, 1 footer, 35.2ms\n",
      "image 1443/2605 /tf/notebook/testimage/screencapture-dukamarket-kutethemes-net-home-10-2022-09-27-17_24_30.jpg: 640x320 2 banners, 1 2block, 1 3block, 1 4block, 2 6blocks, 1 7block, 1 gallery, 1 header, 1 footer, 68.9ms\n",
      "image 1444/2605 /tf/notebook/testimage/screencapture-dukamarket-kutethemes-net-home-11-2022-09-27-17_24_36.jpg: 640x320 3 banners, 1 2block, 1 3block, 1 4block, 2 5blocks, 2 6blocks, 1 header, 1 footer, 67.2ms\n",
      "image 1445/2605 /tf/notebook/testimage/screencapture-dukamarket-kutethemes-net-home-12-2022-09-27-17_24_41.jpg: 640x320 2 banners, 1 2block, 1 3block, 2 4blocks, 1 5block, 3 6blocks, 1 7block, 1 header, 1 footer, 144.7ms\n"
     ]
    },
    {
     "name": "stdout",
     "output_type": "stream",
     "text": [
      "image 1446/2605 /tf/notebook/testimage/screencapture-dukamarket-kutethemes-net-home-13-2022-09-27-17_24_47.jpg: 640x288 1 4block, 1 5block, 1 6block, 7 gallerys, 1 header, 1 footer, 6.7ms\n",
      "image 1447/2605 /tf/notebook/testimage/screencapture-e-himart-co-kr-app-display-showDisplayShop-2022-09-28-17_54_08.jpg: 640x96 1 banner, 1 2block, 1 3block, 4 4blocks, 3 5blocks, 1 8block, 18 gallerys, 1 header, 1 footer, 8.3ms\n",
      "image 1448/2605 /tf/notebook/testimage/screencapture-eastpak-co-kr-2022-09-29-13_58_00.jpg: 640x288 4 banners, 1 3block, 1 4block, 1 typo, 1 header, 15.9ms\n",
      "image 1449/2605 /tf/notebook/testimage/screencapture-eastwood-kr-2022-09-29-11_30_01.jpg: 640x128 6 banners, 1 2block, 6 3blocks, 5 4blocks, 3 5blocks, 1 typo, 1 header, 1 footer, 12.6ms\n",
      "image 1450/2605 /tf/notebook/testimage/screencapture-ebrima-wgl-demo-net-2022-09-27-10_25_31.jpg: 640x256 2 banners, 1 2block, 1 3block, 2 4blocks, 1 typo, 1 header, 1 footer, 30.3ms\n",
      "image 1451/2605 /tf/notebook/testimage/screencapture-ebrima-wgl-demo-net-footwear-2022-09-27-10_25_44.jpg: 640x256 2 banners, 1 3block, 1 4block, 1 6block, 2 gallerys, 1 header, 1 footer, 31.2ms\n",
      "image 1452/2605 /tf/notebook/testimage/screencapture-ebrima-wgl-demo-net-furniture-2022-09-27-10_25_53.jpg: 640x384 3 banners, 1 2block, 1 4block, 1 5block, 1 footer, 56.1ms\n",
      "image 1453/2605 /tf/notebook/testimage/screencapture-ebrima-wgl-demo-net-home-2022-09-27-10_25_18.jpg: 640x224 3 banners, 1 3block, 1 4block, 1 5block, 1 6block, 2 typos, 1 header, 1 footer, 110.4ms\n",
      "image 1454/2605 /tf/notebook/testimage/screencapture-ecolife-mallthemes-2022-09-26-09_44_251056.jpg: 640x320 2 banners, 2 3blocks, 2 4blocks, 1 5block, 1 6block, 2 gallerys, 1 header, 1 footer, 7.4ms\n",
      "image 1455/2605 /tf/notebook/testimage/screencapture-ecolife-mallthemes-home-organic-2-2022-09-26-09_44_331057.jpg: 640x320 2 banners, 1 2block, 3 3blocks, 2 4blocks, 1 gallery, 1 header, 1 footer, 13.7ms\n",
      "image 1456/2605 /tf/notebook/testimage/screencapture-ecolife-mallthemes-home-organic-3-2022-09-26-09_44_401058.jpg: 640x288 1 banner, 3 2blocks, 2 3blocks, 1 4block, 1 5block, 1 6block, 1 header, 1 footer, 6.6ms\n",
      "image 1457/2605 /tf/notebook/testimage/screencapture-ecolife-mallthemes-home-organic-4-2022-09-26-09_44_481059.jpg: 640x320 2 banners, 1 2block, 1 3block, 2 4blocks, 1 5block, 1 6block, 1 gallery, 1 header, 1 footer, 8.5ms\n",
      "image 1458/2605 /tf/notebook/testimage/screencapture-ecomm-thememove-activewear-home-v2-2022-09-28-15_32_11.jpg: 640x192 3 banners, 1 2block, 2 3blocks, 2 4blocks, 2 5blocks, 1 7block, 1 typo, 1 header, 1 footer, 6.6ms\n",
      "image 1459/2605 /tf/notebook/testimage/screencapture-ecomm-thememove-activewear-home-v3-2022-09-28-15_32_19.jpg: 640x256 2 banners, 1 2block, 2 3blocks, 1 4block, 2 5blocks, 1 6block, 1 header, 1 footer, 6.6ms\n",
      "image 1460/2605 /tf/notebook/testimage/screencapture-ecomm-thememove-baby-store-home-v2-2022-09-28-15_29_58.jpg: 640x320 2 banners, 2 2blocks, 1 3block, 2 4blocks, 1 5block, 1 header, 1 footer, 7.3ms\n",
      "image 1461/2605 /tf/notebook/testimage/screencapture-ecomm-thememove-cookware-2022-09-28-15_31_03.jpg: 640x256 4 2blocks, 1 3block, 2 4blocks, 1 5block, 1 typo, 1 header, 1 footer, 7.6ms\n",
      "image 1462/2605 /tf/notebook/testimage/screencapture-ecomm-thememove-cookware-home-v2-2022-09-28-15_31_10.jpg: 640x256 1 banner, 3 2blocks, 1 3block, 2 4blocks, 1 5block, 1 6block, 2 typos, 1 header, 1 footer, 13.1ms\n",
      "image 1463/2605 /tf/notebook/testimage/screencapture-ecomm-thememove-cookware-home-v3-2022-09-28-15_31_17.jpg: 640x256 2 banners, 4 2blocks, 2 3blocks, 2 4blocks, 1 header, 1 footer, 16.6ms\n",
      "image 1464/2605 /tf/notebook/testimage/screencapture-ecomm-thememove-cosmetics-2022-09-28-15_28_42.jpg: 640x224 2 banners, 2 2blocks, 2 3blocks, 3 4blocks, 3 5blocks, 1 header, 1 footer, 22.7ms\n",
      "image 1465/2605 /tf/notebook/testimage/screencapture-ecomm-thememove-cosmetics-home-v2-2022-09-28-15_28_50.jpg: 640x256 3 banners, 1 2block, 3 4blocks, 1 5block, 1 6block, 2 typos, 1 header, 1 footer, 39.7ms\n",
      "image 1466/2605 /tf/notebook/testimage/screencapture-ecomm-thememove-cosmetics-home-v3-2022-09-28-15_28_59.jpg: 640x256 3 2blocks, 2 3blocks, 2 4blocks, 1 5block, 1 gallery, 1 header, 1 footer, 25.3ms\n",
      "image 1467/2605 /tf/notebook/testimage/screencapture-ecomm-thememove-fashion-2022-09-28-15_29_34.jpg: 640x256 3 banners, 1 2block, 1 4block, 2 5blocks, 1 typo, 1 header, 1 footer, 33.3ms\n",
      "image 1468/2605 /tf/notebook/testimage/screencapture-ecomm-thememove-fashion-home-v2-2022-09-28-15_29_42.jpg: 640x320 1 banner, 1 3block, 1 4block, 1 5block, 1 typo, 1 gallery, 1 header, 74.0ms\n",
      "image 1469/2605 /tf/notebook/testimage/screencapture-ecomm-thememove-furniture-2022-09-28-15_28_15.jpg: 640x224 5 banners, 2 3blocks, 1 4block, 1 5block, 1 6block, 1 header, 1 footer, 309.7ms\n",
      "image 1470/2605 /tf/notebook/testimage/screencapture-ecomm-thememove-furniture-home-v2-2022-09-28-15_28_25.jpg: 640x256 1 banner, 2 2blocks, 1 3block, 2 4blocks, 2 5blocks, 1 typo, 1 header, 1 footer, 7.2ms\n",
      "image 1471/2605 /tf/notebook/testimage/screencapture-ecomm-thememove-furniture-home-v3-2022-09-28-15_28_35.jpg: 640x320 2 banners, 1 2block, 1 4block, 1 6block, 1 gallery, 1 header, 1 footer, 7.0ms\n",
      "image 1472/2605 /tf/notebook/testimage/screencapture-ecomm-thememove-kitchen-2022-09-28-15_30_40.jpg: 640x256 3 banners, 1 2block, 1 3block, 2 4blocks, 1 5block, 1 header, 1 footer, 11.3ms\n",
      "image 1473/2605 /tf/notebook/testimage/screencapture-ecomm-thememove-kitchen-home-v2-2022-09-28-15_30_48.jpg: 640x256 3 banners, 1 2block, 2 3blocks, 2 4blocks, 1 5block, 1 gallery, 1 header, 1 footer, 12.9ms\n",
      "image 1474/2605 /tf/notebook/testimage/screencapture-ecomm-thememove-kitchen-home-v3-2022-09-28-15_30_56.jpg: 640x256 3 banners, 1 2block, 3 4blocks, 1 header, 1 footer, 14.2ms\n",
      "image 1475/2605 /tf/notebook/testimage/screencapture-ecomm-thememove-organic-2022-09-28-15_31_38.jpg: 640x256 1 banner, 2 2blocks, 2 3blocks, 2 4blocks, 1 5block, 1 8block, 1 nblock, 1 gallery, 1 header, 1 footer, 16.8ms\n",
      "image 1476/2605 /tf/notebook/testimage/screencapture-ecomm-thememove-organic-home-v3-2022-09-28-15_31_51.jpg: 640x256 2 banners, 1 2block, 3 3blocks, 3 4blocks, 2 5blocks, 1 header, 1 footer, 17.9ms\n",
      "image 1477/2605 /tf/notebook/testimage/screencapture-ecomm-thememove-pets-home-v2-2022-09-28-15_31_31.jpg: 640x256 1 banner, 2 2blocks, 3 3blocks, 1 5block, 1 6block, 1 typo, 2 headers, 1 footer, 24.7ms\n",
      "image 1478/2605 /tf/notebook/testimage/screencapture-ecomm-thememove-plants-2022-09-28-15_29_09.jpg: 640x224 2 banners, 2 2blocks, 1 3block, 3 4blocks, 1 5block, 1 8block, 1 header, 1 footer, 23.6ms\n",
      "image 1479/2605 /tf/notebook/testimage/screencapture-ecomm-thememove-plants-home-v2-2022-09-28-15_29_18.jpg: 640x256 3 banners, 1 2block, 1 3block, 2 4blocks, 1 typo, 1 header, 1 footer, 46.4ms\n",
      "image 1480/2605 /tf/notebook/testimage/screencapture-ecomm-thememove-underwear-2022-09-28-15_30_12.jpg: 640x192 1 banner, 1 2block, 2 3blocks, 2 4blocks, 1 5block, 1 6block, 2 typos, 1 header, 1 footer, 60.5ms\n",
      "image 1481/2605 /tf/notebook/testimage/screencapture-ecomm-thememove-underwear-home-v2-2022-09-28-15_30_23.jpg: 640x288 1 banner, 1 2block, 1 3block, 3 5blocks, 1 6block, 2 nblocks, 3 typos, 1 header, 1 footer, 69.2ms\n",
      "image 1482/2605 /tf/notebook/testimage/screencapture-ecomm-thememove-underwear-home-v3-2022-09-28-15_30_32.jpg: 640x256 2 banners, 1 2block, 1 3block, 3 5blocks, 1 6block, 1 typo, 1 header, 1 footer, 66.7ms\n",
      "image 1483/2605 /tf/notebook/testimage/screencapture-ecotech-kutethemes-net-home-05-2022-09-27-10_00_131071.jpg: 640x256 3 banners, 2 2blocks, 1 3block, 2 4blocks, 2 5blocks, 1 header, 1 footer, 33.4ms\n",
      "image 1484/2605 /tf/notebook/testimage/screencapture-ecotech-kutethemes-net-home-06-2022-09-27-10_00_481072.jpg: 640x224 2 banners, 3 2blocks, 2 3blocks, 3 4blocks, 1 5block, 1 header, 1 footer, 126.9ms\n",
      "image 1485/2605 /tf/notebook/testimage/screencapture-ecotech-kutethemes-net-home-09-2022-09-27-10_01_521075.jpg: 640x256 3 banners, 2 2blocks, 2 3blocks, 2 4blocks, 1 5block, 2 headers, 1 footer, 6.9ms\n",
      "image 1486/2605 /tf/notebook/testimage/screencapture-ecotech-kutethemes-net-rtl-2022-09-27-09_59_111076.jpg: 640x320 3 banners, 2 2blocks, 1 3block, 1 4block, 2 5blocks, 2 6blocks, 1 header, 1 footer, 11.9ms\n"
     ]
    },
    {
     "name": "stdout",
     "output_type": "stream",
     "text": [
      "image 1487/2605 /tf/notebook/testimage/screencapture-eidmart-wpninjadevs-graphicland-downloads-2022-09-28-10_09_29.jpg: 640x384 2 banners, 1 4block, 1 typo, 1 header, 1 footer, 8.3ms\n",
      "image 1488/2605 /tf/notebook/testimage/screencapture-eidmart-wpninjadevs-wp-downloads-2022-09-28-10_09_24.jpg: 640x320 1 2block, 3 typos, 1 gallery, 1 header, 1 footer, 6.7ms\n",
      "image 1489/2605 /tf/notebook/testimage/screencapture-eidmart-wpninjadevs-wp-entrepreneur-2022-09-28-10_09_10.jpg: 640x224 4 banners, 4 3blocks, 1 typo, 1 gallery, 1 header, 1 footer, 7.1ms\n",
      "image 1490/2605 /tf/notebook/testimage/screencapture-eidmart-wpninjadevs-wp-minimal-2022-09-28-10_09_17.jpg: 640x224 2 banners, 3 2blocks, 2 3blocks, 2 typos, 2 gallerys, 1 header, 1 footer, 6.3ms\n",
      "image 1491/2605 /tf/notebook/testimage/screencapture-eirwen-qodeinteractive-2022-09-23-14_50_24.jpg: 640x448 2 banners, 2 3blocks, 2 4blocks, 1 6block, 1 header, 1 footer, 8.4ms\n",
      "image 1492/2605 /tf/notebook/testimage/screencapture-eirwen-qodeinteractive-2022-09-28-16_01_49.jpg: 640x352 2 2blocks, 2 3blocks, 2 4blocks, 1 6block, 1 header, 1 footer, 30.0ms\n",
      "image 1493/2605 /tf/notebook/testimage/screencapture-eirwen-qodeinteractive-beauty-store-2022-09-23-14_52_25.jpg: 640x256 5 banners, 1 3block, 1 4block, 1 header, 1 footer, 21.0ms\n",
      "image 1494/2605 /tf/notebook/testimage/screencapture-eirwen-qodeinteractive-fashion-store-2022-09-23-14_52_08.jpg: 640x288 2 banners, 2 2blocks, 1 4block, 1 6block, 1 header, 1 footer, 29.1ms\n",
      "image 1495/2605 /tf/notebook/testimage/screencapture-eirwen-qodeinteractive-furniture-store-2022-09-23-14_51_26.jpg: 640x256 4 banners, 1 4block, 2 gallerys, 1 header, 1 footer, 26.7ms\n",
      "image 1496/2605 /tf/notebook/testimage/screencapture-eirwen-qodeinteractive-interior-decor-2022-09-23-14_53_34.jpg: 640x288 3 banners, 1 2block, 1 3block, 1 header, 1 footer, 305.0ms\n",
      "image 1497/2605 /tf/notebook/testimage/screencapture-eirwen-qodeinteractive-interior-decor-2022-09-28-16_04_18.jpg: 640x288 3 banners, 1 2block, 1 3block, 1 typo, 1 header, 1 footer, 6.3ms\n",
      "image 1498/2605 /tf/notebook/testimage/screencapture-eirwen-qodeinteractive-shoe-store-2022-09-23-14_53_51.jpg: 640x576 1 banner, 1 6block, 1 gallery, 2 headers, 1 footer, 8.7ms\n",
      "image 1499/2605 /tf/notebook/testimage/screencapture-el2-thembaydev-nika-2022-09-27-14_18_43.jpg: 640x288 1 2block, 4 4blocks, 1 5block, 1 gallery, 1 header, 1 footer, 7.2ms\n",
      "image 1500/2605 /tf/notebook/testimage/screencapture-el2-thembaydev-nika-style2-home-2-2022-09-27-14_18_23.jpg: 640x288 1 banner, 1 2block, 3 3blocks, 1 4block, 2 5blocks, 1 6block, 1 typo, 1 header, 1 footer, 8.0ms\n",
      "image 1501/2605 /tf/notebook/testimage/screencapture-el2-thembaydev-nika-style2-home-3-2022-09-27-14_18_34.jpg: 640x320 2 2blocks, 2 3blocks, 2 5blocks, 1 6block, 1 7block, 1 typo, 1 header, 1 footer, 19.5ms\n",
      "image 1502/2605 /tf/notebook/testimage/screencapture-el3-thembaydev-maia-2022-09-28-10_48_391077.jpg: 640x192 2 banners, 2 2blocks, 1 3block, 3 4blocks, 1 5block, 1 6block, 1 typo, 1 header, 1 footer, 17.0ms\n",
      "image 1503/2605 /tf/notebook/testimage/screencapture-el3-thembaydev-maia-home-3-2022-09-28-10_48_501079.jpg: 640x224 1 banner, 3 2blocks, 2 3blocks, 1 typo, 1 header, 1 footer, 30.4ms\n",
      "image 1504/2605 /tf/notebook/testimage/screencapture-electro-madrasthemes-2022-09-22-13_20_16.jpg: 640x544 2 banners, 3 4blocks, 3 5blocks, 1 6block, 1 7block, 1 header, 1 footer, 60.2ms\n",
      "image 1505/2605 /tf/notebook/testimage/screencapture-electro-madrasthemes-home-v11-2022-09-22-13_22_34.jpg: 640x640 1 banner, 1 2block, 2 4blocks, 1 5block, 1 6block, 2 7blocks, 2 typos, 1 header, 1 footer, 214.8ms\n",
      "image 1506/2605 /tf/notebook/testimage/screencapture-electro-madrasthemes-home-v12-2022-09-22-13_22_52.jpg: 640x544 1 banner, 2 2blocks, 2 3blocks, 2 4blocks, 2 5blocks, 5 6blocks, 1 header, 1 footer, 11.2ms\n",
      "image 1507/2605 /tf/notebook/testimage/screencapture-electro-madrasthemes-home-v13-2022-09-22-13_23_08.jpg: 640x640 2 2blocks, 1 4block, 1 5block, 1 6block, 3 typos, 2 gallerys, 1 header, 1 footer, 9.9ms\n",
      "image 1508/2605 /tf/notebook/testimage/screencapture-electro-madrasthemes-home-v3-full-color-background-2022-09-22-13_20_46.jpg: 640x416 1 banner, 1 2block, 2 3blocks, 4 4blocks, 2 5blocks, 1 6block, 1 7block, 1 gallery, 1 header, 1 footer, 52.6ms\n",
      "image 1509/2605 /tf/notebook/testimage/screencapture-electro-madrasthemes-home-v5-2022-09-22-13_21_12.jpg: 640x480 2 banners, 1 2block, 1 3block, 2 4blocks, 1 5block, 1 6block, 3 7blocks, 2 8blocks, 1 gallery, 1 header, 1 footer, 42.8ms\n",
      "image 1510/2605 /tf/notebook/testimage/screencapture-electro-madrasthemes-home-v8-2022-09-22-13_22_01.jpg: 640x480 1 banner, 1 2block, 1 3block, 1 4block, 1 5block, 6 7blocks, 2 8blocks, 1 nblock, 1 typo, 1 gallery, 1 header, 1 footer, 102.3ms\n",
      "image 1511/2605 /tf/notebook/testimage/screencapture-elementor-zozothemes-organiky-home-2-2022-09-27-14_06_56.jpg: 640x256 1 banner, 3 2blocks, 2 3blocks, 3 4blocks, 1 typo, 1 header, 1 footer, 33.4ms\n",
      "image 1512/2605 /tf/notebook/testimage/screencapture-elementor-zozothemes-organiky-home-3-2022-09-27-14_07_07.jpg: 640x256 3 banners, 1 2block, 3 3blocks, 1 4block, 1 header, 1 footer, 38.6ms\n",
      "image 1513/2605 /tf/notebook/testimage/screencapture-elementor-zozothemes-organiky-home-5-2022-09-27-14_07_36.jpg: 640x288 3 banners, 2 2blocks, 2 3blocks, 2 4blocks, 1 header, 1 footer, 36.4ms\n",
      "image 1514/2605 /tf/notebook/testimage/screencapture-elementor4-thembay-diza-care-2022-09-27-13_08_25.jpg: 640x256 2 banners, 2 2blocks, 1 3block, 3 4blocks, 1 header, 1 footer, 82.7ms\n",
      "image 1515/2605 /tf/notebook/testimage/screencapture-elementor4-thembay-diza-medicine-2022-09-27-13_08_14.jpg: 640x288 1 banner, 2 2blocks, 3 4blocks, 1 header, 1 footer, 33.8ms\n",
      "image 1516/2605 /tf/notebook/testimage/screencapture-elementor4-thembay-kera-home-2-2022-09-27-17_00_39.jpg: 640x320 1 banner, 1 2block, 3 4blocks, 1 5block, 1 header, 1 footer, 24.9ms\n",
      "image 1517/2605 /tf/notebook/testimage/screencapture-elementor4-thembay-kera-home-3-2022-09-27-17_00_47.jpg: 640x320 1 banner, 1 2block, 1 3block, 2 4blocks, 1 header, 1 footer, 28.3ms\n",
      "image 1518/2605 /tf/notebook/testimage/screencapture-elessi-nasatheme-elementor-homepage-watch-dark-2022-09-22-14_53_55.jpg: 640x512 1 banner, 2 2blocks, 2 3blocks, 1 5block, 1 6block, 1 typo, 2 gallerys, 1 header, 1 footer, 91.0ms\n",
      "image 1519/2605 /tf/notebook/testimage/screencapture-elessi-nasatheme-homepage-8-2022-09-22-14_53_32.jpg: 640x416 2 banners, 1 2block, 1 3block, 2 4blocks, 1 6block, 1 gallery, 1 header, 1 footer, 74.4ms\n",
      "image 1520/2605 /tf/notebook/testimage/screencapture-eletra-lpdthemesdemo2-home-iii-2022-09-27-10_16_111085.jpg: 640x224 1 banner, 1 2block, 5 3blocks, 2 4blocks, 3 5blocks, 2 6blocks, 1 typo, 2 headers, 1 footer, 22.6ms\n",
      "image 1521/2605 /tf/notebook/testimage/screencapture-eletra-lpdthemesdemo2-home-iv-2022-09-27-10_17_071086.jpg: 640x224 1 banner, 1 3block, 3 4blocks, 4 5blocks, 1 6block, 1 7block, 1 typo, 2 gallerys, 1 header, 1 footer, 20.7ms\n",
      "image 1522/2605 /tf/notebook/testimage/screencapture-eletra-lpdthemesdemo2-home-v-2022-09-27-10_17_241088.jpg: 640x320 2 banners, 1 2block, 1 3block, 1 4block, 2 5blocks, 4 6blocks, 1 typo, 1 gallery, 1 header, 1 footer, 25.9ms\n",
      "image 1523/2605 /tf/notebook/testimage/screencapture-elime-novaworks-net-2022-09-27-15_01_22.jpg: 640x256 3 banners, 2 3blocks, 2 4blocks, 2 typos, 2 headers, 1 footer, 86.2ms\n",
      "image 1524/2605 /tf/notebook/testimage/screencapture-elime-novaworks-net-home-cosmetic-04-2022-09-27-15_01_31.jpg: 640x288 3 banners, 1 2block, 1 3block, 1 4block, 1 6block, 1 header, 1 footer, 54.4ms\n",
      "image 1525/2605 /tf/notebook/testimage/screencapture-elime-novaworks-net-home-cosmetic-06-2022-09-27-15_01_39.jpg: 640x224 2 banners, 2 2blocks, 3 3blocks, 1 4block, 2 6blocks, 1 header, 1 footer, 43.8ms\n",
      "image 1526/2605 /tf/notebook/testimage/screencapture-elime-novaworks-net-home-cosmetic-07-2022-09-27-15_01_48.jpg: 640x288 2 banners, 2 3blocks, 2 4blocks, 1 6block, 1 header, 1 footer, 55.4ms\n",
      "image 1527/2605 /tf/notebook/testimage/screencapture-elime-novaworks-net-home-cosmetic-08-2022-09-27-15_01_55.jpg: 640x320 2 banners, 2 2blocks, 1 4block, 1 6block, 1 typo, 1 header, 1 footer, 26.2ms\n",
      "image 1528/2605 /tf/notebook/testimage/screencapture-elime-novaworks-net-home-cosmetic-10-2022-09-27-15_02_10.jpg: 640x288 3 banners, 2 3blocks, 2 4blocks, 1 5block, 1 6block, 1 header, 30.3ms\n"
     ]
    },
    {
     "name": "stdout",
     "output_type": "stream",
     "text": [
      "image 1529/2605 /tf/notebook/testimage/screencapture-elinor-kutethemes-net-2022-09-27-18_27_26.jpg: 640x224 1 banner, 1 2block, 3 3blocks, 3 5blocks, 1 gallery, 1 header, 1 footer, 22.4ms\n",
      "image 1530/2605 /tf/notebook/testimage/screencapture-elinor-kutethemes-net-home-02-2022-09-27-18_31_31.jpg: 640x224 2 banners, 1 2block, 2 3blocks, 2 5blocks, 2 6blocks, 2 gallerys, 1 header, 1 footer, 23.8ms\n",
      "image 1531/2605 /tf/notebook/testimage/screencapture-elinor-kutethemes-net-home-03-2022-09-27-18_31_43.jpg: 640x224 2 banners, 1 2block, 3 3blocks, 1 4block, 2 5blocks, 1 8block, 2 gallerys, 1 header, 1 footer, 172.2ms\n",
      "image 1532/2605 /tf/notebook/testimage/screencapture-elinor-kutethemes-net-home-04-2022-09-27-18_31_54.jpg: 640x320 2 banners, 1 2block, 2 3blocks, 1 4block, 1 5block, 3 6blocks, 1 8block, 1 header, 1 footer, 7.7ms\n",
      "image 1533/2605 /tf/notebook/testimage/screencapture-elinor-kutethemes-net-home-05-2022-09-27-18_32_03.jpg: 640x256 3 banners, 1 2block, 3 3blocks, 5 6blocks, 1 nblock, 2 gallerys, 1 header, 1 footer, 6.8ms\n",
      "image 1534/2605 /tf/notebook/testimage/screencapture-elinor-kutethemes-net-home-06-2022-09-27-18_32_11.jpg: 640x320 3 banners, 2 3blocks, 1 4block, 1 5block, 1 6block, 1 header, 1 footer, 6.6ms\n",
      "image 1535/2605 /tf/notebook/testimage/screencapture-elinor-kutethemes-net-home-08-2022-09-27-18_32_31.jpg: 640x288 2 banners, 1 3block, 2 4blocks, 2 5blocks, 1 typo, 2 headers, 1 footer, 6.8ms\n",
      "image 1536/2605 /tf/notebook/testimage/screencapture-elinor-kutethemes-net-home-09-2022-09-27-18_32_43.jpg: 640x256 2 banners, 1 2block, 3 5blocks, 1 6block, 1 header, 1 footer, 6.6ms\n",
      "image 1537/2605 /tf/notebook/testimage/screencapture-elowen-qodeinteractive-jewelry-store-2022-09-23-15_11_58.jpg: 640x224 2 banners, 1 2block, 1 3block, 1 4block, 3 typos, 1 gallery, 1 header, 2 footers, 8.0ms\n",
      "image 1538/2605 /tf/notebook/testimage/screencapture-elowen-qodeinteractive-watch-store-2022-09-23-15_12_57.jpg: 640x288 2 banners, 1 5block, 1 6block, 3 typos, 1 gallery, 1 header, 1 footer, 8.5ms\n",
      "image 1539/2605 /tf/notebook/testimage/screencapture-elson-qodeinteractive-urban-clothing-2022-09-28-13_21_09.jpg: 640x352 2 3blocks, 1 gallery, 1 header, 1 footer, 15.2ms\n",
      "image 1540/2605 /tf/notebook/testimage/screencapture-ely-sia-net-2022-09-29-13_26_35.jpg: 640x64 1 banner, 3 2blocks, 3 3blocks, 6 4blocks, 2 gallerys, 10.8ms\n",
      "image 1541/2605 /tf/notebook/testimage/screencapture-emart-ssg-2022-09-29-09_54_59.jpg: 640x192 3 banners, 7 4blocks, 1 typo, 2 gallerys, 1 header, 1 footer, 18.4ms\n",
      "image 1542/2605 /tf/notebook/testimage/screencapture-emerce-themepreview-xyz-classic-2022-09-27-15_25_17.jpg: 640x256 1 banner, 3 3blocks, 1 4block, 1 typo, 2 gallerys, 1 header, 1 footer, 25.6ms\n",
      "image 1543/2605 /tf/notebook/testimage/screencapture-emerce-themepreview-xyz-grocery-2022-09-27-15_25_47.jpg: 640x224 1 banner, 3 3blocks, 4 4blocks, 1 typo, 1 gallery, 1 header, 1 footer, 31.0ms\n",
      "image 1544/2605 /tf/notebook/testimage/screencapture-emerce-themepreview-xyz-jewellery-2022-09-27-15_25_29.jpg: 640x224 3 banners, 1 2block, 1 3block, 3 4blocks, 1 5block, 1 typo, 1 header, 1 footer, 25.3ms\n",
      "image 1545/2605 /tf/notebook/testimage/screencapture-emerce-themepreview-xyz-main-demo-2022-09-27-15_24_43.jpg: 640x256 1 banner, 1 3block, 3 4blocks, 1 typo, 2 gallerys, 2 headers, 1 footer, 49.8ms\n",
      "image 1546/2605 /tf/notebook/testimage/screencapture-emerce-themepreview-xyz-multimerce-2022-09-27-15_24_51.jpg: 640x224 2 banners, 4 3blocks, 4 4blocks, 1 5block, 1 6block, 1 gallery, 1 header, 1 footer, 59.5ms\n",
      "image 1547/2605 /tf/notebook/testimage/screencapture-emso-progressionstudios-home-version-2-2022-09-28-11_10_50.jpg: 640x256 5 banners, 2 2blocks, 1 3block, 2 4blocks, 1 5block, 1 typo, 1 header, 2 footers, 78.3ms\n",
      "image 1548/2605 /tf/notebook/testimage/screencapture-endorsi-kr-2022-09-28-17_49_56.jpg: 640x96 1 banner, 1 2block, 2 3blocks, 7 4blocks, 1 5block, 1 gallery, 1 header, 1 footer, 58.0ms\n",
      "image 1549/2605 /tf/notebook/testimage/screencapture-enovathemes-equipo-home-5-2022-09-27-13_21_55.jpg: 640x320 1 banner, 1 2block, 2 3blocks, 2 4blocks, 1 5block, 1 typo, 1 gallery, 1 header, 1 footer, 51.7ms\n",
      "image 1550/2605 /tf/notebook/testimage/screencapture-enovathemes-picart-home-2-2022-09-26-16_48_11.jpg: 640x352 1 banner, 1 2block, 1 3block, 1 5block, 2 6blocks, 1 header, 1 footer, 52.6ms\n",
      "image 1551/2605 /tf/notebook/testimage/screencapture-enovathemes-picart-home-3-2022-09-26-16_48_22.jpg: 640x352 2 2blocks, 3 5blocks, 1 6block, 1 typo, 1 header, 1 footer, 60.8ms\n",
      "image 1552/2605 /tf/notebook/testimage/screencapture-enovathemes-picart-home-5-2022-09-26-16_48_47.jpg: 640x320 3 banners, 1 3block, 1 5block, 2 typos, 1 header, 1 footer, 58.5ms\n",
      "image 1553/2605 /tf/notebook/testimage/screencapture-enter6-co-kr-2022-09-29-14_24_35.jpg: 640x256 3 banners, 1 3block, 1 4block, 2 5blocks, 1 7block, 1 header, 1 footer, 48.1ms\n",
      "image 1554/2605 /tf/notebook/testimage/screencapture-entrereves-co-kr-2022-09-30-09_45_09.jpg: 640x160 4 banners, 2 3blocks, 1 header, 1 footer, 43.8ms\n",
      "image 1555/2605 /tf/notebook/testimage/screencapture-enzian-la-studioweb-cosmetic-store-02-2022-09-27-11_50_00.jpg: 640x224 3 banners, 1 2block, 1 4block, 1 5block, 3 6blocks, 1 header, 1 footer, 111.3ms\n",
      "image 1556/2605 /tf/notebook/testimage/screencapture-enzian-la-studioweb-cosmetic-store-03-2022-09-27-11_50_26.jpg: 640x192 1 banner, 3 2blocks, 3 3blocks, 1 4block, 1 6block, 1 gallery, 1 header, 1 footer, 7.3ms\n",
      "image 1557/2605 /tf/notebook/testimage/screencapture-enzian-la-studioweb-cosmetic-store-04-2022-09-27-11_50_41.jpg: 640x224 1 banner, 1 2block, 2 3blocks, 1 4block, 1 5block, 1 6block, 3 typos, 1 header, 1 footer, 7.9ms\n",
      "image 1558/2605 /tf/notebook/testimage/screencapture-enzian-la-studioweb-cosmetic-store-05-2022-09-27-11_50_55.jpg: 640x224 1 banner, 2 2blocks, 2 3blocks, 1 4block, 1 7block, 1 header, 1 footer, 6.5ms\n",
      "image 1559/2605 /tf/notebook/testimage/screencapture-enzian-la-studioweb-perfume-store-01-2022-09-27-11_50_13.jpg: 640x224 2 banners, 3 2blocks, 2 3blocks, 1 4block, 1 header, 1 footer, 7.6ms\n",
      "image 1560/2605 /tf/notebook/testimage/screencapture-enzoblues-2022-09-29-15_42_03.jpg: 640x224 2 banners, 1 2block, 2 typos, 1 footer, 6.0ms\n",
      "image 1561/2605 /tf/notebook/testimage/screencapture-eola-qodeinteractive-2022-09-28-11_34_20.jpg: 640x128 8 banners, 1 3block, 2 4blocks, 1 6block, 2 typos, 1 header, 6.6ms\n",
      "image 1562/2605 /tf/notebook/testimage/screencapture-eola-qodeinteractive-jewelry-home-2022-09-28-11_34_38.jpg: 640x224 3 banners, 1 2block, 1 6block, 2 typos, 1 header, 8.4ms\n",
      "image 1563/2605 /tf/notebook/testimage/screencapture-eola-qodeinteractive-womens-fashion-2022-09-28-11_35_26.jpg: 640x320 3 banners, 1 3block, 2 typos, 1 header, 1 footer, 7.7ms\n",
      "image 1564/2605 /tf/notebook/testimage/screencapture-eskil-qodeinteractive-2022-09-26-14_46_05.jpg: 640x256 1 banner, 2 3blocks, 1 6block, 3 typos, 1 header, 1 footer, 37.0ms\n",
      "image 1565/2605 /tf/notebook/testimage/screencapture-eskil-qodeinteractive-designer-furniture-2022-09-26-14_46_53.jpg: 640x224 2 banners, 1 2block, 1 3block, 2 4blocks, 1 6block, 1 typo, 1 header, 1 footer, 28.9ms\n",
      "image 1566/2605 /tf/notebook/testimage/screencapture-eskil-qodeinteractive-furniture-store-2022-09-26-14_46_26.jpg: 640x192 1 banner, 3 2blocks, 2 3blocks, 3 4blocks, 1 header, 1 footer, 18.7ms\n",
      "image 1567/2605 /tf/notebook/testimage/screencapture-esmee-qodeinteractive-2022-09-28-10_34_11.jpg: 640x224 3 banners, 2 3blocks, 2 6blocks, 1 typo, 1 gallery, 1 header, 1 footer, 24.9ms\n",
      "image 1568/2605 /tf/notebook/testimage/screencapture-esmee-qodeinteractive-boutique-home-2022-09-28-10_34_53.jpg: 640x352 2 banners, 1 3block, 3 4blocks, 1 gallery, 1 header, 1 footer, 36.6ms\n",
      "image 1569/2605 /tf/notebook/testimage/screencapture-esmee-qodeinteractive-eyewear-store-2022-09-28-10_34_26.jpg: 640x256 1 banner, 2 3blocks, 1 4block, 1 6block, 1 typo, 2 gallerys, 1 header, 1 footer, 151.3ms\n",
      "image 1570/2605 /tf/notebook/testimage/screencapture-esmee-qodeinteractive-fashion-store-2022-09-28-10_35_09.jpg: 640x320 2 banners, 1 2block, 2 4blocks, 1 typo, 1 header, 1 footer, 7.5ms\n",
      "image 1571/2605 /tf/notebook/testimage/screencapture-esquire-co-kr-2022-09-29-16_38_31.jpg: 640x256 5 banners, 1 2block, 3 typos, 1 header, 6.9ms\n"
     ]
    },
    {
     "name": "stdout",
     "output_type": "stream",
     "text": [
      "image 1572/2605 /tf/notebook/testimage/screencapture-essoco-2022-09-29-10_47_24.jpg: 640x384 1 banner, 2 2blocks, 1 3block, 1 4block, 1 5block, 1 header, 1 footer, 7.9ms\n",
      "image 1573/2605 /tf/notebook/testimage/screencapture-etlandmall-co-kr-pc-main-index-do-2022-09-29-14_34_06.jpg: 640x128 2 banners, 1 2block, 3 3blocks, 14 5blocks, 1 nblock, 1 header, 7.9ms\n",
      "image 1574/2605 /tf/notebook/testimage/screencapture-etruscan-qodeinteractive-2022-09-23-17_48_57.jpg: 640x192 4 banners, 2 2blocks, 2 3blocks, 3 4blocks, 1 header, 6.9ms\n",
      "image 1575/2605 /tf/notebook/testimage/screencapture-eurohomme-co-kr-2022-09-28-17_58_28.jpg: 640x128 1 banner, 3 4blocks, 2 gallerys, 1 header, 1 footer, 7.0ms\n",
      "image 1576/2605 /tf/notebook/testimage/screencapture-eveland2021-familab-net-home-04-2022-09-28-10_32_34.jpg: 640x192 4 banners, 2 2blocks, 1 3block, 1 4block, 1 typo, 1 header, 1 footer, 7.0ms\n",
      "image 1577/2605 /tf/notebook/testimage/screencapture-eveland2021-familab-net-home-05-2022-09-28-10_32_45.jpg: 640x256 1 banner, 1 2block, 1 3block, 1 4block, 1 typo, 1 gallery, 1 header, 1 footer, 27.5ms\n",
      "image 1578/2605 /tf/notebook/testimage/screencapture-eveland2021-familab-net-home-06-2022-09-28-10_32_52.jpg: 640x192 4 2blocks, 1 3block, 2 4blocks, 1 header, 1 footer, 23.2ms\n",
      "image 1579/2605 /tf/notebook/testimage/screencapture-eveland2021-familab-net-home-07-2022-09-28-10_33_07.jpg: 640x224 1 banner, 1 2block, 1 5block, 1 typo, 2 gallerys, 1 header, 1 footer, 23.5ms\n",
      "image 1580/2605 /tf/notebook/testimage/screencapture-event-theme-themes-TSgoshop-home-two-2022-09-28-13_55_011106.jpg: 640x192 3 banners, 1 2block, 3 3blocks, 2 4blocks, 1 5block, 1 typo, 2 headers, 1 footer, 28.4ms\n",
      "image 1581/2605 /tf/notebook/testimage/screencapture-event-theme-themes-bellashop-bella-furniture-homepage-3-2022-09-23-14_24_111093.jpg: 576x640 1 banner, 1 3block, 2 typos, 1 header, 1 footer, 53.9ms\n",
      "image 1582/2605 /tf/notebook/testimage/screencapture-event-theme-themes-naturix-2022-09-23-16_17_041097.jpg: 640x160 5 banners, 4 2blocks, 1 3block, 4 4blocks, 1 header, 1 footer, 56.1ms\n",
      "image 1583/2605 /tf/notebook/testimage/screencapture-event-theme-themes-naturix-home-2-2022-09-23-16_17_481100.jpg: 640x192 5 banners, 2 2blocks, 1 3block, 1 4block, 1 header, 2 footers, 8.0ms\n",
      "image 1584/2605 /tf/notebook/testimage/screencapture-everafter-kr-2022-09-30-09_41_49.jpg: 640x224 1 banner, 1 3block, 1 4block, 1 header, 1 footer, 7.2ms\n",
      "image 1585/2605 /tf/notebook/testimage/screencapture-everfree-co-kr-2022-09-29-11_37_03.jpg: 640x96 3 banners, 2 3blocks, 3 4blocks, 1 5block, 1 gallery, 1 header, 1 footer, 12.1ms\n",
      "image 1586/2605 /tf/notebook/testimage/screencapture-evisushop-co-kr-2022-09-30-09_29_37.jpg: 640x128 3 banners, 2 2blocks, 2 3blocks, 3 4blocks, 2 5blocks, 1 header, 1 footer, 7.4ms\n",
      "image 1587/2605 /tf/notebook/testimage/screencapture-evisushop-co-kr-2022-09-30-10_20_28.jpg: 640x192 2 banners, 3 2blocks, 2 3blocks, 3 4blocks, 2 5blocks, 1 header, 1 footer, 8.6ms\n",
      "image 1588/2605 /tf/notebook/testimage/screencapture-evolve-demo-4-myshopify-2022-09-23-11_52_19.jpg: 640x576 3 banners, 1 2block, 1 3block, 2 4blocks, 1 5block, 1 typo, 1 header, 1 footer, 8.7ms\n",
      "image 1589/2605 /tf/notebook/testimage/screencapture-exquil-theme-jk-studio-dev-2022-09-27-09_38_51.jpg: 640x224 2 banners, 2 2blocks, 1 3block, 1 4block, 3 5blocks, 1 typo, 1 header, 1 footer, 11.0ms\n",
      "image 1590/2605 /tf/notebook/testimage/screencapture-exquil-theme-jk-studio-dev-cosmetic-store-2022-09-27-09_39_04.jpg: 640x192 3 banners, 4 3blocks, 3 5blocks, 2 typos, 1 header, 1 footer, 15.9ms\n",
      "image 1591/2605 /tf/notebook/testimage/screencapture-exquil-theme-jk-studio-dev-hair-stylist-2022-09-27-09_40_18.jpg: 640x224 4 banners, 1 2block, 3 3blocks, 2 5blocks, 1 typo, 1 header, 1 footer, 53.6ms\n",
      "image 1592/2605 /tf/notebook/testimage/screencapture-exquil-theme-jk-studio-dev-minimal-store-2022-09-27-09_40_29.jpg: 640x224 3 banners, 1 2block, 2 3blocks, 1 4block, 3 5blocks, 1 gallery, 1 header, 1 footer, 36.2ms\n",
      "image 1593/2605 /tf/notebook/testimage/screencapture-exquil-theme-jk-studio-dev-nail-salon-2022-09-27-09_39_34.jpg: 640x224 2 banners, 3 2blocks, 3 3blocks, 1 4block, 1 5block, 1 header, 1 footer, 29.6ms\n",
      "image 1594/2605 /tf/notebook/testimage/screencapture-exquil-theme-jk-studio-dev-spa-center-2022-09-27-09_39_23.jpg: 640x192 3 banners, 2 2blocks, 3 3blocks, 2 4blocks, 1 5block, 1 6block, 1 7block, 1 typo, 1 gallery, 1 header, 1 footer, 29.0ms\n",
      "image 1595/2605 /tf/notebook/testimage/screencapture-extremestore-themerex-net-home-2-2022-09-28-13_55_32.jpg: 640x224 2 banners, 1 2block, 1 3block, 2 4blocks, 2 5blocks, 1 typo, 2 headers, 1 footer, 40.0ms\n",
      "image 1596/2605 /tf/notebook/testimage/screencapture-exwatch-templines-org-2022-09-27-11_18_21.jpg: 640x128 3 banners, 6 2blocks, 4 3blocks, 3 4blocks, 1 typo, 1 header, 24.6ms\n",
      "image 1597/2605 /tf/notebook/testimage/screencapture-exwatch-templines-org-app-2022-09-27-11_17_37.jpg: 640x128 5 banners, 6 2blocks, 3 3blocks, 1 4block, 1 5block, 1 header, 19.7ms\n",
      "image 1598/2605 /tf/notebook/testimage/screencapture-eyoumall-co-kr-2022-09-29-09_32_40.jpg: 640x96 1 banner, 3 3blocks, 1 4block, 1 5block, 1 6block, 1 gallery, 1 header, 1 footer, 16.9ms\n",
      "image 1599/2605 /tf/notebook/testimage/screencapture-farnic-webflow-io-2022-09-22-17_26_39.jpg: 640x288 2 banners, 1 2block, 2 3blocks, 2 6blocks, 1 gallery, 1 header, 1 footer, 90.8ms\n",
      "image 1600/2605 /tf/notebook/testimage/screencapture-fashion-7uptheme-net-home-10-2022-09-27-16_14_411112.jpg: 640x224 2 banners, 3 2blocks, 1 3block, 1 4block, 2 headers, 1 footer, 49.7ms\n",
      "image 1601/2605 /tf/notebook/testimage/screencapture-fashion-7uptheme-net-home-11-2022-09-27-16_14_481113.jpg: 640x224 4 banners, 1 2block, 3 3blocks, 1 4block, 1 5block, 1 typo, 2 headers, 114.6ms\n",
      "image 1602/2605 /tf/notebook/testimage/screencapture-fashion-7uptheme-net-home-12-2022-09-27-16_14_561114.jpg: 640x352 1 banner, 1 3block, 3 4blocks, 2 typos, 2 gallerys, 1 header, 1 footer, 7.5ms\n",
      "image 1603/2605 /tf/notebook/testimage/screencapture-fashion-7uptheme-net-home-17-2022-09-27-16_15_031115.jpg: 640x288 1 banner, 1 2block, 3 3blocks, 2 4blocks, 1 5block, 1 gallery, 1 header, 1 footer, 6.7ms\n",
      "image 1604/2605 /tf/notebook/testimage/screencapture-fashion-7uptheme-net-home-18-2022-09-27-16_15_371116.jpg: 640x224 4 banners, 2 2blocks, 3 3blocks, 1 5block, 1 header, 2 footers, 7.8ms\n",
      "image 1605/2605 /tf/notebook/testimage/screencapture-fashion-7uptheme-net-home-19-2022-09-27-16_15_451117.jpg: 640x288 2 banners, 1 3block, 3 4blocks, 1 typo, 1 gallery, 1 header, 15.2ms\n",
      "image 1606/2605 /tf/notebook/testimage/screencapture-fashion-7uptheme-net-home-2-2022-09-27-16_14_121109.jpg: 640x224 1 banner, 5 3blocks, 1 4block, 1 typo, 1 header, 1 footer, 14.1ms\n",
      "image 1607/2605 /tf/notebook/testimage/screencapture-fashion-7uptheme-net-home-7-2022-09-27-16_14_301111.jpg: 640x160 7 banners, 1 2block, 1 3block, 3 4blocks, 1 gallery, 1 header, 1 footer, 19.6ms\n",
      "image 1608/2605 /tf/notebook/testimage/screencapture-fashionplus-co-kr-2022-09-29-13_29_37.jpg: 640x160 2 banners, 2 2blocks, 3 3blocks, 4 5blocks, 3 gallerys, 1 header, 2 footers, 20.5ms\n",
      "image 1609/2605 /tf/notebook/testimage/screencapture-fayewoo-kr-2022-09-30-09_24_40.jpg: 640x160 1 banner, 1 2block, 1 3block, 1 4block, 1 gallery, 1 header, 1 footer, 19.8ms\n",
      "image 1610/2605 /tf/notebook/testimage/screencapture-fcmm-kr-2022-09-29-13_55_04.jpg: 640x160 6 banners, 6 typos, 2 headers, 1 footer, 60.3ms\n",
      "image 1611/2605 /tf/notebook/testimage/screencapture-feelings-co-kr-2022-09-29-16_56_10.jpg: 640x128 2 banners, 1 3block, 5 4blocks, 1 6block, 1 footer, 25.7ms\n",
      "image 1612/2605 /tf/notebook/testimage/screencapture-felis-cactusthemes-home-3-2022-09-28-13_48_44.jpg: 640x160 5 banners, 1 2block, 1 3block, 1 gallery, 1 header, 1 footer, 23.8ms\n",
      "image 1613/2605 /tf/notebook/testimage/screencapture-fey-qodeinteractive-2022-09-28-10_11_28.jpg: 640x192 2 banners, 3 2blocks, 1 3block, 2 4blocks, 1 5block, 1 8block, 1 header, 1 footer, 24.2ms\n",
      "image 1614/2605 /tf/notebook/testimage/screencapture-fey-qodeinteractive-2022-09-28-10_12_34.jpg: 640x192 2 banners, 3 2blocks, 1 3block, 2 4blocks, 1 5block, 1 8block, 1 header, 1 footer, 21.2ms\n",
      "image 1615/2605 /tf/notebook/testimage/screencapture-fey-qodeinteractive-ceramics-home-2022-09-28-10_11_48.jpg: 640x224 2 banners, 2 2blocks, 1 3block, 1 4block, 1 typo, 1 header, 119.3ms\n"
     ]
    },
    {
     "name": "stdout",
     "output_type": "stream",
     "text": [
      "image 1616/2605 /tf/notebook/testimage/screencapture-fey-qodeinteractive-childrens-clothing-2022-09-28-10_12_06.jpg: 640x256 1 banner, 3 3blocks, 2 4blocks, 1 typo, 1 header, 1 footer, 30.8ms\n",
      "image 1617/2605 /tf/notebook/testimage/screencapture-fila-co-kr-main-main-asp-2022-09-28-16_49_10.jpg: 640x192 2 banners, 1 3block, 1 4block, 2 6blocks, 1 gallery, 2 headers, 1 footer, 20.7ms\n",
      "image 1618/2605 /tf/notebook/testimage/screencapture-firstsight-design-levre-mono-2022-09-28-10_39_12.jpg: 640x224 2 banners, 1 2block, 2 6blocks, 1 7block, 2 typos, 1 gallery, 1 header, 1 footer, 19.5ms\n",
      "image 1619/2605 /tf/notebook/testimage/screencapture-firstsight-design-levre-multi-2022-09-28-10_39_28.jpg: 640x224 1 banner, 1 2block, 1 3block, 3 4blocks, 1 nblock, 1 gallery, 1 header, 1 footer, 42.1ms\n",
      "image 1620/2605 /tf/notebook/testimage/screencapture-firstsight-design-levre-video-2022-09-28-10_39_37.jpg: 640x224 1 banner, 2 2blocks, 2 4blocks, 1 6block, 1 7block, 1 8block, 1 typo, 1 gallery, 1 header, 1 footer, 78.6ms\n",
      "image 1621/2605 /tf/notebook/testimage/screencapture-fisino-familab-net-home-2-2022-09-28-09_59_32.jpg: 640x256 2 banners, 1 2block, 1 3block, 3 4blocks, 1 5block, 1 header, 1 footer, 23.7ms\n",
      "image 1622/2605 /tf/notebook/testimage/screencapture-fisino-familab-net-home-4-2022-09-28-09_59_52.jpg: 640x288 3 banners, 1 2block, 1 4block, 2 gallerys, 1 header, 1 footer, 28.5ms\n",
      "image 1623/2605 /tf/notebook/testimage/screencapture-flower365-2022-09-29-10_41_08.jpg: 640x480 1 banner, 1 2block, 1 nblock, 1 typo, 2 gallerys, 1 header, 43.7ms\n",
      "image 1624/2605 /tf/notebook/testimage/screencapture-flymodel-co-kr-2022-09-29-10_48_31.jpg: 640x128 1 3block, 5 4blocks, 1 footer, 18.0ms\n",
      "image 1625/2605 /tf/notebook/testimage/screencapture-fona-wp1-zootemplate-home-1-2022-09-27-17_17_17.jpg: 640x384 1 banner, 2 3blocks, 1 4block, 1 5block, 1 gallery, 1 header, 1 footer, 74.7ms\n",
      "image 1626/2605 /tf/notebook/testimage/screencapture-fona-wp1-zootemplate-home-12-2022-09-27-17_18_05.jpg: 640x320 1 banner, 2 2blocks, 1 3block, 1 4block, 2 5blocks, 1 6block, 1 header, 1 footer, 161.5ms\n",
      "image 1627/2605 /tf/notebook/testimage/screencapture-fona-wp1-zootemplate-home-2-2022-09-27-17_17_23.jpg: 640x384 1 banner, 1 3block, 3 4blocks, 1 5block, 1 header, 1 footer, 29.2ms\n",
      "image 1628/2605 /tf/notebook/testimage/screencapture-fona-wp1-zootemplate-home-4-2022-09-27-17_17_33.jpg: 640x480 1 banner, 1 4block, 1 gallery, 1 header, 1 footer, 36.6ms\n",
      "image 1629/2605 /tf/notebook/testimage/screencapture-fona-wp1-zootemplate-home-6-2022-09-27-17_17_42.jpg: 640x384 1 banner, 1 5block, 1 gallery, 1 header, 1 footer, 29.8ms\n",
      "image 1630/2605 /tf/notebook/testimage/screencapture-fona-wp1-zootemplate-home-7-2022-09-27-17_17_48.jpg: 640x384 2 banners, 1 3block, 2 4blocks, 1 header, 1 footer, 40.3ms\n",
      "image 1631/2605 /tf/notebook/testimage/screencapture-fona-wp1-zootemplate-home-9-2022-09-27-17_17_57.jpg: 640x352 1 banner, 1 2block, 1 5block, 1 header, 1 footer, 110.1ms\n",
      "image 1632/2605 /tf/notebook/testimage/screencapture-forpets-7uptheme-net-home-2-2022-09-27-13_41_331122.jpg: 640x192 3 banners, 2 2blocks, 2 3blocks, 1 4block, 1 5block, 1 typo, 1 gallery, 1 header, 1 footer, 16.7ms\n",
      "image 1633/2605 /tf/notebook/testimage/screencapture-forpets-7uptheme-net-home-2022-09-27-13_41_051126.jpg: 640x256 4 banners, 1 3block, 1 4block, 1 5block, 1 gallery, 1 header, 1 footer, 28.9ms\n",
      "image 1634/2605 /tf/notebook/testimage/screencapture-forpets-7uptheme-net-home-5-2022-09-27-13_42_081125.jpg: 640x256 4 banners, 3 3blocks, 1 4block, 1 header, 1 footer, 21.6ms\n",
      "image 1635/2605 /tf/notebook/testimage/screencapture-forte-demo-5-myshopify-2022-09-23-11_52_50.jpg: 640x512 2 banners, 1 2block, 2 3blocks, 2 5blocks, 2 typos, 1 gallery, 2 headers, 1 footer, 34.2ms\n",
      "image 1636/2605 /tf/notebook/testimage/screencapture-foxic-theme-myshopify-2022-09-23-11_22_46.jpg: 640x352 2 banners, 3 3blocks, 2 4blocks, 2 6blocks, 2 gallerys, 1 header, 1 footer, 66.6ms\n",
      "image 1637/2605 /tf/notebook/testimage/screencapture-foxic-theme-myshopify-2022-09-23-11_23_25.jpg: 640x416 1 banner, 2 3blocks, 2 5blocks, 1 header, 1 footer, 35.6ms\n",
      "image 1638/2605 /tf/notebook/testimage/screencapture-frombio-co-kr-2022-09-29-10_43_03.jpg: 640x256 1 banner, 3 2blocks, 3 4blocks, 1 8block, 1 gallery, 1 header, 1 footer, 29.3ms\n",
      "image 1639/2605 /tf/notebook/testimage/screencapture-front-wemakeprice-main-2022-09-29-09_43_04.jpg: 640x128 3 banners, 1 3block, 3 4blocks, 1 typo, 1 gallery, 1 header, 1 footer, 19.5ms\n",
      "image 1640/2605 /tf/notebook/testimage/screencapture-funshop-co-kr-2022-09-29-09_35_29.jpg: 640x160 3 banners, 3 2blocks, 1 3block, 4 4blocks, 1 8block, 1 nblock, 1 gallery, 1 header, 1 footer, 167.6ms\n",
      "image 1641/2605 /tf/notebook/testimage/screencapture-furnihaus-kaththemes-demo-2022-09-26-17_22_201135.jpg: 640x192 3 banners, 1 2block, 1 3block, 1 4block, 2 gallerys, 1 header, 1 footer, 7.5ms\n",
      "image 1642/2605 /tf/notebook/testimage/screencapture-furnihaus-kaththemes-demo-home-2-2022-09-26-17_22_541136.jpg: 640x224 1 banner, 1 2block, 2 3blocks, 1 4block, 2 typos, 1 header, 1 footer, 11.0ms\n",
      "image 1643/2605 /tf/notebook/testimage/screencapture-furnitor-g5plus-net-home-02-2022-09-27-09_41_25.jpg: 640x256 2 2blocks, 2 3blocks, 2 4blocks, 1 8block, 2 typos, 1 header, 1 footer, 7.6ms\n",
      "image 1644/2605 /tf/notebook/testimage/screencapture-furnitor-g5plus-net-home-03-2022-09-27-09_41_35.jpg: 640x256 2 banners, 1 3block, 1 4block, 1 5block, 1 typo, 1 gallery, 1 header, 1 footer, 7.1ms\n",
      "image 1645/2605 /tf/notebook/testimage/screencapture-furnitor-g5plus-net-home-05-2022-09-27-09_47_15.jpg: 640x480 2 4blocks, 1 gallery, 1 header, 1 footer, 18.0ms\n",
      "image 1646/2605 /tf/notebook/testimage/screencapture-furnitor-g5plus-net-home-06-2022-09-27-09_47_09.jpg: 640x416 1 banner, 1 2block, 1 3block, 1 4block, 1 6block, 1 7block, 1 header, 1 footer, 31.0ms\n",
      "image 1647/2605 /tf/notebook/testimage/screencapture-furnitor-g5plus-net-home-07-2022-09-27-09_47_58.jpg: 640x352 1 banner, 1 2block, 4 3blocks, 1 6block, 1 7block, 1 header, 1 footer, 46.7ms\n",
      "image 1648/2605 /tf/notebook/testimage/screencapture-furnitor-g5plus-net-home-08-2022-09-27-09_48_08.jpg: 640x288 3 banners, 3 3blocks, 1 4block, 1 7block, 1 header, 1 footer, 33.8ms\n",
      "image 1649/2605 /tf/notebook/testimage/screencapture-furnitor-g5plus-net-home-09-2022-09-27-09_48_17.jpg: 640x352 3 3blocks, 2 4blocks, 1 5block, 1 typo, 1 header, 1 footer, 40.1ms\n",
      "image 1650/2605 /tf/notebook/testimage/screencapture-furnitor-g5plus-net-home-10-2022-09-27-09_48_55.jpg: 640x320 2 banners, 2 2blocks, 1 3block, 2 4blocks, 1 7block, 1 header, 1 footer, 41.5ms\n",
      "image 1651/2605 /tf/notebook/testimage/screencapture-furnitor-g5plus-net-home-11-2022-09-27-09_49_04.jpg: 640x384 2 banners, 2 3blocks, 1 4block, 1 5block, 1 header, 1 footer, 145.7ms\n",
      "image 1652/2605 /tf/notebook/testimage/screencapture-g3magic-2022-09-29-13_51_04.jpg: 640x416 1 banner, 1 2block, 1 3block, 1 4block, 1 typo, 1 header, 1 footer, 47.7ms\n",
      "image 1653/2605 /tf/notebook/testimage/screencapture-gabalnara-2022-09-30-09_35_38.jpg: 640x160 1 banner, 1 3block, 1 4block, 1 header, 1 footer, 22.6ms\n",
      "image 1654/2605 /tf/notebook/testimage/screencapture-gabangpop-co-kr-2022-09-29-15_21_34.jpg: 640x128 1 banner, 2 3blocks, 6 4blocks, 2 5blocks, 2 6blocks, 2 7blocks, 1 8block, 1 gallery, 1 footer, 16.4ms\n",
      "image 1655/2605 /tf/notebook/testimage/screencapture-gaenso-2022-09-29-10_57_36.jpg: 640x128 2 banners, 2 2blocks, 1 3block, 5 4blocks, 1 header, 1 footer, 49.7ms\n",
      "image 1656/2605 /tf/notebook/testimage/screencapture-gagudome-kr-2022-09-29-10_07_41.jpg: 640x128 2 banners, 1 4block, 5 5blocks, 2 gallerys, 1 footer, 116.2ms\n",
      "image 1657/2605 /tf/notebook/testimage/screencapture-galaxi-7uptheme-net-home-2-2022-09-26-15_29_40.jpg: 640x256 1 3block, 3 4blocks, 2 6blocks, 1 gallery, 1 header, 1 footer, 20.8ms\n",
      "image 1658/2605 /tf/notebook/testimage/screencapture-galaxi-7uptheme-net-home-5-2022-09-26-15_30_21.jpg: 640x256 2 banners, 1 2block, 1 3block, 2 4blocks, 1 6block, 1 8block, 1 gallery, 1 header, 1 footer, 19.9ms\n",
      "image 1659/2605 /tf/notebook/testimage/screencapture-galaxi-7uptheme-net-home-6-2022-09-26-15_30_30.jpg: 640x288 1 banner, 2 3blocks, 3 4blocks, 1 6block, 1 8block, 1 gallery, 1 header, 1 footer, 26.2ms\n"
     ]
    },
    {
     "name": "stdout",
     "output_type": "stream",
     "text": [
      "image 1660/2605 /tf/notebook/testimage/screencapture-ganaesra-2022-09-29-11_08_14.jpg: 640x160 2 banners, 1 2block, 8 4blocks, 1 header, 1 footer, 19.4ms\n",
      "image 1661/2605 /tf/notebook/testimage/screencapture-gangjung-co-kr-2022-09-29-10_55_58.jpg: 640x320 2 banners, 1 2block, 1 3block, 1 6block, 2 gallerys, 1 header, 1 footer, 53.5ms\n",
      "image 1662/2605 /tf/notebook/testimage/screencapture-gap-2022-09-29-10_09_56.jpg: 640x224 4 banners, 2 2blocks, 1 3block, 1 4block, 3 5blocks, 1 6block, 2 headers, 1 footer, 40.0ms\n",
      "image 1663/2605 /tf/notebook/testimage/screencapture-garten-7uptheme-net-home-2-2022-09-28-11_43_23.jpg: 640x224 3 banners, 3 3blocks, 2 4blocks, 1 typo, 1 header, 1 footer, 46.9ms\n",
      "image 1664/2605 /tf/notebook/testimage/screencapture-garten-7uptheme-net-home-4-2022-09-28-11_43_46.jpg: 640x320 4 banners, 1 3block, 1 4block, 1 header, 1 footer, 69.6ms\n",
      "image 1665/2605 /tf/notebook/testimage/screencapture-garten-7uptheme-net-home-5-2022-09-28-11_45_46.jpg: 640x352 1 banner, 1 3block, 1 5block, 1 typo, 1 gallery, 1 header, 173.4ms\n",
      "image 1666/2605 /tf/notebook/testimage/screencapture-gathemes-demos-konia-2022-09-27-14_01_22.jpg: 640x256 2 banners, 3 2blocks, 1 3block, 2 4blocks, 1 5block, 1 header, 1 footer, 7.2ms\n",
      "image 1667/2605 /tf/notebook/testimage/screencapture-gathemes-demos-konia-home-2-2022-09-27-14_01_32.jpg: 640x224 3 banners, 1 2block, 2 3blocks, 2 4blocks, 1 header, 1 footer, 6.9ms\n",
      "image 1668/2605 /tf/notebook/testimage/screencapture-gathemes-demos-konia-home-3-2022-09-27-14_01_41.jpg: 640x352 1 banner, 1 typo, 1 gallery, 1 header, 1 footer, 7.1ms\n",
      "image 1669/2605 /tf/notebook/testimage/screencapture-gentle9-2022-09-29-11_35_00.jpg: 640x288 1 banner, 1 2block, 1 4block, 1 5block, 2 gallerys, 1 header, 1 footer, 6.8ms\n",
      "image 1670/2605 /tf/notebook/testimage/screencapture-getbarrel-2022-09-28-16_32_39.jpg: 640x96 9 banners, 2 2blocks, 6 4blocks, 1 gallery, 1 header, 6.6ms\n",
      "image 1671/2605 /tf/notebook/testimage/screencapture-giada-qodeinteractive-mens-accessories-2022-09-27-17_23_431148.jpg: 640x352 2 banners, 1 3block, 1 4block, 1 gallery, 1 header, 1 footer, 6.8ms\n",
      "image 1672/2605 /tf/notebook/testimage/screencapture-gifteabox-2022-09-30-09_42_27.jpg: 640x192 1 4block, 5 5blocks, 1 header, 1 footer, 7.6ms\n",
      "image 1673/2605 /tf/notebook/testimage/screencapture-gifts-themeftc-2022-09-27-09_43_52.jpg: 640x256 4 banners, 1 2block, 3 3blocks, 1 4block, 1 gallery, 1 footer, 15.2ms\n",
      "image 1674/2605 /tf/notebook/testimage/screencapture-gifts-themeftc-home13-2022-09-27-09_48_26.jpg: 640x448 1 banner, 1 2block, 1 4block, 1 footer, 26.4ms\n",
      "image 1675/2605 /tf/notebook/testimage/screencapture-gifts-themeftc-home14-2022-09-27-09_48_42.jpg: 640x288 3 banners, 2 3blocks, 2 4blocks, 1 6block, 1 footer, 20.0ms\n",
      "image 1676/2605 /tf/notebook/testimage/screencapture-gifts-themeftc-home16-2022-09-27-09_49_11.jpg: 640x384 1 banner, 1 3block, 1 4block, 2 5blocks, 43.7ms\n",
      "image 1677/2605 /tf/notebook/testimage/screencapture-gifts-themeftc-home2-2022-09-27-09_44_39.jpg: 640x384 5 banners, 1 2block, 3 4blocks, 1 typo, 1 footer, 47.0ms\n",
      "image 1678/2605 /tf/notebook/testimage/screencapture-gifts-themeftc-home20-2022-09-27-09_50_39.jpg: 640x384 1 2block, 1 3block, 1 6block, 2 gallerys, 1 footer, 46.0ms\n",
      "image 1679/2605 /tf/notebook/testimage/screencapture-gifts-themeftc-home21-2022-09-27-09_50_01.jpg: 640x224 3 banners, 1 2block, 2 3blocks, 1 4block, 1 gallery, 1 header, 1 footer, 68.8ms\n",
      "image 1680/2605 /tf/notebook/testimage/screencapture-gifts-themeftc-home23-2022-09-27-09_51_08.jpg: 640x288 3 banners, 1 3block, 2 4blocks, 1 gallery, 1 footer, 253.3ms\n",
      "image 1681/2605 /tf/notebook/testimage/screencapture-gifts-themeftc-home25-2022-09-27-09_51_36.jpg: 640x480 2 banners, 1 3block, 1 4block, 7.4ms\n",
      "image 1682/2605 /tf/notebook/testimage/screencapture-gifts-themeftc-home28-2022-09-27-09_52_36.jpg: 576x640 1 banner, 1 4block, 1 header, 1 footer, 8.3ms\n",
      "image 1683/2605 /tf/notebook/testimage/screencapture-gifts-themeftc-home3-2022-09-27-09_44_49.jpg: 640x320 2 banners, 1 2block, 1 3block, 2 4blocks, 1 typo, 1 header, 2 footers, 7.5ms\n",
      "image 1684/2605 /tf/notebook/testimage/screencapture-gifts-themeftc-home35-2022-09-27-09_54_06.jpg: 640x320 2 2blocks, 2 3blocks, 4 typos, 1 footer, 6.6ms\n",
      "image 1685/2605 /tf/notebook/testimage/screencapture-gifts-themeftc-home37-2022-09-27-09_54_27.jpg: 640x256 1 banner, 2 2blocks, 2 3blocks, 3 4blocks, 1 gallery, 1 footer, 15.1ms\n",
      "image 1686/2605 /tf/notebook/testimage/screencapture-gifts-themeftc-home38-2022-09-27-09_54_57.jpg: 640x224 2 banners, 2 4blocks, 1 6block, 3 gallerys, 1 footer, 20.9ms\n",
      "image 1687/2605 /tf/notebook/testimage/screencapture-gifts-themeftc-home42-2022-09-27-09_56_10.jpg: 640x256 3 2blocks, 1 5block, 1 footer, 18.4ms\n",
      "image 1688/2605 /tf/notebook/testimage/screencapture-gifts-themeftc-home43-2022-09-27-09_56_26.jpg: 640x256 1 banner, 2 2blocks, 2 3blocks, 2 4blocks, 3 typos, 1 footer, 19.7ms\n",
      "image 1689/2605 /tf/notebook/testimage/screencapture-gifts-themeftc-home44-2022-09-27-09_56_43.jpg: 640x192 3 banners, 1 2block, 3 4blocks, 2 typos, 1 footer, 31.3ms\n",
      "image 1690/2605 /tf/notebook/testimage/screencapture-gifts-themeftc-home45-2022-09-27-09_56_54.jpg: 640x224 3 banners, 1 2block, 2 4blocks, 3 typos, 1 footer, 29.2ms\n",
      "image 1691/2605 /tf/notebook/testimage/screencapture-gifts-themeftc-home9-2022-09-27-09_46_37.jpg: 640x352 1 banner, 1 2block, 2 3blocks, 1 4block, 1 typo, 1 footer, 48.0ms\n",
      "image 1692/2605 /tf/notebook/testimage/screencapture-gildongsangsa-2022-09-29-16_15_50.jpg: 640x128 1 banner, 1 3block, 1 4block, 1 header, 1 footer, 25.1ms\n",
      "image 1693/2605 /tf/notebook/testimage/screencapture-ginza-mallthemes-2022-09-28-11_11_58.jpg: 640x320 1 banner, 1 2block, 2 3blocks, 3 4blocks, 2 typos, 1 header, 1 footer, 43.1ms\n",
      "image 1694/2605 /tf/notebook/testimage/screencapture-giordano-co-kr-2022-09-28-17_02_23.jpg: 640x160 4 banners, 1 2block, 1 4block, 1 6block, 1 typo, 1 header, 1 footer, 47.5ms\n",
      "image 1695/2605 /tf/notebook/testimage/screencapture-girlscase-co-kr-2022-09-29-16_03_39.jpg: 640x96 1 banner, 1 2block, 1 3block, 6 4blocks, 2 gallerys, 1 footer, 46.3ms\n",
      "image 1696/2605 /tf/notebook/testimage/screencapture-globalyard-2022-09-29-15_36_32.jpg: 640x160 1 banner, 1 3block, 3 4blocks, 1 8block, 1 header, 1 footer, 57.3ms\n",
      "image 1697/2605 /tf/notebook/testimage/screencapture-glorygagu-2022-09-29-10_06_51.jpg: 640x192 2 banners, 1 2block, 5 3blocks, 3 4blocks, 1 5block, 1 6block, 2 typos, 1 gallery, 1 header, 1 footer, 158.9ms\n",
      "image 1698/2605 /tf/notebook/testimage/screencapture-gmarket-co-kr-2022-09-29-09_55_54.jpg: 640x192 1 banner, 1 2block, 3 3blocks, 2 4blocks, 3 5blocks, 1 nblock, 4 gallerys, 1 header, 1 footer, 6.1ms\n",
      "image 1699/2605 /tf/notebook/testimage/screencapture-goldbutton-co-kr-2022-09-29-14_30_59.jpg: 640x128 1 banner, 1 3block, 1 header, 1 footer, 7.6ms\n",
      "image 1700/2605 /tf/notebook/testimage/screencapture-goldengoose-kr-ko-2022-09-28-17_46_04.jpg: 640x160 2 banners, 3 2blocks, 1 4block, 2 6blocks, 2 typos, 1 header, 6.7ms\n",
      "image 1701/2605 /tf/notebook/testimage/screencapture-goldria-net-2022-09-30-09_41_22.jpg: 640x160 3 banners, 1 3block, 5 4blocks, 1 5block, 1 typo, 1 gallery, 1 header, 1 footer, 7.0ms\n",
      "image 1702/2605 /tf/notebook/testimage/screencapture-gosister-co-kr-main-asp-2022-09-30-09_57_53.jpg: 640x128 1 banner, 2 2blocks, 4 4blocks, 2 gallerys, 1 header, 1 footer, 6.8ms\n",
      "image 1703/2605 /tf/notebook/testimage/screencapture-gostro-familab-net-home-02-2022-09-27-13_36_48.jpg: 640x256 2 banners, 3 3blocks, 1 4block, 2 5blocks, 1 6block, 1 header, 1 footer, 7.2ms\n",
      "image 1704/2605 /tf/notebook/testimage/screencapture-gostro-familab-net-home-04-2022-09-27-13_37_04.jpg: 640x352 1 2block, 1 3block, 1 4block, 1 5block, 1 gallery, 1 header, 1 footer, 6.8ms\n",
      "image 1705/2605 /tf/notebook/testimage/screencapture-gostro-familab-net-home-05-2022-09-27-13_37_11.jpg: 640x288 3 banners, 1 2block, 1 3block, 1 4block, 1 5block, 1 6block, 1 typo, 1 gallery, 1 header, 1 footer, 6.9ms\n",
      "image 1706/2605 /tf/notebook/testimage/screencapture-gostro-familab-net-home-06-2022-09-27-13_37_18.jpg: 640x288 1 2block, 2 3blocks, 1 4block, 2 5blocks, 1 6block, 1 7block, 1 typo, 1 gallery, 1 header, 1 footer, 6.7ms\n",
      "image 1707/2605 /tf/notebook/testimage/screencapture-gostro-familab-net-home-07-2022-09-27-13_37_27.jpg: 640x256 2 banners, 1 2block, 3 3blocks, 2 4blocks, 1 5block, 1 6block, 1 header, 1 footer, 17.4ms\n"
     ]
    },
    {
     "name": "stdout",
     "output_type": "stream",
     "text": [
      "image 1708/2605 /tf/notebook/testimage/screencapture-gostro-familab-net-home-08-2022-09-27-13_37_37.jpg: 640x320 1 banner, 1 3block, 3 4blocks, 1 5block, 1 6block, 1 typo, 1 header, 1 footer, 28.3ms\n",
      "image 1709/2605 /tf/notebook/testimage/screencapture-gostro-familab-net-home-09-2022-09-27-13_37_43.jpg: 640x288 1 banner, 2 2blocks, 2 3blocks, 1 4block, 2 5blocks, 1 6block, 2 headers, 1 footer, 28.9ms\n",
      "image 1710/2605 /tf/notebook/testimage/screencapture-gougi-boostifythemes-2022-09-27-14_45_17.jpg: 640x320 1 banner, 1 2block, 3 4blocks, 1 8block, 1 header, 1 footer, 34.1ms\n",
      "image 1711/2605 /tf/notebook/testimage/screencapture-gougi-boostifythemes-home-bags-2022-09-27-14_46_34.jpg: 640x256 1 banner, 2 2blocks, 1 3block, 2 4blocks, 2 6blocks, 1 header, 1 footer, 32.3ms\n",
      "image 1712/2605 /tf/notebook/testimage/screencapture-gougi-boostifythemes-home-fashion-10-2022-09-27-14_46_22.jpg: 640x448 2 banners, 1 3block, 1 4block, 1 5block, 1 header, 1 footer, 102.0ms\n",
      "image 1713/2605 /tf/notebook/testimage/screencapture-gougi-boostifythemes-home-fashion-11-2022-09-27-14_46_28.jpg: 640x416 1 banner, 1 3block, 1 4block, 2 5blocks, 1 gallery, 1 header, 1 footer, 65.8ms\n",
      "image 1714/2605 /tf/notebook/testimage/screencapture-gougi-boostifythemes-home-fashion-2-2022-09-27-14_45_24.jpg: 640x512 1 banner, 1 3block, 1 4block, 1 5block, 1 header, 1 footer, 75.2ms\n",
      "image 1715/2605 /tf/notebook/testimage/screencapture-gougi-boostifythemes-home-fashion-3-2022-09-27-14_45_33.jpg: 640x384 2 banners, 1 3block, 3 4blocks, 1 5block, 1 7block, 1 typo, 1 header, 1 footer, 31.3ms\n",
      "image 1716/2605 /tf/notebook/testimage/screencapture-gougi-boostifythemes-home-fashion-4-2022-09-27-14_45_46.jpg: 640x384 1 banner, 1 2block, 2 3blocks, 2 4blocks, 1 6block, 1 header, 1 footer, 34.6ms\n",
      "image 1717/2605 /tf/notebook/testimage/screencapture-gougi-boostifythemes-home-fashion-5-2022-09-27-14_45_53.jpg: 640x416 2 banners, 1 2block, 1 4block, 1 5block, 1 6block, 1 header, 1 footer, 56.0ms\n",
      "image 1718/2605 /tf/notebook/testimage/screencapture-gougi-boostifythemes-home-fashion-6-2022-09-27-14_45_58.jpg: 640x416 1 banner, 1 2block, 1 3block, 1 4block, 2 5blocks, 1 6block, 1 header, 1 footer, 62.8ms\n",
      "image 1719/2605 /tf/notebook/testimage/screencapture-gougi-boostifythemes-home-fashion-8-2022-09-27-14_46_11.jpg: 640x352 1 2block, 1 3block, 3 6blocks, 1 gallery, 1 header, 1 footer, 60.9ms\n",
      "image 1720/2605 /tf/notebook/testimage/screencapture-gougi-boostifythemes-home-healthy-2022-09-27-14_46_49.jpg: 640x256 2 banners, 4 4blocks, 1 5block, 1 6block, 1 header, 1 footer, 24.0ms\n",
      "image 1721/2605 /tf/notebook/testimage/screencapture-gougi-boostifythemes-home-landscaping-2022-09-27-14_47_04.jpg: 640x288 2 banners, 3 3blocks, 2 4blocks, 2 5blocks, 1 header, 1 footer, 30.1ms\n",
      "image 1722/2605 /tf/notebook/testimage/screencapture-gougi-boostifythemes-home-pre-workout-2022-09-27-14_46_56.jpg: 640x288 3 banners, 2 3blocks, 3 4blocks, 1 8block, 1 nblock, 1 typo, 1 header, 1 footer, 28.0ms\n",
      "image 1723/2605 /tf/notebook/testimage/screencapture-gougi-boostifythemes-home-vitamin-2022-09-27-14_46_41.jpg: 640x288 4 banners, 2 3blocks, 1 4block, 1 6block, 1 8block, 1 header, 1 footer, 23.7ms\n",
      "image 1724/2605 /tf/notebook/testimage/screencapture-goya-everthemes-demo-decor-2022-09-22-14_11_16.jpg: 640x448 2 banners, 1 3block, 1 4block, 2 gallerys, 1 header, 1 footer, 118.0ms\n",
      "image 1725/2605 /tf/notebook/testimage/screencapture-goya-everthemes-demo-decor-home-full-screen-2022-09-22-14_11_51.jpg: 640x448 2 banners, 2 3blocks, 2 4blocks, 1 header, 1 footer, 6.7ms\n",
      "image 1726/2605 /tf/notebook/testimage/screencapture-goya-everthemes-demo-fashion-2022-09-22-14_10_40.jpg: 640x416 2 banners, 2 3blocks, 1 4block, 1 typo, 1 header, 2 footers, 7.8ms\n",
      "image 1727/2605 /tf/notebook/testimage/screencapture-graceu-2022-09-28-17_01_07.jpg: 320x640 1 2block, 2 headers, 7.2ms\n",
      "image 1728/2605 /tf/notebook/testimage/screencapture-graceu-2022-09-28-17_01_12.jpg: 320x640 1 banner, 2 headers, 1 footer, 6.0ms\n",
      "image 1729/2605 /tf/notebook/testimage/screencapture-gradastudio-molino-home-classic-ecommerce-2022-09-27-13_40_51.jpg: 640x480 1 banner, 1 2block, 3 4blocks, 1 header, 1 footer, 8.2ms\n",
      "image 1730/2605 /tf/notebook/testimage/screencapture-gradastudio-molino-home-fashion-2022-09-27-13_41_03.jpg: 640x384 1 banner, 1 3block, 2 4blocks, 1 typo, 1 header, 1 footer, 6.9ms\n",
      "image 1731/2605 /tf/notebook/testimage/screencapture-gradastudio-reeco-2022-09-28-10_14_00.jpg: 640x192 2 banners, 1 2block, 2 3blocks, 3 4blocks, 1 5block, 1 8block, 1 typo, 1 header, 1 footer, 6.9ms\n",
      "image 1732/2605 /tf/notebook/testimage/screencapture-gradastudio-reeco-furniture-home-2022-09-28-10_13_22.jpg: 640x320 1 2block, 1 3block, 3 4blocks, 1 8block, 1 typo, 1 gallery, 1 header, 1 footer, 6.7ms\n",
      "image 1733/2605 /tf/notebook/testimage/screencapture-grandeline-2022-09-29-11_37_10.jpg: 640x128 1 banner, 2 2blocks, 2 3blocks, 3 4blocks, 3 5blocks, 1 header, 1 footer, 9.8ms\n",
      "image 1734/2605 /tf/notebook/testimage/screencapture-grano-mallthemes-2022-09-27-10_26_51.jpg: 640x288 2 banners, 1 3block, 1 4block, 3 5blocks, 1 6block, 2 typos, 3 gallerys, 1 header, 1 footer, 22.2ms\n",
      "image 1735/2605 /tf/notebook/testimage/screencapture-grano-mallthemes-home-page-02-2022-09-27-10_27_43.jpg: 640x320 2 banners, 1 2block, 2 4blocks, 1 5block, 2 6blocks, 1 typo, 1 gallery, 1 header, 1 footer, 25.0ms\n",
      "image 1736/2605 /tf/notebook/testimage/screencapture-grano-mallthemes-home-page-03-2022-09-27-10_27_52.jpg: 640x320 2 banners, 1 3block, 2 4blocks, 4 5blocks, 1 6block, 1 typo, 1 gallery, 1 header, 1 footer, 164.6ms\n",
      "image 1737/2605 /tf/notebook/testimage/screencapture-grano-mallthemes-home-page-04-2022-09-27-10_28_01.jpg: 640x352 2 banners, 1 2block, 1 3block, 1 4block, 1 5block, 2 6blocks, 1 typo, 1 gallery, 1 header, 1 footer, 6.8ms\n",
      "image 1738/2605 /tf/notebook/testimage/screencapture-graychic-co-kr-2022-09-29-10_09_59.jpg: 640x96 1 2block, 2 3blocks, 2 4blocks, 1 gallery, 1 footer, 9.8ms\n",
      "image 1739/2605 /tf/notebook/testimage/screencapture-graymadonna-2022-09-30-09_35_04.jpg: 640x96 2 3blocks, 2 gallerys, 1 header, 1 footer, 6.0ms\n",
      "image 1740/2605 /tf/notebook/testimage/screencapture-greating-co-kr-best-bestList-2022-09-29-10_50_18.jpg: 640x128 1 3block, 1 footer, 7.5ms\n",
      "image 1741/2605 /tf/notebook/testimage/screencapture-grooverhyme-co-kr-2022-09-29-17_02_41.jpg: 640x160 3 banners, 1 2block, 1 3block, 1 4block, 3 5blocks, 2 6blocks, 2 typos, 1 gallery, 1 header, 1 footer, 9.6ms\n",
      "image 1742/2605 /tf/notebook/testimage/screencapture-grooverhyme-co-kr-2022-09-30-09_30_00.jpg: 640x192 2 banners, 1 2block, 1 3block, 2 5blocks, 2 6blocks, 1 typo, 1 gallery, 1 header, 1 footer, 7.0ms\n",
      "image 1743/2605 /tf/notebook/testimage/screencapture-grosso-althemist-home-2-2022-09-27-14_09_52.jpg: 640x224 1 banner, 2 3blocks, 1 4block, 1 6block, 1 header, 1 footer, 9.1ms\n",
      "image 1744/2605 /tf/notebook/testimage/screencapture-grosso-althemist-home-4-2022-09-27-14_10_06.jpg: 640x192 1 banner, 2 4blocks, 3 typos, 1 header, 1 footer, 6.8ms\n",
      "image 1745/2605 /tf/notebook/testimage/screencapture-grosso-althemist-home-5-2022-09-27-14_10_17.jpg: 640x384 1 banner, 1 2block, 1 gallery, 3 headers, 1 footer, 25.4ms\n",
      "image 1746/2605 /tf/notebook/testimage/screencapture-gucci-kr-ko-2022-09-28-16_38_11.jpg: 640x192 4 banners, 1 3block, 1 typo, 1 gallery, 1 header, 1 footer, 22.4ms\n",
      "image 1747/2605 /tf/notebook/testimage/screencapture-gucci-kr-ko-2022-09-29-11_20_15.jpg: 640x256 4 banners, 1 3block, 1 typo, 1 gallery, 1 header, 1 footer, 21.9ms\n",
      "image 1748/2605 /tf/notebook/testimage/screencapture-gucci-kr-ko-ca-campaign-handbags-c-women-handbags-1-2022-09-28-16_38_21.jpg: 640x256 2 banners, 2 2blocks, 1 header, 1 footer, 23.4ms\n",
      "image 1749/2605 /tf/notebook/testimage/screencapture-guesskorea-main-main-php-2022-09-28-17_35_06.jpg: 640x192 3 banners, 1 2block, 2 5blocks, 2 7blocks, 1 8block, 3 headers, 1 footer, 22.9ms\n",
      "image 1750/2605 /tf/notebook/testimage/screencapture-gugus-co-kr-2022-09-29-11_13_13.jpg: 640x480 1 4block, 3 7blocks, 2 8blocks, 2 typos, 1 header, 1 footer, 47.3ms\n",
      "image 1751/2605 /tf/notebook/testimage/screencapture-gwin-kr-2022-09-30-09_51_23.jpg: 640x64 1 2block, 1 3block, 3 4blocks, 2 gallerys, 41.3ms\n",
      "image 1752/2605 /tf/notebook/testimage/screencapture-haaken-qodeinteractive-2022-09-23-16_45_53.jpg: 640x160 2 banners, 1 2block, 2 3blocks, 2 5blocks, 1 6block, 1 gallery, 1 header, 1 footer, 120.9ms\n"
     ]
    },
    {
     "name": "stdout",
     "output_type": "stream",
     "text": [
      "image 1753/2605 /tf/notebook/testimage/screencapture-habi-unni-2022-09-29-11_03_07.jpg: 640x160 3 banners, 2 4blocks, 3 5blocks, 1 gallery, 1 header, 1 footer, 35.3ms\n",
      "image 1754/2605 /tf/notebook/testimage/screencapture-haepp-co-kr-2022-09-28-17_13_06.jpg: 640x128 1 banner, 1 4block, 1 5block, 2 gallerys, 1 footer, 48.3ms\n",
      "image 1755/2605 /tf/notebook/testimage/screencapture-hago-kr-2022-09-29-11_35_40.jpg: 640x160 3 banners, 3 2blocks, 1 3block, 8 5blocks, 3 6blocks, 1 header, 1 footer, 36.0ms\n",
      "image 1756/2605 /tf/notebook/testimage/screencapture-halfclub-main-2022-09-29-13_38_37.jpg: 640x192 3 banners, 2 2blocks, 2 3blocks, 4 4blocks, 1 header, 1 footer, 34.0ms\n",
      "image 1757/2605 /tf/notebook/testimage/screencapture-hamiltonwatch-ko-kr-2022-09-29-14_22_38.jpg: 640x352 1 banner, 1 3block, 2 4blocks, 2 5blocks, 1 typo, 1 gallery, 1 footer, 68.6ms\n",
      "image 1758/2605 /tf/notebook/testimage/screencapture-hanaunni-2022-09-29-10_06_55.jpg: 640x128 2 banners, 1 2block, 3 3blocks, 1 5block, 1 footer, 33.6ms\n",
      "image 1759/2605 /tf/notebook/testimage/screencapture-handlavet-qodeinteractive-2022-09-27-17_09_56.jpg: 640x192 5 banners, 2 3blocks, 1 4block, 1 6block, 1 footer, 22.8ms\n",
      "image 1760/2605 /tf/notebook/testimage/screencapture-handlavet-qodeinteractive-decor-home-2022-09-27-17_10_26.jpg: 640x320 1 banner, 2 3blocks, 1 4block, 1 typo, 1 gallery, 1 header, 1 footer, 28.8ms\n",
      "image 1761/2605 /tf/notebook/testimage/screencapture-handlavet-qodeinteractive-interior-design-studio-2022-09-27-17_10_17.jpg: 640x256 2 banners, 1 4block, 1 6block, 1 gallery, 1 header, 1 footer, 28.0ms\n",
      "image 1762/2605 /tf/notebook/testimage/screencapture-handpickcotton-kr-2022-09-28-16_28_14.jpg: 640x416 1 3block, 1 typo, 1 header, 65.1ms\n",
      "image 1763/2605 /tf/notebook/testimage/screencapture-handy-7uptheme-net-handy-home-2-2022-09-27-10_42_231163.jpg: 640x352 2 banners, 1 2block, 2 3blocks, 1 4block, 1 gallery, 1 header, 1 footer, 33.9ms\n",
      "image 1764/2605 /tf/notebook/testimage/screencapture-handy-7uptheme-net-handy-home-4-2022-09-27-10_42_371165.jpg: 640x192 4 banners, 2 3blocks, 1 4block, 1 typo, 1 gallery, 1 header, 1 footer, 23.8ms\n",
      "image 1765/2605 /tf/notebook/testimage/screencapture-handy-7uptheme-net-handy-home-5-2022-09-27-10_42_481166.jpg: 640x352 1 banner, 1 2block, 1 3block, 1 header, 1 footer, 26.7ms\n",
      "image 1766/2605 /tf/notebook/testimage/screencapture-handy-7uptheme-net-handy-home-6-2022-09-27-10_42_551167.jpg: 640x288 4 banners, 1 2block, 1 4block, 1 typo, 1 gallery, 1 header, 1 footer, 35.3ms\n",
      "image 1767/2605 /tf/notebook/testimage/screencapture-hangten-co-kr-2022-09-29-15_00_12.jpg: 640x192 2 banners, 3 2blocks, 1 3block, 2 4blocks, 1 nblock, 2 headers, 2 footers, 124.9ms\n",
      "image 1768/2605 /tf/notebook/testimage/screencapture-hanssem-main-main-do-2022-09-29-10_11_29.jpg: 640x288 2 banners, 3 3blocks, 2 4blocks, 3 typos, 1 header, 1 footer, 6.6ms\n",
      "image 1769/2605 /tf/notebook/testimage/screencapture-hanstyle-tv-2022-09-29-13_19_29.jpg: 640x192 3 banners, 1 2block, 1 3block, 4 4blocks, 3 5blocks, 1 header, 1 footer, 6.7ms\n",
      "image 1770/2605 /tf/notebook/testimage/screencapture-hansungmall-net-2022-09-29-09_25_07.jpg: 640x224 1 banner, 1 2block, 1 3block, 1 4block, 2 5blocks, 3 6blocks, 1 7block, 1 gallery, 1 header, 1 footer, 7.0ms\n",
      "image 1771/2605 /tf/notebook/testimage/screencapture-hanwoodamall-2022-09-29-10_53_22.jpg: 640x128 2 banners, 4 4blocks, 1 7block, 1 gallery, 1 header, 1 footer, 7.1ms\n",
      "image 1772/2605 /tf/notebook/testimage/screencapture-happy-rider-ancorathemes-2022-09-27-13_08_55.jpg: 640x160 3 banners, 2 2blocks, 1 3block, 2 4blocks, 1 header, 1 footer, 8.0ms\n",
      "image 1773/2605 /tf/notebook/testimage/screencapture-happy-rider-ancorathemes-home-2-2022-09-27-13_09_27.jpg: 640x160 4 banners, 1 2block, 3 3blocks, 1 4block, 1 5block, 1 6block, 1 header, 6.3ms\n",
      "image 1774/2605 /tf/notebook/testimage/screencapture-happy-rider-ancorathemes-home-3-2022-09-27-13_09_44.jpg: 640x128 3 banners, 1 3block, 2 4blocks, 1 5block, 2 typos, 1 gallery, 1 header, 1 footer, 7.9ms\n",
      "image 1775/2605 /tf/notebook/testimage/screencapture-hara-thembaydev-2022-09-27-14_03_31.jpg: 640x160 3 banners, 1 2block, 1 3block, 2 4blocks, 1 5block, 2 typos, 1 gallery, 1 header, 1 footer, 6.6ms\n",
      "image 1776/2605 /tf/notebook/testimage/screencapture-hara-thembaydev-demo-2-2022-09-27-14_03_43.jpg: 640x192 1 banner, 2 2blocks, 3 3blocks, 2 4blocks, 1 5block, 1 6block, 1 typo, 1 header, 1 footer, 7.1ms\n",
      "image 1777/2605 /tf/notebook/testimage/screencapture-hara-thembaydev-demo-3-2022-09-27-14_03_55.jpg: 640x224 3 banners, 1 3block, 1 5block, 1 6block, 1 typo, 1 header, 1 footer, 7.5ms\n",
      "image 1778/2605 /tf/notebook/testimage/screencapture-hara-thembaydev-demo-7-2022-09-27-14_04_16.jpg: 640x224 1 banner, 2 2blocks, 2 3blocks, 3 4blocks, 1 6block, 1 header, 1 footer, 21.0ms\n",
      "image 1779/2605 /tf/notebook/testimage/screencapture-hara-thembaydev-demo-9-2022-09-27-14_04_34.jpg: 640x160 1 banner, 2 2blocks, 1 3block, 5 4blocks, 1 header, 1 footer, 38.0ms\n",
      "image 1780/2605 /tf/notebook/testimage/screencapture-haselmode-co-kr-2022-09-29-13_24_20.jpg: 640x128 1 banner, 1 3block, 3 4blocks, 1 header, 1 footer, 19.6ms\n",
      "image 1781/2605 /tf/notebook/testimage/screencapture-haustiere-7uptheme-net-home-2-2022-09-28-11_35_41.jpg: 640x288 3 banners, 2 3blocks, 1 4block, 1 nblock, 1 typo, 1 gallery, 1 header, 1 footer, 28.4ms\n",
      "image 1782/2605 /tf/notebook/testimage/screencapture-havanasunday-2022-09-30-09_10_34.jpg: 640x96 1 banner, 7 4blocks, 1 5block, 1 footer, 21.8ms\n",
      "image 1783/2605 /tf/notebook/testimage/screencapture-hayden-lpdthemesdemo2-2022-09-28-11_29_57.jpg: 640x224 1 banner, 2 3blocks, 1 4block, 1 5block, 1 6block, 1 typo, 1 gallery, 1 header, 1 footer, 26.4ms\n",
      "image 1784/2605 /tf/notebook/testimage/screencapture-hayden-lpdthemesdemo2-front-page-2-2022-09-28-11_29_22.jpg: 640x160 3 banners, 1 2block, 1 3block, 1 4block, 1 5block, 1 6block, 1 typo, 1 header, 1 footer, 97.5ms\n",
      "image 1785/2605 /tf/notebook/testimage/screencapture-hazzys-display-do-2022-09-28-16_45_14.jpg: 640x160 3 banners, 3 2blocks, 3 5blocks, 1 8block, 1 typo, 1 footer, 37.7ms\n",
      "image 1786/2605 /tf/notebook/testimage/screencapture-healthyfood-kutethemes-net-home-02-2022-09-23-17_34_171182.jpg: 640x224 3 banners, 1 2block, 4 3blocks, 2 4blocks, 1 5block, 1 header, 1 footer, 61.6ms\n",
      "image 1787/2605 /tf/notebook/testimage/screencapture-healthyfood-kutethemes-net-home-03-2022-09-23-17_34_071183.jpg: 640x224 2 banners, 1 2block, 4 3blocks, 2 4blocks, 1 header, 1 footer, 48.1ms\n",
      "image 1788/2605 /tf/notebook/testimage/screencapture-healthyfood-kutethemes-net-home-05-2022-09-23-17_33_431185.jpg: 640x256 2 banners, 1 2block, 3 3blocks, 2 4blocks, 1 typo, 1 header, 1 footer, 50.3ms\n",
      "image 1789/2605 /tf/notebook/testimage/screencapture-healthyfood-kutethemes-net-home-06-2022-09-23-17_33_341186.jpg: 640x256 1 banner, 3 2blocks, 2 3blocks, 2 4blocks, 1 5block, 1 typo, 1 header, 1 footer, 40.4ms\n",
      "image 1790/2605 /tf/notebook/testimage/screencapture-hebes-g5plus-net-home-03-2022-09-26-11_41_35.jpg: 640x256 2 banners, 2 2blocks, 1 4block, 1 5block, 3 typos, 1 header, 2 footers, 148.3ms\n",
      "image 1791/2605 /tf/notebook/testimage/screencapture-hebes-g5plus-net-home-04-2022-09-26-11_41_46.jpg: 640x288 2 banners, 1 4block, 1 5block, 1 6block, 3 typos, 1 header, 1 footer, 27.7ms\n",
      "image 1792/2605 /tf/notebook/testimage/screencapture-hebes-g5plus-net-home-05-2022-09-26-11_42_09.jpg: 640x256 1 banner, 2 2blocks, 2 3blocks, 3 typos, 1 gallery, 1 footer, 37.0ms\n",
      "image 1793/2605 /tf/notebook/testimage/screencapture-hebes-g5plus-net-home-06-2022-09-26-11_42_19.jpg: 640x288 3 banners, 1 2block, 3 4blocks, 1 6block, 1 header, 1 footer, 24.0ms\n",
      "image 1794/2605 /tf/notebook/testimage/screencapture-hebes-g5plus-net-home-07-2022-09-26-11_42_43.jpg: 640x288 2 banners, 2 2blocks, 2 3blocks, 1 4block, 1 6block, 1 header, 1 footer, 49.4ms\n",
      "image 1795/2605 /tf/notebook/testimage/screencapture-hebes-g5plus-net-home-10-2022-09-26-11_43_49.jpg: 640x288 1 banner, 1 3block, 1 4block, 1 5block, 1 6block, 2 typos, 1 header, 1 footer, 23.7ms\n",
      "image 1796/2605 /tf/notebook/testimage/screencapture-hebes-g5plus-net-home-12-2022-09-26-11_44_57.jpg: 640x320 3 banners, 2 2blocks, 2 3blocks, 2 4blocks, 1 header, 1 footer, 23.3ms\n",
      "image 1797/2605 /tf/notebook/testimage/screencapture-hebes-g5plus-net-home-14-2022-09-26-11_46_40.jpg: 320x640 2 banners, 2 headers, 24.4ms\n"
     ]
    },
    {
     "name": "stdout",
     "output_type": "stream",
     "text": [
      "image 1798/2605 /tf/notebook/testimage/screencapture-hebes-g5plus-net-home-15-2022-09-26-11_46_46.jpg: 320x640 1 banner, 1 header, 23.4ms\n",
      "image 1799/2605 /tf/notebook/testimage/screencapture-heigl-kr-2022-09-30-09_42_47.jpg: 640x160 1 2block, 2 3blocks, 3 4blocks, 2 gallerys, 1 header, 1 footer, 18.4ms\n",
      "image 1800/2605 /tf/notebook/testimage/screencapture-heisgood-co-kr-2022-09-29-14_20_06.jpg: 640x128 1 3block, 4 4blocks, 1 5block, 1 6block, 1 gallery, 1 footer, 29.2ms\n",
      "image 1801/2605 /tf/notebook/testimage/screencapture-helas-la-studioweb-2022-09-26-10_57_201195.jpg: 640x352 1 banner, 1 2block, 1 3block, 1 4block, 3 typos, 1 header, 63.2ms\n",
      "image 1802/2605 /tf/notebook/testimage/screencapture-helas-la-studioweb-home-02-2022-09-26-10_57_371196.jpg: 640x288 2 banners, 1 3block, 1 4block, 2 5blocks, 3 typos, 1 header, 1 footer, 57.0ms\n",
      "image 1803/2605 /tf/notebook/testimage/screencapture-helas-la-studioweb-home-06-2022-09-26-10_58_551200.jpg: 640x288 2 banners, 3 4blocks, 1 6block, 1 7block, 1 header, 1 footer, 51.7ms\n",
      "image 1804/2605 /tf/notebook/testimage/screencapture-helas-la-studioweb-home-08-2022-09-26-10_59_231202.jpg: 640x352 2 banners, 1 4block, 2 typos, 1 header, 1 footer, 71.9ms\n",
      "image 1805/2605 /tf/notebook/testimage/screencapture-helas-la-studioweb-home-09-2022-09-26-10_59_311203.jpg: 640x320 4 banners, 1 typo, 1 header, 1 footer, 216.3ms\n",
      "image 1806/2605 /tf/notebook/testimage/screencapture-helas-la-studioweb-home-10-2022-09-26-10_59_451204.jpg: 640x320 1 banner, 1 2block, 1 5block, 1 7block, 1 gallery, 1 header, 1 footer, 6.5ms\n",
      "image 1807/2605 /tf/notebook/testimage/screencapture-helas-la-studioweb-home-11-2022-09-26-10_59_591205.jpg: 640x192 6 banners, 3 2blocks, 3 3blocks, 2 4blocks, 1 5block, 1 header, 1 footer, 7.4ms\n",
      "image 1808/2605 /tf/notebook/testimage/screencapture-helas-la-studioweb-home-12-2022-09-26-11_00_131206.jpg: 640x256 3 banners, 1 3block, 1 4block, 1 5block, 1 gallery, 1 header, 6.7ms\n",
      "image 1809/2605 /tf/notebook/testimage/screencapture-helas-la-studioweb-home-13-2022-09-26-11_00_241207.jpg: 640x256 2 banners, 2 3blocks, 1 5block, 1 6block, 1 gallery, 1 header, 1 footer, 22.8ms\n",
      "image 1810/2605 /tf/notebook/testimage/screencapture-helas-la-studioweb-home-14-2022-09-26-11_00_361208.jpg: 640x256 3 banners, 1 2block, 2 3blocks, 2 4blocks, 1 7block, 1 header, 1 footer, 20.1ms\n",
      "image 1811/2605 /tf/notebook/testimage/screencapture-helas-la-studioweb-home-15-2022-09-26-11_00_471209.jpg: 640x288 2 banners, 3 3blocks, 1 5block, 1 typo, 1 header, 1 footer, 75.5ms\n",
      "image 1812/2605 /tf/notebook/testimage/screencapture-helas-la-studioweb-home-16-2022-09-26-11_01_241210.jpg: 640x352 3 banners, 1 2block, 1 4block, 1 5block, 2 typos, 2 gallerys, 1 header, 34.8ms\n",
      "image 1813/2605 /tf/notebook/testimage/screencapture-hester-fluid-demo-squarespace-2022-09-21-18_02_36.jpg: 640x352 3 banners, 2 3blocks, 1 typo, 1 header, 25.6ms\n",
      "image 1814/2605 /tf/notebook/testimage/screencapture-hfashionmall-main-2022-09-29-11_20_54.jpg: 640x160 1 banner, 1 2block, 2 3blocks, 2 4blocks, 4 5blocks, 1 gallery, 1 header, 1 footer, 28.0ms\n",
      "image 1815/2605 /tf/notebook/testimage/screencapture-himpelmall-mall-index-php-2022-09-28-17_47_56.jpg: 640x256 2 banners, 1 2block, 4 3blocks, 1 5block, 1 6block, 1 8block, 1 nblock, 1 header, 1 footer, 50.7ms\n",
      "image 1816/2605 /tf/notebook/testimage/screencapture-hiver-co-kr-2022-09-29-14_38_32.jpg: 640x256 2 2blocks, 2 3blocks, 3 4blocks, 1 6block, 1 typo, 2 headers, 41.4ms\n",
      "image 1817/2605 /tf/notebook/testimage/screencapture-hmall-p-index-do-2022-09-29-09_40_44.jpg: 640x160 1 banner, 2 2blocks, 2 3blocks, 4 4blocks, 2 5blocks, 1 7block, 2 8blocks, 1 gallery, 1 header, 1 footer, 210.3ms\n",
      "image 1818/2605 /tf/notebook/testimage/screencapture-hn-hn-co-kr-2022-09-30-09_07_09.jpg: 640x96 1 banner, 7 4blocks, 1 typo, 1 header, 1 footer, 6.8ms\n",
      "image 1819/2605 /tf/notebook/testimage/screencapture-holaho-co-kr-2022-09-28-16_51_21.jpg: 640x224 3 banners, 2 2blocks, 1 header, 1 footer, 6.8ms\n",
      "image 1820/2605 /tf/notebook/testimage/screencapture-hollyshop-co-kr-2022-09-29-16_58_27.jpg: 640x128 1 2block, 2 4blocks, 1 5block, 1 6block, 1 gallery, 1 header, 1 footer, 7.2ms\n",
      "image 1821/2605 /tf/notebook/testimage/screencapture-hongo-themezaa-clothes-2022-09-22-15_49_17.jpg: 640x256 1 banner, 2 2blocks, 1 3block, 1 4block, 2 5blocks, 1 gallery, 1 header, 1 footer, 7.3ms\n",
      "image 1822/2605 /tf/notebook/testimage/screencapture-hongo-themezaa-electronic-2022-09-22-15_48_28.jpg: 640x256 1 2block, 2 3blocks, 3 4blocks, 2 5blocks, 1 gallery, 1 header, 1 footer, 11.3ms\n",
      "image 1823/2605 /tf/notebook/testimage/screencapture-hongo-themezaa-shoes-2022-09-22-15_49_53.jpg: 640x256 1 banner, 2 3blocks, 4 4blocks, 2 headers, 1 footer, 20.4ms\n",
      "image 1824/2605 /tf/notebook/testimage/screencapture-hongo-themezaa-sports-2022-09-22-15_50_31.jpg: 640x288 2 banners, 2 3blocks, 2 4blocks, 1 5block, 1 header, 1 footer, 29.4ms\n",
      "image 1825/2605 /tf/notebook/testimage/screencapture-hono-mallthemes-2022-09-28-09_39_10.jpg: 640x256 2 banners, 2 3blocks, 4 4blocks, 1 6block, 2 headers, 1 footer, 100.9ms\n",
      "image 1826/2605 /tf/notebook/testimage/screencapture-hono-mallthemes-cosmetic-2022-09-28-09_42_27.jpg: 640x288 3 banners, 2 3blocks, 4 4blocks, 1 header, 1 footer, 23.0ms\n",
      "image 1827/2605 /tf/notebook/testimage/screencapture-hono-mallthemes-digital-2022-09-28-09_42_36.jpg: 640x288 1 banner, 1 2block, 2 3blocks, 3 4blocks, 1 header, 1 footer, 21.9ms\n",
      "image 1828/2605 /tf/notebook/testimage/screencapture-hostacmee-space-demo-bookchoix-home-3-2022-09-27-09_51_03.jpg: 640x256 1 banner, 2 3blocks, 2 4blocks, 1 typo, 1 gallery, 1 header, 1 footer, 22.7ms\n",
      "image 1829/2605 /tf/notebook/testimage/screencapture-hot-10-2022-09-29-16_08_32.jpg: 640x96 1 2block, 2 3blocks, 1 gallery, 1 header, 1 footer, 13.4ms\n",
      "image 1830/2605 /tf/notebook/testimage/screencapture-hottracks-co-kr-ht-welcomeMain-2022-09-29-14_32_45.jpg: 640x160 4 banners, 6 2blocks, 5 3blocks, 2 4blocks, 2 5blocks, 1 7block, 1 8block, 1 typo, 1 gallery, 1 header, 42.0ms\n",
      "image 1831/2605 /tf/notebook/testimage/screencapture-huge-jewelry-myshopify-2022-09-23-11_28_49.jpg: 640x224 1 banner, 3 3blocks, 6 4blocks, 1 typo, 1 gallery, 1 header, 42.5ms\n",
      "image 1832/2605 /tf/notebook/testimage/screencapture-hugge-qodeinteractive-2022-09-28-10_52_56.jpg: 640x224 2 banners, 1 2block, 2 4blocks, 1 6block, 2 typos, 1 header, 1 footer, 85.3ms\n",
      "image 1833/2605 /tf/notebook/testimage/screencapture-hukubukuro-kr-2022-09-29-11_07_56.jpg: 640x96 1 banner, 1 3block, 2 4blocks, 1 5block, 1 gallery, 1 header, 1 footer, 37.8ms\n",
      "image 1834/2605 /tf/notebook/testimage/screencapture-huonsmall-2022-09-29-10_44_15.jpg: 640x288 1 banner, 2 3blocks, 1 4block, 1 5block, 3 gallerys, 1 header, 1 footer, 64.6ms\n",
      "image 1835/2605 /tf/notebook/testimage/screencapture-hyn-t-2022-09-29-10_43_14.jpg: 640x96 3 3blocks, 1 4block, 1 typo, 212.8ms\n",
      "image 1836/2605 /tf/notebook/testimage/screencapture-hypnotic-co-kr-2022-09-29-11_19_30.jpg: 640x64 3 4blocks, 1 gallery, 1 footer, 7.2ms\n",
      "image 1837/2605 /tf/notebook/testimage/screencapture-ibid-modeltheme-antiques-collectibles-2022-09-22-15_57_50.jpg: 640x512 3 banners, 1 2block, 1 3block, 1 4block, 1 6block, 1 typo, 1 gallery, 1 header, 1 footer, 7.2ms\n",
      "image 1838/2605 /tf/notebook/testimage/screencapture-ibid-modeltheme-real-estate-2022-09-22-15_58_21.jpg: 640x480 2 banners, 3 2blocks, 1 3block, 2 4blocks, 1 6block, 1 gallery, 1 header, 1 footer, 8.1ms\n",
      "image 1839/2605 /tf/notebook/testimage/screencapture-idfmall-co-kr-2022-09-29-10_24_04.jpg: 640x256 1 banner, 2 3blocks, 4 4blocks, 1 header, 2 footers, 13.7ms\n",
      "image 1840/2605 /tf/notebook/testimage/screencapture-idlookmall-display-brandSubIntroList-do-2022-09-30-10_00_47.jpg: 640x288 1 banner, 2 5blocks, 1 6block, 1 header, 1 footer, 18.3ms\n",
      "image 1841/2605 /tf/notebook/testimage/screencapture-idlookmall-display-brandSubIntroList-do-2022-09-30-10_07_36.jpg: 640x288 1 banner, 3 5blocks, 1 6block, 1 header, 1 footer, 18.6ms\n",
      "image 1842/2605 /tf/notebook/testimage/screencapture-idlookmall-main-do-2022-09-29-16_10_24.jpg: 640x224 3 banners, 1 3block, 2 4blocks, 3 5blocks, 1 header, 1 footer, 27.3ms\n",
      "image 1843/2605 /tf/notebook/testimage/screencapture-iffiliate-modeltheme-2022-09-27-16_54_45.jpg: 640x224 1 banner, 2 2blocks, 2 3blocks, 1 4block, 1 5block, 4 6blocks, 1 8block, 1 header, 1 footer, 24.1ms\n"
     ]
    },
    {
     "name": "stdout",
     "output_type": "stream",
     "text": [
      "image 1844/2605 /tf/notebook/testimage/screencapture-iffiliate-modeltheme-cryptocurrency-affiliate-home-nft-affiliates-2022-09-27-16_56_40.jpg: 640x160 4 banners, 3 2blocks, 4 3blocks, 1 4block, 1 5block, 1 header, 1 footer, 27.2ms\n",
      "image 1845/2605 /tf/notebook/testimage/screencapture-iffiliate-modeltheme-dating-affiliates-2022-09-27-16_56_32.jpg: 640x256 3 banners, 1 2block, 1 3block, 3 4blocks, 1 header, 1 footer, 35.9ms\n",
      "image 1846/2605 /tf/notebook/testimage/screencapture-iffiliate-modeltheme-gaming-affiliate-2022-09-27-16_55_53.jpg: 640x224 2 banners, 1 2block, 3 3blocks, 1 4block, 3 5blocks, 1 8block, 1 header, 1 footer, 38.5ms\n",
      "image 1847/2605 /tf/notebook/testimage/screencapture-iffiliate-modeltheme-home-2-2022-09-27-16_55_18.jpg: 640x256 2 banners, 2 2blocks, 1 3block, 1 4block, 3 5blocks, 2 6blocks, 1 8block, 1 header, 1 footer, 51.2ms\n",
      "image 1848/2605 /tf/notebook/testimage/screencapture-iffiliate-modeltheme-rtl-2022-09-27-16_56_19.jpg: 640x224 1 banner, 2 2blocks, 2 3blocks, 1 4block, 1 5block, 4 6blocks, 1 8block, 1 header, 1 footer, 42.5ms\n",
      "image 1849/2605 /tf/notebook/testimage/screencapture-ikea-kr-ko-2022-09-29-10_10_51.jpg: 640x160 1 banner, 2 2blocks, 2 3blocks, 1 5block, 1 6block, 1 7block, 1 8block, 2 gallerys, 1 header, 130.1ms\n",
      "image 1850/2605 /tf/notebook/testimage/screencapture-ilsannob-2022-09-29-11_12_33.jpg: 640x128 1 banner, 1 3block, 5 4blocks, 1 header, 1 footer, 57.7ms\n",
      "image 1851/2605 /tf/notebook/testimage/screencapture-ilva-co-kr-2022-09-28-17_16_42.jpg: 640x256 2 banners, 1 3block, 2 4blocks, 1 5block, 1 header, 1 footer, 24.4ms\n",
      "image 1852/2605 /tf/notebook/testimage/screencapture-imvely-2022-09-29-11_39_55.jpg: 640x96 2 banners, 2 3blocks, 8 4blocks, 2 5blocks, 1 6block, 1 header, 1 footer, 16.8ms\n",
      "image 1853/2605 /tf/notebook/testimage/screencapture-inburstshop-2022-09-28-17_58_24.jpg: 640x480 1 banner, 1 3block, 3 4blocks, 1 header, 41.7ms\n",
      "image 1854/2605 /tf/notebook/testimage/screencapture-indigo-qodeinteractive-metro-home-2022-09-26-09_52_17.jpg: 640x384 1 banner, 1 gallery, 1 header, 115.1ms\n",
      "image 1855/2605 /tf/notebook/testimage/screencapture-int-bape-2022-09-29-14_21_08.jpg: 640x288 1 banner, 1 3block, 1 4block, 1 5block, 1 gallery, 1 header, 1 footer, 27.3ms\n",
      "image 1856/2605 /tf/notebook/testimage/screencapture-interpark-malls-index-html-2022-09-29-14_56_36.jpg: 640x192 3 banners, 1 3block, 1 4block, 1 5block, 10 6blocks, 1 7block, 1 nblock, 2 gallerys, 1 header, 1 footer, 23.2ms\n",
      "image 1857/2605 /tf/notebook/testimage/screencapture-ione-wp1-zootemplate-home-best-selling-2022-09-27-13_37_56.jpg: 640x576 1 banner, 1 2block, 1 5block, 1 header, 46.8ms\n",
      "image 1858/2605 /tf/notebook/testimage/screencapture-ione-wp1-zootemplate-home-collections-banner-2022-09-27-13_38_04.jpg: 640x640 1 gallery, 2 headers, 50.3ms\n",
      "image 1859/2605 /tf/notebook/testimage/screencapture-ione-wp1-zootemplate-home-full-width-2022-09-27-13_38_27.jpg: 640x288 1 banner, 1 3block, 2 4blocks, 1 typo, 1 header, 1 footer, 26.0ms\n",
      "image 1860/2605 /tf/notebook/testimage/screencapture-ione-wp1-zootemplate-home-header-transparency-2022-09-27-13_38_34.jpg: 640x256 1 banner, 1 2block, 2 3blocks, 2 5blocks, 1 typo, 1 header, 1 footer, 94.5ms\n",
      "image 1861/2605 /tf/notebook/testimage/screencapture-ione-wp1-zootemplate-home-minimal-with-filter-2022-09-27-13_39_05.jpg: 640x608 2 banners, 1 4block, 1 5block, 1 header, 1 footer, 62.0ms\n",
      "image 1862/2605 /tf/notebook/testimage/screencapture-ipharm-axiomthemes-2022-09-27-16_33_02.jpg: 640x288 3 banners, 2 2blocks, 4 3blocks, 1 4block, 1 5block, 1 header, 1 footer, 28.7ms\n",
      "image 1863/2605 /tf/notebook/testimage/screencapture-ipharm-axiomthemes-home-2-2022-09-27-16_33_09.jpg: 640x288 3 banners, 2 2blocks, 4 3blocks, 1 4block, 1 5block, 1 8block, 1 header, 1 footer, 29.7ms\n",
      "image 1864/2605 /tf/notebook/testimage/screencapture-ipharm-axiomthemes-home-4-2022-09-27-16_33_27.jpg: 640x416 2 banners, 1 2block, 2 3blocks, 2 4blocks, 1 header, 1 footer, 45.1ms\n",
      "image 1865/2605 /tf/notebook/testimage/screencapture-ipharm-axiomthemes-home-5-2022-09-27-16_33_39.jpg: 640x256 5 banners, 2 2blocks, 1 3block, 2 4blocks, 1 8block, 1 typo, 1 header, 1 footer, 50.5ms\n",
      "image 1866/2605 /tf/notebook/testimage/screencapture-ipharm-axiomthemes-home-6-2022-09-27-16_33_49.jpg: 640x320 3 banners, 2 3blocks, 2 4blocks, 1 gallery, 1 header, 1 footer, 58.2ms\n",
      "image 1867/2605 /tf/notebook/testimage/screencapture-irina-novaworks-net-2022-09-23-14_56_47.jpg: 640x256 2 banners, 1 2block, 2 3blocks, 1 4block, 1 5block, 1 6block, 1 header, 1 footer, 52.9ms\n",
      "image 1868/2605 /tf/notebook/testimage/screencapture-irina-novaworks-net-2022-09-27-11_01_081221.jpg: 640x256 2 banners, 1 2block, 2 3blocks, 2 4blocks, 1 5block, 1 6block, 1 header, 1 footer, 42.5ms\n",
      "image 1869/2605 /tf/notebook/testimage/screencapture-irina-novaworks-net-home-v10-2022-09-27-11_03_011230.jpg: 640x256 2 banners, 2 3blocks, 2 4blocks, 1 5block, 1 6block, 1 7block, 1 header, 1 footer, 49.6ms\n",
      "image 1870/2605 /tf/notebook/testimage/screencapture-irina-novaworks-net-home-v11-2022-09-27-11_01_161231.jpg: 640x256 3 banners, 1 3block, 1 4block, 2 5blocks, 1 header, 1 footer, 46.5ms\n",
      "image 1871/2605 /tf/notebook/testimage/screencapture-irina-novaworks-net-home-v2-2022-09-27-11_01_391222.jpg: 640x256 3 banners, 2 4blocks, 1 5block, 1 header, 1 footer, 55.5ms\n",
      "image 1872/2605 /tf/notebook/testimage/screencapture-irina-novaworks-net-home-v3-2022-09-23-15_07_34.jpg: 640x256 2 banners, 1 2block, 2 3blocks, 1 4block, 1 5block, 2 headers, 1 footer, 82.2ms\n",
      "image 1873/2605 /tf/notebook/testimage/screencapture-irina-novaworks-net-home-v3-2022-09-27-11_01_281223.jpg: 640x224 2 banners, 1 2block, 2 3blocks, 1 4block, 1 5block, 1 header, 1 footer, 39.4ms\n",
      "image 1874/2605 /tf/notebook/testimage/screencapture-irina-novaworks-net-home-v4-2022-09-23-15_08_40.jpg: 640x256 2 2blocks, 1 typo, 1 header, 1 footer, 48.4ms\n",
      "image 1875/2605 /tf/notebook/testimage/screencapture-irina-novaworks-net-home-v5-2022-09-23-15_08_49.jpg: 640x256 1 banner, 1 2block, 3 3blocks, 1 4block, 1 5block, 1 typo, 1 footer, 50.2ms\n",
      "image 1876/2605 /tf/notebook/testimage/screencapture-irina-novaworks-net-home-v5-2022-09-27-11_01_571225.jpg: 640x224 1 banner, 2 2blocks, 3 3blocks, 1 4block, 1 5block, 1 typo, 1 footer, 22.1ms\n",
      "image 1877/2605 /tf/notebook/testimage/screencapture-irina-novaworks-net-home-v6-2022-09-27-11_02_091226.jpg: 640x224 2 banners, 3 3blocks, 3 4blocks, 1 5block, 1 6block, 1 typo, 1 header, 1 footer, 22.2ms\n",
      "image 1878/2605 /tf/notebook/testimage/screencapture-irina-novaworks-net-home-v7-2022-09-23-15_09_16.jpg: 640x224 3 banners, 1 2block, 2 3blocks, 1 4block, 1 7block, 1 gallery, 1 header, 1 footer, 22.2ms\n",
      "image 1879/2605 /tf/notebook/testimage/screencapture-irina-novaworks-net-home-v7-2022-09-27-11_02_201227.jpg: 640x224 3 banners, 2 3blocks, 1 4block, 1 7block, 1 gallery, 1 header, 1 footer, 27.2ms\n",
      "image 1880/2605 /tf/notebook/testimage/screencapture-irina-novaworks-net-home-v8-2022-09-27-11_02_411228.jpg: 640x224 2 banners, 2 3blocks, 2 4blocks, 1 6block, 1 7block, 1 gallery, 1 header, 1 footer, 186.7ms\n",
      "image 1881/2605 /tf/notebook/testimage/screencapture-itaewonmall-2022-09-29-11_45_06.jpg: 640x160 3 banners, 3 3blocks, 3 4blocks, 1 header, 1 footer, 6.9ms\n",
      "image 1882/2605 /tf/notebook/testimage/screencapture-iwinwinmarket-main-index-php-2022-09-29-14_32_57.jpg: 640x384 1 banner, 1 3block, 3 4blocks, 1 5block, 1 6block, 1 7block, 1 typo, 1 header, 1 footer, 7.4ms\n",
      "image 1883/2605 /tf/notebook/testimage/screencapture-j-blin-2022-09-29-16_09_34.jpg: 640x96 1 3block, 3 4blocks, 1 5block, 1 gallery, 1 header, 2 footers, 8.9ms\n",
      "image 1884/2605 /tf/notebook/testimage/screencapture-jacknjill-co-kr-2022-09-29-16_53_33.jpg: 640x384 1 banner, 1 3block, 2 4blocks, 1 5block, 1 header, 1 footer, 6.9ms\n",
      "image 1885/2605 /tf/notebook/testimage/screencapture-james-1-myshopify-2022-09-23-11_58_12.jpg: 640x384 2 banners, 2 2blocks, 4 4blocks, 2 6blocks, 3 headers, 1 footer, 6.6ms\n",
      "image 1886/2605 /tf/notebook/testimage/screencapture-james-1-myshopify-2022-09-23-11_58_29.jpg: 640x544 1 banner, 2 2blocks, 3 3blocks, 1 4block, 1 6block, 1 gallery, 2 headers, 1 footer, 8.5ms\n",
      "image 1887/2605 /tf/notebook/testimage/screencapture-james-1-myshopify-2022-09-23-12_00_22.jpg: 640x416 2 banners, 1 2block, 2 3blocks, 1 4block, 1 6block, 2 typos, 2 headers, 1 footer, 36.4ms\n"
     ]
    },
    {
     "name": "stdout",
     "output_type": "stream",
     "text": [
      "image 1888/2605 /tf/notebook/testimage/screencapture-javenist-mallthemes-2022-09-28-10_22_52.jpg: 640x320 1 2block, 1 3block, 2 4blocks, 2 5blocks, 2 gallerys, 1 header, 1 footer, 55.1ms\n",
      "image 1889/2605 /tf/notebook/testimage/screencapture-javier-la-studioweb-2022-09-27-13_03_54.jpg: 640x224 3 banners, 3 3blocks, 1 4block, 2 5blocks, 1 typo, 1 gallery, 1 header, 1 footer, 34.8ms\n",
      "image 1890/2605 /tf/notebook/testimage/screencapture-javier-la-studioweb-main-fashion-02-2022-09-27-13_04_51.jpg: 640x256 5 banners, 1 2block, 3 3blocks, 1 4block, 2 headers, 1 footer, 27.6ms\n",
      "image 1891/2605 /tf/notebook/testimage/screencapture-javier-la-studioweb-main-fashion-03-2022-09-27-13_05_02.jpg: 352x640 1 2block, 1 header, 108.6ms\n",
      "image 1892/2605 /tf/notebook/testimage/screencapture-javier-la-studioweb-main-fashion-04-2022-09-27-13_05_11.jpg: 640x384 2 banners, 2 gallerys, 1 header, 1 footer, 46.7ms\n",
      "image 1893/2605 /tf/notebook/testimage/screencapture-javier-la-studioweb-main-furniture-01-2022-09-27-13_05_56.jpg: 640x320 2 banners, 2 2blocks, 1 3block, 2 4blocks, 1 typo, 3 headers, 1 footer, 47.1ms\n",
      "image 1894/2605 /tf/notebook/testimage/screencapture-javier-la-studioweb-main-organic-01-2022-09-27-13_06_07.jpg: 640x352 2 banners, 2 2blocks, 1 3block, 1 4block, 1 typo, 2 headers, 1 footer, 36.6ms\n",
      "image 1895/2605 /tf/notebook/testimage/screencapture-javier-la-studioweb-main-sport-01-2022-09-27-13_05_29.jpg: 640x320 1 banner, 2 2blocks, 2 3blocks, 2 4blocks, 2 headers, 1 footer, 29.6ms\n",
      "image 1896/2605 /tf/notebook/testimage/screencapture-javier-la-studioweb-main-watch-01-2022-09-27-13_06_18.jpg: 640x416 2 banners, 2 2blocks, 1 3block, 3 4blocks, 3 headers, 1 footer, 80.4ms\n",
      "image 1897/2605 /tf/notebook/testimage/screencapture-jayla-beplusthemes-babyclothes-2022-09-27-13_25_40.jpg: 640x288 4 banners, 1 2block, 1 3block, 1 4block, 1 typo, 3 headers, 1 footer, 96.1ms\n",
      "image 1898/2605 /tf/notebook/testimage/screencapture-jayla-beplusthemes-clothes-2022-09-27-13_25_09.jpg: 640x192 3 banners, 2 3blocks, 2 4blocks, 2 5blocks, 1 header, 1 footer, 9.1ms\n",
      "image 1899/2605 /tf/notebook/testimage/screencapture-jayla-beplusthemes-clothes-home-2-2022-09-27-13_25_01.jpg: 640x224 2 banners, 1 2block, 2 4blocks, 1 gallery, 2 headers, 1 footer, 7.0ms\n",
      "image 1900/2605 /tf/notebook/testimage/screencapture-jayla-beplusthemes-cosmetic-2022-09-27-13_25_24.jpg: 640x192 2 banners, 1 2block, 2 3blocks, 2 4blocks, 3 5blocks, 1 gallery, 1 header, 1 footer, 7.7ms\n",
      "image 1901/2605 /tf/notebook/testimage/screencapture-jayla-beplusthemes-furniture-home-2-2022-09-27-13_24_54.jpg: 640x288 1 banner, 1 3block, 3 4blocks, 1 6block, 1 header, 1 footer, 6.6ms\n",
      "image 1902/2605 /tf/notebook/testimage/screencapture-jayla-beplusthemes-handmade-2022-09-27-13_25_49.jpg: 640x192 3 banners, 1 2block, 1 3block, 3 4blocks, 1 5block, 2 typos, 1 gallery, 1 header, 1 footer, 7.3ms\n",
      "image 1903/2605 /tf/notebook/testimage/screencapture-jayla-beplusthemes-handmade-home-2-2022-09-27-13_26_00.jpg: 640x192 3 banners, 1 3block, 3 4blocks, 1 6block, 1 typo, 2 headers, 1 footer, 6.2ms\n",
      "image 1904/2605 /tf/notebook/testimage/screencapture-jayla-beplusthemes-jewelry-2022-09-27-13_26_10.jpg: 640x256 2 banners, 1 2block, 3 3blocks, 1 5block, 1 typo, 1 header, 1 footer, 7.9ms\n",
      "image 1905/2605 /tf/notebook/testimage/screencapture-jayla-beplusthemes-wine-2022-09-27-13_26_26.jpg: 640x192 4 banners, 2 2blocks, 2 3blocks, 1 4block, 1 5block, 2 headers, 1 footer, 7.0ms\n",
      "image 1906/2605 /tf/notebook/testimage/screencapture-jbros-co-kr-2022-09-29-09_39_30.jpg: 640x160 1 banner, 4 4blocks, 1 gallery, 1 header, 1 footer, 33.7ms\n",
      "image 1907/2605 /tf/notebook/testimage/screencapture-jewelar-peacefulqode-home-minimal-2022-09-27-15_22_34.jpg: 640x224 2 banners, 1 2block, 3 3blocks, 2 4blocks, 1 5block, 1 header, 1 footer, 9.6ms\n",
      "image 1908/2605 /tf/notebook/testimage/screencapture-jewelar-peacefulqode-home-unique-2022-09-27-15_22_50.jpg: 640x224 3 banners, 2 2blocks, 1 3block, 2 4blocks, 1 typo, 1 header, 1 footer, 21.4ms\n",
      "image 1909/2605 /tf/notebook/testimage/screencapture-jez-mbkip3ms9u-e92498n216kr-p-temp-site-link-2022-09-27-14_14_57.jpg: 640x384 2 banners, 1 2block, 3 4blocks, 2 5blocks, 1 6block, 1 header, 1 footer, 28.9ms\n",
      "image 1910/2605 /tf/notebook/testimage/screencapture-jez-mbkip3ms9u-e92498n216kr-p-temp-site-link-hand-5-craft-2022-09-27-14_15_27.jpg: 640x320 2 banners, 1 2block, 2 3blocks, 4 4blocks, 1 5block, 1 gallery, 1 header, 2 footers, 26.4ms\n",
      "image 1911/2605 /tf/notebook/testimage/screencapture-jez-mbkip3ms9u-e92498n216kr-p-temp-site-link-home-3-decor-2022-09-27-14_15_11.jpg: 640x384 2 banners, 1 2block, 1 3block, 3 4blocks, 1 5block, 1 6block, 1 header, 1 footer, 30.8ms\n",
      "image 1912/2605 /tf/notebook/testimage/screencapture-jez-mbkip3ms9u-e92498n216kr-p-temp-site-link-home-4-decor-2-2022-09-27-14_15_19.jpg: 640x352 2 banners, 2 2blocks, 1 3block, 2 4blocks, 1 5block, 1 6block, 1 typo, 1 header, 1 footer, 40.6ms\n",
      "image 1913/2605 /tf/notebook/testimage/screencapture-jez-mbkip3ms9u-e92498n216kr-p-temp-site-link-home-6-handcraft-2-2022-09-27-14_15_35.jpg: 640x384 2 banners, 1 2block, 1 3block, 4 4blocks, 1 5block, 1 gallery, 1 header, 1 footer, 252.6ms\n",
      "image 1914/2605 /tf/notebook/testimage/screencapture-jez-mbkip3ms9u-e92498n216kr-p-temp-site-link-home-7-2022-09-27-14_15_41.jpg: 640x384 1 banner, 1 2block, 3 3blocks, 2 4blocks, 1 5block, 1 gallery, 1 header, 2 footers, 6.1ms\n",
      "image 1915/2605 /tf/notebook/testimage/screencapture-jez-mbkip3ms9u-e92498n216kr-p-temp-site-link-home-8-2022-09-27-14_15_49.jpg: 640x416 2 banners, 2 2blocks, 3 4blocks, 1 6block, 1 typo, 1 header, 1 footer, 7.3ms\n",
      "image 1916/2605 /tf/notebook/testimage/screencapture-jez-mbkip3ms9u-e92498n216kr-p-temp-site-link-home-9-2022-09-27-14_15_57.jpg: 640x384 1 banner, 1 2block, 2 3blocks, 4 4blocks, 2 headers, 2 footers, 6.8ms\n",
      "image 1917/2605 /tf/notebook/testimage/screencapture-jez-mbkip3ms9u-e92498n216kr-p-temp-site-link-home-furniture-2-2022-09-27-14_15_04.jpg: 640x384 1 banner, 1 2block, 1 3block, 2 4blocks, 2 5blocks, 1 gallery, 1 header, 1 footer, 18.1ms\n",
      "image 1918/2605 /tf/notebook/testimage/screencapture-jilsander-ko-kr-home-2022-09-29-14_28_55.jpg: 640x224 3 banners, 2 2blocks, 1 typo, 2 headers, 20.2ms\n",
      "image 1919/2605 /tf/notebook/testimage/screencapture-jimmychoo-kr-ko-KR-2022-09-29-13_33_25.jpg: 640x288 1 banner, 1 2block, 1 3block, 1 4block, 1 typo, 1 header, 2 footers, 24.9ms\n",
      "image 1920/2605 /tf/notebook/testimage/screencapture-jimmychoo-kr-ko-KR-2022-09-29-13_33_40.jpg: 640x224 1 3block, 2 4blocks, 2 typos, 1 header, 1 footer, 23.1ms\n",
      "image 1921/2605 /tf/notebook/testimage/screencapture-jinnykimcollection-co-kr-2022-09-29-14_03_41.jpg: 640x192 1 banner, 1 2block, 4 4blocks, 1 5block, 1 typo, 1 header, 1 footer, 35.0ms\n",
      "image 1922/2605 /tf/notebook/testimage/screencapture-jogunshop-2022-09-29-13_22_09.jpg: 640x96 1 banner, 2 3blocks, 4 4blocks, 1 5block, 2 gallerys, 62.6ms\n",
      "image 1923/2605 /tf/notebook/testimage/screencapture-jogunshop-index-html-2022-09-28-17_07_12.jpg: 640x96 1 banner, 1 2block, 1 3block, 3 4blocks, 1 5block, 26.9ms\n",
      "image 1924/2605 /tf/notebook/testimage/screencapture-jooen-2022-09-30-09_46_19.jpg: 640x96 1 2block, 1 3block, 3 4blocks, 1 6block, 1 7block, 1 8block, 1 typo, 1 header, 1 footer, 43.5ms\n",
      "image 1925/2605 /tf/notebook/testimage/screencapture-joosajang-2022-09-29-09_28_35.jpg: 640x96 2 banners, 4 4blocks, 1 footer, 27.6ms\n",
      "image 1926/2605 /tf/notebook/testimage/screencapture-josephandstacey-cafe24-2022-09-29-10_12_37.jpg: 640x256 1 banner, 2 2blocks, 1 3block, 1 4block, 1 header, 1 footer, 128.2ms\n",
      "image 1927/2605 /tf/notebook/testimage/screencapture-joyu-co-kr-2022-09-29-16_58_53.jpg: 640x128 2 banners, 5 4blocks, 1 7block, 1 8block, 1 gallery, 1 header, 1 footer, 16.1ms\n",
      "image 1928/2605 /tf/notebook/testimage/screencapture-jstyleshop-net-2022-09-29-10_59_36.jpg: 640x160 1 2block, 1 3block, 4 4blocks, 2 5blocks, 1 6block, 1 7block, 1 8block, 1 typo, 1 gallery, 1 header, 1 footer, 6.7ms\n",
      "image 1929/2605 /tf/notebook/testimage/screencapture-juliette-novaworks-net-cosmetic-home-2022-09-28-10_18_301240.jpg: 640x256 1 banner, 1 3block, 3 4blocks, 1 header, 1 footer, 7.9ms\n",
      "image 1930/2605 /tf/notebook/testimage/screencapture-juliette-novaworks-net-home-03-2022-09-28-10_21_361242.jpg: 640x224 2 banners, 1 3block, 1 4block, 1 5block, 1 6block, 1 7block, 1 gallery, 2 headers, 1 footer, 10.9ms\n"
     ]
    },
    {
     "name": "stdout",
     "output_type": "stream",
     "text": [
      "image 1931/2605 /tf/notebook/testimage/screencapture-juliette-novaworks-net-home-04-2022-09-28-10_22_301243.jpg: 640x224 1 banner, 1 2block, 1 3block, 2 4blocks, 1 5block, 1 6block, 1 header, 1 footer, 14.2ms\n",
      "image 1932/2605 /tf/notebook/testimage/screencapture-juliette-novaworks-net-men-home-2022-09-28-10_16_371246.jpg: 640x224 2 banners, 2 3blocks, 2 4blocks, 1 5block, 1 header, 1 footer, 14.1ms\n",
      "image 1933/2605 /tf/notebook/testimage/screencapture-july-uxper-co-bikes-2022-09-26-16_51_18.jpg: 640x352 4 banners, 1 2block, 3 3blocks, 1 5block, 2 typos, 2 headers, 1 footer, 20.5ms\n",
      "image 1934/2605 /tf/notebook/testimage/screencapture-july-uxper-co-book-2022-09-26-16_47_30.jpg: 640x448 2 banners, 1 2block, 2 4blocks, 1 5block, 1 6block, 1 header, 1 footer, 40.9ms\n",
      "image 1935/2605 /tf/notebook/testimage/screencapture-july-uxper-co-fashion03-2022-09-26-16_40_59.jpg: 640x256 2 banners, 1 3block, 2 4blocks, 2 gallerys, 1 header, 1 footer, 33.8ms\n",
      "image 1936/2605 /tf/notebook/testimage/screencapture-july-uxper-co-fashion04-2022-09-26-16_41_26.jpg: 640x320 1 banner, 3 4blocks, 1 5block, 1 typo, 1 gallery, 1 header, 1 footer, 39.9ms\n",
      "image 1937/2605 /tf/notebook/testimage/screencapture-july-uxper-co-fashion08-2022-09-26-16_42_43.jpg: 320x640 1 banner, 1 2block, 1 header, 2 footers, 34.9ms\n",
      "image 1938/2605 /tf/notebook/testimage/screencapture-july-uxper-co-fashion09-2022-09-26-16_42_51.jpg: 640x352 2 banners, 1 3block, 1 4block, 2 gallerys, 1 header, 1 footer, 39.5ms\n",
      "image 1939/2605 /tf/notebook/testimage/screencapture-july-uxper-co-glasses-2022-09-26-16_46_01.jpg: 640x384 1 banner, 2 3blocks, 2 4blocks, 2 5blocks, 2 gallerys, 1 header, 1 footer, 93.9ms\n",
      "image 1940/2605 /tf/notebook/testimage/screencapture-july-uxper-co-kid-toys-2022-09-26-16_50_53.jpg: 640x288 1 banner, 1 2block, 1 3block, 5 4blocks, 1 5block, 1 typo, 1 header, 1 footer, 25.2ms\n",
      "image 1941/2605 /tf/notebook/testimage/screencapture-july-uxper-co-skins-2022-09-26-16_45_34.jpg: 640x320 4 banners, 3 3blocks, 1 4block, 2 typos, 1 header, 2 footers, 25.9ms\n",
      "image 1942/2605 /tf/notebook/testimage/screencapture-july-uxper-co-sportware01-2022-09-26-16_45_51.jpg: 640x320 2 banners, 3 4blocks, 1 5block, 1 typo, 1 header, 1 footer, 70.1ms\n",
      "image 1943/2605 /tf/notebook/testimage/screencapture-july-uxper-co-yogaclothing-2022-09-26-16_43_14.jpg: 640x288 2 banners, 2 3blocks, 2 4blocks, 1 5block, 1 typo, 2 gallerys, 1 header, 1 footer, 68.7ms\n",
      "image 1944/2605 /tf/notebook/testimage/screencapture-just-young-co-kr-2022-09-29-09_53_43.jpg: 640x192 1 banner, 1 3block, 1 4block, 1 header, 1 footer, 76.4ms\n",
      "image 1945/2605 /tf/notebook/testimage/screencapture-k-village-co-kr-eider-2022-09-29-09_49_20.jpg: 640x256 3 banners, 2 2blocks, 3 5blocks, 1 6block, 1 header, 20.6ms\n",
      "image 1946/2605 /tf/notebook/testimage/screencapture-k-village-co-kr-wangle-2022-09-29-10_25_39.jpg: 640x256 4 banners, 1 2block, 2 5blocks, 1 6block, 1 typo, 1 header, 1 footer, 19.3ms\n",
      "image 1947/2605 /tf/notebook/testimage/screencapture-kamleshyadav-wp-carinawp-carina-v2-2022-09-27-14_53_01.jpg: 640x288 3 banners, 2 3blocks, 2 4blocks, 1 6block, 1 gallery, 2 headers, 1 footer, 27.7ms\n",
      "image 1948/2605 /tf/notebook/testimage/screencapture-kamleshyadav-wp-handmadewp-home-v1-2022-09-26-17_10_38.jpg: 640x224 3 banners, 2 3blocks, 1 5block, 2 gallerys, 1 header, 1 footer, 19.3ms\n",
      "image 1949/2605 /tf/notebook/testimage/screencapture-kamleshyadav-wp-handmadewp-home-v2-2022-09-26-17_10_55.jpg: 640x256 3 banners, 2 2blocks, 3 3blocks, 1 5block, 1 typo, 1 gallery, 2 headers, 1 footer, 42.0ms\n",
      "image 1950/2605 /tf/notebook/testimage/screencapture-kangkas-2022-09-29-11_04_22.jpg: 640x192 5 banners, 5 2blocks, 1 3block, 1 4block, 2 typos, 1 gallery, 1 header, 1 footer, 41.6ms\n",
      "image 1951/2605 /tf/notebook/testimage/screencapture-kapee-presslayouts-2022-09-22-15_30_34.jpg: 640x512 1 4block, 5 5blocks, 2 6blocks, 1 nblock, 1 gallery, 1 header, 1 footer, 91.6ms\n",
      "image 1952/2605 /tf/notebook/testimage/screencapture-kapee-presslayouts-layout-fullscreen-2022-09-22-15_31_01.jpg: 640x288 2 banners, 2 3blocks, 2 4blocks, 1 5block, 1 typo, 1 footer, 65.0ms\n",
      "image 1953/2605 /tf/notebook/testimage/screencapture-kappa-co-kr-main-today-2022-09-29-15_17_47.jpg: 640x192 3 banners, 3 3blocks, 3 5blocks, 1 6block, 3 headers, 21.0ms\n",
      "image 1954/2605 /tf/notebook/testimage/screencapture-karamat-jwsuperthemes-homepage-02-2022-09-27-13_45_22.jpg: 640x256 4 banners, 1 2block, 2 3blocks, 1 4block, 4 5blocks, 1 gallery, 1 header, 1 footer, 26.4ms\n",
      "image 1955/2605 /tf/notebook/testimage/screencapture-karamat-jwsuperthemes-homepage-03-2022-09-27-13_45_29.jpg: 640x288 5 banners, 1 3block, 5 4blocks, 1 5block, 1 6block, 1 typo, 1 gallery, 1 header, 1 footer, 32.1ms\n",
      "image 1956/2605 /tf/notebook/testimage/screencapture-karenwhite-co-kr-2022-09-29-16_49_55.jpg: 416x640 1 banner, 2 headers, 1 footer, 102.6ms\n",
      "image 1957/2605 /tf/notebook/testimage/screencapture-keds-co-kr-main-main-asp-2022-09-29-13_28_46.jpg: 640x192 2 banners, 2 2blocks, 4 4blocks, 1 5block, 1 gallery, 1 header, 1 footer, 152.3ms\n",
      "image 1958/2605 /tf/notebook/testimage/screencapture-kelimmall-net-2022-09-28-16_44_06.jpg: 640x288 7 banners, 1 4block, 2 6blocks, 1 gallery, 2 footers, 6.9ms\n",
      "image 1959/2605 /tf/notebook/testimage/screencapture-kiditos-themetechmount-net-kiditos-shoes-2022-09-27-10_56_34.jpg: 640x320 3 banners, 2 2blocks, 1 3block, 3 4blocks, 1 header, 1 footer, 6.6ms\n",
      "image 1960/2605 /tf/notebook/testimage/screencapture-kiditos-themetechmount-net-kiditos-toys-2022-09-27-10_57_09.jpg: 640x256 3 banners, 1 2block, 1 3block, 3 4blocks, 1 6block, 1 typo, 2 gallerys, 1 header, 1 footer, 10.5ms\n",
      "image 1961/2605 /tf/notebook/testimage/screencapture-kids-r-us-cmsmasters-net-2022-09-27-16_58_031258.jpg: 640x256 3 banners, 2 4blocks, 1 typo, 1 gallery, 1 header, 6.3ms\n",
      "image 1962/2605 /tf/notebook/testimage/screencapture-kijakeunyeoja-2022-09-29-16_17_17.jpg: 640x128 5 4blocks, 1 5block, 1 typo, 3 gallerys, 1 header, 2 footers, 7.6ms\n",
      "image 1963/2605 /tf/notebook/testimage/screencapture-kirsh-co-kr-2022-09-29-09_59_55.jpg: 640x224 4 banners, 1 typo, 2 headers, 8.1ms\n",
      "image 1964/2605 /tf/notebook/testimage/screencapture-klbtheme-clotya-home-3-2022-09-28-11_23_46.jpg: 640x256 1 banner, 2 2blocks, 3 3blocks, 2 4blocks, 1 typo, 2 gallerys, 1 header, 2 footers, 6.8ms\n",
      "image 1965/2605 /tf/notebook/testimage/screencapture-klbtheme-clotya-home-4-2022-09-28-11_23_52.jpg: 640x256 3 banners, 1 2block, 1 3block, 2 4blocks, 1 6block, 1 typo, 1 header, 1 footer, 14.6ms\n",
      "image 1966/2605 /tf/notebook/testimage/screencapture-klbtheme-clotya-home-5-2022-09-28-11_23_58.jpg: 640x224 2 banners, 4 2blocks, 4 3blocks, 1 4block, 2 6blocks, 1 header, 1 footer, 23.9ms\n",
      "image 1967/2605 /tf/notebook/testimage/screencapture-klbtheme-clotya-home-6-2022-09-28-11_24_05.jpg: 640x224 3 banners, 3 2blocks, 4 3blocks, 2 4blocks, 2 gallerys, 1 header, 1 footer, 22.5ms\n",
      "image 1968/2605 /tf/notebook/testimage/screencapture-klbtheme-cosmetsy-2022-09-28-10_58_46.jpg: 640x256 1 banner, 2 2blocks, 1 3block, 3 4blocks, 1 5block, 1 typo, 1 header, 1 footer, 34.2ms\n",
      "image 1969/2605 /tf/notebook/testimage/screencapture-klbtheme-cosmetsy-home-2-2022-09-28-10_58_52.jpg: 640x224 2 banners, 1 3block, 2 4blocks, 2 5blocks, 1 header, 1 footer, 31.3ms\n",
      "image 1970/2605 /tf/notebook/testimage/screencapture-klbtheme-cosmetsy-home-3-2022-09-28-10_58_58.jpg: 640x160 5 banners, 1 2block, 1 3block, 2 4blocks, 1 5block, 1 typo, 1 gallery, 1 header, 2 footers, 26.7ms\n",
      "image 1971/2605 /tf/notebook/testimage/screencapture-klbtheme-furnob-home-2-2022-09-28-09_42_55.jpg: 640x192 3 banners, 2 2blocks, 3 3blocks, 4 4blocks, 1 6block, 1 typo, 1 header, 1 footer, 44.1ms\n",
      "image 1972/2605 /tf/notebook/testimage/screencapture-klbtheme-furnob-home-2022-09-28-09_43_25.jpg: 640x192 2 banners, 3 2blocks, 4 3blocks, 1 4block, 1 6block, 2 typos, 1 header, 1 footer, 172.5ms\n",
      "image 1973/2605 /tf/notebook/testimage/screencapture-klbtheme-furnob-home-3-2022-09-28-09_43_02.jpg: 640x224 2 banners, 2 2blocks, 2 3blocks, 1 4block, 1 6block, 2 typos, 2 headers, 1 footer, 9.1ms\n",
      "image 1974/2605 /tf/notebook/testimage/screencapture-klbtheme-furnob-home-4-2022-09-28-09_43_12.jpg: 640x160 4 banners, 2 2blocks, 3 3blocks, 3 4blocks, 1 6block, 1 header, 1 footer, 6.9ms\n"
     ]
    },
    {
     "name": "stdout",
     "output_type": "stream",
     "text": [
      "image 1975/2605 /tf/notebook/testimage/screencapture-klbtheme-furnob-home-5-2022-09-28-09_43_19.jpg: 640x224 2 banners, 2 2blocks, 3 3blocks, 1 4block, 1 6block, 1 typo, 1 header, 1 footer, 7.0ms\n",
      "image 1976/2605 /tf/notebook/testimage/screencapture-klbtheme-medibazar-2022-09-27-11_09_01.jpg: 640x192 1 banner, 1 2block, 5 3blocks, 1 4block, 2 6blocks, 1 gallery, 1 header, 1 footer, 7.0ms\n",
      "image 1977/2605 /tf/notebook/testimage/screencapture-klbtheme-medibazar-home-3-2022-09-27-11_10_02.jpg: 640x224 1 banner, 2 2blocks, 2 3blocks, 2 4blocks, 2 6blocks, 1 header, 1 footer, 13.1ms\n",
      "image 1978/2605 /tf/notebook/testimage/screencapture-kodeforest-net-wp-demo-bookclub-book-2-column-2022-09-28-09_50_45.jpg: 640x480 2 banners, 1 2block, 1 typo, 1 gallery, 1 header, 1 footer, 44.4ms\n",
      "image 1979/2605 /tf/notebook/testimage/screencapture-kodeforest-net-wp-demo-bookclub-book-3-column-2022-09-28-09_50_51.jpg: 640x544 2 banners, 1 4block, 1 header, 49.2ms\n",
      "image 1980/2605 /tf/notebook/testimage/screencapture-kodeforest-net-wp-demo-bookclub-book-4-column-2022-09-28-09_50_56.jpg: 640x640 2 banners, 1 4block, 1 typo, 1 header, 1 footer, 113.7ms\n",
      "image 1981/2605 /tf/notebook/testimage/screencapture-kodesolution-2022-organek-2022-09-27-14_17_09.jpg: 640x192 5 banners, 4 2blocks, 2 3blocks, 3 4blocks, 1 5block, 1 header, 1 footer, 18.4ms\n",
      "image 1982/2605 /tf/notebook/testimage/screencapture-kodesolution-2022-organek-home-layout10-2022-09-27-14_18_38.jpg: 640x192 5 banners, 2 2blocks, 3 3blocks, 3 4blocks, 1 header, 1 footer, 19.3ms\n",
      "image 1983/2605 /tf/notebook/testimage/screencapture-kodesolution-2022-organek-home-layout13-2022-09-27-14_19_06.jpg: 640x192 2 banners, 1 2block, 3 3blocks, 5 4blocks, 1 gallery, 1 header, 1 footer, 23.5ms\n",
      "image 1984/2605 /tf/notebook/testimage/screencapture-kodesolution-2022-organek-home-layout15-2022-09-27-14_19_27.jpg: 640x288 3 banners, 2 3blocks, 3 4blocks, 1 5block, 2 gallerys, 1 header, 1 footer, 56.1ms\n",
      "image 1985/2605 /tf/notebook/testimage/screencapture-kodesolution-2022-organek-home-layout16-2022-09-27-14_19_36.jpg: 640x256 3 banners, 2 3blocks, 3 4blocks, 2 5blocks, 1 gallery, 1 header, 1 footer, 47.8ms\n",
      "image 1986/2605 /tf/notebook/testimage/screencapture-kodesolution-2022-organek-home-layout17-2022-09-27-14_19_43.jpg: 640x320 4 banners, 2 2blocks, 3 3blocks, 1 4block, 1 header, 1 footer, 76.1ms\n",
      "image 1987/2605 /tf/notebook/testimage/screencapture-kodesolution-2022-organek-home-layout18-2022-09-27-14_19_50.jpg: 640x192 1 banner, 3 2blocks, 3 3blocks, 3 4blocks, 1 typo, 1 header, 1 footer, 37.4ms\n",
      "image 1988/2605 /tf/notebook/testimage/screencapture-kodesolution-2022-organek-home-layout19-2022-09-27-14_19_59.jpg: 640x256 2 banners, 1 2block, 3 3blocks, 4 4blocks, 1 gallery, 1 header, 1 footer, 60.1ms\n",
      "image 1989/2605 /tf/notebook/testimage/screencapture-kodesolution-2022-organek-home-layout20-2022-09-27-14_20_08.jpg: 640x288 4 banners, 1 2block, 3 3blocks, 1 4block, 1 gallery, 1 header, 1 footer, 52.6ms\n",
      "image 1990/2605 /tf/notebook/testimage/screencapture-kodesolution-2022-organek-home-layout21-2022-09-27-14_20_18.jpg: 640x256 1 banner, 5 3blocks, 3 4blocks, 1 gallery, 1 header, 1 footer, 52.7ms\n",
      "image 1991/2605 /tf/notebook/testimage/screencapture-kodesolution-2022-organek-home-layout4-2022-09-27-14_17_53.jpg: 640x288 2 banners, 1 2block, 1 3block, 2 4blocks, 1 5block, 1 header, 1 footer, 65.9ms\n",
      "image 1992/2605 /tf/notebook/testimage/screencapture-kodesolution-2022-organek-home-layout6-2022-09-27-14_18_10.jpg: 640x192 4 banners, 2 2blocks, 3 3blocks, 3 4blocks, 1 header, 1 footer, 20.7ms\n",
      "image 1993/2605 /tf/notebook/testimage/screencapture-kodesolution-2022-organek-home-layout7-2022-09-27-14_18_19.jpg: 640x288 1 banner, 1 3block, 3 4blocks, 1 typo, 1 gallery, 1 header, 1 footer, 29.7ms\n",
      "image 1994/2605 /tf/notebook/testimage/screencapture-kodesolution-2022-organek-home-layout8-2022-09-27-14_18_27.jpg: 640x224 2 banners, 1 2block, 3 3blocks, 3 4blocks, 1 header, 1 footer, 21.3ms\n",
      "image 1995/2605 /tf/notebook/testimage/screencapture-kodesolution-2022-organek-rtl-2022-09-27-14_17_32.jpg: 640x192 5 banners, 3 2blocks, 1 3block, 3 4blocks, 3 5blocks, 1 header, 1 footer, 21.2ms\n",
      "image 1996/2605 /tf/notebook/testimage/screencapture-kodo-wp1-zootemplate-home-1-2022-09-28-11_00_27.jpg: 640x320 3 banners, 2 3blocks, 1 4block, 1 5block, 2 headers, 57.4ms\n",
      "image 1997/2605 /tf/notebook/testimage/screencapture-kodo-wp1-zootemplate-home-10-2022-09-28-11_01_14.jpg: 640x288 2 banners, 3 2blocks, 3 gallerys, 1 header, 50.3ms\n",
      "image 1998/2605 /tf/notebook/testimage/screencapture-kodo-wp1-zootemplate-home-9-2022-09-28-11_01_07.jpg: 640x320 5 banners, 1 4block, 1 header, 69.5ms\n",
      "image 1999/2605 /tf/notebook/testimage/screencapture-koibito-co-kr-2022-09-29-11_10_57.jpg: 640x224 1 2block, 1 4block, 4 5blocks, 1 6block, 1 typo, 2 gallerys, 1 header, 2 footers, 55.3ms\n",
      "image 2000/2605 /tf/notebook/testimage/screencapture-koibito-co-kr-vintage-main-html-2022-09-29-11_11_17.jpg: 640x480 2 banners, 1 5block, 2 nblocks, 2 typos, 1 header, 1 footer, 101.7ms\n",
      "image 2001/2605 /tf/notebook/testimage/screencapture-kolonmall-2022-09-29-14_34_54.jpg: 640x192 3 banners, 1 2block, 2 4blocks, 1 5block, 4 6blocks, 1 nblock, 1 header, 2 footers, 21.9ms\n",
      "image 2002/2605 /tf/notebook/testimage/screencapture-kolonmall-COURONNE-2022-09-29-09_30_47.jpg: 640x256 2 banners, 1 3block, 2 6blocks, 2 7blocks, 1 8block, 1 gallery, 1 header, 1 footer, 27.9ms\n",
      "image 2003/2605 /tf/notebook/testimage/screencapture-kolonmall-WAAC-2022-09-29-15_01_25.jpg: 640x160 2 banners, 2 4blocks, 1 5block, 4 6blocks, 1 gallery, 1 footer, 28.6ms\n",
      "image 2004/2605 /tf/notebook/testimage/screencapture-kor-mizuno-2022-09-29-09_34_43.jpg: 640x224 1 banner, 2 3blocks, 1 4block, 2 5blocks, 1 gallery, 1 header, 2 footers, 22.6ms\n",
      "image 2005/2605 /tf/notebook/testimage/screencapture-korea-coach-index-html-2022-09-29-10_00_54.jpg: 640x192 1 banner, 1 2block, 2 3blocks, 1 4block, 4 5blocks, 2 headers, 1 footer, 185.8ms\n",
      "image 2006/2605 /tf/notebook/testimage/screencapture-koreanapparel-co-kr-2022-09-29-09_46_14.jpg: 640x64 1 banner, 1 3block, 6.6ms\n",
      "image 2007/2605 /tf/notebook/testimage/screencapture-koreasang-co-kr-2022-09-29-10_39_31.jpg: 640x224 2 banners, 3 3blocks, 3 4blocks, 1 typo, 2 headers, 1 footer, 7.0ms\n",
      "image 2008/2605 /tf/notebook/testimage/screencapture-kozi-familab-net-2022-09-27-14_03_12.jpg: 640x320 3 banners, 1 2block, 1 3block, 1 4block, 1 5block, 1 typo, 2 headers, 2 footers, 6.6ms\n",
      "image 2009/2605 /tf/notebook/testimage/screencapture-kozi-familab-net-home-2-2022-09-27-14_03_18.jpg: 640x288 2 banners, 1 2block, 1 3block, 3 4blocks, 1 6block, 3 headers, 1 footer, 7.1ms\n",
      "image 2010/2605 /tf/notebook/testimage/screencapture-kozi-familab-net-home-3-2022-09-27-14_03_26.jpg: 640x288 3 2blocks, 2 3blocks, 2 gallerys, 1 header, 1 footer, 9.7ms\n",
      "image 2011/2605 /tf/notebook/testimage/screencapture-kozi-familab-net-home-4-2022-09-27-14_03_32.jpg: 640x288 3 banners, 1 2block, 1 4block, 1 typo, 1 header, 1 footer, 6.4ms\n",
      "image 2012/2605 /tf/notebook/testimage/screencapture-kozi-familab-net-home-5-2022-09-27-14_03_39.jpg: 640x288 3 banners, 2 2blocks, 1 3block, 1 4block, 1 header, 1 footer, 6.0ms\n",
      "image 2013/2605 /tf/notebook/testimage/screencapture-kozi-familab-net-home-6-2022-09-27-14_03_45.jpg: 640x256 1 banner, 1 2block, 2 3blocks, 1 4block, 2 typos, 1 header, 1 footer, 19.6ms\n",
      "image 2014/2605 /tf/notebook/testimage/screencapture-kr-alphaindustries-ko-kr-alpha-zelooperz-2022-09-29-14_48_15.jpg: 640x288 3 banners, 1 3block, 2 typos, 1 gallery, 2 headers, 1 footer, 29.8ms\n",
      "image 2015/2605 /tf/notebook/testimage/screencapture-kr-burberry-l-womens-outerwear-2022-09-28-16_57_13.jpg: 640x64 1 banner, 1 2block, 5 4blocks, 2 gallerys, 1 footer, 15.7ms\n",
      "image 2016/2605 /tf/notebook/testimage/screencapture-kr-dolcegabbana-ko-2022-09-29-13_18_54.jpg: 640x352 3 banners, 1 2block, 1 5block, 1 typo, 3 headers, 1 footer, 49.7ms\n",
      "image 2017/2605 /tf/notebook/testimage/screencapture-kr-iherb-2022-09-29-11_00_41.jpg: 640x448 2 banners, 1 5block, 4 6blocks, 1 7block, 2 8blocks, 2 typos, 1 header, 67.6ms\n",
      "image 2018/2605 /tf/notebook/testimage/screencapture-kr-puma-2022-09-29-09_23_15.jpg: 640x288 5 banners, 3 2blocks, 1 4block, 1 header, 1 footer, 32.8ms\n"
     ]
    },
    {
     "name": "stdout",
     "output_type": "stream",
     "text": [
      "image 2019/2605 /tf/notebook/testimage/screencapture-kr-puma-2022-09-29-13_55_32.jpg: 640x320 6 banners, 1 4block, 3 headers, 1 footer, 27.0ms\n",
      "image 2020/2605 /tf/notebook/testimage/screencapture-kr-puma-kr-ko-2022-09-29-13_56_00.jpg: 640x256 5 banners, 2 4blocks, 2 headers, 1 footer, 57.7ms\n",
      "image 2021/2605 /tf/notebook/testimage/screencapture-kuchimachi-2022-09-28-17_28_21.jpg: 640x128 1 banner, 2 5blocks, 1 typo, 2 gallerys, 1 header, 1 footer, 52.2ms\n",
      "image 2022/2605 /tf/notebook/testimage/screencapture-kumkangshoe-2022-09-28-17_55_52.jpg: 640x192 1 banner, 1 3block, 2 4blocks, 3 6blocks, 1 7block, 1 8block, 1 typo, 1 header, 1 footer, 50.9ms\n",
      "image 2023/2605 /tf/notebook/testimage/screencapture-kumkangshoe-2022-09-29-13_25_21.jpg: 640x192 1 banner, 1 3block, 2 4blocks, 3 6blocks, 1 8block, 1 typo, 1 header, 1 footer, 64.6ms\n",
      "image 2024/2605 /tf/notebook/testimage/screencapture-kumkangshoe-2022-09-29-16_41_02.jpg: 640x192 1 banner, 1 3block, 2 4blocks, 4 6blocks, 1 7block, 1 8block, 1 typo, 1 header, 1 footer, 284.0ms\n",
      "image 2025/2605 /tf/notebook/testimage/screencapture-kurly-main-2022-09-29-10_52_46.jpg: 640x96 3 banners, 2 2blocks, 1 3block, 7 4blocks, 1 5block, 6.8ms\n",
      "image 2026/2605 /tf/notebook/testimage/screencapture-kuteshop-7uptheme-net-home-11-2022-09-28-11_40_42.jpg: 640x288 1 banner, 3 4blocks, 2 5blocks, 1 6block, 1 typo, 1 header, 1 footer, 6.6ms\n",
      "image 2027/2605 /tf/notebook/testimage/screencapture-kuteshop-7uptheme-net-home-13-2022-09-28-11_40_52.jpg: 640x256 3 banners, 5 2blocks, 3 3blocks, 2 4blocks, 1 6block, 2 gallerys, 2 headers, 1 footer, 7.1ms\n",
      "image 2028/2605 /tf/notebook/testimage/screencapture-kuteshop-7uptheme-net-home-14-2022-09-28-11_40_58.jpg: 640x320 1 banner, 1 2block, 3 3blocks, 1 4block, 1 6block, 1 typo, 1 header, 1 footer, 15.2ms\n",
      "image 2029/2605 /tf/notebook/testimage/screencapture-kuteshop-7uptheme-net-home-15-2022-09-28-11_41_03.jpg: 640x320 1 2block, 2 3blocks, 1 gallery, 1 header, 1 footer, 16.2ms\n",
      "image 2030/2605 /tf/notebook/testimage/screencapture-kuteshop-7uptheme-net-home-16-2022-09-28-11_41_08.jpg: 640x256 7 3blocks, 6 5blocks, 1 6block, 2 gallerys, 2 headers, 1 footer, 16.9ms\n",
      "image 2031/2605 /tf/notebook/testimage/screencapture-kuteshop-7uptheme-net-home-5-2022-09-28-11_39_54.jpg: 640x224 2 3blocks, 3 5blocks, 3 6blocks, 5 gallerys, 3 headers, 2 footers, 24.3ms\n",
      "image 2032/2605 /tf/notebook/testimage/screencapture-kuteshop-7uptheme-net-home-6-2022-09-28-11_40_16.jpg: 640x224 5 banners, 1 2block, 1 3block, 2 4blocks, 6 5blocks, 1 6block, 4 gallerys, 1 header, 1 footer, 22.1ms\n",
      "image 2033/2605 /tf/notebook/testimage/screencapture-kuteshop-7uptheme-net-home-8-2022-09-28-11_40_24.jpg: 640x320 3 3blocks, 1 5block, 1 6block, 4 gallerys, 1 header, 1 footer, 46.0ms\n",
      "image 2034/2605 /tf/notebook/testimage/screencapture-kuteshop-7uptheme-net-home-9-2022-09-28-11_40_29.jpg: 640x256 1 2block, 3 3blocks, 7 gallerys, 1 header, 1 footer, 70.1ms\n",
      "image 2035/2605 /tf/notebook/testimage/screencapture-labambaroom-2022-09-29-15_38_34.jpg: 640x160 1 banner, 2 3blocks, 1 4block, 1 6block, 1 typo, 39.7ms\n",
      "image 2036/2605 /tf/notebook/testimage/screencapture-labellusso-2022-09-29-11_08_49.jpg: 640x384 2 banners, 1 3block, 3 4blocks, 1 6block, 1 gallery, 1 header, 1 footer, 156.1ms\n",
      "image 2037/2605 /tf/notebook/testimage/screencapture-labs-saurabh-sharma-net-themes-bonanza-home-03-2022-09-27-13_15_20.jpg: 640x416 1 banner, 3 2blocks, 4 4blocks, 3 5blocks, 1 header, 1 footer, 7.3ms\n",
      "image 2038/2605 /tf/notebook/testimage/screencapture-labs-saurabh-sharma-net-themes-bonanza-home-04-2022-09-27-13_15_30.jpg: 640x512 1 2block, 5 4blocks, 2 5blocks, 1 typo, 2 gallerys, 1 header, 1 footer, 7.4ms\n",
      "image 2039/2605 /tf/notebook/testimage/screencapture-lacomete-qodeinteractive-2022-09-27-13_29_05.jpg: 640x128 6 banners, 1 2block, 2 3blocks, 4 4blocks, 1 gallery, 1 header, 12.6ms\n",
      "image 2040/2605 /tf/notebook/testimage/screencapture-lacuzinmall-2022-09-28-17_18_41.jpg: 640x320 2 banners, 2 2blocks, 1 4block, 1 5block, 2 gallerys, 1 header, 1 footer, 18.0ms\n",
      "image 2041/2605 /tf/notebook/testimage/screencapture-lagirl-co-kr-2022-09-29-11_01_41.jpg: 640x96 3 banners, 2 2blocks, 2 3blocks, 6 4blocks, 3 gallerys, 2 footers, 17.2ms\n",
      "image 2042/2605 /tf/notebook/testimage/screencapture-lakaikorea-co-kr-2022-09-29-11_08_24.jpg: 640x416 2 banners, 1 2block, 1 3block, 1 5block, 1 6block, 1 gallery, 1 header, 52.2ms\n",
      "image 2043/2605 /tf/notebook/testimage/screencapture-lakaikorea-co-kr-2022-09-29-15_56_52.jpg: 640x416 2 banners, 2 2blocks, 1 3block, 1 5block, 1 6block, 1 gallery, 1 header, 47.5ms\n",
      "image 2044/2605 /tf/notebook/testimage/screencapture-lakickz-2022-09-28-16_49_27.jpg: 640x352 1 banner, 1 3block, 1 4block, 1 6block, 1 gallery, 4 headers, 1 footer, 71.4ms\n",
      "image 2045/2605 /tf/notebook/testimage/screencapture-lalab2b-main-index-php-2022-09-29-15_21_32.jpg: 640x224 1 banner, 1 2block, 2 4blocks, 1 nblock, 3 typos, 1 gallery, 1 header, 1 footer, 48.1ms\n",
      "image 2046/2605 /tf/notebook/testimage/screencapture-lalabong-co-kr-2022-09-28-17_10_53.jpg: 640x128 1 banner, 5 4blocks, 1 header, 1 footer, 76.5ms\n",
      "image 2047/2605 /tf/notebook/testimage/screencapture-lalafancy-main-index-php-2022-09-29-15_22_18.jpg: 640x256 3 banners, 1 2block, 3 4blocks, 1 header, 1 footer, 53.8ms\n",
      "image 2048/2605 /tf/notebook/testimage/screencapture-lamerfashion-7uptheme-net-home-2-2022-09-28-13_47_13.jpg: 640x224 2 banners, 2 2blocks, 4 3blocks, 2 4blocks, 1 5block, 1 header, 1 footer, 59.6ms\n",
      "image 2049/2605 /tf/notebook/testimage/screencapture-lamerfashion-7uptheme-net-home-4-2022-09-28-13_47_31.jpg: 640x224 4 banners, 1 2block, 2 3blocks, 1 4block, 1 typo, 1 gallery, 1 header, 1 footer, 40.1ms\n",
      "image 2050/2605 /tf/notebook/testimage/screencapture-lamerfashion-7uptheme-net-home-8-2022-09-28-13_48_09.jpg: 640x224 3 4blocks, 1 gallery, 1 header, 1 footer, 117.1ms\n",
      "image 2051/2605 /tf/notebook/testimage/screencapture-lamira-true-emotions-studio-2022-09-26-16_31_18.jpg: 640x224 2 banners, 3 2blocks, 3 3blocks, 1 4block, 1 6block, 1 footer, 25.6ms\n",
      "image 2052/2605 /tf/notebook/testimage/screencapture-lamira-true-emotions-studio-home-10-2022-09-26-16_33_37.jpg: 640x288 2 banners, 1 2block, 2 3blocks, 1 4block, 1 6block, 1 header, 1 footer, 26.5ms\n",
      "image 2053/2605 /tf/notebook/testimage/screencapture-lamira-true-emotions-studio-home-3-2022-09-26-16_31_39.jpg: 640x352 1 banner, 2 2blocks, 2 6blocks, 1 header, 1 footer, 26.4ms\n",
      "image 2054/2605 /tf/notebook/testimage/screencapture-lamira-true-emotions-studio-home-4-2022-09-26-16_31_46.jpg: 640x416 2 3blocks, 3 4blocks, 1 header, 1 footer, 85.3ms\n",
      "image 2055/2605 /tf/notebook/testimage/screencapture-lamira-true-emotions-studio-home-5-2022-09-26-16_31_58.jpg: 640x288 1 banner, 1 2block, 2 3blocks, 1 4block, 1 6block, 1 gallery, 1 header, 1 footer, 68.6ms\n",
      "image 2056/2605 /tf/notebook/testimage/screencapture-lamira-true-emotions-studio-home-6-2022-09-26-16_32_09.jpg: 640x288 2 banners, 1 2block, 1 3block, 1 6block, 1 gallery, 1 header, 1 footer, 53.0ms\n",
      "image 2057/2605 /tf/notebook/testimage/screencapture-lamira-true-emotions-studio-home-7-2022-09-26-16_32_23.jpg: 640x320 1 banner, 2 3blocks, 1 4block, 1 6block, 1 gallery, 1 header, 1 footer, 58.1ms\n",
      "image 2058/2605 /tf/notebook/testimage/screencapture-lamira-true-emotions-studio-home-8-2022-09-26-16_32_34.jpg: 640x288 2 banners, 1 2block, 2 3blocks, 1 5block, 1 6block, 1 gallery, 1 header, 1 footer, 124.7ms\n",
      "image 2059/2605 /tf/notebook/testimage/screencapture-lamira-true-emotions-studio-home-9-2022-09-26-16_32_58.jpg: 640x288 1 banner, 2 2blocks, 2 3blocks, 1 4block, 1 7block, 1 header, 1 footer, 6.3ms\n",
      "image 2060/2605 /tf/notebook/testimage/screencapture-langnlu-2022-09-29-17_11_22.jpg: 640x256 2 banners, 1 typo, 1 header, 6.7ms\n",
      "image 2061/2605 /tf/notebook/testimage/screencapture-lapa-la-studioweb-home-03-2022-09-27-16_15_47.jpg: 640x320 2 banners, 2 2blocks, 1 3block, 1 5block, 1 8block, 1 footer, 8.7ms\n",
      "image 2062/2605 /tf/notebook/testimage/screencapture-lapa-la-studioweb-home-05-2022-09-27-16_15_57.jpg: 640x320 1 2block, 2 3blocks, 1 4block, 1 5block, 1 6block, 1 gallery, 1 header, 1 footer, 6.7ms\n",
      "image 2063/2605 /tf/notebook/testimage/screencapture-lapa-la-studioweb-home-06-2022-09-27-16_16_04.jpg: 640x256 3 banners, 1 2block, 1 3block, 1 5block, 1 typo, 2 headers, 1 footer, 19.9ms\n"
     ]
    },
    {
     "name": "stdout",
     "output_type": "stream",
     "text": [
      "image 2064/2605 /tf/notebook/testimage/screencapture-lapa-la-studioweb-home-08-2022-09-27-16_16_20.jpg: 640x288 3 banners, 3 3blocks, 1 4block, 1 5block, 3 typos, 1 footer, 30.7ms\n",
      "image 2065/2605 /tf/notebook/testimage/screencapture-lapa-la-studioweb-home-10-2022-09-27-16_16_35.jpg: 640x288 3 banners, 1 2block, 3 3blocks, 1 8block, 1 header, 1 footer, 25.7ms\n",
      "image 2066/2605 /tf/notebook/testimage/screencapture-lapalette-co-kr-2022-09-29-16_39_06.jpg: 640x576 1 banner, 2 2blocks, 1 5block, 1 typo, 1 header, 1 footer, 54.3ms\n",
      "image 2067/2605 /tf/notebook/testimage/screencapture-lartigent-index-html-2022-09-29-17_24_44.jpg: 416x640 1 banner, 2 typos, 1 header, 1 footer, 77.4ms\n",
      "image 2068/2605 /tf/notebook/testimage/screencapture-laurenhi-2022-09-29-11_06_23.jpg: 640x96 1 3block, 5 4blocks, 2 5blocks, 1 6block, 1 footer, 236.1ms\n",
      "image 2069/2605 /tf/notebook/testimage/screencapture-lauriel-la-studioweb-demo-auto-parts-01-2022-09-26-13_48_351292.jpg: 640x160 1 banner, 2 2blocks, 1 3block, 1 4block, 6 5blocks, 1 6block, 1 typo, 1 header, 1 footer, 10.3ms\n",
      "image 2070/2605 /tf/notebook/testimage/screencapture-lauriel-la-studioweb-demo-fashion-02-2022-09-26-13_45_351294.jpg: 640x224 5 banners, 2 headers, 1 footer, 6.8ms\n",
      "image 2071/2605 /tf/notebook/testimage/screencapture-lauriel-la-studioweb-demo-furniture-01-2022-09-26-13_50_351295.jpg: 640x192 2 banners, 2 4blocks, 1 6block, 2 typos, 1 gallery, 1 header, 1 footer, 7.8ms\n",
      "image 2072/2605 /tf/notebook/testimage/screencapture-lauriel-la-studioweb-demo-jewelry-01-2022-09-26-13_51_041296.jpg: 640x160 6 banners, 3 3blocks, 1 4block, 3 typos, 1 header, 1 footer, 6.8ms\n",
      "image 2073/2605 /tf/notebook/testimage/screencapture-lauriel-la-studioweb-demo-organic-01-2022-09-26-13_50_141300.jpg: 640x160 2 banners, 2 2blocks, 2 3blocks, 2 4blocks, 1 5block, 1 8block, 1 header, 2 footers, 13.0ms\n",
      "image 2074/2605 /tf/notebook/testimage/screencapture-lauriel-la-studioweb-demo-plants-01-2022-09-26-13_44_551301.jpg: 640x160 3 banners, 2 3blocks, 3 4blocks, 1 typo, 1 header, 1 footer, 28.4ms\n",
      "image 2075/2605 /tf/notebook/testimage/screencapture-lauriel-la-studioweb-medical-2022-09-26-13_51_361302.jpg: 640x192 2 2blocks, 2 3blocks, 3 4blocks, 1 5block, 1 6block, 1 typo, 1 header, 2 footers, 36.6ms\n",
      "image 2076/2605 /tf/notebook/testimage/screencapture-ld-wp73-template-help-tf-demo-biona-biona-demo-home2-2022-09-27-10_58_531304.jpg: 640x224 2 banners, 3 3blocks, 2 4blocks, 1 typo, 1 gallery, 2 headers, 1 footer, 21.7ms\n",
      "image 2077/2605 /tf/notebook/testimage/screencapture-ld-wp73-template-help-tf-demo-biona-biona-demo-home5-2022-09-27-10_59_191307.jpg: 640x288 3 banners, 3 2blocks, 1 3block, 1 typo, 1 header, 1 footer, 36.7ms\n",
      "image 2078/2605 /tf/notebook/testimage/screencapture-ld-wp73-template-help-tf-demo-biona-biona-demo-home6-2022-09-27-10_59_261308.jpg: 640x224 2 banners, 1 2block, 3 3blocks, 4 4blocks, 2 headers, 1 footer, 32.4ms\n",
      "image 2079/2605 /tf/notebook/testimage/screencapture-ld-wp73-template-help-tf-demo-biona-biona-demo-home7-2022-09-27-10_59_361309.jpg: 640x224 3 banners, 1 2block, 2 3blocks, 2 4blocks, 1 header, 1 footer, 67.7ms\n",
      "image 2080/2605 /tf/notebook/testimage/screencapture-ld-wp73-template-help-tf-demo-medijuana-medijuana-default-home-2-2022-09-28-15_23_11.jpg: 640x288 3 banners, 1 2block, 2 3blocks, 1 4block, 2 6blocks, 1 typo, 2 headers, 1 footer, 53.9ms\n",
      "image 2081/2605 /tf/notebook/testimage/screencapture-ld-wp73-template-help-tf-demo-medijuana-medijuana-default-home-3-2022-09-28-15_23_17.jpg: 640x320 3 banners, 1 2block, 1 3block, 2 4blocks, 1 typo, 1 header, 1 footer, 61.4ms\n",
      "image 2082/2605 /tf/notebook/testimage/screencapture-ld-wp73-template-help-tf-demo-roxxe-v2-accessories-2022-09-27-11_26_551315.jpg: 640x320 3 banners, 1 gallery, 1 header, 2 footers, 46.6ms\n",
      "image 2083/2605 /tf/notebook/testimage/screencapture-ld-wp73-template-help-tf-demo-roxxe-v2-clock-2022-09-27-11_27_111317.jpg: 640x224 2 2blocks, 2 4blocks, 2 5blocks, 1 header, 77.1ms\n",
      "image 2084/2605 /tf/notebook/testimage/screencapture-ld-wp73-template-help-tf-demo-roxxe-v2-cosmetic-2022-09-27-11_24_491320.jpg: 640x224 2 banners, 1 2block, 2 4blocks, 1 5block, 1 typo, 1 gallery, 1 header, 1 footer, 7.5ms\n",
      "image 2085/2605 /tf/notebook/testimage/screencapture-ld-wp73-template-help-tf-demo-roxxe-v2-glasses-2022-09-27-11_26_021321.jpg: 640x288 2 2blocks, 5 3blocks, 1 footer, 7.4ms\n",
      "image 2086/2605 /tf/notebook/testimage/screencapture-ld-wp73-template-help-tf-demo-roxxe-v2-handbags-2022-09-27-11_26_171323.jpg: 640x192 1 banner, 3 2blocks, 2 3blocks, 1 4block, 1 header, 1 footer, 6.8ms\n",
      "image 2087/2605 /tf/notebook/testimage/screencapture-ld-wp73-template-help-tf-demo-roxxe-v2-laserstudio-2022-09-27-11_25_121325.jpg: 640x224 3 banners, 5 2blocks, 1 3block, 1 typo, 1 gallery, 1 header, 7.6ms\n",
      "image 2088/2605 /tf/notebook/testimage/screencapture-ld-wp73-template-help-tf-demo-roxxe-v2-organic-2022-09-27-11_24_571329.jpg: 640x256 4 banners, 1 2block, 1 3block, 1 4block, 1 6block, 1 typo, 1 header, 1 footer, 6.7ms\n",
      "image 2089/2605 /tf/notebook/testimage/screencapture-ld-wp73-template-help-tf-demo-roxxe-v2-spasalon-2022-09-27-11_26_301334.jpg: 640x256 3 banners, 1 3block, 1 4block, 1 gallery, 1 header, 1 footer, 6.1ms\n",
      "image 2090/2605 /tf/notebook/testimage/screencapture-ld-wp73-template-help-tf-demo-roxxe-v2-styleclothes-2022-09-27-11_25_531335.jpg: 640x256 2 banners, 3 3blocks, 1 gallery, 1 header, 1 footer, 9.4ms\n",
      "image 2091/2605 /tf/notebook/testimage/screencapture-ld-wp73-template-help-tf-demo-roxxe-v2-womenaccessories-2022-09-27-11_26_091337.jpg: 640x256 3 banners, 1 2block, 2 3blocks, 1 4block, 1 5block, 1 header, 1 footer, 6.2ms\n",
      "image 2092/2605 /tf/notebook/testimage/screencapture-lecoqgolf-co-kr-2022-09-29-15_34_25.jpg: 640x160 6 banners, 1 3block, 4 5blocks, 1 header, 1 footer, 17.1ms\n",
      "image 2093/2605 /tf/notebook/testimage/screencapture-leedsbecoming-2022-09-29-16_44_45.jpg: 640x160 2 banners, 4 4blocks, 1 header, 1 footer, 21.5ms\n",
      "image 2094/2605 /tf/notebook/testimage/screencapture-leelin-co-kr-2022-09-29-11_26_43.jpg: 640x64 2 2blocks, 2 3blocks, 8 4blocks, 3 5blocks, 1 6block, 3 gallerys, 16.0ms\n",
      "image 2095/2605 /tf/notebook/testimage/screencapture-leming-co-kr-2022-09-28-17_17_55.jpg: 640x192 1 banner, 1 3block, 3 4blocks, 1 header, 1 footer, 31.5ms\n",
      "image 2096/2605 /tf/notebook/testimage/screencapture-lemonshop-beplusthemes-home-2-2022-09-26-10_30_301341.jpg: 640x288 2 banners, 2 3blocks, 3 4blocks, 2 typos, 1 header, 1 footer, 28.3ms\n",
      "image 2097/2605 /tf/notebook/testimage/screencapture-lenos-mbkip3ms9u-e92498n216kr-p-temp-site-link-2022-09-26-17_06_28.jpg: 640x320 2 banners, 3 3blocks, 1 4block, 1 5block, 1 header, 1 footer, 127.4ms\n",
      "image 2098/2605 /tf/notebook/testimage/screencapture-lenos-mbkip3ms9u-e92498n216kr-p-temp-site-link-home-2-2022-09-26-17_05_16.jpg: 640x288 2 banners, 3 3blocks, 1 4block, 1 typo, 1 header, 1 footer, 26.4ms\n",
      "image 2099/2605 /tf/notebook/testimage/screencapture-lenos-mbkip3ms9u-e92498n216kr-p-temp-site-link-home-4-2022-09-26-17_06_02.jpg: 640x352 1 2block, 3 3blocks, 1 4block, 1 7block, 1 header, 1 footer, 25.5ms\n",
      "image 2100/2605 /tf/notebook/testimage/screencapture-lenos-mbkip3ms9u-e92498n216kr-p-temp-site-link-home-5-2022-09-26-17_05_46.jpg: 640x288 2 banners, 3 3blocks, 1 4block, 1 5block, 1 header, 1 footer, 24.5ms\n",
      "image 2101/2605 /tf/notebook/testimage/screencapture-lenos-mbkip3ms9u-e92498n216kr-p-temp-site-link-home-5-2022-09-26-17_06_09.jpg: 640x288 2 banners, 3 3blocks, 1 4block, 1 5block, 1 header, 1 footer, 46.1ms\n",
      "image 2102/2605 /tf/notebook/testimage/screencapture-lenos-mbkip3ms9u-e92498n216kr-p-temp-site-link-home-6-2022-09-26-17_06_19.jpg: 640x256 2 banners, 1 2block, 4 3blocks, 1 4block, 1 5block, 1 7block, 2 typos, 1 header, 46.2ms\n",
      "image 2103/2605 /tf/notebook/testimage/screencapture-lenovo-kr-ko-2022-09-29-14_09_35.jpg: 512x640 2 banners, 1 6block, 1 7block, 1 header, 256.0ms\n",
      "image 2104/2605 /tf/notebook/testimage/screencapture-lensbank-2022-09-29-10_33_23.jpg: 640x288 4 banners, 1 2block, 1 3block, 4 6blocks, 2 typos, 1 gallery, 1 header, 1 footer, 6.6ms\n",
      "image 2105/2605 /tf/notebook/testimage/screencapture-lesportsackorea-447-Default-asp-2022-09-29-15_21_02.jpg: 640x288 3 banners, 1 5block, 2 6blocks, 1 7block, 1 8block, 1 nblock, 1 typo, 1 gallery, 2 headers, 1 footer, 6.4ms\n"
     ]
    },
    {
     "name": "stdout",
     "output_type": "stream",
     "text": [
      "image 2106/2605 /tf/notebook/testimage/screencapture-levi-co-kr-2022-09-29-09_26_39.jpg: 640x288 1 banner, 2 2blocks, 2 4blocks, 2 6blocks, 2 7blocks, 1 gallery, 1 header, 1 footer, 6.1ms\n",
      "image 2107/2605 /tf/notebook/testimage/screencapture-lfmall-co-kr-p2-display-menu-2022-09-29-11_10_01.jpg: 640x160 1 banner, 1 2block, 1 3block, 3 4blocks, 2 5blocks, 1 6block, 2 nblocks, 1 header, 1 footer, 16.4ms\n",
      "image 2108/2605 /tf/notebook/testimage/screencapture-lfmall-co-kr-p2-display-menu-2022-09-29-14_44_48.jpg: 640x256 2 banners, 3 4blocks, 1 5block, 1 6block, 1 8block, 1 gallery, 1 header, 1 footer, 22.2ms\n",
      "image 2109/2605 /tf/notebook/testimage/screencapture-lfmall-co-kr-p2-display-menu-2022-09-29-14_45_02.jpg: 640x288 1 banner, 1 2block, 1 3block, 3 4blocks, 1 5block, 1 6block, 2 nblocks, 1 header, 44.8ms\n",
      "image 2110/2605 /tf/notebook/testimage/screencapture-lge-co-kr-2022-09-29-14_29_47.jpg: 640x224 4 banners, 1 2block, 2 3blocks, 4 4blocks, 1 nblock, 1 typo, 2 gallerys, 1 header, 32.1ms\n",
      "image 2111/2605 /tf/notebook/testimage/screencapture-like-you-kr-2022-09-29-10_38_32.jpg: 640x96 3 banners, 1 2block, 6 4blocks, 1 6block, 1 header, 211.4ms\n",
      "image 2112/2605 /tf/notebook/testimage/screencapture-linea-storia-co-kr-2022-09-29-16_06_09.jpg: 640x128 1 banner, 1 2block, 8 4blocks, 1 5block, 1 header, 1 footer, 11.8ms\n",
      "image 2113/2605 /tf/notebook/testimage/screencapture-link-99flower-co-kr-2022-09-29-10_37_26.jpg: 640x192 2 banners, 2 2blocks, 4 3blocks, 2 4blocks, 1 7block, 1 8block, 1 nblock, 1 header, 2 footers, 7.3ms\n",
      "image 2114/2605 /tf/notebook/testimage/screencapture-liphop-co-kr-2022-09-29-11_12_08.jpg: 640x192 4 banners, 5 5blocks, 1 header, 1 footer, 6.2ms\n",
      "image 2115/2605 /tf/notebook/testimage/screencapture-livewp-site-wp-yez-cosmetic-2022-09-28-10_04_391347.jpg: 640x224 6 banners, 1 2block, 1 3block, 1 4block, 1 header, 6.7ms\n",
      "image 2116/2605 /tf/notebook/testimage/screencapture-lloydgift-main-2022-09-28-17_31_37.jpg: 640x160 4 banners, 1 3block, 3 4blocks, 1 gallery, 1 header, 1 footer, 11.5ms\n",
      "image 2117/2605 /tf/notebook/testimage/screencapture-loewe-int-en-leather-craft-2022-09-29-09_33_51.jpg: 640x160 2 banners, 2 2blocks, 5 4blocks, 1 header, 1 footer, 14.2ms\n",
      "image 2118/2605 /tf/notebook/testimage/screencapture-lookatmin-2022-09-29-15_44_23.jpg: 512x640 1 banner, 1 header, 27.0ms\n",
      "image 2119/2605 /tf/notebook/testimage/screencapture-looknone-co-kr-2022-09-29-15_44_07.jpg: 640x160 2 banners, 1 3block, 6 4blocks, 1 5block, 1 footer, 18.6ms\n",
      "image 2120/2605 /tf/notebook/testimage/screencapture-loremipsum-themerex-net-home-2-2022-09-27-15_13_57.jpg: 640x192 3 banners, 1 2block, 2 3blocks, 2 4blocks, 1 5block, 1 header, 1 footer, 22.5ms\n",
      "image 2121/2605 /tf/notebook/testimage/screencapture-loremipsum-themerex-net-home-3-2022-09-27-15_14_10.jpg: 640x224 3 banners, 1 2block, 2 3blocks, 2 5blocks, 2 typos, 1 header, 33.6ms\n",
      "image 2122/2605 /tf/notebook/testimage/screencapture-loremipsum-themerex-net-home-4-2022-09-27-15_14_20.jpg: 640x256 1 banner, 2 2blocks, 1 3block, 2 4blocks, 2 5blocks, 1 typo, 1 gallery, 63.3ms\n",
      "image 2123/2605 /tf/notebook/testimage/screencapture-lotteon-p-display-main-lotteon-2022-09-29-09_29_58.jpg: 640x128 2 banners, 1 2block, 6 3blocks, 3 5blocks, 3 gallerys, 1 header, 1 footer, 38.2ms\n",
      "image 2124/2605 /tf/notebook/testimage/screencapture-lountess-2022-09-30-09_44_37.jpg: 640x160 1 banner, 3 3blocks, 2 4blocks, 1 5block, 1 6block, 1 typo, 1 gallery, 1 header, 1 footer, 32.0ms\n",
      "image 2125/2605 /tf/notebook/testimage/screencapture-lovcat-2022-09-30-09_09_04.jpg: 640x288 1 banner, 1 2block, 1 3block, 2 5blocks, 1 6block, 1 typo, 1 gallery, 1 header, 70.7ms\n",
      "image 2126/2605 /tf/notebook/testimage/screencapture-lovelingjewelry-2022-09-28-17_48_40.jpg: 640x64 3 banners, 1 2block, 1 3block, 13 4blocks, 1 6block, 4 gallerys, 1 header, 221.6ms\n",
      "image 2127/2605 /tf/notebook/testimage/screencapture-lovelyshoes-co-kr-2022-09-30-09_09_11.jpg: 640x160 1 banner, 1 3block, 3 4blocks, 1 8block, 1 header, 1 footer, 8.5ms\n",
      "image 2128/2605 /tf/notebook/testimage/screencapture-loveme-kr-2022-09-29-16_59_04.jpg: 640x160 2 banners, 5 4blocks, 2 5blocks, 1 6block, 1 header, 1 footer, 6.3ms\n",
      "image 2129/2605 /tf/notebook/testimage/screencapture-loveparis-net-2022-09-29-10_23_04.jpg: 640x96 2 banners, 1 2block, 1 3block, 7 4blocks, 1 5block, 1 gallery, 1 header, 1 footer, 7.2ms\n",
      "image 2130/2605 /tf/notebook/testimage/screencapture-lovingcoco-kr-2022-09-29-16_32_58.jpg: 640x96 2 3blocks, 4 4blocks, 1 gallery, 1 footer, 6.5ms\n",
      "image 2131/2605 /tf/notebook/testimage/screencapture-lovlovseoul-2022-09-30-10_24_14.jpg: 640x384 1 banner, 1 5block, 1 6block, 3 headers, 1 footer, 6.7ms\n",
      "image 2132/2605 /tf/notebook/testimage/screencapture-lucky-7uptheme-net-2022-09-28-11_27_381381.jpg: 640x352 2 banners, 1 3block, 1 4block, 1 6block, 1 gallery, 1 header, 1 footer, 7.2ms\n",
      "image 2133/2605 /tf/notebook/testimage/screencapture-lucky-7uptheme-net-2022-09-28-11_28_441382.jpg: 640x352 2 banners, 1 3block, 1 4block, 1 6block, 1 gallery, 1 header, 1 footer, 6.2ms\n",
      "image 2134/2605 /tf/notebook/testimage/screencapture-lucky-7uptheme-net-home-10-2022-09-28-11_27_571391.jpg: 640x256 1 banner, 2 2blocks, 2 3blocks, 1 5block, 3 6blocks, 1 header, 1 footer, 7.1ms\n",
      "image 2135/2605 /tf/notebook/testimage/screencapture-lucky-7uptheme-net-home-11-2022-09-28-11_28_011392.jpg: 640x224 4 banners, 2 2blocks, 4 3blocks, 1 4block, 1 6block, 1 footer, 14.8ms\n",
      "image 2136/2605 /tf/notebook/testimage/screencapture-lucky-7uptheme-net-home-14-2022-09-28-11_28_341395.jpg: 640x320 2 banners, 1 2block, 2 3blocks, 3 4blocks, 1 header, 1 footer, 28.1ms\n",
      "image 2137/2605 /tf/notebook/testimage/screencapture-lucky-7uptheme-net-home-2-2022-09-28-11_27_281384.jpg: 640x512 1 banner, 2 3blocks, 1 4block, 1 header, 1 footer, 60.2ms\n",
      "image 2138/2605 /tf/notebook/testimage/screencapture-lucky-7uptheme-net-home-3-2022-09-28-11_27_321385.jpg: 640x256 2 banners, 2 2blocks, 4 3blocks, 1 gallery, 1 header, 1 footer, 34.9ms\n",
      "image 2139/2605 /tf/notebook/testimage/screencapture-lucky-7uptheme-net-home-6-2022-09-28-11_27_411387.jpg: 640x288 2 banners, 2 2blocks, 2 3blocks, 1 4block, 2 typos, 1 header, 1 footer, 34.1ms\n",
      "image 2140/2605 /tf/notebook/testimage/screencapture-lucky-7uptheme-net-home-7-2022-09-28-11_27_441388.jpg: 640x288 2 banners, 2 3blocks, 1 6block, 1 typo, 1 gallery, 1 header, 1 footer, 56.9ms\n",
      "image 2141/2605 /tf/notebook/testimage/screencapture-lucky-7uptheme-net-home-9-2022-09-28-11_27_511390.jpg: 640x192 4 banners, 1 3block, 1 6block, 1 typo, 1 gallery, 1 header, 1 footer, 185.1ms\n",
      "image 2142/2605 /tf/notebook/testimage/screencapture-lustria-g5plus-net-main-home-01-2022-09-27-11_21_23.jpg: 640x256 2 banners, 1 3block, 2 4blocks, 1 gallery, 1 header, 1 footer, 21.4ms\n",
      "image 2143/2605 /tf/notebook/testimage/screencapture-lustria-g5plus-net-main-home-02-2022-09-27-11_21_12.jpg: 640x320 1 banner, 1 3block, 1 4block, 1 7block, 1 8block, 1 header, 1 footer, 24.4ms\n",
      "image 2144/2605 /tf/notebook/testimage/screencapture-lustria-g5plus-net-main-home-03-2022-09-27-11_21_00.jpg: 640x256 1 3block, 2 4blocks, 1 8block, 2 gallerys, 1 header, 1 footer, 21.2ms\n",
      "image 2145/2605 /tf/notebook/testimage/screencapture-lustria-g5plus-net-main-home-04-2022-09-27-11_20_49.jpg: 640x256 2 banners, 3 3blocks, 1 4block, 1 gallery, 1 header, 1 footer, 19.4ms\n",
      "image 2146/2605 /tf/notebook/testimage/screencapture-lustria-g5plus-net-main-home-05-2022-09-27-11_20_37.jpg: 640x256 3 banners, 2 3blocks, 1 4block, 1 header, 1 footer, 40.2ms\n",
      "image 2147/2605 /tf/notebook/testimage/screencapture-lustria-g5plus-net-main-home-06-2022-09-27-11_20_27.jpg: 640x288 3 banners, 2 2blocks, 1 3block, 2 4blocks, 1 gallery, 1 header, 1 footer, 43.4ms\n",
      "image 2148/2605 /tf/notebook/testimage/screencapture-lustria-g5plus-net-main-home-07-2022-09-27-11_20_15.jpg: 640x224 2 banners, 2 2blocks, 2 4blocks, 1 header, 1 footer, 46.9ms\n",
      "image 2149/2605 /tf/notebook/testimage/screencapture-luvj-co-kr-2022-09-29-16_03_15.jpg: 640x192 4 4blocks, 1 5block, 1 header, 1 footer, 103.3ms\n",
      "image 2150/2605 /tf/notebook/testimage/screencapture-luxboy-2022-09-29-13_37_20.jpg: 640x224 4 banners, 1 3block, 3 4blocks, 2 5blocks, 1 6block, 1 gallery, 1 header, 1 footer, 101.5ms\n",
      "image 2151/2605 /tf/notebook/testimage/screencapture-luxyqueen-net-2022-09-29-16_05_05.jpg: 640x64 10 4blocks, 1 gallery, 18.6ms\n"
     ]
    },
    {
     "name": "stdout",
     "output_type": "stream",
     "text": [
      "image 2152/2605 /tf/notebook/testimage/screencapture-luzzibag-2022-09-29-16_31_07.jpg: 640x128 1 banner, 1 2block, 6 4blocks, 2 5blocks, 2 gallerys, 1 header, 1 footer, 18.8ms\n",
      "image 2153/2605 /tf/notebook/testimage/screencapture-lyara-visionthemes-net-2022-09-27-14_26_36.jpg: 640x384 1 banner, 2 4blocks, 1 6block, 1 8block, 1 gallery, 1 header, 1 footer, 31.6ms\n",
      "image 2154/2605 /tf/notebook/testimage/screencapture-lyara-visionthemes-net-home-2-2022-09-27-14_26_50.jpg: 640x288 2 banners, 1 3block, 2 4blocks, 1 6block, 1 7block, 2 gallerys, 1 header, 1 footer, 25.5ms\n",
      "image 2155/2605 /tf/notebook/testimage/screencapture-lyara-visionthemes-net-home-3-2022-09-27-14_26_59.jpg: 640x320 1 banner, 1 2block, 3 3blocks, 1 4block, 1 7block, 1 header, 1 footer, 59.1ms\n",
      "image 2156/2605 /tf/notebook/testimage/screencapture-lyara-visionthemes-net-home-4-2022-09-27-14_27_08.jpg: 640x288 1 banner, 4 3blocks, 2 4blocks, 1 gallery, 1 header, 1 footer, 153.2ms\n",
      "image 2157/2605 /tf/notebook/testimage/screencapture-lylon-co-kr-2022-09-29-11_01_23.jpg: 640x96 1 banner, 4 3blocks, 2 4blocks, 1 5block, 1 gallery, 9.5ms\n",
      "image 2158/2605 /tf/notebook/testimage/screencapture-m-style-co-kr-2022-09-29-15_20_51.jpg: 640x96 1 2block, 2 3blocks, 1 header, 1 footer, 6.8ms\n",
      "image 2159/2605 /tf/notebook/testimage/screencapture-ma-ren-2022-09-29-16_18_09.jpg: 640x128 1 2block, 2 3blocks, 2 4blocks, 1 5block, 1 gallery, 1 header, 1 footer, 7.4ms\n",
      "image 2160/2605 /tf/notebook/testimage/screencapture-macmoc-2022-09-29-15_45_16.jpg: 640x96 2 banners, 4 2blocks, 4 3blocks, 1 5block, 1 header, 1 footer, 7.4ms\n",
      "image 2161/2605 /tf/notebook/testimage/screencapture-macy-7uptheme-net-home-2-2022-09-26-17_27_53.jpg: 640x192 3 banners, 4 3blocks, 2 4blocks, 1 5block, 2 typos, 1 header, 1 footer, 6.9ms\n",
      "image 2162/2605 /tf/notebook/testimage/screencapture-macy-7uptheme-net-home-3-2022-09-26-17_28_02.jpg: 640x256 2 banners, 1 2block, 2 3blocks, 3 4blocks, 2 5blocks, 1 typo, 1 header, 1 footer, 18.7ms\n",
      "image 2163/2605 /tf/notebook/testimage/screencapture-macy-7uptheme-net-home-5-2022-09-26-17_28_36.jpg: 640x288 2 banners, 1 2block, 1 3block, 3 4blocks, 1 header, 1 footer, 41.0ms\n",
      "image 2164/2605 /tf/notebook/testimage/screencapture-madejay-2022-09-29-17_43_39.jpg: 640x96 2 banners, 2 2blocks, 1 3block, 6 4blocks, 2 5blocks, 2 gallerys, 1 footer, 17.1ms\n",
      "image 2165/2605 /tf/notebook/testimage/screencapture-magazine-b-co-kr-2022-09-28-16_55_48.jpg: 640x192 2 banners, 1 3block, 1 typo, 2 headers, 1 footer, 21.5ms\n",
      "image 2166/2605 /tf/notebook/testimage/screencapture-magento2-fastestpro-codazon-store32-ar-2022-09-23-10_44_01.jpg: 640x352 1 banner, 3 3blocks, 1 4block, 5 5blocks, 2 6blocks, 2 headers, 1 footer, 56.7ms\n",
      "image 2167/2605 /tf/notebook/testimage/screencapture-magento2-fastestpro-codazon-store33-en-2022-09-23-10_43_34.jpg: 640x288 3 banners, 1 2block, 3 3blocks, 2 4blocks, 1 6block, 1 header, 1 footer, 25.1ms\n",
      "image 2168/2605 /tf/notebook/testimage/screencapture-magento2-fastestpro-codazon-store34-ar-2022-09-23-10_43_07.jpg: 640x320 1 banner, 1 2block, 3 3blocks, 1 4block, 1 6block, 1 gallery, 1 header, 1 footer, 26.6ms\n",
      "image 2169/2605 /tf/notebook/testimage/screencapture-magento2-fastestpro-codazon-store35-ar-2022-09-23-10_42_41.jpg: 640x512 1 banner, 1 3block, 1 4block, 2 5blocks, 1 7block, 1 8block, 38.6ms\n",
      "image 2170/2605 /tf/notebook/testimage/screencapture-magento2-fastestpro-codazon-store36-ar-2022-09-23-10_42_09.jpg: 640x256 2 banners, 2 2blocks, 2 3blocks, 3 4blocks, 1 header, 1 footer, 50.3ms\n",
      "image 2171/2605 /tf/notebook/testimage/screencapture-mahogany-themerex-net-home-2-2022-09-27-16_13_41.jpg: 640x128 4 banners, 1 2block, 3 3blocks, 2 4blocks, 1 5block, 1 typo, 1 gallery, 1 header, 1 footer, 27.6ms\n",
      "image 2172/2605 /tf/notebook/testimage/screencapture-mahogany-themerex-net-home-boxed-2022-09-27-16_20_25.jpg: 640x160 6 banners, 1 3block, 3 4blocks, 1 5block, 2 typos, 1 header, 1 footer, 51.7ms\n",
      "image 2173/2605 /tf/notebook/testimage/screencapture-maisonmarais-2022-09-29-15_42_40.jpg: 640x288 1 banner, 1 typo, 1 gallery, 1 header, 227.6ms\n",
      "image 2174/2605 /tf/notebook/testimage/screencapture-makao-qodeinteractive-2022-09-27-14_52_06.jpg: 640x160 3 banners, 1 3block, 4 4blocks, 1 5block, 1 typo, 1 gallery, 1 header, 1 footer, 10.1ms\n",
      "image 2175/2605 /tf/notebook/testimage/screencapture-makao-qodeinteractive-boutique-home-2022-09-27-14_52_14.jpg: 640x224 2 banners, 2 2blocks, 1 5block, 1 7block, 2 typos, 1 header, 1 footer, 7.1ms\n",
      "image 2176/2605 /tf/notebook/testimage/screencapture-makeaholic-thememove-2022-09-27-17_18_33.jpg: 640x160 1 banner, 3 2blocks, 3 3blocks, 4 4blocks, 4 5blocks, 1 6block, 1 7block, 1 header, 7.1ms\n",
      "image 2177/2605 /tf/notebook/testimage/screencapture-makeaholic-thememove-home-02-2022-09-27-17_18_41.jpg: 640x192 2 banners, 1 2block, 2 3blocks, 3 4blocks, 1 5block, 1 typo, 1 header, 1 footer, 9.2ms\n",
      "image 2178/2605 /tf/notebook/testimage/screencapture-makeaholic-thememove-home-03-2022-09-27-17_18_49.jpg: 640x224 2 banners, 1 2block, 2 3blocks, 3 5blocks, 2 typos, 1 header, 1 footer, 11.5ms\n",
      "image 2179/2605 /tf/notebook/testimage/screencapture-makeaholic-thememove-home-06-2022-09-27-17_19_00.jpg: 640x192 1 banner, 1 2block, 1 3block, 1 4block, 1 6block, 1 7block, 1 typo, 1 header, 1 footer, 13.2ms\n",
      "image 2180/2605 /tf/notebook/testimage/screencapture-mall-epost-go-kr-fo-display-bestMallView-do-2022-09-29-09_37_24.jpg: 640x288 1 banner, 1 3block, 1 header, 1 footer, 45.7ms\n",
      "image 2181/2605 /tf/notebook/testimage/screencapture-mall-epost-go-kr-fo-main-main-do-2022-09-29-09_37_18.jpg: 640x320 2 banners, 1 2block, 1 3block, 2 4blocks, 3 5blocks, 1 6block, 1 typo, 1 gallery, 1 header, 31.2ms\n",
      "image 2182/2605 /tf/notebook/testimage/screencapture-mall-hanssem-best-bestMain-html-2022-09-29-09_58_31.jpg: 640x640 1 2block, 1 3block, 1 4block, 2 typos, 2 gallerys, 1 header, 56.0ms\n",
      "image 2183/2605 /tf/notebook/testimage/screencapture-mall-hanssem-main-html-2022-09-29-09_58_24.jpg: 640x224 7 banners, 2 2blocks, 2 5blocks, 6 6blocks, 1 nblock, 1 typo, 1 header, 38.2ms\n",
      "image 2184/2605 /tf/notebook/testimage/screencapture-mall-renaultkoream-user-main-do-2022-09-28-17_50_19.jpg: 640x480 3 banners, 1 2block, 4 4blocks, 1 5block, 1 typo, 1 header, 1 footer, 128.8ms\n",
      "image 2185/2605 /tf/notebook/testimage/screencapture-mancai-co-kr-2022-09-29-10_42_35.jpg: 640x544 1 banner, 2 5blocks, 1 6block, 1 gallery, 1 header, 4 footers, 138.9ms\n",
      "image 2186/2605 /tf/notebook/testimage/screencapture-mandri-net-index-html-2022-09-29-13_07_55.jpg: 640x96 2 4blocks, 1 gallery, 1 footer, 16.6ms\n",
      "image 2187/2605 /tf/notebook/testimage/screencapture-maninstore-co-kr-2022-09-28-17_04_51.jpg: 640x96 1 2block, 2 3blocks, 4 4blocks, 1 5block, 1 gallery, 1 footer, 15.8ms\n",
      "image 2188/2605 /tf/notebook/testimage/screencapture-manscover-2022-09-29-10_31_36.jpg: 640x224 3 banners, 2 4blocks, 1 header, 1 footer, 21.8ms\n",
      "image 2189/2605 /tf/notebook/testimage/screencapture-mantis-la-studioweb-home-02-2022-09-27-14_07_01.jpg: 640x224 1 banner, 1 4block, 1 gallery, 1 footer, 23.5ms\n",
      "image 2190/2605 /tf/notebook/testimage/screencapture-mantis-la-studioweb-home-03-2022-09-27-14_07_13.jpg: 640x320 1 banner, 1 3block, 2 4blocks, 3 typos, 1 header, 1 footer, 88.5ms\n",
      "image 2191/2605 /tf/notebook/testimage/screencapture-mantis-la-studioweb-home-04-2022-09-27-14_07_25.jpg: 640x256 2 banners, 1 2block, 1 3block, 3 4blocks, 1 header, 1 footer, 43.5ms\n",
      "image 2192/2605 /tf/notebook/testimage/screencapture-mantis-la-studioweb-home-07-2022-09-27-14_07_45.jpg: 640x224 2 banners, 2 3blocks, 1 4block, 2 typos, 1 gallery, 1 header, 1 footer, 38.3ms\n",
      "image 2193/2605 /tf/notebook/testimage/screencapture-mantis-la-studioweb-home-08-2022-09-27-14_07_52.jpg: 640x352 1 banner, 1 typo, 1 gallery, 1 header, 1 footer, 30.8ms\n",
      "image 2194/2605 /tf/notebook/testimage/screencapture-mantory-2022-09-29-10_40_21.jpg: 640x224 1 banner, 2 4blocks, 1 header, 1 footer, 20.0ms\n",
      "image 2195/2605 /tf/notebook/testimage/screencapture-margarinfingers-2022-09-29-16_59_57.jpg: 640x192 2 banners, 1 2block, 2 3blocks, 1 header, 1 footer, 22.3ms\n",
      "image 2196/2605 /tf/notebook/testimage/screencapture-margarinfingers-2022-09-30-09_28_00.jpg: 640x256 2 banners, 1 2block, 2 3blocks, 1 header, 1 footer, 26.0ms\n"
     ]
    },
    {
     "name": "stdout",
     "output_type": "stream",
     "text": [
      "image 2197/2605 /tf/notebook/testimage/screencapture-marhenj-co-kr-2022-09-29-09_41_27.jpg: 640x544 1 banner, 1 4block, 1 typo, 1 header, 100.3ms\n",
      "image 2198/2605 /tf/notebook/testimage/screencapture-martify-wp1-zootemplate-home-1-2022-09-27-13_58_091398.jpg: 640x384 2 banners, 2 3blocks, 3 4blocks, 2 typos, 1 header, 1 footer, 88.4ms\n",
      "image 2199/2605 /tf/notebook/testimage/screencapture-martify-wp1-zootemplate-home-3-2022-09-27-13_58_231400.jpg: 640x416 3 banners, 1 2block, 3 4blocks, 2 5blocks, 1 6block, 2 typos, 1 header, 1 footer, 35.6ms\n",
      "image 2200/2605 /tf/notebook/testimage/screencapture-martify-wp1-zootemplate-home-4-2022-09-27-13_58_321401.jpg: 640x416 1 banner, 2 2blocks, 3 4blocks, 1 typo, 2 gallerys, 1 header, 1 footer, 28.6ms\n",
      "image 2201/2605 /tf/notebook/testimage/screencapture-matethemes-karte-fashion-hub-2022-09-27-14_43_24.jpg: 640x288 2 banners, 1 2block, 2 3blocks, 2 4blocks, 1 header, 1 footer, 81.4ms\n",
      "image 2202/2605 /tf/notebook/testimage/screencapture-matethemes-karte-fashionlogy-2022-09-27-14_43_17.jpg: 640x320 2 banners, 1 3block, 1 4block, 1 5block, 1 gallery, 1 header, 1 footer, 53.2ms\n",
      "image 2203/2605 /tf/notebook/testimage/screencapture-matethemes-karte-green-fashion-2022-09-27-14_43_31.jpg: 640x320 1 banner, 1 3block, 2 4blocks, 1 gallery, 2 headers, 1 footer, 30.4ms\n",
      "image 2204/2605 /tf/notebook/testimage/screencapture-matethemes-karte-jewelry-2022-09-27-14_42_49.jpg: 640x160 5 banners, 3 2blocks, 2 3blocks, 3 4blocks, 1 5block, 1 typo, 1 gallery, 1 header, 1 footer, 18.0ms\n",
      "image 2205/2605 /tf/notebook/testimage/screencapture-maxnchic-2022-09-29-15_14_53.jpg: 640x96 3 4blocks, 1 gallery, 1 header, 1 footer, 15.5ms\n",
      "image 2206/2605 /tf/notebook/testimage/screencapture-maybeach-co-kr-2022-09-29-17_00_01.jpg: 640x64 1 2block, 8 4blocks, 1 gallery, 1 header, 1 footer, 25.4ms\n",
      "image 2207/2605 /tf/notebook/testimage/screencapture-mazia-kr-2022-09-29-11_32_54.jpg: 640x96 1 2block, 2 3blocks, 4 4blocks, 1 gallery, 1 header, 2 footers, 16.0ms\n",
      "image 2208/2605 /tf/notebook/testimage/screencapture-meabhy-lpdthemesdemo-home-iv-2022-09-26-14_55_241407.jpg: 640x192 5 banners, 5 3blocks, 1 4block, 1 typo, 1 header, 1 footer, 22.1ms\n",
      "image 2209/2605 /tf/notebook/testimage/screencapture-mediamart-wp3-zootemplate-home-5-2022-09-26-16_24_08.jpg: 640x320 1 banner, 3 2blocks, 2 3blocks, 2 5blocks, 1 typo, 3 gallerys, 1 header, 1 footer, 67.3ms\n",
      "image 2210/2605 /tf/notebook/testimage/screencapture-medishop-droitlab-2022-09-27-14_22_36.jpg: 640x224 3 banners, 2 2blocks, 1 3block, 2 4blocks, 1 5block, 1 6block, 2 typos, 1 header, 1 footer, 37.6ms\n",
      "image 2211/2605 /tf/notebook/testimage/screencapture-medishop-droitlab-home-02-2022-09-27-14_22_43.jpg: 640x192 2 banners, 3 3blocks, 5 4blocks, 2 6blocks, 3 typos, 1 gallery, 1 header, 1 footer, 25.6ms\n",
      "image 2212/2605 /tf/notebook/testimage/screencapture-megabicy-7uptheme-net-home-2-2022-09-27-15_06_57.jpg: 640x256 2 banners, 1 2block, 4 3blocks, 1 5block, 1 6block, 1 header, 1 footer, 25.1ms\n",
      "image 2213/2605 /tf/notebook/testimage/screencapture-megabicy-7uptheme-net-home-3-2022-09-27-15_07_05.jpg: 640x256 1 banner, 4 2blocks, 3 3blocks, 1 4block, 1 5block, 1 header, 1 footer, 46.7ms\n",
      "image 2214/2605 /tf/notebook/testimage/screencapture-megabicy-7uptheme-net-home-4-2022-09-27-15_07_12.jpg: 640x256 1 banner, 1 2block, 3 3blocks, 1 4block, 1 5block, 1 typo, 1 gallery, 1 header, 1 footer, 148.7ms\n",
      "image 2215/2605 /tf/notebook/testimage/screencapture-megabicy-7uptheme-net-home-5-2022-09-27-15_07_20.jpg: 640x224 3 banners, 2 2blocks, 2 3blocks, 1 4block, 1 5block, 1 typo, 1 header, 1 footer, 7.4ms\n",
      "image 2216/2605 /tf/notebook/testimage/screencapture-megabicy-7uptheme-net-home-6-2022-09-27-15_07_32.jpg: 640x256 2 banners, 1 2block, 4 3blocks, 1 4block, 1 5block, 1 gallery, 1 header, 1 footer, 6.6ms\n",
      "image 2217/2605 /tf/notebook/testimage/screencapture-melokids-zooka-io-2022-09-27-15_06_15.jpg: 640x320 3 banners, 1 2block, 1 typo, 1 gallery, 1 footer, 6.7ms\n",
      "image 2218/2605 /tf/notebook/testimage/screencapture-melokids-zooka-io-2022-09-27-15_06_27.jpg: 640x256 3 banners, 2 4blocks, 1 5block, 1 gallery, 2 headers, 1 footer, 6.7ms\n",
      "image 2219/2605 /tf/notebook/testimage/screencapture-melrosemood-2022-09-29-15_04_09.jpg: 640x96 2 banners, 1 2block, 4 3blocks, 1 4block, 1 gallery, 1 footer, 11.6ms\n",
      "image 2220/2605 /tf/notebook/testimage/screencapture-memez-kr-main-index-php-2022-09-28-16_50_45.jpg: 640x256 2 banners, 3 3blocks, 1 4block, 2 5blocks, 1 header, 1 footer, 7.5ms\n",
      "image 2221/2605 /tf/notebook/testimage/screencapture-mens-castle-co-kr-2022-09-29-10_41_57.jpg: 640x192 2 banners, 3 4blocks, 1 5block, 1 header, 1 footer, 6.6ms\n",
      "image 2222/2605 /tf/notebook/testimage/screencapture-merongshop-2022-09-30-09_56_57.jpg: 640x192 2 banners, 1 3block, 2 4blocks, 1 5block, 1 typo, 1 header, 1 footer, 10.2ms\n",
      "image 2223/2605 /tf/notebook/testimage/screencapture-metrocityworld-2022-09-29-10_28_07.jpg: 640x224 4 banners, 1 3block, 5 4blocks, 1 6block, 2 nblocks, 1 header, 1 footer, 14.4ms\n",
      "image 2224/2605 /tf/notebook/testimage/screencapture-metrocityworld-2022-09-29-11_14_10.jpg: 640x224 5 banners, 1 3block, 4 4blocks, 1 6block, 3 nblocks, 1 header, 1 footer, 22.2ms\n",
      "image 2225/2605 /tf/notebook/testimage/screencapture-mgana-la-studioweb-beauty-2022-09-28-10_44_211412.jpg: 640x224 1 banner, 1 2block, 3 3blocks, 2 typos, 1 header, 1 footer, 26.6ms\n",
      "image 2226/2605 /tf/notebook/testimage/screencapture-mgana-la-studioweb-fashion-04-2022-09-28-10_42_441415.jpg: 640x224 2 banners, 1 2block, 2 3blocks, 1 4block, 1 6block, 1 header, 1 footer, 23.6ms\n",
      "image 2227/2605 /tf/notebook/testimage/screencapture-mgana-la-studioweb-furniture-2022-09-28-10_43_061417.jpg: 640x192 3 banners, 1 2block, 1 3block, 3 4blocks, 2 typos, 1 header, 1 footer, 27.3ms\n",
      "image 2228/2605 /tf/notebook/testimage/screencapture-mgana-la-studioweb-furniture-furniture-04-2022-09-28-10_43_571419.jpg: 640x224 1 banner, 1 3block, 2 4blocks, 1 6block, 1 typo, 1 gallery, 1 header, 2 footers, 31.3ms\n",
      "image 2229/2605 /tf/notebook/testimage/screencapture-miini-mbkip3ms9u-e92498n216kr-p-temp-site-link-home-3-2022-09-23-15_11_33.jpg: 640x352 2 banners, 1 2block, 1 3block, 1 5block, 1 typo, 1 gallery, 1 header, 1 footer, 77.0ms\n",
      "image 2230/2605 /tf/notebook/testimage/screencapture-miini-mbkip3ms9u-e92498n216kr-p-temp-site-link-home-5-2022-09-23-15_11_53.jpg: 640x384 2 banners, 1 3block, 1 4block, 1 header, 1 footer, 60.8ms\n",
      "image 2231/2605 /tf/notebook/testimage/screencapture-miini-mbkip3ms9u-e92498n216kr-p-temp-site-link-home-7-2022-09-23-15_12_35.jpg: 640x288 1 banner, 2 2blocks, 4 3blocks, 1 typo, 1 gallery, 1 header, 85.6ms\n",
      "image 2232/2605 /tf/notebook/testimage/screencapture-millet-co-kr-2022-09-29-11_42_48.jpg: 640x192 2 banners, 1 4block, 4 5blocks, 1 8block, 1 header, 1 footer, 33.7ms\n",
      "image 2233/2605 /tf/notebook/testimage/screencapture-mintie-boostifythemes-homepage-v2-minimal-2022-09-23-16_27_00.jpg: 640x320 1 2block, 2 3blocks, 3 4blocks, 1 5block, 1 header, 1 footer, 56.5ms\n",
      "image 2234/2605 /tf/notebook/testimage/screencapture-mintie-boostifythemes-homepage-v3-fullscreen-slider-2022-09-23-16_27_07.jpg: 640x320 2 banners, 1 2block, 1 3block, 2 4blocks, 1 6block, 2 headers, 2 footers, 57.5ms\n",
      "image 2235/2605 /tf/notebook/testimage/screencapture-mintie-boostifythemes-homepage-v5-boxed-2022-09-23-16_27_35.jpg: 640x256 5 banners, 3 3blocks, 2 4blocks, 1 header, 1 footer, 41.1ms\n",
      "image 2236/2605 /tf/notebook/testimage/screencapture-mintie-boostifythemes-homepage-v6-mega-1-2022-09-23-16_27_43.jpg: 640x384 1 banner, 6 4blocks, 1 header, 1 footer, 74.5ms\n",
      "image 2237/2605 /tf/notebook/testimage/screencapture-mintie-boostifythemes-homepage-v7-mega-2-2022-09-23-16_27_57.jpg: 640x352 2 banners, 1 3block, 5 5blocks, 1 gallery, 1 header, 1 footer, 64.1ms\n",
      "image 2238/2605 /tf/notebook/testimage/screencapture-mintie-boostifythemes-homepage-v8-ceramic-2022-09-23-16_28_05.jpg: 640x320 1 banner, 2 3blocks, 1 4block, 1 5block, 1 typo, 1 gallery, 1 header, 1 footer, 44.8ms\n",
      "image 2239/2605 /tf/notebook/testimage/screencapture-minzzang-co-kr-2022-09-30-10_11_10.jpg: 640x128 1 2block, 3 4blocks, 1 8block, 2 gallerys, 1 header, 1 footer, 121.3ms\n",
      "image 2240/2605 /tf/notebook/testimage/screencapture-miracle-jwsuperthemes-homepage-01-2022-09-26-15_00_51.jpg: 640x352 3 banners, 2 3blocks, 1 4block, 1 5block, 2 headers, 1 footer, 26.9ms\n"
     ]
    },
    {
     "name": "stdout",
     "output_type": "stream",
     "text": [
      "image 2241/2605 /tf/notebook/testimage/screencapture-miracle-jwsuperthemes-homepage-04-2022-09-26-15_01_31.jpg: 640x288 3 banners, 2 3blocks, 1 4block, 1 5block, 1 typo, 1 gallery, 1 header, 1 footer, 24.6ms\n",
      "image 2242/2605 /tf/notebook/testimage/screencapture-miracle-jwsuperthemes-homepage-05-2022-09-26-15_01_21.jpg: 640x416 1 banner, 1 3block, 1 4block, 1 5block, 1 header, 1 footer, 33.2ms\n",
      "image 2243/2605 /tf/notebook/testimage/screencapture-miracle-jwsuperthemes-homepage-06-2022-09-26-15_01_42.jpg: 640x320 3 banners, 1 2block, 2 3blocks, 1 4block, 1 typo, 1 header, 1 footer, 22.4ms\n",
      "image 2244/2605 /tf/notebook/testimage/screencapture-miracle-jwsuperthemes-homepage-07-2022-09-26-15_01_52.jpg: 640x352 3 banners, 1 2block, 1 3block, 1 4block, 1 5block, 2 typos, 1 header, 1 footer, 76.1ms\n",
      "image 2245/2605 /tf/notebook/testimage/screencapture-miracle-jwsuperthemes-homepage-08-2022-09-26-15_02_00.jpg: 640x384 1 banner, 1 2block, 1 3block, 1 4block, 1 typo, 1 header, 1 footer, 194.4ms\n",
      "image 2246/2605 /tf/notebook/testimage/screencapture-miracle-jwsuperthemes-homepage-14-2022-09-26-15_02_59.jpg: 640x288 4 banners, 1 3block, 5 4blocks, 1 5block, 1 gallery, 1 header, 1 footer, 7.2ms\n",
      "image 2247/2605 /tf/notebook/testimage/screencapture-miracle-jwsuperthemes-homepage-15-2022-09-26-15_03_09.jpg: 640x256 1 banner, 1 2block, 4 4blocks, 3 5blocks, 2 typos, 3 gallerys, 1 header, 1 footer, 8.9ms\n",
      "image 2248/2605 /tf/notebook/testimage/screencapture-mirage-co-kr-2022-09-29-10_13_26.jpg: 640x160 1 banner, 1 2block, 2 3blocks, 8 4blocks, 1 5block, 1 gallery, 1 header, 1 footer, 6.7ms\n",
      "image 2249/2605 /tf/notebook/testimage/screencapture-missright-co-kr-2022-09-29-16_13_12-2.jpg: 640x128 3 banners, 4 4blocks, 1 footer, 12.9ms\n",
      "image 2250/2605 /tf/notebook/testimage/screencapture-miumiu-kr-ko-html-2022-09-28-17_07_36.jpg: 640x288 2 banners, 4 2blocks, 2 4blocks, 18.1ms\n",
      "image 2251/2605 /tf/notebook/testimage/screencapture-miuzin-mbkip3ms9u-e92498n216kr-p-temp-site-link-home-3-2022-09-27-11_04_16.jpg: 640x320 3 banners, 2 2blocks, 2 4blocks, 1 5block, 1 typo, 1 header, 35.9ms\n",
      "image 2252/2605 /tf/notebook/testimage/screencapture-miuzin-mbkip3ms9u-e92498n216kr-p-temp-site-link-home-7-2022-09-27-11_08_10.jpg: 640x480 1 banner, 1 3block, 2 4blocks, 1 5block, 2 gallerys, 1 header, 50.3ms\n",
      "image 2253/2605 /tf/notebook/testimage/screencapture-mixxmix-2022-09-29-15_42_37.jpg: 640x480 1 banner, 1 2block, 1 5block, 1 header, 1 footer, 62.1ms\n",
      "image 2254/2605 /tf/notebook/testimage/screencapture-mixy-mallthemes-home-page-02-2022-09-27-10_58_38.jpg: 640x320 1 banner, 1 2block, 1 3block, 2 4blocks, 3 5blocks, 1 6block, 1 typo, 1 gallery, 1 header, 2 footers, 38.3ms\n",
      "image 2255/2605 /tf/notebook/testimage/screencapture-mixy-mallthemes-home-page-03-2022-09-27-10_59_11.jpg: 640x288 3 banners, 3 3blocks, 1 4block, 2 5blocks, 1 6block, 1 header, 1 footer, 253.7ms\n",
      "image 2256/2605 /tf/notebook/testimage/screencapture-mixy-mallthemes-home-page-04-2022-09-27-10_59_20.jpg: 640x288 1 banner, 1 2block, 2 3blocks, 2 4blocks, 1 5block, 1 6block, 1 typo, 1 header, 1 footer, 6.1ms\n",
      "image 2257/2605 /tf/notebook/testimage/screencapture-mizmin-co-kr-2022-09-29-15_29_10.jpg: 640x64 1 2block, 9 4blocks, 1 footer, 7.2ms\n",
      "image 2258/2605 /tf/notebook/testimage/screencapture-mjpapa-2022-09-29-10_57_48.jpg: 640x288 3 banners, 2 2blocks, 2 3blocks, 1 4block, 1 header, 1 footer, 6.8ms\n",
      "image 2259/2605 /tf/notebook/testimage/screencapture-mlb-korea-main-mall-view-2022-09-28-16_39_26.jpg: 640x160 2 banners, 1 2block, 2 3blocks, 3 4blocks, 1 typo, 1 gallery, 1 header, 1 footer, 6.8ms\n",
      "image 2260/2605 /tf/notebook/testimage/screencapture-moda-maantheme-wp-moda-electronics-2022-09-27-15_45_03.jpg: 640x192 2 banners, 1 2block, 2 3blocks, 1 4block, 2 5blocks, 1 6block, 2 gallerys, 1 header, 3 footers, 16.8ms\n",
      "image 2261/2605 /tf/notebook/testimage/screencapture-moda-maantheme-wp-moda-grocery-2022-09-27-15_45_17.jpg: 640x384 1 banner, 4 4blocks, 2 5blocks, 1 gallery, 1 header, 1 footer, 27.6ms\n",
      "image 2262/2605 /tf/notebook/testimage/screencapture-moda-maantheme-wp-moda-hardware-2022-09-27-15_45_21.jpg: 640x288 1 banner, 1 2block, 2 3blocks, 2 4blocks, 1 5block, 1 gallery, 1 header, 1 footer, 23.9ms\n",
      "image 2263/2605 /tf/notebook/testimage/screencapture-modaoutlet-2022-09-29-14_36_36.jpg: 640x192 2 banners, 1 2block, 5 5blocks, 5 gallerys, 1 header, 1 footer, 20.1ms\n",
      "image 2264/2605 /tf/notebook/testimage/screencapture-modernbrick-co-kr-2022-09-29-14_14_13.jpg: 640x320 2 5blocks, 1 gallery, 1 header, 1 footer, 32.4ms\n",
      "image 2265/2605 /tf/notebook/testimage/screencapture-moleez-wp1-zootemplate-home-11-2022-09-28-13_50_47.jpg: 640x416 1 banner, 1 3block, 2 4blocks, 1 gallery, 1 header, 1 footer, 85.5ms\n",
      "image 2266/2605 /tf/notebook/testimage/screencapture-moleez-wp1-zootemplate-home-12-2022-09-28-13_50_32.jpg: 640x448 1 banner, 2 4blocks, 1 typo, 1 gallery, 1 header, 1 footer, 61.0ms\n",
      "image 2267/2605 /tf/notebook/testimage/screencapture-moleez-wp1-zootemplate-home-2-2022-09-28-13_51_54.jpg: 640x256 3 banners, 2 3blocks, 2 4blocks, 1 header, 1 footer, 37.9ms\n",
      "image 2268/2605 /tf/notebook/testimage/screencapture-moleez-wp1-zootemplate-home-3-2022-09-28-13_51_46.jpg: 640x288 1 banner, 1 2block, 1 3block, 3 4blocks, 1 gallery, 1 header, 2 footers, 46.5ms\n",
      "image 2269/2605 /tf/notebook/testimage/screencapture-moleez-wp1-zootemplate-home-5-2022-09-28-13_51_25.jpg: 640x192 2 banners, 1 3block, 2 4blocks, 3 gallerys, 1 header, 1 footer, 35.1ms\n",
      "image 2270/2605 /tf/notebook/testimage/screencapture-moleez-wp1-zootemplate-home-6-2022-09-28-13_51_15.jpg: 640x288 3 banners, 1 3block, 2 4blocks, 1 typo, 1 header, 1 footer, 68.9ms\n",
      "image 2271/2605 /tf/notebook/testimage/screencapture-moller-mallthemes-2022-09-23-17_45_26.jpg: 640x256 1 banner, 2 2blocks, 1 3block, 2 4blocks, 1 header, 1 footer, 116.4ms\n",
      "image 2272/2605 /tf/notebook/testimage/screencapture-molly-thememove-2022-09-28-10_54_38.jpg: 640x224 2 banners, 1 2block, 5 3blocks, 1 4block, 1 5block, 2 typos, 1 gallery, 1 header, 1 footer, 39.7ms\n",
      "image 2273/2605 /tf/notebook/testimage/screencapture-molte-7uptheme-net-home-10-2022-09-28-15_08_46.jpg: 640x480 1 banner, 1 5block, 1 6block, 1 gallery, 1 header, 1 footer, 94.4ms\n",
      "image 2274/2605 /tf/notebook/testimage/screencapture-molte-7uptheme-net-home-11-2022-09-28-15_10_37.jpg: 640x256 2 banners, 2 2blocks, 4 3blocks, 1 5block, 1 6block, 1 header, 1 footer, 75.2ms\n",
      "image 2275/2605 /tf/notebook/testimage/screencapture-molte-7uptheme-net-home-12-2022-09-28-15_10_29.jpg: 640x288 2 banners, 2 3blocks, 2 4blocks, 1 typo, 1 header, 1 footer, 24.5ms\n",
      "image 2276/2605 /tf/notebook/testimage/screencapture-molte-7uptheme-net-home-18-2022-09-28-15_08_52.jpg: 640x192 9 banners, 1 2block, 1 4block, 1 header, 1 footer, 20.4ms\n",
      "image 2277/2605 /tf/notebook/testimage/screencapture-molte-7uptheme-net-home-2-2022-09-28-15_07_35.jpg: 640x256 3 banners, 1 2block, 3 3blocks, 1 4block, 2 gallerys, 1 header, 1 footer, 20.6ms\n",
      "image 2278/2605 /tf/notebook/testimage/screencapture-molte-7uptheme-net-home-3-2022-09-28-15_07_43.jpg: 640x224 2 banners, 2 2blocks, 3 3blocks, 1 4block, 1 5block, 1 6block, 1 typo, 1 header, 1 footer, 23.2ms\n",
      "image 2279/2605 /tf/notebook/testimage/screencapture-molte-7uptheme-net-home-5-2022-09-28-15_07_58.jpg: 640x224 1 banner, 2 2blocks, 3 3blocks, 2 gallerys, 1 header, 1 footer, 151.0ms\n",
      "image 2280/2605 /tf/notebook/testimage/screencapture-molte-7uptheme-net-home-7-2022-09-28-15_08_13.jpg: 640x352 1 3block, 2 4blocks, 1 5block, 1 typo, 1 gallery, 2 headers, 1 footer, 6.6ms\n",
      "image 2281/2605 /tf/notebook/testimage/screencapture-molte-7uptheme-net-home-9-2022-09-28-15_08_37.jpg: 640x224 2 banners, 1 gallery, 1 header, 1 footer, 8.2ms\n",
      "image 2282/2605 /tf/notebook/testimage/screencapture-momentdive-co-kr-2022-09-29-16_16_22.jpg: 640x64 1 banner, 1 2block, 1 3block, 1 4block, 1 gallery, 6.8ms\n",
      "image 2283/2605 /tf/notebook/testimage/screencapture-monacogirls-co-kr-2022-09-29-15_32_13.jpg: 640x64 1 banner, 1 4block, 1 gallery, 1 footer, 6.1ms\n",
      "image 2284/2605 /tf/notebook/testimage/screencapture-monicaroom-2022-09-29-14_31_27.jpg: 640x192 1 banner, 4 4blocks, 1 5block, 1 header, 1 footer, 7.7ms\n",
      "image 2285/2605 /tf/notebook/testimage/screencapture-monkeykorea-2022-09-29-11_42_28.jpg: 640x192 3 banners, 1 2block, 2 4blocks, 1 6block, 1 nblock, 2 gallerys, 1 header, 1 footer, 9.7ms\n"
     ]
    },
    {
     "name": "stdout",
     "output_type": "stream",
     "text": [
      "image 2286/2605 /tf/notebook/testimage/screencapture-moodinslow-2022-09-29-15_55_52.jpg: 640x64 1 banner, 1 2block, 1 3block, 1 4block, 1 footer, 11.3ms\n",
      "image 2287/2605 /tf/notebook/testimage/screencapture-mook-co-kr-2022-09-30-09_11_46.jpg: 640x320 2 banners, 3 2blocks, 2 4blocks, 1 header, 1 footer, 21.4ms\n",
      "image 2288/2605 /tf/notebook/testimage/screencapture-moozo-kutethemes-net-accessories-2022-09-27-13_34_531464.jpg: 640x256 2 banners, 2 2blocks, 2 3blocks, 2 5blocks, 2 6blocks, 1 typo, 1 header, 1 footer, 31.0ms\n",
      "image 2289/2605 /tf/notebook/testimage/screencapture-moozo-kutethemes-net-tools-02-2022-09-27-13_34_051474.jpg: 640x288 2 banners, 1 3block, 5 5blocks, 1 6block, 1 gallery, 1 header, 1 footer, 22.2ms\n",
      "image 2290/2605 /tf/notebook/testimage/screencapture-moozo-kutethemes-net-tools-03-2022-09-27-13_34_131475.jpg: 640x320 3 banners, 1 3block, 1 4block, 2 5blocks, 2 6blocks, 1 typo, 1 header, 1 footer, 30.9ms\n",
      "image 2291/2605 /tf/notebook/testimage/screencapture-moozo-kutethemes-net-tools-orange-2022-09-27-13_34_251476.jpg: 640x288 1 banner, 1 2block, 2 3blocks, 2 5blocks, 1 6block, 4 7blocks, 1 8block, 1 gallery, 1 header, 1 footer, 69.5ms\n",
      "image 2292/2605 /tf/notebook/testimage/screencapture-motovelo-co-kr-2022-09-29-13_57_53.jpg: 640x224 2 banners, 2 2blocks, 3 4blocks, 1 gallery, 2 headers, 1 footer, 60.1ms\n",
      "image 2293/2605 /tf/notebook/testimage/screencapture-mptheme-7uptheme-net-home-2-2022-09-27-11_22_51.jpg: 640x192 4 banners, 1 2block, 2 3blocks, 2 4blocks, 1 header, 1 footer, 33.4ms\n",
      "image 2294/2605 /tf/notebook/testimage/screencapture-mroutlet-cafe24-2022-09-29-14_49_46.jpg: 640x128 1 banner, 1 4block, 1 5block, 1 6block, 1 header, 1 footer, 23.1ms\n",
      "image 2295/2605 /tf/notebook/testimage/screencapture-muahmuah-co-kr-2022-09-29-15_37_01.jpg: 640x160 1 banner, 1 2block, 2 3blocks, 1 4block, 3 5blocks, 1 gallery, 1 header, 43.8ms\n",
      "image 2296/2605 /tf/notebook/testimage/screencapture-multikart-fashion-myshopify-2022-09-23-11_47_01.jpg: 640x480 2 banners, 3 3blocks, 2 4blocks, 1 gallery, 2 headers, 1 footer, 77.0ms\n",
      "image 2297/2605 /tf/notebook/testimage/screencapture-multikart-fashion-myshopify-2022-09-23-11_47_57.jpg: 608x640 1 4block, 1 5block, 1 gallery, 2 headers, 1 footer, 57.5ms\n",
      "image 2298/2605 /tf/notebook/testimage/screencapture-multikart-instashop-myshopify-2022-09-23-11_45_28.jpg: 640x512 1 banner, 1 2block, 1 3block, 2 4blocks, 2 5blocks, 1 6block, 2 headers, 1 footer, 43.2ms\n",
      "image 2299/2605 /tf/notebook/testimage/screencapture-munguking-2022-09-29-14_49_12.jpg: 640x384 2 banners, 1 2block, 1 3block, 4 4blocks, 1 5block, 2 typos, 1 gallery, 1 header, 30.8ms\n",
      "image 2300/2605 /tf/notebook/testimage/screencapture-mutoshop-co-kr-2022-09-29-17_09_51.jpg: 640x224 2 banners, 1 2block, 1 3block, 3 4blocks, 1 gallery, 1 header, 1 footer, 47.1ms\n",
      "image 2301/2605 /tf/notebook/testimage/screencapture-mygoalthemes-demo-bailly-home-2-2022-09-27-14_50_44.jpg: 640x288 2 banners, 3 3blocks, 2 4blocks, 2 5blocks, 1 header, 1 footer, 72.8ms\n",
      "image 2302/2605 /tf/notebook/testimage/screencapture-mygoalthemes-demo-hyori-home-3-2022-09-27-13_34_30.jpg: 640x352 2 banners, 1 2block, 1 3block, 3 4blocks, 1 header, 2 footers, 33.6ms\n",
      "image 2303/2605 /tf/notebook/testimage/screencapture-mygoalthemes-demo-hyori-home-4-2022-09-27-13_34_40.jpg: 640x448 1 banner, 3 2blocks, 1 3block, 2 4blocks, 1 5block, 1 header, 1 footer, 45.7ms\n",
      "image 2304/2605 /tf/notebook/testimage/screencapture-myhouse-co-kr-2022-09-29-10_16_05.jpg: 640x224 1 banner, 1 2block, 3 4blocks, 1 5block, 2 gallerys, 1 footer, 106.2ms\n",
      "image 2305/2605 /tf/notebook/testimage/screencapture-myprotein-co-kr-2022-09-29-10_48_01.jpg: 640x384 2 banners, 1 2block, 2 3blocks, 1 4block, 1 6block, 1 header, 1 footer, 33.9ms\n",
      "image 2306/2605 /tf/notebook/testimage/screencapture-nabbo-co-kr-2022-09-29-10_34_36.jpg: 640x64 1 banner, 9 4blocks, 2 gallerys, 20.1ms\n",
      "image 2307/2605 /tf/notebook/testimage/screencapture-nabiang-2022-09-29-15_25_20.jpg: 640x96 2 banners, 5 4blocks, 1 5block, 25.4ms\n",
      "image 2308/2605 /tf/notebook/testimage/screencapture-nabyup-2022-09-29-16_11_42-2.jpg: 640x288 2 4blocks, 1 5block, 1 footer, 29.6ms\n",
      "image 2309/2605 /tf/notebook/testimage/screencapture-nabyup-2022-09-29-16_11_42.jpg: 640x64 3 banners, 2 2blocks, 2 3blocks, 9 4blocks, 1 gallery, 231.0ms\n",
      "image 2310/2605 /tf/notebook/testimage/screencapture-nanasalon-2022-09-29-13_18_54.jpg: 640x96 1 banner, 1 2block, 2 3blocks, 3 4blocks, 1 footer, 7.1ms\n",
      "image 2311/2605 /tf/notebook/testimage/screencapture-naosmall-kr-2022-09-28-16_56_29.jpg: 640x192 4 banners, 1 2block, 2 3blocks, 2 4blocks, 2 5blocks, 1 header, 1 footer, 7.2ms\n",
      "image 2312/2605 /tf/notebook/testimage/screencapture-naturecircle-mallthemes-cosmetic-2022-09-28-10_52_18.jpg: 640x256 1 banner, 3 3blocks, 1 6block, 3 typos, 1 header, 1 footer, 7.0ms\n",
      "image 2313/2605 /tf/notebook/testimage/screencapture-nbkorea-index-action-2022-09-28-16_31_18.jpg: 640x128 2 banners, 1 2block, 3 3blocks, 3 4blocks, 3 typos, 1 footer, 7.5ms\n",
      "image 2314/2605 /tf/notebook/testimage/screencapture-nbkorea-index-action-2022-09-29-14_22_13.jpg: 640x160 1 banner, 2 2blocks, 3 3blocks, 3 4blocks, 2 typos, 1 header, 1 footer, 11.4ms\n",
      "image 2315/2605 /tf/notebook/testimage/screencapture-neuronthemes-lilium-2022-09-27-15_03_45.jpg: 640x224 2 banners, 5 3blocks, 1 4block, 2 5blocks, 1 6block, 1 typo, 1 header, 1 footer, 21.3ms\n",
      "image 2316/2605 /tf/notebook/testimage/screencapture-neuronthemes-lilium-classic-store-2022-09-27-15_04_20.jpg: 640x256 2 banners, 1 3block, 2 4blocks, 1 5block, 1 typo, 1 header, 1 footer, 23.3ms\n",
      "image 2317/2605 /tf/notebook/testimage/screencapture-neuronthemes-lilium-clean-store-2022-09-27-15_04_35.jpg: 640x384 1 banner, 1 3block, 1 4block, 1 5block, 1 header, 1 footer, 22.6ms\n",
      "image 2318/2605 /tf/notebook/testimage/screencapture-neuronthemes-lilium-divided-home-2022-09-27-15_03_53.jpg: 640x224 1 banner, 2 2blocks, 2 3blocks, 1 4block, 1 5block, 1 typo, 1 header, 1 footer, 24.8ms\n",
      "image 2319/2605 /tf/notebook/testimage/screencapture-new-ella-demo-myshopify-2022-09-22-16_38_51.jpg: 640x320 2 banners, 2 3blocks, 2 4blocks, 3 5blocks, 1 typo, 2 headers, 1 footer, 32.7ms\n",
      "image 2320/2605 /tf/notebook/testimage/screencapture-new-ella-demo-myshopify-2022-09-22-16_39_11.jpg: 640x224 3 banners, 1 2block, 2 3blocks, 2 4blocks, 4 5blocks, 1 nblock, 1 typo, 2 gallerys, 1 footer, 43.5ms\n",
      "image 2321/2605 /tf/notebook/testimage/screencapture-new-ella-demo-myshopify-2022-09-22-16_48_47.jpg: 640x256 2 banners, 1 2block, 2 3blocks, 3 5blocks, 1 6block, 1 header, 1 footer, 41.4ms\n",
      "image 2322/2605 /tf/notebook/testimage/screencapture-new-ella-demo-myshopify-2022-09-22-16_49_20.jpg: 640x288 1 banner, 4 3blocks, 1 4block, 4 5blocks, 1 6block, 3 headers, 1 footer, 48.0ms\n",
      "image 2323/2605 /tf/notebook/testimage/screencapture-new-gecko-myshopify-2022-09-22-17_09_15.jpg: 640x352 1 banner, 1 3block, 3 4blocks, 1 gallery, 3 headers, 1 footer, 81.3ms\n",
      "image 2324/2605 /tf/notebook/testimage/screencapture-newhigh-7uptheme-net-home-2-2022-09-28-14_54_28.jpg: 640x224 3 banners, 4 3blocks, 1 4block, 1 gallery, 1 header, 1 footer, 55.6ms\n",
      "image 2325/2605 /tf/notebook/testimage/screencapture-newhigh-7uptheme-net-home-6-2022-09-28-14_55_13.jpg: 640x224 1 banner, 1 2block, 2 3blocks, 2 gallerys, 2 footers, 20.5ms\n",
      "image 2326/2605 /tf/notebook/testimage/screencapture-newmonday-co-kr-2022-09-29-15_52_07.jpg: 640x64 1 2block, 2 3blocks, 1 4block, 1 gallery, 20.8ms\n",
      "image 2327/2605 /tf/notebook/testimage/screencapture-newtreemall-co-kr-2022-09-29-10_46_05.jpg: 640x384 4 banners, 1 2block, 2 3blocks, 2 4blocks, 1 header, 1 footer, 33.6ms\n",
      "image 2328/2605 /tf/notebook/testimage/screencapture-nicknnicole-co-kr-2022-09-29-13_30_13.jpg: 640x96 1 banner, 1 3block, 1 typo, 1 footer, 18.9ms\n",
      "image 2329/2605 /tf/notebook/testimage/screencapture-nike-kr-ko-kr-l-men-2022-09-29-11_26_09.jpg: 640x128 4 banners, 5 2blocks, 1 3block, 3 typos, 1 gallery, 1 header, 1 footer, 14.4ms\n",
      "image 2330/2605 /tf/notebook/testimage/screencapture-nille-qodeinteractive-perfumes-home-2022-09-23-15_42_52.jpg: 640x256 3 banners, 1 2block, 2 3blocks, 1 4block, 1 header, 1 footer, 106.5ms\n",
      "image 2331/2605 /tf/notebook/testimage/screencapture-ninetheme-themes-naturally-home-3-2022-09-27-17_08_14.jpg: 640x192 2 banners, 2 2blocks, 1 3block, 3 5blocks, 1 typo, 1 gallery, 1 header, 24.8ms\n"
     ]
    },
    {
     "name": "stdout",
     "output_type": "stream",
     "text": [
      "image 2332/2605 /tf/notebook/testimage/screencapture-ninetheme-themes-naturally-home-4-2022-09-27-17_08_20.jpg: 640x192 2 banners, 1 2block, 2 3blocks, 1 4block, 1 typo, 2 headers, 23.4ms\n",
      "image 2333/2605 /tf/notebook/testimage/screencapture-ninetheme-themes-naturally-home-5-2022-09-27-17_08_26.jpg: 640x288 2 banners, 3 2blocks, 2 3blocks, 1 header, 26.6ms\n",
      "image 2334/2605 /tf/notebook/testimage/screencapture-ninetheme-themes-styler-fashion-home-minimal-split-2022-09-28-13_20_31.jpg: 640x224 3 banners, 1 2block, 1 5block, 2 typos, 1 header, 1 footer, 26.3ms\n",
      "image 2335/2605 /tf/notebook/testimage/screencapture-ninetheme-themes-styler-fashion-home-parallax-2022-09-28-13_20_19.jpg: 640x160 5 banners, 1 4block, 1 6block, 1 header, 1 footer, 100.3ms\n",
      "image 2336/2605 /tf/notebook/testimage/screencapture-ninetheme-themes-styler-fashion-home-video-2022-09-28-13_21_03.jpg: 640x224 2 banners, 1 2block, 1 3block, 2 5blocks, 3 headers, 1 footer, 7.6ms\n",
      "image 2337/2605 /tf/notebook/testimage/screencapture-noncode-co-kr-2022-09-30-09_10_56.jpg: 640x128 1 2block, 3 4blocks, 6.8ms\n",
      "image 2338/2605 /tf/notebook/testimage/screencapture-noraure-jwsuperthemes-homepage-04-2022-09-28-10_16_02.jpg: 640x384 2 banners, 2 3blocks, 1 4block, 1 5block, 1 typo, 1 gallery, 1 header, 1 footer, 10.0ms\n",
      "image 2339/2605 /tf/notebook/testimage/screencapture-nshopping1-co-kr-index-html-2022-09-29-14_28_59.jpg: 640x320 1 4block, 1 5block, 1 gallery, 1 header, 1 footer, 7.3ms\n",
      "image 2340/2605 /tf/notebook/testimage/screencapture-nsmall-2022-09-29-09_44_33.jpg: 640x352 1 2block, 1 3block, 3 4blocks, 2 typos, 1 gallery, 1 header, 1 footer, 6.8ms\n",
      "image 2341/2605 /tf/notebook/testimage/screencapture-nsmall-2022-09-29-14_48_56.jpg: 640x352 1 2block, 1 3block, 3 4blocks, 2 typos, 1 gallery, 1 header, 1 footer, 7.7ms\n",
      "image 2342/2605 /tf/notebook/testimage/screencapture-nstationmall-natgeo-2022-09-28-16_50_24.jpg: 640x96 3 banners, 1 2block, 1 3block, 1 4block, 8 5blocks, 1 6block, 1 8block, 5 gallerys, 1 header, 1 footer, 7.5ms\n",
      "image 2343/2605 /tf/notebook/testimage/screencapture-nu-art-kr-2022-09-28-16_59_11.jpg: 640x384 2 banners, 1 2block, 2 5blocks, 4 6blocks, 2 7blocks, 1 8block, 1 header, 35.2ms\n",
      "image 2344/2605 /tf/notebook/testimage/screencapture-nutrione-co-kr-2022-09-29-10_54_27.jpg: 640x160 7 banners, 2 3blocks, 11 4blocks, 1 5block, 1 8block, 1 nblock, 1 header, 1 footer, 40.1ms\n",
      "image 2345/2605 /tf/notebook/testimage/screencapture-nyture-novaworks-net-home-07-2022-09-28-10_25_26.jpg: 640x320 2 banners, 1 3block, 2 4blocks, 1 gallery, 1 header, 1 footer, 33.1ms\n",
      "image 2346/2605 /tf/notebook/testimage/screencapture-nyture20-novaworks-net-2022-09-28-10_24_42.jpg: 640x224 2 banners, 2 2blocks, 2 4blocks, 1 6block, 2 gallerys, 1 header, 1 footer, 29.7ms\n",
      "image 2347/2605 /tf/notebook/testimage/screencapture-nyture20-novaworks-net-home-04-2022-09-28-10_25_05.jpg: 640x320 2 banners, 2 3blocks, 1 4block, 2 gallerys, 1 header, 1 footer, 127.7ms\n",
      "image 2348/2605 /tf/notebook/testimage/screencapture-oasis-la-studioweb-main-electronic-2022-09-26-16_24_491479.jpg: 640x320 1 banner, 2 3blocks, 1 4block, 1 5block, 2 gallerys, 1 header, 1 footer, 32.1ms\n",
      "image 2349/2605 /tf/notebook/testimage/screencapture-oasis-la-studioweb-main-fitness-2022-09-26-16_25_221484.jpg: 640x416 2 banners, 1 3block, 1 4block, 1 typo, 1 gallery, 1 header, 1 footer, 39.9ms\n",
      "image 2350/2605 /tf/notebook/testimage/screencapture-oasis-la-studioweb-main-furniture-2022-09-26-16_25_001485.jpg: 640x352 3 banners, 2 3blocks, 1 4block, 1 header, 1 footer, 30.4ms\n",
      "image 2351/2605 /tf/notebook/testimage/screencapture-ocolus-kutethemes-net-2022-09-26-16_04_021497.jpg: 640x256 1 banner, 2 2blocks, 1 3block, 2 4blocks, 1 5block, 1 6block, 1 typo, 1 header, 1 footer, 50.1ms\n",
      "image 2352/2605 /tf/notebook/testimage/screencapture-ocolus-kutethemes-net-home-04-2022-09-26-16_03_341500.jpg: 640x224 4 banners, 2 3blocks, 2 4blocks, 1 5block, 4 typos, 1 footer, 54.8ms\n",
      "image 2353/2605 /tf/notebook/testimage/screencapture-ocolus-kutethemes-net-home-07-2022-09-26-16_04_331502.jpg: 640x224 2 banners, 2 2blocks, 3 3blocks, 1 5block, 5 typos, 2 gallerys, 1 header, 75.5ms\n",
      "image 2354/2605 /tf/notebook/testimage/screencapture-ocolus-kutethemes-net-home-09-2022-09-26-16_05_021503.jpg: 640x288 2 banners, 4 3blocks, 1 4block, 1 6block, 1 header, 1 footer, 44.4ms\n",
      "image 2355/2605 /tf/notebook/testimage/screencapture-ocolus-kutethemes-net-home-12-2022-09-26-16_05_571506.jpg: 640x224 3 banners, 4 3blocks, 2 typos, 1 header, 1 footer, 23.3ms\n",
      "image 2356/2605 /tf/notebook/testimage/screencapture-ocolus-kutethemes-net-home-13-2022-09-26-16_07_111507.jpg: 640x256 1 banner, 2 3blocks, 1 4block, 1 5block, 3 6blocks, 6 typos, 2 gallerys, 2 headers, 29.8ms\n",
      "image 2357/2605 /tf/notebook/testimage/screencapture-ocolus-kutethemes-net-home-15-2022-09-26-16_07_271509.jpg: 640x256 1 banner, 3 2blocks, 3 3blocks, 1 4block, 1 6block, 1 footer, 75.3ms\n",
      "image 2358/2605 /tf/notebook/testimage/screencapture-ocolus-kutethemes-net-home-18-2022-09-26-16_08_331512.jpg: 640x256 2 banners, 1 3block, 1 4block, 5 5blocks, 3 gallerys, 1 header, 1 footer, 38.3ms\n",
      "image 2359/2605 /tf/notebook/testimage/screencapture-ocolus-kutethemes-net-home-19-2022-09-26-16_08_461513.jpg: 640x288 4 banners, 2 3blocks, 5 5blocks, 2 typos, 1 header, 1 footer, 46.8ms\n",
      "image 2360/2605 /tf/notebook/testimage/screencapture-ocolus-kutethemes-net-home-21-2022-09-26-16_09_491515.jpg: 640x224 2 banners, 1 2block, 3 3blocks, 2 4blocks, 1 5block, 1 6block, 3 typos, 1 header, 37.8ms\n",
      "image 2361/2605 /tf/notebook/testimage/screencapture-ocolus-kutethemes-net-home-22-2022-09-26-16_10_111516.jpg: 640x224 1 banner, 1 2block, 5 3blocks, 1 6block, 2 typos, 1 gallery, 1 header, 49.4ms\n",
      "image 2362/2605 /tf/notebook/testimage/screencapture-ode-co-kr-2022-09-29-11_47_55.jpg: 640x64 1 2block, 1 3block, 6 4blocks, 26.3ms\n",
      "image 2363/2605 /tf/notebook/testimage/screencapture-oga-7uptheme-net-2022-09-27-13_55_56.jpg: 640x256 3 banners, 2 2blocks, 2 3blocks, 2 4blocks, 1 5block, 1 gallery, 1 header, 1 footer, 25.3ms\n",
      "image 2364/2605 /tf/notebook/testimage/screencapture-oga-7uptheme-net-home-10-2022-09-27-13_57_14.jpg: 640x288 1 banner, 4 3blocks, 2 5blocks, 1 typo, 2 headers, 1 footer, 26.0ms\n",
      "image 2365/2605 /tf/notebook/testimage/screencapture-oga-7uptheme-net-home-4-2022-09-27-13_56_24.jpg: 640x288 1 banner, 3 2blocks, 1 3block, 3 4blocks, 2 5blocks, 1 typo, 2 gallerys, 2 headers, 1 footer, 27.9ms\n",
      "image 2366/2605 /tf/notebook/testimage/screencapture-oga-7uptheme-net-home-7-2022-09-27-13_56_55.jpg: 640x256 2 banners, 1 2block, 3 3blocks, 1 4block, 1 5block, 1 typo, 1 header, 26.9ms\n",
      "image 2367/2605 /tf/notebook/testimage/screencapture-ohou-se-2022-09-29-10_09_29.jpg: 640x352 2 2blocks, 2 3blocks, 4 4blocks, 1 6block, 2 nblocks, 2 typos, 1 gallery, 1 header, 54.1ms\n",
      "image 2368/2605 /tf/notebook/testimage/screencapture-ojluxury-2022-09-29-13_32_10.jpg: 640x128 1 banner, 1 3block, 5 4blocks, 1 header, 1 footer, 38.1ms\n",
      "image 2369/2605 /tf/notebook/testimage/screencapture-okkane-co-kr-2022-09-29-13_24_33.jpg: 640x96 3 banners, 2 3blocks, 5 4blocks, 2 gallerys, 1 header, 33.5ms\n",
      "image 2370/2605 /tf/notebook/testimage/screencapture-okthemes-craftit-homepage-v2-2022-09-28-14_02_31.jpg: 640x416 3 banners, 1 3block, 1 4block, 2 5blocks, 1 typo, 1 footer, 316.3ms\n",
      "image 2371/2605 /tf/notebook/testimage/screencapture-okthemes-craftit-homepage-v4-2022-09-28-14_02_48.jpg: 640x448 1 banner, 3 4blocks, 1 5block, 1 typo, 1 header, 1 footer, 7.3ms\n",
      "image 2372/2605 /tf/notebook/testimage/screencapture-okthemes-fabio-homepage-v2-2022-09-27-15_05_361532.jpg: 640x416 1 3block, 3 4blocks, 1 5block, 2 typos, 1 gallery, 1 header, 7.2ms\n",
      "image 2373/2605 /tf/notebook/testimage/screencapture-okthemes-voux-home-v2-2022-09-28-13_55_32.jpg: 640x320 2 banners, 1 2block, 1 3block, 1 4block, 1 header, 1 footer, 7.2ms\n",
      "image 2374/2605 /tf/notebook/testimage/screencapture-okthemes-voux-home-v3-2022-09-28-13_55_44.jpg: 640x640 1 banner, 1 4block, 1 header, 1 footer, 28.6ms\n",
      "image 2375/2605 /tf/notebook/testimage/screencapture-okthemes-voux-home-v4-2022-09-28-13_55_48.jpg: 640x352 2 banners, 1 2block, 3 nblocks, 1 typo, 1 gallery, 1 header, 1 footer, 18.9ms\n",
      "image 2376/2605 /tf/notebook/testimage/screencapture-okthemes-voux-home-v6-2022-09-28-13_55_53.jpg: 640x352 1 banner, 1 2block, 2 3blocks, 1 5block, 1 header, 1 footer, 22.0ms\n"
     ]
    },
    {
     "name": "stdout",
     "output_type": "stream",
     "text": [
      "image 2377/2605 /tf/notebook/testimage/screencapture-old2-commonsupport-alicante-2022-09-28-11_47_14.jpg: 640x288 4 banners, 1 3block, 1 4block, 1 5block, 2 typos, 1 header, 1 footer, 28.4ms\n",
      "image 2378/2605 /tf/notebook/testimage/screencapture-old2-commonsupport-alicante-home-three-2022-09-28-11_47_28.jpg: 640x256 3 banners, 1 2block, 3 3blocks, 1 4block, 1 5block, 1 typo, 1 header, 27.5ms\n",
      "image 2379/2605 /tf/notebook/testimage/screencapture-old2-commonsupport-alicante-home-two-2022-09-28-11_47_22.jpg: 640x320 4 banners, 1 2block, 2 3blocks, 1 4block, 1 5block, 3 typos, 1 gallery, 1 header, 1 footer, 35.5ms\n",
      "image 2380/2605 /tf/notebook/testimage/screencapture-oliveyoung-co-kr-store-main-getNewList-do-2022-09-29-13_48_01.jpg: 640x96 1 banner, 3 2blocks, 13 5blocks, 3 gallerys, 1 header, 1 footer, 35.4ms\n",
      "image 2381/2605 /tf/notebook/testimage/screencapture-omix-mbkip3ms9u-e92498n216kr-p-temp-site-link-2022-09-27-11_46_31.jpg: 640x352 2 banners, 1 2block, 2 3blocks, 3 4blocks, 1 5block, 1 6block, 1 header, 1 footer, 50.2ms\n",
      "image 2382/2605 /tf/notebook/testimage/screencapture-omix-mbkip3ms9u-e92498n216kr-p-temp-site-link-bike-2022-09-27-11_46_56.jpg: 640x288 2 banners, 1 2block, 1 3block, 2 4blocks, 2 6blocks, 1 header, 1 footer, 42.6ms\n",
      "image 2383/2605 /tf/notebook/testimage/screencapture-omix-mbkip3ms9u-e92498n216kr-p-temp-site-link-bike-home-4-2022-09-27-11_47_04.jpg: 640x352 3 banners, 1 2block, 3 4blocks, 1 header, 1 footer, 87.2ms\n",
      "image 2384/2605 /tf/notebook/testimage/screencapture-omix-mbkip3ms9u-e92498n216kr-p-temp-site-link-home-2-2022-09-27-11_46_48.jpg: 640x352 2 banners, 1 2block, 1 3block, 2 4blocks, 1 6block, 1 header, 1 footer, 6.5ms\n",
      "image 2385/2605 /tf/notebook/testimage/screencapture-onaci-vigortheme-2022-09-27-13_19_42.jpg: 640x288 1 banner, 2 3blocks, 3 4blocks, 1 5block, 1 gallery, 3 headers, 1 footer, 7.0ms\n",
      "image 2386/2605 /tf/notebook/testimage/screencapture-onaci-vigortheme-home-2-2022-09-27-13_19_50.jpg: 640x256 2 banners, 1 3block, 3 4blocks, 1 5block, 1 7block, 2 headers, 1 footer, 8.4ms\n",
      "image 2387/2605 /tf/notebook/testimage/screencapture-onaci-vigortheme-home-3-2022-09-27-13_20_04.jpg: 640x256 2 banners, 1 2block, 3 3blocks, 1 4block, 1 6block, 1 7block, 2 headers, 1 footer, 6.2ms\n",
      "image 2388/2605 /tf/notebook/testimage/screencapture-onandup-co-kr-2022-09-29-10_42_17.jpg: 640x352 2 banners, 2 3blocks, 1 5block, 1 typo, 1 header, 1 footer, 7.8ms\n",
      "image 2389/2605 /tf/notebook/testimage/screencapture-onch3-co-kr-2022-09-29-14_30_37.jpg: 640x128 2 banners, 3 5blocks, 1 8block, 3 gallerys, 1 header, 1 footer, 6.8ms\n",
      "image 2390/2605 /tf/notebook/testimage/screencapture-onedodaily-kr-145-2022-09-28-17_09_08.jpg: 640x224 3 banners, 4 3blocks, 1 typo, 1 header, 1 footer, 7.7ms\n",
      "image 2391/2605 /tf/notebook/testimage/screencapture-ongirl-co-kr-2022-09-29-11_28_52.jpg: 640x64 2 banners, 1 2block, 8 4blocks, 1 5block, 4 gallerys, 1 footer, 12.0ms\n",
      "image 2392/2605 /tf/notebook/testimage/screencapture-oranssi-fluid-demo-squarespace-2022-09-21-18_01_13.jpg: 640x256 3 banners, 1 2block, 1 3block, 2 4blocks, 1 typo, 1 header, 53.7ms\n",
      "image 2393/2605 /tf/notebook/testimage/screencapture-orgifarm-boostifythemes-2022-09-27-18_16_32.jpg: 640x320 1 banner, 1 2block, 3 3blocks, 2 4blocks, 1 5block, 1 header, 1 footer, 37.0ms\n",
      "image 2394/2605 /tf/notebook/testimage/screencapture-orgifarm-boostifythemes-home-page-4-2022-09-27-18_19_56.jpg: 640x288 1 banner, 1 2block, 2 3blocks, 2 4blocks, 1 5block, 1 6block, 1 gallery, 1 header, 1 footer, 27.2ms\n",
      "image 2395/2605 /tf/notebook/testimage/screencapture-orgifarm-boostifythemes-home-page-7-2022-09-27-18_19_45.jpg: 640x288 1 banner, 1 3block, 2 4blocks, 4 5blocks, 1 7block, 2 gallerys, 1 header, 1 footer, 29.0ms\n",
      "image 2396/2605 /tf/notebook/testimage/screencapture-ornaldo-themeftc-home10-2022-09-28-11_14_02.jpg: 640x288 2 banners, 1 2block, 1 3block, 2 4blocks, 1 6block, 1 gallery, 1 header, 1 footer, 36.5ms\n",
      "image 2397/2605 /tf/notebook/testimage/screencapture-ornaldo-themeftc-home11-2022-09-28-11_14_14.jpg: 640x320 1 banner, 1 2block, 1 4block, 2 typos, 1 header, 1 footer, 70.1ms\n",
      "image 2398/2605 /tf/notebook/testimage/screencapture-ornaldo-themeftc-home3-2022-09-28-11_12_38.jpg: 640x256 2 banners, 1 2block, 2 4blocks, 1 5block, 1 typo, 1 gallery, 2 headers, 1 footer, 303.1ms\n",
      "image 2399/2605 /tf/notebook/testimage/screencapture-ornaldo-themeftc-home8-2022-09-28-11_13_52.jpg: 640x256 4 banners, 1 3block, 2 4blocks, 1 6block, 1 typo, 1 gallery, 1 header, 1 footer, 6.2ms\n",
      "image 2400/2605 /tf/notebook/testimage/screencapture-orson-g5plus-net-2022-09-27-17_07_40.jpg: 640x320 1 banner, 1 2block, 2 3blocks, 1 4block, 2 5blocks, 1 gallery, 1 header, 1 footer, 8.0ms\n",
      "image 2401/2605 /tf/notebook/testimage/screencapture-orson-g5plus-net-home-1-2022-09-27-17_07_47.jpg: 640x352 2 banners, 1 2block, 1 3block, 1 4block, 1 5block, 2 typos, 1 gallery, 1 header, 1 footer, 9.2ms\n",
      "image 2402/2605 /tf/notebook/testimage/screencapture-orson-g5plus-net-home-12-2022-09-27-17_09_03.jpg: 640x576 1 banner, 1 2block, 1 3block, 3 4blocks, 1 5block, 1 header, 1 footer, 29.7ms\n",
      "image 2403/2605 /tf/notebook/testimage/screencapture-orson-g5plus-net-home-13-2022-09-27-17_09_08.jpg: 640x512 1 banner, 1 3block, 1 4block, 2 5blocks, 1 gallery, 1 header, 25.5ms\n",
      "image 2404/2605 /tf/notebook/testimage/screencapture-orson-g5plus-net-home-15-2022-09-27-17_09_23.jpg: 640x384 2 banners, 3 3blocks, 2 4blocks, 1 5block, 1 typo, 1 header, 1 footer, 30.9ms\n",
      "image 2405/2605 /tf/notebook/testimage/screencapture-orson-g5plus-net-home-21-2022-09-27-17_10_00.jpg: 640x352 3 banners, 2 3blocks, 2 5blocks, 1 gallery, 1 header, 1 footer, 46.2ms\n",
      "image 2406/2605 /tf/notebook/testimage/screencapture-orson-g5plus-net-home-22-2022-09-27-17_10_09.jpg: 640x416 4 banners, 2 2blocks, 3 3blocks, 2 4blocks, 1 gallery, 1 header, 7.2ms\n",
      "image 2407/2605 /tf/notebook/testimage/screencapture-oryany-co-kr-2022-09-29-14_06_42.jpg: 640x224 2 banners, 1 2block, 2 3blocks, 3 4blocks, 2 headers, 1 footer, 7.3ms\n",
      "image 2408/2605 /tf/notebook/testimage/screencapture-osapa-themeftc-home11-2022-09-27-17_37_27.jpg: 640x224 1 banner, 4 3blocks, 1 4block, 1 5block, 1 typo, 2 headers, 1 footer, 6.2ms\n",
      "image 2409/2605 /tf/notebook/testimage/screencapture-osapa-themeftc-home13-2022-09-27-17_37_46.jpg: 640x192 2 banners, 2 2blocks, 2 3blocks, 1 5block, 1 typo, 1 header, 1 footer, 9.9ms\n",
      "image 2410/2605 /tf/notebook/testimage/screencapture-osapa-themeftc-home17-2022-09-27-17_38_10.jpg: 640x256 2 banners, 1 2block, 2 3blocks, 2 4blocks, 1 6block, 1 header, 1 footer, 7.0ms\n",
      "image 2411/2605 /tf/notebook/testimage/screencapture-osapa-themeftc-home18-2022-09-27-17_38_16.jpg: 640x224 2 banners, 1 2block, 2 3blocks, 1 4block, 1 6block, 1 gallery, 1 header, 1 footer, 8.6ms\n",
      "image 2412/2605 /tf/notebook/testimage/screencapture-osapa-themeftc-home30-2022-09-27-17_40_12.jpg: 640x256 1 banner, 2 3blocks, 1 4block, 1 6block, 1 typo, 1 header, 1 footer, 6.8ms\n",
      "image 2413/2605 /tf/notebook/testimage/screencapture-osimoto-co-kr-2022-09-30-10_02_42.jpg: 640x96 1 banner, 4 4blocks, 1 8block, 1 gallery, 1 header, 1 footer, 14.2ms\n",
      "image 2414/2605 /tf/notebook/testimage/screencapture-ost-elandmall-main-initMain-action-2022-09-29-11_14_45.jpg: 640x192 4 banners, 4 2blocks, 1 3block, 1 4block, 1 5block, 3 typos, 1 header, 1 footer, 17.4ms\n",
      "image 2415/2605 /tf/notebook/testimage/screencapture-ota9-co-kr-2022-09-29-11_36_13.jpg: 640x192 2 banners, 3 2blocks, 1 3block, 1 5block, 1 nblock, 2 typos, 1 header, 20.6ms\n",
      "image 2416/2605 /tf/notebook/testimage/screencapture-ozisti-themerex-net-home-2-2022-09-28-11_11_051547.jpg: 640x256 2 banners, 1 2block, 2 3blocks, 2 4blocks, 1 6block, 1 gallery, 2 headers, 1 footer, 21.3ms\n",
      "image 2417/2605 /tf/notebook/testimage/screencapture-ozisti-themerex-net-home-3-2022-09-28-11_11_101548.jpg: 640x288 2 banners, 2 3blocks, 1 4block, 1 typo, 1 gallery, 1 header, 1 footer, 36.6ms\n",
      "image 2418/2605 /tf/notebook/testimage/screencapture-p-sophia-2022-09-29-16_32_11.jpg: 640x96 4 banners, 3 3blocks, 1 4block, 1 5block, 1 typo, 18.2ms\n",
      "image 2419/2605 /tf/notebook/testimage/screencapture-pak-namae-2022-09-29-15_41_17.jpg: 640x128 1 3block, 4 4blocks, 1 5block, 2 gallerys, 25.0ms\n",
      "image 2420/2605 /tf/notebook/testimage/screencapture-palla-co-kr-2022-09-29-16_55_43.jpg: 640x416 3 banners, 1 typo, 1 header, 86.6ms\n"
     ]
    },
    {
     "name": "stdout",
     "output_type": "stream",
     "text": [
      "image 2421/2605 /tf/notebook/testimage/screencapture-parris-qodeinteractive-2022-09-28-13_38_05.jpg: 640x192 3 banners, 1 2block, 3 3blocks, 1 6block, 1 7block, 1 header, 1 footer, 39.9ms\n",
      "image 2422/2605 /tf/notebook/testimage/screencapture-parris-qodeinteractive-cosmetics-store-2022-09-28-13_38_27.jpg: 640x224 1 banner, 2 2blocks, 1 3block, 3 4blocks, 1 7block, 1 8block, 1 typo, 1 header, 1 footer, 51.8ms\n",
      "image 2423/2605 /tf/notebook/testimage/screencapture-passim-qodeinteractive-beauty-brand-2022-09-28-13_37_19.jpg: 640x192 5 banners, 1 2block, 2 3blocks, 1 4block, 1 typo, 1 gallery, 1 header, 1 footer, 20.2ms\n",
      "image 2424/2605 /tf/notebook/testimage/screencapture-passion-jwsuperthemes-homepage-04-2022-09-28-10_53_351557.jpg: 640x288 1 banner, 1 3block, 1 4block, 1 6block, 2 gallerys, 1 header, 1 footer, 24.4ms\n",
      "image 2425/2605 /tf/notebook/testimage/screencapture-pastelmall-2022-09-28-17_15_07.jpg: 640x192 2 banners, 2 2blocks, 1 4block, 4 5blocks, 1 6block, 1 typo, 1 gallery, 1 header, 1 footer, 28.6ms\n",
      "image 2426/2605 /tf/notebook/testimage/screencapture-patagonia-co-kr-2022-09-28-16_52_58.jpg: 640x224 3 banners, 1 3block, 1 4block, 3 5blocks, 1 header, 44.0ms\n",
      "image 2427/2605 /tf/notebook/testimage/screencapture-patagonia-co-kr-2022-09-28-16_58_41.jpg: 640x256 4 banners, 3 4blocks, 1 5block, 1 typo, 1 header, 76.7ms\n",
      "image 2428/2605 /tf/notebook/testimage/screencapture-payna-la-studioweb-home-03-2022-09-28-11_19_001564.jpg: 640x256 1 banner, 1 2block, 1 3block, 1 4block, 2 5blocks, 2 typos, 1 gallery, 1 header, 1 footer, 255.8ms\n",
      "image 2429/2605 /tf/notebook/testimage/screencapture-payna-la-studioweb-home-13-2022-09-28-11_19_551571.jpg: 640x288 2 banners, 2 2blocks, 1 3block, 1 4block, 1 typo, 1 header, 1 footer, 11.9ms\n",
      "image 2430/2605 /tf/notebook/testimage/screencapture-payna-la-studioweb-home-15-2022-09-28-11_20_161573.jpg: 640x224 2 banners, 1 2block, 1 3block, 3 4blocks, 3 typos, 1 header, 1 footer, 9.4ms\n",
      "image 2431/2605 /tf/notebook/testimage/screencapture-payna-la-studioweb-home-17-2022-09-28-11_20_371575.jpg: 640x224 2 banners, 2 3blocks, 2 4blocks, 2 typos, 1 header, 1 footer, 8.5ms\n",
      "image 2432/2605 /tf/notebook/testimage/screencapture-payna-la-studioweb-home-18-2022-09-28-11_20_531576.jpg: 640x192 2 banners, 1 3block, 2 4blocks, 1 typo, 1 gallery, 1 header, 1 footer, 10.1ms\n",
      "image 2433/2605 /tf/notebook/testimage/screencapture-pc-babathe-main-2022-09-29-16_35_54.jpg: 640x96 2 banners, 2 2blocks, 1 3block, 4 4blocks, 6 5blocks, 3 6blocks, 1 nblock, 1 header, 13.6ms\n",
      "image 2434/2605 /tf/notebook/testimage/screencapture-pc-babathe-main-2022-09-30-10_04_24.jpg: 640x128 2 banners, 2 2blocks, 1 3block, 4 4blocks, 5 5blocks, 4 6blocks, 1 8block, 1 nblock, 1 header, 15.4ms\n",
      "image 2435/2605 /tf/notebook/testimage/screencapture-perennial-7uptheme-net-home-3-2022-09-28-11_30_351584.jpg: 640x384 2 banners, 3 3blocks, 1 4block, 1 5block, 1 header, 1 footer, 27.6ms\n",
      "image 2436/2605 /tf/notebook/testimage/screencapture-perennial-7uptheme-net-home-8-2022-09-28-11_31_151589.jpg: 640x352 1 banner, 1 2block, 1 4block, 2 7blocks, 1 8block, 1 nblock, 1 gallery, 1 header, 1 footer, 38.5ms\n",
      "image 2437/2605 /tf/notebook/testimage/screencapture-petitfee-2022-09-28-17_45_27.jpg: 640x256 3 banners, 1 2block, 1 3block, 2 4blocks, 1 8block, 1 nblock, 1 header, 1 footer, 62.1ms\n",
      "image 2438/2605 /tf/notebook/testimage/screencapture-petlovers-themeplayers-net-2022-09-26-11_10_451606.jpg: 640x224 3 banners, 1 2block, 2 3blocks, 3 4blocks, 3 typos, 1 gallery, 1 header, 1 footer, 47.4ms\n",
      "image 2439/2605 /tf/notebook/testimage/screencapture-peto-themeftc-2022-09-27-10_57_51.jpg: 640x192 5 banners, 5 3blocks, 3 4blocks, 1 5block, 1 header, 1 footer, 54.5ms\n",
      "image 2440/2605 /tf/notebook/testimage/screencapture-peto-themeftc-home5e-2022-09-27-11_00_05.jpg: 640x256 2 banners, 4 3blocks, 1 4block, 1 6block, 1 gallery, 1 header, 1 footer, 161.7ms\n",
      "image 2441/2605 /tf/notebook/testimage/screencapture-peto-themeftc-home9-2022-09-27-11_01_00.jpg: 640x256 5 banners, 3 3blocks, 1 4block, 1 typo, 1 footer, 6.3ms\n",
      "image 2442/2605 /tf/notebook/testimage/screencapture-petoria-co-kr-2022-09-29-14_00_35.jpg: 640x256 2 banners, 2 2blocks, 3 3blocks, 1 5block, 2 typos, 1 header, 2 footers, 6.2ms\n",
      "image 2443/2605 /tf/notebook/testimage/screencapture-pharell-lpdthemesdemo-home-2-2022-09-27-17_19_451620.jpg: 640x256 2 banners, 2 2blocks, 2 3blocks, 4 4blocks, 1 5block, 1 6block, 2 typos, 2 gallerys, 1 header, 1 footer, 6.3ms\n",
      "image 2444/2605 /tf/notebook/testimage/screencapture-piaget-kr-ko-2022-09-29-13_40_36.jpg: 640x224 1 banner, 1 2block, 1 3block, 3 4blocks, 1 typo, 1 header, 1 footer, 6.6ms\n",
      "image 2445/2605 /tf/notebook/testimage/screencapture-pinkelephant-co-kr-index-html-2022-09-29-10_32_49.jpg: 640x128 1 banner, 1 2block, 2 3blocks, 1 4block, 6 5blocks, 1 header, 7.3ms\n",
      "image 2446/2605 /tf/notebook/testimage/screencapture-pinksisly-2022-09-29-13_18_07.jpg: 640x64 6 3blocks, 2 4blocks, 7.3ms\n",
      "image 2447/2605 /tf/notebook/testimage/screencapture-pippin-co-kr-2022-09-29-11_45_24.jpg: 640x192 2 banners, 1 2block, 3 3blocks, 4 4blocks, 1 5block, 3 headers, 1 footer, 8.5ms\n",
      "image 2448/2605 /tf/notebook/testimage/screencapture-pitstop-true-emotions-studio-home-4-2022-09-27-13_13_24.jpg: 640x352 1 banner, 1 2block, 1 5block, 2 6blocks, 1 8block, 1 nblock, 1 gallery, 1 header, 1 footer, 17.1ms\n",
      "image 2449/2605 /tf/notebook/testimage/screencapture-pitstop-true-emotions-studio-home-5-2022-09-27-13_13_33.jpg: 640x320 2 banners, 1 2block, 1 5block, 1 6block, 1 7block, 1 8block, 1 nblock, 1 gallery, 2 headers, 1 footer, 26.1ms\n",
      "image 2450/2605 /tf/notebook/testimage/screencapture-plantmore-mallthemes-2022-09-27-17_41_58.jpg: 640x160 3 banners, 4 3blocks, 1 4block, 1 5block, 3 typos, 1 gallery, 2 headers, 1 footer, 44.4ms\n",
      "image 2451/2605 /tf/notebook/testimage/screencapture-pome-qodeinteractive-2022-09-28-15_16_50.jpg: 640x160 4 banners, 1 2block, 3 3blocks, 4 4blocks, 1 typo, 2 gallerys, 1 header, 1 footer, 30.4ms\n",
      "image 2452/2605 /tf/notebook/testimage/screencapture-poom-co-kr-main-initMain-action-2022-09-29-14_21_00.jpg: 640x128 4 banners, 1 2block, 4 3blocks, 7 4blocks, 3 5blocks, 3 gallerys, 1 header, 1 footer, 22.9ms\n",
      "image 2453/2605 /tf/notebook/testimage/screencapture-porto-demo17-myshopify-2022-09-22-17_11_26.jpg: 640x448 2 banners, 1 2block, 3 3blocks, 2 4blocks, 2 typos, 1 header, 3 footers, 117.5ms\n",
      "image 2454/2605 /tf/notebook/testimage/screencapture-porto-demo20-myshopify-2022-09-22-17_10_56.jpg: 640x640 1 banner, 1 2block, 1 4block, 2 5blocks, 1 typo, 2 gallerys, 2 headers, 1 footer, 56.0ms\n",
      "image 2455/2605 /tf/notebook/testimage/screencapture-preview-wolfthemes-live-alceste-home-full-window-slider-2022-09-27-13_56_091862.jpg: 640x256 4 banners, 1 3block, 2 4blocks, 1 5block, 1 header, 1 footer, 32.3ms\n",
      "image 2456/2605 /tf/notebook/testimage/screencapture-preview-wolfthemes-live-alceste-home-metro-home-2022-09-27-13_56_261865.jpg: 640x384 1 banner, 1 typo, 1 gallery, 1 header, 1 footer, 39.3ms\n",
      "image 2457/2605 /tf/notebook/testimage/screencapture-promo-theme-lucci-new-collection-white-2022-09-26-10_40_50.jpg: 640x352 3 banners, 2 3blocks, 2 4blocks, 1 gallery, 1 header, 27.7ms\n",
      "image 2458/2605 /tf/notebook/testimage/screencapture-prospero-7uptheme-net-home-fashion-dark-2022-09-28-15_26_13.jpg: 640x256 2 banners, 1 2block, 3 3blocks, 1 4block, 1 5block, 1 typo, 1 gallery, 2 headers, 28.2ms\n",
      "image 2459/2605 /tf/notebook/testimage/screencapture-prospero-7uptheme-net-home-fashion-light-2022-09-28-15_26_07.jpg: 640x256 1 banner, 1 2block, 3 3blocks, 2 4blocks, 1 typo, 2 gallerys, 1 header, 67.7ms\n",
      "image 2460/2605 /tf/notebook/testimage/screencapture-pushbutton-co-kr-2022-09-29-17_03_43.jpg: 640x576 1 banner, 1 3block, 1 4block, 1 typo, 1 footer, 89.4ms\n",
      "image 2461/2605 /tf/notebook/testimage/screencapture-pushnifty-mojoomla-extend-wordpress-kybully-home-2022-09-27-17_29_04.jpg: 640x512 1 banner, 1 2block, 1 3block, 1 4block, 1 5block, 1 gallery, 1 header, 1 footer, 41.7ms\n",
      "image 2462/2605 /tf/notebook/testimage/screencapture-quartz-wp1-zootemplate-home-12-2022-09-28-10_01_15.jpg: 640x416 2 banners, 1 2block, 2 4blocks, 1 typo, 1 gallery, 1 header, 1 footer, 43.8ms\n",
      "image 2463/2605 /tf/notebook/testimage/screencapture-quartz-wp1-zootemplate-home-14-2022-09-28-10_01_25.jpg: 640x320 4 banners, 1 4block, 1 6block, 1 header, 1 footer, 45.7ms\n"
     ]
    },
    {
     "name": "stdout",
     "output_type": "stream",
     "text": [
      "image 2464/2605 /tf/notebook/testimage/screencapture-quartz-wp1-zootemplate-home-6-2022-09-28-10_00_45.jpg: 640x640 1 banner, 1 2block, 3 4blocks, 2 headers, 1 footer, 250.2ms\n",
      "image 2465/2605 /tf/notebook/testimage/screencapture-quartz-wp1-zootemplate-home-7-2022-09-28-10_00_50.jpg: 640x416 3 banners, 2 3blocks, 2 4blocks, 1 5block, 1 header, 1 footer, 7.2ms\n",
      "image 2466/2605 /tf/notebook/testimage/screencapture-qvo-co-kr-2022-09-29-13_09_40.jpg: 640x192 2 banners, 2 3blocks, 2 4blocks, 3 5blocks, 2 gallerys, 1 header, 7.4ms\n",
      "image 2467/2605 /tf/notebook/testimage/screencapture-rab-kaththemes-shoes-2022-09-27-13_36_421918.jpg: 640x256 2 banners, 2 3blocks, 3 4blocks, 1 typo, 1 header, 1 footer, 6.9ms\n",
      "image 2468/2605 /tf/notebook/testimage/screencapture-rachelcox-co-kr-2022-09-29-14_23_25.jpg: 640x192 3 banners, 1 2block, 1 3block, 1 typo, 1 header, 1 footer, 6.6ms\n",
      "image 2469/2605 /tf/notebook/testimage/screencapture-radiustheme-demo-wordpress-themes-medimall-home-2-2022-09-23-17_30_40.jpg: 640x256 3 banners, 1 2block, 2 3blocks, 1 4block, 1 5block, 2 6blocks, 1 7block, 1 gallery, 1 header, 1 footer, 15.9ms\n",
      "image 2470/2605 /tf/notebook/testimage/screencapture-rado-studio-aventa-demo5-2022-09-27-16_41_501923.jpg: 640x288 2 banners, 1 2block, 1 3block, 1 4block, 1 gallery, 1 header, 1 footer, 26.2ms\n",
      "image 2471/2605 /tf/notebook/testimage/screencapture-rado-studio-aventa-demo7-2022-09-27-16_42_511925.jpg: 640x256 2 banners, 1 2block, 2 3blocks, 1 4block, 2 headers, 1 footer, 19.1ms\n",
      "image 2472/2605 /tf/notebook/testimage/screencapture-ralphlauren-co-kr-2022-09-28-16_42_24.jpg: 640x160 4 banners, 2 2blocks, 1 3block, 1 header, 1 footer, 22.0ms\n",
      "image 2473/2605 /tf/notebook/testimage/screencapture-rango-themeftc-home4-2022-09-27-14_26_00.jpg: 640x256 2 2blocks, 1 3block, 4 4blocks, 1 5block, 3 gallerys, 1 header, 1 footer, 31.8ms\n",
      "image 2474/2605 /tf/notebook/testimage/screencapture-raymond-jwsuperthemes-homepage-04-2022-09-26-16_44_22.jpg: 640x352 3 banners, 2 3blocks, 1 4block, 1 5block, 2 typos, 1 gallery, 1 header, 1 footer, 64.5ms\n",
      "image 2475/2605 /tf/notebook/testimage/screencapture-raymond-jwsuperthemes-homepage-05-2022-09-26-16_44_33.jpg: 640x352 1 banner, 1 2block, 1 3block, 1 4block, 1 5block, 1 gallery, 1 header, 1 footer, 47.2ms\n",
      "image 2476/2605 /tf/notebook/testimage/screencapture-raz-la-studioweb-home-08-2022-09-28-15_40_46.jpg: 640x256 1 banner, 1 2block, 1 3block, 1 4block, 2 typos, 1 header, 42.0ms\n",
      "image 2477/2605 /tf/notebook/testimage/screencapture-raz-la-studioweb-home-12-2022-09-28-15_41_20.jpg: 640x160 2 banners, 2 3blocks, 1 4block, 1 typo, 1 gallery, 1 header, 1 footer, 52.1ms\n",
      "image 2478/2605 /tf/notebook/testimage/screencapture-raz-la-studioweb-home-14-2022-09-28-15_41_39.jpg: 640x640 2 banners, 4 2blocks, 3 gallerys, 4 headers, 2 footers, 212.1ms\n",
      "image 2479/2605 /tf/notebook/testimage/screencapture-recipeofgirl-2022-09-29-13_25_31.jpg: 640x96 1 banner, 2 3blocks, 4 4blocks, 1 5block, 1 gallery, 1 header, 2 footers, 7.0ms\n",
      "image 2480/2605 /tf/notebook/testimage/screencapture-refer-althemist-home-3-2022-09-27-11_07_211929.jpg: 640x192 3 banners, 2 3blocks, 3 4blocks, 2 typos, 7.1ms\n",
      "image 2481/2605 /tf/notebook/testimage/screencapture-repetto-kr-main-main-asp-2022-09-29-13_32_42.jpg: 640x256 3 banners, 2 3blocks, 1 4block, 1 5block, 1 6block, 2 typos, 1 header, 1 footer, 12.9ms\n",
      "image 2482/2605 /tf/notebook/testimage/screencapture-responsive-sample01-firstmall-kr-2022-09-21-18_13_08.jpg: 640x480 2 banners, 1 2block, 1 3block, 2 4blocks, 1 6block, 1 7block, 2 typos, 1 gallery, 1 header, 2 footers, 17.7ms\n",
      "image 2483/2605 /tf/notebook/testimage/screencapture-responsive-sample13-firstmall-kr-2022-09-21-18_12_41.jpg: 640x384 2 banners, 3 3blocks, 2 4blocks, 1 6block, 1 typo, 1 gallery, 1 header, 1 footer, 21.9ms\n",
      "image 2484/2605 /tf/notebook/testimage/screencapture-responsive-sample14-firstmall-kr-2022-09-21-18_12_22.jpg: 640x352 3 banners, 2 3blocks, 2 4blocks, 1 5block, 1 gallery, 1 header, 2 footers, 36.5ms\n",
      "image 2485/2605 /tf/notebook/testimage/screencapture-responsive-sample21-firstmall-kr-2022-09-21-18_12_01.jpg: 640x544 2 banners, 1 2block, 1 3block, 1 4block, 2 typos, 1 header, 52.3ms\n",
      "image 2486/2605 /tf/notebook/testimage/screencapture-responsive-sample34-firstmall-kr-2022-09-21-18_11_44.jpg: 640x480 5 banners, 1 2block, 2 3blocks, 3 4blocks, 1 typo, 1 header, 58.6ms\n",
      "image 2487/2605 /tf/notebook/testimage/screencapture-richmood-co-kr-2022-09-29-15_02_40.jpg: 640x128 1 banner, 1 3block, 4 4blocks, 1 5block, 1 header, 1 footer, 24.8ms\n",
      "image 2488/2605 /tf/notebook/testimage/screencapture-ridestyle-7uptheme-net-home-4-2022-09-28-11_07_131944.jpg: 640x256 1 banner, 1 2block, 4 3blocks, 1 4block, 1 6block, 1 typo, 1 gallery, 1 header, 1 footer, 54.0ms\n",
      "image 2489/2605 /tf/notebook/testimage/screencapture-robin-thememove-light-inspiration-2022-09-23-16_25_02.jpg: 640x384 2 banners, 1 6block, 1 typo, 1 header, 1 footer, 83.9ms\n",
      "image 2490/2605 /tf/notebook/testimage/screencapture-roompacker-co-kr-2022-09-29-10_53_53.jpg: 640x96 1 banner, 1 2block, 3 3blocks, 4 4blocks, 4 5blocks, 1 gallery, 66.7ms\n",
      "image 2491/2605 /tf/notebook/testimage/screencapture-rowky-2022-09-29-15_27_03.jpg: 640x128 1 2block, 2 3blocks, 1 4block, 1 header, 2 footers, 30.9ms\n",
      "image 2492/2605 /tf/notebook/testimage/screencapture-rozley-co-kr-2022-09-30-09_09_35.jpg: 640x160 1 banner, 1 2block, 4 4blocks, 2 5blocks, 1 header, 1 footer, 43.7ms\n",
      "image 2493/2605 /tf/notebook/testimage/screencapture-rt-fastor-boxed-myshopify-2022-09-22-16_25_50.jpg: 640x288 2 banners, 1 2block, 3 4blocks, 2 5blocks, 1 gallery, 1 header, 1 footer, 99.0ms\n",
      "image 2494/2605 /tf/notebook/testimage/screencapture-rt-fastor-boxed-myshopify-2022-09-22-16_26_40.jpg: 640x224 2 banners, 2 2blocks, 1 3block, 1 4block, 2 5blocks, 1 typo, 1 header, 1 footer, 23.8ms\n",
      "image 2495/2605 /tf/notebook/testimage/screencapture-rt-fastor-boxed-myshopify-2022-09-22-16_27_09.jpg: 640x224 3 banners, 2 2blocks, 2 4blocks, 1 5block, 1 header, 1 footer, 21.9ms\n",
      "image 2496/2605 /tf/notebook/testimage/screencapture-rt-fastor-boxed-myshopify-2022-09-22-16_27_41.jpg: 640x256 4 banners, 1 2block, 2 3blocks, 2 4blocks, 1 5block, 1 6block, 1 header, 1 footer, 27.0ms\n",
      "image 2497/2605 /tf/notebook/testimage/screencapture-safira-mallthemes-cosmetic-2022-09-23-15_05_55.jpg: 640x352 2 banners, 1 3block, 2 4blocks, 1 5block, 1 6block, 2 gallerys, 1 header, 1 footer, 228.1ms\n",
      "image 2498/2605 /tf/notebook/testimage/screencapture-safira-mallthemes-electronic-2022-09-23-15_08_33.jpg: 640x288 1 banner, 1 2block, 2 3blocks, 1 4block, 4 5blocks, 2 gallerys, 1 header, 1 footer, 21.8ms\n",
      "image 2499/2605 /tf/notebook/testimage/screencapture-safira-mallthemes-electronic-electronic-03-2022-09-23-15_09_02.jpg: 640x320 2 banners, 1 3block, 2 5blocks, 1 6block, 2 gallerys, 1 header, 1 footer, 22.4ms\n",
      "image 2500/2605 /tf/notebook/testimage/screencapture-safira-mallthemes-medical-2022-09-23-15_04_37.jpg: 640x320 2 banners, 1 3block, 1 4block, 3 5blocks, 2 gallerys, 1 header, 1 footer, 21.0ms\n",
      "image 2501/2605 /tf/notebook/testimage/screencapture-saint-james-co-kr-main-2022-09-28-17_12_35.jpg: 640x192 2 banners, 2 2blocks, 3 4blocks, 2 5blocks, 1 6block, 1 gallery, 1 header, 1 footer, 51.6ms\n",
      "image 2502/2605 /tf/notebook/testimage/screencapture-saladbowls-co-kr-2022-09-29-16_26_20.jpg: 640x288 3 banners, 2 3blocks, 1 4block, 3 typos, 1 header, 1 footer, 63.2ms\n",
      "image 2503/2605 /tf/notebook/testimage/screencapture-saltless-fluid-demo-squarespace-2022-09-21-18_05_48.jpg: 640x256 6 banners, 1 3block, 1 4block, 1 header, 1 footer, 110.8ms\n",
      "image 2504/2605 /tf/notebook/testimage/screencapture-seeshop-7uptheme-net-home-2-2022-09-26-15_23_32.jpg: 640x192 3 banners, 2 2blocks, 3 3blocks, 3 4blocks, 1 5block, 1 typo, 1 gallery, 1 header, 2 footers, 6.7ms\n",
      "image 2505/2605 /tf/notebook/testimage/screencapture-seeshop-7uptheme-net-home-7-2022-09-26-15_24_21.jpg: 640x320 1 banner, 3 3blocks, 1 4block, 1 5block, 1 typo, 1 gallery, 1 header, 1 footer, 8.6ms\n",
      "image 2506/2605 /tf/notebook/testimage/screencapture-sellermartb2b-co-kr-2022-09-29-14_27_32.jpg: 640x288 1 banner, 2 3blocks, 3 4blocks, 1 5block, 1 header, 2 footers, 7.0ms\n",
      "image 2507/2605 /tf/notebook/testimage/screencapture-sellway-co-kr-2022-09-29-15_12_14.jpg: 640x224 4 banners, 3 2blocks, 2 3blocks, 1 6block, 1 7block, 1 gallery, 1 header, 1 footer, 7.1ms\n"
     ]
    },
    {
     "name": "stdout",
     "output_type": "stream",
     "text": [
      "image 2508/2605 /tf/notebook/testimage/screencapture-sentinal-7uptheme-net-home-4-2022-09-26-15_46_32.jpg: 640x352 2 banners, 2 3blocks, 2 4blocks, 1 header, 1 footer, 21.9ms\n",
      "image 2509/2605 /tf/notebook/testimage/screencapture-sentinal-7uptheme-net-home-5-2022-09-26-15_46_44.jpg: 640x256 3 banners, 2 3blocks, 3 4blocks, 1 gallery, 1 header, 1 footer, 27.1ms\n",
      "image 2510/2605 /tf/notebook/testimage/screencapture-sentinal-7uptheme-net-home-8-2022-09-26-15_47_26.jpg: 640x256 2 banners, 1 2block, 2 4blocks, 2 typos, 1 gallery, 2 headers, 23.8ms\n",
      "image 2511/2605 /tf/notebook/testimage/screencapture-sentinal-7uptheme-net-home-9-2022-09-26-15_47_37.jpg: 640x224 2 banners, 3 2blocks, 1 3block, 3 4blocks, 1 5block, 1 typo, 2 headers, 1 footer, 26.0ms\n",
      "image 2512/2605 /tf/notebook/testimage/screencapture-sephora-kr-2022-09-29-13_42_02.jpg: 640x608 2 banners, 1 3block, 1 6block, 2 typos, 1 header, 67.3ms\n",
      "image 2513/2605 /tf/notebook/testimage/screencapture-sezwick-2022-09-30-09_50_59.jpg: 640x224 1 3block, 2 4blocks, 1 5block, 1 header, 1 footer, 62.8ms\n",
      "image 2514/2605 /tf/notebook/testimage/screencapture-shb-7uptheme-net-home-2-2022-09-27-16_53_351973.jpg: 640x192 4 banners, 4 2blocks, 3 3blocks, 2 typos, 1 gallery, 1 header, 1 footer, 25.5ms\n",
      "image 2515/2605 /tf/notebook/testimage/screencapture-shb-7uptheme-net-home-3-2022-09-27-16_53_441974.jpg: 640x288 3 banners, 2 3blocks, 1 4block, 1 gallery, 1 header, 1 footer, 31.2ms\n",
      "image 2516/2605 /tf/notebook/testimage/screencapture-shella-cwsthemes-home-v2-2022-09-28-10_02_50.jpg: 640x256 3 banners, 2 2blocks, 1 3block, 1 4block, 1 header, 192.7ms\n",
      "image 2517/2605 /tf/notebook/testimage/screencapture-shella-cwsthemes-home-v3-2022-09-28-10_02_56.jpg: 640x640 1 banner, 2 3blocks, 3 headers, 1 footer, 56.6ms\n",
      "image 2518/2605 /tf/notebook/testimage/screencapture-shella-cwsthemes-home-v6-2022-09-28-10_03_18.jpg: 640x640 1 banner, 1 4block, 1 header, 1 footer, 47.3ms\n",
      "image 2519/2605 /tf/notebook/testimage/screencapture-shella-skins-mpthemes-net-2022-09-22-17_07_54.jpg: 640x224 5 banners, 2 3blocks, 1 5block, 1 6block, 3 typos, 1 header, 25.4ms\n",
      "image 2520/2605 /tf/notebook/testimage/screencapture-shtheme-demosd-vura-2022-09-27-13_39_37.jpg: 640x256 3 banners, 3 3blocks, 2 4blocks, 1 typo, 1 gallery, 1 header, 1 footer, 21.7ms\n",
      "image 2521/2605 /tf/notebook/testimage/screencapture-siloe-familab-net-home-pinmapper-2022-09-26-17_49_12.jpg: 640x256 2 banners, 2 3blocks, 1 5block, 1 6block, 1 typo, 1 header, 1 footer, 43.4ms\n",
      "image 2522/2605 /tf/notebook/testimage/screencapture-sivillage-main-initMain-siv-2022-09-29-14_30_41.jpg: 640x160 4 banners, 3 2blocks, 2 3blocks, 4 4blocks, 1 5block, 1 typo, 1 gallery, 7.9ms\n",
      "image 2523/2605 /tf/notebook/testimage/screencapture-sivillage-main-initMain-siv-2022-09-30-09_21_33.jpg: 640x160 4 banners, 4 2blocks, 1 3block, 5 4blocks, 1 5block, 1 footer, 7.0ms\n",
      "image 2524/2605 /tf/notebook/testimage/screencapture-skincare-7uptheme-net-home-23-2022-09-27-16_50_36.jpg: 640x128 3 banners, 6 3blocks, 2 gallerys, 1 header, 1 footer, 14.1ms\n",
      "image 2525/2605 /tf/notebook/testimage/screencapture-skincare-7uptheme-net-home-25-2022-09-27-16_50_52.jpg: 640x128 4 banners, 2 2blocks, 1 4block, 2 5blocks, 1 gallery, 1 header, 1 footer, 6.2ms\n",
      "image 2526/2605 /tf/notebook/testimage/screencapture-skincare-7uptheme-net-home-26-2022-09-27-16_50_59.jpg: 640x224 3 banners, 1 2block, 1 3block, 1 header, 6.7ms\n",
      "image 2527/2605 /tf/notebook/testimage/screencapture-skincare-7uptheme-net-home-27-2022-09-27-16_51_05.jpg: 640x160 3 banners, 3 2blocks, 1 4block, 2 typos, 1 header, 2 footers, 6.9ms\n",
      "image 2528/2605 /tf/notebook/testimage/screencapture-skincare-7uptheme-net-home-4-2022-09-27-16_42_33.jpg: 640x160 2 banners, 2 3blocks, 3 4blocks, 1 typo, 1 header, 2 footers, 7.3ms\n",
      "image 2529/2605 /tf/notebook/testimage/screencapture-skincare-7uptheme-net-home-8-2022-09-27-16_43_03.jpg: 640x160 4 banners, 1 2block, 1 3block, 2 4blocks, 1 gallery, 1 header, 1 footer, 6.8ms\n",
      "image 2530/2605 /tf/notebook/testimage/screencapture-skudmart-la-studioweb-home-02-2022-09-28-10_27_202011.jpg: 640x576 1 banner, 2 typos, 1 gallery, 1 header, 1 footer, 9.0ms\n",
      "image 2531/2605 /tf/notebook/testimage/screencapture-skudmart-la-studioweb-home-03-2022-09-28-10_28_012012.jpg: 640x224 3 banners, 1 2block, 1 4block, 1 typo, 2 gallerys, 1 header, 1 footer, 18.2ms\n",
      "image 2532/2605 /tf/notebook/testimage/screencapture-skudmart-la-studioweb-home-08-2022-09-28-10_29_052017.jpg: 640x256 2 banners, 1 3block, 3 4blocks, 3 5blocks, 1 typo, 1 gallery, 1 header, 1 footer, 25.0ms\n",
      "image 2533/2605 /tf/notebook/testimage/screencapture-smartdata-tonytemplates-wokiee-home-page-example-12-2022-09-27-13_50_26.jpg: 640x288 1 banner, 2 4blocks, 1 gallery, 1 header, 1 footer, 29.2ms\n",
      "image 2534/2605 /tf/notebook/testimage/screencapture-smartdata-tonytemplates-wokiee-home-page-example-16-2022-09-27-13_50_52.jpg: 640x320 1 banner, 1 3block, 3 4blocks, 1 gallery, 1 header, 1 footer, 30.3ms\n",
      "image 2535/2605 /tf/notebook/testimage/screencapture-smartdata-tonytemplates-wokiee-skin-furniture-2022-09-27-13_48_23.jpg: 640x320 1 banner, 1 2block, 1 4block, 1 gallery, 1 header, 1 footer, 35.3ms\n",
      "image 2536/2605 /tf/notebook/testimage/screencapture-smartstore-naver-dandybear-2022-09-29-11_24_03.jpg: 640x544 3 banners, 1 2block, 1 3block, 3 typos, 1 header, 103.6ms\n",
      "image 2537/2605 /tf/notebook/testimage/screencapture-snowlinemall-2022-09-29-13_57_16.jpg: 640x192 3 banners, 3 2blocks, 4 3blocks, 1 4block, 3 5blocks, 1 header, 2 footers, 247.7ms\n",
      "image 2538/2605 /tf/notebook/testimage/screencapture-sofine-familab-net-home-09-2022-09-26-15_36_49.jpg: 640x256 1 banner, 1 2block, 2 3blocks, 1 4block, 3 5blocks, 1 typo, 1 header, 1 footer, 7.6ms\n",
      "image 2539/2605 /tf/notebook/testimage/screencapture-sofine-familab-net-home-14-2022-09-26-15_37_36.jpg: 640x288 1 banner, 2 3blocks, 1 4block, 3 5blocks, 1 6block, 1 7block, 2 headers, 1 footer, 7.7ms\n",
      "image 2540/2605 /tf/notebook/testimage/screencapture-somemood-co-kr-2022-09-29-15_43_54.jpg: 640x160 1 banner, 2 4blocks, 1 header, 1 footer, 6.6ms\n",
      "image 2541/2605 /tf/notebook/testimage/screencapture-sonyunara-2022-09-29-13_14_57.jpg: 640x256 1 4block, 1 5block, 1 header, 1 footer, 7.7ms\n",
      "image 2542/2605 /tf/notebook/testimage/screencapture-soul-wp1-zootemplate-home-12-2022-09-28-10_43_52.jpg: 640x384 2 banners, 2 4blocks, 1 typo, 1 header, 1 footer, 26.5ms\n",
      "image 2543/2605 /tf/notebook/testimage/screencapture-spab-rice-wordpress-rade-demo-home-creative-2022-09-27-11_15_032053.jpg: 640x288 4 banners, 1 2block, 1 4block, 1 header, 1 footer, 24.0ms\n",
      "image 2544/2605 /tf/notebook/testimage/screencapture-space-wp1-zootemplate-demo-home-3-2022-09-28-11_20_37.jpg: 640x512 2 banners, 2 2blocks, 1 3block, 1 5block, 1 header, 1 footer, 40.4ms\n",
      "image 2545/2605 /tf/notebook/testimage/screencapture-space-xtemos-demo-hitek-home-3-2022-09-28-10_18_34.jpg: 640x320 2 banners, 1 3block, 1 4block, 2 5blocks, 1 6block, 1 7block, 2 gallerys, 1 header, 1 footer, 41.1ms\n",
      "image 2546/2605 /tf/notebook/testimage/screencapture-spao-elandmall-main-initMain-action-2022-09-28-16_49_48.jpg: 640x288 1 banner, 2 2blocks, 2 4blocks, 2 typos, 1 header, 71.5ms\n",
      "image 2547/2605 /tf/notebook/testimage/screencapture-specialoffer-kr-2022-09-29-15_13_14.jpg: 640x320 1 2block, 1 3block, 3 5blocks, 1 6block, 2 nblocks, 2 typos, 1 gallery, 1 header, 2 footers, 43.4ms\n",
      "image 2548/2605 /tf/notebook/testimage/screencapture-ssfshop-main-2022-09-29-13_22_54.jpg: 640x128 6 banners, 2 3blocks, 2 4blocks, 5 5blocks, 1 8block, 1 typo, 1 header, 1 footer, 38.8ms\n",
      "image 2549/2605 /tf/notebook/testimage/screencapture-ssfshop-main-2022-09-29-14_39_31.jpg: 640x160 6 banners, 1 3block, 5 5blocks, 1 8block, 1 gallery, 2 headers, 1 footer, 83.2ms\n",
      "image 2550/2605 /tf/notebook/testimage/screencapture-stanley-g5plus-net-home-03-2022-09-27-11_29_33.jpg: 640x320 1 banner, 1 2block, 1 3block, 1 5block, 1 typo, 1 header, 1 footer, 28.3ms\n",
      "image 2551/2605 /tf/notebook/testimage/screencapture-stellamccartney-kr-ko-2022-09-30-09_26_58.jpg: 640x192 4 banners, 1 2block, 1 4block, 1 5block, 1 header, 1 footer, 23.1ms\n",
      "image 2552/2605 /tf/notebook/testimage/screencapture-stylebiggirl-co-kr-2022-09-29-15_57_22.jpg: 640x96 3 banners, 2 2blocks, 7 4blocks, 1 5block, 17.1ms\n"
     ]
    },
    {
     "name": "stdout",
     "output_type": "stream",
     "text": [
      "image 2553/2605 /tf/notebook/testimage/screencapture-styleggom-co-kr-2022-09-29-14_11_37.jpg: 640x160 1 2block, 1 4block, 6 5blocks, 2 6blocks, 1 header, 1 footer, 20.5ms\n",
      "image 2554/2605 /tf/notebook/testimage/screencapture-stylelq-intro-do-2022-09-29-09_31_32.jpg: 640x192 4 banners, 2 2blocks, 1 3block, 1 4block, 1 typo, 1 header, 44.8ms\n",
      "image 2555/2605 /tf/notebook/testimage/screencapture-supershop-7uptheme-net-home-4-2022-09-28-14_24_16.jpg: 640x320 2 banners, 1 2block, 1 3block, 2 4blocks, 1 typo, 3 gallerys, 1 header, 1 footer, 71.7ms\n",
      "image 2556/2605 /tf/notebook/testimage/screencapture-supershop-7uptheme-net-home-5-2022-09-28-14_24_22.jpg: 640x544 3 banners, 3 4blocks, 2 5blocks, 1 typo, 1 gallery, 1 header, 1 footer, 237.5ms\n",
      "image 2557/2605 /tf/notebook/testimage/screencapture-tatiana-co-kr-2022-09-29-16_51_51.jpg: 640x160 2 banners, 1 3block, 1 footer, 7.0ms\n",
      "image 2558/2605 /tf/notebook/testimage/screencapture-terina-2-novaworks-net-2022-09-23-15_26_292070.jpg: 640x224 2 banners, 3 3blocks, 1 4block, 1 6block, 1 header, 1 footer, 6.9ms\n",
      "image 2559/2605 /tf/notebook/testimage/screencapture-teta-kitestudio-co-electronics-tiles-2-2022-09-27-17_33_56.jpg: 640x224 3 banners, 2 2blocks, 1 3block, 1 5block, 2 headers, 1 footer, 7.1ms\n",
      "image 2560/2605 /tf/notebook/testimage/screencapture-thecrate-themeslr-home-shave-crate-2022-09-28-11_05_422086.jpg: 640x256 4 banners, 3 2blocks, 3 3blocks, 1 6block, 1 header, 1 footer, 7.2ms\n",
      "image 2561/2605 /tf/notebook/testimage/screencapture-theemon-l-look-wp-LivePreview-home-three-2022-09-27-09_59_37.jpg: 640x384 1 2block, 2 3blocks, 2 4blocks, 1 header, 1 footer, 6.9ms\n",
      "image 2562/2605 /tf/notebook/testimage/screencapture-thehandsome-ko-b-br08-2022-09-29-14_27_03.jpg: 640x448 3 banners, 1 3block, 1 6block, 1 header, 2 footers, 7.9ms\n",
      "image 2563/2605 /tf/notebook/testimage/screencapture-thehandsome-ko-b-br19-2022-09-29-14_04_55.jpg: 640x384 2 banners, 1 3block, 1 header, 2 footers, 7.8ms\n",
      "image 2564/2605 /tf/notebook/testimage/screencapture-themedemo-commercegurus-hypermart-home-2-2022-09-26-11_16_332098.jpg: 640x320 2 banners, 1 2block, 2 3blocks, 1 4block, 1 6block, 1 header, 1 footer, 15.3ms\n",
      "image 2565/2605 /tf/notebook/testimage/screencapture-themedemo-commercegurus-hypermart-home-3-2022-09-26-11_16_452099.jpg: 640x320 3 banners, 2 3blocks, 1 4block, 1 6block, 1 typo, 1 gallery, 1 header, 1 footer, 16.3ms\n",
      "image 2566/2605 /tf/notebook/testimage/screencapture-themelooks-org-demo-karton-default-2022-09-26-10_10_08.jpg: 640x288 3 banners, 2 2blocks, 3 3blocks, 3 4blocks, 1 5block, 1 header, 1 footer, 19.3ms\n",
      "image 2567/2605 /tf/notebook/testimage/screencapture-themes-envytheme-gravo-home-eight-2022-09-28-15_43_17.jpg: 640x224 4 banners, 1 2block, 1 3block, 3 4blocks, 1 6block, 1 typo, 1 header, 1 footer, 30.0ms\n",
      "image 2568/2605 /tf/notebook/testimage/screencapture-themes-eovo-uk-romeo-designer-bags-2022-09-28-11_33_26.jpg: 640x480 2 2blocks, 2 3blocks, 52.9ms\n",
      "image 2569/2605 /tf/notebook/testimage/screencapture-themes-g5plus-net-spring-furniture-2022-09-23-14_45_18.jpg: 640x256 3 banners, 1 2block, 1 4block, 1 5block, 3 typos, 1 gallery, 1 header, 1 footer, 31.4ms\n",
      "image 2570/2605 /tf/notebook/testimage/screencapture-themes-g5plus-net-spring-home-02-2022-09-23-14_49_17.jpg: 640x160 3 banners, 1 2block, 4 3blocks, 2 4blocks, 2 5blocks, 1 6block, 4 typos, 1 gallery, 1 footer, 32.7ms\n",
      "image 2571/2605 /tf/notebook/testimage/screencapture-themes-smartythemes-cavalier-home-boxed-2022-09-26-14_50_54.jpg: 640x320 2 banners, 1 2block, 1 3block, 2 4blocks, 1 6block, 1 gallery, 1 header, 1 footer, 42.7ms\n",
      "image 2572/2605 /tf/notebook/testimage/screencapture-themes-themeregion-carrito-home-version-2-2022-09-26-15_58_34.jpg: 640x384 2 banners, 2 4blocks, 4 5blocks, 1 gallery, 1 header, 1 footer, 81.0ms\n",
      "image 2573/2605 /tf/notebook/testimage/screencapture-themes-vamtam-2022-09-23-17_44_41.jpg: 640x160 5 banners, 1 2block, 2 3blocks, 1 4block, 1 gallery, 1 header, 75.3ms\n",
      "image 2574/2605 /tf/notebook/testimage/screencapture-themetechmount-woocommerce-cicico-scuba-2022-09-27-15_28_06.jpg: 640x320 3 banners, 1 3block, 4 4blocks, 1 5block, 1 gallery, 1 header, 1 footer, 67.6ms\n",
      "image 2575/2605 /tf/notebook/testimage/screencapture-themexriver-wp-prinox-2022-09-27-10_19_14.jpg: 640x192 1 banner, 4 2blocks, 2 4blocks, 1 5block, 3 typos, 2 gallerys, 1 header, 1 footer, 100.4ms\n",
      "image 2576/2605 /tf/notebook/testimage/screencapture-themode-co-kr-2022-09-30-10_00_43.jpg: 640x64 2 4blocks, 14.0ms\n",
      "image 2577/2605 /tf/notebook/testimage/screencapture-themood-co-kr-2022-09-29-11_09_15.jpg: 640x160 1 2block, 1 4block, 2 5blocks, 1 gallery, 1 header, 24.9ms\n",
      "image 2578/2605 /tf/notebook/testimage/screencapture-thepipes-ancorathemes-home-3-2022-09-26-15_12_10.jpg: 640x288 2 banners, 1 3block, 1 4block, 1 6block, 2 gallerys, 1 header, 1 footer, 32.7ms\n",
      "image 2579/2605 /tf/notebook/testimage/screencapture-toms-2022-09-29-15_11_03.jpg: 640x160 5 banners, 2 3blocks, 2 4blocks, 2 typos, 1 gallery, 1 header, 1 footer, 20.7ms\n",
      "image 2580/2605 /tf/notebook/testimage/screencapture-toro-la-studioweb-home-09-2022-09-28-10_17_38.jpg: 640x224 1 banner, 1 2block, 2 3blocks, 1 4block, 1 typo, 1 header, 1 footer, 25.8ms\n",
      "image 2581/2605 /tf/notebook/testimage/screencapture-trendwp-modeltheme-2022-09-27-13_33_33.jpg: 640x224 1 banner, 1 2block, 2 3blocks, 4 4blocks, 2 5blocks, 1 gallery, 1 header, 1 footer, 144.0ms\n",
      "image 2582/2605 /tf/notebook/testimage/screencapture-trendwp-modeltheme-homepage-fashion-2022-09-27-13_33_27.jpg: 640x224 1 banner, 1 2block, 2 3blocks, 4 4blocks, 1 5block, 1 typo, 1 gallery, 1 header, 1 footer, 22.1ms\n",
      "image 2583/2605 /tf/notebook/testimage/screencapture-turan-kutethemes-net-home-05-2022-09-27-14_37_05.jpg: 640x288 2 banners, 1 2block, 1 3block, 2 4blocks, 1 gallery, 1 header, 1 footer, 28.7ms\n",
      "image 2584/2605 /tf/notebook/testimage/screencapture-ulkin-co-kr-2022-09-29-17_05_02.jpg: 640x416 1 banner, 1 gallery, 1 header, 37.8ms\n",
      "image 2585/2605 /tf/notebook/testimage/screencapture-underarmour-co-kr-ko-kr-2022-09-28-17_10_01.jpg: 640x192 5 banners, 2 2blocks, 1 3block, 1 4block, 1 gallery, 1 header, 1 footer, 52.9ms\n",
      "image 2586/2605 /tf/notebook/testimage/screencapture-unicoz-novaworks-net-home-02-2022-09-27-11_24_40.jpg: 640x320 1 banner, 3 3blocks, 2 4blocks, 1 6block, 1 gallery, 1 header, 1 footer, 102.9ms\n",
      "image 2587/2605 /tf/notebook/testimage/screencapture-uray-physcode-home-3-2022-09-27-17_04_30.jpg: 640x256 3 banners, 1 2block, 3 4blocks, 1 6block, 1 typo, 1 header, 1 footer, 111.0ms\n",
      "image 2588/2605 /tf/notebook/testimage/screencapture-urus2021-familab-net-home-retails-2022-09-23-17_10_33.jpg: 640x192 4 banners, 1 2block, 3 4blocks, 2 5blocks, 1 gallery, 1 header, 1 footer, 55.3ms\n",
      "image 2589/2605 /tf/notebook/testimage/screencapture-valeska-qodeinteractive-eryka-2022-09-28-13_28_23.jpg: 640x224 3 banners, 1 4block, 1 typo, 1 header, 1 footer, 40.4ms\n",
      "image 2590/2605 /tf/notebook/testimage/screencapture-vani-themeftc-home18-2022-09-27-10_25_27.jpg: 640x192 1 banner, 2 2blocks, 3 3blocks, 2 4blocks, 1 6block, 1 typo, 1 gallery, 1 header, 1 footer, 69.1ms\n",
      "image 2591/2605 /tf/notebook/testimage/screencapture-veres-la-studioweb-02-handmade-soap-02-2022-09-27-16_36_19.jpg: 640x224 4 banners, 2 4blocks, 2 7blocks, 1 gallery, 1 header, 1 footer, 28.6ms\n",
      "image 2592/2605 /tf/notebook/testimage/screencapture-websitedemos-net-be-bold-beauty-store-04-2022-09-22-17_54_48.jpg: 640x256 2 banners, 1 2block, 2 4blocks, 1 5block, 1 6block, 1 typo, 1 header, 1 footer, 27.6ms\n",
      "image 2593/2605 /tf/notebook/testimage/screencapture-wgl-demo-net-lemani-home-2-2022-09-27-10_26_042169.jpg: 640x224 3 banners, 1 2block, 1 3block, 2 4blocks, 1 6block, 2 typos, 1 header, 1 footer, 22.3ms\n",
      "image 2594/2605 /tf/notebook/testimage/screencapture-wiisnt-co-kr-2022-09-29-09_57_35.jpg: 640x256 3 banners, 2 2blocks, 1 3block, 1 5block, 1 nblock, 1 typo, 1 header, 40.2ms\n",
      "image 2595/2605 /tf/notebook/testimage/screencapture-wokiee-skins4-myshopify-2022-09-22-17_00_37.jpg: 640x384 1 banner, 1 3block, 1 4block, 1 typo, 1 header, 2 footers, 74.2ms\n",
      "image 2596/2605 /tf/notebook/testimage/screencapture-woodmart-xtemos-demo-organic-demo-organic-2022-09-22-11_22_59.jpg: 640x320 4 banners, 1 2block, 3 3blocks, 2 4blocks, 1 5block, 1 gallery, 1 header, 1 footer, 25.3ms\n"
     ]
    },
    {
     "name": "stdout",
     "output_type": "stream",
     "text": [
      "image 2597/2605 /tf/notebook/testimage/screencapture-woodmart-xtemos-home-cars-demo-cars-2022-09-22-11_21_59.jpg: 640x384 2 banners, 1 2block, 5 3blocks, 1 4block, 1 typo, 1 gallery, 1 footer, 28.6ms\n",
      "image 2598/2605 /tf/notebook/testimage/screencapture-woohoo-axiomthemes-2022-09-26-17_40_20.jpg: 640x224 2 banners, 1 2block, 2 3blocks, 2 4blocks, 1 6block, 1 header, 1 footer, 19.3ms\n",
      "image 2599/2605 /tf/notebook/testimage/screencapture-wordpress-templatemela-woo-WCM02-WCM020039-WP1-2022-09-27-10_32_40.jpg: 640x256 2 banners, 4 2blocks, 3 4blocks, 1 5block, 1 header, 45.3ms\n",
      "image 2600/2605 /tf/notebook/testimage/screencapture-wordpress-vinagecko-net-t-dorado-home-1-2022-09-27-09_45_57.jpg: 640x256 1 banner, 1 2block, 4 3blocks, 3 4blocks, 1 6block, 1 typo, 1 header, 1 footer, 199.5ms\n",
      "image 2601/2605 /tf/notebook/testimage/screencapture-wordpress-vinagecko-net-t-matalo-2022-09-23-16_21_06.jpg: 640x384 1 banner, 1 2block, 1 3block, 4 4blocks, 1 5block, 1 gallery, 1 header, 2 footers, 6.6ms\n",
      "image 2602/2605 /tf/notebook/testimage/screencapture-wordpressthemes-live-woo-WCM06-WCM060136-WP02-2022-09-23-16_21_362258.jpg: 640x320 2 banners, 3 3blocks, 2 4blocks, 1 typo, 1 header, 1 footer, 11.7ms\n",
      "image 2603/2605 /tf/notebook/testimage/screencapture-wordpressthemes-live-woo2-WCM01-WCM010025-WP02-2022-09-27-16_40_28.jpg: 640x352 1 banner, 1 3block, 2 4blocks, 1 5block, 1 gallery, 1 header, 1 footer, 6.9ms\n",
      "image 2604/2605 /tf/notebook/testimage/screencapture-wp-jmsthemes-erado-home-6-2022-09-28-13_19_422632.jpg: 640x384 2 banners, 3 3blocks, 1 4block, 1 5block, 1 6block, 1 typo, 1 header, 1 footer, 6.7ms\n",
      "image 2605/2605 /tf/notebook/testimage/screencapture-wpbingosite-wordpress-florial-home-stylish-2022-09-28-11_41_432450.jpg: 640x256 2 banners, 1 2block, 2 3blocks, 2 4blocks, 1 header, 1 footer, 6.6ms\n",
      "Speed: 2.0ms preprocess, 40.0ms inference, 2.7ms postprocess per image at shape (1, 3, 640, 256)\n",
      "Results saved to \u001b[1mruns/detect/predict2\u001b[0m\n"
     ]
    }
   ],
   "source": [
    "!yolo task=detect mode=predict model=/tf/notebook/best_v8m.pt source='/tf/notebook/testimage/' save_crop"
   ]
  },
  {
   "cell_type": "markdown",
   "id": "bc8da30e",
   "metadata": {},
   "source": [
    "# Test add_learning"
   ]
  },
  {
   "cell_type": "code",
   "execution_count": null,
   "id": "a792616c",
   "metadata": {},
   "outputs": [],
   "source": [
    "yaml_text = \"\"\"\n",
    "train: /tf/notebook/datasets/step1_addL/train\n",
    "val: /tf/notebook/datasets/step1_addL/val\n",
    "test: /tf/notebook/datasets/step1_addL/test\n",
    "\n",
    "nc: \n",
    "names:\n",
    "    ['2Block',\n",
    "     '3Block',\n",
    "     '4Block',\n",
    "     '5Block',\n",
    "     '6Block',\n",
    "     '7Block',\n",
    "     '8Block',\n",
    "     'banner',\n",
    "     'footer',\n",
    "     'gallery',\n",
    "     'header',\n",
    "     'nblock',\n",
    "     'typo']\n",
    "    \"\"\"\n",
    "\n",
    "with open('/tf/notebook/datasets/step1_addL/data.yaml', 'w') as file:\n",
    "    file.write(yaml_text)"
   ]
  },
  {
   "cell_type": "markdown",
   "id": "f6d30f94",
   "metadata": {},
   "source": [
    "# folder 별로 이미지 분류"
   ]
  },
  {
   "cell_type": "code",
   "execution_count": null,
   "id": "a6d1c172",
   "metadata": {},
   "outputs": [],
   "source": [
    "import os\n",
    "import shutil\n",
    "\n",
    "# 데이터셋 폴더 경로\n",
    "dataset_path = '/tf/notebook/datasets/step1_addL/crops'\n",
    "\n",
    "# train, test, valid 폴더 생성\n",
    "train_path = '/tf/notebook/datasets/step1_addL/train'\n",
    "test_path = '/tf/notebook/datasets/step1_addL/test'\n",
    "valid_path = '/tf/notebook/datasets/step1_addL/val'\n",
    "os.makedirs(train_path, exist_ok=True)\n",
    "os.makedirs(test_path, exist_ok=True)\n",
    "os.makedirs(valid_path, exist_ok=True)\n",
    "\n",
    "# 클래스 레이블 리스트\n",
    "class_labels = [\n",
    "    '2block', '3block', '4block', '5block', '6block', '7block',\n",
    "    '8block', 'banner', 'footer', 'gallery', 'header', 'nblock', 'typo'\n",
    "]\n",
    "\n",
    "# 클래스 레이블별로 이미지 데이터 분배\n",
    "for label in class_labels:\n",
    "    label_folder = os.path.join(dataset_path, label)\n",
    "    image_files = [f for f in os.listdir(label_folder) if f.endswith('.jpg')]\n",
    "    \n",
    "    # 클래스 별 데이터를 train:test:valid = 70:15:15 비율로 분배\n",
    "    train_size = int(0.8 * len(image_files))\n",
    "    test_size = int(0.1 * len(image_files))\n",
    "    valid_size = int(0.1 * len(image_files))\n",
    "    \n",
    "    # 클래스 별 train, test, valid 폴더에 클래스 레이블 폴더를 만들고 이미지 데이터를 분배\n",
    "    for filename in image_files[:train_size]:\n",
    "        image_path = os.path.join(label_folder, filename)\n",
    "        os.makedirs(os.path.join(train_path, label), exist_ok=True)\n",
    "        shutil.copy(image_path, os.path.join(train_path, label, filename))\n",
    "    \n",
    "    for filename in image_files[train_size:train_size+test_size]:\n",
    "        image_path = os.path.join(label_folder, filename)\n",
    "        os.makedirs(os.path.join(test_path, label), exist_ok=True)\n",
    "        shutil.copy(image_path, os.path.join(test_path, label, filename))\n",
    "    \n",
    "    for filename in image_files[train_size+test_size:]:\n",
    "        image_path = os.path.join(label_folder, filename)\n",
    "        os.makedirs(os.path.join(valid_path, label), exist_ok=True)\n",
    "        shutil.copy(image_path, os.path.join(valid_path, label, filename))"
   ]
  },
  {
   "cell_type": "code",
   "execution_count": null,
   "id": "7fb394f0",
   "metadata": {},
   "outputs": [
    {
     "name": "stdout",
     "output_type": "stream",
     "text": [
      "New https://pypi.org/project/ultralytics/8.0.228 available 😃 Update with 'pip install -U ultralytics'\n",
      "Ultralytics YOLOv8.0.221 🚀 Python-3.11.0rc1 torch-2.1.1+cu121 CUDA:0 (NVIDIA GeForce RTX 3090, 24575MiB)\n",
      "\u001b[34m\u001b[1mengine/trainer: \u001b[0mtask=detect, mode=train, model=yolov8l.pt, data=/tf/notebook/step2_1_imagedata/data.yaml, epochs=100, patience=50, batch=4, imgsz=640, save=True, save_period=-1, cache=False, device=None, workers=8, project=None, name=1221_all_class6, exist_ok=False, pretrained=True, optimizer=auto, verbose=True, seed=0, deterministic=True, single_cls=False, rect=False, cos_lr=False, close_mosaic=10, resume=False, amp=True, fraction=1.0, profile=False, freeze=None, overlap_mask=True, mask_ratio=4, dropout=0.0, val=True, split=val, save_json=False, save_hybrid=False, conf=None, iou=0.7, max_det=300, half=False, dnn=False, plots=True, source=None, vid_stride=1, stream_buffer=False, visualize=False, augment=False, agnostic_nms=False, classes=None, retina_masks=False, show=False, save_frames=False, save_txt=False, save_conf=False, save_crop=False, show_labels=True, show_conf=True, show_boxes=True, line_width=None, format=torchscript, keras=False, optimize=False, int8=False, dynamic=False, simplify=False, opset=None, workspace=4, nms=False, lr0=0.01, lrf=0.01, momentum=0.937, weight_decay=0.0005, warmup_epochs=3.0, warmup_momentum=0.8, warmup_bias_lr=0.1, box=7.5, cls=0.5, dfl=1.5, pose=12.0, kobj=1.0, label_smoothing=0.0, nbs=64, hsv_h=0.015, hsv_s=0.7, hsv_v=0.4, degrees=0.0, translate=0.1, scale=0.5, shear=0.0, perspective=0.0, flipud=0.0, fliplr=0.5, mosaic=1.0, mixup=0.0, copy_paste=0.0, cfg=None, tracker=botsort.yaml, save_dir=runs/detect/1221_all_class6\n",
      "Overriding model.yaml nc=80 with nc=21\n",
      "\n",
      "                   from  n    params  module                                       arguments                     \n",
      "  0                  -1  1      1856  ultralytics.nn.modules.conv.Conv             [3, 64, 3, 2]                 \n",
      "  1                  -1  1     73984  ultralytics.nn.modules.conv.Conv             [64, 128, 3, 2]               \n",
      "  2                  -1  3    279808  ultralytics.nn.modules.block.C2f             [128, 128, 3, True]           \n",
      "  3                  -1  1    295424  ultralytics.nn.modules.conv.Conv             [128, 256, 3, 2]              \n",
      "  4                  -1  6   2101248  ultralytics.nn.modules.block.C2f             [256, 256, 6, True]           \n",
      "  5                  -1  1   1180672  ultralytics.nn.modules.conv.Conv             [256, 512, 3, 2]              \n",
      "  6                  -1  6   8396800  ultralytics.nn.modules.block.C2f             [512, 512, 6, True]           \n",
      "  7                  -1  1   2360320  ultralytics.nn.modules.conv.Conv             [512, 512, 3, 2]              \n",
      "  8                  -1  3   4461568  ultralytics.nn.modules.block.C2f             [512, 512, 3, True]           \n",
      "  9                  -1  1    656896  ultralytics.nn.modules.block.SPPF            [512, 512, 5]                 \n",
      " 10                  -1  1         0  torch.nn.modules.upsampling.Upsample         [None, 2, 'nearest']          \n",
      " 11             [-1, 6]  1         0  ultralytics.nn.modules.conv.Concat           [1]                           \n",
      " 12                  -1  3   4723712  ultralytics.nn.modules.block.C2f             [1024, 512, 3]                \n",
      " 13                  -1  1         0  torch.nn.modules.upsampling.Upsample         [None, 2, 'nearest']          \n",
      " 14             [-1, 4]  1         0  ultralytics.nn.modules.conv.Concat           [1]                           \n",
      " 15                  -1  3   1247744  ultralytics.nn.modules.block.C2f             [768, 256, 3]                 \n",
      " 16                  -1  1    590336  ultralytics.nn.modules.conv.Conv             [256, 256, 3, 2]              \n",
      " 17            [-1, 12]  1         0  ultralytics.nn.modules.conv.Concat           [1]                           \n",
      " 18                  -1  3   4592640  ultralytics.nn.modules.block.C2f             [768, 512, 3]                 \n",
      " 19                  -1  1   2360320  ultralytics.nn.modules.conv.Conv             [512, 512, 3, 2]              \n",
      " 20             [-1, 9]  1         0  ultralytics.nn.modules.conv.Concat           [1]                           \n",
      " 21                  -1  3   4723712  ultralytics.nn.modules.block.C2f             [1024, 512, 3]                \n",
      " 22        [15, 18, 21]  1   5598991  ultralytics.nn.modules.head.Detect           [21, [256, 512, 512]]         \n",
      "Model summary: 365 layers, 43646031 parameters, 43646015 gradients, 165.5 GFLOPs\n",
      "\n",
      "Transferred 589/595 items from pretrained weights\n",
      "\u001b[34m\u001b[1mTensorBoard: \u001b[0mStart with 'tensorboard --logdir runs/detect/1221_all_class6', view at http://localhost:6006/\n",
      "Freezing layer 'model.22.dfl.conv.weight'\n",
      "\u001b[34m\u001b[1mAMP: \u001b[0mrunning Automatic Mixed Precision (AMP) checks with YOLOv8n...\n",
      "\u001b[34m\u001b[1mAMP: \u001b[0mchecks passed ✅\n"
     ]
    },
    {
     "name": "stderr",
     "output_type": "stream",
     "text": [
      "\u001b[34m\u001b[1mtrain: \u001b[0mScanning /tf/notebook/step2_1_imagedata/train/labels.cache... 14094 images, 1424 backgrounds, 5 corrupt: 100%|██████████| 14099/14099 [00:00<?, ?it/s]"
     ]
    },
    {
     "name": "stdout",
     "output_type": "stream",
     "text": [
      "\u001b[34m\u001b[1mtrain: \u001b[0mWARNING ⚠️ /tf/notebook/step2_1_imagedata/train/images/2023122014423712202373.jpeg: ignoring corrupt image/label: image file is truncated (13 bytes not processed)\n",
      "\u001b[34m\u001b[1mtrain: \u001b[0mWARNING ⚠️ /tf/notebook/step2_1_imagedata/train/images/2023122015145312204724.jpeg: ignoring corrupt image/label: image file is truncated (18 bytes not processed)\n",
      "\u001b[34m\u001b[1mtrain: \u001b[0mWARNING ⚠️ /tf/notebook/step2_1_imagedata/train/images/2023122015375512201953.jpeg: ignoring corrupt image/label: image file is truncated (4 bytes not processed)\n",
      "\u001b[34m\u001b[1mtrain: \u001b[0mWARNING ⚠️ /tf/notebook/step2_1_imagedata/train/images/2023122016091912203277.jpeg: ignoring corrupt image/label: image file is truncated (2 bytes not processed)\n",
      "\u001b[34m\u001b[1mtrain: \u001b[0mWARNING ⚠️ /tf/notebook/step2_1_imagedata/train/images/2023122016233812209785.jpeg: ignoring corrupt image/label: image file is truncated (5 bytes not processed)\n"
     ]
    },
    {
     "name": "stderr",
     "output_type": "stream",
     "text": [
      "\n",
      "\u001b[34m\u001b[1mval: \u001b[0mScanning /tf/notebook/step2_1_imagedata/val/labels.cache... 1803 images, 189 backgrounds, 0 corrupt: 100%|██████████| 1803/1803 [00:00<?, ?it/s]\n"
     ]
    },
    {
     "name": "stdout",
     "output_type": "stream",
     "text": [
      "Plotting labels to runs/detect/1221_all_class6/labels.jpg... \n",
      "\u001b[34m\u001b[1moptimizer:\u001b[0m 'optimizer=auto' found, ignoring 'lr0=0.01' and 'momentum=0.937' and determining best 'optimizer', 'lr0' and 'momentum' automatically... \n",
      "\u001b[34m\u001b[1moptimizer:\u001b[0m SGD(lr=0.01, momentum=0.9) with parameter groups 97 weight(decay=0.0), 104 weight(decay=0.0005), 103 bias(decay=0.0)\n",
      "Image sizes 640 train, 640 val\n",
      "Using 4 dataloader workers\n",
      "Logging results to \u001b[1mruns/detect/1221_all_class6\u001b[0m\n",
      "Starting training for 100 epochs...\n",
      "\n",
      "      Epoch    GPU_mem   box_loss   cls_loss   dfl_loss  Instances       Size\n"
     ]
    },
    {
     "name": "stderr",
     "output_type": "stream",
     "text": [
      "      1/100      3.82G     0.3369      2.021      0.984          7        640: 100%|██████████| 3524/3524 [06:11<00:00,  9.47it/s]\n",
      "                 Class     Images  Instances      Box(P          R      mAP50  mAP50-95): 100%|██████████| 226/226 [00:15<00:00, 14.60it/s]"
     ]
    },
    {
     "name": "stdout",
     "output_type": "stream",
     "text": [
      "                   all       1803       1620      0.674      0.822      0.789      0.777\n"
     ]
    },
    {
     "name": "stderr",
     "output_type": "stream",
     "text": [
      "\n"
     ]
    },
    {
     "name": "stdout",
     "output_type": "stream",
     "text": [
      "\n",
      "      Epoch    GPU_mem   box_loss   cls_loss   dfl_loss  Instances       Size\n"
     ]
    },
    {
     "name": "stderr",
     "output_type": "stream",
     "text": [
      "      2/100      3.87G     0.3157      1.103     0.9267          8        640: 100%|██████████| 3524/3524 [06:01<00:00,  9.76it/s]\n",
      "                 Class     Images  Instances      Box(P          R      mAP50  mAP50-95): 100%|██████████| 226/226 [00:15<00:00, 14.61it/s]"
     ]
    },
    {
     "name": "stdout",
     "output_type": "stream",
     "text": [
      "                   all       1803       1620      0.792      0.935      0.927      0.907\n"
     ]
    },
    {
     "name": "stderr",
     "output_type": "stream",
     "text": [
      "\n"
     ]
    },
    {
     "name": "stdout",
     "output_type": "stream",
     "text": [
      "\n",
      "      Epoch    GPU_mem   box_loss   cls_loss   dfl_loss  Instances       Size\n"
     ]
    },
    {
     "name": "stderr",
     "output_type": "stream",
     "text": [
      "      3/100      3.99G     0.3649       1.05     0.9407          2        640: 100%|██████████| 3524/3524 [05:59<00:00,  9.80it/s]\n",
      "                 Class     Images  Instances      Box(P          R      mAP50  mAP50-95): 100%|██████████| 226/226 [00:15<00:00, 14.68it/s]"
     ]
    },
    {
     "name": "stdout",
     "output_type": "stream",
     "text": [
      "                   all       1803       1620      0.874      0.912       0.94      0.921\n"
     ]
    },
    {
     "name": "stderr",
     "output_type": "stream",
     "text": [
      "\n"
     ]
    },
    {
     "name": "stdout",
     "output_type": "stream",
     "text": [
      "\n",
      "      Epoch    GPU_mem   box_loss   cls_loss   dfl_loss  Instances       Size\n"
     ]
    },
    {
     "name": "stderr",
     "output_type": "stream",
     "text": [
      "      4/100      3.91G     0.3586      1.012     0.9343          5        640: 100%|██████████| 3524/3524 [05:59<00:00,  9.80it/s]\n",
      "                 Class     Images  Instances      Box(P          R      mAP50  mAP50-95): 100%|██████████| 226/226 [00:15<00:00, 14.66it/s]"
     ]
    },
    {
     "name": "stdout",
     "output_type": "stream",
     "text": [
      "                   all       1803       1620      0.914      0.912      0.969      0.957\n"
     ]
    },
    {
     "name": "stderr",
     "output_type": "stream",
     "text": [
      "\n"
     ]
    },
    {
     "name": "stdout",
     "output_type": "stream",
     "text": [
      "\n",
      "      Epoch    GPU_mem   box_loss   cls_loss   dfl_loss  Instances       Size\n"
     ]
    },
    {
     "name": "stderr",
     "output_type": "stream",
     "text": [
      "      5/100      3.89G     0.3057     0.8515     0.9163          4        640: 100%|██████████| 3524/3524 [05:59<00:00,  9.80it/s]\n",
      "                 Class     Images  Instances      Box(P          R      mAP50  mAP50-95): 100%|██████████| 226/226 [00:15<00:00, 14.79it/s]\n"
     ]
    },
    {
     "name": "stdout",
     "output_type": "stream",
     "text": [
      "                   all       1803       1620      0.961      0.926       0.98       0.97\n",
      "\n",
      "      Epoch    GPU_mem   box_loss   cls_loss   dfl_loss  Instances       Size\n"
     ]
    },
    {
     "name": "stderr",
     "output_type": "stream",
     "text": [
      "      6/100      4.01G     0.2698     0.7484     0.9017          5        640: 100%|██████████| 3524/3524 [05:58<00:00,  9.82it/s]\n",
      "                 Class     Images  Instances      Box(P          R      mAP50  mAP50-95): 100%|██████████| 226/226 [00:15<00:00, 14.79it/s]"
     ]
    },
    {
     "name": "stdout",
     "output_type": "stream",
     "text": [
      "                   all       1803       1620      0.934      0.942      0.975      0.968\n"
     ]
    },
    {
     "name": "stderr",
     "output_type": "stream",
     "text": [
      "\n"
     ]
    },
    {
     "name": "stdout",
     "output_type": "stream",
     "text": [
      "\n",
      "      Epoch    GPU_mem   box_loss   cls_loss   dfl_loss  Instances       Size\n"
     ]
    },
    {
     "name": "stderr",
     "output_type": "stream",
     "text": [
      "      7/100      3.87G     0.2431     0.6971     0.8919          7        640: 100%|██████████| 3524/3524 [05:56<00:00,  9.89it/s]\n",
      "                 Class     Images  Instances      Box(P          R      mAP50  mAP50-95): 100%|██████████| 226/226 [00:15<00:00, 14.67it/s]"
     ]
    },
    {
     "name": "stdout",
     "output_type": "stream",
     "text": [
      "                   all       1803       1620      0.927      0.974      0.983      0.979\n"
     ]
    },
    {
     "name": "stderr",
     "output_type": "stream",
     "text": [
      "\n"
     ]
    },
    {
     "name": "stdout",
     "output_type": "stream",
     "text": [
      "\n",
      "      Epoch    GPU_mem   box_loss   cls_loss   dfl_loss  Instances       Size\n"
     ]
    },
    {
     "name": "stderr",
     "output_type": "stream",
     "text": [
      "      8/100      3.84G     0.2286     0.6519     0.8894          5        640: 100%|██████████| 3524/3524 [05:55<00:00,  9.91it/s]\n",
      "                 Class     Images  Instances      Box(P          R      mAP50  mAP50-95): 100%|██████████| 226/226 [00:15<00:00, 14.92it/s]\n"
     ]
    },
    {
     "name": "stdout",
     "output_type": "stream",
     "text": [
      "                   all       1803       1620      0.923      0.978      0.982      0.978\n",
      "\n",
      "      Epoch    GPU_mem   box_loss   cls_loss   dfl_loss  Instances       Size\n"
     ]
    },
    {
     "name": "stderr",
     "output_type": "stream",
     "text": [
      "      9/100      3.84G     0.2123     0.6114     0.8816          7        640: 100%|██████████| 3524/3524 [05:55<00:00,  9.91it/s]\n",
      "                 Class     Images  Instances      Box(P          R      mAP50  mAP50-95): 100%|██████████| 226/226 [00:15<00:00, 14.91it/s]\n"
     ]
    },
    {
     "name": "stdout",
     "output_type": "stream",
     "text": [
      "                   all       1803       1620      0.944       0.96       0.98      0.972\n",
      "\n",
      "      Epoch    GPU_mem   box_loss   cls_loss   dfl_loss  Instances       Size\n"
     ]
    },
    {
     "name": "stderr",
     "output_type": "stream",
     "text": [
      "     10/100      3.84G     0.1993     0.5761     0.8789          8        640: 100%|██████████| 3524/3524 [05:55<00:00,  9.91it/s]\n",
      "                 Class     Images  Instances      Box(P          R      mAP50  mAP50-95): 100%|██████████| 226/226 [00:15<00:00, 14.99it/s]\n"
     ]
    },
    {
     "name": "stdout",
     "output_type": "stream",
     "text": [
      "                   all       1803       1620      0.952      0.961      0.979      0.976\n",
      "\n",
      "      Epoch    GPU_mem   box_loss   cls_loss   dfl_loss  Instances       Size\n"
     ]
    },
    {
     "name": "stderr",
     "output_type": "stream",
     "text": [
      "     11/100      3.98G     0.1934     0.5527     0.8769          7        640: 100%|██████████| 3524/3524 [05:55<00:00,  9.91it/s]\n",
      "                 Class     Images  Instances      Box(P          R      mAP50  mAP50-95): 100%|██████████| 226/226 [00:15<00:00, 14.71it/s]"
     ]
    },
    {
     "name": "stdout",
     "output_type": "stream",
     "text": [
      "                   all       1803       1620      0.932      0.975      0.983      0.978\n"
     ]
    },
    {
     "name": "stderr",
     "output_type": "stream",
     "text": [
      "\n"
     ]
    },
    {
     "name": "stdout",
     "output_type": "stream",
     "text": [
      "\n",
      "      Epoch    GPU_mem   box_loss   cls_loss   dfl_loss  Instances       Size\n"
     ]
    },
    {
     "name": "stderr",
     "output_type": "stream",
     "text": [
      "     12/100      3.84G     0.1854     0.5314     0.8747          5        640: 100%|██████████| 3524/3524 [05:55<00:00,  9.92it/s]\n",
      "                 Class     Images  Instances      Box(P          R      mAP50  mAP50-95): 100%|██████████| 226/226 [00:15<00:00, 15.04it/s]\n"
     ]
    },
    {
     "name": "stdout",
     "output_type": "stream",
     "text": [
      "                   all       1803       1620      0.951      0.973      0.984      0.982\n",
      "\n",
      "      Epoch    GPU_mem   box_loss   cls_loss   dfl_loss  Instances       Size\n"
     ]
    },
    {
     "name": "stderr",
     "output_type": "stream",
     "text": [
      "     13/100      3.84G     0.1763     0.5127     0.8724          3        640: 100%|██████████| 3524/3524 [05:55<00:00,  9.92it/s]\n",
      "                 Class     Images  Instances      Box(P          R      mAP50  mAP50-95): 100%|██████████| 226/226 [00:15<00:00, 15.06it/s]"
     ]
    },
    {
     "name": "stdout",
     "output_type": "stream",
     "text": [
      "                   all       1803       1620      0.962      0.956      0.984      0.981\n"
     ]
    },
    {
     "name": "stderr",
     "output_type": "stream",
     "text": [
      "\n"
     ]
    },
    {
     "name": "stdout",
     "output_type": "stream",
     "text": [
      "\n",
      "      Epoch    GPU_mem   box_loss   cls_loss   dfl_loss  Instances       Size\n"
     ]
    },
    {
     "name": "stderr",
     "output_type": "stream",
     "text": [
      "     14/100      3.83G     0.1699     0.5038     0.8687          2        640: 100%|██████████| 3524/3524 [05:56<00:00,  9.89it/s]\n",
      "                 Class     Images  Instances      Box(P          R      mAP50  mAP50-95): 100%|██████████| 226/226 [00:14<00:00, 15.09it/s]\n"
     ]
    },
    {
     "name": "stdout",
     "output_type": "stream",
     "text": [
      "                   all       1803       1620      0.984      0.935      0.986      0.984\n",
      "\n",
      "      Epoch    GPU_mem   box_loss   cls_loss   dfl_loss  Instances       Size\n"
     ]
    },
    {
     "name": "stderr",
     "output_type": "stream",
     "text": [
      "     15/100      3.83G     0.1642     0.4964     0.8672          5        640: 100%|██████████| 3524/3524 [05:55<00:00,  9.92it/s]\n",
      "                 Class     Images  Instances      Box(P          R      mAP50  mAP50-95): 100%|██████████| 226/226 [00:15<00:00, 14.92it/s]\n"
     ]
    },
    {
     "name": "stdout",
     "output_type": "stream",
     "text": [
      "                   all       1803       1620      0.951      0.961      0.984       0.98\n",
      "\n",
      "      Epoch    GPU_mem   box_loss   cls_loss   dfl_loss  Instances       Size\n"
     ]
    },
    {
     "name": "stderr",
     "output_type": "stream",
     "text": [
      "     16/100      3.83G     0.1613     0.4807     0.8675          7        640: 100%|██████████| 3524/3524 [05:55<00:00,  9.92it/s]\n",
      "                 Class     Images  Instances      Box(P          R      mAP50  mAP50-95): 100%|██████████| 226/226 [00:14<00:00, 15.15it/s]\n"
     ]
    },
    {
     "name": "stdout",
     "output_type": "stream",
     "text": [
      "                   all       1803       1620      0.942      0.979      0.985      0.983\n",
      "\n",
      "      Epoch    GPU_mem   box_loss   cls_loss   dfl_loss  Instances       Size\n"
     ]
    },
    {
     "name": "stderr",
     "output_type": "stream",
     "text": [
      "     17/100      3.83G     0.1556     0.4687     0.8655          5        640: 100%|██████████| 3524/3524 [05:53<00:00,  9.98it/s]\n",
      "                 Class     Images  Instances      Box(P          R      mAP50  mAP50-95): 100%|██████████| 226/226 [00:15<00:00, 14.94it/s]\n"
     ]
    },
    {
     "name": "stdout",
     "output_type": "stream",
     "text": [
      "                   all       1803       1620       0.94      0.982      0.986      0.983\n",
      "\n",
      "      Epoch    GPU_mem   box_loss   cls_loss   dfl_loss  Instances       Size\n"
     ]
    },
    {
     "name": "stderr",
     "output_type": "stream",
     "text": [
      "     18/100      3.83G     0.1521     0.4571     0.8631          4        640: 100%|██████████| 3524/3524 [05:58<00:00,  9.82it/s]\n",
      "                 Class     Images  Instances      Box(P          R      mAP50  mAP50-95): 100%|██████████| 226/226 [00:15<00:00, 14.24it/s]"
     ]
    },
    {
     "name": "stdout",
     "output_type": "stream",
     "text": [
      "                   all       1803       1620       0.95      0.984      0.986      0.983\n"
     ]
    },
    {
     "name": "stderr",
     "output_type": "stream",
     "text": [
      "\n"
     ]
    },
    {
     "name": "stdout",
     "output_type": "stream",
     "text": [
      "\n",
      "      Epoch    GPU_mem   box_loss   cls_loss   dfl_loss  Instances       Size\n"
     ]
    },
    {
     "name": "stderr",
     "output_type": "stream",
     "text": [
      "     19/100      3.83G     0.1496     0.4479     0.8636          5        640: 100%|██████████| 3524/3524 [06:10<00:00,  9.52it/s]\n",
      "                 Class     Images  Instances      Box(P          R      mAP50  mAP50-95): 100%|██████████| 226/226 [00:16<00:00, 13.92it/s]"
     ]
    },
    {
     "name": "stdout",
     "output_type": "stream",
     "text": [
      "                   all       1803       1620      0.938      0.991      0.984      0.982\n"
     ]
    },
    {
     "name": "stderr",
     "output_type": "stream",
     "text": [
      "\n"
     ]
    },
    {
     "name": "stdout",
     "output_type": "stream",
     "text": [
      "\n",
      "      Epoch    GPU_mem   box_loss   cls_loss   dfl_loss  Instances       Size\n"
     ]
    },
    {
     "name": "stderr",
     "output_type": "stream",
     "text": [
      "     20/100      3.81G     0.1448     0.4391     0.8607          4        640: 100%|██████████| 3524/3524 [06:12<00:00,  9.46it/s]\n",
      "                 Class     Images  Instances      Box(P          R      mAP50  mAP50-95): 100%|██████████| 226/226 [00:16<00:00, 13.85it/s]"
     ]
    },
    {
     "name": "stdout",
     "output_type": "stream",
     "text": [
      "                   all       1803       1620      0.936      0.992      0.986      0.983\n"
     ]
    },
    {
     "name": "stderr",
     "output_type": "stream",
     "text": [
      "\n"
     ]
    },
    {
     "name": "stdout",
     "output_type": "stream",
     "text": [
      "\n",
      "      Epoch    GPU_mem   box_loss   cls_loss   dfl_loss  Instances       Size\n"
     ]
    },
    {
     "name": "stderr",
     "output_type": "stream",
     "text": [
      "     21/100      3.81G     0.1421     0.4321     0.8611          3        640: 100%|██████████| 3524/3524 [12:21:18<00:00, 12.62s/it]        \n",
      "                 Class     Images  Instances      Box(P          R      mAP50  mAP50-95): 100%|██████████| 226/226 [00:15<00:00, 14.63it/s]\n"
     ]
    },
    {
     "name": "stdout",
     "output_type": "stream",
     "text": [
      "                   all       1803       1620      0.943      0.987      0.987      0.985\n",
      "\n",
      "      Epoch    GPU_mem   box_loss   cls_loss   dfl_loss  Instances       Size\n"
     ]
    },
    {
     "name": "stderr",
     "output_type": "stream",
     "text": [
      "     22/100      3.82G     0.1385     0.4224     0.8615          5        640: 100%|██████████| 3524/3524 [05:56<00:00,  9.89it/s]\n",
      "                 Class     Images  Instances      Box(P          R      mAP50  mAP50-95): 100%|██████████| 226/226 [00:15<00:00, 14.46it/s]"
     ]
    },
    {
     "name": "stdout",
     "output_type": "stream",
     "text": [
      "                   all       1803       1620      0.988      0.949      0.988      0.986\n"
     ]
    },
    {
     "name": "stderr",
     "output_type": "stream",
     "text": [
      "\n"
     ]
    },
    {
     "name": "stdout",
     "output_type": "stream",
     "text": [
      "\n",
      "      Epoch    GPU_mem   box_loss   cls_loss   dfl_loss  Instances       Size\n"
     ]
    },
    {
     "name": "stderr",
     "output_type": "stream",
     "text": [
      "     23/100      3.81G     0.1375     0.4184     0.8607          3        640: 100%|██████████| 3524/3524 [06:02<00:00,  9.72it/s]\n",
      "                 Class     Images  Instances      Box(P          R      mAP50  mAP50-95): 100%|██████████| 226/226 [00:15<00:00, 14.60it/s]"
     ]
    },
    {
     "name": "stdout",
     "output_type": "stream",
     "text": [
      "                   all       1803       1620      0.945       0.99      0.987      0.984\n"
     ]
    },
    {
     "name": "stderr",
     "output_type": "stream",
     "text": [
      "\n"
     ]
    },
    {
     "name": "stdout",
     "output_type": "stream",
     "text": [
      "\n",
      "      Epoch    GPU_mem   box_loss   cls_loss   dfl_loss  Instances       Size\n"
     ]
    },
    {
     "name": "stderr",
     "output_type": "stream",
     "text": [
      "     24/100      3.81G     0.1337     0.4144      0.858          6        640: 100%|██████████| 3524/3524 [06:09<00:00,  9.53it/s]\n",
      "                 Class     Images  Instances      Box(P          R      mAP50  mAP50-95): 100%|██████████| 226/226 [00:15<00:00, 14.56it/s]"
     ]
    },
    {
     "name": "stdout",
     "output_type": "stream",
     "text": [
      "                   all       1803       1620      0.947      0.992      0.987      0.985\n"
     ]
    },
    {
     "name": "stderr",
     "output_type": "stream",
     "text": [
      "\n"
     ]
    },
    {
     "name": "stdout",
     "output_type": "stream",
     "text": [
      "\n",
      "      Epoch    GPU_mem   box_loss   cls_loss   dfl_loss  Instances       Size\n"
     ]
    },
    {
     "name": "stderr",
     "output_type": "stream",
     "text": [
      "     25/100      3.81G     0.1297     0.4072     0.8575          4        640: 100%|██████████| 3524/3524 [06:11<00:00,  9.50it/s]\n",
      "                 Class     Images  Instances      Box(P          R      mAP50  mAP50-95): 100%|██████████| 226/226 [00:16<00:00, 13.75it/s]"
     ]
    },
    {
     "name": "stdout",
     "output_type": "stream",
     "text": [
      "                   all       1803       1620      0.995      0.948      0.988      0.985\n"
     ]
    },
    {
     "name": "stderr",
     "output_type": "stream",
     "text": [
      "\n"
     ]
    },
    {
     "name": "stdout",
     "output_type": "stream",
     "text": [
      "\n",
      "      Epoch    GPU_mem   box_loss   cls_loss   dfl_loss  Instances       Size\n"
     ]
    },
    {
     "name": "stderr",
     "output_type": "stream",
     "text": [
      "     26/100      3.81G     0.1292     0.4046     0.8579          8        640: 100%|██████████| 3524/3524 [06:06<00:00,  9.61it/s]\n",
      "                 Class     Images  Instances      Box(P          R      mAP50  mAP50-95): 100%|██████████| 226/226 [00:16<00:00, 14.00it/s]"
     ]
    },
    {
     "name": "stdout",
     "output_type": "stream",
     "text": [
      "                   all       1803       1620      0.938      0.994      0.987      0.984\n"
     ]
    },
    {
     "name": "stderr",
     "output_type": "stream",
     "text": [
      "\n"
     ]
    },
    {
     "name": "stdout",
     "output_type": "stream",
     "text": [
      "\n",
      "      Epoch    GPU_mem   box_loss   cls_loss   dfl_loss  Instances       Size\n"
     ]
    },
    {
     "name": "stderr",
     "output_type": "stream",
     "text": [
      "     27/100      3.81G     0.1265      0.391      0.857          8        640: 100%|██████████| 3524/3524 [06:03<00:00,  9.68it/s]\n",
      "                 Class     Images  Instances      Box(P          R      mAP50  mAP50-95): 100%|██████████| 226/226 [00:15<00:00, 14.54it/s]"
     ]
    },
    {
     "name": "stdout",
     "output_type": "stream",
     "text": [
      "                   all       1803       1620      0.951      0.987      0.988      0.986\n"
     ]
    },
    {
     "name": "stderr",
     "output_type": "stream",
     "text": [
      "\n"
     ]
    },
    {
     "name": "stdout",
     "output_type": "stream",
     "text": [
      "\n",
      "      Epoch    GPU_mem   box_loss   cls_loss   dfl_loss  Instances       Size\n"
     ]
    },
    {
     "name": "stderr",
     "output_type": "stream",
     "text": [
      "     28/100      3.81G     0.1247      0.389     0.8566          4        640: 100%|██████████| 3524/3524 [06:02<00:00,  9.73it/s]\n",
      "                 Class     Images  Instances      Box(P          R      mAP50  mAP50-95): 100%|██████████| 226/226 [00:15<00:00, 14.51it/s]\n"
     ]
    },
    {
     "name": "stdout",
     "output_type": "stream",
     "text": [
      "                   all       1803       1620      0.934      0.995      0.987      0.985\n",
      "\n",
      "      Epoch    GPU_mem   box_loss   cls_loss   dfl_loss  Instances       Size\n"
     ]
    },
    {
     "name": "stderr",
     "output_type": "stream",
     "text": [
      "     29/100      3.81G     0.1247     0.3792     0.8567          6        640: 100%|██████████| 3524/3524 [06:05<00:00,  9.64it/s]\n",
      "                 Class     Images  Instances      Box(P          R      mAP50  mAP50-95): 100%|██████████| 226/226 [00:15<00:00, 14.61it/s]\n"
     ]
    },
    {
     "name": "stdout",
     "output_type": "stream",
     "text": [
      "                   all       1803       1620      0.938      0.995      0.987      0.985\n",
      "\n",
      "      Epoch    GPU_mem   box_loss   cls_loss   dfl_loss  Instances       Size\n"
     ]
    },
    {
     "name": "stderr",
     "output_type": "stream",
     "text": [
      "     30/100      3.81G     0.1213     0.3722      0.855          8        640: 100%|██████████| 3524/3524 [06:06<00:00,  9.61it/s]\n",
      "                 Class     Images  Instances      Box(P          R      mAP50  mAP50-95): 100%|██████████| 226/226 [00:15<00:00, 14.61it/s]\n"
     ]
    },
    {
     "name": "stdout",
     "output_type": "stream",
     "text": [
      "                   all       1803       1620      0.943      0.995      0.987      0.985\n",
      "\n",
      "      Epoch    GPU_mem   box_loss   cls_loss   dfl_loss  Instances       Size\n"
     ]
    },
    {
     "name": "stderr",
     "output_type": "stream",
     "text": [
      "     31/100      3.81G     0.1203      0.372     0.8541          6        640: 100%|██████████| 3524/3524 [06:12<00:00,  9.46it/s]\n",
      "                 Class     Images  Instances      Box(P          R      mAP50  mAP50-95): 100%|██████████| 226/226 [00:15<00:00, 14.36it/s]"
     ]
    },
    {
     "name": "stdout",
     "output_type": "stream",
     "text": [
      "                   all       1803       1620      0.938      0.995      0.986      0.984\n"
     ]
    },
    {
     "name": "stderr",
     "output_type": "stream",
     "text": [
      "\n"
     ]
    },
    {
     "name": "stdout",
     "output_type": "stream",
     "text": [
      "\n",
      "      Epoch    GPU_mem   box_loss   cls_loss   dfl_loss  Instances       Size\n"
     ]
    },
    {
     "name": "stderr",
     "output_type": "stream",
     "text": [
      "     32/100      3.81G     0.1178     0.3645     0.8533          5        640: 100%|██████████| 3524/3524 [06:07<00:00,  9.59it/s]\n",
      "                 Class     Images  Instances      Box(P          R      mAP50  mAP50-95): 100%|██████████| 226/226 [00:16<00:00, 14.10it/s]"
     ]
    },
    {
     "name": "stdout",
     "output_type": "stream",
     "text": [
      "                   all       1803       1620      0.958      0.981      0.986      0.984\n"
     ]
    },
    {
     "name": "stderr",
     "output_type": "stream",
     "text": [
      "\n"
     ]
    },
    {
     "name": "stdout",
     "output_type": "stream",
     "text": [
      "\n",
      "      Epoch    GPU_mem   box_loss   cls_loss   dfl_loss  Instances       Size\n"
     ]
    },
    {
     "name": "stderr",
     "output_type": "stream",
     "text": [
      "     33/100      3.81G     0.1174     0.3636     0.8542          6        640: 100%|██████████| 3524/3524 [06:10<00:00,  9.50it/s]\n",
      "                 Class     Images  Instances      Box(P          R      mAP50  mAP50-95): 100%|██████████| 226/226 [00:15<00:00, 14.51it/s]"
     ]
    },
    {
     "name": "stdout",
     "output_type": "stream",
     "text": [
      "                   all       1803       1620      0.947      0.992      0.987      0.984\n"
     ]
    },
    {
     "name": "stderr",
     "output_type": "stream",
     "text": [
      "\n"
     ]
    },
    {
     "name": "stdout",
     "output_type": "stream",
     "text": [
      "\n",
      "      Epoch    GPU_mem   box_loss   cls_loss   dfl_loss  Instances       Size\n"
     ]
    },
    {
     "name": "stderr",
     "output_type": "stream",
     "text": [
      "     34/100      3.81G     0.1153     0.3531     0.8529          6        640: 100%|██████████| 3524/3524 [06:10<00:00,  9.51it/s]\n",
      "                 Class     Images  Instances      Box(P          R      mAP50  mAP50-95): 100%|██████████| 226/226 [00:16<00:00, 13.71it/s]"
     ]
    },
    {
     "name": "stdout",
     "output_type": "stream",
     "text": [
      "                   all       1803       1620      0.941      0.995      0.987      0.985\n"
     ]
    },
    {
     "name": "stderr",
     "output_type": "stream",
     "text": [
      "\n"
     ]
    },
    {
     "name": "stdout",
     "output_type": "stream",
     "text": [
      "\n",
      "      Epoch    GPU_mem   box_loss   cls_loss   dfl_loss  Instances       Size\n"
     ]
    },
    {
     "name": "stderr",
     "output_type": "stream",
     "text": [
      "     35/100      3.81G      0.113     0.3546     0.8511          4        640: 100%|██████████| 3524/3524 [06:11<00:00,  9.49it/s]\n",
      "                 Class     Images  Instances      Box(P          R      mAP50  mAP50-95): 100%|██████████| 226/226 [00:17<00:00, 13.20it/s]"
     ]
    },
    {
     "name": "stdout",
     "output_type": "stream",
     "text": [
      "                   all       1803       1620      0.951      0.984      0.986      0.985\n"
     ]
    },
    {
     "name": "stderr",
     "output_type": "stream",
     "text": [
      "\n"
     ]
    },
    {
     "name": "stdout",
     "output_type": "stream",
     "text": [
      "\n",
      "      Epoch    GPU_mem   box_loss   cls_loss   dfl_loss  Instances       Size\n"
     ]
    },
    {
     "name": "stderr",
     "output_type": "stream",
     "text": [
      "     36/100      3.81G     0.1143     0.3493     0.8525          5        640: 100%|██████████| 3524/3524 [06:20<00:00,  9.27it/s]\n",
      "                 Class     Images  Instances      Box(P          R      mAP50  mAP50-95): 100%|██████████| 226/226 [00:15<00:00, 14.68it/s]"
     ]
    },
    {
     "name": "stdout",
     "output_type": "stream",
     "text": [
      "                   all       1803       1620      0.939      0.995      0.988      0.986\n"
     ]
    },
    {
     "name": "stderr",
     "output_type": "stream",
     "text": [
      "\n"
     ]
    },
    {
     "name": "stdout",
     "output_type": "stream",
     "text": [
      "\n",
      "      Epoch    GPU_mem   box_loss   cls_loss   dfl_loss  Instances       Size\n"
     ]
    },
    {
     "name": "stderr",
     "output_type": "stream",
     "text": [
      "     37/100      3.81G     0.1094     0.3423     0.8495          7        640: 100%|██████████| 3524/3524 [06:08<00:00,  9.57it/s]\n",
      "                 Class     Images  Instances      Box(P          R      mAP50  mAP50-95): 100%|██████████| 226/226 [00:15<00:00, 14.29it/s]"
     ]
    },
    {
     "name": "stdout",
     "output_type": "stream",
     "text": [
      "                   all       1803       1620      0.938      0.996      0.985      0.984\n"
     ]
    },
    {
     "name": "stderr",
     "output_type": "stream",
     "text": [
      "\n"
     ]
    },
    {
     "name": "stdout",
     "output_type": "stream",
     "text": [
      "\n",
      "      Epoch    GPU_mem   box_loss   cls_loss   dfl_loss  Instances       Size\n"
     ]
    },
    {
     "name": "stderr",
     "output_type": "stream",
     "text": [
      "     38/100      3.81G     0.1096     0.3347     0.8495          6        640: 100%|██████████| 3524/3524 [06:06<00:00,  9.62it/s]\n",
      "                 Class     Images  Instances      Box(P          R      mAP50  mAP50-95): 100%|██████████| 226/226 [00:15<00:00, 14.32it/s]"
     ]
    },
    {
     "name": "stdout",
     "output_type": "stream",
     "text": [
      "                   all       1803       1620       0.94      0.996      0.986      0.984\n"
     ]
    },
    {
     "name": "stderr",
     "output_type": "stream",
     "text": [
      "\n"
     ]
    },
    {
     "name": "stdout",
     "output_type": "stream",
     "text": [
      "\n",
      "      Epoch    GPU_mem   box_loss   cls_loss   dfl_loss  Instances       Size\n"
     ]
    },
    {
     "name": "stderr",
     "output_type": "stream",
     "text": [
      "     39/100      3.81G     0.1071     0.3248     0.8499          8        640: 100%|██████████| 3524/3524 [06:04<00:00,  9.66it/s]\n",
      "                 Class     Images  Instances      Box(P          R      mAP50  mAP50-95): 100%|██████████| 226/226 [00:15<00:00, 14.78it/s]"
     ]
    },
    {
     "name": "stdout",
     "output_type": "stream",
     "text": [
      "                   all       1803       1620       0.94      0.995      0.987      0.985\n"
     ]
    },
    {
     "name": "stderr",
     "output_type": "stream",
     "text": [
      "\n"
     ]
    },
    {
     "name": "stdout",
     "output_type": "stream",
     "text": [
      "\n",
      "      Epoch    GPU_mem   box_loss   cls_loss   dfl_loss  Instances       Size\n"
     ]
    },
    {
     "name": "stderr",
     "output_type": "stream",
     "text": [
      "     40/100      3.81G        inf     0.3264     0.8519          3        640: 100%|██████████| 3524/3524 [06:02<00:00,  9.71it/s]\n",
      "                 Class     Images  Instances      Box(P          R      mAP50  mAP50-95): 100%|██████████| 226/226 [00:15<00:00, 14.35it/s]"
     ]
    },
    {
     "name": "stdout",
     "output_type": "stream",
     "text": [
      "                   all       1803       1620      0.993      0.947      0.987      0.986\n"
     ]
    },
    {
     "name": "stderr",
     "output_type": "stream",
     "text": [
      "\n"
     ]
    },
    {
     "name": "stdout",
     "output_type": "stream",
     "text": [
      "\n",
      "      Epoch    GPU_mem   box_loss   cls_loss   dfl_loss  Instances       Size\n"
     ]
    },
    {
     "name": "stderr",
     "output_type": "stream",
     "text": [
      "     41/100      3.81G     0.1048     0.3148     0.8476          3        640: 100%|██████████| 3524/3524 [06:02<00:00,  9.72it/s]\n",
      "                 Class     Images  Instances      Box(P          R      mAP50  mAP50-95): 100%|██████████| 226/226 [00:15<00:00, 14.35it/s]"
     ]
    },
    {
     "name": "stdout",
     "output_type": "stream",
     "text": [
      "                   all       1803       1620      0.946      0.993      0.987      0.985\n"
     ]
    },
    {
     "name": "stderr",
     "output_type": "stream",
     "text": [
      "\n"
     ]
    },
    {
     "name": "stdout",
     "output_type": "stream",
     "text": [
      "\n",
      "      Epoch    GPU_mem   box_loss   cls_loss   dfl_loss  Instances       Size\n"
     ]
    },
    {
     "name": "stderr",
     "output_type": "stream",
     "text": [
      "     42/100      3.81G     0.1044     0.3124     0.8505          6        640: 100%|██████████| 3524/3524 [06:02<00:00,  9.72it/s]\n",
      "                 Class     Images  Instances      Box(P          R      mAP50  mAP50-95): 100%|██████████| 226/226 [00:15<00:00, 14.38it/s]"
     ]
    },
    {
     "name": "stdout",
     "output_type": "stream",
     "text": [
      "                   all       1803       1620       0.94      0.995      0.986      0.984\n"
     ]
    },
    {
     "name": "stderr",
     "output_type": "stream",
     "text": [
      "\n"
     ]
    },
    {
     "name": "stdout",
     "output_type": "stream",
     "text": [
      "\n",
      "      Epoch    GPU_mem   box_loss   cls_loss   dfl_loss  Instances       Size\n"
     ]
    },
    {
     "name": "stderr",
     "output_type": "stream",
     "text": [
      "     43/100      3.81G     0.1021     0.3089     0.8483          7        640: 100%|██████████| 3524/3524 [06:01<00:00,  9.75it/s]\n",
      "                 Class     Images  Instances      Box(P          R      mAP50  mAP50-95): 100%|██████████| 226/226 [00:15<00:00, 14.48it/s]"
     ]
    },
    {
     "name": "stdout",
     "output_type": "stream",
     "text": [
      "                   all       1803       1620      0.941      0.995      0.987      0.985\n"
     ]
    },
    {
     "name": "stderr",
     "output_type": "stream",
     "text": [
      "\n"
     ]
    },
    {
     "name": "stdout",
     "output_type": "stream",
     "text": [
      "\n",
      "      Epoch    GPU_mem   box_loss   cls_loss   dfl_loss  Instances       Size\n"
     ]
    },
    {
     "name": "stderr",
     "output_type": "stream",
     "text": [
      "     44/100      3.81G    0.09986     0.3091     0.8472          7        640: 100%|██████████| 3524/3524 [06:00<00:00,  9.77it/s]\n",
      "                 Class     Images  Instances      Box(P          R      mAP50  mAP50-95): 100%|██████████| 226/226 [00:15<00:00, 14.44it/s]"
     ]
    },
    {
     "name": "stdout",
     "output_type": "stream",
     "text": [
      "                   all       1803       1620      0.941      0.995      0.989      0.986\n"
     ]
    },
    {
     "name": "stderr",
     "output_type": "stream",
     "text": [
      "\n"
     ]
    },
    {
     "name": "stdout",
     "output_type": "stream",
     "text": [
      "\n",
      "      Epoch    GPU_mem   box_loss   cls_loss   dfl_loss  Instances       Size\n"
     ]
    },
    {
     "name": "stderr",
     "output_type": "stream",
     "text": [
      "     45/100      3.81G    0.09804     0.3001     0.8459          7        640: 100%|██████████| 3524/3524 [06:00<00:00,  9.77it/s]\n",
      "                 Class     Images  Instances      Box(P          R      mAP50  mAP50-95): 100%|██████████| 226/226 [00:15<00:00, 14.52it/s]\n"
     ]
    },
    {
     "name": "stdout",
     "output_type": "stream",
     "text": [
      "                   all       1803       1620      0.941      0.995      0.988      0.985\n",
      "\n",
      "      Epoch    GPU_mem   box_loss   cls_loss   dfl_loss  Instances       Size\n"
     ]
    },
    {
     "name": "stderr",
     "output_type": "stream",
     "text": [
      "     46/100      3.81G    0.09714     0.2969     0.8473          5        640: 100%|██████████| 3524/3524 [05:59<00:00,  9.80it/s]\n",
      "                 Class     Images  Instances      Box(P          R      mAP50  mAP50-95): 100%|██████████| 226/226 [00:15<00:00, 14.59it/s]"
     ]
    },
    {
     "name": "stdout",
     "output_type": "stream",
     "text": [
      "                   all       1803       1620      0.954       0.98      0.989      0.986\n"
     ]
    },
    {
     "name": "stderr",
     "output_type": "stream",
     "text": [
      "\n"
     ]
    },
    {
     "name": "stdout",
     "output_type": "stream",
     "text": [
      "\n",
      "      Epoch    GPU_mem   box_loss   cls_loss   dfl_loss  Instances       Size\n"
     ]
    },
    {
     "name": "stderr",
     "output_type": "stream",
     "text": [
      "     47/100      3.98G     0.0974     0.2942     0.8481          4        640: 100%|██████████| 3524/3524 [06:00<00:00,  9.78it/s]\n",
      "                 Class     Images  Instances      Box(P          R      mAP50  mAP50-95): 100%|██████████| 226/226 [00:15<00:00, 14.43it/s]"
     ]
    },
    {
     "name": "stdout",
     "output_type": "stream",
     "text": [
      "                   all       1803       1620      0.942      0.995      0.987      0.984\n"
     ]
    },
    {
     "name": "stderr",
     "output_type": "stream",
     "text": [
      "\n"
     ]
    },
    {
     "name": "stdout",
     "output_type": "stream",
     "text": [
      "\n",
      "      Epoch    GPU_mem   box_loss   cls_loss   dfl_loss  Instances       Size\n"
     ]
    },
    {
     "name": "stderr",
     "output_type": "stream",
     "text": [
      "     48/100      3.98G    0.09582     0.2843     0.8465          6        640: 100%|██████████| 3524/3524 [06:04<00:00,  9.67it/s]\n",
      "                 Class     Images  Instances      Box(P          R      mAP50  mAP50-95): 100%|██████████| 226/226 [00:15<00:00, 14.51it/s]"
     ]
    },
    {
     "name": "stdout",
     "output_type": "stream",
     "text": [
      "                   all       1803       1620      0.942      0.992      0.988      0.985\n"
     ]
    },
    {
     "name": "stderr",
     "output_type": "stream",
     "text": [
      "\n"
     ]
    },
    {
     "name": "stdout",
     "output_type": "stream",
     "text": [
      "\n",
      "      Epoch    GPU_mem   box_loss   cls_loss   dfl_loss  Instances       Size\n"
     ]
    },
    {
     "name": "stderr",
     "output_type": "stream",
     "text": [
      "     49/100      3.84G    0.09567      0.287     0.8471          4        640: 100%|██████████| 3524/3524 [06:02<00:00,  9.72it/s]\n",
      "                 Class     Images  Instances      Box(P          R      mAP50  mAP50-95): 100%|██████████| 226/226 [00:15<00:00, 14.70it/s]"
     ]
    },
    {
     "name": "stdout",
     "output_type": "stream",
     "text": [
      "                   all       1803       1620      0.942      0.995      0.987      0.984\n"
     ]
    },
    {
     "name": "stderr",
     "output_type": "stream",
     "text": [
      "\n"
     ]
    },
    {
     "name": "stdout",
     "output_type": "stream",
     "text": [
      "\n",
      "      Epoch    GPU_mem   box_loss   cls_loss   dfl_loss  Instances       Size\n"
     ]
    },
    {
     "name": "stderr",
     "output_type": "stream",
     "text": [
      "     50/100      3.85G     0.0948      0.278     0.8472          8        640: 100%|██████████| 3524/3524 [05:54<00:00,  9.94it/s]\n",
      "                 Class     Images  Instances      Box(P          R      mAP50  mAP50-95): 100%|██████████| 226/226 [00:14<00:00, 15.10it/s]\n"
     ]
    },
    {
     "name": "stdout",
     "output_type": "stream",
     "text": [
      "                   all       1803       1620      0.942      0.995      0.986      0.983\n",
      "\n",
      "      Epoch    GPU_mem   box_loss   cls_loss   dfl_loss  Instances       Size\n"
     ]
    },
    {
     "name": "stderr",
     "output_type": "stream",
     "text": [
      "     51/100      3.98G     0.0944      0.275     0.8485          6        640: 100%|██████████| 3524/3524 [05:54<00:00,  9.95it/s]\n",
      "                 Class     Images  Instances      Box(P          R      mAP50  mAP50-95): 100%|██████████| 226/226 [00:15<00:00, 15.05it/s]"
     ]
    },
    {
     "name": "stdout",
     "output_type": "stream",
     "text": [
      "                   all       1803       1620      0.942      0.995      0.987      0.984\n"
     ]
    },
    {
     "name": "stderr",
     "output_type": "stream",
     "text": [
      "\n"
     ]
    },
    {
     "name": "stdout",
     "output_type": "stream",
     "text": [
      "\n",
      "      Epoch    GPU_mem   box_loss   cls_loss   dfl_loss  Instances       Size\n"
     ]
    },
    {
     "name": "stderr",
     "output_type": "stream",
     "text": [
      "     52/100      3.98G      0.093     0.2739     0.8477          2        640: 100%|██████████| 3524/3524 [05:54<00:00,  9.94it/s]\n",
      "                 Class     Images  Instances      Box(P          R      mAP50  mAP50-95): 100%|██████████| 226/226 [00:15<00:00, 15.04it/s]\n"
     ]
    },
    {
     "name": "stdout",
     "output_type": "stream",
     "text": [
      "                   all       1803       1620      0.942      0.994      0.986      0.984\n",
      "\n",
      "      Epoch    GPU_mem   box_loss   cls_loss   dfl_loss  Instances       Size\n"
     ]
    },
    {
     "name": "stderr",
     "output_type": "stream",
     "text": [
      "     53/100      3.98G     0.0908     0.2701     0.8449          6        640: 100%|██████████| 3524/3524 [05:55<00:00,  9.92it/s]\n",
      "                 Class     Images  Instances      Box(P          R      mAP50  mAP50-95): 100%|██████████| 226/226 [00:14<00:00, 15.08it/s]\n"
     ]
    },
    {
     "name": "stdout",
     "output_type": "stream",
     "text": [
      "                   all       1803       1620      0.942      0.995      0.987      0.985\n",
      "\n",
      "      Epoch    GPU_mem   box_loss   cls_loss   dfl_loss  Instances       Size\n"
     ]
    },
    {
     "name": "stderr",
     "output_type": "stream",
     "text": [
      "     54/100      3.98G    0.09066     0.2635     0.8455          7        640: 100%|██████████| 3524/3524 [06:01<00:00,  9.74it/s]\n",
      "                 Class     Images  Instances      Box(P          R      mAP50  mAP50-95): 100%|██████████| 226/226 [00:16<00:00, 13.93it/s]"
     ]
    },
    {
     "name": "stdout",
     "output_type": "stream",
     "text": [
      "                   all       1803       1620      0.942      0.994      0.987      0.984\n"
     ]
    },
    {
     "name": "stderr",
     "output_type": "stream",
     "text": [
      "\n"
     ]
    },
    {
     "name": "stdout",
     "output_type": "stream",
     "text": [
      "\n",
      "      Epoch    GPU_mem   box_loss   cls_loss   dfl_loss  Instances       Size\n"
     ]
    },
    {
     "name": "stderr",
     "output_type": "stream",
     "text": [
      "     55/100      3.98G     0.0894     0.2696      0.845          4        640: 100%|██████████| 3524/3524 [06:07<00:00,  9.58it/s]\n",
      "                 Class     Images  Instances      Box(P          R      mAP50  mAP50-95): 100%|██████████| 226/226 [00:15<00:00, 14.32it/s]"
     ]
    },
    {
     "name": "stdout",
     "output_type": "stream",
     "text": [
      "                   all       1803       1620      0.941      0.994      0.987      0.984\n"
     ]
    },
    {
     "name": "stderr",
     "output_type": "stream",
     "text": [
      "\n"
     ]
    },
    {
     "name": "stdout",
     "output_type": "stream",
     "text": [
      "\n",
      "      Epoch    GPU_mem   box_loss   cls_loss   dfl_loss  Instances       Size\n"
     ]
    },
    {
     "name": "stderr",
     "output_type": "stream",
     "text": [
      "     56/100      3.85G     0.0881     0.2647     0.8462          5        640: 100%|██████████| 3524/3524 [06:06<00:00,  9.62it/s]\n",
      "                 Class     Images  Instances      Box(P          R      mAP50  mAP50-95): 100%|██████████| 226/226 [00:15<00:00, 14.34it/s]"
     ]
    },
    {
     "name": "stdout",
     "output_type": "stream",
     "text": [
      "                   all       1803       1620      0.941      0.995      0.987      0.984\n"
     ]
    },
    {
     "name": "stderr",
     "output_type": "stream",
     "text": [
      "\n"
     ]
    },
    {
     "name": "stdout",
     "output_type": "stream",
     "text": [
      "\n",
      "      Epoch    GPU_mem   box_loss   cls_loss   dfl_loss  Instances       Size\n"
     ]
    },
    {
     "name": "stderr",
     "output_type": "stream",
     "text": [
      "     57/100      3.98G    0.08796     0.2603     0.8443          3        640: 100%|██████████| 3524/3524 [06:15<00:00,  9.38it/s]\n",
      "                 Class     Images  Instances      Box(P          R      mAP50  mAP50-95): 100%|██████████| 226/226 [00:16<00:00, 13.74it/s]"
     ]
    },
    {
     "name": "stdout",
     "output_type": "stream",
     "text": [
      "                   all       1803       1620      0.941      0.995      0.986      0.984\n"
     ]
    },
    {
     "name": "stderr",
     "output_type": "stream",
     "text": [
      "\n"
     ]
    },
    {
     "name": "stdout",
     "output_type": "stream",
     "text": [
      "\n",
      "      Epoch    GPU_mem   box_loss   cls_loss   dfl_loss  Instances       Size\n"
     ]
    },
    {
     "name": "stderr",
     "output_type": "stream",
     "text": [
      "     58/100      3.83G    0.08591     0.2566     0.8452          6        640: 100%|██████████| 3524/3524 [06:12<00:00,  9.45it/s]\n",
      "                 Class     Images  Instances      Box(P          R      mAP50  mAP50-95): 100%|██████████| 226/226 [00:15<00:00, 14.67it/s]"
     ]
    },
    {
     "name": "stdout",
     "output_type": "stream",
     "text": [
      "                   all       1803       1620      0.941      0.995      0.986      0.983\n"
     ]
    },
    {
     "name": "stderr",
     "output_type": "stream",
     "text": [
      "\n"
     ]
    },
    {
     "name": "stdout",
     "output_type": "stream",
     "text": [
      "\n",
      "      Epoch    GPU_mem   box_loss   cls_loss   dfl_loss  Instances       Size\n"
     ]
    },
    {
     "name": "stderr",
     "output_type": "stream",
     "text": [
      "     59/100      3.83G    0.08538     0.2508      0.845          3        640: 100%|██████████| 3524/3524 [05:58<00:00,  9.84it/s]\n",
      "                 Class     Images  Instances      Box(P          R      mAP50  mAP50-95): 100%|██████████| 226/226 [00:15<00:00, 14.86it/s]"
     ]
    },
    {
     "name": "stdout",
     "output_type": "stream",
     "text": [
      "                   all       1803       1620      0.942      0.995      0.985      0.983\n"
     ]
    },
    {
     "name": "stderr",
     "output_type": "stream",
     "text": [
      "\n"
     ]
    },
    {
     "name": "stdout",
     "output_type": "stream",
     "text": [
      "\n",
      "      Epoch    GPU_mem   box_loss   cls_loss   dfl_loss  Instances       Size\n"
     ]
    },
    {
     "name": "stderr",
     "output_type": "stream",
     "text": [
      "     60/100      3.83G    0.08305     0.2442     0.8448          7        640: 100%|██████████| 3524/3524 [06:20<00:00,  9.27it/s]\n",
      "                 Class     Images  Instances      Box(P          R      mAP50  mAP50-95): 100%|██████████| 226/226 [00:18<00:00, 11.98it/s]"
     ]
    },
    {
     "name": "stdout",
     "output_type": "stream",
     "text": [
      "                   all       1803       1620      0.942      0.995      0.985      0.982\n"
     ]
    },
    {
     "name": "stderr",
     "output_type": "stream",
     "text": [
      "\n"
     ]
    },
    {
     "name": "stdout",
     "output_type": "stream",
     "text": [
      "\n",
      "      Epoch    GPU_mem   box_loss   cls_loss   dfl_loss  Instances       Size\n"
     ]
    },
    {
     "name": "stderr",
     "output_type": "stream",
     "text": [
      "     61/100      3.83G    0.08425     0.2524     0.8434          6        640: 100%|██████████| 3524/3524 [06:13<00:00,  9.45it/s]\n",
      "                 Class     Images  Instances      Box(P          R      mAP50  mAP50-95): 100%|██████████| 226/226 [00:15<00:00, 14.34it/s]\n"
     ]
    },
    {
     "name": "stdout",
     "output_type": "stream",
     "text": [
      "                   all       1803       1620      0.942      0.996      0.986      0.983\n",
      "\n",
      "      Epoch    GPU_mem   box_loss   cls_loss   dfl_loss  Instances       Size\n"
     ]
    },
    {
     "name": "stderr",
     "output_type": "stream",
     "text": [
      "     62/100      3.82G    0.08057     0.2396      0.842          6        640: 100%|██████████| 3524/3524 [06:20<00:00,  9.27it/s]\n",
      "                 Class     Images  Instances      Box(P          R      mAP50  mAP50-95): 100%|██████████| 226/226 [00:15<00:00, 14.23it/s]"
     ]
    },
    {
     "name": "stdout",
     "output_type": "stream",
     "text": [
      "                   all       1803       1620      0.942      0.996      0.987      0.984\n"
     ]
    },
    {
     "name": "stderr",
     "output_type": "stream",
     "text": [
      "\n"
     ]
    },
    {
     "name": "stdout",
     "output_type": "stream",
     "text": [
      "\n",
      "      Epoch    GPU_mem   box_loss   cls_loss   dfl_loss  Instances       Size\n"
     ]
    },
    {
     "name": "stderr",
     "output_type": "stream",
     "text": [
      "     63/100       3.8G    0.08066     0.2391     0.8431          4        640: 100%|██████████| 3524/3524 [06:23<00:00,  9.19it/s]\n",
      "                 Class     Images  Instances      Box(P          R      mAP50  mAP50-95): 100%|██████████| 226/226 [00:16<00:00, 13.50it/s]"
     ]
    },
    {
     "name": "stdout",
     "output_type": "stream",
     "text": [
      "                   all       1803       1620      0.943      0.996      0.987      0.984\n"
     ]
    },
    {
     "name": "stderr",
     "output_type": "stream",
     "text": [
      "\n"
     ]
    },
    {
     "name": "stdout",
     "output_type": "stream",
     "text": [
      "\n",
      "      Epoch    GPU_mem   box_loss   cls_loss   dfl_loss  Instances       Size\n"
     ]
    },
    {
     "name": "stderr",
     "output_type": "stream",
     "text": [
      "     64/100      3.79G    0.07989     0.2414     0.8421          3        640: 100%|██████████| 3524/3524 [06:07<00:00,  9.60it/s]\n",
      "                 Class     Images  Instances      Box(P          R      mAP50  mAP50-95): 100%|██████████| 226/226 [00:15<00:00, 14.83it/s]"
     ]
    },
    {
     "name": "stdout",
     "output_type": "stream",
     "text": [
      "                   all       1803       1620      0.943      0.995      0.988      0.985\n"
     ]
    },
    {
     "name": "stderr",
     "output_type": "stream",
     "text": [
      "\n"
     ]
    },
    {
     "name": "stdout",
     "output_type": "stream",
     "text": [
      "\n",
      "      Epoch    GPU_mem   box_loss   cls_loss   dfl_loss  Instances       Size\n"
     ]
    },
    {
     "name": "stderr",
     "output_type": "stream",
     "text": [
      "     65/100       3.8G    0.07882     0.2327      0.844          6        640: 100%|██████████| 3524/3524 [06:08<00:00,  9.57it/s]\n",
      "                 Class     Images  Instances      Box(P          R      mAP50  mAP50-95): 100%|██████████| 226/226 [00:15<00:00, 14.79it/s]"
     ]
    },
    {
     "name": "stdout",
     "output_type": "stream",
     "text": [
      "                   all       1803       1620      0.943      0.995      0.988      0.985\n"
     ]
    },
    {
     "name": "stderr",
     "output_type": "stream",
     "text": [
      "\n"
     ]
    },
    {
     "name": "stdout",
     "output_type": "stream",
     "text": [
      "\n",
      "      Epoch    GPU_mem   box_loss   cls_loss   dfl_loss  Instances       Size\n"
     ]
    },
    {
     "name": "stderr",
     "output_type": "stream",
     "text": [
      "     66/100       3.8G    0.07887     0.2283     0.8429          6        640: 100%|██████████| 3524/3524 [06:05<00:00,  9.65it/s]\n",
      "                 Class     Images  Instances      Box(P          R      mAP50  mAP50-95): 100%|██████████| 226/226 [00:15<00:00, 14.30it/s]"
     ]
    },
    {
     "name": "stdout",
     "output_type": "stream",
     "text": [
      "                   all       1803       1620      0.943      0.995      0.988      0.985\n"
     ]
    },
    {
     "name": "stderr",
     "output_type": "stream",
     "text": [
      "\n"
     ]
    },
    {
     "name": "stdout",
     "output_type": "stream",
     "text": [
      "\n",
      "      Epoch    GPU_mem   box_loss   cls_loss   dfl_loss  Instances       Size\n"
     ]
    },
    {
     "name": "stderr",
     "output_type": "stream",
     "text": [
      "     67/100      3.98G    0.07803     0.2289     0.8431          5        640: 100%|██████████| 3524/3524 [06:18<00:00,  9.31it/s]\n",
      "                 Class     Images  Instances      Box(P          R      mAP50  mAP50-95): 100%|██████████| 226/226 [00:15<00:00, 14.48it/s]"
     ]
    },
    {
     "name": "stdout",
     "output_type": "stream",
     "text": [
      "                   all       1803       1620      0.942      0.995      0.988      0.986\n"
     ]
    },
    {
     "name": "stderr",
     "output_type": "stream",
     "text": [
      "\n"
     ]
    },
    {
     "name": "stdout",
     "output_type": "stream",
     "text": [
      "\n",
      "      Epoch    GPU_mem   box_loss   cls_loss   dfl_loss  Instances       Size\n"
     ]
    },
    {
     "name": "stderr",
     "output_type": "stream",
     "text": [
      "     68/100         4G    0.07714     0.2239     0.8421          7        640: 100%|██████████| 3524/3524 [06:19<00:00,  9.29it/s]\n",
      "                 Class     Images  Instances      Box(P          R      mAP50  mAP50-95): 100%|██████████| 226/226 [00:15<00:00, 14.34it/s]"
     ]
    },
    {
     "name": "stdout",
     "output_type": "stream",
     "text": [
      "                   all       1803       1620      0.942      0.995      0.989      0.986\n"
     ]
    },
    {
     "name": "stderr",
     "output_type": "stream",
     "text": [
      "\n"
     ]
    },
    {
     "name": "stdout",
     "output_type": "stream",
     "text": [
      "\n",
      "      Epoch    GPU_mem   box_loss   cls_loss   dfl_loss  Instances       Size\n"
     ]
    },
    {
     "name": "stderr",
     "output_type": "stream",
     "text": [
      "     69/100         4G    0.07474     0.2228     0.8395          5        640: 100%|██████████| 3524/3524 [06:13<00:00,  9.44it/s]\n",
      "                 Class     Images  Instances      Box(P          R      mAP50  mAP50-95): 100%|██████████| 226/226 [00:15<00:00, 14.27it/s]"
     ]
    },
    {
     "name": "stdout",
     "output_type": "stream",
     "text": [
      "                   all       1803       1620      0.942      0.995      0.989      0.986\n"
     ]
    },
    {
     "name": "stderr",
     "output_type": "stream",
     "text": [
      "\n"
     ]
    },
    {
     "name": "stdout",
     "output_type": "stream",
     "text": [
      "\n",
      "      Epoch    GPU_mem   box_loss   cls_loss   dfl_loss  Instances       Size\n"
     ]
    },
    {
     "name": "stderr",
     "output_type": "stream",
     "text": [
      "     70/100      3.84G    0.07337     0.2185     0.8413          5        640: 100%|██████████| 3524/3524 [06:15<00:00,  9.39it/s]\n",
      "                 Class     Images  Instances      Box(P          R      mAP50  mAP50-95): 100%|██████████| 226/226 [00:15<00:00, 14.56it/s]"
     ]
    },
    {
     "name": "stdout",
     "output_type": "stream",
     "text": [
      "                   all       1803       1620      0.943      0.995      0.989      0.986\n"
     ]
    },
    {
     "name": "stderr",
     "output_type": "stream",
     "text": [
      "\n"
     ]
    },
    {
     "name": "stdout",
     "output_type": "stream",
     "text": [
      "\n",
      "      Epoch    GPU_mem   box_loss   cls_loss   dfl_loss  Instances       Size\n"
     ]
    },
    {
     "name": "stderr",
     "output_type": "stream",
     "text": [
      "     71/100      3.81G    0.07297     0.2177     0.8416          5        640: 100%|██████████| 3524/3524 [06:02<00:00,  9.73it/s]\n",
      "                 Class     Images  Instances      Box(P          R      mAP50  mAP50-95): 100%|██████████| 226/226 [00:15<00:00, 14.65it/s]"
     ]
    },
    {
     "name": "stdout",
     "output_type": "stream",
     "text": [
      "                   all       1803       1620      0.943      0.995       0.99      0.987\n"
     ]
    },
    {
     "name": "stderr",
     "output_type": "stream",
     "text": [
      "\n"
     ]
    },
    {
     "name": "stdout",
     "output_type": "stream",
     "text": [
      "\n",
      "      Epoch    GPU_mem   box_loss   cls_loss   dfl_loss  Instances       Size\n"
     ]
    },
    {
     "name": "stderr",
     "output_type": "stream",
     "text": [
      "     72/100      3.81G    0.07251     0.2214     0.8411          5        640: 100%|██████████| 3524/3524 [06:04<00:00,  9.68it/s]\n",
      "                 Class     Images  Instances      Box(P          R      mAP50  mAP50-95): 100%|██████████| 226/226 [00:15<00:00, 14.85it/s]\n"
     ]
    },
    {
     "name": "stdout",
     "output_type": "stream",
     "text": [
      "                   all       1803       1620      0.943      0.995       0.99      0.987\n",
      "\n",
      "      Epoch    GPU_mem   box_loss   cls_loss   dfl_loss  Instances       Size\n"
     ]
    },
    {
     "name": "stderr",
     "output_type": "stream",
     "text": [
      "     73/100      3.81G    0.07182     0.2143     0.8425          6        640: 100%|██████████| 3524/3524 [06:11<00:00,  9.49it/s]\n",
      "                 Class     Images  Instances      Box(P          R      mAP50  mAP50-95): 100%|██████████| 226/226 [00:15<00:00, 14.23it/s]"
     ]
    },
    {
     "name": "stdout",
     "output_type": "stream",
     "text": [
      "                   all       1803       1620      0.946      0.991       0.99      0.987\n"
     ]
    },
    {
     "name": "stderr",
     "output_type": "stream",
     "text": [
      "\n"
     ]
    },
    {
     "name": "stdout",
     "output_type": "stream",
     "text": [
      "\n",
      "      Epoch    GPU_mem   box_loss   cls_loss   dfl_loss  Instances       Size\n"
     ]
    },
    {
     "name": "stderr",
     "output_type": "stream",
     "text": [
      "     74/100      3.81G    0.06949     0.2092     0.8397          6        640: 100%|██████████| 3524/3524 [06:10<00:00,  9.52it/s]\n",
      "                 Class     Images  Instances      Box(P          R      mAP50  mAP50-95): 100%|██████████| 226/226 [00:15<00:00, 14.25it/s]\n"
     ]
    },
    {
     "name": "stdout",
     "output_type": "stream",
     "text": [
      "                   all       1803       1620      0.944      0.994       0.99      0.987\n",
      "\n",
      "      Epoch    GPU_mem   box_loss   cls_loss   dfl_loss  Instances       Size\n"
     ]
    },
    {
     "name": "stderr",
     "output_type": "stream",
     "text": [
      "     75/100      3.81G     0.0693     0.2087      0.841          6        640: 100%|██████████| 3524/3524 [06:12<00:00,  9.46it/s]\n",
      "                 Class     Images  Instances      Box(P          R      mAP50  mAP50-95): 100%|██████████| 226/226 [00:15<00:00, 14.21it/s]"
     ]
    },
    {
     "name": "stdout",
     "output_type": "stream",
     "text": [
      "                   all       1803       1620      0.944      0.995       0.99      0.987\n"
     ]
    },
    {
     "name": "stderr",
     "output_type": "stream",
     "text": [
      "\n"
     ]
    },
    {
     "name": "stdout",
     "output_type": "stream",
     "text": [
      "\n",
      "      Epoch    GPU_mem   box_loss   cls_loss   dfl_loss  Instances       Size\n"
     ]
    },
    {
     "name": "stderr",
     "output_type": "stream",
     "text": [
      "     76/100      3.81G    0.07002       0.21     0.8406          5        640: 100%|██████████| 3524/3524 [06:12<00:00,  9.46it/s]\n",
      "                 Class     Images  Instances      Box(P          R      mAP50  mAP50-95): 100%|██████████| 226/226 [00:16<00:00, 13.66it/s]"
     ]
    },
    {
     "name": "stdout",
     "output_type": "stream",
     "text": [
      "                   all       1803       1620      0.945      0.994      0.989      0.987\n"
     ]
    },
    {
     "name": "stderr",
     "output_type": "stream",
     "text": [
      "\n"
     ]
    },
    {
     "name": "stdout",
     "output_type": "stream",
     "text": [
      "\n",
      "      Epoch    GPU_mem   box_loss   cls_loss   dfl_loss  Instances       Size\n"
     ]
    },
    {
     "name": "stderr",
     "output_type": "stream",
     "text": [
      "     77/100      3.81G    0.06709      0.204     0.8398          5        640: 100%|██████████| 3524/3524 [06:16<00:00,  9.36it/s]\n",
      "                 Class     Images  Instances      Box(P          R      mAP50  mAP50-95): 100%|██████████| 226/226 [00:15<00:00, 14.26it/s]\n"
     ]
    },
    {
     "name": "stdout",
     "output_type": "stream",
     "text": [
      "                   all       1803       1620      0.944      0.994      0.989      0.987\n",
      "\n",
      "      Epoch    GPU_mem   box_loss   cls_loss   dfl_loss  Instances       Size\n"
     ]
    },
    {
     "name": "stderr",
     "output_type": "stream",
     "text": [
      "     78/100      3.81G    0.06667     0.2012     0.8396          6        640: 100%|██████████| 3524/3524 [06:14<00:00,  9.41it/s]\n",
      "                 Class     Images  Instances      Box(P          R      mAP50  mAP50-95): 100%|██████████| 226/226 [00:15<00:00, 14.51it/s]"
     ]
    },
    {
     "name": "stdout",
     "output_type": "stream",
     "text": [
      "                   all       1803       1620      0.944      0.994      0.989      0.987\n"
     ]
    },
    {
     "name": "stderr",
     "output_type": "stream",
     "text": [
      "\n"
     ]
    },
    {
     "name": "stdout",
     "output_type": "stream",
     "text": [
      "\n",
      "      Epoch    GPU_mem   box_loss   cls_loss   dfl_loss  Instances       Size\n"
     ]
    },
    {
     "name": "stderr",
     "output_type": "stream",
     "text": [
      "     79/100      3.81G    0.06597     0.1979     0.8384          6        640: 100%|██████████| 3524/3524 [06:22<00:00,  9.22it/s]\n",
      "                 Class     Images  Instances      Box(P          R      mAP50  mAP50-95): 100%|██████████| 226/226 [00:19<00:00, 11.49it/s]"
     ]
    },
    {
     "name": "stdout",
     "output_type": "stream",
     "text": [
      "                   all       1803       1620      0.944      0.995      0.989      0.987\n"
     ]
    },
    {
     "name": "stderr",
     "output_type": "stream",
     "text": [
      "\n"
     ]
    },
    {
     "name": "stdout",
     "output_type": "stream",
     "text": [
      "\n",
      "      Epoch    GPU_mem   box_loss   cls_loss   dfl_loss  Instances       Size\n"
     ]
    },
    {
     "name": "stderr",
     "output_type": "stream",
     "text": [
      "     80/100      3.81G    0.06564     0.2002       0.84          5        640: 100%|██████████| 3524/3524 [06:19<00:00,  9.30it/s]\n",
      "                 Class     Images  Instances      Box(P          R      mAP50  mAP50-95): 100%|██████████| 226/226 [00:16<00:00, 13.93it/s]"
     ]
    },
    {
     "name": "stdout",
     "output_type": "stream",
     "text": [
      "                   all       1803       1620      0.944      0.995      0.989      0.987\n"
     ]
    },
    {
     "name": "stderr",
     "output_type": "stream",
     "text": [
      "\n"
     ]
    },
    {
     "name": "stdout",
     "output_type": "stream",
     "text": [
      "\n",
      "      Epoch    GPU_mem   box_loss   cls_loss   dfl_loss  Instances       Size\n"
     ]
    },
    {
     "name": "stderr",
     "output_type": "stream",
     "text": [
      "     81/100      3.81G    0.06465     0.1994     0.8404          8        640:  79%|███████▉  | 2781/3524 [04:51<01:17,  9.61it/s]"
     ]
    }
   ],
   "source": [
    "from ultralytics import YOLO\n",
    "import torch, gc\n",
    "\n",
    "gc.collect()\n",
    "torch.cuda.empty_cache()\n",
    "model = YOLO('yolov8l.pt')\n",
    "\n",
    "model.train(data='/tf/notebook/step2_1_imagedata/data.yaml', \n",
    "                    epochs=100,\n",
    "                    batch=4,\n",
    "                    imgsz=640,\n",
    "                    lr0=0.01,\n",
    "                    name='1221_all_class')"
   ]
  },
  {
   "cell_type": "code",
   "execution_count": 10,
   "id": "9d4a80f3",
   "metadata": {
    "scrolled": true
   },
   "outputs": [
    {
     "name": "stdout",
     "output_type": "stream",
     "text": [
      "Ultralytics YOLOv8.0.221 🚀 Python-3.11.0rc1 torch-2.1.1+cu121 CUDA:0 (NVIDIA GeForce RTX 3090, 24575MiB)\n",
      "Model summary (fused): 268 layers, 43622799 parameters, 0 gradients, 164.9 GFLOPs\n",
      "\n",
      "image 1/83 /tf/notebook/test/5block/LECOQGOLF.jpg: 160x512 (no detections), 74.6ms\n",
      "image 2/83 /tf/notebook/test/5block/LECOQGOLF2.jpg: 160x512 (no detections), 8.0ms\n",
      "image 3/83 /tf/notebook/test/5block/LECOQGOLF3.jpg: 224x512 1 HI32I11, 72.9ms\n",
      "image 4/83 /tf/notebook/test/5block/LECOQGOLF4.jpg: 160x512 1 HTI41, 9.4ms\n",
      "image 5/83 /tf/notebook/test/5block/LECOQGOLF5.jpg: 160x512 (no detections), 8.2ms\n",
      "image 6/83 /tf/notebook/test/5block/LECOQGOLF6.jpg: 160x512 1 HTI41, 7.9ms\n",
      "image 7/83 /tf/notebook/test/5block/LECOQGOLF7.jpg: 160x512 (no detections), 7.9ms\n",
      "image 8/83 /tf/notebook/test/5block/LECOQSPORTIF.jpg: 320x512 1 HTI41, 71.3ms\n",
      "image 9/83 /tf/notebook/test/5block/MUNSINGWEAR.jpg: 192x512 (no detections), 82.6ms\n",
      "image 10/83 /tf/notebook/test/5block/MUNSINGWEAR2.jpg: 160x512 (no detections), 9.9ms\n",
      "image 11/83 /tf/notebook/test/5block/UMBRO.jpg: 192x512 1 HTI41, 11.8ms\n",
      "image 12/83 /tf/notebook/test/5block/ahc.jpg: 192x512 1 C31, 10.4ms\n",
      "image 13/83 /tf/notebook/test/5block/andar.jpg: 480x512 1 HI11I32, 72.6ms\n",
      "image 14/83 /tf/notebook/test/5block/andar2.jpg: 128x512 (no detections), 72.4ms\n",
      "image 15/83 /tf/notebook/test/5block/andar3.jpg: 192x512 1 HTI41, 9.2ms\n",
      "image 16/83 /tf/notebook/test/5block/andar4.jpg: 224x512 1 HTI41, 9.0ms\n",
      "image 17/83 /tf/notebook/test/5block/ballop.jpg: 224x512 1 HTI41, 8.6ms\n",
      "image 18/83 /tf/notebook/test/5block/bodyfriend.jpg: 128x512 (no detections), 9.2ms\n",
      "image 19/83 /tf/notebook/test/5block/cjthemarket.jpg: 160x512 1 HTI41, 9.1ms\n",
      "image 20/83 /tf/notebook/test/5block/coach.jpg: 192x512 1 HI11I32, 9.1ms\n",
      "image 21/83 /tf/notebook/test/5block/coach2.jpg: 192x512 (no detections), 8.5ms\n",
      "image 22/83 /tf/notebook/test/5block/coach3.jpg: 192x512 (no detections), 8.5ms\n",
      "image 23/83 /tf/notebook/test/5block/coach4.jpg: 128x512 (no detections), 9.5ms\n",
      "image 24/83 /tf/notebook/test/5block/cureofficial.jpg: 256x512 1 HTI41, 72.0ms\n",
      "image 25/83 /tf/notebook/test/5block/cureofficial2.jpg: 256x512 1 HTI41, 9.4ms\n",
      "image 26/83 /tf/notebook/test/5block/descentekorea.jpg: 224x512 1 HTI41, 9.7ms\n",
      "image 27/83 /tf/notebook/test/5block/dongwonmall.jpg: 160x512 (no detections), 9.4ms\n",
      "image 28/83 /tf/notebook/test/5block/dongwonmall2.jpg: 192x512 1 HI12I11, 9.4ms\n",
      "image 29/83 /tf/notebook/test/5block/fila.jpg: 224x512 (no detections), 9.3ms\n",
      "image 30/83 /tf/notebook/test/5block/fila2.jpg: 224x512 1 HI11I32, 1 HI32I11, 8.7ms\n",
      "image 31/83 /tf/notebook/test/5block/fila3.jpg: 256x512 (no detections), 9.7ms\n",
      "image 32/83 /tf/notebook/test/5block/fila4.jpg: 256x512 1 HTI41, 9.2ms\n",
      "image 33/83 /tf/notebook/test/5block/ggumbi.jpg: 352x512 1 HI11I32, 77.9ms\n",
      "image 34/83 /tf/notebook/test/5block/ggumbi2.jpg: 352x512 1 HI11I32, 9.1ms\n",
      "image 35/83 /tf/notebook/test/5block/hazzys.jpg: 320x512 (no detections), 9.1ms\n",
      "image 36/83 /tf/notebook/test/5block/hfashionmall.jpg: 160x512 (no detections), 11.8ms\n",
      "image 37/83 /tf/notebook/test/5block/hfashionmall2.jpg: 256x512 1 HTI41, 10.6ms\n",
      "image 38/83 /tf/notebook/test/5block/hfashionmall3.jpg: 256x512 1 HTI41, 9.5ms\n",
      "image 39/83 /tf/notebook/test/5block/hfashionmall4.jpg: 160x512 (no detections), 9.7ms\n",
      "image 40/83 /tf/notebook/test/5block/hfashionmall5.jpg: 192x512 (no detections), 9.5ms\n",
      "image 41/83 /tf/notebook/test/5block/hfashionmall6.jpg: 64x512 (no detections), 75.1ms\n",
      "image 42/83 /tf/notebook/test/5block/hfashionmall7.jpg: 224x512 (no detections), 10.1ms\n",
      "image 43/83 /tf/notebook/test/5block/iloom.jpg: 160x512 1 HI32I11, 10.1ms\n",
      "image 44/83 /tf/notebook/test/5block/jacksonchameleon.jpg: 320x512 1 HI11I32, 10.1ms\n",
      "image 45/83 /tf/notebook/test/5block/jestina.jpg: 512x512 2 HI11I32s, 10.4ms\n",
      "image 46/83 /tf/notebook/test/5block/jestina2.jpg: 160x512 1 HTI41, 10.3ms\n",
      "image 47/83 /tf/notebook/test/5block/kangolkorea.jpg: 384x512 1 HI11I32, 71.7ms\n",
      "image 48/83 /tf/notebook/test/5block/kzmoutdoor.jpg: 224x512 1 C31, 10.1ms\n",
      "image 49/83 /tf/notebook/test/5block/looxloo.jpg: 224x512 1 HI11I32, 9.3ms\n",
      "image 50/83 /tf/notebook/test/5block/looxloo2.jpg: 224x512 1 HTI41, 9.2ms\n",
      "image 51/83 /tf/notebook/test/5block/looxloo3.jpg: 224x512 1 HTI41, 9.4ms\n",
      "image 52/83 /tf/notebook/test/5block/looxloo4.jpg: 192x512 (no detections), 9.8ms\n",
      "image 53/83 /tf/notebook/test/5block/looxloo5.jpg: 192x512 (no detections), 9.3ms\n",
      "image 54/83 /tf/notebook/test/5block/mongze.jpg: 288x512 1 HI11I32, 99.0ms\n",
      "image 55/83 /tf/notebook/test/5block/nbkorea.jpg: 224x512 1 HTI41, 10.0ms\n",
      "image 56/83 /tf/notebook/test/5block/nike.jpg: 192x512 (no detections), 10.2ms\n",
      "image 57/83 /tf/notebook/test/5block/nike2.jpg: 192x512 (no detections), 10.2ms\n",
      "image 58/83 /tf/notebook/test/5block/nike3.jpg: 288x512 (no detections), 10.8ms\n",
      "image 59/83 /tf/notebook/test/5block/nike4.jpg: 192x512 (no detections), 10.8ms\n",
      "image 60/83 /tf/notebook/test/5block/nplus.jpg: 192x512 1 HI11I41, 11.2ms\n",
      "image 61/83 /tf/notebook/test/5block/nplus2.jpg: 224x512 1 HI11I41, 11.0ms\n",
      "image 62/83 /tf/notebook/test/5block/obliquetable.jpg: 256x512 1 C31, 16.4ms\n",
      "image 63/83 /tf/notebook/test/5block/poled.jpg: 224x512 1 HI11I32, 11.2ms\n",
      "image 64/83 /tf/notebook/test/5block/poom.jpg: 224x512 1 HI11I32, 9.8ms\n",
      "image 65/83 /tf/notebook/test/5block/poom2.jpg: 160x512 1 HTI41, 10.1ms\n",
      "image 66/83 /tf/notebook/test/5block/potterybarn.jpg: 160x512 (no detections), 9.8ms\n",
      "image 67/83 /tf/notebook/test/5block/skecherskorea.jpg: 384x512 1 HI11I32, 10.8ms\n",
      "image 68/83 /tf/notebook/test/5block/skecherskorea2.jpg: 416x512 1 HI11I32, 76.5ms\n",
      "image 69/83 /tf/notebook/test/5block/sulwhasoo.jpg: 128x512 (no detections), 11.8ms\n",
      "image 70/83 /tf/notebook/test/5block/topten10.jpg: 224x512 (no detections), 10.7ms\n",
      "image 71/83 /tf/notebook/test/5block/topten102.jpg: 256x512 (no detections), 10.9ms\n",
      "image 72/83 /tf/notebook/test/5block/topten103.jpg: 224x512 (no detections), 10.4ms\n",
      "image 73/83 /tf/notebook/test/5block/vittz.jpg: 448x512 1 HI11I32, 73.6ms\n",
      "image 74/83 /tf/notebook/test/5block/vittz2.jpg: 448x512 1 HI11I32, 10.4ms\n",
      "image 75/83 /tf/notebook/test/5block/vittz3.jpg: 448x512 1 HI11I32, 10.0ms\n",
      "image 76/83 /tf/notebook/test/5block/vittz4.jpg: 448x512 1 HI11I32, 10.6ms\n",
      "image 77/83 /tf/notebook/test/5block/vittz5.jpg: 192x512 (no detections), 11.8ms\n",
      "image 78/83 /tf/notebook/test/5block/vlco.jpg: 320x512 1 HI11I32, 15.1ms\n",
      "image 79/83 /tf/notebook/test/5block/vlco2.jpg: 192x512 1 HTI41, 12.8ms\n",
      "image 80/83 /tf/notebook/test/5block/vlco3.jpg: 192x512 1 HTI41, 12.3ms\n",
      "image 81/83 /tf/notebook/test/5block/winix.jpg: 64x512 (no detections), 19.5ms\n",
      "image 82/83 /tf/notebook/test/5block/winix2.jpg: 128x512 (no detections), 15.2ms\n",
      "image 83/83 /tf/notebook/test/5block/xexymix-1.jpg: 256x512 1 HTI41, 24.6ms\n",
      "Speed: 1.0ms preprocess, 20.8ms inference, 3.9ms postprocess per image at shape (1, 3, 256, 512)\n",
      "Results saved to \u001b[1mruns/detect/predict41\u001b[0m\n",
      "💡 Learn more at https://docs.ultralytics.com/modes/predict\n"
     ]
    }
   ],
   "source": [
    "!yolo predict detect model=/tf/notebook/runs/detect/1221_all_class4/weights/best.pt source=/tf/notebook/test/5block"
   ]
  },
  {
   "cell_type": "markdown",
   "id": "cdcd3f91",
   "metadata": {},
   "source": [
    "# import tensorflow as tf\n",
    "\n",
    "# GPU 사용 가능 여부 확인\n",
    "if tf.test.is_gpu_available():\n",
    "    print(\"GPU 사용 가능\")\n",
    "    # GPU 장치 목록 확인\n",
    "    gpu_devices = tf.config.experimental.list_physical_devices('GPU')\n",
    "    print(\"사용 가능한 GPU 장치:\", gpu_devices)\n",
    "else:\n",
    "    print(\"GPU 사용 불가능\")"
   ]
  },
  {
   "cell_type": "code",
   "execution_count": null,
   "id": "5d204775",
   "metadata": {},
   "outputs": [],
   "source": [
    "pip install -U ultralytics"
   ]
  },
  {
   "cell_type": "code",
   "execution_count": null,
   "id": "84deb2ae",
   "metadata": {},
   "outputs": [],
   "source": [
    "import os\n",
    "\n",
    "# 비교할 두 폴더 경로 설정\n",
    "folder1 = '/tf/notebook/nuggi/train/images'\n",
    "folder2 = '/tf/notebook/nuggi/train/labels'\n",
    "\n",
    "# 두 폴더 내의 파일 목록 가져오기 (확장자 포함)\n",
    "files1 = [os.path.splitext(file)[0] for file in os.listdir(folder1)]\n",
    "files2 = [os.path.splitext(file)[0] for file in os.listdir(folder2)]\n",
    "\n",
    "# folder1에만 있는 파일 찾기\n",
    "files_only_in_folder1 = set(files1) - set(files2)\n",
    "\n",
    "# folder1에서 파일 삭제\n",
    "for file_name in files_only_in_folder1:\n",
    "    file_path = os.path.join(folder1, file_name)\n",
    "    # 파일을 삭제하기 전에 백업 또는 확인 절차를 거칠 것을 권장합니다.\n",
    "    os.remove(file_path)\n",
    "    print(f\"{file_path} 삭제 완료\")\n",
    "\n",
    "print(\"삭제된 파일 수:\", len(files_only_in_folder1))\n"
   ]
  },
  {
   "cell_type": "code",
   "execution_count": null,
   "id": "9ba86b5e",
   "metadata": {},
   "outputs": [],
   "source": [
    "from ultralytics import YOLO\n",
    "\n",
    "model = YOLO('/tf/notebook/ElementDetect.pt')\n",
    "\n",
    "image = '/tf/notebook/2.jpg'\n",
    "\n",
    "model.predict(image, save=True, imgsz=640)"
   ]
  },
  {
   "cell_type": "code",
   "execution_count": null,
   "id": "8fae8625-bc7a-45fc-aab1-28edeb5956d6",
   "metadata": {},
   "outputs": [],
   "source": [
    "model.summary"
   ]
  },
  {
   "cell_type": "code",
   "execution_count": null,
   "id": "894f1291-9d3d-4444-9eaf-0c8e608067d0",
   "metadata": {},
   "outputs": [],
   "source": [
    "!yolo predict model=/tf/notebook/ElementDetect.pt source=/tf/notebook/3.jpg"
   ]
  },
  {
   "cell_type": "code",
   "execution_count": null,
   "id": "36376a42-f942-4235-960a-b5a010ad684b",
   "metadata": {},
   "outputs": [],
   "source": [
    "from ultralytics import YOLO\n",
    "\n",
    "model = YOLO('/tf/notebook/ElementDetect.pt')\n",
    "\n",
    "image = '/tf/notebook/header/screencapture-blueskytechco-cogito-rtl-2022-09-27-11_39_58134.jpg'\n",
    "\n",
    "model.predict(image, save=True, imgsz=640, conf=0.3)"
   ]
  },
  {
   "cell_type": "code",
   "execution_count": null,
   "id": "faa9946b-c961-45bd-9b17-4e5c9a8deb33",
   "metadata": {},
   "outputs": [],
   "source": [
    "import os\n",
    "file_paths = os.listdir('/tf/notebook/header')\n",
    "\n",
    "for file in file_paths:\n",
    "    image = os.path.join('/tf/notebook/header', file)\n",
    "\n",
    "    model.predict(image, save=True, imgsz=640, conf = 0.5)\n",
    "    "
   ]
  },
  {
   "cell_type": "code",
   "execution_count": null,
   "id": "6379dc44-6902-4c4f-9344-1a7f1b4db0cf",
   "metadata": {},
   "outputs": [],
   "source": []
  }
 ],
 "metadata": {
  "kernelspec": {
   "display_name": "Python 3 (ipykernel)",
   "language": "python",
   "name": "python3"
  },
  "language_info": {
   "codemirror_mode": {
    "name": "ipython",
    "version": 3
   },
   "file_extension": ".py",
   "mimetype": "text/x-python",
   "name": "python",
   "nbconvert_exporter": "python",
   "pygments_lexer": "ipython3",
   "version": "3.11.0rc1"
  }
 },
 "nbformat": 4,
 "nbformat_minor": 5
}
