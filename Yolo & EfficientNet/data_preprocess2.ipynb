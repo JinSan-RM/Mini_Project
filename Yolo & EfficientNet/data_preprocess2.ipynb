{
 "cells": [
  {
   "cell_type": "code",
   "execution_count": null,
   "id": "d76d7446",
   "metadata": {},
   "outputs": [],
   "source": [
    "!pip install pandas scipy tensorflow-hub tensorflow-datasets"
   ]
  },
  {
   "cell_type": "code",
   "execution_count": 27,
   "id": "31d82319",
   "metadata": {},
   "outputs": [],
   "source": [
    "from pathlib import Path\n",
    "from functools import reduce\n",
    "import pandas as pd"
   ]
  },
  {
   "cell_type": "code",
   "execution_count": 28,
   "id": "3e26a2e3",
   "metadata": {},
   "outputs": [],
   "source": [
    "step2_train_path = Path('../datasets/step2_new/header/train')\n",
    "step2_validation_path = Path('../datasets/step2_new/header/validation')\n"
   ]
  },
  {
   "cell_type": "code",
   "execution_count": 29,
   "id": "4a74874f",
   "metadata": {},
   "outputs": [],
   "source": [
    "labels = [path.name for path in step2_train_path.iterdir()]\n",
    "def prepare_data_frame(step2_path):\n",
    "    files = {label.name: [file for file in label.iterdir()] for label in step2_path.iterdir()}\n",
    "    \n",
    "    file_paths = reduce(lambda x,y: x+y, files.values())\n",
    "    file_names = list(map(lambda x: x.name, file_paths))\n",
    "    name_to_path_dict = dict(zip(file_names, map(lambda x: str(x), file_paths)))\n",
    "    file_path_series = pd.Series(name_to_path_dict, dtype='string', name='file_path')\n",
    "    \n",
    "    label_series_list = [\n",
    "        pd.Series(1.0, index=map(lambda x: x.name, files[label]), name=label)\n",
    "        for label in labels\n",
    "    ]\n",
    "    df = reduce(lambda x, y: pd.merge(x, y, how='outer', left_index=True, right_index=True), label_series_list)\n",
    "    df = df.fillna(value=0.0)\n",
    "    \n",
    "    df_with_file_path = pd.merge(df, file_path_series, left_index=True, right_index=True)\n",
    "    \n",
    "    return df_with_file_path"
   ]
  },
  {
   "cell_type": "code",
   "execution_count": 30,
   "id": "0f568924",
   "metadata": {},
   "outputs": [],
   "source": [
    "train_df = prepare_data_frame(step2_train_path)\n",
    "validation_df = prepare_data_frame(step2_validation_path)"
   ]
  },
  {
   "cell_type": "code",
   "execution_count": 31,
   "id": "457b71ce",
   "metadata": {},
   "outputs": [],
   "source": [
    "import tensorflow as tf\n",
    "import tensorflow_hub as hub"
   ]
  },
  {
   "cell_type": "code",
   "execution_count": 32,
   "id": "efdb91d8",
   "metadata": {},
   "outputs": [],
   "source": [
    "train_ds = tf.data.Dataset.from_tensor_slices({**train_df})\n",
    "validation_ds = tf.data.Dataset.from_tensor_slices({**validation_df})"
   ]
  },
  {
   "cell_type": "code",
   "execution_count": 33,
   "id": "24d28035",
   "metadata": {},
   "outputs": [],
   "source": [
    "def load_image(sample):\n",
    "    file_path = sample['file_path']\n",
    "    image_bytes = tf.io.read_file(file_path)\n",
    "    image = tf.io.decode_image(image_bytes, channels=3, expand_animations=False)\n",
    "    sample['image'] = image\n",
    "    return sample\n",
    "\n",
    "def preprocess_image(sample):\n",
    "    image = tf.image.convert_image_dtype(sample['image'], tf.float32)\n",
    "    image = tf.image.resize(image, [224, 224])\n",
    "    sample['image'] = image\n",
    "    return sample\n",
    "\n",
    "def transform_data_for_keras_fit(sample):\n",
    "    return sample['image'], tuple(sample[label] for label in labels)"
   ]
  },
  {
   "cell_type": "code",
   "execution_count": 34,
   "id": "56259ccc",
   "metadata": {},
   "outputs": [],
   "source": [
    "trainable_ds = train_ds.map(load_image).map(preprocess_image).map(transform_data_for_keras_fit).batch(32)\n",
    "testable_ds = validation_ds.map(load_image).map(preprocess_image).map(transform_data_for_keras_fit).batch(32)"
   ]
  },
  {
   "cell_type": "code",
   "execution_count": 35,
   "id": "19ab7fbc",
   "metadata": {},
   "outputs": [],
   "source": [
    "inputs = tf.keras.Input(shape=(224, 224, 3), name=\"image\")\n",
    "efficientnet_v2 = hub.KerasLayer('https://tfhub.dev/google/imagenet/efficientnet_v2_imagenet21k_b0/feature_vector/2', trainable=False)\n",
    "net = efficientnet_v2(inputs)\n",
    "outputs = [tf.keras.layers.Dense(1, name='dense_'+label)(net) for label in labels]\n",
    "\n",
    "efficientnet_v2_step2 = tf.keras.Model(inputs=inputs, outputs=outputs)"
   ]
  },
  {
   "cell_type": "code",
   "execution_count": 36,
   "id": "2403bb53",
   "metadata": {},
   "outputs": [],
   "source": [
    "efficientnet_v2_step2.compile(\n",
    "    optimizer=tf.keras.optimizers.Adam(learning_rate=0.01),\n",
    "    loss=[tf.keras.losses.BinaryCrossentropy(from_logits=True, name='binary_crossentropy_'+label) for label in labels],\n",
    "    metrics=tf.keras.metrics.BinaryAccuracy(),\n",
    ")"
   ]
  },
  {
   "cell_type": "code",
   "execution_count": 38,
   "id": "26d550ba",
   "metadata": {},
   "outputs": [
    {
     "name": "stdout",
     "output_type": "stream",
     "text": [
      "Epoch 1/50\n"
     ]
    },
    {
     "name": "stderr",
     "output_type": "stream",
     "text": [
      "2023-07-17 05:23:22.494339: W tensorflow/core/framework/op_kernel.cc:1828] OP_REQUIRES failed at whole_file_read_ops.cc:116 : NOT_FOUND: ../datasets/step2_new/header/train/logo_left/Thumbs.db; No such file or directory\n",
      "2023-07-17 05:23:22.522045: I tensorflow/core/framework/local_rendezvous.cc:405] Local rendezvous recv item cancelled. Key hash: 2027284178178185195\n",
      "2023-07-17 05:23:22.522164: I tensorflow/core/framework/local_rendezvous.cc:405] Local rendezvous recv item cancelled. Key hash: 10234855513871310771\n",
      "2023-07-17 05:23:22.522341: I tensorflow/core/framework/local_rendezvous.cc:405] Local rendezvous recv item cancelled. Key hash: 8237703765258564134\n"
     ]
    },
    {
     "ename": "NotFoundError",
     "evalue": "Graph execution error:\n\n2 root error(s) found.\n  (0) NOT_FOUND:  ../datasets/step2_new/header/train/logo_left/Thumbs.db; No such file or directory\n\t [[{{node ReadFile}}]]\n\t [[IteratorGetNext]]\n\t [[IteratorGetNext/_4]]\n  (1) NOT_FOUND:  ../datasets/step2_new/header/train/logo_left/Thumbs.db; No such file or directory\n\t [[{{node ReadFile}}]]\n\t [[IteratorGetNext]]\n0 successful operations.\n0 derived errors ignored. [Op:__inference_train_function_196182]",
     "output_type": "error",
     "traceback": [
      "\u001b[0;31m---------------------------------------------------------------------------\u001b[0m",
      "\u001b[0;31mNotFoundError\u001b[0m                             Traceback (most recent call last)",
      "Cell \u001b[0;32mIn[38], line 1\u001b[0m\n\u001b[0;32m----> 1\u001b[0m history \u001b[38;5;241m=\u001b[39m \u001b[43mefficientnet_v2_step2\u001b[49m\u001b[38;5;241;43m.\u001b[39;49m\u001b[43mfit\u001b[49m\u001b[43m(\u001b[49m\n\u001b[1;32m      2\u001b[0m \u001b[43m    \u001b[49m\u001b[43mtrainable_ds\u001b[49m\u001b[43m,\u001b[49m\u001b[43m \u001b[49m\u001b[43mepochs\u001b[49m\u001b[38;5;241;43m=\u001b[39;49m\u001b[38;5;241;43m50\u001b[39;49m\u001b[43m,\u001b[49m\u001b[43m \u001b[49m\u001b[43mvalidation_data\u001b[49m\u001b[38;5;241;43m=\u001b[39;49m\u001b[43mtestable_ds\u001b[49m\u001b[43m,\u001b[49m\n\u001b[1;32m      3\u001b[0m \u001b[43m    \u001b[49m\u001b[43mcallbacks\u001b[49m\u001b[38;5;241;43m=\u001b[39;49m\u001b[43m[\u001b[49m\u001b[43mtf\u001b[49m\u001b[38;5;241;43m.\u001b[39;49m\u001b[43mkeras\u001b[49m\u001b[38;5;241;43m.\u001b[39;49m\u001b[43mcallbacks\u001b[49m\u001b[38;5;241;43m.\u001b[39;49m\u001b[43mTensorBoard\u001b[49m\u001b[43m(\u001b[49m\u001b[43mlog_dir\u001b[49m\u001b[38;5;241;43m=\u001b[39;49m\u001b[38;5;124;43m'\u001b[39;49m\u001b[38;5;124;43mlogs/fit\u001b[39;49m\u001b[38;5;124;43m'\u001b[39;49m\u001b[43m)\u001b[49m\u001b[43m]\u001b[49m\n\u001b[1;32m      4\u001b[0m \u001b[43m)\u001b[49m\n",
      "File \u001b[0;32m/usr/local/lib/python3.8/dist-packages/keras/src/utils/traceback_utils.py:70\u001b[0m, in \u001b[0;36mfilter_traceback.<locals>.error_handler\u001b[0;34m(*args, **kwargs)\u001b[0m\n\u001b[1;32m     67\u001b[0m     filtered_tb \u001b[38;5;241m=\u001b[39m _process_traceback_frames(e\u001b[38;5;241m.\u001b[39m__traceback__)\n\u001b[1;32m     68\u001b[0m     \u001b[38;5;66;03m# To get the full stack trace, call:\u001b[39;00m\n\u001b[1;32m     69\u001b[0m     \u001b[38;5;66;03m# `tf.debugging.disable_traceback_filtering()`\u001b[39;00m\n\u001b[0;32m---> 70\u001b[0m     \u001b[38;5;28;01mraise\u001b[39;00m e\u001b[38;5;241m.\u001b[39mwith_traceback(filtered_tb) \u001b[38;5;28;01mfrom\u001b[39;00m \u001b[38;5;28;01mNone\u001b[39;00m\n\u001b[1;32m     71\u001b[0m \u001b[38;5;28;01mfinally\u001b[39;00m:\n\u001b[1;32m     72\u001b[0m     \u001b[38;5;28;01mdel\u001b[39;00m filtered_tb\n",
      "File \u001b[0;32m/usr/local/lib/python3.8/dist-packages/tensorflow/python/eager/execute.py:53\u001b[0m, in \u001b[0;36mquick_execute\u001b[0;34m(op_name, num_outputs, inputs, attrs, ctx, name)\u001b[0m\n\u001b[1;32m     51\u001b[0m \u001b[38;5;28;01mtry\u001b[39;00m:\n\u001b[1;32m     52\u001b[0m   ctx\u001b[38;5;241m.\u001b[39mensure_initialized()\n\u001b[0;32m---> 53\u001b[0m   tensors \u001b[38;5;241m=\u001b[39m pywrap_tfe\u001b[38;5;241m.\u001b[39mTFE_Py_Execute(ctx\u001b[38;5;241m.\u001b[39m_handle, device_name, op_name,\n\u001b[1;32m     54\u001b[0m                                       inputs, attrs, num_outputs)\n\u001b[1;32m     55\u001b[0m \u001b[38;5;28;01mexcept\u001b[39;00m core\u001b[38;5;241m.\u001b[39m_NotOkStatusException \u001b[38;5;28;01mas\u001b[39;00m e:\n\u001b[1;32m     56\u001b[0m   \u001b[38;5;28;01mif\u001b[39;00m name \u001b[38;5;129;01mis\u001b[39;00m \u001b[38;5;129;01mnot\u001b[39;00m \u001b[38;5;28;01mNone\u001b[39;00m:\n",
      "\u001b[0;31mNotFoundError\u001b[0m: Graph execution error:\n\n2 root error(s) found.\n  (0) NOT_FOUND:  ../datasets/step2_new/header/train/logo_left/Thumbs.db; No such file or directory\n\t [[{{node ReadFile}}]]\n\t [[IteratorGetNext]]\n\t [[IteratorGetNext/_4]]\n  (1) NOT_FOUND:  ../datasets/step2_new/header/train/logo_left/Thumbs.db; No such file or directory\n\t [[{{node ReadFile}}]]\n\t [[IteratorGetNext]]\n0 successful operations.\n0 derived errors ignored. [Op:__inference_train_function_196182]"
     ]
    }
   ],
   "source": [
    "history = efficientnet_v2_step2.fit(\n",
    "    trainable_ds, epochs=50, validation_data=testable_ds,\n",
    "    callbacks=[tf.keras.callbacks.TensorBoard(log_dir='logs/fit')]\n",
    ")"
   ]
  },
  {
   "cell_type": "code",
   "execution_count": null,
   "id": "919c9e69",
   "metadata": {},
   "outputs": [],
   "source": []
  }
 ],
 "metadata": {
  "kernelspec": {
   "display_name": "Python 3 (ipykernel)",
   "language": "python",
   "name": "python3"
  },
  "language_info": {
   "codemirror_mode": {
    "name": "ipython",
    "version": 3
   },
   "file_extension": ".py",
   "mimetype": "text/x-python",
   "name": "python",
   "nbconvert_exporter": "python",
   "pygments_lexer": "ipython3",
   "version": "3.8.10"
  }
 },
 "nbformat": 4,
 "nbformat_minor": 5
}
