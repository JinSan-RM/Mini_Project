{
 "cells": [
  {
   "cell_type": "code",
   "execution_count": 16,
   "id": "31d82319",
   "metadata": {},
   "outputs": [],
   "source": [
    "from pathlib import Path\n",
    "from functools import reduce\n",
    "import pandas as pd\n",
    "import os"
   ]
  },
  {
   "cell_type": "code",
   "execution_count": 6,
   "id": "c77c399c",
   "metadata": {},
   "outputs": [
    {
     "name": "stderr",
     "output_type": "stream",
     "text": [
      "2023-07-17 05:25:22.266865: I tensorflow/core/platform/cpu_feature_guard.cc:182] This TensorFlow binary is optimized to use available CPU instructions in performance-critical operations.\n",
      "To enable the following instructions: AVX2 FMA, in other operations, rebuild TensorFlow with the appropriate compiler flags.\n"
     ]
    },
    {
     "name": "stdout",
     "output_type": "stream",
     "text": [
      "Num GPUs Available: 1\n"
     ]
    },
    {
     "name": "stderr",
     "output_type": "stream",
     "text": [
      "2023-07-17 05:25:23.774276: I tensorflow/compiler/xla/stream_executor/cuda/cuda_gpu_executor.cc:981] could not open file to read NUMA node: /sys/bus/pci/devices/0000:05:00.0/numa_node\n",
      "Your kernel may have been built without NUMA support.\n",
      "2023-07-17 05:25:23.791298: I tensorflow/compiler/xla/stream_executor/cuda/cuda_gpu_executor.cc:981] could not open file to read NUMA node: /sys/bus/pci/devices/0000:05:00.0/numa_node\n",
      "Your kernel may have been built without NUMA support.\n",
      "2023-07-17 05:25:23.791507: I tensorflow/compiler/xla/stream_executor/cuda/cuda_gpu_executor.cc:981] could not open file to read NUMA node: /sys/bus/pci/devices/0000:05:00.0/numa_node\n",
      "Your kernel may have been built without NUMA support.\n"
     ]
    }
   ],
   "source": [
    "import tensorflow as tf\n",
    "\n",
    "print(\"Num GPUs Available:\", len(tf.config.list_physical_devices('GPU')))"
   ]
  },
  {
   "cell_type": "code",
   "execution_count": 7,
   "id": "655e5d60",
   "metadata": {},
   "outputs": [
    {
     "name": "stdout",
     "output_type": "stream",
     "text": [
      "Mon Jul 17 05:25:23 2023       \r\n",
      "+---------------------------------------------------------------------------------------+\r\n",
      "| NVIDIA-SMI 535.54.06              Driver Version: 536.40       CUDA Version: 12.2     |\r\n",
      "|-----------------------------------------+----------------------+----------------------+\r\n",
      "| GPU  Name                 Persistence-M | Bus-Id        Disp.A | Volatile Uncorr. ECC |\r\n",
      "| Fan  Temp   Perf          Pwr:Usage/Cap |         Memory-Usage | GPU-Util  Compute M. |\r\n",
      "|                                         |                      |               MIG M. |\r\n",
      "|=========================================+======================+======================|\r\n",
      "|   0  NVIDIA GeForce RTX 3060 Ti     On  | 00000000:05:00.0  On |                  N/A |\r\n",
      "|  0%   44C    P8              15W / 200W |   7845MiB /  8192MiB |      6%      Default |\r\n",
      "|                                         |                      |                  N/A |\r\n",
      "+-----------------------------------------+----------------------+----------------------+\r\n",
      "                                                                                         \r\n",
      "+---------------------------------------------------------------------------------------+\r\n",
      "| Processes:                                                                            |\r\n",
      "|  GPU   GI   CI        PID   Type   Process name                            GPU Memory |\r\n",
      "|        ID   ID                                                             Usage      |\r\n",
      "|=======================================================================================|\r\n",
      "|    0   N/A  N/A        31      C   /python3.8                                N/A      |\r\n",
      "|    0   N/A  N/A       452      C   /python3.8                                N/A      |\r\n",
      "+---------------------------------------------------------------------------------------+\r\n"
     ]
    }
   ],
   "source": [
    "!nvidia-smi"
   ]
  },
  {
   "cell_type": "code",
   "execution_count": 8,
   "id": "3e26a2e3",
   "metadata": {},
   "outputs": [],
   "source": [
    "target = 'header'\n",
    "version = 3\n",
    "step2_train_path = Path('/tf/datasets/step2_new/'+target+'/train')\n",
    "step2_validation_path = Path('/tf/datasets/step2_new/'+target+'/validation')"
   ]
  },
  {
   "cell_type": "code",
   "execution_count": 9,
   "id": "21f3238f",
   "metadata": {},
   "outputs": [
    {
     "name": "stdout",
     "output_type": "stream",
     "text": [
      "/tf/datasets/step2_new/header/train /tf/datasets/step2_new/header/validation\n",
      "/tf/notebook/step2\n",
      "Package                      Version\n",
      "---------------------------- --------------------\n",
      "absl-py                      1.4.0\n",
      "anyio                        3.7.1\n",
      "argon2-cffi                  21.3.0\n",
      "argon2-cffi-bindings         21.2.0\n",
      "array-record                 0.4.0\n",
      "arrow                        1.2.3\n",
      "asttokens                    2.2.1\n",
      "astunparse                   1.6.3\n",
      "attrs                        23.1.0\n",
      "backcall                     0.2.0\n",
      "beautifulsoup4               4.12.2\n",
      "bleach                       6.0.0\n",
      "cachetools                   5.3.1\n",
      "certifi                      2022.12.7\n",
      "cffi                         1.15.1\n",
      "chardet                      4.0.0\n",
      "charset-normalizer           3.2.0\n",
      "click                        8.1.4\n",
      "cmake                        3.26.4\n",
      "comm                         0.1.3\n",
      "contourpy                    1.1.0\n",
      "cycler                       0.10.0\n",
      "dbus-python                  1.2.16\n",
      "debugpy                      1.6.7\n",
      "decorator                    5.1.1\n",
      "defusedxml                   0.7.1\n",
      "dm-tree                      0.1.8\n",
      "etils                        1.3.0\n",
      "exceptiongroup               1.1.2\n",
      "executing                    1.2.0\n",
      "fastjsonschema               2.17.1\n",
      "filelock                     3.12.2\n",
      "flatbuffers                  23.5.26\n",
      "fonttools                    4.40.0\n",
      "fqdn                         1.5.1\n",
      "gast                         0.4.0\n",
      "gitdb                        4.0.10\n",
      "GitPython                    3.1.32\n",
      "google-auth                  2.21.0\n",
      "google-auth-oauthlib         1.0.0\n",
      "google-pasta                 0.2.0\n",
      "googleapis-common-protos     1.59.1\n",
      "grpcio                       1.56.0\n",
      "h5py                         3.9.0\n",
      "idna                         2.10\n",
      "importlib-metadata           6.7.0\n",
      "importlib-resources          5.12.0\n",
      "ipykernel                    6.24.0\n",
      "ipython                      8.12.2\n",
      "ipython-genutils             0.2.0\n",
      "ipywidgets                   8.0.7\n",
      "isoduration                  20.11.0\n",
      "jedi                         0.18.2\n",
      "Jinja2                       3.1.2\n",
      "jsonpointer                  2.4\n",
      "jsonschema                   4.18.0\n",
      "jsonschema-specifications    2023.6.1\n",
      "jupyter                      1.0.0\n",
      "jupyter_client               8.3.0\n",
      "jupyter-console              6.6.3\n",
      "jupyter_core                 5.3.1\n",
      "jupyter-events               0.6.3\n",
      "jupyter-http-over-ws         0.0.8\n",
      "jupyter_server               2.7.0\n",
      "jupyter_server_terminals     0.4.4\n",
      "jupyterlab-pygments          0.2.2\n",
      "jupyterlab-widgets           3.0.8\n",
      "keras                        2.13.1\n",
      "kiwisolver                   1.4.4\n",
      "libclang                     16.0.0\n",
      "lit                          16.0.6\n",
      "Markdown                     3.4.3\n",
      "MarkupSafe                   2.1.3\n",
      "matplotlib                   3.7.2\n",
      "matplotlib-inline            0.1.6\n",
      "mistune                      3.0.1\n",
      "mpmath                       1.3.0\n",
      "nbclassic                    1.0.0\n",
      "nbclient                     0.8.0\n",
      "nbconvert                    7.6.0\n",
      "nbformat                     5.9.0\n",
      "nest-asyncio                 1.5.6\n",
      "networkx                     3.1\n",
      "notebook                     6.5.4\n",
      "notebook_shim                0.2.3\n",
      "numpy                        1.24.4\n",
      "nvidia-cublas-cu11           11.10.3.66\n",
      "nvidia-cuda-cupti-cu11       11.7.101\n",
      "nvidia-cuda-nvrtc-cu11       11.7.99\n",
      "nvidia-cuda-runtime-cu11     11.7.99\n",
      "nvidia-cudnn-cu11            8.5.0.96\n",
      "nvidia-cufft-cu11            10.9.0.58\n",
      "nvidia-curand-cu11           10.2.10.91\n",
      "nvidia-cusolver-cu11         11.4.0.1\n",
      "nvidia-cusparse-cu11         11.7.4.91\n",
      "nvidia-nccl-cu11             2.14.3\n",
      "nvidia-nvtx-cu11             11.7.91\n",
      "oauthlib                     3.2.2\n",
      "opencv-python                4.8.0.74\n",
      "opencv-python-headless       4.8.0.74\n",
      "opt-einsum                   3.3.0\n",
      "overrides                    7.3.1\n",
      "packaging                    23.1\n",
      "pandas                       2.0.3\n",
      "pandocfilters                1.5.0\n",
      "parso                        0.8.3\n",
      "pexpect                      4.8.0\n",
      "pickleshare                  0.7.5\n",
      "Pillow                       10.0.0\n",
      "pip                          23.1.2\n",
      "pkgutil_resolve_name         1.3.10\n",
      "platformdirs                 3.8.0\n",
      "prometheus-client            0.17.0\n",
      "promise                      2.3\n",
      "prompt-toolkit               3.0.39\n",
      "protobuf                     4.23.3\n",
      "psutil                       5.9.5\n",
      "ptyprocess                   0.7.0\n",
      "pure-eval                    0.2.2\n",
      "pyasn1                       0.5.0\n",
      "pyasn1-modules               0.3.0\n",
      "pycparser                    2.21\n",
      "Pygments                     2.15.1\n",
      "PyGObject                    3.36.0\n",
      "pyparsing                    2.4.7\n",
      "python-apt                   2.0.1+ubuntu0.20.4.1\n",
      "python-dateutil              2.8.2\n",
      "python-dotenv                1.0.0\n",
      "python-json-logger           2.0.7\n",
      "pytz                         2023.3\n",
      "PyYAML                       6.0\n",
      "pyzmq                        25.1.0\n",
      "qtconsole                    5.4.3\n",
      "QtPy                         2.3.1\n",
      "referencing                  0.29.1\n",
      "requests                     2.31.0\n",
      "requests-oauthlib            1.3.1\n",
      "requests-toolbelt            1.0.0\n",
      "requests-unixsocket          0.2.0\n",
      "rfc3339-validator            0.1.4\n",
      "rfc3986-validator            0.1.1\n",
      "roboflow                     1.1.1\n",
      "rpds-py                      0.8.4\n",
      "rsa                          4.9\n",
      "scipy                        1.10.1\n",
      "seaborn                      0.12.2\n",
      "Send2Trash                   1.8.2\n",
      "setuptools                   68.0.0\n",
      "six                          1.14.0\n",
      "smmap                        5.0.0\n",
      "sniffio                      1.3.0\n",
      "soupsieve                    2.4.1\n",
      "stack-data                   0.6.2\n",
      "supervision                  0.11.1\n",
      "sympy                        1.12\n",
      "tensorboard                  2.13.0\n",
      "tensorboard-data-server      0.7.1\n",
      "tensorflow                   2.13.0\n",
      "tensorflow-datasets          4.9.2\n",
      "tensorflow-estimator         2.13.0\n",
      "tensorflow-hub               0.13.0\n",
      "tensorflow-io-gcs-filesystem 0.32.0\n",
      "tensorflow-metadata          1.13.1\n",
      "termcolor                    2.3.0\n",
      "terminado                    0.17.1\n",
      "thop                         0.1.1.post2209072238\n",
      "tinycss2                     1.2.1\n",
      "toml                         0.10.2\n",
      "torch                        2.0.1\n",
      "torchvision                  0.15.2\n",
      "tornado                      6.3.2\n",
      "tqdm                         4.65.0\n",
      "traitlets                    5.9.0\n",
      "triton                       2.0.0\n",
      "typing_extensions            4.5.0\n",
      "tzdata                       2023.3\n",
      "ultralytics                  8.0.132\n",
      "uri-template                 1.3.0\n",
      "urllib3                      2.0.3\n",
      "wcwidth                      0.2.6\n",
      "webcolors                    1.13\n",
      "webencodings                 0.5.1\n",
      "websocket-client             1.6.1\n",
      "Werkzeug                     2.3.6\n",
      "wget                         3.2\n",
      "wheel                        0.40.0\n",
      "widgetsnbextension           4.0.8\n",
      "wrapt                        1.15.0\n",
      "zipp                         3.15.0\n"
     ]
    }
   ],
   "source": [
    "print(step2_train_path, step2_validation_path)\n",
    "!pwd\n",
    "!pip list"
   ]
  },
  {
   "cell_type": "code",
   "execution_count": 10,
   "id": "4a74874f",
   "metadata": {},
   "outputs": [],
   "source": [
    "labels = [path.name for path in step2_train_path.iterdir()]\n",
    "def prepare_data_frame(step2_path):\n",
    "    files = {label.name: [file for file in label.iterdir()] for label in step2_path.iterdir()}\n",
    "    \n",
    "    file_paths = reduce(lambda x,y: x+y, files.values())\n",
    "    file_names = list(map(lambda x: x.name, file_paths))\n",
    "    name_to_path_dict = dict(zip(file_names, map(lambda x: str(x), file_paths)))\n",
    "    file_path_series = pd.Series(name_to_path_dict, dtype='string', name='file_path')\n",
    "    \n",
    "    label_series_list = [\n",
    "        pd.Series(1.0, index=map(lambda x: x.name, files[label]), name=label)\n",
    "        for label in labels\n",
    "    ]\n",
    "    df = reduce(lambda x, y: pd.merge(x, y, how='outer', left_index=True, right_index=True), label_series_list)\n",
    "    df = df.fillna(value=0.0)\n",
    "    \n",
    "    df_with_file_path = pd.merge(df, file_path_series, left_index=True, right_index=True)\n",
    "    \n",
    "    return df_with_file_path"
   ]
  },
  {
   "cell_type": "code",
   "execution_count": 11,
   "id": "0f568924",
   "metadata": {},
   "outputs": [
    {
     "name": "stdout",
     "output_type": "stream",
     "text": [
      "                                                    logo_center  logo_left  \\\n",
      "cys_20220928_181059_01.jpg                                  1.0        0.0   \n",
      "cys_20220929_101001_01.jpg                                  1.0        0.0   \n",
      "cys_20220929_110353_01.jpg                                  0.0        1.0   \n",
      "cys_20220929_111453_02.jpg                                  1.0        0.0   \n",
      "cys_20220929_112345_02.jpg                                  1.0        0.0   \n",
      "...                                                         ...        ...   \n",
      "hyw_screencapture-wpbingosite-wordpress-ruper-h...          0.0        1.0   \n",
      "hyw_screencapture-wpbingosite-wordpress-ruper-h...          0.0        1.0   \n",
      "hyw_screencapture-wpbingosite-wordpress-vatage-...          0.0        1.0   \n",
      "hyw_screencapture-yonifit-co-kr-2022-09-30-09_1...          1.0        0.0   \n",
      "hyw_screencapture-zierli-2022-09-28-16_29_23_01...          1.0        0.0   \n",
      "\n",
      "                                                                                            file_path  \n",
      "cys_20220928_181059_01.jpg                          /tf/datasets/step2_new/header/train/logo_cente...  \n",
      "cys_20220929_101001_01.jpg                          /tf/datasets/step2_new/header/train/logo_cente...  \n",
      "cys_20220929_110353_01.jpg                          /tf/datasets/step2_new/header/train/logo_left/...  \n",
      "cys_20220929_111453_02.jpg                          /tf/datasets/step2_new/header/train/logo_cente...  \n",
      "cys_20220929_112345_02.jpg                          /tf/datasets/step2_new/header/train/logo_cente...  \n",
      "...                                                                                               ...  \n",
      "hyw_screencapture-wpbingosite-wordpress-ruper-h...  /tf/datasets/step2_new/header/train/logo_left/...  \n",
      "hyw_screencapture-wpbingosite-wordpress-ruper-h...  /tf/datasets/step2_new/header/train/logo_left/...  \n",
      "hyw_screencapture-wpbingosite-wordpress-vatage-...  /tf/datasets/step2_new/header/train/logo_left/...  \n",
      "hyw_screencapture-yonifit-co-kr-2022-09-30-09_1...  /tf/datasets/step2_new/header/train/logo_cente...  \n",
      "hyw_screencapture-zierli-2022-09-28-16_29_23_01...  /tf/datasets/step2_new/header/train/logo_cente...  \n",
      "\n",
      "[1122 rows x 3 columns]                                                     logo_center  logo_left  \\\n",
      "cys_20220929_101257_01.jpg                                  1.0        0.0   \n",
      "cys_20220929_102032_01.jpg                                  1.0        0.0   \n",
      "cys_20220929_135708_01.jpg                                  1.0        0.0   \n",
      "cys_20220929_135856_01.jpg                                  1.0        0.0   \n",
      "cys_screencapture-abcmart-a-rt-2022-09-29-15_47...          0.0        1.0   \n",
      "...                                                         ...        ...   \n",
      "hyw_screencapture-wpbingosite-wordpress-omeli-h...          0.0        1.0   \n",
      "hyw_screencapture-wpbingosite-wordpress-punio-h...          1.0        0.0   \n",
      "hyw_screencapture-wpbingosite-wordpress-ruper-h...          1.0        0.0   \n",
      "hyw_screencapture-wpbingosite-wordpress-ruper-h...          1.0        0.0   \n",
      "hyw_screencapture-wpdemo-magikthemes-wrangler2-...          0.0        1.0   \n",
      "\n",
      "                                                                                            file_path  \n",
      "cys_20220929_101257_01.jpg                          /tf/datasets/step2_new/header/validation/logo_...  \n",
      "cys_20220929_102032_01.jpg                          /tf/datasets/step2_new/header/validation/logo_...  \n",
      "cys_20220929_135708_01.jpg                          /tf/datasets/step2_new/header/validation/logo_...  \n",
      "cys_20220929_135856_01.jpg                          /tf/datasets/step2_new/header/validation/logo_...  \n",
      "cys_screencapture-abcmart-a-rt-2022-09-29-15_47...  /tf/datasets/step2_new/header/validation/logo_...  \n",
      "...                                                                                               ...  \n",
      "hyw_screencapture-wpbingosite-wordpress-omeli-h...  /tf/datasets/step2_new/header/validation/logo_...  \n",
      "hyw_screencapture-wpbingosite-wordpress-punio-h...  /tf/datasets/step2_new/header/validation/logo_...  \n",
      "hyw_screencapture-wpbingosite-wordpress-ruper-h...  /tf/datasets/step2_new/header/validation/logo_...  \n",
      "hyw_screencapture-wpbingosite-wordpress-ruper-h...  /tf/datasets/step2_new/header/validation/logo_...  \n",
      "hyw_screencapture-wpdemo-magikthemes-wrangler2-...  /tf/datasets/step2_new/header/validation/logo_...  \n",
      "\n",
      "[382 rows x 3 columns]\n"
     ]
    }
   ],
   "source": [
    "train_df = prepare_data_frame(step2_train_path)\n",
    "validation_df = prepare_data_frame(step2_validation_path)\n",
    "print(train_df, validation_df)"
   ]
  },
  {
   "cell_type": "code",
   "execution_count": 12,
   "id": "457b71ce",
   "metadata": {},
   "outputs": [],
   "source": [
    "import tensorflow as tf\n",
    "import tensorflow_hub as hub"
   ]
  },
  {
   "cell_type": "code",
   "execution_count": 13,
   "id": "efdb91d8",
   "metadata": {},
   "outputs": [
    {
     "name": "stdout",
     "output_type": "stream",
     "text": [
      "<_TensorSliceDataset element_spec={'logo_center': TensorSpec(shape=(), dtype=tf.float64, name=None), 'logo_left': TensorSpec(shape=(), dtype=tf.float64, name=None), 'file_path': TensorSpec(shape=(), dtype=tf.string, name=None)}>\n",
      "<_TensorSliceDataset element_spec={'logo_center': TensorSpec(shape=(), dtype=tf.float64, name=None), 'logo_left': TensorSpec(shape=(), dtype=tf.float64, name=None), 'file_path': TensorSpec(shape=(), dtype=tf.string, name=None)}>\n"
     ]
    },
    {
     "name": "stderr",
     "output_type": "stream",
     "text": [
      "2023-07-17 05:25:35.762388: I tensorflow/compiler/xla/stream_executor/cuda/cuda_gpu_executor.cc:981] could not open file to read NUMA node: /sys/bus/pci/devices/0000:05:00.0/numa_node\n",
      "Your kernel may have been built without NUMA support.\n",
      "2023-07-17 05:25:35.762672: I tensorflow/compiler/xla/stream_executor/cuda/cuda_gpu_executor.cc:981] could not open file to read NUMA node: /sys/bus/pci/devices/0000:05:00.0/numa_node\n",
      "Your kernel may have been built without NUMA support.\n",
      "2023-07-17 05:25:35.762850: I tensorflow/compiler/xla/stream_executor/cuda/cuda_gpu_executor.cc:981] could not open file to read NUMA node: /sys/bus/pci/devices/0000:05:00.0/numa_node\n",
      "Your kernel may have been built without NUMA support.\n",
      "2023-07-17 05:25:36.474134: I tensorflow/compiler/xla/stream_executor/cuda/cuda_gpu_executor.cc:981] could not open file to read NUMA node: /sys/bus/pci/devices/0000:05:00.0/numa_node\n",
      "Your kernel may have been built without NUMA support.\n",
      "2023-07-17 05:25:36.474352: I tensorflow/compiler/xla/stream_executor/cuda/cuda_gpu_executor.cc:981] could not open file to read NUMA node: /sys/bus/pci/devices/0000:05:00.0/numa_node\n",
      "Your kernel may have been built without NUMA support.\n",
      "2023-07-17 05:25:36.474364: I tensorflow/core/common_runtime/gpu/gpu_device.cc:1726] Could not identify NUMA node of platform GPU id 0, defaulting to 0.  Your kernel may not have been built with NUMA support.\n",
      "2023-07-17 05:25:36.474529: I tensorflow/compiler/xla/stream_executor/cuda/cuda_gpu_executor.cc:981] could not open file to read NUMA node: /sys/bus/pci/devices/0000:05:00.0/numa_node\n",
      "Your kernel may have been built without NUMA support.\n",
      "2023-07-17 05:25:36.474580: I tensorflow/core/common_runtime/gpu/gpu_device.cc:1639] Created device /job:localhost/replica:0/task:0/device:GPU:0 with 1466 MB memory:  -> device: 0, name: NVIDIA GeForce RTX 3060 Ti, pci bus id: 0000:05:00.0, compute capability: 8.6\n"
     ]
    }
   ],
   "source": [
    "train_ds = tf.data.Dataset.from_tensor_slices({**train_df})\n",
    "print( train_ds )\n",
    "validation_ds = tf.data.Dataset.from_tensor_slices({**validation_df})\n",
    "print( validation_ds )"
   ]
  },
  {
   "cell_type": "code",
   "execution_count": 14,
   "id": "24d28035",
   "metadata": {},
   "outputs": [],
   "source": [
    "def load_image(sample):\n",
    "    file_path = sample['file_path']\n",
    "    image_bytes = tf.io.read_file(file_path)\n",
    "    image = tf.io.decode_image(image_bytes, channels=3, expand_animations=False)\n",
    "    sample['image'] = image\n",
    "    return sample\n",
    "\n",
    "def preprocess_image(sample):\n",
    "    image = tf.image.convert_image_dtype(sample['image'], tf.float32)\n",
    "    image = tf.image.resize(image, [224, 224])\n",
    "    sample['image'] = image\n",
    "    return sample\n",
    "\n",
    "def transform_data_for_keras_fit(sample):\n",
    "    return sample['image'], tuple(sample[label] for label in labels)"
   ]
  },
  {
   "cell_type": "code",
   "execution_count": 17,
   "id": "56259ccc",
   "metadata": {},
   "outputs": [
    {
     "ename": "TypeError",
     "evalue": "in user code:\n\n    File \"/tmp/ipykernel_121/1732407592.py\", line 3, in load_image  *\n        _, file_ext = os.path.splitext(file_path)\n    File \"/usr/lib/python3.8/posixpath.py\", line 118, in splitext  **\n        p = os.fspath(p)\n\n    TypeError: expected str, bytes or os.PathLike object, not Tensor\n",
     "output_type": "error",
     "traceback": [
      "\u001b[0;31m---------------------------------------------------------------------------\u001b[0m",
      "\u001b[0;31mTypeError\u001b[0m                                 Traceback (most recent call last)",
      "Cell \u001b[0;32mIn[17], line 1\u001b[0m\n\u001b[0;32m----> 1\u001b[0m trainable_ds \u001b[38;5;241m=\u001b[39m \u001b[43mtrain_ds\u001b[49m\u001b[38;5;241;43m.\u001b[39;49m\u001b[43mmap\u001b[49m\u001b[43m(\u001b[49m\u001b[43mload_image\u001b[49m\u001b[43m)\u001b[49m\u001b[38;5;241m.\u001b[39mmap(preprocess_image)\u001b[38;5;241m.\u001b[39mmap(transform_data_for_keras_fit)\u001b[38;5;241m.\u001b[39mbatch(\u001b[38;5;241m32\u001b[39m)\n\u001b[1;32m      2\u001b[0m testable_ds \u001b[38;5;241m=\u001b[39m validation_ds\u001b[38;5;241m.\u001b[39mmap(load_image)\u001b[38;5;241m.\u001b[39mmap(preprocess_image)\u001b[38;5;241m.\u001b[39mmap(transform_data_for_keras_fit)\u001b[38;5;241m.\u001b[39mbatch(\u001b[38;5;241m32\u001b[39m)\n\u001b[1;32m      3\u001b[0m \u001b[38;5;28mprint\u001b[39m( trainable_ds )\n",
      "File \u001b[0;32m/usr/local/lib/python3.8/dist-packages/tensorflow/python/data/ops/dataset_ops.py:2278\u001b[0m, in \u001b[0;36mDatasetV2.map\u001b[0;34m(self, map_func, num_parallel_calls, deterministic, name)\u001b[0m\n\u001b[1;32m   2274\u001b[0m \u001b[38;5;66;03m# Loaded lazily due to a circular dependency (dataset_ops -> map_op ->\u001b[39;00m\n\u001b[1;32m   2275\u001b[0m \u001b[38;5;66;03m# dataset_ops).\u001b[39;00m\n\u001b[1;32m   2276\u001b[0m \u001b[38;5;66;03m# pylint: disable=g-import-not-at-top,protected-access\u001b[39;00m\n\u001b[1;32m   2277\u001b[0m \u001b[38;5;28;01mfrom\u001b[39;00m \u001b[38;5;21;01mtensorflow\u001b[39;00m\u001b[38;5;21;01m.\u001b[39;00m\u001b[38;5;21;01mpython\u001b[39;00m\u001b[38;5;21;01m.\u001b[39;00m\u001b[38;5;21;01mdata\u001b[39;00m\u001b[38;5;21;01m.\u001b[39;00m\u001b[38;5;21;01mops\u001b[39;00m \u001b[38;5;28;01mimport\u001b[39;00m map_op\n\u001b[0;32m-> 2278\u001b[0m \u001b[38;5;28;01mreturn\u001b[39;00m \u001b[43mmap_op\u001b[49m\u001b[38;5;241;43m.\u001b[39;49m\u001b[43m_map_v2\u001b[49m\u001b[43m(\u001b[49m\n\u001b[1;32m   2279\u001b[0m \u001b[43m    \u001b[49m\u001b[38;5;28;43mself\u001b[39;49m\u001b[43m,\u001b[49m\n\u001b[1;32m   2280\u001b[0m \u001b[43m    \u001b[49m\u001b[43mmap_func\u001b[49m\u001b[43m,\u001b[49m\n\u001b[1;32m   2281\u001b[0m \u001b[43m    \u001b[49m\u001b[43mnum_parallel_calls\u001b[49m\u001b[38;5;241;43m=\u001b[39;49m\u001b[43mnum_parallel_calls\u001b[49m\u001b[43m,\u001b[49m\n\u001b[1;32m   2282\u001b[0m \u001b[43m    \u001b[49m\u001b[43mdeterministic\u001b[49m\u001b[38;5;241;43m=\u001b[39;49m\u001b[43mdeterministic\u001b[49m\u001b[43m,\u001b[49m\n\u001b[1;32m   2283\u001b[0m \u001b[43m    \u001b[49m\u001b[43mname\u001b[49m\u001b[38;5;241;43m=\u001b[39;49m\u001b[43mname\u001b[49m\u001b[43m)\u001b[49m\n",
      "File \u001b[0;32m/usr/local/lib/python3.8/dist-packages/tensorflow/python/data/ops/map_op.py:37\u001b[0m, in \u001b[0;36m_map_v2\u001b[0;34m(input_dataset, map_func, num_parallel_calls, deterministic, name)\u001b[0m\n\u001b[1;32m     34\u001b[0m   \u001b[38;5;28;01mif\u001b[39;00m deterministic \u001b[38;5;129;01mis\u001b[39;00m \u001b[38;5;129;01mnot\u001b[39;00m \u001b[38;5;28;01mNone\u001b[39;00m \u001b[38;5;129;01mand\u001b[39;00m \u001b[38;5;129;01mnot\u001b[39;00m debug_mode\u001b[38;5;241m.\u001b[39mDEBUG_MODE:\n\u001b[1;32m     35\u001b[0m     warnings\u001b[38;5;241m.\u001b[39mwarn(\u001b[38;5;124m\"\u001b[39m\u001b[38;5;124mThe `deterministic` argument has no effect unless the \u001b[39m\u001b[38;5;124m\"\u001b[39m\n\u001b[1;32m     36\u001b[0m                   \u001b[38;5;124m\"\u001b[39m\u001b[38;5;124m`num_parallel_calls` argument is specified.\u001b[39m\u001b[38;5;124m\"\u001b[39m)\n\u001b[0;32m---> 37\u001b[0m   \u001b[38;5;28;01mreturn\u001b[39;00m \u001b[43m_MapDataset\u001b[49m\u001b[43m(\u001b[49m\n\u001b[1;32m     38\u001b[0m \u001b[43m      \u001b[49m\u001b[43minput_dataset\u001b[49m\u001b[43m,\u001b[49m\u001b[43m \u001b[49m\u001b[43mmap_func\u001b[49m\u001b[43m,\u001b[49m\u001b[43m \u001b[49m\u001b[43mpreserve_cardinality\u001b[49m\u001b[38;5;241;43m=\u001b[39;49m\u001b[38;5;28;43;01mTrue\u001b[39;49;00m\u001b[43m,\u001b[49m\u001b[43m \u001b[49m\u001b[43mname\u001b[49m\u001b[38;5;241;43m=\u001b[39;49m\u001b[43mname\u001b[49m\u001b[43m)\u001b[49m\n\u001b[1;32m     39\u001b[0m \u001b[38;5;28;01melse\u001b[39;00m:\n\u001b[1;32m     40\u001b[0m   \u001b[38;5;28;01mreturn\u001b[39;00m _ParallelMapDataset(\n\u001b[1;32m     41\u001b[0m       input_dataset,\n\u001b[1;32m     42\u001b[0m       map_func,\n\u001b[0;32m   (...)\u001b[0m\n\u001b[1;32m     45\u001b[0m       preserve_cardinality\u001b[38;5;241m=\u001b[39m\u001b[38;5;28;01mTrue\u001b[39;00m,\n\u001b[1;32m     46\u001b[0m       name\u001b[38;5;241m=\u001b[39mname)\n",
      "File \u001b[0;32m/usr/local/lib/python3.8/dist-packages/tensorflow/python/data/ops/map_op.py:107\u001b[0m, in \u001b[0;36m_MapDataset.__init__\u001b[0;34m(self, input_dataset, map_func, use_inter_op_parallelism, preserve_cardinality, use_legacy_function, name)\u001b[0m\n\u001b[1;32m    105\u001b[0m \u001b[38;5;28mself\u001b[39m\u001b[38;5;241m.\u001b[39m_use_inter_op_parallelism \u001b[38;5;241m=\u001b[39m use_inter_op_parallelism\n\u001b[1;32m    106\u001b[0m \u001b[38;5;28mself\u001b[39m\u001b[38;5;241m.\u001b[39m_preserve_cardinality \u001b[38;5;241m=\u001b[39m preserve_cardinality\n\u001b[0;32m--> 107\u001b[0m \u001b[38;5;28mself\u001b[39m\u001b[38;5;241m.\u001b[39m_map_func \u001b[38;5;241m=\u001b[39m \u001b[43mstructured_function\u001b[49m\u001b[38;5;241;43m.\u001b[39;49m\u001b[43mStructuredFunctionWrapper\u001b[49m\u001b[43m(\u001b[49m\n\u001b[1;32m    108\u001b[0m \u001b[43m    \u001b[49m\u001b[43mmap_func\u001b[49m\u001b[43m,\u001b[49m\n\u001b[1;32m    109\u001b[0m \u001b[43m    \u001b[49m\u001b[38;5;28;43mself\u001b[39;49m\u001b[38;5;241;43m.\u001b[39;49m\u001b[43m_transformation_name\u001b[49m\u001b[43m(\u001b[49m\u001b[43m)\u001b[49m\u001b[43m,\u001b[49m\n\u001b[1;32m    110\u001b[0m \u001b[43m    \u001b[49m\u001b[43mdataset\u001b[49m\u001b[38;5;241;43m=\u001b[39;49m\u001b[43minput_dataset\u001b[49m\u001b[43m,\u001b[49m\n\u001b[1;32m    111\u001b[0m \u001b[43m    \u001b[49m\u001b[43muse_legacy_function\u001b[49m\u001b[38;5;241;43m=\u001b[39;49m\u001b[43muse_legacy_function\u001b[49m\u001b[43m)\u001b[49m\n\u001b[1;32m    112\u001b[0m \u001b[38;5;28mself\u001b[39m\u001b[38;5;241m.\u001b[39m_name \u001b[38;5;241m=\u001b[39m name\n\u001b[1;32m    113\u001b[0m variant_tensor \u001b[38;5;241m=\u001b[39m gen_dataset_ops\u001b[38;5;241m.\u001b[39mmap_dataset(\n\u001b[1;32m    114\u001b[0m     input_dataset\u001b[38;5;241m.\u001b[39m_variant_tensor,  \u001b[38;5;66;03m# pylint: disable=protected-access\u001b[39;00m\n\u001b[1;32m    115\u001b[0m     \u001b[38;5;28mself\u001b[39m\u001b[38;5;241m.\u001b[39m_map_func\u001b[38;5;241m.\u001b[39mfunction\u001b[38;5;241m.\u001b[39mcaptured_inputs,\n\u001b[0;32m   (...)\u001b[0m\n\u001b[1;32m    118\u001b[0m     preserve_cardinality\u001b[38;5;241m=\u001b[39m\u001b[38;5;28mself\u001b[39m\u001b[38;5;241m.\u001b[39m_preserve_cardinality,\n\u001b[1;32m    119\u001b[0m     \u001b[38;5;241m*\u001b[39m\u001b[38;5;241m*\u001b[39m\u001b[38;5;28mself\u001b[39m\u001b[38;5;241m.\u001b[39m_common_args)\n",
      "File \u001b[0;32m/usr/local/lib/python3.8/dist-packages/tensorflow/python/data/ops/structured_function.py:272\u001b[0m, in \u001b[0;36mStructuredFunctionWrapper.__init__\u001b[0;34m(self, func, transformation_name, dataset, input_classes, input_shapes, input_types, input_structure, add_to_graph, use_legacy_function, defun_kwargs)\u001b[0m\n\u001b[1;32m    265\u001b[0m       warnings\u001b[38;5;241m.\u001b[39mwarn(\n\u001b[1;32m    266\u001b[0m           \u001b[38;5;124m\"\u001b[39m\u001b[38;5;124mEven though the `tf.config.experimental_run_functions_eagerly` \u001b[39m\u001b[38;5;124m\"\u001b[39m\n\u001b[1;32m    267\u001b[0m           \u001b[38;5;124m\"\u001b[39m\u001b[38;5;124moption is set, this option does not apply to tf.data functions. \u001b[39m\u001b[38;5;124m\"\u001b[39m\n\u001b[1;32m    268\u001b[0m           \u001b[38;5;124m\"\u001b[39m\u001b[38;5;124mTo force eager execution of tf.data functions, please use \u001b[39m\u001b[38;5;124m\"\u001b[39m\n\u001b[1;32m    269\u001b[0m           \u001b[38;5;124m\"\u001b[39m\u001b[38;5;124m`tf.data.experimental.enable_debug_mode()`.\u001b[39m\u001b[38;5;124m\"\u001b[39m)\n\u001b[1;32m    270\u001b[0m     fn_factory \u001b[38;5;241m=\u001b[39m trace_tf_function(defun_kwargs)\n\u001b[0;32m--> 272\u001b[0m \u001b[38;5;28mself\u001b[39m\u001b[38;5;241m.\u001b[39m_function \u001b[38;5;241m=\u001b[39m \u001b[43mfn_factory\u001b[49m\u001b[43m(\u001b[49m\u001b[43m)\u001b[49m\n\u001b[1;32m    273\u001b[0m \u001b[38;5;66;03m# There is no graph to add in eager mode.\u001b[39;00m\n\u001b[1;32m    274\u001b[0m add_to_graph \u001b[38;5;241m&\u001b[39m\u001b[38;5;241m=\u001b[39m \u001b[38;5;129;01mnot\u001b[39;00m context\u001b[38;5;241m.\u001b[39mexecuting_eagerly()\n",
      "File \u001b[0;32m/usr/local/lib/python3.8/dist-packages/tensorflow/python/eager/polymorphic_function/polymorphic_function.py:1189\u001b[0m, in \u001b[0;36mFunction.get_concrete_function\u001b[0;34m(self, *args, **kwargs)\u001b[0m\n\u001b[1;32m   1187\u001b[0m \u001b[38;5;28;01mdef\u001b[39;00m \u001b[38;5;21mget_concrete_function\u001b[39m(\u001b[38;5;28mself\u001b[39m, \u001b[38;5;241m*\u001b[39margs, \u001b[38;5;241m*\u001b[39m\u001b[38;5;241m*\u001b[39mkwargs):\n\u001b[1;32m   1188\u001b[0m   \u001b[38;5;66;03m# Implements GenericFunction.get_concrete_function.\u001b[39;00m\n\u001b[0;32m-> 1189\u001b[0m   concrete \u001b[38;5;241m=\u001b[39m \u001b[38;5;28;43mself\u001b[39;49m\u001b[38;5;241;43m.\u001b[39;49m\u001b[43m_get_concrete_function_garbage_collected\u001b[49m\u001b[43m(\u001b[49m\u001b[38;5;241;43m*\u001b[39;49m\u001b[43margs\u001b[49m\u001b[43m,\u001b[49m\u001b[43m \u001b[49m\u001b[38;5;241;43m*\u001b[39;49m\u001b[38;5;241;43m*\u001b[39;49m\u001b[43mkwargs\u001b[49m\u001b[43m)\u001b[49m\n\u001b[1;32m   1190\u001b[0m   concrete\u001b[38;5;241m.\u001b[39m_garbage_collector\u001b[38;5;241m.\u001b[39mrelease()  \u001b[38;5;66;03m# pylint: disable=protected-access\u001b[39;00m\n\u001b[1;32m   1191\u001b[0m   \u001b[38;5;28;01mreturn\u001b[39;00m concrete\n",
      "File \u001b[0;32m/usr/local/lib/python3.8/dist-packages/tensorflow/python/eager/polymorphic_function/polymorphic_function.py:1169\u001b[0m, in \u001b[0;36mFunction._get_concrete_function_garbage_collected\u001b[0;34m(self, *args, **kwargs)\u001b[0m\n\u001b[1;32m   1167\u001b[0m   \u001b[38;5;28;01mif\u001b[39;00m \u001b[38;5;28mself\u001b[39m\u001b[38;5;241m.\u001b[39m_variable_creation_fn \u001b[38;5;129;01mis\u001b[39;00m \u001b[38;5;28;01mNone\u001b[39;00m:\n\u001b[1;32m   1168\u001b[0m     initializers \u001b[38;5;241m=\u001b[39m []\n\u001b[0;32m-> 1169\u001b[0m     \u001b[38;5;28;43mself\u001b[39;49m\u001b[38;5;241;43m.\u001b[39;49m\u001b[43m_initialize\u001b[49m\u001b[43m(\u001b[49m\u001b[43margs\u001b[49m\u001b[43m,\u001b[49m\u001b[43m \u001b[49m\u001b[43mkwargs\u001b[49m\u001b[43m,\u001b[49m\u001b[43m \u001b[49m\u001b[43madd_initializers_to\u001b[49m\u001b[38;5;241;43m=\u001b[39;49m\u001b[43minitializers\u001b[49m\u001b[43m)\u001b[49m\n\u001b[1;32m   1170\u001b[0m     \u001b[38;5;28mself\u001b[39m\u001b[38;5;241m.\u001b[39m_initialize_uninitialized_variables(initializers)\n\u001b[1;32m   1172\u001b[0m \u001b[38;5;28;01mif\u001b[39;00m \u001b[38;5;28mself\u001b[39m\u001b[38;5;241m.\u001b[39m_created_variables:\n\u001b[1;32m   1173\u001b[0m   \u001b[38;5;66;03m# In this case we have created variables on the first call, so we run the\u001b[39;00m\n\u001b[1;32m   1174\u001b[0m   \u001b[38;5;66;03m# version which is guaranteed to never create variables.\u001b[39;00m\n",
      "File \u001b[0;32m/usr/local/lib/python3.8/dist-packages/tensorflow/python/eager/polymorphic_function/polymorphic_function.py:694\u001b[0m, in \u001b[0;36mFunction._initialize\u001b[0;34m(self, args, kwds, add_initializers_to)\u001b[0m\n\u001b[1;32m    691\u001b[0m \u001b[38;5;28mself\u001b[39m\u001b[38;5;241m.\u001b[39m_variable_creation_fn\u001b[38;5;241m.\u001b[39m_name \u001b[38;5;241m=\u001b[39m \u001b[38;5;28mself\u001b[39m\u001b[38;5;241m.\u001b[39m_name  \u001b[38;5;66;03m# pylint: disable=protected-access\u001b[39;00m\n\u001b[1;32m    692\u001b[0m \u001b[38;5;66;03m# Force the definition of the function for these arguments\u001b[39;00m\n\u001b[1;32m    693\u001b[0m \u001b[38;5;28mself\u001b[39m\u001b[38;5;241m.\u001b[39m_concrete_variable_creation_fn \u001b[38;5;241m=\u001b[39m (\n\u001b[0;32m--> 694\u001b[0m     \u001b[38;5;28;43mself\u001b[39;49m\u001b[38;5;241;43m.\u001b[39;49m\u001b[43m_variable_creation_fn\u001b[49m\u001b[43m    \u001b[49m\u001b[38;5;66;43;03m# pylint: disable=protected-access\u001b[39;49;00m\n\u001b[1;32m    695\u001b[0m \u001b[43m    \u001b[49m\u001b[38;5;241;43m.\u001b[39;49m\u001b[43m_get_concrete_function_internal_garbage_collected\u001b[49m\u001b[43m(\u001b[49m\n\u001b[1;32m    696\u001b[0m \u001b[43m        \u001b[49m\u001b[38;5;241;43m*\u001b[39;49m\u001b[43margs\u001b[49m\u001b[43m,\u001b[49m\u001b[43m \u001b[49m\u001b[38;5;241;43m*\u001b[39;49m\u001b[38;5;241;43m*\u001b[39;49m\u001b[43mkwds\u001b[49m\u001b[43m)\u001b[49m)\n\u001b[1;32m    698\u001b[0m \u001b[38;5;28;01mdef\u001b[39;00m \u001b[38;5;21minvalid_creator_scope\u001b[39m(\u001b[38;5;241m*\u001b[39munused_args, \u001b[38;5;241m*\u001b[39m\u001b[38;5;241m*\u001b[39munused_kwds):\n\u001b[1;32m    699\u001b[0m \u001b[38;5;250m  \u001b[39m\u001b[38;5;124;03m\"\"\"Disables variable creation.\"\"\"\u001b[39;00m\n",
      "File \u001b[0;32m/usr/local/lib/python3.8/dist-packages/tensorflow/python/eager/polymorphic_function/tracing_compiler.py:176\u001b[0m, in \u001b[0;36mTracingCompiler._get_concrete_function_internal_garbage_collected\u001b[0;34m(self, *args, **kwargs)\u001b[0m\n\u001b[1;32m    174\u001b[0m \u001b[38;5;250m\u001b[39m\u001b[38;5;124;03m\"\"\"Returns a concrete function which cleans up its graph function.\"\"\"\u001b[39;00m\n\u001b[1;32m    175\u001b[0m \u001b[38;5;28;01mwith\u001b[39;00m \u001b[38;5;28mself\u001b[39m\u001b[38;5;241m.\u001b[39m_lock:\n\u001b[0;32m--> 176\u001b[0m   concrete_function, _ \u001b[38;5;241m=\u001b[39m \u001b[38;5;28;43mself\u001b[39;49m\u001b[38;5;241;43m.\u001b[39;49m\u001b[43m_maybe_define_concrete_function\u001b[49m\u001b[43m(\u001b[49m\u001b[43margs\u001b[49m\u001b[43m,\u001b[49m\u001b[43m \u001b[49m\u001b[43mkwargs\u001b[49m\u001b[43m)\u001b[49m\n\u001b[1;32m    177\u001b[0m \u001b[38;5;28;01mreturn\u001b[39;00m concrete_function\n",
      "File \u001b[0;32m/usr/local/lib/python3.8/dist-packages/tensorflow/python/eager/polymorphic_function/tracing_compiler.py:171\u001b[0m, in \u001b[0;36mTracingCompiler._maybe_define_concrete_function\u001b[0;34m(self, args, kwargs)\u001b[0m\n\u001b[1;32m    168\u001b[0m   args \u001b[38;5;241m=\u001b[39m \u001b[38;5;28mself\u001b[39m\u001b[38;5;241m.\u001b[39minput_signature\n\u001b[1;32m    169\u001b[0m   kwargs \u001b[38;5;241m=\u001b[39m {}\n\u001b[0;32m--> 171\u001b[0m \u001b[38;5;28;01mreturn\u001b[39;00m \u001b[38;5;28;43mself\u001b[39;49m\u001b[38;5;241;43m.\u001b[39;49m\u001b[43m_maybe_define_function\u001b[49m\u001b[43m(\u001b[49m\u001b[43margs\u001b[49m\u001b[43m,\u001b[49m\u001b[43m \u001b[49m\u001b[43mkwargs\u001b[49m\u001b[43m)\u001b[49m\n",
      "File \u001b[0;32m/usr/local/lib/python3.8/dist-packages/tensorflow/python/eager/polymorphic_function/tracing_compiler.py:398\u001b[0m, in \u001b[0;36mTracingCompiler._maybe_define_function\u001b[0;34m(self, args, kwargs)\u001b[0m\n\u001b[1;32m    395\u001b[0m args \u001b[38;5;241m=\u001b[39m placeholder_bound_args\u001b[38;5;241m.\u001b[39margs\n\u001b[1;32m    396\u001b[0m kwargs \u001b[38;5;241m=\u001b[39m placeholder_bound_args\u001b[38;5;241m.\u001b[39mkwargs\n\u001b[0;32m--> 398\u001b[0m concrete_function \u001b[38;5;241m=\u001b[39m \u001b[38;5;28;43mself\u001b[39;49m\u001b[38;5;241;43m.\u001b[39;49m\u001b[43m_create_concrete_function\u001b[49m\u001b[43m(\u001b[49m\n\u001b[1;32m    399\u001b[0m \u001b[43m    \u001b[49m\u001b[43margs\u001b[49m\u001b[43m,\u001b[49m\u001b[43m \u001b[49m\u001b[43mkwargs\u001b[49m\u001b[43m,\u001b[49m\u001b[43m \u001b[49m\u001b[43mfunc_graph\u001b[49m\u001b[43m)\u001b[49m\n\u001b[1;32m    401\u001b[0m \u001b[38;5;66;03m# TODO(b/263520817): Remove access to private attribute.\u001b[39;00m\n\u001b[1;32m    402\u001b[0m graph_capture_container \u001b[38;5;241m=\u001b[39m concrete_function\u001b[38;5;241m.\u001b[39mgraph\u001b[38;5;241m.\u001b[39mfunction_captures\n",
      "File \u001b[0;32m/usr/local/lib/python3.8/dist-packages/tensorflow/python/eager/polymorphic_function/tracing_compiler.py:305\u001b[0m, in \u001b[0;36mTracingCompiler._create_concrete_function\u001b[0;34m(self, args, kwargs, func_graph)\u001b[0m\n\u001b[1;32m    301\u001b[0m \u001b[38;5;28;01melse\u001b[39;00m:\n\u001b[1;32m    302\u001b[0m   arg_names \u001b[38;5;241m=\u001b[39m base_arg_names\n\u001b[1;32m    304\u001b[0m concrete_function \u001b[38;5;241m=\u001b[39m monomorphic_function\u001b[38;5;241m.\u001b[39mConcreteFunction(\n\u001b[0;32m--> 305\u001b[0m     \u001b[43mfunc_graph_module\u001b[49m\u001b[38;5;241;43m.\u001b[39;49m\u001b[43mfunc_graph_from_py_func\u001b[49m\u001b[43m(\u001b[49m\n\u001b[1;32m    306\u001b[0m \u001b[43m        \u001b[49m\u001b[38;5;28;43mself\u001b[39;49m\u001b[38;5;241;43m.\u001b[39;49m\u001b[43m_name\u001b[49m\u001b[43m,\u001b[49m\n\u001b[1;32m    307\u001b[0m \u001b[43m        \u001b[49m\u001b[38;5;28;43mself\u001b[39;49m\u001b[38;5;241;43m.\u001b[39;49m\u001b[43m_python_function\u001b[49m\u001b[43m,\u001b[49m\n\u001b[1;32m    308\u001b[0m \u001b[43m        \u001b[49m\u001b[43margs\u001b[49m\u001b[43m,\u001b[49m\n\u001b[1;32m    309\u001b[0m \u001b[43m        \u001b[49m\u001b[43mkwargs\u001b[49m\u001b[43m,\u001b[49m\n\u001b[1;32m    310\u001b[0m \u001b[43m        \u001b[49m\u001b[38;5;28;43;01mNone\u001b[39;49;00m\u001b[43m,\u001b[49m\n\u001b[1;32m    311\u001b[0m \u001b[43m        \u001b[49m\u001b[43mfunc_graph\u001b[49m\u001b[38;5;241;43m=\u001b[39;49m\u001b[43mfunc_graph\u001b[49m\u001b[43m,\u001b[49m\n\u001b[1;32m    312\u001b[0m \u001b[43m        \u001b[49m\u001b[43marg_names\u001b[49m\u001b[38;5;241;43m=\u001b[39;49m\u001b[43marg_names\u001b[49m\u001b[43m,\u001b[49m\n\u001b[1;32m    313\u001b[0m \u001b[43m        \u001b[49m\u001b[43mcapture_by_value\u001b[49m\u001b[38;5;241;43m=\u001b[39;49m\u001b[38;5;28;43mself\u001b[39;49m\u001b[38;5;241;43m.\u001b[39;49m\u001b[43m_capture_by_value\u001b[49m\u001b[43m,\u001b[49m\n\u001b[1;32m    314\u001b[0m \u001b[43m        \u001b[49m\u001b[43mcreate_placeholders\u001b[49m\u001b[38;5;241;43m=\u001b[39;49m\u001b[38;5;28;43;01mFalse\u001b[39;49;00m\u001b[43m)\u001b[49m,\n\u001b[1;32m    315\u001b[0m     \u001b[38;5;28mself\u001b[39m\u001b[38;5;241m.\u001b[39m_function_attributes,\n\u001b[1;32m    316\u001b[0m     spec\u001b[38;5;241m=\u001b[39m\u001b[38;5;28mself\u001b[39m\u001b[38;5;241m.\u001b[39mfunction_spec,\n\u001b[1;32m    317\u001b[0m     \u001b[38;5;66;03m# Tell the ConcreteFunction to clean up its graph once it goes out of\u001b[39;00m\n\u001b[1;32m    318\u001b[0m     \u001b[38;5;66;03m# scope. This is not the default behavior since it gets used in some\u001b[39;00m\n\u001b[1;32m    319\u001b[0m     \u001b[38;5;66;03m# places (like Keras) where the FuncGraph lives longer than the\u001b[39;00m\n\u001b[1;32m    320\u001b[0m     \u001b[38;5;66;03m# ConcreteFunction.\u001b[39;00m\n\u001b[1;32m    321\u001b[0m     shared_func_graph\u001b[38;5;241m=\u001b[39m\u001b[38;5;28;01mFalse\u001b[39;00m)\n\u001b[1;32m    322\u001b[0m \u001b[38;5;28;01mreturn\u001b[39;00m concrete_function\n",
      "File \u001b[0;32m/usr/local/lib/python3.8/dist-packages/tensorflow/python/framework/func_graph.py:1055\u001b[0m, in \u001b[0;36mfunc_graph_from_py_func\u001b[0;34m(name, python_func, args, kwargs, signature, func_graph, add_control_dependencies, arg_names, op_return_value, collections, capture_by_value, create_placeholders)\u001b[0m\n\u001b[1;32m   1052\u001b[0m   \u001b[38;5;28;01mreturn\u001b[39;00m x\n\u001b[1;32m   1054\u001b[0m _, original_func \u001b[38;5;241m=\u001b[39m tf_decorator\u001b[38;5;241m.\u001b[39munwrap(python_func)\n\u001b[0;32m-> 1055\u001b[0m func_outputs \u001b[38;5;241m=\u001b[39m \u001b[43mpython_func\u001b[49m\u001b[43m(\u001b[49m\u001b[38;5;241;43m*\u001b[39;49m\u001b[43mfunc_args\u001b[49m\u001b[43m,\u001b[49m\u001b[43m \u001b[49m\u001b[38;5;241;43m*\u001b[39;49m\u001b[38;5;241;43m*\u001b[39;49m\u001b[43mfunc_kwargs\u001b[49m\u001b[43m)\u001b[49m\n\u001b[1;32m   1057\u001b[0m \u001b[38;5;66;03m# invariant: `func_outputs` contains only Tensors, CompositeTensors,\u001b[39;00m\n\u001b[1;32m   1058\u001b[0m \u001b[38;5;66;03m# TensorArrays and `None`s.\u001b[39;00m\n\u001b[1;32m   1059\u001b[0m func_outputs \u001b[38;5;241m=\u001b[39m variable_utils\u001b[38;5;241m.\u001b[39mconvert_variables_to_tensors(func_outputs)\n",
      "File \u001b[0;32m/usr/local/lib/python3.8/dist-packages/tensorflow/python/eager/polymorphic_function/polymorphic_function.py:597\u001b[0m, in \u001b[0;36mFunction._compiler_with_scope.<locals>.wrapped_fn\u001b[0;34m(*args, **kwds)\u001b[0m\n\u001b[1;32m    593\u001b[0m \u001b[38;5;28;01mwith\u001b[39;00m default_graph\u001b[38;5;241m.\u001b[39m_variable_creator_scope(scope, priority\u001b[38;5;241m=\u001b[39m\u001b[38;5;241m50\u001b[39m):  \u001b[38;5;66;03m# pylint: disable=protected-access\u001b[39;00m\n\u001b[1;32m    594\u001b[0m   \u001b[38;5;66;03m# __wrapped__ allows AutoGraph to swap in a converted function. We give\u001b[39;00m\n\u001b[1;32m    595\u001b[0m   \u001b[38;5;66;03m# the function a weak reference to itself to avoid a reference cycle.\u001b[39;00m\n\u001b[1;32m    596\u001b[0m   \u001b[38;5;28;01mwith\u001b[39;00m OptionalXlaContext(compile_with_xla):\n\u001b[0;32m--> 597\u001b[0m     out \u001b[38;5;241m=\u001b[39m \u001b[43mweak_wrapped_fn\u001b[49m\u001b[43m(\u001b[49m\u001b[43m)\u001b[49m\u001b[38;5;241;43m.\u001b[39;49m\u001b[43m__wrapped__\u001b[49m\u001b[43m(\u001b[49m\u001b[38;5;241;43m*\u001b[39;49m\u001b[43margs\u001b[49m\u001b[43m,\u001b[49m\u001b[43m \u001b[49m\u001b[38;5;241;43m*\u001b[39;49m\u001b[38;5;241;43m*\u001b[39;49m\u001b[43mkwds\u001b[49m\u001b[43m)\u001b[49m\n\u001b[1;32m    598\u001b[0m   \u001b[38;5;28;01mreturn\u001b[39;00m out\n",
      "File \u001b[0;32m/usr/local/lib/python3.8/dist-packages/tensorflow/python/data/ops/structured_function.py:238\u001b[0m, in \u001b[0;36mStructuredFunctionWrapper.__init__.<locals>.trace_tf_function.<locals>.wrapped_fn\u001b[0;34m(*args)\u001b[0m\n\u001b[1;32m    237\u001b[0m \u001b[38;5;28;01mdef\u001b[39;00m \u001b[38;5;21mwrapped_fn\u001b[39m(\u001b[38;5;241m*\u001b[39margs):  \u001b[38;5;66;03m# pylint: disable=missing-docstring\u001b[39;00m\n\u001b[0;32m--> 238\u001b[0m   ret \u001b[38;5;241m=\u001b[39m \u001b[43mwrapper_helper\u001b[49m\u001b[43m(\u001b[49m\u001b[38;5;241;43m*\u001b[39;49m\u001b[43margs\u001b[49m\u001b[43m)\u001b[49m\n\u001b[1;32m    239\u001b[0m   ret \u001b[38;5;241m=\u001b[39m structure\u001b[38;5;241m.\u001b[39mto_tensor_list(\u001b[38;5;28mself\u001b[39m\u001b[38;5;241m.\u001b[39m_output_structure, ret)\n\u001b[1;32m    240\u001b[0m   \u001b[38;5;28;01mreturn\u001b[39;00m [ops\u001b[38;5;241m.\u001b[39mconvert_to_tensor(t) \u001b[38;5;28;01mfor\u001b[39;00m t \u001b[38;5;129;01min\u001b[39;00m ret]\n",
      "File \u001b[0;32m/usr/local/lib/python3.8/dist-packages/tensorflow/python/data/ops/structured_function.py:168\u001b[0m, in \u001b[0;36mStructuredFunctionWrapper.__init__.<locals>.wrapper_helper\u001b[0;34m(*args)\u001b[0m\n\u001b[1;32m    166\u001b[0m \u001b[38;5;28;01mif\u001b[39;00m \u001b[38;5;129;01mnot\u001b[39;00m _should_unpack(nested_args):\n\u001b[1;32m    167\u001b[0m   nested_args \u001b[38;5;241m=\u001b[39m (nested_args,)\n\u001b[0;32m--> 168\u001b[0m ret \u001b[38;5;241m=\u001b[39m \u001b[43mautograph\u001b[49m\u001b[38;5;241;43m.\u001b[39;49m\u001b[43mtf_convert\u001b[49m\u001b[43m(\u001b[49m\u001b[38;5;28;43mself\u001b[39;49m\u001b[38;5;241;43m.\u001b[39;49m\u001b[43m_func\u001b[49m\u001b[43m,\u001b[49m\u001b[43m \u001b[49m\u001b[43mag_ctx\u001b[49m\u001b[43m)\u001b[49m\u001b[43m(\u001b[49m\u001b[38;5;241;43m*\u001b[39;49m\u001b[43mnested_args\u001b[49m\u001b[43m)\u001b[49m\n\u001b[1;32m    169\u001b[0m ret \u001b[38;5;241m=\u001b[39m variable_utils\u001b[38;5;241m.\u001b[39mconvert_variables_to_tensors(ret)\n\u001b[1;32m    170\u001b[0m \u001b[38;5;28;01mif\u001b[39;00m _should_pack(ret):\n",
      "File \u001b[0;32m/usr/local/lib/python3.8/dist-packages/tensorflow/python/autograph/impl/api.py:693\u001b[0m, in \u001b[0;36mconvert.<locals>.decorator.<locals>.wrapper\u001b[0;34m(*args, **kwargs)\u001b[0m\n\u001b[1;32m    691\u001b[0m \u001b[38;5;28;01mexcept\u001b[39;00m \u001b[38;5;167;01mException\u001b[39;00m \u001b[38;5;28;01mas\u001b[39;00m e:  \u001b[38;5;66;03m# pylint:disable=broad-except\u001b[39;00m\n\u001b[1;32m    692\u001b[0m   \u001b[38;5;28;01mif\u001b[39;00m \u001b[38;5;28mhasattr\u001b[39m(e, \u001b[38;5;124m'\u001b[39m\u001b[38;5;124mag_error_metadata\u001b[39m\u001b[38;5;124m'\u001b[39m):\n\u001b[0;32m--> 693\u001b[0m     \u001b[38;5;28;01mraise\u001b[39;00m e\u001b[38;5;241m.\u001b[39mag_error_metadata\u001b[38;5;241m.\u001b[39mto_exception(e)\n\u001b[1;32m    694\u001b[0m   \u001b[38;5;28;01melse\u001b[39;00m:\n\u001b[1;32m    695\u001b[0m     \u001b[38;5;28;01mraise\u001b[39;00m\n",
      "File \u001b[0;32m/usr/local/lib/python3.8/dist-packages/tensorflow/python/autograph/impl/api.py:690\u001b[0m, in \u001b[0;36mconvert.<locals>.decorator.<locals>.wrapper\u001b[0;34m(*args, **kwargs)\u001b[0m\n\u001b[1;32m    688\u001b[0m \u001b[38;5;28;01mtry\u001b[39;00m:\n\u001b[1;32m    689\u001b[0m   \u001b[38;5;28;01mwith\u001b[39;00m conversion_ctx:\n\u001b[0;32m--> 690\u001b[0m     \u001b[38;5;28;01mreturn\u001b[39;00m \u001b[43mconverted_call\u001b[49m\u001b[43m(\u001b[49m\u001b[43mf\u001b[49m\u001b[43m,\u001b[49m\u001b[43m \u001b[49m\u001b[43margs\u001b[49m\u001b[43m,\u001b[49m\u001b[43m \u001b[49m\u001b[43mkwargs\u001b[49m\u001b[43m,\u001b[49m\u001b[43m \u001b[49m\u001b[43moptions\u001b[49m\u001b[38;5;241;43m=\u001b[39;49m\u001b[43moptions\u001b[49m\u001b[43m)\u001b[49m\n\u001b[1;32m    691\u001b[0m \u001b[38;5;28;01mexcept\u001b[39;00m \u001b[38;5;167;01mException\u001b[39;00m \u001b[38;5;28;01mas\u001b[39;00m e:  \u001b[38;5;66;03m# pylint:disable=broad-except\u001b[39;00m\n\u001b[1;32m    692\u001b[0m   \u001b[38;5;28;01mif\u001b[39;00m \u001b[38;5;28mhasattr\u001b[39m(e, \u001b[38;5;124m'\u001b[39m\u001b[38;5;124mag_error_metadata\u001b[39m\u001b[38;5;124m'\u001b[39m):\n",
      "File \u001b[0;32m/usr/local/lib/python3.8/dist-packages/tensorflow/python/autograph/impl/api.py:439\u001b[0m, in \u001b[0;36mconverted_call\u001b[0;34m(f, args, kwargs, caller_fn_scope, options)\u001b[0m\n\u001b[1;32m    437\u001b[0m \u001b[38;5;28;01mtry\u001b[39;00m:\n\u001b[1;32m    438\u001b[0m   \u001b[38;5;28;01mif\u001b[39;00m kwargs \u001b[38;5;129;01mis\u001b[39;00m \u001b[38;5;129;01mnot\u001b[39;00m \u001b[38;5;28;01mNone\u001b[39;00m:\n\u001b[0;32m--> 439\u001b[0m     result \u001b[38;5;241m=\u001b[39m \u001b[43mconverted_f\u001b[49m\u001b[43m(\u001b[49m\u001b[38;5;241;43m*\u001b[39;49m\u001b[43meffective_args\u001b[49m\u001b[43m,\u001b[49m\u001b[43m \u001b[49m\u001b[38;5;241;43m*\u001b[39;49m\u001b[38;5;241;43m*\u001b[39;49m\u001b[43mkwargs\u001b[49m\u001b[43m)\u001b[49m\n\u001b[1;32m    440\u001b[0m   \u001b[38;5;28;01melse\u001b[39;00m:\n\u001b[1;32m    441\u001b[0m     result \u001b[38;5;241m=\u001b[39m converted_f(\u001b[38;5;241m*\u001b[39meffective_args)\n",
      "File \u001b[0;32m/tmp/__autograph_generated_fileaxhz875n.py:11\u001b[0m, in \u001b[0;36mouter_factory.<locals>.inner_factory.<locals>.tf__load_image\u001b[0;34m(sample)\u001b[0m\n\u001b[1;32m      9\u001b[0m retval_ \u001b[38;5;241m=\u001b[39m ag__\u001b[38;5;241m.\u001b[39mUndefinedReturnValue()\n\u001b[1;32m     10\u001b[0m file_path \u001b[38;5;241m=\u001b[39m ag__\u001b[38;5;241m.\u001b[39mld(sample)[\u001b[38;5;124m'\u001b[39m\u001b[38;5;124mfile_path\u001b[39m\u001b[38;5;124m'\u001b[39m]\n\u001b[0;32m---> 11\u001b[0m (_, file_ext) \u001b[38;5;241m=\u001b[39m \u001b[43mag__\u001b[49m\u001b[38;5;241;43m.\u001b[39;49m\u001b[43mconverted_call\u001b[49m\u001b[43m(\u001b[49m\u001b[43mag__\u001b[49m\u001b[38;5;241;43m.\u001b[39;49m\u001b[43mld\u001b[49m\u001b[43m(\u001b[49m\u001b[43mos\u001b[49m\u001b[43m)\u001b[49m\u001b[38;5;241;43m.\u001b[39;49m\u001b[43mpath\u001b[49m\u001b[38;5;241;43m.\u001b[39;49m\u001b[43msplitext\u001b[49m\u001b[43m,\u001b[49m\u001b[43m \u001b[49m\u001b[43m(\u001b[49m\u001b[43mag__\u001b[49m\u001b[38;5;241;43m.\u001b[39;49m\u001b[43mld\u001b[49m\u001b[43m(\u001b[49m\u001b[43mfile_path\u001b[49m\u001b[43m)\u001b[49m\u001b[43m,\u001b[49m\u001b[43m)\u001b[49m\u001b[43m,\u001b[49m\u001b[43m \u001b[49m\u001b[38;5;28;43;01mNone\u001b[39;49;00m\u001b[43m,\u001b[49m\u001b[43m \u001b[49m\u001b[43mfscope\u001b[49m\u001b[43m)\u001b[49m\n\u001b[1;32m     13\u001b[0m \u001b[38;5;28;01mdef\u001b[39;00m \u001b[38;5;21mget_state\u001b[39m():\n\u001b[1;32m     14\u001b[0m     \u001b[38;5;28;01mreturn\u001b[39;00m (ag__\u001b[38;5;241m.\u001b[39mldu((\u001b[38;5;28;01mlambda\u001b[39;00m : sample[\u001b[38;5;124m'\u001b[39m\u001b[38;5;124mimage\u001b[39m\u001b[38;5;124m'\u001b[39m]), \u001b[38;5;124m\"\u001b[39m\u001b[38;5;124msample[\u001b[39m\u001b[38;5;124m'\u001b[39m\u001b[38;5;124mimage\u001b[39m\u001b[38;5;124m'\u001b[39m\u001b[38;5;124m]\u001b[39m\u001b[38;5;124m\"\u001b[39m),)\n",
      "File \u001b[0;32m/usr/local/lib/python3.8/dist-packages/tensorflow/python/autograph/impl/api.py:377\u001b[0m, in \u001b[0;36mconverted_call\u001b[0;34m(f, args, kwargs, caller_fn_scope, options)\u001b[0m\n\u001b[1;32m    374\u001b[0m   \u001b[38;5;28;01mreturn\u001b[39;00m _call_unconverted(f, args, kwargs, options)\n\u001b[1;32m    376\u001b[0m \u001b[38;5;28;01mif\u001b[39;00m \u001b[38;5;129;01mnot\u001b[39;00m options\u001b[38;5;241m.\u001b[39muser_requested \u001b[38;5;129;01mand\u001b[39;00m conversion\u001b[38;5;241m.\u001b[39mis_allowlisted(f):\n\u001b[0;32m--> 377\u001b[0m   \u001b[38;5;28;01mreturn\u001b[39;00m \u001b[43m_call_unconverted\u001b[49m\u001b[43m(\u001b[49m\u001b[43mf\u001b[49m\u001b[43m,\u001b[49m\u001b[43m \u001b[49m\u001b[43margs\u001b[49m\u001b[43m,\u001b[49m\u001b[43m \u001b[49m\u001b[43mkwargs\u001b[49m\u001b[43m,\u001b[49m\u001b[43m \u001b[49m\u001b[43moptions\u001b[49m\u001b[43m)\u001b[49m\n\u001b[1;32m    379\u001b[0m \u001b[38;5;66;03m# internal_convert_user_code is for example turned off when issuing a dynamic\u001b[39;00m\n\u001b[1;32m    380\u001b[0m \u001b[38;5;66;03m# call conversion from generated code while in nonrecursive mode. In that\u001b[39;00m\n\u001b[1;32m    381\u001b[0m \u001b[38;5;66;03m# case we evidently don't want to recurse, but we still have to convert\u001b[39;00m\n\u001b[1;32m    382\u001b[0m \u001b[38;5;66;03m# things like builtins.\u001b[39;00m\n\u001b[1;32m    383\u001b[0m \u001b[38;5;28;01mif\u001b[39;00m \u001b[38;5;129;01mnot\u001b[39;00m options\u001b[38;5;241m.\u001b[39minternal_convert_user_code:\n",
      "File \u001b[0;32m/usr/local/lib/python3.8/dist-packages/tensorflow/python/autograph/impl/api.py:460\u001b[0m, in \u001b[0;36m_call_unconverted\u001b[0;34m(f, args, kwargs, options, update_cache)\u001b[0m\n\u001b[1;32m    458\u001b[0m \u001b[38;5;28;01mif\u001b[39;00m kwargs \u001b[38;5;129;01mis\u001b[39;00m \u001b[38;5;129;01mnot\u001b[39;00m \u001b[38;5;28;01mNone\u001b[39;00m:\n\u001b[1;32m    459\u001b[0m   \u001b[38;5;28;01mreturn\u001b[39;00m f(\u001b[38;5;241m*\u001b[39margs, \u001b[38;5;241m*\u001b[39m\u001b[38;5;241m*\u001b[39mkwargs)\n\u001b[0;32m--> 460\u001b[0m \u001b[38;5;28;01mreturn\u001b[39;00m \u001b[43mf\u001b[49m\u001b[43m(\u001b[49m\u001b[38;5;241;43m*\u001b[39;49m\u001b[43margs\u001b[49m\u001b[43m)\u001b[49m\n",
      "File \u001b[0;32m/usr/lib/python3.8/posixpath.py:118\u001b[0m, in \u001b[0;36msplitext\u001b[0;34m(p)\u001b[0m\n\u001b[1;32m    117\u001b[0m \u001b[38;5;28;01mdef\u001b[39;00m \u001b[38;5;21msplitext\u001b[39m(p):\n\u001b[0;32m--> 118\u001b[0m     p \u001b[38;5;241m=\u001b[39m \u001b[43mos\u001b[49m\u001b[38;5;241;43m.\u001b[39;49m\u001b[43mfspath\u001b[49m\u001b[43m(\u001b[49m\u001b[43mp\u001b[49m\u001b[43m)\u001b[49m\n\u001b[1;32m    119\u001b[0m     \u001b[38;5;28;01mif\u001b[39;00m \u001b[38;5;28misinstance\u001b[39m(p, \u001b[38;5;28mbytes\u001b[39m):\n\u001b[1;32m    120\u001b[0m         sep \u001b[38;5;241m=\u001b[39m \u001b[38;5;124mb\u001b[39m\u001b[38;5;124m'\u001b[39m\u001b[38;5;124m/\u001b[39m\u001b[38;5;124m'\u001b[39m\n",
      "\u001b[0;31mTypeError\u001b[0m: in user code:\n\n    File \"/tmp/ipykernel_121/1732407592.py\", line 3, in load_image  *\n        _, file_ext = os.path.splitext(file_path)\n    File \"/usr/lib/python3.8/posixpath.py\", line 118, in splitext  **\n        p = os.fspath(p)\n\n    TypeError: expected str, bytes or os.PathLike object, not Tensor\n"
     ]
    }
   ],
   "source": [
    "trainable_ds = train_ds.map(load_image).map(preprocess_image).map(transform_data_for_keras_fit).batch(32)\n",
    "testable_ds = validation_ds.map(load_image).map(preprocess_image).map(transform_data_for_keras_fit).batch(32)\n",
    "print( trainable_ds )\n",
    "print( testable_ds )"
   ]
  },
  {
   "cell_type": "code",
   "execution_count": 12,
   "id": "19ab7fbc",
   "metadata": {},
   "outputs": [],
   "source": [
    "inputs = tf.keras.Input(shape=(224, 224, 3), name=\"image\")\n",
    "efficientnet_v2 = hub.KerasLayer('https://tfhub.dev/google/imagenet/efficientnet_v2_imagenet21k_ft1k_b3/feature_vector/2', \n",
    "                                 trainable=False)\n",
    "net = efficientnet_v2(inputs)\n",
    "# outputs = [tf.keras.layers.Dense(1, name='dense_'+label)(net) for label in labels]\n",
    "outputs = [tf.keras.layers.Dense(1, name=label, activation='sigmoid')(net) for label in labels]\n",
    "\n",
    "efficientnet_v2_step2 = tf.keras.Model(inputs=inputs, outputs=outputs)"
   ]
  },
  {
   "cell_type": "code",
   "execution_count": 13,
   "id": "91a8ec49",
   "metadata": {
    "scrolled": true
   },
   "outputs": [
    {
     "name": "stdout",
     "output_type": "stream",
     "text": [
      "Model: \"model\"\n",
      "__________________________________________________________________________________________________\n",
      " Layer (type)                Output Shape                 Param #   Connected to                  \n",
      "==================================================================================================\n",
      " image (InputLayer)          [(None, 224, 224, 3)]        0         []                            \n",
      "                                                                                                  \n",
      " keras_layer (KerasLayer)    (None, 1536)                 1293062   ['image[0][0]']               \n",
      "                                                          2                                       \n",
      "                                                                                                  \n",
      " 2logo_center (Dense)        (None, 1)                    1537      ['keras_layer[0][0]']         \n",
      "                                                                                                  \n",
      " 2logo_left (Dense)          (None, 1)                    1537      ['keras_layer[0][0]']         \n",
      "                                                                                                  \n",
      "==================================================================================================\n",
      "Total params: 12933696 (49.34 MB)\n",
      "Trainable params: 3074 (12.01 KB)\n",
      "Non-trainable params: 12930622 (49.33 MB)\n",
      "__________________________________________________________________________________________________\n"
     ]
    }
   ],
   "source": [
    "efficientnet_v2_step2.summary()"
   ]
  },
  {
   "cell_type": "code",
   "execution_count": 14,
   "id": "d3f8145e",
   "metadata": {},
   "outputs": [],
   "source": [
    "efficientnet_v2_step2.compile(\n",
    "    optimizer=tf.keras.optimizers.Adam(learning_rate=0.01),\n",
    "    loss=[tf.keras.losses.BinaryCrossentropy(name='binary_crossentropy_'+label) for label in labels],\n",
    "    metrics=tf.keras.metrics.BinaryAccuracy(),\n",
    ")"
   ]
  },
  {
   "cell_type": "code",
   "execution_count": 17,
   "id": "26d550ba",
   "metadata": {
    "scrolled": true
   },
   "outputs": [
    {
     "name": "stdout",
     "output_type": "stream",
     "text": [
      "Epoch 1/40\n",
      "946/946 [==============================] - 184s 194ms/step - loss: 0.5019 - 2logo_center_loss: 0.2516 - 2logo_left_loss: 0.2503 - 2logo_center_binary_accuracy: 0.8955 - 2logo_left_binary_accuracy: 0.8959 - val_loss: 1.1875 - val_2logo_center_loss: 0.5944 - val_2logo_left_loss: 0.5931 - val_2logo_center_binary_accuracy: 0.8019 - val_2logo_left_binary_accuracy: 0.8038\n",
      "Epoch 2/40\n",
      "946/946 [==============================] - 226s 238ms/step - loss: 0.5015 - 2logo_center_loss: 0.2514 - 2logo_left_loss: 0.2501 - 2logo_center_binary_accuracy: 0.8955 - 2logo_left_binary_accuracy: 0.8960 - val_loss: 1.1896 - val_2logo_center_loss: 0.5954 - val_2logo_left_loss: 0.5942 - val_2logo_center_binary_accuracy: 0.8020 - val_2logo_left_binary_accuracy: 0.8037\n",
      "Epoch 3/40\n",
      "946/946 [==============================] - 73s 77ms/step - loss: 0.5011 - 2logo_center_loss: 0.2512 - 2logo_left_loss: 0.2499 - 2logo_center_binary_accuracy: 0.8957 - 2logo_left_binary_accuracy: 0.8961 - val_loss: 1.1917 - val_2logo_center_loss: 0.5965 - val_2logo_left_loss: 0.5952 - val_2logo_center_binary_accuracy: 0.8020 - val_2logo_left_binary_accuracy: 0.8040\n",
      "Epoch 4/40\n",
      "946/946 [==============================] - 74s 78ms/step - loss: 0.5007 - 2logo_center_loss: 0.2510 - 2logo_left_loss: 0.2497 - 2logo_center_binary_accuracy: 0.8957 - 2logo_left_binary_accuracy: 0.8962 - val_loss: 1.1937 - val_2logo_center_loss: 0.5975 - val_2logo_left_loss: 0.5962 - val_2logo_center_binary_accuracy: 0.8017 - val_2logo_left_binary_accuracy: 0.8041\n",
      "Epoch 5/40\n",
      "946/946 [==============================] - 75s 80ms/step - loss: 0.5003 - 2logo_center_loss: 0.2508 - 2logo_left_loss: 0.2495 - 2logo_center_binary_accuracy: 0.8958 - 2logo_left_binary_accuracy: 0.8963 - val_loss: 1.1958 - val_2logo_center_loss: 0.5986 - val_2logo_left_loss: 0.5972 - val_2logo_center_binary_accuracy: 0.8016 - val_2logo_left_binary_accuracy: 0.8037\n",
      "Epoch 6/40\n",
      "946/946 [==============================] - 74s 79ms/step - loss: 0.4999 - 2logo_center_loss: 0.2506 - 2logo_left_loss: 0.2493 - 2logo_center_binary_accuracy: 0.8958 - 2logo_left_binary_accuracy: 0.8962 - val_loss: 1.1978 - val_2logo_center_loss: 0.5996 - val_2logo_left_loss: 0.5982 - val_2logo_center_binary_accuracy: 0.8015 - val_2logo_left_binary_accuracy: 0.8038\n",
      "Epoch 7/40\n",
      "946/946 [==============================] - 284s 300ms/step - loss: 0.4995 - 2logo_center_loss: 0.2504 - 2logo_left_loss: 0.2491 - 2logo_center_binary_accuracy: 0.8959 - 2logo_left_binary_accuracy: 0.8963 - val_loss: 1.1998 - val_2logo_center_loss: 0.6006 - val_2logo_left_loss: 0.5992 - val_2logo_center_binary_accuracy: 0.8016 - val_2logo_left_binary_accuracy: 0.8035\n",
      "Epoch 8/40\n",
      "946/946 [==============================] - 439s 464ms/step - loss: 0.4992 - 2logo_center_loss: 0.2502 - 2logo_left_loss: 0.2490 - 2logo_center_binary_accuracy: 0.8960 - 2logo_left_binary_accuracy: 0.8963 - val_loss: 1.2017 - val_2logo_center_loss: 0.6016 - val_2logo_left_loss: 0.6001 - val_2logo_center_binary_accuracy: 0.8016 - val_2logo_left_binary_accuracy: 0.8035\n",
      "Epoch 9/40\n",
      "946/946 [==============================] - 605s 640ms/step - loss: 0.4988 - 2logo_center_loss: 0.2500 - 2logo_left_loss: 0.2488 - 2logo_center_binary_accuracy: 0.8961 - 2logo_left_binary_accuracy: 0.8964 - val_loss: 1.2037 - val_2logo_center_loss: 0.6026 - val_2logo_left_loss: 0.6011 - val_2logo_center_binary_accuracy: 0.8016 - val_2logo_left_binary_accuracy: 0.8032\n",
      "Epoch 10/40\n",
      "946/946 [==============================] - 420s 444ms/step - loss: 0.4985 - 2logo_center_loss: 0.2499 - 2logo_left_loss: 0.2486 - 2logo_center_binary_accuracy: 0.8962 - 2logo_left_binary_accuracy: 0.8965 - val_loss: 1.2056 - val_2logo_center_loss: 0.6036 - val_2logo_left_loss: 0.6020 - val_2logo_center_binary_accuracy: 0.8017 - val_2logo_left_binary_accuracy: 0.8032\n",
      "Epoch 11/40\n",
      "946/946 [==============================] - 415s 438ms/step - loss: 0.4981 - 2logo_center_loss: 0.2497 - 2logo_left_loss: 0.2484 - 2logo_center_binary_accuracy: 0.8963 - 2logo_left_binary_accuracy: 0.8966 - val_loss: 1.2075 - val_2logo_center_loss: 0.6045 - val_2logo_left_loss: 0.6030 - val_2logo_center_binary_accuracy: 0.8014 - val_2logo_left_binary_accuracy: 0.8032\n",
      "Epoch 12/40\n",
      "946/946 [==============================] - 426s 450ms/step - loss: 0.4978 - 2logo_center_loss: 0.2495 - 2logo_left_loss: 0.2483 - 2logo_center_binary_accuracy: 0.8965 - 2logo_left_binary_accuracy: 0.8968 - val_loss: 1.2094 - val_2logo_center_loss: 0.6055 - val_2logo_left_loss: 0.6039 - val_2logo_center_binary_accuracy: 0.8013 - val_2logo_left_binary_accuracy: 0.8032\n",
      "Epoch 13/40\n",
      "946/946 [==============================] - 295s 312ms/step - loss: 0.4975 - 2logo_center_loss: 0.2494 - 2logo_left_loss: 0.2481 - 2logo_center_binary_accuracy: 0.8966 - 2logo_left_binary_accuracy: 0.8968 - val_loss: 1.2112 - val_2logo_center_loss: 0.6064 - val_2logo_left_loss: 0.6048 - val_2logo_center_binary_accuracy: 0.8012 - val_2logo_left_binary_accuracy: 0.8029\n",
      "Epoch 14/40\n",
      "946/946 [==============================] - 71s 76ms/step - loss: 0.4972 - 2logo_center_loss: 0.2492 - 2logo_left_loss: 0.2480 - 2logo_center_binary_accuracy: 0.8967 - 2logo_left_binary_accuracy: 0.8968 - val_loss: 1.2130 - val_2logo_center_loss: 0.6074 - val_2logo_left_loss: 0.6057 - val_2logo_center_binary_accuracy: 0.8012 - val_2logo_left_binary_accuracy: 0.8026\n",
      "Epoch 15/40\n",
      "946/946 [==============================] - 71s 75ms/step - loss: 0.4969 - 2logo_center_loss: 0.2491 - 2logo_left_loss: 0.2478 - 2logo_center_binary_accuracy: 0.8967 - 2logo_left_binary_accuracy: 0.8968 - val_loss: 1.2149 - val_2logo_center_loss: 0.6083 - val_2logo_left_loss: 0.6066 - val_2logo_center_binary_accuracy: 0.8012 - val_2logo_left_binary_accuracy: 0.8029\n",
      "Epoch 16/40\n",
      "946/946 [==============================] - 71s 76ms/step - loss: 0.4966 - 2logo_center_loss: 0.2489 - 2logo_left_loss: 0.2477 - 2logo_center_binary_accuracy: 0.8968 - 2logo_left_binary_accuracy: 0.8970 - val_loss: 1.2167 - val_2logo_center_loss: 0.6092 - val_2logo_left_loss: 0.6075 - val_2logo_center_binary_accuracy: 0.8011 - val_2logo_left_binary_accuracy: 0.8028\n",
      "Epoch 17/40\n",
      "946/946 [==============================] - 71s 76ms/step - loss: 0.4963 - 2logo_center_loss: 0.2488 - 2logo_left_loss: 0.2475 - 2logo_center_binary_accuracy: 0.8968 - 2logo_left_binary_accuracy: 0.8972 - val_loss: 1.2184 - val_2logo_center_loss: 0.6101 - val_2logo_left_loss: 0.6083 - val_2logo_center_binary_accuracy: 0.8012 - val_2logo_left_binary_accuracy: 0.8026\n",
      "Epoch 18/40\n",
      "946/946 [==============================] - 71s 76ms/step - loss: 0.4960 - 2logo_center_loss: 0.2486 - 2logo_left_loss: 0.2474 - 2logo_center_binary_accuracy: 0.8968 - 2logo_left_binary_accuracy: 0.8972 - val_loss: 1.2202 - val_2logo_center_loss: 0.6110 - val_2logo_left_loss: 0.6092 - val_2logo_center_binary_accuracy: 0.8010 - val_2logo_left_binary_accuracy: 0.8028\n",
      "Epoch 19/40\n",
      "946/946 [==============================] - 71s 76ms/step - loss: 0.4957 - 2logo_center_loss: 0.2485 - 2logo_left_loss: 0.2472 - 2logo_center_binary_accuracy: 0.8970 - 2logo_left_binary_accuracy: 0.8971 - val_loss: 1.2219 - val_2logo_center_loss: 0.6119 - val_2logo_left_loss: 0.6101 - val_2logo_center_binary_accuracy: 0.8009 - val_2logo_left_binary_accuracy: 0.8026\n",
      "Epoch 20/40\n",
      "946/946 [==============================] - 72s 76ms/step - loss: 0.4954 - 2logo_center_loss: 0.2483 - 2logo_left_loss: 0.2471 - 2logo_center_binary_accuracy: 0.8971 - 2logo_left_binary_accuracy: 0.8972 - val_loss: 1.2236 - val_2logo_center_loss: 0.6127 - val_2logo_left_loss: 0.6109 - val_2logo_center_binary_accuracy: 0.8011 - val_2logo_left_binary_accuracy: 0.8025\n",
      "Epoch 21/40\n",
      "946/946 [==============================] - 71s 76ms/step - loss: 0.4951 - 2logo_center_loss: 0.2482 - 2logo_left_loss: 0.2470 - 2logo_center_binary_accuracy: 0.8972 - 2logo_left_binary_accuracy: 0.8974 - val_loss: 1.2253 - val_2logo_center_loss: 0.6136 - val_2logo_left_loss: 0.6117 - val_2logo_center_binary_accuracy: 0.8009 - val_2logo_left_binary_accuracy: 0.8025\n",
      "Epoch 22/40\n",
      "946/946 [==============================] - 72s 76ms/step - loss: 0.4949 - 2logo_center_loss: 0.2481 - 2logo_left_loss: 0.2468 - 2logo_center_binary_accuracy: 0.8974 - 2logo_left_binary_accuracy: 0.8975 - val_loss: 1.2270 - val_2logo_center_loss: 0.6144 - val_2logo_left_loss: 0.6126 - val_2logo_center_binary_accuracy: 0.8006 - val_2logo_left_binary_accuracy: 0.8023\n"
     ]
    },
    {
     "name": "stdout",
     "output_type": "stream",
     "text": [
      "Epoch 23/40\n",
      "946/946 [==============================] - 72s 76ms/step - loss: 0.4946 - 2logo_center_loss: 0.2479 - 2logo_left_loss: 0.2467 - 2logo_center_binary_accuracy: 0.8975 - 2logo_left_binary_accuracy: 0.8975 - val_loss: 1.2287 - val_2logo_center_loss: 0.6153 - val_2logo_left_loss: 0.6134 - val_2logo_center_binary_accuracy: 0.8005 - val_2logo_left_binary_accuracy: 0.8021\n",
      "Epoch 24/40\n",
      "946/946 [==============================] - 76s 80ms/step - loss: 0.4944 - 2logo_center_loss: 0.2478 - 2logo_left_loss: 0.2466 - 2logo_center_binary_accuracy: 0.8975 - 2logo_left_binary_accuracy: 0.8976 - val_loss: 1.2303 - val_2logo_center_loss: 0.6161 - val_2logo_left_loss: 0.6142 - val_2logo_center_binary_accuracy: 0.8003 - val_2logo_left_binary_accuracy: 0.8020\n",
      "Epoch 25/40\n",
      "946/946 [==============================] - 75s 79ms/step - loss: 0.4941 - 2logo_center_loss: 0.2477 - 2logo_left_loss: 0.2464 - 2logo_center_binary_accuracy: 0.8977 - 2logo_left_binary_accuracy: 0.8977 - val_loss: 1.2319 - val_2logo_center_loss: 0.6169 - val_2logo_left_loss: 0.6150 - val_2logo_center_binary_accuracy: 0.8000 - val_2logo_left_binary_accuracy: 0.8018\n",
      "Epoch 26/40\n",
      "946/946 [==============================] - 76s 80ms/step - loss: 0.4939 - 2logo_center_loss: 0.2475 - 2logo_left_loss: 0.2463 - 2logo_center_binary_accuracy: 0.8978 - 2logo_left_binary_accuracy: 0.8978 - val_loss: 1.2335 - val_2logo_center_loss: 0.6178 - val_2logo_left_loss: 0.6158 - val_2logo_center_binary_accuracy: 0.7998 - val_2logo_left_binary_accuracy: 0.8017\n",
      "Epoch 27/40\n",
      "946/946 [==============================] - 74s 78ms/step - loss: 0.4936 - 2logo_center_loss: 0.2474 - 2logo_left_loss: 0.2462 - 2logo_center_binary_accuracy: 0.8981 - 2logo_left_binary_accuracy: 0.8977 - val_loss: 1.2351 - val_2logo_center_loss: 0.6186 - val_2logo_left_loss: 0.6166 - val_2logo_center_binary_accuracy: 0.7997 - val_2logo_left_binary_accuracy: 0.8017\n",
      "Epoch 28/40\n",
      "946/946 [==============================] - 74s 78ms/step - loss: 0.4934 - 2logo_center_loss: 0.2473 - 2logo_left_loss: 0.2461 - 2logo_center_binary_accuracy: 0.8982 - 2logo_left_binary_accuracy: 0.8977 - val_loss: 1.2367 - val_2logo_center_loss: 0.6194 - val_2logo_left_loss: 0.6173 - val_2logo_center_binary_accuracy: 0.7998 - val_2logo_left_binary_accuracy: 0.8017\n",
      "Epoch 29/40\n",
      "946/946 [==============================] - 74s 78ms/step - loss: 0.4931 - 2logo_center_loss: 0.2472 - 2logo_left_loss: 0.2460 - 2logo_center_binary_accuracy: 0.8981 - 2logo_left_binary_accuracy: 0.8977 - val_loss: 1.2383 - val_2logo_center_loss: 0.6202 - val_2logo_left_loss: 0.6181 - val_2logo_center_binary_accuracy: 0.7996 - val_2logo_left_binary_accuracy: 0.8016\n",
      "Epoch 30/40\n",
      "946/946 [==============================] - 74s 78ms/step - loss: 0.4929 - 2logo_center_loss: 0.2471 - 2logo_left_loss: 0.2458 - 2logo_center_binary_accuracy: 0.8980 - 2logo_left_binary_accuracy: 0.8977 - val_loss: 1.2398 - val_2logo_center_loss: 0.6209 - val_2logo_left_loss: 0.6189 - val_2logo_center_binary_accuracy: 0.7996 - val_2logo_left_binary_accuracy: 0.8013\n",
      "Epoch 31/40\n",
      "946/946 [==============================] - 74s 78ms/step - loss: 0.4927 - 2logo_center_loss: 0.2470 - 2logo_left_loss: 0.2457 - 2logo_center_binary_accuracy: 0.8980 - 2logo_left_binary_accuracy: 0.8978 - val_loss: 1.2413 - val_2logo_center_loss: 0.6217 - val_2logo_left_loss: 0.6196 - val_2logo_center_binary_accuracy: 0.7994 - val_2logo_left_binary_accuracy: 0.8015\n",
      "Epoch 32/40\n",
      "946/946 [==============================] - 74s 78ms/step - loss: 0.4925 - 2logo_center_loss: 0.2469 - 2logo_left_loss: 0.2456 - 2logo_center_binary_accuracy: 0.8981 - 2logo_left_binary_accuracy: 0.8980 - val_loss: 1.2428 - val_2logo_center_loss: 0.6225 - val_2logo_left_loss: 0.6204 - val_2logo_center_binary_accuracy: 0.7993 - val_2logo_left_binary_accuracy: 0.8015\n",
      "Epoch 33/40\n",
      "946/946 [==============================] - 73s 78ms/step - loss: 0.4923 - 2logo_center_loss: 0.2467 - 2logo_left_loss: 0.2455 - 2logo_center_binary_accuracy: 0.8980 - 2logo_left_binary_accuracy: 0.8982 - val_loss: 1.2443 - val_2logo_center_loss: 0.6232 - val_2logo_left_loss: 0.6211 - val_2logo_center_binary_accuracy: 0.7994 - val_2logo_left_binary_accuracy: 0.8014\n",
      "Epoch 34/40\n",
      "946/946 [==============================] - 74s 78ms/step - loss: 0.4920 - 2logo_center_loss: 0.2466 - 2logo_left_loss: 0.2454 - 2logo_center_binary_accuracy: 0.8981 - 2logo_left_binary_accuracy: 0.8982 - val_loss: 1.2458 - val_2logo_center_loss: 0.6240 - val_2logo_left_loss: 0.6218 - val_2logo_center_binary_accuracy: 0.7993 - val_2logo_left_binary_accuracy: 0.8013\n",
      "Epoch 35/40\n",
      "946/946 [==============================] - 74s 78ms/step - loss: 0.4918 - 2logo_center_loss: 0.2465 - 2logo_left_loss: 0.2453 - 2logo_center_binary_accuracy: 0.8982 - 2logo_left_binary_accuracy: 0.8984 - val_loss: 1.2473 - val_2logo_center_loss: 0.6247 - val_2logo_left_loss: 0.6226 - val_2logo_center_binary_accuracy: 0.7991 - val_2logo_left_binary_accuracy: 0.8013\n",
      "Epoch 36/40\n",
      "946/946 [==============================] - 74s 78ms/step - loss: 0.4916 - 2logo_center_loss: 0.2464 - 2logo_left_loss: 0.2452 - 2logo_center_binary_accuracy: 0.8983 - 2logo_left_binary_accuracy: 0.8984 - val_loss: 1.2488 - val_2logo_center_loss: 0.6255 - val_2logo_left_loss: 0.6233 - val_2logo_center_binary_accuracy: 0.7993 - val_2logo_left_binary_accuracy: 0.8011\n",
      "Epoch 37/40\n",
      "946/946 [==============================] - 73s 77ms/step - loss: 0.4914 - 2logo_center_loss: 0.2463 - 2logo_left_loss: 0.2451 - 2logo_center_binary_accuracy: 0.8984 - 2logo_left_binary_accuracy: 0.8984 - val_loss: 1.2502 - val_2logo_center_loss: 0.6262 - val_2logo_left_loss: 0.6240 - val_2logo_center_binary_accuracy: 0.7992 - val_2logo_left_binary_accuracy: 0.8011\n",
      "Epoch 38/40\n",
      "946/946 [==============================] - 74s 78ms/step - loss: 0.4912 - 2logo_center_loss: 0.2462 - 2logo_left_loss: 0.2450 - 2logo_center_binary_accuracy: 0.8984 - 2logo_left_binary_accuracy: 0.8984 - val_loss: 1.2516 - val_2logo_center_loss: 0.6269 - val_2logo_left_loss: 0.6247 - val_2logo_center_binary_accuracy: 0.7992 - val_2logo_left_binary_accuracy: 0.8010\n",
      "Epoch 39/40\n",
      "946/946 [==============================] - 74s 78ms/step - loss: 0.4910 - 2logo_center_loss: 0.2461 - 2logo_left_loss: 0.2449 - 2logo_center_binary_accuracy: 0.8984 - 2logo_left_binary_accuracy: 0.8985 - val_loss: 1.2530 - val_2logo_center_loss: 0.6277 - val_2logo_left_loss: 0.6254 - val_2logo_center_binary_accuracy: 0.7992 - val_2logo_left_binary_accuracy: 0.8010\n",
      "Epoch 40/40\n",
      "946/946 [==============================] - 74s 78ms/step - loss: 0.4908 - 2logo_center_loss: 0.2460 - 2logo_left_loss: 0.2448 - 2logo_center_binary_accuracy: 0.8985 - 2logo_left_binary_accuracy: 0.8986 - val_loss: 1.2544 - val_2logo_center_loss: 0.6284 - val_2logo_left_loss: 0.6261 - val_2logo_center_binary_accuracy: 0.7990 - val_2logo_left_binary_accuracy: 0.8010\n"
     ]
    }
   ],
   "source": [
    "history = efficientnet_v2_step2.fit(\n",
    "    trainable_ds, epochs=40, validation_data=testable_ds,\n",
    "    callbacks=[tf.keras.callbacks.TensorBoard(log_dir='logs/fit')]\n",
    ")"
   ]
  },
  {
   "cell_type": "code",
   "execution_count": 18,
   "id": "e8f96b3e",
   "metadata": {},
   "outputs": [
    {
     "name": "stdout",
     "output_type": "stream",
     "text": [
      "INFO:tensorflow:Assets written to: /tf/datasets/step2_multi/header/3/assets\n"
     ]
    },
    {
     "name": "stderr",
     "output_type": "stream",
     "text": [
      "INFO:tensorflow:Assets written to: /tf/datasets/step2_multi/header/3/assets\n"
     ]
    }
   ],
   "source": [
    "# efficientnet_v2_step2.save_weights('/tf/datasets/step2_multi/'+target+'/'+target)\n",
    "efficientnet_v2_step2.save('/tf/datasets/step2_multi/'+target+'/'+str(version))"
   ]
  },
  {
   "cell_type": "code",
   "execution_count": null,
   "id": "43c7cc8e",
   "metadata": {},
   "outputs": [],
   "source": [
    "# 테스트 데이터셋을 사용하여 모델 평가\n",
    "results = efficientnet_v2_step2.evaluate(testable_ds)\n",
    "\n",
    "# 결과 출력\n",
    "print(\"Loss:\", results[0])\n",
    "print(\"Accuracy:\", results[1])"
   ]
  },
  {
   "cell_type": "code",
   "execution_count": null,
   "id": "2c9984c7",
   "metadata": {},
   "outputs": [],
   "source": [
    "import matplotlib.pyplot as plt\n",
    "\n",
    "# 훈련과정에서 계산한 손실값과 정확도값을 가져옴\n",
    "loss = history.history['loss']\n",
    "accuracy = history.history['val_LOGO_L_binary_accuracy']\n",
    "\n",
    "# 손실 그래프\n",
    "plt.plot(loss, label='Training Loss')\n",
    "plt.xlabel('Epochs')\n",
    "plt.ylabel('Loss')\n",
    "plt.title('Training Loss')\n",
    "plt.legend()\n",
    "plt.show()\n",
    "\n",
    "# 정확도 그래프\n",
    "plt.plot(accuracy, label='Training Accuracy')\n",
    "pl\n",
    "t.xlabel('Epochs')\n",
    "plt.ylabel('Accuracy')\n",
    "plt.title('Training Accuracy')\n",
    "plt.legend()\n",
    "plt.show()"
   ]
  },
  {
   "cell_type": "code",
   "execution_count": null,
   "id": "716d21f8",
   "metadata": {},
   "outputs": [],
   "source": [
    "import numpy as np\n",
    "\n",
    "# 테스트 데이터셋을 사용하여 모델 예측\n",
    "predictions = efficientnet_v2_step2.predict(testable_ds)\n",
    "\n",
    "# 예측 결과 출력\n",
    "for i, label in enumerate(labels):\n",
    "    print(f\"{label} - Prediction: {predictions[i]}\")"
   ]
  },
  {
   "cell_type": "code",
   "execution_count": null,
   "id": "3840490d",
   "metadata": {},
   "outputs": [],
   "source": []
  }
 ],
 "metadata": {
  "kernelspec": {
   "display_name": "Python 3 (ipykernel)",
   "language": "python",
   "name": "python3"
  },
  "language_info": {
   "codemirror_mode": {
    "name": "ipython",
    "version": 3
   },
   "file_extension": ".py",
   "mimetype": "text/x-python",
   "name": "python",
   "nbconvert_exporter": "python",
   "pygments_lexer": "ipython3",
   "version": "3.8.10"
  }
 },
 "nbformat": 4,
 "nbformat_minor": 5
}
