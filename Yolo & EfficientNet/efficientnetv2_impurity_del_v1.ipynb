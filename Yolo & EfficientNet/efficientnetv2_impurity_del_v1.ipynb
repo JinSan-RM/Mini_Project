{
 "cells": [
  {
   "cell_type": "markdown",
   "id": "6eebaf48",
   "metadata": {},
   "source": [
    "# 필요한 LIB 호출"
   ]
  },
  {
   "cell_type": "code",
   "execution_count": null,
   "id": "5c648732",
   "metadata": {},
   "outputs": [],
   "source": [
    "!pip install pandas scipy tensorflow-hub tensorflow-datasets"
   ]
  },
  {
   "cell_type": "markdown",
   "id": "90507e76",
   "metadata": {},
   "source": [
    "# Import"
   ]
  },
  {
   "cell_type": "code",
   "execution_count": 1,
   "id": "9fcc680b",
   "metadata": {},
   "outputs": [],
   "source": [
    "from pathlib import Path\n",
    "from functools import reduce\n",
    "import pandas as pd\n",
    "import os\n",
    "import random\n",
    "import shutil"
   ]
  },
  {
   "cell_type": "markdown",
   "id": "afaa0b48",
   "metadata": {},
   "source": [
    "### 경로지정"
   ]
  },
  {
   "cell_type": "code",
   "execution_count": 2,
   "id": "006248cf",
   "metadata": {},
   "outputs": [
    {
     "name": "stdout",
     "output_type": "stream",
     "text": [
      "/tf/notebook\r\n"
     ]
    }
   ],
   "source": [
    "!pwd"
   ]
  },
  {
   "cell_type": "code",
   "execution_count": 3,
   "id": "d8c76fb6",
   "metadata": {},
   "outputs": [],
   "source": [
    "target = 'header'; # block | header | footer\n",
    "\n",
    "# 원본 이미지 디렉토리 경로\n",
    "source_dir = 'efficientlearning/header/'\n",
    "# 나눈 이미지를 저장할 디렉토리 경로\n",
    "destination_dir = 'efficientlearning_new/header/'\n",
    "\n",
    "\n",
    "# 각 세트의 비율 (train: 70%, test: 15%, validation: 15%)\n",
    "train_ratio = 0.7\n",
    "test_ratio = 0.15\n",
    "validation_ratio = 0.15\n",
    "\n",
    "# 각 세트에 해당하는 디렉토리 생성\n",
    "train_dir = os.path.join(destination_dir, 'train')\n",
    "test_dir = os.path.join(destination_dir, 'test')\n",
    "validation_dir = os.path.join(destination_dir, 'validation')\n",
    "\n",
    "os.makedirs(train_dir, exist_ok=True)\n",
    "os.makedirs(test_dir, exist_ok=True)\n",
    "os.makedirs(validation_dir, exist_ok=True)"
   ]
  },
  {
   "cell_type": "markdown",
   "id": "4fd6db5a",
   "metadata": {},
   "source": [
    "## 파일 Image "
   ]
  },
  {
   "cell_type": "code",
   "execution_count": 4,
   "id": "4bbcb2d6",
   "metadata": {},
   "outputs": [
    {
     "name": "stdout",
     "output_type": "stream",
     "text": [
      "Images split into train, test, and validation sets.\n"
     ]
    }
   ],
   "source": [
    "# 폴더와 파일을 순회하며 이미지 파일을 각 세트 디렉토리로 복사\n",
    "for root, dirs, files in os.walk(source_dir):\n",
    "    # 폴더 경로 생성\n",
    "    relative_path = os.path.relpath(root, source_dir)\n",
    "    train_path = os.path.join(train_dir, relative_path)\n",
    "    test_path = os.path.join(test_dir, relative_path)\n",
    "    validation_path = os.path.join(validation_dir, relative_path)\n",
    "    os.makedirs(train_path, exist_ok=True)\n",
    "    os.makedirs(test_path, exist_ok=True)\n",
    "    os.makedirs(validation_path, exist_ok=True)\n",
    "\n",
    "    # 파일 복사\n",
    "    for file in files:\n",
    "        source_path = os.path.join(root, file)\n",
    "        if random.random() < train_ratio:\n",
    "            destination_path = os.path.join(train_path, file)\n",
    "        elif random.random() < test_ratio:\n",
    "            destination_path = os.path.join(test_path, file)\n",
    "        else:\n",
    "            destination_path = os.path.join(validation_path, file)\n",
    "        shutil.copyfile(source_path, destination_path)\n",
    "\n",
    "print(\"Images split into train, test, and validation sets.\")"
   ]
  },
  {
   "cell_type": "markdown",
   "id": "d1bd8e2a",
   "metadata": {},
   "source": [
    "# 학습데이터 전처리 과정"
   ]
  },
  {
   "cell_type": "code",
   "execution_count": 19,
   "id": "0187c65c",
   "metadata": {},
   "outputs": [],
   "source": [
    "step2_train_path = Path('/tf/datasets/step2_new/header/train')\n",
    "step2_validation_path = Path('/tf/datasets/step2_new/header/validation/')"
   ]
  },
  {
   "cell_type": "code",
   "execution_count": 20,
   "id": "59dfbbf7",
   "metadata": {},
   "outputs": [],
   "source": [
    "labels = [path.name for path in step2_train_path.iterdir()]\n",
    "def prepare_data_frame(step2_path):\n",
    "    files = {label.name: [file for file in label.iterdir()] for label in step2_path.iterdir()} # file의 이름을 가져와서  files에 딕셔너리 형태로 저장\n",
    "    \n",
    "    file_paths = reduce(lambda x,y: x+y, files.values()) # reduce함수를 사용해 files values값을 확인하여 lambda함수로 x에 대입\n",
    "    file_names = list(map(lambda x: x.name, file_paths)) # list화 해서 path들을 [] file_name에 입력\n",
    "    name_to_path_dict = dict(zip(file_names, map(lambda x: str(x), file_paths))) #filename하고 file_path를 딕셔너리로 저장\n",
    "    file_path_series = pd.Series(name_to_path_dict, dtype='string', name='file_path') #  #pandas의 Series 형태로 저장\n",
    "    \n",
    "    label_series_list = [\n",
    "        pd.Series(1.0, index=map(lambda x: x.name, files[label]), name=label)  \n",
    "        for label in labels\n",
    "    ]\n",
    "    df = reduce(lambda x, y: pd.merge(x, y, how='outer', left_index=True, right_index=True), label_series_list)\n",
    "    df = df.fillna(value=0.0)\n",
    "    \n",
    "    df_with_file_path = pd.merge(df, file_path_series, left_index=True, right_index=True) #dataframe형태로 저장해서 붙여넣고 리턴\n",
    "    \n",
    "    return df_with_file_path"
   ]
  },
  {
   "cell_type": "code",
   "execution_count": 21,
   "id": "c87d852d",
   "metadata": {},
   "outputs": [
    {
     "name": "stdout",
     "output_type": "stream",
     "text": [
      "                                                    logo_center  logo_left  \\\n",
      "cys_20220928_181059_01.jpg                                  1.0        0.0   \n",
      "cys_20220929_101001_01.jpg                                  1.0        0.0   \n",
      "cys_20220929_110353_01.jpg                                  0.0        1.0   \n",
      "cys_20220929_111453_02.jpg                                  1.0        0.0   \n",
      "cys_20220929_112345_02.jpg                                  1.0        0.0   \n",
      "...                                                         ...        ...   \n",
      "hyw_screencapture-wpbingosite-wordpress-ruper-h...          0.0        1.0   \n",
      "hyw_screencapture-wpbingosite-wordpress-ruper-h...          0.0        1.0   \n",
      "hyw_screencapture-wpbingosite-wordpress-vatage-...          0.0        1.0   \n",
      "hyw_screencapture-yonifit-co-kr-2022-09-30-09_1...          1.0        0.0   \n",
      "hyw_screencapture-zierli-2022-09-28-16_29_23_01...          1.0        0.0   \n",
      "\n",
      "                                                                                            file_path  \n",
      "cys_20220928_181059_01.jpg                          /tf/datasets/step2_new/header/train/logo_cente...  \n",
      "cys_20220929_101001_01.jpg                          /tf/datasets/step2_new/header/train/logo_cente...  \n",
      "cys_20220929_110353_01.jpg                          /tf/datasets/step2_new/header/train/logo_left/...  \n",
      "cys_20220929_111453_02.jpg                          /tf/datasets/step2_new/header/train/logo_cente...  \n",
      "cys_20220929_112345_02.jpg                          /tf/datasets/step2_new/header/train/logo_cente...  \n",
      "...                                                                                               ...  \n",
      "hyw_screencapture-wpbingosite-wordpress-ruper-h...  /tf/datasets/step2_new/header/train/logo_left/...  \n",
      "hyw_screencapture-wpbingosite-wordpress-ruper-h...  /tf/datasets/step2_new/header/train/logo_left/...  \n",
      "hyw_screencapture-wpbingosite-wordpress-vatage-...  /tf/datasets/step2_new/header/train/logo_left/...  \n",
      "hyw_screencapture-yonifit-co-kr-2022-09-30-09_1...  /tf/datasets/step2_new/header/train/logo_cente...  \n",
      "hyw_screencapture-zierli-2022-09-28-16_29_23_01...  /tf/datasets/step2_new/header/train/logo_cente...  \n",
      "\n",
      "[1122 rows x 3 columns]                                                     logo_center  logo_left  \\\n",
      "cys_20220929_101257_01.jpg                                  1.0        0.0   \n",
      "cys_20220929_102032_01.jpg                                  1.0        0.0   \n",
      "cys_20220929_135708_01.jpg                                  1.0        0.0   \n",
      "cys_20220929_135856_01.jpg                                  1.0        0.0   \n",
      "cys_screencapture-abcmart-a-rt-2022-09-29-15_47...          0.0        1.0   \n",
      "...                                                         ...        ...   \n",
      "hyw_screencapture-wpbingosite-wordpress-omeli-h...          0.0        1.0   \n",
      "hyw_screencapture-wpbingosite-wordpress-punio-h...          1.0        0.0   \n",
      "hyw_screencapture-wpbingosite-wordpress-ruper-h...          1.0        0.0   \n",
      "hyw_screencapture-wpbingosite-wordpress-ruper-h...          1.0        0.0   \n",
      "hyw_screencapture-wpdemo-magikthemes-wrangler2-...          0.0        1.0   \n",
      "\n",
      "                                                                                            file_path  \n",
      "cys_20220929_101257_01.jpg                          /tf/datasets/step2_new/header/validation/logo_...  \n",
      "cys_20220929_102032_01.jpg                          /tf/datasets/step2_new/header/validation/logo_...  \n",
      "cys_20220929_135708_01.jpg                          /tf/datasets/step2_new/header/validation/logo_...  \n",
      "cys_20220929_135856_01.jpg                          /tf/datasets/step2_new/header/validation/logo_...  \n",
      "cys_screencapture-abcmart-a-rt-2022-09-29-15_47...  /tf/datasets/step2_new/header/validation/logo_...  \n",
      "...                                                                                               ...  \n",
      "hyw_screencapture-wpbingosite-wordpress-omeli-h...  /tf/datasets/step2_new/header/validation/logo_...  \n",
      "hyw_screencapture-wpbingosite-wordpress-punio-h...  /tf/datasets/step2_new/header/validation/logo_...  \n",
      "hyw_screencapture-wpbingosite-wordpress-ruper-h...  /tf/datasets/step2_new/header/validation/logo_...  \n",
      "hyw_screencapture-wpbingosite-wordpress-ruper-h...  /tf/datasets/step2_new/header/validation/logo_...  \n",
      "hyw_screencapture-wpdemo-magikthemes-wrangler2-...  /tf/datasets/step2_new/header/validation/logo_...  \n",
      "\n",
      "[382 rows x 3 columns]\n"
     ]
    }
   ],
   "source": [
    "train_df = prepare_data_frame(step2_train_path)   # train_dataframe \n",
    "validation_df = prepare_data_frame(step2_validation_path) #valid dataframe\n",
    "print(train_df, validation_df)"
   ]
  },
  {
   "cell_type": "markdown",
   "id": "8190c808",
   "metadata": {},
   "source": [
    "### 필요한 LIB 호출"
   ]
  },
  {
   "cell_type": "code",
   "execution_count": 22,
   "id": "2cb3a64a",
   "metadata": {},
   "outputs": [],
   "source": [
    "import tensorflow as tf\n",
    "import tensorflow_hub as hub"
   ]
  },
  {
   "cell_type": "code",
   "execution_count": 34,
   "id": "f2d6a16c",
   "metadata": {},
   "outputs": [
    {
     "name": "stdout",
     "output_type": "stream",
     "text": [
      "<_TensorSliceDataset element_spec={'logo_center': TensorSpec(shape=(), dtype=tf.float64, name=None), 'logo_left': TensorSpec(shape=(), dtype=tf.float64, name=None), 'file_path': TensorSpec(shape=(), dtype=tf.string, name=None)}>\n",
      "<_TensorSliceDataset element_spec={'logo_center': TensorSpec(shape=(), dtype=tf.float64, name=None), 'logo_left': TensorSpec(shape=(), dtype=tf.float64, name=None), 'file_path': TensorSpec(shape=(), dtype=tf.string, name=None)}>\n"
     ]
    }
   ],
   "source": [
    "train_ds = tf.data.Dataset.from_tensor_slices({**train_df})\n",
    "print( train_ds )\n",
    "validation_ds = tf.data.Dataset.from_tensor_slices({**validation_df})\n",
    "print( validation_ds )"
   ]
  },
  {
   "cell_type": "code",
   "execution_count": 35,
   "id": "37b33558",
   "metadata": {},
   "outputs": [],
   "source": [
    "def load_image(sample):\n",
    "    file_path = sample['file_path']\n",
    "    image_bytes = tf.io.read_file(file_path)\n",
    "    image = tf.io.decode_image(image_bytes, channels=3, expand_animations=False)\n",
    "    sample['image'] = image\n",
    "    return sample\n",
    "\n",
    "def preprocess_image(sample):\n",
    "    image = tf.image.convert_image_dtype(sample['image'], tf.float32)\n",
    "    image = tf.image.resize(image, [224, 224])\n",
    "    sample['image'] = image\n",
    "    return sample\n",
    "\n",
    "def transform_data_for_keras_fit(sample):\n",
    "    return sample['image'], tuple(sample[label] for label in labels)"
   ]
  },
  {
   "cell_type": "code",
   "execution_count": 36,
   "id": "d8df3d1c",
   "metadata": {},
   "outputs": [
    {
     "name": "stdout",
     "output_type": "stream",
     "text": [
      "<_BatchDataset element_spec=(TensorSpec(shape=(None, 224, 224, 3), dtype=tf.float32, name=None), (TensorSpec(shape=(None,), dtype=tf.float64, name=None), TensorSpec(shape=(None,), dtype=tf.float64, name=None)))>\n",
      "<_BatchDataset element_spec=(TensorSpec(shape=(None, 224, 224, 3), dtype=tf.float32, name=None), (TensorSpec(shape=(None,), dtype=tf.float64, name=None), TensorSpec(shape=(None,), dtype=tf.float64, name=None)))>\n"
     ]
    }
   ],
   "source": [
    "trainable_ds = train_ds.map(load_image).map(preprocess_image).map(transform_data_for_keras_fit).batch(32)\n",
    "testable_ds = validation_ds.map(load_image).map(preprocess_image).map(transform_data_for_keras_fit).batch(32)\n",
    "print( trainable_ds )\n",
    "print( testable_ds )"
   ]
  },
  {
   "cell_type": "code",
   "execution_count": 37,
   "id": "1fb6d36a",
   "metadata": {},
   "outputs": [],
   "source": [
    "inputs = tf.keras.Input(shape=(224, 224, 3), name=\"image\") #image size를 resize를 거쳐 224로 된것을 입력 layer로 설정\n",
    "efficientnet_v2 = hub.KerasLayer('https://tfhub.dev/google/imagenet/efficientnet_v2_imagenet21k_b0/feature_vector/2', trainable=False)  # 학습용 layer 및 모델 불러오기 tfhub에서\n",
    "net = efficientnet_v2(inputs)\n",
    "#outputs = [tf.keras.layers.Dense(1, name='dense_'+label)(net) for label in labels] #output layer를 추가\n",
    "outputs = [tf.keras.layers.Dense(1, name=label, activation='sigmoid')(net) for label in labels]\n",
    "\n",
    "efficientnet_v2_step2 = tf.keras.Model(inputs=inputs, outputs=outputs)  # 모델 병합"
   ]
  },
  {
   "cell_type": "code",
   "execution_count": 38,
   "id": "8c16969c",
   "metadata": {},
   "outputs": [],
   "source": [
    "efficientnet_v2_step2.compile(\n",
    "    optimizer=tf.keras.optimizers.Adam(learning_rate=0.01),   # adam을 사용하여 0.01 learningrate를 줌\n",
    "    loss=[tf.keras.losses.BinaryCrossentropy(from_logits=True, name='binary_crossentropy_'+label) for label in labels], #loss는 binary_crossentropy 사용\n",
    "    metrics=tf.keras.metrics.BinaryAccuracy(),\n",
    ")"
   ]
  },
  {
   "cell_type": "code",
   "execution_count": 39,
   "id": "71a362af",
   "metadata": {},
   "outputs": [
    {
     "name": "stdout",
     "output_type": "stream",
     "text": [
      "Model: \"model_1\"\n",
      "__________________________________________________________________________________________________\n",
      " Layer (type)                Output Shape                 Param #   Connected to                  \n",
      "==================================================================================================\n",
      " image (InputLayer)          [(None, 224, 224, 3)]        0         []                            \n",
      "                                                                                                  \n",
      " keras_layer_1 (KerasLayer)  (None, 1280)                 5919312   ['image[0][0]']               \n",
      "                                                                                                  \n",
      " logo_center (Dense)         (None, 1)                    1281      ['keras_layer_1[0][0]']       \n",
      "                                                                                                  \n",
      " logo_left (Dense)           (None, 1)                    1281      ['keras_layer_1[0][0]']       \n",
      "                                                                                                  \n",
      "==================================================================================================\n",
      "Total params: 5921874 (22.59 MB)\n",
      "Trainable params: 2562 (10.01 KB)\n",
      "Non-trainable params: 5919312 (22.58 MB)\n",
      "__________________________________________________________________________________________________\n"
     ]
    }
   ],
   "source": [
    "efficientnet_v2_step2.summary()"
   ]
  },
  {
   "cell_type": "code",
   "execution_count": 40,
   "id": "a5a98458",
   "metadata": {},
   "outputs": [
    {
     "name": "stdout",
     "output_type": "stream",
     "text": [
      "Epoch 1/100\n"
     ]
    },
    {
     "name": "stderr",
     "output_type": "stream",
     "text": [
      "/usr/local/lib/python3.8/dist-packages/keras/src/backend.py:5805: UserWarning: \"`binary_crossentropy` received `from_logits=True`, but the `output` argument was produced by a Sigmoid activation and thus does not represent logits. Was this intended?\n",
      "  output, from_logits = _get_logits(\n",
      "2023-07-17 05:31:50.432879: I tensorflow/compiler/xla/stream_executor/cuda/cuda_dnn.cc:432] Loaded cuDNN version 8600\n",
      "2023-07-17 05:31:57.512605: I tensorflow/compiler/xla/stream_executor/cuda/cuda_blas.cc:606] TensorFloat-32 will be used for the matrix multiplication. This will only be logged once.\n",
      "2023-07-17 05:32:00.481163: I tensorflow/compiler/xla/service/service.cc:168] XLA service 0x7f5248013d50 initialized for platform CUDA (this does not guarantee that XLA will be used). Devices:\n",
      "2023-07-17 05:32:00.481198: I tensorflow/compiler/xla/service/service.cc:176]   StreamExecutor device (0): NVIDIA GeForce RTX 3060 Ti, Compute Capability 8.6\n",
      "2023-07-17 05:32:00.488897: I tensorflow/compiler/mlir/tensorflow/utils/dump_mlir_util.cc:255] disabling MLIR crash reproducer, set env var `MLIR_CRASH_REPRODUCER_DIRECTORY` to enable.\n",
      "2023-07-17 05:32:00.583989: I ./tensorflow/compiler/jit/device_compiler.h:186] Compiled cluster using XLA!  This line is logged at most once for the lifetime of the process.\n"
     ]
    },
    {
     "name": "stdout",
     "output_type": "stream",
     "text": [
      "36/36 [==============================] - 58s 1s/step - loss: 2.2716 - logo_center_loss: 0.9862 - logo_left_loss: 1.2854 - logo_center_binary_accuracy: 0.5945 - logo_left_binary_accuracy: 0.5624 - val_loss: 1.2091 - val_logo_center_loss: 0.6347 - val_logo_left_loss: 0.5744 - val_logo_center_binary_accuracy: 0.7068 - val_logo_left_binary_accuracy: 0.7330\n",
      "Epoch 2/100\n",
      "36/36 [==============================] - 34s 943ms/step - loss: 1.0754 - logo_center_loss: 0.5093 - logo_left_loss: 0.5661 - logo_center_binary_accuracy: 0.7772 - logo_left_binary_accuracy: 0.7371 - val_loss: 1.1271 - val_logo_center_loss: 0.5461 - val_logo_left_loss: 0.5810 - val_logo_center_binary_accuracy: 0.7592 - val_logo_left_binary_accuracy: 0.7513\n",
      "Epoch 3/100\n",
      "36/36 [==============================] - 34s 941ms/step - loss: 0.8577 - logo_center_loss: 0.4170 - logo_left_loss: 0.4407 - logo_center_binary_accuracy: 0.8075 - logo_left_binary_accuracy: 0.7923 - val_loss: 1.3189 - val_logo_center_loss: 0.6593 - val_logo_left_loss: 0.6596 - val_logo_center_binary_accuracy: 0.7042 - val_logo_left_binary_accuracy: 0.7461\n",
      "Epoch 4/100\n",
      "36/36 [==============================] - 34s 944ms/step - loss: 0.8140 - logo_center_loss: 0.4136 - logo_left_loss: 0.4004 - logo_center_binary_accuracy: 0.8075 - logo_left_binary_accuracy: 0.8119 - val_loss: 1.3885 - val_logo_center_loss: 0.6842 - val_logo_left_loss: 0.7044 - val_logo_center_binary_accuracy: 0.6990 - val_logo_left_binary_accuracy: 0.7199\n",
      "Epoch 5/100\n",
      "36/36 [==============================] - 33s 933ms/step - loss: 0.8153 - logo_center_loss: 0.4285 - logo_left_loss: 0.3868 - logo_center_binary_accuracy: 0.8164 - logo_left_binary_accuracy: 0.8244 - val_loss: 1.1184 - val_logo_center_loss: 0.4797 - val_logo_left_loss: 0.6387 - val_logo_center_binary_accuracy: 0.7984 - val_logo_left_binary_accuracy: 0.7513\n",
      "Epoch 6/100\n",
      "36/36 [==============================] - 34s 938ms/step - loss: 0.7405 - logo_center_loss: 0.3650 - logo_left_loss: 0.3755 - logo_center_binary_accuracy: 0.8405 - logo_left_binary_accuracy: 0.8351 - val_loss: 1.0963 - val_logo_center_loss: 0.5933 - val_logo_left_loss: 0.5030 - val_logo_center_binary_accuracy: 0.7565 - val_logo_left_binary_accuracy: 0.7801\n",
      "Epoch 7/100\n",
      "36/36 [==============================] - 34s 940ms/step - loss: 0.6557 - logo_center_loss: 0.3203 - logo_left_loss: 0.3354 - logo_center_binary_accuracy: 0.8681 - logo_left_binary_accuracy: 0.8627 - val_loss: 1.0589 - val_logo_center_loss: 0.5362 - val_logo_left_loss: 0.5227 - val_logo_center_binary_accuracy: 0.7880 - val_logo_left_binary_accuracy: 0.7670\n",
      "Epoch 8/100\n",
      "36/36 [==============================] - 33s 907ms/step - loss: 0.6099 - logo_center_loss: 0.2909 - logo_left_loss: 0.3190 - logo_center_binary_accuracy: 0.8717 - logo_left_binary_accuracy: 0.8645 - val_loss: 1.0528 - val_logo_center_loss: 0.5165 - val_logo_left_loss: 0.5364 - val_logo_center_binary_accuracy: 0.7749 - val_logo_left_binary_accuracy: 0.7696\n",
      "Epoch 9/100\n",
      "36/36 [==============================] - 32s 894ms/step - loss: 0.5900 - logo_center_loss: 0.2874 - logo_left_loss: 0.3027 - logo_center_binary_accuracy: 0.8859 - logo_left_binary_accuracy: 0.8770 - val_loss: 1.0957 - val_logo_center_loss: 0.5294 - val_logo_left_loss: 0.5664 - val_logo_center_binary_accuracy: 0.7749 - val_logo_left_binary_accuracy: 0.7801\n",
      "Epoch 10/100\n",
      "36/36 [==============================] - 31s 867ms/step - loss: 0.5974 - logo_center_loss: 0.2945 - logo_left_loss: 0.3030 - logo_center_binary_accuracy: 0.8725 - logo_left_binary_accuracy: 0.8824 - val_loss: 1.0940 - val_logo_center_loss: 0.5295 - val_logo_left_loss: 0.5646 - val_logo_center_binary_accuracy: 0.7880 - val_logo_left_binary_accuracy: 0.7775\n",
      "Epoch 11/100\n",
      "36/36 [==============================] - 31s 870ms/step - loss: 0.5825 - logo_center_loss: 0.2753 - logo_left_loss: 0.3072 - logo_center_binary_accuracy: 0.8939 - logo_left_binary_accuracy: 0.8708 - val_loss: 1.3188 - val_logo_center_loss: 0.7643 - val_logo_left_loss: 0.5546 - val_logo_center_binary_accuracy: 0.7461 - val_logo_left_binary_accuracy: 0.7932\n",
      "Epoch 12/100\n",
      "36/36 [==============================] - 31s 871ms/step - loss: 0.5816 - logo_center_loss: 0.2865 - logo_left_loss: 0.2952 - logo_center_binary_accuracy: 0.8913 - logo_left_binary_accuracy: 0.8788 - val_loss: 1.6152 - val_logo_center_loss: 0.8447 - val_logo_left_loss: 0.7705 - val_logo_center_binary_accuracy: 0.7225 - val_logo_left_binary_accuracy: 0.7461\n",
      "Epoch 13/100\n",
      "36/36 [==============================] - 32s 902ms/step - loss: 0.6541 - logo_center_loss: 0.3104 - logo_left_loss: 0.3437 - logo_center_binary_accuracy: 0.8815 - logo_left_binary_accuracy: 0.8627 - val_loss: 1.6584 - val_logo_center_loss: 0.8101 - val_logo_left_loss: 0.8483 - val_logo_center_binary_accuracy: 0.7382 - val_logo_left_binary_accuracy: 0.7356\n",
      "Epoch 14/100\n",
      "36/36 [==============================] - 31s 870ms/step - loss: 0.7725 - logo_center_loss: 0.3563 - logo_left_loss: 0.4161 - logo_center_binary_accuracy: 0.8529 - logo_left_binary_accuracy: 0.8351 - val_loss: 2.1628 - val_logo_center_loss: 1.0139 - val_logo_left_loss: 1.1489 - val_logo_center_binary_accuracy: 0.6963 - val_logo_left_binary_accuracy: 0.6518\n",
      "Epoch 15/100\n",
      "36/36 [==============================] - 31s 877ms/step - loss: 0.9566 - logo_center_loss: 0.4231 - logo_left_loss: 0.5335 - logo_center_binary_accuracy: 0.8289 - logo_left_binary_accuracy: 0.8030 - val_loss: 3.7081 - val_logo_center_loss: 1.7494 - val_logo_left_loss: 1.9587 - val_logo_center_binary_accuracy: 0.5785 - val_logo_left_binary_accuracy: 0.5838\n",
      "Epoch 16/100\n",
      "36/36 [==============================] - 31s 866ms/step - loss: 1.9844 - logo_center_loss: 0.7474 - logo_left_loss: 1.2370 - logo_center_binary_accuracy: 0.7629 - logo_left_binary_accuracy: 0.7175 - val_loss: 2.5845 - val_logo_center_loss: 0.9400 - val_logo_left_loss: 1.6445 - val_logo_center_binary_accuracy: 0.7408 - val_logo_left_binary_accuracy: 0.6675\n",
      "Epoch 17/100\n",
      "36/36 [==============================] - 32s 901ms/step - loss: 1.7670 - logo_center_loss: 1.1452 - logo_left_loss: 0.6218 - logo_center_binary_accuracy: 0.7344 - logo_left_binary_accuracy: 0.8396 - val_loss: 3.1289 - val_logo_center_loss: 1.9679 - val_logo_left_loss: 1.1610 - val_logo_center_binary_accuracy: 0.6335 - val_logo_left_binary_accuracy: 0.7304\n",
      "Epoch 18/100\n",
      "36/36 [==============================] - 31s 875ms/step - loss: 0.8951 - logo_center_loss: 0.5074 - logo_left_loss: 0.3877 - logo_center_binary_accuracy: 0.8485 - logo_left_binary_accuracy: 0.8725 - val_loss: 2.1618 - val_logo_center_loss: 1.1387 - val_logo_left_loss: 1.0231 - val_logo_center_binary_accuracy: 0.7435 - val_logo_left_binary_accuracy: 0.7513\n",
      "Epoch 19/100\n",
      "36/36 [==============================] - 31s 868ms/step - loss: 0.6436 - logo_center_loss: 0.3058 - logo_left_loss: 0.3378 - logo_center_binary_accuracy: 0.8904 - logo_left_binary_accuracy: 0.8824 - val_loss: 2.1205 - val_logo_center_loss: 1.0662 - val_logo_left_loss: 1.0543 - val_logo_center_binary_accuracy: 0.7513 - val_logo_left_binary_accuracy: 0.7487\n",
      "Epoch 20/100\n",
      "36/36 [==============================] - 31s 873ms/step - loss: 0.5119 - logo_center_loss: 0.2512 - logo_left_loss: 0.2607 - logo_center_binary_accuracy: 0.9037 - logo_left_binary_accuracy: 0.9064 - val_loss: 2.1712 - val_logo_center_loss: 1.0616 - val_logo_left_loss: 1.1096 - val_logo_center_binary_accuracy: 0.7565 - val_logo_left_binary_accuracy: 0.7330\n",
      "Epoch 21/100\n",
      "36/36 [==============================] - 31s 874ms/step - loss: 0.4032 - logo_center_loss: 0.2054 - logo_left_loss: 0.1977 - logo_center_binary_accuracy: 0.9251 - logo_left_binary_accuracy: 0.9278 - val_loss: 2.1961 - val_logo_center_loss: 1.1121 - val_logo_left_loss: 1.0841 - val_logo_center_binary_accuracy: 0.7435 - val_logo_left_binary_accuracy: 0.7435\n",
      "Epoch 22/100\n",
      "36/36 [==============================] - 35s 982ms/step - loss: 0.3429 - logo_center_loss: 0.1753 - logo_left_loss: 0.1676 - logo_center_binary_accuracy: 0.9358 - logo_left_binary_accuracy: 0.9421 - val_loss: 2.1479 - val_logo_center_loss: 1.1326 - val_logo_left_loss: 1.0153 - val_logo_center_binary_accuracy: 0.7382 - val_logo_left_binary_accuracy: 0.7487\n",
      "Epoch 23/100\n"
     ]
    },
    {
     "name": "stdout",
     "output_type": "stream",
     "text": [
      "36/36 [==============================] - 33s 931ms/step - loss: 0.3188 - logo_center_loss: 0.1592 - logo_left_loss: 0.1597 - logo_center_binary_accuracy: 0.9421 - logo_left_binary_accuracy: 0.9412 - val_loss: 2.0618 - val_logo_center_loss: 1.1073 - val_logo_left_loss: 0.9545 - val_logo_center_binary_accuracy: 0.7461 - val_logo_left_binary_accuracy: 0.7565\n",
      "Epoch 24/100\n",
      "36/36 [==============================] - 32s 905ms/step - loss: 0.3114 - logo_center_loss: 0.1508 - logo_left_loss: 0.1606 - logo_center_binary_accuracy: 0.9483 - logo_left_binary_accuracy: 0.9430 - val_loss: 1.9691 - val_logo_center_loss: 1.0460 - val_logo_left_loss: 0.9231 - val_logo_center_binary_accuracy: 0.7513 - val_logo_left_binary_accuracy: 0.7592\n",
      "Epoch 25/100\n",
      "36/36 [==============================] - 33s 916ms/step - loss: 0.3091 - logo_center_loss: 0.1459 - logo_left_loss: 0.1632 - logo_center_binary_accuracy: 0.9510 - logo_left_binary_accuracy: 0.9412 - val_loss: 1.9119 - val_logo_center_loss: 0.9875 - val_logo_left_loss: 0.9244 - val_logo_center_binary_accuracy: 0.7618 - val_logo_left_binary_accuracy: 0.7513\n",
      "Epoch 26/100\n",
      "36/36 [==============================] - 33s 915ms/step - loss: 0.3078 - logo_center_loss: 0.1445 - logo_left_loss: 0.1633 - logo_center_binary_accuracy: 0.9456 - logo_left_binary_accuracy: 0.9412 - val_loss: 1.9084 - val_logo_center_loss: 0.9545 - val_logo_left_loss: 0.9539 - val_logo_center_binary_accuracy: 0.7539 - val_logo_left_binary_accuracy: 0.7513\n",
      "Epoch 27/100\n",
      "36/36 [==============================] - 33s 913ms/step - loss: 0.3041 - logo_center_loss: 0.1449 - logo_left_loss: 0.1592 - logo_center_binary_accuracy: 0.9456 - logo_left_binary_accuracy: 0.9439 - val_loss: 1.9631 - val_logo_center_loss: 0.9511 - val_logo_left_loss: 1.0120 - val_logo_center_binary_accuracy: 0.7513 - val_logo_left_binary_accuracy: 0.7487\n",
      "Epoch 28/100\n",
      "36/36 [==============================] - 32s 881ms/step - loss: 0.2962 - logo_center_loss: 0.1447 - logo_left_loss: 0.1515 - logo_center_binary_accuracy: 0.9456 - logo_left_binary_accuracy: 0.9465 - val_loss: 2.0744 - val_logo_center_loss: 0.9724 - val_logo_left_loss: 1.1020 - val_logo_center_binary_accuracy: 0.7539 - val_logo_left_binary_accuracy: 0.7461\n",
      "Epoch 29/100\n",
      "36/36 [==============================] - 31s 869ms/step - loss: 0.2851 - logo_center_loss: 0.1427 - logo_left_loss: 0.1424 - logo_center_binary_accuracy: 0.9483 - logo_left_binary_accuracy: 0.9519 - val_loss: 2.2359 - val_logo_center_loss: 1.0170 - val_logo_left_loss: 1.2190 - val_logo_center_binary_accuracy: 0.7461 - val_logo_left_binary_accuracy: 0.7330\n",
      "Epoch 30/100\n",
      "36/36 [==============================] - 31s 871ms/step - loss: 0.2734 - logo_center_loss: 0.1387 - logo_left_loss: 0.1347 - logo_center_binary_accuracy: 0.9528 - logo_left_binary_accuracy: 0.9572 - val_loss: 2.4254 - val_logo_center_loss: 1.0858 - val_logo_left_loss: 1.3396 - val_logo_center_binary_accuracy: 0.7461 - val_logo_left_binary_accuracy: 0.7068\n",
      "Epoch 31/100\n",
      "36/36 [==============================] - 36s 1s/step - loss: 0.2639 - logo_center_loss: 0.1332 - logo_left_loss: 0.1307 - logo_center_binary_accuracy: 0.9572 - logo_left_binary_accuracy: 0.9510 - val_loss: 2.6016 - val_logo_center_loss: 1.1802 - val_logo_left_loss: 1.4214 - val_logo_center_binary_accuracy: 0.7330 - val_logo_left_binary_accuracy: 0.7016\n",
      "Epoch 32/100\n",
      "36/36 [==============================] - 35s 974ms/step - loss: 0.2579 - logo_center_loss: 0.1277 - logo_left_loss: 0.1301 - logo_center_binary_accuracy: 0.9581 - logo_left_binary_accuracy: 0.9554 - val_loss: 2.7269 - val_logo_center_loss: 1.2963 - val_logo_left_loss: 1.4305 - val_logo_center_binary_accuracy: 0.7173 - val_logo_left_binary_accuracy: 0.7016\n",
      "Epoch 33/100\n",
      "36/36 [==============================] - 35s 984ms/step - loss: 0.2551 - logo_center_loss: 0.1241 - logo_left_loss: 0.1309 - logo_center_binary_accuracy: 0.9599 - logo_left_binary_accuracy: 0.9537 - val_loss: 2.7660 - val_logo_center_loss: 1.4119 - val_logo_left_loss: 1.3541 - val_logo_center_binary_accuracy: 0.7068 - val_logo_left_binary_accuracy: 0.7068\n",
      "Epoch 34/100\n",
      "36/36 [==============================] - 36s 1s/step - loss: 0.2537 - logo_center_loss: 0.1231 - logo_left_loss: 0.1306 - logo_center_binary_accuracy: 0.9590 - logo_left_binary_accuracy: 0.9456 - val_loss: 2.6777 - val_logo_center_loss: 1.4915 - val_logo_left_loss: 1.1862 - val_logo_center_binary_accuracy: 0.7016 - val_logo_left_binary_accuracy: 0.7356\n",
      "Epoch 35/100\n",
      "36/36 [==============================] - 35s 973ms/step - loss: 0.2560 - logo_center_loss: 0.1242 - logo_left_loss: 0.1318 - logo_center_binary_accuracy: 0.9599 - logo_left_binary_accuracy: 0.9492 - val_loss: 2.5064 - val_logo_center_loss: 1.5083 - val_logo_left_loss: 0.9981 - val_logo_center_binary_accuracy: 0.6911 - val_logo_left_binary_accuracy: 0.7644\n",
      "Epoch 36/100\n",
      "36/36 [==============================] - 32s 881ms/step - loss: 0.2755 - logo_center_loss: 0.1271 - logo_left_loss: 0.1484 - logo_center_binary_accuracy: 0.9554 - logo_left_binary_accuracy: 0.9412 - val_loss: 2.3657 - val_logo_center_loss: 1.4521 - val_logo_left_loss: 0.9136 - val_logo_center_binary_accuracy: 0.6990 - val_logo_left_binary_accuracy: 0.7592\n",
      "Epoch 37/100\n",
      "36/36 [==============================] - 36s 1s/step - loss: 0.3206 - logo_center_loss: 0.1299 - logo_left_loss: 0.1908 - logo_center_binary_accuracy: 0.9474 - logo_left_binary_accuracy: 0.9234 - val_loss: 2.1932 - val_logo_center_loss: 1.2962 - val_logo_left_loss: 0.8969 - val_logo_center_binary_accuracy: 0.7304 - val_logo_left_binary_accuracy: 0.7670\n",
      "Epoch 38/100\n",
      "36/36 [==============================] - 31s 868ms/step - loss: 0.4005 - logo_center_loss: 0.1311 - logo_left_loss: 0.2695 - logo_center_binary_accuracy: 0.9430 - logo_left_binary_accuracy: 0.8922 - val_loss: 1.9979 - val_logo_center_loss: 1.0523 - val_logo_left_loss: 0.9456 - val_logo_center_binary_accuracy: 0.7565 - val_logo_left_binary_accuracy: 0.7539\n",
      "Epoch 39/100\n",
      "36/36 [==============================] - 31s 867ms/step - loss: 0.6096 - logo_center_loss: 0.1446 - logo_left_loss: 0.4650 - logo_center_binary_accuracy: 0.9403 - logo_left_binary_accuracy: 0.8333 - val_loss: 1.9691 - val_logo_center_loss: 0.9421 - val_logo_left_loss: 1.0269 - val_logo_center_binary_accuracy: 0.7618 - val_logo_left_binary_accuracy: 0.7749\n",
      "Epoch 40/100\n",
      "36/36 [==============================] - 31s 868ms/step - loss: 0.9883 - logo_center_loss: 0.1915 - logo_left_loss: 0.7969 - logo_center_binary_accuracy: 0.9198 - logo_left_binary_accuracy: 0.8021 - val_loss: 2.8224 - val_logo_center_loss: 0.9280 - val_logo_left_loss: 1.8944 - val_logo_center_binary_accuracy: 0.7539 - val_logo_left_binary_accuracy: 0.6859\n",
      "Epoch 41/100\n",
      "36/36 [==============================] - 31s 868ms/step - loss: 0.6894 - logo_center_loss: 0.2855 - logo_left_loss: 0.4040 - logo_center_binary_accuracy: 0.8824 - logo_left_binary_accuracy: 0.8743 - val_loss: 3.7854 - val_logo_center_loss: 1.0152 - val_logo_left_loss: 2.7702 - val_logo_center_binary_accuracy: 0.7644 - val_logo_left_binary_accuracy: 0.6387\n",
      "Epoch 42/100\n",
      "36/36 [==============================] - 31s 866ms/step - loss: 0.8739 - logo_center_loss: 0.5228 - logo_left_loss: 0.3511 - logo_center_binary_accuracy: 0.8209 - logo_left_binary_accuracy: 0.8841 - val_loss: 2.8278 - val_logo_center_loss: 1.0963 - val_logo_left_loss: 1.7314 - val_logo_center_binary_accuracy: 0.7696 - val_logo_left_binary_accuracy: 0.7277\n",
      "Epoch 43/100\n",
      "36/36 [==============================] - 34s 955ms/step - loss: 1.1177 - logo_center_loss: 0.8489 - logo_left_loss: 0.2688 - logo_center_binary_accuracy: 0.7995 - logo_left_binary_accuracy: 0.9082 - val_loss: 3.5744 - val_logo_center_loss: 2.0282 - val_logo_left_loss: 1.5462 - val_logo_center_binary_accuracy: 0.6832 - val_logo_left_binary_accuracy: 0.7225\n",
      "Epoch 44/100\n",
      "36/36 [==============================] - 31s 864ms/step - loss: 0.6243 - logo_center_loss: 0.3508 - logo_left_loss: 0.2734 - logo_center_binary_accuracy: 0.8859 - logo_left_binary_accuracy: 0.9029 - val_loss: 4.1670 - val_logo_center_loss: 2.5523 - val_logo_left_loss: 1.6148 - val_logo_center_binary_accuracy: 0.6597 - val_logo_left_binary_accuracy: 0.7251\n",
      "Epoch 45/100\n"
     ]
    },
    {
     "name": "stdout",
     "output_type": "stream",
     "text": [
      "36/36 [==============================] - 31s 868ms/step - loss: 0.5740 - logo_center_loss: 0.2858 - logo_left_loss: 0.2882 - logo_center_binary_accuracy: 0.8948 - logo_left_binary_accuracy: 0.8904 - val_loss: 3.5354 - val_logo_center_loss: 1.7130 - val_logo_left_loss: 1.8224 - val_logo_center_binary_accuracy: 0.7173 - val_logo_left_binary_accuracy: 0.7094\n",
      "Epoch 46/100\n",
      "36/36 [==============================] - 31s 867ms/step - loss: 0.4959 - logo_center_loss: 0.2371 - logo_left_loss: 0.2588 - logo_center_binary_accuracy: 0.9109 - logo_left_binary_accuracy: 0.9029 - val_loss: 3.7669 - val_logo_center_loss: 1.5725 - val_logo_left_loss: 2.1944 - val_logo_center_binary_accuracy: 0.7304 - val_logo_left_binary_accuracy: 0.6754\n",
      "Epoch 47/100\n",
      "36/36 [==============================] - 31s 880ms/step - loss: 0.4996 - logo_center_loss: 0.2505 - logo_left_loss: 0.2491 - logo_center_binary_accuracy: 0.9100 - logo_left_binary_accuracy: 0.9011 - val_loss: 3.4259 - val_logo_center_loss: 1.5451 - val_logo_left_loss: 1.8807 - val_logo_center_binary_accuracy: 0.7382 - val_logo_left_binary_accuracy: 0.7147\n",
      "Epoch 48/100\n",
      "36/36 [==============================] - 32s 906ms/step - loss: 0.5608 - logo_center_loss: 0.2836 - logo_left_loss: 0.2771 - logo_center_binary_accuracy: 0.8930 - logo_left_binary_accuracy: 0.8939 - val_loss: 3.2866 - val_logo_center_loss: 1.6413 - val_logo_left_loss: 1.6452 - val_logo_center_binary_accuracy: 0.7251 - val_logo_left_binary_accuracy: 0.7382\n",
      "Epoch 49/100\n",
      "36/36 [==============================] - 36s 1s/step - loss: 0.6006 - logo_center_loss: 0.2787 - logo_left_loss: 0.3219 - logo_center_binary_accuracy: 0.9029 - logo_left_binary_accuracy: 0.8850 - val_loss: 3.6272 - val_logo_center_loss: 2.0997 - val_logo_left_loss: 1.5276 - val_logo_center_binary_accuracy: 0.6963 - val_logo_left_binary_accuracy: 0.7461\n",
      "Epoch 50/100\n",
      "36/36 [==============================] - 34s 952ms/step - loss: 0.6609 - logo_center_loss: 0.2531 - logo_left_loss: 0.4077 - logo_center_binary_accuracy: 0.8984 - logo_left_binary_accuracy: 0.8583 - val_loss: 3.6102 - val_logo_center_loss: 2.1267 - val_logo_left_loss: 1.4836 - val_logo_center_binary_accuracy: 0.6859 - val_logo_left_binary_accuracy: 0.7539\n",
      "Epoch 51/100\n",
      "36/36 [==============================] - 38s 1s/step - loss: 0.7910 - logo_center_loss: 0.2639 - logo_left_loss: 0.5271 - logo_center_binary_accuracy: 0.8948 - logo_left_binary_accuracy: 0.8262 - val_loss: 3.5705 - val_logo_center_loss: 1.7758 - val_logo_left_loss: 1.7947 - val_logo_center_binary_accuracy: 0.7330 - val_logo_left_binary_accuracy: 0.7356\n",
      "Epoch 52/100\n",
      "36/36 [==============================] - 35s 964ms/step - loss: 0.9189 - logo_center_loss: 0.2882 - logo_left_loss: 0.6308 - logo_center_binary_accuracy: 0.8841 - logo_left_binary_accuracy: 0.8342 - val_loss: 4.0500 - val_logo_center_loss: 1.5269 - val_logo_left_loss: 2.5231 - val_logo_center_binary_accuracy: 0.7592 - val_logo_left_binary_accuracy: 0.6754\n",
      "Epoch 53/100\n",
      "36/36 [==============================] - 31s 868ms/step - loss: 0.9002 - logo_center_loss: 0.3554 - logo_left_loss: 0.5448 - logo_center_binary_accuracy: 0.8690 - logo_left_binary_accuracy: 0.8467 - val_loss: 3.4036 - val_logo_center_loss: 1.4498 - val_logo_left_loss: 1.9538 - val_logo_center_binary_accuracy: 0.7539 - val_logo_left_binary_accuracy: 0.7670\n",
      "Epoch 54/100\n",
      "36/36 [==============================] - 32s 882ms/step - loss: 1.0724 - logo_center_loss: 0.4868 - logo_left_loss: 0.5855 - logo_center_binary_accuracy: 0.8414 - logo_left_binary_accuracy: 0.8271 - val_loss: 3.1452 - val_logo_center_loss: 1.4917 - val_logo_left_loss: 1.6535 - val_logo_center_binary_accuracy: 0.7592 - val_logo_left_binary_accuracy: 0.7592\n",
      "Epoch 55/100\n",
      "36/36 [==============================] - 37s 1s/step - loss: 1.4962 - logo_center_loss: 0.6429 - logo_left_loss: 0.8534 - logo_center_binary_accuracy: 0.8128 - logo_left_binary_accuracy: 0.7870 - val_loss: 3.6459 - val_logo_center_loss: 1.9738 - val_logo_left_loss: 1.6721 - val_logo_center_binary_accuracy: 0.7356 - val_logo_left_binary_accuracy: 0.7749\n",
      "Epoch 56/100\n",
      "36/36 [==============================] - 33s 920ms/step - loss: 1.7600 - logo_center_loss: 0.7142 - logo_left_loss: 1.0458 - logo_center_binary_accuracy: 0.8262 - logo_left_binary_accuracy: 0.7594 - val_loss: 3.8523 - val_logo_center_loss: 2.2554 - val_logo_left_loss: 1.5968 - val_logo_center_binary_accuracy: 0.7408 - val_logo_left_binary_accuracy: 0.7670\n",
      "Epoch 57/100\n",
      "36/36 [==============================] - 37s 1s/step - loss: 2.1124 - logo_center_loss: 0.6038 - logo_left_loss: 1.5086 - logo_center_binary_accuracy: 0.8396 - logo_left_binary_accuracy: 0.7478 - val_loss: 3.7179 - val_logo_center_loss: 1.6273 - val_logo_left_loss: 2.0906 - val_logo_center_binary_accuracy: 0.7592 - val_logo_left_binary_accuracy: 0.7408\n",
      "Epoch 58/100\n",
      "36/36 [==============================] - 35s 966ms/step - loss: 2.3190 - logo_center_loss: 0.9599 - logo_left_loss: 1.3592 - logo_center_binary_accuracy: 0.7745 - logo_left_binary_accuracy: 0.7986 - val_loss: 5.0663 - val_logo_center_loss: 1.6220 - val_logo_left_loss: 3.4444 - val_logo_center_binary_accuracy: 0.7775 - val_logo_left_binary_accuracy: 0.6414\n",
      "Epoch 59/100\n",
      "36/36 [==============================] - 32s 906ms/step - loss: 2.4343 - logo_center_loss: 1.1787 - logo_left_loss: 1.2557 - logo_center_binary_accuracy: 0.7513 - logo_left_binary_accuracy: 0.8084 - val_loss: 4.4114 - val_logo_center_loss: 1.6804 - val_logo_left_loss: 2.7310 - val_logo_center_binary_accuracy: 0.7592 - val_logo_left_binary_accuracy: 0.6885\n",
      "Epoch 60/100\n",
      "36/36 [==============================] - 32s 905ms/step - loss: 2.2409 - logo_center_loss: 1.3329 - logo_left_loss: 0.9080 - logo_center_binary_accuracy: 0.7763 - logo_left_binary_accuracy: 0.8440 - val_loss: 4.3654 - val_logo_center_loss: 2.6826 - val_logo_left_loss: 1.6828 - val_logo_center_binary_accuracy: 0.6937 - val_logo_left_binary_accuracy: 0.7696\n",
      "Epoch 61/100\n",
      "36/36 [==============================] - 38s 1s/step - loss: 1.8276 - logo_center_loss: 1.3393 - logo_left_loss: 0.4883 - logo_center_binary_accuracy: 0.7977 - logo_left_binary_accuracy: 0.8913 - val_loss: 4.9513 - val_logo_center_loss: 3.5095 - val_logo_left_loss: 1.4418 - val_logo_center_binary_accuracy: 0.6492 - val_logo_left_binary_accuracy: 0.7932\n",
      "Epoch 62/100\n",
      "36/36 [==============================] - 37s 1s/step - loss: 1.4332 - logo_center_loss: 1.1860 - logo_left_loss: 0.2472 - logo_center_binary_accuracy: 0.8244 - logo_left_binary_accuracy: 0.9305 - val_loss: 3.7418 - val_logo_center_loss: 2.4159 - val_logo_left_loss: 1.3259 - val_logo_center_binary_accuracy: 0.7199 - val_logo_left_binary_accuracy: 0.8063\n",
      "Epoch 63/100\n",
      "36/36 [==============================] - 37s 1s/step - loss: 0.9776 - logo_center_loss: 0.8098 - logo_left_loss: 0.1678 - logo_center_binary_accuracy: 0.8547 - logo_left_binary_accuracy: 0.9510 - val_loss: 2.9102 - val_logo_center_loss: 1.6170 - val_logo_left_loss: 1.2933 - val_logo_center_binary_accuracy: 0.7670 - val_logo_left_binary_accuracy: 0.8063\n",
      "Epoch 64/100\n",
      "36/36 [==============================] - 35s 979ms/step - loss: 0.5326 - logo_center_loss: 0.3865 - logo_left_loss: 0.1461 - logo_center_binary_accuracy: 0.9082 - logo_left_binary_accuracy: 0.9528 - val_loss: 2.7541 - val_logo_center_loss: 1.4654 - val_logo_left_loss: 1.2887 - val_logo_center_binary_accuracy: 0.7984 - val_logo_left_binary_accuracy: 0.7958\n",
      "Epoch 65/100\n",
      "36/36 [==============================] - 41s 1s/step - loss: 0.3277 - logo_center_loss: 0.2004 - logo_left_loss: 0.1273 - logo_center_binary_accuracy: 0.9394 - logo_left_binary_accuracy: 0.9572 - val_loss: 2.6494 - val_logo_center_loss: 1.3747 - val_logo_left_loss: 1.2747 - val_logo_center_binary_accuracy: 0.8037 - val_logo_left_binary_accuracy: 0.7984\n",
      "Epoch 66/100\n",
      "36/36 [==============================] - 33s 917ms/step - loss: 0.2622 - logo_center_loss: 0.1537 - logo_left_loss: 0.1085 - logo_center_binary_accuracy: 0.9519 - logo_left_binary_accuracy: 0.9635 - val_loss: 2.6256 - val_logo_center_loss: 1.3534 - val_logo_left_loss: 1.2723 - val_logo_center_binary_accuracy: 0.8037 - val_logo_left_binary_accuracy: 0.7880\n",
      "Epoch 67/100\n"
     ]
    },
    {
     "name": "stdout",
     "output_type": "stream",
     "text": [
      "36/36 [==============================] - 32s 903ms/step - loss: 0.2269 - logo_center_loss: 0.1349 - logo_left_loss: 0.0920 - logo_center_binary_accuracy: 0.9545 - logo_left_binary_accuracy: 0.9679 - val_loss: 2.6186 - val_logo_center_loss: 1.3423 - val_logo_left_loss: 1.2763 - val_logo_center_binary_accuracy: 0.7984 - val_logo_left_binary_accuracy: 0.7880\n",
      "Epoch 68/100\n",
      "36/36 [==============================] - 35s 968ms/step - loss: 0.1933 - logo_center_loss: 0.1155 - logo_left_loss: 0.0778 - logo_center_binary_accuracy: 0.9608 - logo_left_binary_accuracy: 0.9750 - val_loss: 2.6123 - val_logo_center_loss: 1.3291 - val_logo_left_loss: 1.2832 - val_logo_center_binary_accuracy: 0.7906 - val_logo_left_binary_accuracy: 0.7880\n",
      "Epoch 69/100\n",
      "36/36 [==============================] - 32s 903ms/step - loss: 0.1639 - logo_center_loss: 0.0968 - logo_left_loss: 0.0671 - logo_center_binary_accuracy: 0.9661 - logo_left_binary_accuracy: 0.9777 - val_loss: 2.6199 - val_logo_center_loss: 1.3297 - val_logo_left_loss: 1.2902 - val_logo_center_binary_accuracy: 0.7906 - val_logo_left_binary_accuracy: 0.7906\n",
      "Epoch 70/100\n",
      "36/36 [==============================] - 32s 901ms/step - loss: 0.1408 - logo_center_loss: 0.0808 - logo_left_loss: 0.0601 - logo_center_binary_accuracy: 0.9733 - logo_left_binary_accuracy: 0.9822 - val_loss: 2.6277 - val_logo_center_loss: 1.3333 - val_logo_left_loss: 1.2944 - val_logo_center_binary_accuracy: 0.7906 - val_logo_left_binary_accuracy: 0.7880\n",
      "Epoch 71/100\n",
      "36/36 [==============================] - 33s 911ms/step - loss: 0.1245 - logo_center_loss: 0.0688 - logo_left_loss: 0.0557 - logo_center_binary_accuracy: 0.9768 - logo_left_binary_accuracy: 0.9840 - val_loss: 2.6348 - val_logo_center_loss: 1.3381 - val_logo_left_loss: 1.2967 - val_logo_center_binary_accuracy: 0.7853 - val_logo_left_binary_accuracy: 0.7853\n",
      "Epoch 72/100\n",
      "36/36 [==============================] - 33s 908ms/step - loss: 0.1135 - logo_center_loss: 0.0608 - logo_left_loss: 0.0527 - logo_center_binary_accuracy: 0.9804 - logo_left_binary_accuracy: 0.9857 - val_loss: 2.6407 - val_logo_center_loss: 1.3414 - val_logo_left_loss: 1.2993 - val_logo_center_binary_accuracy: 0.7906 - val_logo_left_binary_accuracy: 0.7853\n",
      "Epoch 73/100\n",
      "36/36 [==============================] - 33s 925ms/step - loss: 0.1057 - logo_center_loss: 0.0559 - logo_left_loss: 0.0499 - logo_center_binary_accuracy: 0.9840 - logo_left_binary_accuracy: 0.9875 - val_loss: 2.6458 - val_logo_center_loss: 1.3429 - val_logo_left_loss: 1.3030 - val_logo_center_binary_accuracy: 0.7853 - val_logo_left_binary_accuracy: 0.7853\n",
      "Epoch 74/100\n",
      "36/36 [==============================] - 35s 975ms/step - loss: 0.0994 - logo_center_loss: 0.0524 - logo_left_loss: 0.0470 - logo_center_binary_accuracy: 0.9857 - logo_left_binary_accuracy: 0.9893 - val_loss: 2.6521 - val_logo_center_loss: 1.3445 - val_logo_left_loss: 1.3076 - val_logo_center_binary_accuracy: 0.7880 - val_logo_left_binary_accuracy: 0.7827\n",
      "Epoch 75/100\n",
      "36/36 [==============================] - 35s 965ms/step - loss: 0.0936 - logo_center_loss: 0.0494 - logo_left_loss: 0.0443 - logo_center_binary_accuracy: 0.9875 - logo_left_binary_accuracy: 0.9902 - val_loss: 2.6601 - val_logo_center_loss: 1.3472 - val_logo_left_loss: 1.3129 - val_logo_center_binary_accuracy: 0.7880 - val_logo_left_binary_accuracy: 0.7827\n",
      "Epoch 76/100\n",
      "36/36 [==============================] - 33s 934ms/step - loss: 0.0881 - logo_center_loss: 0.0464 - logo_left_loss: 0.0417 - logo_center_binary_accuracy: 0.9893 - logo_left_binary_accuracy: 0.9911 - val_loss: 2.6694 - val_logo_center_loss: 1.3509 - val_logo_left_loss: 1.3185 - val_logo_center_binary_accuracy: 0.7827 - val_logo_left_binary_accuracy: 0.7801\n",
      "Epoch 77/100\n",
      "36/36 [==============================] - 35s 974ms/step - loss: 0.0829 - logo_center_loss: 0.0436 - logo_left_loss: 0.0394 - logo_center_binary_accuracy: 0.9920 - logo_left_binary_accuracy: 0.9911 - val_loss: 2.6795 - val_logo_center_loss: 1.3555 - val_logo_left_loss: 1.3240 - val_logo_center_binary_accuracy: 0.7827 - val_logo_left_binary_accuracy: 0.7801\n",
      "Epoch 78/100\n",
      "36/36 [==============================] - 43s 1s/step - loss: 0.0783 - logo_center_loss: 0.0409 - logo_left_loss: 0.0373 - logo_center_binary_accuracy: 0.9920 - logo_left_binary_accuracy: 0.9920 - val_loss: 2.6899 - val_logo_center_loss: 1.3605 - val_logo_left_loss: 1.3294 - val_logo_center_binary_accuracy: 0.7801 - val_logo_left_binary_accuracy: 0.7801\n",
      "Epoch 79/100\n",
      "36/36 [==============================] - 34s 956ms/step - loss: 0.0742 - logo_center_loss: 0.0386 - logo_left_loss: 0.0356 - logo_center_binary_accuracy: 0.9920 - logo_left_binary_accuracy: 0.9920 - val_loss: 2.7004 - val_logo_center_loss: 1.3658 - val_logo_left_loss: 1.3346 - val_logo_center_binary_accuracy: 0.7775 - val_logo_left_binary_accuracy: 0.7775\n",
      "Epoch 80/100\n",
      "36/36 [==============================] - 35s 973ms/step - loss: 0.0706 - logo_center_loss: 0.0365 - logo_left_loss: 0.0340 - logo_center_binary_accuracy: 0.9920 - logo_left_binary_accuracy: 0.9929 - val_loss: 2.7109 - val_logo_center_loss: 1.3712 - val_logo_left_loss: 1.3397 - val_logo_center_binary_accuracy: 0.7801 - val_logo_left_binary_accuracy: 0.7801\n",
      "Epoch 81/100\n",
      "36/36 [==============================] - 40s 1s/step - loss: 0.0674 - logo_center_loss: 0.0347 - logo_left_loss: 0.0327 - logo_center_binary_accuracy: 0.9920 - logo_left_binary_accuracy: 0.9929 - val_loss: 2.7214 - val_logo_center_loss: 1.3767 - val_logo_left_loss: 1.3446 - val_logo_center_binary_accuracy: 0.7801 - val_logo_left_binary_accuracy: 0.7827\n",
      "Epoch 82/100\n",
      "36/36 [==============================] - 35s 969ms/step - loss: 0.0646 - logo_center_loss: 0.0332 - logo_left_loss: 0.0314 - logo_center_binary_accuracy: 0.9929 - logo_left_binary_accuracy: 0.9938 - val_loss: 2.7318 - val_logo_center_loss: 1.3823 - val_logo_left_loss: 1.3495 - val_logo_center_binary_accuracy: 0.7801 - val_logo_left_binary_accuracy: 0.7827\n",
      "Epoch 83/100\n",
      "36/36 [==============================] - 34s 960ms/step - loss: 0.0620 - logo_center_loss: 0.0317 - logo_left_loss: 0.0303 - logo_center_binary_accuracy: 0.9929 - logo_left_binary_accuracy: 0.9947 - val_loss: 2.7420 - val_logo_center_loss: 1.3878 - val_logo_left_loss: 1.3542 - val_logo_center_binary_accuracy: 0.7801 - val_logo_left_binary_accuracy: 0.7853\n",
      "Epoch 84/100\n",
      "36/36 [==============================] - 34s 963ms/step - loss: 0.0597 - logo_center_loss: 0.0305 - logo_left_loss: 0.0292 - logo_center_binary_accuracy: 0.9938 - logo_left_binary_accuracy: 0.9947 - val_loss: 2.7521 - val_logo_center_loss: 1.3932 - val_logo_left_loss: 1.3589 - val_logo_center_binary_accuracy: 0.7827 - val_logo_left_binary_accuracy: 0.7827\n",
      "Epoch 85/100\n",
      "36/36 [==============================] - 35s 965ms/step - loss: 0.0575 - logo_center_loss: 0.0293 - logo_left_loss: 0.0282 - logo_center_binary_accuracy: 0.9947 - logo_left_binary_accuracy: 0.9955 - val_loss: 2.7619 - val_logo_center_loss: 1.3985 - val_logo_left_loss: 1.3634 - val_logo_center_binary_accuracy: 0.7801 - val_logo_left_binary_accuracy: 0.7801\n",
      "Epoch 86/100\n",
      "36/36 [==============================] - 35s 965ms/step - loss: 0.0556 - logo_center_loss: 0.0282 - logo_left_loss: 0.0273 - logo_center_binary_accuracy: 0.9947 - logo_left_binary_accuracy: 0.9964 - val_loss: 2.7714 - val_logo_center_loss: 1.4037 - val_logo_left_loss: 1.3678 - val_logo_center_binary_accuracy: 0.7801 - val_logo_left_binary_accuracy: 0.7801\n",
      "Epoch 87/100\n",
      "36/36 [==============================] - 40s 1s/step - loss: 0.0538 - logo_center_loss: 0.0273 - logo_left_loss: 0.0265 - logo_center_binary_accuracy: 0.9955 - logo_left_binary_accuracy: 0.9964 - val_loss: 2.7808 - val_logo_center_loss: 1.4087 - val_logo_left_loss: 1.3720 - val_logo_center_binary_accuracy: 0.7775 - val_logo_left_binary_accuracy: 0.7775\n",
      "Epoch 88/100\n",
      "36/36 [==============================] - 34s 958ms/step - loss: 0.0521 - logo_center_loss: 0.0264 - logo_left_loss: 0.0257 - logo_center_binary_accuracy: 0.9964 - logo_left_binary_accuracy: 0.9964 - val_loss: 2.7899 - val_logo_center_loss: 1.4137 - val_logo_left_loss: 1.3762 - val_logo_center_binary_accuracy: 0.7775 - val_logo_left_binary_accuracy: 0.7749\n",
      "Epoch 89/100\n"
     ]
    },
    {
     "name": "stdout",
     "output_type": "stream",
     "text": [
      "36/36 [==============================] - 34s 959ms/step - loss: 0.0505 - logo_center_loss: 0.0255 - logo_left_loss: 0.0249 - logo_center_binary_accuracy: 0.9964 - logo_left_binary_accuracy: 0.9964 - val_loss: 2.7989 - val_logo_center_loss: 1.4186 - val_logo_left_loss: 1.3803 - val_logo_center_binary_accuracy: 0.7775 - val_logo_left_binary_accuracy: 0.7749\n",
      "Epoch 90/100\n",
      "36/36 [==============================] - 35s 969ms/step - loss: 0.0490 - logo_center_loss: 0.0248 - logo_left_loss: 0.0242 - logo_center_binary_accuracy: 0.9964 - logo_left_binary_accuracy: 0.9964 - val_loss: 2.8078 - val_logo_center_loss: 1.4234 - val_logo_left_loss: 1.3844 - val_logo_center_binary_accuracy: 0.7749 - val_logo_left_binary_accuracy: 0.7723\n",
      "Epoch 91/100\n",
      "36/36 [==============================] - 37s 1s/step - loss: 0.0475 - logo_center_loss: 0.0240 - logo_left_loss: 0.0235 - logo_center_binary_accuracy: 0.9964 - logo_left_binary_accuracy: 0.9964 - val_loss: 2.8165 - val_logo_center_loss: 1.4281 - val_logo_left_loss: 1.3884 - val_logo_center_binary_accuracy: 0.7749 - val_logo_left_binary_accuracy: 0.7723\n",
      "Epoch 92/100\n",
      "36/36 [==============================] - 34s 937ms/step - loss: 0.0462 - logo_center_loss: 0.0233 - logo_left_loss: 0.0229 - logo_center_binary_accuracy: 0.9964 - logo_left_binary_accuracy: 0.9964 - val_loss: 2.8250 - val_logo_center_loss: 1.4327 - val_logo_left_loss: 1.3923 - val_logo_center_binary_accuracy: 0.7775 - val_logo_left_binary_accuracy: 0.7696\n",
      "Epoch 93/100\n",
      "36/36 [==============================] - 34s 938ms/step - loss: 0.0449 - logo_center_loss: 0.0227 - logo_left_loss: 0.0223 - logo_center_binary_accuracy: 0.9964 - logo_left_binary_accuracy: 0.9973 - val_loss: 2.8334 - val_logo_center_loss: 1.4373 - val_logo_left_loss: 1.3962 - val_logo_center_binary_accuracy: 0.7775 - val_logo_left_binary_accuracy: 0.7696\n",
      "Epoch 94/100\n",
      "36/36 [==============================] - 40s 1s/step - loss: 0.0437 - logo_center_loss: 0.0221 - logo_left_loss: 0.0217 - logo_center_binary_accuracy: 0.9964 - logo_left_binary_accuracy: 0.9973 - val_loss: 2.8417 - val_logo_center_loss: 1.4417 - val_logo_left_loss: 1.4000 - val_logo_center_binary_accuracy: 0.7749 - val_logo_left_binary_accuracy: 0.7696\n",
      "Epoch 95/100\n",
      "36/36 [==============================] - 35s 967ms/step - loss: 0.0426 - logo_center_loss: 0.0215 - logo_left_loss: 0.0211 - logo_center_binary_accuracy: 0.9973 - logo_left_binary_accuracy: 0.9973 - val_loss: 2.8498 - val_logo_center_loss: 1.4461 - val_logo_left_loss: 1.4037 - val_logo_center_binary_accuracy: 0.7749 - val_logo_left_binary_accuracy: 0.7670\n",
      "Epoch 96/100\n",
      "36/36 [==============================] - 37s 1s/step - loss: 0.0415 - logo_center_loss: 0.0209 - logo_left_loss: 0.0206 - logo_center_binary_accuracy: 0.9973 - logo_left_binary_accuracy: 0.9973 - val_loss: 2.8577 - val_logo_center_loss: 1.4504 - val_logo_left_loss: 1.4073 - val_logo_center_binary_accuracy: 0.7723 - val_logo_left_binary_accuracy: 0.7670\n",
      "Epoch 97/100\n",
      "36/36 [==============================] - 34s 944ms/step - loss: 0.0405 - logo_center_loss: 0.0204 - logo_left_loss: 0.0201 - logo_center_binary_accuracy: 0.9973 - logo_left_binary_accuracy: 0.9973 - val_loss: 2.8653 - val_logo_center_loss: 1.4545 - val_logo_left_loss: 1.4108 - val_logo_center_binary_accuracy: 0.7723 - val_logo_left_binary_accuracy: 0.7670\n",
      "Epoch 98/100\n",
      "36/36 [==============================] - 35s 976ms/step - loss: 0.0395 - logo_center_loss: 0.0199 - logo_left_loss: 0.0196 - logo_center_binary_accuracy: 0.9973 - logo_left_binary_accuracy: 0.9973 - val_loss: 2.8727 - val_logo_center_loss: 1.4585 - val_logo_left_loss: 1.4141 - val_logo_center_binary_accuracy: 0.7723 - val_logo_left_binary_accuracy: 0.7670\n",
      "Epoch 99/100\n",
      "36/36 [==============================] - 34s 935ms/step - loss: 0.0386 - logo_center_loss: 0.0194 - logo_left_loss: 0.0192 - logo_center_binary_accuracy: 0.9973 - logo_left_binary_accuracy: 0.9973 - val_loss: 2.8797 - val_logo_center_loss: 1.4624 - val_logo_left_loss: 1.4173 - val_logo_center_binary_accuracy: 0.7696 - val_logo_left_binary_accuracy: 0.7670\n",
      "Epoch 100/100\n",
      "36/36 [==============================] - 38s 1s/step - loss: 0.0378 - logo_center_loss: 0.0190 - logo_left_loss: 0.0188 - logo_center_binary_accuracy: 0.9973 - logo_left_binary_accuracy: 0.9973 - val_loss: 2.8865 - val_logo_center_loss: 1.4661 - val_logo_left_loss: 1.4204 - val_logo_center_binary_accuracy: 0.7749 - val_logo_left_binary_accuracy: 0.7670\n"
     ]
    }
   ],
   "source": [
    "history = efficientnet_v2_step2.fit(\n",
    "    trainable_ds, epochs=100, validation_data=testable_ds,\n",
    "    callbacks=[tf.keras.callbacks.TensorBoard(log_dir='logs/fit')]\n",
    ")"
   ]
  },
  {
   "cell_type": "code",
   "execution_count": 43,
   "id": "a686eae4",
   "metadata": {},
   "outputs": [
    {
     "name": "stdout",
     "output_type": "stream",
     "text": [
      "INFO:tensorflow:Assets written to: /tf/datasets/step2_multi/header/4/assets\n"
     ]
    },
    {
     "name": "stderr",
     "output_type": "stream",
     "text": [
      "INFO:tensorflow:Assets written to: /tf/datasets/step2_multi/header/4/assets\n"
     ]
    }
   ],
   "source": [
    "# efficientnet_v2_step2.save_weights('/tf/datasets/step2_multi/'+target+'/'+target)\n",
    "efficientnet_v2_step2.save('/tf/datasets/step2_multi/'+target+'/'+'4')"
   ]
  },
  {
   "cell_type": "code",
   "execution_count": 69,
   "id": "cd1c369e",
   "metadata": {},
   "outputs": [
    {
     "name": "stdout",
     "output_type": "stream",
     "text": [
      "1/1 [==============================] - 0s 439ms/step\n",
      "[array([[7.356843e-10]], dtype=float32), array([[1.]], dtype=float32)]\n",
      "logo_center: [7.356843e-10]\n",
      "logo_left: [1.]\n"
     ]
    }
   ],
   "source": [
    "import tensorflow as tf\n",
    "from tensorflow.keras.preprocessing import image\n",
    "from tensorflow.keras.applications.efficientnet import EfficientNetB0\n",
    "\n",
    "# 저장된 모델 로드\n",
    "model = tf.keras.models.load_model('/tf/datasets/step2_multi/header/4')\n",
    "\n",
    "# 이미지 불러오기\n",
    "img_path = '/tf/datasets/step2_new/data/header/logo_left/hyw_screencapture-demo-theme-sky-zamona-fashion-fashion-02-2022-09-27-15_27_20926_01.jpg'\n",
    "img = image.load_img(img_path, target_size=(224, 224))\n",
    "img = image.img_to_array(img)\n",
    "img = img / 255.0  # Normalize the image\n",
    "img = tf.expand_dims(img, axis=0)  # Add batch dimension\n",
    "\n",
    "# Make predictions\n",
    "predictions = model.predict(img)\n",
    "\n",
    "print(predictions)\n",
    "class_0_probability = predictions[0][0]\n",
    "class_1_probability = predictions[1][0]\n",
    "\n",
    "print(\"logo_center:\", class_0_probability)\n",
    "print(\"logo_left:\", class_1_probability)"
   ]
  },
  {
   "cell_type": "code",
   "execution_count": 45,
   "id": "7c259b71",
   "metadata": {},
   "outputs": [
    {
     "name": "stdout",
     "output_type": "stream",
     "text": [
      "Collecting tensorflow-addons\n",
      "  Downloading tensorflow_addons-0.21.0-cp38-cp38-manylinux_2_17_x86_64.manylinux2014_x86_64.whl (612 kB)\n",
      "\u001b[2K     \u001b[90m━━━━━━━━━━━━━━━━━━━━━━━━━━━━━━━━━━━━━━\u001b[0m \u001b[32m612.0/612.0 kB\u001b[0m \u001b[31m25.2 MB/s\u001b[0m eta \u001b[36m0:00:00\u001b[0m\n",
      "\u001b[?25hRequirement already satisfied: packaging in /usr/local/lib/python3.8/dist-packages (from tensorflow-addons) (23.1)\n",
      "Collecting typeguard<3.0.0,>=2.7 (from tensorflow-addons)\n",
      "  Downloading typeguard-2.13.3-py3-none-any.whl (17 kB)\n",
      "Installing collected packages: typeguard, tensorflow-addons\n",
      "Successfully installed tensorflow-addons-0.21.0 typeguard-2.13.3\n",
      "\u001b[33mWARNING: Running pip as the 'root' user can result in broken permissions and conflicting behaviour with the system package manager. It is recommended to use a virtual environment instead: https://pip.pypa.io/warnings/venv\u001b[0m\u001b[33m\n",
      "\u001b[0m"
     ]
    }
   ],
   "source": [
    "!pip install tensorflow-addons\n"
   ]
  },
  {
   "cell_type": "code",
   "execution_count": 53,
   "id": "e8767fc8",
   "metadata": {},
   "outputs": [
    {
     "name": "stdout",
     "output_type": "stream",
     "text": [
      "logo_center: [5.7939576e-07]\n",
      "logo_left: [0.99999857]\n"
     ]
    }
   ],
   "source": [
    "class_0_probability = predictions[0][0]\n",
    "class_1_probability = predictions[1][0]\n",
    "\n",
    "print(\"logo_center:\", class_0_probability)\n",
    "print(\"logo_left:\", class_1_probability)"
   ]
  },
  {
   "cell_type": "code",
   "execution_count": null,
   "id": "724646d8",
   "metadata": {},
   "outputs": [],
   "source": []
  }
 ],
 "metadata": {
  "kernelspec": {
   "display_name": "Python 3 (ipykernel)",
   "language": "python",
   "name": "python3"
  },
  "language_info": {
   "codemirror_mode": {
    "name": "ipython",
    "version": 3
   },
   "file_extension": ".py",
   "mimetype": "text/x-python",
   "name": "python",
   "nbconvert_exporter": "python",
   "pygments_lexer": "ipython3",
   "version": "3.8.10"
  }
 },
 "nbformat": 4,
 "nbformat_minor": 5
}
