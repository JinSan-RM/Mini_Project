{
  "nbformat": 4,
  "nbformat_minor": 0,
  "metadata": {
    "colab": {
      "provenance": []
    },
    "kernelspec": {
      "name": "python3",
      "display_name": "Python 3"
    },
    "language_info": {
      "name": "python"
    }
  },
  "cells": [
    {
      "cell_type": "markdown",
      "source": [
        "# SimpleRNN Test Code"
      ],
      "metadata": {
        "id": "K6lvdtWSCZTr"
      }
    },
    {
      "cell_type": "code",
      "execution_count": 1,
      "metadata": {
        "id": "0HJI_w-5CQqo"
      },
      "outputs": [],
      "source": [
        "import warnings\n",
        "warnings.filterwarnings('ignore')"
      ]
    },
    {
      "cell_type": "markdown",
      "source": [
        "> ## Import Packages"
      ],
      "metadata": {
        "id": "M5vd94OLCd2U"
      }
    },
    {
      "cell_type": "code",
      "source": [
        "import numpy as np\n",
        "import matplotlib.pyplot as plt"
      ],
      "metadata": {
        "id": "w3v0BCi2CdR_"
      },
      "execution_count": 2,
      "outputs": []
    },
    {
      "cell_type": "markdown",
      "source": [
        "# I. SimpleRNN - without Normalization\n",
        "\n",
        "> ## 1) Sample Data\n",
        "\n",
        "- Inputs 데이터 생성(100, 5, 1)"
      ],
      "metadata": {
        "id": "s5ES0b1uCjAj"
      }
    },
    {
      "cell_type": "code",
      "source": [
        "X = [[[i + j] for i in range(5)] for j in range(100)]\n",
        "\n",
        "X[:3], X[-3:]"
      ],
      "metadata": {
        "colab": {
          "base_uri": "https://localhost:8080/"
        },
        "id": "4woWibd3CiNT",
        "outputId": "2e411dd6-9433-4108-8bc8-043967bc5387"
      },
      "execution_count": 3,
      "outputs": [
        {
          "output_type": "execute_result",
          "data": {
            "text/plain": [
              "([[[0], [1], [2], [3], [4]],\n",
              "  [[1], [2], [3], [4], [5]],\n",
              "  [[2], [3], [4], [5], [6]]],\n",
              " [[[97], [98], [99], [100], [101]],\n",
              "  [[98], [99], [100], [101], [102]],\n",
              "  [[99], [100], [101], [102], [103]]])"
            ]
          },
          "metadata": {},
          "execution_count": 3
        }
      ]
    },
    {
      "cell_type": "markdown",
      "source": [
        "- Outputs 데이터 생성(100, 1)"
      ],
      "metadata": {
        "id": "Wwu9BwESCwEB"
      }
    },
    {
      "cell_type": "code",
      "source": [
        "y = [(i + 5) for i in range(100)]\n",
        "\n",
        "y[:3], y[-3:]"
      ],
      "metadata": {
        "colab": {
          "base_uri": "https://localhost:8080/"
        },
        "id": "RWCL3svrCrw-",
        "outputId": "eaa95717-a75f-49e3-86fc-472a1690d51e"
      },
      "execution_count": 4,
      "outputs": [
        {
          "output_type": "execute_result",
          "data": {
            "text/plain": [
              "([5, 6, 7], [102, 103, 104])"
            ]
          },
          "metadata": {},
          "execution_count": 4
        }
      ]
    },
    {
      "cell_type": "markdown",
      "source": [
        "> ## 2) numpy_Array Casting"
      ],
      "metadata": {
        "id": "rcpdPOKxC2jh"
      }
    },
    {
      "cell_type": "code",
      "source": [
        "X = np.array(X, dtype = float)\n",
        "y = np.array(y, dtype = float)\n",
        "\n",
        "X.shape, y.shape"
      ],
      "metadata": {
        "colab": {
          "base_uri": "https://localhost:8080/"
        },
        "id": "_DXfqB7xC1Km",
        "outputId": "1b3bbb92-4327-49fa-b50e-11814a8fbf36"
      },
      "execution_count": 5,
      "outputs": [
        {
          "output_type": "execute_result",
          "data": {
            "text/plain": [
              "((100, 5, 1), (100,))"
            ]
          },
          "metadata": {},
          "execution_count": 5
        }
      ]
    },
    {
      "cell_type": "markdown",
      "source": [
        "> ## 3) Train vs. Test Split"
      ],
      "metadata": {
        "id": "tv8ATMnTDAuX"
      }
    },
    {
      "cell_type": "code",
      "source": [
        "from sklearn.model_selection import train_test_split\n",
        "\n",
        "X_train, X_test, y_train, y_test = train_test_split(X, y,\n",
        "                                                    test_size = 0.2,\n",
        "                                                    random_state = 2045)\n",
        "\n",
        "X_train.shape, X_test.shape, y_train.shape, y_test.shape"
      ],
      "metadata": {
        "colab": {
          "base_uri": "https://localhost:8080/"
        },
        "id": "Y0OfbnSJC-KJ",
        "outputId": "6f9896dc-a329-4d4d-9fdc-1669723a69ca"
      },
      "execution_count": 6,
      "outputs": [
        {
          "output_type": "execute_result",
          "data": {
            "text/plain": [
              "((80, 5, 1), (20, 5, 1), (80,), (20,))"
            ]
          },
          "metadata": {},
          "execution_count": 6
        }
      ]
    },
    {
      "cell_type": "markdown",
      "source": [
        "> ## 4) Keras SimpleRNN Modeling\n",
        "\n",
        "### (1) Model Define & Summary\n",
        "\n",
        "- Unit(output_dim) : 3\n",
        "- input_shape(input_lenght, input_dim) : (5, 1)\n",
        "- return_sequences = False : 최종 Unit만 출력\n",
        "- layers.Dense(1) : y_hat"
      ],
      "metadata": {
        "id": "ozlVIg9KDPck"
      }
    },
    {
      "cell_type": "code",
      "source": [
        "from tensorflow.keras import models, layers\n",
        "\n",
        "model_1 = models.Sequential(name = 'SimpleRNN_1')\n",
        "model_1.add(layers.SimpleRNN(3,\n",
        "                             input_shape = (5, 1),\n",
        "                             return_sequences = False))\n",
        "model_1.add(layers.Dense(1))\n",
        "model_1.summary()"
      ],
      "metadata": {
        "colab": {
          "base_uri": "https://localhost:8080/"
        },
        "id": "Dpw77glzDKse",
        "outputId": "6b68f279-06e5-4ba7-c5e3-9fd73da659f1"
      },
      "execution_count": 7,
      "outputs": [
        {
          "output_type": "stream",
          "name": "stdout",
          "text": [
            "Model: \"SimpleRNN_1\"\n",
            "_________________________________________________________________\n",
            " Layer (type)                Output Shape              Param #   \n",
            "=================================================================\n",
            " simple_rnn (SimpleRNN)      (None, 3)                 15        \n",
            "                                                                 \n",
            " dense (Dense)               (None, 1)                 4         \n",
            "                                                                 \n",
            "=================================================================\n",
            "Total params: 19\n",
            "Trainable params: 19\n",
            "Non-trainable params: 0\n",
            "_________________________________________________________________\n"
          ]
        }
      ]
    },
    {
      "cell_type": "markdown",
      "source": [
        "### (2) Model Compile"
      ],
      "metadata": {
        "id": "HHkooWBCDoLd"
      }
    },
    {
      "cell_type": "code",
      "source": [
        "model_1.compile(loss = 'mse',\n",
        "                optimizer = 'adam',\n",
        "                metrics = ['mae'])"
      ],
      "metadata": {
        "id": "i8r3XKCmDkjg"
      },
      "execution_count": 8,
      "outputs": []
    },
    {
      "cell_type": "markdown",
      "source": [
        "### (3) Model Fit"
      ],
      "metadata": {
        "id": "At5GNG38Dyit"
      }
    },
    {
      "cell_type": "code",
      "source": [
        "Hist_1 = model_1.fit(X_train, y_train,\n",
        "                     epochs = 100,\n",
        "                     batch_size = 8,\n",
        "                     validation_data = (X_test, y_test),\n",
        "                     verbose = 0)"
      ],
      "metadata": {
        "id": "LsW-dupZDvzx"
      },
      "execution_count": 9,
      "outputs": []
    },
    {
      "cell_type": "markdown",
      "source": [
        "### (4) Model Predict"
      ],
      "metadata": {
        "id": "FHmoV9JXD9ZZ"
      }
    },
    {
      "cell_type": "code",
      "source": [
        "y_hat_1 = model_1.predict(X_test, verbose = 0)"
      ],
      "metadata": {
        "id": "xLVj6z4rD8_B"
      },
      "execution_count": 10,
      "outputs": []
    },
    {
      "cell_type": "markdown",
      "source": [
        "### (5) 학습 결과 시각화\n",
        "\n",
        "- Loss 감소"
      ],
      "metadata": {
        "id": "AgOSLcd2EDBu"
      }
    },
    {
      "cell_type": "code",
      "source": [
        "plt.plot(Hist_1.history['loss'])\n",
        "plt.show()"
      ],
      "metadata": {
        "colab": {
          "base_uri": "https://localhost:8080/",
          "height": 430
        },
        "id": "NcADduQQEB1y",
        "outputId": "8fe1b676-f39f-4d1a-b461-4efe33edd81f"
      },
      "execution_count": 11,
      "outputs": [
        {
          "output_type": "display_data",
          "data": {
            "text/plain": [
              "<Figure size 640x480 with 1 Axes>"
            ],
            "image/png": "[encoded data removed]"
          },
          "metadata": {}
        }
      ]
    },
    {
      "cell_type": "markdown",
      "source": [
        "- 학습 되지 않음\n",
        "  - 녹색 -> 정답(y_test)\n",
        "  - 적색 -> 예측(y_hat)"
      ],
      "metadata": {
        "id": "DH0aXltqEKew"
      }
    },
    {
      "cell_type": "code",
      "source": [
        "plt.scatter(range(20), y_test, c = 'g')\n",
        "plt.scatter(range(20), y_hat_1, c = 'r')\n",
        "plt.show()"
      ],
      "metadata": {
        "colab": {
          "base_uri": "https://localhost:8080/",
          "height": 430
        },
        "id": "Btne-i7mEJaC",
        "outputId": "97105f00-b898-4ccd-eb7f-2ae6730d77c0"
      },
      "execution_count": 12,
      "outputs": [
        {
          "output_type": "display_data",
          "data": {
            "text/plain": [
              "<Figure size 640x480 with 1 Axes>"
            ],
            "image/png": "[encoded data removed]"
          },
          "metadata": {}
        }
      ]
    },
    {
      "cell_type": "markdown",
      "source": [
        "# II. SimpleRNN - with Normalization\n",
        "\n",
        "> ## 1) Sample Data - with Normalization"
      ],
      "metadata": {
        "id": "Ivv3Q6P0EUOq"
      }
    },
    {
      "cell_type": "code",
      "source": [
        "X = [[[(i + j)] for i in range(5)] for j in range(100)]\n",
        "y = [(i + 5) for i in range(100)]\n",
        "\n",
        "X = (X - np.min(X)) / (np.max(X) - np.min(X))\n",
        "y = (y - np.min(y)) / (np.max(y) - np.min(y))"
      ],
      "metadata": {
        "id": "rNydCb1eESAE"
      },
      "execution_count": 13,
      "outputs": []
    },
    {
      "cell_type": "markdown",
      "source": [
        "> ## 2) Casting"
      ],
      "metadata": {
        "id": "l6Q2wgesEpus"
      }
    },
    {
      "cell_type": "code",
      "source": [
        "X = np.array(X, dtype = float)\n",
        "y = np.array(y, dtype = float)\n",
        "\n",
        "X.shape, y.shape"
      ],
      "metadata": {
        "colab": {
          "base_uri": "https://localhost:8080/"
        },
        "id": "Fvc_HdYeElFN",
        "outputId": "d4853f0c-1303-4366-d26e-7e4c20058fc1"
      },
      "execution_count": 14,
      "outputs": [
        {
          "output_type": "execute_result",
          "data": {
            "text/plain": [
              "((100, 5, 1), (100,))"
            ]
          },
          "metadata": {},
          "execution_count": 14
        }
      ]
    },
    {
      "cell_type": "markdown",
      "source": [
        "> ## 3) Train vs. Test Split"
      ],
      "metadata": {
        "id": "nfO8J9tIEyvS"
      }
    },
    {
      "cell_type": "code",
      "source": [
        "X_train, X_test, y_train, y_test = train_test_split(X, y,\n",
        "                                                    test_size = 0.2,\n",
        "                                                    random_state = 2045)\n",
        "\n",
        "X_train.shape, X_test.shape, y_train.shape, y_test.shape"
      ],
      "metadata": {
        "colab": {
          "base_uri": "https://localhost:8080/"
        },
        "id": "36Kzvob9ExzH",
        "outputId": "563ee730-a02b-4450-a963-9f0694a070c5"
      },
      "execution_count": 15,
      "outputs": [
        {
          "output_type": "execute_result",
          "data": {
            "text/plain": [
              "((80, 5, 1), (20, 5, 1), (80,), (20,))"
            ]
          },
          "metadata": {},
          "execution_count": 15
        }
      ]
    },
    {
      "cell_type": "markdown",
      "source": [
        "> ## 4) Keras SimpleRNN Modeling\n",
        "\n",
        "### (1) Model Define & Summary\n",
        "\n",
        "- None : input_length 자동 맞춤"
      ],
      "metadata": {
        "id": "idi62VkvE8JV"
      }
    },
    {
      "cell_type": "code",
      "source": [
        "model_2 = models.Sequential(name = 'SimpleRNN_2')\n",
        "model_2.add(layers.SimpleRNN(3,\n",
        "                             input_shape = (None, 1),\n",
        "                             return_sequences = False))\n",
        "model_2.add(layers.Dense(1))\n",
        "\n",
        "model_2.summary()"
      ],
      "metadata": {
        "colab": {
          "base_uri": "https://localhost:8080/"
        },
        "id": "KqF4OwXfE7F7",
        "outputId": "9debd23c-d138-4fd2-ae0d-c022b096b06c"
      },
      "execution_count": 16,
      "outputs": [
        {
          "output_type": "stream",
          "name": "stdout",
          "text": [
            "Model: \"SimpleRNN_2\"\n",
            "_________________________________________________________________\n",
            " Layer (type)                Output Shape              Param #   \n",
            "=================================================================\n",
            " simple_rnn_1 (SimpleRNN)    (None, 3)                 15        \n",
            "                                                                 \n",
            " dense_1 (Dense)             (None, 1)                 4         \n",
            "                                                                 \n",
            "=================================================================\n",
            "Total params: 19\n",
            "Trainable params: 19\n",
            "Non-trainable params: 0\n",
            "_________________________________________________________________\n"
          ]
        }
      ]
    },
    {
      "cell_type": "markdown",
      "source": [
        "### (2) Model Compile"
      ],
      "metadata": {
        "id": "yqndut3rFUM9"
      }
    },
    {
      "cell_type": "code",
      "source": [
        "model_2.compile(loss = 'mse',\n",
        "                optimizer = 'adam',\n",
        "                metrics = ['mae'])"
      ],
      "metadata": {
        "id": "EATN3sMiFMrd"
      },
      "execution_count": 17,
      "outputs": []
    },
    {
      "cell_type": "markdown",
      "source": [
        "### (3) Model Fit"
      ],
      "metadata": {
        "id": "14tdhdsUFc7I"
      }
    },
    {
      "cell_type": "code",
      "source": [
        "Hist_2 = model_2.fit(X_train, y_train,\n",
        "                     epochs = 100,\n",
        "                     batch_size = 8,\n",
        "                     validation_data = (X_test, y_test),\n",
        "                     verbose = 0)"
      ],
      "metadata": {
        "id": "ZHxKu3XQFcUp"
      },
      "execution_count": 18,
      "outputs": []
    },
    {
      "cell_type": "markdown",
      "source": [
        "### (4) Model Predict"
      ],
      "metadata": {
        "id": "DOjVP6Z9FqOn"
      }
    },
    {
      "cell_type": "code",
      "source": [
        "y_hat_2 = model_2.predict(X_test, verbose = 0)"
      ],
      "metadata": {
        "id": "gqkZHngPFk3F"
      },
      "execution_count": 19,
      "outputs": []
    },
    {
      "cell_type": "markdown",
      "source": [
        "### (5) 학습 결과 시각화\n",
        "- Loss 감소"
      ],
      "metadata": {
        "id": "dxsMSbAEFv9o"
      }
    },
    {
      "cell_type": "code",
      "source": [
        "plt.plot(Hist_2.history['loss'])\n",
        "plt.show()"
      ],
      "metadata": {
        "colab": {
          "base_uri": "https://localhost:8080/",
          "height": 430
        },
        "id": "g5P3jW_dFvPH",
        "outputId": "b04e4ef2-3f89-4ee5-badd-35ea3906a5ff"
      },
      "execution_count": 20,
      "outputs": [
        {
          "output_type": "display_data",
          "data": {
            "text/plain": [
              "<Figure size 640x480 with 1 Axes>"
            ],
            "image/png": "[encoded data removed]"
          },
          "metadata": {}
        }
      ]
    },
    {
      "cell_type": "markdown",
      "source": [
        "- 학습 진행\n",
        "  - 녹색 -> 정답(y_test)\n",
        "  - 적색 -> 예측(y_hat)"
      ],
      "metadata": {
        "id": "P329Lb96F5L0"
      }
    },
    {
      "cell_type": "code",
      "source": [
        "plt.scatter(range(20), y_test, c = 'g')\n",
        "plt.scatter(range(20), y_hat_2, c = 'r')\n",
        "plt.show()"
      ],
      "metadata": {
        "colab": {
          "base_uri": "https://localhost:8080/",
          "height": 430
        },
        "id": "Q1XvTLlvF3nM",
        "outputId": "9fce73a6-4170-4319-df6e-fc4ee9463ffa"
      },
      "execution_count": 32,
      "outputs": [
        {
          "output_type": "display_data",
          "data": {
            "text/plain": [
              "<Figure size 640x480 with 1 Axes>"
            ],
            "image/png": "[encoded data removed]"
          },
          "metadata": {}
        }
      ]
    },
    {
      "cell_type": "markdown",
      "source": [
        "# III. Stacked_SimpleRNN\n",
        "\n",
        "> ## 1) Model Define & Summary\n",
        "\n",
        "- return_sequences = True"
      ],
      "metadata": {
        "id": "79PWDFB4GCgh"
      }
    },
    {
      "cell_type": "code",
      "source": [
        "model_3 = models.Sequential(name = 'Stacked_RNN')\n",
        "model_3.add(layers.SimpleRNN(3,\n",
        "                             input_shape = (None, 1),\n",
        "                             return_sequences = True))\n",
        "model_3.add(layers.SimpleRNN(3,\n",
        "                             input_shape = (None, 1),\n",
        "                             return_sequences = False))\n",
        "model_3.add(layers.Dense(1))\n",
        "\n",
        "model_3.summary()"
      ],
      "metadata": {
        "colab": {
          "base_uri": "https://localhost:8080/"
        },
        "id": "mmaCLrGSF_7k",
        "outputId": "319875b4-fff4-4f02-87df-8f2c862ecb7f"
      },
      "execution_count": 21,
      "outputs": [
        {
          "output_type": "stream",
          "name": "stdout",
          "text": [
            "Model: \"Stacked_RNN\"\n",
            "_________________________________________________________________\n",
            " Layer (type)                Output Shape              Param #   \n",
            "=================================================================\n",
            " simple_rnn_2 (SimpleRNN)    (None, None, 3)           15        \n",
            "                                                                 \n",
            " simple_rnn_3 (SimpleRNN)    (None, 3)                 21        \n",
            "                                                                 \n",
            " dense_2 (Dense)             (None, 1)                 4         \n",
            "                                                                 \n",
            "=================================================================\n",
            "Total params: 40\n",
            "Trainable params: 40\n",
            "Non-trainable params: 0\n",
            "_________________________________________________________________\n"
          ]
        }
      ]
    },
    {
      "cell_type": "markdown",
      "source": [
        "> ## 2) Model Compile"
      ],
      "metadata": {
        "id": "FHik2v7WGbjT"
      }
    },
    {
      "cell_type": "code",
      "source": [
        "model_3.compile(loss = 'mse',\n",
        "                optimizer = 'adam',\n",
        "                metrics = ['mae'])"
      ],
      "metadata": {
        "id": "9v5va5-AGX0t"
      },
      "execution_count": 22,
      "outputs": []
    },
    {
      "cell_type": "markdown",
      "source": [
        "> ## 3) Model Fit"
      ],
      "metadata": {
        "id": "AP3MwKFJGh-j"
      }
    },
    {
      "cell_type": "code",
      "source": [
        "Hist_3 = model_3.fit(X_train, y_train,\n",
        "                     epochs = 100,\n",
        "                     batch_size = 8,\n",
        "                     validation_data = (X_test, y_test),\n",
        "                     verbose = 0)"
      ],
      "metadata": {
        "id": "8cN5F1XVGhkm"
      },
      "execution_count": 23,
      "outputs": []
    },
    {
      "cell_type": "markdown",
      "source": [
        "> ## 4) Model Predict"
      ],
      "metadata": {
        "id": "D6uPB41MGsPV"
      }
    },
    {
      "cell_type": "code",
      "source": [
        "y_hat_3 = model_3.predict(X_test, verbose = 0)"
      ],
      "metadata": {
        "id": "fmwlX5cRGr04"
      },
      "execution_count": 24,
      "outputs": []
    },
    {
      "cell_type": "markdown",
      "source": [
        "> ## 5) 학습 결과 시각화"
      ],
      "metadata": {
        "id": "DfAvQ-2CGxiF"
      }
    },
    {
      "cell_type": "code",
      "source": [
        "plt.plot(Hist_3.history['loss'])\n",
        "plt.show()"
      ],
      "metadata": {
        "colab": {
          "base_uri": "https://localhost:8080/",
          "height": 430
        },
        "id": "6-kjkapvGwec",
        "outputId": "a32584fa-2519-4399-dbea-4670594e9e88"
      },
      "execution_count": 25,
      "outputs": [
        {
          "output_type": "display_data",
          "data": {
            "text/plain": [
              "<Figure size 640x480 with 1 Axes>"
            ],
            "image/png": "[encoded data removed]"
          },
          "metadata": {}
        }
      ]
    },
    {
      "cell_type": "code",
      "source": [
        "plt.scatter(range(20), y_test, c = 'g')\n",
        "plt.scatter(range(20), y_hat_3, c = 'r')\n",
        "plt.show()"
      ],
      "metadata": {
        "colab": {
          "base_uri": "https://localhost:8080/",
          "height": 430
        },
        "id": "2QIpN1COG7kr",
        "outputId": "4075ce4e-9fec-4b1f-a87f-947960b0f6a1"
      },
      "execution_count": 26,
      "outputs": [
        {
          "output_type": "display_data",
          "data": {
            "text/plain": [
              "<Figure size 640x480 with 1 Axes>"
            ],
            "image/png": "[encoded data removed]"
          },
          "metadata": {}
        }
      ]
    },
    {
      "cell_type": "markdown",
      "source": [
        "#IV. 'return_sequences' Output_Options\n",
        "\n",
        "- 'input_length'에 대한 Sequance 전체를 출력할지 설정\n",
        "  - Sequence: Hidden State\n",
        "  - 'False' vs. 'True'"
      ],
      "metadata": {
        "id": "15jJwBEiHDhJ"
      }
    },
    {
      "cell_type": "markdown",
      "source": [
        "> ## 1) 실습데이터 생성"
      ],
      "metadata": {
        "id": "TOIPtvCvHIBg"
      }
    },
    {
      "cell_type": "code",
      "source": [
        "X = [[[i + j] for i in range(5)] for j in range(100)]\n",
        "y = [i + 5 for i in range(100)]"
      ],
      "metadata": {
        "id": "-0R-af1zHCF1"
      },
      "execution_count": 28,
      "outputs": []
    },
    {
      "cell_type": "code",
      "source": [
        "X = np.array(X, dtype = float)\n",
        "y = np.array(y, dtype = float)"
      ],
      "metadata": {
        "id": "smGyGQPAHP3N"
      },
      "execution_count": 29,
      "outputs": []
    },
    {
      "cell_type": "code",
      "source": [
        "X_train, X_test, y_train, y_test = train_test_split(X, y,\n",
        "                                                    test_size = 0.2,\n",
        "                                                    random_state = 2045)\n",
        "\n",
        "X_train.shape, y_train.shape, X_test.shape, y_test.shape"
      ],
      "metadata": {
        "colab": {
          "base_uri": "https://localhost:8080/"
        },
        "id": "5_2BrfcxHQth",
        "outputId": "f3fcf9ba-a555-43df-9655-6c0a799bb7be"
      },
      "execution_count": 30,
      "outputs": [
        {
          "output_type": "execute_result",
          "data": {
            "text/plain": [
              "((80, 5, 1), (80,), (20, 5, 1), (20,))"
            ]
          },
          "metadata": {},
          "execution_count": 30
        }
      ]
    },
    {
      "cell_type": "markdown",
      "source": [
        "> ## 2) 테스트용 Input Data"
      ],
      "metadata": {
        "id": "-yhM7VaNHVKv"
      }
    },
    {
      "cell_type": "code",
      "source": [
        "X_test[0].reshape(1, 5, 1)"
      ],
      "metadata": {
        "colab": {
          "base_uri": "https://localhost:8080/"
        },
        "id": "AgqvRF1qHReY",
        "outputId": "23347fe9-a1c1-4626-863a-d2e9b63327e3"
      },
      "execution_count": 31,
      "outputs": [
        {
          "output_type": "execute_result",
          "data": {
            "text/plain": [
              "array([[[29.],\n",
              "        [30.],\n",
              "        [31.],\n",
              "        [32.],\n",
              "        [33.]]])"
            ]
          },
          "metadata": {},
          "execution_count": 31
        }
      ]
    },
    {
      "cell_type": "markdown",
      "source": [
        "> ## 3) False_Option\n",
        "\n",
        "- 마지막 Output만 출력\n",
        "  - Unit -> 1"
      ],
      "metadata": {
        "id": "YkGzXZd6HaIS"
      }
    },
    {
      "cell_type": "code",
      "source": [
        "Model_False = models.Sequential()\n",
        "Model_False.add(layers.SimpleRNN(1,\n",
        "                                 input_shape = (5 ,1),\n",
        "                                 return_sequences = False))\n",
        "\n",
        "Model_False.compile(loss = 'mse',\n",
        "                    optimizer = 'adam',\n",
        "                    metrics = ['mae'])"
      ],
      "metadata": {
        "id": "UO75aywsHYIn"
      },
      "execution_count": 32,
      "outputs": []
    },
    {
      "cell_type": "markdown",
      "source": [
        "- Output 1개"
      ],
      "metadata": {
        "id": "ax8MWcb2HvGa"
      }
    },
    {
      "cell_type": "code",
      "source": [
        "Model_False.predict(X_test[0].reshape(1, 5, 1), verbose = 0)"
      ],
      "metadata": {
        "colab": {
          "base_uri": "https://localhost:8080/"
        },
        "id": "jmRqXTIzHuSX",
        "outputId": "537a00c7-6456-4887-b3be-21ed5f6aaf8c"
      },
      "execution_count": 33,
      "outputs": [
        {
          "output_type": "execute_result",
          "data": {
            "text/plain": [
              "array([[1.]], dtype=float32)"
            ]
          },
          "metadata": {},
          "execution_count": 33
        }
      ]
    },
    {
      "cell_type": "markdown",
      "source": [
        "- 마지막 Output만 출력\n",
        "  - Unit -> 3"
      ],
      "metadata": {
        "id": "YEdb6JZvH0-6"
      }
    },
    {
      "cell_type": "code",
      "source": [
        "Model_False = models.Sequential()\n",
        "Model_False.add(layers.SimpleRNN(3,\n",
        "                                 input_shape = (5, 1),\n",
        "                                 return_sequences = False))\n",
        "\n",
        "Model_False.compile(loss = 'mse',\n",
        "                    optimizer = 'adam',\n",
        "                    metrics = ['mae'])"
      ],
      "metadata": {
        "id": "Bu4kdAP_Hz30"
      },
      "execution_count": 34,
      "outputs": []
    },
    {
      "cell_type": "markdown",
      "source": [
        "- Output 1개(3개 Unit)"
      ],
      "metadata": {
        "id": "rdGWZN9QIIOz"
      }
    },
    {
      "cell_type": "code",
      "source": [
        "Model_False.predict(X_test[0].reshape(1, 5, 1), verbose = 0)"
      ],
      "metadata": {
        "colab": {
          "base_uri": "https://localhost:8080/"
        },
        "id": "s8yY_vurIEei",
        "outputId": "1e696eac-bdcb-40c1-cf56-5e4c4fba7801"
      },
      "execution_count": 35,
      "outputs": [
        {
          "output_type": "stream",
          "name": "stderr",
          "text": [
            "WARNING:tensorflow:5 out of the last 5 calls to <function Model.make_predict_function.<locals>.predict_function at 0x7f729bc63940> triggered tf.function retracing. Tracing is expensive and the excessive number of tracings could be due to (1) creating @tf.function repeatedly in a loop, (2) passing tensors with different shapes, (3) passing Python objects instead of tensors. For (1), please define your @tf.function outside of the loop. For (2), @tf.function has reduce_retracing=True option that can avoid unnecessary retracing. For (3), please refer to https://www.tensorflow.org/guide/function#controlling_retracing and https://www.tensorflow.org/api_docs/python/tf/function for  more details.\n"
          ]
        },
        {
          "output_type": "execute_result",
          "data": {
            "text/plain": [
              "array([[-1.,  1., -1.]], dtype=float32)"
            ]
          },
          "metadata": {},
          "execution_count": 35
        }
      ]
    },
    {
      "cell_type": "markdown",
      "source": [
        "> ## 4) True_Option\n",
        "\n",
        "- 매 순환마다 Output 출력\n",
        "  - Unit -> 1\n",
        "  - input_length -> 5"
      ],
      "metadata": {
        "id": "T-mkns9_IOaM"
      }
    },
    {
      "cell_type": "code",
      "source": [
        "Model_True = models.Sequential()\n",
        "\n",
        "Model_True.add(layers.SimpleRNN(1,\n",
        "                                input_shape = (5, 1),\n",
        "                                return_sequences = True))\n",
        "\n",
        "Model_True.compile(loss = 'mse',\n",
        "                   optimizer = 'adam',\n",
        "                   metrics = ['mae'])"
      ],
      "metadata": {
        "id": "yC4x8RhpIMt_"
      },
      "execution_count": 36,
      "outputs": []
    },
    {
      "cell_type": "markdown",
      "source": [
        "- Output 5개(Hidden State)"
      ],
      "metadata": {
        "id": "WBG64G3OImsg"
      }
    },
    {
      "cell_type": "code",
      "source": [
        "Model_True.predict(X_test[0].reshape(1, 5, 1), verbose = 0)"
      ],
      "metadata": {
        "colab": {
          "base_uri": "https://localhost:8080/"
        },
        "id": "IPqLw57qIi6S",
        "outputId": "1a75b7e3-1d88-46c3-9a43-bfc70fc33128"
      },
      "execution_count": 37,
      "outputs": [
        {
          "output_type": "stream",
          "name": "stderr",
          "text": [
            "WARNING:tensorflow:6 out of the last 6 calls to <function Model.make_predict_function.<locals>.predict_function at 0x7f729bc635e0> triggered tf.function retracing. Tracing is expensive and the excessive number of tracings could be due to (1) creating @tf.function repeatedly in a loop, (2) passing tensors with different shapes, (3) passing Python objects instead of tensors. For (1), please define your @tf.function outside of the loop. For (2), @tf.function has reduce_retracing=True option that can avoid unnecessary retracing. For (3), please refer to https://www.tensorflow.org/guide/function#controlling_retracing and https://www.tensorflow.org/api_docs/python/tf/function for  more details.\n"
          ]
        },
        {
          "output_type": "execute_result",
          "data": {
            "text/plain": [
              "array([[[1.],\n",
              "        [1.],\n",
              "        [1.],\n",
              "        [1.],\n",
              "        [1.]]], dtype=float32)"
            ]
          },
          "metadata": {},
          "execution_count": 37
        }
      ]
    },
    {
      "cell_type": "markdown",
      "source": [
        "- 매 순환마다 Output만 출력\n",
        "  - Unit -> 3\n",
        "  - input_length -> 5"
      ],
      "metadata": {
        "id": "WDe9dHcsIsy-"
      }
    },
    {
      "cell_type": "code",
      "source": [
        "Model_True = models.Sequential()\n",
        "\n",
        "Model_True.add(layers.SimpleRNN(3,\n",
        "                                input_shape = (5, 1),\n",
        "                                return_sequences = True))\n",
        "\n",
        "Model_True.compile(loss = 'mse',\n",
        "                   optimizer = 'adam',\n",
        "                   metrics = ['mae'])"
      ],
      "metadata": {
        "id": "Zro29ypZIrjw"
      },
      "execution_count": 38,
      "outputs": []
    },
    {
      "cell_type": "markdown",
      "source": [
        " - Output 5개(Hidden State)"
      ],
      "metadata": {
        "id": "jq05-kzQI16k"
      }
    },
    {
      "cell_type": "code",
      "source": [
        "Model_True.predict(X_test[0].reshape(1, 5, 1), verbose = 0)"
      ],
      "metadata": {
        "colab": {
          "base_uri": "https://localhost:8080/"
        },
        "id": "iVpTIVOjI1bV",
        "outputId": "482ba2b6-c190-4dd6-b243-ca5a178881d9"
      },
      "execution_count": 39,
      "outputs": [
        {
          "output_type": "execute_result",
          "data": {
            "text/plain": [
              "array([[[ 1., -1., -1.],\n",
              "        [ 1., -1., -1.],\n",
              "        [ 1., -1., -1.],\n",
              "        [ 1., -1., -1.],\n",
              "        [ 1., -1., -1.]]], dtype=float32)"
            ]
          },
          "metadata": {},
          "execution_count": 39
        }
      ]
    },
    {
      "cell_type": "code",
      "source": [],
      "metadata": {
        "id": "HKGC0t5HI396"
      },
      "execution_count": 39,
      "outputs": []
    }
  ]
}