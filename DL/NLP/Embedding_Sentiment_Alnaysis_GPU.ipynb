{
  "cells": [
    {
      "cell_type": "markdown",
      "metadata": {
        "id": "f0q0KrZHd_3n"
      },
      "source": [
        "# Embedding - Sentiment Analysis\n",
        "\n",
        "# 네이버 영화 리뷰 데이터"
      ]
    },
    {
      "cell_type": "code",
      "execution_count": 1,
      "metadata": {
        "id": "btuQ1SlKdH3D"
      },
      "outputs": [],
      "source": [
        "import warnings\n",
        "warnings.filterwarnings('ignore')"
      ]
    },
    {
      "cell_type": "markdown",
      "metadata": {
        "id": "yZnBlJJOeFp5"
      },
      "source": [
        "## Import Package"
      ]
    },
    {
      "cell_type": "code",
      "execution_count": 2,
      "metadata": {
        "id": "KfyqlfuVeFME"
      },
      "outputs": [],
      "source": [
        "import pandas as pd\n",
        "import numpy as np\n",
        "np.set_printoptions(linewidth = 200)\n",
        "\n",
        "import tensorflow"
      ]
    },
    {
      "cell_type": "markdown",
      "metadata": {
        "id": "uYO46A-xeTBx"
      },
      "source": [
        "# I. Naver Sentiment Movie Corpus v1.0\n",
        "\n",
        "> ## 1) File Download\n",
        "\n",
        "- train_data : 150,000\n",
        "- test_data : 50,000"
      ]
    },
    {
      "cell_type": "code",
      "execution_count": 3,
      "metadata": {
        "colab": {
          "base_uri": "https://localhost:8080/"
        },
        "id": "vifHDR77eOLS",
        "outputId": "e6d8085c-4f48-4a38-f853-e9f1535d603c"
      },
      "outputs": [
        {
          "output_type": "stream",
          "name": "stdout",
          "text": [
            "Downloading data from https://raw.githubusercontent.com/e9t/nsmc/master/ratings_train.txt\n",
            "14628807/14628807 [==============================] - 0s 0us/step\n",
            "Downloading data from https://raw.githubusercontent.com/e9t/nsmc/master/ratings_test.txt\n",
            "4893335/4893335 [==============================] - 0s 0us/step\n"
          ]
        }
      ],
      "source": [
        "tr_url = 'https://raw.githubusercontent.com/e9t/nsmc/master/ratings_train.txt'\n",
        "path_to_train_file = tensorflow.keras.utils.get_file('train.txt', tr_url)\n",
        "\n",
        "te_url = 'https://raw.githubusercontent.com/e9t/nsmc/master/ratings_test.txt'\n",
        "path_to_test_file = tensorflow.keras.utils.get_file('test.txt', te_url)"
      ]
    },
    {
      "cell_type": "markdown",
      "metadata": {
        "id": "cXInxZD9ec3h"
      },
      "source": [
        "> ## 2) train_data\n",
        "\n",
        "- train_data DataFrame 정보"
      ]
    },
    {
      "cell_type": "code",
      "execution_count": 4,
      "metadata": {
        "id": "H9357PsDeYmg"
      },
      "outputs": [],
      "source": [
        "train_data = pd.read_table(path_to_train_file)"
      ]
    },
    {
      "cell_type": "code",
      "execution_count": 5,
      "metadata": {
        "colab": {
          "base_uri": "https://localhost:8080/"
        },
        "id": "46BaT04uehiy",
        "outputId": "4c02b425-87bd-4117-d03d-489c0c012d15"
      },
      "outputs": [
        {
          "output_type": "stream",
          "name": "stdout",
          "text": [
            "<class 'pandas.core.frame.DataFrame'>\n",
            "RangeIndex: 150000 entries, 0 to 149999\n",
            "Data columns (total 3 columns):\n",
            " #   Column    Non-Null Count   Dtype \n",
            "---  ------    --------------   ----- \n",
            " 0   id        150000 non-null  int64 \n",
            " 1   document  149995 non-null  object\n",
            " 2   label     150000 non-null  int64 \n",
            "dtypes: int64(2), object(1)\n",
            "memory usage: 3.4+ MB\n"
          ]
        }
      ],
      "source": [
        "train_data.info()"
      ]
    },
    {
      "cell_type": "code",
      "execution_count": 6,
      "metadata": {
        "colab": {
          "base_uri": "https://localhost:8080/",
          "height": 206
        },
        "id": "b2biwRkzeiTn",
        "outputId": "179f2167-99cd-4d95-a755-155a117f90eb"
      },
      "outputs": [
        {
          "output_type": "execute_result",
          "data": {
            "text/plain": [
              "         id                                           document  label\n",
              "0   9976970                                아 더빙.. 진짜 짜증나네요 목소리      0\n",
              "1   3819312                  흠...포스터보고 초딩영화줄....오버연기조차 가볍지 않구나      1\n",
              "2  10265843                                  너무재밓었다그래서보는것을추천한다      0\n",
              "3   9045019                      교도소 이야기구먼 ..솔직히 재미는 없다..평점 조정      0\n",
              "4   6483659  사이몬페그의 익살스런 연기가 돋보였던 영화!스파이더맨에서 늙어보이기만 했던 커스틴 ...      1"
            ],
            "text/html": [
              "\n",
              "  <div id=\"df-7765bf5b-ebe0-4430-8c8b-c6e43acc2978\">\n",
              "    <div class=\"colab-df-container\">\n",
              "      <div>\n",
              "<style scoped>\n",
              "    .dataframe tbody tr th:only-of-type {\n",
              "        vertical-align: middle;\n",
              "    }\n",
              "\n",
              "    .dataframe tbody tr th {\n",
              "        vertical-align: top;\n",
              "    }\n",
              "\n",
              "    .dataframe thead th {\n",
              "        text-align: right;\n",
              "    }\n",
              "</style>\n",
              "<table border=\"1\" class=\"dataframe\">\n",
              "  <thead>\n",
              "    <tr style=\"text-align: right;\">\n",
              "      <th></th>\n",
              "      <th>id</th>\n",
              "      <th>document</th>\n",
              "      <th>label</th>\n",
              "    </tr>\n",
              "  </thead>\n",
              "  <tbody>\n",
              "    <tr>\n",
              "      <th>0</th>\n",
              "      <td>9976970</td>\n",
              "      <td>아 더빙.. 진짜 짜증나네요 목소리</td>\n",
              "      <td>0</td>\n",
              "    </tr>\n",
              "    <tr>\n",
              "      <th>1</th>\n",
              "      <td>3819312</td>\n",
              "      <td>흠...포스터보고 초딩영화줄....오버연기조차 가볍지 않구나</td>\n",
              "      <td>1</td>\n",
              "    </tr>\n",
              "    <tr>\n",
              "      <th>2</th>\n",
              "      <td>10265843</td>\n",
              "      <td>너무재밓었다그래서보는것을추천한다</td>\n",
              "      <td>0</td>\n",
              "    </tr>\n",
              "    <tr>\n",
              "      <th>3</th>\n",
              "      <td>9045019</td>\n",
              "      <td>교도소 이야기구먼 ..솔직히 재미는 없다..평점 조정</td>\n",
              "      <td>0</td>\n",
              "    </tr>\n",
              "    <tr>\n",
              "      <th>4</th>\n",
              "      <td>6483659</td>\n",
              "      <td>사이몬페그의 익살스런 연기가 돋보였던 영화!스파이더맨에서 늙어보이기만 했던 커스틴 ...</td>\n",
              "      <td>1</td>\n",
              "    </tr>\n",
              "  </tbody>\n",
              "</table>\n",
              "</div>\n",
              "      <button class=\"colab-df-convert\" onclick=\"convertToInteractive('df-7765bf5b-ebe0-4430-8c8b-c6e43acc2978')\"\n",
              "              title=\"Convert this dataframe to an interactive table.\"\n",
              "              style=\"display:none;\">\n",
              "        \n",
              "  <svg xmlns=\"http://www.w3.org/2000/svg\" height=\"24px\"viewBox=\"0 0 24 24\"\n",
              "       width=\"24px\">\n",
              "    <path d=\"M0 0h24v24H0V0z\" fill=\"none\"/>\n",
              "    <path d=\"M18.56 5.44l.94 2.06.94-2.06 2.06-.94-2.06-.94-.94-2.06-.94 2.06-2.06.94zm-11 1L8.5 8.5l.94-2.06 2.06-.94-2.06-.94L8.5 2.5l-.94 2.06-2.06.94zm10 10l.94 2.06.94-2.06 2.06-.94-2.06-.94-.94-2.06-.94 2.06-2.06.94z\"/><path d=\"M17.41 7.96l-1.37-1.37c-.4-.4-.92-.59-1.43-.59-.52 0-1.04.2-1.43.59L10.3 9.45l-7.72 7.72c-.78.78-.78 2.05 0 2.83L4 21.41c.39.39.9.59 1.41.59.51 0 1.02-.2 1.41-.59l7.78-7.78 2.81-2.81c.8-.78.8-2.07 0-2.86zM5.41 20L4 18.59l7.72-7.72 1.47 1.35L5.41 20z\"/>\n",
              "  </svg>\n",
              "      </button>\n",
              "      \n",
              "  <style>\n",
              "    .colab-df-container {\n",
              "      display:flex;\n",
              "      flex-wrap:wrap;\n",
              "      gap: 12px;\n",
              "    }\n",
              "\n",
              "    .colab-df-convert {\n",
              "      background-color: #E8F0FE;\n",
              "      border: none;\n",
              "      border-radius: 50%;\n",
              "      cursor: pointer;\n",
              "      display: none;\n",
              "      fill: #1967D2;\n",
              "      height: 32px;\n",
              "      padding: 0 0 0 0;\n",
              "      width: 32px;\n",
              "    }\n",
              "\n",
              "    .colab-df-convert:hover {\n",
              "      background-color: #E2EBFA;\n",
              "      box-shadow: 0px 1px 2px rgba(60, 64, 67, 0.3), 0px 1px 3px 1px rgba(60, 64, 67, 0.15);\n",
              "      fill: #174EA6;\n",
              "    }\n",
              "\n",
              "    [theme=dark] .colab-df-convert {\n",
              "      background-color: #3B4455;\n",
              "      fill: #D2E3FC;\n",
              "    }\n",
              "\n",
              "    [theme=dark] .colab-df-convert:hover {\n",
              "      background-color: #434B5C;\n",
              "      box-shadow: 0px 1px 3px 1px rgba(0, 0, 0, 0.15);\n",
              "      filter: drop-shadow(0px 1px 2px rgba(0, 0, 0, 0.3));\n",
              "      fill: #FFFFFF;\n",
              "    }\n",
              "  </style>\n",
              "\n",
              "      <script>\n",
              "        const buttonEl =\n",
              "          document.querySelector('#df-7765bf5b-ebe0-4430-8c8b-c6e43acc2978 button.colab-df-convert');\n",
              "        buttonEl.style.display =\n",
              "          google.colab.kernel.accessAllowed ? 'block' : 'none';\n",
              "\n",
              "        async function convertToInteractive(key) {\n",
              "          const element = document.querySelector('#df-7765bf5b-ebe0-4430-8c8b-c6e43acc2978');\n",
              "          const dataTable =\n",
              "            await google.colab.kernel.invokeFunction('convertToInteractive',\n",
              "                                                     [key], {});\n",
              "          if (!dataTable) return;\n",
              "\n",
              "          const docLinkHtml = 'Like what you see? Visit the ' +\n",
              "            '<a target=\"_blank\" href=https://colab.research.google.com/notebooks/data_table.ipynb>data table notebook</a>'\n",
              "            + ' to learn more about interactive tables.';\n",
              "          element.innerHTML = '';\n",
              "          dataTable['output_type'] = 'display_data';\n",
              "          await google.colab.output.renderOutput(dataTable, element);\n",
              "          const docLink = document.createElement('div');\n",
              "          docLink.innerHTML = docLinkHtml;\n",
              "          element.appendChild(docLink);\n",
              "        }\n",
              "      </script>\n",
              "    </div>\n",
              "  </div>\n",
              "  "
            ]
          },
          "metadata": {},
          "execution_count": 6
        }
      ],
      "source": [
        "train_data.head()"
      ]
    },
    {
      "cell_type": "markdown",
      "metadata": {
        "id": "diD8nRdbeyCd"
      },
      "source": [
        "> ## 3) test_data\n",
        "\n",
        "- test_data DataFrame 정보"
      ]
    },
    {
      "cell_type": "code",
      "execution_count": 7,
      "metadata": {
        "id": "1dPQvRiwej_c"
      },
      "outputs": [],
      "source": [
        "test_data = pd.read_table(path_to_test_file)"
      ]
    },
    {
      "cell_type": "code",
      "execution_count": 8,
      "metadata": {
        "colab": {
          "base_uri": "https://localhost:8080/"
        },
        "id": "CYTM5Gfle20f",
        "outputId": "4de991ec-62f6-4950-bb4f-9b82ae0526f4"
      },
      "outputs": [
        {
          "output_type": "stream",
          "name": "stdout",
          "text": [
            "<class 'pandas.core.frame.DataFrame'>\n",
            "RangeIndex: 50000 entries, 0 to 49999\n",
            "Data columns (total 3 columns):\n",
            " #   Column    Non-Null Count  Dtype \n",
            "---  ------    --------------  ----- \n",
            " 0   id        50000 non-null  int64 \n",
            " 1   document  49997 non-null  object\n",
            " 2   label     50000 non-null  int64 \n",
            "dtypes: int64(2), object(1)\n",
            "memory usage: 1.1+ MB\n"
          ]
        }
      ],
      "source": [
        "test_data.info()"
      ]
    },
    {
      "cell_type": "code",
      "execution_count": 9,
      "metadata": {
        "colab": {
          "base_uri": "https://localhost:8080/",
          "height": 206
        },
        "id": "P79Hu7gye3hK",
        "outputId": "3d93b8a2-d148-4dfe-9f2c-7b360002a07b"
      },
      "outputs": [
        {
          "output_type": "execute_result",
          "data": {
            "text/plain": [
              "        id                                           document  label\n",
              "0  6270596                                                굳 ㅋ      1\n",
              "1  9274899                               GDNTOPCLASSINTHECLUB      0\n",
              "2  8544678             뭐야 이 평점들은.... 나쁘진 않지만 10점 짜리는 더더욱 아니잖아      0\n",
              "3  6825595                   지루하지는 않은데 완전 막장임... 돈주고 보기에는....      0\n",
              "4  6723715  3D만 아니었어도 별 다섯 개 줬을텐데.. 왜 3D로 나와서 제 심기를 불편하게 하죠??      0"
            ],
            "text/html": [
              "\n",
              "  <div id=\"df-e2d4d331-9916-47de-8ff0-71a4bd4ac93c\">\n",
              "    <div class=\"colab-df-container\">\n",
              "      <div>\n",
              "<style scoped>\n",
              "    .dataframe tbody tr th:only-of-type {\n",
              "        vertical-align: middle;\n",
              "    }\n",
              "\n",
              "    .dataframe tbody tr th {\n",
              "        vertical-align: top;\n",
              "    }\n",
              "\n",
              "    .dataframe thead th {\n",
              "        text-align: right;\n",
              "    }\n",
              "</style>\n",
              "<table border=\"1\" class=\"dataframe\">\n",
              "  <thead>\n",
              "    <tr style=\"text-align: right;\">\n",
              "      <th></th>\n",
              "      <th>id</th>\n",
              "      <th>document</th>\n",
              "      <th>label</th>\n",
              "    </tr>\n",
              "  </thead>\n",
              "  <tbody>\n",
              "    <tr>\n",
              "      <th>0</th>\n",
              "      <td>6270596</td>\n",
              "      <td>굳 ㅋ</td>\n",
              "      <td>1</td>\n",
              "    </tr>\n",
              "    <tr>\n",
              "      <th>1</th>\n",
              "      <td>9274899</td>\n",
              "      <td>GDNTOPCLASSINTHECLUB</td>\n",
              "      <td>0</td>\n",
              "    </tr>\n",
              "    <tr>\n",
              "      <th>2</th>\n",
              "      <td>8544678</td>\n",
              "      <td>뭐야 이 평점들은.... 나쁘진 않지만 10점 짜리는 더더욱 아니잖아</td>\n",
              "      <td>0</td>\n",
              "    </tr>\n",
              "    <tr>\n",
              "      <th>3</th>\n",
              "      <td>6825595</td>\n",
              "      <td>지루하지는 않은데 완전 막장임... 돈주고 보기에는....</td>\n",
              "      <td>0</td>\n",
              "    </tr>\n",
              "    <tr>\n",
              "      <th>4</th>\n",
              "      <td>6723715</td>\n",
              "      <td>3D만 아니었어도 별 다섯 개 줬을텐데.. 왜 3D로 나와서 제 심기를 불편하게 하죠??</td>\n",
              "      <td>0</td>\n",
              "    </tr>\n",
              "  </tbody>\n",
              "</table>\n",
              "</div>\n",
              "      <button class=\"colab-df-convert\" onclick=\"convertToInteractive('df-e2d4d331-9916-47de-8ff0-71a4bd4ac93c')\"\n",
              "              title=\"Convert this dataframe to an interactive table.\"\n",
              "              style=\"display:none;\">\n",
              "        \n",
              "  <svg xmlns=\"http://www.w3.org/2000/svg\" height=\"24px\"viewBox=\"0 0 24 24\"\n",
              "       width=\"24px\">\n",
              "    <path d=\"M0 0h24v24H0V0z\" fill=\"none\"/>\n",
              "    <path d=\"M18.56 5.44l.94 2.06.94-2.06 2.06-.94-2.06-.94-.94-2.06-.94 2.06-2.06.94zm-11 1L8.5 8.5l.94-2.06 2.06-.94-2.06-.94L8.5 2.5l-.94 2.06-2.06.94zm10 10l.94 2.06.94-2.06 2.06-.94-2.06-.94-.94-2.06-.94 2.06-2.06.94z\"/><path d=\"M17.41 7.96l-1.37-1.37c-.4-.4-.92-.59-1.43-.59-.52 0-1.04.2-1.43.59L10.3 9.45l-7.72 7.72c-.78.78-.78 2.05 0 2.83L4 21.41c.39.39.9.59 1.41.59.51 0 1.02-.2 1.41-.59l7.78-7.78 2.81-2.81c.8-.78.8-2.07 0-2.86zM5.41 20L4 18.59l7.72-7.72 1.47 1.35L5.41 20z\"/>\n",
              "  </svg>\n",
              "      </button>\n",
              "      \n",
              "  <style>\n",
              "    .colab-df-container {\n",
              "      display:flex;\n",
              "      flex-wrap:wrap;\n",
              "      gap: 12px;\n",
              "    }\n",
              "\n",
              "    .colab-df-convert {\n",
              "      background-color: #E8F0FE;\n",
              "      border: none;\n",
              "      border-radius: 50%;\n",
              "      cursor: pointer;\n",
              "      display: none;\n",
              "      fill: #1967D2;\n",
              "      height: 32px;\n",
              "      padding: 0 0 0 0;\n",
              "      width: 32px;\n",
              "    }\n",
              "\n",
              "    .colab-df-convert:hover {\n",
              "      background-color: #E2EBFA;\n",
              "      box-shadow: 0px 1px 2px rgba(60, 64, 67, 0.3), 0px 1px 3px 1px rgba(60, 64, 67, 0.15);\n",
              "      fill: #174EA6;\n",
              "    }\n",
              "\n",
              "    [theme=dark] .colab-df-convert {\n",
              "      background-color: #3B4455;\n",
              "      fill: #D2E3FC;\n",
              "    }\n",
              "\n",
              "    [theme=dark] .colab-df-convert:hover {\n",
              "      background-color: #434B5C;\n",
              "      box-shadow: 0px 1px 3px 1px rgba(0, 0, 0, 0.15);\n",
              "      filter: drop-shadow(0px 1px 2px rgba(0, 0, 0, 0.3));\n",
              "      fill: #FFFFFF;\n",
              "    }\n",
              "  </style>\n",
              "\n",
              "      <script>\n",
              "        const buttonEl =\n",
              "          document.querySelector('#df-e2d4d331-9916-47de-8ff0-71a4bd4ac93c button.colab-df-convert');\n",
              "        buttonEl.style.display =\n",
              "          google.colab.kernel.accessAllowed ? 'block' : 'none';\n",
              "\n",
              "        async function convertToInteractive(key) {\n",
              "          const element = document.querySelector('#df-e2d4d331-9916-47de-8ff0-71a4bd4ac93c');\n",
              "          const dataTable =\n",
              "            await google.colab.kernel.invokeFunction('convertToInteractive',\n",
              "                                                     [key], {});\n",
              "          if (!dataTable) return;\n",
              "\n",
              "          const docLinkHtml = 'Like what you see? Visit the ' +\n",
              "            '<a target=\"_blank\" href=https://colab.research.google.com/notebooks/data_table.ipynb>data table notebook</a>'\n",
              "            + ' to learn more about interactive tables.';\n",
              "          element.innerHTML = '';\n",
              "          dataTable['output_type'] = 'display_data';\n",
              "          await google.colab.output.renderOutput(dataTable, element);\n",
              "          const docLink = document.createElement('div');\n",
              "          docLink.innerHTML = docLinkHtml;\n",
              "          element.appendChild(docLink);\n",
              "        }\n",
              "      </script>\n",
              "    </div>\n",
              "  </div>\n",
              "  "
            ]
          },
          "metadata": {},
          "execution_count": 9
        }
      ],
      "source": [
        "test_data.head()"
      ]
    },
    {
      "cell_type": "markdown",
      "metadata": {
        "id": "7G-ESCcke8N5"
      },
      "source": [
        "> ## 4) concat( )\n",
        "\n",
        "- DataFrame 합치기\n",
        "\n",
        "\n"
      ]
    },
    {
      "cell_type": "markdown",
      "metadata": {
        "id": "lx2vo8KdfAQg"
      },
      "source": [
        "> ## (1) 통합 DataFrame 생성"
      ]
    },
    {
      "cell_type": "code",
      "execution_count": 10,
      "metadata": {
        "id": "WFNV20fMe6Jm"
      },
      "outputs": [],
      "source": [
        "DF = pd.concat([train_data, test_data], axis = 0, ignore_index = True)"
      ]
    },
    {
      "cell_type": "code",
      "execution_count": 11,
      "metadata": {
        "colab": {
          "base_uri": "https://localhost:8080/"
        },
        "id": "xmq7L6-EfLFo",
        "outputId": "276ba926-235b-4156-bc83-c040d1a11701"
      },
      "outputs": [
        {
          "output_type": "stream",
          "name": "stdout",
          "text": [
            "<class 'pandas.core.frame.DataFrame'>\n",
            "RangeIndex: 200000 entries, 0 to 199999\n",
            "Data columns (total 3 columns):\n",
            " #   Column    Non-Null Count   Dtype \n",
            "---  ------    --------------   ----- \n",
            " 0   id        200000 non-null  int64 \n",
            " 1   document  199992 non-null  object\n",
            " 2   label     200000 non-null  int64 \n",
            "dtypes: int64(2), object(1)\n",
            "memory usage: 4.6+ MB\n"
          ]
        }
      ],
      "source": [
        "DF.info()"
      ]
    },
    {
      "cell_type": "markdown",
      "metadata": {
        "id": "94PyAsWKfQZH"
      },
      "source": [
        "> ## (2) 결측치 제거\n",
        "\n",
        "- NULL값 행 제거 후 확인"
      ]
    },
    {
      "cell_type": "code",
      "execution_count": 12,
      "metadata": {
        "colab": {
          "base_uri": "https://localhost:8080/"
        },
        "id": "Giv_UDtJfMET",
        "outputId": "e82d0383-3135-45b9-f1e6-5c5dd7d48105"
      },
      "outputs": [
        {
          "output_type": "stream",
          "name": "stdout",
          "text": [
            "id          0\n",
            "document    8\n",
            "label       0\n",
            "dtype: int64\n"
          ]
        }
      ],
      "source": [
        "print(DF.isnull().sum())"
      ]
    },
    {
      "cell_type": "code",
      "execution_count": 13,
      "metadata": {
        "id": "wEsDoUGUfS9_"
      },
      "outputs": [],
      "source": [
        "DF = DF.dropna(how = 'any')"
      ]
    },
    {
      "cell_type": "code",
      "execution_count": 14,
      "metadata": {
        "colab": {
          "base_uri": "https://localhost:8080/"
        },
        "id": "hnj9UWy9fVVW",
        "outputId": "2c3d82af-480b-4bbb-fe39-48f78c05fda8"
      },
      "outputs": [
        {
          "output_type": "stream",
          "name": "stdout",
          "text": [
            "id          0\n",
            "document    0\n",
            "label       0\n",
            "dtype: int64\n"
          ]
        }
      ],
      "source": [
        "print(DF.isnull().sum())"
      ]
    },
    {
      "cell_type": "code",
      "execution_count": 15,
      "metadata": {
        "colab": {
          "base_uri": "https://localhost:8080/"
        },
        "id": "4SFa4Z-1fXMq",
        "outputId": "e22e5944-9498-45c6-f210-a965bb94b482"
      },
      "outputs": [
        {
          "output_type": "stream",
          "name": "stdout",
          "text": [
            "<class 'pandas.core.frame.DataFrame'>\n",
            "Int64Index: 199992 entries, 0 to 199999\n",
            "Data columns (total 3 columns):\n",
            " #   Column    Non-Null Count   Dtype \n",
            "---  ------    --------------   ----- \n",
            " 0   id        199992 non-null  int64 \n",
            " 1   document  199992 non-null  object\n",
            " 2   label     199992 non-null  int64 \n",
            "dtypes: int64(2), object(1)\n",
            "memory usage: 6.1+ MB\n"
          ]
        }
      ],
      "source": [
        "DF.info()"
      ]
    },
    {
      "cell_type": "markdown",
      "metadata": {
        "id": "6zHTwXXgfmyR"
      },
      "source": [
        "# II. Data Preprocessing\n",
        "\n",
        "> ## 1) 'document' 추출"
      ]
    },
    {
      "cell_type": "code",
      "execution_count": 16,
      "metadata": {
        "id": "DfL4xXiVfhVi"
      },
      "outputs": [],
      "source": [
        "DF_X = DF.iloc[:, 1]"
      ]
    },
    {
      "cell_type": "code",
      "execution_count": 17,
      "metadata": {
        "colab": {
          "base_uri": "https://localhost:8080/"
        },
        "id": "4wHCTNUpfph1",
        "outputId": "713817f5-4550-4e3d-803f-1387fa76f1da"
      },
      "outputs": [
        {
          "output_type": "execute_result",
          "data": {
            "text/plain": [
              "0                  아 더빙.. 진짜 짜증나네요 목소리\n",
              "1    흠...포스터보고 초딩영화줄....오버연기조차 가볍지 않구나\n",
              "2                    너무재밓었다그래서보는것을추천한다\n",
              "3        교도소 이야기구먼 ..솔직히 재미는 없다..평점 조정\n",
              "Name: document, dtype: object"
            ]
          },
          "metadata": {},
          "execution_count": 17
        }
      ],
      "source": [
        "DF_X[:4]"
      ]
    },
    {
      "cell_type": "markdown",
      "metadata": {
        "id": "i5C5JOCaftCM"
      },
      "source": [
        "> ## 2) 문장 및 단어 크기 조정\n",
        "\n",
        "- 문장을 단어별 나누기"
      ]
    },
    {
      "cell_type": "code",
      "execution_count": 18,
      "metadata": {
        "id": "_EGzrdk4fqFj"
      },
      "outputs": [],
      "source": [
        "sentences = [sentence.split(' ') for sentence in DF_X]"
      ]
    },
    {
      "cell_type": "markdown",
      "metadata": {
        "id": "1LArU99ef2AF"
      },
      "source": [
        "- 처리 결과 확인"
      ]
    },
    {
      "cell_type": "code",
      "execution_count": 19,
      "metadata": {
        "colab": {
          "base_uri": "https://localhost:8080/"
        },
        "id": "SNRcG-DcfzlH",
        "outputId": "8ea5d50a-9bff-411b-b34a-136f316ed8e4"
      },
      "outputs": [
        {
          "output_type": "execute_result",
          "data": {
            "text/plain": [
              "[['아', '더빙..', '진짜', '짜증나네요', '목소리'],\n",
              " ['흠...포스터보고', '초딩영화줄....오버연기조차', '가볍지', '않구나'],\n",
              " ['너무재밓었다그래서보는것을추천한다'],\n",
              " ['교도소', '이야기구먼', '..솔직히', '재미는', '없다..평점', '조정']]"
            ]
          },
          "metadata": {},
          "execution_count": 19
        }
      ],
      "source": [
        "sentences[:4]"
      ]
    },
    {
      "cell_type": "markdown",
      "metadata": {
        "id": "G8U5kznCf5Pe"
      },
      "source": [
        "- 문장을 단어 개수 순서로 정렬 후 시각화"
      ]
    },
    {
      "cell_type": "code",
      "execution_count": 20,
      "metadata": {
        "colab": {
          "base_uri": "https://localhost:8080/",
          "height": 430
        },
        "id": "W3gGAKbOf4iX",
        "outputId": "c1b7b6fb-322d-453c-a958-468ed34047b6"
      },
      "outputs": [
        {
          "output_type": "display_data",
          "data": {
            "text/plain": [
              "<Figure size 640x480 with 1 Axes>"
            ],
            "image/png": "[encoded data removed]"
          },
          "metadata": {}
        }
      ],
      "source": [
        "import matplotlib.pyplot as plt\n",
        "\n",
        "sentence_len = [len(sentence) for sentence in sentences]\n",
        "sentence_len.sort()\n",
        "\n",
        "plt.plot(sentence_len)\n",
        "plt.show()"
      ]
    },
    {
      "cell_type": "markdown",
      "metadata": {
        "id": "zQse4v_4gPth"
      },
      "source": [
        "- 32단어 이하의 문장 개수 확인"
      ]
    },
    {
      "cell_type": "code",
      "execution_count": 21,
      "metadata": {
        "colab": {
          "base_uri": "https://localhost:8080/"
        },
        "id": "ETeYvmQVgOeX",
        "outputId": "dc24f968-0db5-4377-983b-ab06374bac1d"
      },
      "outputs": [
        {
          "output_type": "stream",
          "name": "stdout",
          "text": [
            "198643\n"
          ]
        }
      ],
      "source": [
        "print(sum([int(i <= 32) for i in sentence_len]))"
      ]
    },
    {
      "cell_type": "markdown",
      "metadata": {
        "id": "WethpAbogaXB"
      },
      "source": [
        "- 문장 앞 32개 단어만 추출 후 단어 길이를 5글자로 자르기"
      ]
    },
    {
      "cell_type": "code",
      "execution_count": 22,
      "metadata": {
        "id": "dahvhQ-6gUXa"
      },
      "outputs": [],
      "source": [
        "sentences_new = []\n",
        "\n",
        "for sentence in sentences:\n",
        "    sentences_new.append([word[:5] for word in sentence][:32])\n",
        "\n",
        "sentences = sentences_new"
      ]
    },
    {
      "cell_type": "markdown",
      "metadata": {
        "id": "QYzOO8-wgmh2"
      },
      "source": [
        "> ## 3) 처리 결과 확인"
      ]
    },
    {
      "cell_type": "code",
      "execution_count": 23,
      "metadata": {
        "colab": {
          "base_uri": "https://localhost:8080/"
        },
        "id": "O1udwZ62glL7",
        "outputId": "13720c46-5679-4d4e-a56f-a2c623e81a65"
      },
      "outputs": [
        {
          "output_type": "execute_result",
          "data": {
            "text/plain": [
              "[['아', '더빙..', '진짜', '짜증나네요', '목소리'],\n",
              " ['흠...포', '초딩영화줄', '가볍지', '않구나'],\n",
              " ['너무재밓었'],\n",
              " ['교도소', '이야기구먼', '..솔직히', '재미는', '없다..평', '조정']]"
            ]
          },
          "metadata": {},
          "execution_count": 23
        }
      ],
      "source": [
        "sentences[:4]"
      ]
    },
    {
      "cell_type": "code",
      "execution_count": 24,
      "metadata": {
        "colab": {
          "base_uri": "https://localhost:8080/",
          "height": 430
        },
        "id": "slNVZyxUgnuy",
        "outputId": "c705cbbe-5ef6-4270-f573-359248c6ea5f"
      },
      "outputs": [
        {
          "output_type": "display_data",
          "data": {
            "text/plain": [
              "<Figure size 640x480 with 1 Axes>"
            ],
            "image/png": "[encoded data removed]"
          },
          "metadata": {}
        }
      ],
      "source": [
        "sentence_len = [len(sentence) for sentence in sentences]\n",
        "sentence_len.sort()\n",
        "\n",
        "plt.plot(sentence_len)\n",
        "plt.show()"
      ]
    },
    {
      "cell_type": "markdown",
      "metadata": {
        "id": "_kIe4UvhhByH"
      },
      "source": [
        "> ## 4)'Label' - y"
      ]
    },
    {
      "cell_type": "code",
      "execution_count": 25,
      "metadata": {
        "id": "WONfEa5HgwPf"
      },
      "outputs": [],
      "source": [
        "y = DF.iloc[:, 2]"
      ]
    },
    {
      "cell_type": "code",
      "execution_count": 26,
      "metadata": {
        "colab": {
          "base_uri": "https://localhost:8080/"
        },
        "id": "B-Zfnn7HhGZq",
        "outputId": "bb19cd37-00f5-47b7-f68c-1a7f1cae6324"
      },
      "outputs": [
        {
          "output_type": "execute_result",
          "data": {
            "text/plain": [
              "199992"
            ]
          },
          "metadata": {},
          "execution_count": 26
        }
      ],
      "source": [
        "len(y)"
      ]
    },
    {
      "cell_type": "markdown",
      "metadata": {
        "id": "jnB5S8rbhMh2"
      },
      "source": [
        "# III. 'tokenizer( )' and 'pad_sequences( )'\n",
        "\n",
        "> ## 1) Tokenization & Vectorization\n",
        "\n",
        "- '20000' 종류 단어 사용"
      ]
    },
    {
      "cell_type": "code",
      "execution_count": 27,
      "metadata": {
        "id": "VB-reaIPhGx6"
      },
      "outputs": [],
      "source": [
        "from tensorflow.keras.preprocessing.text import Tokenizer\n",
        "\n",
        "tokenizer = Tokenizer(num_words = 20000)\n",
        "tokenizer.fit_on_texts(sentences)\n",
        "TV_X = tokenizer.texts_to_sequences(sentences)"
      ]
    },
    {
      "cell_type": "code",
      "execution_count": 28,
      "metadata": {
        "colab": {
          "base_uri": "https://localhost:8080/"
        },
        "id": "sQ5wO6CIhg1Y",
        "outputId": "bb2af5da-909f-4ea2-af11-8ef23c1dda4c"
      },
      "outputs": [
        {
          "output_type": "execute_result",
          "data": {
            "text/plain": [
              "[[52, 4, 6732, 1107], [7368], [], [14748, 330, 13499], [93, 5596, 791, 485]]"
            ]
          },
          "metadata": {},
          "execution_count": 28
        }
      ],
      "source": [
        "TV_X[:5]"
      ]
    },
    {
      "cell_type": "markdown",
      "metadata": {
        "id": "sPcLXQjahkhZ"
      },
      "source": [
        "> ## 2) pad_sequences( )\n",
        "\n",
        "- 동일 길이(32) 벡터로 변경"
      ]
    },
    {
      "cell_type": "code",
      "execution_count": 29,
      "metadata": {
        "id": "RpWl5SQDhh9A"
      },
      "outputs": [],
      "source": [
        "from tensorflow.keras.preprocessing.sequence import pad_sequences\n",
        "\n",
        "TV_X = pad_sequences(TV_X,\n",
        "                     maxlen = 32,\n",
        "                     padding = 'post')"
      ]
    },
    {
      "cell_type": "markdown",
      "metadata": {
        "id": "LxYIT96Ohxm2"
      },
      "source": [
        "> ## 3) 처리 결과 확인"
      ]
    },
    {
      "cell_type": "code",
      "execution_count": 30,
      "metadata": {
        "colab": {
          "base_uri": "https://localhost:8080/"
        },
        "id": "6bIG1L98hwZ-",
        "outputId": "ee1ee9c7-f821-4abc-b9de-a9eaaaaaaece"
      },
      "outputs": [
        {
          "output_type": "stream",
          "name": "stdout",
          "text": [
            "[[   52     4  6732  1107     0     0     0     0     0     0     0     0     0     0     0     0     0     0     0     0     0     0     0     0     0     0     0     0     0     0     0     0]\n",
            " [ 7368     0     0     0     0     0     0     0     0     0     0     0     0     0     0     0     0     0     0     0     0     0     0     0     0     0     0     0     0     0     0     0]\n",
            " [    0     0     0     0     0     0     0     0     0     0     0     0     0     0     0     0     0     0     0     0     0     0     0     0     0     0     0     0     0     0     0     0]\n",
            " [14748   330 13499     0     0     0     0     0     0     0     0     0     0     0     0     0     0     0     0     0     0     0     0     0     0     0     0     0     0     0     0     0]\n",
            " [   93  5596   791   485     0     0     0     0     0     0     0     0     0     0     0     0     0     0     0     0     0     0     0     0     0     0     0     0     0     0     0     0]]\n"
          ]
        }
      ],
      "source": [
        "print(TV_X[:5])"
      ]
    },
    {
      "cell_type": "code",
      "execution_count": 31,
      "metadata": {
        "colab": {
          "base_uri": "https://localhost:8080/"
        },
        "id": "dFJ-SnamhzMe",
        "outputId": "3d237df4-2ad3-4fda-8c6b-bfce448af207"
      },
      "outputs": [
        {
          "output_type": "execute_result",
          "data": {
            "text/plain": [
              "(199992, 32)"
            ]
          },
          "metadata": {},
          "execution_count": 31
        }
      ],
      "source": [
        "TV_X.shape"
      ]
    },
    {
      "cell_type": "markdown",
      "metadata": {
        "id": "4d5lqkz0h1W0"
      },
      "source": [
        "> ## 4) train_test_split( )"
      ]
    },
    {
      "cell_type": "code",
      "execution_count": 32,
      "metadata": {
        "id": "4M1eJiSNh0fv"
      },
      "outputs": [],
      "source": [
        "from sklearn.model_selection import train_test_split\n",
        "\n",
        "X_train, X_test, y_train, y_test = train_test_split(TV_X,\n",
        "                                                    y,\n",
        "                                                    test_size = 0.3,\n",
        "                                                    random_state = 2045)"
      ]
    },
    {
      "cell_type": "code",
      "execution_count": 33,
      "metadata": {
        "colab": {
          "base_uri": "https://localhost:8080/"
        },
        "id": "lEydLoxDiAHC",
        "outputId": "4008a337-9409-459f-a775-b0855b13e6d7"
      },
      "outputs": [
        {
          "output_type": "execute_result",
          "data": {
            "text/plain": [
              "((139994, 32), (139994,), (59998, 32), (59998,))"
            ]
          },
          "metadata": {},
          "execution_count": 33
        }
      ],
      "source": [
        "X_train.shape, y_train.shape, X_test.shape, y_test.shape"
      ]
    },
    {
      "cell_type": "markdown",
      "metadata": {
        "id": "k3QnqqHPiDgx"
      },
      "source": [
        "# IV. Modeling\n",
        "\n",
        "> ## 1) Model Define\n",
        "\n",
        "- Embedding Dimension : 256\n",
        "  - Input_dim: 적용 단어 종류\n",
        "  - output_dim: 임베딩 차원"
      ]
    },
    {
      "cell_type": "code",
      "execution_count": 34,
      "metadata": {
        "colab": {
          "base_uri": "https://localhost:8080/"
        },
        "id": "MctK_GJciCO8",
        "outputId": "3559d612-bd5f-4dc8-b383-5664e37701e0"
      },
      "outputs": [
        {
          "output_type": "stream",
          "name": "stdout",
          "text": [
            "Model: \"sequential\"\n",
            "_________________________________________________________________\n",
            " Layer (type)                Output Shape              Param #   \n",
            "=================================================================\n",
            " embedding (Embedding)       (None, None, 256)         5120000   \n",
            "                                                                 \n",
            " lstm (LSTM)                 (None, 32)                36992     \n",
            "                                                                 \n",
            " dense (Dense)               (None, 1)                 33        \n",
            "                                                                 \n",
            "=================================================================\n",
            "Total params: 5,157,025\n",
            "Trainable params: 5,157,025\n",
            "Non-trainable params: 0\n",
            "_________________________________________________________________\n"
          ]
        }
      ],
      "source": [
        "from tensorflow.keras import models, layers\n",
        "\n",
        "model = models.Sequential()\n",
        "model.add(layers.Embedding(input_dim = 20000,\n",
        "                           output_dim = 256))\n",
        "model.add(layers.LSTM(32))\n",
        "model.add(layers.Dense(1, activation = 'sigmoid'))\n",
        "\n",
        "model.summary()"
      ]
    },
    {
      "cell_type": "markdown",
      "metadata": {
        "id": "LlpBJyqdiWnD"
      },
      "source": [
        "> ## 2) Model Compile"
      ]
    },
    {
      "cell_type": "code",
      "execution_count": 35,
      "metadata": {
        "id": "vjgYhbi2iVm8"
      },
      "outputs": [],
      "source": [
        "model.compile(loss = 'binary_crossentropy',\n",
        "              optimizer = 'adam',\n",
        "              metrics = ['accuracy'])"
      ]
    },
    {
      "cell_type": "markdown",
      "metadata": {
        "id": "pqLt6X9Yif2D"
      },
      "source": [
        "> ## 3) Model Fit"
      ]
    },
    {
      "cell_type": "code",
      "execution_count": 36,
      "metadata": {
        "colab": {
          "base_uri": "https://localhost:8080/"
        },
        "id": "8426wPFgier3",
        "outputId": "23e5150c-0a5f-4044-b93a-02df96b7e267"
      },
      "outputs": [
        {
          "output_type": "stream",
          "name": "stdout",
          "text": [
            "Epoch 1/20\n",
            "1094/1094 [==============================] - 61s 48ms/step - loss: 0.4751 - accuracy: 0.7504 - val_loss: 0.4110 - val_accuracy: 0.7945\n",
            "Epoch 2/20\n",
            "1094/1094 [==============================] - 17s 16ms/step - loss: 0.3583 - accuracy: 0.8225 - val_loss: 0.4119 - val_accuracy: 0.7953\n",
            "Epoch 3/20\n",
            "1094/1094 [==============================] - 13s 12ms/step - loss: 0.3099 - accuracy: 0.8407 - val_loss: 0.4521 - val_accuracy: 0.7930\n",
            "Epoch 4/20\n",
            "1094/1094 [==============================] - 12s 11ms/step - loss: 0.2709 - accuracy: 0.8560 - val_loss: 0.5271 - val_accuracy: 0.7884\n",
            "Epoch 5/20\n",
            "1094/1094 [==============================] - 12s 11ms/step - loss: 0.2390 - accuracy: 0.8734 - val_loss: 0.5595 - val_accuracy: 0.7835\n",
            "Epoch 6/20\n",
            "1094/1094 [==============================] - 12s 11ms/step - loss: 0.2132 - accuracy: 0.8865 - val_loss: 0.5933 - val_accuracy: 0.7792\n",
            "Epoch 7/20\n",
            "1094/1094 [==============================] - 12s 11ms/step - loss: 0.1933 - accuracy: 0.8959 - val_loss: 0.6536 - val_accuracy: 0.7830\n",
            "Epoch 8/20\n",
            "1094/1094 [==============================] - 12s 11ms/step - loss: 0.1791 - accuracy: 0.9021 - val_loss: 0.7035 - val_accuracy: 0.7778\n",
            "Epoch 9/20\n",
            "1094/1094 [==============================] - 11s 10ms/step - loss: 0.1636 - accuracy: 0.9092 - val_loss: 0.8230 - val_accuracy: 0.7715\n",
            "Epoch 10/20\n",
            "1094/1094 [==============================] - 11s 10ms/step - loss: 0.1566 - accuracy: 0.9118 - val_loss: 0.8623 - val_accuracy: 0.7739\n",
            "Epoch 11/20\n",
            "1094/1094 [==============================] - 12s 11ms/step - loss: 0.1510 - accuracy: 0.9141 - val_loss: 0.8662 - val_accuracy: 0.7760\n",
            "Epoch 12/20\n",
            "1094/1094 [==============================] - 11s 10ms/step - loss: 0.1449 - accuracy: 0.9170 - val_loss: 0.8708 - val_accuracy: 0.7740\n",
            "Epoch 13/20\n",
            "1094/1094 [==============================] - 12s 11ms/step - loss: 0.1392 - accuracy: 0.9196 - val_loss: 0.9061 - val_accuracy: 0.7745\n",
            "Epoch 14/20\n",
            "1094/1094 [==============================] - 11s 10ms/step - loss: 0.1362 - accuracy: 0.9202 - val_loss: 0.9665 - val_accuracy: 0.7717\n",
            "Epoch 15/20\n",
            "1094/1094 [==============================] - 11s 10ms/step - loss: 0.1317 - accuracy: 0.9219 - val_loss: 0.9325 - val_accuracy: 0.7725\n",
            "Epoch 16/20\n",
            "1094/1094 [==============================] - 11s 10ms/step - loss: 0.1275 - accuracy: 0.9242 - val_loss: 1.0714 - val_accuracy: 0.7696\n",
            "Epoch 17/20\n",
            "1094/1094 [==============================] - 11s 10ms/step - loss: 0.1265 - accuracy: 0.9248 - val_loss: 1.0676 - val_accuracy: 0.7680\n",
            "Epoch 18/20\n",
            "1094/1094 [==============================] - 10s 9ms/step - loss: 0.1255 - accuracy: 0.9247 - val_loss: 1.0303 - val_accuracy: 0.7704\n",
            "Epoch 19/20\n",
            "1094/1094 [==============================] - 12s 11ms/step - loss: 0.1223 - accuracy: 0.9266 - val_loss: 0.9588 - val_accuracy: 0.7700\n",
            "Epoch 20/20\n",
            "1094/1094 [==============================] - 10s 9ms/step - loss: 0.1213 - accuracy: 0.9274 - val_loss: 1.1294 - val_accuracy: 0.7689\n",
            "CPU times: user 4min 54s, sys: 16.7 s, total: 5min 11s\n",
            "Wall time: 5min 24s\n"
          ]
        }
      ],
      "source": [
        "%%time\n",
        "\n",
        "history = model.fit(X_train, y_train,\n",
        "                    epochs = 20,\n",
        "                    batch_size = 128,\n",
        "                    validation_data = (X_test, y_test))"
      ]
    },
    {
      "cell_type": "markdown",
      "metadata": {
        "id": "pIAWYf0sisBq"
      },
      "source": [
        "> ## 4) Visualization"
      ]
    },
    {
      "cell_type": "code",
      "execution_count": 37,
      "metadata": {
        "colab": {
          "base_uri": "https://localhost:8080/",
          "height": 331
        },
        "id": "9rMfa-B3iqNQ",
        "outputId": "d4ab1704-1a96-4d24-cc81-2b3864e7faee"
      },
      "outputs": [
        {
          "output_type": "display_data",
          "data": {
            "text/plain": [
              "<Figure size 1200x400 with 2 Axes>"
            ],
            "image/png": "[encoded data removed]"
          },
          "metadata": {}
        }
      ],
      "source": [
        "plt.figure(figsize = (12, 4))\n",
        "\n",
        "plt.subplot(1, 2, 1)\n",
        "plt.plot(history.history['loss'], 'b-', label = 'loss')\n",
        "plt.plot(history.history['val_loss'], 'r--', label = 'val_loss')\n",
        "plt.xlabel('Epoch')\n",
        "plt.legend()\n",
        "\n",
        "plt.subplot(1, 2, 2)\n",
        "plt.plot(history.history['accuracy'], 'g-', label ='accuracy')\n",
        "plt.plot(history.history['val_accuracy'], 'k--', label = 'val_accuracy')\n",
        "plt.xlabel('Epochs')\n",
        "plt.legend()\n",
        "\n",
        "plt.show()"
      ]
    },
    {
      "cell_type": "markdown",
      "metadata": {
        "id": "NE3fPC4ejTjj"
      },
      "source": [
        "> ## 5) Model Evaluate"
      ]
    },
    {
      "cell_type": "code",
      "execution_count": 38,
      "metadata": {
        "colab": {
          "base_uri": "https://localhost:8080/"
        },
        "id": "MFnaU-enjSxZ",
        "outputId": "c3faf072-1735-44a7-f2c1-010949b537d9"
      },
      "outputs": [
        {
          "output_type": "execute_result",
          "data": {
            "text/plain": [
              "[1.129369854927063, 0.7688922882080078]"
            ]
          },
          "metadata": {},
          "execution_count": 38
        }
      ],
      "source": [
        "model.evaluate(X_test, y_test, verbose = 0)"
      ]
    },
    {
      "cell_type": "markdown",
      "metadata": {
        "id": "1oRgmDRujXb8"
      },
      "source": [
        "# V. 문장 감성 분석\n",
        "\n",
        "- 입력 단어에 따라서 감성 분석 결과 변화\n",
        "  - 긍정('1') -> 부정('0')"
      ]
    },
    {
      "cell_type": "code",
      "execution_count": 39,
      "metadata": {
        "colab": {
          "base_uri": "https://localhost:8080/"
        },
        "id": "lrHRPrzYjWP3",
        "outputId": "3bc16db7-bbb2-4078-9c0f-6056a2e3a5c9"
      },
      "outputs": [
        {
          "output_type": "stream",
          "name": "stdout",
          "text": [
            "['재미있을']\n",
            "[0.91934794]\n",
            "['재미있을', '줄']\n",
            "[0.9978867]\n",
            "['재미있을', '줄', '알았는데']\n",
            "[0.89234]\n",
            "['재미있을', '줄', '알았는데', '완전']\n",
            "[0.9744196]\n",
            "['재미있을', '줄', '알았는데', '완전', '실망했다.']\n",
            "[0.00029759]\n",
            "['재미있을', '줄', '알았는데', '완전', '실망했다.', '너무']\n",
            "[9.7885415e-05]\n",
            "['재미있을', '줄', '알았는데', '완전', '실망했다.', '너무', '졸리고']\n",
            "[8.418833e-05]\n",
            "['재미있을', '줄', '알았는데', '완전', '실망했다.', '너무', '졸리고', '돈이']\n",
            "[8.178928e-05]\n",
            "['재미있을', '줄', '알았는데', '완전', '실망했다.', '너무', '졸리고', '돈이', '아까웠다.']\n",
            "[7.378156e-05]\n"
          ]
        }
      ],
      "source": [
        "test_sentence = '재미있을 줄 알았는데 완전 실망했다. 너무 졸리고 돈이 아까웠다.'\n",
        "test_sentence = test_sentence.split(' ')\n",
        "\n",
        "test_sentences = []\n",
        "now_sentence = []\n",
        "\n",
        "for word in test_sentence:\n",
        "    now_sentence.append(word)\n",
        "    test_sentences.append(now_sentence[:])\n",
        "\n",
        "test_X_1 = tokenizer.texts_to_sequences(test_sentences)\n",
        "test_X_1 = pad_sequences(test_X_1, padding = 'post', maxlen = 32)\n",
        "\n",
        "prediction = model.predict(test_X_1, verbose= 0)\n",
        "\n",
        "for idx, sentence in enumerate(test_sentences):\n",
        "    print(sentence)\n",
        "    print(prediction[idx])\n"
      ]
    },
    {
      "cell_type": "code",
      "execution_count": 39,
      "metadata": {
        "id": "MZXIt-TqjeCW"
      },
      "outputs": [],
      "source": []
    }
  ],
  "metadata": {
    "accelerator": "GPU",
    "colab": {
      "provenance": []
    },
    "gpuClass": "standard",
    "kernelspec": {
      "display_name": "Python 3",
      "name": "python3"
    },
    "language_info": {
      "name": "python"
    }
  },
  "nbformat": 4,
  "nbformat_minor": 0
}