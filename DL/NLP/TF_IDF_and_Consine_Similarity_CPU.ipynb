{
  "nbformat": 4,
  "nbformat_minor": 0,
  "metadata": {
    "colab": {
      "provenance": []
    },
    "kernelspec": {
      "name": "python3",
      "display_name": "Python 3"
    },
    "language_info": {
      "name": "python"
    }
  },
  "cells": [
    {
      "cell_type": "markdown",
      "source": [
        "# TF-IDF & Consine Similarity"
      ],
      "metadata": {
        "id": "xgCu0I-KDN-e"
      }
    },
    {
      "cell_type": "code",
      "execution_count": 2,
      "metadata": {
        "id": "HEKUKzYVC952"
      },
      "outputs": [],
      "source": [
        "import warnings\n",
        "warnings.filterwarnings('ignore')"
      ]
    },
    {
      "cell_type": "markdown",
      "source": [
        "# I. TF-IDF Vectorization"
      ],
      "metadata": {
        "id": "GXVwxqG7Ddsh"
      }
    },
    {
      "cell_type": "code",
      "source": [
        "import numpy as np\n",
        "np.set_printoptions(linewidth= 200, precision = 5)"
      ],
      "metadata": {
        "id": "iGao0XyeDSeg"
      },
      "execution_count": 3,
      "outputs": []
    },
    {
      "cell_type": "markdown",
      "source": [
        "> ## 1) 문장 3개 지정"
      ],
      "metadata": {
        "id": "Xte1ItmoDlsW"
      }
    },
    {
      "cell_type": "code",
      "source": [
        "doc_list = ['if you take the blue pill, the story ends' ,\n",
        "            'if you take the red pill, you stay in Wonderland',\n",
        "            'if you take the red pill, I show you how deep the rabbit hole goes']"
      ],
      "metadata": {
        "id": "l29KXcYiDk0A"
      },
      "execution_count": 4,
      "outputs": []
    },
    {
      "cell_type": "code",
      "source": [
        "doc_list"
      ],
      "metadata": {
        "colab": {
          "base_uri": "https://localhost:8080/"
        },
        "id": "Z57d7CRmDpFZ",
        "outputId": "967a4e6c-f021-43dd-eac2-0e0d0f926cd8"
      },
      "execution_count": 5,
      "outputs": [
        {
          "output_type": "execute_result",
          "data": {
            "text/plain": [
              "['if you take the blue pill, the story ends',\n",
              " 'if you take the red pill, you stay in Wonderland',\n",
              " 'if you take the red pill, I show you how deep the rabbit hole goes']"
            ]
          },
          "metadata": {},
          "execution_count": 5
        }
      ]
    },
    {
      "cell_type": "markdown",
      "source": [
        "> ## 2) Tokenization & Vectorization\n",
        "\n",
        "- TF-IDF"
      ],
      "metadata": {
        "id": "RX-CioHcDzE4"
      }
    },
    {
      "cell_type": "code",
      "source": [
        "from sklearn.feature_extraction.text import TfidfVectorizer\n",
        "\n",
        "tfidf_TV = TfidfVectorizer()\n",
        "feature_vec = tfidf_TV.fit(doc_list)"
      ],
      "metadata": {
        "id": "LCwWml4zDyIk"
      },
      "execution_count": 7,
      "outputs": []
    },
    {
      "cell_type": "markdown",
      "source": [
        "- 결과 확인"
      ],
      "metadata": {
        "id": "JokyJXbVEXrp"
      }
    },
    {
      "cell_type": "code",
      "source": [
        "print(feature_vec.vocabulary_)"
      ],
      "metadata": {
        "colab": {
          "base_uri": "https://localhost:8080/"
        },
        "id": "X4zC1znID-94",
        "outputId": "95f9217f-cf6c-4f55-9d30-36735e75befd"
      },
      "execution_count": 8,
      "outputs": [
        {
          "output_type": "stream",
          "name": "stdout",
          "text": [
            "{'if': 6, 'you': 17, 'take': 14, 'the': 15, 'blue': 0, 'pill': 8, 'story': 13, 'ends': 2, 'red': 10, 'stay': 12, 'in': 7, 'wonderland': 16, 'show': 11, 'how': 5, 'deep': 1, 'rabbit': 9, 'hole': 4, 'goes': 3}\n"
          ]
        }
      ]
    },
    {
      "cell_type": "markdown",
      "source": [
        "> ## 3) 행렬 변환\n",
        "\n",
        "- .toarray( )"
      ],
      "metadata": {
        "id": "wBEy-d5UEnFS"
      }
    },
    {
      "cell_type": "code",
      "source": [
        "feature_vec_matrix = feature_vec.transform(doc_list).toarray()"
      ],
      "metadata": {
        "id": "sOllYQB9EcFa"
      },
      "execution_count": 9,
      "outputs": []
    },
    {
      "cell_type": "markdown",
      "source": [
        "- .shape"
      ],
      "metadata": {
        "id": "L04ZqBjWEzA-"
      }
    },
    {
      "cell_type": "code",
      "source": [
        "feature_vec_matrix.shape"
      ],
      "metadata": {
        "colab": {
          "base_uri": "https://localhost:8080/"
        },
        "id": "HsJqby_VEx0y",
        "outputId": "038be76d-d578-4454-ca70-d869a427d406"
      },
      "execution_count": 10,
      "outputs": [
        {
          "output_type": "execute_result",
          "data": {
            "text/plain": [
              "(3, 18)"
            ]
          },
          "metadata": {},
          "execution_count": 10
        }
      ]
    },
    {
      "cell_type": "markdown",
      "source": [
        "> ## 4) 개별 Feature Vector 추출"
      ],
      "metadata": {
        "id": "0EEkWMMPE4ya"
      }
    },
    {
      "cell_type": "code",
      "source": [
        "vec1 = np.array(feature_vec_matrix[0]).reshape(-1,)\n",
        "vec2 = np.array(feature_vec_matrix[1]).reshape(-1,)\n",
        "vec3 = np.array(feature_vec_matrix[2]).reshape(-1,)\n",
        "\n",
        "print(vec1)\n",
        "print(vec2)\n",
        "print(vec3)"
      ],
      "metadata": {
        "colab": {
          "base_uri": "https://localhost:8080/"
        },
        "id": "bvikxsC4E3Lu",
        "outputId": "084b3824-94b1-4db6-9945-e440319912b2"
      },
      "execution_count": 11,
      "outputs": [
        {
          "output_type": "stream",
          "name": "stdout",
          "text": [
            "[0.41556 0.      0.41556 0.      0.      0.      0.24544 0.      0.24544 0.      0.      0.      0.      0.41556 0.24544 0.49088 0.      0.24544]\n",
            "[0.      0.      0.      0.      0.      0.      0.23403 0.39624 0.23403 0.      0.30135 0.      0.39624 0.      0.23403 0.23403 0.39624 0.46806]\n",
            "[0.      0.30986 0.      0.30986 0.30986 0.30986 0.18301 0.      0.18301 0.30986 0.23565 0.30986 0.      0.      0.18301 0.36601 0.      0.36601]\n"
          ]
        }
      ]
    },
    {
      "cell_type": "markdown",
      "source": [
        "# II. cos_similarity( )\n",
        "\n",
        "- 두 벡터의 크기와 상관없이, 상호 방향성이 얼마나 유사한지에 기반\n",
        "  - 두 벡터의 사잇각을 계산하여 유사도 측정\n",
        "\n",
        "- 두 벡터의 내적을 총 벡터 크기로 정규화(L2 Norm)\n",
        "  - dot_product: 두 벡터의 내적\n",
        "  - l2_norm: 총 벡터 크기의 합"
      ],
      "metadata": {
        "id": "HUo9WLnkFMQ4"
      }
    },
    {
      "cell_type": "code",
      "source": [
        "def cos_similarity(v1, v2):\n",
        "    dot_product = np.dot(v1, v2)\n",
        "    l2_norm = (np.sqrt(sum(np.square(v1))) * np.sqrt(sum(np.square(v2))))\n",
        "    similartity = dot_product / l2_norm\n",
        "\n",
        "    return similartity"
      ],
      "metadata": {
        "id": "tPjoT84zFE8V"
      },
      "execution_count": 13,
      "outputs": []
    },
    {
      "cell_type": "markdown",
      "source": [
        "> ## 1) 'vec1', 'vec2' 코사인 유사도"
      ],
      "metadata": {
        "id": "HHbXMr5mGAUX"
      }
    },
    {
      "cell_type": "code",
      "source": [
        "similarity_simple = cos_similarity(vec1, vec2)\n",
        "\n",
        "print('vec1, vec3 코사인 유사도 : {0:.5f}'.format(similarity_simple))"
      ],
      "metadata": {
        "colab": {
          "base_uri": "https://localhost:8080/"
        },
        "id": "7Bh_NfseF9JE",
        "outputId": "3e0fc27a-6431-4062-ed52-11fe049766f8"
      },
      "execution_count": 14,
      "outputs": [
        {
          "output_type": "stream",
          "name": "stdout",
          "text": [
            "vec1, vec3 코사인 유사도 : 0.40208\n"
          ]
        }
      ]
    },
    {
      "cell_type": "markdown",
      "source": [
        "> ## 2) 'vec1', 'vec3' 코사인 유사도"
      ],
      "metadata": {
        "id": "ySI9r4XSG-fd"
      }
    },
    {
      "cell_type": "code",
      "source": [
        "similarity_simple = cos_similarity(vec1, vec3)\n",
        "\n",
        "print('vec1, vec3 코사인 유사도: {0:.5f}'.format(similarity_simple))"
      ],
      "metadata": {
        "colab": {
          "base_uri": "https://localhost:8080/"
        },
        "id": "C87CGCBfG_40",
        "outputId": "a8e3c3d3-62e3-4a2e-ddf6-e75fb4658432"
      },
      "execution_count": 15,
      "outputs": [
        {
          "output_type": "stream",
          "name": "stdout",
          "text": [
            "vec1, vec3 코사인 유사도: 0.40425\n"
          ]
        }
      ]
    },
    {
      "cell_type": "markdown",
      "source": [
        "> ## 3) 'vec2', 'vec3' 코사인 유사도"
      ],
      "metadata": {
        "id": "PEB3eO4qG6Cr"
      }
    },
    {
      "cell_type": "code",
      "source": [
        "similarity_simple = cos_similarity(vec2, vec3)\n",
        "\n",
        "print('vec2, vec3 코사인 유사도: {0:.5f}'.format(similarity_simple))"
      ],
      "metadata": {
        "colab": {
          "base_uri": "https://localhost:8080/"
        },
        "id": "ZSXqMNyxGyvi",
        "outputId": "30dc098d-3d30-4b53-e768-f08e6bbedf69"
      },
      "execution_count": 16,
      "outputs": [
        {
          "output_type": "stream",
          "name": "stdout",
          "text": [
            "vec2, vec3 코사인 유사도: 0.45647\n"
          ]
        }
      ]
    },
    {
      "cell_type": "markdown",
      "source": [
        "# III. sklearn - cosine_similarity( )"
      ],
      "metadata": {
        "id": "yx6L0jacHYeP"
      }
    },
    {
      "cell_type": "code",
      "source": [
        "from sklearn.metrics.pairwise import cosine_similarity\n",
        "\n",
        "print(cosine_similarity(feature_vec_matrix, feature_vec_matrix))"
      ],
      "metadata": {
        "colab": {
          "base_uri": "https://localhost:8080/"
        },
        "id": "1nW-0M44HB6d",
        "outputId": "26c5fc8a-96a8-4048-a4bb-59ffcebb3644"
      },
      "execution_count": 17,
      "outputs": [
        {
          "output_type": "stream",
          "name": "stdout",
          "text": [
            "[[1.      0.40208 0.40425]\n",
            " [0.40208 1.      0.45647]\n",
            " [0.40425 0.45647 1.     ]]\n"
          ]
        }
      ]
    },
    {
      "cell_type": "markdown",
      "source": [
        "# IV. Topic Problem\n",
        "\n",
        "> ## 1) 문장 지정"
      ],
      "metadata": {
        "id": "T-Mnf8Z_Hnpn"
      }
    },
    {
      "cell_type": "code",
      "source": [
        "sent_list = ['I eat an apple',\n",
        "             'Koo have fruit',\n",
        "             'I sell an apple']"
      ],
      "metadata": {
        "id": "MnWdBO3jHl-r"
      },
      "execution_count": 18,
      "outputs": []
    },
    {
      "cell_type": "markdown",
      "source": [
        "> ## 2) 벡터 변환"
      ],
      "metadata": {
        "id": "w7vnqhaJH9yy"
      }
    },
    {
      "cell_type": "code",
      "source": [
        "tfidf_vec = TfidfVectorizer()\n",
        "feature_vec = tfidf_vec.fit_transform(sent_list)"
      ],
      "metadata": {
        "id": "PZfrN58UH9Zk"
      },
      "execution_count": 20,
      "outputs": []
    },
    {
      "cell_type": "code",
      "source": [
        "print(feature_vec.toarray())"
      ],
      "metadata": {
        "colab": {
          "base_uri": "https://localhost:8080/"
        },
        "id": "GkR0jDSPIIM4",
        "outputId": "b09ef0e6-0709-44f4-aab1-e435642ed789"
      },
      "execution_count": 22,
      "outputs": [
        {
          "output_type": "stream",
          "name": "stdout",
          "text": [
            "[[0.51786 0.51786 0.68092 0.      0.      0.      0.     ]\n",
            " [0.      0.      0.      0.57735 0.57735 0.57735 0.     ]\n",
            " [0.51786 0.51786 0.      0.      0.      0.      0.68092]]\n"
          ]
        }
      ]
    },
    {
      "cell_type": "markdown",
      "source": [
        "> ## 3) 문장1 vs. 문장2"
      ],
      "metadata": {
        "id": "BkHc9Q6PIQrx"
      }
    },
    {
      "cell_type": "code",
      "source": [
        "print(cosine_similarity(feature_vec[0], feature_vec[1]))"
      ],
      "metadata": {
        "colab": {
          "base_uri": "https://localhost:8080/"
        },
        "id": "thFSl0WKINyJ",
        "outputId": "44448884-87f9-45f5-b58b-a284a5da88b0"
      },
      "execution_count": 23,
      "outputs": [
        {
          "output_type": "stream",
          "name": "stdout",
          "text": [
            "[[0.]]\n"
          ]
        }
      ]
    },
    {
      "cell_type": "markdown",
      "source": [
        "> ##  4) 문자1 vs. 문장3"
      ],
      "metadata": {
        "id": "ZcMDGUKVIYCs"
      }
    },
    {
      "cell_type": "code",
      "source": [
        "print(cosine_similarity(feature_vec[0], feature_vec[2]))"
      ],
      "metadata": {
        "colab": {
          "base_uri": "https://localhost:8080/"
        },
        "id": "EiomAiT7IWgl",
        "outputId": "e63047de-5294-4d5e-90d9-a10df14e976d"
      },
      "execution_count": 24,
      "outputs": [
        {
          "output_type": "stream",
          "name": "stdout",
          "text": [
            "[[0.53635]]\n"
          ]
        }
      ]
    },
    {
      "cell_type": "markdown",
      "source": [
        "# V. Word2Vec\n",
        "\n",
        "- 벡터 공간상에 비슷한 위치에 있다면 유사도(비슷한 의미)가 높음\n",
        "\n",
        "> ## 1) Load Pretrained Word2Vec"
      ],
      "metadata": {
        "id": "cmAhRZRwIa2P"
      }
    },
    {
      "cell_type": "code",
      "source": [
        "import tensorflow_hub as hub\n",
        "\n",
        "embed = hub.load('https://tfhub.dev/google/Wiki-words-250/2')"
      ],
      "metadata": {
        "id": "771KFHQ6IZ7w"
      },
      "execution_count": 25,
      "outputs": []
    },
    {
      "cell_type": "markdown",
      "source": [
        "> ## 2) 'words' List 정의"
      ],
      "metadata": {
        "id": "o7g4pTEhIkLq"
      }
    },
    {
      "cell_type": "code",
      "source": [
        "words = ['apple', 'eat', 'fruit', 'have', 'sell']"
      ],
      "metadata": {
        "id": "TQcnJ4UNIjSi"
      },
      "execution_count": 26,
      "outputs": []
    },
    {
      "cell_type": "markdown",
      "source": [
        "> ## 3) Word2Vec Embedding"
      ],
      "metadata": {
        "id": "bd1mh_DxIr9Y"
      }
    },
    {
      "cell_type": "code",
      "source": [
        "embeddings = embed(words)"
      ],
      "metadata": {
        "id": "LKQX4xitIqr9"
      },
      "execution_count": 27,
      "outputs": []
    },
    {
      "cell_type": "markdown",
      "source": [
        "> ## 4) Cosine Similarity"
      ],
      "metadata": {
        "id": "MXGB25eNIvTG"
      }
    },
    {
      "cell_type": "code",
      "source": [
        "for i in range(len(words)):\n",
        "    for j in range(i, len(words)):\n",
        "        print(\"(\",words[i], \",\", words[j],\")\", cos_similarity(embeddings[i], embeddings[j]))"
      ],
      "metadata": {
        "colab": {
          "base_uri": "https://localhost:8080/"
        },
        "id": "ZBta7W_xIuK8",
        "outputId": "7bba5fbc-37e4-4a9c-a4bb-afcfcbd5f5af"
      },
      "execution_count": 29,
      "outputs": [
        {
          "output_type": "stream",
          "name": "stdout",
          "text": [
            "( apple , apple ) 0.9999999931909316\n",
            "( apple , eat ) 0.489093062896653\n",
            "( apple , fruit ) 0.7875376298521813\n",
            "( apple , have ) 0.13348328970070875\n",
            "( apple , sell ) 0.1062324041549029\n",
            "( eat , eat ) 0.9999999971373392\n",
            "( eat , fruit ) 0.5329400280904417\n",
            "( eat , have ) 0.32322418518239215\n",
            "( eat , sell ) 0.2691977909422276\n",
            "( fruit , fruit ) 0.9999999953289063\n",
            "( fruit , have ) 0.13598027740914803\n",
            "( fruit , sell ) 0.11212407751092707\n",
            "( have , have ) 0.9999999922515387\n",
            "( have , sell ) 0.21071003257663778\n",
            "( sell , sell ) 0.99999999637987\n"
          ]
        }
      ]
    },
    {
      "cell_type": "code",
      "source": [
        "\"\""
      ],
      "metadata": {
        "id": "6oGbqQzAI50q"
      },
      "execution_count": null,
      "outputs": []
    }
  ]
}