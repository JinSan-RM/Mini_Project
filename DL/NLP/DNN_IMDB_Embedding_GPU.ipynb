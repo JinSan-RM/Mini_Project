{
  "nbformat": 4,
  "nbformat_minor": 0,
  "metadata": {
    "colab": {
      "provenance": []
    },
    "kernelspec": {
      "name": "python3",
      "display_name": "Python 3"
    },
    "language_info": {
      "name": "python"
    },
    "accelerator": "GPU",
    "gpuClass": "standard"
  },
  "cells": [
    {
      "cell_type": "markdown",
      "source": [
        "# IMDB - Embedding with DNN\n",
        "\n",
        "> ## NLP(Natural Language Processing)"
      ],
      "metadata": {
        "id": "jwN5k8_qFbva"
      }
    },
    {
      "cell_type": "code",
      "execution_count": 1,
      "metadata": {
        "id": "jkn1n2WnE3sw"
      },
      "outputs": [],
      "source": [
        "import warnings\n",
        "warnings.filterwarnings('ignore')"
      ]
    },
    {
      "cell_type": "markdown",
      "source": [
        "# Import Tensorflow"
      ],
      "metadata": {
        "id": "tI7aDI8hFimo"
      }
    },
    {
      "cell_type": "code",
      "source": [
        "import tensorflow\n",
        "\n",
        "tensorflow.__version__"
      ],
      "metadata": {
        "colab": {
          "base_uri": "https://localhost:8080/",
          "height": 35
        },
        "id": "9YV2nLPGFiR5",
        "outputId": "f2c3619c-027b-4b03-f52d-da2dbe7f33d6"
      },
      "execution_count": 2,
      "outputs": [
        {
          "output_type": "execute_result",
          "data": {
            "text/plain": [
              "'2.12.0'"
            ],
            "application/vnd.google.colaboratory.intrinsic+json": {
              "type": "string"
            }
          },
          "metadata": {},
          "execution_count": 2
        }
      ]
    },
    {
      "cell_type": "markdown",
      "source": [
        "# I. IMDB Data_Set Load & Review\n",
        "\n",
        "> ## 1) Load IMDB Data_Set"
      ],
      "metadata": {
        "id": "MVpgTUMdFrm7"
      }
    },
    {
      "cell_type": "code",
      "source": [
        "from tensorflow.keras.datasets import imdb\n",
        "\n",
        "(X_train, y_train), (X_test, y_test) = imdb.load_data(num_words = 10000)"
      ],
      "metadata": {
        "colab": {
          "base_uri": "https://localhost:8080/"
        },
        "id": "ukAA2pNvFm40",
        "outputId": "d0f48d4a-df4f-4a6e-8cdb-96ebbfcd3612"
      },
      "execution_count": 3,
      "outputs": [
        {
          "output_type": "stream",
          "name": "stdout",
          "text": [
            "Downloading data from https://storage.googleapis.com/tensorflow/tf-keras-datasets/imdb.npz\n",
            "17464789/17464789 [==============================] - 2s 0us/step\n"
          ]
        }
      ]
    },
    {
      "cell_type": "markdown",
      "source": [
        "> ## 2) Original Data Shape"
      ],
      "metadata": {
        "id": "hCZNNU60F5m4"
      }
    },
    {
      "cell_type": "code",
      "source": [
        "print(X_train.shape, y_train.shape, X_test.shape, y_test.shape)"
      ],
      "metadata": {
        "colab": {
          "base_uri": "https://localhost:8080/"
        },
        "id": "tU_fsCyoF1eu",
        "outputId": "0e1672b9-6245-468d-9c60-8d3971bdbb15"
      },
      "execution_count": 4,
      "outputs": [
        {
          "output_type": "stream",
          "name": "stdout",
          "text": [
            "(25000,) (25000,) (25000,) (25000,)\n"
          ]
        }
      ]
    },
    {
      "cell_type": "markdown",
      "source": [
        "> ## 3) Data Length & Frequency\n",
        "\n",
        "> ## (1) X_train - 리뷰 길이"
      ],
      "metadata": {
        "id": "JBPkLZ3SGG0p"
      }
    },
    {
      "cell_type": "code",
      "source": [
        "import matplotlib.pyplot as plt\n",
        "\n",
        "print('리뷰 최대 길이 : ', max(len(L) for L in X_train))\n",
        "print('리뷰 평균 길이 : ', sum(map(len, X_train)) / len(X_train))"
      ],
      "metadata": {
        "colab": {
          "base_uri": "https://localhost:8080/"
        },
        "id": "tlb_R5rdGASg",
        "outputId": "d6eb5e87-9b9c-4604-f5cf-f6cf91b64e77"
      },
      "execution_count": 5,
      "outputs": [
        {
          "output_type": "stream",
          "name": "stdout",
          "text": [
            "리뷰 최대 길이 :  2494\n",
            "리뷰 평균 길이 :  238.71364\n"
          ]
        }
      ]
    },
    {
      "cell_type": "markdown",
      "source": [
        "> ## (2) y_train - Frequency(0:부정, 1:긍정)"
      ],
      "metadata": {
        "id": "i3iz_48_GaxU"
      }
    },
    {
      "cell_type": "code",
      "source": [
        "import numpy as np\n",
        "\n",
        "unique_elements, counts_elements = np.unique(y_train, return_counts = True)\n",
        "\n",
        "print('Label 빈도수 :')\n",
        "print(np.asarray((unique_elements, counts_elements)))"
      ],
      "metadata": {
        "colab": {
          "base_uri": "https://localhost:8080/"
        },
        "id": "IGRu0tJjGSRp",
        "outputId": "cf2f27f8-b08c-4e3f-d928-1d5fffed721f"
      },
      "execution_count": 6,
      "outputs": [
        {
          "output_type": "stream",
          "name": "stdout",
          "text": [
            "Label 빈도수 :\n",
            "[[    0     1]\n",
            " [12500 12500]]\n"
          ]
        }
      ]
    },
    {
      "cell_type": "markdown",
      "source": [
        "# II. Tensor Transformation\n",
        "\n",
        "> ## 1) X_train & X_test : (25000, 2500)\n",
        "\n",
        "- .pad_sequences( )\n",
        "  - (25000, 2500)\n",
        "    - padding = 'pre': 문장의 길이를 2500으로 변경하고 앞쪽에 '0'으로 채우기\n",
        "    - padding = 'post': 문장의 길이를 2500으로 변경하고 뒤쪽에 '0'으로 채우기"
      ],
      "metadata": {
        "id": "PgFcDRhiGrvc"
      }
    },
    {
      "cell_type": "code",
      "source": [
        "from tensorflow.keras.preprocessing.sequence import pad_sequences\n",
        "\n",
        "X_train = pad_sequences(X_train,\n",
        "                        maxlen = 2500,\n",
        "                        padding = 'post')\n",
        "X_test = pad_sequences(X_test,\n",
        "                       maxlen = 2500,\n",
        "                       padding = 'post')\n",
        "\n",
        "X_train.shape, X_test.shape"
      ],
      "metadata": {
        "colab": {
          "base_uri": "https://localhost:8080/"
        },
        "id": "vfeV6toLGoCA",
        "outputId": "4b03624e-9244-4aa3-a860-908fac50b12e"
      },
      "execution_count": 7,
      "outputs": [
        {
          "output_type": "execute_result",
          "data": {
            "text/plain": [
              "((25000, 2500), (25000, 2500))"
            ]
          },
          "metadata": {},
          "execution_count": 7
        }
      ]
    },
    {
      "cell_type": "markdown",
      "source": [
        "- Transformation Check"
      ],
      "metadata": {
        "id": "X_dYuFQKHJQq"
      }
    },
    {
      "cell_type": "code",
      "source": [
        "print(X_train[0][:21])\n",
        "print(X_train[0][-20:])\n",
        "print()\n",
        "print(X_test[0][:21])\n",
        "print(X_test[0][-20:])"
      ],
      "metadata": {
        "colab": {
          "base_uri": "https://localhost:8080/"
        },
        "id": "2DotiLSoHBMN",
        "outputId": "a89e0436-eb48-4212-dc5b-874d34050a22"
      },
      "execution_count": 8,
      "outputs": [
        {
          "output_type": "stream",
          "name": "stdout",
          "text": [
            "[   1   14   22   16   43  530  973 1622 1385   65  458 4468   66 3941\n",
            "    4  173   36  256    5   25  100]\n",
            "[0 0 0 0 0 0 0 0 0 0 0 0 0 0 0 0 0 0 0 0]\n",
            "\n",
            "[   1  591  202   14   31    6  717   10   10    2    2    5    4  360\n",
            "    7    4  177 5760  394  354    4]\n",
            "[0 0 0 0 0 0 0 0 0 0 0 0 0 0 0 0 0 0 0 0]\n"
          ]
        }
      ]
    },
    {
      "cell_type": "markdown",
      "source": [
        "> ## 2) y_train & y_test"
      ],
      "metadata": {
        "id": "KIp56Ln-HSnh"
      }
    },
    {
      "cell_type": "code",
      "source": [
        "y_train = np.asarray(y_train).astype(float)\n",
        "y_test = np.asarray(y_test).astype(float)\n",
        "\n",
        "print(y_train[:21])\n",
        "print()\n",
        "print(y_test[:21])"
      ],
      "metadata": {
        "colab": {
          "base_uri": "https://localhost:8080/"
        },
        "id": "qFJKRy78HRDc",
        "outputId": "680694b4-ceef-4009-8320-54f91fdf1fd2"
      },
      "execution_count": 9,
      "outputs": [
        {
          "output_type": "stream",
          "name": "stdout",
          "text": [
            "[1. 0. 0. 1. 0. 0. 1. 0. 1. 0. 1. 0. 0. 0. 0. 0. 1. 1. 0. 1. 0.]\n",
            "\n",
            "[0. 1. 1. 0. 1. 1. 1. 0. 0. 1. 1. 0. 0. 0. 1. 0. 1. 0. 0. 0. 1.]\n"
          ]
        }
      ]
    },
    {
      "cell_type": "markdown",
      "source": [
        "# III. Keras Embedding Modeling\n",
        "\n",
        "> ## 1) Model Define\n",
        "\n",
        "\n",
        "- 모델 신경망 구조 정의\n",
        "  - Embedding Dimension : 32\n",
        "    - Input_dim: 적용 단어 종류\n",
        "    - output_dim: 임베딩 차원\n",
        "    - input_length: 입력 데이터 최대 길이"
      ],
      "metadata": {
        "id": "VyqH0GUYHiYX"
      }
    },
    {
      "cell_type": "code",
      "source": [
        "from tensorflow.keras import models, layers\n",
        "\n",
        "imdb = models.Sequential()\n",
        "imdb.add(layers.Embedding(input_dim = 10000,\n",
        "                          output_dim = 32,\n",
        "                          input_length = 2500))\n",
        "\n",
        "imdb.add(layers.Flatten())\n",
        "imdb.add(layers.Dense(16))\n",
        "imdb.add(layers.Dense(1, activation = 'sigmoid'))"
      ],
      "metadata": {
        "id": "uvc3CnlDHhF2"
      },
      "execution_count": 10,
      "outputs": []
    },
    {
      "cell_type": "markdown",
      "source": [
        "- 모델 구조 확인"
      ],
      "metadata": {
        "id": "yuTb5xK8IOB7"
      }
    },
    {
      "cell_type": "code",
      "source": [
        "imdb.summary()"
      ],
      "metadata": {
        "colab": {
          "base_uri": "https://localhost:8080/"
        },
        "id": "4zdoe6tRINOt",
        "outputId": "c7850424-fd95-48a2-8ea0-fb8f889537bc"
      },
      "execution_count": 11,
      "outputs": [
        {
          "output_type": "stream",
          "name": "stdout",
          "text": [
            "Model: \"sequential\"\n",
            "_________________________________________________________________\n",
            " Layer (type)                Output Shape              Param #   \n",
            "=================================================================\n",
            " embedding (Embedding)       (None, 2500, 32)          320000    \n",
            "                                                                 \n",
            " flatten (Flatten)           (None, 80000)             0         \n",
            "                                                                 \n",
            " dense (Dense)               (None, 16)                1280016   \n",
            "                                                                 \n",
            " dense_1 (Dense)             (None, 1)                 17        \n",
            "                                                                 \n",
            "=================================================================\n",
            "Total params: 1,600,033\n",
            "Trainable params: 1,600,033\n",
            "Non-trainable params: 0\n",
            "_________________________________________________________________\n"
          ]
        }
      ]
    },
    {
      "cell_type": "markdown",
      "source": [
        "> ## 2) Model Compile\n",
        "\n",
        "- 모델 학습방법 설정"
      ],
      "metadata": {
        "id": "Y0le3a4qIQCV"
      }
    },
    {
      "cell_type": "code",
      "source": [
        "imdb.compile(loss = 'binary_crossentropy',\n",
        "             optimizer = 'rmsprop',\n",
        "             metrics = ['accuracy'])"
      ],
      "metadata": {
        "id": "cGoyrYogIPAw"
      },
      "execution_count": 12,
      "outputs": []
    },
    {
      "cell_type": "markdown",
      "source": [
        "> ## 3) Model Fit\n",
        "\n",
        "- 약 3분"
      ],
      "metadata": {
        "id": "mzKGcw-6IYCV"
      }
    },
    {
      "cell_type": "code",
      "source": [
        "%%time\n",
        "\n",
        "Hist_imdb = imdb.fit(X_train, y_train,\n",
        "                     epochs = 25,\n",
        "                     batch_size = 2512,\n",
        "                     validation_data = (X_test, y_test))"
      ],
      "metadata": {
        "colab": {
          "base_uri": "https://localhost:8080/"
        },
        "id": "jVrVG39fIW4p",
        "outputId": "11841d8f-0f7b-4162-e386-0821af22b502"
      },
      "execution_count": 13,
      "outputs": [
        {
          "output_type": "stream",
          "name": "stdout",
          "text": [
            "Epoch 1/25\n",
            "10/10 [==============================] - 8s 302ms/step - loss: 2.6177 - accuracy: 0.5048 - val_loss: 1.3931 - val_accuracy: 0.5001\n",
            "Epoch 2/25\n",
            "10/10 [==============================] - 3s 314ms/step - loss: 1.0850 - accuracy: 0.4956 - val_loss: 0.9338 - val_accuracy: 0.5001\n",
            "Epoch 3/25\n",
            "10/10 [==============================] - 2s 163ms/step - loss: 0.7917 - accuracy: 0.5036 - val_loss: 0.8132 - val_accuracy: 0.5001\n",
            "Epoch 4/25\n",
            "10/10 [==============================] - 2s 213ms/step - loss: 0.7663 - accuracy: 0.4964 - val_loss: 0.7156 - val_accuracy: 0.5002\n",
            "Epoch 5/25\n",
            "10/10 [==============================] - 2s 155ms/step - loss: 0.6992 - accuracy: 0.5003 - val_loss: 0.6792 - val_accuracy: 0.5274\n",
            "Epoch 6/25\n",
            "10/10 [==============================] - 2s 153ms/step - loss: 0.6559 - accuracy: 0.5840 - val_loss: 0.6442 - val_accuracy: 0.6264\n",
            "Epoch 7/25\n",
            "10/10 [==============================] - 2s 140ms/step - loss: 0.6116 - accuracy: 0.6828 - val_loss: 0.5945 - val_accuracy: 0.7323\n",
            "Epoch 8/25\n",
            "10/10 [==============================] - 2s 174ms/step - loss: 0.5528 - accuracy: 0.7668 - val_loss: 0.5704 - val_accuracy: 0.6970\n",
            "Epoch 9/25\n",
            "10/10 [==============================] - 1s 149ms/step - loss: 0.4968 - accuracy: 0.7986 - val_loss: 0.4986 - val_accuracy: 0.7782\n",
            "Epoch 10/25\n",
            "10/10 [==============================] - 2s 152ms/step - loss: 0.4464 - accuracy: 0.8269 - val_loss: 0.4517 - val_accuracy: 0.8151\n",
            "Epoch 11/25\n",
            "10/10 [==============================] - 1s 145ms/step - loss: 0.4025 - accuracy: 0.8458 - val_loss: 0.4384 - val_accuracy: 0.8054\n",
            "Epoch 12/25\n",
            "10/10 [==============================] - 2s 201ms/step - loss: 0.3666 - accuracy: 0.8607 - val_loss: 0.3960 - val_accuracy: 0.8354\n",
            "Epoch 13/25\n",
            "10/10 [==============================] - 2s 169ms/step - loss: 0.3416 - accuracy: 0.8697 - val_loss: 0.3796 - val_accuracy: 0.8386\n",
            "Epoch 14/25\n",
            "10/10 [==============================] - 2s 216ms/step - loss: 0.3158 - accuracy: 0.8790 - val_loss: 0.3718 - val_accuracy: 0.8393\n",
            "Epoch 15/25\n",
            "10/10 [==============================] - 2s 194ms/step - loss: 0.2976 - accuracy: 0.8872 - val_loss: 0.3516 - val_accuracy: 0.8504\n",
            "Epoch 16/25\n",
            "10/10 [==============================] - 2s 217ms/step - loss: 0.2796 - accuracy: 0.8938 - val_loss: 0.3476 - val_accuracy: 0.8502\n",
            "Epoch 17/25\n",
            "10/10 [==============================] - 1s 126ms/step - loss: 0.2618 - accuracy: 0.9034 - val_loss: 0.3386 - val_accuracy: 0.8555\n",
            "Epoch 18/25\n",
            "10/10 [==============================] - 2s 180ms/step - loss: 0.2502 - accuracy: 0.9070 - val_loss: 0.3368 - val_accuracy: 0.8531\n",
            "Epoch 19/25\n",
            "10/10 [==============================] - 1s 142ms/step - loss: 0.2310 - accuracy: 0.9186 - val_loss: 0.3283 - val_accuracy: 0.8586\n",
            "Epoch 20/25\n",
            "10/10 [==============================] - 2s 162ms/step - loss: 0.2220 - accuracy: 0.9226 - val_loss: 0.3363 - val_accuracy: 0.8544\n",
            "Epoch 21/25\n",
            "10/10 [==============================] - 1s 105ms/step - loss: 0.2082 - accuracy: 0.9285 - val_loss: 0.3183 - val_accuracy: 0.8654\n",
            "Epoch 22/25\n",
            "10/10 [==============================] - 1s 112ms/step - loss: 0.2015 - accuracy: 0.9285 - val_loss: 0.3176 - val_accuracy: 0.8659\n",
            "Epoch 23/25\n",
            "10/10 [==============================] - 1s 122ms/step - loss: 0.1841 - accuracy: 0.9384 - val_loss: 0.3143 - val_accuracy: 0.8664\n",
            "Epoch 24/25\n",
            "10/10 [==============================] - 1s 122ms/step - loss: 0.1769 - accuracy: 0.9397 - val_loss: 0.3288 - val_accuracy: 0.8585\n",
            "Epoch 25/25\n",
            "10/10 [==============================] - 2s 258ms/step - loss: 0.1660 - accuracy: 0.9460 - val_loss: 0.3266 - val_accuracy: 0.8607\n",
            "CPU times: user 25.4 s, sys: 4.9 s, total: 30.3 s\n",
            "Wall time: 48.3 s\n"
          ]
        }
      ]
    },
    {
      "cell_type": "markdown",
      "source": [
        "> ## 4) 학습 결과 시각화"
      ],
      "metadata": {
        "id": "i-bbkyn7Ilwa"
      }
    },
    {
      "cell_type": "code",
      "source": [
        "epochs = range(1, len(Hist_imdb.history['loss']) + 1)\n",
        "\n",
        "plt.figure(figsize = (15, 5))\n",
        "\n",
        "plt.subplot(1, 2, 1)\n",
        "plt.plot(epochs, Hist_imdb.history['loss'], 'b-')\n",
        "plt.plot(epochs, Hist_imdb.history['val_loss'], 'r--')\n",
        "plt.title('Training & Validation Loss')\n",
        "plt.xlabel('Epochs')\n",
        "plt.ylabel('Loss')\n",
        "plt.legend(['Training Loss', 'Validation Loss'])\n",
        "plt.grid()\n",
        "\n",
        "plt.subplot(1, 2, 2)\n",
        "plt.plot(epochs, Hist_imdb.history['accuracy'], 'b-')\n",
        "plt.plot(epochs, Hist_imdb.history['val_accuracy'], 'r--')\n",
        "plt.title('Training & Validation Accuracy')\n",
        "plt.xlabel('Epochs')\n",
        "plt.ylabel('Accuracy')\n",
        "plt.legend(['Training Accuracy', 'Validation Accuracy'])\n",
        "plt.grid()\n",
        "\n",
        "plt.show()"
      ],
      "metadata": {
        "colab": {
          "base_uri": "https://localhost:8080/",
          "height": 333
        },
        "id": "4CIpPx2vIZYr",
        "outputId": "a68c5c34-f062-4594-8664-199eda1048ef"
      },
      "execution_count": 15,
      "outputs": [
        {
          "output_type": "display_data",
          "data": {
            "text/plain": [
              "<Figure size 1500x500 with 2 Axes>"
            ],
            "image/png": "[encoded data removed]"
          },
          "metadata": {}
        }
      ]
    },
    {
      "cell_type": "markdown",
      "source": [
        "> ## 5) Model Evaluate\n",
        "\n",
        "- Loss & Accuracy\n"
      ],
      "metadata": {
        "id": "yqwn8e1-Jo2e"
      }
    },
    {
      "cell_type": "code",
      "source": [
        "loss, accuracy = imdb.evaluate(X_test, y_test, verbose = 0)\n",
        "\n",
        "print('Loss = {:.5f}'.format(loss))\n",
        "print('Accuracy = {:.5f}'.format(accuracy))"
      ],
      "metadata": {
        "colab": {
          "base_uri": "https://localhost:8080/"
        },
        "id": "VkAEZUtMJekq",
        "outputId": "3677de7a-7a66-42da-aa70-238e1a306250"
      },
      "execution_count": 16,
      "outputs": [
        {
          "output_type": "stream",
          "name": "stdout",
          "text": [
            "Loss = 0.32662\n",
            "Accuracy = 0.86072\n"
          ]
        }
      ]
    },
    {
      "cell_type": "code",
      "source": [],
      "metadata": {
        "id": "902MUkq3Jz-1"
      },
      "execution_count": null,
      "outputs": []
    }
  ]
}