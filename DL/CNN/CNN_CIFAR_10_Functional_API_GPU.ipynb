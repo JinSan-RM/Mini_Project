{
  "cells": [
    {
      "cell_type": "markdown",
      "metadata": {
        "id": "zWVlpuR9hJ84"
      },
      "source": [
        "# CIFAR 10 - Functional API Modeling\n",
        "\n",
        "  - Categorical Classification"
      ]
    },
    {
      "cell_type": "code",
      "execution_count": null,
      "metadata": {
        "id": "yuzH-Ifdg_yo"
      },
      "outputs": [],
      "source": [
        "import warnings\n",
        "warnings.filterwarnings('ignore')"
      ]
    },
    {
      "cell_type": "markdown",
      "metadata": {
        "id": "onkR6IjqhNDh"
      },
      "source": [
        "- import Tensorflow"
      ]
    },
    {
      "cell_type": "code",
      "execution_count": null,
      "metadata": {
        "colab": {
          "base_uri": "https://localhost:8080/",
          "height": 35
        },
        "id": "5OdA2uR1hMyS",
        "outputId": "6a69c9e0-d4ad-43f9-bd42-3f6a7aa6c549"
      },
      "outputs": [
        {
          "data": {
            "application/vnd.google.colaboratory.intrinsic+json": {
              "type": "string"
            },
            "text/plain": [
              "'2.12.0'"
            ]
          },
          "execution_count": 2,
          "metadata": {},
          "output_type": "execute_result"
        }
      ],
      "source": [
        "import tensorflow\n",
        "tensorflow.__version__"
      ]
    },
    {
      "cell_type": "markdown",
      "metadata": {
        "id": "2e1M9ke5hPZg"
      },
      "source": [
        "# I. CIFAR 10 Data_Set Load & Review\n",
        "\n",
        "> ## 1) Load CIFAR 10 Data_Set"
      ]
    },
    {
      "cell_type": "code",
      "execution_count": null,
      "metadata": {
        "colab": {
          "base_uri": "https://localhost:8080/"
        },
        "id": "dIQvOmjChOg8",
        "outputId": "914d9b39-9f8b-4f0a-c2fa-c9a14b19e457"
      },
      "outputs": [
        {
          "name": "stdout",
          "output_type": "stream",
          "text": [
            "Downloading data from https://www.cs.toronto.edu/~kriz/cifar-10-python.tar.gz\n",
            "170498071/170498071 [==============================] - 2s 0us/step\n"
          ]
        }
      ],
      "source": [
        "from tensorflow.keras.datasets import cifar10\n",
        "\n",
        "(X_train, y_train), (X_test, y_test) = cifar10.load_data()"
      ]
    },
    {
      "cell_type": "markdown",
      "metadata": {
        "id": "TwCvdB8hhdc1"
      },
      "source": [
        "- Train_Data Information"
      ]
    },
    {
      "cell_type": "code",
      "execution_count": null,
      "metadata": {
        "colab": {
          "base_uri": "https://localhost:8080/"
        },
        "id": "3nh3TpFGhZ2Q",
        "outputId": "e03edb50-067b-4056-9082-6e8b0885d1bc"
      },
      "outputs": [
        {
          "name": "stdout",
          "output_type": "stream",
          "text": [
            "50000\n",
            "(50000, 32, 32, 3)\n",
            "50000\n",
            "[[6]\n",
            " [9]\n",
            " [9]\n",
            " [4]\n",
            " [1]]\n"
          ]
        }
      ],
      "source": [
        "print(len(X_train))\n",
        "print(X_train.shape)\n",
        "\n",
        "print(len(y_train))\n",
        "print(y_train[0:5])"
      ]
    },
    {
      "cell_type": "markdown",
      "metadata": {
        "id": "68jplU1khgFw"
      },
      "source": [
        "- Test_Data Information"
      ]
    },
    {
      "cell_type": "code",
      "execution_count": null,
      "metadata": {
        "colab": {
          "base_uri": "https://localhost:8080/"
        },
        "id": "NZPyeO3EhfJ3",
        "outputId": "0e6a24c6-94ff-49e8-ffc2-161d576aa7bc"
      },
      "outputs": [
        {
          "name": "stdout",
          "output_type": "stream",
          "text": [
            "10000\n",
            "(10000, 32, 32, 3)\n",
            "10000\n",
            "[[3]\n",
            " [8]\n",
            " [8]\n",
            " [0]\n",
            " [6]]\n"
          ]
        }
      ],
      "source": [
        "print(len(X_test))\n",
        "print(X_test.shape)\n",
        "\n",
        "print(len(y_test))\n",
        "print(y_test[0:5])"
      ]
    },
    {
      "cell_type": "markdown",
      "metadata": {
        "id": "MCU9P8_9hjVq"
      },
      "source": [
        "# II. Data Preprocessing\n",
        "\n",
        "> ## 1) Normalization"
      ]
    },
    {
      "cell_type": "code",
      "execution_count": null,
      "metadata": {
        "id": "yAjOn0brhhaN"
      },
      "outputs": [],
      "source": [
        "X_train = X_train.astype(float) / 255\n",
        "X_test = X_test.astype(float) / 255"
      ]
    },
    {
      "cell_type": "markdown",
      "metadata": {
        "id": "5PwakZ8FhqxN"
      },
      "source": [
        "> ## 2) One Hot Encoding"
      ]
    },
    {
      "cell_type": "code",
      "execution_count": null,
      "metadata": {
        "id": "cN4_onO5hp5X"
      },
      "outputs": [],
      "source": [
        "from tensorflow.keras.utils import to_categorical\n",
        "\n",
        "y_train = to_categorical(y_train)\n",
        "y_test = to_categorical(y_test)"
      ]
    },
    {
      "cell_type": "markdown",
      "metadata": {
        "id": "ZUi84fMGiN3j"
      },
      "source": [
        "> ## 3) train_test_split( )\n",
        "\n",
        "- Train(40,000) vs. Validation(10,000)"
      ]
    },
    {
      "cell_type": "code",
      "execution_count": null,
      "metadata": {
        "colab": {
          "base_uri": "https://localhost:8080/"
        },
        "id": "-1dLmx8uiLK-",
        "outputId": "8fe5ce3d-d0b2-4687-ce4e-0ef8047b3e6e"
      },
      "outputs": [
        {
          "data": {
            "text/plain": [
              "((40000, 32, 32, 3), (10000, 32, 32, 3), (40000, 10), (10000, 10))"
            ]
          },
          "execution_count": 9,
          "metadata": {},
          "output_type": "execute_result"
        }
      ],
      "source": [
        "from sklearn.model_selection import train_test_split\n",
        "\n",
        "X_train, X_valid, y_train, y_valid = train_test_split(X_train, y_train,\n",
        "                                                      test_size = 0.2,\n",
        "                                                      random_state = 2045)\n",
        "\n",
        "X_train.shape, X_valid.shape, y_train.shape, y_valid.shape "
      ]
    },
    {
      "cell_type": "markdown",
      "metadata": {
        "id": "8knc_G7qinky"
      },
      "source": [
        "# III. Keras Functional API Modeling\n",
        "\n",
        "> ## 1) Model Define\n",
        "\n",
        "- 모델 신경망 구조 정의"
      ]
    },
    {
      "cell_type": "code",
      "execution_count": null,
      "metadata": {
        "colab": {
          "base_uri": "https://localhost:8080/"
        },
        "id": "JgDgt_y2ilqC",
        "outputId": "8fc35b6e-65b7-4857-ec2e-17710fd463d0"
      },
      "outputs": [
        {
          "name": "stdout",
          "output_type": "stream",
          "text": [
            "CPU times: user 200 ms, sys: 5.17 ms, total: 205 ms\n",
            "Wall time: 315 ms\n"
          ]
        }
      ],
      "source": [
        "%%time\n",
        "\n",
        "from tensorflow.keras import models\n",
        "from tensorflow.keras import layers\n",
        "\n",
        "input_img = layers.Input((32, 32, 3))\n",
        "\n",
        "x = layers.Conv2D(filters = 32, kernel_size = (3, 3), strides = (1, 1), padding = 'valid')(input_img)\n",
        "x = layers.ReLU()(x)\n",
        "\n",
        "x = layers.MaxPool2D(pool_size = (2, 2))(x)\n",
        "\n",
        "x = layers.Conv2D(filters = 64, kernel_size = (3, 3), strides = (1, 1), padding = 'valid')(x)\n",
        "x = layers.ReLU()(x)\n",
        "\n",
        "x = layers.MaxPool2D(pool_size = (2, 2))(x)\n",
        "\n",
        "x = layers.Conv2D(filters = 64, kernel_size = (3, 3), strides = (1, 1), padding = 'valid')(x)\n",
        "x = layers.ReLU()(x)\n",
        "\n",
        "\n",
        "x = layers.Flatten()(x)\n",
        "x = layers.Dropout(0.5)(x)\n",
        "x = layers.Dense(64)(x)\n",
        "x = layers.ReLU()(x)\n",
        "\n",
        "x = layers.Dense(10)(x)\n",
        "output_y_hat = layers.Activation('softmax')(x)\n",
        "\n",
        "CIFAR = models.Model(input_img, output_y_hat)"
      ]
    },
    {
      "cell_type": "code",
      "execution_count": null,
      "metadata": {
        "colab": {
          "base_uri": "https://localhost:8080/"
        },
        "id": "bR34DiyZkMAw",
        "outputId": "97ab5d8e-fb19-4609-dcd3-e8c9ce972a89"
      },
      "outputs": [
        {
          "name": "stdout",
          "output_type": "stream",
          "text": [
            "Model: \"model\"\n",
            "_________________________________________________________________\n",
            " Layer (type)                Output Shape              Param #   \n",
            "=================================================================\n",
            " input_1 (InputLayer)        [(None, 32, 32, 3)]       0         \n",
            "                                                                 \n",
            " conv2d (Conv2D)             (None, 30, 30, 32)        896       \n",
            "                                                                 \n",
            " re_lu (ReLU)                (None, 30, 30, 32)        0         \n",
            "                                                                 \n",
            " max_pooling2d (MaxPooling2D  (None, 15, 15, 32)       0         \n",
            " )                                                               \n",
            "                                                                 \n",
            " conv2d_1 (Conv2D)           (None, 13, 13, 64)        18496     \n",
            "                                                                 \n",
            " re_lu_1 (ReLU)              (None, 13, 13, 64)        0         \n",
            "                                                                 \n",
            " max_pooling2d_1 (MaxPooling  (None, 6, 6, 64)         0         \n",
            " 2D)                                                             \n",
            "                                                                 \n",
            " conv2d_2 (Conv2D)           (None, 4, 4, 64)          36928     \n",
            "                                                                 \n",
            " re_lu_2 (ReLU)              (None, 4, 4, 64)          0         \n",
            "                                                                 \n",
            " flatten (Flatten)           (None, 1024)              0         \n",
            "                                                                 \n",
            " dropout (Dropout)           (None, 1024)              0         \n",
            "                                                                 \n",
            " dense (Dense)               (None, 64)                65600     \n",
            "                                                                 \n",
            " re_lu_3 (ReLU)              (None, 64)                0         \n",
            "                                                                 \n",
            " dense_1 (Dense)             (None, 10)                650       \n",
            "                                                                 \n",
            " activation (Activation)     (None, 10)                0         \n",
            "                                                                 \n",
            "=================================================================\n",
            "Total params: 122,570\n",
            "Trainable params: 122,570\n",
            "Non-trainable params: 0\n",
            "_________________________________________________________________\n"
          ]
        }
      ],
      "source": [
        "CIFAR.summary()"
      ]
    },
    {
      "cell_type": "markdown",
      "metadata": {
        "id": "ypXkutKkk5_4"
      },
      "source": [
        "> ## 2) Model Compile\n",
        "\n",
        "- 모델 학습방법 설정"
      ]
    },
    {
      "cell_type": "code",
      "execution_count": null,
      "metadata": {
        "id": "u9qQ3GYZkz8p"
      },
      "outputs": [],
      "source": [
        "CIFAR.compile(loss = 'categorical_crossentropy',\n",
        "              optimizer = 'adam',\n",
        "              metrics = ['accuracy'])"
      ]
    },
    {
      "cell_type": "markdown",
      "metadata": {
        "id": "1UmDe690lCS2"
      },
      "source": [
        "> ## 3) Model Fit\n",
        "\n",
        " - 약 5분"
      ]
    },
    {
      "cell_type": "code",
      "execution_count": null,
      "metadata": {
        "colab": {
          "background_save": true,
          "base_uri": "https://localhost:8080/"
        },
        "id": "hvrSCHsGlBZT",
        "outputId": "dc6ca6c6-f679-4f1a-df4c-58e082733583"
      },
      "outputs": [
        {
          "name": "stdout",
          "output_type": "stream",
          "text": [
            "Epoch 1/100\n",
            "313/313 [==============================] - 102s 320ms/step - loss: 1.7732 - accuracy: 0.3454 - val_loss: 1.4651 - val_accuracy: 0.4630\n",
            "Epoch 2/100\n",
            "313/313 [==============================] - 104s 333ms/step - loss: 1.4320 - accuracy: 0.4789 - val_loss: 1.2851 - val_accuracy: 0.5364\n",
            "Epoch 3/100\n",
            "313/313 [==============================] - 100s 318ms/step - loss: 1.3136 - accuracy: 0.5276 - val_loss: 1.3223 - val_accuracy: 0.5344\n",
            "Epoch 4/100\n",
            "313/313 [==============================] - 76s 242ms/step - loss: 1.2256 - accuracy: 0.5615 - val_loss: 1.1170 - val_accuracy: 0.6042\n",
            "Epoch 5/100\n",
            "313/313 [==============================] - 63s 201ms/step - loss: 1.1578 - accuracy: 0.5888 - val_loss: 1.0797 - val_accuracy: 0.6190\n",
            "Epoch 6/100\n",
            "313/313 [==============================] - 66s 209ms/step - loss: 1.1030 - accuracy: 0.6091 - val_loss: 1.0298 - val_accuracy: 0.6364\n",
            "Epoch 7/100\n",
            "313/313 [==============================] - 68s 217ms/step - loss: 1.0506 - accuracy: 0.6270 - val_loss: 0.9724 - val_accuracy: 0.6608\n",
            "Epoch 8/100\n",
            "313/313 [==============================] - 65s 209ms/step - loss: 1.0294 - accuracy: 0.6348 - val_loss: 0.9937 - val_accuracy: 0.6577\n",
            "Epoch 9/100\n",
            "313/313 [==============================] - 62s 197ms/step - loss: 0.9834 - accuracy: 0.6519 - val_loss: 0.9226 - val_accuracy: 0.6779\n",
            "Epoch 10/100\n",
            "313/313 [==============================] - 65s 206ms/step - loss: 0.9570 - accuracy: 0.6610 - val_loss: 0.9051 - val_accuracy: 0.6800\n",
            "Epoch 11/100\n",
            "313/313 [==============================] - 65s 207ms/step - loss: 0.9209 - accuracy: 0.6744 - val_loss: 0.8852 - val_accuracy: 0.6879\n",
            "Epoch 12/100\n",
            "313/313 [==============================] - 64s 206ms/step - loss: 0.9041 - accuracy: 0.6794 - val_loss: 0.9095 - val_accuracy: 0.6845\n",
            "Epoch 13/100\n",
            "313/313 [==============================] - 62s 199ms/step - loss: 0.8816 - accuracy: 0.6899 - val_loss: 0.8703 - val_accuracy: 0.6965\n",
            "Epoch 14/100\n",
            "313/313 [==============================] - 61s 196ms/step - loss: 0.8656 - accuracy: 0.6896 - val_loss: 0.9162 - val_accuracy: 0.6793\n",
            "Epoch 15/100\n",
            "313/313 [==============================] - 61s 195ms/step - loss: 0.8493 - accuracy: 0.7011 - val_loss: 0.8492 - val_accuracy: 0.6981\n",
            "Epoch 16/100\n",
            "313/313 [==============================] - 62s 199ms/step - loss: 0.8289 - accuracy: 0.7076 - val_loss: 0.8250 - val_accuracy: 0.7083\n",
            "Epoch 17/100\n",
            "313/313 [==============================] - 65s 207ms/step - loss: 0.8093 - accuracy: 0.7150 - val_loss: 0.8360 - val_accuracy: 0.7105\n",
            "Epoch 18/100\n",
            "313/313 [==============================] - 64s 204ms/step - loss: 0.7961 - accuracy: 0.7194 - val_loss: 0.7886 - val_accuracy: 0.7226\n",
            "Epoch 19/100\n",
            "313/313 [==============================] - 63s 203ms/step - loss: 0.7757 - accuracy: 0.7271 - val_loss: 0.8491 - val_accuracy: 0.7061\n",
            "Epoch 20/100\n",
            "262/313 [========================>.....] - ETA: 9s - loss: 0.7676 - accuracy: 0.7276"
          ]
        }
      ],
      "source": [
        "%%time\n",
        "\n",
        "Hist_CIFAR = CIFAR.fit(X_train, y_train,\n",
        "                       epochs = 100,\n",
        "                       batch_size = 128,\n",
        "                       validation_data = (X_valid, y_valid))"
      ]
    },
    {
      "cell_type": "markdown",
      "metadata": {
        "id": "ClMPjplulM00"
      },
      "source": [
        "> ## 4) 학습 결과 시각화"
      ]
    },
    {
      "cell_type": "code",
      "execution_count": null,
      "metadata": {
        "id": "LrKrYvUQlLA4"
      },
      "outputs": [],
      "source": [
        "import matplotlib.pyplot as plt\n",
        "\n",
        "epochs = range(1, len(Hist_CIFAR.history['loss']) + 1)\n",
        "\n",
        "plt.figure(figsize = (15, 5))\n",
        "\n",
        "plt.subplot(1, 2, 1)\n",
        "plt.plot(epochs, Hist_CIFAR.history['loss'], 'b-')\n",
        "plt.plot(epochs, Hist_CIFAR.history['val_loss'], 'r--')\n",
        "plt.title('Training & Validation Loss')\n",
        "plt.xlabel('Epochs')\n",
        "plt.ylabel('Loss')\n",
        "plt.legend(['Training Loss', 'Validation Loss'])\n",
        "plt.grid()\n",
        "\n",
        "plt.subplot(1, 2, 2)\n",
        "\n",
        "plt.plot(epochs, Hist_CIFAR.history['accuracy'], 'b-')\n",
        "plt.plot(epochs, Hist_CIFAR.history['val_accuracy'], 'r--')\n",
        "plt.title('Training & Validation Accuracy')\n",
        "plt.xlabel('Epochs')\n",
        "plt.ylabel('Accuracy')\n",
        "plt.legend(['Training Accuracy', 'Validation Accuracy'])\n",
        "plt.grid()\n",
        "\n",
        "plt.show()"
      ]
    },
    {
      "cell_type": "markdown",
      "metadata": {
        "id": "Hc-6oJ0llRdl"
      },
      "source": [
        "> ## 5) Model Evaluate\n",
        "\n",
        "- Loss & Accuracy\n"
      ]
    },
    {
      "cell_type": "code",
      "execution_count": null,
      "metadata": {
        "id": "qPfwlAc1lQnp"
      },
      "outputs": [],
      "source": [
        "loss, accuracy = CIFAR,evaluate(X_test, y_test, verbose = 0)\n",
        "\n",
        "print('Loss = {:.5f}'.format(loss))\n",
        "print('Accuracy = {:.5f}'.format(accuracy))"
      ]
    },
    {
      "cell_type": "markdown",
      "metadata": {
        "id": "Ug6BuMMklZmp"
      },
      "source": [
        "# IV. 성능평가\n",
        "\n",
        "> ## 1) Label Name 지정"
      ]
    },
    {
      "cell_type": "code",
      "execution_count": null,
      "metadata": {
        "id": "z-0_ddtIlYhO"
      },
      "outputs": [],
      "source": [
        "import numpy as np\n",
        "\n",
        "CLASSES = np.array(['Airplane', 'Automobile', 'Bird', 'Cat', 'Deer',\n",
        "                    'Dog', 'Frog', 'Horse', 'Ship', 'Truck'])\n",
        "\n",
        "preds = CIFAR.predict(X_test, verbose = 0)\n",
        "preds_single = CLASSES[np.argmax(preds, axis = -1)]\n",
        "actual_single = CLASSES[np.argmax(y_test, axis = -1)]"
      ]
    },
    {
      "cell_type": "markdown",
      "metadata": {
        "id": "uKjTXs_UltUu"
      },
      "source": [
        "> ## 2) 비교 시각화"
      ]
    },
    {
      "cell_type": "code",
      "execution_count": null,
      "metadata": {
        "id": "SwX8QJtgltQL"
      },
      "outputs": [],
      "source": [
        "import matplotlib.pyplot as plt\n",
        "\n",
        "n_to_show = 10\n",
        "indices = np.random.choice(range(len(X_test)), n_to_show)\n",
        "\n",
        "fig = plt.figure(figsize = (15, 3))\n",
        "fig.subplots_adjust(hspace = 0.4, wspace = 0.4)\n",
        "\n",
        "for i, idx in enumerate(indices):\n",
        "    img = X_test[idx]\n",
        "    ax = fig.add_subplot(1, n_to_show, i + 1)\n",
        "    ax.axis('off')\n",
        "    ax.text(0.5, -0.35,\n",
        "            'Pred = ' + str(preds_single[idx]),\n",
        "            fontsize = 10,\n",
        "            ha = 'center',\n",
        "            transform = ax.transAxes)\n",
        "    ax.text(0.5, -0.7,\n",
        "            'Act = ' + str(actual_single[idx]),\n",
        "            fontsize = 10,\n",
        "            ha = 'center',\n",
        "            transform = ax.transAxes)\n",
        "    ax.imshow(img)"
      ]
    },
    {
      "cell_type": "code",
      "execution_count": null,
      "metadata": {
        "id": "eh40tnLylsRd"
      },
      "outputs": [],
      "source": []
    }
  ],
  "metadata": {
    "accelerator": "GPU",
    "colab": {
      "provenance": []
    },
    "gpuClass": "standard",
    "kernelspec": {
      "display_name": "Python 3",
      "name": "python3"
    },
    "language_info": {
      "name": "python"
    }
  },
  "nbformat": 4,
  "nbformat_minor": 0
}