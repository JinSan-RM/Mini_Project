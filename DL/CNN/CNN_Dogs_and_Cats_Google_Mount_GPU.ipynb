{
  "nbformat": 4,
  "nbformat_minor": 0,
  "metadata": {
    "colab": {
      "provenance": []
    },
    "kernelspec": {
      "name": "python3",
      "display_name": "Python 3"
    },
    "language_info": {
      "name": "python"
    },
    "accelerator": "GPU",
    "gpuClass": "standard"
  },
  "cells": [
    {
      "cell_type": "markdown",
      "source": [
        "# 이미지 데이터 셋을 이용한 CNN Modeling\n",
        "\n",
        "> ## Google Drive Mount\n",
        "\n",
        "## Dogs and Cats Image_Data\n",
        "\n",
        "- Train_Data : 2000(1000_Dogs, 1000_Cats)\n",
        "- Valid_Data : 1000(500_Dogs, 500_Cats)\n",
        "- Test_Data : 1000(500_Dogs, 500_Cats)"
      ],
      "metadata": {
        "id": "itFw6rQycmcx"
      }
    },
    {
      "cell_type": "code",
      "execution_count": null,
      "metadata": {
        "id": "6BvE6O8EceKj"
      },
      "outputs": [],
      "source": [
        "import warnings\n",
        "warnings.filterwarnings('ignore')"
      ]
    },
    {
      "cell_type": "markdown",
      "source": [
        "### Import Tensorflow\n",
        "\n",
        "- import TensorFlow"
      ],
      "metadata": {
        "id": "ZSipQmaCc21-"
      }
    },
    {
      "cell_type": "code",
      "source": [
        "import tensorflow as tf\n",
        "\n",
        "tf.__version__"
      ],
      "metadata": {
        "colab": {
          "base_uri": "https://localhost:8080/",
          "height": 35
        },
        "id": "BEpLlL69cuuF",
        "outputId": "d06e44e9-202a-4964-ffe1-a5fb0101602d"
      },
      "execution_count": null,
      "outputs": [
        {
          "output_type": "execute_result",
          "data": {
            "text/plain": [
              "'2.12.0'"
            ],
            "application/vnd.google.colaboratory.intrinsic+json": {
              "type": "string"
            }
          },
          "metadata": {},
          "execution_count": 2
        }
      ]
    },
    {
      "cell_type": "markdown",
      "source": [
        "# I. Google Drive Mount\n",
        "\n",
        "  - 'dogs_and_cats_small.zip' 파일 다운로드\n",
        "\n",
        "    - https://drive.google.com/file/d/11afb-PJul1Qs7PqjAlXybMHKPRf_RD0l/view?usp=sharing"
      ],
      "metadata": {
        "id": "LQS-JrGJc9Yw"
      }
    },
    {
      "cell_type": "code",
      "source": [
        "from google.colab import drive\n",
        "\n",
        "drive.mount('/content/drive')"
      ],
      "metadata": {
        "colab": {
          "base_uri": "https://localhost:8080/"
        },
        "id": "kcFeLITlc7fn",
        "outputId": "c4f24b43-b6ad-4d65-9480-19f1ed782e5e"
      },
      "execution_count": 8,
      "outputs": [
        {
          "output_type": "stream",
          "name": "stdout",
          "text": [
            "Drive already mounted at /content/drive; to attempt to forcibly remount, call drive.mount(\"/content/drive\", force_remount=True).\n"
          ]
        }
      ]
    },
    {
      "cell_type": "markdown",
      "source": [
        "   - Make 'datasets' Directory\n",
        "\n",
        "    - 'dogs_and_cats_small.zip' 파일을 생성 후 구글 드라이브 디렉토리에 업로드"
      ],
      "metadata": {
        "id": "qmFrFAH6dL3P"
      }
    },
    {
      "cell_type": "code",
      "source": [
        "!mkdir -p '/content/drive/My Drive/Colab Notebooks/datasets'"
      ],
      "metadata": {
        "id": "oqU3aaf-dFhv"
      },
      "execution_count": 9,
      "outputs": []
    },
    {
      "cell_type": "markdown",
      "source": [
        "- 마운트 및 파일 업로드 결과 확인"
      ],
      "metadata": {
        "id": "8kdrdQhOdVSL"
      }
    },
    {
      "cell_type": "code",
      "source": [
        "!ls -l '/content/drive/My Drive/Colab Notebooks/datasets/dogs_and_cats_small.zip'"
      ],
      "metadata": {
        "colab": {
          "base_uri": "https://localhost:8080/"
        },
        "id": "BXG-2YMgdUiY",
        "outputId": "593fc8d7-77dc-48ee-b993-b4f4374424b1"
      },
      "execution_count": 10,
      "outputs": [
        {
          "output_type": "stream",
          "name": "stdout",
          "text": [
            "-rw------- 1 root root 90618980 Apr  4 04:07 '/content/drive/My Drive/Colab Notebooks/datasets/dogs_and_cats_small.zip'\n"
          ]
        }
      ]
    },
    {
      "cell_type": "markdown",
      "source": [
        "# II. Data Preprocessing\n",
        "\n",
        "> ## 1) Unzip 'dogs_and_cats_small.zip'"
      ],
      "metadata": {
        "id": "FxwifmhId3z3"
      }
    },
    {
      "cell_type": "code",
      "source": [
        "!unzip -q /content/drive/My\\ Drive/Colab\\ Notebooks/datasets/dogs_and_cats_small.zip"
      ],
      "metadata": {
        "id": "VjHcvaI6dbCP"
      },
      "execution_count": 11,
      "outputs": []
    },
    {
      "cell_type": "code",
      "source": [
        "!ls -l"
      ],
      "metadata": {
        "colab": {
          "base_uri": "https://localhost:8080/"
        },
        "id": "1cGcjDpdeBFF",
        "outputId": "8b87939c-ceeb-40af-e843-7859890964f6"
      },
      "execution_count": 13,
      "outputs": [
        {
          "output_type": "stream",
          "name": "stdout",
          "text": [
            "total 20\n",
            "drwx------ 5 root root 4096 Apr  4 04:09 drive\n",
            "drwxr-xr-x 1 root root 4096 Mar 31 13:36 sample_data\n",
            "drwxr-xr-x 4 root root 4096 Apr  4 04:13 test\n",
            "drwxr-xr-x 4 root root 4096 Apr  4 04:13 train\n",
            "drwxr-xr-x 4 root root 4096 Apr  4 04:13 validation\n"
          ]
        }
      ]
    },
    {
      "cell_type": "markdown",
      "source": [
        "> ## 2) Image_File Directory Setting\n",
        "\n",
        "- train_dir\n",
        "- valid_dir\n",
        "- test_dir"
      ],
      "metadata": {
        "id": "TpbtKo3FeGSy"
      }
    },
    {
      "cell_type": "code",
      "source": [
        "train_dir = 'train'\n",
        "valid_dir = 'validation'\n",
        "test_dir = 'test'"
      ],
      "metadata": {
        "id": "0H8qlkaTeCaa"
      },
      "execution_count": 17,
      "outputs": []
    },
    {
      "cell_type": "markdown",
      "source": [
        "> ## 3) ImageDataGenerator( ) & flow_from_directory( )\n",
        "\n",
        "- Normalization\n",
        "  - ImageDataGenerator( )\n",
        "- Resizing & Generator\n",
        "  - flow_from_directory( )"
      ],
      "metadata": {
        "id": "x-D3T6_4eNuY"
      }
    },
    {
      "cell_type": "code",
      "source": [
        "from tensorflow.keras.preprocessing.image import ImageDataGenerator\n",
        "\n",
        "train_datagen = ImageDataGenerator(rescale = 1./255)\n",
        "valid_datagen = ImageDataGenerator(rescale = 1./255)\n",
        "\n",
        "train_generator = train_datagen.flow_from_directory(\n",
        "                  train_dir,\n",
        "                  target_size = (150, 150),\n",
        "                  batch_size = 20,\n",
        "                  class_mode = 'binary')\n",
        "\n",
        "valid_generator = valid_datagen.flow_from_directory(\n",
        "                  valid_dir,\n",
        "                  target_size = (150, 150),\n",
        "                  batch_size = 20,\n",
        "                  class_mode = 'binary')"
      ],
      "metadata": {
        "colab": {
          "base_uri": "https://localhost:8080/"
        },
        "id": "kte2-XfFeMoK",
        "outputId": "e2765fb5-5a76-4421-913a-cc9b1cd9e507"
      },
      "execution_count": 18,
      "outputs": [
        {
          "output_type": "stream",
          "name": "stdout",
          "text": [
            "Found 2000 images belonging to 2 classes.\n",
            "Found 1000 images belonging to 2 classes.\n"
          ]
        }
      ]
    },
    {
      "cell_type": "markdown",
      "source": [
        "> ## 4) Test train_generator"
      ],
      "metadata": {
        "id": "vQx43tIOfNiu"
      }
    },
    {
      "cell_type": "code",
      "source": [
        "for data_batch, labels_batch in train_generator:\n",
        "    print('배치 데이터 크기 :', data_batch.shape)\n",
        "    print('배치 레이블 크기 :', labels_batch.shape)\n",
        "    break"
      ],
      "metadata": {
        "colab": {
          "base_uri": "https://localhost:8080/"
        },
        "id": "GY50gsuKeUyY",
        "outputId": "d530e3db-ad4d-4e12-f9f2-941d10379481"
      },
      "execution_count": 19,
      "outputs": [
        {
          "output_type": "stream",
          "name": "stdout",
          "text": [
            "배치 데이터 크기 : (20, 150, 150, 3)\n",
            "배치 레이블 크기 : (20,)\n"
          ]
        }
      ]
    },
    {
      "cell_type": "code",
      "source": [
        "labels_batch"
      ],
      "metadata": {
        "colab": {
          "base_uri": "https://localhost:8080/"
        },
        "id": "thPP3LMGfZLO",
        "outputId": "f5208b14-6a2f-497a-c75d-80b97bf4a7cc"
      },
      "execution_count": 20,
      "outputs": [
        {
          "output_type": "execute_result",
          "data": {
            "text/plain": [
              "array([1., 1., 1., 1., 1., 1., 1., 1., 0., 0., 0., 1., 0., 0., 1., 1., 0.,\n",
              "       1., 0., 1.], dtype=float32)"
            ]
          },
          "metadata": {},
          "execution_count": 20
        }
      ]
    },
    {
      "cell_type": "markdown",
      "source": [
        "# III. CNN Keras Modeling\n",
        "\n",
        "> ## 1) Model Define\n",
        "\n",
        "- Feature Extraction & Classification"
      ],
      "metadata": {
        "id": "I4Op6Fs4fpMl"
      }
    },
    {
      "cell_type": "code",
      "source": [
        "from tensorflow.keras import models, layers\n",
        "\n",
        "model = models.Sequential()\n",
        "model.add(layers.Conv2D(32, (3, 3), activation = 'relu', input_shape = (150, 150, 3)))\n",
        "model.add(layers.MaxPooling2D((2, 2)))\n",
        "model.add(layers.Conv2D(64, (3, 3), activation = 'relu'))\n",
        "model.add(layers.MaxPooling2D(2, 2))\n",
        "model.add(layers.Conv2D(128, (3, 3), activation = 'relu'))\n",
        "model.add(layers.MaxPooling2D(2, 2))\n",
        "model.add(layers.Conv2D(128, (3, 3), activation = 'relu'))\n",
        "model.add(layers.MaxPooling2D(2, 2))\n",
        "\n",
        "model.add(layers.Flatten())\n",
        "model.add(layers.Dense(512, activation = 'relu'))\n",
        "model.add(layers.Dense(1, activation = 'sigmoid'))"
      ],
      "metadata": {
        "id": "cj_1pSiXfoHw"
      },
      "execution_count": 22,
      "outputs": []
    },
    {
      "cell_type": "code",
      "source": [
        "model.summary()"
      ],
      "metadata": {
        "colab": {
          "base_uri": "https://localhost:8080/"
        },
        "id": "MCYI2D3Pgj60",
        "outputId": "e00c13c9-b8c9-4d96-8501-c50364fefe0d"
      },
      "execution_count": 23,
      "outputs": [
        {
          "output_type": "stream",
          "name": "stdout",
          "text": [
            "Model: \"sequential\"\n",
            "_________________________________________________________________\n",
            " Layer (type)                Output Shape              Param #   \n",
            "=================================================================\n",
            " conv2d (Conv2D)             (None, 148, 148, 32)      896       \n",
            "                                                                 \n",
            " max_pooling2d (MaxPooling2D  (None, 74, 74, 32)       0         \n",
            " )                                                               \n",
            "                                                                 \n",
            " conv2d_1 (Conv2D)           (None, 72, 72, 64)        18496     \n",
            "                                                                 \n",
            " max_pooling2d_1 (MaxPooling  (None, 36, 36, 64)       0         \n",
            " 2D)                                                             \n",
            "                                                                 \n",
            " conv2d_2 (Conv2D)           (None, 34, 34, 128)       73856     \n",
            "                                                                 \n",
            " max_pooling2d_2 (MaxPooling  (None, 17, 17, 128)      0         \n",
            " 2D)                                                             \n",
            "                                                                 \n",
            " conv2d_3 (Conv2D)           (None, 15, 15, 128)       147584    \n",
            "                                                                 \n",
            " max_pooling2d_3 (MaxPooling  (None, 7, 7, 128)        0         \n",
            " 2D)                                                             \n",
            "                                                                 \n",
            " flatten (Flatten)           (None, 6272)              0         \n",
            "                                                                 \n",
            " dense (Dense)               (None, 512)               3211776   \n",
            "                                                                 \n",
            " dense_1 (Dense)             (None, 1)                 513       \n",
            "                                                                 \n",
            "=================================================================\n",
            "Total params: 3,453,121\n",
            "Trainable params: 3,453,121\n",
            "Non-trainable params: 0\n",
            "_________________________________________________________________\n"
          ]
        }
      ]
    },
    {
      "cell_type": "markdown",
      "source": [
        "> ## 2) Model Compile\n",
        "\n",
        "- 모델 학습방법 설정"
      ],
      "metadata": {
        "id": "kbIF8VD9gxe1"
      }
    },
    {
      "cell_type": "code",
      "source": [
        "model.compile(loss = 'binary_crossentropy',\n",
        "              optimizer = 'adam',\n",
        "              metrics = ['accuracy'])"
      ],
      "metadata": {
        "id": "U-Lh_q8mgu3l"
      },
      "execution_count": 24,
      "outputs": []
    },
    {
      "cell_type": "markdown",
      "source": [
        "> ## 3) Model Fit\n",
        "\n",
        "- 모델 학습 수행\n",
        "  - 약 11분"
      ],
      "metadata": {
        "id": "GncTTXB9g_18"
      }
    },
    {
      "cell_type": "code",
      "source": [
        "%%time\n",
        "\n",
        "Hist_dandc = model.fit(train_generator,\n",
        "                       steps_per_epoch = 100,\n",
        "                       epochs = 60,\n",
        "                       validation_data = valid_generator,\n",
        "                       validation_steps = 50)"
      ],
      "metadata": {
        "colab": {
          "base_uri": "https://localhost:8080/"
        },
        "id": "yf1eSZwvg4LS",
        "outputId": "5e7d716e-1014-4d9d-a184-9f20eee9b6bf"
      },
      "execution_count": 26,
      "outputs": [
        {
          "output_type": "stream",
          "name": "stdout",
          "text": [
            "Epoch 1/60\n",
            "100/100 [==============================] - 24s 116ms/step - loss: 0.7019 - accuracy: 0.4930 - val_loss: 0.6920 - val_accuracy: 0.5990\n",
            "Epoch 2/60\n",
            "100/100 [==============================] - 14s 143ms/step - loss: 0.6927 - accuracy: 0.5180 - val_loss: 0.6801 - val_accuracy: 0.5020\n",
            "Epoch 3/60\n",
            "100/100 [==============================] - 14s 136ms/step - loss: 0.6822 - accuracy: 0.5550 - val_loss: 0.6511 - val_accuracy: 0.6170\n",
            "Epoch 4/60\n",
            "100/100 [==============================] - 15s 146ms/step - loss: 0.6605 - accuracy: 0.5980 - val_loss: 0.6382 - val_accuracy: 0.6270\n",
            "Epoch 5/60\n",
            "100/100 [==============================] - 27s 275ms/step - loss: 0.6178 - accuracy: 0.6655 - val_loss: 0.6232 - val_accuracy: 0.6600\n",
            "Epoch 6/60\n",
            "100/100 [==============================] - 16s 162ms/step - loss: 0.5849 - accuracy: 0.6800 - val_loss: 0.6634 - val_accuracy: 0.6300\n",
            "Epoch 7/60\n",
            "100/100 [==============================] - 14s 141ms/step - loss: 0.5445 - accuracy: 0.7240 - val_loss: 0.6330 - val_accuracy: 0.6720\n",
            "Epoch 8/60\n",
            "100/100 [==============================] - 17s 165ms/step - loss: 0.4732 - accuracy: 0.7745 - val_loss: 0.6628 - val_accuracy: 0.6660\n",
            "Epoch 9/60\n",
            "100/100 [==============================] - 20s 205ms/step - loss: 0.3834 - accuracy: 0.8215 - val_loss: 0.7239 - val_accuracy: 0.6870\n",
            "Epoch 10/60\n",
            "100/100 [==============================] - 21s 210ms/step - loss: 0.2885 - accuracy: 0.8810 - val_loss: 0.8192 - val_accuracy: 0.6660\n",
            "Epoch 11/60\n",
            "100/100 [==============================] - 16s 160ms/step - loss: 0.1787 - accuracy: 0.9260 - val_loss: 1.2180 - val_accuracy: 0.6740\n",
            "Epoch 12/60\n",
            "100/100 [==============================] - 14s 142ms/step - loss: 0.1207 - accuracy: 0.9510 - val_loss: 1.3373 - val_accuracy: 0.6820\n",
            "Epoch 13/60\n",
            "100/100 [==============================] - 14s 139ms/step - loss: 0.0861 - accuracy: 0.9735 - val_loss: 1.6523 - val_accuracy: 0.6730\n",
            "Epoch 14/60\n",
            "100/100 [==============================] - 14s 138ms/step - loss: 0.0545 - accuracy: 0.9800 - val_loss: 1.9730 - val_accuracy: 0.6860\n",
            "Epoch 15/60\n",
            "100/100 [==============================] - 14s 142ms/step - loss: 0.0323 - accuracy: 0.9915 - val_loss: 1.9748 - val_accuracy: 0.6800\n",
            "Epoch 16/60\n",
            "100/100 [==============================] - 15s 155ms/step - loss: 0.0445 - accuracy: 0.9860 - val_loss: 1.8424 - val_accuracy: 0.6990\n",
            "Epoch 17/60\n",
            "100/100 [==============================] - 19s 188ms/step - loss: 0.0101 - accuracy: 0.9980 - val_loss: 2.3243 - val_accuracy: 0.6870\n",
            "Epoch 18/60\n",
            "100/100 [==============================] - 16s 160ms/step - loss: 0.0013 - accuracy: 1.0000 - val_loss: 2.5175 - val_accuracy: 0.6930\n",
            "Epoch 19/60\n",
            "100/100 [==============================] - 13s 129ms/step - loss: 4.6484e-04 - accuracy: 1.0000 - val_loss: 2.6508 - val_accuracy: 0.6950\n",
            "Epoch 20/60\n",
            "100/100 [==============================] - 14s 141ms/step - loss: 3.0814e-04 - accuracy: 1.0000 - val_loss: 2.7324 - val_accuracy: 0.6960\n",
            "Epoch 21/60\n",
            "100/100 [==============================] - 13s 132ms/step - loss: 2.2382e-04 - accuracy: 1.0000 - val_loss: 2.8013 - val_accuracy: 0.6940\n",
            "Epoch 22/60\n",
            "100/100 [==============================] - 14s 138ms/step - loss: 1.7577e-04 - accuracy: 1.0000 - val_loss: 2.8611 - val_accuracy: 0.6950\n",
            "Epoch 23/60\n",
            "100/100 [==============================] - 16s 158ms/step - loss: 1.4092e-04 - accuracy: 1.0000 - val_loss: 2.9177 - val_accuracy: 0.6920\n",
            "Epoch 24/60\n",
            "100/100 [==============================] - 15s 147ms/step - loss: 1.1554e-04 - accuracy: 1.0000 - val_loss: 2.9638 - val_accuracy: 0.6960\n",
            "Epoch 25/60\n",
            "100/100 [==============================] - 14s 136ms/step - loss: 9.6832e-05 - accuracy: 1.0000 - val_loss: 3.0079 - val_accuracy: 0.6960\n",
            "Epoch 26/60\n",
            "100/100 [==============================] - 14s 139ms/step - loss: 8.2042e-05 - accuracy: 1.0000 - val_loss: 3.0508 - val_accuracy: 0.6950\n",
            "Epoch 27/60\n",
            "100/100 [==============================] - 14s 144ms/step - loss: 7.0256e-05 - accuracy: 1.0000 - val_loss: 3.0887 - val_accuracy: 0.6950\n",
            "Epoch 28/60\n",
            "100/100 [==============================] - 14s 143ms/step - loss: 6.0435e-05 - accuracy: 1.0000 - val_loss: 3.1264 - val_accuracy: 0.6970\n",
            "Epoch 29/60\n",
            "100/100 [==============================] - 14s 141ms/step - loss: 5.2457e-05 - accuracy: 1.0000 - val_loss: 3.1651 - val_accuracy: 0.6970\n",
            "Epoch 30/60\n",
            "100/100 [==============================] - 15s 154ms/step - loss: 4.5557e-05 - accuracy: 1.0000 - val_loss: 3.1960 - val_accuracy: 0.6960\n",
            "Epoch 31/60\n",
            "100/100 [==============================] - 20s 197ms/step - loss: 3.9729e-05 - accuracy: 1.0000 - val_loss: 3.2349 - val_accuracy: 0.6950\n",
            "Epoch 32/60\n",
            "100/100 [==============================] - 15s 148ms/step - loss: 3.4660e-05 - accuracy: 1.0000 - val_loss: 3.2709 - val_accuracy: 0.6960\n",
            "Epoch 33/60\n",
            "100/100 [==============================] - 15s 149ms/step - loss: 3.0153e-05 - accuracy: 1.0000 - val_loss: 3.3097 - val_accuracy: 0.6970\n",
            "Epoch 34/60\n",
            "100/100 [==============================] - 13s 135ms/step - loss: 2.6084e-05 - accuracy: 1.0000 - val_loss: 3.3495 - val_accuracy: 0.6980\n",
            "Epoch 35/60\n",
            "100/100 [==============================] - 12s 118ms/step - loss: 2.2560e-05 - accuracy: 1.0000 - val_loss: 3.3970 - val_accuracy: 0.6970\n",
            "Epoch 36/60\n",
            "100/100 [==============================] - 11s 111ms/step - loss: 1.9604e-05 - accuracy: 1.0000 - val_loss: 3.4387 - val_accuracy: 0.6970\n",
            "Epoch 37/60\n",
            "100/100 [==============================] - 11s 110ms/step - loss: 1.6899e-05 - accuracy: 1.0000 - val_loss: 3.4848 - val_accuracy: 0.6960\n",
            "Epoch 38/60\n",
            "100/100 [==============================] - 12s 117ms/step - loss: 1.4620e-05 - accuracy: 1.0000 - val_loss: 3.5256 - val_accuracy: 0.6960\n",
            "Epoch 39/60\n",
            "100/100 [==============================] - 11s 110ms/step - loss: 1.2590e-05 - accuracy: 1.0000 - val_loss: 3.5646 - val_accuracy: 0.6960\n",
            "Epoch 40/60\n",
            "100/100 [==============================] - 11s 110ms/step - loss: 1.0887e-05 - accuracy: 1.0000 - val_loss: 3.5991 - val_accuracy: 0.6960\n",
            "Epoch 41/60\n",
            "100/100 [==============================] - 10s 96ms/step - loss: 9.2831e-06 - accuracy: 1.0000 - val_loss: 3.6414 - val_accuracy: 0.6960\n",
            "Epoch 42/60\n",
            "100/100 [==============================] - 10s 104ms/step - loss: 8.1238e-06 - accuracy: 1.0000 - val_loss: 3.6789 - val_accuracy: 0.6960\n",
            "Epoch 43/60\n",
            "100/100 [==============================] - 11s 110ms/step - loss: 7.0292e-06 - accuracy: 1.0000 - val_loss: 3.7389 - val_accuracy: 0.6970\n",
            "Epoch 44/60\n",
            "100/100 [==============================] - 12s 118ms/step - loss: 6.2303e-06 - accuracy: 1.0000 - val_loss: 3.7679 - val_accuracy: 0.6980\n",
            "Epoch 45/60\n",
            "100/100 [==============================] - 12s 117ms/step - loss: 5.4504e-06 - accuracy: 1.0000 - val_loss: 3.7946 - val_accuracy: 0.6950\n",
            "Epoch 46/60\n",
            "100/100 [==============================] - 9s 95ms/step - loss: 4.8558e-06 - accuracy: 1.0000 - val_loss: 3.8428 - val_accuracy: 0.6970\n",
            "Epoch 47/60\n",
            "100/100 [==============================] - 11s 110ms/step - loss: 4.3249e-06 - accuracy: 1.0000 - val_loss: 3.8800 - val_accuracy: 0.6970\n",
            "Epoch 48/60\n",
            "100/100 [==============================] - 11s 110ms/step - loss: 3.8844e-06 - accuracy: 1.0000 - val_loss: 3.9183 - val_accuracy: 0.6970\n",
            "Epoch 49/60\n",
            "100/100 [==============================] - 11s 111ms/step - loss: 3.4968e-06 - accuracy: 1.0000 - val_loss: 3.9266 - val_accuracy: 0.6960\n",
            "Epoch 50/60\n",
            "100/100 [==============================] - 12s 119ms/step - loss: 3.1910e-06 - accuracy: 1.0000 - val_loss: 3.9597 - val_accuracy: 0.6950\n",
            "Epoch 51/60\n",
            "100/100 [==============================] - 11s 110ms/step - loss: 2.8711e-06 - accuracy: 1.0000 - val_loss: 4.0000 - val_accuracy: 0.6930\n",
            "Epoch 52/60\n",
            "100/100 [==============================] - 12s 118ms/step - loss: 2.6015e-06 - accuracy: 1.0000 - val_loss: 4.0342 - val_accuracy: 0.6930\n",
            "Epoch 53/60\n",
            "100/100 [==============================] - 10s 97ms/step - loss: 2.3446e-06 - accuracy: 1.0000 - val_loss: 4.0737 - val_accuracy: 0.6920\n",
            "Epoch 54/60\n",
            "100/100 [==============================] - 11s 110ms/step - loss: 2.1637e-06 - accuracy: 1.0000 - val_loss: 4.0813 - val_accuracy: 0.6930\n",
            "Epoch 55/60\n",
            "100/100 [==============================] - 11s 113ms/step - loss: 1.9846e-06 - accuracy: 1.0000 - val_loss: 4.0952 - val_accuracy: 0.6920\n",
            "Epoch 56/60\n",
            "100/100 [==============================] - 12s 120ms/step - loss: 1.7971e-06 - accuracy: 1.0000 - val_loss: 4.1547 - val_accuracy: 0.6910\n",
            "Epoch 57/60\n",
            "100/100 [==============================] - 10s 97ms/step - loss: 1.6710e-06 - accuracy: 1.0000 - val_loss: 4.1674 - val_accuracy: 0.6930\n",
            "Epoch 58/60\n",
            "100/100 [==============================] - 11s 115ms/step - loss: 1.5329e-06 - accuracy: 1.0000 - val_loss: 4.1863 - val_accuracy: 0.6930\n",
            "Epoch 59/60\n",
            "100/100 [==============================] - 11s 115ms/step - loss: 1.4133e-06 - accuracy: 1.0000 - val_loss: 4.2062 - val_accuracy: 0.6930\n",
            "Epoch 60/60\n",
            "100/100 [==============================] - 12s 121ms/step - loss: 1.2926e-06 - accuracy: 1.0000 - val_loss: 4.2308 - val_accuracy: 0.6930\n",
            "CPU times: user 12min 45s, sys: 18.1 s, total: 13min 3s\n",
            "Wall time: 16min 24s\n"
          ]
        }
      ]
    },
    {
      "cell_type": "markdown",
      "source": [
        "> ## 4) 학습 결과 시각화"
      ],
      "metadata": {
        "id": "3lM58fH-hZKB"
      }
    },
    {
      "cell_type": "code",
      "source": [
        "import matplotlib.pyplot as plt\n",
        "\n",
        "epochs = range(1, len(Hist_dandc.history['loss']) + 1)\n",
        "\n",
        "plt.figure(figsize = (15, 5))\n",
        "\n",
        "plt.subplot(1, 2, 1)\n",
        "plt.plot(epochs, Hist_dandc.history['loss'], 'b-')\n",
        "plt.plot(epochs, Hist_dandc.history['val_loss'], 'r--')\n",
        "plt.title('Training & Validation Loss')\n",
        "plt.xlabel('Epochs')\n",
        "plt.ylabel('Loss')\n",
        "plt.legend(['Training Loss', 'Validation Loss'])\n",
        "plt.grid()\n",
        "\n",
        "plt.subplot(1, 2, 2)\n",
        "plt.plot(epochs, Hist_dandc.history['accuracy'], 'b-')\n",
        "plt.plot(epochs, Hist_dandc.history['val_accuracy'], 'r--')\n",
        "plt.title('Training & Validation Accuracy')\n",
        "plt.xlabel('Epochs')\n",
        "plt.ylabel('Accuracy')\n",
        "plt.legend(['Training Accuracy', 'Validation Accuracy'])\n",
        "plt.grid()\n",
        "\n",
        "plt.show()"
      ],
      "metadata": {
        "colab": {
          "base_uri": "https://localhost:8080/",
          "height": 487
        },
        "id": "fWkGR6nBhSCl",
        "outputId": "48ab0eac-a223-4be2-81da-d814c8980c82"
      },
      "execution_count": 27,
      "outputs": [
        {
          "output_type": "display_data",
          "data": {
            "text/plain": [
              "<Figure size 1500x500 with 2 Axes>"
            ],
            "image/png": "[encoded data removed]"
          },
          "metadata": {}
        }
      ]
    },
    {
      "cell_type": "markdown",
      "source": [
        "> ## 5) Model Evaluate\n",
        "\n",
        "- test_generator"
      ],
      "metadata": {
        "id": "O6FMCMlriXsu"
      }
    },
    {
      "cell_type": "code",
      "source": [
        "test_datagen = ImageDataGenerator(rescale = 1./255)\n",
        "\n",
        "test_generator = test_datagen.flow_from_directory(\n",
        "                test_dir,\n",
        "                target_size = (150, 150),\n",
        "                batch_size = 20,\n",
        "                class_mode = 'binary')"
      ],
      "metadata": {
        "colab": {
          "base_uri": "https://localhost:8080/"
        },
        "id": "xYsPpJM5iVX5",
        "outputId": "e4218e79-a68c-4b95-8948-0e05b760b897"
      },
      "execution_count": 28,
      "outputs": [
        {
          "output_type": "stream",
          "name": "stdout",
          "text": [
            "Found 1000 images belonging to 2 classes.\n"
          ]
        }
      ]
    },
    {
      "cell_type": "markdown",
      "source": [
        "- Loss & Accuracy"
      ],
      "metadata": {
        "id": "csvBlbTrioj5"
      }
    },
    {
      "cell_type": "code",
      "source": [
        "loss, accuracy = model.evaluate(test_generator,\n",
        "                                steps = 50,\n",
        "                                verbose = 0)\n",
        "\n",
        "print('Loss = {:.5f}'.format(loss))\n",
        "print('Accuracy = {:.5f}'.format(accuracy))"
      ],
      "metadata": {
        "colab": {
          "base_uri": "https://localhost:8080/"
        },
        "id": "q_51g4MiinhD",
        "outputId": "23e52859-0512-4110-a583-dda4c4b08a7f"
      },
      "execution_count": 29,
      "outputs": [
        {
          "output_type": "stream",
          "name": "stdout",
          "text": [
            "Loss = 4.08281\n",
            "Accuracy = 0.67700\n"
          ]
        }
      ]
    },
    {
      "cell_type": "markdown",
      "source": [
        "# IV. Model Save & Load to Google Drive\n",
        "\n",
        "> ## 1) Google Drive Mount\n",
        "\n",
        "- Mount Google Drive"
      ],
      "metadata": {
        "id": "_9rxH1Y7i2R6"
      }
    },
    {
      "cell_type": "code",
      "source": [
        "from google.colab import drive\n",
        "\n",
        "drive.mount('/content/drive')"
      ],
      "metadata": {
        "colab": {
          "base_uri": "https://localhost:8080/"
        },
        "id": "czxUh4hQi1II",
        "outputId": "22552ce0-3eb5-4beb-f631-7e47d7e9b0dc"
      },
      "execution_count": 30,
      "outputs": [
        {
          "output_type": "stream",
          "name": "stdout",
          "text": [
            "Drive already mounted at /content/drive; to attempt to forcibly remount, call drive.mount(\"/content/drive\", force_remount=True).\n"
          ]
        }
      ]
    },
    {
      "cell_type": "markdown",
      "source": [
        "- Make 'models' Directory"
      ],
      "metadata": {
        "id": "j6zM_W6vi8xy"
      }
    },
    {
      "cell_type": "code",
      "source": [
        "!mkdir -p '/content/drive/My Drive/Colab Notebooks/models'"
      ],
      "metadata": {
        "id": "73VtEDVHi73f"
      },
      "execution_count": 31,
      "outputs": []
    },
    {
      "cell_type": "markdown",
      "source": [
        "> ## 2) Model Save"
      ],
      "metadata": {
        "id": "ddyUMTmsjDYh"
      }
    },
    {
      "cell_type": "code",
      "source": [
        "model.save('/content/drive/My Drive/Colab Notebooks/models/002_dogs_and_cats_small.h5')"
      ],
      "metadata": {
        "id": "Q6qBLgK3jCio"
      },
      "execution_count": 32,
      "outputs": []
    },
    {
      "cell_type": "code",
      "source": [
        "!ls -l /content/drive/my\\ Drive/Colab\\ Notebooks/models"
      ],
      "metadata": {
        "colab": {
          "base_uri": "https://localhost:8080/"
        },
        "id": "h_BUJi1SjK8x",
        "outputId": "476a9788-6710-4acc-f2d8-82b2251694fa"
      },
      "execution_count": 33,
      "outputs": [
        {
          "output_type": "stream",
          "name": "stdout",
          "text": [
            "ls: cannot access '/content/drive/my Drive/Colab Notebooks/models': No such file or directory\n"
          ]
        }
      ]
    },
    {
      "cell_type": "markdown",
      "source": [
        "> ## 3) Model Load"
      ],
      "metadata": {
        "id": "6S979iQHjRhn"
      }
    },
    {
      "cell_type": "code",
      "source": [
        "from tensorflow.keras.models import load_model\n",
        "\n",
        "model_small = load_model('/content/drive/My Drive/Colab Notebooks/models/002_dogs_and_cats_small.h5')"
      ],
      "metadata": {
        "id": "ArBvEfDPjQVx"
      },
      "execution_count": 34,
      "outputs": []
    },
    {
      "cell_type": "code",
      "source": [
        "loss, accuracy = model_small.evaluate(test_generator,\n",
        "                                      steps = 50,\n",
        "                                      verbose = 0)\n",
        "\n",
        "print('Loss = {:.5f}'.format(loss))\n",
        "print('Accuracy = {:.5f}'.format(accuracy))"
      ],
      "metadata": {
        "colab": {
          "base_uri": "https://localhost:8080/"
        },
        "id": "nMLAjNw3jceT",
        "outputId": "765e4109-7f64-4215-8504-893fdae637fa"
      },
      "execution_count": 36,
      "outputs": [
        {
          "output_type": "stream",
          "name": "stdout",
          "text": [
            "Loss = 4.08281\n",
            "Accuracy = 0.67700\n"
          ]
        }
      ]
    },
    {
      "cell_type": "code",
      "source": [],
      "metadata": {
        "id": "t_W4O87-jnzK"
      },
      "execution_count": null,
      "outputs": []
    }
  ]
}