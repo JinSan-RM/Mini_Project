{
  "nbformat": 4,
  "nbformat_minor": 0,
  "metadata": {
    "colab": {
      "provenance": []
    },
    "kernelspec": {
      "name": "python3",
      "display_name": "Python 3"
    },
    "language_info": {
      "name": "python"
    },
    "accelerator": "GPU",
    "gpuClass": "standard"
  },
  "cells": [
    {
      "cell_type": "markdown",
      "source": [
        "#AutoEncoder(AE)\n",
        "\n",
        "- 입력데이터의 차원축소를 통해 의미있는 잠재 공간(Latent Space/Manifold)을 학습\n",
        "  - Encoder 학습을 위해 Decoder를 사용"
      ],
      "metadata": {
        "id": "WrltdcszQFa-"
      }
    },
    {
      "cell_type": "code",
      "execution_count": 1,
      "metadata": {
        "id": "b4PxlVixP9yz"
      },
      "outputs": [],
      "source": [
        "import warnings\n",
        "warnings.filterwarnings('ignore')"
      ]
    },
    {
      "cell_type": "markdown",
      "source": [
        "# I. Load MNIST Dataset\n",
        "\n",
        "> ## 1) X_train and X_test"
      ],
      "metadata": {
        "id": "up_HO3LAQMTW"
      }
    },
    {
      "cell_type": "code",
      "source": [
        "from tensorflow.keras.datasets import mnist\n",
        "\n",
        "(X_train, y_train), (X_test, y_test) = mnist.load_data()"
      ],
      "metadata": {
        "id": "PqqclvUUQLKV"
      },
      "execution_count": 2,
      "outputs": []
    },
    {
      "cell_type": "code",
      "source": [
        "X_train.shape, X_test.shape"
      ],
      "metadata": {
        "colab": {
          "base_uri": "https://localhost:8080/"
        },
        "id": "HdGUuwEuQVp-",
        "outputId": "1ae9ef7e-2461-4834-c0bf-d1d29fc7d6c1"
      },
      "execution_count": 3,
      "outputs": [
        {
          "output_type": "execute_result",
          "data": {
            "text/plain": [
              "((60000, 28, 28), (10000, 28, 28))"
            ]
          },
          "metadata": {},
          "execution_count": 3
        }
      ]
    },
    {
      "cell_type": "markdown",
      "source": [
        "> ## 2) Normalization and Reshape"
      ],
      "metadata": {
        "id": "B28MM_OYQX2h"
      }
    },
    {
      "cell_type": "code",
      "source": [
        "X_train = X_train / 255\n",
        "X_test = X_test / 255\n",
        "\n",
        "X_train = X_train.reshape(60000, 28 * 28)\n",
        "X_test = X_test.reshape(10000, 28 * 28)"
      ],
      "metadata": {
        "id": "-P8mPFCvQW_-"
      },
      "execution_count": 4,
      "outputs": []
    },
    {
      "cell_type": "code",
      "source": [
        "X_train.shape, X_test.shape"
      ],
      "metadata": {
        "colab": {
          "base_uri": "https://localhost:8080/"
        },
        "id": "QomtN7gQQilK",
        "outputId": "04c864b5-3cd1-4909-c4bd-940cf5902925"
      },
      "execution_count": 5,
      "outputs": [
        {
          "output_type": "execute_result",
          "data": {
            "text/plain": [
              "((60000, 784), (10000, 784))"
            ]
          },
          "metadata": {},
          "execution_count": 5
        }
      ]
    },
    {
      "cell_type": "markdown",
      "source": [
        "# II. Keras Modeling with Functional API\n",
        "\n",
        "> ## 1) 'Latent Space' Size"
      ],
      "metadata": {
        "id": "5iKSCmAGQn-h"
      }
    },
    {
      "cell_type": "code",
      "source": [
        "encoding_dim = 3"
      ],
      "metadata": {
        "id": "0BHxJ2lYQmFl"
      },
      "execution_count": 6,
      "outputs": []
    },
    {
      "cell_type": "markdown",
      "source": [
        "> ## 2) Encoder\n",
        "\n",
        "- Input"
      ],
      "metadata": {
        "id": "MW5QP-V1QrMb"
      }
    },
    {
      "cell_type": "code",
      "source": [
        "from tensorflow.keras import layers\n",
        "\n",
        "input_img = layers.Input(shape = (784,))"
      ],
      "metadata": {
        "id": "C-K5GlaUQp6h"
      },
      "execution_count": 7,
      "outputs": []
    },
    {
      "cell_type": "markdown",
      "source": [
        "- Encoding Layers and Encoding Model"
      ],
      "metadata": {
        "id": "pZBqyl2hQz_a"
      }
    },
    {
      "cell_type": "code",
      "source": [
        "encoded = layers.Dense(256, activation = 'elu')(input_img)\n",
        "encoded = layers.Dense(128, activation = 'elu')(encoded)\n",
        "encoded = layers.Dense(encoding_dim, activation = 'elu')(encoded)"
      ],
      "metadata": {
        "id": "-8NOaCTDQzjQ"
      },
      "execution_count": 8,
      "outputs": []
    },
    {
      "cell_type": "markdown",
      "source": [
        "> ## 3) Decoder\n",
        "  \n",
        "  -  Decoding Layers and Decoding Model"
      ],
      "metadata": {
        "id": "O8W6tUXFREfv"
      }
    },
    {
      "cell_type": "code",
      "source": [
        "decoded = layers.Dense(128, activation = 'elu')(encoded)\n",
        "decoded = layers.Dense(256, activation = 'elu')(decoded)\n",
        "decoded = layers.Dense(784, activation = 'sigmoid')(decoded)"
      ],
      "metadata": {
        "id": "VgEFy8QlRDPp"
      },
      "execution_count": 9,
      "outputs": []
    },
    {
      "cell_type": "markdown",
      "source": [
        "# III. AutoEncoder Model\n",
        "\n",
        "> ## 1) 'autoencoder' Model"
      ],
      "metadata": {
        "id": "jwy2_m29RX57"
      }
    },
    {
      "cell_type": "code",
      "source": [
        "from tensorflow.keras import models\n",
        "\n",
        "autoencoder = models.Model(input_img, decoded)"
      ],
      "metadata": {
        "id": "ZlRmrDQdRXCD"
      },
      "execution_count": 10,
      "outputs": []
    },
    {
      "cell_type": "code",
      "source": [
        "autoencoder.summary()"
      ],
      "metadata": {
        "colab": {
          "base_uri": "https://localhost:8080/"
        },
        "id": "fKBDISCaRfip",
        "outputId": "e4aa2522-e542-4412-b1f8-4e9134f7a657"
      },
      "execution_count": 11,
      "outputs": [
        {
          "output_type": "stream",
          "name": "stdout",
          "text": [
            "Model: \"model\"\n",
            "_________________________________________________________________\n",
            " Layer (type)                Output Shape              Param #   \n",
            "=================================================================\n",
            " input_1 (InputLayer)        [(None, 784)]             0         \n",
            "                                                                 \n",
            " dense (Dense)               (None, 256)               200960    \n",
            "                                                                 \n",
            " dense_1 (Dense)             (None, 128)               32896     \n",
            "                                                                 \n",
            " dense_2 (Dense)             (None, 3)                 387       \n",
            "                                                                 \n",
            " dense_3 (Dense)             (None, 128)               512       \n",
            "                                                                 \n",
            " dense_4 (Dense)             (None, 256)               33024     \n",
            "                                                                 \n",
            " dense_5 (Dense)             (None, 784)               201488    \n",
            "                                                                 \n",
            "=================================================================\n",
            "Total params: 469,267\n",
            "Trainable params: 469,267\n",
            "Non-trainable params: 0\n",
            "_________________________________________________________________\n"
          ]
        }
      ]
    },
    {
      "cell_type": "markdown",
      "source": [
        "> ## 2) 'encoder' Model"
      ],
      "metadata": {
        "id": "jQzI9Jl4RoIM"
      }
    },
    {
      "cell_type": "code",
      "source": [
        "encoder = models.Model(input_img, encoded)"
      ],
      "metadata": {
        "id": "QNMd7bSRRht1"
      },
      "execution_count": 12,
      "outputs": []
    },
    {
      "cell_type": "code",
      "source": [
        "encoder.summary()"
      ],
      "metadata": {
        "colab": {
          "base_uri": "https://localhost:8080/"
        },
        "id": "KoIFs3m8Rr2w",
        "outputId": "8736b87b-7eb2-45e1-f343-1de2216381b4"
      },
      "execution_count": 13,
      "outputs": [
        {
          "output_type": "stream",
          "name": "stdout",
          "text": [
            "Model: \"model_1\"\n",
            "_________________________________________________________________\n",
            " Layer (type)                Output Shape              Param #   \n",
            "=================================================================\n",
            " input_1 (InputLayer)        [(None, 784)]             0         \n",
            "                                                                 \n",
            " dense (Dense)               (None, 256)               200960    \n",
            "                                                                 \n",
            " dense_1 (Dense)             (None, 128)               32896     \n",
            "                                                                 \n",
            " dense_2 (Dense)             (None, 3)                 387       \n",
            "                                                                 \n",
            "=================================================================\n",
            "Total params: 234,243\n",
            "Trainable params: 234,243\n",
            "Non-trainable params: 0\n",
            "_________________________________________________________________\n"
          ]
        }
      ]
    },
    {
      "cell_type": "markdown",
      "source": [
        "> ## 3) 'decoder' Model"
      ],
      "metadata": {
        "id": "wNYRzF1tRyca"
      }
    },
    {
      "cell_type": "code",
      "source": [
        "encoded_input = layers.Input(shape = (encoding_dim,))\n",
        "\n",
        "decoder_layer = autoencoder.layers[-3](encoded_input)\n",
        "decoder_layer = autoencoder.layers[-2](decoder_layer)\n",
        "decoder_layer = autoencoder.layers[-1](decoder_layer)\n",
        "\n",
        "decoder = models.Model(encoded_input, decoder_layer)"
      ],
      "metadata": {
        "id": "ebLihGPQRuBV"
      },
      "execution_count": 14,
      "outputs": []
    },
    {
      "cell_type": "code",
      "source": [
        "decoder.summary()"
      ],
      "metadata": {
        "colab": {
          "base_uri": "https://localhost:8080/"
        },
        "id": "Wk1CT6TUR_t-",
        "outputId": "9ccfca5d-c951-422f-abba-dbc9390100ed"
      },
      "execution_count": 15,
      "outputs": [
        {
          "output_type": "stream",
          "name": "stdout",
          "text": [
            "Model: \"model_2\"\n",
            "_________________________________________________________________\n",
            " Layer (type)                Output Shape              Param #   \n",
            "=================================================================\n",
            " input_2 (InputLayer)        [(None, 3)]               0         \n",
            "                                                                 \n",
            " dense_3 (Dense)             (None, 128)               512       \n",
            "                                                                 \n",
            " dense_4 (Dense)             (None, 256)               33024     \n",
            "                                                                 \n",
            " dense_5 (Dense)             (None, 784)               201488    \n",
            "                                                                 \n",
            "=================================================================\n",
            "Total params: 235,024\n",
            "Trainable params: 235,024\n",
            "Non-trainable params: 0\n",
            "_________________________________________________________________\n"
          ]
        }
      ]
    },
    {
      "cell_type": "markdown",
      "source": [
        "# IV. Model Fit\n",
        "\n",
        "> ## 1) Model Compile"
      ],
      "metadata": {
        "id": "TcAEy6wKTn4e"
      }
    },
    {
      "cell_type": "code",
      "source": [
        "autoencoder.compile(loss = 'binary_crossentropy',\n",
        "                    optimizer = 'adam')"
      ],
      "metadata": {
        "id": "RstCIybuStAv"
      },
      "execution_count": 16,
      "outputs": []
    },
    {
      "cell_type": "markdown",
      "source": [
        "> ## 2) Model Training"
      ],
      "metadata": {
        "id": "-ijobgzrTwVM"
      }
    },
    {
      "cell_type": "code",
      "source": [
        "%%time\n",
        "\n",
        "autoencoder.fit(X_train, X_train,\n",
        "                epochs = 60,\n",
        "                batch_size = 256,\n",
        "                validation_data = (X_test, X_test),\n",
        "                verbose = 0)"
      ],
      "metadata": {
        "colab": {
          "base_uri": "https://localhost:8080/"
        },
        "id": "ZbN9Oy1gTvRL",
        "outputId": "8f39b9b9-030d-469a-a511-06505bab8bcd"
      },
      "execution_count": 17,
      "outputs": [
        {
          "output_type": "stream",
          "name": "stdout",
          "text": [
            "CPU times: user 1min 18s, sys: 5.51 s, total: 1min 24s\n",
            "Wall time: 1min 23s\n"
          ]
        },
        {
          "output_type": "execute_result",
          "data": {
            "text/plain": [
              "<keras.callbacks.History at 0x7f392fc0c6a0>"
            ]
          },
          "metadata": {},
          "execution_count": 17
        }
      ]
    },
    {
      "cell_type": "markdown",
      "source": [
        "# V. Model Predict\n",
        "\n",
        "> ## 1) Image Encoding\n",
        "\n",
        "- Create 'Latent Space'"
      ],
      "metadata": {
        "id": "QLoknShUUAPz"
      }
    },
    {
      "cell_type": "code",
      "source": [
        "encoded_imgs = encoder.predict(X_test, verbose = 0)\n",
        "\n",
        "encoded_imgs.shape"
      ],
      "metadata": {
        "colab": {
          "base_uri": "https://localhost:8080/"
        },
        "id": "_bcd0GZGT_P9",
        "outputId": "7f42b098-bcab-4939-ad02-c7e939122540"
      },
      "execution_count": 18,
      "outputs": [
        {
          "output_type": "execute_result",
          "data": {
            "text/plain": [
              "(10000, 3)"
            ]
          },
          "metadata": {},
          "execution_count": 18
        }
      ]
    },
    {
      "cell_type": "markdown",
      "source": [
        "> ## 2) 'Latent Space' Decoding"
      ],
      "metadata": {
        "id": "72_b_drhULPj"
      }
    },
    {
      "cell_type": "code",
      "source": [
        "decoded_imgs = decoder.predict(encoded_imgs, verbose = 0)\n",
        "\n",
        "decoded_imgs.shape"
      ],
      "metadata": {
        "colab": {
          "base_uri": "https://localhost:8080/"
        },
        "id": "-MXvm_Q5UJUW",
        "outputId": "0b3b1244-d22c-4612-b274-899c57a9d748"
      },
      "execution_count": 19,
      "outputs": [
        {
          "output_type": "execute_result",
          "data": {
            "text/plain": [
              "(10000, 784)"
            ]
          },
          "metadata": {},
          "execution_count": 19
        }
      ]
    },
    {
      "cell_type": "markdown",
      "source": [
        "# VI. Visualization\n",
        "\n",
        "> ## 1) decoder - 'decoder_imgs'"
      ],
      "metadata": {
        "id": "TwZyHiRmUTKt"
      }
    },
    {
      "cell_type": "code",
      "source": [
        "import matplotlib.pyplot as plt\n",
        "\n",
        "n = 10\n",
        "\n",
        "plt.figure(figsize = (20, 4))\n",
        "for i in range(n):\n",
        "\n",
        "    ax = plt.subplot(2, n, i + 1)\n",
        "    plt.imshow(X_test[i].reshape(28, 28))\n",
        "    plt.gray()\n",
        "    ax.get_xaxis().set_visible(False)\n",
        "    ax.get_yaxis().set_visible(False)\n",
        "\n",
        "    ax = plt.subplot(2, n, i + 1 + n)\n",
        "    plt.imshow(decoded_imgs[i].reshape(28, 28))\n",
        "    plt.gray()\n",
        "    ax.get_xaxis().set_visible(False)\n",
        "    ax.get_yaxis().set_visible(False)\n",
        "    \n",
        "plt.show()"
      ],
      "metadata": {
        "colab": {
          "base_uri": "https://localhost:8080/",
          "height": 336
        },
        "id": "HWNXpW_rUPll",
        "outputId": "d8c416f2-4e32-4b1f-d5ce-edfba42af52e"
      },
      "execution_count": 20,
      "outputs": [
        {
          "output_type": "display_data",
          "data": {
            "text/plain": [
              "<Figure size 2000x400 with 20 Axes>"
            ],
            "image/png": "[encoded data removed]"
          },
          "metadata": {}
        }
      ]
    },
    {
      "cell_type": "code",
      "source": [],
      "metadata": {
        "id": "Sm9eAJYSU5qm"
      },
      "execution_count": 20,
      "outputs": []
    }
  ]
}