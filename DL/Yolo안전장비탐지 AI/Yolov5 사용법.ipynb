{
  "nbformat": 4,
  "nbformat_minor": 0,
  "metadata": {
    "colab": {
      "provenance": []
    },
    "kernelspec": {
      "name": "python3",
      "display_name": "Python 3"
    },
    "language_info": {
      "name": "python"
    }
  },
  "cells": [
    {
      "cell_type": "code",
      "execution_count": null,
      "metadata": {
        "id": "ozU3e7X9S0uS"
      },
      "outputs": [],
      "source": [
        "conda create -y --name myEnv python=3.9"
      ]
    },
    {
      "cell_type": "code",
      "source": [
        "conda env list"
      ],
      "metadata": {
        "id": "VTs2T_lOS39W"
      },
      "execution_count": null,
      "outputs": []
    },
    {
      "cell_type": "code",
      "source": [
        "conda activate myEnv"
      ],
      "metadata": {
        "id": "UsqLQJvrS7FH"
      },
      "execution_count": null,
      "outputs": []
    },
    {
      "cell_type": "code",
      "source": [
        "(myEnv) # conda install -y ipykernel\n",
        "(myEnv) # conda list | grep ipykernel"
      ],
      "metadata": {
        "id": "VZ_roXwCS9yp"
      },
      "execution_count": null,
      "outputs": []
    },
    {
      "cell_type": "code",
      "source": [
        "(myEnv) # python -m ipykernel install --user --name myEnv --display-name \"Python (myEnv)\""
      ],
      "metadata": {
        "id": "cLHIAN09S_IE"
      },
      "execution_count": null,
      "outputs": []
    },
    {
      "cell_type": "code",
      "source": [
        "git clone https://github.com/ultralytics/yolov5.git"
      ],
      "metadata": {
        "id": "ivoHyNMRTKIR"
      },
      "execution_count": null,
      "outputs": []
    },
    {
      "cell_type": "code",
      "source": [
        "pip install torch==1.7.1+cu110 torchvision==0.8.2+cu110 torchaudio===0.7.2 -f https://download.pytorch.org/whl/torch_stable.html"
      ],
      "metadata": {
        "id": "axQ51RrFTNoZ"
      },
      "execution_count": null,
      "outputs": []
    },
    {
      "cell_type": "code",
      "source": [
        "!pip install -U scikit-learn"
      ],
      "metadata": {
        "id": "tjbo9s_BTQ52"
      },
      "execution_count": null,
      "outputs": []
    },
    {
      "cell_type": "code",
      "source": [
        "import torch\n",
        "# GPU 동작확인\n",
        "print(f\"Setup complete. Using torch {torch.__version__} ({torch.cuda.get_device_properties(0).name if torch.cuda.is_available() else 'CPU'})\")"
      ],
      "metadata": {
        "id": "dB6TJveVTSPP"
      },
      "execution_count": null,
      "outputs": []
    },
    {
      "cell_type": "code",
      "source": [
        "yaml_text = \"\"\"train: /var/www/test/test/dataset/train.txt\n",
        "val: /var/www/test/test/dataset/val.txt\n",
        "\n",
        "nc: 6\n",
        "names: ['safety_shoes_O', 'safety_shoes_X', 'safety_belt_O', 'safety_belt_X', 'safety_helmet_O', 'safety_helmet_X']\"\"\"\n",
        "\n",
        "with open('/var/www/test/test/dataset/data.yaml', 'w') as file:\n",
        "    file.write(yaml_text)"
      ],
      "metadata": {
        "id": "IkI3uOsCTVq6"
      },
      "execution_count": null,
      "outputs": []
    },
    {
      "cell_type": "code",
      "source": [
        "from glob import glob\n",
        "\n",
        "img_list = glob('/var/www/test/test/dataset/images/*.jpg')\n",
        "txt_list = glob('/var/www/test/test/dataset/labels/*.txt')"
      ],
      "metadata": {
        "id": "j5iLznv_TWkS"
      },
      "execution_count": null,
      "outputs": []
    },
    {
      "cell_type": "code",
      "source": [
        "from sklearn.model_selection import train_test_split\n",
        "\n",
        "train_img_list, val_img_list = train_test_split(img_list, test_size = 0.2, random_state = 2000)\n",
        "print(len(train_img_list), len(val_img_list))"
      ],
      "metadata": {
        "id": "kLc3NVXGTYFW"
      },
      "execution_count": null,
      "outputs": []
    },
    {
      "cell_type": "code",
      "source": [
        "with open('/var/www/test/test/dataset/train.txt', 'w') as f:\n",
        "  f.write('\\n'.join(train_img_list) + '\\n')\n",
        "\n",
        "with open('/var/www/test/test/dataset/val.txt', 'w') as f:\n",
        "  f.write('\\n'.join(val_img_list) + '\\n')"
      ],
      "metadata": {
        "id": "uRJKBJqaTaU_"
      },
      "execution_count": null,
      "outputs": []
    },
    {
      "cell_type": "code",
      "source": [
        "import yaml\n",
        "\n",
        "with open('/var/www/test/test/dataset/data.yaml', 'r') as f:\n",
        "  data = yaml.safe_load(f)\n",
        "\n",
        "print(data)\n",
        "\n",
        "data['train'] = '/var/www/test/test/dataset/train.txt'\n",
        "data['val'] = '/var/www/test/test/dataset/val.txt'\n",
        "\n",
        "with open('/var/www/test/test/dataset/data.yaml', 'w') as f:\n",
        "  yaml.dump(data, f)\n",
        "\n",
        "print(data)"
      ],
      "metadata": {
        "id": "FT2Jo8-KTbWq"
      },
      "execution_count": null,
      "outputs": []
    },
    {
      "cell_type": "code",
      "source": [
        "!python train.py --img 640 --batch 16 --epochs 10 --data /var/www/test/test/dataset/data.yaml --weights yolov5s.pt --cache --name yolov5s_results"
      ],
      "metadata": {
        "id": "UdvXjJ5QTcSJ"
      },
      "execution_count": null,
      "outputs": []
    },
    {
      "cell_type": "code",
      "source": [
        "# 전처리 작업\n",
        "import json\n",
        "import os\n",
        "\n",
        "\n",
        "def process_json_files(src_folder, dest_folder):\n",
        "    if not os.path.exists(dest_folder):\n",
        "        os.makedirs(dest_folder)\n",
        "\n",
        "\n",
        "    for file in os.listdir(src_folder):\n",
        "        if file.endswith('.json'):\n",
        "            src_file_path = os.path.join(src_folder, file)\n",
        "            dest_file_path = os.path.join(dest_folder, file.replace('.json', '.txt'))\n",
        "\n",
        "\n",
        "            try:\n",
        "                with open(src_file_path, 'r', encoding='utf-8') as src_file:\n",
        "                    content = src_file.read()\n",
        "                    if not content:\n",
        "                        print(f\"Skipping empty file: {src_file_path}\")\n",
        "                        continue\n",
        "                    data = json.loads(content)\n",
        "            except ValueError as e:\n",
        "                print(f\"Error while processing {src_file_path}: {e}\")\n",
        "                continue\n",
        "\n",
        "\n",
        "            valid_classes = ['01', '02', '05', '06', '07', '08']\n",
        "            output_lines = []\n",
        "\n",
        "\n",
        "            for annotation in data[\"annotations\"]:\n",
        "                if annotation[\"class\"] in valid_classes:\n",
        "                    if annotation[\"class\"] == '01':\n",
        "                        annotation[\"class\"] = '0'\n",
        "                    elif annotation[\"class\"] == '02':\n",
        "                        annotation[\"class\"] = '1'\n",
        "                    elif annotation[\"class\"] == '05':\n",
        "                        annotation[\"class\"] = '2'\n",
        "                    elif annotation[\"class\"] == '06':\n",
        "                        annotation[\"class\"] = '3'\n",
        "                    elif annotation[\"class\"] == '07':\n",
        "                        annotation[\"class\"] = '4'\n",
        "                    else:\n",
        "                        annotation[\"class\"] = '5'\n",
        "                    box = annotation[\"box\"]\n",
        "                    resolution_x = data['image']['resolution'][0]\n",
        "                    resolution_y = data['image']['resolution'][1]\n",
        "                    line = f'{annotation[\"class\"]} {(box[0] + ((box[2] - box[0]) / 2)) / resolution_x} {(box[1] + ((box[3]- box[1]) / 2)) / resolution_y} {(box[2] - box[0]) / resolution_x } {(box[3] - box[1]) / resolution_y }'\n",
        "                    output_lines.append(line)\n",
        "\n",
        "\n",
        "            with open(dest_file_path, 'w', encoding='utf-8') as dest_file:\n",
        "                dest_file.write('\\n'.join(output_lines))\n",
        "\n",
        "src_folder = '/var/www/test/test_2/dataset/labels_main'  # 원본 폴더\n",
        "dest_folder = '/var/www/test/test_2/dataset/labels'  # 새로운 폴더\n",
        "process_json_files(src_folder, dest_folder)"
      ],
      "metadata": {
        "id": "XmFZcUUCTepC"
      },
      "execution_count": null,
      "outputs": []
    },
    {
      "cell_type": "code",
      "source": [
        "import matplotlib.pyplot as plt\n",
        "\n",
        "img = plt.imread('/var/www/test/test_2/yolov5/runs/train/yolov5s_results/train_batch0.jpg')\n",
        "plt.figure(figsize = (20, 15))\n",
        "plt.imshow(img)\n",
        "plt.axis('off')\n",
        "plt.show()"
      ],
      "metadata": {
        "id": "SFP1PVH8ThCH"
      },
      "execution_count": null,
      "outputs": []
    },
    {
      "cell_type": "code",
      "source": [
        "from IPython.display import Image\n",
        "\n",
        "Image('/var/www/test/test_2/yolov5/runs/train/yolov5s_results/results.png')"
      ],
      "metadata": {
        "id": "ppwudaNLTh6T"
      },
      "execution_count": null,
      "outputs": []
    }
  ]
}