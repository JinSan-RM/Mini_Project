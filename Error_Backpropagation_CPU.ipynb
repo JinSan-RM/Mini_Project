{
  "nbformat": 4,
  "nbformat_minor": 0,
  "metadata": {
    "colab": {
      "provenance": []
    },
    "kernelspec": {
      "name": "python3",
      "display_name": "Python 3"
    },
    "language_info": {
      "name": "python"
    }
  },
  "cells": [
    {
      "cell_type": "markdown",
      "source": [
        "# Error Backpropagation"
      ],
      "metadata": {
        "id": "DwTRfbv_8_gy"
      }
    },
    {
      "cell_type": "code",
      "execution_count": 1,
      "metadata": {
        "id": "t_jZtjd185P-"
      },
      "outputs": [],
      "source": [
        "import warnings\n",
        "warnings.filterwarnings('ignore')"
      ]
    },
    {
      "cell_type": "markdown",
      "source": [
        "> ## I. 실습용 데이터 생성"
      ],
      "metadata": {
        "id": "WCyc_9QC9HCl"
      }
    },
    {
      "cell_type": "code",
      "source": [
        "import numpy as np\n",
        "np.set_printoptions(suppress = True, precision = 3)"
      ],
      "metadata": {
        "id": "iHl88LFI9GNF"
      },
      "execution_count": 2,
      "outputs": []
    },
    {
      "cell_type": "markdown",
      "source": [
        "> ## 1) Input : X (4 * 3)"
      ],
      "metadata": {
        "id": "Bw7oOx589Jio"
      }
    },
    {
      "cell_type": "code",
      "source": [
        "X = np.array([[0, 0, 1],\n",
        "              [0, 1, 1],\n",
        "              [1, 0, 1],\n",
        "              [1, 1, 1]])\n",
        "\n",
        "X"
      ],
      "metadata": {
        "colab": {
          "base_uri": "https://localhost:8080/"
        },
        "id": "hn4j2zho9Ieg",
        "outputId": "428d4338-a039-404d-e32a-51e81d31cd79"
      },
      "execution_count": 3,
      "outputs": [
        {
          "output_type": "execute_result",
          "data": {
            "text/plain": [
              "array([[0, 0, 1],\n",
              "       [0, 1, 1],\n",
              "       [1, 0, 1],\n",
              "       [1, 1, 1]])"
            ]
          },
          "metadata": {},
          "execution_count": 3
        }
      ]
    },
    {
      "cell_type": "markdown",
      "source": [
        "> ## 2) Output : y (4 * 1)"
      ],
      "metadata": {
        "id": "1WVjNKqA9Q1m"
      }
    },
    {
      "cell_type": "code",
      "source": [
        "y = np.array([0., 1., 1., 0.]).reshape(4, 1)\n",
        "\n",
        "y"
      ],
      "metadata": {
        "colab": {
          "base_uri": "https://localhost:8080/"
        },
        "id": "TEM2UWiX9P6W",
        "outputId": "7697579c-6bdf-4a52-de78-ae8b41b0558c"
      },
      "execution_count": 4,
      "outputs": [
        {
          "output_type": "execute_result",
          "data": {
            "text/plain": [
              "array([[0.],\n",
              "       [1.],\n",
              "       [1.],\n",
              "       [0.]])"
            ]
          },
          "metadata": {},
          "execution_count": 4
        }
      ]
    },
    {
      "cell_type": "markdown",
      "source": [
        "> ## 3) W1 (3 * 4)"
      ],
      "metadata": {
        "id": "yZQVKmX99XUu"
      }
    },
    {
      "cell_type": "code",
      "source": [
        "np.random.seed(2045)\n",
        "W1 = np.random.rand(3, 4)\n",
        "\n",
        "W1"
      ],
      "metadata": {
        "colab": {
          "base_uri": "https://localhost:8080/"
        },
        "id": "XgJo6nHm9WBD",
        "outputId": "839aaefc-269d-4ca8-ccc3-d2292f99d05b"
      },
      "execution_count": 5,
      "outputs": [
        {
          "output_type": "execute_result",
          "data": {
            "text/plain": [
              "array([[0.844, 0.886, 0.139, 0.061],\n",
              "       [0.192, 0.532, 0.155, 0.827],\n",
              "       [0.92 , 0.015, 0.49 , 0.692]])"
            ]
          },
          "metadata": {},
          "execution_count": 5
        }
      ]
    },
    {
      "cell_type": "markdown",
      "source": [
        "> ## 4) W2 (4 * 1)"
      ],
      "metadata": {
        "id": "N6irH8-k9cuA"
      }
    },
    {
      "cell_type": "code",
      "source": [
        "np.random.seed(2045)\n",
        "W2 = np.random.rand(4)\n",
        "\n",
        "W2 = W2.reshape(4, 1)\n",
        "W2"
      ],
      "metadata": {
        "colab": {
          "base_uri": "https://localhost:8080/"
        },
        "id": "5cHJ_KIe9b2X",
        "outputId": "bd07fda6-1c3b-47f8-bf04-031b1d9e465c"
      },
      "execution_count": 6,
      "outputs": [
        {
          "output_type": "execute_result",
          "data": {
            "text/plain": [
              "array([[0.844],\n",
              "       [0.886],\n",
              "       [0.139],\n",
              "       [0.061]])"
            ]
          },
          "metadata": {},
          "execution_count": 6
        }
      ]
    },
    {
      "cell_type": "markdown",
      "source": [
        "> ## 5) y_hat (4 * 1)"
      ],
      "metadata": {
        "id": "ftOF25wS9jl-"
      }
    },
    {
      "cell_type": "code",
      "source": [
        "np.random.seed(2045)\n",
        "y_hat = np.random.rand(4).reshape(4, 1)\n",
        "\n",
        "y_hat"
      ],
      "metadata": {
        "colab": {
          "base_uri": "https://localhost:8080/"
        },
        "id": "HGj8pFRg9iYZ",
        "outputId": "bf7b36bd-5363-45f9-bf40-9b1e84c84446"
      },
      "execution_count": 7,
      "outputs": [
        {
          "output_type": "execute_result",
          "data": {
            "text/plain": [
              "array([[0.844],\n",
              "       [0.886],\n",
              "       [0.139],\n",
              "       [0.061]])"
            ]
          },
          "metadata": {},
          "execution_count": 7
        }
      ]
    },
    {
      "cell_type": "markdown",
      "source": [
        "> ## 6) Layer1 (4 * 4)"
      ],
      "metadata": {
        "id": "N9b_ZzZC9sLG"
      }
    },
    {
      "cell_type": "code",
      "source": [
        "Layer1 = np.ones([4, 4])\n",
        "\n",
        "Layer1"
      ],
      "metadata": {
        "colab": {
          "base_uri": "https://localhost:8080/"
        },
        "id": "GtU5EqQM9q2O",
        "outputId": "4e3b48c1-4b52-40e4-defc-f1a6906a77c5"
      },
      "execution_count": 8,
      "outputs": [
        {
          "output_type": "execute_result",
          "data": {
            "text/plain": [
              "array([[1., 1., 1., 1.],\n",
              "       [1., 1., 1., 1.],\n",
              "       [1., 1., 1., 1.],\n",
              "       [1., 1., 1., 1.]])"
            ]
          },
          "metadata": {},
          "execution_count": 8
        }
      ]
    },
    {
      "cell_type": "markdown",
      "source": [
        "# II. 함수 정의\n",
        "\n",
        "> ## 1) sigmoid( )\n",
        "\n",
        "\n",
        "- Activation Function"
      ],
      "metadata": {
        "id": "C4-9UdLE9x35"
      }
    },
    {
      "cell_type": "code",
      "source": [
        "def sigmoid(x):\n",
        "    y_hat = 1 / (1 + np.exp(-x))\n",
        "    return y_hat"
      ],
      "metadata": {
        "id": "Uzg2dTsY9wrd"
      },
      "execution_count": 9,
      "outputs": []
    },
    {
      "cell_type": "markdown",
      "source": [
        "> ## 2) d_sigmoid( )\n",
        "\n",
        "- sigmoid( ) 미분함수"
      ],
      "metadata": {
        "id": "YcYcYZ7O98yz"
      }
    },
    {
      "cell_type": "code",
      "source": [
        "def d_sigmoid(x):\n",
        "    dy = x * (1.0 - x)\n",
        "    return dy"
      ],
      "metadata": {
        "id": "dqpZnIKI97LL"
      },
      "execution_count": 10,
      "outputs": []
    },
    {
      "cell_type": "markdown",
      "source": [
        "> ## 3)Loss function\n",
        "\n",
        "- Mean Squared Error"
      ],
      "metadata": {
        "id": "qD2vE0GQ-EQ8"
      }
    },
    {
      "cell_type": "code",
      "source": [
        "# def loss_function(y, y_hat):\n",
        "#     Loss = np.mean((y - y_hat) ** 2)\n",
        "#     return Loss"
      ],
      "metadata": {
        "id": "VijG2_dD-DY2"
      },
      "execution_count": null,
      "outputs": []
    },
    {
      "cell_type": "markdown",
      "source": [
        " - Binary Cross Entropy Error"
      ],
      "metadata": {
        "id": "n13FVOMy-Ol2"
      }
    },
    {
      "cell_type": "code",
      "source": [
        "def loss_function(y, y_hat):\n",
        "    Loss = -np.mean((y * np.log(y_hat) + (1 - y) * np.log(1 - y_hat)))\n",
        "    return Loss"
      ],
      "metadata": {
        "id": "Ne5381pC-OWv"
      },
      "execution_count": 11,
      "outputs": []
    },
    {
      "cell_type": "markdown",
      "source": [
        "# III. 순방향과 역방향 함수 정의\n",
        "\n",
        "> ## 1) Forward_Propagation\n",
        "\n",
        "- Layer1 Output\n",
        "   - Layer1 = sigmoid(np.dot(X, W1))\n",
        "- y_hat Output\n",
        "   - y_hat = sigmoid(np.dot(Layer1, W2))"
      ],
      "metadata": {
        "id": "xIF1TmHE-fJY"
      }
    },
    {
      "cell_type": "code",
      "source": [
        "def forwardProp(X, W1, Layer1, W2, y_hat):\n",
        "    Layer1 = sigmoid(np.dot(X, W1))\n",
        "    y_hat = sigmoid(np.dot(Layer1, W2))\n",
        "\n",
        "    return Layer1, y_hat"
      ],
      "metadata": {
        "id": "_SEfqpmV-eDC"
      },
      "execution_count": 12,
      "outputs": []
    },
    {
      "cell_type": "markdown",
      "source": [
        "> ## 2) Back_Propagation\n",
        "\n",
        "- d_W2\n",
        "  - d_W2 = np.dot(Layer1, ((y_hat - y) * d_sigmoid(y_hat)))\n",
        "- d_W1\n",
        "  - d_W1 = np.dot(((y_hat - y) * d_sigmoid(y_hat)), np.transpose(W2))\n",
        "  - d_W1 = d_W1 * d_sigmoid(Layer1)\n",
        "  - d_W1 = np.dot(np.transpose(X), d_W1)\n",
        "- Gradient Descent\n",
        "  - W1 = W1 - 0.8 * d_W1\n",
        "  - W2 = W2 - 0.8 * d_W2"
      ],
      "metadata": {
        "id": "9BgJ-jjp-4ur"
      }
    },
    {
      "cell_type": "code",
      "source": [
        "def backProp(X, y, y_hat, Layer1, W1, W2):\n",
        "    d_W2 = np.dot(Layer1, ((y_hat - y) * d_sigmoid(y_hat)))\n",
        "\n",
        "    d_W1 = np.dot(((y_hat - y) * d_sigmoid(y_hat)), np.transpose(W2))\n",
        "    d_W1 = d_W1 * d_sigmoid(Layer1)\n",
        "    d_W1 = np.dot(np.transpose(X), d_W1)\n",
        "\n",
        "    W1 = W1 - 0.8 * d_W1\n",
        "    W2 = W2 - 0.8 * d_W2\n",
        "\n",
        "    return y_hat, Layer1, W1, W2"
      ],
      "metadata": {
        "id": "LIHu7CK_-3hU"
      },
      "execution_count": 13,
      "outputs": []
    },
    {
      "cell_type": "markdown",
      "source": [
        "# IV. 오차역전파를 적용한 Gradient Descent\n",
        "\n",
        "- 학습 과정의 Loss 값 저장 객체"
      ],
      "metadata": {
        "id": "Mp1y4CVf_gaf"
      }
    },
    {
      "cell_type": "code",
      "source": [
        "Loss_Record = []"
      ],
      "metadata": {
        "id": "Tab5Ds3P_eQt"
      },
      "execution_count": 14,
      "outputs": []
    },
    {
      "cell_type": "markdown",
      "source": [
        "> ## 1) Learning with Error Backpropagation"
      ],
      "metadata": {
        "id": "0c6QVDQ-_rqs"
      }
    },
    {
      "cell_type": "code",
      "source": [
        "for k in range(0, 2000):\n",
        "    Layer1, y_hat = forwardProp(X, W1, Layer1, W2, y_hat)\n",
        "    y_hat, Layer1, W1, W2 = backProp(X, y, y_hat, Layer1, W1, W2)\n",
        "\n",
        "    Loss_Record.append(loss_function(y, y_hat))"
      ],
      "metadata": {
        "id": "yKQUzGAm_q5b"
      },
      "execution_count": 16,
      "outputs": []
    },
    {
      "cell_type": "markdown",
      "source": [
        "> ## 2) Parameter Update Check\n",
        "\n",
        " - W1"
      ],
      "metadata": {
        "id": "sQmr6V5b_-53"
      }
    },
    {
      "cell_type": "code",
      "source": [
        "W1"
      ],
      "metadata": {
        "colab": {
          "base_uri": "https://localhost:8080/"
        },
        "id": "OmiB9u4W_7iM",
        "outputId": "ccbd63cd-1ba4-49a0-cd38-5162b2e23014"
      },
      "execution_count": 17,
      "outputs": [
        {
          "output_type": "execute_result",
          "data": {
            "text/plain": [
              "array([[ 2.693, -3.119, -3.982,  3.893],\n",
              "       [ 2.601, -3.152, -3.989,  3.891],\n",
              "       [ 1.238, -1.196,  0.102, -7.121]])"
            ]
          },
          "metadata": {},
          "execution_count": 17
        }
      ]
    },
    {
      "cell_type": "markdown",
      "source": [
        "- W2"
      ],
      "metadata": {
        "id": "rm6y_1NWABvr"
      }
    },
    {
      "cell_type": "code",
      "source": [
        "W2"
      ],
      "metadata": {
        "colab": {
          "base_uri": "https://localhost:8080/"
        },
        "id": "b4H0gYF6AAq7",
        "outputId": "980dc799-2c60-4573-8c0c-8a00880146b3"
      },
      "execution_count": 18,
      "outputs": [
        {
          "output_type": "execute_result",
          "data": {
            "text/plain": [
              "array([[  4.145],\n",
              "       [ -9.36 ],\n",
              "       [ -9.599],\n",
              "       [-12.322]])"
            ]
          },
          "metadata": {},
          "execution_count": 18
        }
      ]
    },
    {
      "cell_type": "markdown",
      "source": [
        "- y_hat"
      ],
      "metadata": {
        "id": "g80oDmdEADrW"
      }
    },
    {
      "cell_type": "code",
      "source": [
        "# y_hat.round()\n",
        "y_hat"
      ],
      "metadata": {
        "colab": {
          "base_uri": "https://localhost:8080/"
        },
        "id": "w6RscWLQADC1",
        "outputId": "1ec18f02-28c6-4a24-932c-b9bac9df47a1"
      },
      "execution_count": 19,
      "outputs": [
        {
          "output_type": "execute_result",
          "data": {
            "text/plain": [
              "array([[0.018],\n",
              "       [0.964],\n",
              "       [0.964],\n",
              "       [0.018]])"
            ]
          },
          "metadata": {},
          "execution_count": 19
        }
      ]
    },
    {
      "cell_type": "markdown",
      "source": [
        "> ## 3) Visualization"
      ],
      "metadata": {
        "id": "7Jp4i5BUAGPi"
      }
    },
    {
      "cell_type": "code",
      "source": [
        "import matplotlib.pyplot as plt\n",
        "\n",
        "plt.figure(figsize = (9, 6))\n",
        "plt.plot(Loss_Record)\n",
        "plt.show()\n"
      ],
      "metadata": {
        "colab": {
          "base_uri": "https://localhost:8080/",
          "height": 374
        },
        "id": "sSAv6_KbAFYV",
        "outputId": "a9dc72cf-f391-43f7-cc99-26e51bb30a95"
      },
      "execution_count": 20,
      "outputs": [
        {
          "output_type": "display_data",
          "data": {
            "text/plain": [
              "<Figure size 648x432 with 1 Axes>"
            ],
            "image/png": "[encoded data removed]"
          },
          "metadata": {
            "needs_background": "light"
          }
        }
      ]
    },
    {
      "cell_type": "code",
      "source": [],
      "metadata": {
        "id": "TBTwb4V2ANuZ"
      },
      "execution_count": null,
      "outputs": []
    }
  ]
}