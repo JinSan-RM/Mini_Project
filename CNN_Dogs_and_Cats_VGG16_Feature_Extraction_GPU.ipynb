{
  "nbformat": 4,
  "nbformat_minor": 0,
  "metadata": {
    "colab": {
      "provenance": []
    },
    "kernelspec": {
      "name": "python3",
      "display_name": "Python 3"
    },
    "language_info": {
      "name": "python"
    },
    "accelerator": "GPU",
    "gpuClass": "standard"
  },
  "cells": [
    {
      "cell_type": "markdown",
      "source": [
        "# 사전 학습된 CNN(VGG-16)을 이용한 Feature Extraction\n",
        "\n",
        "## VGG-16 Model\n",
        "\n",
        "- University of Oxford - Visual Geometry Group\n",
        "- 2014 ILSVRC 2nd Model\n",
        "- ImageNet Large Scale Visual Recognition Challenge (ILSVRC)"
      ],
      "metadata": {
        "id": "-tap0EBsFACZ"
      }
    },
    {
      "cell_type": "code",
      "execution_count": 1,
      "metadata": {
        "id": "_esWe_M8Ey2d"
      },
      "outputs": [],
      "source": [
        "import warnings\n",
        "warnings.filterwarnings('ignore')"
      ]
    },
    {
      "cell_type": "markdown",
      "source": [
        "- Import TensorFlow"
      ],
      "metadata": {
        "id": "dEzfBhmTFIdY"
      }
    },
    {
      "cell_type": "code",
      "source": [
        "import tensorflow as tf\n",
        "\n",
        "tf.__version__"
      ],
      "metadata": {
        "colab": {
          "base_uri": "https://localhost:8080/",
          "height": 35
        },
        "id": "wm4ubRDkFIDG",
        "outputId": "3fa7f5c1-e998-4202-c115-b55e999465ad"
      },
      "execution_count": 2,
      "outputs": [
        {
          "output_type": "execute_result",
          "data": {
            "text/plain": [
              "'2.12.0'"
            ],
            "application/vnd.google.colaboratory.intrinsic+json": {
              "type": "string"
            }
          },
          "metadata": {},
          "execution_count": 2
        }
      ]
    },
    {
      "cell_type": "markdown",
      "source": [
        "# I. wget From Github\n",
        "\n",
        "- 'dogs_and_cats_small.zip' 파일 다운로드"
      ],
      "metadata": {
        "id": "WtMg8sc0FODQ"
      }
    },
    {
      "cell_type": "code",
      "source": [
        "!wget https://raw.githubusercontent.com/rusita-ai/pyData/master/dogs_and_cats_small.zip"
      ],
      "metadata": {
        "colab": {
          "base_uri": "https://localhost:8080/"
        },
        "id": "ia6VQej9FMcb",
        "outputId": "c22e84cf-8c05-47f7-ebd8-d85f03b42ccd"
      },
      "execution_count": 3,
      "outputs": [
        {
          "output_type": "stream",
          "name": "stdout",
          "text": [
            "--2023-04-05 01:43:19--  https://raw.githubusercontent.com/rusita-ai/pyData/master/dogs_and_cats_small.zip\n",
            "Resolving raw.githubusercontent.com (raw.githubusercontent.com)... 185.199.108.133, 185.199.109.133, 185.199.110.133, ...\n",
            "Connecting to raw.githubusercontent.com (raw.githubusercontent.com)|185.199.108.133|:443... connected.\n",
            "HTTP request sent, awaiting response... 200 OK\n",
            "Length: 90618980 (86M) [application/zip]\n",
            "Saving to: ‘dogs_and_cats_small.zip’\n",
            "\n",
            "dogs_and_cats_small 100%[===================>]  86.42M   345MB/s    in 0.3s    \n",
            "\n",
            "2023-04-05 01:43:22 (345 MB/s) - ‘dogs_and_cats_small.zip’ saved [90618980/90618980]\n",
            "\n"
          ]
        }
      ]
    },
    {
      "cell_type": "markdown",
      "source": [
        "- 다운로드 결과 확인"
      ],
      "metadata": {
        "id": "9wJapEIPFTsL"
      }
    },
    {
      "cell_type": "code",
      "source": [
        "!ls -l"
      ],
      "metadata": {
        "colab": {
          "base_uri": "https://localhost:8080/"
        },
        "id": "fGFK4lb_FSU-",
        "outputId": "dac2070a-db73-4d56-a1a5-8bc87090050e"
      },
      "execution_count": 4,
      "outputs": [
        {
          "output_type": "stream",
          "name": "stdout",
          "text": [
            "total 88500\n",
            "-rw-r--r-- 1 root root 90618980 Apr  5 01:43 dogs_and_cats_small.zip\n",
            "drwxr-xr-x 1 root root     4096 Apr  3 13:38 sample_data\n"
          ]
        }
      ]
    },
    {
      "cell_type": "markdown",
      "source": [
        "# II. Data Preprocessing\n",
        "\n",
        "> ## 1) Unzip 'dogs_and_cats_small.zip'"
      ],
      "metadata": {
        "id": "EYgavt-DFWfq"
      }
    },
    {
      "cell_type": "code",
      "source": [
        "!unzip -q /content/dogs_and_cats_small.zip"
      ],
      "metadata": {
        "id": "e23o-KOkFVB7"
      },
      "execution_count": 5,
      "outputs": []
    },
    {
      "cell_type": "markdown",
      "source": [
        "- 학습 데이터 확인"
      ],
      "metadata": {
        "id": "DIomax_6FbnY"
      }
    },
    {
      "cell_type": "code",
      "source": [
        "!ls -l"
      ],
      "metadata": {
        "colab": {
          "base_uri": "https://localhost:8080/"
        },
        "id": "XTo6Ky_jFaaC",
        "outputId": "fefdd39c-7e69-4c5f-adba-eb0154a727a4"
      },
      "execution_count": 6,
      "outputs": [
        {
          "output_type": "stream",
          "name": "stdout",
          "text": [
            "total 88512\n",
            "-rw-r--r-- 1 root root 90618980 Apr  5 01:43 dogs_and_cats_small.zip\n",
            "drwxr-xr-x 1 root root     4096 Apr  3 13:38 sample_data\n",
            "drwxr-xr-x 4 root root     4096 Apr  5 01:43 test\n",
            "drwxr-xr-x 4 root root     4096 Apr  5 01:43 train\n",
            "drwxr-xr-x 4 root root     4096 Apr  5 01:43 validation\n"
          ]
        }
      ]
    },
    {
      "cell_type": "markdown",
      "source": [
        "> ## 2) Image_File Directory Setting\n",
        "\n",
        "- train_dir\n",
        "- valid_dir\n",
        "- test_dir"
      ],
      "metadata": {
        "id": "pmAXhewxFdoM"
      }
    },
    {
      "cell_type": "code",
      "source": [
        "train_dir = 'train'\n",
        "valid_dir = 'validation'\n",
        "test_dir = 'test'"
      ],
      "metadata": {
        "id": "33vk1c27Fcf1"
      },
      "execution_count": 7,
      "outputs": []
    },
    {
      "cell_type": "markdown",
      "source": [
        "# III. Import VGG-16 Model\n",
        "\n",
        "> ## 1) conv_base"
      ],
      "metadata": {
        "id": "fhBUik-fFk55"
      }
    },
    {
      "cell_type": "code",
      "source": [
        "from tensorflow.keras.applications import VGG16\n",
        "\n",
        "conv_base = VGG16(weights = 'imagenet',\n",
        "                  include_top = False,\n",
        "                  input_shape = (150, 150, 3))"
      ],
      "metadata": {
        "colab": {
          "base_uri": "https://localhost:8080/"
        },
        "id": "Pp94O1fuFkjf",
        "outputId": "8ccead24-4054-49c4-e101-e2ab202e18ab"
      },
      "execution_count": 8,
      "outputs": [
        {
          "output_type": "stream",
          "name": "stdout",
          "text": [
            "Downloading data from https://storage.googleapis.com/tensorflow/keras-applications/vgg16/vgg16_weights_tf_dim_ordering_tf_kernels_notop.h5\n",
            "58889256/58889256 [==============================] - 0s 0us/step\n"
          ]
        }
      ]
    },
    {
      "cell_type": "markdown",
      "source": [
        "> ## 2) Model Information"
      ],
      "metadata": {
        "id": "xBbp1YGFFxjR"
      }
    },
    {
      "cell_type": "code",
      "source": [
        "conv_base.summary()"
      ],
      "metadata": {
        "colab": {
          "base_uri": "https://localhost:8080/"
        },
        "id": "c8RwufrVFwdA",
        "outputId": "5de5f92a-ecff-48e7-b8df-0a76812acd37"
      },
      "execution_count": 9,
      "outputs": [
        {
          "output_type": "stream",
          "name": "stdout",
          "text": [
            "Model: \"vgg16\"\n",
            "_________________________________________________________________\n",
            " Layer (type)                Output Shape              Param #   \n",
            "=================================================================\n",
            " input_1 (InputLayer)        [(None, 150, 150, 3)]     0         \n",
            "                                                                 \n",
            " block1_conv1 (Conv2D)       (None, 150, 150, 64)      1792      \n",
            "                                                                 \n",
            " block1_conv2 (Conv2D)       (None, 150, 150, 64)      36928     \n",
            "                                                                 \n",
            " block1_pool (MaxPooling2D)  (None, 75, 75, 64)        0         \n",
            "                                                                 \n",
            " block2_conv1 (Conv2D)       (None, 75, 75, 128)       73856     \n",
            "                                                                 \n",
            " block2_conv2 (Conv2D)       (None, 75, 75, 128)       147584    \n",
            "                                                                 \n",
            " block2_pool (MaxPooling2D)  (None, 37, 37, 128)       0         \n",
            "                                                                 \n",
            " block3_conv1 (Conv2D)       (None, 37, 37, 256)       295168    \n",
            "                                                                 \n",
            " block3_conv2 (Conv2D)       (None, 37, 37, 256)       590080    \n",
            "                                                                 \n",
            " block3_conv3 (Conv2D)       (None, 37, 37, 256)       590080    \n",
            "                                                                 \n",
            " block3_pool (MaxPooling2D)  (None, 18, 18, 256)       0         \n",
            "                                                                 \n",
            " block4_conv1 (Conv2D)       (None, 18, 18, 512)       1180160   \n",
            "                                                                 \n",
            " block4_conv2 (Conv2D)       (None, 18, 18, 512)       2359808   \n",
            "                                                                 \n",
            " block4_conv3 (Conv2D)       (None, 18, 18, 512)       2359808   \n",
            "                                                                 \n",
            " block4_pool (MaxPooling2D)  (None, 9, 9, 512)         0         \n",
            "                                                                 \n",
            " block5_conv1 (Conv2D)       (None, 9, 9, 512)         2359808   \n",
            "                                                                 \n",
            " block5_conv2 (Conv2D)       (None, 9, 9, 512)         2359808   \n",
            "                                                                 \n",
            " block5_conv3 (Conv2D)       (None, 9, 9, 512)         2359808   \n",
            "                                                                 \n",
            " block5_pool (MaxPooling2D)  (None, 4, 4, 512)         0         \n",
            "                                                                 \n",
            "=================================================================\n",
            "Total params: 14,714,688\n",
            "Trainable params: 14,714,688\n",
            "Non-trainable params: 0\n",
            "_________________________________________________________________\n"
          ]
        }
      ]
    },
    {
      "cell_type": "markdown",
      "source": [
        "# IV. Feature Extraction\n",
        "\n",
        "\n",
        "> ## 1) 특징추출 함수 정의 : extract_feature( )\n",
        "\n",
        "- conv_base.predict( )"
      ],
      "metadata": {
        "id": "49fhI3oLF3s2"
      }
    },
    {
      "cell_type": "code",
      "source": [
        "from tensorflow.keras.preprocessing.image import ImageDataGenerator\n",
        "import numpy as np\n",
        "\n",
        "datagen = ImageDataGenerator(rescale = 1. / 255)\n",
        "\n",
        "batch_size = 20\n",
        "\n",
        "def extract_features(directory, sample_count):\n",
        "    features = np.zeros(shape = (sample_count, 4, 4, 512))\n",
        "    labels = np.zeros(shape = (sample_count))\n",
        "\n",
        "    generator = datagen.flow_from_directory(directory,\n",
        "                                            target_size = (150, 150),\n",
        "                                            batch_size = batch_size,\n",
        "                                            class_mode = 'binary')\n",
        "    \n",
        "    i = 0\n",
        "    for inputs_batch, labels_batch in generator:\n",
        "        features_batch = conv_base.predict(inputs_batch, verbose = 0)\n",
        "        features[ i * batch_size : (i + 1) * batch_size] = features_batch\n",
        "        labels[i * batch_size : (i + 1) * batch_size] = labels_batch\n",
        "        i += 1\n",
        "        if i * batch_size >= sample_count:\n",
        "            break\n",
        "            \n",
        "    return features, labels"
      ],
      "metadata": {
        "id": "_-8_1UPAFz-u"
      },
      "execution_count": 10,
      "outputs": []
    },
    {
      "cell_type": "markdown",
      "source": [
        "> ## 2) 특징추출 함수 적용\n",
        "\n",
        "- train_dir\n",
        "- valid_dir\n",
        "- test_dir\n",
        "\n",
        "\n",
        "약 1분"
      ],
      "metadata": {
        "id": "DCRarOxIHBeq"
      }
    },
    {
      "cell_type": "code",
      "source": [
        "%%time\n",
        "\n",
        "train_features, train_labels = extract_features(train_dir, 2000)\n",
        "valid_features, valid_labels = extract_features(valid_dir, 1000)\n",
        "test_features, test_labels = extract_features(test_dir, 1000)"
      ],
      "metadata": {
        "colab": {
          "base_uri": "https://localhost:8080/"
        },
        "id": "4baonbR9HEog",
        "outputId": "5940b5b9-c26d-4aa2-f563-534cd683aba9"
      },
      "execution_count": 11,
      "outputs": [
        {
          "output_type": "stream",
          "name": "stdout",
          "text": [
            "Found 2000 images belonging to 2 classes.\n",
            "Found 1000 images belonging to 2 classes.\n",
            "Found 1000 images belonging to 2 classes.\n",
            "CPU times: user 35.4 s, sys: 1.61 s, total: 37.1 s\n",
            "Wall time: 47.4 s\n"
          ]
        }
      ]
    },
    {
      "cell_type": "code",
      "source": [
        "train_features.shape, valid_features.shape, test_features.shape"
      ],
      "metadata": {
        "colab": {
          "base_uri": "https://localhost:8080/"
        },
        "id": "LbZG90IAHVsZ",
        "outputId": "00bb7cca-84f4-47ad-b00d-2b05b15ed71e"
      },
      "execution_count": 12,
      "outputs": [
        {
          "output_type": "execute_result",
          "data": {
            "text/plain": [
              "((2000, 4, 4, 512), (1000, 4, 4, 512), (1000, 4, 4, 512))"
            ]
          },
          "metadata": {},
          "execution_count": 12
        }
      ]
    },
    {
      "cell_type": "markdown",
      "source": [
        "> ## 3) Reshape Features\n",
        "  \n",
        "  - For'Classification' Network "
      ],
      "metadata": {
        "id": "LzKrZzFHHjov"
      }
    },
    {
      "cell_type": "code",
      "source": [
        "train_features = np.reshape(train_features, (2000, 4 * 4 * 512))\n",
        "valid_features = np.reshape(valid_features, (1000, 4 * 4 * 512))\n",
        "test_features = np.reshape(test_features, (1000, 4 * 4 * 512))"
      ],
      "metadata": {
        "id": "oc1HlBPgHgh6"
      },
      "execution_count": 13,
      "outputs": []
    },
    {
      "cell_type": "code",
      "source": [
        "train_features.shape, valid_features.shape, test_features.shape"
      ],
      "metadata": {
        "colab": {
          "base_uri": "https://localhost:8080/"
        },
        "id": "S3gH-r3jH4z1",
        "outputId": "94929314-5e60-4897-ce77-687818add7d5"
      },
      "execution_count": 14,
      "outputs": [
        {
          "output_type": "execute_result",
          "data": {
            "text/plain": [
              "((2000, 8192), (1000, 8192), (1000, 8192))"
            ]
          },
          "metadata": {},
          "execution_count": 14
        }
      ]
    },
    {
      "cell_type": "markdown",
      "source": [
        "# V. Keras DNN Modeling with VGG-16 Featured Data\n",
        "\n",
        "> ## 1) Model Define\n",
        "\n",
        "- 'Classification' Network Only\n",
        "- Dropout Layer"
      ],
      "metadata": {
        "id": "rBOi4DiZIBwZ"
      }
    },
    {
      "cell_type": "code",
      "source": [
        "from tensorflow.keras import models, layers\n",
        "\n",
        "model = models.Sequential()\n",
        "model.add(layers.Dense(256, activation = 'relu', input_dim = 4 * 4 * 512))\n",
        "model.add(layers.Dropout(0.5))\n",
        "model.add(layers.Dense(1, activation = 'sigmoid'))"
      ],
      "metadata": {
        "id": "Hj05JcCoH-R8"
      },
      "execution_count": 15,
      "outputs": []
    },
    {
      "cell_type": "code",
      "source": [
        "model.summary()"
      ],
      "metadata": {
        "colab": {
          "base_uri": "https://localhost:8080/"
        },
        "id": "7v_9lEH2IUsX",
        "outputId": "97fc268d-d9c4-4cce-aa33-19c1996d4265"
      },
      "execution_count": 16,
      "outputs": [
        {
          "output_type": "stream",
          "name": "stdout",
          "text": [
            "Model: \"sequential\"\n",
            "_________________________________________________________________\n",
            " Layer (type)                Output Shape              Param #   \n",
            "=================================================================\n",
            " dense (Dense)               (None, 256)               2097408   \n",
            "                                                                 \n",
            " dropout (Dropout)           (None, 256)               0         \n",
            "                                                                 \n",
            " dense_1 (Dense)             (None, 1)                 257       \n",
            "                                                                 \n",
            "=================================================================\n",
            "Total params: 2,097,665\n",
            "Trainable params: 2,097,665\n",
            "Non-trainable params: 0\n",
            "_________________________________________________________________\n"
          ]
        }
      ]
    },
    {
      "cell_type": "markdown",
      "source": [
        "> ## 2) Model Compile\n",
        "\n",
        "- 모델 학습방법 설정"
      ],
      "metadata": {
        "id": "4cTOpcHbIdis"
      }
    },
    {
      "cell_type": "code",
      "source": [
        "model.compile(loss = 'binary_crossentropy',\n",
        "              optimizer = 'adam',\n",
        "              metrics = ['accuracy'])"
      ],
      "metadata": {
        "id": "TgYg8fF4IW_J"
      },
      "execution_count": 17,
      "outputs": []
    },
    {
      "cell_type": "markdown",
      "source": [
        "> ## 3) Model Fit\n",
        "\n",
        "- 약 1분"
      ],
      "metadata": {
        "id": "H-w8NhBJImvr"
      }
    },
    {
      "cell_type": "code",
      "source": [
        "%%time\n",
        "\n",
        "Hist_dandc = model.fit(train_features, train_labels,\n",
        "                       epochs = 100,\n",
        "                       batch_size = 20, \n",
        "                       validation_data = (valid_features, valid_labels))"
      ],
      "metadata": {
        "colab": {
          "base_uri": "https://localhost:8080/"
        },
        "id": "3W8nnOjeIlRz",
        "outputId": "a1399155-b781-4fb0-e9bf-8e4d52d33abc"
      },
      "execution_count": 18,
      "outputs": [
        {
          "output_type": "stream",
          "name": "stdout",
          "text": [
            "Epoch 1/100\n",
            "100/100 [==============================] - 2s 6ms/step - loss: 0.4720 - accuracy: 0.7975 - val_loss: 0.2692 - val_accuracy: 0.8900\n",
            "Epoch 2/100\n",
            "100/100 [==============================] - 0s 4ms/step - loss: 0.2713 - accuracy: 0.8840 - val_loss: 0.4104 - val_accuracy: 0.8200\n",
            "Epoch 3/100\n",
            "100/100 [==============================] - 0s 4ms/step - loss: 0.2455 - accuracy: 0.9005 - val_loss: 0.2855 - val_accuracy: 0.8760\n",
            "Epoch 4/100\n",
            "100/100 [==============================] - 0s 4ms/step - loss: 0.1885 - accuracy: 0.9230 - val_loss: 0.2644 - val_accuracy: 0.8880\n",
            "Epoch 5/100\n",
            "100/100 [==============================] - 0s 4ms/step - loss: 0.1482 - accuracy: 0.9390 - val_loss: 0.2425 - val_accuracy: 0.9050\n",
            "Epoch 6/100\n",
            "100/100 [==============================] - 0s 4ms/step - loss: 0.1116 - accuracy: 0.9590 - val_loss: 0.2675 - val_accuracy: 0.9020\n",
            "Epoch 7/100\n",
            "100/100 [==============================] - 0s 4ms/step - loss: 0.1045 - accuracy: 0.9645 - val_loss: 0.2845 - val_accuracy: 0.8920\n",
            "Epoch 8/100\n",
            "100/100 [==============================] - 0s 4ms/step - loss: 0.1154 - accuracy: 0.9545 - val_loss: 0.2837 - val_accuracy: 0.8830\n",
            "Epoch 9/100\n",
            "100/100 [==============================] - 0s 4ms/step - loss: 0.0735 - accuracy: 0.9715 - val_loss: 0.2734 - val_accuracy: 0.9080\n",
            "Epoch 10/100\n",
            "100/100 [==============================] - 0s 4ms/step - loss: 0.0565 - accuracy: 0.9805 - val_loss: 0.3208 - val_accuracy: 0.8990\n",
            "Epoch 11/100\n",
            "100/100 [==============================] - 0s 4ms/step - loss: 0.0473 - accuracy: 0.9845 - val_loss: 0.2993 - val_accuracy: 0.9040\n",
            "Epoch 12/100\n",
            "100/100 [==============================] - 0s 5ms/step - loss: 0.0459 - accuracy: 0.9825 - val_loss: 0.3249 - val_accuracy: 0.8940\n",
            "Epoch 13/100\n",
            "100/100 [==============================] - 1s 5ms/step - loss: 0.0398 - accuracy: 0.9855 - val_loss: 0.3292 - val_accuracy: 0.8970\n",
            "Epoch 14/100\n",
            "100/100 [==============================] - 1s 5ms/step - loss: 0.0378 - accuracy: 0.9865 - val_loss: 0.4011 - val_accuracy: 0.8920\n",
            "Epoch 15/100\n",
            "100/100 [==============================] - 1s 5ms/step - loss: 0.0376 - accuracy: 0.9870 - val_loss: 0.4019 - val_accuracy: 0.9010\n",
            "Epoch 16/100\n",
            "100/100 [==============================] - 0s 5ms/step - loss: 0.0494 - accuracy: 0.9810 - val_loss: 0.3744 - val_accuracy: 0.8980\n",
            "Epoch 17/100\n",
            "100/100 [==============================] - 0s 4ms/step - loss: 0.0306 - accuracy: 0.9920 - val_loss: 0.4037 - val_accuracy: 0.9000\n",
            "Epoch 18/100\n",
            "100/100 [==============================] - 0s 4ms/step - loss: 0.0227 - accuracy: 0.9960 - val_loss: 0.4154 - val_accuracy: 0.9090\n",
            "Epoch 19/100\n",
            "100/100 [==============================] - 0s 4ms/step - loss: 0.0260 - accuracy: 0.9910 - val_loss: 0.4099 - val_accuracy: 0.8980\n",
            "Epoch 20/100\n",
            "100/100 [==============================] - 0s 4ms/step - loss: 0.0318 - accuracy: 0.9910 - val_loss: 0.5021 - val_accuracy: 0.8860\n",
            "Epoch 21/100\n",
            "100/100 [==============================] - 0s 4ms/step - loss: 0.0168 - accuracy: 0.9945 - val_loss: 0.4532 - val_accuracy: 0.9060\n",
            "Epoch 22/100\n",
            "100/100 [==============================] - 0s 4ms/step - loss: 0.0183 - accuracy: 0.9935 - val_loss: 0.4964 - val_accuracy: 0.8910\n",
            "Epoch 23/100\n",
            "100/100 [==============================] - 0s 4ms/step - loss: 0.0130 - accuracy: 0.9970 - val_loss: 0.5576 - val_accuracy: 0.8960\n",
            "Epoch 24/100\n",
            "100/100 [==============================] - 0s 4ms/step - loss: 0.0203 - accuracy: 0.9925 - val_loss: 0.4016 - val_accuracy: 0.9030\n",
            "Epoch 25/100\n",
            "100/100 [==============================] - 0s 4ms/step - loss: 0.0143 - accuracy: 0.9975 - val_loss: 0.5277 - val_accuracy: 0.8980\n",
            "Epoch 26/100\n",
            "100/100 [==============================] - 0s 4ms/step - loss: 0.0093 - accuracy: 0.9980 - val_loss: 0.5183 - val_accuracy: 0.8990\n",
            "Epoch 27/100\n",
            "100/100 [==============================] - 0s 4ms/step - loss: 0.0315 - accuracy: 0.9890 - val_loss: 0.4001 - val_accuracy: 0.9010\n",
            "Epoch 28/100\n",
            "100/100 [==============================] - 0s 4ms/step - loss: 0.0281 - accuracy: 0.9915 - val_loss: 0.4272 - val_accuracy: 0.8990\n",
            "Epoch 29/100\n",
            "100/100 [==============================] - 0s 4ms/step - loss: 0.0239 - accuracy: 0.9935 - val_loss: 0.4748 - val_accuracy: 0.9010\n",
            "Epoch 30/100\n",
            "100/100 [==============================] - 0s 4ms/step - loss: 0.0156 - accuracy: 0.9945 - val_loss: 0.5158 - val_accuracy: 0.9010\n",
            "Epoch 31/100\n",
            "100/100 [==============================] - 0s 4ms/step - loss: 0.0298 - accuracy: 0.9880 - val_loss: 0.4085 - val_accuracy: 0.8900\n",
            "Epoch 32/100\n",
            "100/100 [==============================] - 0s 4ms/step - loss: 0.0330 - accuracy: 0.9905 - val_loss: 0.5796 - val_accuracy: 0.8710\n",
            "Epoch 33/100\n",
            "100/100 [==============================] - 0s 4ms/step - loss: 0.0493 - accuracy: 0.9805 - val_loss: 0.4039 - val_accuracy: 0.8970\n",
            "Epoch 34/100\n",
            "100/100 [==============================] - 0s 4ms/step - loss: 0.0573 - accuracy: 0.9790 - val_loss: 0.4053 - val_accuracy: 0.8990\n",
            "Epoch 35/100\n",
            "100/100 [==============================] - 0s 4ms/step - loss: 0.0506 - accuracy: 0.9800 - val_loss: 0.4180 - val_accuracy: 0.8890\n",
            "Epoch 36/100\n",
            "100/100 [==============================] - 0s 4ms/step - loss: 0.0336 - accuracy: 0.9890 - val_loss: 0.4363 - val_accuracy: 0.8980\n",
            "Epoch 37/100\n",
            "100/100 [==============================] - 0s 4ms/step - loss: 0.0283 - accuracy: 0.9885 - val_loss: 0.5497 - val_accuracy: 0.8810\n",
            "Epoch 38/100\n",
            "100/100 [==============================] - 0s 4ms/step - loss: 0.0159 - accuracy: 0.9950 - val_loss: 0.4673 - val_accuracy: 0.8930\n",
            "Epoch 39/100\n",
            "100/100 [==============================] - 0s 4ms/step - loss: 0.0114 - accuracy: 0.9975 - val_loss: 0.5350 - val_accuracy: 0.8970\n",
            "Epoch 40/100\n",
            "100/100 [==============================] - 0s 4ms/step - loss: 0.0165 - accuracy: 0.9940 - val_loss: 0.6374 - val_accuracy: 0.8820\n",
            "Epoch 41/100\n",
            "100/100 [==============================] - 0s 5ms/step - loss: 0.0258 - accuracy: 0.9935 - val_loss: 0.6278 - val_accuracy: 0.8910\n",
            "Epoch 42/100\n",
            "100/100 [==============================] - 1s 6ms/step - loss: 0.0307 - accuracy: 0.9890 - val_loss: 0.5329 - val_accuracy: 0.8940\n",
            "Epoch 43/100\n",
            "100/100 [==============================] - 1s 5ms/step - loss: 0.0323 - accuracy: 0.9870 - val_loss: 0.4954 - val_accuracy: 0.8970\n",
            "Epoch 44/100\n",
            "100/100 [==============================] - 1s 6ms/step - loss: 0.0175 - accuracy: 0.9935 - val_loss: 0.5927 - val_accuracy: 0.8970\n",
            "Epoch 45/100\n",
            "100/100 [==============================] - 0s 5ms/step - loss: 0.0132 - accuracy: 0.9950 - val_loss: 0.4910 - val_accuracy: 0.8970\n",
            "Epoch 46/100\n",
            "100/100 [==============================] - 0s 4ms/step - loss: 0.0095 - accuracy: 0.9975 - val_loss: 0.5886 - val_accuracy: 0.9060\n",
            "Epoch 47/100\n",
            "100/100 [==============================] - 0s 4ms/step - loss: 0.0107 - accuracy: 0.9955 - val_loss: 0.5754 - val_accuracy: 0.8850\n",
            "Epoch 48/100\n",
            "100/100 [==============================] - 0s 4ms/step - loss: 0.0141 - accuracy: 0.9955 - val_loss: 0.6205 - val_accuracy: 0.8980\n",
            "Epoch 49/100\n",
            "100/100 [==============================] - 0s 5ms/step - loss: 0.0297 - accuracy: 0.9875 - val_loss: 0.6363 - val_accuracy: 0.8980\n",
            "Epoch 50/100\n",
            "100/100 [==============================] - 0s 4ms/step - loss: 0.0059 - accuracy: 0.9980 - val_loss: 0.6382 - val_accuracy: 0.9060\n",
            "Epoch 51/100\n",
            "100/100 [==============================] - 0s 4ms/step - loss: 0.0242 - accuracy: 0.9910 - val_loss: 0.6144 - val_accuracy: 0.8820\n",
            "Epoch 52/100\n",
            "100/100 [==============================] - 0s 4ms/step - loss: 0.0415 - accuracy: 0.9865 - val_loss: 0.5356 - val_accuracy: 0.9000\n",
            "Epoch 53/100\n",
            "100/100 [==============================] - 0s 4ms/step - loss: 0.0147 - accuracy: 0.9950 - val_loss: 0.6261 - val_accuracy: 0.9030\n",
            "Epoch 54/100\n",
            "100/100 [==============================] - 0s 4ms/step - loss: 0.0142 - accuracy: 0.9955 - val_loss: 0.5117 - val_accuracy: 0.9040\n",
            "Epoch 55/100\n",
            "100/100 [==============================] - 0s 4ms/step - loss: 0.0129 - accuracy: 0.9950 - val_loss: 0.7821 - val_accuracy: 0.8920\n",
            "Epoch 56/100\n",
            "100/100 [==============================] - 0s 4ms/step - loss: 0.0238 - accuracy: 0.9930 - val_loss: 0.4871 - val_accuracy: 0.9030\n",
            "Epoch 57/100\n",
            "100/100 [==============================] - 0s 4ms/step - loss: 0.0262 - accuracy: 0.9885 - val_loss: 0.6210 - val_accuracy: 0.8900\n",
            "Epoch 58/100\n",
            "100/100 [==============================] - 0s 4ms/step - loss: 0.0172 - accuracy: 0.9940 - val_loss: 0.6199 - val_accuracy: 0.8880\n",
            "Epoch 59/100\n",
            "100/100 [==============================] - 0s 4ms/step - loss: 0.0203 - accuracy: 0.9925 - val_loss: 0.5972 - val_accuracy: 0.9000\n",
            "Epoch 60/100\n",
            "100/100 [==============================] - 0s 4ms/step - loss: 0.0139 - accuracy: 0.9965 - val_loss: 0.5881 - val_accuracy: 0.8970\n",
            "Epoch 61/100\n",
            "100/100 [==============================] - 0s 4ms/step - loss: 0.0092 - accuracy: 0.9975 - val_loss: 0.7414 - val_accuracy: 0.8870\n",
            "Epoch 62/100\n",
            "100/100 [==============================] - 0s 4ms/step - loss: 0.0101 - accuracy: 0.9975 - val_loss: 0.6557 - val_accuracy: 0.9000\n",
            "Epoch 63/100\n",
            "100/100 [==============================] - 0s 4ms/step - loss: 0.0051 - accuracy: 0.9980 - val_loss: 0.7563 - val_accuracy: 0.8980\n",
            "Epoch 64/100\n",
            "100/100 [==============================] - 0s 4ms/step - loss: 0.0056 - accuracy: 0.9985 - val_loss: 0.6639 - val_accuracy: 0.9040\n",
            "Epoch 65/100\n",
            "100/100 [==============================] - 0s 4ms/step - loss: 0.0127 - accuracy: 0.9950 - val_loss: 0.6385 - val_accuracy: 0.8910\n",
            "Epoch 66/100\n",
            "100/100 [==============================] - 1s 8ms/step - loss: 0.0277 - accuracy: 0.9885 - val_loss: 0.5983 - val_accuracy: 0.9000\n",
            "Epoch 67/100\n",
            "100/100 [==============================] - 1s 7ms/step - loss: 0.0162 - accuracy: 0.9945 - val_loss: 0.7023 - val_accuracy: 0.8930\n",
            "Epoch 68/100\n",
            "100/100 [==============================] - 1s 11ms/step - loss: 0.0242 - accuracy: 0.9920 - val_loss: 0.5671 - val_accuracy: 0.9040\n",
            "Epoch 69/100\n",
            "100/100 [==============================] - 2s 16ms/step - loss: 0.0162 - accuracy: 0.9920 - val_loss: 0.5848 - val_accuracy: 0.8980\n",
            "Epoch 70/100\n",
            "100/100 [==============================] - 1s 8ms/step - loss: 0.0228 - accuracy: 0.9875 - val_loss: 0.6074 - val_accuracy: 0.8920\n",
            "Epoch 71/100\n",
            "100/100 [==============================] - 1s 8ms/step - loss: 0.0166 - accuracy: 0.9935 - val_loss: 0.7514 - val_accuracy: 0.8890\n",
            "Epoch 72/100\n",
            "100/100 [==============================] - 1s 9ms/step - loss: 0.0141 - accuracy: 0.9940 - val_loss: 0.6048 - val_accuracy: 0.8960\n",
            "Epoch 73/100\n",
            "100/100 [==============================] - 1s 11ms/step - loss: 0.0143 - accuracy: 0.9955 - val_loss: 0.6849 - val_accuracy: 0.9030\n",
            "Epoch 74/100\n",
            "100/100 [==============================] - 1s 11ms/step - loss: 0.0097 - accuracy: 0.9950 - val_loss: 0.6485 - val_accuracy: 0.9050\n",
            "Epoch 75/100\n",
            "100/100 [==============================] - 1s 10ms/step - loss: 0.0040 - accuracy: 0.9990 - val_loss: 0.7487 - val_accuracy: 0.9030\n",
            "Epoch 76/100\n",
            "100/100 [==============================] - 1s 10ms/step - loss: 0.0067 - accuracy: 0.9970 - val_loss: 0.7154 - val_accuracy: 0.8920\n",
            "Epoch 77/100\n",
            "100/100 [==============================] - 1s 7ms/step - loss: 0.0124 - accuracy: 0.9955 - val_loss: 0.7100 - val_accuracy: 0.9030\n",
            "Epoch 78/100\n",
            "100/100 [==============================] - 1s 6ms/step - loss: 0.0129 - accuracy: 0.9960 - val_loss: 0.8547 - val_accuracy: 0.8840\n",
            "Epoch 79/100\n",
            "100/100 [==============================] - 1s 8ms/step - loss: 0.0130 - accuracy: 0.9950 - val_loss: 0.8232 - val_accuracy: 0.8920\n",
            "Epoch 80/100\n",
            "100/100 [==============================] - 1s 7ms/step - loss: 0.0297 - accuracy: 0.9910 - val_loss: 0.5980 - val_accuracy: 0.9000\n",
            "Epoch 81/100\n",
            "100/100 [==============================] - 1s 6ms/step - loss: 0.0366 - accuracy: 0.9855 - val_loss: 0.5123 - val_accuracy: 0.8990\n",
            "Epoch 82/100\n",
            "100/100 [==============================] - 1s 6ms/step - loss: 0.0164 - accuracy: 0.9940 - val_loss: 0.7105 - val_accuracy: 0.8930\n",
            "Epoch 83/100\n",
            "100/100 [==============================] - 1s 9ms/step - loss: 0.0199 - accuracy: 0.9920 - val_loss: 0.7993 - val_accuracy: 0.8860\n",
            "Epoch 84/100\n",
            "100/100 [==============================] - 1s 6ms/step - loss: 0.0219 - accuracy: 0.9915 - val_loss: 0.6523 - val_accuracy: 0.8990\n",
            "Epoch 85/100\n",
            "100/100 [==============================] - 1s 6ms/step - loss: 0.0107 - accuracy: 0.9960 - val_loss: 0.7457 - val_accuracy: 0.8870\n",
            "Epoch 86/100\n",
            "100/100 [==============================] - 0s 4ms/step - loss: 0.0100 - accuracy: 0.9965 - val_loss: 0.7582 - val_accuracy: 0.9060\n",
            "Epoch 87/100\n",
            "100/100 [==============================] - 1s 6ms/step - loss: 0.0056 - accuracy: 0.9970 - val_loss: 0.7813 - val_accuracy: 0.8990\n",
            "Epoch 88/100\n",
            "100/100 [==============================] - 1s 6ms/step - loss: 0.0175 - accuracy: 0.9945 - val_loss: 0.9293 - val_accuracy: 0.8930\n",
            "Epoch 89/100\n",
            "100/100 [==============================] - 1s 6ms/step - loss: 0.0414 - accuracy: 0.9885 - val_loss: 0.5752 - val_accuracy: 0.8990\n",
            "Epoch 90/100\n",
            "100/100 [==============================] - 0s 4ms/step - loss: 0.0145 - accuracy: 0.9950 - val_loss: 0.7208 - val_accuracy: 0.8980\n",
            "Epoch 91/100\n",
            "100/100 [==============================] - 1s 7ms/step - loss: 0.0145 - accuracy: 0.9940 - val_loss: 0.5460 - val_accuracy: 0.8840\n",
            "Epoch 92/100\n",
            "100/100 [==============================] - 1s 8ms/step - loss: 0.0129 - accuracy: 0.9950 - val_loss: 0.6774 - val_accuracy: 0.8940\n",
            "Epoch 93/100\n",
            "100/100 [==============================] - 0s 4ms/step - loss: 0.0111 - accuracy: 0.9955 - val_loss: 0.6675 - val_accuracy: 0.9000\n",
            "Epoch 94/100\n",
            "100/100 [==============================] - 0s 4ms/step - loss: 0.0150 - accuracy: 0.9945 - val_loss: 0.6979 - val_accuracy: 0.8840\n",
            "Epoch 95/100\n",
            "100/100 [==============================] - 0s 4ms/step - loss: 0.0094 - accuracy: 0.9965 - val_loss: 0.8249 - val_accuracy: 0.8870\n",
            "Epoch 96/100\n",
            "100/100 [==============================] - 0s 4ms/step - loss: 0.0066 - accuracy: 0.9960 - val_loss: 0.7836 - val_accuracy: 0.8980\n",
            "Epoch 97/100\n",
            "100/100 [==============================] - 0s 4ms/step - loss: 0.0074 - accuracy: 0.9975 - val_loss: 0.7230 - val_accuracy: 0.9000\n",
            "Epoch 98/100\n",
            "100/100 [==============================] - 0s 4ms/step - loss: 0.0079 - accuracy: 0.9975 - val_loss: 0.8412 - val_accuracy: 0.8970\n",
            "Epoch 99/100\n",
            "100/100 [==============================] - 1s 7ms/step - loss: 0.0075 - accuracy: 0.9970 - val_loss: 0.7814 - val_accuracy: 0.8990\n",
            "Epoch 100/100\n",
            "100/100 [==============================] - 1s 5ms/step - loss: 0.0107 - accuracy: 0.9970 - val_loss: 0.7209 - val_accuracy: 0.9000\n",
            "CPU times: user 46.2 s, sys: 3.3 s, total: 49.5 s\n",
            "Wall time: 54.6 s\n"
          ]
        }
      ]
    },
    {
      "cell_type": "markdown",
      "source": [
        "> ## 4) 학습 결과 시각화"
      ],
      "metadata": {
        "id": "qAQtBrd7I3aF"
      }
    },
    {
      "cell_type": "code",
      "source": [
        "import matplotlib.pyplot as plt\n",
        "epochs = range(1, len(Hist_dandc.history['loss']) + 1)\n",
        "\n",
        "plt.figure(figsize = (15, 5))\n",
        "\n",
        "plt.subplot(1, 2, 1)\n",
        "plt.plot(epochs, Hist_dandc.history['loss'], 'b-')\n",
        "plt.plot(epochs, Hist_dandc.history['val_loss'], 'r--')\n",
        "plt.title('Training & Validation Loss')\n",
        "plt.xlabel('Epochs')\n",
        "plt.ylabel('Loss')\n",
        "plt.legend(['Training Loss', 'Validation Loss'])\n",
        "plt.grid()\n",
        "\n",
        "plt.subplot(1, 2, 2)\n",
        "plt.plot(epochs, Hist_dandc.history['accuracy'], 'b-')\n",
        "plt.plot(epochs, Hist_dandc.history['val_accuracy'], 'r--')\n",
        "plt.title('Training & Validation Accuracy')\n",
        "plt.xlabel('Epochs')\n",
        "plt.ylabel('Accuracy')\n",
        "plt.legend(['Training Accuracy', 'Validation Accuracy'])\n",
        "plt.grid()\n",
        "\n",
        "plt.show()"
      ],
      "metadata": {
        "colab": {
          "base_uri": "https://localhost:8080/",
          "height": 487
        },
        "id": "EUJVuo0EIx0X",
        "outputId": "d43e5ba4-4e0c-4e96-ebed-d254191ec8ea"
      },
      "execution_count": 19,
      "outputs": [
        {
          "output_type": "display_data",
          "data": {
            "text/plain": [
              "<Figure size 1500x500 with 2 Axes>"
            ],
            "image/png": "[encoded data removed]"
          },
          "metadata": {}
        }
      ]
    },
    {
      "cell_type": "markdown",
      "source": [
        "> ## 5) Model Evaluate\n",
        "\n",
        "- Loss & Accuracy"
      ],
      "metadata": {
        "id": "FgFXX77vI8yq"
      }
    },
    {
      "cell_type": "code",
      "source": [
        "loss, accuracy = model.evaluate(test_features, test_labels, verbose = 0)\n",
        "print('Loss = {:.5f}'.format(loss))\n",
        "print('Accuracy = {:.5f}'.format(accuracy))"
      ],
      "metadata": {
        "colab": {
          "base_uri": "https://localhost:8080/"
        },
        "id": "mywSnjxNI7Ui",
        "outputId": "2b51a3d9-3717-4c06-9d93-eafa799d8938"
      },
      "execution_count": 20,
      "outputs": [
        {
          "output_type": "stream",
          "name": "stdout",
          "text": [
            "Loss = 0.74326\n",
            "Accuracy = 0.88100\n"
          ]
        }
      ]
    },
    {
      "cell_type": "code",
      "source": [],
      "metadata": {
        "id": "7i3QmgkvI_FU"
      },
      "execution_count": null,
      "outputs": []
    }
  ]
}