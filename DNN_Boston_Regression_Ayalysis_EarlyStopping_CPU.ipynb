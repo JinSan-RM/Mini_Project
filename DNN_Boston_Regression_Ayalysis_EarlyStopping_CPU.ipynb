{
  "nbformat": 4,
  "nbformat_minor": 0,
  "metadata": {
    "colab": {
      "provenance": []
    },
    "kernelspec": {
      "name": "python3",
      "display_name": "Python 3"
    },
    "language_info": {
      "name": "python"
    }
  },
  "cells": [
    {
      "cell_type": "markdown",
      "source": [
        "# Boston_Housing - Regression Analysis\n",
        "\n",
        "## Import tensorflow"
      ],
      "metadata": {
        "id": "XwIFVtAEp_30"
      }
    },
    {
      "cell_type": "code",
      "execution_count": 1,
      "metadata": {
        "id": "zhz-uSEDpx_s"
      },
      "outputs": [],
      "source": [
        "import warnings\n",
        "warnings.filterwarnings('ignore')"
      ]
    },
    {
      "cell_type": "code",
      "source": [
        "import tensorflow as tf\n",
        "\n",
        "tf.__version__"
      ],
      "metadata": {
        "colab": {
          "base_uri": "https://localhost:8080/",
          "height": 35
        },
        "id": "kuD7O40NqI4q",
        "outputId": "60ffdefb-d93e-4004-e1d2-2664e776fc0e"
      },
      "execution_count": 2,
      "outputs": [
        {
          "output_type": "execute_result",
          "data": {
            "text/plain": [
              "'2.12.0'"
            ],
            "application/vnd.google.colaboratory.intrinsic+json": {
              "type": "string"
            }
          },
          "metadata": {},
          "execution_count": 2
        }
      ]
    },
    {
      "cell_type": "code",
      "source": [
        "tf.test.gpu_device_name()"
      ],
      "metadata": {
        "colab": {
          "base_uri": "https://localhost:8080/",
          "height": 35
        },
        "id": "2qMsJoEfqM0t",
        "outputId": "5b94a565-b420-4228-8fab-752484f70d22"
      },
      "execution_count": 3,
      "outputs": [
        {
          "output_type": "execute_result",
          "data": {
            "text/plain": [
              "''"
            ],
            "application/vnd.google.colaboratory.intrinsic+json": {
              "type": "string"
            }
          },
          "metadata": {},
          "execution_count": 3
        }
      ]
    },
    {
      "cell_type": "markdown",
      "source": [
        "# I. Boston_Housing Data_Set Load & Review\n",
        "\n",
        "> ## 1) Load Boston_Housing Data_Set"
      ],
      "metadata": {
        "id": "ZeCrJK0eqTI9"
      }
    },
    {
      "cell_type": "code",
      "source": [
        "from tensorflow.keras.datasets import boston_housing\n",
        "\n",
        "(X_train, y_train), (X_test, y_test) = boston_housing.load_data()"
      ],
      "metadata": {
        "colab": {
          "base_uri": "https://localhost:8080/"
        },
        "id": "D3Y2b9dhqRtI",
        "outputId": "7b6cd158-b10a-4db0-adc6-84400dd6fbd1"
      },
      "execution_count": 4,
      "outputs": [
        {
          "output_type": "stream",
          "name": "stdout",
          "text": [
            "Downloading data from https://storage.googleapis.com/tensorflow/tf-keras-datasets/boston_housing.npz\n",
            "57026/57026 [==============================] - 0s 0us/step\n"
          ]
        }
      ]
    },
    {
      "cell_type": "markdown",
      "source": [
        "> ## 2) Data_Set Information\n",
        "\n",
        "- 'boston.csv' (506 * 14)\n",
        "  - CRIM: 범죄 발생률\n",
        "  - ZN: 25,000평방피트를 초과하는 거주 지역의 비율\n",
        "  - INDUS: 비소매 상업 지역 비율\n",
        "  - CHAS: 찰스강 인접 여부(강주변 1, 아니면 0)\n",
        "  - NOX: 일산화질소 농도\n",
        "  - RM: 거주 목적 방 개수\n",
        "  - AGE: 1940년 이전 건축된 주택 비율\n",
        "  - DIS: 보스턴 5대 고용지역까지 거리\n",
        "  - RAD: 고속도로 접근성\n",
        "  - TAX: 10,000달러당 재산세율\n",
        "  - PTRATIO: 교사와 학생 수 비율\n",
        "  - B: 흑인 거주 비율\n",
        "  - LSTAT: 하위 계층 비율\n",
        "  - PRICE: 주택 가격 -> 'y'"
      ],
      "metadata": {
        "id": "PoMmiok9qe7e"
      }
    },
    {
      "cell_type": "code",
      "source": [
        "print(X_train.shape)\n",
        "print(X_test.shape)\n",
        "\n",
        "print(y_train[:10])\n",
        "print(y_test[:10])"
      ],
      "metadata": {
        "colab": {
          "base_uri": "https://localhost:8080/"
        },
        "id": "6NnIv6poqcxk",
        "outputId": "97aa975a-7123-4d7a-8968-9fe36fd7bee6"
      },
      "execution_count": 5,
      "outputs": [
        {
          "output_type": "stream",
          "name": "stdout",
          "text": [
            "(404, 13)\n",
            "(102, 13)\n",
            "[15.2 42.3 50.  21.1 17.7 18.5 11.3 15.6 15.6 14.4]\n",
            "[ 7.2 18.8 19.  27.  22.2 24.5 31.2 22.9 20.5 23.2]\n"
          ]
        }
      ]
    },
    {
      "cell_type": "markdown",
      "source": [
        "# II. Data Preprocessing\n",
        "\n",
        "> ## 1) standardization\n",
        "\n",
        "- train_data & test_data"
      ],
      "metadata": {
        "id": "9itzpRGXq09D"
      }
    },
    {
      "cell_type": "code",
      "source": [
        "mean = X_train.mean(axis = 0)\n",
        "std = X_train.std(axis = 0)\n",
        "\n",
        "X_train = X_train - mean\n",
        "X_train = X_train / std\n",
        "\n",
        "X_test = X_test - mean\n",
        "X_test = X_test / std"
      ],
      "metadata": {
        "id": "ZPYl9-1IqzBv"
      },
      "execution_count": 6,
      "outputs": []
    },
    {
      "cell_type": "markdown",
      "source": [
        "> ## 2) Train & Validation Split"
      ],
      "metadata": {
        "id": "udGVt3pWrKGY"
      }
    },
    {
      "cell_type": "code",
      "source": [
        "from sklearn.model_selection import train_test_split\n",
        "\n",
        "X_train, X_valid, y_train, y_valid = train_test_split(X_train, y_train,\n",
        "                                                      test_size = 0.2,\n",
        "                                                      random_state = 2045)\n",
        "\n",
        "X_train.shape, X_valid.shape, y_train.shape, y_valid.shape"
      ],
      "metadata": {
        "colab": {
          "base_uri": "https://localhost:8080/"
        },
        "id": "deQ0EfwZrF0j",
        "outputId": "f86b33ec-98cd-431c-8cfb-33a394ce778f"
      },
      "execution_count": 7,
      "outputs": [
        {
          "output_type": "execute_result",
          "data": {
            "text/plain": [
              "((323, 13), (81, 13), (323,), (81,))"
            ]
          },
          "metadata": {},
          "execution_count": 7
        }
      ]
    },
    {
      "cell_type": "markdown",
      "source": [
        "# III. Boston_Housing Keras Modeling\n",
        "\n",
        "> ## 1) Model Define"
      ],
      "metadata": {
        "id": "ijmSkGTwrjwE"
      }
    },
    {
      "cell_type": "code",
      "source": [
        "from tensorflow.keras import models\n",
        "from tensorflow.keras import layers\n",
        "\n",
        "boston = models.Sequential(name = 'Regression')\n",
        "boston.add(layers.Dense(64, activation = 'relu', input_shape = (13,)))\n",
        "boston.add(layers.Dense(64, activation = 'relu'))\n",
        "boston.add(layers.Dense(1))"
      ],
      "metadata": {
        "id": "jm93MizwrdL3"
      },
      "execution_count": 12,
      "outputs": []
    },
    {
      "cell_type": "code",
      "source": [
        "boston.summary()"
      ],
      "metadata": {
        "colab": {
          "base_uri": "https://localhost:8080/"
        },
        "id": "t4yklAIVr4Q0",
        "outputId": "51bdebd0-cd3c-4ce3-b903-4dab858f2d03"
      },
      "execution_count": 13,
      "outputs": [
        {
          "output_type": "stream",
          "name": "stdout",
          "text": [
            "Model: \"Regression\"\n",
            "_________________________________________________________________\n",
            " Layer (type)                Output Shape              Param #   \n",
            "=================================================================\n",
            " dense_6 (Dense)             (None, 64)                896       \n",
            "                                                                 \n",
            " dense_7 (Dense)             (None, 64)                4160      \n",
            "                                                                 \n",
            " dense_8 (Dense)             (None, 1)                 65        \n",
            "                                                                 \n",
            "=================================================================\n",
            "Total params: 5,121\n",
            "Trainable params: 5,121\n",
            "Non-trainable params: 0\n",
            "_________________________________________________________________\n"
          ]
        }
      ]
    },
    {
      "cell_type": "markdown",
      "source": [
        "> ## 2) Model Compile"
      ],
      "metadata": {
        "id": "-DoP2_lIsLWp"
      }
    },
    {
      "cell_type": "code",
      "source": [
        "boston.compile(loss = 'mse',\n",
        "               optimizer = 'rmsprop',\n",
        "               metrics = ['mae'])"
      ],
      "metadata": {
        "id": "utVmD-mCsHEz"
      },
      "execution_count": 14,
      "outputs": []
    },
    {
      "cell_type": "markdown",
      "source": [
        "> ## 3) Model fit\n",
        "\n",
        "  - 약 8분"
      ],
      "metadata": {
        "id": "vwENjSqdsTZR"
      }
    },
    {
      "cell_type": "code",
      "source": [
        "%%time\n",
        "\n",
        "Hist_boston = boston.fit(X_train, y_train,\n",
        "                         epochs = 500,\n",
        "                         batch_size = 1,\n",
        "                         validation_data = (X_valid, y_valid))"
      ],
      "metadata": {
        "colab": {
          "base_uri": "https://localhost:8080/"
        },
        "id": "7oLmlTAKsSLr",
        "outputId": "41bc9998-3f4f-43d0-e5b5-229e9864462e"
      },
      "execution_count": 15,
      "outputs": [
        {
          "output_type": "stream",
          "name": "stdout",
          "text": [
            "Epoch 1/500\n",
            "323/323 [==============================] - 1s 3ms/step - loss: 227.1439 - mae: 11.2933 - val_loss: 47.2136 - val_mae: 4.3840\n",
            "Epoch 2/500\n",
            "323/323 [==============================] - 1s 2ms/step - loss: 25.2976 - mae: 3.4406 - val_loss: 25.4533 - val_mae: 2.9273\n",
            "Epoch 3/500\n",
            "323/323 [==============================] - 1s 2ms/step - loss: 18.4225 - mae: 2.9113 - val_loss: 25.6480 - val_mae: 2.8868\n",
            "Epoch 4/500\n",
            "323/323 [==============================] - 1s 2ms/step - loss: 15.5904 - mae: 2.6422 - val_loss: 20.7277 - val_mae: 2.6733\n",
            "Epoch 5/500\n",
            "323/323 [==============================] - 1s 2ms/step - loss: 14.0583 - mae: 2.5143 - val_loss: 22.0407 - val_mae: 2.6038\n",
            "Epoch 6/500\n",
            "323/323 [==============================] - 1s 2ms/step - loss: 12.9689 - mae: 2.4105 - val_loss: 19.3613 - val_mae: 2.7419\n",
            "Epoch 7/500\n",
            "323/323 [==============================] - 1s 2ms/step - loss: 12.4278 - mae: 2.3010 - val_loss: 17.8949 - val_mae: 2.5268\n",
            "Epoch 8/500\n",
            "323/323 [==============================] - 1s 2ms/step - loss: 11.9874 - mae: 2.2815 - val_loss: 18.9487 - val_mae: 2.5592\n",
            "Epoch 9/500\n",
            "323/323 [==============================] - 1s 2ms/step - loss: 11.7288 - mae: 2.2401 - val_loss: 18.5506 - val_mae: 2.5441\n",
            "Epoch 10/500\n",
            "323/323 [==============================] - 1s 2ms/step - loss: 10.9826 - mae: 2.2402 - val_loss: 19.7614 - val_mae: 2.4803\n",
            "Epoch 11/500\n",
            "323/323 [==============================] - 1s 2ms/step - loss: 11.0796 - mae: 2.1367 - val_loss: 19.8644 - val_mae: 2.6822\n",
            "Epoch 12/500\n",
            "323/323 [==============================] - 1s 2ms/step - loss: 10.1377 - mae: 2.1100 - val_loss: 18.1687 - val_mae: 2.7236\n",
            "Epoch 13/500\n",
            "323/323 [==============================] - 1s 2ms/step - loss: 9.8763 - mae: 2.1592 - val_loss: 14.9716 - val_mae: 2.4352\n",
            "Epoch 14/500\n",
            "323/323 [==============================] - 1s 2ms/step - loss: 10.1045 - mae: 2.1147 - val_loss: 15.4911 - val_mae: 2.4970\n",
            "Epoch 15/500\n",
            "323/323 [==============================] - 1s 3ms/step - loss: 10.5759 - mae: 2.0970 - val_loss: 16.0432 - val_mae: 2.5105\n",
            "Epoch 16/500\n",
            "323/323 [==============================] - 1s 3ms/step - loss: 10.1654 - mae: 2.1258 - val_loss: 15.6955 - val_mae: 2.4634\n",
            "Epoch 17/500\n",
            "323/323 [==============================] - 1s 3ms/step - loss: 9.4051 - mae: 2.0925 - val_loss: 15.9475 - val_mae: 2.2831\n",
            "Epoch 18/500\n",
            "323/323 [==============================] - 1s 2ms/step - loss: 9.2308 - mae: 2.0434 - val_loss: 18.0008 - val_mae: 2.7124\n",
            "Epoch 19/500\n",
            "323/323 [==============================] - 1s 2ms/step - loss: 9.3599 - mae: 2.0072 - val_loss: 15.6031 - val_mae: 2.4562\n",
            "Epoch 20/500\n",
            "323/323 [==============================] - 1s 2ms/step - loss: 9.5022 - mae: 2.0668 - val_loss: 14.6117 - val_mae: 2.2957\n",
            "Epoch 21/500\n",
            "323/323 [==============================] - 1s 2ms/step - loss: 9.1027 - mae: 1.9514 - val_loss: 16.0402 - val_mae: 2.4073\n",
            "Epoch 22/500\n",
            "323/323 [==============================] - 1s 2ms/step - loss: 9.0589 - mae: 2.0008 - val_loss: 14.8592 - val_mae: 2.3495\n",
            "Epoch 23/500\n",
            "323/323 [==============================] - 1s 2ms/step - loss: 8.4082 - mae: 1.9417 - val_loss: 14.5453 - val_mae: 2.2689\n",
            "Epoch 24/500\n",
            "323/323 [==============================] - 1s 2ms/step - loss: 8.8037 - mae: 1.9481 - val_loss: 17.8534 - val_mae: 2.6290\n",
            "Epoch 25/500\n",
            "323/323 [==============================] - 1s 3ms/step - loss: 8.7093 - mae: 1.9399 - val_loss: 12.8893 - val_mae: 2.2780\n",
            "Epoch 26/500\n",
            "323/323 [==============================] - 1s 2ms/step - loss: 8.3614 - mae: 1.9504 - val_loss: 18.7110 - val_mae: 2.7102\n",
            "Epoch 27/500\n",
            "323/323 [==============================] - 1s 2ms/step - loss: 8.3332 - mae: 1.9120 - val_loss: 14.5430 - val_mae: 2.2438\n",
            "Epoch 28/500\n",
            "323/323 [==============================] - 1s 2ms/step - loss: 8.3759 - mae: 1.9310 - val_loss: 13.4524 - val_mae: 2.3348\n",
            "Epoch 29/500\n",
            "323/323 [==============================] - 1s 3ms/step - loss: 8.4819 - mae: 1.8883 - val_loss: 14.5002 - val_mae: 2.5451\n",
            "Epoch 30/500\n",
            "323/323 [==============================] - 1s 3ms/step - loss: 7.9240 - mae: 1.8436 - val_loss: 13.7762 - val_mae: 2.3186\n",
            "Epoch 31/500\n",
            "323/323 [==============================] - 2s 7ms/step - loss: 8.3052 - mae: 1.9297 - val_loss: 14.2136 - val_mae: 2.2476\n",
            "Epoch 32/500\n",
            "323/323 [==============================] - 1s 4ms/step - loss: 8.2071 - mae: 1.8824 - val_loss: 12.1979 - val_mae: 2.3320\n",
            "Epoch 33/500\n",
            "323/323 [==============================] - 1s 2ms/step - loss: 7.4921 - mae: 1.8168 - val_loss: 12.1438 - val_mae: 2.1775\n",
            "Epoch 34/500\n",
            "323/323 [==============================] - 1s 2ms/step - loss: 7.9174 - mae: 1.8601 - val_loss: 14.0292 - val_mae: 2.3592\n",
            "Epoch 35/500\n",
            "323/323 [==============================] - 1s 3ms/step - loss: 7.6800 - mae: 1.8476 - val_loss: 14.0036 - val_mae: 2.3526\n",
            "Epoch 36/500\n",
            "323/323 [==============================] - 1s 3ms/step - loss: 7.9147 - mae: 1.8491 - val_loss: 13.4110 - val_mae: 2.2694\n",
            "Epoch 37/500\n",
            "323/323 [==============================] - 1s 2ms/step - loss: 7.2217 - mae: 1.8531 - val_loss: 11.3967 - val_mae: 2.1370\n",
            "Epoch 38/500\n",
            "323/323 [==============================] - 1s 3ms/step - loss: 7.5058 - mae: 1.8461 - val_loss: 12.1441 - val_mae: 2.1282\n",
            "Epoch 39/500\n",
            "323/323 [==============================] - 1s 2ms/step - loss: 7.0732 - mae: 1.7869 - val_loss: 11.3323 - val_mae: 2.1034\n",
            "Epoch 40/500\n",
            "323/323 [==============================] - 1s 3ms/step - loss: 7.1871 - mae: 1.8413 - val_loss: 12.9329 - val_mae: 2.3055\n",
            "Epoch 41/500\n",
            "323/323 [==============================] - 1s 3ms/step - loss: 7.1696 - mae: 1.7577 - val_loss: 10.5019 - val_mae: 2.0731\n",
            "Epoch 42/500\n",
            "323/323 [==============================] - 2s 6ms/step - loss: 6.8907 - mae: 1.7682 - val_loss: 11.6218 - val_mae: 2.0754\n",
            "Epoch 43/500\n",
            "323/323 [==============================] - 2s 5ms/step - loss: 6.5047 - mae: 1.7514 - val_loss: 12.4042 - val_mae: 2.2166\n",
            "Epoch 44/500\n",
            "323/323 [==============================] - 1s 4ms/step - loss: 6.7246 - mae: 1.7468 - val_loss: 11.1104 - val_mae: 2.1839\n",
            "Epoch 45/500\n",
            "323/323 [==============================] - 1s 2ms/step - loss: 6.6911 - mae: 1.7143 - val_loss: 12.1295 - val_mae: 2.1785\n",
            "Epoch 46/500\n",
            "323/323 [==============================] - 1s 2ms/step - loss: 6.7995 - mae: 1.7450 - val_loss: 12.2204 - val_mae: 2.4867\n",
            "Epoch 47/500\n",
            "323/323 [==============================] - 1s 3ms/step - loss: 6.7583 - mae: 1.7113 - val_loss: 12.9738 - val_mae: 2.3079\n",
            "Epoch 48/500\n",
            "323/323 [==============================] - 1s 3ms/step - loss: 6.6649 - mae: 1.6873 - val_loss: 10.5142 - val_mae: 2.1301\n",
            "Epoch 49/500\n",
            "323/323 [==============================] - 1s 2ms/step - loss: 6.2069 - mae: 1.6841 - val_loss: 11.5434 - val_mae: 2.2249\n",
            "Epoch 50/500\n",
            "323/323 [==============================] - 2s 5ms/step - loss: 6.1861 - mae: 1.6767 - val_loss: 12.0672 - val_mae: 2.4924\n",
            "Epoch 51/500\n",
            "323/323 [==============================] - 1s 3ms/step - loss: 6.2641 - mae: 1.6997 - val_loss: 10.7565 - val_mae: 2.1297\n",
            "Epoch 52/500\n",
            "323/323 [==============================] - 1s 3ms/step - loss: 6.2707 - mae: 1.6786 - val_loss: 10.6439 - val_mae: 2.1737\n",
            "Epoch 53/500\n",
            "323/323 [==============================] - 1s 2ms/step - loss: 6.1960 - mae: 1.6698 - val_loss: 10.8696 - val_mae: 2.2556\n",
            "Epoch 54/500\n",
            "323/323 [==============================] - 1s 2ms/step - loss: 5.8661 - mae: 1.6244 - val_loss: 11.1556 - val_mae: 2.1746\n",
            "Epoch 55/500\n",
            "323/323 [==============================] - 1s 2ms/step - loss: 5.7125 - mae: 1.6746 - val_loss: 10.6487 - val_mae: 2.1865\n",
            "Epoch 56/500\n",
            "323/323 [==============================] - 1s 3ms/step - loss: 6.1395 - mae: 1.6687 - val_loss: 10.2453 - val_mae: 2.1085\n",
            "Epoch 57/500\n",
            "323/323 [==============================] - 1s 3ms/step - loss: 6.1164 - mae: 1.6412 - val_loss: 10.6852 - val_mae: 2.1629\n",
            "Epoch 58/500\n",
            "323/323 [==============================] - 1s 2ms/step - loss: 5.7160 - mae: 1.6590 - val_loss: 9.9410 - val_mae: 2.1071\n",
            "Epoch 59/500\n",
            "323/323 [==============================] - 1s 2ms/step - loss: 5.6812 - mae: 1.6314 - val_loss: 10.2849 - val_mae: 2.0816\n",
            "Epoch 60/500\n",
            "323/323 [==============================] - 1s 2ms/step - loss: 5.6204 - mae: 1.6187 - val_loss: 9.9628 - val_mae: 2.0502\n",
            "Epoch 61/500\n",
            "323/323 [==============================] - 1s 2ms/step - loss: 5.4375 - mae: 1.5588 - val_loss: 9.5609 - val_mae: 2.0652\n",
            "Epoch 62/500\n",
            "323/323 [==============================] - 1s 2ms/step - loss: 5.2325 - mae: 1.5807 - val_loss: 13.4492 - val_mae: 2.4194\n",
            "Epoch 63/500\n",
            "323/323 [==============================] - 1s 2ms/step - loss: 5.3781 - mae: 1.6293 - val_loss: 10.8357 - val_mae: 2.1621\n",
            "Epoch 64/500\n",
            "323/323 [==============================] - 1s 2ms/step - loss: 5.2292 - mae: 1.5534 - val_loss: 9.1155 - val_mae: 2.0984\n",
            "Epoch 65/500\n",
            "323/323 [==============================] - 1s 4ms/step - loss: 5.0675 - mae: 1.5223 - val_loss: 11.6645 - val_mae: 2.1737\n",
            "Epoch 66/500\n",
            "323/323 [==============================] - 1s 4ms/step - loss: 5.4373 - mae: 1.5075 - val_loss: 10.2352 - val_mae: 2.2488\n",
            "Epoch 67/500\n",
            "323/323 [==============================] - 1s 3ms/step - loss: 5.1326 - mae: 1.5471 - val_loss: 10.6815 - val_mae: 2.3023\n",
            "Epoch 68/500\n",
            "323/323 [==============================] - 1s 4ms/step - loss: 5.2301 - mae: 1.5308 - val_loss: 12.1423 - val_mae: 2.4712\n",
            "Epoch 69/500\n",
            "323/323 [==============================] - 2s 5ms/step - loss: 4.8484 - mae: 1.4411 - val_loss: 10.6035 - val_mae: 2.1663\n",
            "Epoch 70/500\n",
            "323/323 [==============================] - 2s 7ms/step - loss: 4.8858 - mae: 1.5449 - val_loss: 10.3742 - val_mae: 2.3206\n",
            "Epoch 71/500\n",
            "323/323 [==============================] - 1s 2ms/step - loss: 4.8624 - mae: 1.4692 - val_loss: 11.3484 - val_mae: 2.2257\n",
            "Epoch 72/500\n",
            "323/323 [==============================] - 1s 3ms/step - loss: 5.0622 - mae: 1.4988 - val_loss: 10.5352 - val_mae: 2.0922\n",
            "Epoch 73/500\n",
            "323/323 [==============================] - 1s 3ms/step - loss: 4.9618 - mae: 1.4603 - val_loss: 9.6797 - val_mae: 2.0335\n",
            "Epoch 74/500\n",
            "323/323 [==============================] - 1s 4ms/step - loss: 4.7953 - mae: 1.4236 - val_loss: 9.8005 - val_mae: 2.0743\n",
            "Epoch 75/500\n",
            "323/323 [==============================] - 1s 4ms/step - loss: 4.7664 - mae: 1.4813 - val_loss: 9.9029 - val_mae: 2.1826\n",
            "Epoch 76/500\n",
            "323/323 [==============================] - 1s 5ms/step - loss: 4.6181 - mae: 1.4340 - val_loss: 9.3543 - val_mae: 2.1361\n",
            "Epoch 77/500\n",
            "323/323 [==============================] - 1s 4ms/step - loss: 4.5434 - mae: 1.4271 - val_loss: 9.7836 - val_mae: 2.1469\n",
            "Epoch 78/500\n",
            "323/323 [==============================] - 1s 4ms/step - loss: 4.4897 - mae: 1.4039 - val_loss: 9.5439 - val_mae: 2.1472\n",
            "Epoch 79/500\n",
            "323/323 [==============================] - 1s 4ms/step - loss: 4.5282 - mae: 1.4623 - val_loss: 9.7532 - val_mae: 2.0173\n",
            "Epoch 80/500\n",
            "323/323 [==============================] - 2s 5ms/step - loss: 4.7588 - mae: 1.4067 - val_loss: 9.5479 - val_mae: 2.1935\n",
            "Epoch 81/500\n",
            "323/323 [==============================] - 1s 5ms/step - loss: 4.4568 - mae: 1.4348 - val_loss: 10.9669 - val_mae: 2.4224\n",
            "Epoch 82/500\n",
            "323/323 [==============================] - 1s 3ms/step - loss: 4.3350 - mae: 1.4374 - val_loss: 9.8730 - val_mae: 2.1410\n",
            "Epoch 83/500\n",
            "323/323 [==============================] - 1s 4ms/step - loss: 4.1975 - mae: 1.4239 - val_loss: 10.0713 - val_mae: 2.2286\n",
            "Epoch 84/500\n",
            "323/323 [==============================] - 1s 3ms/step - loss: 4.2789 - mae: 1.3380 - val_loss: 10.7574 - val_mae: 2.2900\n",
            "Epoch 85/500\n",
            "323/323 [==============================] - 1s 3ms/step - loss: 4.1436 - mae: 1.3536 - val_loss: 11.1063 - val_mae: 2.1967\n",
            "Epoch 86/500\n",
            "323/323 [==============================] - 1s 3ms/step - loss: 4.1752 - mae: 1.3976 - val_loss: 13.1376 - val_mae: 2.6275\n",
            "Epoch 87/500\n",
            "323/323 [==============================] - 1s 4ms/step - loss: 4.3237 - mae: 1.4001 - val_loss: 10.9098 - val_mae: 2.3218\n",
            "Epoch 88/500\n",
            "323/323 [==============================] - 1s 3ms/step - loss: 4.4845 - mae: 1.4132 - val_loss: 10.7335 - val_mae: 2.2277\n",
            "Epoch 89/500\n",
            "323/323 [==============================] - 1s 3ms/step - loss: 4.4429 - mae: 1.4150 - val_loss: 10.0851 - val_mae: 2.2477\n",
            "Epoch 90/500\n",
            "323/323 [==============================] - 1s 2ms/step - loss: 3.9443 - mae: 1.3428 - val_loss: 13.2122 - val_mae: 2.4811\n",
            "Epoch 91/500\n",
            "323/323 [==============================] - 2s 5ms/step - loss: 4.2168 - mae: 1.3387 - val_loss: 9.9402 - val_mae: 2.1655\n",
            "Epoch 92/500\n",
            "323/323 [==============================] - 2s 5ms/step - loss: 3.9964 - mae: 1.3665 - val_loss: 10.6546 - val_mae: 2.3488\n",
            "Epoch 93/500\n",
            "323/323 [==============================] - 1s 2ms/step - loss: 3.7809 - mae: 1.3022 - val_loss: 11.7941 - val_mae: 2.5685\n",
            "Epoch 94/500\n",
            "323/323 [==============================] - 1s 3ms/step - loss: 4.4310 - mae: 1.3835 - val_loss: 9.6913 - val_mae: 2.1247\n",
            "Epoch 95/500\n",
            "323/323 [==============================] - 1s 3ms/step - loss: 3.9050 - mae: 1.3083 - val_loss: 9.6547 - val_mae: 2.1434\n",
            "Epoch 96/500\n",
            "323/323 [==============================] - 1s 5ms/step - loss: 3.9060 - mae: 1.3070 - val_loss: 10.3079 - val_mae: 2.3278\n",
            "Epoch 97/500\n",
            "323/323 [==============================] - 1s 4ms/step - loss: 3.9785 - mae: 1.3285 - val_loss: 9.6704 - val_mae: 2.1700\n",
            "Epoch 98/500\n",
            "323/323 [==============================] - 1s 3ms/step - loss: 3.9926 - mae: 1.2789 - val_loss: 9.3864 - val_mae: 2.1293\n",
            "Epoch 99/500\n",
            "323/323 [==============================] - 1s 4ms/step - loss: 3.8909 - mae: 1.3339 - val_loss: 10.0247 - val_mae: 2.1674\n",
            "Epoch 100/500\n",
            "323/323 [==============================] - 1s 3ms/step - loss: 3.7332 - mae: 1.2544 - val_loss: 10.7424 - val_mae: 2.2866\n",
            "Epoch 101/500\n",
            "323/323 [==============================] - 1s 3ms/step - loss: 3.9275 - mae: 1.3195 - val_loss: 9.5040 - val_mae: 2.1287\n",
            "Epoch 102/500\n",
            "323/323 [==============================] - 1s 4ms/step - loss: 3.6123 - mae: 1.2547 - val_loss: 10.8137 - val_mae: 2.2770\n",
            "Epoch 103/500\n",
            "323/323 [==============================] - 2s 6ms/step - loss: 3.6952 - mae: 1.2917 - val_loss: 10.2788 - val_mae: 2.0993\n",
            "Epoch 104/500\n",
            "323/323 [==============================] - 1s 3ms/step - loss: 3.3643 - mae: 1.2069 - val_loss: 9.8008 - val_mae: 2.2248\n",
            "Epoch 105/500\n",
            "323/323 [==============================] - 1s 3ms/step - loss: 3.7790 - mae: 1.2904 - val_loss: 10.4145 - val_mae: 2.2816\n",
            "Epoch 106/500\n",
            "323/323 [==============================] - 1s 3ms/step - loss: 3.5697 - mae: 1.2767 - val_loss: 9.8032 - val_mae: 2.1917\n",
            "Epoch 107/500\n",
            "323/323 [==============================] - 1s 3ms/step - loss: 3.2469 - mae: 1.2406 - val_loss: 11.4745 - val_mae: 2.3461\n",
            "Epoch 108/500\n",
            "323/323 [==============================] - 1s 2ms/step - loss: 3.6993 - mae: 1.2511 - val_loss: 11.3688 - val_mae: 2.2507\n",
            "Epoch 109/500\n",
            "323/323 [==============================] - 1s 2ms/step - loss: 3.9255 - mae: 1.2557 - val_loss: 10.4607 - val_mae: 2.2191\n",
            "Epoch 110/500\n",
            "323/323 [==============================] - 1s 2ms/step - loss: 3.8788 - mae: 1.2505 - val_loss: 10.9996 - val_mae: 2.3963\n",
            "Epoch 111/500\n",
            "323/323 [==============================] - 1s 2ms/step - loss: 3.7154 - mae: 1.2555 - val_loss: 10.3239 - val_mae: 2.3020\n",
            "Epoch 112/500\n",
            "323/323 [==============================] - 1s 2ms/step - loss: 3.3675 - mae: 1.2084 - val_loss: 10.5805 - val_mae: 2.1921\n",
            "Epoch 113/500\n",
            "323/323 [==============================] - 1s 2ms/step - loss: 3.2137 - mae: 1.2042 - val_loss: 12.8888 - val_mae: 2.5451\n",
            "Epoch 114/500\n",
            "323/323 [==============================] - 1s 3ms/step - loss: 3.3094 - mae: 1.2450 - val_loss: 9.9852 - val_mae: 2.2160\n",
            "Epoch 115/500\n",
            "323/323 [==============================] - 1s 2ms/step - loss: 3.5892 - mae: 1.2422 - val_loss: 10.2474 - val_mae: 2.2182\n",
            "Epoch 116/500\n",
            "323/323 [==============================] - 1s 4ms/step - loss: 3.3712 - mae: 1.2437 - val_loss: 10.9569 - val_mae: 2.3841\n",
            "Epoch 117/500\n",
            "323/323 [==============================] - 1s 4ms/step - loss: 3.3357 - mae: 1.2060 - val_loss: 12.3932 - val_mae: 2.5400\n",
            "Epoch 118/500\n",
            "323/323 [==============================] - 1s 4ms/step - loss: 3.4787 - mae: 1.2474 - val_loss: 10.0547 - val_mae: 2.1812\n",
            "Epoch 119/500\n",
            "323/323 [==============================] - 1s 2ms/step - loss: 3.0360 - mae: 1.1950 - val_loss: 11.4150 - val_mae: 2.3732\n",
            "Epoch 120/500\n",
            "323/323 [==============================] - 1s 4ms/step - loss: 3.4107 - mae: 1.2049 - val_loss: 9.8049 - val_mae: 2.1862\n",
            "Epoch 121/500\n",
            "323/323 [==============================] - 1s 2ms/step - loss: 3.0165 - mae: 1.1458 - val_loss: 13.6194 - val_mae: 2.6927\n",
            "Epoch 122/500\n",
            "323/323 [==============================] - 1s 3ms/step - loss: 3.1974 - mae: 1.2380 - val_loss: 11.1527 - val_mae: 2.3550\n",
            "Epoch 123/500\n",
            "323/323 [==============================] - 1s 3ms/step - loss: 3.2350 - mae: 1.1752 - val_loss: 9.9968 - val_mae: 2.2628\n",
            "Epoch 124/500\n",
            "323/323 [==============================] - 1s 2ms/step - loss: 3.2001 - mae: 1.1831 - val_loss: 10.7831 - val_mae: 2.2174\n",
            "Epoch 125/500\n",
            "323/323 [==============================] - 1s 2ms/step - loss: 3.2750 - mae: 1.1672 - val_loss: 11.5766 - val_mae: 2.3251\n",
            "Epoch 126/500\n",
            "323/323 [==============================] - 1s 2ms/step - loss: 3.0631 - mae: 1.1619 - val_loss: 10.9949 - val_mae: 2.1999\n",
            "Epoch 127/500\n",
            "323/323 [==============================] - 1s 2ms/step - loss: 3.3106 - mae: 1.1690 - val_loss: 10.8650 - val_mae: 2.3920\n",
            "Epoch 128/500\n",
            "323/323 [==============================] - 1s 2ms/step - loss: 3.2648 - mae: 1.1935 - val_loss: 13.7149 - val_mae: 2.7183\n",
            "Epoch 129/500\n",
            "323/323 [==============================] - 1s 2ms/step - loss: 3.1215 - mae: 1.1449 - val_loss: 10.3271 - val_mae: 2.3110\n",
            "Epoch 130/500\n",
            "323/323 [==============================] - 1s 2ms/step - loss: 2.8661 - mae: 1.1821 - val_loss: 10.1331 - val_mae: 2.3089\n",
            "Epoch 131/500\n",
            "323/323 [==============================] - 1s 4ms/step - loss: 3.0130 - mae: 1.1639 - val_loss: 11.5570 - val_mae: 2.4416\n",
            "Epoch 132/500\n",
            "323/323 [==============================] - 1s 5ms/step - loss: 2.8033 - mae: 1.1580 - val_loss: 11.3586 - val_mae: 2.5049\n",
            "Epoch 133/500\n",
            "323/323 [==============================] - 2s 7ms/step - loss: 2.8132 - mae: 1.1680 - val_loss: 10.4586 - val_mae: 2.2568\n",
            "Epoch 134/500\n",
            "323/323 [==============================] - 2s 6ms/step - loss: 2.9421 - mae: 1.1451 - val_loss: 10.2410 - val_mae: 2.2749\n",
            "Epoch 135/500\n",
            "323/323 [==============================] - 1s 3ms/step - loss: 2.9147 - mae: 1.1904 - val_loss: 11.1602 - val_mae: 2.4076\n",
            "Epoch 136/500\n",
            "323/323 [==============================] - 1s 2ms/step - loss: 2.8546 - mae: 1.1359 - val_loss: 9.8259 - val_mae: 2.1832\n",
            "Epoch 137/500\n",
            "323/323 [==============================] - 1s 2ms/step - loss: 2.7861 - mae: 1.1196 - val_loss: 12.2063 - val_mae: 2.4837\n",
            "Epoch 138/500\n",
            "323/323 [==============================] - 1s 3ms/step - loss: 2.7471 - mae: 1.1685 - val_loss: 10.1049 - val_mae: 2.3010\n",
            "Epoch 139/500\n",
            "323/323 [==============================] - 1s 2ms/step - loss: 2.9895 - mae: 1.1519 - val_loss: 10.8503 - val_mae: 2.3598\n",
            "Epoch 140/500\n",
            "323/323 [==============================] - 1s 2ms/step - loss: 2.8922 - mae: 1.1097 - val_loss: 9.8226 - val_mae: 2.1398\n",
            "Epoch 141/500\n",
            "323/323 [==============================] - 1s 3ms/step - loss: 2.8709 - mae: 1.1083 - val_loss: 10.4751 - val_mae: 2.1826\n",
            "Epoch 142/500\n",
            "323/323 [==============================] - 1s 3ms/step - loss: 2.6103 - mae: 1.1279 - val_loss: 10.6960 - val_mae: 2.3177\n",
            "Epoch 143/500\n",
            "323/323 [==============================] - 1s 3ms/step - loss: 2.6916 - mae: 1.1652 - val_loss: 10.3422 - val_mae: 2.2892\n",
            "Epoch 144/500\n",
            "323/323 [==============================] - 1s 4ms/step - loss: 2.5372 - mae: 1.1256 - val_loss: 11.0658 - val_mae: 2.3559\n",
            "Epoch 145/500\n",
            "323/323 [==============================] - 1s 4ms/step - loss: 2.7780 - mae: 1.1291 - val_loss: 11.2341 - val_mae: 2.4176\n",
            "Epoch 146/500\n",
            "323/323 [==============================] - 1s 4ms/step - loss: 2.5268 - mae: 1.0812 - val_loss: 11.1788 - val_mae: 2.2975\n",
            "Epoch 147/500\n",
            "323/323 [==============================] - 1s 2ms/step - loss: 2.8971 - mae: 1.1431 - val_loss: 10.7238 - val_mae: 2.3423\n",
            "Epoch 148/500\n",
            "323/323 [==============================] - 1s 3ms/step - loss: 2.4325 - mae: 1.0825 - val_loss: 10.7172 - val_mae: 2.1782\n",
            "Epoch 149/500\n",
            "323/323 [==============================] - 1s 2ms/step - loss: 2.6476 - mae: 1.0928 - val_loss: 11.3823 - val_mae: 2.2990\n",
            "Epoch 150/500\n",
            "323/323 [==============================] - 1s 2ms/step - loss: 2.4606 - mae: 1.0857 - val_loss: 10.2651 - val_mae: 2.2902\n",
            "Epoch 151/500\n",
            "323/323 [==============================] - 1s 2ms/step - loss: 2.7303 - mae: 1.1161 - val_loss: 11.9360 - val_mae: 2.4960\n",
            "Epoch 152/500\n",
            "323/323 [==============================] - 1s 3ms/step - loss: 2.6098 - mae: 1.1178 - val_loss: 11.7253 - val_mae: 2.4934\n",
            "Epoch 153/500\n",
            "323/323 [==============================] - 1s 3ms/step - loss: 2.3890 - mae: 1.0690 - val_loss: 10.5152 - val_mae: 2.1781\n",
            "Epoch 154/500\n",
            "323/323 [==============================] - 1s 2ms/step - loss: 2.6843 - mae: 1.1077 - val_loss: 10.6809 - val_mae: 2.2903\n",
            "Epoch 155/500\n",
            "323/323 [==============================] - 1s 2ms/step - loss: 2.5026 - mae: 1.0953 - val_loss: 10.9388 - val_mae: 2.3001\n",
            "Epoch 156/500\n",
            "323/323 [==============================] - 1s 2ms/step - loss: 2.3134 - mae: 1.0813 - val_loss: 10.8883 - val_mae: 2.2877\n",
            "Epoch 157/500\n",
            "323/323 [==============================] - 1s 3ms/step - loss: 2.3963 - mae: 1.0850 - val_loss: 12.0228 - val_mae: 2.5595\n",
            "Epoch 158/500\n",
            "323/323 [==============================] - 1s 4ms/step - loss: 2.5652 - mae: 1.1135 - val_loss: 12.7010 - val_mae: 2.5797\n",
            "Epoch 159/500\n",
            "323/323 [==============================] - 1s 4ms/step - loss: 2.6371 - mae: 1.1098 - val_loss: 11.3614 - val_mae: 2.2968\n",
            "Epoch 160/500\n",
            "323/323 [==============================] - 2s 5ms/step - loss: 2.2898 - mae: 1.0662 - val_loss: 10.2234 - val_mae: 2.2136\n",
            "Epoch 161/500\n",
            "323/323 [==============================] - 1s 4ms/step - loss: 2.3812 - mae: 1.0736 - val_loss: 10.4304 - val_mae: 2.2467\n",
            "Epoch 162/500\n",
            "323/323 [==============================] - 1s 3ms/step - loss: 2.4898 - mae: 1.0529 - val_loss: 11.7167 - val_mae: 2.3979\n",
            "Epoch 163/500\n",
            "323/323 [==============================] - 1s 2ms/step - loss: 2.3139 - mae: 1.0602 - val_loss: 10.1969 - val_mae: 2.1400\n",
            "Epoch 164/500\n",
            "323/323 [==============================] - 1s 2ms/step - loss: 2.3796 - mae: 1.0274 - val_loss: 12.0661 - val_mae: 2.5454\n",
            "Epoch 165/500\n",
            "323/323 [==============================] - 1s 2ms/step - loss: 2.5601 - mae: 1.0764 - val_loss: 11.1463 - val_mae: 2.3270\n",
            "Epoch 166/500\n",
            "323/323 [==============================] - 1s 2ms/step - loss: 2.3995 - mae: 1.0562 - val_loss: 11.0622 - val_mae: 2.4033\n",
            "Epoch 167/500\n",
            "323/323 [==============================] - 1s 3ms/step - loss: 2.2571 - mae: 1.0571 - val_loss: 12.4394 - val_mae: 2.4063\n",
            "Epoch 168/500\n",
            "323/323 [==============================] - 1s 3ms/step - loss: 2.2290 - mae: 1.0148 - val_loss: 12.3152 - val_mae: 2.5693\n",
            "Epoch 169/500\n",
            "323/323 [==============================] - 1s 2ms/step - loss: 2.3332 - mae: 1.0727 - val_loss: 10.1430 - val_mae: 2.1891\n",
            "Epoch 170/500\n",
            "323/323 [==============================] - 1s 2ms/step - loss: 2.3224 - mae: 1.0772 - val_loss: 11.1693 - val_mae: 2.3117\n",
            "Epoch 171/500\n",
            "323/323 [==============================] - 1s 2ms/step - loss: 2.3120 - mae: 1.0581 - val_loss: 11.4526 - val_mae: 2.4888\n",
            "Epoch 172/500\n",
            "323/323 [==============================] - 1s 2ms/step - loss: 2.5295 - mae: 1.0957 - val_loss: 11.3556 - val_mae: 2.3575\n",
            "Epoch 173/500\n",
            "323/323 [==============================] - 1s 3ms/step - loss: 2.2175 - mae: 1.0470 - val_loss: 12.0341 - val_mae: 2.4277\n",
            "Epoch 174/500\n",
            "323/323 [==============================] - 1s 4ms/step - loss: 2.1274 - mae: 1.0668 - val_loss: 11.1208 - val_mae: 2.2885\n",
            "Epoch 175/500\n",
            "323/323 [==============================] - 2s 6ms/step - loss: 2.0101 - mae: 1.0207 - val_loss: 9.7240 - val_mae: 2.1607\n",
            "Epoch 176/500\n",
            "323/323 [==============================] - 1s 3ms/step - loss: 2.1359 - mae: 1.0152 - val_loss: 11.1791 - val_mae: 2.2945\n",
            "Epoch 177/500\n",
            "323/323 [==============================] - 1s 2ms/step - loss: 2.1175 - mae: 1.0237 - val_loss: 11.0552 - val_mae: 2.2410\n",
            "Epoch 178/500\n",
            "323/323 [==============================] - 1s 2ms/step - loss: 2.3396 - mae: 1.0479 - val_loss: 10.0010 - val_mae: 2.1898\n",
            "Epoch 179/500\n",
            "323/323 [==============================] - 1s 2ms/step - loss: 2.1659 - mae: 1.0327 - val_loss: 11.0547 - val_mae: 2.2085\n",
            "Epoch 180/500\n",
            "323/323 [==============================] - 1s 2ms/step - loss: 2.1376 - mae: 1.0069 - val_loss: 11.2312 - val_mae: 2.3426\n",
            "Epoch 181/500\n",
            "323/323 [==============================] - 1s 3ms/step - loss: 2.1451 - mae: 1.0301 - val_loss: 9.6114 - val_mae: 2.1239\n",
            "Epoch 182/500\n",
            "323/323 [==============================] - 1s 2ms/step - loss: 2.1522 - mae: 1.0141 - val_loss: 10.2633 - val_mae: 2.2018\n",
            "Epoch 183/500\n",
            "323/323 [==============================] - 1s 2ms/step - loss: 1.9916 - mae: 1.0131 - val_loss: 11.6164 - val_mae: 2.2889\n",
            "Epoch 184/500\n",
            "323/323 [==============================] - 1s 3ms/step - loss: 1.9577 - mae: 1.0001 - val_loss: 13.0752 - val_mae: 2.5370\n",
            "Epoch 185/500\n",
            "323/323 [==============================] - 1s 2ms/step - loss: 2.1060 - mae: 0.9966 - val_loss: 11.3979 - val_mae: 2.3984\n",
            "Epoch 186/500\n",
            "323/323 [==============================] - 2s 5ms/step - loss: 2.0440 - mae: 0.9962 - val_loss: 9.8958 - val_mae: 2.0822\n",
            "Epoch 187/500\n",
            "323/323 [==============================] - 1s 2ms/step - loss: 1.9983 - mae: 1.0086 - val_loss: 13.8723 - val_mae: 2.6380\n",
            "Epoch 188/500\n",
            "323/323 [==============================] - 1s 2ms/step - loss: 2.0873 - mae: 0.9951 - val_loss: 11.6106 - val_mae: 2.3307\n",
            "Epoch 189/500\n",
            "323/323 [==============================] - 1s 4ms/step - loss: 2.0350 - mae: 0.9957 - val_loss: 11.7273 - val_mae: 2.2796\n",
            "Epoch 190/500\n",
            "323/323 [==============================] - 1s 4ms/step - loss: 2.0251 - mae: 1.0189 - val_loss: 11.3146 - val_mae: 2.2075\n",
            "Epoch 191/500\n",
            "323/323 [==============================] - 1s 4ms/step - loss: 1.8981 - mae: 0.9937 - val_loss: 13.1301 - val_mae: 2.4283\n",
            "Epoch 192/500\n",
            "323/323 [==============================] - 1s 3ms/step - loss: 2.1078 - mae: 0.9897 - val_loss: 11.0041 - val_mae: 2.3048\n",
            "Epoch 193/500\n",
            "323/323 [==============================] - 1s 2ms/step - loss: 1.8973 - mae: 0.9728 - val_loss: 11.7622 - val_mae: 2.3629\n",
            "Epoch 194/500\n",
            "323/323 [==============================] - 1s 2ms/step - loss: 2.1175 - mae: 0.9982 - val_loss: 11.1533 - val_mae: 2.3358\n",
            "Epoch 195/500\n",
            "323/323 [==============================] - 1s 2ms/step - loss: 1.8796 - mae: 0.9631 - val_loss: 11.3827 - val_mae: 2.1970\n",
            "Epoch 196/500\n",
            "323/323 [==============================] - 1s 3ms/step - loss: 2.0204 - mae: 1.0137 - val_loss: 11.4617 - val_mae: 2.3106\n",
            "Epoch 197/500\n",
            "323/323 [==============================] - 1s 3ms/step - loss: 1.9127 - mae: 0.9895 - val_loss: 11.5945 - val_mae: 2.3651\n",
            "Epoch 198/500\n",
            "323/323 [==============================] - 1s 2ms/step - loss: 1.8963 - mae: 0.9646 - val_loss: 11.7800 - val_mae: 2.2532\n",
            "Epoch 199/500\n",
            "323/323 [==============================] - 1s 2ms/step - loss: 1.8526 - mae: 0.9874 - val_loss: 10.6219 - val_mae: 2.1889\n",
            "Epoch 200/500\n",
            "323/323 [==============================] - 1s 2ms/step - loss: 1.8686 - mae: 0.9621 - val_loss: 11.5038 - val_mae: 2.4218\n",
            "Epoch 201/500\n",
            "323/323 [==============================] - 1s 3ms/step - loss: 1.8510 - mae: 0.9655 - val_loss: 12.4869 - val_mae: 2.4198\n",
            "Epoch 202/500\n",
            "323/323 [==============================] - 1s 3ms/step - loss: 1.9351 - mae: 1.0102 - val_loss: 11.3864 - val_mae: 2.3733\n",
            "Epoch 203/500\n",
            "323/323 [==============================] - 1s 2ms/step - loss: 1.7568 - mae: 0.9648 - val_loss: 10.5868 - val_mae: 2.1428\n",
            "Epoch 204/500\n",
            "323/323 [==============================] - 1s 3ms/step - loss: 1.9258 - mae: 0.9877 - val_loss: 11.5180 - val_mae: 2.2969\n",
            "Epoch 205/500\n",
            "323/323 [==============================] - 1s 3ms/step - loss: 1.9175 - mae: 0.9897 - val_loss: 12.3483 - val_mae: 2.4544\n",
            "Epoch 206/500\n",
            "323/323 [==============================] - 1s 4ms/step - loss: 1.6396 - mae: 0.9190 - val_loss: 12.8735 - val_mae: 2.5824\n",
            "Epoch 207/500\n",
            "323/323 [==============================] - 1s 3ms/step - loss: 2.0877 - mae: 0.9861 - val_loss: 11.9006 - val_mae: 2.4360\n",
            "Epoch 208/500\n",
            "323/323 [==============================] - 1s 3ms/step - loss: 2.0117 - mae: 1.0036 - val_loss: 10.7793 - val_mae: 2.2327\n",
            "Epoch 209/500\n",
            "323/323 [==============================] - 1s 3ms/step - loss: 1.8535 - mae: 0.9852 - val_loss: 12.1094 - val_mae: 2.3885\n",
            "Epoch 210/500\n",
            "323/323 [==============================] - 1s 2ms/step - loss: 1.9064 - mae: 1.0155 - val_loss: 11.0584 - val_mae: 2.2805\n",
            "Epoch 211/500\n",
            "323/323 [==============================] - 1s 2ms/step - loss: 1.8189 - mae: 0.9626 - val_loss: 11.7369 - val_mae: 2.3525\n",
            "Epoch 212/500\n",
            "323/323 [==============================] - 1s 2ms/step - loss: 1.8115 - mae: 0.9605 - val_loss: 11.2588 - val_mae: 2.3170\n",
            "Epoch 213/500\n",
            "323/323 [==============================] - 1s 2ms/step - loss: 1.7490 - mae: 0.9526 - val_loss: 11.5771 - val_mae: 2.3655\n",
            "Epoch 214/500\n",
            "323/323 [==============================] - 1s 2ms/step - loss: 1.8405 - mae: 0.9623 - val_loss: 11.1158 - val_mae: 2.3314\n",
            "Epoch 215/500\n",
            "323/323 [==============================] - 1s 2ms/step - loss: 1.8923 - mae: 0.9649 - val_loss: 11.5361 - val_mae: 2.2942\n",
            "Epoch 216/500\n",
            "323/323 [==============================] - 1s 2ms/step - loss: 1.6029 - mae: 0.9498 - val_loss: 10.7292 - val_mae: 2.2836\n",
            "Epoch 217/500\n",
            "323/323 [==============================] - 1s 3ms/step - loss: 1.7979 - mae: 0.9676 - val_loss: 13.0049 - val_mae: 2.5291\n",
            "Epoch 218/500\n",
            "323/323 [==============================] - 1s 2ms/step - loss: 1.6532 - mae: 0.8954 - val_loss: 11.4517 - val_mae: 2.2656\n",
            "Epoch 219/500\n",
            "323/323 [==============================] - 1s 4ms/step - loss: 1.7699 - mae: 0.9194 - val_loss: 13.5107 - val_mae: 2.6165\n",
            "Epoch 220/500\n",
            "323/323 [==============================] - 1s 4ms/step - loss: 1.6401 - mae: 0.9707 - val_loss: 12.7233 - val_mae: 2.5038\n",
            "Epoch 221/500\n",
            "323/323 [==============================] - 1s 4ms/step - loss: 1.5981 - mae: 0.9362 - val_loss: 12.6707 - val_mae: 2.4392\n",
            "Epoch 222/500\n",
            "323/323 [==============================] - 1s 3ms/step - loss: 1.8498 - mae: 0.9906 - val_loss: 11.4668 - val_mae: 2.4157\n",
            "Epoch 223/500\n",
            "323/323 [==============================] - 1s 3ms/step - loss: 1.8438 - mae: 0.9863 - val_loss: 12.7309 - val_mae: 2.5297\n",
            "Epoch 224/500\n",
            "323/323 [==============================] - 2s 5ms/step - loss: 1.7779 - mae: 0.9597 - val_loss: 11.6931 - val_mae: 2.2890\n",
            "Epoch 225/500\n",
            "323/323 [==============================] - 1s 4ms/step - loss: 1.6971 - mae: 0.8910 - val_loss: 12.1167 - val_mae: 2.4993\n",
            "Epoch 226/500\n",
            "323/323 [==============================] - 1s 3ms/step - loss: 1.4766 - mae: 0.8916 - val_loss: 13.6496 - val_mae: 2.5547\n",
            "Epoch 227/500\n",
            "323/323 [==============================] - 1s 2ms/step - loss: 1.8755 - mae: 0.9424 - val_loss: 11.6266 - val_mae: 2.3817\n",
            "Epoch 228/500\n",
            "323/323 [==============================] - 1s 2ms/step - loss: 1.7428 - mae: 0.9292 - val_loss: 10.7336 - val_mae: 2.2979\n",
            "Epoch 229/500\n",
            "323/323 [==============================] - 1s 3ms/step - loss: 1.6803 - mae: 0.9217 - val_loss: 11.6651 - val_mae: 2.4225\n",
            "Epoch 230/500\n",
            "323/323 [==============================] - 1s 3ms/step - loss: 1.7278 - mae: 0.9553 - val_loss: 9.9214 - val_mae: 2.1524\n",
            "Epoch 231/500\n",
            "323/323 [==============================] - 1s 2ms/step - loss: 1.7434 - mae: 0.9107 - val_loss: 12.4585 - val_mae: 2.4587\n",
            "Epoch 232/500\n",
            "323/323 [==============================] - 1s 2ms/step - loss: 1.6928 - mae: 0.9349 - val_loss: 12.0630 - val_mae: 2.3639\n",
            "Epoch 233/500\n",
            "323/323 [==============================] - 1s 3ms/step - loss: 1.6345 - mae: 0.9119 - val_loss: 12.8081 - val_mae: 2.4362\n",
            "Epoch 234/500\n",
            "323/323 [==============================] - 1s 2ms/step - loss: 1.8524 - mae: 0.9507 - val_loss: 12.4480 - val_mae: 2.3201\n",
            "Epoch 235/500\n",
            "323/323 [==============================] - 1s 2ms/step - loss: 1.6146 - mae: 0.9339 - val_loss: 11.0609 - val_mae: 2.2363\n",
            "Epoch 236/500\n",
            "323/323 [==============================] - 1s 2ms/step - loss: 1.6728 - mae: 0.9358 - val_loss: 11.6029 - val_mae: 2.2144\n",
            "Epoch 237/500\n",
            "323/323 [==============================] - 1s 2ms/step - loss: 1.6893 - mae: 0.9323 - val_loss: 10.9833 - val_mae: 2.1478\n",
            "Epoch 238/500\n",
            "323/323 [==============================] - 1s 3ms/step - loss: 1.7858 - mae: 0.9275 - val_loss: 12.6105 - val_mae: 2.3968\n",
            "Epoch 239/500\n",
            "323/323 [==============================] - 1s 2ms/step - loss: 1.6054 - mae: 0.9312 - val_loss: 12.4893 - val_mae: 2.4621\n",
            "Epoch 240/500\n",
            "323/323 [==============================] - 1s 2ms/step - loss: 1.5556 - mae: 0.8968 - val_loss: 16.2156 - val_mae: 2.7503\n",
            "Epoch 241/500\n",
            "323/323 [==============================] - 1s 2ms/step - loss: 1.6037 - mae: 0.9159 - val_loss: 12.2345 - val_mae: 2.3499\n",
            "Epoch 242/500\n",
            "323/323 [==============================] - 1s 2ms/step - loss: 1.7024 - mae: 0.9123 - val_loss: 12.9645 - val_mae: 2.5512\n",
            "Epoch 243/500\n",
            "323/323 [==============================] - 1s 3ms/step - loss: 1.7290 - mae: 0.9123 - val_loss: 11.9475 - val_mae: 2.4151\n",
            "Epoch 244/500\n",
            "323/323 [==============================] - 1s 2ms/step - loss: 1.6738 - mae: 0.9267 - val_loss: 11.7544 - val_mae: 2.4605\n",
            "Epoch 245/500\n",
            "323/323 [==============================] - 1s 3ms/step - loss: 1.6430 - mae: 0.9443 - val_loss: 12.3064 - val_mae: 2.4299\n",
            "Epoch 246/500\n",
            "323/323 [==============================] - 1s 4ms/step - loss: 1.5292 - mae: 0.8954 - val_loss: 12.3145 - val_mae: 2.3392\n",
            "Epoch 247/500\n",
            "323/323 [==============================] - 3s 8ms/step - loss: 1.5319 - mae: 0.8762 - val_loss: 13.6996 - val_mae: 2.5032\n",
            "Epoch 248/500\n",
            "323/323 [==============================] - 1s 4ms/step - loss: 1.6086 - mae: 0.9161 - val_loss: 13.2973 - val_mae: 2.4549\n",
            "Epoch 249/500\n",
            "323/323 [==============================] - 1s 2ms/step - loss: 1.5991 - mae: 0.9214 - val_loss: 12.7496 - val_mae: 2.3710\n",
            "Epoch 250/500\n",
            "323/323 [==============================] - 1s 3ms/step - loss: 1.6943 - mae: 0.9238 - val_loss: 12.0785 - val_mae: 2.3233\n",
            "Epoch 251/500\n",
            "323/323 [==============================] - 1s 3ms/step - loss: 1.6101 - mae: 0.9019 - val_loss: 12.8461 - val_mae: 2.4866\n",
            "Epoch 252/500\n",
            "323/323 [==============================] - 1s 2ms/step - loss: 1.5590 - mae: 0.9099 - val_loss: 12.8247 - val_mae: 2.5069\n",
            "Epoch 253/500\n",
            "323/323 [==============================] - 1s 2ms/step - loss: 1.6227 - mae: 0.9047 - val_loss: 12.6793 - val_mae: 2.4582\n",
            "Epoch 254/500\n",
            "323/323 [==============================] - 1s 2ms/step - loss: 1.5735 - mae: 0.9022 - val_loss: 13.1390 - val_mae: 2.4732\n",
            "Epoch 255/500\n",
            "323/323 [==============================] - 1s 3ms/step - loss: 1.5792 - mae: 0.9284 - val_loss: 11.5530 - val_mae: 2.2463\n",
            "Epoch 256/500\n",
            "323/323 [==============================] - 1s 2ms/step - loss: 1.5498 - mae: 0.9200 - val_loss: 12.8883 - val_mae: 2.4508\n",
            "Epoch 257/500\n",
            "323/323 [==============================] - 1s 2ms/step - loss: 1.5428 - mae: 0.8991 - val_loss: 11.8834 - val_mae: 2.3188\n",
            "Epoch 258/500\n",
            "323/323 [==============================] - 1s 2ms/step - loss: 1.5784 - mae: 0.9052 - val_loss: 11.2063 - val_mae: 2.3208\n",
            "Epoch 259/500\n",
            "323/323 [==============================] - 1s 2ms/step - loss: 1.6371 - mae: 0.9130 - val_loss: 11.7465 - val_mae: 2.4003\n",
            "Epoch 260/500\n",
            "323/323 [==============================] - 1s 3ms/step - loss: 1.4544 - mae: 0.8417 - val_loss: 13.6662 - val_mae: 2.6029\n",
            "Epoch 261/500\n",
            "323/323 [==============================] - 1s 4ms/step - loss: 1.5636 - mae: 0.8807 - val_loss: 12.8198 - val_mae: 2.4417\n",
            "Epoch 262/500\n",
            "323/323 [==============================] - 1s 4ms/step - loss: 1.6459 - mae: 0.9253 - val_loss: 11.7911 - val_mae: 2.3528\n",
            "Epoch 263/500\n",
            "323/323 [==============================] - 1s 4ms/step - loss: 1.5117 - mae: 0.8892 - val_loss: 13.0495 - val_mae: 2.5130\n",
            "Epoch 264/500\n",
            "323/323 [==============================] - 1s 2ms/step - loss: 1.5652 - mae: 0.9052 - val_loss: 11.6051 - val_mae: 2.3641\n",
            "Epoch 265/500\n",
            "323/323 [==============================] - 1s 2ms/step - loss: 1.5097 - mae: 0.9123 - val_loss: 13.3958 - val_mae: 2.6281\n",
            "Epoch 266/500\n",
            "323/323 [==============================] - 1s 2ms/step - loss: 1.4421 - mae: 0.8895 - val_loss: 11.4203 - val_mae: 2.2240\n",
            "Epoch 267/500\n",
            "323/323 [==============================] - 1s 2ms/step - loss: 1.5032 - mae: 0.8849 - val_loss: 12.1874 - val_mae: 2.4267\n",
            "Epoch 268/500\n",
            "323/323 [==============================] - 1s 3ms/step - loss: 1.5274 - mae: 0.8772 - val_loss: 11.9705 - val_mae: 2.5087\n",
            "Epoch 269/500\n",
            "323/323 [==============================] - 2s 5ms/step - loss: 1.5107 - mae: 0.9258 - val_loss: 12.2089 - val_mae: 2.3468\n",
            "Epoch 270/500\n",
            "323/323 [==============================] - 1s 3ms/step - loss: 1.4122 - mae: 0.8638 - val_loss: 11.2117 - val_mae: 2.3744\n",
            "Epoch 271/500\n",
            "323/323 [==============================] - 1s 3ms/step - loss: 1.4071 - mae: 0.8663 - val_loss: 12.1350 - val_mae: 2.3889\n",
            "Epoch 272/500\n",
            "323/323 [==============================] - 1s 4ms/step - loss: 1.5199 - mae: 0.8990 - val_loss: 11.5327 - val_mae: 2.3990\n",
            "Epoch 273/500\n",
            "323/323 [==============================] - 1s 3ms/step - loss: 1.4289 - mae: 0.8660 - val_loss: 11.6457 - val_mae: 2.4157\n",
            "Epoch 274/500\n",
            "323/323 [==============================] - 1s 3ms/step - loss: 1.5322 - mae: 0.9116 - val_loss: 13.0721 - val_mae: 2.5022\n",
            "Epoch 275/500\n",
            "323/323 [==============================] - 1s 4ms/step - loss: 1.4029 - mae: 0.8293 - val_loss: 10.3670 - val_mae: 2.2075\n",
            "Epoch 276/500\n",
            "323/323 [==============================] - 1s 4ms/step - loss: 1.3123 - mae: 0.8487 - val_loss: 11.1087 - val_mae: 2.4114\n",
            "Epoch 277/500\n",
            "323/323 [==============================] - 1s 3ms/step - loss: 1.6160 - mae: 0.9025 - val_loss: 11.0050 - val_mae: 2.2432\n",
            "Epoch 278/500\n",
            "323/323 [==============================] - 1s 3ms/step - loss: 1.4790 - mae: 0.8730 - val_loss: 12.7179 - val_mae: 2.5288\n",
            "Epoch 279/500\n",
            "323/323 [==============================] - 1s 3ms/step - loss: 1.4399 - mae: 0.8472 - val_loss: 11.6838 - val_mae: 2.4251\n",
            "Epoch 280/500\n",
            "323/323 [==============================] - 1s 2ms/step - loss: 1.4994 - mae: 0.8721 - val_loss: 13.7243 - val_mae: 2.5821\n",
            "Epoch 281/500\n",
            "323/323 [==============================] - 1s 3ms/step - loss: 1.4045 - mae: 0.8586 - val_loss: 10.5588 - val_mae: 2.3243\n",
            "Epoch 282/500\n",
            "323/323 [==============================] - 1s 2ms/step - loss: 1.5221 - mae: 0.8982 - val_loss: 12.0565 - val_mae: 2.5149\n",
            "Epoch 283/500\n",
            "323/323 [==============================] - 1s 2ms/step - loss: 1.4083 - mae: 0.8588 - val_loss: 10.5161 - val_mae: 2.4145\n",
            "Epoch 284/500\n",
            "323/323 [==============================] - 1s 2ms/step - loss: 1.3652 - mae: 0.8522 - val_loss: 11.8858 - val_mae: 2.4216\n",
            "Epoch 285/500\n",
            "323/323 [==============================] - 1s 2ms/step - loss: 1.4826 - mae: 0.8646 - val_loss: 12.0837 - val_mae: 2.5138\n",
            "Epoch 286/500\n",
            "323/323 [==============================] - 1s 3ms/step - loss: 1.2870 - mae: 0.8252 - val_loss: 11.2889 - val_mae: 2.5042\n",
            "Epoch 287/500\n",
            "323/323 [==============================] - 1s 2ms/step - loss: 1.5002 - mae: 0.8321 - val_loss: 11.8307 - val_mae: 2.3441\n",
            "Epoch 288/500\n",
            "323/323 [==============================] - 1s 4ms/step - loss: 1.3549 - mae: 0.8494 - val_loss: 11.5845 - val_mae: 2.4178\n",
            "Epoch 289/500\n",
            "323/323 [==============================] - 1s 3ms/step - loss: 1.5296 - mae: 0.8620 - val_loss: 12.1768 - val_mae: 2.4243\n",
            "Epoch 290/500\n",
            "323/323 [==============================] - 2s 5ms/step - loss: 1.4209 - mae: 0.8296 - val_loss: 14.6255 - val_mae: 2.5376\n",
            "Epoch 291/500\n",
            "323/323 [==============================] - 4s 12ms/step - loss: 1.5076 - mae: 0.8731 - val_loss: 12.2184 - val_mae: 2.4268\n",
            "Epoch 292/500\n",
            "323/323 [==============================] - 1s 4ms/step - loss: 1.4078 - mae: 0.8351 - val_loss: 12.0363 - val_mae: 2.4117\n",
            "Epoch 293/500\n",
            "323/323 [==============================] - 1s 3ms/step - loss: 1.4240 - mae: 0.8679 - val_loss: 12.2767 - val_mae: 2.3835\n",
            "Epoch 294/500\n",
            "323/323 [==============================] - 1s 4ms/step - loss: 1.3712 - mae: 0.8725 - val_loss: 11.3718 - val_mae: 2.2372\n",
            "Epoch 295/500\n",
            "323/323 [==============================] - 1s 4ms/step - loss: 1.5069 - mae: 0.8597 - val_loss: 11.8461 - val_mae: 2.3853\n",
            "Epoch 296/500\n",
            "323/323 [==============================] - 1s 4ms/step - loss: 1.3152 - mae: 0.8626 - val_loss: 12.6711 - val_mae: 2.4410\n",
            "Epoch 297/500\n",
            "323/323 [==============================] - 1s 3ms/step - loss: 1.2870 - mae: 0.8046 - val_loss: 11.8373 - val_mae: 2.3839\n",
            "Epoch 298/500\n",
            "323/323 [==============================] - 1s 3ms/step - loss: 1.4133 - mae: 0.8541 - val_loss: 13.0649 - val_mae: 2.5463\n",
            "Epoch 299/500\n",
            "323/323 [==============================] - 1s 3ms/step - loss: 1.2753 - mae: 0.7964 - val_loss: 10.5908 - val_mae: 2.2771\n",
            "Epoch 300/500\n",
            "323/323 [==============================] - 2s 5ms/step - loss: 1.3546 - mae: 0.8500 - val_loss: 11.9542 - val_mae: 2.4085\n",
            "Epoch 301/500\n",
            "323/323 [==============================] - 2s 5ms/step - loss: 1.4038 - mae: 0.8443 - val_loss: 12.3355 - val_mae: 2.3899\n",
            "Epoch 302/500\n",
            "323/323 [==============================] - 1s 4ms/step - loss: 1.1865 - mae: 0.8022 - val_loss: 12.3254 - val_mae: 2.3400\n",
            "Epoch 303/500\n",
            "323/323 [==============================] - 1s 3ms/step - loss: 1.4646 - mae: 0.8901 - val_loss: 11.8135 - val_mae: 2.4713\n",
            "Epoch 304/500\n",
            "323/323 [==============================] - 1s 3ms/step - loss: 1.2863 - mae: 0.8417 - val_loss: 10.4093 - val_mae: 2.2189\n",
            "Epoch 305/500\n",
            "323/323 [==============================] - 1s 3ms/step - loss: 1.3674 - mae: 0.8572 - val_loss: 11.8591 - val_mae: 2.3801\n",
            "Epoch 306/500\n",
            "323/323 [==============================] - 1s 4ms/step - loss: 1.5160 - mae: 0.8682 - val_loss: 12.2573 - val_mae: 2.4579\n",
            "Epoch 307/500\n",
            "323/323 [==============================] - 1s 2ms/step - loss: 1.4653 - mae: 0.8669 - val_loss: 12.2151 - val_mae: 2.3483\n",
            "Epoch 308/500\n",
            "323/323 [==============================] - 1s 2ms/step - loss: 1.3769 - mae: 0.8131 - val_loss: 13.4289 - val_mae: 2.4272\n",
            "Epoch 309/500\n",
            "323/323 [==============================] - 1s 2ms/step - loss: 1.4294 - mae: 0.8697 - val_loss: 10.5866 - val_mae: 2.2525\n",
            "Epoch 310/500\n",
            "323/323 [==============================] - 1s 2ms/step - loss: 1.4055 - mae: 0.8206 - val_loss: 10.1920 - val_mae: 2.2960\n",
            "Epoch 311/500\n",
            "323/323 [==============================] - 1s 2ms/step - loss: 1.3148 - mae: 0.8499 - val_loss: 12.8178 - val_mae: 2.4886\n",
            "Epoch 312/500\n",
            "323/323 [==============================] - 1s 2ms/step - loss: 1.3195 - mae: 0.8301 - val_loss: 12.1046 - val_mae: 2.4680\n",
            "Epoch 313/500\n",
            "323/323 [==============================] - 1s 3ms/step - loss: 1.5007 - mae: 0.8399 - val_loss: 13.2344 - val_mae: 2.4797\n",
            "Epoch 314/500\n",
            "323/323 [==============================] - 3s 9ms/step - loss: 1.3627 - mae: 0.8153 - val_loss: 12.1364 - val_mae: 2.5552\n",
            "Epoch 315/500\n",
            "323/323 [==============================] - 2s 5ms/step - loss: 1.2967 - mae: 0.8169 - val_loss: 12.3052 - val_mae: 2.3908\n",
            "Epoch 316/500\n",
            "323/323 [==============================] - 1s 4ms/step - loss: 1.3385 - mae: 0.8476 - val_loss: 10.0367 - val_mae: 2.2050\n",
            "Epoch 317/500\n",
            "323/323 [==============================] - 1s 2ms/step - loss: 1.3236 - mae: 0.8556 - val_loss: 11.6723 - val_mae: 2.3125\n",
            "Epoch 318/500\n",
            "323/323 [==============================] - 1s 3ms/step - loss: 1.3133 - mae: 0.8206 - val_loss: 10.8366 - val_mae: 2.3066\n",
            "Epoch 319/500\n",
            "323/323 [==============================] - 1s 4ms/step - loss: 1.3437 - mae: 0.8108 - val_loss: 10.8033 - val_mae: 2.3779\n",
            "Epoch 320/500\n",
            "323/323 [==============================] - 1s 3ms/step - loss: 1.4016 - mae: 0.8573 - val_loss: 14.3632 - val_mae: 2.5457\n",
            "Epoch 321/500\n",
            "323/323 [==============================] - 1s 3ms/step - loss: 1.3060 - mae: 0.8225 - val_loss: 12.4372 - val_mae: 2.2982\n",
            "Epoch 322/500\n",
            "323/323 [==============================] - 1s 3ms/step - loss: 1.2963 - mae: 0.8262 - val_loss: 12.0228 - val_mae: 2.3733\n",
            "Epoch 323/500\n",
            "323/323 [==============================] - 1s 3ms/step - loss: 1.2526 - mae: 0.7986 - val_loss: 12.0052 - val_mae: 2.3187\n",
            "Epoch 324/500\n",
            "323/323 [==============================] - 1s 4ms/step - loss: 1.3333 - mae: 0.8383 - val_loss: 12.7415 - val_mae: 2.3754\n",
            "Epoch 325/500\n",
            "323/323 [==============================] - 2s 5ms/step - loss: 1.2431 - mae: 0.8430 - val_loss: 13.4188 - val_mae: 2.4203\n",
            "Epoch 326/500\n",
            "323/323 [==============================] - 1s 2ms/step - loss: 1.1724 - mae: 0.7989 - val_loss: 10.3136 - val_mae: 2.0832\n",
            "Epoch 327/500\n",
            "323/323 [==============================] - 1s 3ms/step - loss: 1.3226 - mae: 0.8384 - val_loss: 15.0181 - val_mae: 2.7711\n",
            "Epoch 328/500\n",
            "323/323 [==============================] - 1s 2ms/step - loss: 1.2504 - mae: 0.7947 - val_loss: 11.5048 - val_mae: 2.3531\n",
            "Epoch 329/500\n",
            "323/323 [==============================] - 1s 2ms/step - loss: 1.3048 - mae: 0.8396 - val_loss: 13.0769 - val_mae: 2.4432\n",
            "Epoch 330/500\n",
            "323/323 [==============================] - 1s 3ms/step - loss: 1.2645 - mae: 0.8257 - val_loss: 12.8578 - val_mae: 2.3940\n",
            "Epoch 331/500\n",
            "323/323 [==============================] - 1s 4ms/step - loss: 1.2938 - mae: 0.8070 - val_loss: 11.5809 - val_mae: 2.2798\n",
            "Epoch 332/500\n",
            "323/323 [==============================] - 1s 3ms/step - loss: 1.1480 - mae: 0.7962 - val_loss: 11.5387 - val_mae: 2.3340\n",
            "Epoch 333/500\n",
            "323/323 [==============================] - 1s 4ms/step - loss: 1.3031 - mae: 0.8118 - val_loss: 15.0847 - val_mae: 2.5915\n",
            "Epoch 334/500\n",
            "323/323 [==============================] - 1s 3ms/step - loss: 1.3396 - mae: 0.8304 - val_loss: 11.1921 - val_mae: 2.2632\n",
            "Epoch 335/500\n",
            "323/323 [==============================] - 1s 2ms/step - loss: 1.2919 - mae: 0.7977 - val_loss: 12.0942 - val_mae: 2.3168\n",
            "Epoch 336/500\n",
            "323/323 [==============================] - 1s 2ms/step - loss: 1.2135 - mae: 0.7860 - val_loss: 13.9999 - val_mae: 2.4229\n",
            "Epoch 337/500\n",
            "323/323 [==============================] - 1s 4ms/step - loss: 1.4384 - mae: 0.8900 - val_loss: 11.7586 - val_mae: 2.2845\n",
            "Epoch 338/500\n",
            "323/323 [==============================] - 2s 5ms/step - loss: 1.2750 - mae: 0.7900 - val_loss: 14.1681 - val_mae: 2.5380\n",
            "Epoch 339/500\n",
            "323/323 [==============================] - 1s 3ms/step - loss: 1.3937 - mae: 0.8490 - val_loss: 11.4823 - val_mae: 2.3561\n",
            "Epoch 340/500\n",
            "323/323 [==============================] - 1s 3ms/step - loss: 1.2222 - mae: 0.8013 - val_loss: 11.5969 - val_mae: 2.4284\n",
            "Epoch 341/500\n",
            "323/323 [==============================] - 1s 3ms/step - loss: 1.1408 - mae: 0.7835 - val_loss: 12.2261 - val_mae: 2.4701\n",
            "Epoch 342/500\n",
            "323/323 [==============================] - 1s 3ms/step - loss: 1.2447 - mae: 0.8080 - val_loss: 13.5042 - val_mae: 2.4446\n",
            "Epoch 343/500\n",
            "323/323 [==============================] - 1s 4ms/step - loss: 1.5455 - mae: 0.8514 - val_loss: 12.4798 - val_mae: 2.2660\n",
            "Epoch 344/500\n",
            "323/323 [==============================] - 1s 4ms/step - loss: 1.2046 - mae: 0.7907 - val_loss: 11.3840 - val_mae: 2.3632\n",
            "Epoch 345/500\n",
            "323/323 [==============================] - 1s 2ms/step - loss: 1.4265 - mae: 0.8205 - val_loss: 11.6200 - val_mae: 2.2535\n",
            "Epoch 346/500\n",
            "323/323 [==============================] - 1s 2ms/step - loss: 1.2529 - mae: 0.7737 - val_loss: 11.9985 - val_mae: 2.2563\n",
            "Epoch 347/500\n",
            "323/323 [==============================] - 1s 3ms/step - loss: 1.1934 - mae: 0.7686 - val_loss: 12.3540 - val_mae: 2.3046\n",
            "Epoch 348/500\n",
            "323/323 [==============================] - 1s 3ms/step - loss: 1.1588 - mae: 0.8063 - val_loss: 14.7855 - val_mae: 2.5442\n",
            "Epoch 349/500\n",
            "323/323 [==============================] - 1s 4ms/step - loss: 1.2033 - mae: 0.8043 - val_loss: 12.5583 - val_mae: 2.3064\n",
            "Epoch 350/500\n",
            "323/323 [==============================] - 1s 4ms/step - loss: 1.2607 - mae: 0.7896 - val_loss: 11.0532 - val_mae: 2.2276\n",
            "Epoch 351/500\n",
            "323/323 [==============================] - 1s 3ms/step - loss: 1.1905 - mae: 0.7794 - val_loss: 11.7669 - val_mae: 2.3068\n",
            "Epoch 352/500\n",
            "323/323 [==============================] - 1s 4ms/step - loss: 1.1470 - mae: 0.7792 - val_loss: 13.9838 - val_mae: 2.5170\n",
            "Epoch 353/500\n",
            "323/323 [==============================] - 1s 2ms/step - loss: 1.1958 - mae: 0.7946 - val_loss: 13.5474 - val_mae: 2.4179\n",
            "Epoch 354/500\n",
            "323/323 [==============================] - 1s 3ms/step - loss: 1.2696 - mae: 0.8298 - val_loss: 11.5000 - val_mae: 2.2740\n",
            "Epoch 355/500\n",
            "323/323 [==============================] - 1s 2ms/step - loss: 1.2137 - mae: 0.7816 - val_loss: 10.8574 - val_mae: 2.2589\n",
            "Epoch 356/500\n",
            "323/323 [==============================] - 1s 2ms/step - loss: 1.1413 - mae: 0.7592 - val_loss: 12.1791 - val_mae: 2.4076\n",
            "Epoch 357/500\n",
            "323/323 [==============================] - 1s 2ms/step - loss: 1.1629 - mae: 0.7849 - val_loss: 12.0706 - val_mae: 2.3442\n",
            "Epoch 358/500\n",
            "323/323 [==============================] - 1s 2ms/step - loss: 1.0945 - mae: 0.7868 - val_loss: 14.2922 - val_mae: 2.5202\n",
            "Epoch 359/500\n",
            "323/323 [==============================] - 1s 2ms/step - loss: 1.1345 - mae: 0.7858 - val_loss: 10.9267 - val_mae: 2.2366\n",
            "Epoch 360/500\n",
            "323/323 [==============================] - 1s 2ms/step - loss: 1.0962 - mae: 0.7815 - val_loss: 13.2362 - val_mae: 2.3425\n",
            "Epoch 361/500\n",
            "323/323 [==============================] - 1s 2ms/step - loss: 1.2221 - mae: 0.8121 - val_loss: 12.1480 - val_mae: 2.2712\n",
            "Epoch 362/500\n",
            "323/323 [==============================] - 1s 2ms/step - loss: 1.1887 - mae: 0.7772 - val_loss: 12.1832 - val_mae: 2.3380\n",
            "Epoch 363/500\n",
            "323/323 [==============================] - 1s 3ms/step - loss: 1.2189 - mae: 0.8022 - val_loss: 13.0989 - val_mae: 2.2543\n",
            "Epoch 364/500\n",
            "323/323 [==============================] - 1s 2ms/step - loss: 1.2000 - mae: 0.7992 - val_loss: 12.9141 - val_mae: 2.3463\n",
            "Epoch 365/500\n",
            "323/323 [==============================] - 1s 3ms/step - loss: 1.0579 - mae: 0.7580 - val_loss: 13.2547 - val_mae: 2.3188\n",
            "Epoch 366/500\n",
            "323/323 [==============================] - 1s 3ms/step - loss: 1.2673 - mae: 0.7912 - val_loss: 11.8173 - val_mae: 2.4003\n",
            "Epoch 367/500\n",
            "323/323 [==============================] - 1s 3ms/step - loss: 0.9831 - mae: 0.7546 - val_loss: 13.3351 - val_mae: 2.4640\n",
            "Epoch 368/500\n",
            "323/323 [==============================] - 1s 3ms/step - loss: 1.2251 - mae: 0.7733 - val_loss: 11.3823 - val_mae: 2.2392\n",
            "Epoch 369/500\n",
            "323/323 [==============================] - 1s 3ms/step - loss: 1.1410 - mae: 0.8094 - val_loss: 13.2733 - val_mae: 2.4602\n",
            "Epoch 370/500\n",
            "323/323 [==============================] - 1s 2ms/step - loss: 1.1650 - mae: 0.7840 - val_loss: 12.5224 - val_mae: 2.3698\n",
            "Epoch 371/500\n",
            "323/323 [==============================] - 2s 6ms/step - loss: 1.0553 - mae: 0.7782 - val_loss: 11.5921 - val_mae: 2.2932\n",
            "Epoch 372/500\n",
            "323/323 [==============================] - 2s 5ms/step - loss: 1.1339 - mae: 0.7925 - val_loss: 13.7559 - val_mae: 2.3468\n",
            "Epoch 373/500\n",
            "323/323 [==============================] - 1s 2ms/step - loss: 1.0633 - mae: 0.7423 - val_loss: 13.6698 - val_mae: 2.3303\n",
            "Epoch 374/500\n",
            "323/323 [==============================] - 1s 3ms/step - loss: 1.2601 - mae: 0.7892 - val_loss: 13.1887 - val_mae: 2.3844\n",
            "Epoch 375/500\n",
            "323/323 [==============================] - 1s 2ms/step - loss: 1.1755 - mae: 0.7786 - val_loss: 12.7274 - val_mae: 2.4593\n",
            "Epoch 376/500\n",
            "323/323 [==============================] - 1s 2ms/step - loss: 1.1334 - mae: 0.7827 - val_loss: 11.9647 - val_mae: 2.3257\n",
            "Epoch 377/500\n",
            "323/323 [==============================] - 1s 3ms/step - loss: 1.2275 - mae: 0.7854 - val_loss: 14.1626 - val_mae: 2.5393\n",
            "Epoch 378/500\n",
            "323/323 [==============================] - 1s 3ms/step - loss: 1.1397 - mae: 0.7379 - val_loss: 13.1563 - val_mae: 2.4091\n",
            "Epoch 379/500\n",
            "323/323 [==============================] - 2s 5ms/step - loss: 1.1623 - mae: 0.7717 - val_loss: 13.0533 - val_mae: 2.3622\n",
            "Epoch 380/500\n",
            "323/323 [==============================] - 1s 4ms/step - loss: 1.1286 - mae: 0.7858 - val_loss: 12.1552 - val_mae: 2.3527\n",
            "Epoch 381/500\n",
            "323/323 [==============================] - 1s 3ms/step - loss: 1.0214 - mae: 0.7268 - val_loss: 14.2719 - val_mae: 2.5788\n",
            "Epoch 382/500\n",
            "323/323 [==============================] - 1s 4ms/step - loss: 1.0979 - mae: 0.7546 - val_loss: 12.7710 - val_mae: 2.4062\n",
            "Epoch 383/500\n",
            "323/323 [==============================] - 1s 5ms/step - loss: 1.1766 - mae: 0.7837 - val_loss: 11.8719 - val_mae: 2.3394\n",
            "Epoch 384/500\n",
            "323/323 [==============================] - 1s 4ms/step - loss: 1.1075 - mae: 0.7581 - val_loss: 12.9181 - val_mae: 2.4339\n",
            "Epoch 385/500\n",
            "323/323 [==============================] - 1s 2ms/step - loss: 1.1368 - mae: 0.7645 - val_loss: 13.4162 - val_mae: 2.4291\n",
            "Epoch 386/500\n",
            "323/323 [==============================] - 1s 4ms/step - loss: 1.2138 - mae: 0.7835 - val_loss: 11.3867 - val_mae: 2.2715\n",
            "Epoch 387/500\n",
            "323/323 [==============================] - 1s 3ms/step - loss: 1.0941 - mae: 0.7730 - val_loss: 12.6044 - val_mae: 2.4069\n",
            "Epoch 388/500\n",
            "323/323 [==============================] - 1s 3ms/step - loss: 1.0241 - mae: 0.7459 - val_loss: 11.8206 - val_mae: 2.3670\n",
            "Epoch 389/500\n",
            "323/323 [==============================] - 1s 3ms/step - loss: 1.1356 - mae: 0.8033 - val_loss: 12.7594 - val_mae: 2.3789\n",
            "Epoch 390/500\n",
            "323/323 [==============================] - 1s 4ms/step - loss: 1.1478 - mae: 0.7702 - val_loss: 13.5456 - val_mae: 2.4585\n",
            "Epoch 391/500\n",
            "323/323 [==============================] - 1s 3ms/step - loss: 1.0589 - mae: 0.7645 - val_loss: 13.2229 - val_mae: 2.4797\n",
            "Epoch 392/500\n",
            "323/323 [==============================] - 1s 3ms/step - loss: 1.1788 - mae: 0.7773 - val_loss: 12.6841 - val_mae: 2.4215\n",
            "Epoch 393/500\n",
            "323/323 [==============================] - 1s 3ms/step - loss: 1.1247 - mae: 0.7836 - val_loss: 11.7679 - val_mae: 2.3470\n",
            "Epoch 394/500\n",
            "323/323 [==============================] - 1s 3ms/step - loss: 1.0507 - mae: 0.7658 - val_loss: 11.7578 - val_mae: 2.2659\n",
            "Epoch 395/500\n",
            "323/323 [==============================] - 1s 3ms/step - loss: 1.0643 - mae: 0.7248 - val_loss: 10.4320 - val_mae: 2.1969\n",
            "Epoch 396/500\n",
            "323/323 [==============================] - 1s 3ms/step - loss: 1.0786 - mae: 0.7395 - val_loss: 11.5557 - val_mae: 2.4178\n",
            "Epoch 397/500\n",
            "323/323 [==============================] - 1s 2ms/step - loss: 1.1844 - mae: 0.7845 - val_loss: 11.2231 - val_mae: 2.2077\n",
            "Epoch 398/500\n",
            "323/323 [==============================] - 1s 3ms/step - loss: 1.0820 - mae: 0.7150 - val_loss: 11.7680 - val_mae: 2.3066\n",
            "Epoch 399/500\n",
            "323/323 [==============================] - 1s 2ms/step - loss: 1.0873 - mae: 0.7514 - val_loss: 12.7063 - val_mae: 2.4109\n",
            "Epoch 400/500\n",
            "323/323 [==============================] - 1s 3ms/step - loss: 1.0734 - mae: 0.7791 - val_loss: 12.6976 - val_mae: 2.3821\n",
            "Epoch 401/500\n",
            "323/323 [==============================] - 1s 2ms/step - loss: 0.9731 - mae: 0.7285 - val_loss: 11.7123 - val_mae: 2.2671\n",
            "Epoch 402/500\n",
            "323/323 [==============================] - 1s 2ms/step - loss: 1.0907 - mae: 0.7430 - val_loss: 10.9224 - val_mae: 2.2243\n",
            "Epoch 403/500\n",
            "323/323 [==============================] - 1s 2ms/step - loss: 1.0000 - mae: 0.7176 - val_loss: 13.8083 - val_mae: 2.5335\n",
            "Epoch 404/500\n",
            "323/323 [==============================] - 1s 3ms/step - loss: 1.1353 - mae: 0.7903 - val_loss: 12.8529 - val_mae: 2.4451\n",
            "Epoch 405/500\n",
            "323/323 [==============================] - 1s 4ms/step - loss: 1.0395 - mae: 0.7418 - val_loss: 12.5876 - val_mae: 2.4330\n",
            "Epoch 406/500\n",
            "323/323 [==============================] - 1s 4ms/step - loss: 1.0254 - mae: 0.7432 - val_loss: 11.9810 - val_mae: 2.3631\n",
            "Epoch 407/500\n",
            "323/323 [==============================] - 1s 3ms/step - loss: 0.9108 - mae: 0.7207 - val_loss: 11.3399 - val_mae: 2.1627\n",
            "Epoch 408/500\n",
            "323/323 [==============================] - 1s 3ms/step - loss: 1.0564 - mae: 0.7698 - val_loss: 12.7442 - val_mae: 2.2742\n",
            "Epoch 409/500\n",
            "323/323 [==============================] - 1s 2ms/step - loss: 1.0651 - mae: 0.7196 - val_loss: 11.2678 - val_mae: 2.2507\n",
            "Epoch 410/500\n",
            "323/323 [==============================] - 1s 2ms/step - loss: 1.0639 - mae: 0.7699 - val_loss: 13.8570 - val_mae: 2.4150\n",
            "Epoch 411/500\n",
            "323/323 [==============================] - 1s 3ms/step - loss: 1.0952 - mae: 0.7565 - val_loss: 12.0137 - val_mae: 2.3433\n",
            "Epoch 412/500\n",
            "323/323 [==============================] - 1s 3ms/step - loss: 1.0566 - mae: 0.7661 - val_loss: 11.9611 - val_mae: 2.3093\n",
            "Epoch 413/500\n",
            "323/323 [==============================] - 1s 2ms/step - loss: 0.9556 - mae: 0.7156 - val_loss: 12.9379 - val_mae: 2.3719\n",
            "Epoch 414/500\n",
            "323/323 [==============================] - 1s 3ms/step - loss: 1.0503 - mae: 0.7372 - val_loss: 12.5916 - val_mae: 2.4337\n",
            "Epoch 415/500\n",
            "323/323 [==============================] - 1s 2ms/step - loss: 0.9712 - mae: 0.6998 - val_loss: 11.9395 - val_mae: 2.2739\n",
            "Epoch 416/500\n",
            "323/323 [==============================] - 1s 2ms/step - loss: 1.1409 - mae: 0.7449 - val_loss: 12.2763 - val_mae: 2.3639\n",
            "Epoch 417/500\n",
            "323/323 [==============================] - 1s 3ms/step - loss: 1.0814 - mae: 0.7479 - val_loss: 12.0391 - val_mae: 2.3532\n",
            "Epoch 418/500\n",
            "323/323 [==============================] - 1s 2ms/step - loss: 1.0907 - mae: 0.7593 - val_loss: 12.8885 - val_mae: 2.4533\n",
            "Epoch 419/500\n",
            "323/323 [==============================] - 1s 2ms/step - loss: 0.9044 - mae: 0.7109 - val_loss: 13.7495 - val_mae: 2.3980\n",
            "Epoch 420/500\n",
            "323/323 [==============================] - 1s 2ms/step - loss: 1.0192 - mae: 0.7442 - val_loss: 11.8167 - val_mae: 2.2692\n",
            "Epoch 421/500\n",
            "323/323 [==============================] - 1s 3ms/step - loss: 1.0746 - mae: 0.7272 - val_loss: 11.9547 - val_mae: 2.2872\n",
            "Epoch 422/500\n",
            "323/323 [==============================] - 1s 3ms/step - loss: 0.9931 - mae: 0.7241 - val_loss: 14.0365 - val_mae: 2.5116\n",
            "Epoch 423/500\n",
            "323/323 [==============================] - 1s 3ms/step - loss: 1.0702 - mae: 0.7715 - val_loss: 12.2671 - val_mae: 2.2929\n",
            "Epoch 424/500\n",
            "323/323 [==============================] - 1s 3ms/step - loss: 1.0273 - mae: 0.7179 - val_loss: 12.0999 - val_mae: 2.4184\n",
            "Epoch 425/500\n",
            "323/323 [==============================] - 1s 2ms/step - loss: 0.9513 - mae: 0.7084 - val_loss: 12.6058 - val_mae: 2.3600\n",
            "Epoch 426/500\n",
            "323/323 [==============================] - 1s 2ms/step - loss: 1.0194 - mae: 0.7119 - val_loss: 11.1086 - val_mae: 2.1413\n",
            "Epoch 427/500\n",
            "323/323 [==============================] - 1s 2ms/step - loss: 1.0227 - mae: 0.7352 - val_loss: 11.6808 - val_mae: 2.3276\n",
            "Epoch 428/500\n",
            "323/323 [==============================] - 1s 3ms/step - loss: 1.0742 - mae: 0.7501 - val_loss: 11.7395 - val_mae: 2.2184\n",
            "Epoch 429/500\n",
            "323/323 [==============================] - 1s 3ms/step - loss: 0.9379 - mae: 0.7025 - val_loss: 13.3350 - val_mae: 2.4589\n",
            "Epoch 430/500\n",
            "323/323 [==============================] - 1s 3ms/step - loss: 0.9280 - mae: 0.7065 - val_loss: 13.1114 - val_mae: 2.4150\n",
            "Epoch 431/500\n",
            "323/323 [==============================] - 1s 3ms/step - loss: 1.0069 - mae: 0.7383 - val_loss: 13.1440 - val_mae: 2.4602\n",
            "Epoch 432/500\n",
            "323/323 [==============================] - 1s 3ms/step - loss: 1.0361 - mae: 0.7562 - val_loss: 12.3685 - val_mae: 2.2955\n",
            "Epoch 433/500\n",
            "323/323 [==============================] - 1s 3ms/step - loss: 1.0180 - mae: 0.7448 - val_loss: 12.3706 - val_mae: 2.2902\n",
            "Epoch 434/500\n",
            "323/323 [==============================] - 1s 2ms/step - loss: 0.9503 - mae: 0.6974 - val_loss: 12.4901 - val_mae: 2.3163\n",
            "Epoch 435/500\n",
            "323/323 [==============================] - 1s 2ms/step - loss: 0.9009 - mae: 0.7000 - val_loss: 12.4685 - val_mae: 2.2784\n",
            "Epoch 436/500\n",
            "323/323 [==============================] - 1s 2ms/step - loss: 0.9975 - mae: 0.6948 - val_loss: 12.7864 - val_mae: 2.3503\n",
            "Epoch 437/500\n",
            "323/323 [==============================] - 1s 2ms/step - loss: 0.9036 - mae: 0.7161 - val_loss: 12.4045 - val_mae: 2.1678\n",
            "Epoch 438/500\n",
            "323/323 [==============================] - 1s 4ms/step - loss: 1.0125 - mae: 0.7258 - val_loss: 12.4985 - val_mae: 2.4401\n",
            "Epoch 439/500\n",
            "323/323 [==============================] - 1s 3ms/step - loss: 0.8419 - mae: 0.6870 - val_loss: 13.5762 - val_mae: 2.3743\n",
            "Epoch 440/500\n",
            "323/323 [==============================] - 1s 4ms/step - loss: 0.9628 - mae: 0.7341 - val_loss: 12.8538 - val_mae: 2.3821\n",
            "Epoch 441/500\n",
            "323/323 [==============================] - 1s 2ms/step - loss: 0.8672 - mae: 0.6942 - val_loss: 11.9900 - val_mae: 2.2278\n",
            "Epoch 442/500\n",
            "323/323 [==============================] - 1s 3ms/step - loss: 1.0373 - mae: 0.7731 - val_loss: 11.6454 - val_mae: 2.1704\n",
            "Epoch 443/500\n",
            "323/323 [==============================] - 1s 2ms/step - loss: 0.9401 - mae: 0.7124 - val_loss: 11.8516 - val_mae: 2.2373\n",
            "Epoch 444/500\n",
            "323/323 [==============================] - 1s 2ms/step - loss: 0.9797 - mae: 0.6721 - val_loss: 11.8980 - val_mae: 2.3306\n",
            "Epoch 445/500\n",
            "323/323 [==============================] - 1s 2ms/step - loss: 0.9598 - mae: 0.7364 - val_loss: 11.8560 - val_mae: 2.1476\n",
            "Epoch 446/500\n",
            "323/323 [==============================] - 1s 2ms/step - loss: 0.9654 - mae: 0.6988 - val_loss: 12.2067 - val_mae: 2.2816\n",
            "Epoch 447/500\n",
            "323/323 [==============================] - 1s 3ms/step - loss: 0.9297 - mae: 0.7004 - val_loss: 11.7574 - val_mae: 2.2627\n",
            "Epoch 448/500\n",
            "323/323 [==============================] - 1s 2ms/step - loss: 0.9366 - mae: 0.6920 - val_loss: 12.3738 - val_mae: 2.3499\n",
            "Epoch 449/500\n",
            "323/323 [==============================] - 1s 3ms/step - loss: 1.0540 - mae: 0.7293 - val_loss: 13.2101 - val_mae: 2.2244\n",
            "Epoch 450/500\n",
            "323/323 [==============================] - 1s 3ms/step - loss: 0.9208 - mae: 0.7076 - val_loss: 15.3988 - val_mae: 2.6417\n",
            "Epoch 451/500\n",
            "323/323 [==============================] - 1s 3ms/step - loss: 0.8753 - mae: 0.6779 - val_loss: 12.5703 - val_mae: 2.3625\n",
            "Epoch 452/500\n",
            "323/323 [==============================] - 1s 3ms/step - loss: 1.1084 - mae: 0.7499 - val_loss: 12.4983 - val_mae: 2.2825\n",
            "Epoch 453/500\n",
            "323/323 [==============================] - 1s 3ms/step - loss: 1.0291 - mae: 0.7512 - val_loss: 11.9295 - val_mae: 2.1411\n",
            "Epoch 454/500\n",
            "323/323 [==============================] - 2s 5ms/step - loss: 0.9165 - mae: 0.6898 - val_loss: 12.5078 - val_mae: 2.3971\n",
            "Epoch 455/500\n",
            "323/323 [==============================] - 1s 3ms/step - loss: 0.9322 - mae: 0.7005 - val_loss: 12.1340 - val_mae: 2.2002\n",
            "Epoch 456/500\n",
            "323/323 [==============================] - 1s 3ms/step - loss: 1.0859 - mae: 0.7185 - val_loss: 12.6106 - val_mae: 2.2322\n",
            "Epoch 457/500\n",
            "323/323 [==============================] - 1s 3ms/step - loss: 0.8997 - mae: 0.6776 - val_loss: 12.5516 - val_mae: 2.3971\n",
            "Epoch 458/500\n",
            "323/323 [==============================] - 1s 3ms/step - loss: 0.9801 - mae: 0.6880 - val_loss: 12.5011 - val_mae: 2.2786\n",
            "Epoch 459/500\n",
            "323/323 [==============================] - 1s 3ms/step - loss: 0.8286 - mae: 0.6653 - val_loss: 11.1846 - val_mae: 2.1578\n",
            "Epoch 460/500\n",
            "323/323 [==============================] - 1s 3ms/step - loss: 0.9482 - mae: 0.6952 - val_loss: 11.3780 - val_mae: 2.2141\n",
            "Epoch 461/500\n",
            "323/323 [==============================] - 1s 3ms/step - loss: 0.9684 - mae: 0.6982 - val_loss: 12.1113 - val_mae: 2.2889\n",
            "Epoch 462/500\n",
            "323/323 [==============================] - 1s 2ms/step - loss: 0.8855 - mae: 0.7110 - val_loss: 13.8871 - val_mae: 2.5149\n",
            "Epoch 463/500\n",
            "323/323 [==============================] - 1s 2ms/step - loss: 0.9699 - mae: 0.7145 - val_loss: 12.4930 - val_mae: 2.2156\n",
            "Epoch 464/500\n",
            "323/323 [==============================] - 1s 3ms/step - loss: 0.9165 - mae: 0.6765 - val_loss: 12.1700 - val_mae: 2.3164\n",
            "Epoch 465/500\n",
            "323/323 [==============================] - 1s 3ms/step - loss: 0.8705 - mae: 0.6810 - val_loss: 13.0520 - val_mae: 2.3444\n",
            "Epoch 466/500\n",
            "323/323 [==============================] - 1s 4ms/step - loss: 1.0300 - mae: 0.7286 - val_loss: 12.4127 - val_mae: 2.2386\n",
            "Epoch 467/500\n",
            "323/323 [==============================] - 1s 3ms/step - loss: 0.8328 - mae: 0.6490 - val_loss: 13.1910 - val_mae: 2.3523\n",
            "Epoch 468/500\n",
            "323/323 [==============================] - 1s 3ms/step - loss: 0.8458 - mae: 0.6523 - val_loss: 13.3378 - val_mae: 2.4943\n",
            "Epoch 469/500\n",
            "323/323 [==============================] - 1s 2ms/step - loss: 1.0339 - mae: 0.7387 - val_loss: 11.7418 - val_mae: 2.2949\n",
            "Epoch 470/500\n",
            "323/323 [==============================] - 1s 2ms/step - loss: 0.8321 - mae: 0.6699 - val_loss: 10.9499 - val_mae: 2.2175\n",
            "Epoch 471/500\n",
            "323/323 [==============================] - 1s 3ms/step - loss: 0.9565 - mae: 0.7195 - val_loss: 11.9547 - val_mae: 2.2646\n",
            "Epoch 472/500\n",
            "323/323 [==============================] - 1s 4ms/step - loss: 0.9954 - mae: 0.7154 - val_loss: 11.7995 - val_mae: 2.2465\n",
            "Epoch 473/500\n",
            "323/323 [==============================] - 1s 4ms/step - loss: 0.9175 - mae: 0.6675 - val_loss: 12.6064 - val_mae: 2.3223\n",
            "Epoch 474/500\n",
            "323/323 [==============================] - 1s 3ms/step - loss: 1.0039 - mae: 0.7099 - val_loss: 11.9365 - val_mae: 2.2939\n",
            "Epoch 475/500\n",
            "323/323 [==============================] - 1s 2ms/step - loss: 1.0100 - mae: 0.7107 - val_loss: 13.0874 - val_mae: 2.3672\n",
            "Epoch 476/500\n",
            "323/323 [==============================] - 1s 4ms/step - loss: 0.8314 - mae: 0.6707 - val_loss: 12.0275 - val_mae: 2.2473\n",
            "Epoch 477/500\n",
            "323/323 [==============================] - 1s 2ms/step - loss: 0.8816 - mae: 0.6815 - val_loss: 12.0200 - val_mae: 2.2822\n",
            "Epoch 478/500\n",
            "323/323 [==============================] - 1s 3ms/step - loss: 0.8281 - mae: 0.6708 - val_loss: 13.2807 - val_mae: 2.3840\n",
            "Epoch 479/500\n",
            "323/323 [==============================] - 1s 3ms/step - loss: 0.9499 - mae: 0.6805 - val_loss: 12.2710 - val_mae: 2.3497\n",
            "Epoch 480/500\n",
            "323/323 [==============================] - 2s 5ms/step - loss: 0.9073 - mae: 0.6922 - val_loss: 13.0546 - val_mae: 2.2773\n",
            "Epoch 481/500\n",
            "323/323 [==============================] - 2s 5ms/step - loss: 0.8910 - mae: 0.7031 - val_loss: 13.9569 - val_mae: 2.4126\n",
            "Epoch 482/500\n",
            "323/323 [==============================] - 1s 4ms/step - loss: 0.9510 - mae: 0.7020 - val_loss: 13.1714 - val_mae: 2.3828\n",
            "Epoch 483/500\n",
            "323/323 [==============================] - 2s 5ms/step - loss: 0.9202 - mae: 0.6937 - val_loss: 12.1035 - val_mae: 2.2060\n",
            "Epoch 484/500\n",
            "323/323 [==============================] - 1s 4ms/step - loss: 0.8684 - mae: 0.6772 - val_loss: 13.0643 - val_mae: 2.1864\n",
            "Epoch 485/500\n",
            "323/323 [==============================] - 1s 4ms/step - loss: 1.0314 - mae: 0.6997 - val_loss: 13.9234 - val_mae: 2.3735\n",
            "Epoch 486/500\n",
            "323/323 [==============================] - 1s 4ms/step - loss: 0.8910 - mae: 0.7056 - val_loss: 12.7977 - val_mae: 2.2419\n",
            "Epoch 487/500\n",
            "323/323 [==============================] - 1s 2ms/step - loss: 0.8893 - mae: 0.6818 - val_loss: 12.7336 - val_mae: 2.3198\n",
            "Epoch 488/500\n",
            "323/323 [==============================] - 1s 3ms/step - loss: 0.9465 - mae: 0.7054 - val_loss: 12.3071 - val_mae: 2.1952\n",
            "Epoch 489/500\n",
            "323/323 [==============================] - 1s 2ms/step - loss: 0.8479 - mae: 0.6895 - val_loss: 13.0232 - val_mae: 2.3578\n",
            "Epoch 490/500\n",
            "323/323 [==============================] - 1s 2ms/step - loss: 0.9221 - mae: 0.7170 - val_loss: 13.1959 - val_mae: 2.4070\n",
            "Epoch 491/500\n",
            "323/323 [==============================] - 1s 3ms/step - loss: 0.9060 - mae: 0.6945 - val_loss: 14.3809 - val_mae: 2.4784\n",
            "Epoch 492/500\n",
            "323/323 [==============================] - 1s 3ms/step - loss: 0.8260 - mae: 0.6856 - val_loss: 11.9164 - val_mae: 2.2787\n",
            "Epoch 493/500\n",
            "323/323 [==============================] - 1s 4ms/step - loss: 0.8706 - mae: 0.6850 - val_loss: 11.8263 - val_mae: 2.2008\n",
            "Epoch 494/500\n",
            "323/323 [==============================] - 1s 3ms/step - loss: 0.9007 - mae: 0.6819 - val_loss: 12.9212 - val_mae: 2.3523\n",
            "Epoch 495/500\n",
            "323/323 [==============================] - 1s 2ms/step - loss: 1.0118 - mae: 0.7285 - val_loss: 13.8430 - val_mae: 2.4686\n",
            "Epoch 496/500\n",
            "323/323 [==============================] - 1s 2ms/step - loss: 0.9239 - mae: 0.7052 - val_loss: 12.7807 - val_mae: 2.3181\n",
            "Epoch 497/500\n",
            "323/323 [==============================] - 1s 4ms/step - loss: 0.8246 - mae: 0.6516 - val_loss: 13.0059 - val_mae: 2.3721\n",
            "Epoch 498/500\n",
            "323/323 [==============================] - 1s 4ms/step - loss: 0.8568 - mae: 0.7029 - val_loss: 14.0587 - val_mae: 2.4258\n",
            "Epoch 499/500\n",
            "323/323 [==============================] - 1s 4ms/step - loss: 0.8489 - mae: 0.6959 - val_loss: 13.8344 - val_mae: 2.4090\n",
            "Epoch 500/500\n",
            "323/323 [==============================] - 1s 2ms/step - loss: 0.9168 - mae: 0.6885 - val_loss: 14.1952 - val_mae: 2.3475\n",
            "CPU times: user 6min, sys: 18.2 s, total: 6min 18s\n",
            "Wall time: 8min 10s\n"
          ]
        }
      ]
    },
    {
      "cell_type": "markdown",
      "source": [
        "> ## 4) 학습 결과 시각화\n",
        "\n",
        " - 전체 시각화\n"
      ],
      "metadata": {
        "id": "xL16MrMZsilG"
      }
    },
    {
      "cell_type": "code",
      "source": [
        "import matplotlib.pyplot as plt\n",
        "\n",
        "epochs = range(1, len(Hist_boston.history['val_mae']) + 1)\n",
        "\n",
        "plt.figure(figsize = (9, 6))\n",
        "plt.plot(epochs, Hist_boston.history['val_mae'])\n",
        "plt.title('Validation MAE')\n",
        "plt.xlabel('Epochs')\n",
        "plt.ylabel('Mean Absolute Error')\n",
        "plt.grid()\n",
        "plt.show()"
      ],
      "metadata": {
        "colab": {
          "base_uri": "https://localhost:8080/",
          "height": 564
        },
        "id": "1WWsFNoRsgP2",
        "outputId": "6ca7a12b-1dd1-4e3e-9964-6ea432adf545"
      },
      "execution_count": 20,
      "outputs": [
        {
          "output_type": "display_data",
          "data": {
            "text/plain": [
              "<Figure size 900x600 with 1 Axes>"
            ],
            "image/png": "[encoded data removed]"
          },
          "metadata": {}
        }
      ]
    },
    {
      "cell_type": "markdown",
      "source": [
        "- 5번째 이후 MAE 확인"
      ],
      "metadata": {
        "id": "4DbXY6hqs-6s"
      }
    },
    {
      "cell_type": "code",
      "source": [
        "def smooth_curve(points, factor = 0.9):\n",
        "    smoothed_points = []\n",
        "    for point in points:\n",
        "        if smoothed_points:\n",
        "            previous = smoothed_points[-1]\n",
        "            smoothed_points.append(previous * factor + point * (1 - factor))\n",
        "        else:\n",
        "            smoothed_points.append(point)\n",
        "    return smoothed_points\n",
        "\n",
        "mae_history = Hist_boston.history['val_mae']\n",
        "\n",
        "mae_history = smooth_curve(mae_history[5:])\n",
        "\n",
        "plt.figure(figsize = (9, 6))\n",
        "plt.plot(range(1, len(mae_history) + 1), mae_history)\n",
        "plt.title('Validation MAE')\n",
        "plt.xlabel('Epochs')\n",
        "plt.ylabel('Mean Absolute Error')\n",
        "plt.grid()\n",
        "plt.show()"
      ],
      "metadata": {
        "colab": {
          "base_uri": "https://localhost:8080/",
          "height": 564
        },
        "id": "GFHv05O7s9L9",
        "outputId": "91660a24-d44f-45ab-81c2-da7c99307eed"
      },
      "execution_count": 23,
      "outputs": [
        {
          "output_type": "display_data",
          "data": {
            "text/plain": [
              "<Figure size 900x600 with 1 Axes>"
            ],
            "image/png": "[encoded data removed]"
          },
          "metadata": {}
        }
      ]
    },
    {
      "cell_type": "markdown",
      "source": [
        "> ## 5) Model Evaluate"
      ],
      "metadata": {
        "id": "7zLITWDDt3DF"
      }
    },
    {
      "cell_type": "code",
      "source": [
        "test_mse_score, test_mae_score = boston.evaluate(X_test, y_test)\n",
        "\n",
        "print('MAE is :', test_mae_score)"
      ],
      "metadata": {
        "colab": {
          "base_uri": "https://localhost:8080/"
        },
        "id": "ttXUNC5Bt1No",
        "outputId": "3848394f-f7bc-4a28-a187-13cb73b9cccd"
      },
      "execution_count": 24,
      "outputs": [
        {
          "output_type": "stream",
          "name": "stdout",
          "text": [
            "4/4 [==============================] - 0s 4ms/step - loss: 595.9893 - mae: 22.6017\n",
            "MAE is : 22.60173797607422\n"
          ]
        }
      ]
    },
    {
      "cell_type": "markdown",
      "source": [
        "> ## 6) Keras Session Clear"
      ],
      "metadata": {
        "id": "YE2GQV27uBaE"
      }
    },
    {
      "cell_type": "code",
      "source": [
        "from tensorflow.keras import backend as K\n",
        "\n",
        "K.clear_session()"
      ],
      "metadata": {
        "id": "5l-lE68fuAbq"
      },
      "execution_count": 25,
      "outputs": []
    },
    {
      "cell_type": "markdown",
      "source": [
        "# IV. Callbacks( )\n",
        "\n",
        "> ## 1) Model Define & Compile"
      ],
      "metadata": {
        "id": "iPaySx5LuIY3"
      }
    },
    {
      "cell_type": "code",
      "source": [
        "from tensorflow.keras import models, layers\n",
        "\n",
        "boston = models.Sequential(name = 'EarlyStopping')\n",
        "boston.add(layers.Dense(64, activation = 'relu', input_shape = (13,)))\n",
        "boston.add(layers.Dense(64, activation = 'relu'))\n",
        "boston.add(layers.Dense(1))\n",
        "\n",
        "boston.compile(loss = 'mse',\n",
        "               optimizer = 'rmsprop',\n",
        "               metrics = ['mae'])"
      ],
      "metadata": {
        "id": "76pc_sdRuHW9"
      },
      "execution_count": 26,
      "outputs": []
    },
    {
      "cell_type": "markdown",
      "source": [
        "> ## 2) EarlyStopping( )\n",
        "\n",
        "- monitor : 모니터링 대상 성능\n",
        "- mode : 모니터링 대상을 최소화(min) 또는 최대화(max)\n",
        "- patience : 성능이 개선되지 않는 epoch 횟수"
      ],
      "metadata": {
        "id": "KdkDcD3BuuM1"
      }
    },
    {
      "cell_type": "code",
      "source": [
        "from tensorflow.keras.callbacks import EarlyStopping\n",
        "\n",
        "es = EarlyStopping(monitor = 'val_mse',\n",
        "                   mode = 'min',\n",
        "                   patience = 50,\n",
        "                   verbose = 1)"
      ],
      "metadata": {
        "id": "QaL60GJrugJK"
      },
      "execution_count": 27,
      "outputs": []
    },
    {
      "cell_type": "markdown",
      "source": [
        "> ## 3) ModelCheckpoint()\n",
        "\n",
        "- 'best_boston.h5' : 최적모델이 저장될 경로\n",
        "- save_best_only : 최적모델만 저장할지 지정"
      ],
      "metadata": {
        "id": "OgSrbaNlu7HD"
      }
    },
    {
      "cell_type": "code",
      "source": [
        "from tensorflow.keras.callbacks import ModelCheckpoint\n",
        "\n",
        "mc = ModelCheckpoint('best_boston.h5',\n",
        "                     monitor = 'val_mae',\n",
        "                     mode = 'min',\n",
        "                     save_best_only = True,\n",
        "                     verbose = 1)"
      ],
      "metadata": {
        "id": "YPBUqoCQu56w"
      },
      "execution_count": 28,
      "outputs": []
    },
    {
      "cell_type": "markdown",
      "source": [
        "> ## 4) Model Fit with callbacks\n",
        "\n",
        "- callbacks : Earlystopping( ) 과 ModelCheckpoint( ) 객체 지정"
      ],
      "metadata": {
        "id": "-2FjwqQfvOqE"
      }
    },
    {
      "cell_type": "code",
      "source": [
        "%%time\n",
        "\n",
        "Hist_boston = boston.fit(X_train, y_train,\n",
        "                         epochs = 500,\n",
        "                         batch_size = 1,\n",
        "                         validation_data = (X_valid, y_valid),\n",
        "                         callbacks = [es, mc],\n",
        "                         verbose = 1)"
      ],
      "metadata": {
        "colab": {
          "base_uri": "https://localhost:8080/"
        },
        "id": "aInLFYN5vNAU",
        "outputId": "8f9319f6-2ec5-47e6-9c0d-fb3dea286ddf"
      },
      "execution_count": 29,
      "outputs": [
        {
          "output_type": "stream",
          "name": "stdout",
          "text": [
            "Epoch 1/500\n",
            "304/323 [===========================>..] - ETA: 0s - loss: 223.9678 - mae: 11.0432"
          ]
        },
        {
          "output_type": "stream",
          "name": "stderr",
          "text": [
            "WARNING:tensorflow:Early stopping conditioned on metric `val_mse` which is not available. Available metrics are: loss,mae,val_loss,val_mae\n"
          ]
        },
        {
          "output_type": "stream",
          "name": "stdout",
          "text": [
            "\n",
            "Epoch 1: val_mae improved from inf to 3.78904, saving model to best_boston.h5\n",
            "323/323 [==============================] - 2s 3ms/step - loss: 212.5026 - mae: 10.6522 - val_loss: 45.5290 - val_mae: 3.7890\n",
            "Epoch 2/500\n",
            "313/323 [============================>.] - ETA: 0s - loss: 24.9100 - mae: 3.4696"
          ]
        },
        {
          "output_type": "stream",
          "name": "stderr",
          "text": [
            "WARNING:tensorflow:Early stopping conditioned on metric `val_mse` which is not available. Available metrics are: loss,mae,val_loss,val_mae\n"
          ]
        },
        {
          "output_type": "stream",
          "name": "stdout",
          "text": [
            "\n",
            "Epoch 2: val_mae improved from 3.78904 to 3.22945, saving model to best_boston.h5\n",
            "323/323 [==============================] - 1s 2ms/step - loss: 24.7526 - mae: 3.4767 - val_loss: 35.6736 - val_mae: 3.2295\n",
            "Epoch 3/500\n",
            "299/323 [==========================>...] - ETA: 0s - loss: 19.4769 - mae: 2.9445"
          ]
        },
        {
          "output_type": "stream",
          "name": "stderr",
          "text": [
            "WARNING:tensorflow:Early stopping conditioned on metric `val_mse` which is not available. Available metrics are: loss,mae,val_loss,val_mae\n"
          ]
        },
        {
          "output_type": "stream",
          "name": "stdout",
          "text": [
            "\n",
            "Epoch 3: val_mae improved from 3.22945 to 2.60779, saving model to best_boston.h5\n",
            "323/323 [==============================] - 1s 2ms/step - loss: 18.7058 - mae: 2.9072 - val_loss: 27.8423 - val_mae: 2.6078\n",
            "Epoch 4/500\n",
            "321/323 [============================>.] - ETA: 0s - loss: 16.8647 - mae: 2.7453"
          ]
        },
        {
          "output_type": "stream",
          "name": "stderr",
          "text": [
            "WARNING:tensorflow:Early stopping conditioned on metric `val_mse` which is not available. Available metrics are: loss,mae,val_loss,val_mae\n"
          ]
        },
        {
          "output_type": "stream",
          "name": "stdout",
          "text": [
            "\n",
            "Epoch 4: val_mae improved from 2.60779 to 2.54153, saving model to best_boston.h5\n",
            "323/323 [==============================] - 1s 2ms/step - loss: 16.7946 - mae: 2.7397 - val_loss: 24.7013 - val_mae: 2.5415\n",
            "Epoch 5/500\n",
            "288/323 [=========================>....] - ETA: 0s - loss: 16.0800 - mae: 2.5220"
          ]
        },
        {
          "output_type": "stream",
          "name": "stderr",
          "text": [
            "WARNING:tensorflow:Early stopping conditioned on metric `val_mse` which is not available. Available metrics are: loss,mae,val_loss,val_mae\n"
          ]
        },
        {
          "output_type": "stream",
          "name": "stdout",
          "text": [
            "\n",
            "Epoch 5: val_mae did not improve from 2.54153\n",
            "323/323 [==============================] - 1s 2ms/step - loss: 15.0640 - mae: 2.4701 - val_loss: 23.0919 - val_mae: 2.6199\n",
            "Epoch 6/500\n",
            "320/323 [============================>.] - ETA: 0s - loss: 14.0313 - mae: 2.4393"
          ]
        },
        {
          "output_type": "stream",
          "name": "stderr",
          "text": [
            "WARNING:tensorflow:Early stopping conditioned on metric `val_mse` which is not available. Available metrics are: loss,mae,val_loss,val_mae\n"
          ]
        },
        {
          "output_type": "stream",
          "name": "stdout",
          "text": [
            "\n",
            "Epoch 6: val_mae improved from 2.54153 to 2.45411, saving model to best_boston.h5\n",
            "323/323 [==============================] - 1s 2ms/step - loss: 13.9416 - mae: 2.4316 - val_loss: 19.3660 - val_mae: 2.4541\n",
            "Epoch 7/500\n",
            "319/323 [============================>.] - ETA: 0s - loss: 12.7886 - mae: 2.4408"
          ]
        },
        {
          "output_type": "stream",
          "name": "stderr",
          "text": [
            "WARNING:tensorflow:Early stopping conditioned on metric `val_mse` which is not available. Available metrics are: loss,mae,val_loss,val_mae\n"
          ]
        },
        {
          "output_type": "stream",
          "name": "stdout",
          "text": [
            "\n",
            "Epoch 7: val_mae improved from 2.45411 to 2.40399, saving model to best_boston.h5\n",
            "323/323 [==============================] - 1s 2ms/step - loss: 12.7204 - mae: 2.4394 - val_loss: 20.9916 - val_mae: 2.4040\n",
            "Epoch 8/500\n",
            "316/323 [============================>.] - ETA: 0s - loss: 11.2823 - mae: 2.2845"
          ]
        },
        {
          "output_type": "stream",
          "name": "stderr",
          "text": [
            "WARNING:tensorflow:Early stopping conditioned on metric `val_mse` which is not available. Available metrics are: loss,mae,val_loss,val_mae\n"
          ]
        },
        {
          "output_type": "stream",
          "name": "stdout",
          "text": [
            "\n",
            "Epoch 8: val_mae did not improve from 2.40399\n",
            "323/323 [==============================] - 1s 2ms/step - loss: 12.1048 - mae: 2.3158 - val_loss: 17.0462 - val_mae: 2.6846\n",
            "Epoch 9/500\n",
            "291/323 [==========================>...] - ETA: 0s - loss: 11.5668 - mae: 2.2754"
          ]
        },
        {
          "output_type": "stream",
          "name": "stderr",
          "text": [
            "WARNING:tensorflow:Early stopping conditioned on metric `val_mse` which is not available. Available metrics are: loss,mae,val_loss,val_mae\n"
          ]
        },
        {
          "output_type": "stream",
          "name": "stdout",
          "text": [
            "\n",
            "Epoch 9: val_mae improved from 2.40399 to 2.32542, saving model to best_boston.h5\n",
            "323/323 [==============================] - 1s 2ms/step - loss: 12.3053 - mae: 2.2929 - val_loss: 16.9543 - val_mae: 2.3254\n",
            "Epoch 10/500\n",
            "288/323 [=========================>....] - ETA: 0s - loss: 12.0821 - mae: 2.2409"
          ]
        },
        {
          "output_type": "stream",
          "name": "stderr",
          "text": [
            "WARNING:tensorflow:Early stopping conditioned on metric `val_mse` which is not available. Available metrics are: loss,mae,val_loss,val_mae\n"
          ]
        },
        {
          "output_type": "stream",
          "name": "stdout",
          "text": [
            "\n",
            "Epoch 10: val_mae improved from 2.32542 to 2.23762, saving model to best_boston.h5\n",
            "323/323 [==============================] - 1s 2ms/step - loss: 11.7179 - mae: 2.2404 - val_loss: 16.8678 - val_mae: 2.2376\n",
            "Epoch 11/500\n",
            "293/323 [==========================>...] - ETA: 0s - loss: 11.2875 - mae: 2.2223"
          ]
        },
        {
          "output_type": "stream",
          "name": "stderr",
          "text": [
            "WARNING:tensorflow:Early stopping conditioned on metric `val_mse` which is not available. Available metrics are: loss,mae,val_loss,val_mae\n"
          ]
        },
        {
          "output_type": "stream",
          "name": "stdout",
          "text": [
            "\n",
            "Epoch 11: val_mae did not improve from 2.23762\n",
            "323/323 [==============================] - 1s 2ms/step - loss: 10.8716 - mae: 2.1986 - val_loss: 16.4474 - val_mae: 2.3350\n",
            "Epoch 12/500\n",
            "315/323 [============================>.] - ETA: 0s - loss: 10.6982 - mae: 2.1114"
          ]
        },
        {
          "output_type": "stream",
          "name": "stderr",
          "text": [
            "WARNING:tensorflow:Early stopping conditioned on metric `val_mse` which is not available. Available metrics are: loss,mae,val_loss,val_mae\n"
          ]
        },
        {
          "output_type": "stream",
          "name": "stdout",
          "text": [
            "\n",
            "Epoch 12: val_mae did not improve from 2.23762\n",
            "323/323 [==============================] - 1s 2ms/step - loss: 10.5892 - mae: 2.1090 - val_loss: 16.8121 - val_mae: 2.3681\n",
            "Epoch 13/500\n",
            "318/323 [============================>.] - ETA: 0s - loss: 10.5894 - mae: 2.1390"
          ]
        },
        {
          "output_type": "stream",
          "name": "stderr",
          "text": [
            "WARNING:tensorflow:Early stopping conditioned on metric `val_mse` which is not available. Available metrics are: loss,mae,val_loss,val_mae\n"
          ]
        },
        {
          "output_type": "stream",
          "name": "stdout",
          "text": [
            "\n",
            "Epoch 13: val_mae did not improve from 2.23762\n",
            "323/323 [==============================] - 1s 3ms/step - loss: 10.5267 - mae: 2.1419 - val_loss: 16.4185 - val_mae: 2.2838\n",
            "Epoch 14/500\n",
            "313/323 [============================>.] - ETA: 0s - loss: 9.8310 - mae: 2.0846 "
          ]
        },
        {
          "output_type": "stream",
          "name": "stderr",
          "text": [
            "WARNING:tensorflow:Early stopping conditioned on metric `val_mse` which is not available. Available metrics are: loss,mae,val_loss,val_mae\n"
          ]
        },
        {
          "output_type": "stream",
          "name": "stdout",
          "text": [
            "\n",
            "Epoch 14: val_mae did not improve from 2.23762\n",
            "323/323 [==============================] - 1s 3ms/step - loss: 9.6383 - mae: 2.0740 - val_loss: 17.8428 - val_mae: 2.4399\n",
            "Epoch 15/500\n",
            "312/323 [===========================>..] - ETA: 0s - loss: 9.4868 - mae: 1.9788"
          ]
        },
        {
          "output_type": "stream",
          "name": "stderr",
          "text": [
            "WARNING:tensorflow:Early stopping conditioned on metric `val_mse` which is not available. Available metrics are: loss,mae,val_loss,val_mae\n"
          ]
        },
        {
          "output_type": "stream",
          "name": "stdout",
          "text": [
            "\n",
            "Epoch 15: val_mae did not improve from 2.23762\n",
            "323/323 [==============================] - 1s 4ms/step - loss: 10.2048 - mae: 2.0352 - val_loss: 15.4873 - val_mae: 2.7610\n",
            "Epoch 16/500\n",
            "309/323 [===========================>..] - ETA: 0s - loss: 8.8590 - mae: 2.0309"
          ]
        },
        {
          "output_type": "stream",
          "name": "stderr",
          "text": [
            "WARNING:tensorflow:Early stopping conditioned on metric `val_mse` which is not available. Available metrics are: loss,mae,val_loss,val_mae\n"
          ]
        },
        {
          "output_type": "stream",
          "name": "stdout",
          "text": [
            "\n",
            "Epoch 16: val_mae did not improve from 2.23762\n",
            "323/323 [==============================] - 1s 2ms/step - loss: 9.8476 - mae: 2.0842 - val_loss: 14.8852 - val_mae: 2.3270\n",
            "Epoch 17/500\n",
            "318/323 [============================>.] - ETA: 0s - loss: 9.4442 - mae: 2.0314"
          ]
        },
        {
          "output_type": "stream",
          "name": "stderr",
          "text": [
            "WARNING:tensorflow:Early stopping conditioned on metric `val_mse` which is not available. Available metrics are: loss,mae,val_loss,val_mae\n"
          ]
        },
        {
          "output_type": "stream",
          "name": "stdout",
          "text": [
            "\n",
            "Epoch 17: val_mae did not improve from 2.23762\n",
            "323/323 [==============================] - 1s 2ms/step - loss: 9.3828 - mae: 2.0306 - val_loss: 17.3145 - val_mae: 2.5251\n",
            "Epoch 18/500\n",
            "315/323 [============================>.] - ETA: 0s - loss: 9.3738 - mae: 1.9836"
          ]
        },
        {
          "output_type": "stream",
          "name": "stderr",
          "text": [
            "WARNING:tensorflow:Early stopping conditioned on metric `val_mse` which is not available. Available metrics are: loss,mae,val_loss,val_mae\n"
          ]
        },
        {
          "output_type": "stream",
          "name": "stdout",
          "text": [
            "\n",
            "Epoch 18: val_mae did not improve from 2.23762\n",
            "323/323 [==============================] - 1s 2ms/step - loss: 9.4334 - mae: 1.9912 - val_loss: 18.9143 - val_mae: 2.6251\n",
            "Epoch 19/500\n",
            "298/323 [==========================>...] - ETA: 0s - loss: 8.9905 - mae: 2.0326"
          ]
        },
        {
          "output_type": "stream",
          "name": "stderr",
          "text": [
            "WARNING:tensorflow:Early stopping conditioned on metric `val_mse` which is not available. Available metrics are: loss,mae,val_loss,val_mae\n"
          ]
        },
        {
          "output_type": "stream",
          "name": "stdout",
          "text": [
            "\n",
            "Epoch 19: val_mae did not improve from 2.23762\n",
            "323/323 [==============================] - 1s 2ms/step - loss: 8.5575 - mae: 1.9894 - val_loss: 18.0972 - val_mae: 2.4009\n",
            "Epoch 20/500\n",
            "316/323 [============================>.] - ETA: 0s - loss: 9.3267 - mae: 1.9869"
          ]
        },
        {
          "output_type": "stream",
          "name": "stderr",
          "text": [
            "WARNING:tensorflow:Early stopping conditioned on metric `val_mse` which is not available. Available metrics are: loss,mae,val_loss,val_mae\n"
          ]
        },
        {
          "output_type": "stream",
          "name": "stdout",
          "text": [
            "\n",
            "Epoch 20: val_mae improved from 2.23762 to 2.11828, saving model to best_boston.h5\n",
            "323/323 [==============================] - 1s 2ms/step - loss: 9.2336 - mae: 1.9852 - val_loss: 13.2861 - val_mae: 2.1183\n",
            "Epoch 21/500\n",
            "304/323 [===========================>..] - ETA: 0s - loss: 8.7733 - mae: 1.9456"
          ]
        },
        {
          "output_type": "stream",
          "name": "stderr",
          "text": [
            "WARNING:tensorflow:Early stopping conditioned on metric `val_mse` which is not available. Available metrics are: loss,mae,val_loss,val_mae\n"
          ]
        },
        {
          "output_type": "stream",
          "name": "stdout",
          "text": [
            "\n",
            "Epoch 21: val_mae did not improve from 2.11828\n",
            "323/323 [==============================] - 1s 3ms/step - loss: 8.7016 - mae: 1.9577 - val_loss: 14.5588 - val_mae: 2.1734\n",
            "Epoch 22/500\n",
            "296/323 [==========================>...] - ETA: 0s - loss: 8.8817 - mae: 1.9444"
          ]
        },
        {
          "output_type": "stream",
          "name": "stderr",
          "text": [
            "WARNING:tensorflow:Early stopping conditioned on metric `val_mse` which is not available. Available metrics are: loss,mae,val_loss,val_mae\n"
          ]
        },
        {
          "output_type": "stream",
          "name": "stdout",
          "text": [
            "\n",
            "Epoch 22: val_mae did not improve from 2.11828\n",
            "323/323 [==============================] - 1s 2ms/step - loss: 8.9701 - mae: 1.9365 - val_loss: 14.0912 - val_mae: 2.2525\n",
            "Epoch 23/500\n",
            "321/323 [============================>.] - ETA: 0s - loss: 8.9073 - mae: 1.9462"
          ]
        },
        {
          "output_type": "stream",
          "name": "stderr",
          "text": [
            "WARNING:tensorflow:Early stopping conditioned on metric `val_mse` which is not available. Available metrics are: loss,mae,val_loss,val_mae\n"
          ]
        },
        {
          "output_type": "stream",
          "name": "stdout",
          "text": [
            "\n",
            "Epoch 23: val_mae did not improve from 2.11828\n",
            "323/323 [==============================] - 1s 2ms/step - loss: 8.9016 - mae: 1.9515 - val_loss: 16.7637 - val_mae: 2.5867\n",
            "Epoch 24/500\n",
            "311/323 [===========================>..] - ETA: 0s - loss: 8.3797 - mae: 1.9023"
          ]
        },
        {
          "output_type": "stream",
          "name": "stderr",
          "text": [
            "WARNING:tensorflow:Early stopping conditioned on metric `val_mse` which is not available. Available metrics are: loss,mae,val_loss,val_mae\n"
          ]
        },
        {
          "output_type": "stream",
          "name": "stdout",
          "text": [
            "\n",
            "Epoch 24: val_mae did not improve from 2.11828\n",
            "323/323 [==============================] - 1s 2ms/step - loss: 8.3084 - mae: 1.9055 - val_loss: 14.8104 - val_mae: 2.2757\n",
            "Epoch 25/500\n",
            "318/323 [============================>.] - ETA: 0s - loss: 8.4104 - mae: 1.8737"
          ]
        },
        {
          "output_type": "stream",
          "name": "stderr",
          "text": [
            "WARNING:tensorflow:Early stopping conditioned on metric `val_mse` which is not available. Available metrics are: loss,mae,val_loss,val_mae\n"
          ]
        },
        {
          "output_type": "stream",
          "name": "stdout",
          "text": [
            "\n",
            "Epoch 25: val_mae did not improve from 2.11828\n",
            "323/323 [==============================] - 1s 2ms/step - loss: 8.4018 - mae: 1.8872 - val_loss: 15.3398 - val_mae: 2.3267\n",
            "Epoch 26/500\n",
            "299/323 [==========================>...] - ETA: 0s - loss: 8.3438 - mae: 1.8761"
          ]
        },
        {
          "output_type": "stream",
          "name": "stderr",
          "text": [
            "WARNING:tensorflow:Early stopping conditioned on metric `val_mse` which is not available. Available metrics are: loss,mae,val_loss,val_mae\n"
          ]
        },
        {
          "output_type": "stream",
          "name": "stdout",
          "text": [
            "\n",
            "Epoch 26: val_mae did not improve from 2.11828\n",
            "323/323 [==============================] - 1s 3ms/step - loss: 8.2636 - mae: 1.9008 - val_loss: 12.8703 - val_mae: 2.2384\n",
            "Epoch 27/500\n",
            "294/323 [==========================>...] - ETA: 0s - loss: 6.2480 - mae: 1.8078"
          ]
        },
        {
          "output_type": "stream",
          "name": "stderr",
          "text": [
            "WARNING:tensorflow:Early stopping conditioned on metric `val_mse` which is not available. Available metrics are: loss,mae,val_loss,val_mae\n"
          ]
        },
        {
          "output_type": "stream",
          "name": "stdout",
          "text": [
            "\n",
            "Epoch 27: val_mae did not improve from 2.11828\n",
            "323/323 [==============================] - 1s 2ms/step - loss: 8.1931 - mae: 1.9030 - val_loss: 13.4106 - val_mae: 2.4581\n",
            "Epoch 28/500\n",
            "322/323 [============================>.] - ETA: 0s - loss: 8.2419 - mae: 1.8639"
          ]
        },
        {
          "output_type": "stream",
          "name": "stderr",
          "text": [
            "WARNING:tensorflow:Early stopping conditioned on metric `val_mse` which is not available. Available metrics are: loss,mae,val_loss,val_mae\n"
          ]
        },
        {
          "output_type": "stream",
          "name": "stdout",
          "text": [
            "\n",
            "Epoch 28: val_mae did not improve from 2.11828\n",
            "323/323 [==============================] - 1s 2ms/step - loss: 8.2171 - mae: 1.8596 - val_loss: 13.4270 - val_mae: 2.3675\n",
            "Epoch 29/500\n",
            "292/323 [==========================>...] - ETA: 0s - loss: 7.6485 - mae: 1.8275"
          ]
        },
        {
          "output_type": "stream",
          "name": "stderr",
          "text": [
            "WARNING:tensorflow:Early stopping conditioned on metric `val_mse` which is not available. Available metrics are: loss,mae,val_loss,val_mae\n"
          ]
        },
        {
          "output_type": "stream",
          "name": "stdout",
          "text": [
            "\n",
            "Epoch 29: val_mae did not improve from 2.11828\n",
            "323/323 [==============================] - 1s 2ms/step - loss: 8.3712 - mae: 1.8772 - val_loss: 13.4833 - val_mae: 2.1915\n",
            "Epoch 30/500\n",
            "318/323 [============================>.] - ETA: 0s - loss: 7.8103 - mae: 1.8739"
          ]
        },
        {
          "output_type": "stream",
          "name": "stderr",
          "text": [
            "WARNING:tensorflow:Early stopping conditioned on metric `val_mse` which is not available. Available metrics are: loss,mae,val_loss,val_mae\n"
          ]
        },
        {
          "output_type": "stream",
          "name": "stdout",
          "text": [
            "\n",
            "Epoch 30: val_mae did not improve from 2.11828\n",
            "323/323 [==============================] - 1s 4ms/step - loss: 7.7306 - mae: 1.8647 - val_loss: 14.3523 - val_mae: 2.2579\n",
            "Epoch 31/500\n",
            "305/323 [===========================>..] - ETA: 0s - loss: 8.3763 - mae: 1.7994"
          ]
        },
        {
          "output_type": "stream",
          "name": "stderr",
          "text": [
            "WARNING:tensorflow:Early stopping conditioned on metric `val_mse` which is not available. Available metrics are: loss,mae,val_loss,val_mae\n"
          ]
        },
        {
          "output_type": "stream",
          "name": "stdout",
          "text": [
            "\n",
            "Epoch 31: val_mae did not improve from 2.11828\n",
            "323/323 [==============================] - 1s 3ms/step - loss: 8.1317 - mae: 1.7836 - val_loss: 18.2771 - val_mae: 2.7317\n",
            "Epoch 32/500\n",
            "296/323 [==========================>...] - ETA: 0s - loss: 5.7866 - mae: 1.7496"
          ]
        },
        {
          "output_type": "stream",
          "name": "stderr",
          "text": [
            "WARNING:tensorflow:Early stopping conditioned on metric `val_mse` which is not available. Available metrics are: loss,mae,val_loss,val_mae\n"
          ]
        },
        {
          "output_type": "stream",
          "name": "stdout",
          "text": [
            "\n",
            "Epoch 32: val_mae did not improve from 2.11828\n",
            "323/323 [==============================] - 1s 3ms/step - loss: 7.7250 - mae: 1.8119 - val_loss: 12.5539 - val_mae: 2.1605\n",
            "Epoch 33/500\n",
            "313/323 [============================>.] - ETA: 0s - loss: 8.0897 - mae: 1.7721"
          ]
        },
        {
          "output_type": "stream",
          "name": "stderr",
          "text": [
            "WARNING:tensorflow:Early stopping conditioned on metric `val_mse` which is not available. Available metrics are: loss,mae,val_loss,val_mae\n"
          ]
        },
        {
          "output_type": "stream",
          "name": "stdout",
          "text": [
            "\n",
            "Epoch 33: val_mae did not improve from 2.11828\n",
            "323/323 [==============================] - 1s 2ms/step - loss: 7.9856 - mae: 1.7609 - val_loss: 13.7128 - val_mae: 2.2825\n",
            "Epoch 34/500\n",
            "322/323 [============================>.] - ETA: 0s - loss: 8.0047 - mae: 1.8110"
          ]
        },
        {
          "output_type": "stream",
          "name": "stderr",
          "text": [
            "WARNING:tensorflow:Early stopping conditioned on metric `val_mse` which is not available. Available metrics are: loss,mae,val_loss,val_mae\n"
          ]
        },
        {
          "output_type": "stream",
          "name": "stdout",
          "text": [
            "\n",
            "Epoch 34: val_mae did not improve from 2.11828\n",
            "323/323 [==============================] - 1s 2ms/step - loss: 7.9810 - mae: 1.8072 - val_loss: 12.1515 - val_mae: 2.2784\n",
            "Epoch 35/500\n",
            "293/323 [==========================>...] - ETA: 0s - loss: 6.9516 - mae: 1.7378"
          ]
        },
        {
          "output_type": "stream",
          "name": "stderr",
          "text": [
            "WARNING:tensorflow:Early stopping conditioned on metric `val_mse` which is not available. Available metrics are: loss,mae,val_loss,val_mae\n"
          ]
        },
        {
          "output_type": "stream",
          "name": "stdout",
          "text": [
            "\n",
            "Epoch 35: val_mae did not improve from 2.11828\n",
            "323/323 [==============================] - 1s 2ms/step - loss: 7.4016 - mae: 1.8096 - val_loss: 12.3392 - val_mae: 2.2401\n",
            "Epoch 36/500\n",
            "307/323 [===========================>..] - ETA: 0s - loss: 7.5460 - mae: 1.7604"
          ]
        },
        {
          "output_type": "stream",
          "name": "stderr",
          "text": [
            "WARNING:tensorflow:Early stopping conditioned on metric `val_mse` which is not available. Available metrics are: loss,mae,val_loss,val_mae\n"
          ]
        },
        {
          "output_type": "stream",
          "name": "stdout",
          "text": [
            "\n",
            "Epoch 36: val_mae did not improve from 2.11828\n",
            "323/323 [==============================] - 1s 3ms/step - loss: 7.4315 - mae: 1.7569 - val_loss: 13.9115 - val_mae: 2.3204\n",
            "Epoch 37/500\n",
            "299/323 [==========================>...] - ETA: 0s - loss: 6.1041 - mae: 1.7320"
          ]
        },
        {
          "output_type": "stream",
          "name": "stderr",
          "text": [
            "WARNING:tensorflow:Early stopping conditioned on metric `val_mse` which is not available. Available metrics are: loss,mae,val_loss,val_mae\n"
          ]
        },
        {
          "output_type": "stream",
          "name": "stdout",
          "text": [
            "\n",
            "Epoch 37: val_mae did not improve from 2.11828\n",
            "323/323 [==============================] - 1s 2ms/step - loss: 7.6737 - mae: 1.8128 - val_loss: 13.2167 - val_mae: 2.2607\n",
            "Epoch 38/500\n",
            "323/323 [==============================] - ETA: 0s - loss: 7.0789 - mae: 1.6891"
          ]
        },
        {
          "output_type": "stream",
          "name": "stderr",
          "text": [
            "WARNING:tensorflow:Early stopping conditioned on metric `val_mse` which is not available. Available metrics are: loss,mae,val_loss,val_mae\n"
          ]
        },
        {
          "output_type": "stream",
          "name": "stdout",
          "text": [
            "\n",
            "Epoch 38: val_mae did not improve from 2.11828\n",
            "323/323 [==============================] - 1s 3ms/step - loss: 7.0789 - mae: 1.6891 - val_loss: 15.2905 - val_mae: 2.7170\n",
            "Epoch 39/500\n",
            "316/323 [============================>.] - ETA: 0s - loss: 7.1751 - mae: 1.7159"
          ]
        },
        {
          "output_type": "stream",
          "name": "stderr",
          "text": [
            "WARNING:tensorflow:Early stopping conditioned on metric `val_mse` which is not available. Available metrics are: loss,mae,val_loss,val_mae\n"
          ]
        },
        {
          "output_type": "stream",
          "name": "stdout",
          "text": [
            "\n",
            "Epoch 39: val_mae did not improve from 2.11828\n",
            "323/323 [==============================] - 1s 2ms/step - loss: 7.1404 - mae: 1.7162 - val_loss: 12.8731 - val_mae: 2.3158\n",
            "Epoch 40/500\n",
            "322/323 [============================>.] - ETA: 0s - loss: 7.2463 - mae: 1.7236"
          ]
        },
        {
          "output_type": "stream",
          "name": "stderr",
          "text": [
            "WARNING:tensorflow:Early stopping conditioned on metric `val_mse` which is not available. Available metrics are: loss,mae,val_loss,val_mae\n"
          ]
        },
        {
          "output_type": "stream",
          "name": "stdout",
          "text": [
            "\n",
            "Epoch 40: val_mae did not improve from 2.11828\n",
            "323/323 [==============================] - 1s 2ms/step - loss: 7.2240 - mae: 1.7188 - val_loss: 12.1267 - val_mae: 2.2329\n",
            "Epoch 41/500\n",
            "314/323 [============================>.] - ETA: 0s - loss: 7.2450 - mae: 1.7343"
          ]
        },
        {
          "output_type": "stream",
          "name": "stderr",
          "text": [
            "WARNING:tensorflow:Early stopping conditioned on metric `val_mse` which is not available. Available metrics are: loss,mae,val_loss,val_mae\n"
          ]
        },
        {
          "output_type": "stream",
          "name": "stdout",
          "text": [
            "\n",
            "Epoch 41: val_mae did not improve from 2.11828\n",
            "323/323 [==============================] - 1s 2ms/step - loss: 7.1402 - mae: 1.7283 - val_loss: 13.2699 - val_mae: 2.3942\n",
            "Epoch 42/500\n",
            "289/323 [=========================>....] - ETA: 0s - loss: 5.5701 - mae: 1.6971"
          ]
        },
        {
          "output_type": "stream",
          "name": "stderr",
          "text": [
            "WARNING:tensorflow:Early stopping conditioned on metric `val_mse` which is not available. Available metrics are: loss,mae,val_loss,val_mae\n"
          ]
        },
        {
          "output_type": "stream",
          "name": "stdout",
          "text": [
            "\n",
            "Epoch 42: val_mae did not improve from 2.11828\n",
            "323/323 [==============================] - 1s 2ms/step - loss: 7.2765 - mae: 1.7819 - val_loss: 12.0209 - val_mae: 2.1893\n",
            "Epoch 43/500\n",
            "313/323 [============================>.] - ETA: 0s - loss: 7.0441 - mae: 1.7277"
          ]
        },
        {
          "output_type": "stream",
          "name": "stderr",
          "text": [
            "WARNING:tensorflow:Early stopping conditioned on metric `val_mse` which is not available. Available metrics are: loss,mae,val_loss,val_mae\n"
          ]
        },
        {
          "output_type": "stream",
          "name": "stdout",
          "text": [
            "\n",
            "Epoch 43: val_mae did not improve from 2.11828\n",
            "323/323 [==============================] - 1s 3ms/step - loss: 6.9354 - mae: 1.7177 - val_loss: 11.1766 - val_mae: 2.1947\n",
            "Epoch 44/500\n",
            "308/323 [===========================>..] - ETA: 0s - loss: 6.3886 - mae: 1.7116"
          ]
        },
        {
          "output_type": "stream",
          "name": "stderr",
          "text": [
            "WARNING:tensorflow:Early stopping conditioned on metric `val_mse` which is not available. Available metrics are: loss,mae,val_loss,val_mae\n"
          ]
        },
        {
          "output_type": "stream",
          "name": "stdout",
          "text": [
            "\n",
            "Epoch 44: val_mae did not improve from 2.11828\n",
            "323/323 [==============================] - 1s 2ms/step - loss: 6.3240 - mae: 1.6989 - val_loss: 12.6555 - val_mae: 2.2756\n",
            "Epoch 45/500\n",
            "320/323 [============================>.] - ETA: 0s - loss: 6.8216 - mae: 1.7236"
          ]
        },
        {
          "output_type": "stream",
          "name": "stderr",
          "text": [
            "WARNING:tensorflow:Early stopping conditioned on metric `val_mse` which is not available. Available metrics are: loss,mae,val_loss,val_mae\n"
          ]
        },
        {
          "output_type": "stream",
          "name": "stdout",
          "text": [
            "\n",
            "Epoch 45: val_mae did not improve from 2.11828\n",
            "323/323 [==============================] - 1s 3ms/step - loss: 6.8268 - mae: 1.7318 - val_loss: 11.5656 - val_mae: 2.1905\n",
            "Epoch 46/500\n",
            "317/323 [============================>.] - ETA: 0s - loss: 6.8473 - mae: 1.7385"
          ]
        },
        {
          "output_type": "stream",
          "name": "stderr",
          "text": [
            "WARNING:tensorflow:Early stopping conditioned on metric `val_mse` which is not available. Available metrics are: loss,mae,val_loss,val_mae\n"
          ]
        },
        {
          "output_type": "stream",
          "name": "stdout",
          "text": [
            "\n",
            "Epoch 46: val_mae did not improve from 2.11828\n",
            "323/323 [==============================] - 1s 3ms/step - loss: 6.7460 - mae: 1.7254 - val_loss: 13.9201 - val_mae: 2.5078\n",
            "Epoch 47/500\n",
            "319/323 [============================>.] - ETA: 0s - loss: 6.2516 - mae: 1.6918"
          ]
        },
        {
          "output_type": "stream",
          "name": "stderr",
          "text": [
            "WARNING:tensorflow:Early stopping conditioned on metric `val_mse` which is not available. Available metrics are: loss,mae,val_loss,val_mae\n"
          ]
        },
        {
          "output_type": "stream",
          "name": "stdout",
          "text": [
            "\n",
            "Epoch 47: val_mae did not improve from 2.11828\n",
            "323/323 [==============================] - 1s 3ms/step - loss: 6.2093 - mae: 1.6899 - val_loss: 11.3325 - val_mae: 2.1869\n",
            "Epoch 48/500\n",
            "319/323 [============================>.] - ETA: 0s - loss: 6.6022 - mae: 1.7238"
          ]
        },
        {
          "output_type": "stream",
          "name": "stderr",
          "text": [
            "WARNING:tensorflow:Early stopping conditioned on metric `val_mse` which is not available. Available metrics are: loss,mae,val_loss,val_mae\n"
          ]
        },
        {
          "output_type": "stream",
          "name": "stdout",
          "text": [
            "\n",
            "Epoch 48: val_mae did not improve from 2.11828\n",
            "323/323 [==============================] - 1s 3ms/step - loss: 6.5476 - mae: 1.7174 - val_loss: 11.6681 - val_mae: 2.1699\n",
            "Epoch 49/500\n",
            "316/323 [============================>.] - ETA: 0s - loss: 5.9741 - mae: 1.5615"
          ]
        },
        {
          "output_type": "stream",
          "name": "stderr",
          "text": [
            "WARNING:tensorflow:Early stopping conditioned on metric `val_mse` which is not available. Available metrics are: loss,mae,val_loss,val_mae\n"
          ]
        },
        {
          "output_type": "stream",
          "name": "stdout",
          "text": [
            "\n",
            "Epoch 49: val_mae did not improve from 2.11828\n",
            "323/323 [==============================] - 1s 2ms/step - loss: 6.6534 - mae: 1.6185 - val_loss: 12.7450 - val_mae: 2.2476\n",
            "Epoch 50/500\n",
            "309/323 [===========================>..] - ETA: 0s - loss: 6.9295 - mae: 1.6706"
          ]
        },
        {
          "output_type": "stream",
          "name": "stderr",
          "text": [
            "WARNING:tensorflow:Early stopping conditioned on metric `val_mse` which is not available. Available metrics are: loss,mae,val_loss,val_mae\n"
          ]
        },
        {
          "output_type": "stream",
          "name": "stdout",
          "text": [
            "\n",
            "Epoch 50: val_mae improved from 2.11828 to 2.04043, saving model to best_boston.h5\n",
            "323/323 [==============================] - 1s 3ms/step - loss: 6.7438 - mae: 1.6495 - val_loss: 10.9280 - val_mae: 2.0404\n",
            "Epoch 51/500\n",
            "317/323 [============================>.] - ETA: 0s - loss: 6.2064 - mae: 1.6582"
          ]
        },
        {
          "output_type": "stream",
          "name": "stderr",
          "text": [
            "WARNING:tensorflow:Early stopping conditioned on metric `val_mse` which is not available. Available metrics are: loss,mae,val_loss,val_mae\n"
          ]
        },
        {
          "output_type": "stream",
          "name": "stdout",
          "text": [
            "\n",
            "Epoch 51: val_mae did not improve from 2.04043\n",
            "323/323 [==============================] - 1s 3ms/step - loss: 6.2215 - mae: 1.6634 - val_loss: 11.2775 - val_mae: 2.0882\n",
            "Epoch 52/500\n",
            "323/323 [==============================] - ETA: 0s - loss: 6.3891 - mae: 1.6687"
          ]
        },
        {
          "output_type": "stream",
          "name": "stderr",
          "text": [
            "WARNING:tensorflow:Early stopping conditioned on metric `val_mse` which is not available. Available metrics are: loss,mae,val_loss,val_mae\n"
          ]
        },
        {
          "output_type": "stream",
          "name": "stdout",
          "text": [
            "\n",
            "Epoch 52: val_mae did not improve from 2.04043\n",
            "323/323 [==============================] - 1s 3ms/step - loss: 6.3891 - mae: 1.6687 - val_loss: 11.2300 - val_mae: 2.1248\n",
            "Epoch 53/500\n",
            "313/323 [============================>.] - ETA: 0s - loss: 6.2034 - mae: 1.6539"
          ]
        },
        {
          "output_type": "stream",
          "name": "stderr",
          "text": [
            "WARNING:tensorflow:Early stopping conditioned on metric `val_mse` which is not available. Available metrics are: loss,mae,val_loss,val_mae\n"
          ]
        },
        {
          "output_type": "stream",
          "name": "stdout",
          "text": [
            "\n",
            "Epoch 53: val_mae did not improve from 2.04043\n",
            "323/323 [==============================] - 1s 3ms/step - loss: 6.0941 - mae: 1.6366 - val_loss: 12.0723 - val_mae: 2.2810\n",
            "Epoch 54/500\n",
            "321/323 [============================>.] - ETA: 0s - loss: 5.9879 - mae: 1.6395"
          ]
        },
        {
          "output_type": "stream",
          "name": "stderr",
          "text": [
            "WARNING:tensorflow:Early stopping conditioned on metric `val_mse` which is not available. Available metrics are: loss,mae,val_loss,val_mae\n"
          ]
        },
        {
          "output_type": "stream",
          "name": "stdout",
          "text": [
            "\n",
            "Epoch 54: val_mae did not improve from 2.04043\n",
            "323/323 [==============================] - 1s 2ms/step - loss: 6.0351 - mae: 1.6478 - val_loss: 12.7847 - val_mae: 2.3718\n",
            "Epoch 55/500\n",
            "296/323 [==========================>...] - ETA: 0s - loss: 6.0584 - mae: 1.6951"
          ]
        },
        {
          "output_type": "stream",
          "name": "stderr",
          "text": [
            "WARNING:tensorflow:Early stopping conditioned on metric `val_mse` which is not available. Available metrics are: loss,mae,val_loss,val_mae\n"
          ]
        },
        {
          "output_type": "stream",
          "name": "stdout",
          "text": [
            "\n",
            "Epoch 55: val_mae did not improve from 2.04043\n",
            "323/323 [==============================] - 1s 2ms/step - loss: 6.0014 - mae: 1.6887 - val_loss: 14.1547 - val_mae: 2.5091\n",
            "Epoch 56/500\n",
            "319/323 [============================>.] - ETA: 0s - loss: 6.2369 - mae: 1.6020"
          ]
        },
        {
          "output_type": "stream",
          "name": "stderr",
          "text": [
            "WARNING:tensorflow:Early stopping conditioned on metric `val_mse` which is not available. Available metrics are: loss,mae,val_loss,val_mae\n"
          ]
        },
        {
          "output_type": "stream",
          "name": "stdout",
          "text": [
            "\n",
            "Epoch 56: val_mae did not improve from 2.04043\n",
            "323/323 [==============================] - 1s 2ms/step - loss: 6.2335 - mae: 1.6066 - val_loss: 12.6537 - val_mae: 2.2921\n",
            "Epoch 57/500\n",
            "295/323 [==========================>...] - ETA: 0s - loss: 6.3235 - mae: 1.6829"
          ]
        },
        {
          "output_type": "stream",
          "name": "stderr",
          "text": [
            "WARNING:tensorflow:Early stopping conditioned on metric `val_mse` which is not available. Available metrics are: loss,mae,val_loss,val_mae\n"
          ]
        },
        {
          "output_type": "stream",
          "name": "stdout",
          "text": [
            "\n",
            "Epoch 57: val_mae did not improve from 2.04043\n",
            "323/323 [==============================] - 1s 2ms/step - loss: 6.0030 - mae: 1.6436 - val_loss: 12.2862 - val_mae: 2.2859\n",
            "Epoch 58/500\n",
            "317/323 [============================>.] - ETA: 0s - loss: 6.4271 - mae: 1.6424"
          ]
        },
        {
          "output_type": "stream",
          "name": "stderr",
          "text": [
            "WARNING:tensorflow:Early stopping conditioned on metric `val_mse` which is not available. Available metrics are: loss,mae,val_loss,val_mae\n"
          ]
        },
        {
          "output_type": "stream",
          "name": "stdout",
          "text": [
            "\n",
            "Epoch 58: val_mae did not improve from 2.04043\n",
            "323/323 [==============================] - 1s 2ms/step - loss: 6.3381 - mae: 1.6335 - val_loss: 11.0361 - val_mae: 2.0995\n",
            "Epoch 59/500\n",
            "304/323 [===========================>..] - ETA: 0s - loss: 5.8015 - mae: 1.6284"
          ]
        },
        {
          "output_type": "stream",
          "name": "stderr",
          "text": [
            "WARNING:tensorflow:Early stopping conditioned on metric `val_mse` which is not available. Available metrics are: loss,mae,val_loss,val_mae\n"
          ]
        },
        {
          "output_type": "stream",
          "name": "stdout",
          "text": [
            "\n",
            "Epoch 59: val_mae did not improve from 2.04043\n",
            "323/323 [==============================] - 1s 2ms/step - loss: 5.9267 - mae: 1.6575 - val_loss: 11.9974 - val_mae: 2.1553\n",
            "Epoch 60/500\n",
            "310/323 [===========================>..] - ETA: 0s - loss: 5.9761 - mae: 1.6076"
          ]
        },
        {
          "output_type": "stream",
          "name": "stderr",
          "text": [
            "WARNING:tensorflow:Early stopping conditioned on metric `val_mse` which is not available. Available metrics are: loss,mae,val_loss,val_mae\n"
          ]
        },
        {
          "output_type": "stream",
          "name": "stdout",
          "text": [
            "\n",
            "Epoch 60: val_mae did not improve from 2.04043\n",
            "323/323 [==============================] - 1s 3ms/step - loss: 5.8223 - mae: 1.5828 - val_loss: 13.8650 - val_mae: 2.5333\n",
            "Epoch 61/500\n",
            "307/323 [===========================>..] - ETA: 0s - loss: 4.5862 - mae: 1.5407"
          ]
        },
        {
          "output_type": "stream",
          "name": "stderr",
          "text": [
            "WARNING:tensorflow:Early stopping conditioned on metric `val_mse` which is not available. Available metrics are: loss,mae,val_loss,val_mae\n"
          ]
        },
        {
          "output_type": "stream",
          "name": "stdout",
          "text": [
            "\n",
            "Epoch 61: val_mae did not improve from 2.04043\n",
            "323/323 [==============================] - 1s 4ms/step - loss: 5.9030 - mae: 1.6006 - val_loss: 10.9333 - val_mae: 2.1875\n",
            "Epoch 62/500\n",
            "314/323 [============================>.] - ETA: 0s - loss: 5.6089 - mae: 1.5942"
          ]
        },
        {
          "output_type": "stream",
          "name": "stderr",
          "text": [
            "WARNING:tensorflow:Early stopping conditioned on metric `val_mse` which is not available. Available metrics are: loss,mae,val_loss,val_mae\n"
          ]
        },
        {
          "output_type": "stream",
          "name": "stdout",
          "text": [
            "\n",
            "Epoch 62: val_mae did not improve from 2.04043\n",
            "323/323 [==============================] - 1s 4ms/step - loss: 5.5880 - mae: 1.5977 - val_loss: 12.1310 - val_mae: 2.2747\n",
            "Epoch 63/500\n",
            "310/323 [===========================>..] - ETA: 0s - loss: 5.4879 - mae: 1.5673"
          ]
        },
        {
          "output_type": "stream",
          "name": "stderr",
          "text": [
            "WARNING:tensorflow:Early stopping conditioned on metric `val_mse` which is not available. Available metrics are: loss,mae,val_loss,val_mae\n"
          ]
        },
        {
          "output_type": "stream",
          "name": "stdout",
          "text": [
            "\n",
            "Epoch 63: val_mae did not improve from 2.04043\n",
            "323/323 [==============================] - 1s 2ms/step - loss: 5.6507 - mae: 1.5872 - val_loss: 10.7169 - val_mae: 2.1202\n",
            "Epoch 64/500\n",
            "311/323 [===========================>..] - ETA: 0s - loss: 5.5109 - mae: 1.6127"
          ]
        },
        {
          "output_type": "stream",
          "name": "stderr",
          "text": [
            "WARNING:tensorflow:Early stopping conditioned on metric `val_mse` which is not available. Available metrics are: loss,mae,val_loss,val_mae\n"
          ]
        },
        {
          "output_type": "stream",
          "name": "stdout",
          "text": [
            "\n",
            "Epoch 64: val_mae did not improve from 2.04043\n",
            "323/323 [==============================] - 1s 3ms/step - loss: 5.3834 - mae: 1.5948 - val_loss: 12.6080 - val_mae: 2.3013\n",
            "Epoch 65/500\n",
            "319/323 [============================>.] - ETA: 0s - loss: 5.3107 - mae: 1.5719"
          ]
        },
        {
          "output_type": "stream",
          "name": "stderr",
          "text": [
            "WARNING:tensorflow:Early stopping conditioned on metric `val_mse` which is not available. Available metrics are: loss,mae,val_loss,val_mae\n"
          ]
        },
        {
          "output_type": "stream",
          "name": "stdout",
          "text": [
            "\n",
            "Epoch 65: val_mae did not improve from 2.04043\n",
            "323/323 [==============================] - 1s 2ms/step - loss: 5.3129 - mae: 1.5751 - val_loss: 12.4450 - val_mae: 2.2154\n",
            "Epoch 66/500\n",
            "308/323 [===========================>..] - ETA: 0s - loss: 5.4797 - mae: 1.5388"
          ]
        },
        {
          "output_type": "stream",
          "name": "stderr",
          "text": [
            "WARNING:tensorflow:Early stopping conditioned on metric `val_mse` which is not available. Available metrics are: loss,mae,val_loss,val_mae\n"
          ]
        },
        {
          "output_type": "stream",
          "name": "stdout",
          "text": [
            "\n",
            "Epoch 66: val_mae did not improve from 2.04043\n",
            "323/323 [==============================] - 1s 2ms/step - loss: 5.3329 - mae: 1.5196 - val_loss: 11.1437 - val_mae: 2.1248\n",
            "Epoch 67/500\n",
            "318/323 [============================>.] - ETA: 0s - loss: 5.1465 - mae: 1.4887"
          ]
        },
        {
          "output_type": "stream",
          "name": "stderr",
          "text": [
            "WARNING:tensorflow:Early stopping conditioned on metric `val_mse` which is not available. Available metrics are: loss,mae,val_loss,val_mae\n"
          ]
        },
        {
          "output_type": "stream",
          "name": "stdout",
          "text": [
            "\n",
            "Epoch 67: val_mae did not improve from 2.04043\n",
            "323/323 [==============================] - 1s 3ms/step - loss: 5.0734 - mae: 1.4737 - val_loss: 11.2343 - val_mae: 2.0659\n",
            "Epoch 68/500\n",
            "322/323 [============================>.] - ETA: 0s - loss: 5.1844 - mae: 1.5175"
          ]
        },
        {
          "output_type": "stream",
          "name": "stderr",
          "text": [
            "WARNING:tensorflow:Early stopping conditioned on metric `val_mse` which is not available. Available metrics are: loss,mae,val_loss,val_mae\n"
          ]
        },
        {
          "output_type": "stream",
          "name": "stdout",
          "text": [
            "\n",
            "Epoch 68: val_mae did not improve from 2.04043\n",
            "323/323 [==============================] - 1s 3ms/step - loss: 5.1717 - mae: 1.5160 - val_loss: 10.7763 - val_mae: 2.0914\n",
            "Epoch 69/500\n",
            "304/323 [===========================>..] - ETA: 0s - loss: 5.3734 - mae: 1.5765"
          ]
        },
        {
          "output_type": "stream",
          "name": "stderr",
          "text": [
            "WARNING:tensorflow:Early stopping conditioned on metric `val_mse` which is not available. Available metrics are: loss,mae,val_loss,val_mae\n"
          ]
        },
        {
          "output_type": "stream",
          "name": "stdout",
          "text": [
            "\n",
            "Epoch 69: val_mae did not improve from 2.04043\n",
            "323/323 [==============================] - 1s 3ms/step - loss: 5.1309 - mae: 1.5281 - val_loss: 11.5793 - val_mae: 2.3426\n",
            "Epoch 70/500\n",
            "310/323 [===========================>..] - ETA: 0s - loss: 5.4918 - mae: 1.4862"
          ]
        },
        {
          "output_type": "stream",
          "name": "stderr",
          "text": [
            "WARNING:tensorflow:Early stopping conditioned on metric `val_mse` which is not available. Available metrics are: loss,mae,val_loss,val_mae\n"
          ]
        },
        {
          "output_type": "stream",
          "name": "stdout",
          "text": [
            "\n",
            "Epoch 70: val_mae did not improve from 2.04043\n",
            "323/323 [==============================] - 1s 4ms/step - loss: 5.3086 - mae: 1.4565 - val_loss: 10.5560 - val_mae: 2.1498\n",
            "Epoch 71/500\n",
            "312/323 [===========================>..] - ETA: 0s - loss: 5.3897 - mae: 1.5040"
          ]
        },
        {
          "output_type": "stream",
          "name": "stderr",
          "text": [
            "WARNING:tensorflow:Early stopping conditioned on metric `val_mse` which is not available. Available metrics are: loss,mae,val_loss,val_mae\n"
          ]
        },
        {
          "output_type": "stream",
          "name": "stdout",
          "text": [
            "\n",
            "Epoch 71: val_mae did not improve from 2.04043\n",
            "323/323 [==============================] - 1s 3ms/step - loss: 5.3011 - mae: 1.5050 - val_loss: 11.0178 - val_mae: 2.0957\n",
            "Epoch 72/500\n",
            "308/323 [===========================>..] - ETA: 0s - loss: 5.3581 - mae: 1.4975"
          ]
        },
        {
          "output_type": "stream",
          "name": "stderr",
          "text": [
            "WARNING:tensorflow:Early stopping conditioned on metric `val_mse` which is not available. Available metrics are: loss,mae,val_loss,val_mae\n"
          ]
        },
        {
          "output_type": "stream",
          "name": "stdout",
          "text": [
            "\n",
            "Epoch 72: val_mae did not improve from 2.04043\n",
            "323/323 [==============================] - 1s 3ms/step - loss: 5.2417 - mae: 1.4910 - val_loss: 13.3837 - val_mae: 2.3575\n",
            "Epoch 73/500\n",
            "291/323 [==========================>...] - ETA: 0s - loss: 5.6997 - mae: 1.4871"
          ]
        },
        {
          "output_type": "stream",
          "name": "stderr",
          "text": [
            "WARNING:tensorflow:Early stopping conditioned on metric `val_mse` which is not available. Available metrics are: loss,mae,val_loss,val_mae\n"
          ]
        },
        {
          "output_type": "stream",
          "name": "stdout",
          "text": [
            "\n",
            "Epoch 73: val_mae did not improve from 2.04043\n",
            "323/323 [==============================] - 1s 2ms/step - loss: 5.4512 - mae: 1.4629 - val_loss: 11.6325 - val_mae: 2.1249\n",
            "Epoch 74/500\n",
            "318/323 [============================>.] - ETA: 0s - loss: 5.0638 - mae: 1.4085"
          ]
        },
        {
          "output_type": "stream",
          "name": "stderr",
          "text": [
            "WARNING:tensorflow:Early stopping conditioned on metric `val_mse` which is not available. Available metrics are: loss,mae,val_loss,val_mae\n"
          ]
        },
        {
          "output_type": "stream",
          "name": "stdout",
          "text": [
            "\n",
            "Epoch 74: val_mae did not improve from 2.04043\n",
            "323/323 [==============================] - 1s 4ms/step - loss: 5.0235 - mae: 1.4098 - val_loss: 12.7728 - val_mae: 2.2892\n",
            "Epoch 75/500\n",
            "314/323 [============================>.] - ETA: 0s - loss: 4.8672 - mae: 1.4430"
          ]
        },
        {
          "output_type": "stream",
          "name": "stderr",
          "text": [
            "WARNING:tensorflow:Early stopping conditioned on metric `val_mse` which is not available. Available metrics are: loss,mae,val_loss,val_mae\n"
          ]
        },
        {
          "output_type": "stream",
          "name": "stdout",
          "text": [
            "\n",
            "Epoch 75: val_mae did not improve from 2.04043\n",
            "323/323 [==============================] - 2s 6ms/step - loss: 4.8101 - mae: 1.4393 - val_loss: 11.2908 - val_mae: 2.1437\n",
            "Epoch 76/500\n",
            "312/323 [===========================>..] - ETA: 0s - loss: 5.4824 - mae: 1.5059"
          ]
        },
        {
          "output_type": "stream",
          "name": "stderr",
          "text": [
            "WARNING:tensorflow:Early stopping conditioned on metric `val_mse` which is not available. Available metrics are: loss,mae,val_loss,val_mae\n"
          ]
        },
        {
          "output_type": "stream",
          "name": "stdout",
          "text": [
            "\n",
            "Epoch 76: val_mae did not improve from 2.04043\n",
            "323/323 [==============================] - 1s 3ms/step - loss: 5.3317 - mae: 1.4851 - val_loss: 10.9944 - val_mae: 2.1934\n",
            "Epoch 77/500\n",
            "310/323 [===========================>..] - ETA: 0s - loss: 4.8310 - mae: 1.4571"
          ]
        },
        {
          "output_type": "stream",
          "name": "stderr",
          "text": [
            "WARNING:tensorflow:Early stopping conditioned on metric `val_mse` which is not available. Available metrics are: loss,mae,val_loss,val_mae\n"
          ]
        },
        {
          "output_type": "stream",
          "name": "stdout",
          "text": [
            "\n",
            "Epoch 77: val_mae did not improve from 2.04043\n",
            "323/323 [==============================] - 1s 2ms/step - loss: 4.7992 - mae: 1.4640 - val_loss: 12.4432 - val_mae: 2.3113\n",
            "Epoch 78/500\n",
            "309/323 [===========================>..] - ETA: 0s - loss: 4.7701 - mae: 1.3912"
          ]
        },
        {
          "output_type": "stream",
          "name": "stderr",
          "text": [
            "WARNING:tensorflow:Early stopping conditioned on metric `val_mse` which is not available. Available metrics are: loss,mae,val_loss,val_mae\n"
          ]
        },
        {
          "output_type": "stream",
          "name": "stdout",
          "text": [
            "\n",
            "Epoch 78: val_mae did not improve from 2.04043\n",
            "323/323 [==============================] - 1s 3ms/step - loss: 4.7306 - mae: 1.3998 - val_loss: 19.7083 - val_mae: 3.2789\n",
            "Epoch 79/500\n",
            "309/323 [===========================>..] - ETA: 0s - loss: 5.1887 - mae: 1.4591"
          ]
        },
        {
          "output_type": "stream",
          "name": "stderr",
          "text": [
            "WARNING:tensorflow:Early stopping conditioned on metric `val_mse` which is not available. Available metrics are: loss,mae,val_loss,val_mae\n"
          ]
        },
        {
          "output_type": "stream",
          "name": "stdout",
          "text": [
            "\n",
            "Epoch 79: val_mae did not improve from 2.04043\n",
            "323/323 [==============================] - 1s 3ms/step - loss: 5.0346 - mae: 1.4421 - val_loss: 11.8823 - val_mae: 2.3175\n",
            "Epoch 80/500\n",
            "299/323 [==========================>...] - ETA: 0s - loss: 4.6100 - mae: 1.4473"
          ]
        },
        {
          "output_type": "stream",
          "name": "stderr",
          "text": [
            "WARNING:tensorflow:Early stopping conditioned on metric `val_mse` which is not available. Available metrics are: loss,mae,val_loss,val_mae\n"
          ]
        },
        {
          "output_type": "stream",
          "name": "stdout",
          "text": [
            "\n",
            "Epoch 80: val_mae did not improve from 2.04043\n",
            "323/323 [==============================] - 1s 2ms/step - loss: 4.5057 - mae: 1.4399 - val_loss: 11.1986 - val_mae: 2.2083\n",
            "Epoch 81/500\n",
            "323/323 [==============================] - ETA: 0s - loss: 4.4410 - mae: 1.4199"
          ]
        },
        {
          "output_type": "stream",
          "name": "stderr",
          "text": [
            "WARNING:tensorflow:Early stopping conditioned on metric `val_mse` which is not available. Available metrics are: loss,mae,val_loss,val_mae\n"
          ]
        },
        {
          "output_type": "stream",
          "name": "stdout",
          "text": [
            "\n",
            "Epoch 81: val_mae did not improve from 2.04043\n",
            "323/323 [==============================] - 1s 3ms/step - loss: 4.4410 - mae: 1.4199 - val_loss: 12.5942 - val_mae: 2.2030\n",
            "Epoch 82/500\n",
            "319/323 [============================>.] - ETA: 0s - loss: 4.8280 - mae: 1.4818"
          ]
        },
        {
          "output_type": "stream",
          "name": "stderr",
          "text": [
            "WARNING:tensorflow:Early stopping conditioned on metric `val_mse` which is not available. Available metrics are: loss,mae,val_loss,val_mae\n"
          ]
        },
        {
          "output_type": "stream",
          "name": "stdout",
          "text": [
            "\n",
            "Epoch 82: val_mae did not improve from 2.04043\n",
            "323/323 [==============================] - 1s 2ms/step - loss: 4.8443 - mae: 1.4819 - val_loss: 12.9983 - val_mae: 2.4229\n",
            "Epoch 83/500\n",
            "318/323 [============================>.] - ETA: 0s - loss: 5.0268 - mae: 1.4232"
          ]
        },
        {
          "output_type": "stream",
          "name": "stderr",
          "text": [
            "WARNING:tensorflow:Early stopping conditioned on metric `val_mse` which is not available. Available metrics are: loss,mae,val_loss,val_mae\n"
          ]
        },
        {
          "output_type": "stream",
          "name": "stdout",
          "text": [
            "\n",
            "Epoch 83: val_mae did not improve from 2.04043\n",
            "323/323 [==============================] - 1s 2ms/step - loss: 4.9893 - mae: 1.4198 - val_loss: 12.4564 - val_mae: 2.2009\n",
            "Epoch 84/500\n",
            "302/323 [===========================>..] - ETA: 0s - loss: 4.6394 - mae: 1.3892"
          ]
        },
        {
          "output_type": "stream",
          "name": "stderr",
          "text": [
            "WARNING:tensorflow:Early stopping conditioned on metric `val_mse` which is not available. Available metrics are: loss,mae,val_loss,val_mae\n"
          ]
        },
        {
          "output_type": "stream",
          "name": "stdout",
          "text": [
            "\n",
            "Epoch 84: val_mae did not improve from 2.04043\n",
            "323/323 [==============================] - 1s 2ms/step - loss: 4.7166 - mae: 1.4058 - val_loss: 13.8191 - val_mae: 2.4047\n",
            "Epoch 85/500\n",
            "290/323 [=========================>....] - ETA: 0s - loss: 3.2559 - mae: 1.3143"
          ]
        },
        {
          "output_type": "stream",
          "name": "stderr",
          "text": [
            "WARNING:tensorflow:Early stopping conditioned on metric `val_mse` which is not available. Available metrics are: loss,mae,val_loss,val_mae\n"
          ]
        },
        {
          "output_type": "stream",
          "name": "stdout",
          "text": [
            "\n",
            "Epoch 85: val_mae did not improve from 2.04043\n",
            "323/323 [==============================] - 1s 2ms/step - loss: 4.3593 - mae: 1.3919 - val_loss: 14.1432 - val_mae: 2.3265\n",
            "Epoch 86/500\n",
            "323/323 [==============================] - ETA: 0s - loss: 4.5950 - mae: 1.3984"
          ]
        },
        {
          "output_type": "stream",
          "name": "stderr",
          "text": [
            "WARNING:tensorflow:Early stopping conditioned on metric `val_mse` which is not available. Available metrics are: loss,mae,val_loss,val_mae\n"
          ]
        },
        {
          "output_type": "stream",
          "name": "stdout",
          "text": [
            "\n",
            "Epoch 86: val_mae did not improve from 2.04043\n",
            "323/323 [==============================] - 1s 2ms/step - loss: 4.5950 - mae: 1.3984 - val_loss: 14.3631 - val_mae: 2.5619\n",
            "Epoch 87/500\n",
            "310/323 [===========================>..] - ETA: 0s - loss: 4.7219 - mae: 1.4459"
          ]
        },
        {
          "output_type": "stream",
          "name": "stderr",
          "text": [
            "WARNING:tensorflow:Early stopping conditioned on metric `val_mse` which is not available. Available metrics are: loss,mae,val_loss,val_mae\n"
          ]
        },
        {
          "output_type": "stream",
          "name": "stdout",
          "text": [
            "\n",
            "Epoch 87: val_mae did not improve from 2.04043\n",
            "323/323 [==============================] - 1s 2ms/step - loss: 4.6139 - mae: 1.4382 - val_loss: 11.6230 - val_mae: 2.1748\n",
            "Epoch 88/500\n",
            "318/323 [============================>.] - ETA: 0s - loss: 4.5090 - mae: 1.3909"
          ]
        },
        {
          "output_type": "stream",
          "name": "stderr",
          "text": [
            "WARNING:tensorflow:Early stopping conditioned on metric `val_mse` which is not available. Available metrics are: loss,mae,val_loss,val_mae\n"
          ]
        },
        {
          "output_type": "stream",
          "name": "stdout",
          "text": [
            "\n",
            "Epoch 88: val_mae did not improve from 2.04043\n",
            "323/323 [==============================] - 1s 3ms/step - loss: 4.4578 - mae: 1.3841 - val_loss: 11.7067 - val_mae: 2.0708\n",
            "Epoch 89/500\n",
            "312/323 [===========================>..] - ETA: 0s - loss: 4.7745 - mae: 1.4144"
          ]
        },
        {
          "output_type": "stream",
          "name": "stderr",
          "text": [
            "WARNING:tensorflow:Early stopping conditioned on metric `val_mse` which is not available. Available metrics are: loss,mae,val_loss,val_mae\n"
          ]
        },
        {
          "output_type": "stream",
          "name": "stdout",
          "text": [
            "\n",
            "Epoch 89: val_mae did not improve from 2.04043\n",
            "323/323 [==============================] - 1s 3ms/step - loss: 4.6600 - mae: 1.3961 - val_loss: 12.1371 - val_mae: 2.2237\n",
            "Epoch 90/500\n",
            "303/323 [===========================>..] - ETA: 0s - loss: 4.3253 - mae: 1.3558"
          ]
        },
        {
          "output_type": "stream",
          "name": "stderr",
          "text": [
            "WARNING:tensorflow:Early stopping conditioned on metric `val_mse` which is not available. Available metrics are: loss,mae,val_loss,val_mae\n"
          ]
        },
        {
          "output_type": "stream",
          "name": "stdout",
          "text": [
            "\n",
            "Epoch 90: val_mae did not improve from 2.04043\n",
            "323/323 [==============================] - 1s 4ms/step - loss: 4.3313 - mae: 1.3662 - val_loss: 12.3350 - val_mae: 2.2594\n",
            "Epoch 91/500\n",
            "292/323 [==========================>...] - ETA: 0s - loss: 4.4659 - mae: 1.4083"
          ]
        },
        {
          "output_type": "stream",
          "name": "stderr",
          "text": [
            "WARNING:tensorflow:Early stopping conditioned on metric `val_mse` which is not available. Available metrics are: loss,mae,val_loss,val_mae\n"
          ]
        },
        {
          "output_type": "stream",
          "name": "stdout",
          "text": [
            "\n",
            "Epoch 91: val_mae did not improve from 2.04043\n",
            "323/323 [==============================] - 1s 3ms/step - loss: 4.3611 - mae: 1.3985 - val_loss: 13.3821 - val_mae: 2.4842\n",
            "Epoch 92/500\n",
            "315/323 [============================>.] - ETA: 0s - loss: 4.1177 - mae: 1.3609"
          ]
        },
        {
          "output_type": "stream",
          "name": "stderr",
          "text": [
            "WARNING:tensorflow:Early stopping conditioned on metric `val_mse` which is not available. Available metrics are: loss,mae,val_loss,val_mae\n"
          ]
        },
        {
          "output_type": "stream",
          "name": "stdout",
          "text": [
            "\n",
            "Epoch 92: val_mae did not improve from 2.04043\n",
            "323/323 [==============================] - 1s 3ms/step - loss: 4.0996 - mae: 1.3570 - val_loss: 13.5251 - val_mae: 2.4522\n",
            "Epoch 93/500\n",
            "302/323 [===========================>..] - ETA: 0s - loss: 4.3268 - mae: 1.3971"
          ]
        },
        {
          "output_type": "stream",
          "name": "stderr",
          "text": [
            "WARNING:tensorflow:Early stopping conditioned on metric `val_mse` which is not available. Available metrics are: loss,mae,val_loss,val_mae\n"
          ]
        },
        {
          "output_type": "stream",
          "name": "stdout",
          "text": [
            "\n",
            "Epoch 93: val_mae did not improve from 2.04043\n",
            "323/323 [==============================] - 1s 2ms/step - loss: 4.1545 - mae: 1.3703 - val_loss: 12.1504 - val_mae: 2.1613\n",
            "Epoch 94/500\n",
            "322/323 [============================>.] - ETA: 0s - loss: 4.3958 - mae: 1.3643"
          ]
        },
        {
          "output_type": "stream",
          "name": "stderr",
          "text": [
            "WARNING:tensorflow:Early stopping conditioned on metric `val_mse` which is not available. Available metrics are: loss,mae,val_loss,val_mae\n"
          ]
        },
        {
          "output_type": "stream",
          "name": "stdout",
          "text": [
            "\n",
            "Epoch 94: val_mae did not improve from 2.04043\n",
            "323/323 [==============================] - 1s 3ms/step - loss: 4.4437 - mae: 1.3739 - val_loss: 10.9759 - val_mae: 2.2137\n",
            "Epoch 95/500\n",
            "309/323 [===========================>..] - ETA: 0s - loss: 4.3760 - mae: 1.3887"
          ]
        },
        {
          "output_type": "stream",
          "name": "stderr",
          "text": [
            "WARNING:tensorflow:Early stopping conditioned on metric `val_mse` which is not available. Available metrics are: loss,mae,val_loss,val_mae\n"
          ]
        },
        {
          "output_type": "stream",
          "name": "stdout",
          "text": [
            "\n",
            "Epoch 95: val_mae did not improve from 2.04043\n",
            "323/323 [==============================] - 1s 3ms/step - loss: 4.3119 - mae: 1.3794 - val_loss: 13.6038 - val_mae: 2.3655\n",
            "Epoch 96/500\n",
            "313/323 [============================>.] - ETA: 0s - loss: 4.3059 - mae: 1.3438"
          ]
        },
        {
          "output_type": "stream",
          "name": "stderr",
          "text": [
            "WARNING:tensorflow:Early stopping conditioned on metric `val_mse` which is not available. Available metrics are: loss,mae,val_loss,val_mae\n"
          ]
        },
        {
          "output_type": "stream",
          "name": "stdout",
          "text": [
            "\n",
            "Epoch 96: val_mae did not improve from 2.04043\n",
            "323/323 [==============================] - 1s 3ms/step - loss: 4.2821 - mae: 1.3404 - val_loss: 12.3029 - val_mae: 2.3520\n",
            "Epoch 97/500\n",
            "310/323 [===========================>..] - ETA: 0s - loss: 4.3162 - mae: 1.3459"
          ]
        },
        {
          "output_type": "stream",
          "name": "stderr",
          "text": [
            "WARNING:tensorflow:Early stopping conditioned on metric `val_mse` which is not available. Available metrics are: loss,mae,val_loss,val_mae\n"
          ]
        },
        {
          "output_type": "stream",
          "name": "stdout",
          "text": [
            "\n",
            "Epoch 97: val_mae did not improve from 2.04043\n",
            "323/323 [==============================] - 1s 2ms/step - loss: 4.3040 - mae: 1.3489 - val_loss: 15.0188 - val_mae: 2.6742\n",
            "Epoch 98/500\n",
            "315/323 [============================>.] - ETA: 0s - loss: 4.3566 - mae: 1.4086"
          ]
        },
        {
          "output_type": "stream",
          "name": "stderr",
          "text": [
            "WARNING:tensorflow:Early stopping conditioned on metric `val_mse` which is not available. Available metrics are: loss,mae,val_loss,val_mae\n"
          ]
        },
        {
          "output_type": "stream",
          "name": "stdout",
          "text": [
            "\n",
            "Epoch 98: val_mae did not improve from 2.04043\n",
            "323/323 [==============================] - 1s 2ms/step - loss: 4.2985 - mae: 1.4036 - val_loss: 12.6137 - val_mae: 2.3889\n",
            "Epoch 99/500\n",
            "316/323 [============================>.] - ETA: 0s - loss: 3.8983 - mae: 1.2592"
          ]
        },
        {
          "output_type": "stream",
          "name": "stderr",
          "text": [
            "WARNING:tensorflow:Early stopping conditioned on metric `val_mse` which is not available. Available metrics are: loss,mae,val_loss,val_mae\n"
          ]
        },
        {
          "output_type": "stream",
          "name": "stdout",
          "text": [
            "\n",
            "Epoch 99: val_mae did not improve from 2.04043\n",
            "323/323 [==============================] - 1s 3ms/step - loss: 3.8788 - mae: 1.2599 - val_loss: 13.0562 - val_mae: 2.4477\n",
            "Epoch 100/500\n",
            "295/323 [==========================>...] - ETA: 0s - loss: 4.2434 - mae: 1.3461"
          ]
        },
        {
          "output_type": "stream",
          "name": "stderr",
          "text": [
            "WARNING:tensorflow:Early stopping conditioned on metric `val_mse` which is not available. Available metrics are: loss,mae,val_loss,val_mae\n"
          ]
        },
        {
          "output_type": "stream",
          "name": "stdout",
          "text": [
            "\n",
            "Epoch 100: val_mae did not improve from 2.04043\n",
            "323/323 [==============================] - 1s 3ms/step - loss: 4.0862 - mae: 1.3351 - val_loss: 12.0640 - val_mae: 2.1266\n",
            "Epoch 101/500\n",
            "319/323 [============================>.] - ETA: 0s - loss: 4.2222 - mae: 1.3579"
          ]
        },
        {
          "output_type": "stream",
          "name": "stderr",
          "text": [
            "WARNING:tensorflow:Early stopping conditioned on metric `val_mse` which is not available. Available metrics are: loss,mae,val_loss,val_mae\n"
          ]
        },
        {
          "output_type": "stream",
          "name": "stdout",
          "text": [
            "\n",
            "Epoch 101: val_mae did not improve from 2.04043\n",
            "323/323 [==============================] - 1s 2ms/step - loss: 4.1985 - mae: 1.3574 - val_loss: 13.0555 - val_mae: 2.2312\n",
            "Epoch 102/500\n",
            "298/323 [==========================>...] - ETA: 0s - loss: 4.3993 - mae: 1.3474"
          ]
        },
        {
          "output_type": "stream",
          "name": "stderr",
          "text": [
            "WARNING:tensorflow:Early stopping conditioned on metric `val_mse` which is not available. Available metrics are: loss,mae,val_loss,val_mae\n"
          ]
        },
        {
          "output_type": "stream",
          "name": "stdout",
          "text": [
            "\n",
            "Epoch 102: val_mae did not improve from 2.04043\n",
            "323/323 [==============================] - 1s 2ms/step - loss: 4.2100 - mae: 1.3244 - val_loss: 14.1421 - val_mae: 2.4435\n",
            "Epoch 103/500\n",
            "316/323 [============================>.] - ETA: 0s - loss: 3.6318 - mae: 1.2603"
          ]
        },
        {
          "output_type": "stream",
          "name": "stderr",
          "text": [
            "WARNING:tensorflow:Early stopping conditioned on metric `val_mse` which is not available. Available metrics are: loss,mae,val_loss,val_mae\n"
          ]
        },
        {
          "output_type": "stream",
          "name": "stdout",
          "text": [
            "\n",
            "Epoch 103: val_mae did not improve from 2.04043\n",
            "323/323 [==============================] - 1s 3ms/step - loss: 3.5758 - mae: 1.2507 - val_loss: 13.8298 - val_mae: 2.4521\n",
            "Epoch 104/500\n",
            "312/323 [===========================>..] - ETA: 0s - loss: 3.7405 - mae: 1.3258"
          ]
        },
        {
          "output_type": "stream",
          "name": "stderr",
          "text": [
            "WARNING:tensorflow:Early stopping conditioned on metric `val_mse` which is not available. Available metrics are: loss,mae,val_loss,val_mae\n"
          ]
        },
        {
          "output_type": "stream",
          "name": "stdout",
          "text": [
            "\n",
            "Epoch 104: val_mae did not improve from 2.04043\n",
            "323/323 [==============================] - 1s 4ms/step - loss: 3.6405 - mae: 1.3051 - val_loss: 14.0542 - val_mae: 2.4824\n",
            "Epoch 105/500\n",
            "300/323 [==========================>...] - ETA: 0s - loss: 3.1935 - mae: 1.2738"
          ]
        },
        {
          "output_type": "stream",
          "name": "stderr",
          "text": [
            "WARNING:tensorflow:Early stopping conditioned on metric `val_mse` which is not available. Available metrics are: loss,mae,val_loss,val_mae\n"
          ]
        },
        {
          "output_type": "stream",
          "name": "stdout",
          "text": [
            "\n",
            "Epoch 105: val_mae did not improve from 2.04043\n",
            "323/323 [==============================] - 1s 4ms/step - loss: 4.2481 - mae: 1.3356 - val_loss: 11.8110 - val_mae: 2.3043\n",
            "Epoch 106/500\n",
            "303/323 [===========================>..] - ETA: 0s - loss: 3.8377 - mae: 1.2566"
          ]
        },
        {
          "output_type": "stream",
          "name": "stderr",
          "text": [
            "WARNING:tensorflow:Early stopping conditioned on metric `val_mse` which is not available. Available metrics are: loss,mae,val_loss,val_mae\n"
          ]
        },
        {
          "output_type": "stream",
          "name": "stdout",
          "text": [
            "\n",
            "Epoch 106: val_mae did not improve from 2.04043\n",
            "323/323 [==============================] - 1s 2ms/step - loss: 3.9435 - mae: 1.2885 - val_loss: 14.9598 - val_mae: 2.5037\n",
            "Epoch 107/500\n",
            "304/323 [===========================>..] - ETA: 0s - loss: 3.7857 - mae: 1.2805"
          ]
        },
        {
          "output_type": "stream",
          "name": "stderr",
          "text": [
            "WARNING:tensorflow:Early stopping conditioned on metric `val_mse` which is not available. Available metrics are: loss,mae,val_loss,val_mae\n"
          ]
        },
        {
          "output_type": "stream",
          "name": "stdout",
          "text": [
            "\n",
            "Epoch 107: val_mae did not improve from 2.04043\n",
            "323/323 [==============================] - 1s 2ms/step - loss: 3.6750 - mae: 1.2665 - val_loss: 12.9300 - val_mae: 2.4182\n",
            "Epoch 108/500\n",
            "321/323 [============================>.] - ETA: 0s - loss: 3.9138 - mae: 1.3358"
          ]
        },
        {
          "output_type": "stream",
          "name": "stderr",
          "text": [
            "WARNING:tensorflow:Early stopping conditioned on metric `val_mse` which is not available. Available metrics are: loss,mae,val_loss,val_mae\n"
          ]
        },
        {
          "output_type": "stream",
          "name": "stdout",
          "text": [
            "\n",
            "Epoch 108: val_mae did not improve from 2.04043\n",
            "323/323 [==============================] - 1s 2ms/step - loss: 3.9414 - mae: 1.3432 - val_loss: 11.7050 - val_mae: 2.2746\n",
            "Epoch 109/500\n",
            "307/323 [===========================>..] - ETA: 0s - loss: 3.6154 - mae: 1.2855"
          ]
        },
        {
          "output_type": "stream",
          "name": "stderr",
          "text": [
            "WARNING:tensorflow:Early stopping conditioned on metric `val_mse` which is not available. Available metrics are: loss,mae,val_loss,val_mae\n"
          ]
        },
        {
          "output_type": "stream",
          "name": "stdout",
          "text": [
            "\n",
            "Epoch 109: val_mae did not improve from 2.04043\n",
            "323/323 [==============================] - 1s 2ms/step - loss: 3.6227 - mae: 1.2762 - val_loss: 11.5695 - val_mae: 2.3474\n",
            "Epoch 110/500\n",
            "310/323 [===========================>..] - ETA: 0s - loss: 3.9180 - mae: 1.2818"
          ]
        },
        {
          "output_type": "stream",
          "name": "stderr",
          "text": [
            "WARNING:tensorflow:Early stopping conditioned on metric `val_mse` which is not available. Available metrics are: loss,mae,val_loss,val_mae\n"
          ]
        },
        {
          "output_type": "stream",
          "name": "stdout",
          "text": [
            "\n",
            "Epoch 110: val_mae did not improve from 2.04043\n",
            "323/323 [==============================] - 1s 2ms/step - loss: 3.8078 - mae: 1.2651 - val_loss: 12.3827 - val_mae: 2.2383\n",
            "Epoch 111/500\n",
            "303/323 [===========================>..] - ETA: 0s - loss: 3.7621 - mae: 1.2871"
          ]
        },
        {
          "output_type": "stream",
          "name": "stderr",
          "text": [
            "WARNING:tensorflow:Early stopping conditioned on metric `val_mse` which is not available. Available metrics are: loss,mae,val_loss,val_mae\n"
          ]
        },
        {
          "output_type": "stream",
          "name": "stdout",
          "text": [
            "\n",
            "Epoch 111: val_mae did not improve from 2.04043\n",
            "323/323 [==============================] - 1s 2ms/step - loss: 3.7252 - mae: 1.2848 - val_loss: 14.4157 - val_mae: 2.4794\n",
            "Epoch 112/500\n",
            "304/323 [===========================>..] - ETA: 0s - loss: 3.7833 - mae: 1.3002"
          ]
        },
        {
          "output_type": "stream",
          "name": "stderr",
          "text": [
            "WARNING:tensorflow:Early stopping conditioned on metric `val_mse` which is not available. Available metrics are: loss,mae,val_loss,val_mae\n"
          ]
        },
        {
          "output_type": "stream",
          "name": "stdout",
          "text": [
            "\n",
            "Epoch 112: val_mae did not improve from 2.04043\n",
            "323/323 [==============================] - 1s 2ms/step - loss: 3.6369 - mae: 1.2842 - val_loss: 13.4349 - val_mae: 2.3050\n",
            "Epoch 113/500\n",
            "308/323 [===========================>..] - ETA: 0s - loss: 3.7288 - mae: 1.2539"
          ]
        },
        {
          "output_type": "stream",
          "name": "stderr",
          "text": [
            "WARNING:tensorflow:Early stopping conditioned on metric `val_mse` which is not available. Available metrics are: loss,mae,val_loss,val_mae\n"
          ]
        },
        {
          "output_type": "stream",
          "name": "stdout",
          "text": [
            "\n",
            "Epoch 113: val_mae did not improve from 2.04043\n",
            "323/323 [==============================] - 1s 2ms/step - loss: 3.6737 - mae: 1.2498 - val_loss: 13.6254 - val_mae: 2.3582\n",
            "Epoch 114/500\n",
            "310/323 [===========================>..] - ETA: 0s - loss: 3.7310 - mae: 1.2705"
          ]
        },
        {
          "output_type": "stream",
          "name": "stderr",
          "text": [
            "WARNING:tensorflow:Early stopping conditioned on metric `val_mse` which is not available. Available metrics are: loss,mae,val_loss,val_mae\n"
          ]
        },
        {
          "output_type": "stream",
          "name": "stdout",
          "text": [
            "\n",
            "Epoch 114: val_mae did not improve from 2.04043\n",
            "323/323 [==============================] - 1s 2ms/step - loss: 3.6838 - mae: 1.2616 - val_loss: 13.1841 - val_mae: 2.2501\n",
            "Epoch 115/500\n",
            "319/323 [============================>.] - ETA: 0s - loss: 3.4776 - mae: 1.1693"
          ]
        },
        {
          "output_type": "stream",
          "name": "stderr",
          "text": [
            "WARNING:tensorflow:Early stopping conditioned on metric `val_mse` which is not available. Available metrics are: loss,mae,val_loss,val_mae\n"
          ]
        },
        {
          "output_type": "stream",
          "name": "stdout",
          "text": [
            "\n",
            "Epoch 115: val_mae did not improve from 2.04043\n",
            "323/323 [==============================] - 1s 2ms/step - loss: 3.4693 - mae: 1.1725 - val_loss: 15.1085 - val_mae: 2.4618\n",
            "Epoch 116/500\n",
            "307/323 [===========================>..] - ETA: 0s - loss: 3.5204 - mae: 1.2331"
          ]
        },
        {
          "output_type": "stream",
          "name": "stderr",
          "text": [
            "WARNING:tensorflow:Early stopping conditioned on metric `val_mse` which is not available. Available metrics are: loss,mae,val_loss,val_mae\n"
          ]
        },
        {
          "output_type": "stream",
          "name": "stdout",
          "text": [
            "\n",
            "Epoch 116: val_mae did not improve from 2.04043\n",
            "323/323 [==============================] - 1s 2ms/step - loss: 3.4772 - mae: 1.2225 - val_loss: 12.8137 - val_mae: 2.4064\n",
            "Epoch 117/500\n",
            "319/323 [============================>.] - ETA: 0s - loss: 3.6332 - mae: 1.2572"
          ]
        },
        {
          "output_type": "stream",
          "name": "stderr",
          "text": [
            "WARNING:tensorflow:Early stopping conditioned on metric `val_mse` which is not available. Available metrics are: loss,mae,val_loss,val_mae\n"
          ]
        },
        {
          "output_type": "stream",
          "name": "stdout",
          "text": [
            "\n",
            "Epoch 117: val_mae did not improve from 2.04043\n",
            "323/323 [==============================] - 1s 2ms/step - loss: 3.6349 - mae: 1.2596 - val_loss: 13.4110 - val_mae: 2.4845\n",
            "Epoch 118/500\n",
            "317/323 [============================>.] - ETA: 0s - loss: 3.3365 - mae: 1.2532"
          ]
        },
        {
          "output_type": "stream",
          "name": "stderr",
          "text": [
            "WARNING:tensorflow:Early stopping conditioned on metric `val_mse` which is not available. Available metrics are: loss,mae,val_loss,val_mae\n"
          ]
        },
        {
          "output_type": "stream",
          "name": "stdout",
          "text": [
            "\n",
            "Epoch 118: val_mae did not improve from 2.04043\n",
            "323/323 [==============================] - 1s 2ms/step - loss: 3.3288 - mae: 1.2575 - val_loss: 12.1015 - val_mae: 2.2500\n",
            "Epoch 119/500\n",
            "319/323 [============================>.] - ETA: 0s - loss: 3.4266 - mae: 1.2142"
          ]
        },
        {
          "output_type": "stream",
          "name": "stderr",
          "text": [
            "WARNING:tensorflow:Early stopping conditioned on metric `val_mse` which is not available. Available metrics are: loss,mae,val_loss,val_mae\n"
          ]
        },
        {
          "output_type": "stream",
          "name": "stdout",
          "text": [
            "\n",
            "Epoch 119: val_mae did not improve from 2.04043\n",
            "323/323 [==============================] - 1s 2ms/step - loss: 3.4631 - mae: 1.2230 - val_loss: 13.3752 - val_mae: 2.3948\n",
            "Epoch 120/500\n",
            "306/323 [===========================>..] - ETA: 0s - loss: 3.6562 - mae: 1.3136"
          ]
        },
        {
          "output_type": "stream",
          "name": "stderr",
          "text": [
            "WARNING:tensorflow:Early stopping conditioned on metric `val_mse` which is not available. Available metrics are: loss,mae,val_loss,val_mae\n"
          ]
        },
        {
          "output_type": "stream",
          "name": "stdout",
          "text": [
            "\n",
            "Epoch 120: val_mae did not improve from 2.04043\n",
            "323/323 [==============================] - 1s 2ms/step - loss: 3.5421 - mae: 1.2942 - val_loss: 11.8149 - val_mae: 2.2878\n",
            "Epoch 121/500\n",
            "302/323 [===========================>..] - ETA: 0s - loss: 3.6920 - mae: 1.2630"
          ]
        },
        {
          "output_type": "stream",
          "name": "stderr",
          "text": [
            "WARNING:tensorflow:Early stopping conditioned on metric `val_mse` which is not available. Available metrics are: loss,mae,val_loss,val_mae\n"
          ]
        },
        {
          "output_type": "stream",
          "name": "stdout",
          "text": [
            "\n",
            "Epoch 121: val_mae did not improve from 2.04043\n",
            "323/323 [==============================] - 1s 2ms/step - loss: 3.7032 - mae: 1.2782 - val_loss: 11.8993 - val_mae: 2.3002\n",
            "Epoch 122/500\n",
            "311/323 [===========================>..] - ETA: 0s - loss: 3.4795 - mae: 1.1686"
          ]
        },
        {
          "output_type": "stream",
          "name": "stderr",
          "text": [
            "WARNING:tensorflow:Early stopping conditioned on metric `val_mse` which is not available. Available metrics are: loss,mae,val_loss,val_mae\n"
          ]
        },
        {
          "output_type": "stream",
          "name": "stdout",
          "text": [
            "\n",
            "Epoch 122: val_mae did not improve from 2.04043\n",
            "323/323 [==============================] - 1s 2ms/step - loss: 3.3853 - mae: 1.1570 - val_loss: 12.2294 - val_mae: 2.2540\n",
            "Epoch 123/500\n",
            "321/323 [============================>.] - ETA: 0s - loss: 3.4456 - mae: 1.2037"
          ]
        },
        {
          "output_type": "stream",
          "name": "stderr",
          "text": [
            "WARNING:tensorflow:Early stopping conditioned on metric `val_mse` which is not available. Available metrics are: loss,mae,val_loss,val_mae\n"
          ]
        },
        {
          "output_type": "stream",
          "name": "stdout",
          "text": [
            "\n",
            "Epoch 123: val_mae did not improve from 2.04043\n",
            "323/323 [==============================] - 1s 3ms/step - loss: 3.4313 - mae: 1.2025 - val_loss: 13.6487 - val_mae: 2.3619\n",
            "Epoch 124/500\n",
            "319/323 [============================>.] - ETA: 0s - loss: 3.4972 - mae: 1.2441"
          ]
        },
        {
          "output_type": "stream",
          "name": "stderr",
          "text": [
            "WARNING:tensorflow:Early stopping conditioned on metric `val_mse` which is not available. Available metrics are: loss,mae,val_loss,val_mae\n"
          ]
        },
        {
          "output_type": "stream",
          "name": "stdout",
          "text": [
            "\n",
            "Epoch 124: val_mae did not improve from 2.04043\n",
            "323/323 [==============================] - 1s 2ms/step - loss: 3.4631 - mae: 1.2370 - val_loss: 14.8383 - val_mae: 2.4385\n",
            "Epoch 125/500\n",
            "310/323 [===========================>..] - ETA: 0s - loss: 3.3512 - mae: 1.2496"
          ]
        },
        {
          "output_type": "stream",
          "name": "stderr",
          "text": [
            "WARNING:tensorflow:Early stopping conditioned on metric `val_mse` which is not available. Available metrics are: loss,mae,val_loss,val_mae\n"
          ]
        },
        {
          "output_type": "stream",
          "name": "stdout",
          "text": [
            "\n",
            "Epoch 125: val_mae did not improve from 2.04043\n",
            "323/323 [==============================] - 1s 2ms/step - loss: 3.2996 - mae: 1.2464 - val_loss: 13.4709 - val_mae: 2.5860\n",
            "Epoch 126/500\n",
            "304/323 [===========================>..] - ETA: 0s - loss: 3.3496 - mae: 1.2238"
          ]
        },
        {
          "output_type": "stream",
          "name": "stderr",
          "text": [
            "WARNING:tensorflow:Early stopping conditioned on metric `val_mse` which is not available. Available metrics are: loss,mae,val_loss,val_mae\n"
          ]
        },
        {
          "output_type": "stream",
          "name": "stdout",
          "text": [
            "\n",
            "Epoch 126: val_mae did not improve from 2.04043\n",
            "323/323 [==============================] - 1s 2ms/step - loss: 3.3188 - mae: 1.2258 - val_loss: 15.6998 - val_mae: 2.4557\n",
            "Epoch 127/500\n",
            "320/323 [============================>.] - ETA: 0s - loss: 3.1322 - mae: 1.1499"
          ]
        },
        {
          "output_type": "stream",
          "name": "stderr",
          "text": [
            "WARNING:tensorflow:Early stopping conditioned on metric `val_mse` which is not available. Available metrics are: loss,mae,val_loss,val_mae\n"
          ]
        },
        {
          "output_type": "stream",
          "name": "stdout",
          "text": [
            "\n",
            "Epoch 127: val_mae did not improve from 2.04043\n",
            "323/323 [==============================] - 1s 2ms/step - loss: 3.1175 - mae: 1.1502 - val_loss: 12.6991 - val_mae: 2.3228\n",
            "Epoch 128/500\n",
            "307/323 [===========================>..] - ETA: 0s - loss: 3.4435 - mae: 1.2471"
          ]
        },
        {
          "output_type": "stream",
          "name": "stderr",
          "text": [
            "WARNING:tensorflow:Early stopping conditioned on metric `val_mse` which is not available. Available metrics are: loss,mae,val_loss,val_mae\n"
          ]
        },
        {
          "output_type": "stream",
          "name": "stdout",
          "text": [
            "\n",
            "Epoch 128: val_mae did not improve from 2.04043\n",
            "323/323 [==============================] - 1s 2ms/step - loss: 3.4187 - mae: 1.2461 - val_loss: 12.4782 - val_mae: 2.4250\n",
            "Epoch 129/500\n",
            "315/323 [============================>.] - ETA: 0s - loss: 3.1003 - mae: 1.2297"
          ]
        },
        {
          "output_type": "stream",
          "name": "stderr",
          "text": [
            "WARNING:tensorflow:Early stopping conditioned on metric `val_mse` which is not available. Available metrics are: loss,mae,val_loss,val_mae\n"
          ]
        },
        {
          "output_type": "stream",
          "name": "stdout",
          "text": [
            "\n",
            "Epoch 129: val_mae did not improve from 2.04043\n",
            "323/323 [==============================] - 1s 2ms/step - loss: 3.0491 - mae: 1.2215 - val_loss: 13.5464 - val_mae: 2.3264\n",
            "Epoch 130/500\n",
            "310/323 [===========================>..] - ETA: 0s - loss: 3.0836 - mae: 1.1415"
          ]
        },
        {
          "output_type": "stream",
          "name": "stderr",
          "text": [
            "WARNING:tensorflow:Early stopping conditioned on metric `val_mse` which is not available. Available metrics are: loss,mae,val_loss,val_mae\n"
          ]
        },
        {
          "output_type": "stream",
          "name": "stdout",
          "text": [
            "\n",
            "Epoch 130: val_mae did not improve from 2.04043\n",
            "323/323 [==============================] - 1s 2ms/step - loss: 3.0708 - mae: 1.1451 - val_loss: 14.0883 - val_mae: 2.3833\n",
            "Epoch 131/500\n",
            "322/323 [============================>.] - ETA: 0s - loss: 3.4583 - mae: 1.2297"
          ]
        },
        {
          "output_type": "stream",
          "name": "stderr",
          "text": [
            "WARNING:tensorflow:Early stopping conditioned on metric `val_mse` which is not available. Available metrics are: loss,mae,val_loss,val_mae\n"
          ]
        },
        {
          "output_type": "stream",
          "name": "stdout",
          "text": [
            "\n",
            "Epoch 131: val_mae did not improve from 2.04043\n",
            "323/323 [==============================] - 1s 2ms/step - loss: 3.4476 - mae: 1.2262 - val_loss: 14.5169 - val_mae: 2.3768\n",
            "Epoch 132/500\n",
            "301/323 [==========================>...] - ETA: 0s - loss: 2.2467 - mae: 1.1198"
          ]
        },
        {
          "output_type": "stream",
          "name": "stderr",
          "text": [
            "WARNING:tensorflow:Early stopping conditioned on metric `val_mse` which is not available. Available metrics are: loss,mae,val_loss,val_mae\n"
          ]
        },
        {
          "output_type": "stream",
          "name": "stdout",
          "text": [
            "\n",
            "Epoch 132: val_mae did not improve from 2.04043\n",
            "323/323 [==============================] - 1s 2ms/step - loss: 2.8563 - mae: 1.1513 - val_loss: 18.8742 - val_mae: 3.0400\n",
            "Epoch 133/500\n",
            "312/323 [===========================>..] - ETA: 0s - loss: 3.2820 - mae: 1.1919"
          ]
        },
        {
          "output_type": "stream",
          "name": "stderr",
          "text": [
            "WARNING:tensorflow:Early stopping conditioned on metric `val_mse` which is not available. Available metrics are: loss,mae,val_loss,val_mae\n"
          ]
        },
        {
          "output_type": "stream",
          "name": "stdout",
          "text": [
            "\n",
            "Epoch 133: val_mae did not improve from 2.04043\n",
            "323/323 [==============================] - 1s 2ms/step - loss: 3.2744 - mae: 1.1885 - val_loss: 14.0191 - val_mae: 2.4832\n",
            "Epoch 134/500\n",
            "306/323 [===========================>..] - ETA: 0s - loss: 3.1271 - mae: 1.2013"
          ]
        },
        {
          "output_type": "stream",
          "name": "stderr",
          "text": [
            "WARNING:tensorflow:Early stopping conditioned on metric `val_mse` which is not available. Available metrics are: loss,mae,val_loss,val_mae\n"
          ]
        },
        {
          "output_type": "stream",
          "name": "stdout",
          "text": [
            "\n",
            "Epoch 134: val_mae did not improve from 2.04043\n",
            "323/323 [==============================] - 1s 2ms/step - loss: 3.0197 - mae: 1.1731 - val_loss: 15.8636 - val_mae: 2.5145\n",
            "Epoch 135/500\n",
            "313/323 [============================>.] - ETA: 0s - loss: 3.1423 - mae: 1.1600"
          ]
        },
        {
          "output_type": "stream",
          "name": "stderr",
          "text": [
            "WARNING:tensorflow:Early stopping conditioned on metric `val_mse` which is not available. Available metrics are: loss,mae,val_loss,val_mae\n"
          ]
        },
        {
          "output_type": "stream",
          "name": "stdout",
          "text": [
            "\n",
            "Epoch 135: val_mae did not improve from 2.04043\n",
            "323/323 [==============================] - 1s 2ms/step - loss: 3.1504 - mae: 1.1681 - val_loss: 15.3049 - val_mae: 2.5027\n",
            "Epoch 136/500\n",
            "298/323 [==========================>...] - ETA: 0s - loss: 2.9209 - mae: 1.1315"
          ]
        },
        {
          "output_type": "stream",
          "name": "stderr",
          "text": [
            "WARNING:tensorflow:Early stopping conditioned on metric `val_mse` which is not available. Available metrics are: loss,mae,val_loss,val_mae\n"
          ]
        },
        {
          "output_type": "stream",
          "name": "stdout",
          "text": [
            "\n",
            "Epoch 136: val_mae did not improve from 2.04043\n",
            "323/323 [==============================] - 1s 2ms/step - loss: 2.8901 - mae: 1.1288 - val_loss: 14.9605 - val_mae: 2.3264\n",
            "Epoch 137/500\n",
            "313/323 [============================>.] - ETA: 0s - loss: 3.0530 - mae: 1.1890"
          ]
        },
        {
          "output_type": "stream",
          "name": "stderr",
          "text": [
            "WARNING:tensorflow:Early stopping conditioned on metric `val_mse` which is not available. Available metrics are: loss,mae,val_loss,val_mae\n"
          ]
        },
        {
          "output_type": "stream",
          "name": "stdout",
          "text": [
            "\n",
            "Epoch 137: val_mae did not improve from 2.04043\n",
            "323/323 [==============================] - 1s 2ms/step - loss: 3.1255 - mae: 1.2107 - val_loss: 13.7427 - val_mae: 2.3929\n",
            "Epoch 138/500\n",
            "312/323 [===========================>..] - ETA: 0s - loss: 3.2003 - mae: 1.2105"
          ]
        },
        {
          "output_type": "stream",
          "name": "stderr",
          "text": [
            "WARNING:tensorflow:Early stopping conditioned on metric `val_mse` which is not available. Available metrics are: loss,mae,val_loss,val_mae\n"
          ]
        },
        {
          "output_type": "stream",
          "name": "stdout",
          "text": [
            "\n",
            "Epoch 138: val_mae did not improve from 2.04043\n",
            "323/323 [==============================] - 1s 2ms/step - loss: 3.1086 - mae: 1.1897 - val_loss: 14.3718 - val_mae: 2.4177\n",
            "Epoch 139/500\n",
            "309/323 [===========================>..] - ETA: 0s - loss: 2.9350 - mae: 1.1270"
          ]
        },
        {
          "output_type": "stream",
          "name": "stderr",
          "text": [
            "WARNING:tensorflow:Early stopping conditioned on metric `val_mse` which is not available. Available metrics are: loss,mae,val_loss,val_mae\n"
          ]
        },
        {
          "output_type": "stream",
          "name": "stdout",
          "text": [
            "\n",
            "Epoch 139: val_mae did not improve from 2.04043\n",
            "323/323 [==============================] - 1s 2ms/step - loss: 2.9653 - mae: 1.1484 - val_loss: 14.9648 - val_mae: 2.5094\n",
            "Epoch 140/500\n",
            "294/323 [==========================>...] - ETA: 0s - loss: 3.1581 - mae: 1.2088"
          ]
        },
        {
          "output_type": "stream",
          "name": "stderr",
          "text": [
            "WARNING:tensorflow:Early stopping conditioned on metric `val_mse` which is not available. Available metrics are: loss,mae,val_loss,val_mae\n"
          ]
        },
        {
          "output_type": "stream",
          "name": "stdout",
          "text": [
            "\n",
            "Epoch 140: val_mae did not improve from 2.04043\n",
            "323/323 [==============================] - 1s 2ms/step - loss: 3.0095 - mae: 1.1850 - val_loss: 14.5168 - val_mae: 2.5328\n",
            "Epoch 141/500\n",
            "305/323 [===========================>..] - ETA: 0s - loss: 3.1332 - mae: 1.1713"
          ]
        },
        {
          "output_type": "stream",
          "name": "stderr",
          "text": [
            "WARNING:tensorflow:Early stopping conditioned on metric `val_mse` which is not available. Available metrics are: loss,mae,val_loss,val_mae\n"
          ]
        },
        {
          "output_type": "stream",
          "name": "stdout",
          "text": [
            "\n",
            "Epoch 141: val_mae did not improve from 2.04043\n",
            "323/323 [==============================] - 1s 3ms/step - loss: 3.0613 - mae: 1.1614 - val_loss: 13.8044 - val_mae: 2.2989\n",
            "Epoch 142/500\n",
            "298/323 [==========================>...] - ETA: 0s - loss: 2.8607 - mae: 1.1116"
          ]
        },
        {
          "output_type": "stream",
          "name": "stderr",
          "text": [
            "WARNING:tensorflow:Early stopping conditioned on metric `val_mse` which is not available. Available metrics are: loss,mae,val_loss,val_mae\n"
          ]
        },
        {
          "output_type": "stream",
          "name": "stdout",
          "text": [
            "\n",
            "Epoch 142: val_mae did not improve from 2.04043\n",
            "323/323 [==============================] - 1s 2ms/step - loss: 2.9463 - mae: 1.1342 - val_loss: 16.6728 - val_mae: 2.5034\n",
            "Epoch 143/500\n",
            "315/323 [============================>.] - ETA: 0s - loss: 2.9585 - mae: 1.1247"
          ]
        },
        {
          "output_type": "stream",
          "name": "stderr",
          "text": [
            "WARNING:tensorflow:Early stopping conditioned on metric `val_mse` which is not available. Available metrics are: loss,mae,val_loss,val_mae\n"
          ]
        },
        {
          "output_type": "stream",
          "name": "stdout",
          "text": [
            "\n",
            "Epoch 143: val_mae did not improve from 2.04043\n",
            "323/323 [==============================] - 1s 2ms/step - loss: 3.0119 - mae: 1.1421 - val_loss: 15.6555 - val_mae: 2.5391\n",
            "Epoch 144/500\n",
            "298/323 [==========================>...] - ETA: 0s - loss: 3.0826 - mae: 1.2062"
          ]
        },
        {
          "output_type": "stream",
          "name": "stderr",
          "text": [
            "WARNING:tensorflow:Early stopping conditioned on metric `val_mse` which is not available. Available metrics are: loss,mae,val_loss,val_mae\n"
          ]
        },
        {
          "output_type": "stream",
          "name": "stdout",
          "text": [
            "\n",
            "Epoch 144: val_mae did not improve from 2.04043\n",
            "323/323 [==============================] - 1s 3ms/step - loss: 2.9470 - mae: 1.1715 - val_loss: 15.9196 - val_mae: 2.5390\n",
            "Epoch 145/500\n",
            "312/323 [===========================>..] - ETA: 0s - loss: 3.0287 - mae: 1.1877"
          ]
        },
        {
          "output_type": "stream",
          "name": "stderr",
          "text": [
            "WARNING:tensorflow:Early stopping conditioned on metric `val_mse` which is not available. Available metrics are: loss,mae,val_loss,val_mae\n"
          ]
        },
        {
          "output_type": "stream",
          "name": "stdout",
          "text": [
            "\n",
            "Epoch 145: val_mae did not improve from 2.04043\n",
            "323/323 [==============================] - 1s 3ms/step - loss: 3.0773 - mae: 1.1949 - val_loss: 14.4281 - val_mae: 2.5451\n",
            "Epoch 146/500\n",
            "297/323 [==========================>...] - ETA: 0s - loss: 2.9566 - mae: 1.1709"
          ]
        },
        {
          "output_type": "stream",
          "name": "stderr",
          "text": [
            "WARNING:tensorflow:Early stopping conditioned on metric `val_mse` which is not available. Available metrics are: loss,mae,val_loss,val_mae\n"
          ]
        },
        {
          "output_type": "stream",
          "name": "stdout",
          "text": [
            "\n",
            "Epoch 146: val_mae did not improve from 2.04043\n",
            "323/323 [==============================] - 1s 2ms/step - loss: 2.8763 - mae: 1.1650 - val_loss: 14.8055 - val_mae: 2.4756\n",
            "Epoch 147/500\n",
            "296/323 [==========================>...] - ETA: 0s - loss: 2.8081 - mae: 1.1456"
          ]
        },
        {
          "output_type": "stream",
          "name": "stderr",
          "text": [
            "WARNING:tensorflow:Early stopping conditioned on metric `val_mse` which is not available. Available metrics are: loss,mae,val_loss,val_mae\n"
          ]
        },
        {
          "output_type": "stream",
          "name": "stdout",
          "text": [
            "\n",
            "Epoch 147: val_mae did not improve from 2.04043\n",
            "323/323 [==============================] - 1s 3ms/step - loss: 2.7601 - mae: 1.1489 - val_loss: 12.1380 - val_mae: 2.3050\n",
            "Epoch 148/500\n",
            "310/323 [===========================>..] - ETA: 0s - loss: 3.0601 - mae: 1.1516"
          ]
        },
        {
          "output_type": "stream",
          "name": "stderr",
          "text": [
            "WARNING:tensorflow:Early stopping conditioned on metric `val_mse` which is not available. Available metrics are: loss,mae,val_loss,val_mae\n"
          ]
        },
        {
          "output_type": "stream",
          "name": "stdout",
          "text": [
            "\n",
            "Epoch 148: val_mae did not improve from 2.04043\n",
            "323/323 [==============================] - 1s 2ms/step - loss: 2.9947 - mae: 1.1400 - val_loss: 16.7172 - val_mae: 2.5412\n",
            "Epoch 149/500\n",
            "312/323 [===========================>..] - ETA: 0s - loss: 2.8064 - mae: 1.1351"
          ]
        },
        {
          "output_type": "stream",
          "name": "stderr",
          "text": [
            "WARNING:tensorflow:Early stopping conditioned on metric `val_mse` which is not available. Available metrics are: loss,mae,val_loss,val_mae\n"
          ]
        },
        {
          "output_type": "stream",
          "name": "stdout",
          "text": [
            "\n",
            "Epoch 149: val_mae did not improve from 2.04043\n",
            "323/323 [==============================] - 1s 2ms/step - loss: 2.7637 - mae: 1.1321 - val_loss: 15.5842 - val_mae: 2.4598\n",
            "Epoch 150/500\n",
            "309/323 [===========================>..] - ETA: 0s - loss: 2.9692 - mae: 1.1656"
          ]
        },
        {
          "output_type": "stream",
          "name": "stderr",
          "text": [
            "WARNING:tensorflow:Early stopping conditioned on metric `val_mse` which is not available. Available metrics are: loss,mae,val_loss,val_mae\n"
          ]
        },
        {
          "output_type": "stream",
          "name": "stdout",
          "text": [
            "\n",
            "Epoch 150: val_mae did not improve from 2.04043\n",
            "323/323 [==============================] - 1s 2ms/step - loss: 2.9371 - mae: 1.1662 - val_loss: 14.2744 - val_mae: 2.3405\n",
            "Epoch 151/500\n",
            "320/323 [============================>.] - ETA: 0s - loss: 2.7847 - mae: 1.1224"
          ]
        },
        {
          "output_type": "stream",
          "name": "stderr",
          "text": [
            "WARNING:tensorflow:Early stopping conditioned on metric `val_mse` which is not available. Available metrics are: loss,mae,val_loss,val_mae\n"
          ]
        },
        {
          "output_type": "stream",
          "name": "stdout",
          "text": [
            "\n",
            "Epoch 151: val_mae did not improve from 2.04043\n",
            "323/323 [==============================] - 1s 2ms/step - loss: 2.8168 - mae: 1.1319 - val_loss: 15.1780 - val_mae: 2.4247\n",
            "Epoch 152/500\n",
            "316/323 [============================>.] - ETA: 0s - loss: 2.8067 - mae: 1.1032"
          ]
        },
        {
          "output_type": "stream",
          "name": "stderr",
          "text": [
            "WARNING:tensorflow:Early stopping conditioned on metric `val_mse` which is not available. Available metrics are: loss,mae,val_loss,val_mae\n"
          ]
        },
        {
          "output_type": "stream",
          "name": "stdout",
          "text": [
            "\n",
            "Epoch 152: val_mae did not improve from 2.04043\n",
            "323/323 [==============================] - 1s 2ms/step - loss: 2.7687 - mae: 1.0961 - val_loss: 13.9558 - val_mae: 2.2777\n",
            "Epoch 153/500\n",
            "301/323 [==========================>...] - ETA: 0s - loss: 2.6627 - mae: 1.1005"
          ]
        },
        {
          "output_type": "stream",
          "name": "stderr",
          "text": [
            "WARNING:tensorflow:Early stopping conditioned on metric `val_mse` which is not available. Available metrics are: loss,mae,val_loss,val_mae\n"
          ]
        },
        {
          "output_type": "stream",
          "name": "stdout",
          "text": [
            "\n",
            "Epoch 153: val_mae did not improve from 2.04043\n",
            "323/323 [==============================] - 1s 2ms/step - loss: 2.5634 - mae: 1.0846 - val_loss: 13.5303 - val_mae: 2.3416\n",
            "Epoch 154/500\n",
            "307/323 [===========================>..] - ETA: 0s - loss: 2.5584 - mae: 1.1054"
          ]
        },
        {
          "output_type": "stream",
          "name": "stderr",
          "text": [
            "WARNING:tensorflow:Early stopping conditioned on metric `val_mse` which is not available. Available metrics are: loss,mae,val_loss,val_mae\n"
          ]
        },
        {
          "output_type": "stream",
          "name": "stdout",
          "text": [
            "\n",
            "Epoch 154: val_mae did not improve from 2.04043\n",
            "323/323 [==============================] - 1s 2ms/step - loss: 2.5940 - mae: 1.1184 - val_loss: 14.1499 - val_mae: 2.4695\n",
            "Epoch 155/500\n",
            "316/323 [============================>.] - ETA: 0s - loss: 2.7146 - mae: 1.1422"
          ]
        },
        {
          "output_type": "stream",
          "name": "stderr",
          "text": [
            "WARNING:tensorflow:Early stopping conditioned on metric `val_mse` which is not available. Available metrics are: loss,mae,val_loss,val_mae\n"
          ]
        },
        {
          "output_type": "stream",
          "name": "stdout",
          "text": [
            "\n",
            "Epoch 155: val_mae did not improve from 2.04043\n",
            "323/323 [==============================] - 1s 2ms/step - loss: 2.6682 - mae: 1.1316 - val_loss: 14.6139 - val_mae: 2.4096\n",
            "Epoch 156/500\n",
            "309/323 [===========================>..] - ETA: 0s - loss: 2.5948 - mae: 1.0725"
          ]
        },
        {
          "output_type": "stream",
          "name": "stderr",
          "text": [
            "WARNING:tensorflow:Early stopping conditioned on metric `val_mse` which is not available. Available metrics are: loss,mae,val_loss,val_mae\n"
          ]
        },
        {
          "output_type": "stream",
          "name": "stdout",
          "text": [
            "\n",
            "Epoch 156: val_mae did not improve from 2.04043\n",
            "323/323 [==============================] - 1s 2ms/step - loss: 2.5784 - mae: 1.0796 - val_loss: 15.5954 - val_mae: 2.4912\n",
            "Epoch 157/500\n",
            "323/323 [==============================] - ETA: 0s - loss: 2.7503 - mae: 1.1390"
          ]
        },
        {
          "output_type": "stream",
          "name": "stderr",
          "text": [
            "WARNING:tensorflow:Early stopping conditioned on metric `val_mse` which is not available. Available metrics are: loss,mae,val_loss,val_mae\n"
          ]
        },
        {
          "output_type": "stream",
          "name": "stdout",
          "text": [
            "\n",
            "Epoch 157: val_mae did not improve from 2.04043\n",
            "323/323 [==============================] - 1s 2ms/step - loss: 2.7503 - mae: 1.1390 - val_loss: 15.6589 - val_mae: 2.4167\n",
            "Epoch 158/500\n",
            "321/323 [============================>.] - ETA: 0s - loss: 2.6871 - mae: 1.1046"
          ]
        },
        {
          "output_type": "stream",
          "name": "stderr",
          "text": [
            "WARNING:tensorflow:Early stopping conditioned on metric `val_mse` which is not available. Available metrics are: loss,mae,val_loss,val_mae\n"
          ]
        },
        {
          "output_type": "stream",
          "name": "stdout",
          "text": [
            "\n",
            "Epoch 158: val_mae did not improve from 2.04043\n",
            "323/323 [==============================] - 1s 2ms/step - loss: 2.6786 - mae: 1.1029 - val_loss: 13.3811 - val_mae: 2.5302\n",
            "Epoch 159/500\n",
            "320/323 [============================>.] - ETA: 0s - loss: 2.6764 - mae: 1.1540"
          ]
        },
        {
          "output_type": "stream",
          "name": "stderr",
          "text": [
            "WARNING:tensorflow:Early stopping conditioned on metric `val_mse` which is not available. Available metrics are: loss,mae,val_loss,val_mae\n"
          ]
        },
        {
          "output_type": "stream",
          "name": "stdout",
          "text": [
            "\n",
            "Epoch 159: val_mae did not improve from 2.04043\n",
            "323/323 [==============================] - 1s 2ms/step - loss: 2.6641 - mae: 1.1537 - val_loss: 13.4695 - val_mae: 2.5281\n",
            "Epoch 160/500\n",
            "319/323 [============================>.] - ETA: 0s - loss: 2.5094 - mae: 1.0644"
          ]
        },
        {
          "output_type": "stream",
          "name": "stderr",
          "text": [
            "WARNING:tensorflow:Early stopping conditioned on metric `val_mse` which is not available. Available metrics are: loss,mae,val_loss,val_mae\n"
          ]
        },
        {
          "output_type": "stream",
          "name": "stdout",
          "text": [
            "\n",
            "Epoch 160: val_mae did not improve from 2.04043\n",
            "323/323 [==============================] - 1s 2ms/step - loss: 2.4832 - mae: 1.0586 - val_loss: 15.4454 - val_mae: 2.5951\n",
            "Epoch 161/500\n",
            "312/323 [===========================>..] - ETA: 0s - loss: 2.5159 - mae: 1.0512"
          ]
        },
        {
          "output_type": "stream",
          "name": "stderr",
          "text": [
            "WARNING:tensorflow:Early stopping conditioned on metric `val_mse` which is not available. Available metrics are: loss,mae,val_loss,val_mae\n"
          ]
        },
        {
          "output_type": "stream",
          "name": "stdout",
          "text": [
            "\n",
            "Epoch 161: val_mae did not improve from 2.04043\n",
            "323/323 [==============================] - 1s 2ms/step - loss: 2.6828 - mae: 1.0825 - val_loss: 14.1080 - val_mae: 2.5167\n",
            "Epoch 162/500\n",
            "318/323 [============================>.] - ETA: 0s - loss: 2.5131 - mae: 1.1001"
          ]
        },
        {
          "output_type": "stream",
          "name": "stderr",
          "text": [
            "WARNING:tensorflow:Early stopping conditioned on metric `val_mse` which is not available. Available metrics are: loss,mae,val_loss,val_mae\n"
          ]
        },
        {
          "output_type": "stream",
          "name": "stdout",
          "text": [
            "\n",
            "Epoch 162: val_mae did not improve from 2.04043\n",
            "323/323 [==============================] - 1s 2ms/step - loss: 2.4940 - mae: 1.0972 - val_loss: 16.1604 - val_mae: 2.5120\n",
            "Epoch 163/500\n",
            "307/323 [===========================>..] - ETA: 0s - loss: 2.6984 - mae: 1.1392"
          ]
        },
        {
          "output_type": "stream",
          "name": "stderr",
          "text": [
            "WARNING:tensorflow:Early stopping conditioned on metric `val_mse` which is not available. Available metrics are: loss,mae,val_loss,val_mae\n"
          ]
        },
        {
          "output_type": "stream",
          "name": "stdout",
          "text": [
            "\n",
            "Epoch 163: val_mae did not improve from 2.04043\n",
            "323/323 [==============================] - 1s 2ms/step - loss: 2.6242 - mae: 1.1226 - val_loss: 14.8301 - val_mae: 2.3742\n",
            "Epoch 164/500\n",
            "323/323 [==============================] - ETA: 0s - loss: 2.4131 - mae: 1.0910"
          ]
        },
        {
          "output_type": "stream",
          "name": "stderr",
          "text": [
            "WARNING:tensorflow:Early stopping conditioned on metric `val_mse` which is not available. Available metrics are: loss,mae,val_loss,val_mae\n"
          ]
        },
        {
          "output_type": "stream",
          "name": "stdout",
          "text": [
            "\n",
            "Epoch 164: val_mae did not improve from 2.04043\n",
            "323/323 [==============================] - 1s 2ms/step - loss: 2.4131 - mae: 1.0910 - val_loss: 14.6368 - val_mae: 2.3579\n",
            "Epoch 165/500\n",
            "312/323 [===========================>..] - ETA: 0s - loss: 2.5936 - mae: 1.1023"
          ]
        },
        {
          "output_type": "stream",
          "name": "stderr",
          "text": [
            "WARNING:tensorflow:Early stopping conditioned on metric `val_mse` which is not available. Available metrics are: loss,mae,val_loss,val_mae\n"
          ]
        },
        {
          "output_type": "stream",
          "name": "stdout",
          "text": [
            "\n",
            "Epoch 165: val_mae did not improve from 2.04043\n",
            "323/323 [==============================] - 1s 2ms/step - loss: 2.5791 - mae: 1.1069 - val_loss: 14.4890 - val_mae: 2.5158\n",
            "Epoch 166/500\n",
            "299/323 [==========================>...] - ETA: 0s - loss: 2.1729 - mae: 1.0528"
          ]
        },
        {
          "output_type": "stream",
          "name": "stderr",
          "text": [
            "WARNING:tensorflow:Early stopping conditioned on metric `val_mse` which is not available. Available metrics are: loss,mae,val_loss,val_mae\n"
          ]
        },
        {
          "output_type": "stream",
          "name": "stdout",
          "text": [
            "\n",
            "Epoch 166: val_mae did not improve from 2.04043\n",
            "323/323 [==============================] - 1s 2ms/step - loss: 2.5883 - mae: 1.0968 - val_loss: 19.9243 - val_mae: 2.8644\n",
            "Epoch 167/500\n",
            "301/323 [==========================>...] - ETA: 0s - loss: 2.1626 - mae: 1.0285"
          ]
        },
        {
          "output_type": "stream",
          "name": "stderr",
          "text": [
            "WARNING:tensorflow:Early stopping conditioned on metric `val_mse` which is not available. Available metrics are: loss,mae,val_loss,val_mae\n"
          ]
        },
        {
          "output_type": "stream",
          "name": "stdout",
          "text": [
            "\n",
            "Epoch 167: val_mae did not improve from 2.04043\n",
            "323/323 [==============================] - 1s 2ms/step - loss: 2.1809 - mae: 1.0291 - val_loss: 18.6033 - val_mae: 2.5387\n",
            "Epoch 168/500\n",
            "308/323 [===========================>..] - ETA: 0s - loss: 2.7003 - mae: 1.0882"
          ]
        },
        {
          "output_type": "stream",
          "name": "stderr",
          "text": [
            "WARNING:tensorflow:Early stopping conditioned on metric `val_mse` which is not available. Available metrics are: loss,mae,val_loss,val_mae\n"
          ]
        },
        {
          "output_type": "stream",
          "name": "stdout",
          "text": [
            "\n",
            "Epoch 168: val_mae did not improve from 2.04043\n",
            "323/323 [==============================] - 1s 2ms/step - loss: 2.6262 - mae: 1.0733 - val_loss: 18.4291 - val_mae: 2.4933\n",
            "Epoch 169/500\n",
            "310/323 [===========================>..] - ETA: 0s - loss: 2.5117 - mae: 1.1454"
          ]
        },
        {
          "output_type": "stream",
          "name": "stderr",
          "text": [
            "WARNING:tensorflow:Early stopping conditioned on metric `val_mse` which is not available. Available metrics are: loss,mae,val_loss,val_mae\n"
          ]
        },
        {
          "output_type": "stream",
          "name": "stdout",
          "text": [
            "\n",
            "Epoch 169: val_mae did not improve from 2.04043\n",
            "323/323 [==============================] - 1s 2ms/step - loss: 2.4496 - mae: 1.1344 - val_loss: 15.7621 - val_mae: 2.5575\n",
            "Epoch 170/500\n",
            "316/323 [============================>.] - ETA: 0s - loss: 2.4628 - mae: 1.0918"
          ]
        },
        {
          "output_type": "stream",
          "name": "stderr",
          "text": [
            "WARNING:tensorflow:Early stopping conditioned on metric `val_mse` which is not available. Available metrics are: loss,mae,val_loss,val_mae\n"
          ]
        },
        {
          "output_type": "stream",
          "name": "stdout",
          "text": [
            "\n",
            "Epoch 170: val_mae did not improve from 2.04043\n",
            "323/323 [==============================] - 1s 2ms/step - loss: 2.4330 - mae: 1.0866 - val_loss: 15.7901 - val_mae: 2.4351\n",
            "Epoch 171/500\n",
            "293/323 [==========================>...] - ETA: 0s - loss: 2.4544 - mae: 1.1202"
          ]
        },
        {
          "output_type": "stream",
          "name": "stderr",
          "text": [
            "WARNING:tensorflow:Early stopping conditioned on metric `val_mse` which is not available. Available metrics are: loss,mae,val_loss,val_mae\n"
          ]
        },
        {
          "output_type": "stream",
          "name": "stdout",
          "text": [
            "\n",
            "Epoch 171: val_mae did not improve from 2.04043\n",
            "323/323 [==============================] - 1s 2ms/step - loss: 2.4964 - mae: 1.1393 - val_loss: 17.3023 - val_mae: 2.5175\n",
            "Epoch 172/500\n",
            "302/323 [===========================>..] - ETA: 0s - loss: 2.2491 - mae: 1.0506"
          ]
        },
        {
          "output_type": "stream",
          "name": "stderr",
          "text": [
            "WARNING:tensorflow:Early stopping conditioned on metric `val_mse` which is not available. Available metrics are: loss,mae,val_loss,val_mae\n"
          ]
        },
        {
          "output_type": "stream",
          "name": "stdout",
          "text": [
            "\n",
            "Epoch 172: val_mae did not improve from 2.04043\n",
            "323/323 [==============================] - 1s 2ms/step - loss: 2.3413 - mae: 1.0784 - val_loss: 14.6047 - val_mae: 2.3882\n",
            "Epoch 173/500\n",
            "298/323 [==========================>...] - ETA: 0s - loss: 2.3572 - mae: 1.0469"
          ]
        },
        {
          "output_type": "stream",
          "name": "stderr",
          "text": [
            "WARNING:tensorflow:Early stopping conditioned on metric `val_mse` which is not available. Available metrics are: loss,mae,val_loss,val_mae\n"
          ]
        },
        {
          "output_type": "stream",
          "name": "stdout",
          "text": [
            "\n",
            "Epoch 173: val_mae did not improve from 2.04043\n",
            "323/323 [==============================] - 1s 2ms/step - loss: 2.3181 - mae: 1.0458 - val_loss: 15.8190 - val_mae: 2.6094\n",
            "Epoch 174/500\n",
            "313/323 [============================>.] - ETA: 0s - loss: 2.4050 - mae: 1.0602"
          ]
        },
        {
          "output_type": "stream",
          "name": "stderr",
          "text": [
            "WARNING:tensorflow:Early stopping conditioned on metric `val_mse` which is not available. Available metrics are: loss,mae,val_loss,val_mae\n"
          ]
        },
        {
          "output_type": "stream",
          "name": "stdout",
          "text": [
            "\n",
            "Epoch 174: val_mae did not improve from 2.04043\n",
            "323/323 [==============================] - 1s 2ms/step - loss: 2.3831 - mae: 1.0601 - val_loss: 13.8664 - val_mae: 2.5742\n",
            "Epoch 175/500\n",
            "301/323 [==========================>...] - ETA: 0s - loss: 2.4746 - mae: 1.0500"
          ]
        },
        {
          "output_type": "stream",
          "name": "stderr",
          "text": [
            "WARNING:tensorflow:Early stopping conditioned on metric `val_mse` which is not available. Available metrics are: loss,mae,val_loss,val_mae\n"
          ]
        },
        {
          "output_type": "stream",
          "name": "stdout",
          "text": [
            "\n",
            "Epoch 175: val_mae did not improve from 2.04043\n",
            "323/323 [==============================] - 1s 2ms/step - loss: 2.4791 - mae: 1.0598 - val_loss: 15.9744 - val_mae: 2.3655\n",
            "Epoch 176/500\n",
            "294/323 [==========================>...] - ETA: 0s - loss: 2.5205 - mae: 1.0749"
          ]
        },
        {
          "output_type": "stream",
          "name": "stderr",
          "text": [
            "WARNING:tensorflow:Early stopping conditioned on metric `val_mse` which is not available. Available metrics are: loss,mae,val_loss,val_mae\n"
          ]
        },
        {
          "output_type": "stream",
          "name": "stdout",
          "text": [
            "\n",
            "Epoch 176: val_mae did not improve from 2.04043\n",
            "323/323 [==============================] - 1s 2ms/step - loss: 2.4098 - mae: 1.0623 - val_loss: 14.8167 - val_mae: 2.4743\n",
            "Epoch 177/500\n",
            "319/323 [============================>.] - ETA: 0s - loss: 2.4421 - mae: 1.0845"
          ]
        },
        {
          "output_type": "stream",
          "name": "stderr",
          "text": [
            "WARNING:tensorflow:Early stopping conditioned on metric `val_mse` which is not available. Available metrics are: loss,mae,val_loss,val_mae\n"
          ]
        },
        {
          "output_type": "stream",
          "name": "stdout",
          "text": [
            "\n",
            "Epoch 177: val_mae did not improve from 2.04043\n",
            "323/323 [==============================] - 1s 2ms/step - loss: 2.4131 - mae: 1.0750 - val_loss: 14.5382 - val_mae: 2.5071\n",
            "Epoch 178/500\n",
            "305/323 [===========================>..] - ETA: 0s - loss: 2.3063 - mae: 1.0593"
          ]
        },
        {
          "output_type": "stream",
          "name": "stderr",
          "text": [
            "WARNING:tensorflow:Early stopping conditioned on metric `val_mse` which is not available. Available metrics are: loss,mae,val_loss,val_mae\n"
          ]
        },
        {
          "output_type": "stream",
          "name": "stdout",
          "text": [
            "\n",
            "Epoch 178: val_mae did not improve from 2.04043\n",
            "323/323 [==============================] - 1s 3ms/step - loss: 2.3816 - mae: 1.0679 - val_loss: 14.8083 - val_mae: 2.3897\n",
            "Epoch 179/500\n",
            "317/323 [============================>.] - ETA: 0s - loss: 2.2313 - mae: 1.0458"
          ]
        },
        {
          "output_type": "stream",
          "name": "stderr",
          "text": [
            "WARNING:tensorflow:Early stopping conditioned on metric `val_mse` which is not available. Available metrics are: loss,mae,val_loss,val_mae\n"
          ]
        },
        {
          "output_type": "stream",
          "name": "stdout",
          "text": [
            "\n",
            "Epoch 179: val_mae did not improve from 2.04043\n",
            "323/323 [==============================] - 1s 2ms/step - loss: 2.2237 - mae: 1.0447 - val_loss: 15.2461 - val_mae: 2.7491\n",
            "Epoch 180/500\n",
            "317/323 [============================>.] - ETA: 0s - loss: 2.0535 - mae: 1.0136"
          ]
        },
        {
          "output_type": "stream",
          "name": "stderr",
          "text": [
            "WARNING:tensorflow:Early stopping conditioned on metric `val_mse` which is not available. Available metrics are: loss,mae,val_loss,val_mae\n"
          ]
        },
        {
          "output_type": "stream",
          "name": "stdout",
          "text": [
            "\n",
            "Epoch 180: val_mae did not improve from 2.04043\n",
            "323/323 [==============================] - 1s 2ms/step - loss: 2.0557 - mae: 1.0210 - val_loss: 17.1186 - val_mae: 2.5611\n",
            "Epoch 181/500\n",
            "307/323 [===========================>..] - ETA: 0s - loss: 2.1935 - mae: 1.0319"
          ]
        },
        {
          "output_type": "stream",
          "name": "stderr",
          "text": [
            "WARNING:tensorflow:Early stopping conditioned on metric `val_mse` which is not available. Available metrics are: loss,mae,val_loss,val_mae\n"
          ]
        },
        {
          "output_type": "stream",
          "name": "stdout",
          "text": [
            "\n",
            "Epoch 181: val_mae did not improve from 2.04043\n",
            "323/323 [==============================] - 1s 2ms/step - loss: 2.1682 - mae: 1.0298 - val_loss: 17.1144 - val_mae: 2.6510\n",
            "Epoch 182/500\n",
            "303/323 [===========================>..] - ETA: 0s - loss: 2.1157 - mae: 1.0644"
          ]
        },
        {
          "output_type": "stream",
          "name": "stderr",
          "text": [
            "WARNING:tensorflow:Early stopping conditioned on metric `val_mse` which is not available. Available metrics are: loss,mae,val_loss,val_mae\n"
          ]
        },
        {
          "output_type": "stream",
          "name": "stdout",
          "text": [
            "\n",
            "Epoch 182: val_mae did not improve from 2.04043\n",
            "323/323 [==============================] - 1s 2ms/step - loss: 2.0573 - mae: 1.0552 - val_loss: 16.7687 - val_mae: 2.6263\n",
            "Epoch 183/500\n",
            "320/323 [============================>.] - ETA: 0s - loss: 2.2695 - mae: 1.0674"
          ]
        },
        {
          "output_type": "stream",
          "name": "stderr",
          "text": [
            "WARNING:tensorflow:Early stopping conditioned on metric `val_mse` which is not available. Available metrics are: loss,mae,val_loss,val_mae\n"
          ]
        },
        {
          "output_type": "stream",
          "name": "stdout",
          "text": [
            "\n",
            "Epoch 183: val_mae did not improve from 2.04043\n",
            "323/323 [==============================] - 1s 2ms/step - loss: 2.2568 - mae: 1.0660 - val_loss: 13.8814 - val_mae: 2.3335\n",
            "Epoch 184/500\n",
            "312/323 [===========================>..] - ETA: 0s - loss: 2.2720 - mae: 1.0669"
          ]
        },
        {
          "output_type": "stream",
          "name": "stderr",
          "text": [
            "WARNING:tensorflow:Early stopping conditioned on metric `val_mse` which is not available. Available metrics are: loss,mae,val_loss,val_mae\n"
          ]
        },
        {
          "output_type": "stream",
          "name": "stdout",
          "text": [
            "\n",
            "Epoch 184: val_mae did not improve from 2.04043\n",
            "323/323 [==============================] - 1s 2ms/step - loss: 2.2437 - mae: 1.0634 - val_loss: 13.4899 - val_mae: 2.4384\n",
            "Epoch 185/500\n",
            "315/323 [============================>.] - ETA: 0s - loss: 2.2196 - mae: 1.0445"
          ]
        },
        {
          "output_type": "stream",
          "name": "stderr",
          "text": [
            "WARNING:tensorflow:Early stopping conditioned on metric `val_mse` which is not available. Available metrics are: loss,mae,val_loss,val_mae\n"
          ]
        },
        {
          "output_type": "stream",
          "name": "stdout",
          "text": [
            "\n",
            "Epoch 185: val_mae did not improve from 2.04043\n",
            "323/323 [==============================] - 1s 2ms/step - loss: 2.1905 - mae: 1.0373 - val_loss: 17.6316 - val_mae: 2.7874\n",
            "Epoch 186/500\n",
            "299/323 [==========================>...] - ETA: 0s - loss: 2.4438 - mae: 1.0853"
          ]
        },
        {
          "output_type": "stream",
          "name": "stderr",
          "text": [
            "WARNING:tensorflow:Early stopping conditioned on metric `val_mse` which is not available. Available metrics are: loss,mae,val_loss,val_mae\n"
          ]
        },
        {
          "output_type": "stream",
          "name": "stdout",
          "text": [
            "\n",
            "Epoch 186: val_mae did not improve from 2.04043\n",
            "323/323 [==============================] - 1s 2ms/step - loss: 2.3115 - mae: 1.0519 - val_loss: 14.1524 - val_mae: 2.4368\n",
            "Epoch 187/500\n",
            "313/323 [============================>.] - ETA: 0s - loss: 2.5348 - mae: 1.1022"
          ]
        },
        {
          "output_type": "stream",
          "name": "stderr",
          "text": [
            "WARNING:tensorflow:Early stopping conditioned on metric `val_mse` which is not available. Available metrics are: loss,mae,val_loss,val_mae\n"
          ]
        },
        {
          "output_type": "stream",
          "name": "stdout",
          "text": [
            "\n",
            "Epoch 187: val_mae did not improve from 2.04043\n",
            "323/323 [==============================] - 1s 2ms/step - loss: 2.4722 - mae: 1.0866 - val_loss: 17.7031 - val_mae: 2.5623\n",
            "Epoch 188/500\n",
            "313/323 [============================>.] - ETA: 0s - loss: 2.1327 - mae: 1.0489"
          ]
        },
        {
          "output_type": "stream",
          "name": "stderr",
          "text": [
            "WARNING:tensorflow:Early stopping conditioned on metric `val_mse` which is not available. Available metrics are: loss,mae,val_loss,val_mae\n"
          ]
        },
        {
          "output_type": "stream",
          "name": "stdout",
          "text": [
            "\n",
            "Epoch 188: val_mae did not improve from 2.04043\n",
            "323/323 [==============================] - 1s 2ms/step - loss: 2.1271 - mae: 1.0540 - val_loss: 16.7123 - val_mae: 2.6300\n",
            "Epoch 189/500\n",
            "310/323 [===========================>..] - ETA: 0s - loss: 2.0318 - mae: 1.0129"
          ]
        },
        {
          "output_type": "stream",
          "name": "stderr",
          "text": [
            "WARNING:tensorflow:Early stopping conditioned on metric `val_mse` which is not available. Available metrics are: loss,mae,val_loss,val_mae\n"
          ]
        },
        {
          "output_type": "stream",
          "name": "stdout",
          "text": [
            "\n",
            "Epoch 189: val_mae did not improve from 2.04043\n",
            "323/323 [==============================] - 1s 2ms/step - loss: 2.0334 - mae: 1.0180 - val_loss: 14.6621 - val_mae: 2.3865\n",
            "Epoch 190/500\n",
            "305/323 [===========================>..] - ETA: 0s - loss: 2.2739 - mae: 1.0349"
          ]
        },
        {
          "output_type": "stream",
          "name": "stderr",
          "text": [
            "WARNING:tensorflow:Early stopping conditioned on metric `val_mse` which is not available. Available metrics are: loss,mae,val_loss,val_mae\n"
          ]
        },
        {
          "output_type": "stream",
          "name": "stdout",
          "text": [
            "\n",
            "Epoch 190: val_mae did not improve from 2.04043\n",
            "323/323 [==============================] - 1s 2ms/step - loss: 2.2365 - mae: 1.0306 - val_loss: 13.9155 - val_mae: 2.5859\n",
            "Epoch 191/500\n",
            "298/323 [==========================>...] - ETA: 0s - loss: 2.1342 - mae: 1.0290"
          ]
        },
        {
          "output_type": "stream",
          "name": "stderr",
          "text": [
            "WARNING:tensorflow:Early stopping conditioned on metric `val_mse` which is not available. Available metrics are: loss,mae,val_loss,val_mae\n"
          ]
        },
        {
          "output_type": "stream",
          "name": "stdout",
          "text": [
            "\n",
            "Epoch 191: val_mae did not improve from 2.04043\n",
            "323/323 [==============================] - 1s 2ms/step - loss: 2.0644 - mae: 1.0118 - val_loss: 14.4580 - val_mae: 2.5238\n",
            "Epoch 192/500\n",
            "302/323 [===========================>..] - ETA: 0s - loss: 1.8738 - mae: 0.9904"
          ]
        },
        {
          "output_type": "stream",
          "name": "stderr",
          "text": [
            "WARNING:tensorflow:Early stopping conditioned on metric `val_mse` which is not available. Available metrics are: loss,mae,val_loss,val_mae\n"
          ]
        },
        {
          "output_type": "stream",
          "name": "stdout",
          "text": [
            "\n",
            "Epoch 192: val_mae did not improve from 2.04043\n",
            "323/323 [==============================] - 1s 2ms/step - loss: 1.8274 - mae: 0.9823 - val_loss: 12.9938 - val_mae: 2.3298\n",
            "Epoch 193/500\n",
            "313/323 [============================>.] - ETA: 0s - loss: 2.0393 - mae: 1.0533"
          ]
        },
        {
          "output_type": "stream",
          "name": "stderr",
          "text": [
            "WARNING:tensorflow:Early stopping conditioned on metric `val_mse` which is not available. Available metrics are: loss,mae,val_loss,val_mae\n"
          ]
        },
        {
          "output_type": "stream",
          "name": "stdout",
          "text": [
            "\n",
            "Epoch 193: val_mae did not improve from 2.04043\n",
            "323/323 [==============================] - 1s 2ms/step - loss: 1.9963 - mae: 1.0366 - val_loss: 14.9081 - val_mae: 2.5510\n",
            "Epoch 194/500\n",
            "313/323 [============================>.] - ETA: 0s - loss: 1.9451 - mae: 1.0558"
          ]
        },
        {
          "output_type": "stream",
          "name": "stderr",
          "text": [
            "WARNING:tensorflow:Early stopping conditioned on metric `val_mse` which is not available. Available metrics are: loss,mae,val_loss,val_mae\n"
          ]
        },
        {
          "output_type": "stream",
          "name": "stdout",
          "text": [
            "\n",
            "Epoch 194: val_mae did not improve from 2.04043\n",
            "323/323 [==============================] - 1s 2ms/step - loss: 2.0038 - mae: 1.0647 - val_loss: 15.1993 - val_mae: 2.3384\n",
            "Epoch 195/500\n",
            "304/323 [===========================>..] - ETA: 0s - loss: 2.2651 - mae: 1.0476"
          ]
        },
        {
          "output_type": "stream",
          "name": "stderr",
          "text": [
            "WARNING:tensorflow:Early stopping conditioned on metric `val_mse` which is not available. Available metrics are: loss,mae,val_loss,val_mae\n"
          ]
        },
        {
          "output_type": "stream",
          "name": "stdout",
          "text": [
            "\n",
            "Epoch 195: val_mae did not improve from 2.04043\n",
            "323/323 [==============================] - 1s 2ms/step - loss: 2.2122 - mae: 1.0407 - val_loss: 13.9546 - val_mae: 2.3678\n",
            "Epoch 196/500\n",
            "301/323 [==========================>...] - ETA: 0s - loss: 1.7810 - mae: 0.9895"
          ]
        },
        {
          "output_type": "stream",
          "name": "stderr",
          "text": [
            "WARNING:tensorflow:Early stopping conditioned on metric `val_mse` which is not available. Available metrics are: loss,mae,val_loss,val_mae\n"
          ]
        },
        {
          "output_type": "stream",
          "name": "stdout",
          "text": [
            "\n",
            "Epoch 196: val_mae did not improve from 2.04043\n",
            "323/323 [==============================] - 1s 2ms/step - loss: 2.1788 - mae: 1.0252 - val_loss: 13.9150 - val_mae: 2.2730\n",
            "Epoch 197/500\n",
            "305/323 [===========================>..] - ETA: 0s - loss: 2.1276 - mae: 1.0294"
          ]
        },
        {
          "output_type": "stream",
          "name": "stderr",
          "text": [
            "WARNING:tensorflow:Early stopping conditioned on metric `val_mse` which is not available. Available metrics are: loss,mae,val_loss,val_mae\n"
          ]
        },
        {
          "output_type": "stream",
          "name": "stdout",
          "text": [
            "\n",
            "Epoch 197: val_mae did not improve from 2.04043\n",
            "323/323 [==============================] - 1s 3ms/step - loss: 2.0890 - mae: 1.0218 - val_loss: 13.1125 - val_mae: 2.4681\n",
            "Epoch 198/500\n",
            "313/323 [============================>.] - ETA: 0s - loss: 2.0401 - mae: 1.0403"
          ]
        },
        {
          "output_type": "stream",
          "name": "stderr",
          "text": [
            "WARNING:tensorflow:Early stopping conditioned on metric `val_mse` which is not available. Available metrics are: loss,mae,val_loss,val_mae\n"
          ]
        },
        {
          "output_type": "stream",
          "name": "stdout",
          "text": [
            "\n",
            "Epoch 198: val_mae did not improve from 2.04043\n",
            "323/323 [==============================] - 1s 3ms/step - loss: 2.0232 - mae: 1.0381 - val_loss: 16.2809 - val_mae: 2.5599\n",
            "Epoch 199/500\n",
            "316/323 [============================>.] - ETA: 0s - loss: 1.9566 - mae: 1.0020"
          ]
        },
        {
          "output_type": "stream",
          "name": "stderr",
          "text": [
            "WARNING:tensorflow:Early stopping conditioned on metric `val_mse` which is not available. Available metrics are: loss,mae,val_loss,val_mae\n"
          ]
        },
        {
          "output_type": "stream",
          "name": "stdout",
          "text": [
            "\n",
            "Epoch 199: val_mae did not improve from 2.04043\n",
            "323/323 [==============================] - 1s 2ms/step - loss: 2.0502 - mae: 1.0232 - val_loss: 13.6870 - val_mae: 2.4179\n",
            "Epoch 200/500\n",
            "303/323 [===========================>..] - ETA: 0s - loss: 2.1747 - mae: 1.0738"
          ]
        },
        {
          "output_type": "stream",
          "name": "stderr",
          "text": [
            "WARNING:tensorflow:Early stopping conditioned on metric `val_mse` which is not available. Available metrics are: loss,mae,val_loss,val_mae\n"
          ]
        },
        {
          "output_type": "stream",
          "name": "stdout",
          "text": [
            "\n",
            "Epoch 200: val_mae did not improve from 2.04043\n",
            "323/323 [==============================] - 1s 2ms/step - loss: 2.1580 - mae: 1.0793 - val_loss: 14.1318 - val_mae: 2.3255\n",
            "Epoch 201/500\n",
            "303/323 [===========================>..] - ETA: 0s - loss: 1.7013 - mae: 0.9492"
          ]
        },
        {
          "output_type": "stream",
          "name": "stderr",
          "text": [
            "WARNING:tensorflow:Early stopping conditioned on metric `val_mse` which is not available. Available metrics are: loss,mae,val_loss,val_mae\n"
          ]
        },
        {
          "output_type": "stream",
          "name": "stdout",
          "text": [
            "\n",
            "Epoch 201: val_mae did not improve from 2.04043\n",
            "323/323 [==============================] - 1s 2ms/step - loss: 2.1175 - mae: 0.9971 - val_loss: 15.3934 - val_mae: 2.5027\n",
            "Epoch 202/500\n",
            "307/323 [===========================>..] - ETA: 0s - loss: 1.7310 - mae: 0.9407"
          ]
        },
        {
          "output_type": "stream",
          "name": "stderr",
          "text": [
            "WARNING:tensorflow:Early stopping conditioned on metric `val_mse` which is not available. Available metrics are: loss,mae,val_loss,val_mae\n"
          ]
        },
        {
          "output_type": "stream",
          "name": "stdout",
          "text": [
            "\n",
            "Epoch 202: val_mae did not improve from 2.04043\n",
            "323/323 [==============================] - 1s 2ms/step - loss: 2.0329 - mae: 0.9840 - val_loss: 17.8872 - val_mae: 2.6243\n",
            "Epoch 203/500\n",
            "301/323 [==========================>...] - ETA: 0s - loss: 1.8792 - mae: 0.9700"
          ]
        },
        {
          "output_type": "stream",
          "name": "stderr",
          "text": [
            "WARNING:tensorflow:Early stopping conditioned on metric `val_mse` which is not available. Available metrics are: loss,mae,val_loss,val_mae\n"
          ]
        },
        {
          "output_type": "stream",
          "name": "stdout",
          "text": [
            "\n",
            "Epoch 203: val_mae did not improve from 2.04043\n",
            "323/323 [==============================] - 1s 2ms/step - loss: 1.8972 - mae: 0.9854 - val_loss: 14.3234 - val_mae: 2.5894\n",
            "Epoch 204/500\n",
            "308/323 [===========================>..] - ETA: 0s - loss: 2.0032 - mae: 0.9891"
          ]
        },
        {
          "output_type": "stream",
          "name": "stderr",
          "text": [
            "WARNING:tensorflow:Early stopping conditioned on metric `val_mse` which is not available. Available metrics are: loss,mae,val_loss,val_mae\n"
          ]
        },
        {
          "output_type": "stream",
          "name": "stdout",
          "text": [
            "\n",
            "Epoch 204: val_mae did not improve from 2.04043\n",
            "323/323 [==============================] - 1s 2ms/step - loss: 1.9925 - mae: 0.9867 - val_loss: 14.9471 - val_mae: 2.4137\n",
            "Epoch 205/500\n",
            "299/323 [==========================>...] - ETA: 0s - loss: 1.9431 - mae: 1.0163"
          ]
        },
        {
          "output_type": "stream",
          "name": "stderr",
          "text": [
            "WARNING:tensorflow:Early stopping conditioned on metric `val_mse` which is not available. Available metrics are: loss,mae,val_loss,val_mae\n"
          ]
        },
        {
          "output_type": "stream",
          "name": "stdout",
          "text": [
            "\n",
            "Epoch 205: val_mae did not improve from 2.04043\n",
            "323/323 [==============================] - 1s 2ms/step - loss: 1.8826 - mae: 1.0017 - val_loss: 17.9215 - val_mae: 2.7007\n",
            "Epoch 206/500\n",
            "299/323 [==========================>...] - ETA: 0s - loss: 1.8236 - mae: 1.0187"
          ]
        },
        {
          "output_type": "stream",
          "name": "stderr",
          "text": [
            "WARNING:tensorflow:Early stopping conditioned on metric `val_mse` which is not available. Available metrics are: loss,mae,val_loss,val_mae\n"
          ]
        },
        {
          "output_type": "stream",
          "name": "stdout",
          "text": [
            "\n",
            "Epoch 206: val_mae did not improve from 2.04043\n",
            "323/323 [==============================] - 1s 2ms/step - loss: 2.0541 - mae: 1.0505 - val_loss: 18.9940 - val_mae: 2.6200\n",
            "Epoch 207/500\n",
            "320/323 [============================>.] - ETA: 0s - loss: 2.0902 - mae: 1.0435"
          ]
        },
        {
          "output_type": "stream",
          "name": "stderr",
          "text": [
            "WARNING:tensorflow:Early stopping conditioned on metric `val_mse` which is not available. Available metrics are: loss,mae,val_loss,val_mae\n"
          ]
        },
        {
          "output_type": "stream",
          "name": "stdout",
          "text": [
            "\n",
            "Epoch 207: val_mae did not improve from 2.04043\n",
            "323/323 [==============================] - 1s 2ms/step - loss: 2.0770 - mae: 1.0399 - val_loss: 15.1319 - val_mae: 2.4458\n",
            "Epoch 208/500\n",
            "303/323 [===========================>..] - ETA: 0s - loss: 1.8240 - mae: 0.9635"
          ]
        },
        {
          "output_type": "stream",
          "name": "stderr",
          "text": [
            "WARNING:tensorflow:Early stopping conditioned on metric `val_mse` which is not available. Available metrics are: loss,mae,val_loss,val_mae\n"
          ]
        },
        {
          "output_type": "stream",
          "name": "stdout",
          "text": [
            "\n",
            "Epoch 208: val_mae did not improve from 2.04043\n",
            "323/323 [==============================] - 1s 2ms/step - loss: 1.8858 - mae: 0.9870 - val_loss: 15.2601 - val_mae: 2.3972\n",
            "Epoch 209/500\n",
            "294/323 [==========================>...] - ETA: 0s - loss: 1.7915 - mae: 1.0057"
          ]
        },
        {
          "output_type": "stream",
          "name": "stderr",
          "text": [
            "WARNING:tensorflow:Early stopping conditioned on metric `val_mse` which is not available. Available metrics are: loss,mae,val_loss,val_mae\n"
          ]
        },
        {
          "output_type": "stream",
          "name": "stdout",
          "text": [
            "\n",
            "Epoch 209: val_mae did not improve from 2.04043\n",
            "323/323 [==============================] - 1s 2ms/step - loss: 1.8225 - mae: 1.0240 - val_loss: 15.6500 - val_mae: 2.5602\n",
            "Epoch 210/500\n",
            "301/323 [==========================>...] - ETA: 0s - loss: 2.0138 - mae: 1.0081"
          ]
        },
        {
          "output_type": "stream",
          "name": "stderr",
          "text": [
            "WARNING:tensorflow:Early stopping conditioned on metric `val_mse` which is not available. Available metrics are: loss,mae,val_loss,val_mae\n"
          ]
        },
        {
          "output_type": "stream",
          "name": "stdout",
          "text": [
            "\n",
            "Epoch 210: val_mae did not improve from 2.04043\n",
            "323/323 [==============================] - 1s 2ms/step - loss: 1.9086 - mae: 0.9749 - val_loss: 16.4999 - val_mae: 2.6050\n",
            "Epoch 211/500\n",
            "304/323 [===========================>..] - ETA: 0s - loss: 2.1280 - mae: 1.0080"
          ]
        },
        {
          "output_type": "stream",
          "name": "stderr",
          "text": [
            "WARNING:tensorflow:Early stopping conditioned on metric `val_mse` which is not available. Available metrics are: loss,mae,val_loss,val_mae\n"
          ]
        },
        {
          "output_type": "stream",
          "name": "stdout",
          "text": [
            "\n",
            "Epoch 211: val_mae did not improve from 2.04043\n",
            "323/323 [==============================] - 1s 2ms/step - loss: 2.0864 - mae: 0.9941 - val_loss: 16.0087 - val_mae: 2.5968\n",
            "Epoch 212/500\n",
            "307/323 [===========================>..] - ETA: 0s - loss: 1.7442 - mae: 0.9954"
          ]
        },
        {
          "output_type": "stream",
          "name": "stderr",
          "text": [
            "WARNING:tensorflow:Early stopping conditioned on metric `val_mse` which is not available. Available metrics are: loss,mae,val_loss,val_mae\n"
          ]
        },
        {
          "output_type": "stream",
          "name": "stdout",
          "text": [
            "\n",
            "Epoch 212: val_mae did not improve from 2.04043\n",
            "323/323 [==============================] - 1s 2ms/step - loss: 1.7425 - mae: 0.9943 - val_loss: 14.8681 - val_mae: 2.5915\n",
            "Epoch 213/500\n",
            "305/323 [===========================>..] - ETA: 0s - loss: 1.7113 - mae: 0.9570"
          ]
        },
        {
          "output_type": "stream",
          "name": "stderr",
          "text": [
            "WARNING:tensorflow:Early stopping conditioned on metric `val_mse` which is not available. Available metrics are: loss,mae,val_loss,val_mae\n"
          ]
        },
        {
          "output_type": "stream",
          "name": "stdout",
          "text": [
            "\n",
            "Epoch 213: val_mae did not improve from 2.04043\n",
            "323/323 [==============================] - 1s 2ms/step - loss: 1.7657 - mae: 0.9745 - val_loss: 16.8308 - val_mae: 2.6830\n",
            "Epoch 214/500\n",
            "309/323 [===========================>..] - ETA: 0s - loss: 1.6714 - mae: 0.9512"
          ]
        },
        {
          "output_type": "stream",
          "name": "stderr",
          "text": [
            "WARNING:tensorflow:Early stopping conditioned on metric `val_mse` which is not available. Available metrics are: loss,mae,val_loss,val_mae\n"
          ]
        },
        {
          "output_type": "stream",
          "name": "stdout",
          "text": [
            "\n",
            "Epoch 214: val_mae did not improve from 2.04043\n",
            "323/323 [==============================] - 1s 2ms/step - loss: 1.6794 - mae: 0.9509 - val_loss: 16.3087 - val_mae: 2.5165\n",
            "Epoch 215/500\n",
            "304/323 [===========================>..] - ETA: 0s - loss: 1.9089 - mae: 0.9997"
          ]
        },
        {
          "output_type": "stream",
          "name": "stderr",
          "text": [
            "WARNING:tensorflow:Early stopping conditioned on metric `val_mse` which is not available. Available metrics are: loss,mae,val_loss,val_mae\n"
          ]
        },
        {
          "output_type": "stream",
          "name": "stdout",
          "text": [
            "\n",
            "Epoch 215: val_mae did not improve from 2.04043\n",
            "323/323 [==============================] - 1s 2ms/step - loss: 2.0015 - mae: 1.0233 - val_loss: 13.6029 - val_mae: 2.4398\n",
            "Epoch 216/500\n",
            "310/323 [===========================>..] - ETA: 0s - loss: 1.8120 - mae: 0.9321"
          ]
        },
        {
          "output_type": "stream",
          "name": "stderr",
          "text": [
            "WARNING:tensorflow:Early stopping conditioned on metric `val_mse` which is not available. Available metrics are: loss,mae,val_loss,val_mae\n"
          ]
        },
        {
          "output_type": "stream",
          "name": "stdout",
          "text": [
            "\n",
            "Epoch 216: val_mae did not improve from 2.04043\n",
            "323/323 [==============================] - 1s 2ms/step - loss: 1.8328 - mae: 0.9432 - val_loss: 17.6992 - val_mae: 2.6039\n",
            "Epoch 217/500\n",
            "304/323 [===========================>..] - ETA: 0s - loss: 1.8996 - mae: 0.9986"
          ]
        },
        {
          "output_type": "stream",
          "name": "stderr",
          "text": [
            "WARNING:tensorflow:Early stopping conditioned on metric `val_mse` which is not available. Available metrics are: loss,mae,val_loss,val_mae\n"
          ]
        },
        {
          "output_type": "stream",
          "name": "stdout",
          "text": [
            "\n",
            "Epoch 217: val_mae did not improve from 2.04043\n",
            "323/323 [==============================] - 1s 3ms/step - loss: 1.8422 - mae: 0.9798 - val_loss: 14.3080 - val_mae: 2.4198\n",
            "Epoch 218/500\n",
            "309/323 [===========================>..] - ETA: 0s - loss: 1.8994 - mae: 0.9391"
          ]
        },
        {
          "output_type": "stream",
          "name": "stderr",
          "text": [
            "WARNING:tensorflow:Early stopping conditioned on metric `val_mse` which is not available. Available metrics are: loss,mae,val_loss,val_mae\n"
          ]
        },
        {
          "output_type": "stream",
          "name": "stdout",
          "text": [
            "\n",
            "Epoch 218: val_mae did not improve from 2.04043\n",
            "323/323 [==============================] - 1s 3ms/step - loss: 1.8933 - mae: 0.9463 - val_loss: 16.5681 - val_mae: 2.5192\n",
            "Epoch 219/500\n",
            "310/323 [===========================>..] - ETA: 0s - loss: 1.8632 - mae: 0.9819"
          ]
        },
        {
          "output_type": "stream",
          "name": "stderr",
          "text": [
            "WARNING:tensorflow:Early stopping conditioned on metric `val_mse` which is not available. Available metrics are: loss,mae,val_loss,val_mae\n"
          ]
        },
        {
          "output_type": "stream",
          "name": "stdout",
          "text": [
            "\n",
            "Epoch 219: val_mae did not improve from 2.04043\n",
            "323/323 [==============================] - 1s 2ms/step - loss: 1.8663 - mae: 0.9844 - val_loss: 13.5504 - val_mae: 2.4753\n",
            "Epoch 220/500\n",
            "319/323 [============================>.] - ETA: 0s - loss: 1.7007 - mae: 0.9145"
          ]
        },
        {
          "output_type": "stream",
          "name": "stderr",
          "text": [
            "WARNING:tensorflow:Early stopping conditioned on metric `val_mse` which is not available. Available metrics are: loss,mae,val_loss,val_mae\n"
          ]
        },
        {
          "output_type": "stream",
          "name": "stdout",
          "text": [
            "\n",
            "Epoch 220: val_mae did not improve from 2.04043\n",
            "323/323 [==============================] - 1s 2ms/step - loss: 1.7002 - mae: 0.9158 - val_loss: 16.6621 - val_mae: 2.5368\n",
            "Epoch 221/500\n",
            "305/323 [===========================>..] - ETA: 0s - loss: 2.2712 - mae: 1.0344"
          ]
        },
        {
          "output_type": "stream",
          "name": "stderr",
          "text": [
            "WARNING:tensorflow:Early stopping conditioned on metric `val_mse` which is not available. Available metrics are: loss,mae,val_loss,val_mae\n"
          ]
        },
        {
          "output_type": "stream",
          "name": "stdout",
          "text": [
            "\n",
            "Epoch 221: val_mae did not improve from 2.04043\n",
            "323/323 [==============================] - 1s 2ms/step - loss: 2.2166 - mae: 1.0273 - val_loss: 15.1694 - val_mae: 2.4245\n",
            "Epoch 222/500\n",
            "311/323 [===========================>..] - ETA: 0s - loss: 1.7630 - mae: 0.9439"
          ]
        },
        {
          "output_type": "stream",
          "name": "stderr",
          "text": [
            "WARNING:tensorflow:Early stopping conditioned on metric `val_mse` which is not available. Available metrics are: loss,mae,val_loss,val_mae\n"
          ]
        },
        {
          "output_type": "stream",
          "name": "stdout",
          "text": [
            "\n",
            "Epoch 222: val_mae did not improve from 2.04043\n",
            "323/323 [==============================] - 1s 2ms/step - loss: 1.7902 - mae: 0.9530 - val_loss: 15.3937 - val_mae: 2.4419\n",
            "Epoch 223/500\n",
            "304/323 [===========================>..] - ETA: 0s - loss: 1.7100 - mae: 0.9189"
          ]
        },
        {
          "output_type": "stream",
          "name": "stderr",
          "text": [
            "WARNING:tensorflow:Early stopping conditioned on metric `val_mse` which is not available. Available metrics are: loss,mae,val_loss,val_mae\n"
          ]
        },
        {
          "output_type": "stream",
          "name": "stdout",
          "text": [
            "\n",
            "Epoch 223: val_mae did not improve from 2.04043\n",
            "323/323 [==============================] - 1s 2ms/step - loss: 1.6807 - mae: 0.9178 - val_loss: 18.9400 - val_mae: 2.7431\n",
            "Epoch 224/500\n",
            "304/323 [===========================>..] - ETA: 0s - loss: 1.4103 - mae: 0.9024"
          ]
        },
        {
          "output_type": "stream",
          "name": "stderr",
          "text": [
            "WARNING:tensorflow:Early stopping conditioned on metric `val_mse` which is not available. Available metrics are: loss,mae,val_loss,val_mae\n"
          ]
        },
        {
          "output_type": "stream",
          "name": "stdout",
          "text": [
            "\n",
            "Epoch 224: val_mae did not improve from 2.04043\n",
            "323/323 [==============================] - 1s 2ms/step - loss: 1.5977 - mae: 0.9267 - val_loss: 16.8863 - val_mae: 2.5650\n",
            "Epoch 225/500\n",
            "305/323 [===========================>..] - ETA: 0s - loss: 1.7753 - mae: 0.9225"
          ]
        },
        {
          "output_type": "stream",
          "name": "stderr",
          "text": [
            "WARNING:tensorflow:Early stopping conditioned on metric `val_mse` which is not available. Available metrics are: loss,mae,val_loss,val_mae\n"
          ]
        },
        {
          "output_type": "stream",
          "name": "stdout",
          "text": [
            "\n",
            "Epoch 225: val_mae did not improve from 2.04043\n",
            "323/323 [==============================] - 1s 2ms/step - loss: 1.7501 - mae: 0.9249 - val_loss: 17.6032 - val_mae: 2.5738\n",
            "Epoch 226/500\n",
            "311/323 [===========================>..] - ETA: 0s - loss: 2.0107 - mae: 0.9877"
          ]
        },
        {
          "output_type": "stream",
          "name": "stderr",
          "text": [
            "WARNING:tensorflow:Early stopping conditioned on metric `val_mse` which is not available. Available metrics are: loss,mae,val_loss,val_mae\n"
          ]
        },
        {
          "output_type": "stream",
          "name": "stdout",
          "text": [
            "\n",
            "Epoch 226: val_mae did not improve from 2.04043\n",
            "323/323 [==============================] - 1s 2ms/step - loss: 1.9669 - mae: 0.9787 - val_loss: 17.3131 - val_mae: 2.5287\n",
            "Epoch 227/500\n",
            "299/323 [==========================>...] - ETA: 0s - loss: 1.7419 - mae: 0.9410"
          ]
        },
        {
          "output_type": "stream",
          "name": "stderr",
          "text": [
            "WARNING:tensorflow:Early stopping conditioned on metric `val_mse` which is not available. Available metrics are: loss,mae,val_loss,val_mae\n"
          ]
        },
        {
          "output_type": "stream",
          "name": "stdout",
          "text": [
            "\n",
            "Epoch 227: val_mae did not improve from 2.04043\n",
            "323/323 [==============================] - 1s 2ms/step - loss: 1.7478 - mae: 0.9341 - val_loss: 16.7795 - val_mae: 2.5168\n",
            "Epoch 228/500\n",
            "301/323 [==========================>...] - ETA: 0s - loss: 1.6833 - mae: 0.9225"
          ]
        },
        {
          "output_type": "stream",
          "name": "stderr",
          "text": [
            "WARNING:tensorflow:Early stopping conditioned on metric `val_mse` which is not available. Available metrics are: loss,mae,val_loss,val_mae\n"
          ]
        },
        {
          "output_type": "stream",
          "name": "stdout",
          "text": [
            "\n",
            "Epoch 228: val_mae did not improve from 2.04043\n",
            "323/323 [==============================] - 1s 2ms/step - loss: 1.6433 - mae: 0.9218 - val_loss: 17.0597 - val_mae: 2.5278\n",
            "Epoch 229/500\n",
            "299/323 [==========================>...] - ETA: 0s - loss: 1.7458 - mae: 0.9173"
          ]
        },
        {
          "output_type": "stream",
          "name": "stderr",
          "text": [
            "WARNING:tensorflow:Early stopping conditioned on metric `val_mse` which is not available. Available metrics are: loss,mae,val_loss,val_mae\n"
          ]
        },
        {
          "output_type": "stream",
          "name": "stdout",
          "text": [
            "\n",
            "Epoch 229: val_mae did not improve from 2.04043\n",
            "323/323 [==============================] - 1s 2ms/step - loss: 1.7933 - mae: 0.9361 - val_loss: 14.9975 - val_mae: 2.4774\n",
            "Epoch 230/500\n",
            "301/323 [==========================>...] - ETA: 0s - loss: 1.7026 - mae: 0.9270"
          ]
        },
        {
          "output_type": "stream",
          "name": "stderr",
          "text": [
            "WARNING:tensorflow:Early stopping conditioned on metric `val_mse` which is not available. Available metrics are: loss,mae,val_loss,val_mae\n"
          ]
        },
        {
          "output_type": "stream",
          "name": "stdout",
          "text": [
            "\n",
            "Epoch 230: val_mae did not improve from 2.04043\n",
            "323/323 [==============================] - 1s 2ms/step - loss: 1.6839 - mae: 0.9236 - val_loss: 17.8154 - val_mae: 2.6744\n",
            "Epoch 231/500\n",
            "310/323 [===========================>..] - ETA: 0s - loss: 1.7595 - mae: 0.9309"
          ]
        },
        {
          "output_type": "stream",
          "name": "stderr",
          "text": [
            "WARNING:tensorflow:Early stopping conditioned on metric `val_mse` which is not available. Available metrics are: loss,mae,val_loss,val_mae\n"
          ]
        },
        {
          "output_type": "stream",
          "name": "stdout",
          "text": [
            "\n",
            "Epoch 231: val_mae did not improve from 2.04043\n",
            "323/323 [==============================] - 1s 2ms/step - loss: 1.7429 - mae: 0.9309 - val_loss: 16.0208 - val_mae: 2.6325\n",
            "Epoch 232/500\n",
            "298/323 [==========================>...] - ETA: 0s - loss: 1.5814 - mae: 0.9304"
          ]
        },
        {
          "output_type": "stream",
          "name": "stderr",
          "text": [
            "WARNING:tensorflow:Early stopping conditioned on metric `val_mse` which is not available. Available metrics are: loss,mae,val_loss,val_mae\n"
          ]
        },
        {
          "output_type": "stream",
          "name": "stdout",
          "text": [
            "\n",
            "Epoch 232: val_mae did not improve from 2.04043\n",
            "323/323 [==============================] - 1s 2ms/step - loss: 1.6558 - mae: 0.9576 - val_loss: 16.8642 - val_mae: 2.5341\n",
            "Epoch 233/500\n",
            "314/323 [============================>.] - ETA: 0s - loss: 1.7533 - mae: 0.9272"
          ]
        },
        {
          "output_type": "stream",
          "name": "stderr",
          "text": [
            "WARNING:tensorflow:Early stopping conditioned on metric `val_mse` which is not available. Available metrics are: loss,mae,val_loss,val_mae\n"
          ]
        },
        {
          "output_type": "stream",
          "name": "stdout",
          "text": [
            "\n",
            "Epoch 233: val_mae did not improve from 2.04043\n",
            "323/323 [==============================] - 1s 2ms/step - loss: 1.7667 - mae: 0.9338 - val_loss: 15.9355 - val_mae: 2.5547\n",
            "Epoch 234/500\n",
            "308/323 [===========================>..] - ETA: 0s - loss: 1.7285 - mae: 0.9435"
          ]
        },
        {
          "output_type": "stream",
          "name": "stderr",
          "text": [
            "WARNING:tensorflow:Early stopping conditioned on metric `val_mse` which is not available. Available metrics are: loss,mae,val_loss,val_mae\n"
          ]
        },
        {
          "output_type": "stream",
          "name": "stdout",
          "text": [
            "\n",
            "Epoch 234: val_mae did not improve from 2.04043\n",
            "323/323 [==============================] - 1s 2ms/step - loss: 1.7055 - mae: 0.9426 - val_loss: 15.6421 - val_mae: 2.4962\n",
            "Epoch 235/500\n",
            "303/323 [===========================>..] - ETA: 0s - loss: 1.7104 - mae: 0.9277"
          ]
        },
        {
          "output_type": "stream",
          "name": "stderr",
          "text": [
            "WARNING:tensorflow:Early stopping conditioned on metric `val_mse` which is not available. Available metrics are: loss,mae,val_loss,val_mae\n"
          ]
        },
        {
          "output_type": "stream",
          "name": "stdout",
          "text": [
            "\n",
            "Epoch 235: val_mae did not improve from 2.04043\n",
            "323/323 [==============================] - 1s 3ms/step - loss: 1.6959 - mae: 0.9241 - val_loss: 15.7175 - val_mae: 2.4945\n",
            "Epoch 236/500\n",
            "305/323 [===========================>..] - ETA: 0s - loss: 1.5375 - mae: 0.9013"
          ]
        },
        {
          "output_type": "stream",
          "name": "stderr",
          "text": [
            "WARNING:tensorflow:Early stopping conditioned on metric `val_mse` which is not available. Available metrics are: loss,mae,val_loss,val_mae\n"
          ]
        },
        {
          "output_type": "stream",
          "name": "stdout",
          "text": [
            "\n",
            "Epoch 236: val_mae did not improve from 2.04043\n",
            "323/323 [==============================] - 1s 3ms/step - loss: 1.5894 - mae: 0.9101 - val_loss: 18.1438 - val_mae: 2.6779\n",
            "Epoch 237/500\n",
            "316/323 [============================>.] - ETA: 0s - loss: 1.6875 - mae: 0.9235"
          ]
        },
        {
          "output_type": "stream",
          "name": "stderr",
          "text": [
            "WARNING:tensorflow:Early stopping conditioned on metric `val_mse` which is not available. Available metrics are: loss,mae,val_loss,val_mae\n"
          ]
        },
        {
          "output_type": "stream",
          "name": "stdout",
          "text": [
            "\n",
            "Epoch 237: val_mae did not improve from 2.04043\n",
            "323/323 [==============================] - 1s 3ms/step - loss: 1.6840 - mae: 0.9219 - val_loss: 16.3023 - val_mae: 2.5517\n",
            "Epoch 238/500\n",
            "301/323 [==========================>...] - ETA: 0s - loss: 1.6142 - mae: 0.9080"
          ]
        },
        {
          "output_type": "stream",
          "name": "stderr",
          "text": [
            "WARNING:tensorflow:Early stopping conditioned on metric `val_mse` which is not available. Available metrics are: loss,mae,val_loss,val_mae\n"
          ]
        },
        {
          "output_type": "stream",
          "name": "stdout",
          "text": [
            "\n",
            "Epoch 238: val_mae did not improve from 2.04043\n",
            "323/323 [==============================] - 1s 2ms/step - loss: 1.6535 - mae: 0.9176 - val_loss: 17.1520 - val_mae: 2.6423\n",
            "Epoch 239/500\n",
            "303/323 [===========================>..] - ETA: 0s - loss: 1.5646 - mae: 0.9240"
          ]
        },
        {
          "output_type": "stream",
          "name": "stderr",
          "text": [
            "WARNING:tensorflow:Early stopping conditioned on metric `val_mse` which is not available. Available metrics are: loss,mae,val_loss,val_mae\n"
          ]
        },
        {
          "output_type": "stream",
          "name": "stdout",
          "text": [
            "\n",
            "Epoch 239: val_mae did not improve from 2.04043\n",
            "323/323 [==============================] - 1s 3ms/step - loss: 1.6198 - mae: 0.9337 - val_loss: 14.5811 - val_mae: 2.4688\n",
            "Epoch 240/500\n",
            "320/323 [============================>.] - ETA: 0s - loss: 1.5878 - mae: 0.8912"
          ]
        },
        {
          "output_type": "stream",
          "name": "stderr",
          "text": [
            "WARNING:tensorflow:Early stopping conditioned on metric `val_mse` which is not available. Available metrics are: loss,mae,val_loss,val_mae\n"
          ]
        },
        {
          "output_type": "stream",
          "name": "stdout",
          "text": [
            "\n",
            "Epoch 240: val_mae did not improve from 2.04043\n",
            "323/323 [==============================] - 1s 2ms/step - loss: 1.6118 - mae: 0.8997 - val_loss: 16.7438 - val_mae: 2.5829\n",
            "Epoch 241/500\n",
            "305/323 [===========================>..] - ETA: 0s - loss: 1.4672 - mae: 0.9228"
          ]
        },
        {
          "output_type": "stream",
          "name": "stderr",
          "text": [
            "WARNING:tensorflow:Early stopping conditioned on metric `val_mse` which is not available. Available metrics are: loss,mae,val_loss,val_mae\n"
          ]
        },
        {
          "output_type": "stream",
          "name": "stdout",
          "text": [
            "\n",
            "Epoch 241: val_mae did not improve from 2.04043\n",
            "323/323 [==============================] - 1s 3ms/step - loss: 1.5243 - mae: 0.9393 - val_loss: 17.9005 - val_mae: 2.6845\n",
            "Epoch 242/500\n",
            "306/323 [===========================>..] - ETA: 0s - loss: 1.8030 - mae: 0.9511"
          ]
        },
        {
          "output_type": "stream",
          "name": "stderr",
          "text": [
            "WARNING:tensorflow:Early stopping conditioned on metric `val_mse` which is not available. Available metrics are: loss,mae,val_loss,val_mae\n"
          ]
        },
        {
          "output_type": "stream",
          "name": "stdout",
          "text": [
            "\n",
            "Epoch 242: val_mae did not improve from 2.04043\n",
            "323/323 [==============================] - 1s 2ms/step - loss: 1.8545 - mae: 0.9534 - val_loss: 15.6908 - val_mae: 2.4492\n",
            "Epoch 243/500\n",
            "301/323 [==========================>...] - ETA: 0s - loss: 1.5165 - mae: 0.8837"
          ]
        },
        {
          "output_type": "stream",
          "name": "stderr",
          "text": [
            "WARNING:tensorflow:Early stopping conditioned on metric `val_mse` which is not available. Available metrics are: loss,mae,val_loss,val_mae\n"
          ]
        },
        {
          "output_type": "stream",
          "name": "stdout",
          "text": [
            "\n",
            "Epoch 243: val_mae did not improve from 2.04043\n",
            "323/323 [==============================] - 1s 2ms/step - loss: 1.4889 - mae: 0.8778 - val_loss: 16.0885 - val_mae: 2.5279\n",
            "Epoch 244/500\n",
            "299/323 [==========================>...] - ETA: 0s - loss: 1.5195 - mae: 0.9370"
          ]
        },
        {
          "output_type": "stream",
          "name": "stderr",
          "text": [
            "WARNING:tensorflow:Early stopping conditioned on metric `val_mse` which is not available. Available metrics are: loss,mae,val_loss,val_mae\n"
          ]
        },
        {
          "output_type": "stream",
          "name": "stdout",
          "text": [
            "\n",
            "Epoch 244: val_mae did not improve from 2.04043\n",
            "323/323 [==============================] - 1s 2ms/step - loss: 1.5058 - mae: 0.9376 - val_loss: 15.7668 - val_mae: 2.5715\n",
            "Epoch 245/500\n",
            "319/323 [============================>.] - ETA: 0s - loss: 1.5951 - mae: 0.9221"
          ]
        },
        {
          "output_type": "stream",
          "name": "stderr",
          "text": [
            "WARNING:tensorflow:Early stopping conditioned on metric `val_mse` which is not available. Available metrics are: loss,mae,val_loss,val_mae\n"
          ]
        },
        {
          "output_type": "stream",
          "name": "stdout",
          "text": [
            "\n",
            "Epoch 245: val_mae did not improve from 2.04043\n",
            "323/323 [==============================] - 1s 2ms/step - loss: 1.5939 - mae: 0.9250 - val_loss: 18.6659 - val_mae: 2.7277\n",
            "Epoch 246/500\n",
            "302/323 [===========================>..] - ETA: 0s - loss: 1.5051 - mae: 0.9222"
          ]
        },
        {
          "output_type": "stream",
          "name": "stderr",
          "text": [
            "WARNING:tensorflow:Early stopping conditioned on metric `val_mse` which is not available. Available metrics are: loss,mae,val_loss,val_mae\n"
          ]
        },
        {
          "output_type": "stream",
          "name": "stdout",
          "text": [
            "\n",
            "Epoch 246: val_mae did not improve from 2.04043\n",
            "323/323 [==============================] - 1s 2ms/step - loss: 1.6150 - mae: 0.9515 - val_loss: 17.0110 - val_mae: 2.6596\n",
            "Epoch 247/500\n",
            "307/323 [===========================>..] - ETA: 0s - loss: 1.7542 - mae: 0.9149"
          ]
        },
        {
          "output_type": "stream",
          "name": "stderr",
          "text": [
            "WARNING:tensorflow:Early stopping conditioned on metric `val_mse` which is not available. Available metrics are: loss,mae,val_loss,val_mae\n"
          ]
        },
        {
          "output_type": "stream",
          "name": "stdout",
          "text": [
            "\n",
            "Epoch 247: val_mae did not improve from 2.04043\n",
            "323/323 [==============================] - 1s 2ms/step - loss: 1.7253 - mae: 0.9163 - val_loss: 15.9357 - val_mae: 2.6036\n",
            "Epoch 248/500\n",
            "301/323 [==========================>...] - ETA: 0s - loss: 1.5643 - mae: 0.9013"
          ]
        },
        {
          "output_type": "stream",
          "name": "stderr",
          "text": [
            "WARNING:tensorflow:Early stopping conditioned on metric `val_mse` which is not available. Available metrics are: loss,mae,val_loss,val_mae\n"
          ]
        },
        {
          "output_type": "stream",
          "name": "stdout",
          "text": [
            "\n",
            "Epoch 248: val_mae did not improve from 2.04043\n",
            "323/323 [==============================] - 1s 2ms/step - loss: 1.5329 - mae: 0.8957 - val_loss: 18.1276 - val_mae: 2.6100\n",
            "Epoch 249/500\n",
            "301/323 [==========================>...] - ETA: 0s - loss: 1.6740 - mae: 0.9178"
          ]
        },
        {
          "output_type": "stream",
          "name": "stderr",
          "text": [
            "WARNING:tensorflow:Early stopping conditioned on metric `val_mse` which is not available. Available metrics are: loss,mae,val_loss,val_mae\n"
          ]
        },
        {
          "output_type": "stream",
          "name": "stdout",
          "text": [
            "\n",
            "Epoch 249: val_mae did not improve from 2.04043\n",
            "323/323 [==============================] - 1s 2ms/step - loss: 1.6111 - mae: 0.8967 - val_loss: 14.0094 - val_mae: 2.5155\n",
            "Epoch 250/500\n",
            "310/323 [===========================>..] - ETA: 0s - loss: 1.3805 - mae: 0.8803"
          ]
        },
        {
          "output_type": "stream",
          "name": "stderr",
          "text": [
            "WARNING:tensorflow:Early stopping conditioned on metric `val_mse` which is not available. Available metrics are: loss,mae,val_loss,val_mae\n"
          ]
        },
        {
          "output_type": "stream",
          "name": "stdout",
          "text": [
            "\n",
            "Epoch 250: val_mae did not improve from 2.04043\n",
            "323/323 [==============================] - 1s 2ms/step - loss: 1.4707 - mae: 0.9033 - val_loss: 16.4771 - val_mae: 2.6261\n",
            "Epoch 251/500\n",
            "301/323 [==========================>...] - ETA: 0s - loss: 1.5755 - mae: 0.9140"
          ]
        },
        {
          "output_type": "stream",
          "name": "stderr",
          "text": [
            "WARNING:tensorflow:Early stopping conditioned on metric `val_mse` which is not available. Available metrics are: loss,mae,val_loss,val_mae\n"
          ]
        },
        {
          "output_type": "stream",
          "name": "stdout",
          "text": [
            "\n",
            "Epoch 251: val_mae did not improve from 2.04043\n",
            "323/323 [==============================] - 1s 2ms/step - loss: 1.5285 - mae: 0.8991 - val_loss: 18.0006 - val_mae: 2.6648\n",
            "Epoch 252/500\n",
            "322/323 [============================>.] - ETA: 0s - loss: 1.4747 - mae: 0.9143"
          ]
        },
        {
          "output_type": "stream",
          "name": "stderr",
          "text": [
            "WARNING:tensorflow:Early stopping conditioned on metric `val_mse` which is not available. Available metrics are: loss,mae,val_loss,val_mae\n"
          ]
        },
        {
          "output_type": "stream",
          "name": "stdout",
          "text": [
            "\n",
            "Epoch 252: val_mae did not improve from 2.04043\n",
            "323/323 [==============================] - 1s 2ms/step - loss: 1.4779 - mae: 0.9164 - val_loss: 15.6577 - val_mae: 2.4565\n",
            "Epoch 253/500\n",
            "323/323 [==============================] - ETA: 0s - loss: 1.6984 - mae: 0.9092"
          ]
        },
        {
          "output_type": "stream",
          "name": "stderr",
          "text": [
            "WARNING:tensorflow:Early stopping conditioned on metric `val_mse` which is not available. Available metrics are: loss,mae,val_loss,val_mae\n"
          ]
        },
        {
          "output_type": "stream",
          "name": "stdout",
          "text": [
            "\n",
            "Epoch 253: val_mae did not improve from 2.04043\n",
            "323/323 [==============================] - 1s 2ms/step - loss: 1.6984 - mae: 0.9092 - val_loss: 19.1785 - val_mae: 2.7020\n",
            "Epoch 254/500\n",
            "307/323 [===========================>..] - ETA: 0s - loss: 1.4570 - mae: 0.8863"
          ]
        },
        {
          "output_type": "stream",
          "name": "stderr",
          "text": [
            "WARNING:tensorflow:Early stopping conditioned on metric `val_mse` which is not available. Available metrics are: loss,mae,val_loss,val_mae\n"
          ]
        },
        {
          "output_type": "stream",
          "name": "stdout",
          "text": [
            "\n",
            "Epoch 254: val_mae did not improve from 2.04043\n",
            "323/323 [==============================] - 1s 3ms/step - loss: 1.5472 - mae: 0.9098 - val_loss: 15.3439 - val_mae: 2.5211\n",
            "Epoch 255/500\n",
            "322/323 [============================>.] - ETA: 0s - loss: 1.4489 - mae: 0.8873"
          ]
        },
        {
          "output_type": "stream",
          "name": "stderr",
          "text": [
            "WARNING:tensorflow:Early stopping conditioned on metric `val_mse` which is not available. Available metrics are: loss,mae,val_loss,val_mae\n"
          ]
        },
        {
          "output_type": "stream",
          "name": "stdout",
          "text": [
            "\n",
            "Epoch 255: val_mae did not improve from 2.04043\n",
            "323/323 [==============================] - 1s 3ms/step - loss: 1.4444 - mae: 0.8850 - val_loss: 14.4719 - val_mae: 2.5079\n",
            "Epoch 256/500\n",
            "296/323 [==========================>...] - ETA: 0s - loss: 1.5883 - mae: 0.9199"
          ]
        },
        {
          "output_type": "stream",
          "name": "stderr",
          "text": [
            "WARNING:tensorflow:Early stopping conditioned on metric `val_mse` which is not available. Available metrics are: loss,mae,val_loss,val_mae\n"
          ]
        },
        {
          "output_type": "stream",
          "name": "stdout",
          "text": [
            "\n",
            "Epoch 256: val_mae did not improve from 2.04043\n",
            "323/323 [==============================] - 1s 2ms/step - loss: 1.6051 - mae: 0.9178 - val_loss: 15.7036 - val_mae: 2.4506\n",
            "Epoch 257/500\n",
            "310/323 [===========================>..] - ETA: 0s - loss: 1.4829 - mae: 0.8792"
          ]
        },
        {
          "output_type": "stream",
          "name": "stderr",
          "text": [
            "WARNING:tensorflow:Early stopping conditioned on metric `val_mse` which is not available. Available metrics are: loss,mae,val_loss,val_mae\n"
          ]
        },
        {
          "output_type": "stream",
          "name": "stdout",
          "text": [
            "\n",
            "Epoch 257: val_mae did not improve from 2.04043\n",
            "323/323 [==============================] - 1s 2ms/step - loss: 1.4668 - mae: 0.8798 - val_loss: 14.1517 - val_mae: 2.3551\n",
            "Epoch 258/500\n",
            "306/323 [===========================>..] - ETA: 0s - loss: 1.5530 - mae: 0.9219"
          ]
        },
        {
          "output_type": "stream",
          "name": "stderr",
          "text": [
            "WARNING:tensorflow:Early stopping conditioned on metric `val_mse` which is not available. Available metrics are: loss,mae,val_loss,val_mae\n"
          ]
        },
        {
          "output_type": "stream",
          "name": "stdout",
          "text": [
            "\n",
            "Epoch 258: val_mae did not improve from 2.04043\n",
            "323/323 [==============================] - 1s 2ms/step - loss: 1.5414 - mae: 0.9243 - val_loss: 15.8830 - val_mae: 2.5110\n",
            "Epoch 259/500\n",
            "295/323 [==========================>...] - ETA: 0s - loss: 1.6547 - mae: 0.8899"
          ]
        },
        {
          "output_type": "stream",
          "name": "stderr",
          "text": [
            "WARNING:tensorflow:Early stopping conditioned on metric `val_mse` which is not available. Available metrics are: loss,mae,val_loss,val_mae\n"
          ]
        },
        {
          "output_type": "stream",
          "name": "stdout",
          "text": [
            "\n",
            "Epoch 259: val_mae did not improve from 2.04043\n",
            "323/323 [==============================] - 1s 2ms/step - loss: 1.6009 - mae: 0.8814 - val_loss: 15.0085 - val_mae: 2.5400\n",
            "Epoch 260/500\n",
            "304/323 [===========================>..] - ETA: 0s - loss: 1.3802 - mae: 0.8935"
          ]
        },
        {
          "output_type": "stream",
          "name": "stderr",
          "text": [
            "WARNING:tensorflow:Early stopping conditioned on metric `val_mse` which is not available. Available metrics are: loss,mae,val_loss,val_mae\n"
          ]
        },
        {
          "output_type": "stream",
          "name": "stdout",
          "text": [
            "\n",
            "Epoch 260: val_mae did not improve from 2.04043\n",
            "323/323 [==============================] - 1s 2ms/step - loss: 1.4965 - mae: 0.9065 - val_loss: 16.3857 - val_mae: 2.5145\n",
            "Epoch 261/500\n",
            "311/323 [===========================>..] - ETA: 0s - loss: 1.3882 - mae: 0.8591"
          ]
        },
        {
          "output_type": "stream",
          "name": "stderr",
          "text": [
            "WARNING:tensorflow:Early stopping conditioned on metric `val_mse` which is not available. Available metrics are: loss,mae,val_loss,val_mae\n"
          ]
        },
        {
          "output_type": "stream",
          "name": "stdout",
          "text": [
            "\n",
            "Epoch 261: val_mae did not improve from 2.04043\n",
            "323/323 [==============================] - 1s 2ms/step - loss: 1.3570 - mae: 0.8508 - val_loss: 16.3265 - val_mae: 2.7136\n",
            "Epoch 262/500\n",
            "300/323 [==========================>...] - ETA: 0s - loss: 1.3302 - mae: 0.8805"
          ]
        },
        {
          "output_type": "stream",
          "name": "stderr",
          "text": [
            "WARNING:tensorflow:Early stopping conditioned on metric `val_mse` which is not available. Available metrics are: loss,mae,val_loss,val_mae\n"
          ]
        },
        {
          "output_type": "stream",
          "name": "stdout",
          "text": [
            "\n",
            "Epoch 262: val_mae did not improve from 2.04043\n",
            "323/323 [==============================] - 1s 2ms/step - loss: 1.3246 - mae: 0.8773 - val_loss: 16.6927 - val_mae: 2.7313\n",
            "Epoch 263/500\n",
            "305/323 [===========================>..] - ETA: 0s - loss: 1.4905 - mae: 0.8725"
          ]
        },
        {
          "output_type": "stream",
          "name": "stderr",
          "text": [
            "WARNING:tensorflow:Early stopping conditioned on metric `val_mse` which is not available. Available metrics are: loss,mae,val_loss,val_mae\n"
          ]
        },
        {
          "output_type": "stream",
          "name": "stdout",
          "text": [
            "\n",
            "Epoch 263: val_mae did not improve from 2.04043\n",
            "323/323 [==============================] - 1s 2ms/step - loss: 1.5486 - mae: 0.8858 - val_loss: 15.6913 - val_mae: 2.5760\n",
            "Epoch 264/500\n",
            "302/323 [===========================>..] - ETA: 0s - loss: 1.4153 - mae: 0.8651"
          ]
        },
        {
          "output_type": "stream",
          "name": "stderr",
          "text": [
            "WARNING:tensorflow:Early stopping conditioned on metric `val_mse` which is not available. Available metrics are: loss,mae,val_loss,val_mae\n"
          ]
        },
        {
          "output_type": "stream",
          "name": "stdout",
          "text": [
            "\n",
            "Epoch 264: val_mae did not improve from 2.04043\n",
            "323/323 [==============================] - 1s 2ms/step - loss: 1.4534 - mae: 0.8666 - val_loss: 17.5929 - val_mae: 2.5928\n",
            "Epoch 265/500\n",
            "302/323 [===========================>..] - ETA: 0s - loss: 1.4718 - mae: 0.8820"
          ]
        },
        {
          "output_type": "stream",
          "name": "stderr",
          "text": [
            "WARNING:tensorflow:Early stopping conditioned on metric `val_mse` which is not available. Available metrics are: loss,mae,val_loss,val_mae\n"
          ]
        },
        {
          "output_type": "stream",
          "name": "stdout",
          "text": [
            "\n",
            "Epoch 265: val_mae did not improve from 2.04043\n",
            "323/323 [==============================] - 1s 2ms/step - loss: 1.4942 - mae: 0.8845 - val_loss: 15.7522 - val_mae: 2.5128\n",
            "Epoch 266/500\n",
            "321/323 [============================>.] - ETA: 0s - loss: 1.5831 - mae: 0.8996"
          ]
        },
        {
          "output_type": "stream",
          "name": "stderr",
          "text": [
            "WARNING:tensorflow:Early stopping conditioned on metric `val_mse` which is not available. Available metrics are: loss,mae,val_loss,val_mae\n"
          ]
        },
        {
          "output_type": "stream",
          "name": "stdout",
          "text": [
            "\n",
            "Epoch 266: val_mae did not improve from 2.04043\n",
            "323/323 [==============================] - 1s 2ms/step - loss: 1.5907 - mae: 0.9028 - val_loss: 17.0079 - val_mae: 2.6535\n",
            "Epoch 267/500\n",
            "297/323 [==========================>...] - ETA: 0s - loss: 1.2896 - mae: 0.8555"
          ]
        },
        {
          "output_type": "stream",
          "name": "stderr",
          "text": [
            "WARNING:tensorflow:Early stopping conditioned on metric `val_mse` which is not available. Available metrics are: loss,mae,val_loss,val_mae\n"
          ]
        },
        {
          "output_type": "stream",
          "name": "stdout",
          "text": [
            "\n",
            "Epoch 267: val_mae did not improve from 2.04043\n",
            "323/323 [==============================] - 1s 2ms/step - loss: 1.2751 - mae: 0.8432 - val_loss: 14.6023 - val_mae: 2.5509\n",
            "Epoch 268/500\n",
            "315/323 [============================>.] - ETA: 0s - loss: 1.5598 - mae: 0.9199"
          ]
        },
        {
          "output_type": "stream",
          "name": "stderr",
          "text": [
            "WARNING:tensorflow:Early stopping conditioned on metric `val_mse` which is not available. Available metrics are: loss,mae,val_loss,val_mae\n"
          ]
        },
        {
          "output_type": "stream",
          "name": "stdout",
          "text": [
            "\n",
            "Epoch 268: val_mae did not improve from 2.04043\n",
            "323/323 [==============================] - 1s 2ms/step - loss: 1.5502 - mae: 0.9193 - val_loss: 14.8895 - val_mae: 2.4585\n",
            "Epoch 269/500\n",
            "308/323 [===========================>..] - ETA: 0s - loss: 1.4582 - mae: 0.9050"
          ]
        },
        {
          "output_type": "stream",
          "name": "stderr",
          "text": [
            "WARNING:tensorflow:Early stopping conditioned on metric `val_mse` which is not available. Available metrics are: loss,mae,val_loss,val_mae\n"
          ]
        },
        {
          "output_type": "stream",
          "name": "stdout",
          "text": [
            "\n",
            "Epoch 269: val_mae did not improve from 2.04043\n",
            "323/323 [==============================] - 1s 2ms/step - loss: 1.4857 - mae: 0.9088 - val_loss: 15.0177 - val_mae: 2.5557\n",
            "Epoch 270/500\n",
            "305/323 [===========================>..] - ETA: 0s - loss: 1.6024 - mae: 0.8931"
          ]
        },
        {
          "output_type": "stream",
          "name": "stderr",
          "text": [
            "WARNING:tensorflow:Early stopping conditioned on metric `val_mse` which is not available. Available metrics are: loss,mae,val_loss,val_mae\n"
          ]
        },
        {
          "output_type": "stream",
          "name": "stdout",
          "text": [
            "\n",
            "Epoch 270: val_mae did not improve from 2.04043\n",
            "323/323 [==============================] - 1s 2ms/step - loss: 1.5635 - mae: 0.8851 - val_loss: 14.9269 - val_mae: 2.4603\n",
            "Epoch 271/500\n",
            "308/323 [===========================>..] - ETA: 0s - loss: 1.3521 - mae: 0.8545"
          ]
        },
        {
          "output_type": "stream",
          "name": "stderr",
          "text": [
            "WARNING:tensorflow:Early stopping conditioned on metric `val_mse` which is not available. Available metrics are: loss,mae,val_loss,val_mae\n"
          ]
        },
        {
          "output_type": "stream",
          "name": "stdout",
          "text": [
            "\n",
            "Epoch 271: val_mae did not improve from 2.04043\n",
            "323/323 [==============================] - 1s 2ms/step - loss: 1.4342 - mae: 0.8726 - val_loss: 17.4195 - val_mae: 2.6453\n",
            "Epoch 272/500\n",
            "298/323 [==========================>...] - ETA: 0s - loss: 1.6047 - mae: 0.9222"
          ]
        },
        {
          "output_type": "stream",
          "name": "stderr",
          "text": [
            "WARNING:tensorflow:Early stopping conditioned on metric `val_mse` which is not available. Available metrics are: loss,mae,val_loss,val_mae\n"
          ]
        },
        {
          "output_type": "stream",
          "name": "stdout",
          "text": [
            "\n",
            "Epoch 272: val_mae did not improve from 2.04043\n",
            "323/323 [==============================] - 1s 3ms/step - loss: 1.5605 - mae: 0.9134 - val_loss: 15.3644 - val_mae: 2.5489\n",
            "Epoch 273/500\n",
            "309/323 [===========================>..] - ETA: 0s - loss: 1.3443 - mae: 0.8611"
          ]
        },
        {
          "output_type": "stream",
          "name": "stderr",
          "text": [
            "WARNING:tensorflow:Early stopping conditioned on metric `val_mse` which is not available. Available metrics are: loss,mae,val_loss,val_mae\n"
          ]
        },
        {
          "output_type": "stream",
          "name": "stdout",
          "text": [
            "\n",
            "Epoch 273: val_mae did not improve from 2.04043\n",
            "323/323 [==============================] - 1s 2ms/step - loss: 1.3872 - mae: 0.8780 - val_loss: 15.2792 - val_mae: 2.6074\n",
            "Epoch 274/500\n",
            "319/323 [============================>.] - ETA: 0s - loss: 1.2909 - mae: 0.8448"
          ]
        },
        {
          "output_type": "stream",
          "name": "stderr",
          "text": [
            "WARNING:tensorflow:Early stopping conditioned on metric `val_mse` which is not available. Available metrics are: loss,mae,val_loss,val_mae\n"
          ]
        },
        {
          "output_type": "stream",
          "name": "stdout",
          "text": [
            "\n",
            "Epoch 274: val_mae did not improve from 2.04043\n",
            "323/323 [==============================] - 1s 3ms/step - loss: 1.3557 - mae: 0.8573 - val_loss: 16.9335 - val_mae: 2.5832\n",
            "Epoch 275/500\n",
            "320/323 [============================>.] - ETA: 0s - loss: 1.3667 - mae: 0.8668"
          ]
        },
        {
          "output_type": "stream",
          "name": "stderr",
          "text": [
            "WARNING:tensorflow:Early stopping conditioned on metric `val_mse` which is not available. Available metrics are: loss,mae,val_loss,val_mae\n"
          ]
        },
        {
          "output_type": "stream",
          "name": "stdout",
          "text": [
            "\n",
            "Epoch 275: val_mae did not improve from 2.04043\n",
            "323/323 [==============================] - 1s 2ms/step - loss: 1.3561 - mae: 0.8631 - val_loss: 16.3292 - val_mae: 2.6233\n",
            "Epoch 276/500\n",
            "304/323 [===========================>..] - ETA: 0s - loss: 1.3782 - mae: 0.8651"
          ]
        },
        {
          "output_type": "stream",
          "name": "stderr",
          "text": [
            "WARNING:tensorflow:Early stopping conditioned on metric `val_mse` which is not available. Available metrics are: loss,mae,val_loss,val_mae\n"
          ]
        },
        {
          "output_type": "stream",
          "name": "stdout",
          "text": [
            "\n",
            "Epoch 276: val_mae did not improve from 2.04043\n",
            "323/323 [==============================] - 1s 2ms/step - loss: 1.3487 - mae: 0.8555 - val_loss: 16.5406 - val_mae: 2.5759\n",
            "Epoch 277/500\n",
            "303/323 [===========================>..] - ETA: 0s - loss: 1.3824 - mae: 0.8652"
          ]
        },
        {
          "output_type": "stream",
          "name": "stderr",
          "text": [
            "WARNING:tensorflow:Early stopping conditioned on metric `val_mse` which is not available. Available metrics are: loss,mae,val_loss,val_mae\n"
          ]
        },
        {
          "output_type": "stream",
          "name": "stdout",
          "text": [
            "\n",
            "Epoch 277: val_mae did not improve from 2.04043\n",
            "323/323 [==============================] - 1s 2ms/step - loss: 1.3847 - mae: 0.8636 - val_loss: 15.9322 - val_mae: 2.4726\n",
            "Epoch 278/500\n",
            "307/323 [===========================>..] - ETA: 0s - loss: 1.6139 - mae: 0.9187"
          ]
        },
        {
          "output_type": "stream",
          "name": "stderr",
          "text": [
            "WARNING:tensorflow:Early stopping conditioned on metric `val_mse` which is not available. Available metrics are: loss,mae,val_loss,val_mae\n"
          ]
        },
        {
          "output_type": "stream",
          "name": "stdout",
          "text": [
            "\n",
            "Epoch 278: val_mae did not improve from 2.04043\n",
            "323/323 [==============================] - 1s 2ms/step - loss: 1.5942 - mae: 0.9172 - val_loss: 16.1082 - val_mae: 2.5332\n",
            "Epoch 279/500\n",
            "306/323 [===========================>..] - ETA: 0s - loss: 1.2792 - mae: 0.8229"
          ]
        },
        {
          "output_type": "stream",
          "name": "stderr",
          "text": [
            "WARNING:tensorflow:Early stopping conditioned on metric `val_mse` which is not available. Available metrics are: loss,mae,val_loss,val_mae\n"
          ]
        },
        {
          "output_type": "stream",
          "name": "stdout",
          "text": [
            "\n",
            "Epoch 279: val_mae did not improve from 2.04043\n",
            "323/323 [==============================] - 1s 2ms/step - loss: 1.3939 - mae: 0.8507 - val_loss: 16.4128 - val_mae: 2.5792\n",
            "Epoch 280/500\n",
            "302/323 [===========================>..] - ETA: 0s - loss: 1.2619 - mae: 0.8367"
          ]
        },
        {
          "output_type": "stream",
          "name": "stderr",
          "text": [
            "WARNING:tensorflow:Early stopping conditioned on metric `val_mse` which is not available. Available metrics are: loss,mae,val_loss,val_mae\n"
          ]
        },
        {
          "output_type": "stream",
          "name": "stdout",
          "text": [
            "\n",
            "Epoch 280: val_mae did not improve from 2.04043\n",
            "323/323 [==============================] - 1s 2ms/step - loss: 1.2468 - mae: 0.8290 - val_loss: 16.7082 - val_mae: 2.6474\n",
            "Epoch 281/500\n",
            "290/323 [=========================>....] - ETA: 0s - loss: 1.3381 - mae: 0.8592"
          ]
        },
        {
          "output_type": "stream",
          "name": "stderr",
          "text": [
            "WARNING:tensorflow:Early stopping conditioned on metric `val_mse` which is not available. Available metrics are: loss,mae,val_loss,val_mae\n"
          ]
        },
        {
          "output_type": "stream",
          "name": "stdout",
          "text": [
            "\n",
            "Epoch 281: val_mae did not improve from 2.04043\n",
            "323/323 [==============================] - 1s 2ms/step - loss: 1.2961 - mae: 0.8472 - val_loss: 16.1357 - val_mae: 2.4593\n",
            "Epoch 282/500\n",
            "301/323 [==========================>...] - ETA: 0s - loss: 1.3885 - mae: 0.8864"
          ]
        },
        {
          "output_type": "stream",
          "name": "stderr",
          "text": [
            "WARNING:tensorflow:Early stopping conditioned on metric `val_mse` which is not available. Available metrics are: loss,mae,val_loss,val_mae\n"
          ]
        },
        {
          "output_type": "stream",
          "name": "stdout",
          "text": [
            "\n",
            "Epoch 282: val_mae did not improve from 2.04043\n",
            "323/323 [==============================] - 1s 2ms/step - loss: 1.3628 - mae: 0.8837 - val_loss: 14.8171 - val_mae: 2.5229\n",
            "Epoch 283/500\n",
            "318/323 [============================>.] - ETA: 0s - loss: 1.4050 - mae: 0.8620"
          ]
        },
        {
          "output_type": "stream",
          "name": "stderr",
          "text": [
            "WARNING:tensorflow:Early stopping conditioned on metric `val_mse` which is not available. Available metrics are: loss,mae,val_loss,val_mae\n"
          ]
        },
        {
          "output_type": "stream",
          "name": "stdout",
          "text": [
            "\n",
            "Epoch 283: val_mae did not improve from 2.04043\n",
            "323/323 [==============================] - 1s 2ms/step - loss: 1.3915 - mae: 0.8568 - val_loss: 15.9937 - val_mae: 2.7154\n",
            "Epoch 284/500\n",
            "295/323 [==========================>...] - ETA: 0s - loss: 1.2855 - mae: 0.8521"
          ]
        },
        {
          "output_type": "stream",
          "name": "stderr",
          "text": [
            "WARNING:tensorflow:Early stopping conditioned on metric `val_mse` which is not available. Available metrics are: loss,mae,val_loss,val_mae\n"
          ]
        },
        {
          "output_type": "stream",
          "name": "stdout",
          "text": [
            "\n",
            "Epoch 284: val_mae did not improve from 2.04043\n",
            "323/323 [==============================] - 1s 2ms/step - loss: 1.2479 - mae: 0.8441 - val_loss: 15.3476 - val_mae: 2.5094\n",
            "Epoch 285/500\n",
            "304/323 [===========================>..] - ETA: 0s - loss: 1.3607 - mae: 0.8545"
          ]
        },
        {
          "output_type": "stream",
          "name": "stderr",
          "text": [
            "WARNING:tensorflow:Early stopping conditioned on metric `val_mse` which is not available. Available metrics are: loss,mae,val_loss,val_mae\n"
          ]
        },
        {
          "output_type": "stream",
          "name": "stdout",
          "text": [
            "\n",
            "Epoch 285: val_mae did not improve from 2.04043\n",
            "323/323 [==============================] - 1s 2ms/step - loss: 1.3567 - mae: 0.8592 - val_loss: 16.4355 - val_mae: 2.5980\n",
            "Epoch 286/500\n",
            "323/323 [==============================] - ETA: 0s - loss: 1.3854 - mae: 0.8663"
          ]
        },
        {
          "output_type": "stream",
          "name": "stderr",
          "text": [
            "WARNING:tensorflow:Early stopping conditioned on metric `val_mse` which is not available. Available metrics are: loss,mae,val_loss,val_mae\n"
          ]
        },
        {
          "output_type": "stream",
          "name": "stdout",
          "text": [
            "\n",
            "Epoch 286: val_mae did not improve from 2.04043\n",
            "323/323 [==============================] - 1s 2ms/step - loss: 1.3854 - mae: 0.8663 - val_loss: 17.0165 - val_mae: 2.5329\n",
            "Epoch 287/500\n",
            "312/323 [===========================>..] - ETA: 0s - loss: 1.2883 - mae: 0.8153"
          ]
        },
        {
          "output_type": "stream",
          "name": "stderr",
          "text": [
            "WARNING:tensorflow:Early stopping conditioned on metric `val_mse` which is not available. Available metrics are: loss,mae,val_loss,val_mae\n"
          ]
        },
        {
          "output_type": "stream",
          "name": "stdout",
          "text": [
            "\n",
            "Epoch 287: val_mae did not improve from 2.04043\n",
            "323/323 [==============================] - 1s 2ms/step - loss: 1.3058 - mae: 0.8213 - val_loss: 17.1768 - val_mae: 2.5982\n",
            "Epoch 288/500\n",
            "316/323 [============================>.] - ETA: 0s - loss: 1.2591 - mae: 0.7922"
          ]
        },
        {
          "output_type": "stream",
          "name": "stderr",
          "text": [
            "WARNING:tensorflow:Early stopping conditioned on metric `val_mse` which is not available. Available metrics are: loss,mae,val_loss,val_mae\n"
          ]
        },
        {
          "output_type": "stream",
          "name": "stdout",
          "text": [
            "\n",
            "Epoch 288: val_mae did not improve from 2.04043\n",
            "323/323 [==============================] - 1s 2ms/step - loss: 1.2713 - mae: 0.7978 - val_loss: 17.6161 - val_mae: 2.6445\n",
            "Epoch 289/500\n",
            "298/323 [==========================>...] - ETA: 0s - loss: 1.1505 - mae: 0.8193"
          ]
        },
        {
          "output_type": "stream",
          "name": "stderr",
          "text": [
            "WARNING:tensorflow:Early stopping conditioned on metric `val_mse` which is not available. Available metrics are: loss,mae,val_loss,val_mae\n"
          ]
        },
        {
          "output_type": "stream",
          "name": "stdout",
          "text": [
            "\n",
            "Epoch 289: val_mae did not improve from 2.04043\n",
            "323/323 [==============================] - 1s 2ms/step - loss: 1.1534 - mae: 0.8199 - val_loss: 16.2280 - val_mae: 2.6966\n",
            "Epoch 290/500\n",
            "304/323 [===========================>..] - ETA: 0s - loss: 1.1994 - mae: 0.8127"
          ]
        },
        {
          "output_type": "stream",
          "name": "stderr",
          "text": [
            "WARNING:tensorflow:Early stopping conditioned on metric `val_mse` which is not available. Available metrics are: loss,mae,val_loss,val_mae\n"
          ]
        },
        {
          "output_type": "stream",
          "name": "stdout",
          "text": [
            "\n",
            "Epoch 290: val_mae did not improve from 2.04043\n",
            "323/323 [==============================] - 1s 2ms/step - loss: 1.2364 - mae: 0.8275 - val_loss: 15.5544 - val_mae: 2.5558\n",
            "Epoch 291/500\n",
            "313/323 [============================>.] - ETA: 0s - loss: 1.3643 - mae: 0.8396"
          ]
        },
        {
          "output_type": "stream",
          "name": "stderr",
          "text": [
            "WARNING:tensorflow:Early stopping conditioned on metric `val_mse` which is not available. Available metrics are: loss,mae,val_loss,val_mae\n"
          ]
        },
        {
          "output_type": "stream",
          "name": "stdout",
          "text": [
            "\n",
            "Epoch 291: val_mae did not improve from 2.04043\n",
            "323/323 [==============================] - 1s 2ms/step - loss: 1.3621 - mae: 0.8398 - val_loss: 14.8727 - val_mae: 2.6332\n",
            "Epoch 292/500\n",
            "314/323 [============================>.] - ETA: 0s - loss: 1.3886 - mae: 0.8516"
          ]
        },
        {
          "output_type": "stream",
          "name": "stderr",
          "text": [
            "WARNING:tensorflow:Early stopping conditioned on metric `val_mse` which is not available. Available metrics are: loss,mae,val_loss,val_mae\n"
          ]
        },
        {
          "output_type": "stream",
          "name": "stdout",
          "text": [
            "\n",
            "Epoch 292: val_mae did not improve from 2.04043\n",
            "323/323 [==============================] - 1s 3ms/step - loss: 1.3730 - mae: 0.8480 - val_loss: 14.4867 - val_mae: 2.3999\n",
            "Epoch 293/500\n",
            "299/323 [==========================>...] - ETA: 0s - loss: 1.2251 - mae: 0.8084"
          ]
        },
        {
          "output_type": "stream",
          "name": "stderr",
          "text": [
            "WARNING:tensorflow:Early stopping conditioned on metric `val_mse` which is not available. Available metrics are: loss,mae,val_loss,val_mae\n"
          ]
        },
        {
          "output_type": "stream",
          "name": "stdout",
          "text": [
            "\n",
            "Epoch 293: val_mae did not improve from 2.04043\n",
            "323/323 [==============================] - 1s 3ms/step - loss: 1.2050 - mae: 0.7984 - val_loss: 16.4113 - val_mae: 2.5706\n",
            "Epoch 294/500\n",
            "294/323 [==========================>...] - ETA: 0s - loss: 1.1944 - mae: 0.8086"
          ]
        },
        {
          "output_type": "stream",
          "name": "stderr",
          "text": [
            "WARNING:tensorflow:Early stopping conditioned on metric `val_mse` which is not available. Available metrics are: loss,mae,val_loss,val_mae\n"
          ]
        },
        {
          "output_type": "stream",
          "name": "stdout",
          "text": [
            "\n",
            "Epoch 294: val_mae did not improve from 2.04043\n",
            "323/323 [==============================] - 1s 2ms/step - loss: 1.3184 - mae: 0.8469 - val_loss: 15.6738 - val_mae: 2.5413\n",
            "Epoch 295/500\n",
            "303/323 [===========================>..] - ETA: 0s - loss: 1.2661 - mae: 0.8253"
          ]
        },
        {
          "output_type": "stream",
          "name": "stderr",
          "text": [
            "WARNING:tensorflow:Early stopping conditioned on metric `val_mse` which is not available. Available metrics are: loss,mae,val_loss,val_mae\n"
          ]
        },
        {
          "output_type": "stream",
          "name": "stdout",
          "text": [
            "\n",
            "Epoch 295: val_mae did not improve from 2.04043\n",
            "323/323 [==============================] - 1s 2ms/step - loss: 1.3343 - mae: 0.8431 - val_loss: 14.8932 - val_mae: 2.5441\n",
            "Epoch 296/500\n",
            "301/323 [==========================>...] - ETA: 0s - loss: 1.3147 - mae: 0.8739"
          ]
        },
        {
          "output_type": "stream",
          "name": "stderr",
          "text": [
            "WARNING:tensorflow:Early stopping conditioned on metric `val_mse` which is not available. Available metrics are: loss,mae,val_loss,val_mae\n"
          ]
        },
        {
          "output_type": "stream",
          "name": "stdout",
          "text": [
            "\n",
            "Epoch 296: val_mae did not improve from 2.04043\n",
            "323/323 [==============================] - 1s 2ms/step - loss: 1.3342 - mae: 0.8781 - val_loss: 14.3255 - val_mae: 2.4151\n",
            "Epoch 297/500\n",
            "319/323 [============================>.] - ETA: 0s - loss: 1.1514 - mae: 0.8138"
          ]
        },
        {
          "output_type": "stream",
          "name": "stderr",
          "text": [
            "WARNING:tensorflow:Early stopping conditioned on metric `val_mse` which is not available. Available metrics are: loss,mae,val_loss,val_mae\n"
          ]
        },
        {
          "output_type": "stream",
          "name": "stdout",
          "text": [
            "\n",
            "Epoch 297: val_mae did not improve from 2.04043\n",
            "323/323 [==============================] - 1s 2ms/step - loss: 1.1423 - mae: 0.8106 - val_loss: 14.6133 - val_mae: 2.4994\n",
            "Epoch 298/500\n",
            "295/323 [==========================>...] - ETA: 0s - loss: 1.3311 - mae: 0.8337"
          ]
        },
        {
          "output_type": "stream",
          "name": "stderr",
          "text": [
            "WARNING:tensorflow:Early stopping conditioned on metric `val_mse` which is not available. Available metrics are: loss,mae,val_loss,val_mae\n"
          ]
        },
        {
          "output_type": "stream",
          "name": "stdout",
          "text": [
            "\n",
            "Epoch 298: val_mae did not improve from 2.04043\n",
            "323/323 [==============================] - 1s 2ms/step - loss: 1.3625 - mae: 0.8422 - val_loss: 14.5492 - val_mae: 2.4155\n",
            "Epoch 299/500\n",
            "296/323 [==========================>...] - ETA: 0s - loss: 1.2985 - mae: 0.8170"
          ]
        },
        {
          "output_type": "stream",
          "name": "stderr",
          "text": [
            "WARNING:tensorflow:Early stopping conditioned on metric `val_mse` which is not available. Available metrics are: loss,mae,val_loss,val_mae\n"
          ]
        },
        {
          "output_type": "stream",
          "name": "stdout",
          "text": [
            "\n",
            "Epoch 299: val_mae did not improve from 2.04043\n",
            "323/323 [==============================] - 1s 2ms/step - loss: 1.2566 - mae: 0.8030 - val_loss: 16.9385 - val_mae: 2.6575\n",
            "Epoch 300/500\n",
            "301/323 [==========================>...] - ETA: 0s - loss: 1.3932 - mae: 0.8808"
          ]
        },
        {
          "output_type": "stream",
          "name": "stderr",
          "text": [
            "WARNING:tensorflow:Early stopping conditioned on metric `val_mse` which is not available. Available metrics are: loss,mae,val_loss,val_mae\n"
          ]
        },
        {
          "output_type": "stream",
          "name": "stdout",
          "text": [
            "\n",
            "Epoch 300: val_mae did not improve from 2.04043\n",
            "323/323 [==============================] - 1s 2ms/step - loss: 1.4437 - mae: 0.8943 - val_loss: 16.2674 - val_mae: 2.6012\n",
            "Epoch 301/500\n",
            "299/323 [==========================>...] - ETA: 0s - loss: 1.1671 - mae: 0.7710"
          ]
        },
        {
          "output_type": "stream",
          "name": "stderr",
          "text": [
            "WARNING:tensorflow:Early stopping conditioned on metric `val_mse` which is not available. Available metrics are: loss,mae,val_loss,val_mae\n"
          ]
        },
        {
          "output_type": "stream",
          "name": "stdout",
          "text": [
            "\n",
            "Epoch 301: val_mae did not improve from 2.04043\n",
            "323/323 [==============================] - 1s 2ms/step - loss: 1.1637 - mae: 0.7750 - val_loss: 15.9902 - val_mae: 2.6670\n",
            "Epoch 302/500\n",
            "293/323 [==========================>...] - ETA: 0s - loss: 1.2738 - mae: 0.8294"
          ]
        },
        {
          "output_type": "stream",
          "name": "stderr",
          "text": [
            "WARNING:tensorflow:Early stopping conditioned on metric `val_mse` which is not available. Available metrics are: loss,mae,val_loss,val_mae\n"
          ]
        },
        {
          "output_type": "stream",
          "name": "stdout",
          "text": [
            "\n",
            "Epoch 302: val_mae did not improve from 2.04043\n",
            "323/323 [==============================] - 1s 2ms/step - loss: 1.2142 - mae: 0.8136 - val_loss: 16.2506 - val_mae: 2.6364\n",
            "Epoch 303/500\n",
            "295/323 [==========================>...] - ETA: 0s - loss: 1.2873 - mae: 0.8413"
          ]
        },
        {
          "output_type": "stream",
          "name": "stderr",
          "text": [
            "WARNING:tensorflow:Early stopping conditioned on metric `val_mse` which is not available. Available metrics are: loss,mae,val_loss,val_mae\n"
          ]
        },
        {
          "output_type": "stream",
          "name": "stdout",
          "text": [
            "\n",
            "Epoch 303: val_mae did not improve from 2.04043\n",
            "323/323 [==============================] - 1s 2ms/step - loss: 1.3483 - mae: 0.8558 - val_loss: 16.3271 - val_mae: 2.5806\n",
            "Epoch 304/500\n",
            "295/323 [==========================>...] - ETA: 0s - loss: 1.1750 - mae: 0.8268"
          ]
        },
        {
          "output_type": "stream",
          "name": "stderr",
          "text": [
            "WARNING:tensorflow:Early stopping conditioned on metric `val_mse` which is not available. Available metrics are: loss,mae,val_loss,val_mae\n"
          ]
        },
        {
          "output_type": "stream",
          "name": "stdout",
          "text": [
            "\n",
            "Epoch 304: val_mae did not improve from 2.04043\n",
            "323/323 [==============================] - 1s 2ms/step - loss: 1.1440 - mae: 0.8160 - val_loss: 15.7581 - val_mae: 2.5982\n",
            "Epoch 305/500\n",
            "299/323 [==========================>...] - ETA: 0s - loss: 1.3034 - mae: 0.8349"
          ]
        },
        {
          "output_type": "stream",
          "name": "stderr",
          "text": [
            "WARNING:tensorflow:Early stopping conditioned on metric `val_mse` which is not available. Available metrics are: loss,mae,val_loss,val_mae\n"
          ]
        },
        {
          "output_type": "stream",
          "name": "stdout",
          "text": [
            "\n",
            "Epoch 305: val_mae did not improve from 2.04043\n",
            "323/323 [==============================] - 1s 2ms/step - loss: 1.2915 - mae: 0.8269 - val_loss: 14.7134 - val_mae: 2.4191\n",
            "Epoch 306/500\n",
            "295/323 [==========================>...] - ETA: 0s - loss: 1.0903 - mae: 0.7713"
          ]
        },
        {
          "output_type": "stream",
          "name": "stderr",
          "text": [
            "WARNING:tensorflow:Early stopping conditioned on metric `val_mse` which is not available. Available metrics are: loss,mae,val_loss,val_mae\n"
          ]
        },
        {
          "output_type": "stream",
          "name": "stdout",
          "text": [
            "\n",
            "Epoch 306: val_mae did not improve from 2.04043\n",
            "323/323 [==============================] - 1s 2ms/step - loss: 1.0594 - mae: 0.7615 - val_loss: 15.3609 - val_mae: 2.5173\n",
            "Epoch 307/500\n",
            "298/323 [==========================>...] - ETA: 0s - loss: 1.1060 - mae: 0.7842"
          ]
        },
        {
          "output_type": "stream",
          "name": "stderr",
          "text": [
            "WARNING:tensorflow:Early stopping conditioned on metric `val_mse` which is not available. Available metrics are: loss,mae,val_loss,val_mae\n"
          ]
        },
        {
          "output_type": "stream",
          "name": "stdout",
          "text": [
            "\n",
            "Epoch 307: val_mae did not improve from 2.04043\n",
            "323/323 [==============================] - 1s 2ms/step - loss: 1.1123 - mae: 0.7830 - val_loss: 17.1791 - val_mae: 2.6373\n",
            "Epoch 308/500\n",
            "303/323 [===========================>..] - ETA: 0s - loss: 1.3892 - mae: 0.8608"
          ]
        },
        {
          "output_type": "stream",
          "name": "stderr",
          "text": [
            "WARNING:tensorflow:Early stopping conditioned on metric `val_mse` which is not available. Available metrics are: loss,mae,val_loss,val_mae\n"
          ]
        },
        {
          "output_type": "stream",
          "name": "stdout",
          "text": [
            "\n",
            "Epoch 308: val_mae did not improve from 2.04043\n",
            "323/323 [==============================] - 1s 2ms/step - loss: 1.3463 - mae: 0.8470 - val_loss: 17.0456 - val_mae: 2.5880\n",
            "Epoch 309/500\n",
            "297/323 [==========================>...] - ETA: 0s - loss: 1.3198 - mae: 0.8117"
          ]
        },
        {
          "output_type": "stream",
          "name": "stderr",
          "text": [
            "WARNING:tensorflow:Early stopping conditioned on metric `val_mse` which is not available. Available metrics are: loss,mae,val_loss,val_mae\n"
          ]
        },
        {
          "output_type": "stream",
          "name": "stdout",
          "text": [
            "\n",
            "Epoch 309: val_mae did not improve from 2.04043\n",
            "323/323 [==============================] - 1s 2ms/step - loss: 1.3504 - mae: 0.8238 - val_loss: 17.0015 - val_mae: 2.7026\n",
            "Epoch 310/500\n",
            "314/323 [============================>.] - ETA: 0s - loss: 1.2515 - mae: 0.8110"
          ]
        },
        {
          "output_type": "stream",
          "name": "stderr",
          "text": [
            "WARNING:tensorflow:Early stopping conditioned on metric `val_mse` which is not available. Available metrics are: loss,mae,val_loss,val_mae\n"
          ]
        },
        {
          "output_type": "stream",
          "name": "stdout",
          "text": [
            "\n",
            "Epoch 310: val_mae did not improve from 2.04043\n",
            "323/323 [==============================] - 1s 2ms/step - loss: 1.2303 - mae: 0.8034 - val_loss: 17.5536 - val_mae: 2.6935\n",
            "Epoch 311/500\n",
            "302/323 [===========================>..] - ETA: 0s - loss: 1.1859 - mae: 0.7795"
          ]
        },
        {
          "output_type": "stream",
          "name": "stderr",
          "text": [
            "WARNING:tensorflow:Early stopping conditioned on metric `val_mse` which is not available. Available metrics are: loss,mae,val_loss,val_mae\n"
          ]
        },
        {
          "output_type": "stream",
          "name": "stdout",
          "text": [
            "\n",
            "Epoch 311: val_mae did not improve from 2.04043\n",
            "323/323 [==============================] - 1s 3ms/step - loss: 1.1759 - mae: 0.7805 - val_loss: 19.8481 - val_mae: 2.9633\n",
            "Epoch 312/500\n",
            "319/323 [============================>.] - ETA: 0s - loss: 1.3337 - mae: 0.8426"
          ]
        },
        {
          "output_type": "stream",
          "name": "stderr",
          "text": [
            "WARNING:tensorflow:Early stopping conditioned on metric `val_mse` which is not available. Available metrics are: loss,mae,val_loss,val_mae\n"
          ]
        },
        {
          "output_type": "stream",
          "name": "stdout",
          "text": [
            "\n",
            "Epoch 312: val_mae did not improve from 2.04043\n",
            "323/323 [==============================] - 1s 3ms/step - loss: 1.3321 - mae: 0.8441 - val_loss: 14.6925 - val_mae: 2.4976\n",
            "Epoch 313/500\n",
            "322/323 [============================>.] - ETA: 0s - loss: 1.3101 - mae: 0.8757"
          ]
        },
        {
          "output_type": "stream",
          "name": "stderr",
          "text": [
            "WARNING:tensorflow:Early stopping conditioned on metric `val_mse` which is not available. Available metrics are: loss,mae,val_loss,val_mae\n"
          ]
        },
        {
          "output_type": "stream",
          "name": "stdout",
          "text": [
            "\n",
            "Epoch 313: val_mae did not improve from 2.04043\n",
            "323/323 [==============================] - 1s 2ms/step - loss: 1.3071 - mae: 0.8748 - val_loss: 14.9778 - val_mae: 2.5989\n",
            "Epoch 314/500\n",
            "299/323 [==========================>...] - ETA: 0s - loss: 1.1590 - mae: 0.8190"
          ]
        },
        {
          "output_type": "stream",
          "name": "stderr",
          "text": [
            "WARNING:tensorflow:Early stopping conditioned on metric `val_mse` which is not available. Available metrics are: loss,mae,val_loss,val_mae\n"
          ]
        },
        {
          "output_type": "stream",
          "name": "stdout",
          "text": [
            "\n",
            "Epoch 314: val_mae did not improve from 2.04043\n",
            "323/323 [==============================] - 1s 2ms/step - loss: 1.1627 - mae: 0.8165 - val_loss: 16.0439 - val_mae: 2.5392\n",
            "Epoch 315/500\n",
            "292/323 [==========================>...] - ETA: 0s - loss: 1.3055 - mae: 0.8342"
          ]
        },
        {
          "output_type": "stream",
          "name": "stderr",
          "text": [
            "WARNING:tensorflow:Early stopping conditioned on metric `val_mse` which is not available. Available metrics are: loss,mae,val_loss,val_mae\n"
          ]
        },
        {
          "output_type": "stream",
          "name": "stdout",
          "text": [
            "\n",
            "Epoch 315: val_mae did not improve from 2.04043\n",
            "323/323 [==============================] - 1s 2ms/step - loss: 1.3031 - mae: 0.8382 - val_loss: 16.0484 - val_mae: 2.5362\n",
            "Epoch 316/500\n",
            "297/323 [==========================>...] - ETA: 0s - loss: 1.1334 - mae: 0.7850"
          ]
        },
        {
          "output_type": "stream",
          "name": "stderr",
          "text": [
            "WARNING:tensorflow:Early stopping conditioned on metric `val_mse` which is not available. Available metrics are: loss,mae,val_loss,val_mae\n"
          ]
        },
        {
          "output_type": "stream",
          "name": "stdout",
          "text": [
            "\n",
            "Epoch 316: val_mae did not improve from 2.04043\n",
            "323/323 [==============================] - 1s 2ms/step - loss: 1.0976 - mae: 0.7687 - val_loss: 15.2453 - val_mae: 2.4842\n",
            "Epoch 317/500\n",
            "303/323 [===========================>..] - ETA: 0s - loss: 1.4055 - mae: 0.8372"
          ]
        },
        {
          "output_type": "stream",
          "name": "stderr",
          "text": [
            "WARNING:tensorflow:Early stopping conditioned on metric `val_mse` which is not available. Available metrics are: loss,mae,val_loss,val_mae\n"
          ]
        },
        {
          "output_type": "stream",
          "name": "stdout",
          "text": [
            "\n",
            "Epoch 317: val_mae did not improve from 2.04043\n",
            "323/323 [==============================] - 1s 2ms/step - loss: 1.3684 - mae: 0.8291 - val_loss: 15.5820 - val_mae: 2.5392\n",
            "Epoch 318/500\n",
            "308/323 [===========================>..] - ETA: 0s - loss: 1.2393 - mae: 0.8131"
          ]
        },
        {
          "output_type": "stream",
          "name": "stderr",
          "text": [
            "WARNING:tensorflow:Early stopping conditioned on metric `val_mse` which is not available. Available metrics are: loss,mae,val_loss,val_mae\n"
          ]
        },
        {
          "output_type": "stream",
          "name": "stdout",
          "text": [
            "\n",
            "Epoch 318: val_mae did not improve from 2.04043\n",
            "323/323 [==============================] - 1s 2ms/step - loss: 1.2401 - mae: 0.8172 - val_loss: 13.5273 - val_mae: 2.4484\n",
            "Epoch 319/500\n",
            "300/323 [==========================>...] - ETA: 0s - loss: 1.2658 - mae: 0.8053"
          ]
        },
        {
          "output_type": "stream",
          "name": "stderr",
          "text": [
            "WARNING:tensorflow:Early stopping conditioned on metric `val_mse` which is not available. Available metrics are: loss,mae,val_loss,val_mae\n"
          ]
        },
        {
          "output_type": "stream",
          "name": "stdout",
          "text": [
            "\n",
            "Epoch 319: val_mae did not improve from 2.04043\n",
            "323/323 [==============================] - 1s 2ms/step - loss: 1.2087 - mae: 0.7887 - val_loss: 14.9709 - val_mae: 2.7286\n",
            "Epoch 320/500\n",
            "316/323 [============================>.] - ETA: 0s - loss: 1.1004 - mae: 0.7618"
          ]
        },
        {
          "output_type": "stream",
          "name": "stderr",
          "text": [
            "WARNING:tensorflow:Early stopping conditioned on metric `val_mse` which is not available. Available metrics are: loss,mae,val_loss,val_mae\n"
          ]
        },
        {
          "output_type": "stream",
          "name": "stdout",
          "text": [
            "\n",
            "Epoch 320: val_mae did not improve from 2.04043\n",
            "323/323 [==============================] - 1s 2ms/step - loss: 1.0868 - mae: 0.7586 - val_loss: 14.2057 - val_mae: 2.4252\n",
            "Epoch 321/500\n",
            "299/323 [==========================>...] - ETA: 0s - loss: 1.1657 - mae: 0.7986"
          ]
        },
        {
          "output_type": "stream",
          "name": "stderr",
          "text": [
            "WARNING:tensorflow:Early stopping conditioned on metric `val_mse` which is not available. Available metrics are: loss,mae,val_loss,val_mae\n"
          ]
        },
        {
          "output_type": "stream",
          "name": "stdout",
          "text": [
            "\n",
            "Epoch 321: val_mae did not improve from 2.04043\n",
            "323/323 [==============================] - 1s 2ms/step - loss: 1.1442 - mae: 0.7960 - val_loss: 14.4056 - val_mae: 2.5135\n",
            "Epoch 322/500\n",
            "319/323 [============================>.] - ETA: 0s - loss: 1.3204 - mae: 0.8550"
          ]
        },
        {
          "output_type": "stream",
          "name": "stderr",
          "text": [
            "WARNING:tensorflow:Early stopping conditioned on metric `val_mse` which is not available. Available metrics are: loss,mae,val_loss,val_mae\n"
          ]
        },
        {
          "output_type": "stream",
          "name": "stdout",
          "text": [
            "\n",
            "Epoch 322: val_mae did not improve from 2.04043\n",
            "323/323 [==============================] - 1s 2ms/step - loss: 1.3146 - mae: 0.8541 - val_loss: 16.3522 - val_mae: 2.5835\n",
            "Epoch 323/500\n",
            "318/323 [============================>.] - ETA: 0s - loss: 1.3582 - mae: 0.8108"
          ]
        },
        {
          "output_type": "stream",
          "name": "stderr",
          "text": [
            "WARNING:tensorflow:Early stopping conditioned on metric `val_mse` which is not available. Available metrics are: loss,mae,val_loss,val_mae\n"
          ]
        },
        {
          "output_type": "stream",
          "name": "stdout",
          "text": [
            "\n",
            "Epoch 323: val_mae did not improve from 2.04043\n",
            "323/323 [==============================] - 1s 2ms/step - loss: 1.3445 - mae: 0.8060 - val_loss: 14.0766 - val_mae: 2.5140\n",
            "Epoch 324/500\n",
            "317/323 [============================>.] - ETA: 0s - loss: 1.1907 - mae: 0.7970"
          ]
        },
        {
          "output_type": "stream",
          "name": "stderr",
          "text": [
            "WARNING:tensorflow:Early stopping conditioned on metric `val_mse` which is not available. Available metrics are: loss,mae,val_loss,val_mae\n"
          ]
        },
        {
          "output_type": "stream",
          "name": "stdout",
          "text": [
            "\n",
            "Epoch 324: val_mae did not improve from 2.04043\n",
            "323/323 [==============================] - 1s 3ms/step - loss: 1.2014 - mae: 0.7988 - val_loss: 15.4075 - val_mae: 2.5787\n",
            "Epoch 325/500\n",
            "314/323 [============================>.] - ETA: 0s - loss: 1.1648 - mae: 0.7926"
          ]
        },
        {
          "output_type": "stream",
          "name": "stderr",
          "text": [
            "WARNING:tensorflow:Early stopping conditioned on metric `val_mse` which is not available. Available metrics are: loss,mae,val_loss,val_mae\n"
          ]
        },
        {
          "output_type": "stream",
          "name": "stdout",
          "text": [
            "\n",
            "Epoch 325: val_mae did not improve from 2.04043\n",
            "323/323 [==============================] - 1s 3ms/step - loss: 1.1804 - mae: 0.7957 - val_loss: 14.9716 - val_mae: 2.5486\n",
            "Epoch 326/500\n",
            "323/323 [==============================] - ETA: 0s - loss: 1.1331 - mae: 0.7840"
          ]
        },
        {
          "output_type": "stream",
          "name": "stderr",
          "text": [
            "WARNING:tensorflow:Early stopping conditioned on metric `val_mse` which is not available. Available metrics are: loss,mae,val_loss,val_mae\n"
          ]
        },
        {
          "output_type": "stream",
          "name": "stdout",
          "text": [
            "\n",
            "Epoch 326: val_mae did not improve from 2.04043\n",
            "323/323 [==============================] - 1s 3ms/step - loss: 1.1331 - mae: 0.7840 - val_loss: 13.6039 - val_mae: 2.5602\n",
            "Epoch 327/500\n",
            "308/323 [===========================>..] - ETA: 0s - loss: 1.1977 - mae: 0.8250"
          ]
        },
        {
          "output_type": "stream",
          "name": "stderr",
          "text": [
            "WARNING:tensorflow:Early stopping conditioned on metric `val_mse` which is not available. Available metrics are: loss,mae,val_loss,val_mae\n"
          ]
        },
        {
          "output_type": "stream",
          "name": "stdout",
          "text": [
            "\n",
            "Epoch 327: val_mae did not improve from 2.04043\n",
            "323/323 [==============================] - 1s 2ms/step - loss: 1.2503 - mae: 0.8322 - val_loss: 16.1369 - val_mae: 2.5793\n",
            "Epoch 328/500\n",
            "309/323 [===========================>..] - ETA: 0s - loss: 1.1069 - mae: 0.7592"
          ]
        },
        {
          "output_type": "stream",
          "name": "stderr",
          "text": [
            "WARNING:tensorflow:Early stopping conditioned on metric `val_mse` which is not available. Available metrics are: loss,mae,val_loss,val_mae\n"
          ]
        },
        {
          "output_type": "stream",
          "name": "stdout",
          "text": [
            "\n",
            "Epoch 328: val_mae did not improve from 2.04043\n",
            "323/323 [==============================] - 1s 3ms/step - loss: 1.1562 - mae: 0.7707 - val_loss: 15.1691 - val_mae: 2.5207\n",
            "Epoch 329/500\n",
            "309/323 [===========================>..] - ETA: 0s - loss: 1.0515 - mae: 0.7949"
          ]
        },
        {
          "output_type": "stream",
          "name": "stderr",
          "text": [
            "WARNING:tensorflow:Early stopping conditioned on metric `val_mse` which is not available. Available metrics are: loss,mae,val_loss,val_mae\n"
          ]
        },
        {
          "output_type": "stream",
          "name": "stdout",
          "text": [
            "\n",
            "Epoch 329: val_mae did not improve from 2.04043\n",
            "323/323 [==============================] - 1s 2ms/step - loss: 1.0479 - mae: 0.7962 - val_loss: 16.4224 - val_mae: 2.5156\n",
            "Epoch 330/500\n",
            "302/323 [===========================>..] - ETA: 0s - loss: 1.1331 - mae: 0.7681"
          ]
        },
        {
          "output_type": "stream",
          "name": "stderr",
          "text": [
            "WARNING:tensorflow:Early stopping conditioned on metric `val_mse` which is not available. Available metrics are: loss,mae,val_loss,val_mae\n"
          ]
        },
        {
          "output_type": "stream",
          "name": "stdout",
          "text": [
            "\n",
            "Epoch 330: val_mae did not improve from 2.04043\n",
            "323/323 [==============================] - 1s 3ms/step - loss: 1.1446 - mae: 0.7747 - val_loss: 15.9628 - val_mae: 2.6439\n",
            "Epoch 331/500\n",
            "317/323 [============================>.] - ETA: 0s - loss: 1.1702 - mae: 0.7900"
          ]
        },
        {
          "output_type": "stream",
          "name": "stderr",
          "text": [
            "WARNING:tensorflow:Early stopping conditioned on metric `val_mse` which is not available. Available metrics are: loss,mae,val_loss,val_mae\n"
          ]
        },
        {
          "output_type": "stream",
          "name": "stdout",
          "text": [
            "\n",
            "Epoch 331: val_mae did not improve from 2.04043\n",
            "323/323 [==============================] - 1s 3ms/step - loss: 1.1900 - mae: 0.7984 - val_loss: 14.1679 - val_mae: 2.5506\n",
            "Epoch 332/500\n",
            "317/323 [============================>.] - ETA: 0s - loss: 1.1529 - mae: 0.8042"
          ]
        },
        {
          "output_type": "stream",
          "name": "stderr",
          "text": [
            "WARNING:tensorflow:Early stopping conditioned on metric `val_mse` which is not available. Available metrics are: loss,mae,val_loss,val_mae\n"
          ]
        },
        {
          "output_type": "stream",
          "name": "stdout",
          "text": [
            "\n",
            "Epoch 332: val_mae did not improve from 2.04043\n",
            "323/323 [==============================] - 1s 2ms/step - loss: 1.1454 - mae: 0.8027 - val_loss: 15.2033 - val_mae: 2.6257\n",
            "Epoch 333/500\n",
            "301/323 [==========================>...] - ETA: 0s - loss: 1.0966 - mae: 0.7635"
          ]
        },
        {
          "output_type": "stream",
          "name": "stderr",
          "text": [
            "WARNING:tensorflow:Early stopping conditioned on metric `val_mse` which is not available. Available metrics are: loss,mae,val_loss,val_mae\n"
          ]
        },
        {
          "output_type": "stream",
          "name": "stdout",
          "text": [
            "\n",
            "Epoch 333: val_mae did not improve from 2.04043\n",
            "323/323 [==============================] - 1s 2ms/step - loss: 1.1245 - mae: 0.7681 - val_loss: 16.5521 - val_mae: 2.5551\n",
            "Epoch 334/500\n",
            "322/323 [============================>.] - ETA: 0s - loss: 1.0932 - mae: 0.7539"
          ]
        },
        {
          "output_type": "stream",
          "name": "stderr",
          "text": [
            "WARNING:tensorflow:Early stopping conditioned on metric `val_mse` which is not available. Available metrics are: loss,mae,val_loss,val_mae\n"
          ]
        },
        {
          "output_type": "stream",
          "name": "stdout",
          "text": [
            "\n",
            "Epoch 334: val_mae did not improve from 2.04043\n",
            "323/323 [==============================] - 1s 2ms/step - loss: 1.0899 - mae: 0.7521 - val_loss: 15.6920 - val_mae: 2.6230\n",
            "Epoch 335/500\n",
            "306/323 [===========================>..] - ETA: 0s - loss: 1.0507 - mae: 0.7377"
          ]
        },
        {
          "output_type": "stream",
          "name": "stderr",
          "text": [
            "WARNING:tensorflow:Early stopping conditioned on metric `val_mse` which is not available. Available metrics are: loss,mae,val_loss,val_mae\n"
          ]
        },
        {
          "output_type": "stream",
          "name": "stdout",
          "text": [
            "\n",
            "Epoch 335: val_mae did not improve from 2.04043\n",
            "323/323 [==============================] - 1s 2ms/step - loss: 1.1755 - mae: 0.7546 - val_loss: 15.0675 - val_mae: 2.5370\n",
            "Epoch 336/500\n",
            "323/323 [==============================] - ETA: 0s - loss: 0.9961 - mae: 0.7723"
          ]
        },
        {
          "output_type": "stream",
          "name": "stderr",
          "text": [
            "WARNING:tensorflow:Early stopping conditioned on metric `val_mse` which is not available. Available metrics are: loss,mae,val_loss,val_mae\n"
          ]
        },
        {
          "output_type": "stream",
          "name": "stdout",
          "text": [
            "\n",
            "Epoch 336: val_mae did not improve from 2.04043\n",
            "323/323 [==============================] - 1s 2ms/step - loss: 0.9961 - mae: 0.7723 - val_loss: 14.9642 - val_mae: 2.5081\n",
            "Epoch 337/500\n",
            "310/323 [===========================>..] - ETA: 0s - loss: 1.1779 - mae: 0.7769"
          ]
        },
        {
          "output_type": "stream",
          "name": "stderr",
          "text": [
            "WARNING:tensorflow:Early stopping conditioned on metric `val_mse` which is not available. Available metrics are: loss,mae,val_loss,val_mae\n"
          ]
        },
        {
          "output_type": "stream",
          "name": "stdout",
          "text": [
            "\n",
            "Epoch 337: val_mae did not improve from 2.04043\n",
            "323/323 [==============================] - 1s 2ms/step - loss: 1.1446 - mae: 0.7639 - val_loss: 15.0987 - val_mae: 2.4325\n",
            "Epoch 338/500\n",
            "299/323 [==========================>...] - ETA: 0s - loss: 1.0076 - mae: 0.7431"
          ]
        },
        {
          "output_type": "stream",
          "name": "stderr",
          "text": [
            "WARNING:tensorflow:Early stopping conditioned on metric `val_mse` which is not available. Available metrics are: loss,mae,val_loss,val_mae\n"
          ]
        },
        {
          "output_type": "stream",
          "name": "stdout",
          "text": [
            "\n",
            "Epoch 338: val_mae did not improve from 2.04043\n",
            "323/323 [==============================] - 1s 2ms/step - loss: 1.0670 - mae: 0.7580 - val_loss: 15.6819 - val_mae: 2.5226\n",
            "Epoch 339/500\n",
            "298/323 [==========================>...] - ETA: 0s - loss: 1.2071 - mae: 0.8415"
          ]
        },
        {
          "output_type": "stream",
          "name": "stderr",
          "text": [
            "WARNING:tensorflow:Early stopping conditioned on metric `val_mse` which is not available. Available metrics are: loss,mae,val_loss,val_mae\n"
          ]
        },
        {
          "output_type": "stream",
          "name": "stdout",
          "text": [
            "\n",
            "Epoch 339: val_mae did not improve from 2.04043\n",
            "323/323 [==============================] - 1s 2ms/step - loss: 1.1833 - mae: 0.8307 - val_loss: 16.4200 - val_mae: 2.6616\n",
            "Epoch 340/500\n",
            "295/323 [==========================>...] - ETA: 0s - loss: 1.0829 - mae: 0.7765"
          ]
        },
        {
          "output_type": "stream",
          "name": "stderr",
          "text": [
            "WARNING:tensorflow:Early stopping conditioned on metric `val_mse` which is not available. Available metrics are: loss,mae,val_loss,val_mae\n"
          ]
        },
        {
          "output_type": "stream",
          "name": "stdout",
          "text": [
            "\n",
            "Epoch 340: val_mae did not improve from 2.04043\n",
            "323/323 [==============================] - 1s 2ms/step - loss: 1.0721 - mae: 0.7780 - val_loss: 15.8092 - val_mae: 2.6408\n",
            "Epoch 341/500\n",
            "322/323 [============================>.] - ETA: 0s - loss: 1.1956 - mae: 0.8090"
          ]
        },
        {
          "output_type": "stream",
          "name": "stderr",
          "text": [
            "WARNING:tensorflow:Early stopping conditioned on metric `val_mse` which is not available. Available metrics are: loss,mae,val_loss,val_mae\n"
          ]
        },
        {
          "output_type": "stream",
          "name": "stdout",
          "text": [
            "\n",
            "Epoch 341: val_mae did not improve from 2.04043\n",
            "323/323 [==============================] - 1s 2ms/step - loss: 1.2061 - mae: 0.8131 - val_loss: 15.9653 - val_mae: 2.6611\n",
            "Epoch 342/500\n",
            "293/323 [==========================>...] - ETA: 0s - loss: 1.2332 - mae: 0.8141"
          ]
        },
        {
          "output_type": "stream",
          "name": "stderr",
          "text": [
            "WARNING:tensorflow:Early stopping conditioned on metric `val_mse` which is not available. Available metrics are: loss,mae,val_loss,val_mae\n"
          ]
        },
        {
          "output_type": "stream",
          "name": "stdout",
          "text": [
            "\n",
            "Epoch 342: val_mae did not improve from 2.04043\n",
            "323/323 [==============================] - 1s 2ms/step - loss: 1.1729 - mae: 0.7944 - val_loss: 15.4341 - val_mae: 2.5690\n",
            "Epoch 343/500\n",
            "300/323 [==========================>...] - ETA: 0s - loss: 1.2628 - mae: 0.8338"
          ]
        },
        {
          "output_type": "stream",
          "name": "stderr",
          "text": [
            "WARNING:tensorflow:Early stopping conditioned on metric `val_mse` which is not available. Available metrics are: loss,mae,val_loss,val_mae\n"
          ]
        },
        {
          "output_type": "stream",
          "name": "stdout",
          "text": [
            "\n",
            "Epoch 343: val_mae did not improve from 2.04043\n",
            "323/323 [==============================] - 1s 2ms/step - loss: 1.2153 - mae: 0.8174 - val_loss: 17.3067 - val_mae: 2.6708\n",
            "Epoch 344/500\n",
            "302/323 [===========================>..] - ETA: 0s - loss: 1.0072 - mae: 0.7361"
          ]
        },
        {
          "output_type": "stream",
          "name": "stderr",
          "text": [
            "WARNING:tensorflow:Early stopping conditioned on metric `val_mse` which is not available. Available metrics are: loss,mae,val_loss,val_mae\n"
          ]
        },
        {
          "output_type": "stream",
          "name": "stdout",
          "text": [
            "\n",
            "Epoch 344: val_mae did not improve from 2.04043\n",
            "323/323 [==============================] - 1s 2ms/step - loss: 0.9926 - mae: 0.7383 - val_loss: 14.4648 - val_mae: 2.4679\n",
            "Epoch 345/500\n",
            "298/323 [==========================>...] - ETA: 0s - loss: 1.1975 - mae: 0.7926"
          ]
        },
        {
          "output_type": "stream",
          "name": "stderr",
          "text": [
            "WARNING:tensorflow:Early stopping conditioned on metric `val_mse` which is not available. Available metrics are: loss,mae,val_loss,val_mae\n"
          ]
        },
        {
          "output_type": "stream",
          "name": "stdout",
          "text": [
            "\n",
            "Epoch 345: val_mae did not improve from 2.04043\n",
            "323/323 [==============================] - 1s 2ms/step - loss: 1.1932 - mae: 0.7948 - val_loss: 16.7675 - val_mae: 2.5661\n",
            "Epoch 346/500\n",
            "317/323 [============================>.] - ETA: 0s - loss: 1.1596 - mae: 0.7728"
          ]
        },
        {
          "output_type": "stream",
          "name": "stderr",
          "text": [
            "WARNING:tensorflow:Early stopping conditioned on metric `val_mse` which is not available. Available metrics are: loss,mae,val_loss,val_mae\n"
          ]
        },
        {
          "output_type": "stream",
          "name": "stdout",
          "text": [
            "\n",
            "Epoch 346: val_mae did not improve from 2.04043\n",
            "323/323 [==============================] - 1s 2ms/step - loss: 1.1456 - mae: 0.7683 - val_loss: 16.1164 - val_mae: 2.4784\n",
            "Epoch 347/500\n",
            "321/323 [============================>.] - ETA: 0s - loss: 1.0758 - mae: 0.7648"
          ]
        },
        {
          "output_type": "stream",
          "name": "stderr",
          "text": [
            "WARNING:tensorflow:Early stopping conditioned on metric `val_mse` which is not available. Available metrics are: loss,mae,val_loss,val_mae\n"
          ]
        },
        {
          "output_type": "stream",
          "name": "stdout",
          "text": [
            "\n",
            "Epoch 347: val_mae did not improve from 2.04043\n",
            "323/323 [==============================] - 1s 2ms/step - loss: 1.0699 - mae: 0.7622 - val_loss: 17.1958 - val_mae: 2.5760\n",
            "Epoch 348/500\n",
            "317/323 [============================>.] - ETA: 0s - loss: 1.0845 - mae: 0.7496"
          ]
        },
        {
          "output_type": "stream",
          "name": "stderr",
          "text": [
            "WARNING:tensorflow:Early stopping conditioned on metric `val_mse` which is not available. Available metrics are: loss,mae,val_loss,val_mae\n"
          ]
        },
        {
          "output_type": "stream",
          "name": "stdout",
          "text": [
            "\n",
            "Epoch 348: val_mae did not improve from 2.04043\n",
            "323/323 [==============================] - 1s 3ms/step - loss: 1.0885 - mae: 0.7516 - val_loss: 19.6140 - val_mae: 2.8706\n",
            "Epoch 349/500\n",
            "305/323 [===========================>..] - ETA: 0s - loss: 1.1225 - mae: 0.7760"
          ]
        },
        {
          "output_type": "stream",
          "name": "stderr",
          "text": [
            "WARNING:tensorflow:Early stopping conditioned on metric `val_mse` which is not available. Available metrics are: loss,mae,val_loss,val_mae\n"
          ]
        },
        {
          "output_type": "stream",
          "name": "stdout",
          "text": [
            "\n",
            "Epoch 349: val_mae did not improve from 2.04043\n",
            "323/323 [==============================] - 1s 2ms/step - loss: 1.1022 - mae: 0.7700 - val_loss: 15.9506 - val_mae: 2.5807\n",
            "Epoch 350/500\n",
            "323/323 [==============================] - ETA: 0s - loss: 1.0304 - mae: 0.7537"
          ]
        },
        {
          "output_type": "stream",
          "name": "stderr",
          "text": [
            "WARNING:tensorflow:Early stopping conditioned on metric `val_mse` which is not available. Available metrics are: loss,mae,val_loss,val_mae\n"
          ]
        },
        {
          "output_type": "stream",
          "name": "stdout",
          "text": [
            "\n",
            "Epoch 350: val_mae did not improve from 2.04043\n",
            "323/323 [==============================] - 1s 3ms/step - loss: 1.0304 - mae: 0.7537 - val_loss: 14.8780 - val_mae: 2.4925\n",
            "Epoch 351/500\n",
            "314/323 [============================>.] - ETA: 0s - loss: 1.1663 - mae: 0.7659"
          ]
        },
        {
          "output_type": "stream",
          "name": "stderr",
          "text": [
            "WARNING:tensorflow:Early stopping conditioned on metric `val_mse` which is not available. Available metrics are: loss,mae,val_loss,val_mae\n"
          ]
        },
        {
          "output_type": "stream",
          "name": "stdout",
          "text": [
            "\n",
            "Epoch 351: val_mae did not improve from 2.04043\n",
            "323/323 [==============================] - 1s 2ms/step - loss: 1.1790 - mae: 0.7693 - val_loss: 14.8507 - val_mae: 2.4158\n",
            "Epoch 352/500\n",
            "292/323 [==========================>...] - ETA: 0s - loss: 1.1833 - mae: 0.7950"
          ]
        },
        {
          "output_type": "stream",
          "name": "stderr",
          "text": [
            "WARNING:tensorflow:Early stopping conditioned on metric `val_mse` which is not available. Available metrics are: loss,mae,val_loss,val_mae\n"
          ]
        },
        {
          "output_type": "stream",
          "name": "stdout",
          "text": [
            "\n",
            "Epoch 352: val_mae did not improve from 2.04043\n",
            "323/323 [==============================] - 1s 2ms/step - loss: 1.1405 - mae: 0.7844 - val_loss: 14.5870 - val_mae: 2.4899\n",
            "Epoch 353/500\n",
            "319/323 [============================>.] - ETA: 0s - loss: 1.0526 - mae: 0.7599"
          ]
        },
        {
          "output_type": "stream",
          "name": "stderr",
          "text": [
            "WARNING:tensorflow:Early stopping conditioned on metric `val_mse` which is not available. Available metrics are: loss,mae,val_loss,val_mae\n"
          ]
        },
        {
          "output_type": "stream",
          "name": "stdout",
          "text": [
            "\n",
            "Epoch 353: val_mae did not improve from 2.04043\n",
            "323/323 [==============================] - 1s 2ms/step - loss: 1.0423 - mae: 0.7560 - val_loss: 14.4415 - val_mae: 2.6052\n",
            "Epoch 354/500\n",
            "320/323 [============================>.] - ETA: 0s - loss: 1.1285 - mae: 0.7864"
          ]
        },
        {
          "output_type": "stream",
          "name": "stderr",
          "text": [
            "WARNING:tensorflow:Early stopping conditioned on metric `val_mse` which is not available. Available metrics are: loss,mae,val_loss,val_mae\n"
          ]
        },
        {
          "output_type": "stream",
          "name": "stdout",
          "text": [
            "\n",
            "Epoch 354: val_mae did not improve from 2.04043\n",
            "323/323 [==============================] - 1s 2ms/step - loss: 1.1695 - mae: 0.7977 - val_loss: 17.5156 - val_mae: 2.7705\n",
            "Epoch 355/500\n",
            "290/323 [=========================>....] - ETA: 0s - loss: 1.2117 - mae: 0.8025"
          ]
        },
        {
          "output_type": "stream",
          "name": "stderr",
          "text": [
            "WARNING:tensorflow:Early stopping conditioned on metric `val_mse` which is not available. Available metrics are: loss,mae,val_loss,val_mae\n"
          ]
        },
        {
          "output_type": "stream",
          "name": "stdout",
          "text": [
            "\n",
            "Epoch 355: val_mae did not improve from 2.04043\n",
            "323/323 [==============================] - 1s 2ms/step - loss: 1.1676 - mae: 0.7874 - val_loss: 16.2301 - val_mae: 2.7267\n",
            "Epoch 356/500\n",
            "289/323 [=========================>....] - ETA: 0s - loss: 0.9661 - mae: 0.7474"
          ]
        },
        {
          "output_type": "stream",
          "name": "stderr",
          "text": [
            "WARNING:tensorflow:Early stopping conditioned on metric `val_mse` which is not available. Available metrics are: loss,mae,val_loss,val_mae\n"
          ]
        },
        {
          "output_type": "stream",
          "name": "stdout",
          "text": [
            "\n",
            "Epoch 356: val_mae did not improve from 2.04043\n",
            "323/323 [==============================] - 1s 2ms/step - loss: 0.9670 - mae: 0.7453 - val_loss: 15.3136 - val_mae: 2.5200\n",
            "Epoch 357/500\n",
            "293/323 [==========================>...] - ETA: 0s - loss: 0.9602 - mae: 0.7645"
          ]
        },
        {
          "output_type": "stream",
          "name": "stderr",
          "text": [
            "WARNING:tensorflow:Early stopping conditioned on metric `val_mse` which is not available. Available metrics are: loss,mae,val_loss,val_mae\n"
          ]
        },
        {
          "output_type": "stream",
          "name": "stdout",
          "text": [
            "\n",
            "Epoch 357: val_mae did not improve from 2.04043\n",
            "323/323 [==============================] - 1s 2ms/step - loss: 0.9925 - mae: 0.7724 - val_loss: 17.2998 - val_mae: 2.6444\n",
            "Epoch 358/500\n",
            "298/323 [==========================>...] - ETA: 0s - loss: 1.0017 - mae: 0.7680"
          ]
        },
        {
          "output_type": "stream",
          "name": "stderr",
          "text": [
            "WARNING:tensorflow:Early stopping conditioned on metric `val_mse` which is not available. Available metrics are: loss,mae,val_loss,val_mae\n"
          ]
        },
        {
          "output_type": "stream",
          "name": "stdout",
          "text": [
            "\n",
            "Epoch 358: val_mae did not improve from 2.04043\n",
            "323/323 [==============================] - 1s 2ms/step - loss: 1.0018 - mae: 0.7599 - val_loss: 16.9413 - val_mae: 2.7237\n",
            "Epoch 359/500\n",
            "322/323 [============================>.] - ETA: 0s - loss: 1.1423 - mae: 0.7786"
          ]
        },
        {
          "output_type": "stream",
          "name": "stderr",
          "text": [
            "WARNING:tensorflow:Early stopping conditioned on metric `val_mse` which is not available. Available metrics are: loss,mae,val_loss,val_mae\n"
          ]
        },
        {
          "output_type": "stream",
          "name": "stdout",
          "text": [
            "\n",
            "Epoch 359: val_mae did not improve from 2.04043\n",
            "323/323 [==============================] - 1s 2ms/step - loss: 1.1396 - mae: 0.7778 - val_loss: 15.5140 - val_mae: 2.5776\n",
            "Epoch 360/500\n",
            "300/323 [==========================>...] - ETA: 0s - loss: 0.9560 - mae: 0.6972"
          ]
        },
        {
          "output_type": "stream",
          "name": "stderr",
          "text": [
            "WARNING:tensorflow:Early stopping conditioned on metric `val_mse` which is not available. Available metrics are: loss,mae,val_loss,val_mae\n"
          ]
        },
        {
          "output_type": "stream",
          "name": "stdout",
          "text": [
            "\n",
            "Epoch 360: val_mae did not improve from 2.04043\n",
            "323/323 [==============================] - 1s 2ms/step - loss: 1.0247 - mae: 0.7161 - val_loss: 16.4644 - val_mae: 2.6407\n",
            "Epoch 361/500\n",
            "299/323 [==========================>...] - ETA: 0s - loss: 1.0432 - mae: 0.7662"
          ]
        },
        {
          "output_type": "stream",
          "name": "stderr",
          "text": [
            "WARNING:tensorflow:Early stopping conditioned on metric `val_mse` which is not available. Available metrics are: loss,mae,val_loss,val_mae\n"
          ]
        },
        {
          "output_type": "stream",
          "name": "stdout",
          "text": [
            "\n",
            "Epoch 361: val_mae did not improve from 2.04043\n",
            "323/323 [==============================] - 1s 2ms/step - loss: 1.0407 - mae: 0.7664 - val_loss: 14.8800 - val_mae: 2.5850\n",
            "Epoch 362/500\n",
            "321/323 [============================>.] - ETA: 0s - loss: 1.0320 - mae: 0.7562"
          ]
        },
        {
          "output_type": "stream",
          "name": "stderr",
          "text": [
            "WARNING:tensorflow:Early stopping conditioned on metric `val_mse` which is not available. Available metrics are: loss,mae,val_loss,val_mae\n"
          ]
        },
        {
          "output_type": "stream",
          "name": "stdout",
          "text": [
            "\n",
            "Epoch 362: val_mae did not improve from 2.04043\n",
            "323/323 [==============================] - 1s 2ms/step - loss: 1.0256 - mae: 0.7519 - val_loss: 16.0178 - val_mae: 2.6375\n",
            "Epoch 363/500\n",
            "302/323 [===========================>..] - ETA: 0s - loss: 1.0285 - mae: 0.7431"
          ]
        },
        {
          "output_type": "stream",
          "name": "stderr",
          "text": [
            "WARNING:tensorflow:Early stopping conditioned on metric `val_mse` which is not available. Available metrics are: loss,mae,val_loss,val_mae\n"
          ]
        },
        {
          "output_type": "stream",
          "name": "stdout",
          "text": [
            "\n",
            "Epoch 363: val_mae did not improve from 2.04043\n",
            "323/323 [==============================] - 1s 2ms/step - loss: 1.0094 - mae: 0.7311 - val_loss: 15.7338 - val_mae: 2.5531\n",
            "Epoch 364/500\n",
            "318/323 [============================>.] - ETA: 0s - loss: 1.0846 - mae: 0.7579"
          ]
        },
        {
          "output_type": "stream",
          "name": "stderr",
          "text": [
            "WARNING:tensorflow:Early stopping conditioned on metric `val_mse` which is not available. Available metrics are: loss,mae,val_loss,val_mae\n"
          ]
        },
        {
          "output_type": "stream",
          "name": "stdout",
          "text": [
            "\n",
            "Epoch 364: val_mae did not improve from 2.04043\n",
            "323/323 [==============================] - 1s 2ms/step - loss: 1.0771 - mae: 0.7550 - val_loss: 17.0307 - val_mae: 2.6163\n",
            "Epoch 365/500\n",
            "298/323 [==========================>...] - ETA: 0s - loss: 1.0450 - mae: 0.7483"
          ]
        },
        {
          "output_type": "stream",
          "name": "stderr",
          "text": [
            "WARNING:tensorflow:Early stopping conditioned on metric `val_mse` which is not available. Available metrics are: loss,mae,val_loss,val_mae\n"
          ]
        },
        {
          "output_type": "stream",
          "name": "stdout",
          "text": [
            "\n",
            "Epoch 365: val_mae did not improve from 2.04043\n",
            "323/323 [==============================] - 1s 2ms/step - loss: 1.0457 - mae: 0.7437 - val_loss: 16.0819 - val_mae: 2.5678\n",
            "Epoch 366/500\n",
            "322/323 [============================>.] - ETA: 0s - loss: 0.9727 - mae: 0.7217"
          ]
        },
        {
          "output_type": "stream",
          "name": "stderr",
          "text": [
            "WARNING:tensorflow:Early stopping conditioned on metric `val_mse` which is not available. Available metrics are: loss,mae,val_loss,val_mae\n"
          ]
        },
        {
          "output_type": "stream",
          "name": "stdout",
          "text": [
            "\n",
            "Epoch 366: val_mae did not improve from 2.04043\n",
            "323/323 [==============================] - 1s 2ms/step - loss: 0.9759 - mae: 0.7239 - val_loss: 17.7586 - val_mae: 2.6534\n",
            "Epoch 367/500\n",
            "323/323 [==============================] - ETA: 0s - loss: 1.0255 - mae: 0.7518"
          ]
        },
        {
          "output_type": "stream",
          "name": "stderr",
          "text": [
            "WARNING:tensorflow:Early stopping conditioned on metric `val_mse` which is not available. Available metrics are: loss,mae,val_loss,val_mae\n"
          ]
        },
        {
          "output_type": "stream",
          "name": "stdout",
          "text": [
            "\n",
            "Epoch 367: val_mae did not improve from 2.04043\n",
            "323/323 [==============================] - 1s 3ms/step - loss: 1.0255 - mae: 0.7518 - val_loss: 15.7008 - val_mae: 2.5912\n",
            "Epoch 368/500\n",
            "304/323 [===========================>..] - ETA: 0s - loss: 1.0340 - mae: 0.7907"
          ]
        },
        {
          "output_type": "stream",
          "name": "stderr",
          "text": [
            "WARNING:tensorflow:Early stopping conditioned on metric `val_mse` which is not available. Available metrics are: loss,mae,val_loss,val_mae\n"
          ]
        },
        {
          "output_type": "stream",
          "name": "stdout",
          "text": [
            "\n",
            "Epoch 368: val_mae did not improve from 2.04043\n",
            "323/323 [==============================] - 1s 3ms/step - loss: 1.0514 - mae: 0.7947 - val_loss: 15.1687 - val_mae: 2.4924\n",
            "Epoch 369/500\n",
            "316/323 [============================>.] - ETA: 0s - loss: 1.0477 - mae: 0.7699"
          ]
        },
        {
          "output_type": "stream",
          "name": "stderr",
          "text": [
            "WARNING:tensorflow:Early stopping conditioned on metric `val_mse` which is not available. Available metrics are: loss,mae,val_loss,val_mae\n"
          ]
        },
        {
          "output_type": "stream",
          "name": "stdout",
          "text": [
            "\n",
            "Epoch 369: val_mae did not improve from 2.04043\n",
            "323/323 [==============================] - 1s 3ms/step - loss: 1.0500 - mae: 0.7697 - val_loss: 15.0366 - val_mae: 2.5819\n",
            "Epoch 370/500\n",
            "297/323 [==========================>...] - ETA: 0s - loss: 0.9232 - mae: 0.7457"
          ]
        },
        {
          "output_type": "stream",
          "name": "stderr",
          "text": [
            "WARNING:tensorflow:Early stopping conditioned on metric `val_mse` which is not available. Available metrics are: loss,mae,val_loss,val_mae\n"
          ]
        },
        {
          "output_type": "stream",
          "name": "stdout",
          "text": [
            "\n",
            "Epoch 370: val_mae did not improve from 2.04043\n",
            "323/323 [==============================] - 1s 2ms/step - loss: 0.8956 - mae: 0.7315 - val_loss: 15.4615 - val_mae: 2.4395\n",
            "Epoch 371/500\n",
            "315/323 [============================>.] - ETA: 0s - loss: 1.0128 - mae: 0.7569"
          ]
        },
        {
          "output_type": "stream",
          "name": "stderr",
          "text": [
            "WARNING:tensorflow:Early stopping conditioned on metric `val_mse` which is not available. Available metrics are: loss,mae,val_loss,val_mae\n"
          ]
        },
        {
          "output_type": "stream",
          "name": "stdout",
          "text": [
            "\n",
            "Epoch 371: val_mae did not improve from 2.04043\n",
            "323/323 [==============================] - 1s 2ms/step - loss: 1.0161 - mae: 0.7580 - val_loss: 17.6560 - val_mae: 2.6339\n",
            "Epoch 372/500\n",
            "310/323 [===========================>..] - ETA: 0s - loss: 0.8614 - mae: 0.7074"
          ]
        },
        {
          "output_type": "stream",
          "name": "stderr",
          "text": [
            "WARNING:tensorflow:Early stopping conditioned on metric `val_mse` which is not available. Available metrics are: loss,mae,val_loss,val_mae\n"
          ]
        },
        {
          "output_type": "stream",
          "name": "stdout",
          "text": [
            "\n",
            "Epoch 372: val_mae did not improve from 2.04043\n",
            "323/323 [==============================] - 1s 2ms/step - loss: 0.8644 - mae: 0.7079 - val_loss: 15.7233 - val_mae: 2.4965\n",
            "Epoch 373/500\n",
            "322/323 [============================>.] - ETA: 0s - loss: 0.9939 - mae: 0.7161"
          ]
        },
        {
          "output_type": "stream",
          "name": "stderr",
          "text": [
            "WARNING:tensorflow:Early stopping conditioned on metric `val_mse` which is not available. Available metrics are: loss,mae,val_loss,val_mae\n"
          ]
        },
        {
          "output_type": "stream",
          "name": "stdout",
          "text": [
            "\n",
            "Epoch 373: val_mae did not improve from 2.04043\n",
            "323/323 [==============================] - 1s 2ms/step - loss: 0.9917 - mae: 0.7156 - val_loss: 19.2596 - val_mae: 2.7481\n",
            "Epoch 374/500\n",
            "297/323 [==========================>...] - ETA: 0s - loss: 1.1732 - mae: 0.7619"
          ]
        },
        {
          "output_type": "stream",
          "name": "stderr",
          "text": [
            "WARNING:tensorflow:Early stopping conditioned on metric `val_mse` which is not available. Available metrics are: loss,mae,val_loss,val_mae\n"
          ]
        },
        {
          "output_type": "stream",
          "name": "stdout",
          "text": [
            "\n",
            "Epoch 374: val_mae did not improve from 2.04043\n",
            "323/323 [==============================] - 1s 2ms/step - loss: 1.1094 - mae: 0.7397 - val_loss: 16.6822 - val_mae: 2.7144\n",
            "Epoch 375/500\n",
            "295/323 [==========================>...] - ETA: 0s - loss: 0.9502 - mae: 0.7427"
          ]
        },
        {
          "output_type": "stream",
          "name": "stderr",
          "text": [
            "WARNING:tensorflow:Early stopping conditioned on metric `val_mse` which is not available. Available metrics are: loss,mae,val_loss,val_mae\n"
          ]
        },
        {
          "output_type": "stream",
          "name": "stdout",
          "text": [
            "\n",
            "Epoch 375: val_mae did not improve from 2.04043\n",
            "323/323 [==============================] - 1s 2ms/step - loss: 0.9567 - mae: 0.7451 - val_loss: 14.5050 - val_mae: 2.4432\n",
            "Epoch 376/500\n",
            "294/323 [==========================>...] - ETA: 0s - loss: 1.0088 - mae: 0.7396"
          ]
        },
        {
          "output_type": "stream",
          "name": "stderr",
          "text": [
            "WARNING:tensorflow:Early stopping conditioned on metric `val_mse` which is not available. Available metrics are: loss,mae,val_loss,val_mae\n"
          ]
        },
        {
          "output_type": "stream",
          "name": "stdout",
          "text": [
            "\n",
            "Epoch 376: val_mae did not improve from 2.04043\n",
            "323/323 [==============================] - 1s 2ms/step - loss: 1.0174 - mae: 0.7346 - val_loss: 16.4793 - val_mae: 2.6022\n",
            "Epoch 377/500\n",
            "295/323 [==========================>...] - ETA: 0s - loss: 0.9330 - mae: 0.7314"
          ]
        },
        {
          "output_type": "stream",
          "name": "stderr",
          "text": [
            "WARNING:tensorflow:Early stopping conditioned on metric `val_mse` which is not available. Available metrics are: loss,mae,val_loss,val_mae\n"
          ]
        },
        {
          "output_type": "stream",
          "name": "stdout",
          "text": [
            "\n",
            "Epoch 377: val_mae did not improve from 2.04043\n",
            "323/323 [==============================] - 1s 2ms/step - loss: 0.9070 - mae: 0.7269 - val_loss: 16.9250 - val_mae: 2.6478\n",
            "Epoch 378/500\n",
            "316/323 [============================>.] - ETA: 0s - loss: 1.1140 - mae: 0.7788"
          ]
        },
        {
          "output_type": "stream",
          "name": "stderr",
          "text": [
            "WARNING:tensorflow:Early stopping conditioned on metric `val_mse` which is not available. Available metrics are: loss,mae,val_loss,val_mae\n"
          ]
        },
        {
          "output_type": "stream",
          "name": "stdout",
          "text": [
            "\n",
            "Epoch 378: val_mae did not improve from 2.04043\n",
            "323/323 [==============================] - 1s 2ms/step - loss: 1.1379 - mae: 0.7849 - val_loss: 15.5074 - val_mae: 2.5178\n",
            "Epoch 379/500\n",
            "293/323 [==========================>...] - ETA: 0s - loss: 0.8691 - mae: 0.6798"
          ]
        },
        {
          "output_type": "stream",
          "name": "stderr",
          "text": [
            "WARNING:tensorflow:Early stopping conditioned on metric `val_mse` which is not available. Available metrics are: loss,mae,val_loss,val_mae\n"
          ]
        },
        {
          "output_type": "stream",
          "name": "stdout",
          "text": [
            "\n",
            "Epoch 379: val_mae did not improve from 2.04043\n",
            "323/323 [==============================] - 1s 2ms/step - loss: 0.9590 - mae: 0.7026 - val_loss: 16.1929 - val_mae: 2.6881\n",
            "Epoch 380/500\n",
            "313/323 [============================>.] - ETA: 0s - loss: 0.9687 - mae: 0.7644"
          ]
        },
        {
          "output_type": "stream",
          "name": "stderr",
          "text": [
            "WARNING:tensorflow:Early stopping conditioned on metric `val_mse` which is not available. Available metrics are: loss,mae,val_loss,val_mae\n"
          ]
        },
        {
          "output_type": "stream",
          "name": "stdout",
          "text": [
            "\n",
            "Epoch 380: val_mae did not improve from 2.04043\n",
            "323/323 [==============================] - 1s 2ms/step - loss: 0.9517 - mae: 0.7583 - val_loss: 17.2429 - val_mae: 2.6852\n",
            "Epoch 381/500\n",
            "299/323 [==========================>...] - ETA: 0s - loss: 0.9965 - mae: 0.7190"
          ]
        },
        {
          "output_type": "stream",
          "name": "stderr",
          "text": [
            "WARNING:tensorflow:Early stopping conditioned on metric `val_mse` which is not available. Available metrics are: loss,mae,val_loss,val_mae\n"
          ]
        },
        {
          "output_type": "stream",
          "name": "stdout",
          "text": [
            "\n",
            "Epoch 381: val_mae did not improve from 2.04043\n",
            "323/323 [==============================] - 1s 2ms/step - loss: 0.9631 - mae: 0.7120 - val_loss: 15.6610 - val_mae: 2.5509\n",
            "Epoch 382/500\n",
            "318/323 [============================>.] - ETA: 0s - loss: 1.0263 - mae: 0.7595"
          ]
        },
        {
          "output_type": "stream",
          "name": "stderr",
          "text": [
            "WARNING:tensorflow:Early stopping conditioned on metric `val_mse` which is not available. Available metrics are: loss,mae,val_loss,val_mae\n"
          ]
        },
        {
          "output_type": "stream",
          "name": "stdout",
          "text": [
            "\n",
            "Epoch 382: val_mae did not improve from 2.04043\n",
            "323/323 [==============================] - 1s 2ms/step - loss: 1.0374 - mae: 0.7654 - val_loss: 14.5015 - val_mae: 2.4838\n",
            "Epoch 383/500\n",
            "314/323 [============================>.] - ETA: 0s - loss: 1.0437 - mae: 0.7603"
          ]
        },
        {
          "output_type": "stream",
          "name": "stderr",
          "text": [
            "WARNING:tensorflow:Early stopping conditioned on metric `val_mse` which is not available. Available metrics are: loss,mae,val_loss,val_mae\n"
          ]
        },
        {
          "output_type": "stream",
          "name": "stdout",
          "text": [
            "\n",
            "Epoch 383: val_mae did not improve from 2.04043\n",
            "323/323 [==============================] - 1s 2ms/step - loss: 1.0308 - mae: 0.7537 - val_loss: 16.2558 - val_mae: 2.5866\n",
            "Epoch 384/500\n",
            "320/323 [============================>.] - ETA: 0s - loss: 1.0590 - mae: 0.7517"
          ]
        },
        {
          "output_type": "stream",
          "name": "stderr",
          "text": [
            "WARNING:tensorflow:Early stopping conditioned on metric `val_mse` which is not available. Available metrics are: loss,mae,val_loss,val_mae\n"
          ]
        },
        {
          "output_type": "stream",
          "name": "stdout",
          "text": [
            "\n",
            "Epoch 384: val_mae did not improve from 2.04043\n",
            "323/323 [==============================] - 1s 2ms/step - loss: 1.0497 - mae: 0.7464 - val_loss: 18.1626 - val_mae: 2.7297\n",
            "Epoch 385/500\n",
            "311/323 [===========================>..] - ETA: 0s - loss: 1.0665 - mae: 0.7532"
          ]
        },
        {
          "output_type": "stream",
          "name": "stderr",
          "text": [
            "WARNING:tensorflow:Early stopping conditioned on metric `val_mse` which is not available. Available metrics are: loss,mae,val_loss,val_mae\n"
          ]
        },
        {
          "output_type": "stream",
          "name": "stdout",
          "text": [
            "\n",
            "Epoch 385: val_mae did not improve from 2.04043\n",
            "323/323 [==============================] - 1s 3ms/step - loss: 1.0773 - mae: 0.7569 - val_loss: 17.7013 - val_mae: 2.6931\n",
            "Epoch 386/500\n",
            "321/323 [============================>.] - ETA: 0s - loss: 0.8893 - mae: 0.7090"
          ]
        },
        {
          "output_type": "stream",
          "name": "stderr",
          "text": [
            "WARNING:tensorflow:Early stopping conditioned on metric `val_mse` which is not available. Available metrics are: loss,mae,val_loss,val_mae\n"
          ]
        },
        {
          "output_type": "stream",
          "name": "stdout",
          "text": [
            "\n",
            "Epoch 386: val_mae did not improve from 2.04043\n",
            "323/323 [==============================] - 1s 3ms/step - loss: 0.8842 - mae: 0.7062 - val_loss: 16.0029 - val_mae: 2.6067\n",
            "Epoch 387/500\n",
            "311/323 [===========================>..] - ETA: 0s - loss: 1.0902 - mae: 0.7556"
          ]
        },
        {
          "output_type": "stream",
          "name": "stderr",
          "text": [
            "WARNING:tensorflow:Early stopping conditioned on metric `val_mse` which is not available. Available metrics are: loss,mae,val_loss,val_mae\n"
          ]
        },
        {
          "output_type": "stream",
          "name": "stdout",
          "text": [
            "\n",
            "Epoch 387: val_mae did not improve from 2.04043\n",
            "323/323 [==============================] - 1s 3ms/step - loss: 1.0649 - mae: 0.7480 - val_loss: 16.3400 - val_mae: 2.6785\n",
            "Epoch 388/500\n",
            "317/323 [============================>.] - ETA: 0s - loss: 0.9734 - mae: 0.7280"
          ]
        },
        {
          "output_type": "stream",
          "name": "stderr",
          "text": [
            "WARNING:tensorflow:Early stopping conditioned on metric `val_mse` which is not available. Available metrics are: loss,mae,val_loss,val_mae\n"
          ]
        },
        {
          "output_type": "stream",
          "name": "stdout",
          "text": [
            "\n",
            "Epoch 388: val_mae did not improve from 2.04043\n",
            "323/323 [==============================] - 1s 3ms/step - loss: 0.9661 - mae: 0.7268 - val_loss: 16.5117 - val_mae: 2.6193\n",
            "Epoch 389/500\n",
            "301/323 [==========================>...] - ETA: 0s - loss: 0.9617 - mae: 0.7235"
          ]
        },
        {
          "output_type": "stream",
          "name": "stderr",
          "text": [
            "WARNING:tensorflow:Early stopping conditioned on metric `val_mse` which is not available. Available metrics are: loss,mae,val_loss,val_mae\n"
          ]
        },
        {
          "output_type": "stream",
          "name": "stdout",
          "text": [
            "\n",
            "Epoch 389: val_mae did not improve from 2.04043\n",
            "323/323 [==============================] - 1s 2ms/step - loss: 0.9415 - mae: 0.7194 - val_loss: 15.8352 - val_mae: 2.5649\n",
            "Epoch 390/500\n",
            "313/323 [============================>.] - ETA: 0s - loss: 0.8650 - mae: 0.7056"
          ]
        },
        {
          "output_type": "stream",
          "name": "stderr",
          "text": [
            "WARNING:tensorflow:Early stopping conditioned on metric `val_mse` which is not available. Available metrics are: loss,mae,val_loss,val_mae\n"
          ]
        },
        {
          "output_type": "stream",
          "name": "stdout",
          "text": [
            "\n",
            "Epoch 390: val_mae did not improve from 2.04043\n",
            "323/323 [==============================] - 1s 2ms/step - loss: 0.9375 - mae: 0.7307 - val_loss: 14.9174 - val_mae: 2.5163\n",
            "Epoch 391/500\n",
            "316/323 [============================>.] - ETA: 0s - loss: 0.9968 - mae: 0.7455"
          ]
        },
        {
          "output_type": "stream",
          "name": "stderr",
          "text": [
            "WARNING:tensorflow:Early stopping conditioned on metric `val_mse` which is not available. Available metrics are: loss,mae,val_loss,val_mae\n"
          ]
        },
        {
          "output_type": "stream",
          "name": "stdout",
          "text": [
            "\n",
            "Epoch 391: val_mae did not improve from 2.04043\n",
            "323/323 [==============================] - 1s 2ms/step - loss: 0.9946 - mae: 0.7463 - val_loss: 15.9129 - val_mae: 2.5770\n",
            "Epoch 392/500\n",
            "297/323 [==========================>...] - ETA: 0s - loss: 0.8525 - mae: 0.6842"
          ]
        },
        {
          "output_type": "stream",
          "name": "stderr",
          "text": [
            "WARNING:tensorflow:Early stopping conditioned on metric `val_mse` which is not available. Available metrics are: loss,mae,val_loss,val_mae\n"
          ]
        },
        {
          "output_type": "stream",
          "name": "stdout",
          "text": [
            "\n",
            "Epoch 392: val_mae did not improve from 2.04043\n",
            "323/323 [==============================] - 1s 2ms/step - loss: 0.8726 - mae: 0.6917 - val_loss: 16.5317 - val_mae: 2.6779\n",
            "Epoch 393/500\n",
            "291/323 [==========================>...] - ETA: 0s - loss: 0.9991 - mae: 0.7361"
          ]
        },
        {
          "output_type": "stream",
          "name": "stderr",
          "text": [
            "WARNING:tensorflow:Early stopping conditioned on metric `val_mse` which is not available. Available metrics are: loss,mae,val_loss,val_mae\n"
          ]
        },
        {
          "output_type": "stream",
          "name": "stdout",
          "text": [
            "\n",
            "Epoch 393: val_mae did not improve from 2.04043\n",
            "323/323 [==============================] - 1s 2ms/step - loss: 0.9755 - mae: 0.7292 - val_loss: 16.8012 - val_mae: 2.8470\n",
            "Epoch 394/500\n",
            "312/323 [===========================>..] - ETA: 0s - loss: 0.9585 - mae: 0.7060"
          ]
        },
        {
          "output_type": "stream",
          "name": "stderr",
          "text": [
            "WARNING:tensorflow:Early stopping conditioned on metric `val_mse` which is not available. Available metrics are: loss,mae,val_loss,val_mae\n"
          ]
        },
        {
          "output_type": "stream",
          "name": "stdout",
          "text": [
            "\n",
            "Epoch 394: val_mae did not improve from 2.04043\n",
            "323/323 [==============================] - 1s 2ms/step - loss: 0.9835 - mae: 0.7189 - val_loss: 17.0556 - val_mae: 2.6861\n",
            "Epoch 395/500\n",
            "300/323 [==========================>...] - ETA: 0s - loss: 0.9774 - mae: 0.7359"
          ]
        },
        {
          "output_type": "stream",
          "name": "stderr",
          "text": [
            "WARNING:tensorflow:Early stopping conditioned on metric `val_mse` which is not available. Available metrics are: loss,mae,val_loss,val_mae\n"
          ]
        },
        {
          "output_type": "stream",
          "name": "stdout",
          "text": [
            "\n",
            "Epoch 395: val_mae did not improve from 2.04043\n",
            "323/323 [==============================] - 1s 2ms/step - loss: 0.9718 - mae: 0.7403 - val_loss: 14.5560 - val_mae: 2.5383\n",
            "Epoch 396/500\n",
            "295/323 [==========================>...] - ETA: 0s - loss: 0.9900 - mae: 0.7545"
          ]
        },
        {
          "output_type": "stream",
          "name": "stderr",
          "text": [
            "WARNING:tensorflow:Early stopping conditioned on metric `val_mse` which is not available. Available metrics are: loss,mae,val_loss,val_mae\n"
          ]
        },
        {
          "output_type": "stream",
          "name": "stdout",
          "text": [
            "\n",
            "Epoch 396: val_mae did not improve from 2.04043\n",
            "323/323 [==============================] - 1s 2ms/step - loss: 0.9771 - mae: 0.7474 - val_loss: 15.2678 - val_mae: 2.5876\n",
            "Epoch 397/500\n",
            "318/323 [============================>.] - ETA: 0s - loss: 0.9355 - mae: 0.7234"
          ]
        },
        {
          "output_type": "stream",
          "name": "stderr",
          "text": [
            "WARNING:tensorflow:Early stopping conditioned on metric `val_mse` which is not available. Available metrics are: loss,mae,val_loss,val_mae\n"
          ]
        },
        {
          "output_type": "stream",
          "name": "stdout",
          "text": [
            "\n",
            "Epoch 397: val_mae did not improve from 2.04043\n",
            "323/323 [==============================] - 1s 2ms/step - loss: 0.9299 - mae: 0.7217 - val_loss: 14.8135 - val_mae: 2.5009\n",
            "Epoch 398/500\n",
            "319/323 [============================>.] - ETA: 0s - loss: 0.9151 - mae: 0.6930"
          ]
        },
        {
          "output_type": "stream",
          "name": "stderr",
          "text": [
            "WARNING:tensorflow:Early stopping conditioned on metric `val_mse` which is not available. Available metrics are: loss,mae,val_loss,val_mae\n"
          ]
        },
        {
          "output_type": "stream",
          "name": "stdout",
          "text": [
            "\n",
            "Epoch 398: val_mae did not improve from 2.04043\n",
            "323/323 [==============================] - 1s 2ms/step - loss: 0.9101 - mae: 0.6906 - val_loss: 16.5175 - val_mae: 2.5557\n",
            "Epoch 399/500\n",
            "322/323 [============================>.] - ETA: 0s - loss: 1.0152 - mae: 0.7060"
          ]
        },
        {
          "output_type": "stream",
          "name": "stderr",
          "text": [
            "WARNING:tensorflow:Early stopping conditioned on metric `val_mse` which is not available. Available metrics are: loss,mae,val_loss,val_mae\n"
          ]
        },
        {
          "output_type": "stream",
          "name": "stdout",
          "text": [
            "\n",
            "Epoch 399: val_mae did not improve from 2.04043\n",
            "323/323 [==============================] - 1s 2ms/step - loss: 1.0120 - mae: 0.7041 - val_loss: 14.6852 - val_mae: 2.6499\n",
            "Epoch 400/500\n",
            "323/323 [==============================] - ETA: 0s - loss: 0.9861 - mae: 0.7640"
          ]
        },
        {
          "output_type": "stream",
          "name": "stderr",
          "text": [
            "WARNING:tensorflow:Early stopping conditioned on metric `val_mse` which is not available. Available metrics are: loss,mae,val_loss,val_mae\n"
          ]
        },
        {
          "output_type": "stream",
          "name": "stdout",
          "text": [
            "\n",
            "Epoch 400: val_mae did not improve from 2.04043\n",
            "323/323 [==============================] - 1s 2ms/step - loss: 0.9861 - mae: 0.7640 - val_loss: 14.8630 - val_mae: 2.4360\n",
            "Epoch 401/500\n",
            "294/323 [==========================>...] - ETA: 0s - loss: 0.9785 - mae: 0.7441"
          ]
        },
        {
          "output_type": "stream",
          "name": "stderr",
          "text": [
            "WARNING:tensorflow:Early stopping conditioned on metric `val_mse` which is not available. Available metrics are: loss,mae,val_loss,val_mae\n"
          ]
        },
        {
          "output_type": "stream",
          "name": "stdout",
          "text": [
            "\n",
            "Epoch 401: val_mae did not improve from 2.04043\n",
            "323/323 [==============================] - 1s 2ms/step - loss: 0.9586 - mae: 0.7427 - val_loss: 16.7605 - val_mae: 2.6079\n",
            "Epoch 402/500\n",
            "296/323 [==========================>...] - ETA: 0s - loss: 0.8437 - mae: 0.6918"
          ]
        },
        {
          "output_type": "stream",
          "name": "stderr",
          "text": [
            "WARNING:tensorflow:Early stopping conditioned on metric `val_mse` which is not available. Available metrics are: loss,mae,val_loss,val_mae\n"
          ]
        },
        {
          "output_type": "stream",
          "name": "stdout",
          "text": [
            "\n",
            "Epoch 402: val_mae did not improve from 2.04043\n",
            "323/323 [==============================] - 1s 2ms/step - loss: 0.8798 - mae: 0.7077 - val_loss: 15.6471 - val_mae: 2.6172\n",
            "Epoch 403/500\n",
            "300/323 [==========================>...] - ETA: 0s - loss: 0.9657 - mae: 0.7359"
          ]
        },
        {
          "output_type": "stream",
          "name": "stderr",
          "text": [
            "WARNING:tensorflow:Early stopping conditioned on metric `val_mse` which is not available. Available metrics are: loss,mae,val_loss,val_mae\n"
          ]
        },
        {
          "output_type": "stream",
          "name": "stdout",
          "text": [
            "\n",
            "Epoch 403: val_mae did not improve from 2.04043\n",
            "323/323 [==============================] - 1s 2ms/step - loss: 0.9435 - mae: 0.7281 - val_loss: 16.7532 - val_mae: 2.5887\n",
            "Epoch 404/500\n",
            "316/323 [============================>.] - ETA: 0s - loss: 0.8630 - mae: 0.6973"
          ]
        },
        {
          "output_type": "stream",
          "name": "stderr",
          "text": [
            "WARNING:tensorflow:Early stopping conditioned on metric `val_mse` which is not available. Available metrics are: loss,mae,val_loss,val_mae\n"
          ]
        },
        {
          "output_type": "stream",
          "name": "stdout",
          "text": [
            "\n",
            "Epoch 404: val_mae did not improve from 2.04043\n",
            "323/323 [==============================] - 1s 2ms/step - loss: 0.8498 - mae: 0.6912 - val_loss: 15.1099 - val_mae: 2.5209\n",
            "Epoch 405/500\n",
            "321/323 [============================>.] - ETA: 0s - loss: 1.0256 - mae: 0.7438"
          ]
        },
        {
          "output_type": "stream",
          "name": "stderr",
          "text": [
            "WARNING:tensorflow:Early stopping conditioned on metric `val_mse` which is not available. Available metrics are: loss,mae,val_loss,val_mae\n"
          ]
        },
        {
          "output_type": "stream",
          "name": "stdout",
          "text": [
            "\n",
            "Epoch 405: val_mae did not improve from 2.04043\n",
            "323/323 [==============================] - 1s 3ms/step - loss: 1.0194 - mae: 0.7400 - val_loss: 16.3050 - val_mae: 2.6130\n",
            "Epoch 406/500\n",
            "313/323 [============================>.] - ETA: 0s - loss: 0.9339 - mae: 0.7108"
          ]
        },
        {
          "output_type": "stream",
          "name": "stderr",
          "text": [
            "WARNING:tensorflow:Early stopping conditioned on metric `val_mse` which is not available. Available metrics are: loss,mae,val_loss,val_mae\n"
          ]
        },
        {
          "output_type": "stream",
          "name": "stdout",
          "text": [
            "\n",
            "Epoch 406: val_mae did not improve from 2.04043\n",
            "323/323 [==============================] - 1s 3ms/step - loss: 0.9279 - mae: 0.7111 - val_loss: 14.3800 - val_mae: 2.5822\n",
            "Epoch 407/500\n",
            "304/323 [===========================>..] - ETA: 0s - loss: 0.8758 - mae: 0.6918"
          ]
        },
        {
          "output_type": "stream",
          "name": "stderr",
          "text": [
            "WARNING:tensorflow:Early stopping conditioned on metric `val_mse` which is not available. Available metrics are: loss,mae,val_loss,val_mae\n"
          ]
        },
        {
          "output_type": "stream",
          "name": "stdout",
          "text": [
            "\n",
            "Epoch 407: val_mae did not improve from 2.04043\n",
            "323/323 [==============================] - 1s 2ms/step - loss: 0.8723 - mae: 0.6966 - val_loss: 16.1536 - val_mae: 2.4745\n",
            "Epoch 408/500\n",
            "320/323 [============================>.] - ETA: 0s - loss: 1.0564 - mae: 0.7453"
          ]
        },
        {
          "output_type": "stream",
          "name": "stderr",
          "text": [
            "WARNING:tensorflow:Early stopping conditioned on metric `val_mse` which is not available. Available metrics are: loss,mae,val_loss,val_mae\n"
          ]
        },
        {
          "output_type": "stream",
          "name": "stdout",
          "text": [
            "\n",
            "Epoch 408: val_mae did not improve from 2.04043\n",
            "323/323 [==============================] - 1s 2ms/step - loss: 1.0588 - mae: 0.7487 - val_loss: 15.1143 - val_mae: 2.5574\n",
            "Epoch 409/500\n",
            "298/323 [==========================>...] - ETA: 0s - loss: 0.9923 - mae: 0.7602"
          ]
        },
        {
          "output_type": "stream",
          "name": "stderr",
          "text": [
            "WARNING:tensorflow:Early stopping conditioned on metric `val_mse` which is not available. Available metrics are: loss,mae,val_loss,val_mae\n"
          ]
        },
        {
          "output_type": "stream",
          "name": "stdout",
          "text": [
            "\n",
            "Epoch 409: val_mae did not improve from 2.04043\n",
            "323/323 [==============================] - 1s 2ms/step - loss: 0.9523 - mae: 0.7443 - val_loss: 13.1472 - val_mae: 2.4806\n",
            "Epoch 410/500\n",
            "321/323 [============================>.] - ETA: 0s - loss: 0.9165 - mae: 0.7205"
          ]
        },
        {
          "output_type": "stream",
          "name": "stderr",
          "text": [
            "WARNING:tensorflow:Early stopping conditioned on metric `val_mse` which is not available. Available metrics are: loss,mae,val_loss,val_mae\n"
          ]
        },
        {
          "output_type": "stream",
          "name": "stdout",
          "text": [
            "\n",
            "Epoch 410: val_mae did not improve from 2.04043\n",
            "323/323 [==============================] - 1s 2ms/step - loss: 0.9130 - mae: 0.7196 - val_loss: 15.9317 - val_mae: 2.6099\n",
            "Epoch 411/500\n",
            "296/323 [==========================>...] - ETA: 0s - loss: 1.0003 - mae: 0.7204"
          ]
        },
        {
          "output_type": "stream",
          "name": "stderr",
          "text": [
            "WARNING:tensorflow:Early stopping conditioned on metric `val_mse` which is not available. Available metrics are: loss,mae,val_loss,val_mae\n"
          ]
        },
        {
          "output_type": "stream",
          "name": "stdout",
          "text": [
            "\n",
            "Epoch 411: val_mae did not improve from 2.04043\n",
            "323/323 [==============================] - 1s 2ms/step - loss: 0.9964 - mae: 0.7231 - val_loss: 16.8070 - val_mae: 2.7059\n",
            "Epoch 412/500\n",
            "289/323 [=========================>....] - ETA: 0s - loss: 0.9273 - mae: 0.7203"
          ]
        },
        {
          "output_type": "stream",
          "name": "stderr",
          "text": [
            "WARNING:tensorflow:Early stopping conditioned on metric `val_mse` which is not available. Available metrics are: loss,mae,val_loss,val_mae\n"
          ]
        },
        {
          "output_type": "stream",
          "name": "stdout",
          "text": [
            "\n",
            "Epoch 412: val_mae did not improve from 2.04043\n",
            "323/323 [==============================] - 1s 2ms/step - loss: 0.9638 - mae: 0.7301 - val_loss: 17.5645 - val_mae: 2.6444\n",
            "Epoch 413/500\n",
            "298/323 [==========================>...] - ETA: 0s - loss: 1.0325 - mae: 0.7200"
          ]
        },
        {
          "output_type": "stream",
          "name": "stderr",
          "text": [
            "WARNING:tensorflow:Early stopping conditioned on metric `val_mse` which is not available. Available metrics are: loss,mae,val_loss,val_mae\n"
          ]
        },
        {
          "output_type": "stream",
          "name": "stdout",
          "text": [
            "\n",
            "Epoch 413: val_mae did not improve from 2.04043\n",
            "323/323 [==============================] - 1s 2ms/step - loss: 1.0574 - mae: 0.7313 - val_loss: 15.9345 - val_mae: 2.6820\n",
            "Epoch 414/500\n",
            "289/323 [=========================>....] - ETA: 0s - loss: 0.8558 - mae: 0.6932"
          ]
        },
        {
          "output_type": "stream",
          "name": "stderr",
          "text": [
            "WARNING:tensorflow:Early stopping conditioned on metric `val_mse` which is not available. Available metrics are: loss,mae,val_loss,val_mae\n"
          ]
        },
        {
          "output_type": "stream",
          "name": "stdout",
          "text": [
            "\n",
            "Epoch 414: val_mae did not improve from 2.04043\n",
            "323/323 [==============================] - 1s 2ms/step - loss: 0.9022 - mae: 0.7121 - val_loss: 15.9513 - val_mae: 2.5441\n",
            "Epoch 415/500\n",
            "294/323 [==========================>...] - ETA: 0s - loss: 0.8071 - mae: 0.6922"
          ]
        },
        {
          "output_type": "stream",
          "name": "stderr",
          "text": [
            "WARNING:tensorflow:Early stopping conditioned on metric `val_mse` which is not available. Available metrics are: loss,mae,val_loss,val_mae\n"
          ]
        },
        {
          "output_type": "stream",
          "name": "stdout",
          "text": [
            "\n",
            "Epoch 415: val_mae did not improve from 2.04043\n",
            "323/323 [==============================] - 1s 2ms/step - loss: 0.7961 - mae: 0.6856 - val_loss: 15.0233 - val_mae: 2.4167\n",
            "Epoch 416/500\n",
            "304/323 [===========================>..] - ETA: 0s - loss: 0.8862 - mae: 0.6876"
          ]
        },
        {
          "output_type": "stream",
          "name": "stderr",
          "text": [
            "WARNING:tensorflow:Early stopping conditioned on metric `val_mse` which is not available. Available metrics are: loss,mae,val_loss,val_mae\n"
          ]
        },
        {
          "output_type": "stream",
          "name": "stdout",
          "text": [
            "\n",
            "Epoch 416: val_mae did not improve from 2.04043\n",
            "323/323 [==============================] - 1s 2ms/step - loss: 0.8946 - mae: 0.6973 - val_loss: 15.5057 - val_mae: 2.6832\n",
            "Epoch 417/500\n",
            "317/323 [============================>.] - ETA: 0s - loss: 0.9160 - mae: 0.6851"
          ]
        },
        {
          "output_type": "stream",
          "name": "stderr",
          "text": [
            "WARNING:tensorflow:Early stopping conditioned on metric `val_mse` which is not available. Available metrics are: loss,mae,val_loss,val_mae\n"
          ]
        },
        {
          "output_type": "stream",
          "name": "stdout",
          "text": [
            "\n",
            "Epoch 417: val_mae did not improve from 2.04043\n",
            "323/323 [==============================] - 1s 3ms/step - loss: 0.9054 - mae: 0.6821 - val_loss: 17.4527 - val_mae: 2.6093\n",
            "Epoch 418/500\n",
            "313/323 [============================>.] - ETA: 0s - loss: 0.9094 - mae: 0.6866"
          ]
        },
        {
          "output_type": "stream",
          "name": "stderr",
          "text": [
            "WARNING:tensorflow:Early stopping conditioned on metric `val_mse` which is not available. Available metrics are: loss,mae,val_loss,val_mae\n"
          ]
        },
        {
          "output_type": "stream",
          "name": "stdout",
          "text": [
            "\n",
            "Epoch 418: val_mae did not improve from 2.04043\n",
            "323/323 [==============================] - 1s 2ms/step - loss: 0.9028 - mae: 0.6879 - val_loss: 15.1779 - val_mae: 2.5241\n",
            "Epoch 419/500\n",
            "305/323 [===========================>..] - ETA: 0s - loss: 0.8963 - mae: 0.7204"
          ]
        },
        {
          "output_type": "stream",
          "name": "stderr",
          "text": [
            "WARNING:tensorflow:Early stopping conditioned on metric `val_mse` which is not available. Available metrics are: loss,mae,val_loss,val_mae\n"
          ]
        },
        {
          "output_type": "stream",
          "name": "stdout",
          "text": [
            "\n",
            "Epoch 419: val_mae did not improve from 2.04043\n",
            "323/323 [==============================] - 1s 2ms/step - loss: 0.8904 - mae: 0.7209 - val_loss: 14.0149 - val_mae: 2.4497\n",
            "Epoch 420/500\n",
            "313/323 [============================>.] - ETA: 0s - loss: 0.8884 - mae: 0.6923"
          ]
        },
        {
          "output_type": "stream",
          "name": "stderr",
          "text": [
            "WARNING:tensorflow:Early stopping conditioned on metric `val_mse` which is not available. Available metrics are: loss,mae,val_loss,val_mae\n"
          ]
        },
        {
          "output_type": "stream",
          "name": "stdout",
          "text": [
            "\n",
            "Epoch 420: val_mae did not improve from 2.04043\n",
            "323/323 [==============================] - 1s 3ms/step - loss: 0.8656 - mae: 0.6799 - val_loss: 16.4265 - val_mae: 2.6921\n",
            "Epoch 421/500\n",
            "305/323 [===========================>..] - ETA: 0s - loss: 0.9017 - mae: 0.6757"
          ]
        },
        {
          "output_type": "stream",
          "name": "stderr",
          "text": [
            "WARNING:tensorflow:Early stopping conditioned on metric `val_mse` which is not available. Available metrics are: loss,mae,val_loss,val_mae\n"
          ]
        },
        {
          "output_type": "stream",
          "name": "stdout",
          "text": [
            "\n",
            "Epoch 421: val_mae did not improve from 2.04043\n",
            "323/323 [==============================] - 1s 2ms/step - loss: 0.8774 - mae: 0.6690 - val_loss: 14.2178 - val_mae: 2.5196\n",
            "Epoch 422/500\n",
            "306/323 [===========================>..] - ETA: 0s - loss: 0.9491 - mae: 0.7164"
          ]
        },
        {
          "output_type": "stream",
          "name": "stderr",
          "text": [
            "WARNING:tensorflow:Early stopping conditioned on metric `val_mse` which is not available. Available metrics are: loss,mae,val_loss,val_mae\n"
          ]
        },
        {
          "output_type": "stream",
          "name": "stdout",
          "text": [
            "\n",
            "Epoch 422: val_mae did not improve from 2.04043\n",
            "323/323 [==============================] - 1s 2ms/step - loss: 0.9170 - mae: 0.7038 - val_loss: 15.6914 - val_mae: 2.5573\n",
            "Epoch 423/500\n",
            "316/323 [============================>.] - ETA: 0s - loss: 0.8526 - mae: 0.6952"
          ]
        },
        {
          "output_type": "stream",
          "name": "stderr",
          "text": [
            "WARNING:tensorflow:Early stopping conditioned on metric `val_mse` which is not available. Available metrics are: loss,mae,val_loss,val_mae\n"
          ]
        },
        {
          "output_type": "stream",
          "name": "stdout",
          "text": [
            "\n",
            "Epoch 423: val_mae did not improve from 2.04043\n",
            "323/323 [==============================] - 1s 3ms/step - loss: 0.8708 - mae: 0.6955 - val_loss: 15.7299 - val_mae: 2.6967\n",
            "Epoch 424/500\n",
            "305/323 [===========================>..] - ETA: 0s - loss: 1.0317 - mae: 0.7589"
          ]
        },
        {
          "output_type": "stream",
          "name": "stderr",
          "text": [
            "WARNING:tensorflow:Early stopping conditioned on metric `val_mse` which is not available. Available metrics are: loss,mae,val_loss,val_mae\n"
          ]
        },
        {
          "output_type": "stream",
          "name": "stdout",
          "text": [
            "\n",
            "Epoch 424: val_mae did not improve from 2.04043\n",
            "323/323 [==============================] - 1s 3ms/step - loss: 1.0105 - mae: 0.7543 - val_loss: 15.4557 - val_mae: 2.6774\n",
            "Epoch 425/500\n",
            "316/323 [============================>.] - ETA: 0s - loss: 0.8934 - mae: 0.7072"
          ]
        },
        {
          "output_type": "stream",
          "name": "stderr",
          "text": [
            "WARNING:tensorflow:Early stopping conditioned on metric `val_mse` which is not available. Available metrics are: loss,mae,val_loss,val_mae\n"
          ]
        },
        {
          "output_type": "stream",
          "name": "stdout",
          "text": [
            "\n",
            "Epoch 425: val_mae did not improve from 2.04043\n",
            "323/323 [==============================] - 1s 3ms/step - loss: 0.9288 - mae: 0.7147 - val_loss: 15.7750 - val_mae: 2.5823\n",
            "Epoch 426/500\n",
            "323/323 [==============================] - ETA: 0s - loss: 1.0487 - mae: 0.7275"
          ]
        },
        {
          "output_type": "stream",
          "name": "stderr",
          "text": [
            "WARNING:tensorflow:Early stopping conditioned on metric `val_mse` which is not available. Available metrics are: loss,mae,val_loss,val_mae\n"
          ]
        },
        {
          "output_type": "stream",
          "name": "stdout",
          "text": [
            "\n",
            "Epoch 426: val_mae did not improve from 2.04043\n",
            "323/323 [==============================] - 1s 2ms/step - loss: 1.0487 - mae: 0.7275 - val_loss: 16.3320 - val_mae: 2.7030\n",
            "Epoch 427/500\n",
            "313/323 [============================>.] - ETA: 0s - loss: 0.9941 - mae: 0.7085"
          ]
        },
        {
          "output_type": "stream",
          "name": "stderr",
          "text": [
            "WARNING:tensorflow:Early stopping conditioned on metric `val_mse` which is not available. Available metrics are: loss,mae,val_loss,val_mae\n"
          ]
        },
        {
          "output_type": "stream",
          "name": "stdout",
          "text": [
            "\n",
            "Epoch 427: val_mae did not improve from 2.04043\n",
            "323/323 [==============================] - 1s 2ms/step - loss: 0.9843 - mae: 0.7074 - val_loss: 15.5576 - val_mae: 2.5222\n",
            "Epoch 428/500\n",
            "320/323 [============================>.] - ETA: 0s - loss: 0.9381 - mae: 0.7233"
          ]
        },
        {
          "output_type": "stream",
          "name": "stderr",
          "text": [
            "WARNING:tensorflow:Early stopping conditioned on metric `val_mse` which is not available. Available metrics are: loss,mae,val_loss,val_mae\n"
          ]
        },
        {
          "output_type": "stream",
          "name": "stdout",
          "text": [
            "\n",
            "Epoch 428: val_mae did not improve from 2.04043\n",
            "323/323 [==============================] - 1s 2ms/step - loss: 0.9301 - mae: 0.7186 - val_loss: 16.4229 - val_mae: 2.5799\n",
            "Epoch 429/500\n",
            "289/323 [=========================>....] - ETA: 0s - loss: 0.9541 - mae: 0.7167"
          ]
        },
        {
          "output_type": "stream",
          "name": "stderr",
          "text": [
            "WARNING:tensorflow:Early stopping conditioned on metric `val_mse` which is not available. Available metrics are: loss,mae,val_loss,val_mae\n"
          ]
        },
        {
          "output_type": "stream",
          "name": "stdout",
          "text": [
            "\n",
            "Epoch 429: val_mae did not improve from 2.04043\n",
            "323/323 [==============================] - 1s 2ms/step - loss: 1.0019 - mae: 0.7223 - val_loss: 15.7932 - val_mae: 2.6042\n",
            "Epoch 430/500\n",
            "317/323 [============================>.] - ETA: 0s - loss: 0.8112 - mae: 0.6635"
          ]
        },
        {
          "output_type": "stream",
          "name": "stderr",
          "text": [
            "WARNING:tensorflow:Early stopping conditioned on metric `val_mse` which is not available. Available metrics are: loss,mae,val_loss,val_mae\n"
          ]
        },
        {
          "output_type": "stream",
          "name": "stdout",
          "text": [
            "\n",
            "Epoch 430: val_mae did not improve from 2.04043\n",
            "323/323 [==============================] - 1s 2ms/step - loss: 0.8317 - mae: 0.6701 - val_loss: 16.1093 - val_mae: 2.6687\n",
            "Epoch 431/500\n",
            "299/323 [==========================>...] - ETA: 0s - loss: 0.9448 - mae: 0.7123"
          ]
        },
        {
          "output_type": "stream",
          "name": "stderr",
          "text": [
            "WARNING:tensorflow:Early stopping conditioned on metric `val_mse` which is not available. Available metrics are: loss,mae,val_loss,val_mae\n"
          ]
        },
        {
          "output_type": "stream",
          "name": "stdout",
          "text": [
            "\n",
            "Epoch 431: val_mae did not improve from 2.04043\n",
            "323/323 [==============================] - 1s 2ms/step - loss: 0.9570 - mae: 0.7140 - val_loss: 15.6892 - val_mae: 2.6313\n",
            "Epoch 432/500\n",
            "301/323 [==========================>...] - ETA: 0s - loss: 0.9625 - mae: 0.6992"
          ]
        },
        {
          "output_type": "stream",
          "name": "stderr",
          "text": [
            "WARNING:tensorflow:Early stopping conditioned on metric `val_mse` which is not available. Available metrics are: loss,mae,val_loss,val_mae\n"
          ]
        },
        {
          "output_type": "stream",
          "name": "stdout",
          "text": [
            "\n",
            "Epoch 432: val_mae did not improve from 2.04043\n",
            "323/323 [==============================] - 1s 2ms/step - loss: 0.9317 - mae: 0.6920 - val_loss: 16.0722 - val_mae: 2.5324\n",
            "Epoch 433/500\n",
            "311/323 [===========================>..] - ETA: 0s - loss: 0.9083 - mae: 0.6940"
          ]
        },
        {
          "output_type": "stream",
          "name": "stderr",
          "text": [
            "WARNING:tensorflow:Early stopping conditioned on metric `val_mse` which is not available. Available metrics are: loss,mae,val_loss,val_mae\n"
          ]
        },
        {
          "output_type": "stream",
          "name": "stdout",
          "text": [
            "\n",
            "Epoch 433: val_mae did not improve from 2.04043\n",
            "323/323 [==============================] - 1s 2ms/step - loss: 0.9152 - mae: 0.7023 - val_loss: 16.2183 - val_mae: 2.6869\n",
            "Epoch 434/500\n",
            "298/323 [==========================>...] - ETA: 0s - loss: 0.7598 - mae: 0.6792"
          ]
        },
        {
          "output_type": "stream",
          "name": "stderr",
          "text": [
            "WARNING:tensorflow:Early stopping conditioned on metric `val_mse` which is not available. Available metrics are: loss,mae,val_loss,val_mae\n"
          ]
        },
        {
          "output_type": "stream",
          "name": "stdout",
          "text": [
            "\n",
            "Epoch 434: val_mae did not improve from 2.04043\n",
            "323/323 [==============================] - 1s 2ms/step - loss: 0.7879 - mae: 0.6882 - val_loss: 16.2828 - val_mae: 2.6965\n",
            "Epoch 435/500\n",
            "319/323 [============================>.] - ETA: 0s - loss: 0.9012 - mae: 0.6939"
          ]
        },
        {
          "output_type": "stream",
          "name": "stderr",
          "text": [
            "WARNING:tensorflow:Early stopping conditioned on metric `val_mse` which is not available. Available metrics are: loss,mae,val_loss,val_mae\n"
          ]
        },
        {
          "output_type": "stream",
          "name": "stdout",
          "text": [
            "\n",
            "Epoch 435: val_mae did not improve from 2.04043\n",
            "323/323 [==============================] - 1s 2ms/step - loss: 0.9021 - mae: 0.6956 - val_loss: 15.6279 - val_mae: 2.5817\n",
            "Epoch 436/500\n",
            "323/323 [==============================] - ETA: 0s - loss: 0.8533 - mae: 0.6665"
          ]
        },
        {
          "output_type": "stream",
          "name": "stderr",
          "text": [
            "WARNING:tensorflow:Early stopping conditioned on metric `val_mse` which is not available. Available metrics are: loss,mae,val_loss,val_mae\n"
          ]
        },
        {
          "output_type": "stream",
          "name": "stdout",
          "text": [
            "\n",
            "Epoch 436: val_mae did not improve from 2.04043\n",
            "323/323 [==============================] - 1s 2ms/step - loss: 0.8533 - mae: 0.6665 - val_loss: 16.7304 - val_mae: 2.7260\n",
            "Epoch 437/500\n",
            "291/323 [==========================>...] - ETA: 0s - loss: 0.8803 - mae: 0.7227"
          ]
        },
        {
          "output_type": "stream",
          "name": "stderr",
          "text": [
            "WARNING:tensorflow:Early stopping conditioned on metric `val_mse` which is not available. Available metrics are: loss,mae,val_loss,val_mae\n"
          ]
        },
        {
          "output_type": "stream",
          "name": "stdout",
          "text": [
            "\n",
            "Epoch 437: val_mae did not improve from 2.04043\n",
            "323/323 [==============================] - 1s 2ms/step - loss: 0.9231 - mae: 0.7362 - val_loss: 16.8675 - val_mae: 2.7383\n",
            "Epoch 438/500\n",
            "289/323 [=========================>....] - ETA: 0s - loss: 0.8490 - mae: 0.6666"
          ]
        },
        {
          "output_type": "stream",
          "name": "stderr",
          "text": [
            "WARNING:tensorflow:Early stopping conditioned on metric `val_mse` which is not available. Available metrics are: loss,mae,val_loss,val_mae\n"
          ]
        },
        {
          "output_type": "stream",
          "name": "stdout",
          "text": [
            "\n",
            "Epoch 438: val_mae did not improve from 2.04043\n",
            "323/323 [==============================] - 1s 2ms/step - loss: 0.8708 - mae: 0.6793 - val_loss: 18.2183 - val_mae: 2.7927\n",
            "Epoch 439/500\n",
            "319/323 [============================>.] - ETA: 0s - loss: 0.9610 - mae: 0.7228"
          ]
        },
        {
          "output_type": "stream",
          "name": "stderr",
          "text": [
            "WARNING:tensorflow:Early stopping conditioned on metric `val_mse` which is not available. Available metrics are: loss,mae,val_loss,val_mae\n"
          ]
        },
        {
          "output_type": "stream",
          "name": "stdout",
          "text": [
            "\n",
            "Epoch 439: val_mae did not improve from 2.04043\n",
            "323/323 [==============================] - 1s 2ms/step - loss: 0.9727 - mae: 0.7282 - val_loss: 16.4601 - val_mae: 2.7060\n",
            "Epoch 440/500\n",
            "318/323 [============================>.] - ETA: 0s - loss: 0.9791 - mae: 0.7405"
          ]
        },
        {
          "output_type": "stream",
          "name": "stderr",
          "text": [
            "WARNING:tensorflow:Early stopping conditioned on metric `val_mse` which is not available. Available metrics are: loss,mae,val_loss,val_mae\n"
          ]
        },
        {
          "output_type": "stream",
          "name": "stdout",
          "text": [
            "\n",
            "Epoch 440: val_mae did not improve from 2.04043\n",
            "323/323 [==============================] - 1s 2ms/step - loss: 0.9661 - mae: 0.7340 - val_loss: 16.3639 - val_mae: 2.6350\n",
            "Epoch 441/500\n",
            "300/323 [==========================>...] - ETA: 0s - loss: 0.9127 - mae: 0.7038"
          ]
        },
        {
          "output_type": "stream",
          "name": "stderr",
          "text": [
            "WARNING:tensorflow:Early stopping conditioned on metric `val_mse` which is not available. Available metrics are: loss,mae,val_loss,val_mae\n"
          ]
        },
        {
          "output_type": "stream",
          "name": "stdout",
          "text": [
            "\n",
            "Epoch 441: val_mae did not improve from 2.04043\n",
            "323/323 [==============================] - 1s 3ms/step - loss: 0.9510 - mae: 0.7212 - val_loss: 18.4086 - val_mae: 2.8359\n",
            "Epoch 442/500\n",
            "311/323 [===========================>..] - ETA: 0s - loss: 0.9660 - mae: 0.7287"
          ]
        },
        {
          "output_type": "stream",
          "name": "stderr",
          "text": [
            "WARNING:tensorflow:Early stopping conditioned on metric `val_mse` which is not available. Available metrics are: loss,mae,val_loss,val_mae\n"
          ]
        },
        {
          "output_type": "stream",
          "name": "stdout",
          "text": [
            "\n",
            "Epoch 442: val_mae did not improve from 2.04043\n",
            "323/323 [==============================] - 1s 3ms/step - loss: 0.9790 - mae: 0.7318 - val_loss: 16.6724 - val_mae: 2.6245\n",
            "Epoch 443/500\n",
            "320/323 [============================>.] - ETA: 0s - loss: 0.8699 - mae: 0.7025"
          ]
        },
        {
          "output_type": "stream",
          "name": "stderr",
          "text": [
            "WARNING:tensorflow:Early stopping conditioned on metric `val_mse` which is not available. Available metrics are: loss,mae,val_loss,val_mae\n"
          ]
        },
        {
          "output_type": "stream",
          "name": "stdout",
          "text": [
            "\n",
            "Epoch 443: val_mae did not improve from 2.04043\n",
            "323/323 [==============================] - 1s 2ms/step - loss: 0.8627 - mae: 0.6983 - val_loss: 15.5139 - val_mae: 2.5995\n",
            "Epoch 444/500\n",
            "299/323 [==========================>...] - ETA: 0s - loss: 0.8867 - mae: 0.6869"
          ]
        },
        {
          "output_type": "stream",
          "name": "stderr",
          "text": [
            "WARNING:tensorflow:Early stopping conditioned on metric `val_mse` which is not available. Available metrics are: loss,mae,val_loss,val_mae\n"
          ]
        },
        {
          "output_type": "stream",
          "name": "stdout",
          "text": [
            "\n",
            "Epoch 444: val_mae did not improve from 2.04043\n",
            "323/323 [==============================] - 1s 3ms/step - loss: 0.8700 - mae: 0.6820 - val_loss: 15.4788 - val_mae: 2.6693\n",
            "Epoch 445/500\n",
            "321/323 [============================>.] - ETA: 0s - loss: 0.9641 - mae: 0.7233"
          ]
        },
        {
          "output_type": "stream",
          "name": "stderr",
          "text": [
            "WARNING:tensorflow:Early stopping conditioned on metric `val_mse` which is not available. Available metrics are: loss,mae,val_loss,val_mae\n"
          ]
        },
        {
          "output_type": "stream",
          "name": "stdout",
          "text": [
            "\n",
            "Epoch 445: val_mae did not improve from 2.04043\n",
            "323/323 [==============================] - 1s 2ms/step - loss: 0.9588 - mae: 0.7208 - val_loss: 17.1509 - val_mae: 2.6539\n",
            "Epoch 446/500\n",
            "318/323 [============================>.] - ETA: 0s - loss: 0.9155 - mae: 0.6847"
          ]
        },
        {
          "output_type": "stream",
          "name": "stderr",
          "text": [
            "WARNING:tensorflow:Early stopping conditioned on metric `val_mse` which is not available. Available metrics are: loss,mae,val_loss,val_mae\n"
          ]
        },
        {
          "output_type": "stream",
          "name": "stdout",
          "text": [
            "\n",
            "Epoch 446: val_mae did not improve from 2.04043\n",
            "323/323 [==============================] - 1s 2ms/step - loss: 0.9086 - mae: 0.6834 - val_loss: 17.8052 - val_mae: 2.6371\n",
            "Epoch 447/500\n",
            "289/323 [=========================>....] - ETA: 0s - loss: 0.9007 - mae: 0.7023"
          ]
        },
        {
          "output_type": "stream",
          "name": "stderr",
          "text": [
            "WARNING:tensorflow:Early stopping conditioned on metric `val_mse` which is not available. Available metrics are: loss,mae,val_loss,val_mae\n"
          ]
        },
        {
          "output_type": "stream",
          "name": "stdout",
          "text": [
            "\n",
            "Epoch 447: val_mae did not improve from 2.04043\n",
            "323/323 [==============================] - 1s 2ms/step - loss: 0.9475 - mae: 0.7170 - val_loss: 15.4859 - val_mae: 2.5307\n",
            "Epoch 448/500\n",
            "301/323 [==========================>...] - ETA: 0s - loss: 1.0323 - mae: 0.7292"
          ]
        },
        {
          "output_type": "stream",
          "name": "stderr",
          "text": [
            "WARNING:tensorflow:Early stopping conditioned on metric `val_mse` which is not available. Available metrics are: loss,mae,val_loss,val_mae\n"
          ]
        },
        {
          "output_type": "stream",
          "name": "stdout",
          "text": [
            "\n",
            "Epoch 448: val_mae did not improve from 2.04043\n",
            "323/323 [==============================] - 1s 2ms/step - loss: 1.0156 - mae: 0.7267 - val_loss: 16.5711 - val_mae: 2.6447\n",
            "Epoch 449/500\n",
            "320/323 [============================>.] - ETA: 0s - loss: 0.7758 - mae: 0.6473"
          ]
        },
        {
          "output_type": "stream",
          "name": "stderr",
          "text": [
            "WARNING:tensorflow:Early stopping conditioned on metric `val_mse` which is not available. Available metrics are: loss,mae,val_loss,val_mae\n"
          ]
        },
        {
          "output_type": "stream",
          "name": "stdout",
          "text": [
            "\n",
            "Epoch 449: val_mae did not improve from 2.04043\n",
            "323/323 [==============================] - 1s 2ms/step - loss: 0.7821 - mae: 0.6501 - val_loss: 15.6635 - val_mae: 2.5684\n",
            "Epoch 450/500\n",
            "314/323 [============================>.] - ETA: 0s - loss: 1.0192 - mae: 0.6995"
          ]
        },
        {
          "output_type": "stream",
          "name": "stderr",
          "text": [
            "WARNING:tensorflow:Early stopping conditioned on metric `val_mse` which is not available. Available metrics are: loss,mae,val_loss,val_mae\n"
          ]
        },
        {
          "output_type": "stream",
          "name": "stdout",
          "text": [
            "\n",
            "Epoch 450: val_mae did not improve from 2.04043\n",
            "323/323 [==============================] - 1s 2ms/step - loss: 1.0199 - mae: 0.7019 - val_loss: 14.9751 - val_mae: 2.4613\n",
            "Epoch 451/500\n",
            "294/323 [==========================>...] - ETA: 0s - loss: 0.8882 - mae: 0.6910"
          ]
        },
        {
          "output_type": "stream",
          "name": "stderr",
          "text": [
            "WARNING:tensorflow:Early stopping conditioned on metric `val_mse` which is not available. Available metrics are: loss,mae,val_loss,val_mae\n"
          ]
        },
        {
          "output_type": "stream",
          "name": "stdout",
          "text": [
            "\n",
            "Epoch 451: val_mae did not improve from 2.04043\n",
            "323/323 [==============================] - 1s 2ms/step - loss: 0.9392 - mae: 0.7127 - val_loss: 16.8864 - val_mae: 2.7125\n",
            "Epoch 452/500\n",
            "301/323 [==========================>...] - ETA: 0s - loss: 0.9635 - mae: 0.7052"
          ]
        },
        {
          "output_type": "stream",
          "name": "stderr",
          "text": [
            "WARNING:tensorflow:Early stopping conditioned on metric `val_mse` which is not available. Available metrics are: loss,mae,val_loss,val_mae\n"
          ]
        },
        {
          "output_type": "stream",
          "name": "stdout",
          "text": [
            "\n",
            "Epoch 452: val_mae did not improve from 2.04043\n",
            "323/323 [==============================] - 1s 2ms/step - loss: 0.9180 - mae: 0.6861 - val_loss: 15.5651 - val_mae: 2.5609\n",
            "Epoch 453/500\n",
            "320/323 [============================>.] - ETA: 0s - loss: 0.8222 - mae: 0.6929"
          ]
        },
        {
          "output_type": "stream",
          "name": "stderr",
          "text": [
            "WARNING:tensorflow:Early stopping conditioned on metric `val_mse` which is not available. Available metrics are: loss,mae,val_loss,val_mae\n"
          ]
        },
        {
          "output_type": "stream",
          "name": "stdout",
          "text": [
            "\n",
            "Epoch 453: val_mae did not improve from 2.04043\n",
            "323/323 [==============================] - 1s 2ms/step - loss: 0.8271 - mae: 0.6968 - val_loss: 16.8840 - val_mae: 2.7590\n",
            "Epoch 454/500\n",
            "312/323 [===========================>..] - ETA: 0s - loss: 0.8514 - mae: 0.6605"
          ]
        },
        {
          "output_type": "stream",
          "name": "stderr",
          "text": [
            "WARNING:tensorflow:Early stopping conditioned on metric `val_mse` which is not available. Available metrics are: loss,mae,val_loss,val_mae\n"
          ]
        },
        {
          "output_type": "stream",
          "name": "stdout",
          "text": [
            "\n",
            "Epoch 454: val_mae did not improve from 2.04043\n",
            "323/323 [==============================] - 1s 2ms/step - loss: 0.8629 - mae: 0.6640 - val_loss: 18.2812 - val_mae: 2.7355\n",
            "Epoch 455/500\n",
            "318/323 [============================>.] - ETA: 0s - loss: 0.9761 - mae: 0.6902"
          ]
        },
        {
          "output_type": "stream",
          "name": "stderr",
          "text": [
            "WARNING:tensorflow:Early stopping conditioned on metric `val_mse` which is not available. Available metrics are: loss,mae,val_loss,val_mae\n"
          ]
        },
        {
          "output_type": "stream",
          "name": "stdout",
          "text": [
            "\n",
            "Epoch 455: val_mae did not improve from 2.04043\n",
            "323/323 [==============================] - 1s 2ms/step - loss: 0.9685 - mae: 0.6884 - val_loss: 15.8080 - val_mae: 2.5386\n",
            "Epoch 456/500\n",
            "316/323 [============================>.] - ETA: 0s - loss: 0.8019 - mae: 0.6598"
          ]
        },
        {
          "output_type": "stream",
          "name": "stderr",
          "text": [
            "WARNING:tensorflow:Early stopping conditioned on metric `val_mse` which is not available. Available metrics are: loss,mae,val_loss,val_mae\n"
          ]
        },
        {
          "output_type": "stream",
          "name": "stdout",
          "text": [
            "\n",
            "Epoch 456: val_mae did not improve from 2.04043\n",
            "323/323 [==============================] - 1s 2ms/step - loss: 0.7997 - mae: 0.6580 - val_loss: 14.6250 - val_mae: 2.5512\n",
            "Epoch 457/500\n",
            "319/323 [============================>.] - ETA: 0s - loss: 0.7395 - mae: 0.6517"
          ]
        },
        {
          "output_type": "stream",
          "name": "stderr",
          "text": [
            "WARNING:tensorflow:Early stopping conditioned on metric `val_mse` which is not available. Available metrics are: loss,mae,val_loss,val_mae\n"
          ]
        },
        {
          "output_type": "stream",
          "name": "stdout",
          "text": [
            "\n",
            "Epoch 457: val_mae did not improve from 2.04043\n",
            "323/323 [==============================] - 1s 2ms/step - loss: 0.7740 - mae: 0.6662 - val_loss: 15.6554 - val_mae: 2.5109\n",
            "Epoch 458/500\n",
            "290/323 [=========================>....] - ETA: 0s - loss: 0.8374 - mae: 0.6923"
          ]
        },
        {
          "output_type": "stream",
          "name": "stderr",
          "text": [
            "WARNING:tensorflow:Early stopping conditioned on metric `val_mse` which is not available. Available metrics are: loss,mae,val_loss,val_mae\n"
          ]
        },
        {
          "output_type": "stream",
          "name": "stdout",
          "text": [
            "\n",
            "Epoch 458: val_mae did not improve from 2.04043\n",
            "323/323 [==============================] - 1s 2ms/step - loss: 0.8115 - mae: 0.6837 - val_loss: 17.3138 - val_mae: 2.6891\n",
            "Epoch 459/500\n",
            "312/323 [===========================>..] - ETA: 0s - loss: 0.9104 - mae: 0.6861"
          ]
        },
        {
          "output_type": "stream",
          "name": "stderr",
          "text": [
            "WARNING:tensorflow:Early stopping conditioned on metric `val_mse` which is not available. Available metrics are: loss,mae,val_loss,val_mae\n"
          ]
        },
        {
          "output_type": "stream",
          "name": "stdout",
          "text": [
            "\n",
            "Epoch 459: val_mae did not improve from 2.04043\n",
            "323/323 [==============================] - 1s 2ms/step - loss: 0.9046 - mae: 0.6862 - val_loss: 15.8967 - val_mae: 2.5687\n",
            "Epoch 460/500\n",
            "317/323 [============================>.] - ETA: 0s - loss: 0.8970 - mae: 0.6775"
          ]
        },
        {
          "output_type": "stream",
          "name": "stderr",
          "text": [
            "WARNING:tensorflow:Early stopping conditioned on metric `val_mse` which is not available. Available metrics are: loss,mae,val_loss,val_mae\n"
          ]
        },
        {
          "output_type": "stream",
          "name": "stdout",
          "text": [
            "\n",
            "Epoch 460: val_mae did not improve from 2.04043\n",
            "323/323 [==============================] - 1s 3ms/step - loss: 0.8832 - mae: 0.6708 - val_loss: 15.5302 - val_mae: 2.5560\n",
            "Epoch 461/500\n",
            "316/323 [============================>.] - ETA: 0s - loss: 0.8818 - mae: 0.6778"
          ]
        },
        {
          "output_type": "stream",
          "name": "stderr",
          "text": [
            "WARNING:tensorflow:Early stopping conditioned on metric `val_mse` which is not available. Available metrics are: loss,mae,val_loss,val_mae\n"
          ]
        },
        {
          "output_type": "stream",
          "name": "stdout",
          "text": [
            "\n",
            "Epoch 461: val_mae did not improve from 2.04043\n",
            "323/323 [==============================] - 1s 2ms/step - loss: 0.8665 - mae: 0.6711 - val_loss: 15.4974 - val_mae: 2.5256\n",
            "Epoch 462/500\n",
            "309/323 [===========================>..] - ETA: 0s - loss: 0.8671 - mae: 0.6737"
          ]
        },
        {
          "output_type": "stream",
          "name": "stderr",
          "text": [
            "WARNING:tensorflow:Early stopping conditioned on metric `val_mse` which is not available. Available metrics are: loss,mae,val_loss,val_mae\n"
          ]
        },
        {
          "output_type": "stream",
          "name": "stdout",
          "text": [
            "\n",
            "Epoch 462: val_mae did not improve from 2.04043\n",
            "323/323 [==============================] - 1s 3ms/step - loss: 0.8621 - mae: 0.6712 - val_loss: 16.3757 - val_mae: 2.5887\n",
            "Epoch 463/500\n",
            "314/323 [============================>.] - ETA: 0s - loss: 1.0215 - mae: 0.7312"
          ]
        },
        {
          "output_type": "stream",
          "name": "stderr",
          "text": [
            "WARNING:tensorflow:Early stopping conditioned on metric `val_mse` which is not available. Available metrics are: loss,mae,val_loss,val_mae\n"
          ]
        },
        {
          "output_type": "stream",
          "name": "stdout",
          "text": [
            "\n",
            "Epoch 463: val_mae did not improve from 2.04043\n",
            "323/323 [==============================] - 1s 3ms/step - loss: 1.0095 - mae: 0.7275 - val_loss: 15.8568 - val_mae: 2.5405\n",
            "Epoch 464/500\n",
            "301/323 [==========================>...] - ETA: 0s - loss: 0.7702 - mae: 0.6378"
          ]
        },
        {
          "output_type": "stream",
          "name": "stderr",
          "text": [
            "WARNING:tensorflow:Early stopping conditioned on metric `val_mse` which is not available. Available metrics are: loss,mae,val_loss,val_mae\n"
          ]
        },
        {
          "output_type": "stream",
          "name": "stdout",
          "text": [
            "\n",
            "Epoch 464: val_mae did not improve from 2.04043\n",
            "323/323 [==============================] - 1s 2ms/step - loss: 0.7567 - mae: 0.6319 - val_loss: 16.3457 - val_mae: 2.4399\n",
            "Epoch 465/500\n",
            "309/323 [===========================>..] - ETA: 0s - loss: 1.0113 - mae: 0.7557"
          ]
        },
        {
          "output_type": "stream",
          "name": "stderr",
          "text": [
            "WARNING:tensorflow:Early stopping conditioned on metric `val_mse` which is not available. Available metrics are: loss,mae,val_loss,val_mae\n"
          ]
        },
        {
          "output_type": "stream",
          "name": "stdout",
          "text": [
            "\n",
            "Epoch 465: val_mae did not improve from 2.04043\n",
            "323/323 [==============================] - 1s 2ms/step - loss: 0.9763 - mae: 0.7382 - val_loss: 15.7081 - val_mae: 2.6655\n",
            "Epoch 466/500\n",
            "294/323 [==========================>...] - ETA: 0s - loss: 0.7474 - mae: 0.6354"
          ]
        },
        {
          "output_type": "stream",
          "name": "stderr",
          "text": [
            "WARNING:tensorflow:Early stopping conditioned on metric `val_mse` which is not available. Available metrics are: loss,mae,val_loss,val_mae\n"
          ]
        },
        {
          "output_type": "stream",
          "name": "stdout",
          "text": [
            "\n",
            "Epoch 466: val_mae did not improve from 2.04043\n",
            "323/323 [==============================] - 1s 2ms/step - loss: 0.7405 - mae: 0.6335 - val_loss: 15.5517 - val_mae: 2.6665\n",
            "Epoch 467/500\n",
            "291/323 [==========================>...] - ETA: 0s - loss: 0.8000 - mae: 0.6430"
          ]
        },
        {
          "output_type": "stream",
          "name": "stderr",
          "text": [
            "WARNING:tensorflow:Early stopping conditioned on metric `val_mse` which is not available. Available metrics are: loss,mae,val_loss,val_mae\n"
          ]
        },
        {
          "output_type": "stream",
          "name": "stdout",
          "text": [
            "\n",
            "Epoch 467: val_mae did not improve from 2.04043\n",
            "323/323 [==============================] - 1s 2ms/step - loss: 0.8224 - mae: 0.6591 - val_loss: 15.9375 - val_mae: 2.5630\n",
            "Epoch 468/500\n",
            "312/323 [===========================>..] - ETA: 0s - loss: 0.9354 - mae: 0.7007"
          ]
        },
        {
          "output_type": "stream",
          "name": "stderr",
          "text": [
            "WARNING:tensorflow:Early stopping conditioned on metric `val_mse` which is not available. Available metrics are: loss,mae,val_loss,val_mae\n"
          ]
        },
        {
          "output_type": "stream",
          "name": "stdout",
          "text": [
            "\n",
            "Epoch 468: val_mae did not improve from 2.04043\n",
            "323/323 [==============================] - 1s 2ms/step - loss: 0.9315 - mae: 0.7005 - val_loss: 15.4433 - val_mae: 2.6011\n",
            "Epoch 469/500\n",
            "305/323 [===========================>..] - ETA: 0s - loss: 0.8639 - mae: 0.6846"
          ]
        },
        {
          "output_type": "stream",
          "name": "stderr",
          "text": [
            "WARNING:tensorflow:Early stopping conditioned on metric `val_mse` which is not available. Available metrics are: loss,mae,val_loss,val_mae\n"
          ]
        },
        {
          "output_type": "stream",
          "name": "stdout",
          "text": [
            "\n",
            "Epoch 469: val_mae did not improve from 2.04043\n",
            "323/323 [==============================] - 1s 2ms/step - loss: 0.8633 - mae: 0.6877 - val_loss: 14.8234 - val_mae: 2.5405\n",
            "Epoch 470/500\n",
            "302/323 [===========================>..] - ETA: 0s - loss: 0.7908 - mae: 0.6386"
          ]
        },
        {
          "output_type": "stream",
          "name": "stderr",
          "text": [
            "WARNING:tensorflow:Early stopping conditioned on metric `val_mse` which is not available. Available metrics are: loss,mae,val_loss,val_mae\n"
          ]
        },
        {
          "output_type": "stream",
          "name": "stdout",
          "text": [
            "\n",
            "Epoch 470: val_mae did not improve from 2.04043\n",
            "323/323 [==============================] - 1s 2ms/step - loss: 0.8330 - mae: 0.6545 - val_loss: 15.0430 - val_mae: 2.5885\n",
            "Epoch 471/500\n",
            "297/323 [==========================>...] - ETA: 0s - loss: 0.8230 - mae: 0.6835"
          ]
        },
        {
          "output_type": "stream",
          "name": "stderr",
          "text": [
            "WARNING:tensorflow:Early stopping conditioned on metric `val_mse` which is not available. Available metrics are: loss,mae,val_loss,val_mae\n"
          ]
        },
        {
          "output_type": "stream",
          "name": "stdout",
          "text": [
            "\n",
            "Epoch 471: val_mae did not improve from 2.04043\n",
            "323/323 [==============================] - 1s 2ms/step - loss: 0.8168 - mae: 0.6853 - val_loss: 14.6985 - val_mae: 2.5448\n",
            "Epoch 472/500\n",
            "319/323 [============================>.] - ETA: 0s - loss: 0.9281 - mae: 0.7053"
          ]
        },
        {
          "output_type": "stream",
          "name": "stderr",
          "text": [
            "WARNING:tensorflow:Early stopping conditioned on metric `val_mse` which is not available. Available metrics are: loss,mae,val_loss,val_mae\n"
          ]
        },
        {
          "output_type": "stream",
          "name": "stdout",
          "text": [
            "\n",
            "Epoch 472: val_mae did not improve from 2.04043\n",
            "323/323 [==============================] - 1s 2ms/step - loss: 0.9171 - mae: 0.6987 - val_loss: 15.8293 - val_mae: 2.6869\n",
            "Epoch 473/500\n",
            "312/323 [===========================>..] - ETA: 0s - loss: 0.8546 - mae: 0.6767"
          ]
        },
        {
          "output_type": "stream",
          "name": "stderr",
          "text": [
            "WARNING:tensorflow:Early stopping conditioned on metric `val_mse` which is not available. Available metrics are: loss,mae,val_loss,val_mae\n"
          ]
        },
        {
          "output_type": "stream",
          "name": "stdout",
          "text": [
            "\n",
            "Epoch 473: val_mae did not improve from 2.04043\n",
            "323/323 [==============================] - 1s 2ms/step - loss: 0.8456 - mae: 0.6755 - val_loss: 14.3032 - val_mae: 2.4634\n",
            "Epoch 474/500\n",
            "308/323 [===========================>..] - ETA: 0s - loss: 0.7665 - mae: 0.6564"
          ]
        },
        {
          "output_type": "stream",
          "name": "stderr",
          "text": [
            "WARNING:tensorflow:Early stopping conditioned on metric `val_mse` which is not available. Available metrics are: loss,mae,val_loss,val_mae\n"
          ]
        },
        {
          "output_type": "stream",
          "name": "stdout",
          "text": [
            "\n",
            "Epoch 474: val_mae did not improve from 2.04043\n",
            "323/323 [==============================] - 1s 2ms/step - loss: 0.7932 - mae: 0.6682 - val_loss: 15.9950 - val_mae: 2.6348\n",
            "Epoch 475/500\n",
            "292/323 [==========================>...] - ETA: 0s - loss: 0.7802 - mae: 0.6437"
          ]
        },
        {
          "output_type": "stream",
          "name": "stderr",
          "text": [
            "WARNING:tensorflow:Early stopping conditioned on metric `val_mse` which is not available. Available metrics are: loss,mae,val_loss,val_mae\n"
          ]
        },
        {
          "output_type": "stream",
          "name": "stdout",
          "text": [
            "\n",
            "Epoch 475: val_mae did not improve from 2.04043\n",
            "323/323 [==============================] - 1s 2ms/step - loss: 0.8132 - mae: 0.6623 - val_loss: 14.8125 - val_mae: 2.5398\n",
            "Epoch 476/500\n",
            "306/323 [===========================>..] - ETA: 0s - loss: 0.8578 - mae: 0.6836"
          ]
        },
        {
          "output_type": "stream",
          "name": "stderr",
          "text": [
            "WARNING:tensorflow:Early stopping conditioned on metric `val_mse` which is not available. Available metrics are: loss,mae,val_loss,val_mae\n"
          ]
        },
        {
          "output_type": "stream",
          "name": "stdout",
          "text": [
            "\n",
            "Epoch 476: val_mae did not improve from 2.04043\n",
            "323/323 [==============================] - 1s 2ms/step - loss: 0.8338 - mae: 0.6733 - val_loss: 14.6834 - val_mae: 2.5578\n",
            "Epoch 477/500\n",
            "308/323 [===========================>..] - ETA: 0s - loss: 0.7653 - mae: 0.6488"
          ]
        },
        {
          "output_type": "stream",
          "name": "stderr",
          "text": [
            "WARNING:tensorflow:Early stopping conditioned on metric `val_mse` which is not available. Available metrics are: loss,mae,val_loss,val_mae\n"
          ]
        },
        {
          "output_type": "stream",
          "name": "stdout",
          "text": [
            "\n",
            "Epoch 477: val_mae did not improve from 2.04043\n",
            "323/323 [==============================] - 1s 2ms/step - loss: 0.7572 - mae: 0.6443 - val_loss: 14.9280 - val_mae: 2.6243\n",
            "Epoch 478/500\n",
            "314/323 [============================>.] - ETA: 0s - loss: 0.8516 - mae: 0.6683"
          ]
        },
        {
          "output_type": "stream",
          "name": "stderr",
          "text": [
            "WARNING:tensorflow:Early stopping conditioned on metric `val_mse` which is not available. Available metrics are: loss,mae,val_loss,val_mae\n"
          ]
        },
        {
          "output_type": "stream",
          "name": "stdout",
          "text": [
            "\n",
            "Epoch 478: val_mae did not improve from 2.04043\n",
            "323/323 [==============================] - 1s 2ms/step - loss: 0.8582 - mae: 0.6750 - val_loss: 15.0786 - val_mae: 2.5225\n",
            "Epoch 479/500\n",
            "321/323 [============================>.] - ETA: 0s - loss: 0.8668 - mae: 0.6708"
          ]
        },
        {
          "output_type": "stream",
          "name": "stderr",
          "text": [
            "WARNING:tensorflow:Early stopping conditioned on metric `val_mse` which is not available. Available metrics are: loss,mae,val_loss,val_mae\n"
          ]
        },
        {
          "output_type": "stream",
          "name": "stdout",
          "text": [
            "\n",
            "Epoch 479: val_mae did not improve from 2.04043\n",
            "323/323 [==============================] - 1s 3ms/step - loss: 0.8622 - mae: 0.6685 - val_loss: 15.5149 - val_mae: 2.6344\n",
            "Epoch 480/500\n",
            "308/323 [===========================>..] - ETA: 0s - loss: 0.7795 - mae: 0.6642"
          ]
        },
        {
          "output_type": "stream",
          "name": "stderr",
          "text": [
            "WARNING:tensorflow:Early stopping conditioned on metric `val_mse` which is not available. Available metrics are: loss,mae,val_loss,val_mae\n"
          ]
        },
        {
          "output_type": "stream",
          "name": "stdout",
          "text": [
            "\n",
            "Epoch 480: val_mae did not improve from 2.04043\n",
            "323/323 [==============================] - 1s 3ms/step - loss: 0.8177 - mae: 0.6744 - val_loss: 14.8971 - val_mae: 2.6135\n",
            "Epoch 481/500\n",
            "306/323 [===========================>..] - ETA: 0s - loss: 0.7910 - mae: 0.6539"
          ]
        },
        {
          "output_type": "stream",
          "name": "stderr",
          "text": [
            "WARNING:tensorflow:Early stopping conditioned on metric `val_mse` which is not available. Available metrics are: loss,mae,val_loss,val_mae\n"
          ]
        },
        {
          "output_type": "stream",
          "name": "stdout",
          "text": [
            "\n",
            "Epoch 481: val_mae did not improve from 2.04043\n",
            "323/323 [==============================] - 1s 3ms/step - loss: 0.8623 - mae: 0.6727 - val_loss: 15.5260 - val_mae: 2.5805\n",
            "Epoch 482/500\n",
            "295/323 [==========================>...] - ETA: 0s - loss: 0.7869 - mae: 0.6303"
          ]
        },
        {
          "output_type": "stream",
          "name": "stderr",
          "text": [
            "WARNING:tensorflow:Early stopping conditioned on metric `val_mse` which is not available. Available metrics are: loss,mae,val_loss,val_mae\n"
          ]
        },
        {
          "output_type": "stream",
          "name": "stdout",
          "text": [
            "\n",
            "Epoch 482: val_mae did not improve from 2.04043\n",
            "323/323 [==============================] - 1s 2ms/step - loss: 0.8445 - mae: 0.6556 - val_loss: 14.4637 - val_mae: 2.5924\n",
            "Epoch 483/500\n",
            "317/323 [============================>.] - ETA: 0s - loss: 0.7545 - mae: 0.6671"
          ]
        },
        {
          "output_type": "stream",
          "name": "stderr",
          "text": [
            "WARNING:tensorflow:Early stopping conditioned on metric `val_mse` which is not available. Available metrics are: loss,mae,val_loss,val_mae\n"
          ]
        },
        {
          "output_type": "stream",
          "name": "stdout",
          "text": [
            "\n",
            "Epoch 483: val_mae did not improve from 2.04043\n",
            "323/323 [==============================] - 1s 2ms/step - loss: 0.7595 - mae: 0.6716 - val_loss: 14.4620 - val_mae: 2.5007\n",
            "Epoch 484/500\n",
            "293/323 [==========================>...] - ETA: 0s - loss: 0.8800 - mae: 0.6834"
          ]
        },
        {
          "output_type": "stream",
          "name": "stderr",
          "text": [
            "WARNING:tensorflow:Early stopping conditioned on metric `val_mse` which is not available. Available metrics are: loss,mae,val_loss,val_mae\n"
          ]
        },
        {
          "output_type": "stream",
          "name": "stdout",
          "text": [
            "\n",
            "Epoch 484: val_mae did not improve from 2.04043\n",
            "323/323 [==============================] - 1s 2ms/step - loss: 0.8508 - mae: 0.6740 - val_loss: 15.4955 - val_mae: 2.5763\n",
            "Epoch 485/500\n",
            "323/323 [==============================] - ETA: 0s - loss: 0.8876 - mae: 0.6747"
          ]
        },
        {
          "output_type": "stream",
          "name": "stderr",
          "text": [
            "WARNING:tensorflow:Early stopping conditioned on metric `val_mse` which is not available. Available metrics are: loss,mae,val_loss,val_mae\n"
          ]
        },
        {
          "output_type": "stream",
          "name": "stdout",
          "text": [
            "\n",
            "Epoch 485: val_mae did not improve from 2.04043\n",
            "323/323 [==============================] - 1s 2ms/step - loss: 0.8876 - mae: 0.6747 - val_loss: 14.6269 - val_mae: 2.5601\n",
            "Epoch 486/500\n",
            "321/323 [============================>.] - ETA: 0s - loss: 0.8025 - mae: 0.6810"
          ]
        },
        {
          "output_type": "stream",
          "name": "stderr",
          "text": [
            "WARNING:tensorflow:Early stopping conditioned on metric `val_mse` which is not available. Available metrics are: loss,mae,val_loss,val_mae\n"
          ]
        },
        {
          "output_type": "stream",
          "name": "stdout",
          "text": [
            "\n",
            "Epoch 486: val_mae did not improve from 2.04043\n",
            "323/323 [==============================] - 1s 2ms/step - loss: 0.8023 - mae: 0.6815 - val_loss: 15.1643 - val_mae: 2.6123\n",
            "Epoch 487/500\n",
            "304/323 [===========================>..] - ETA: 0s - loss: 0.7081 - mae: 0.6477"
          ]
        },
        {
          "output_type": "stream",
          "name": "stderr",
          "text": [
            "WARNING:tensorflow:Early stopping conditioned on metric `val_mse` which is not available. Available metrics are: loss,mae,val_loss,val_mae\n"
          ]
        },
        {
          "output_type": "stream",
          "name": "stdout",
          "text": [
            "\n",
            "Epoch 487: val_mae did not improve from 2.04043\n",
            "323/323 [==============================] - 1s 2ms/step - loss: 0.7382 - mae: 0.6640 - val_loss: 16.1313 - val_mae: 2.7225\n",
            "Epoch 488/500\n",
            "317/323 [============================>.] - ETA: 0s - loss: 0.8040 - mae: 0.6769"
          ]
        },
        {
          "output_type": "stream",
          "name": "stderr",
          "text": [
            "WARNING:tensorflow:Early stopping conditioned on metric `val_mse` which is not available. Available metrics are: loss,mae,val_loss,val_mae\n"
          ]
        },
        {
          "output_type": "stream",
          "name": "stdout",
          "text": [
            "\n",
            "Epoch 488: val_mae did not improve from 2.04043\n",
            "323/323 [==============================] - 1s 2ms/step - loss: 0.8106 - mae: 0.6836 - val_loss: 14.9391 - val_mae: 2.5949\n",
            "Epoch 489/500\n",
            "302/323 [===========================>..] - ETA: 0s - loss: 0.9085 - mae: 0.7050"
          ]
        },
        {
          "output_type": "stream",
          "name": "stderr",
          "text": [
            "WARNING:tensorflow:Early stopping conditioned on metric `val_mse` which is not available. Available metrics are: loss,mae,val_loss,val_mae\n"
          ]
        },
        {
          "output_type": "stream",
          "name": "stdout",
          "text": [
            "\n",
            "Epoch 489: val_mae did not improve from 2.04043\n",
            "323/323 [==============================] - 1s 2ms/step - loss: 0.8803 - mae: 0.6941 - val_loss: 16.0973 - val_mae: 2.6127\n",
            "Epoch 490/500\n",
            "307/323 [===========================>..] - ETA: 0s - loss: 0.8321 - mae: 0.6790"
          ]
        },
        {
          "output_type": "stream",
          "name": "stderr",
          "text": [
            "WARNING:tensorflow:Early stopping conditioned on metric `val_mse` which is not available. Available metrics are: loss,mae,val_loss,val_mae\n"
          ]
        },
        {
          "output_type": "stream",
          "name": "stdout",
          "text": [
            "\n",
            "Epoch 490: val_mae did not improve from 2.04043\n",
            "323/323 [==============================] - 1s 2ms/step - loss: 0.8096 - mae: 0.6669 - val_loss: 15.3825 - val_mae: 2.6432\n",
            "Epoch 491/500\n",
            "293/323 [==========================>...] - ETA: 0s - loss: 0.7834 - mae: 0.6810"
          ]
        },
        {
          "output_type": "stream",
          "name": "stderr",
          "text": [
            "WARNING:tensorflow:Early stopping conditioned on metric `val_mse` which is not available. Available metrics are: loss,mae,val_loss,val_mae\n"
          ]
        },
        {
          "output_type": "stream",
          "name": "stdout",
          "text": [
            "\n",
            "Epoch 491: val_mae did not improve from 2.04043\n",
            "323/323 [==============================] - 1s 2ms/step - loss: 0.8389 - mae: 0.7016 - val_loss: 14.1020 - val_mae: 2.5669\n",
            "Epoch 492/500\n",
            "294/323 [==========================>...] - ETA: 0s - loss: 0.8108 - mae: 0.6578"
          ]
        },
        {
          "output_type": "stream",
          "name": "stderr",
          "text": [
            "WARNING:tensorflow:Early stopping conditioned on metric `val_mse` which is not available. Available metrics are: loss,mae,val_loss,val_mae\n"
          ]
        },
        {
          "output_type": "stream",
          "name": "stdout",
          "text": [
            "\n",
            "Epoch 492: val_mae did not improve from 2.04043\n",
            "323/323 [==============================] - 1s 2ms/step - loss: 0.9346 - mae: 0.6816 - val_loss: 15.6189 - val_mae: 2.5749\n",
            "Epoch 493/500\n",
            "316/323 [============================>.] - ETA: 0s - loss: 0.7834 - mae: 0.6409"
          ]
        },
        {
          "output_type": "stream",
          "name": "stderr",
          "text": [
            "WARNING:tensorflow:Early stopping conditioned on metric `val_mse` which is not available. Available metrics are: loss,mae,val_loss,val_mae\n"
          ]
        },
        {
          "output_type": "stream",
          "name": "stdout",
          "text": [
            "\n",
            "Epoch 493: val_mae did not improve from 2.04043\n",
            "323/323 [==============================] - 1s 2ms/step - loss: 0.8338 - mae: 0.6544 - val_loss: 16.0131 - val_mae: 2.6975\n",
            "Epoch 494/500\n",
            "307/323 [===========================>..] - ETA: 0s - loss: 0.8010 - mae: 0.6389"
          ]
        },
        {
          "output_type": "stream",
          "name": "stderr",
          "text": [
            "WARNING:tensorflow:Early stopping conditioned on metric `val_mse` which is not available. Available metrics are: loss,mae,val_loss,val_mae\n"
          ]
        },
        {
          "output_type": "stream",
          "name": "stdout",
          "text": [
            "\n",
            "Epoch 494: val_mae did not improve from 2.04043\n",
            "323/323 [==============================] - 1s 2ms/step - loss: 0.8088 - mae: 0.6458 - val_loss: 15.1027 - val_mae: 2.5614\n",
            "Epoch 495/500\n",
            "321/323 [============================>.] - ETA: 0s - loss: 0.8016 - mae: 0.6596"
          ]
        },
        {
          "output_type": "stream",
          "name": "stderr",
          "text": [
            "WARNING:tensorflow:Early stopping conditioned on metric `val_mse` which is not available. Available metrics are: loss,mae,val_loss,val_mae\n"
          ]
        },
        {
          "output_type": "stream",
          "name": "stdout",
          "text": [
            "\n",
            "Epoch 495: val_mae did not improve from 2.04043\n",
            "323/323 [==============================] - 1s 2ms/step - loss: 0.7997 - mae: 0.6596 - val_loss: 16.0889 - val_mae: 2.7124\n",
            "Epoch 496/500\n",
            "317/323 [============================>.] - ETA: 0s - loss: 0.7781 - mae: 0.6482"
          ]
        },
        {
          "output_type": "stream",
          "name": "stderr",
          "text": [
            "WARNING:tensorflow:Early stopping conditioned on metric `val_mse` which is not available. Available metrics are: loss,mae,val_loss,val_mae\n"
          ]
        },
        {
          "output_type": "stream",
          "name": "stdout",
          "text": [
            "\n",
            "Epoch 496: val_mae did not improve from 2.04043\n",
            "323/323 [==============================] - 1s 2ms/step - loss: 0.7758 - mae: 0.6494 - val_loss: 16.3044 - val_mae: 2.7067\n",
            "Epoch 497/500\n",
            "317/323 [============================>.] - ETA: 0s - loss: 0.9280 - mae: 0.7062"
          ]
        },
        {
          "output_type": "stream",
          "name": "stderr",
          "text": [
            "WARNING:tensorflow:Early stopping conditioned on metric `val_mse` which is not available. Available metrics are: loss,mae,val_loss,val_mae\n"
          ]
        },
        {
          "output_type": "stream",
          "name": "stdout",
          "text": [
            "\n",
            "Epoch 497: val_mae did not improve from 2.04043\n",
            "323/323 [==============================] - 1s 3ms/step - loss: 0.9503 - mae: 0.7127 - val_loss: 16.2375 - val_mae: 2.6858\n",
            "Epoch 498/500\n",
            "309/323 [===========================>..] - ETA: 0s - loss: 0.8000 - mae: 0.6693"
          ]
        },
        {
          "output_type": "stream",
          "name": "stderr",
          "text": [
            "WARNING:tensorflow:Early stopping conditioned on metric `val_mse` which is not available. Available metrics are: loss,mae,val_loss,val_mae\n"
          ]
        },
        {
          "output_type": "stream",
          "name": "stdout",
          "text": [
            "\n",
            "Epoch 498: val_mae did not improve from 2.04043\n",
            "323/323 [==============================] - 1s 3ms/step - loss: 0.7813 - mae: 0.6579 - val_loss: 15.7723 - val_mae: 2.6732\n",
            "Epoch 499/500\n",
            "309/323 [===========================>..] - ETA: 0s - loss: 0.8799 - mae: 0.6742"
          ]
        },
        {
          "output_type": "stream",
          "name": "stderr",
          "text": [
            "WARNING:tensorflow:Early stopping conditioned on metric `val_mse` which is not available. Available metrics are: loss,mae,val_loss,val_mae\n"
          ]
        },
        {
          "output_type": "stream",
          "name": "stdout",
          "text": [
            "\n",
            "Epoch 499: val_mae did not improve from 2.04043\n",
            "323/323 [==============================] - 1s 3ms/step - loss: 0.8809 - mae: 0.6730 - val_loss: 14.9224 - val_mae: 2.6056\n",
            "Epoch 500/500\n",
            "320/323 [============================>.] - ETA: 0s - loss: 0.8036 - mae: 0.6616"
          ]
        },
        {
          "output_type": "stream",
          "name": "stderr",
          "text": [
            "WARNING:tensorflow:Early stopping conditioned on metric `val_mse` which is not available. Available metrics are: loss,mae,val_loss,val_mae\n"
          ]
        },
        {
          "output_type": "stream",
          "name": "stdout",
          "text": [
            "\n",
            "Epoch 500: val_mae did not improve from 2.04043\n",
            "323/323 [==============================] - 1s 3ms/step - loss: 0.7973 - mae: 0.6576 - val_loss: 15.6137 - val_mae: 2.6588\n",
            "CPU times: user 5min 38s, sys: 17.7 s, total: 5min 56s\n",
            "Wall time: 6min 7s\n"
          ]
        }
      ]
    },
    {
      "cell_type": "markdown",
      "source": [
        "> ## 5) Best Model"
      ],
      "metadata": {
        "id": "SB2RudNHvfhU"
      }
    },
    {
      "cell_type": "code",
      "source": [
        "!ls - l"
      ],
      "metadata": {
        "colab": {
          "base_uri": "https://localhost:8080/"
        },
        "id": "y4x_qsi_vdZW",
        "outputId": "3102e4a3-9c99-402e-e9fd-5c3a240cbe96"
      },
      "execution_count": 30,
      "outputs": [
        {
          "output_type": "stream",
          "name": "stdout",
          "text": [
            "ls: cannot access '-': No such file or directory\n",
            "ls: cannot access 'l': No such file or directory\n"
          ]
        }
      ]
    },
    {
      "cell_type": "markdown",
      "source": [
        "> ## 6) Model Evaludate"
      ],
      "metadata": {
        "id": "DUKu0YQRvizC"
      }
    },
    {
      "cell_type": "code",
      "source": [
        "from tensorflow.keras.models import load_model\n",
        "\n",
        "best_boston = load_model('best_boston.h5')"
      ],
      "metadata": {
        "id": "8OCCuGeQviAY"
      },
      "execution_count": 31,
      "outputs": []
    },
    {
      "cell_type": "code",
      "source": [
        "test_mse_score, test_mae_score = best_boston.evaluate(X_test, y_test, verbose = 0)\n",
        "\n",
        "print('MAE is : ', test_mae_score)"
      ],
      "metadata": {
        "colab": {
          "base_uri": "https://localhost:8080/"
        },
        "id": "QTsIkig2vhMe",
        "outputId": "793903de-099a-4a77-c1f2-26ab9be2543a"
      },
      "execution_count": 34,
      "outputs": [
        {
          "output_type": "stream",
          "name": "stdout",
          "text": [
            "MAE is :  2.428906202316284\n"
          ]
        }
      ]
    },
    {
      "cell_type": "code",
      "source": [],
      "metadata": {
        "id": "xC2mVKufvy8o"
      },
      "execution_count": null,
      "outputs": []
    }
  ]
}